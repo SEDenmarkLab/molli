{
 "cells": [
  {
   "cell_type": "code",
   "execution_count": 14,
   "metadata": {},
   "outputs": [],
   "source": [
    "import generate_conformers as gc\n",
    "import os\n",
    "import molli as ml\n",
    "import molli.external._rdkit as _rdkit\n",
    "\n",
    "from multiprocessing import Pool"
   ]
  },
  {
   "cell_type": "code",
   "execution_count": 15,
   "metadata": {},
   "outputs": [],
   "source": [
    "out_dir = 'out1/out_conformers1/'\n",
    "in_dir = 'in_combinatorial/combinatorial_lib.mlib'"
   ]
  },
  {
   "cell_type": "code",
   "execution_count": 16,
   "metadata": {},
   "outputs": [],
   "source": [
    "if not os.path.exists(out_dir):\n",
    "    os.makedirs(out_dir)\n",
    "mlib = ml.MoleculeLibrary(in_dir)"
   ]
  },
  {
   "cell_type": "code",
   "execution_count": 17,
   "metadata": {},
   "outputs": [
    {
     "data": {
      "text/plain": [
       "75"
      ]
     },
     "execution_count": 17,
     "metadata": {},
     "output_type": "execute_result"
    }
   ],
   "source": [
    "len(mlib)"
   ]
  },
  {
   "cell_type": "code",
   "execution_count": 18,
   "metadata": {},
   "outputs": [],
   "source": [
    "\n",
    " \n",
    "ref_mol = mlib[0]\n",
    "reference_dict = _rdkit.create_rdkit_mol(ref_mol)\n",
    "reference_molecule = reference_dict[ref_mol] \n",
    "alignment_atoms = list(gc.get_oxazaline_alignment_atoms(reference_molecule))\n",
    "args = [i for i in zip([reference_molecule for i in range(len(mlib))], mlib, [alignment_atoms for i in range(len(mlib))])]"
   ]
  },
  {
   "cell_type": "code",
   "execution_count": 19,
   "metadata": {},
   "outputs": [
    {
     "name": "stderr",
     "output_type": "stream",
     "text": [
      "/home/ethangm2/NCSA Development/molli/molli/parsing/mol2.py:248: UserWarning: TRIPOS block 'UNITY' is not implemented in current version of MOLLI!. Lines will be skipped.\n",
      "  warn(\n",
      "/home/ethangm2/NCSA Development/molli/molli/parsing/mol2.py:248: UserWarning: TRIPOS block 'UNITY' is not implemented in current version of MOLLI!. Lines will be skipped.\n",
      "  warn(\n",
      "/home/ethangm2/NCSA Development/molli/molli/parsing/mol2.py:248: UserWarning: TRIPOS block 'UNITY' is not implemented in current version of MOLLI!. Lines will be skipped.\n",
      "  warn(\n",
      "/home/ethangm2/NCSA Development/molli/molli/parsing/mol2.py:248: UserWarning: TRIPOS block 'UNITY' is not implemented in current version of MOLLI!. Lines will be skipped.\n",
      "  warn(\n",
      "/home/ethangm2/NCSA Development/molli/molli/parsing/mol2.py:248: UserWarning: TRIPOS block 'UNITY' is not implemented in current version of MOLLI!. Lines will be skipped.\n",
      "  warn(\n",
      "/home/ethangm2/NCSA Development/molli/molli/parsing/mol2.py:248: UserWarning: TRIPOS block 'UNITY' is not implemented in current version of MOLLI!. Lines will be skipped.\n",
      "  warn(\n",
      "/home/ethangm2/NCSA Development/molli/molli/parsing/mol2.py:248: UserWarning: TRIPOS block 'UNITY' is not implemented in current version of MOLLI!. Lines will be skipped.\n",
      "  warn(\n",
      "/home/ethangm2/NCSA Development/molli/molli/parsing/mol2.py:248: UserWarning: TRIPOS block 'UNITY' is not implemented in current version of MOLLI!. Lines will be skipped.\n",
      "  warn(\n",
      "/home/ethangm2/NCSA Development/molli/molli/parsing/mol2.py:248: UserWarning: TRIPOS block 'UNITY' is not implemented in current version of MOLLI!. Lines will be skipped.\n",
      "  warn(\n",
      "/home/ethangm2/NCSA Development/molli/molli/parsing/mol2.py:248: UserWarning: TRIPOS block 'UNITY' is not implemented in current version of MOLLI!. Lines will be skipped.\n",
      "  warn(\n",
      "/home/ethangm2/NCSA Development/molli/molli/parsing/mol2.py:248: UserWarning: TRIPOS block 'UNITY' is not implemented in current version of MOLLI!. Lines will be skipped.\n",
      "  warn(\n",
      "/home/ethangm2/NCSA Development/molli/molli/parsing/mol2.py:248: UserWarning: TRIPOS block 'UNITY' is not implemented in current version of MOLLI!. Lines will be skipped.\n",
      "  warn(\n",
      "/home/ethangm2/NCSA Development/molli/molli/parsing/mol2.py:248: UserWarning: TRIPOS block 'UNITY' is not implemented in current version of MOLLI!. Lines will be skipped.\n",
      "  warn(\n",
      "/home/ethangm2/NCSA Development/molli/molli/parsing/mol2.py:248: UserWarning: TRIPOS block 'UNITY' is not implemented in current version of MOLLI!. Lines will be skipped.\n",
      "  warn(\n",
      "/home/ethangm2/NCSA Development/molli/molli/parsing/mol2.py:248: UserWarning: TRIPOS block 'UNITY' is not implemented in current version of MOLLI!. Lines will be skipped.\n",
      "  warn(\n",
      "/home/ethangm2/NCSA Development/molli/molli/parsing/mol2.py:248: UserWarning: TRIPOS block 'UNITY' is not implemented in current version of MOLLI!. Lines will be skipped.\n",
      "  warn(\n",
      "/home/ethangm2/NCSA Development/molli/molli/parsing/mol2.py:248: UserWarning: TRIPOS block 'UNITY' is not implemented in current version of MOLLI!. Lines will be skipped.\n",
      "  warn(\n",
      "/home/ethangm2/NCSA Development/molli/molli/parsing/mol2.py:248: UserWarning: TRIPOS block 'UNITY' is not implemented in current version of MOLLI!. Lines will be skipped.\n",
      "  warn(\n",
      "/home/ethangm2/NCSA Development/molli/molli/parsing/mol2.py:248: UserWarning: TRIPOS block 'UNITY' is not implemented in current version of MOLLI!. Lines will be skipped.\n",
      "  warn(\n",
      "/home/ethangm2/NCSA Development/molli/molli/parsing/mol2.py:248: UserWarning: TRIPOS block 'UNITY' is not implemented in current version of MOLLI!. Lines will be skipped.\n",
      "  warn(\n",
      "/home/ethangm2/NCSA Development/molli/molli/parsing/mol2.py:248: UserWarning: TRIPOS block 'UNITY' is not implemented in current version of MOLLI!. Lines will be skipped.\n",
      "  warn(\n",
      "/home/ethangm2/NCSA Development/molli/molli/parsing/mol2.py:248: UserWarning: TRIPOS block 'UNITY' is not implemented in current version of MOLLI!. Lines will be skipped.\n",
      "  warn(\n",
      "/home/ethangm2/NCSA Development/molli/molli/parsing/mol2.py:248: UserWarning: TRIPOS block 'UNITY' is not implemented in current version of MOLLI!. Lines will be skipped.\n",
      "  warn(\n",
      "/home/ethangm2/NCSA Development/molli/molli/parsing/mol2.py:248: UserWarning: TRIPOS block 'UNITY' is not implemented in current version of MOLLI!. Lines will be skipped.\n",
      "  warn(\n",
      "/home/ethangm2/NCSA Development/molli/molli/parsing/mol2.py:248: UserWarning: TRIPOS block 'UNITY' is not implemented in current version of MOLLI!. Lines will be skipped.\n",
      "  warn(\n",
      "/home/ethangm2/NCSA Development/molli/molli/parsing/mol2.py:248: UserWarning: TRIPOS block 'UNITY' is not implemented in current version of MOLLI!. Lines will be skipped.\n",
      "  warn(\n",
      "/home/ethangm2/NCSA Development/molli/molli/parsing/mol2.py:248: UserWarning: TRIPOS block 'UNITY' is not implemented in current version of MOLLI!. Lines will be skipped.\n",
      "  warn(\n",
      "/home/ethangm2/NCSA Development/molli/molli/parsing/mol2.py:248: UserWarning: TRIPOS block 'UNITY' is not implemented in current version of MOLLI!. Lines will be skipped.\n",
      "  warn(\n",
      "/home/ethangm2/NCSA Development/molli/molli/parsing/mol2.py:248: UserWarning: TRIPOS block 'UNITY' is not implemented in current version of MOLLI!. Lines will be skipped.\n",
      "  warn(\n",
      "/home/ethangm2/NCSA Development/molli/molli/parsing/mol2.py:248: UserWarning: TRIPOS block 'UNITY' is not implemented in current version of MOLLI!. Lines will be skipped.\n",
      "  warn(\n",
      "/home/ethangm2/NCSA Development/molli/molli/parsing/mol2.py:248: UserWarning: TRIPOS block 'UNITY' is not implemented in current version of MOLLI!. Lines will be skipped.\n",
      "  warn(\n",
      "/home/ethangm2/NCSA Development/molli/molli/parsing/mol2.py:248: UserWarning: TRIPOS block 'UNITY' is not implemented in current version of MOLLI!. Lines will be skipped.\n",
      "  warn(\n",
      "/home/ethangm2/NCSA Development/molli/molli/parsing/mol2.py:248: UserWarning: TRIPOS block 'UNITY' is not implemented in current version of MOLLI!. Lines will be skipped.\n",
      "  warn(\n",
      "/home/ethangm2/NCSA Development/molli/molli/parsing/mol2.py:248: UserWarning: TRIPOS block 'UNITY' is not implemented in current version of MOLLI!. Lines will be skipped.\n",
      "  warn(\n",
      "/home/ethangm2/NCSA Development/molli/molli/parsing/mol2.py:248: UserWarning: TRIPOS block 'UNITY' is not implemented in current version of MOLLI!. Lines will be skipped.\n",
      "  warn(\n",
      "/home/ethangm2/NCSA Development/molli/molli/parsing/mol2.py:248: UserWarning: TRIPOS block 'UNITY' is not implemented in current version of MOLLI!. Lines will be skipped.\n",
      "  warn(\n",
      "/home/ethangm2/NCSA Development/molli/molli/parsing/mol2.py:248: UserWarning: TRIPOS block 'UNITY' is not implemented in current version of MOLLI!. Lines will be skipped.\n",
      "  warn(\n",
      "/home/ethangm2/NCSA Development/molli/molli/parsing/mol2.py:248: UserWarning: TRIPOS block 'UNITY' is not implemented in current version of MOLLI!. Lines will be skipped.\n",
      "  warn(\n",
      "/home/ethangm2/NCSA Development/molli/molli/parsing/mol2.py:248: UserWarning: TRIPOS block 'UNITY' is not implemented in current version of MOLLI!. Lines will be skipped.\n",
      "  warn(\n",
      "/home/ethangm2/NCSA Development/molli/molli/parsing/mol2.py:248: UserWarning: TRIPOS block 'UNITY' is not implemented in current version of MOLLI!. Lines will be skipped.\n",
      "  warn(\n",
      "/home/ethangm2/NCSA Development/molli/molli/parsing/mol2.py:248: UserWarning: TRIPOS block 'UNITY' is not implemented in current version of MOLLI!. Lines will be skipped.\n",
      "  warn(\n",
      "/home/ethangm2/NCSA Development/molli/molli/parsing/mol2.py:248: UserWarning: TRIPOS block 'UNITY' is not implemented in current version of MOLLI!. Lines will be skipped.\n",
      "  warn(\n",
      "/home/ethangm2/NCSA Development/molli/molli/parsing/mol2.py:248: UserWarning: TRIPOS block 'UNITY' is not implemented in current version of MOLLI!. Lines will be skipped.\n",
      "  warn(\n",
      "/home/ethangm2/NCSA Development/molli/molli/parsing/mol2.py:248: UserWarning: TRIPOS block 'UNITY' is not implemented in current version of MOLLI!. Lines will be skipped.\n",
      "  warn(\n",
      "/home/ethangm2/NCSA Development/molli/molli/parsing/mol2.py:248: UserWarning: TRIPOS block 'UNITY' is not implemented in current version of MOLLI!. Lines will be skipped.\n",
      "  warn(\n",
      "/home/ethangm2/NCSA Development/molli/molli/parsing/mol2.py:248: UserWarning: TRIPOS block 'UNITY' is not implemented in current version of MOLLI!. Lines will be skipped.\n",
      "  warn(\n",
      "/home/ethangm2/NCSA Development/molli/molli/parsing/mol2.py:248: UserWarning: TRIPOS block 'UNITY' is not implemented in current version of MOLLI!. Lines will be skipped.\n",
      "  warn(\n",
      "/home/ethangm2/NCSA Development/molli/molli/parsing/mol2.py:248: UserWarning: TRIPOS block 'UNITY' is not implemented in current version of MOLLI!. Lines will be skipped.\n",
      "  warn(\n",
      "/home/ethangm2/NCSA Development/molli/molli/parsing/mol2.py:248: UserWarning: TRIPOS block 'UNITY' is not implemented in current version of MOLLI!. Lines will be skipped.\n",
      "  warn(\n",
      "/home/ethangm2/NCSA Development/molli/molli/parsing/mol2.py:248: UserWarning: TRIPOS block 'UNITY' is not implemented in current version of MOLLI!. Lines will be skipped.\n",
      "  warn(\n",
      "/home/ethangm2/NCSA Development/molli/molli/parsing/mol2.py:248: UserWarning: TRIPOS block 'UNITY' is not implemented in current version of MOLLI!. Lines will be skipped.\n",
      "  warn(\n",
      "/home/ethangm2/NCSA Development/molli/molli/parsing/mol2.py:248: UserWarning: TRIPOS block 'UNITY' is not implemented in current version of MOLLI!. Lines will be skipped.\n",
      "  warn(\n",
      "/home/ethangm2/NCSA Development/molli/molli/parsing/mol2.py:248: UserWarning: TRIPOS block 'UNITY' is not implemented in current version of MOLLI!. Lines will be skipped.\n",
      "  warn(\n",
      "/home/ethangm2/NCSA Development/molli/molli/parsing/mol2.py:248: UserWarning: TRIPOS block 'UNITY' is not implemented in current version of MOLLI!. Lines will be skipped.\n",
      "  warn(\n",
      "/home/ethangm2/NCSA Development/molli/molli/parsing/mol2.py:248: UserWarning: TRIPOS block 'UNITY' is not implemented in current version of MOLLI!. Lines will be skipped.\n",
      "  warn(\n",
      "/home/ethangm2/NCSA Development/molli/molli/parsing/mol2.py:248: UserWarning: TRIPOS block 'UNITY' is not implemented in current version of MOLLI!. Lines will be skipped.\n",
      "  warn(\n",
      "/home/ethangm2/NCSA Development/molli/molli/parsing/mol2.py:248: UserWarning: TRIPOS block 'UNITY' is not implemented in current version of MOLLI!. Lines will be skipped.\n",
      "  warn(\n",
      "/home/ethangm2/NCSA Development/molli/molli/parsing/mol2.py:248: UserWarning: TRIPOS block 'UNITY' is not implemented in current version of MOLLI!. Lines will be skipped.\n",
      "  warn(\n",
      "/home/ethangm2/NCSA Development/molli/molli/parsing/mol2.py:248: UserWarning: TRIPOS block 'UNITY' is not implemented in current version of MOLLI!. Lines will be skipped.\n",
      "  warn(\n",
      "/home/ethangm2/NCSA Development/molli/molli/parsing/mol2.py:248: UserWarning: TRIPOS block 'UNITY' is not implemented in current version of MOLLI!. Lines will be skipped.\n",
      "  warn(\n",
      "/home/ethangm2/NCSA Development/molli/molli/parsing/mol2.py:248: UserWarning: TRIPOS block 'UNITY' is not implemented in current version of MOLLI!. Lines will be skipped.\n",
      "  warn(\n",
      "/home/ethangm2/NCSA Development/molli/molli/parsing/mol2.py:248: UserWarning: TRIPOS block 'UNITY' is not implemented in current version of MOLLI!. Lines will be skipped.\n",
      "  warn(\n",
      "/home/ethangm2/NCSA Development/molli/molli/parsing/mol2.py:248: UserWarning: TRIPOS block 'UNITY' is not implemented in current version of MOLLI!. Lines will be skipped.\n",
      "  warn(\n",
      "/home/ethangm2/NCSA Development/molli/molli/parsing/mol2.py:248: UserWarning: TRIPOS block 'UNITY' is not implemented in current version of MOLLI!. Lines will be skipped.\n",
      "  warn(\n",
      "/home/ethangm2/NCSA Development/molli/molli/parsing/mol2.py:248: UserWarning: TRIPOS block 'UNITY' is not implemented in current version of MOLLI!. Lines will be skipped.\n",
      "  warn(\n",
      "/home/ethangm2/NCSA Development/molli/molli/parsing/mol2.py:248: UserWarning: TRIPOS block 'UNITY' is not implemented in current version of MOLLI!. Lines will be skipped.\n",
      "  warn(\n",
      "/home/ethangm2/NCSA Development/molli/molli/parsing/mol2.py:248: UserWarning: TRIPOS block 'UNITY' is not implemented in current version of MOLLI!. Lines will be skipped.\n",
      "  warn(\n",
      "/home/ethangm2/NCSA Development/molli/molli/parsing/mol2.py:248: UserWarning: TRIPOS block 'UNITY' is not implemented in current version of MOLLI!. Lines will be skipped.\n",
      "  warn(\n",
      "/home/ethangm2/NCSA Development/molli/molli/parsing/mol2.py:248: UserWarning: TRIPOS block 'UNITY' is not implemented in current version of MOLLI!. Lines will be skipped.\n",
      "  warn(\n",
      "/home/ethangm2/NCSA Development/molli/molli/parsing/mol2.py:248: UserWarning: TRIPOS block 'UNITY' is not implemented in current version of MOLLI!. Lines will be skipped.\n",
      "  warn(\n",
      "/home/ethangm2/NCSA Development/molli/molli/parsing/mol2.py:248: UserWarning: TRIPOS block 'UNITY' is not implemented in current version of MOLLI!. Lines will be skipped.\n",
      "  warn(\n",
      "/home/ethangm2/NCSA Development/molli/molli/parsing/mol2.py:248: UserWarning: TRIPOS block 'UNITY' is not implemented in current version of MOLLI!. Lines will be skipped.\n",
      "  warn(\n",
      "/home/ethangm2/NCSA Development/molli/molli/parsing/mol2.py:248: UserWarning: TRIPOS block 'UNITY' is not implemented in current version of MOLLI!. Lines will be skipped.\n",
      "  warn(\n",
      "/home/ethangm2/NCSA Development/molli/molli/parsing/mol2.py:248: UserWarning: TRIPOS block 'UNITY' is not implemented in current version of MOLLI!. Lines will be skipped.\n",
      "  warn(\n",
      "/home/ethangm2/NCSA Development/molli/molli/parsing/mol2.py:248: UserWarning: TRIPOS block 'UNITY' is not implemented in current version of MOLLI!. Lines will be skipped.\n",
      "  warn(\n"
     ]
    },
    {
     "name": "stdout",
     "output_type": "stream",
     "text": [
      "Success!\n",
      "Time elapsed: 141.30817484855652 s with 100 processes\n"
     ]
    }
   ],
   "source": [
    "start = gc.time.time()\n",
    "ensemble = None\n",
    "with Pool(100) as p:\n",
    "    ensemble = p.map(gc.conf_generate, args)\n",
    "\n",
    "clib = ml.ConformerLibrary.new(out_dir + \"conformers3.mlib\")  \n",
    "with clib:\n",
    "    for m in ensemble:\n",
    "        clib.append(m.name, m)\n",
    "\n",
    "end = gc.time.time()\n",
    "# clib.close()\n",
    "\n",
    "print('Success!')\n",
    "print('Time elapsed: ' + str(end - start) + \" s with 100 processes\")"
   ]
  },
  {
   "cell_type": "code",
   "execution_count": 20,
   "metadata": {},
   "outputs": [
    {
     "data": {
      "text/plain": [
       "75"
      ]
     },
     "execution_count": 20,
     "metadata": {},
     "output_type": "execute_result"
    }
   ],
   "source": [
    "len(clib)"
   ]
  },
  {
   "cell_type": "code",
   "execution_count": 27,
   "metadata": {},
   "outputs": [
    {
     "name": "stdout",
     "output_type": "stream",
     "text": [
      "ConformerEnsemble(name='1_3', formula='C16 H26 Br2 N2 O2', n_conformers=150)\n",
      "ConformerEnsemble(name='1_2', formula='C14 H22 Br2 N2 O2', n_conformers=50)\n",
      "ConformerEnsemble(name='1_1', formula='C18 H30 Br2 N2 O2', n_conformers=50)\n",
      "ConformerEnsemble(name='1_4', formula='C12 H18 Br2 N2 O2', n_conformers=50)\n",
      "ConformerEnsemble(name='1_5', formula='C22 H34 Br2 N2 O2', n_conformers=28)\n",
      "ConformerEnsemble(name='1_11', formula='C22 H22 Br2 N2 O2', n_conformers=50)\n",
      "ConformerEnsemble(name='1_12', formula='C26 H30 Br2 N2 O2', n_conformers=150)\n",
      "ConformerEnsemble(name='1_14', formula='C30 H38 Br2 N2 O2', n_conformers=50)\n",
      "ConformerEnsemble(name='1_13', formula='C26 H18 Br2 F12 N2 O2', n_conformers=50)\n",
      "ConformerEnsemble(name='1_15', formula='C24 H26 Br2 N2 O2', n_conformers=50)\n",
      "ConformerEnsemble(name='1_8', formula='C28 H22 Br2 F12 N2 O2', n_conformers=50)\n",
      "ConformerEnsemble(name='1_7', formula='C28 H34 Br2 N2 O2', n_conformers=148)\n",
      "ConformerEnsemble(name='1_6', formula='C24 H26 Br2 N2 O2', n_conformers=50)\n",
      "ConformerEnsemble(name='1_10', formula='C26 H30 Br2 N2 O2', n_conformers=147)\n",
      "ConformerEnsemble(name='1_9', formula='C32 H42 Br2 N2 O2', n_conformers=50)\n",
      "ConformerEnsemble(name='2_3', formula='C20 H34 Br2 N2 O2', n_conformers=148)\n",
      "ConformerEnsemble(name='2_2', formula='C18 H30 Br2 N2 O2', n_conformers=150)\n",
      "ConformerEnsemble(name='2_1', formula='C22 H38 Br2 N2 O2', n_conformers=50)\n",
      "ConformerEnsemble(name='2_4', formula='C16 H26 Br2 N2 O2', n_conformers=150)\n",
      "ConformerEnsemble(name='2_5', formula='C26 H42 Br2 N2 O2', n_conformers=57)\n",
      "ConformerEnsemble(name='2_11', formula='C26 H30 Br2 N2 O2', n_conformers=150)\n",
      "ConformerEnsemble(name='2_12', formula='C30 H38 Br2 N2 O2', n_conformers=150)\n",
      "ConformerEnsemble(name='2_14', formula='C34 H46 Br2 N2 O2', n_conformers=150)\n",
      "ConformerEnsemble(name='2_13', formula='C30 H26 Br2 F12 N2 O2', n_conformers=150)\n",
      "ConformerEnsemble(name='2_15', formula='C28 H34 Br2 N2 O2', n_conformers=150)\n",
      "ConformerEnsemble(name='2_8', formula='C32 H30 Br2 F12 N2 O2', n_conformers=131)\n",
      "ConformerEnsemble(name='2_7', formula='C32 H42 Br2 N2 O2', n_conformers=131)\n",
      "ConformerEnsemble(name='2_6', formula='C28 H34 Br2 N2 O2', n_conformers=138)\n",
      "ConformerEnsemble(name='2_10', formula='C30 H38 Br2 N2 O2', n_conformers=139)\n",
      "ConformerEnsemble(name='2_9', formula='C36 H50 Br2 N2 O2', n_conformers=125)\n",
      "ConformerEnsemble(name='3_3', formula='C22 H38 Br2 N2 O2', n_conformers=84)\n",
      "ConformerEnsemble(name='3_2', formula='C20 H34 Br2 N2 O2', n_conformers=145)\n",
      "ConformerEnsemble(name='3_1', formula='C24 H42 Br2 N2 O2', n_conformers=59)\n",
      "ConformerEnsemble(name='3_4', formula='C18 H30 Br2 N2 O2', n_conformers=150)\n",
      "ConformerEnsemble(name='3_5', formula='C28 H46 Br2 N2 O2', n_conformers=44)\n",
      "ConformerEnsemble(name='3_11', formula='C28 H34 Br2 N2 O2', n_conformers=136)\n",
      "ConformerEnsemble(name='3_12', formula='C32 H42 Br2 N2 O2', n_conformers=125)\n",
      "ConformerEnsemble(name='3_14', formula='C36 H50 Br2 N2 O2', n_conformers=98)\n",
      "ConformerEnsemble(name='3_13', formula='C32 H30 Br2 F12 N2 O2', n_conformers=120)\n",
      "ConformerEnsemble(name='3_15', formula='C30 H38 Br2 N2 O2', n_conformers=131)\n",
      "ConformerEnsemble(name='3_8', formula='C34 H34 Br2 F12 N2 O2', n_conformers=111)\n",
      "ConformerEnsemble(name='3_7', formula='C34 H46 Br2 N2 O2', n_conformers=87)\n",
      "ConformerEnsemble(name='3_6', formula='C30 H38 Br2 N2 O2', n_conformers=92)\n",
      "ConformerEnsemble(name='3_10', formula='C32 H42 Br2 N2 O2', n_conformers=88)\n",
      "ConformerEnsemble(name='3_9', formula='C38 H54 Br2 N2 O2', n_conformers=70)\n",
      "ConformerEnsemble(name='4_3', formula='C22 H38 Br2 N2 O2', n_conformers=121)\n",
      "ConformerEnsemble(name='4_2', formula='C20 H34 Br2 N2 O2', n_conformers=150)\n",
      "ConformerEnsemble(name='4_1', formula='C24 H42 Br2 N2 O2', n_conformers=122)\n",
      "ConformerEnsemble(name='4_4', formula='C18 H30 Br2 N2 O2', n_conformers=150)\n",
      "ConformerEnsemble(name='4_5', formula='C28 H46 Br2 N2 O2', n_conformers=77)\n",
      "ConformerEnsemble(name='4_11', formula='C28 H34 Br2 N2 O2', n_conformers=150)\n",
      "ConformerEnsemble(name='4_12', formula='C32 H42 Br2 N2 O2', n_conformers=150)\n",
      "ConformerEnsemble(name='4_14', formula='C36 H50 Br2 N2 O2', n_conformers=150)\n",
      "ConformerEnsemble(name='4_13', formula='C32 H30 Br2 F12 N2 O2', n_conformers=150)\n",
      "ConformerEnsemble(name='4_15', formula='C30 H38 Br2 N2 O2', n_conformers=150)\n",
      "ConformerEnsemble(name='4_8', formula='C34 H34 Br2 F12 N2 O2', n_conformers=144)\n",
      "ConformerEnsemble(name='4_7', formula='C34 H46 Br2 N2 O2', n_conformers=140)\n",
      "ConformerEnsemble(name='4_6', formula='C30 H38 Br2 N2 O2', n_conformers=146)\n",
      "ConformerEnsemble(name='4_10', formula='C32 H42 Br2 N2 O2', n_conformers=141)\n",
      "ConformerEnsemble(name='4_9', formula='C38 H54 Br2 N2 O2', n_conformers=112)\n",
      "ConformerEnsemble(name='5_3', formula='C40 H42 Br2 N2 O2', n_conformers=84)\n",
      "ConformerEnsemble(name='5_2', formula='C38 H38 Br2 N2 O2', n_conformers=127)\n",
      "ConformerEnsemble(name='5_1', formula='C42 H46 Br2 N2 O2', n_conformers=10)\n",
      "ConformerEnsemble(name='5_4', formula='C36 H34 Br2 N2 O2', n_conformers=150)\n",
      "ConformerEnsemble(name='5_5', formula='C46 H50 Br2 N2 O2', n_conformers=35)\n",
      "ConformerEnsemble(name='5_11', formula='C46 H38 Br2 N2 O2', n_conformers=127)\n",
      "ConformerEnsemble(name='5_12', formula='C50 H46 Br2 N2 O2', n_conformers=101)\n",
      "ConformerEnsemble(name='5_14', formula='C54 H54 Br2 N2 O2', n_conformers=93)\n",
      "ConformerEnsemble(name='5_13', formula='C50 H34 Br2 F12 N2 O2', n_conformers=104)\n",
      "ConformerEnsemble(name='5_15', formula='C48 H42 Br2 N2 O2', n_conformers=109)\n",
      "ConformerEnsemble(name='5_8', formula='C52 H38 Br2 F12 N2 O2', n_conformers=118)\n",
      "ConformerEnsemble(name='5_7', formula='C52 H50 Br2 N2 O2', n_conformers=93)\n",
      "ConformerEnsemble(name='5_6', formula='C48 H42 Br2 N2 O2', n_conformers=88)\n",
      "ConformerEnsemble(name='5_10', formula='C50 H46 Br2 N2 O2', n_conformers=76)\n",
      "ConformerEnsemble(name='5_9', formula='C56 H58 Br2 N2 O2', n_conformers=74)\n",
      "8074 conformers\n"
     ]
    }
   ],
   "source": [
    "import molli.visual\n",
    "\n",
    "count = 0\n",
    "for m in clib:\n",
    "    count += m.n_conformers\n",
    "    print(m)\n",
    "print(str(count) + \" conformers\")"
   ]
  },
  {
   "cell_type": "code",
   "execution_count": 28,
   "metadata": {},
   "outputs": [
    {
     "data": {
      "application/3dmoljs_load.v0": "<div id=\"3dmolviewer_16849681136954174\"  style=\"position: relative; width: 1000px; height: 500px;\">\n        <p id=\"3dmolwarning_16849681136954174\" style=\"background-color:#ffcccc;color:black\">You appear to be running in JupyterLab (or JavaScript failed to load for some other reason).  You need to install the 3dmol extension: <br>\n        <tt>jupyter labextension install jupyterlab_3dmol</tt></p>\n        </div>\n<script>\n\nvar loadScriptAsync = function(uri){\n  return new Promise((resolve, reject) => {\n    //this is to ignore the existence of requirejs amd\n    var savedexports, savedmodule;\n    if (typeof exports !== 'undefined') savedexports = exports;\n    else exports = {}\n    if (typeof module !== 'undefined') savedmodule = module;\n    else module = {}\n\n    var tag = document.createElement('script');\n    tag.src = uri;\n    tag.async = true;\n    tag.onload = () => {\n        exports = savedexports;\n        module = savedmodule;\n        resolve();\n    };\n  var firstScriptTag = document.getElementsByTagName('script')[0];\n  firstScriptTag.parentNode.insertBefore(tag, firstScriptTag);\n});\n};\n\nif(typeof $3Dmolpromise === 'undefined') {\n$3Dmolpromise = null;\n  $3Dmolpromise = loadScriptAsync('https://cdnjs.cloudflare.com/ajax/libs/3Dmol/2.0.3/3Dmol-min.js');\n}\n\nvar viewer_16849681136954174 = null;\nvar warn = document.getElementById(\"3dmolwarning_16849681136954174\");\nif(warn) {\n    warn.parentNode.removeChild(warn);\n}\n$3Dmolpromise.then(function() {\nviewer_16849681136954174 = $3Dmol.createViewer(document.getElementById(\"3dmolviewer_16849681136954174\"),{backgroundColor:\"white\"});\nviewer_16849681136954174.zoomTo();\n\tviewer_16849681136954174.addModel(\"# Produced with molli package\\n@<TRIPOS>MOLECULE\\n1_3\\n48 50 0 0 0\\nSMALL\\nUSER_CHARGES\\n\\n@<TRIPOS>ATOM\\n     1 C      -0.073800     0.084300     0.122500 C.3        1 UNL1 0.0\\n     2 C       0.613600     1.295000    -0.518100 C.3        1 UNL1 0.0\\n     3 O      -0.276400     2.380600    -0.211300 O.2        1 UNL1 0.0\\n     4 C      -1.490500     1.857700    -0.044800 C.2        1 UNL1 0.0\\n     5 N      -1.485900     0.584700     0.063700 N.2        1 UNL1 0.0\\n     6 C      -2.728400     2.688500    -0.037700 C.3        1 UNL1 0.0\\n     7 C      -3.952900     1.849900     0.101400 C.2        1 UNL1 0.0\\n     8 O      -5.140000     2.356600     0.425900 O.2        1 UNL1 0.0\\n     9 C      -5.976400     1.255900     0.803100 C.3        1 UNL1 0.0\\n    10 C      -5.385000     0.068500     0.038200 C.3        1 UNL1 0.0\\n    11 N      -3.972400     0.586700    -0.082500 N.2        1 UNL1 0.0\\n    12 C      -2.714800    -0.199600    -0.319300 C.3        1 UNL1 0.0\\n    13 BR     -2.803900    -1.902500     0.617400 Br         1 UNL1 0.0\\n    14 BR     -2.531100    -0.517700    -2.269600 Br         1 UNL1 0.0\\n    15 C      -2.822300     3.476300    -1.349300 C.3        1 UNL1 0.0\\n    16 C      -2.643900     3.652200     1.154600 C.3        1 UNL1 0.0\\n    17 C      -5.986600    -0.204100    -1.369100 C.3        1 UNL1 0.0\\n    18 C      -5.972600    -1.711500    -1.669200 C.3        1 UNL1 0.0\\n    19 C      -7.426900     0.287700    -1.560000 C.3        1 UNL1 0.0\\n    20 C       0.479700    -0.130200     1.563100 C.3        1 UNL1 0.0\\n    21 C       0.161300    -1.497400     2.167600 C.3        1 UNL1 0.0\\n    22 C       0.150600     0.964400     2.586600 C.3        1 UNL1 0.0\\n    23 H       0.046200    -0.809300    -0.498000 H          1 UNL1 0.0\\n    24 H       1.612100     1.506000    -0.124200 H          1 UNL1 0.0\\n    25 H       0.678700     1.203800    -1.609000 H          1 UNL1 0.0\\n    26 H      -5.875200     1.119300     1.887800 H          1 UNL1 0.0\\n    27 H      -7.023600     1.485300     0.603600 H          1 UNL1 0.0\\n    28 H      -5.413300    -0.819600     0.675700 H          1 UNL1 0.0\\n    29 H      -1.960300     4.140000    -1.482100 H          1 UNL1 0.0\\n    30 H      -3.728100     4.092800    -1.380900 H          1 UNL1 0.0\\n    31 H      -2.854200     2.806300    -2.216200 H          1 UNL1 0.0\\n    32 H      -3.508800     4.324400     1.192300 H          1 UNL1 0.0\\n    33 H      -2.613300     3.103600     2.103800 H          1 UNL1 0.0\\n    34 H      -1.742700     4.274300     1.106800 H          1 UNL1 0.0\\n    35 H      -5.392300     0.296700    -2.142800 H          1 UNL1 0.0\\n    36 H      -6.326300    -1.907300    -2.687400 H          1 UNL1 0.0\\n    37 H      -4.972700    -2.139600    -1.585400 H          1 UNL1 0.0\\n    38 H      -6.626000    -2.255200    -0.977600 H          1 UNL1 0.0\\n    39 H      -8.093900    -0.116200    -0.791000 H          1 UNL1 0.0\\n    40 H      -7.817800    -0.022600    -2.535800 H          1 UNL1 0.0\\n    41 H      -7.477500     1.381000    -1.536900 H          1 UNL1 0.0\\n    42 H       1.575000    -0.130400     1.458100 H          1 UNL1 0.0\\n    43 H       0.866900    -1.722100     2.976400 H          1 UNL1 0.0\\n    44 H       0.256100    -2.296700     1.426400 H          1 UNL1 0.0\\n    45 H      -0.835200    -1.523500     2.613900 H          1 UNL1 0.0\\n    46 H      -0.924600     1.024200     2.783700 H          1 UNL1 0.0\\n    47 H       0.646400     0.755200     3.541500 H          1 UNL1 0.0\\n    48 H       0.500900     1.946200     2.255700 H          1 UNL1 0.0\\n@<TRIPOS>BOND\\n     1      1      2          1\\n     2      2      3          1\\n     3      3      4          1\\n     4      4      5          2\\n     5      5      1          1\\n     6      4      6          1\\n     7      6      7          1\\n     8      7      8          1\\n     9      8      9          1\\n    10      9     10          1\\n    11     10     11          1\\n    12     11      7          2\\n    13     11     12          1\\n    14     12      5          1\\n    15     12     13          1\\n    16     12     14          1\\n    17      6     15          1\\n    18      6     16          1\\n    19     17     18          1\\n    20     17     19          1\\n    21     10     17          1\\n    22     20     21          1\\n    23     20     22          1\\n    24      1     20          1\\n    25      1     23          1\\n    26      2     24          1\\n    27      2     25          1\\n    28      9     26          1\\n    29      9     27          1\\n    30     10     28          1\\n    31     15     29          1\\n    32     15     30          1\\n    33     15     31          1\\n    34     16     32          1\\n    35     16     33          1\\n    36     16     34          1\\n    37     17     35          1\\n    38     18     36          1\\n    39     18     37          1\\n    40     18     38          1\\n    41     19     39          1\\n    42     19     40          1\\n    43     19     41          1\\n    44     20     42          1\\n    45     21     43          1\\n    46     21     44          1\\n    47     21     45          1\\n    48     22     46          1\\n    49     22     47          1\\n    50     22     48          1\\n\",\"mol2\");\n\tviewer_16849681136954174.setStyle({\"stick\": {\"radius\": 0.1}, \"sphere\": {\"scale\": 0.15}});\n\tviewer_16849681136954174.setHoverable({},true,\"\\n            function(atom,viewer,event,container) {\\n                if(!atom.label) {\\n                    atom.label = viewer.addLabel(atom.elem + atom.serial, {position: atom, backgroundColor: 'mintcream', fontColor:'black'});\\n                }\\n            }\\n            \",\"\\n            function(atom,viewer) { \\n                if(atom.label) {\\n                    viewer.removeLabel(atom.label);\\n                    delete atom.label;\\n                }\\n            }\\n            \");\n\tviewer_16849681136954174.zoomTo();\n\tviewer_16849681136954174.setBackgroundColor(null);\nviewer_16849681136954174.render();\n});\n</script>",
      "text/html": [
       "<div id=\"3dmolviewer_16849681136954174\"  style=\"position: relative; width: 1000px; height: 500px;\">\n",
       "        <p id=\"3dmolwarning_16849681136954174\" style=\"background-color:#ffcccc;color:black\">You appear to be running in JupyterLab (or JavaScript failed to load for some other reason).  You need to install the 3dmol extension: <br>\n",
       "        <tt>jupyter labextension install jupyterlab_3dmol</tt></p>\n",
       "        </div>\n",
       "<script>\n",
       "\n",
       "var loadScriptAsync = function(uri){\n",
       "  return new Promise((resolve, reject) => {\n",
       "    //this is to ignore the existence of requirejs amd\n",
       "    var savedexports, savedmodule;\n",
       "    if (typeof exports !== 'undefined') savedexports = exports;\n",
       "    else exports = {}\n",
       "    if (typeof module !== 'undefined') savedmodule = module;\n",
       "    else module = {}\n",
       "\n",
       "    var tag = document.createElement('script');\n",
       "    tag.src = uri;\n",
       "    tag.async = true;\n",
       "    tag.onload = () => {\n",
       "        exports = savedexports;\n",
       "        module = savedmodule;\n",
       "        resolve();\n",
       "    };\n",
       "  var firstScriptTag = document.getElementsByTagName('script')[0];\n",
       "  firstScriptTag.parentNode.insertBefore(tag, firstScriptTag);\n",
       "});\n",
       "};\n",
       "\n",
       "if(typeof $3Dmolpromise === 'undefined') {\n",
       "$3Dmolpromise = null;\n",
       "  $3Dmolpromise = loadScriptAsync('https://cdnjs.cloudflare.com/ajax/libs/3Dmol/2.0.3/3Dmol-min.js');\n",
       "}\n",
       "\n",
       "var viewer_16849681136954174 = null;\n",
       "var warn = document.getElementById(\"3dmolwarning_16849681136954174\");\n",
       "if(warn) {\n",
       "    warn.parentNode.removeChild(warn);\n",
       "}\n",
       "$3Dmolpromise.then(function() {\n",
       "viewer_16849681136954174 = $3Dmol.createViewer(document.getElementById(\"3dmolviewer_16849681136954174\"),{backgroundColor:\"white\"});\n",
       "viewer_16849681136954174.zoomTo();\n",
       "\tviewer_16849681136954174.addModel(\"# Produced with molli package\\n@<TRIPOS>MOLECULE\\n1_3\\n48 50 0 0 0\\nSMALL\\nUSER_CHARGES\\n\\n@<TRIPOS>ATOM\\n     1 C      -0.073800     0.084300     0.122500 C.3        1 UNL1 0.0\\n     2 C       0.613600     1.295000    -0.518100 C.3        1 UNL1 0.0\\n     3 O      -0.276400     2.380600    -0.211300 O.2        1 UNL1 0.0\\n     4 C      -1.490500     1.857700    -0.044800 C.2        1 UNL1 0.0\\n     5 N      -1.485900     0.584700     0.063700 N.2        1 UNL1 0.0\\n     6 C      -2.728400     2.688500    -0.037700 C.3        1 UNL1 0.0\\n     7 C      -3.952900     1.849900     0.101400 C.2        1 UNL1 0.0\\n     8 O      -5.140000     2.356600     0.425900 O.2        1 UNL1 0.0\\n     9 C      -5.976400     1.255900     0.803100 C.3        1 UNL1 0.0\\n    10 C      -5.385000     0.068500     0.038200 C.3        1 UNL1 0.0\\n    11 N      -3.972400     0.586700    -0.082500 N.2        1 UNL1 0.0\\n    12 C      -2.714800    -0.199600    -0.319300 C.3        1 UNL1 0.0\\n    13 BR     -2.803900    -1.902500     0.617400 Br         1 UNL1 0.0\\n    14 BR     -2.531100    -0.517700    -2.269600 Br         1 UNL1 0.0\\n    15 C      -2.822300     3.476300    -1.349300 C.3        1 UNL1 0.0\\n    16 C      -2.643900     3.652200     1.154600 C.3        1 UNL1 0.0\\n    17 C      -5.986600    -0.204100    -1.369100 C.3        1 UNL1 0.0\\n    18 C      -5.972600    -1.711500    -1.669200 C.3        1 UNL1 0.0\\n    19 C      -7.426900     0.287700    -1.560000 C.3        1 UNL1 0.0\\n    20 C       0.479700    -0.130200     1.563100 C.3        1 UNL1 0.0\\n    21 C       0.161300    -1.497400     2.167600 C.3        1 UNL1 0.0\\n    22 C       0.150600     0.964400     2.586600 C.3        1 UNL1 0.0\\n    23 H       0.046200    -0.809300    -0.498000 H          1 UNL1 0.0\\n    24 H       1.612100     1.506000    -0.124200 H          1 UNL1 0.0\\n    25 H       0.678700     1.203800    -1.609000 H          1 UNL1 0.0\\n    26 H      -5.875200     1.119300     1.887800 H          1 UNL1 0.0\\n    27 H      -7.023600     1.485300     0.603600 H          1 UNL1 0.0\\n    28 H      -5.413300    -0.819600     0.675700 H          1 UNL1 0.0\\n    29 H      -1.960300     4.140000    -1.482100 H          1 UNL1 0.0\\n    30 H      -3.728100     4.092800    -1.380900 H          1 UNL1 0.0\\n    31 H      -2.854200     2.806300    -2.216200 H          1 UNL1 0.0\\n    32 H      -3.508800     4.324400     1.192300 H          1 UNL1 0.0\\n    33 H      -2.613300     3.103600     2.103800 H          1 UNL1 0.0\\n    34 H      -1.742700     4.274300     1.106800 H          1 UNL1 0.0\\n    35 H      -5.392300     0.296700    -2.142800 H          1 UNL1 0.0\\n    36 H      -6.326300    -1.907300    -2.687400 H          1 UNL1 0.0\\n    37 H      -4.972700    -2.139600    -1.585400 H          1 UNL1 0.0\\n    38 H      -6.626000    -2.255200    -0.977600 H          1 UNL1 0.0\\n    39 H      -8.093900    -0.116200    -0.791000 H          1 UNL1 0.0\\n    40 H      -7.817800    -0.022600    -2.535800 H          1 UNL1 0.0\\n    41 H      -7.477500     1.381000    -1.536900 H          1 UNL1 0.0\\n    42 H       1.575000    -0.130400     1.458100 H          1 UNL1 0.0\\n    43 H       0.866900    -1.722100     2.976400 H          1 UNL1 0.0\\n    44 H       0.256100    -2.296700     1.426400 H          1 UNL1 0.0\\n    45 H      -0.835200    -1.523500     2.613900 H          1 UNL1 0.0\\n    46 H      -0.924600     1.024200     2.783700 H          1 UNL1 0.0\\n    47 H       0.646400     0.755200     3.541500 H          1 UNL1 0.0\\n    48 H       0.500900     1.946200     2.255700 H          1 UNL1 0.0\\n@<TRIPOS>BOND\\n     1      1      2          1\\n     2      2      3          1\\n     3      3      4          1\\n     4      4      5          2\\n     5      5      1          1\\n     6      4      6          1\\n     7      6      7          1\\n     8      7      8          1\\n     9      8      9          1\\n    10      9     10          1\\n    11     10     11          1\\n    12     11      7          2\\n    13     11     12          1\\n    14     12      5          1\\n    15     12     13          1\\n    16     12     14          1\\n    17      6     15          1\\n    18      6     16          1\\n    19     17     18          1\\n    20     17     19          1\\n    21     10     17          1\\n    22     20     21          1\\n    23     20     22          1\\n    24      1     20          1\\n    25      1     23          1\\n    26      2     24          1\\n    27      2     25          1\\n    28      9     26          1\\n    29      9     27          1\\n    30     10     28          1\\n    31     15     29          1\\n    32     15     30          1\\n    33     15     31          1\\n    34     16     32          1\\n    35     16     33          1\\n    36     16     34          1\\n    37     17     35          1\\n    38     18     36          1\\n    39     18     37          1\\n    40     18     38          1\\n    41     19     39          1\\n    42     19     40          1\\n    43     19     41          1\\n    44     20     42          1\\n    45     21     43          1\\n    46     21     44          1\\n    47     21     45          1\\n    48     22     46          1\\n    49     22     47          1\\n    50     22     48          1\\n\",\"mol2\");\n",
       "\tviewer_16849681136954174.setStyle({\"stick\": {\"radius\": 0.1}, \"sphere\": {\"scale\": 0.15}});\n",
       "\tviewer_16849681136954174.setHoverable({},true,\"\\n            function(atom,viewer,event,container) {\\n                if(!atom.label) {\\n                    atom.label = viewer.addLabel(atom.elem + atom.serial, {position: atom, backgroundColor: 'mintcream', fontColor:'black'});\\n                }\\n            }\\n            \",\"\\n            function(atom,viewer) { \\n                if(atom.label) {\\n                    viewer.removeLabel(atom.label);\\n                    delete atom.label;\\n                }\\n            }\\n            \");\n",
       "\tviewer_16849681136954174.zoomTo();\n",
       "\tviewer_16849681136954174.setBackgroundColor(null);\n",
       "viewer_16849681136954174.render();\n",
       "});\n",
       "</script>"
      ]
     },
     "metadata": {},
     "output_type": "display_data"
    },
    {
     "data": {
      "text/plain": [
       "Conformer(name='1_3', formula='C16 H26 Br2 N2 O2')"
      ]
     },
     "execution_count": 28,
     "metadata": {},
     "output_type": "execute_result"
    }
   ],
   "source": [
    "clib[0][0]"
   ]
  },
  {
   "cell_type": "code",
   "execution_count": 29,
   "metadata": {},
   "outputs": [
    {
     "data": {
      "application/3dmoljs_load.v0": "<div id=\"3dmolviewer_16849681222710588\"  style=\"position: relative; width: 1000px; height: 500px;\">\n        <p id=\"3dmolwarning_16849681222710588\" style=\"background-color:#ffcccc;color:black\">You appear to be running in JupyterLab (or JavaScript failed to load for some other reason).  You need to install the 3dmol extension: <br>\n        <tt>jupyter labextension install jupyterlab_3dmol</tt></p>\n        </div>\n<script>\n\nvar loadScriptAsync = function(uri){\n  return new Promise((resolve, reject) => {\n    //this is to ignore the existence of requirejs amd\n    var savedexports, savedmodule;\n    if (typeof exports !== 'undefined') savedexports = exports;\n    else exports = {}\n    if (typeof module !== 'undefined') savedmodule = module;\n    else module = {}\n\n    var tag = document.createElement('script');\n    tag.src = uri;\n    tag.async = true;\n    tag.onload = () => {\n        exports = savedexports;\n        module = savedmodule;\n        resolve();\n    };\n  var firstScriptTag = document.getElementsByTagName('script')[0];\n  firstScriptTag.parentNode.insertBefore(tag, firstScriptTag);\n});\n};\n\nif(typeof $3Dmolpromise === 'undefined') {\n$3Dmolpromise = null;\n  $3Dmolpromise = loadScriptAsync('https://cdnjs.cloudflare.com/ajax/libs/3Dmol/2.0.3/3Dmol-min.js');\n}\n\nvar viewer_16849681222710588 = null;\nvar warn = document.getElementById(\"3dmolwarning_16849681222710588\");\nif(warn) {\n    warn.parentNode.removeChild(warn);\n}\n$3Dmolpromise.then(function() {\nviewer_16849681222710588 = $3Dmol.createViewer(document.getElementById(\"3dmolviewer_16849681222710588\"),{backgroundColor:\"white\"});\nviewer_16849681222710588.zoomTo();\n\tviewer_16849681222710588.addModel(\"# Produced with molli package\\n@<TRIPOS>MOLECULE\\n1_3\\n48 50 0 0 0\\nSMALL\\nUSER_CHARGES\\n\\n@<TRIPOS>ATOM\\n     1 C      -0.099400     0.045100    -0.094700 C.3        1 UNL1 0.0\\n     2 C       0.597700     1.277400    -0.670200 C.3        1 UNL1 0.0\\n     3 O      -0.305000     2.360200    -0.398200 O.2        1 UNL1 0.0\\n     4 C      -1.495600     1.851200    -0.094800 C.2        1 UNL1 0.0\\n     5 N      -1.483900     0.587600     0.079100 N.2        1 UNL1 0.0\\n     6 C      -2.723500     2.689400     0.031100 C.3        1 UNL1 0.0\\n     7 C      -3.962200     1.857000     0.038400 C.2        1 UNL1 0.0\\n     8 O      -5.178600     2.379900     0.187300 O.2        1 UNL1 0.0\\n     9 C      -6.070700     1.296200     0.497200 C.3        1 UNL1 0.0\\n    10 C      -5.374000     0.079100    -0.120400 C.3        1 UNL1 0.0\\n    11 N      -3.965000     0.582400    -0.053800 N.2        1 UNL1 0.0\\n    12 C      -2.739400    -0.189500     0.352600 C.3        1 UNL1 0.0\\n    13 BR     -2.652500    -1.946400    -0.480700 Br         1 UNL1 0.0\\n    14 BR     -2.907800    -0.427600     2.321000 Br         1 UNL1 0.0\\n    15 C      -2.802000     3.640200    -1.172300 C.3        1 UNL1 0.0\\n    16 C      -2.638100     3.492900     1.333600 C.3        1 UNL1 0.0\\n    17 C      -5.907900    -0.155800    -1.565100 C.3        1 UNL1 0.0\\n    18 C      -5.600200     0.944800    -2.589300 C.3        1 UNL1 0.0\\n    19 C      -5.540700    -1.513100    -2.163200 C.3        1 UNL1 0.0\\n    20 C       0.501700    -0.489100     1.221500 C.3        1 UNL1 0.0\\n    21 C       0.729800     0.571200     2.306900 C.3        1 UNL1 0.0\\n    22 C       1.826100    -1.211500     0.938800 C.3        1 UNL1 0.0\\n    23 H      -0.120100    -0.741100    -0.856000 H          1 UNL1 0.0\\n    24 H       0.713900     1.202200    -1.757700 H          1 UNL1 0.0\\n    25 H       1.577800     1.493000    -0.238000 H          1 UNL1 0.0\\n    26 H      -7.064900     1.499900     0.088700 H          1 UNL1 0.0\\n    27 H      -6.148200     1.218500     1.588300 H          1 UNL1 0.0\\n    28 H      -5.498000    -0.807100     0.510000 H          1 UNL1 0.0\\n    29 H      -1.936900     4.312000    -1.212900 H          1 UNL1 0.0\\n    30 H      -3.703600     4.262500    -1.136000 H          1 UNL1 0.0\\n    31 H      -2.827400     3.081200    -2.115600 H          1 UNL1 0.0\\n    32 H      -3.503100     4.154900     1.454600 H          1 UNL1 0.0\\n    33 H      -1.734700     4.113100     1.361700 H          1 UNL1 0.0\\n    34 H      -2.607300     2.834300     2.208900 H          1 UNL1 0.0\\n    35 H      -7.003600    -0.186600    -1.470100 H          1 UNL1 0.0\\n    36 H      -6.081300     0.719100    -3.547900 H          1 UNL1 0.0\\n    37 H      -4.525400     1.034000    -2.777200 H          1 UNL1 0.0\\n    38 H      -5.980700     1.917700    -2.265200 H          1 UNL1 0.0\\n    39 H      -4.528100    -1.515600    -2.573100 H          1 UNL1 0.0\\n    40 H      -5.644900    -2.316600    -1.427700 H          1 UNL1 0.0\\n    41 H      -6.212900    -1.750000    -2.996500 H          1 UNL1 0.0\\n    42 H      -0.172500    -1.247500     1.635000 H          1 UNL1 0.0\\n    43 H      -0.181400     1.132200     2.530700 H          1 UNL1 0.0\\n    44 H       1.055100     0.094000     3.238200 H          1 UNL1 0.0\\n    45 H       1.505700     1.288700     2.022800 H          1 UNL1 0.0\\n    46 H       2.221400    -1.665600     1.853900 H          1 UNL1 0.0\\n    47 H       1.682400    -2.013600     0.207000 H          1 UNL1 0.0\\n    48 H       2.586700    -0.527800     0.548500 H          1 UNL1 0.0\\n@<TRIPOS>BOND\\n     1      1      2          1\\n     2      2      3          1\\n     3      3      4          1\\n     4      4      5          2\\n     5      5      1          1\\n     6      4      6          1\\n     7      6      7          1\\n     8      7      8          1\\n     9      8      9          1\\n    10      9     10          1\\n    11     10     11          1\\n    12     11      7          2\\n    13     11     12          1\\n    14     12      5          1\\n    15     12     13          1\\n    16     12     14          1\\n    17      6     15          1\\n    18      6     16          1\\n    19     17     18          1\\n    20     17     19          1\\n    21     10     17          1\\n    22     20     21          1\\n    23     20     22          1\\n    24      1     20          1\\n    25      1     23          1\\n    26      2     24          1\\n    27      2     25          1\\n    28      9     26          1\\n    29      9     27          1\\n    30     10     28          1\\n    31     15     29          1\\n    32     15     30          1\\n    33     15     31          1\\n    34     16     32          1\\n    35     16     33          1\\n    36     16     34          1\\n    37     17     35          1\\n    38     18     36          1\\n    39     18     37          1\\n    40     18     38          1\\n    41     19     39          1\\n    42     19     40          1\\n    43     19     41          1\\n    44     20     42          1\\n    45     21     43          1\\n    46     21     44          1\\n    47     21     45          1\\n    48     22     46          1\\n    49     22     47          1\\n    50     22     48          1\\n\",\"mol2\");\n\tviewer_16849681222710588.setStyle({\"stick\": {\"radius\": 0.1}, \"sphere\": {\"scale\": 0.15}});\n\tviewer_16849681222710588.setHoverable({},true,\"\\n            function(atom,viewer,event,container) {\\n                if(!atom.label) {\\n                    atom.label = viewer.addLabel(atom.elem + atom.serial, {position: atom, backgroundColor: 'mintcream', fontColor:'black'});\\n                }\\n            }\\n            \",\"\\n            function(atom,viewer) { \\n                if(atom.label) {\\n                    viewer.removeLabel(atom.label);\\n                    delete atom.label;\\n                }\\n            }\\n            \");\n\tviewer_16849681222710588.zoomTo();\n\tviewer_16849681222710588.setBackgroundColor(null);\nviewer_16849681222710588.render();\n});\n</script>",
      "text/html": [
       "<div id=\"3dmolviewer_16849681222710588\"  style=\"position: relative; width: 1000px; height: 500px;\">\n",
       "        <p id=\"3dmolwarning_16849681222710588\" style=\"background-color:#ffcccc;color:black\">You appear to be running in JupyterLab (or JavaScript failed to load for some other reason).  You need to install the 3dmol extension: <br>\n",
       "        <tt>jupyter labextension install jupyterlab_3dmol</tt></p>\n",
       "        </div>\n",
       "<script>\n",
       "\n",
       "var loadScriptAsync = function(uri){\n",
       "  return new Promise((resolve, reject) => {\n",
       "    //this is to ignore the existence of requirejs amd\n",
       "    var savedexports, savedmodule;\n",
       "    if (typeof exports !== 'undefined') savedexports = exports;\n",
       "    else exports = {}\n",
       "    if (typeof module !== 'undefined') savedmodule = module;\n",
       "    else module = {}\n",
       "\n",
       "    var tag = document.createElement('script');\n",
       "    tag.src = uri;\n",
       "    tag.async = true;\n",
       "    tag.onload = () => {\n",
       "        exports = savedexports;\n",
       "        module = savedmodule;\n",
       "        resolve();\n",
       "    };\n",
       "  var firstScriptTag = document.getElementsByTagName('script')[0];\n",
       "  firstScriptTag.parentNode.insertBefore(tag, firstScriptTag);\n",
       "});\n",
       "};\n",
       "\n",
       "if(typeof $3Dmolpromise === 'undefined') {\n",
       "$3Dmolpromise = null;\n",
       "  $3Dmolpromise = loadScriptAsync('https://cdnjs.cloudflare.com/ajax/libs/3Dmol/2.0.3/3Dmol-min.js');\n",
       "}\n",
       "\n",
       "var viewer_16849681222710588 = null;\n",
       "var warn = document.getElementById(\"3dmolwarning_16849681222710588\");\n",
       "if(warn) {\n",
       "    warn.parentNode.removeChild(warn);\n",
       "}\n",
       "$3Dmolpromise.then(function() {\n",
       "viewer_16849681222710588 = $3Dmol.createViewer(document.getElementById(\"3dmolviewer_16849681222710588\"),{backgroundColor:\"white\"});\n",
       "viewer_16849681222710588.zoomTo();\n",
       "\tviewer_16849681222710588.addModel(\"# Produced with molli package\\n@<TRIPOS>MOLECULE\\n1_3\\n48 50 0 0 0\\nSMALL\\nUSER_CHARGES\\n\\n@<TRIPOS>ATOM\\n     1 C      -0.099400     0.045100    -0.094700 C.3        1 UNL1 0.0\\n     2 C       0.597700     1.277400    -0.670200 C.3        1 UNL1 0.0\\n     3 O      -0.305000     2.360200    -0.398200 O.2        1 UNL1 0.0\\n     4 C      -1.495600     1.851200    -0.094800 C.2        1 UNL1 0.0\\n     5 N      -1.483900     0.587600     0.079100 N.2        1 UNL1 0.0\\n     6 C      -2.723500     2.689400     0.031100 C.3        1 UNL1 0.0\\n     7 C      -3.962200     1.857000     0.038400 C.2        1 UNL1 0.0\\n     8 O      -5.178600     2.379900     0.187300 O.2        1 UNL1 0.0\\n     9 C      -6.070700     1.296200     0.497200 C.3        1 UNL1 0.0\\n    10 C      -5.374000     0.079100    -0.120400 C.3        1 UNL1 0.0\\n    11 N      -3.965000     0.582400    -0.053800 N.2        1 UNL1 0.0\\n    12 C      -2.739400    -0.189500     0.352600 C.3        1 UNL1 0.0\\n    13 BR     -2.652500    -1.946400    -0.480700 Br         1 UNL1 0.0\\n    14 BR     -2.907800    -0.427600     2.321000 Br         1 UNL1 0.0\\n    15 C      -2.802000     3.640200    -1.172300 C.3        1 UNL1 0.0\\n    16 C      -2.638100     3.492900     1.333600 C.3        1 UNL1 0.0\\n    17 C      -5.907900    -0.155800    -1.565100 C.3        1 UNL1 0.0\\n    18 C      -5.600200     0.944800    -2.589300 C.3        1 UNL1 0.0\\n    19 C      -5.540700    -1.513100    -2.163200 C.3        1 UNL1 0.0\\n    20 C       0.501700    -0.489100     1.221500 C.3        1 UNL1 0.0\\n    21 C       0.729800     0.571200     2.306900 C.3        1 UNL1 0.0\\n    22 C       1.826100    -1.211500     0.938800 C.3        1 UNL1 0.0\\n    23 H      -0.120100    -0.741100    -0.856000 H          1 UNL1 0.0\\n    24 H       0.713900     1.202200    -1.757700 H          1 UNL1 0.0\\n    25 H       1.577800     1.493000    -0.238000 H          1 UNL1 0.0\\n    26 H      -7.064900     1.499900     0.088700 H          1 UNL1 0.0\\n    27 H      -6.148200     1.218500     1.588300 H          1 UNL1 0.0\\n    28 H      -5.498000    -0.807100     0.510000 H          1 UNL1 0.0\\n    29 H      -1.936900     4.312000    -1.212900 H          1 UNL1 0.0\\n    30 H      -3.703600     4.262500    -1.136000 H          1 UNL1 0.0\\n    31 H      -2.827400     3.081200    -2.115600 H          1 UNL1 0.0\\n    32 H      -3.503100     4.154900     1.454600 H          1 UNL1 0.0\\n    33 H      -1.734700     4.113100     1.361700 H          1 UNL1 0.0\\n    34 H      -2.607300     2.834300     2.208900 H          1 UNL1 0.0\\n    35 H      -7.003600    -0.186600    -1.470100 H          1 UNL1 0.0\\n    36 H      -6.081300     0.719100    -3.547900 H          1 UNL1 0.0\\n    37 H      -4.525400     1.034000    -2.777200 H          1 UNL1 0.0\\n    38 H      -5.980700     1.917700    -2.265200 H          1 UNL1 0.0\\n    39 H      -4.528100    -1.515600    -2.573100 H          1 UNL1 0.0\\n    40 H      -5.644900    -2.316600    -1.427700 H          1 UNL1 0.0\\n    41 H      -6.212900    -1.750000    -2.996500 H          1 UNL1 0.0\\n    42 H      -0.172500    -1.247500     1.635000 H          1 UNL1 0.0\\n    43 H      -0.181400     1.132200     2.530700 H          1 UNL1 0.0\\n    44 H       1.055100     0.094000     3.238200 H          1 UNL1 0.0\\n    45 H       1.505700     1.288700     2.022800 H          1 UNL1 0.0\\n    46 H       2.221400    -1.665600     1.853900 H          1 UNL1 0.0\\n    47 H       1.682400    -2.013600     0.207000 H          1 UNL1 0.0\\n    48 H       2.586700    -0.527800     0.548500 H          1 UNL1 0.0\\n@<TRIPOS>BOND\\n     1      1      2          1\\n     2      2      3          1\\n     3      3      4          1\\n     4      4      5          2\\n     5      5      1          1\\n     6      4      6          1\\n     7      6      7          1\\n     8      7      8          1\\n     9      8      9          1\\n    10      9     10          1\\n    11     10     11          1\\n    12     11      7          2\\n    13     11     12          1\\n    14     12      5          1\\n    15     12     13          1\\n    16     12     14          1\\n    17      6     15          1\\n    18      6     16          1\\n    19     17     18          1\\n    20     17     19          1\\n    21     10     17          1\\n    22     20     21          1\\n    23     20     22          1\\n    24      1     20          1\\n    25      1     23          1\\n    26      2     24          1\\n    27      2     25          1\\n    28      9     26          1\\n    29      9     27          1\\n    30     10     28          1\\n    31     15     29          1\\n    32     15     30          1\\n    33     15     31          1\\n    34     16     32          1\\n    35     16     33          1\\n    36     16     34          1\\n    37     17     35          1\\n    38     18     36          1\\n    39     18     37          1\\n    40     18     38          1\\n    41     19     39          1\\n    42     19     40          1\\n    43     19     41          1\\n    44     20     42          1\\n    45     21     43          1\\n    46     21     44          1\\n    47     21     45          1\\n    48     22     46          1\\n    49     22     47          1\\n    50     22     48          1\\n\",\"mol2\");\n",
       "\tviewer_16849681222710588.setStyle({\"stick\": {\"radius\": 0.1}, \"sphere\": {\"scale\": 0.15}});\n",
       "\tviewer_16849681222710588.setHoverable({},true,\"\\n            function(atom,viewer,event,container) {\\n                if(!atom.label) {\\n                    atom.label = viewer.addLabel(atom.elem + atom.serial, {position: atom, backgroundColor: 'mintcream', fontColor:'black'});\\n                }\\n            }\\n            \",\"\\n            function(atom,viewer) { \\n                if(atom.label) {\\n                    viewer.removeLabel(atom.label);\\n                    delete atom.label;\\n                }\\n            }\\n            \");\n",
       "\tviewer_16849681222710588.zoomTo();\n",
       "\tviewer_16849681222710588.setBackgroundColor(null);\n",
       "viewer_16849681222710588.render();\n",
       "});\n",
       "</script>"
      ]
     },
     "metadata": {},
     "output_type": "display_data"
    },
    {
     "data": {
      "text/plain": [
       "Conformer(name='1_3', formula='C16 H26 Br2 N2 O2')"
      ]
     },
     "execution_count": 29,
     "metadata": {},
     "output_type": "execute_result"
    }
   ],
   "source": [
    "clib[0][1]"
   ]
  },
  {
   "cell_type": "code",
   "execution_count": null,
   "metadata": {},
   "outputs": [],
   "source": []
  }
 ],
 "metadata": {
  "kernelspec": {
   "display_name": "NCSA-workflow-dev",
   "language": "python",
   "name": "python3"
  },
  "language_info": {
   "codemirror_mode": {
    "name": "ipython",
    "version": 3
   },
   "file_extension": ".py",
   "mimetype": "text/x-python",
   "name": "python",
   "nbconvert_exporter": "python",
   "pygments_lexer": "ipython3",
   "version": "3.10.11"
  },
  "orig_nbformat": 4
 },
 "nbformat": 4,
 "nbformat_minor": 2
}
