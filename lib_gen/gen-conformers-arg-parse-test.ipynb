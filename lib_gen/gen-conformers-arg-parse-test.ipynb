{
 "cells": [
  {
   "cell_type": "code",
   "execution_count": 1,
   "metadata": {},
   "outputs": [],
   "source": [
    "import generate_conformers as gc\n",
    "import os\n",
    "import molli as ml\n",
    "import molli.external._rdkit as _rdkit\n",
    "from pathlib import Path"
   ]
  },
  {
   "cell_type": "code",
   "execution_count": 4,
   "metadata": {},
   "outputs": [],
   "source": [
    "import subprocess"
   ]
  },
  {
   "cell_type": "code",
   "execution_count": 5,
   "metadata": {},
   "outputs": [
    {
     "data": {
      "text/plain": [
       "CompletedProcess(args=['python', 'conformer_parse.py', '--file', '../../in_combinatorial/combinatorial_lib.mlib', '-p', '100', '-n', 'quick', '-o', '../../out_conformers1/conformers-cmd-test.mlib', '-t'], returncode=0)"
      ]
     },
     "execution_count": 5,
     "metadata": {},
     "output_type": "execute_result"
    }
   ],
   "source": [
    "subprocess.run(['python', 'conformer_parse.py', '--file', '../../in_combinatorial/combinatorial_lib.mlib', '-p',\n",
    "                '100', '-n', 'quick', '-o', '../../out_conformers1/conformers-cmd-test.mlib', '-t'])"
   ]
  },
  {
   "cell_type": "code",
   "execution_count": 6,
   "metadata": {},
   "outputs": [
    {
     "data": {
      "text/plain": [
       "75"
      ]
     },
     "execution_count": 6,
     "metadata": {},
     "output_type": "execute_result"
    }
   ],
   "source": [
    "clib = ml.ConformerLibrary('../../out_conformers1/conformers-cmd-test.mlib')\n",
    "len(clib)"
   ]
  },
  {
   "cell_type": "code",
   "execution_count": 7,
   "metadata": {},
   "outputs": [
    {
     "name": "stdout",
     "output_type": "stream",
     "text": [
      "ConformerEnsemble(name='1_3', formula='C16 H26 Br2 N2 O2', n_conformers=30)\n",
      "ConformerEnsemble(name='1_2', formula='C14 H22 Br2 N2 O2', n_conformers=10)\n",
      "ConformerEnsemble(name='1_1', formula='C18 H30 Br2 N2 O2', n_conformers=10)\n",
      "ConformerEnsemble(name='1_4', formula='C12 H18 Br2 N2 O2', n_conformers=10)\n",
      "ConformerEnsemble(name='1_5', formula='C22 H34 Br2 N2 O2', n_conformers=8)\n",
      "ConformerEnsemble(name='1_11', formula='C22 H22 Br2 N2 O2', n_conformers=10)\n",
      "ConformerEnsemble(name='1_12', formula='C26 H30 Br2 N2 O2', n_conformers=30)\n",
      "ConformerEnsemble(name='1_14', formula='C30 H38 Br2 N2 O2', n_conformers=10)\n",
      "ConformerEnsemble(name='1_13', formula='C26 H18 Br2 F12 N2 O2', n_conformers=10)\n",
      "ConformerEnsemble(name='1_15', formula='C24 H26 Br2 N2 O2', n_conformers=10)\n",
      "ConformerEnsemble(name='1_8', formula='C28 H22 Br2 F12 N2 O2', n_conformers=10)\n",
      "ConformerEnsemble(name='1_7', formula='C28 H34 Br2 N2 O2', n_conformers=30)\n",
      "ConformerEnsemble(name='1_6', formula='C24 H26 Br2 N2 O2', n_conformers=10)\n",
      "ConformerEnsemble(name='1_10', formula='C26 H30 Br2 N2 O2', n_conformers=30)\n",
      "ConformerEnsemble(name='1_9', formula='C32 H42 Br2 N2 O2', n_conformers=10)\n",
      "ConformerEnsemble(name='2_3', formula='C20 H34 Br2 N2 O2', n_conformers=30)\n",
      "ConformerEnsemble(name='2_2', formula='C18 H30 Br2 N2 O2', n_conformers=30)\n",
      "ConformerEnsemble(name='2_1', formula='C22 H38 Br2 N2 O2', n_conformers=10)\n",
      "ConformerEnsemble(name='2_4', formula='C16 H26 Br2 N2 O2', n_conformers=30)\n",
      "ConformerEnsemble(name='2_5', formula='C26 H42 Br2 N2 O2', n_conformers=17)\n",
      "ConformerEnsemble(name='2_11', formula='C26 H30 Br2 N2 O2', n_conformers=30)\n",
      "ConformerEnsemble(name='2_12', formula='C30 H38 Br2 N2 O2', n_conformers=30)\n",
      "ConformerEnsemble(name='2_14', formula='C34 H46 Br2 N2 O2', n_conformers=30)\n",
      "ConformerEnsemble(name='2_13', formula='C30 H26 Br2 F12 N2 O2', n_conformers=30)\n",
      "ConformerEnsemble(name='2_15', formula='C28 H34 Br2 N2 O2', n_conformers=30)\n",
      "ConformerEnsemble(name='2_8', formula='C32 H30 Br2 F12 N2 O2', n_conformers=29)\n",
      "ConformerEnsemble(name='2_7', formula='C32 H42 Br2 N2 O2', n_conformers=28)\n",
      "ConformerEnsemble(name='2_6', formula='C28 H34 Br2 N2 O2', n_conformers=25)\n",
      "ConformerEnsemble(name='2_10', formula='C30 H38 Br2 N2 O2', n_conformers=26)\n",
      "ConformerEnsemble(name='2_9', formula='C36 H50 Br2 N2 O2', n_conformers=26)\n",
      "ConformerEnsemble(name='3_3', formula='C22 H38 Br2 N2 O2', n_conformers=22)\n",
      "ConformerEnsemble(name='3_2', formula='C20 H34 Br2 N2 O2', n_conformers=28)\n",
      "ConformerEnsemble(name='3_1', formula='C24 H42 Br2 N2 O2', n_conformers=11)\n",
      "ConformerEnsemble(name='3_4', formula='C18 H30 Br2 N2 O2', n_conformers=30)\n",
      "ConformerEnsemble(name='3_5', formula='C28 H46 Br2 N2 O2', n_conformers=14)\n",
      "ConformerEnsemble(name='3_11', formula='C28 H34 Br2 N2 O2', n_conformers=27)\n",
      "ConformerEnsemble(name='3_12', formula='C32 H42 Br2 N2 O2', n_conformers=27)\n",
      "ConformerEnsemble(name='3_14', formula='C36 H50 Br2 N2 O2', n_conformers=20)\n",
      "ConformerEnsemble(name='3_13', formula='C32 H30 Br2 F12 N2 O2', n_conformers=23)\n",
      "ConformerEnsemble(name='3_15', formula='C30 H38 Br2 N2 O2', n_conformers=28)\n",
      "ConformerEnsemble(name='3_8', formula='C34 H34 Br2 F12 N2 O2', n_conformers=27)\n",
      "ConformerEnsemble(name='3_7', formula='C34 H46 Br2 N2 O2', n_conformers=25)\n",
      "ConformerEnsemble(name='3_6', formula='C30 H38 Br2 N2 O2', n_conformers=18)\n",
      "ConformerEnsemble(name='3_10', formula='C32 H42 Br2 N2 O2', n_conformers=21)\n",
      "ConformerEnsemble(name='3_9', formula='C38 H54 Br2 N2 O2', n_conformers=19)\n",
      "ConformerEnsemble(name='4_3', formula='C22 H38 Br2 N2 O2', n_conformers=27)\n",
      "ConformerEnsemble(name='4_2', formula='C20 H34 Br2 N2 O2', n_conformers=30)\n",
      "ConformerEnsemble(name='4_1', formula='C24 H42 Br2 N2 O2', n_conformers=25)\n",
      "ConformerEnsemble(name='4_4', formula='C18 H30 Br2 N2 O2', n_conformers=30)\n",
      "ConformerEnsemble(name='4_5', formula='C28 H46 Br2 N2 O2', n_conformers=22)\n",
      "ConformerEnsemble(name='4_11', formula='C28 H34 Br2 N2 O2', n_conformers=30)\n",
      "ConformerEnsemble(name='4_12', formula='C32 H42 Br2 N2 O2', n_conformers=30)\n",
      "ConformerEnsemble(name='4_14', formula='C36 H50 Br2 N2 O2', n_conformers=30)\n",
      "ConformerEnsemble(name='4_13', formula='C32 H30 Br2 F12 N2 O2', n_conformers=30)\n",
      "ConformerEnsemble(name='4_15', formula='C30 H38 Br2 N2 O2', n_conformers=30)\n",
      "ConformerEnsemble(name='4_8', formula='C34 H34 Br2 F12 N2 O2', n_conformers=29)\n",
      "ConformerEnsemble(name='4_7', formula='C34 H46 Br2 N2 O2', n_conformers=28)\n",
      "ConformerEnsemble(name='4_6', formula='C30 H38 Br2 N2 O2', n_conformers=29)\n",
      "ConformerEnsemble(name='4_10', formula='C32 H42 Br2 N2 O2', n_conformers=29)\n",
      "ConformerEnsemble(name='4_9', formula='C38 H54 Br2 N2 O2', n_conformers=22)\n",
      "ConformerEnsemble(name='5_3', formula='C40 H42 Br2 N2 O2', n_conformers=16)\n",
      "ConformerEnsemble(name='5_2', formula='C38 H38 Br2 N2 O2', n_conformers=25)\n",
      "ConformerEnsemble(name='5_1', formula='C42 H46 Br2 N2 O2', n_conformers=2)\n",
      "ConformerEnsemble(name='5_4', formula='C36 H34 Br2 N2 O2', n_conformers=30)\n",
      "ConformerEnsemble(name='5_5', formula='C46 H50 Br2 N2 O2', n_conformers=7)\n",
      "ConformerEnsemble(name='5_11', formula='C46 H38 Br2 N2 O2', n_conformers=24)\n",
      "ConformerEnsemble(name='5_12', formula='C50 H46 Br2 N2 O2', n_conformers=23)\n",
      "ConformerEnsemble(name='5_14', formula='C54 H54 Br2 N2 O2', n_conformers=17)\n",
      "ConformerEnsemble(name='5_13', formula='C50 H34 Br2 F12 N2 O2', n_conformers=20)\n",
      "ConformerEnsemble(name='5_15', formula='C48 H42 Br2 N2 O2', n_conformers=25)\n",
      "ConformerEnsemble(name='5_8', formula='C52 H38 Br2 F12 N2 O2', n_conformers=27)\n",
      "ConformerEnsemble(name='5_7', formula='C52 H50 Br2 N2 O2', n_conformers=18)\n",
      "ConformerEnsemble(name='5_6', formula='C48 H42 Br2 N2 O2', n_conformers=16)\n",
      "ConformerEnsemble(name='5_10', formula='C50 H46 Br2 N2 O2', n_conformers=18)\n",
      "ConformerEnsemble(name='5_9', formula='C56 H58 Br2 N2 O2', n_conformers=19)\n",
      "1677 total conformers in library\n"
     ]
    }
   ],
   "source": [
    "cf = 0\n",
    "for i in clib:\n",
    "    print(i)\n",
    "    cf += i.n_conformers\n",
    "print(str(cf) + ' total conformers in library')"
   ]
  },
  {
   "cell_type": "code",
   "execution_count": null,
   "metadata": {},
   "outputs": [],
   "source": []
  }
 ],
 "metadata": {
  "kernelspec": {
   "display_name": "NCSA-workflow-dev",
   "language": "python",
   "name": "python3"
  },
  "language_info": {
   "codemirror_mode": {
    "name": "ipython",
    "version": 3
   },
   "file_extension": ".py",
   "mimetype": "text/x-python",
   "name": "python",
   "nbconvert_exporter": "python",
   "pygments_lexer": "ipython3",
   "version": "3.10.11"
  },
  "orig_nbformat": 4
 },
 "nbformat": 4,
 "nbformat_minor": 2
}
