{
 "cells": [
  {
   "cell_type": "code",
   "execution_count": 1,
   "metadata": {},
   "outputs": [],
   "source": [
    "import generate_conformers as gc\n",
    "import os\n",
    "import molli as ml\n",
    "import molli.external._rdkit as _rdkit"
   ]
  },
  {
   "cell_type": "code",
   "execution_count": 2,
   "metadata": {},
   "outputs": [],
   "source": [
    "out_dir = './out_conformers1/'\n",
    "in_dir = './in_combinatorial/combinatorial_lib.mlib'"
   ]
  },
  {
   "cell_type": "code",
   "execution_count": 3,
   "metadata": {},
   "outputs": [],
   "source": [
    "from multiprocessing import Pool"
   ]
  },
  {
   "cell_type": "code",
   "execution_count": 4,
   "metadata": {},
   "outputs": [
    {
     "data": {
      "text/plain": [
       "75"
      ]
     },
     "execution_count": 4,
     "metadata": {},
     "output_type": "execute_result"
    }
   ],
   "source": [
    "mlib = ml.MoleculeLibrary(in_dir)\n",
    "len(mlib)"
   ]
  },
  {
   "cell_type": "code",
   "execution_count": 5,
   "metadata": {},
   "outputs": [],
   "source": [
    "ref_mol = mlib[0]\n",
    "reference_dict = _rdkit.create_rdkit_mol(ref_mol)\n",
    "reference_molecule = reference_dict[ref_mol] \n",
    "alignment_atoms = list(gc.get_oxazaline_alignment_atoms(reference_molecule))\n",
    "args = [i for i in zip([reference_molecule for i in range(len(mlib))], mlib, [alignment_atoms for i in range(len(mlib))])]"
   ]
  },
  {
   "cell_type": "code",
   "execution_count": 6,
   "metadata": {},
   "outputs": [
    {
     "name": "stderr",
     "output_type": "stream",
     "text": [
      "/home/ethangm2/NCSA Development/molli/molli/parsing/mol2.py:248: UserWarning: TRIPOS block 'UNITY' is not implemented in current version of MOLLI!. Lines will be skipped.\n",
      "  warn(\n"
     ]
    },
    {
     "name": "stdout",
     "output_type": "stream",
     "text": [
      "Success!\n",
      "Time elapsed: 638.155611038208 s with 100 processes\n"
     ]
    }
   ],
   "source": [
    "start = gc.time.time()\n",
    "ensemble = []\n",
    "\n",
    "for arg in args:\n",
    "    ensemble.append(gc.conf_generate(arg, n_confs=10, maxIterations=100))   \n",
    "    \n",
    "clib = ml.ConformerLibrary.new(out_dir + \"conformers-series-test1.mlib\")  \n",
    "with clib:\n",
    "    for m in ensemble:\n",
    "        clib.append(m.name, m)\n",
    "\n",
    "end = gc.time.time()\n",
    "# clib.close()\n",
    "\n",
    "print('Success!')\n",
    "print('Time elapsed: ' + str(end - start) + \" s with 100 processes\")"
   ]
  },
  {
   "cell_type": "code",
   "execution_count": 7,
   "metadata": {},
   "outputs": [
    {
     "data": {
      "text/plain": [
       "75"
      ]
     },
     "execution_count": 7,
     "metadata": {},
     "output_type": "execute_result"
    }
   ],
   "source": [
    "len(clib)"
   ]
  },
  {
   "cell_type": "code",
   "execution_count": 8,
   "metadata": {},
   "outputs": [
    {
     "name": "stderr",
     "output_type": "stream",
     "text": [
      "/home/ethangm2/NCSA Development/molli/molli/parsing/mol2.py:248: UserWarning: TRIPOS block 'UNITY' is not implemented in current version of MOLLI!. Lines will be skipped.\n",
      "  warn(\n"
     ]
    },
    {
     "name": "stdout",
     "output_type": "stream",
     "text": [
      "Success!\n",
      "Time elapsed: 641.7805414199829 s with 100 processes\n"
     ]
    }
   ],
   "source": [
    "start = gc.time.time()\n",
    "ensemble = []\n",
    "\n",
    "for arg in args:\n",
    "    ensemble.append(gc.conf_generate(arg, n_confs=10, maxIterations=1000))   \n",
    "    \n",
    "clib = ml.ConformerLibrary.new(out_dir + \"conformers-series-test2.mlib\")  \n",
    "with clib:\n",
    "    for m in ensemble:\n",
    "        clib.append(m.name, m)\n",
    "\n",
    "end = gc.time.time()\n",
    "# clib.close()\n",
    "\n",
    "print('Success!')\n",
    "print('Time elapsed: ' + str(end - start) + \" s with 100 processes\")"
   ]
  },
  {
   "cell_type": "code",
   "execution_count": 9,
   "metadata": {},
   "outputs": [
    {
     "name": "stdout",
     "output_type": "stream",
     "text": [
      "Success!\n",
      "Time elapsed: 641.5264160633087 s with 100 processes\n"
     ]
    }
   ],
   "source": [
    "start = gc.time.time()\n",
    "ensemble = []\n",
    "\n",
    "for arg in args:\n",
    "    ensemble.append(gc.conf_generate(arg, n_confs=10, maxIterations=10000))   \n",
    "    \n",
    "clib = ml.ConformerLibrary.new(out_dir + \"conformers-series-test3.mlib\")  \n",
    "with clib:\n",
    "    for m in ensemble:\n",
    "        clib.append(m.name, m)\n",
    "\n",
    "end = gc.time.time()\n",
    "\n",
    "print('Success!')\n",
    "print('Time elapsed: ' + str(end - start) + \" s with 100 processes\")"
   ]
  },
  {
   "cell_type": "code",
   "execution_count": 10,
   "metadata": {},
   "outputs": [
    {
     "name": "stderr",
     "output_type": "stream",
     "text": [
      "/home/ethangm2/NCSA Development/molli/molli/parsing/mol2.py:248: UserWarning: TRIPOS block 'UNITY' is not implemented in current version of MOLLI!. Lines will be skipped.\n",
      "  warn(\n"
     ]
    },
    {
     "name": "stdout",
     "output_type": "stream",
     "text": [
      "Success!\n",
      "Time elapsed: 1611.4095129966736 s in series\n"
     ]
    }
   ],
   "source": [
    "start = gc.time.time()\n",
    "ensemble = []\n",
    "\n",
    "for arg in args:\n",
    "    ensemble.append(gc.conf_generate(arg, n_confs=25, maxIterations=10000))   \n",
    "    \n",
    "clib = ml.ConformerLibrary.new(out_dir + \"conformers-series-test4.mlib\")  \n",
    "with clib:\n",
    "    for m in ensemble:\n",
    "        clib.append(m.name, m)\n",
    "\n",
    "end = gc.time.time()\n",
    "\n",
    "print('Success!')\n",
    "print('Time elapsed: ' + str(end - start) + \" s in series\")"
   ]
  }
 ],
 "metadata": {
  "kernelspec": {
   "display_name": "NCSA-workflow-dev",
   "language": "python",
   "name": "python3"
  },
  "language_info": {
   "codemirror_mode": {
    "name": "ipython",
    "version": 3
   },
   "file_extension": ".py",
   "mimetype": "text/x-python",
   "name": "python",
   "nbconvert_exporter": "python",
   "pygments_lexer": "ipython3",
   "version": "3.10.11"
  },
  "orig_nbformat": 4
 },
 "nbformat": 4,
 "nbformat_minor": 2
}
