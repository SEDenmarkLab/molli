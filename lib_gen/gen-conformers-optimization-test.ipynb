{
 "cells": [
  {
   "cell_type": "code",
   "execution_count": 1,
   "metadata": {},
   "outputs": [],
   "source": [
    "import generate_conformers as gc\n",
    "import os\n",
    "import molli as ml\n",
    "import molli.external._rdkit as _rdkit"
   ]
  },
  {
   "cell_type": "code",
   "execution_count": 2,
   "metadata": {},
   "outputs": [],
   "source": [
    "out_dir = './out_conformers1/'\n",
    "in_dir = './in_combinatorial/combinatorial_lib.mlib'"
   ]
  },
  {
   "cell_type": "code",
   "execution_count": 3,
   "metadata": {},
   "outputs": [
    {
     "data": {
      "text/plain": [
       "75"
      ]
     },
     "execution_count": 3,
     "metadata": {},
     "output_type": "execute_result"
    }
   ],
   "source": [
    "mlib = ml.MoleculeLibrary(in_dir)\n",
    "len(mlib)"
   ]
  },
  {
   "cell_type": "code",
   "execution_count": 4,
   "metadata": {},
   "outputs": [],
   "source": [
    "ref_mol = mlib[0]\n",
    "reference_dict = _rdkit.create_rdkit_mol(ref_mol)\n",
    "reference_molecule = reference_dict[ref_mol] \n",
    "alignment_atoms = list(gc.get_oxazaline_alignment_atoms(reference_molecule))\n",
    "args = [i for i in zip([reference_molecule for i in range(len(mlib))], mlib, [alignment_atoms for i in range(len(mlib))])]"
   ]
  },
  {
   "cell_type": "code",
   "execution_count": 5,
   "metadata": {},
   "outputs": [
    {
     "data": {
      "text/plain": [
       "75"
      ]
     },
     "execution_count": 5,
     "metadata": {},
     "output_type": "execute_result"
    }
   ],
   "source": [
    "len(args)"
   ]
  },
  {
   "cell_type": "code",
   "execution_count": 6,
   "metadata": {},
   "outputs": [
    {
     "name": "stdout",
     "output_type": "stream",
     "text": [
      "0.005851030349731445 s for sanitization/CIP labeling/rotatable bond calc\n",
      "7.42597222328186 s for conformer embedding\n",
      "4.64415168762207 s for conformer geometry optimization\n",
      "0.0021338462829589844 s for alignment\n",
      "0.15469622611999512 s for energy calculation\n"
     ]
    },
    {
     "name": "stderr",
     "output_type": "stream",
     "text": [
      "/home/ethangm2/NCSA Development/molli/molli/parsing/mol2.py:248: UserWarning: TRIPOS block 'UNITY' is not implemented in current version of MOLLI!. Lines will be skipped.\n",
      "  warn(\n"
     ]
    },
    {
     "name": "stdout",
     "output_type": "stream",
     "text": [
      "0.22724056243896484 s for creating conformer ensemble\n",
      "0.005208253860473633 s for sanitization/CIP labeling/rotatable bond calc\n",
      "26.367680549621582 s for conformer embedding\n",
      "12.346792936325073 s for conformer geometry optimization\n",
      "0.0026073455810546875 s for alignment\n",
      "0.3119378089904785 s for energy calculation\n",
      "0.2678987979888916 s for creating conformer ensemble\n",
      "0.009117841720581055 s for sanitization/CIP labeling/rotatable bond calc\n",
      "95.23410940170288 s for conformer embedding\n",
      "34.19018340110779 s for conformer geometry optimization\n",
      "0.0023322105407714844 s for alignment\n",
      "0.6013171672821045 s for energy calculation\n",
      "0.27623724937438965 s for creating conformer ensemble\n",
      "Success!\n"
     ]
    }
   ],
   "source": [
    "# altered generate_conformers.py to output time elapsed during each try/catch block to find longest step\n",
    "\n",
    "ensemble = []\n",
    "ensemble.append(gc.conf_generate(args[0]))\n",
    "ensemble.append(gc.conf_generate(args[42]))\n",
    "ensemble.append(gc.conf_generate(args[74])) \n",
    "    \n",
    "clib = ml.ConformerLibrary.new(out_dir + \"conformers-series-test-optim1.mlib\")  \n",
    "with clib:\n",
    "    for m in ensemble:\n",
    "        clib.append(m.name, m)\n",
    "\n",
    "print('Success!')"
   ]
  },
  {
   "attachments": {},
   "cell_type": "markdown",
   "metadata": {},
   "source": [
    "Conformer embedding and geometry optimization are clearly the most intensive, with embedding being the most"
   ]
  },
  {
   "cell_type": "code",
   "execution_count": 6,
   "metadata": {},
   "outputs": [
    {
     "name": "stdout",
     "output_type": "stream",
     "text": [
      "5.137649297714233 s for conformer embedding\n",
      "3.1439640522003174 s for conformer geometry optimization\n"
     ]
    },
    {
     "name": "stderr",
     "output_type": "stream",
     "text": [
      "/home/ethangm2/NCSA Development/molli/molli/parsing/mol2.py:248: UserWarning: TRIPOS block 'UNITY' is not implemented in current version of MOLLI!. Lines will be skipped.\n",
      "  warn(\n"
     ]
    },
    {
     "name": "stdout",
     "output_type": "stream",
     "text": [
      "17.664687156677246 s for conformer embedding\n",
      "8.485920429229736 s for conformer geometry optimization\n",
      "63.17468547821045 s for conformer embedding\n",
      "22.5931978225708 s for conformer geometry optimization\n"
     ]
    }
   ],
   "source": [
    "# test done again, this time limiting upper value of n_confs to 100 in case of >= 8 rotatable bonds\n",
    "\n",
    "ensemble = []\n",
    "ensemble.append(gc.conf_generate(args[0]))\n",
    "ensemble.append(gc.conf_generate(args[42]))\n",
    "ensemble.append(gc.conf_generate(args[74])) "
   ]
  },
  {
   "cell_type": "code",
   "execution_count": 7,
   "metadata": {},
   "outputs": [
    {
     "data": {
      "text/plain": [
       "0.6669441207480161"
      ]
     },
     "execution_count": 7,
     "metadata": {},
     "output_type": "execute_result"
    }
   ],
   "source": [
    "(5.14 + 3.14 + 17.66 + 8.49 + 63.17 + 22.59) / (7.43 + 4.64 + 26.37 + 12.35 + 95.23 + 34.19)"
   ]
  },
  {
   "attachments": {},
   "cell_type": "markdown",
   "metadata": {},
   "source": [
    "Limiting the upper bound of n_confs decreases time by approximately 33%"
   ]
  },
  {
   "cell_type": "code",
   "execution_count": 6,
   "metadata": {},
   "outputs": [
    {
     "name": "stderr",
     "output_type": "stream",
     "text": [
      "/home/ethangm2/NCSA Development/molli/molli/parsing/mol2.py:248: UserWarning: TRIPOS block 'UNITY' is not implemented in current version of MOLLI!. Lines will be skipped.\n",
      "  warn(\n"
     ]
    },
    {
     "name": "stdout",
     "output_type": "stream",
     "text": [
      "Success!\n",
      "Time elapsed: 227.8221480846405 s in series\n"
     ]
    },
    {
     "name": "stderr",
     "output_type": "stream",
     "text": [
      "/home/ethangm2/NCSA Development/molli/molli/storage/library.py:95: UserWarning: Requested path was not available. New file name: out_conformers1/conformers-series-test4___001.mlib\n",
      "  warn(f\"Requested path was not available. New file name: {_path}\")\n"
     ]
    }
   ],
   "source": [
    "# setting n_confs to 10 and changed generate_conformers.py so that upper bound equal to lower bound\n",
    "\n",
    "start = gc.time.time()\n",
    "ensemble = []\n",
    "\n",
    "for arg in args:\n",
    "    ensemble.append(gc.conf_generate(arg, n_confs=10, maxIterations=10000))   \n",
    "    \n",
    "clib = ml.ConformerLibrary.new(out_dir + \"conformers-series-test4.mlib\")  \n",
    "with clib:\n",
    "    for m in ensemble:\n",
    "        clib.append(m.name, m)\n",
    "\n",
    "end = gc.time.time()\n",
    "\n",
    "print('Success!')\n",
    "print('Time elapsed: ' + str(end - start) + \" s in series\")"
   ]
  },
  {
   "cell_type": "code",
   "execution_count": 12,
   "metadata": {},
   "outputs": [
    {
     "name": "stdout",
     "output_type": "stream",
     "text": [
      "Success!\n",
      "Time elapsed: 233.58889365196228 s in series\n"
     ]
    }
   ],
   "source": [
    "# setting n_confs to 10 and changed generate_conformers.py so that upper bound equal to 2 * lower bound (REDO)\n",
    "\n",
    "start = gc.time.time()\n",
    "ensemble = []\n",
    "\n",
    "for arg in args:\n",
    "    ensemble.append(gc.conf_generate(arg, n_confs=10, maxIterations=10000))   \n",
    "    \n",
    "clib = ml.ConformerLibrary.new(out_dir + \"conformers-series-test6.mlib\")  \n",
    "with clib:\n",
    "    for m in ensemble:\n",
    "        clib.append(m.name, m)\n",
    "\n",
    "end = gc.time.time()\n",
    "\n",
    "print('Success!')\n",
    "print('Time elapsed: ' + str(end - start) + \" s in series\")"
   ]
  },
  {
   "cell_type": "code",
   "execution_count": 6,
   "metadata": {},
   "outputs": [
    {
     "name": "stderr",
     "output_type": "stream",
     "text": [
      "/home/ethangm2/NCSA Development/molli/molli/parsing/mol2.py:248: UserWarning: TRIPOS block 'UNITY' is not implemented in current version of MOLLI!. Lines will be skipped.\n",
      "  warn(\n"
     ]
    },
    {
     "name": "stdout",
     "output_type": "stream",
     "text": [
      "Success!\n",
      "Time elapsed: 230.9695165157318 s in series\n"
     ]
    },
    {
     "name": "stderr",
     "output_type": "stream",
     "text": [
      "/home/ethangm2/NCSA Development/molli/molli/storage/library.py:95: UserWarning: Requested path was not available. New file name: out_conformers1/conformers-series-test6___001.mlib\n",
      "  warn(f\"Requested path was not available. New file name: {_path}\")\n"
     ]
    }
   ],
   "source": [
    "# setting n_confs to 10 and changed generate_conformers.py so that upper bound equal to lower bound\n",
    "\n",
    "start = gc.time.time()\n",
    "ensemble = []\n",
    "\n",
    "for arg in args:\n",
    "    ensemble.append(gc.conf_generate(arg, n_confs=10, maxIterations=10000))   \n",
    "    \n",
    "clib = ml.ConformerLibrary.new(out_dir + \"conformers-series-test6.mlib\")  \n",
    "with clib:\n",
    "    for m in ensemble:\n",
    "        clib.append(m.name, m)\n",
    "\n",
    "end = gc.time.time()\n",
    "\n",
    "print('Success!')\n",
    "print('Time elapsed: ' + str(end - start) + \" s in series\")"
   ]
  },
  {
   "cell_type": "code",
   "execution_count": 6,
   "metadata": {},
   "outputs": [
    {
     "name": "stderr",
     "output_type": "stream",
     "text": [
      "/home/ethangm2/NCSA Development/molli/molli/parsing/mol2.py:248: UserWarning: TRIPOS block 'UNITY' is not implemented in current version of MOLLI!. Lines will be skipped.\n",
      "  warn(\n"
     ]
    },
    {
     "name": "stdout",
     "output_type": "stream",
     "text": [
      "Success!\n",
      "Time elapsed: 433.7960510253906 s in series\n"
     ]
    },
    {
     "name": "stderr",
     "output_type": "stream",
     "text": [
      "/home/ethangm2/NCSA Development/molli/molli/storage/library.py:95: UserWarning: Requested path was not available. New file name: out_conformers1/conformers-series-test6___002.mlib\n",
      "  warn(f\"Requested path was not available. New file name: {_path}\")\n"
     ]
    }
   ],
   "source": [
    "# setting n_confs to 10 and changed generate_conformers.py so that upper bound equal to 2 * lower bound\n",
    "\n",
    "start = gc.time.time()\n",
    "ensemble = []\n",
    "\n",
    "for arg in args:\n",
    "    ensemble.append(gc.conf_generate(arg, n_confs=10, maxIterations=10000))   \n",
    "    \n",
    "clib = ml.ConformerLibrary.new(out_dir + \"conformers-series-test6.mlib\")  \n",
    "with clib:\n",
    "    for m in ensemble:\n",
    "        clib.append(m.name, m)\n",
    "\n",
    "end = gc.time.time()\n",
    "\n",
    "print('Success!')\n",
    "print('Time elapsed: ' + str(end - start) + \" s in series\")"
   ]
  },
  {
   "cell_type": "code",
   "execution_count": 6,
   "metadata": {},
   "outputs": [
    {
     "name": "stderr",
     "output_type": "stream",
     "text": [
      "/home/ethangm2/NCSA Development/molli/molli/parsing/mol2.py:248: UserWarning: TRIPOS block 'UNITY' is not implemented in current version of MOLLI!. Lines will be skipped.\n",
      "  warn(\n"
     ]
    },
    {
     "name": "stdout",
     "output_type": "stream",
     "text": [
      "Success!\n",
      "Time elapsed: 1146.4534866809845 s in series\n"
     ]
    },
    {
     "name": "stderr",
     "output_type": "stream",
     "text": [
      "/home/ethangm2/NCSA Development/molli/molli/storage/library.py:95: UserWarning: Requested path was not available. New file name: out_conformers1/conformers-series-test6___003.mlib\n",
      "  warn(f\"Requested path was not available. New file name: {_path}\")\n"
     ]
    }
   ],
   "source": [
    "# setting n_confs to 50 and changed generate_conformers.py so that upper bound equal lower bound\n",
    "\n",
    "start = gc.time.time()\n",
    "ensemble = []\n",
    "\n",
    "for arg in args:\n",
    "    ensemble.append(gc.conf_generate(arg, n_confs=50, maxIterations=10000))   \n",
    "    \n",
    "clib = ml.ConformerLibrary.new(out_dir + \"conformers-series-test6.mlib\")  \n",
    "with clib:\n",
    "    for m in ensemble:\n",
    "        clib.append(m.name, m)\n",
    "\n",
    "end = gc.time.time()\n",
    "\n",
    "print('Success!')\n",
    "print('Time elapsed: ' + str(end - start) + \" s in series\")"
   ]
  },
  {
   "cell_type": "code",
   "execution_count": 6,
   "metadata": {},
   "outputs": [
    {
     "name": "stderr",
     "output_type": "stream",
     "text": [
      "/home/ethangm2/NCSA Development/molli/molli/parsing/mol2.py:248: UserWarning: TRIPOS block 'UNITY' is not implemented in current version of MOLLI!. Lines will be skipped.\n",
      "  warn(\n"
     ]
    },
    {
     "name": "stdout",
     "output_type": "stream",
     "text": [
      "Success!\n",
      "Time elapsed: 571.8162560462952 s in series\n"
     ]
    }
   ],
   "source": [
    "# setting n_confs to 25 and changed generate_conformers.py so that upper bound equal lower bound\n",
    "start = gc.time.time()\n",
    "ensemble = []\n",
    "\n",
    "for arg in args:\n",
    "    ensemble.append(gc.conf_generate(arg, n_confs=25, maxIterations=10000))   \n",
    "    \n",
    "clib = ml.ConformerLibrary.new(out_dir + \"conformers-series-test7.mlib\")  \n",
    "with clib:\n",
    "    for m in ensemble:\n",
    "        clib.append(m.name, m)\n",
    "\n",
    "end = gc.time.time()\n",
    "\n",
    "print('Success!')\n",
    "print('Time elapsed: ' + str(end - start) + \" s in series\")"
   ]
  }
 ],
 "metadata": {
  "kernelspec": {
   "display_name": "Python 3.10.11 ('NCSA-workflow-dev')",
   "language": "python",
   "name": "python3"
  },
  "language_info": {
   "codemirror_mode": {
    "name": "ipython",
    "version": 3
   },
   "file_extension": ".py",
   "mimetype": "text/x-python",
   "name": "python",
   "nbconvert_exporter": "python",
   "pygments_lexer": "ipython3",
   "version": "3.10.11"
  },
  "orig_nbformat": 4,
  "vscode": {
   "interpreter": {
    "hash": "73e3a8725a473619bf2415d4448f1c7be0e01084a07194a821fc61f9a1b9af3b"
   }
  }
 },
 "nbformat": 4,
 "nbformat_minor": 2
}
