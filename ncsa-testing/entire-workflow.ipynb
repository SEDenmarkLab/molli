{
 "cells": [
  {
   "attachments": {},
   "cell_type": "markdown",
   "metadata": {},
   "source": [
    "To-Do: entire workflow\n",
    "chemdraw parse -> combinatorial expansion -> conformer generation -> aso description -> post-processing/dimension-reduction/analysis -> plot/output data"
   ]
  },
  {
   "attachments": {},
   "cell_type": "markdown",
   "metadata": {},
   "source": [
    "1. ChemDraw Parsing"
   ]
  },
  {
   "cell_type": "code",
   "execution_count": 25,
   "metadata": {},
   "outputs": [],
   "source": [
    "import molli as ml\n",
    "import molli.visual\n",
    "import subprocess"
   ]
  },
  {
   "cell_type": "code",
   "execution_count": 26,
   "metadata": {},
   "outputs": [],
   "source": [
    "cores = ml.files.box_cores_test_1\n",
    "subs = ml.files.box_substituents_test_1"
   ]
  },
  {
   "cell_type": "code",
   "execution_count": 27,
   "metadata": {},
   "outputs": [
    {
     "name": "stderr",
     "output_type": "stream",
     "text": [
      "100%|██████████| 5/5 [00:00<00:00, 87.27it/s]\n",
      "100%|██████████| 15/15 [00:00<00:00, 316.75it/s]\n"
     ]
    },
    {
     "data": {
      "text/plain": [
       "CompletedProcess(args=['molli', 'parse', '--hadd', '/home/colen2/NCSA-workflow-new/molli/molli/files/BOX_substituents_test_1.cdxml', '-o', '../ncsa-testing/ncsa-testing-data/BOX_subs_new_env.mlib'], returncode=0)"
      ]
     },
     "execution_count": 27,
     "metadata": {},
     "output_type": "execute_result"
    }
   ],
   "source": [
    "subprocess.run(['molli', 'parse', '--hadd', f'{cores}', '-o', '../ncsa-testing/ncsa-testing-data/BOX_cores_new_env.mlib'])\n",
    "subprocess.run(['molli', 'parse', '--hadd', f'{subs}', '-o', '../ncsa-testing/ncsa-testing-data/BOX_subs_new_env.mlib'])"
   ]
  },
  {
   "cell_type": "code",
   "execution_count": 28,
   "metadata": {},
   "outputs": [
    {
     "name": "stdout",
     "output_type": "stream",
     "text": [
      "5\n"
     ]
    },
    {
     "data": {
      "text/plain": [
       "Molecule(name='1', formula='C10 H12 Br2 N2 O2 Unknown2')"
      ]
     },
     "execution_count": 28,
     "metadata": {},
     "output_type": "execute_result"
    }
   ],
   "source": [
    "m_core = ml.MoleculeLibrary('ncsa-testing-data/BOX_cores_new_env.mlib')\n",
    "print(len(m_core))\n",
    "m_core[0]"
   ]
  },
  {
   "cell_type": "code",
   "execution_count": 29,
   "metadata": {},
   "outputs": [
    {
     "name": "stdout",
     "output_type": "stream",
     "text": [
      "15\n"
     ]
    },
    {
     "data": {
      "text/plain": [
       "Molecule(name='3', formula='C3 H7 Unknown1')"
      ]
     },
     "execution_count": 29,
     "metadata": {},
     "output_type": "execute_result"
    }
   ],
   "source": [
    "m_subs = ml.MoleculeLibrary('ncsa-testing-data/BOX_subs_new_env.mlib')\n",
    "print(len(m_subs))\n",
    "m_subs[0]"
   ]
  },
  {
   "attachments": {},
   "cell_type": "markdown",
   "metadata": {},
   "source": [
    "2. Combinatorial Expansion"
   ]
  },
  {
   "cell_type": "code",
   "execution_count": 30,
   "metadata": {},
   "outputs": [
    {
     "name": "stdout",
     "output_type": "stream",
     "text": [
      "Will create a library of size 75\n"
     ]
    },
    {
     "name": "stderr",
     "output_type": "stream",
     "text": [
      "100%|██████████| 75/75 [00:02<00:00, 34.69it/s]\n"
     ]
    },
    {
     "data": {
      "text/plain": [
       "CompletedProcess(args=['molli', 'combine', 'ncsa-testing-data/BOX_cores_new_env.mlib', '-s', 'ncsa-testing-data/BOX_subs_new_env.mlib', '-j', '96', '-o', 'ncsa-testing-data/test_combine_new_env.mlib', '-a', 'A1', '--obopt', 'uff', '-m', 'same'], returncode=0)"
      ]
     },
     "execution_count": 30,
     "metadata": {},
     "output_type": "execute_result"
    }
   ],
   "source": [
    "subprocess.run(\n",
    "    [\n",
    "        'molli',\n",
    "        'combine',\n",
    "        'ncsa-testing-data/BOX_cores_new_env.mlib',\n",
    "        '-s',\n",
    "        'ncsa-testing-data/BOX_subs_new_env.mlib',\n",
    "        '-j',\n",
    "        '96', \n",
    "        '-o', \n",
    "        'ncsa-testing-data/test_combine_new_env.mlib', \n",
    "        '-a', \n",
    "        'A1', \n",
    "        '--obopt', \n",
    "        'uff',\n",
    "        '-m',\n",
    "        'same'\n",
    "    ]\n",
    ")\n"
   ]
  },
  {
   "cell_type": "code",
   "execution_count": 31,
   "metadata": {},
   "outputs": [
    {
     "name": "stdout",
     "output_type": "stream",
     "text": [
      "75\n"
     ]
    },
    {
     "data": {
      "text/plain": [
       "Molecule(name='1_3_3', formula='C16 H26 Br2 N2 O2')"
      ]
     },
     "execution_count": 31,
     "metadata": {},
     "output_type": "execute_result"
    }
   ],
   "source": [
    "combined = ml.MoleculeLibrary('ncsa-testing-data/test_combine_new_env.mlib')\n",
    "print(len(combined))\n",
    "combined[0]"
   ]
  },
  {
   "cell_type": "code",
   "execution_count": 32,
   "metadata": {},
   "outputs": [
    {
     "data": {
      "text/plain": [
       "Molecule(name='3_6_6', formula='C30 H38 Br2 N2 O2')"
      ]
     },
     "execution_count": 32,
     "metadata": {},
     "output_type": "execute_result"
    }
   ],
   "source": [
    "combined[42]"
   ]
  },
  {
   "attachments": {},
   "cell_type": "markdown",
   "metadata": {},
   "source": [
    "3. Conformer Generation"
   ]
  },
  {
   "cell_type": "code",
   "execution_count": 33,
   "metadata": {},
   "outputs": [
    {
     "name": "stderr",
     "output_type": "stream",
     "text": [
      "100%|██████████| 75/75 [02:11<00:00,  1.76s/it]\n"
     ]
    },
    {
     "data": {
      "text/plain": [
       "CompletedProcess(args=['molli', 'conformers', 'ncsa-testing-data/test_combine_new_env.mlib', '-n', '50', '-o', 'ncsa-testing-data/test_conformers_new_env.mlib', '-t', '-p', '100'], returncode=0)"
      ]
     },
     "execution_count": 33,
     "metadata": {},
     "output_type": "execute_result"
    }
   ],
   "source": [
    "subprocess.run(['molli', \n",
    "                'conformers', \n",
    "                'ncsa-testing-data/test_combine_new_env.mlib', \n",
    "                '-n', \n",
    "                '50', \n",
    "                '-o', \n",
    "                'ncsa-testing-data/test_conformers_new_env.mlib', \n",
    "                '-t', \n",
    "                '-p', \n",
    "                '100'])"
   ]
  },
  {
   "cell_type": "code",
   "execution_count": 34,
   "metadata": {},
   "outputs": [
    {
     "name": "stdout",
     "output_type": "stream",
     "text": [
      "75\n"
     ]
    }
   ],
   "source": [
    "clib = ml.ConformerLibrary('ncsa-testing-data/test_conformers_new_env.mlib')\n",
    "print(len(clib))"
   ]
  },
  {
   "cell_type": "code",
   "execution_count": 35,
   "metadata": {},
   "outputs": [
    {
     "name": "stdout",
     "output_type": "stream",
     "text": [
      "8028 conformers in library\n"
     ]
    }
   ],
   "source": [
    "i = 0\n",
    "for conf in clib:\n",
    "    i += conf.n_conformers\n",
    "    # print(conf)\n",
    "print(str(i) + ' conformers in library')"
   ]
  },
  {
   "cell_type": "code",
   "execution_count": 36,
   "metadata": {},
   "outputs": [
    {
     "data": {
      "text/plain": [
       "Conformer(name='1_3_3', formula='C16 H26 Br2 N2 O2')"
      ]
     },
     "execution_count": 36,
     "metadata": {},
     "output_type": "execute_result"
    }
   ],
   "source": [
    "clib[0][0]"
   ]
  },
  {
   "cell_type": "code",
   "execution_count": 37,
   "metadata": {},
   "outputs": [
    {
     "data": {
      "text/plain": [
       "Conformer(name='1_3_3', formula='C16 H26 Br2 N2 O2')"
      ]
     },
     "execution_count": 37,
     "metadata": {},
     "output_type": "execute_result"
    }
   ],
   "source": [
    "clib[0][1]"
   ]
  },
  {
   "cell_type": "code",
   "execution_count": 38,
   "metadata": {},
   "outputs": [
    {
     "data": {
      "text/plain": [
       "Conformer(name='3_6_6', formula='C30 H38 Br2 N2 O2')"
      ]
     },
     "execution_count": 38,
     "metadata": {},
     "output_type": "execute_result"
    }
   ],
   "source": [
    "clib[42][0]"
   ]
  },
  {
   "cell_type": "code",
   "execution_count": 39,
   "metadata": {},
   "outputs": [
    {
     "data": {
      "text/plain": [
       "Conformer(name='3_6_6', formula='C30 H38 Br2 N2 O2')"
      ]
     },
     "execution_count": 39,
     "metadata": {},
     "output_type": "execute_result"
    }
   ],
   "source": [
    "clib[42][24]"
   ]
  },
  {
   "attachments": {},
   "cell_type": "markdown",
   "metadata": {},
   "source": [
    "3.5. Create grid"
   ]
  },
  {
   "cell_type": "code",
   "execution_count": 40,
   "metadata": {},
   "outputs": [
    {
     "name": "stdout",
     "output_type": "stream",
     "text": [
      "(7106, 3)\n"
     ]
    },
    {
     "name": "stderr",
     "output_type": "stream",
     "text": [
      "100%|██████████| 75/75 [00:00<00:00, 1621.84it/s]\n"
     ]
    },
    {
     "data": {
      "text/plain": [
       "CompletedProcess(args=['molli', 'grid', '--mlib', 'ncsa-testing-data/test_conformers_new_env.mlib', '-o', 'ncsa-testing-data/grid_new_env.npy'], returncode=0)"
      ]
     },
     "execution_count": 40,
     "metadata": {},
     "output_type": "execute_result"
    }
   ],
   "source": [
    "subprocess.run(['molli', \n",
    "                'grid', \n",
    "                '--mlib', \n",
    "                'ncsa-testing-data/test_conformers_new_env.mlib', \n",
    "                '-o', \n",
    "                'ncsa-testing-data/grid_new_env.npy'\n",
    "                ])"
   ]
  },
  {
   "attachments": {},
   "cell_type": "markdown",
   "metadata": {},
   "source": [
    "4. ASO description of molecules"
   ]
  },
  {
   "cell_type": "code",
   "execution_count": 41,
   "metadata": {},
   "outputs": [
    {
     "name": "stdout",
     "output_type": "stream",
     "text": [
      "Allocating storage for descriptors\n",
      "Will compute descriptor ASO using 128 cores.\n",
      "Grid shape: (7106, 3)\n"
     ]
    },
    {
     "name": "stderr",
     "output_type": "stream",
     "text": [
      "Loading batches of conformers: 0it [00:00, ?it/s]\n",
      "Submitting calculations:   0%|          | 0/75 [00:00<?, ?it/s]\u001b[A\n",
      "                                                               \u001b[A\n",
      "\n",
      "Gathering calculation results:   0%|          | 0/75 [00:00<?, ?it/s]\u001b[A\u001b[A\n",
      "\n",
      "Loading batches of conformers: 1it [00:14, 14.17s/it]                \u001b[A\u001b[A\n"
     ]
    },
    {
     "data": {
      "text/plain": [
       "CompletedProcess(args=['molli', 'gbca', 'aso', 'ncsa-testing-data/test_conformers_new_env.mlib', '-g', 'ncsa-testing-data/grid_new_env.npy', '-o', 'ncsa-testing-data/aso_new_env.h5'], returncode=0)"
      ]
     },
     "execution_count": 41,
     "metadata": {},
     "output_type": "execute_result"
    }
   ],
   "source": [
    "subprocess.run(['molli', \n",
    "                'gbca', \n",
    "                'aso', \n",
    "                'ncsa-testing-data/test_conformers_new_env.mlib', \n",
    "                '-g', \n",
    "                'ncsa-testing-data/grid_new_env.npy', \n",
    "                '-o', \n",
    "                'ncsa-testing-data/aso_new_env.h5'\n",
    "                ])\n",
    "# tqdm looks messed up"
   ]
  },
  {
   "cell_type": "code",
   "execution_count": 42,
   "metadata": {},
   "outputs": [],
   "source": [
    "# subprocess.run(['molli', 'grid', '--mlib', '../../out_conformers1/test_conformers.mlib', '-o', 'molli/lib_gen/test_aso'])\n"
   ]
  },
  {
   "cell_type": "code",
   "execution_count": 43,
   "metadata": {},
   "outputs": [],
   "source": [
    "#subprocess.run(['molli', 'descriptors', '../../out_conformers1/test4_conformers.mlib', '-o', '../../test_aso_data/test_aso.h5'])"
   ]
  },
  {
   "attachments": {},
   "cell_type": "markdown",
   "metadata": {},
   "source": [
    "5. post-processing/dimension-reduction/analysis"
   ]
  },
  {
   "cell_type": "code",
   "execution_count": 44,
   "metadata": {},
   "outputs": [
    {
     "name": "stderr",
     "output_type": "stream",
     "text": [
      "100%|██████████| 75/75 [00:00<00:00, 4956.71it/s]\n"
     ]
    },
    {
     "name": "stdout",
     "output_type": "stream",
     "text": [
      "shape of data after variance threshold: (75, 3781)\n",
      "total variance after variance threshold: 62.94\n",
      "\n",
      "shape of data after removing correlated columns (R > 0.8): (75, 252)\n",
      "total variance after removing correlated columns (R > 0.8): 3.31\n",
      "\n"
     ]
    },
    {
     "data": {
      "text/plain": [
       "CompletedProcess(args=['molli', 'cluster', 'ncsa-testing-data/aso_new_env.h5', '-o', 'ncsa-testing-data/new_env_data3', '-v', '0', '-c', '0.8'], returncode=0)"
      ]
     },
     "execution_count": 44,
     "metadata": {},
     "output_type": "execute_result"
    }
   ],
   "source": [
    "subprocess.run(         # check functionality for plotting and pca\n",
    "     [                   # should be better way to implement post_processing stuff\n",
    "         'molli', \n",
    "         'cluster', \n",
    "         'ncsa-testing-data/aso_new_env.h5', \n",
    "         '-o', \n",
    "         'ncsa-testing-data/new_env_data3', \n",
    "         '-v',\n",
    "         '0',\n",
    "         '-c',\n",
    "         '0.8',\n",
    "     ]\n",
    " )"
   ]
  },
  {
   "cell_type": "code",
   "execution_count": null,
   "metadata": {},
   "outputs": [],
   "source": []
  }
 ],
 "metadata": {
  "kernelspec": {
   "display_name": "NCSA-workflow-dev",
   "language": "python",
   "name": "python3"
  },
  "language_info": {
   "codemirror_mode": {
    "name": "ipython",
    "version": 3
   },
   "file_extension": ".py",
   "mimetype": "text/x-python",
   "name": "python",
   "nbconvert_exporter": "python",
   "pygments_lexer": "ipython3",
   "version": "3.10.11"
  },
  "orig_nbformat": 4
 },
 "nbformat": 4,
 "nbformat_minor": 2
}
