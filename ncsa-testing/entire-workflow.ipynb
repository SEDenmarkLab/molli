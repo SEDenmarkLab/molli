{
 "cells": [
  {
   "attachments": {},
   "cell_type": "markdown",
   "metadata": {},
   "source": [
    "To-Do: entire workflow\n",
    "chemdraw parse -> combinatorial expansion -> conformer generation -> aso description -> post-processing/dimension-reduction/analysis -> plot/output data"
   ]
  },
  {
   "cell_type": "code",
   "execution_count": 1,
   "metadata": {},
   "outputs": [],
   "source": [
    "import molli as ml\n",
    "import molli.visual\n",
    "import subprocess\n",
    "import os\n",
    "\n",
    "# This is a failsafe in case openbabel aint installed\n",
    "import openbabel"
   ]
  },
  {
   "cell_type": "code",
   "execution_count": 2,
   "metadata": {},
   "outputs": [],
   "source": [
    "# these are the chemdraw files that the user passes in\n",
    "cores = ml.files.box_cores_test_1\n",
    "subs = ml.files.box_substituents_test_1"
   ]
  },
  {
   "attachments": {},
   "cell_type": "markdown",
   "metadata": {},
   "source": [
    "# Make output directory - this is where everything relevant gets saved"
   ]
  },
  {
   "cell_type": "code",
   "execution_count": 2,
   "metadata": {},
   "outputs": [],
   "source": [
    "# create output directory if it doesn't exist\n",
    "out_dir = './ncsa-testing-output/'\n",
    "if not os.path.exists(out_dir):\n",
    "    os.makedirs(out_dir)"
   ]
  },
  {
   "attachments": {},
   "cell_type": "markdown",
   "metadata": {},
   "source": [
    "# 1. ChemDraw Parsing"
   ]
  },
  {
   "cell_type": "code",
   "execution_count": 4,
   "metadata": {},
   "outputs": [
    {
     "name": "stderr",
     "output_type": "stream",
     "text": [
      "100%|██████████| 5/5 [00:00<00:00, 84.43it/s]\n",
      "100%|██████████| 15/15 [00:00<00:00, 291.73it/s]\n"
     ]
    },
    {
     "data": {
      "text/plain": [
       "CompletedProcess(args=['molli', 'parse', '--hadd', '/home/ethangm2/NCSA Development/molli/molli/files/BOX_substituents_test_1.cdxml', '-o', './ncsa-testing-output/BOX_subs_new_env.mlib', '--overwrite'], returncode=0)"
      ]
     },
     "execution_count": 4,
     "metadata": {},
     "output_type": "execute_result"
    }
   ],
   "source": [
    "# parse the files\n",
    "subprocess.run(['molli', 'parse', '--hadd', f'{cores}', '-o', f'{out_dir}BOX_cores_new_env.mlib', \"--overwrite\"])\n",
    "subprocess.run(['molli', 'parse', '--hadd', f'{subs}', '-o', f'{out_dir}BOX_subs_new_env.mlib', \"--overwrite\"])"
   ]
  },
  {
   "cell_type": "code",
   "execution_count": 5,
   "metadata": {},
   "outputs": [
    {
     "name": "stdout",
     "output_type": "stream",
     "text": [
      "5\n"
     ]
    },
    {
     "data": {
      "application/3dmoljs_load.v0": "<div id=\"3dmolviewer_1687198682298013\"  style=\"position: relative; width: 1000px; height: 500px\">\n        <p id=\"3dmolwarning_1687198682298013\" style=\"background-color:#ffcccc;color:black\">You appear to be running in JupyterLab (or JavaScript failed to load for some other reason).  You need to install the 3dmol extension: <br>\n        <tt>jupyter labextension install jupyterlab_3dmol</tt></p>\n        </div>\n<script>\n\nvar loadScriptAsync = function(uri){\n  return new Promise((resolve, reject) => {\n    //this is to ignore the existence of requirejs amd\n    var savedexports, savedmodule;\n    if (typeof exports !== 'undefined') savedexports = exports;\n    else exports = {}\n    if (typeof module !== 'undefined') savedmodule = module;\n    else module = {}\n\n    var tag = document.createElement('script');\n    tag.src = uri;\n    tag.async = true;\n    tag.onload = () => {\n        exports = savedexports;\n        module = savedmodule;\n        resolve();\n    };\n  var firstScriptTag = document.getElementsByTagName('script')[0];\n  firstScriptTag.parentNode.insertBefore(tag, firstScriptTag);\n});\n};\n\nif(typeof $3Dmolpromise === 'undefined') {\n$3Dmolpromise = null;\n  $3Dmolpromise = loadScriptAsync('https://cdnjs.cloudflare.com/ajax/libs/3Dmol/2.0.1/3Dmol-min.js');\n}\n\nvar viewer_1687198682298013 = null;\nvar warn = document.getElementById(\"3dmolwarning_1687198682298013\");\nif(warn) {\n    warn.parentNode.removeChild(warn);\n}\n$3Dmolpromise.then(function() {\nviewer_1687198682298013 = $3Dmol.createViewer(document.getElementById(\"3dmolviewer_1687198682298013\"),{backgroundColor:\"white\"});\nviewer_1687198682298013.zoomTo();\n\tviewer_1687198682298013.addModel(\"# Produced with molli package\\n@<TRIPOS>MOLECULE\\n1\\n30 32 0 0 0\\nSMALL\\nUSER_CHARGES\\n\\n@<TRIPOS>ATOM\\n     1 C       2.653877    -0.900810     0.000000 C          1 UNL1 0.0\\n     2 C       3.535127     0.312731     0.000000 C          1 UNL1 0.0\\n     3 O       2.653877     1.526273     0.000000 O          1 UNL1 0.0\\n     4 C       1.226794     1.062732     0.000000 C          1 UNL1 0.0\\n     5 N       1.226794    -0.437269     0.000000 N          1 UNL1 0.0\\n     6 C      -0.072164     1.812732     0.000000 C          1 UNL1 0.0\\n     7 C      -1.371123     1.062732     0.000000 C          1 UNL1 0.0\\n     8 O      -2.798206     1.526273     0.000000 O          1 UNL1 0.0\\n     9 C      -3.679456     0.312731     0.000000 C          1 UNL1 0.0\\n    10 C      -2.798206    -0.900810     0.000000 C          1 UNL1 0.0\\n    11 N      -1.371123    -0.437269     0.000000 N          1 UNL1 0.0\\n    12 A1     -3.029977    -1.614352    -1.299453 Unknown    1 UNL1 0.0\\n    13 A1      2.885648    -1.614352     1.299453 Unknown    1 UNL1 0.0\\n    14 C      -0.072164    -1.187268     0.000000 C          1 UNL1 0.0\\n    15 Br     -0.072164    -1.187268     1.499931 Br         1 UNL1 0.0\\n    16 Br      0.677836    -2.486227     0.000000 Br         1 UNL1 0.0\\n    17 C      -0.072164     1.812732     1.500000 C          1 UNL1 0.0\\n    18 C       1.226794     2.562732     0.000000 C          1 UNL1 0.0\\n    19 H       2.859825    -1.534673    -0.837080 H          1 UNL1 0.0\\n    20 H       4.148880     0.312731     0.876544 H          1 UNL1 0.0\\n    21 H       4.148880     0.312731    -0.876544 H          1 UNL1 0.0\\n    22 H      -4.293208     0.312731     0.876544 H          1 UNL1 0.0\\n    23 H      -4.293208     0.312731    -0.876544 H          1 UNL1 0.0\\n    24 H      -3.004154    -1.534673     0.837080 H          1 UNL1 0.0\\n    25 H      -0.105545     0.804478     1.856667 H          1 UNL1 0.0\\n    26 H      -0.928647     2.345767     1.856667 H          1 UNL1 0.0\\n    27 H       0.817699     2.287950     1.856667 H          1 UNL1 0.0\\n    28 H       1.787896     2.304234     0.873638 H          1 UNL1 0.0\\n    29 H       1.031246     3.614711     0.000027 H          1 UNL1 0.0\\n    30 H       1.787873     2.304274    -0.873665 H          1 UNL1 0.0\\n@<TRIPOS>BOND\\n     1      1      2          1\\n     2      2      3          1\\n     3      3      4          1\\n     4      4      5          2\\n     5      5      1          1\\n     6      4      6          1\\n     7      6      7          1\\n     8      7      8          1\\n     9      8      9          1\\n    10      9     10          1\\n    11     10     11          1\\n    12     11      7          2\\n    13     10     12          1\\n    14      1     13          1\\n    15     11     14          1\\n    16     14      5          1\\n    17     14     15          1\\n    18     14     16          1\\n    19      6     17          1\\n    20      6     18          1\\n    21      1     19          1\\n    22      2     20          1\\n    23      2     21          1\\n    24      9     22          1\\n    25      9     23          1\\n    26     10     24          1\\n    27     17     25          1\\n    28     17     26          1\\n    29     17     27          1\\n    30     18     28          1\\n    31     18     29          1\\n    32     18     30          1\\n\",\"mol2\");\n\tviewer_1687198682298013.setStyle({\"stick\": {\"radius\": 0.1}, \"sphere\": {\"scale\": 0.15}});\n\tviewer_1687198682298013.setHoverable({},true,\"\\n            function(atom,viewer,event,container) {\\n                if(!atom.label) {\\n                    atom.label = viewer.addLabel(atom.elem + atom.serial, {position: atom, backgroundColor: 'mintcream', fontColor:'black'});\\n                }\\n            }\\n            \",\"\\n            function(atom,viewer) { \\n                if(atom.label) {\\n                    viewer.removeLabel(atom.label);\\n                    delete atom.label;\\n                }\\n            }\\n            \");\n\tviewer_1687198682298013.zoomTo();\n\tviewer_1687198682298013.setBackgroundColor(null);\nviewer_1687198682298013.render();\n});\n</script>",
      "text/html": [
       "<div id=\"3dmolviewer_1687198682298013\"  style=\"position: relative; width: 1000px; height: 500px\">\n",
       "        <p id=\"3dmolwarning_1687198682298013\" style=\"background-color:#ffcccc;color:black\">You appear to be running in JupyterLab (or JavaScript failed to load for some other reason).  You need to install the 3dmol extension: <br>\n",
       "        <tt>jupyter labextension install jupyterlab_3dmol</tt></p>\n",
       "        </div>\n",
       "<script>\n",
       "\n",
       "var loadScriptAsync = function(uri){\n",
       "  return new Promise((resolve, reject) => {\n",
       "    //this is to ignore the existence of requirejs amd\n",
       "    var savedexports, savedmodule;\n",
       "    if (typeof exports !== 'undefined') savedexports = exports;\n",
       "    else exports = {}\n",
       "    if (typeof module !== 'undefined') savedmodule = module;\n",
       "    else module = {}\n",
       "\n",
       "    var tag = document.createElement('script');\n",
       "    tag.src = uri;\n",
       "    tag.async = true;\n",
       "    tag.onload = () => {\n",
       "        exports = savedexports;\n",
       "        module = savedmodule;\n",
       "        resolve();\n",
       "    };\n",
       "  var firstScriptTag = document.getElementsByTagName('script')[0];\n",
       "  firstScriptTag.parentNode.insertBefore(tag, firstScriptTag);\n",
       "});\n",
       "};\n",
       "\n",
       "if(typeof $3Dmolpromise === 'undefined') {\n",
       "$3Dmolpromise = null;\n",
       "  $3Dmolpromise = loadScriptAsync('https://cdnjs.cloudflare.com/ajax/libs/3Dmol/2.0.1/3Dmol-min.js');\n",
       "}\n",
       "\n",
       "var viewer_1687198682298013 = null;\n",
       "var warn = document.getElementById(\"3dmolwarning_1687198682298013\");\n",
       "if(warn) {\n",
       "    warn.parentNode.removeChild(warn);\n",
       "}\n",
       "$3Dmolpromise.then(function() {\n",
       "viewer_1687198682298013 = $3Dmol.createViewer(document.getElementById(\"3dmolviewer_1687198682298013\"),{backgroundColor:\"white\"});\n",
       "viewer_1687198682298013.zoomTo();\n",
       "\tviewer_1687198682298013.addModel(\"# Produced with molli package\\n@<TRIPOS>MOLECULE\\n1\\n30 32 0 0 0\\nSMALL\\nUSER_CHARGES\\n\\n@<TRIPOS>ATOM\\n     1 C       2.653877    -0.900810     0.000000 C          1 UNL1 0.0\\n     2 C       3.535127     0.312731     0.000000 C          1 UNL1 0.0\\n     3 O       2.653877     1.526273     0.000000 O          1 UNL1 0.0\\n     4 C       1.226794     1.062732     0.000000 C          1 UNL1 0.0\\n     5 N       1.226794    -0.437269     0.000000 N          1 UNL1 0.0\\n     6 C      -0.072164     1.812732     0.000000 C          1 UNL1 0.0\\n     7 C      -1.371123     1.062732     0.000000 C          1 UNL1 0.0\\n     8 O      -2.798206     1.526273     0.000000 O          1 UNL1 0.0\\n     9 C      -3.679456     0.312731     0.000000 C          1 UNL1 0.0\\n    10 C      -2.798206    -0.900810     0.000000 C          1 UNL1 0.0\\n    11 N      -1.371123    -0.437269     0.000000 N          1 UNL1 0.0\\n    12 A1     -3.029977    -1.614352    -1.299453 Unknown    1 UNL1 0.0\\n    13 A1      2.885648    -1.614352     1.299453 Unknown    1 UNL1 0.0\\n    14 C      -0.072164    -1.187268     0.000000 C          1 UNL1 0.0\\n    15 Br     -0.072164    -1.187268     1.499931 Br         1 UNL1 0.0\\n    16 Br      0.677836    -2.486227     0.000000 Br         1 UNL1 0.0\\n    17 C      -0.072164     1.812732     1.500000 C          1 UNL1 0.0\\n    18 C       1.226794     2.562732     0.000000 C          1 UNL1 0.0\\n    19 H       2.859825    -1.534673    -0.837080 H          1 UNL1 0.0\\n    20 H       4.148880     0.312731     0.876544 H          1 UNL1 0.0\\n    21 H       4.148880     0.312731    -0.876544 H          1 UNL1 0.0\\n    22 H      -4.293208     0.312731     0.876544 H          1 UNL1 0.0\\n    23 H      -4.293208     0.312731    -0.876544 H          1 UNL1 0.0\\n    24 H      -3.004154    -1.534673     0.837080 H          1 UNL1 0.0\\n    25 H      -0.105545     0.804478     1.856667 H          1 UNL1 0.0\\n    26 H      -0.928647     2.345767     1.856667 H          1 UNL1 0.0\\n    27 H       0.817699     2.287950     1.856667 H          1 UNL1 0.0\\n    28 H       1.787896     2.304234     0.873638 H          1 UNL1 0.0\\n    29 H       1.031246     3.614711     0.000027 H          1 UNL1 0.0\\n    30 H       1.787873     2.304274    -0.873665 H          1 UNL1 0.0\\n@<TRIPOS>BOND\\n     1      1      2          1\\n     2      2      3          1\\n     3      3      4          1\\n     4      4      5          2\\n     5      5      1          1\\n     6      4      6          1\\n     7      6      7          1\\n     8      7      8          1\\n     9      8      9          1\\n    10      9     10          1\\n    11     10     11          1\\n    12     11      7          2\\n    13     10     12          1\\n    14      1     13          1\\n    15     11     14          1\\n    16     14      5          1\\n    17     14     15          1\\n    18     14     16          1\\n    19      6     17          1\\n    20      6     18          1\\n    21      1     19          1\\n    22      2     20          1\\n    23      2     21          1\\n    24      9     22          1\\n    25      9     23          1\\n    26     10     24          1\\n    27     17     25          1\\n    28     17     26          1\\n    29     17     27          1\\n    30     18     28          1\\n    31     18     29          1\\n    32     18     30          1\\n\",\"mol2\");\n",
       "\tviewer_1687198682298013.setStyle({\"stick\": {\"radius\": 0.1}, \"sphere\": {\"scale\": 0.15}});\n",
       "\tviewer_1687198682298013.setHoverable({},true,\"\\n            function(atom,viewer,event,container) {\\n                if(!atom.label) {\\n                    atom.label = viewer.addLabel(atom.elem + atom.serial, {position: atom, backgroundColor: 'mintcream', fontColor:'black'});\\n                }\\n            }\\n            \",\"\\n            function(atom,viewer) { \\n                if(atom.label) {\\n                    viewer.removeLabel(atom.label);\\n                    delete atom.label;\\n                }\\n            }\\n            \");\n",
       "\tviewer_1687198682298013.zoomTo();\n",
       "\tviewer_1687198682298013.setBackgroundColor(null);\n",
       "viewer_1687198682298013.render();\n",
       "});\n",
       "</script>"
      ]
     },
     "metadata": {},
     "output_type": "display_data"
    },
    {
     "data": {
      "text/plain": [
       "Molecule(name='1', formula='C10 H12 Br2 N2 O2 Unknown2')"
      ]
     },
     "execution_count": 5,
     "metadata": {},
     "output_type": "execute_result"
    }
   ],
   "source": [
    "m_core = ml.MoleculeLibrary(f'{out_dir}BOX_cores_new_env.mlib')\n",
    "print(len(m_core))\n",
    "# you can index fragments directly with the string they are lablled with in the chemdraw\n",
    "m_core['1']"
   ]
  },
  {
   "cell_type": "code",
   "execution_count": 6,
   "metadata": {},
   "outputs": [
    {
     "name": "stdout",
     "output_type": "stream",
     "text": [
      "15\n"
     ]
    },
    {
     "data": {
      "application/3dmoljs_load.v0": "<div id=\"3dmolviewer_16871986823122458\"  style=\"position: relative; width: 1000px; height: 500px\">\n        <p id=\"3dmolwarning_16871986823122458\" style=\"background-color:#ffcccc;color:black\">You appear to be running in JupyterLab (or JavaScript failed to load for some other reason).  You need to install the 3dmol extension: <br>\n        <tt>jupyter labextension install jupyterlab_3dmol</tt></p>\n        </div>\n<script>\n\nvar loadScriptAsync = function(uri){\n  return new Promise((resolve, reject) => {\n    //this is to ignore the existence of requirejs amd\n    var savedexports, savedmodule;\n    if (typeof exports !== 'undefined') savedexports = exports;\n    else exports = {}\n    if (typeof module !== 'undefined') savedmodule = module;\n    else module = {}\n\n    var tag = document.createElement('script');\n    tag.src = uri;\n    tag.async = true;\n    tag.onload = () => {\n        exports = savedexports;\n        module = savedmodule;\n        resolve();\n    };\n  var firstScriptTag = document.getElementsByTagName('script')[0];\n  firstScriptTag.parentNode.insertBefore(tag, firstScriptTag);\n});\n};\n\nif(typeof $3Dmolpromise === 'undefined') {\n$3Dmolpromise = null;\n  $3Dmolpromise = loadScriptAsync('https://cdnjs.cloudflare.com/ajax/libs/3Dmol/2.0.1/3Dmol-min.js');\n}\n\nvar viewer_16871986823122458 = null;\nvar warn = document.getElementById(\"3dmolwarning_16871986823122458\");\nif(warn) {\n    warn.parentNode.removeChild(warn);\n}\n$3Dmolpromise.then(function() {\nviewer_16871986823122458 = $3Dmol.createViewer(document.getElementById(\"3dmolviewer_16871986823122458\"),{backgroundColor:\"white\"});\nviewer_16871986823122458.zoomTo();\n\tviewer_16871986823122458.addModel(\"# Produced with molli package\\n@<TRIPOS>MOLECULE\\n3\\n11 10 0 0 0\\nSMALL\\nUSER_CHARGES\\n\\n@<TRIPOS>ATOM\\n     1 C       0.000000     0.000000     0.000000 C          1 UNL1 0.0\\n     2 AP1    -1.298958    -0.750000     0.000000 Unknown    1 UNL1 0.0\\n     3 C       1.299018    -0.750035     0.000000 C          1 UNL1 0.0\\n     4 C       0.000000     1.500000     0.000000 C          1 UNL1 0.0\\n     5 H       0.000000     0.000000    -1.070000 H          1 UNL1 0.0\\n     6 H       1.860120    -0.491537     0.873638 H          1 UNL1 0.0\\n     7 H       1.860097    -0.491577    -0.873665 H          1 UNL1 0.0\\n     8 H       1.103470    -1.802014     0.000027 H          1 UNL1 0.0\\n     9 H       1.008806     1.856667     0.000000 H          1 UNL1 0.0\\n    10 H      -0.504403     1.856667     0.873651 H          1 UNL1 0.0\\n    11 H      -0.504403     1.856667    -0.873651 H          1 UNL1 0.0\\n@<TRIPOS>BOND\\n     1      2      1          1\\n     2      1      3          1\\n     3      1      4          1\\n     4      1      5          1\\n     5      3      6          1\\n     6      3      7          1\\n     7      3      8          1\\n     8      4      9          1\\n     9      4     10          1\\n    10      4     11          1\\n\",\"mol2\");\n\tviewer_16871986823122458.setStyle({\"stick\": {\"radius\": 0.1}, \"sphere\": {\"scale\": 0.15}});\n\tviewer_16871986823122458.setHoverable({},true,\"\\n            function(atom,viewer,event,container) {\\n                if(!atom.label) {\\n                    atom.label = viewer.addLabel(atom.elem + atom.serial, {position: atom, backgroundColor: 'mintcream', fontColor:'black'});\\n                }\\n            }\\n            \",\"\\n            function(atom,viewer) { \\n                if(atom.label) {\\n                    viewer.removeLabel(atom.label);\\n                    delete atom.label;\\n                }\\n            }\\n            \");\n\tviewer_16871986823122458.zoomTo();\n\tviewer_16871986823122458.setBackgroundColor(null);\nviewer_16871986823122458.render();\n});\n</script>",
      "text/html": [
       "<div id=\"3dmolviewer_16871986823122458\"  style=\"position: relative; width: 1000px; height: 500px\">\n",
       "        <p id=\"3dmolwarning_16871986823122458\" style=\"background-color:#ffcccc;color:black\">You appear to be running in JupyterLab (or JavaScript failed to load for some other reason).  You need to install the 3dmol extension: <br>\n",
       "        <tt>jupyter labextension install jupyterlab_3dmol</tt></p>\n",
       "        </div>\n",
       "<script>\n",
       "\n",
       "var loadScriptAsync = function(uri){\n",
       "  return new Promise((resolve, reject) => {\n",
       "    //this is to ignore the existence of requirejs amd\n",
       "    var savedexports, savedmodule;\n",
       "    if (typeof exports !== 'undefined') savedexports = exports;\n",
       "    else exports = {}\n",
       "    if (typeof module !== 'undefined') savedmodule = module;\n",
       "    else module = {}\n",
       "\n",
       "    var tag = document.createElement('script');\n",
       "    tag.src = uri;\n",
       "    tag.async = true;\n",
       "    tag.onload = () => {\n",
       "        exports = savedexports;\n",
       "        module = savedmodule;\n",
       "        resolve();\n",
       "    };\n",
       "  var firstScriptTag = document.getElementsByTagName('script')[0];\n",
       "  firstScriptTag.parentNode.insertBefore(tag, firstScriptTag);\n",
       "});\n",
       "};\n",
       "\n",
       "if(typeof $3Dmolpromise === 'undefined') {\n",
       "$3Dmolpromise = null;\n",
       "  $3Dmolpromise = loadScriptAsync('https://cdnjs.cloudflare.com/ajax/libs/3Dmol/2.0.1/3Dmol-min.js');\n",
       "}\n",
       "\n",
       "var viewer_16871986823122458 = null;\n",
       "var warn = document.getElementById(\"3dmolwarning_16871986823122458\");\n",
       "if(warn) {\n",
       "    warn.parentNode.removeChild(warn);\n",
       "}\n",
       "$3Dmolpromise.then(function() {\n",
       "viewer_16871986823122458 = $3Dmol.createViewer(document.getElementById(\"3dmolviewer_16871986823122458\"),{backgroundColor:\"white\"});\n",
       "viewer_16871986823122458.zoomTo();\n",
       "\tviewer_16871986823122458.addModel(\"# Produced with molli package\\n@<TRIPOS>MOLECULE\\n3\\n11 10 0 0 0\\nSMALL\\nUSER_CHARGES\\n\\n@<TRIPOS>ATOM\\n     1 C       0.000000     0.000000     0.000000 C          1 UNL1 0.0\\n     2 AP1    -1.298958    -0.750000     0.000000 Unknown    1 UNL1 0.0\\n     3 C       1.299018    -0.750035     0.000000 C          1 UNL1 0.0\\n     4 C       0.000000     1.500000     0.000000 C          1 UNL1 0.0\\n     5 H       0.000000     0.000000    -1.070000 H          1 UNL1 0.0\\n     6 H       1.860120    -0.491537     0.873638 H          1 UNL1 0.0\\n     7 H       1.860097    -0.491577    -0.873665 H          1 UNL1 0.0\\n     8 H       1.103470    -1.802014     0.000027 H          1 UNL1 0.0\\n     9 H       1.008806     1.856667     0.000000 H          1 UNL1 0.0\\n    10 H      -0.504403     1.856667     0.873651 H          1 UNL1 0.0\\n    11 H      -0.504403     1.856667    -0.873651 H          1 UNL1 0.0\\n@<TRIPOS>BOND\\n     1      2      1          1\\n     2      1      3          1\\n     3      1      4          1\\n     4      1      5          1\\n     5      3      6          1\\n     6      3      7          1\\n     7      3      8          1\\n     8      4      9          1\\n     9      4     10          1\\n    10      4     11          1\\n\",\"mol2\");\n",
       "\tviewer_16871986823122458.setStyle({\"stick\": {\"radius\": 0.1}, \"sphere\": {\"scale\": 0.15}});\n",
       "\tviewer_16871986823122458.setHoverable({},true,\"\\n            function(atom,viewer,event,container) {\\n                if(!atom.label) {\\n                    atom.label = viewer.addLabel(atom.elem + atom.serial, {position: atom, backgroundColor: 'mintcream', fontColor:'black'});\\n                }\\n            }\\n            \",\"\\n            function(atom,viewer) { \\n                if(atom.label) {\\n                    viewer.removeLabel(atom.label);\\n                    delete atom.label;\\n                }\\n            }\\n            \");\n",
       "\tviewer_16871986823122458.zoomTo();\n",
       "\tviewer_16871986823122458.setBackgroundColor(null);\n",
       "viewer_16871986823122458.render();\n",
       "});\n",
       "</script>"
      ]
     },
     "metadata": {},
     "output_type": "display_data"
    },
    {
     "data": {
      "text/plain": [
       "Molecule(name='3', formula='C3 H7 Unknown1')"
      ]
     },
     "execution_count": 6,
     "metadata": {},
     "output_type": "execute_result"
    }
   ],
   "source": [
    "m_subs = ml.MoleculeLibrary(f'{out_dir}BOX_subs_new_env.mlib')\n",
    "print(len(m_subs))\n",
    "m_subs['3']"
   ]
  },
  {
   "attachments": {},
   "cell_type": "markdown",
   "metadata": {},
   "source": [
    "# 2. Combinatorial Expansion"
   ]
  },
  {
   "cell_type": "code",
   "execution_count": 7,
   "metadata": {},
   "outputs": [
    {
     "name": "stdout",
     "output_type": "stream",
     "text": [
      "Will create a library of size 75\n"
     ]
    },
    {
     "name": "stderr",
     "output_type": "stream",
     "text": [
      "100%|██████████| 75/75 [00:02<00:00, 36.87it/s]\n"
     ]
    },
    {
     "data": {
      "text/plain": [
       "CompletedProcess(args=['molli', 'combine', './ncsa-testing-output/BOX_cores_new_env.mlib', '-s', './ncsa-testing-output/BOX_subs_new_env.mlib', '-j', '96', '-o', './ncsa-testing-output/test_combine_new_env.mlib', '-a', 'A1', '--obopt', 'uff', '-m', 'same', '--overwrite'], returncode=0)"
      ]
     },
     "execution_count": 7,
     "metadata": {},
     "output_type": "execute_result"
    }
   ],
   "source": [
    "subprocess.run(\n",
    "    [\n",
    "        'molli',\n",
    "        'combine',\n",
    "        f'{out_dir}BOX_cores_new_env.mlib',\n",
    "        '-s',\n",
    "        f'{out_dir}BOX_subs_new_env.mlib',\n",
    "        '-j',\n",
    "        '96', \n",
    "        '-o', \n",
    "        f'{out_dir}test_combine_new_env.mlib', \n",
    "        '-a', \n",
    "        'A1', \n",
    "        '--obopt', \n",
    "        'uff',\n",
    "        '-m',\n",
    "        'same',\n",
    "        \"--overwrite\"\n",
    "    ]\n",
    ")\n"
   ]
  },
  {
   "cell_type": "code",
   "execution_count": 8,
   "metadata": {},
   "outputs": [
    {
     "name": "stdout",
     "output_type": "stream",
     "text": [
      "75\n"
     ]
    },
    {
     "data": {
      "application/3dmoljs_load.v0": "<div id=\"3dmolviewer_16871986848919778\"  style=\"position: relative; width: 1000px; height: 500px\">\n        <p id=\"3dmolwarning_16871986848919778\" style=\"background-color:#ffcccc;color:black\">You appear to be running in JupyterLab (or JavaScript failed to load for some other reason).  You need to install the 3dmol extension: <br>\n        <tt>jupyter labextension install jupyterlab_3dmol</tt></p>\n        </div>\n<script>\n\nvar loadScriptAsync = function(uri){\n  return new Promise((resolve, reject) => {\n    //this is to ignore the existence of requirejs amd\n    var savedexports, savedmodule;\n    if (typeof exports !== 'undefined') savedexports = exports;\n    else exports = {}\n    if (typeof module !== 'undefined') savedmodule = module;\n    else module = {}\n\n    var tag = document.createElement('script');\n    tag.src = uri;\n    tag.async = true;\n    tag.onload = () => {\n        exports = savedexports;\n        module = savedmodule;\n        resolve();\n    };\n  var firstScriptTag = document.getElementsByTagName('script')[0];\n  firstScriptTag.parentNode.insertBefore(tag, firstScriptTag);\n});\n};\n\nif(typeof $3Dmolpromise === 'undefined') {\n$3Dmolpromise = null;\n  $3Dmolpromise = loadScriptAsync('https://cdnjs.cloudflare.com/ajax/libs/3Dmol/2.0.1/3Dmol-min.js');\n}\n\nvar viewer_16871986848919778 = null;\nvar warn = document.getElementById(\"3dmolwarning_16871986848919778\");\nif(warn) {\n    warn.parentNode.removeChild(warn);\n}\n$3Dmolpromise.then(function() {\nviewer_16871986848919778 = $3Dmol.createViewer(document.getElementById(\"3dmolviewer_16871986848919778\"),{backgroundColor:\"white\"});\nviewer_16871986848919778.zoomTo();\n\tviewer_16871986848919778.addModel(\"# Produced with molli package\\n@<TRIPOS>MOLECULE\\n1_3_3\\n48 50 0 0 0\\nSMALL\\nUSER_CHARGES\\n\\n@<TRIPOS>ATOM\\n     1 C       0.048103     0.033955     0.241184 C          1 UNL1 0.0\\n     2 C       0.863945     1.338608     0.388212 C          1 UNL1 0.0\\n     3 O      -0.084185     2.318714     0.449117 O          1 UNL1 0.0\\n     4 C      -1.316404     1.791642     0.392013 C          1 UNL1 0.0\\n     5 N      -1.348377     0.508517     0.309205 N          1 UNL1 0.0\\n     6 C      -2.519487     2.681213     0.380045 C          1 UNL1 0.0\\n     7 C      -3.769205     1.876307     0.206870 C          1 UNL1 0.0\\n     8 O      -4.970474     2.472473     0.246889 O          1 UNL1 0.0\\n     9 C      -5.970225     1.552866     0.113400 C          1 UNL1 0.0\\n    10 C      -5.228748     0.198916     0.046530 C          1 UNL1 0.0\\n    11 N      -3.807901     0.599371     0.055259 N          1 UNL1 0.0\\n    12 C      -2.601164    -0.267144     0.110725 C          1 UNL1 0.0\\n    13 Br     -2.948141    -1.505143     1.573727 Br         1 UNL1 0.0\\n    14 Br     -2.317146    -1.248213    -1.547508 Br         1 UNL1 0.0\\n    15 C      -2.580367     3.440969     1.716831 C          1 UNL1 0.0\\n    16 C      -2.410104     3.675612    -0.789128 C          1 UNL1 0.0\\n    17 H       0.239484    -0.339380    -0.789062 H          1 UNL1 0.0\\n    18 H       1.467998     1.395027     1.316109 H          1 UNL1 0.0\\n    19 H       1.535136     1.496372    -0.483856 H          1 UNL1 0.0\\n    20 H      -6.665215     1.591207     0.979920 H          1 UNL1 0.0\\n    21 H      -6.533996     1.807879    -0.805850 H          1 UNL1 0.0\\n    22 H      -5.442059    -0.320021     1.007150 H          1 UNL1 0.0\\n    23 H      -2.663790     2.726790     2.565464 H          1 UNL1 0.0\\n    24 H      -3.458154     4.122160     1.745268 H          1 UNL1 0.0\\n    25 H      -1.664950     4.054273     1.864325 H          1 UNL1 0.0\\n    26 H      -1.496513     4.301243    -0.691961 H          1 UNL1 0.0\\n    27 H      -3.289694     4.355021    -0.812555 H          1 UNL1 0.0\\n    28 H      -2.361076     3.131976    -1.758123 H          1 UNL1 0.0\\n    29 C      -5.822326    -0.673035    -1.110928 C          1 UNL1 0.0\\n    30 C      -5.558208    -2.178757    -0.946650 C          1 UNL1 0.0\\n    31 C      -5.494667    -0.161353    -2.526901 C          1 UNL1 0.0\\n    32 H      -6.929685    -0.607180    -1.005078 H          1 UNL1 0.0\\n    33 H      -4.506628    -2.470151    -1.007750 H          1 UNL1 0.0\\n    34 H      -6.108058    -2.743480    -1.729845 H          1 UNL1 0.0\\n    35 H      -5.937623    -2.518811     0.040481 H          1 UNL1 0.0\\n    36 H      -6.019042    -0.784055    -3.282460 H          1 UNL1 0.0\\n    37 H      -4.418348    -0.187004    -2.750160 H          1 UNL1 0.0\\n    38 H      -5.833245     0.883046    -2.671439 H          1 UNL1 0.0\\n    39 C       0.584356    -1.037036     1.249792 C          1 UNL1 0.0\\n    40 C       0.248997    -2.484026     0.852819 C          1 UNL1 0.0\\n    41 C       0.264926    -0.731318     2.725761 C          1 UNL1 0.0\\n    42 H       1.694936    -1.013433     1.159951 H          1 UNL1 0.0\\n    43 H      -0.815732    -2.729007     0.859397 H          1 UNL1 0.0\\n    44 H       0.759347    -3.189560     1.543144 H          1 UNL1 0.0\\n    45 H       0.626068    -2.686260    -0.172324 H          1 UNL1 0.0\\n    46 H       0.748948    -1.486687     3.380448 H          1 UNL1 0.0\\n    47 H      -0.814438    -0.736116     2.936763 H          1 UNL1 0.0\\n    48 H       0.651843     0.261872     3.027318 H          1 UNL1 0.0\\n@<TRIPOS>BOND\\n     1      1      2          1\\n     2      2      3          1\\n     3      3      4          1\\n     4      4      5          2\\n     5      5      1          1\\n     6      4      6          1\\n     7      6      7          1\\n     8      7      8          1\\n     9      8      9          1\\n    10      9     10          1\\n    11     10     11          1\\n    12     11      7          2\\n    13     11     12          1\\n    14     12      5          1\\n    15     12     13          1\\n    16     12     14          1\\n    17      6     15          1\\n    18      6     16          1\\n    19      1     17          1\\n    20      2     18          1\\n    21      2     19          1\\n    22      9     20          1\\n    23      9     21          1\\n    24     10     22          1\\n    25     15     23          1\\n    26     15     24          1\\n    27     15     25          1\\n    28     16     26          1\\n    29     16     27          1\\n    30     16     28          1\\n    31     29     30          1\\n    32     29     31          1\\n    33     29     32          1\\n    34     30     33          1\\n    35     30     34          1\\n    36     30     35          1\\n    37     31     36          1\\n    38     31     37          1\\n    39     31     38          1\\n    40     10     29          1\\n    41     39     40          1\\n    42     39     41          1\\n    43     39     42          1\\n    44     40     43          1\\n    45     40     44          1\\n    46     40     45          1\\n    47     41     46          1\\n    48     41     47          1\\n    49     41     48          1\\n    50      1     39          1\\n\",\"mol2\");\n\tviewer_16871986848919778.setStyle({\"stick\": {\"radius\": 0.1}, \"sphere\": {\"scale\": 0.15}});\n\tviewer_16871986848919778.setHoverable({},true,\"\\n            function(atom,viewer,event,container) {\\n                if(!atom.label) {\\n                    atom.label = viewer.addLabel(atom.elem + atom.serial, {position: atom, backgroundColor: 'mintcream', fontColor:'black'});\\n                }\\n            }\\n            \",\"\\n            function(atom,viewer) { \\n                if(atom.label) {\\n                    viewer.removeLabel(atom.label);\\n                    delete atom.label;\\n                }\\n            }\\n            \");\n\tviewer_16871986848919778.zoomTo();\n\tviewer_16871986848919778.setBackgroundColor(null);\nviewer_16871986848919778.render();\n});\n</script>",
      "text/html": [
       "<div id=\"3dmolviewer_16871986848919778\"  style=\"position: relative; width: 1000px; height: 500px\">\n",
       "        <p id=\"3dmolwarning_16871986848919778\" style=\"background-color:#ffcccc;color:black\">You appear to be running in JupyterLab (or JavaScript failed to load for some other reason).  You need to install the 3dmol extension: <br>\n",
       "        <tt>jupyter labextension install jupyterlab_3dmol</tt></p>\n",
       "        </div>\n",
       "<script>\n",
       "\n",
       "var loadScriptAsync = function(uri){\n",
       "  return new Promise((resolve, reject) => {\n",
       "    //this is to ignore the existence of requirejs amd\n",
       "    var savedexports, savedmodule;\n",
       "    if (typeof exports !== 'undefined') savedexports = exports;\n",
       "    else exports = {}\n",
       "    if (typeof module !== 'undefined') savedmodule = module;\n",
       "    else module = {}\n",
       "\n",
       "    var tag = document.createElement('script');\n",
       "    tag.src = uri;\n",
       "    tag.async = true;\n",
       "    tag.onload = () => {\n",
       "        exports = savedexports;\n",
       "        module = savedmodule;\n",
       "        resolve();\n",
       "    };\n",
       "  var firstScriptTag = document.getElementsByTagName('script')[0];\n",
       "  firstScriptTag.parentNode.insertBefore(tag, firstScriptTag);\n",
       "});\n",
       "};\n",
       "\n",
       "if(typeof $3Dmolpromise === 'undefined') {\n",
       "$3Dmolpromise = null;\n",
       "  $3Dmolpromise = loadScriptAsync('https://cdnjs.cloudflare.com/ajax/libs/3Dmol/2.0.1/3Dmol-min.js');\n",
       "}\n",
       "\n",
       "var viewer_16871986848919778 = null;\n",
       "var warn = document.getElementById(\"3dmolwarning_16871986848919778\");\n",
       "if(warn) {\n",
       "    warn.parentNode.removeChild(warn);\n",
       "}\n",
       "$3Dmolpromise.then(function() {\n",
       "viewer_16871986848919778 = $3Dmol.createViewer(document.getElementById(\"3dmolviewer_16871986848919778\"),{backgroundColor:\"white\"});\n",
       "viewer_16871986848919778.zoomTo();\n",
       "\tviewer_16871986848919778.addModel(\"# Produced with molli package\\n@<TRIPOS>MOLECULE\\n1_3_3\\n48 50 0 0 0\\nSMALL\\nUSER_CHARGES\\n\\n@<TRIPOS>ATOM\\n     1 C       0.048103     0.033955     0.241184 C          1 UNL1 0.0\\n     2 C       0.863945     1.338608     0.388212 C          1 UNL1 0.0\\n     3 O      -0.084185     2.318714     0.449117 O          1 UNL1 0.0\\n     4 C      -1.316404     1.791642     0.392013 C          1 UNL1 0.0\\n     5 N      -1.348377     0.508517     0.309205 N          1 UNL1 0.0\\n     6 C      -2.519487     2.681213     0.380045 C          1 UNL1 0.0\\n     7 C      -3.769205     1.876307     0.206870 C          1 UNL1 0.0\\n     8 O      -4.970474     2.472473     0.246889 O          1 UNL1 0.0\\n     9 C      -5.970225     1.552866     0.113400 C          1 UNL1 0.0\\n    10 C      -5.228748     0.198916     0.046530 C          1 UNL1 0.0\\n    11 N      -3.807901     0.599371     0.055259 N          1 UNL1 0.0\\n    12 C      -2.601164    -0.267144     0.110725 C          1 UNL1 0.0\\n    13 Br     -2.948141    -1.505143     1.573727 Br         1 UNL1 0.0\\n    14 Br     -2.317146    -1.248213    -1.547508 Br         1 UNL1 0.0\\n    15 C      -2.580367     3.440969     1.716831 C          1 UNL1 0.0\\n    16 C      -2.410104     3.675612    -0.789128 C          1 UNL1 0.0\\n    17 H       0.239484    -0.339380    -0.789062 H          1 UNL1 0.0\\n    18 H       1.467998     1.395027     1.316109 H          1 UNL1 0.0\\n    19 H       1.535136     1.496372    -0.483856 H          1 UNL1 0.0\\n    20 H      -6.665215     1.591207     0.979920 H          1 UNL1 0.0\\n    21 H      -6.533996     1.807879    -0.805850 H          1 UNL1 0.0\\n    22 H      -5.442059    -0.320021     1.007150 H          1 UNL1 0.0\\n    23 H      -2.663790     2.726790     2.565464 H          1 UNL1 0.0\\n    24 H      -3.458154     4.122160     1.745268 H          1 UNL1 0.0\\n    25 H      -1.664950     4.054273     1.864325 H          1 UNL1 0.0\\n    26 H      -1.496513     4.301243    -0.691961 H          1 UNL1 0.0\\n    27 H      -3.289694     4.355021    -0.812555 H          1 UNL1 0.0\\n    28 H      -2.361076     3.131976    -1.758123 H          1 UNL1 0.0\\n    29 C      -5.822326    -0.673035    -1.110928 C          1 UNL1 0.0\\n    30 C      -5.558208    -2.178757    -0.946650 C          1 UNL1 0.0\\n    31 C      -5.494667    -0.161353    -2.526901 C          1 UNL1 0.0\\n    32 H      -6.929685    -0.607180    -1.005078 H          1 UNL1 0.0\\n    33 H      -4.506628    -2.470151    -1.007750 H          1 UNL1 0.0\\n    34 H      -6.108058    -2.743480    -1.729845 H          1 UNL1 0.0\\n    35 H      -5.937623    -2.518811     0.040481 H          1 UNL1 0.0\\n    36 H      -6.019042    -0.784055    -3.282460 H          1 UNL1 0.0\\n    37 H      -4.418348    -0.187004    -2.750160 H          1 UNL1 0.0\\n    38 H      -5.833245     0.883046    -2.671439 H          1 UNL1 0.0\\n    39 C       0.584356    -1.037036     1.249792 C          1 UNL1 0.0\\n    40 C       0.248997    -2.484026     0.852819 C          1 UNL1 0.0\\n    41 C       0.264926    -0.731318     2.725761 C          1 UNL1 0.0\\n    42 H       1.694936    -1.013433     1.159951 H          1 UNL1 0.0\\n    43 H      -0.815732    -2.729007     0.859397 H          1 UNL1 0.0\\n    44 H       0.759347    -3.189560     1.543144 H          1 UNL1 0.0\\n    45 H       0.626068    -2.686260    -0.172324 H          1 UNL1 0.0\\n    46 H       0.748948    -1.486687     3.380448 H          1 UNL1 0.0\\n    47 H      -0.814438    -0.736116     2.936763 H          1 UNL1 0.0\\n    48 H       0.651843     0.261872     3.027318 H          1 UNL1 0.0\\n@<TRIPOS>BOND\\n     1      1      2          1\\n     2      2      3          1\\n     3      3      4          1\\n     4      4      5          2\\n     5      5      1          1\\n     6      4      6          1\\n     7      6      7          1\\n     8      7      8          1\\n     9      8      9          1\\n    10      9     10          1\\n    11     10     11          1\\n    12     11      7          2\\n    13     11     12          1\\n    14     12      5          1\\n    15     12     13          1\\n    16     12     14          1\\n    17      6     15          1\\n    18      6     16          1\\n    19      1     17          1\\n    20      2     18          1\\n    21      2     19          1\\n    22      9     20          1\\n    23      9     21          1\\n    24     10     22          1\\n    25     15     23          1\\n    26     15     24          1\\n    27     15     25          1\\n    28     16     26          1\\n    29     16     27          1\\n    30     16     28          1\\n    31     29     30          1\\n    32     29     31          1\\n    33     29     32          1\\n    34     30     33          1\\n    35     30     34          1\\n    36     30     35          1\\n    37     31     36          1\\n    38     31     37          1\\n    39     31     38          1\\n    40     10     29          1\\n    41     39     40          1\\n    42     39     41          1\\n    43     39     42          1\\n    44     40     43          1\\n    45     40     44          1\\n    46     40     45          1\\n    47     41     46          1\\n    48     41     47          1\\n    49     41     48          1\\n    50      1     39          1\\n\",\"mol2\");\n",
       "\tviewer_16871986848919778.setStyle({\"stick\": {\"radius\": 0.1}, \"sphere\": {\"scale\": 0.15}});\n",
       "\tviewer_16871986848919778.setHoverable({},true,\"\\n            function(atom,viewer,event,container) {\\n                if(!atom.label) {\\n                    atom.label = viewer.addLabel(atom.elem + atom.serial, {position: atom, backgroundColor: 'mintcream', fontColor:'black'});\\n                }\\n            }\\n            \",\"\\n            function(atom,viewer) { \\n                if(atom.label) {\\n                    viewer.removeLabel(atom.label);\\n                    delete atom.label;\\n                }\\n            }\\n            \");\n",
       "\tviewer_16871986848919778.zoomTo();\n",
       "\tviewer_16871986848919778.setBackgroundColor(null);\n",
       "viewer_16871986848919778.render();\n",
       "});\n",
       "</script>"
      ]
     },
     "metadata": {},
     "output_type": "display_data"
    },
    {
     "data": {
      "text/plain": [
       "Molecule(name='1_3_3', formula='C16 H26 Br2 N2 O2')"
      ]
     },
     "execution_count": 8,
     "metadata": {},
     "output_type": "execute_result"
    }
   ],
   "source": [
    "combined = ml.MoleculeLibrary(f'{out_dir}test_combine_new_env.mlib')\n",
    "print(len(combined))\n",
    "# you index full catalysts structures with the concatenated core_substituent_substituent string\n",
    "combined[\"1_3_3\"]"
   ]
  },
  {
   "cell_type": "code",
   "execution_count": 9,
   "metadata": {},
   "outputs": [
    {
     "data": {
      "application/3dmoljs_load.v0": "<div id=\"3dmolviewer_16871986849170587\"  style=\"position: relative; width: 1000px; height: 500px\">\n        <p id=\"3dmolwarning_16871986849170587\" style=\"background-color:#ffcccc;color:black\">You appear to be running in JupyterLab (or JavaScript failed to load for some other reason).  You need to install the 3dmol extension: <br>\n        <tt>jupyter labextension install jupyterlab_3dmol</tt></p>\n        </div>\n<script>\n\nvar loadScriptAsync = function(uri){\n  return new Promise((resolve, reject) => {\n    //this is to ignore the existence of requirejs amd\n    var savedexports, savedmodule;\n    if (typeof exports !== 'undefined') savedexports = exports;\n    else exports = {}\n    if (typeof module !== 'undefined') savedmodule = module;\n    else module = {}\n\n    var tag = document.createElement('script');\n    tag.src = uri;\n    tag.async = true;\n    tag.onload = () => {\n        exports = savedexports;\n        module = savedmodule;\n        resolve();\n    };\n  var firstScriptTag = document.getElementsByTagName('script')[0];\n  firstScriptTag.parentNode.insertBefore(tag, firstScriptTag);\n});\n};\n\nif(typeof $3Dmolpromise === 'undefined') {\n$3Dmolpromise = null;\n  $3Dmolpromise = loadScriptAsync('https://cdnjs.cloudflare.com/ajax/libs/3Dmol/2.0.1/3Dmol-min.js');\n}\n\nvar viewer_16871986849170587 = null;\nvar warn = document.getElementById(\"3dmolwarning_16871986849170587\");\nif(warn) {\n    warn.parentNode.removeChild(warn);\n}\n$3Dmolpromise.then(function() {\nviewer_16871986849170587 = $3Dmol.createViewer(document.getElementById(\"3dmolviewer_16871986849170587\"),{backgroundColor:\"white\"});\nviewer_16871986849170587.zoomTo();\n\tviewer_16871986849170587.addModel(\"# Produced with molli package\\n@<TRIPOS>MOLECULE\\n3_6_6\\n74 78 0 0 0\\nSMALL\\nUSER_CHARGES\\n\\n@<TRIPOS>ATOM\\n     1 C      -0.256063    -0.332488     0.439495 C          1 UNL1 0.0\\n     2 C       0.708418     0.908737     0.321722 C          1 UNL1 0.0\\n     3 O      -0.172667     1.954052     0.153453 O          1 UNL1 0.0\\n     4 C      -1.447115     1.547699     0.284853 C          1 UNL1 0.0\\n     5 N      -1.576048     0.289936     0.470166 N          1 UNL1 0.0\\n     6 C      -2.600873     2.509169     0.173145 C          1 UNL1 0.0\\n     7 C      -3.893192     1.748374     0.048684 C          1 UNL1 0.0\\n     8 O      -5.061656     2.384374    -0.135383 O          1 UNL1 0.0\\n     9 C      -6.102127     1.491191    -0.077789 C          1 UNL1 0.0\\n    10 C      -5.394336     0.087619    -0.062471 C          1 UNL1 0.0\\n    11 N      -3.997484     0.474710     0.143044 N          1 UNL1 0.0\\n    12 C      -2.875321    -0.414566     0.520614 C          1 UNL1 0.0\\n    13 Br     -3.238339    -0.994217     2.345912 Br         1 UNL1 0.0\\n    14 Br     -2.756857    -2.038033    -0.573198 Br         1 UNL1 0.0\\n    15 C      -2.640943     3.404398     1.422291 C          1 UNL1 0.0\\n    16 C      -2.425439     3.370340    -1.088753 C          1 UNL1 0.0\\n    17 C      -7.251213     1.934235    -1.041290 C          1 UNL1 0.0\\n    18 C      -6.794536     2.351834    -2.459620 C          1 UNL1 0.0\\n    19 C      -8.437028     0.956573    -1.064416 C          1 UNL1 0.0\\n    20 C       1.725179     1.367784     1.418605 C          1 UNL1 0.0\\n    21 C       2.873924     0.387752     1.669720 C          1 UNL1 0.0\\n    22 C       1.089600     1.830948     2.740523 C          1 UNL1 0.0\\n    23 H      -0.243329    -0.875377    -0.529360 H          1 UNL1 0.0\\n    24 H       1.295672     0.780296    -0.615077 H          1 UNL1 0.0\\n    25 H      -6.534909     1.598924     0.944515 H          1 UNL1 0.0\\n    26 H      -5.735018    -0.450968     0.833649 H          1 UNL1 0.0\\n    27 H      -2.772623     2.783089     2.336092 H          1 UNL1 0.0\\n    28 H      -3.487073     4.123282     1.367920 H          1 UNL1 0.0\\n    29 H      -1.697049     3.981379     1.526916 H          1 UNL1 0.0\\n    30 H      -1.483602     3.958409    -1.033779 H          1 UNL1 0.0\\n    31 H      -3.267253     4.090163    -1.191107 H          1 UNL1 0.0\\n    32 H      -2.393619     2.733400    -1.998701 H          1 UNL1 0.0\\n    33 H      -7.641362     2.881580    -0.604679 H          1 UNL1 0.0\\n    34 H      -6.022404     3.147014    -2.387263 H          1 UNL1 0.0\\n    35 H      -7.657081     2.780982    -3.012084 H          1 UNL1 0.0\\n    36 H      -6.381885     1.553341    -3.095100 H          1 UNL1 0.0\\n    37 H      -8.187558    -0.018794    -1.519268 H          1 UNL1 0.0\\n    38 H      -9.270785     1.392440    -1.654970 H          1 UNL1 0.0\\n    39 H      -8.801193     0.775740    -0.031652 H          1 UNL1 0.0\\n    40 H       2.208448     2.274455     0.986017 H          1 UNL1 0.0\\n    41 H       3.650059     0.874204     2.298170 H          1 UNL1 0.0\\n    42 H       3.350606     0.097369     0.708865 H          1 UNL1 0.0\\n    43 H       2.538888    -0.505991     2.217874 H          1 UNL1 0.0\\n    44 H       0.343773     2.631254     2.554794 H          1 UNL1 0.0\\n    45 H       1.876094     2.257673     3.399900 H          1 UNL1 0.0\\n    46 H       0.598978     1.013189     3.292331 H          1 UNL1 0.0\\n    47 C      -5.556844    -0.754393    -1.372781 C          1 UNL1 0.0\\n    48 C      -6.239436    -2.117188    -1.303138 C          1 UNL1 0.0\\n    49 C      -6.810797    -2.686090    -0.140018 C          1 UNL1 0.0\\n    50 C      -7.435584    -3.936759    -0.195187 C          1 UNL1 0.0\\n    51 C      -7.501610    -4.640268    -1.397445 C          1 UNL1 0.0\\n    52 C      -6.943164    -4.095372    -2.552417 C          1 UNL1 0.0\\n    53 C      -6.320047    -2.845645    -2.506628 C          1 UNL1 0.0\\n    54 H      -6.117846    -0.202912    -2.115599 H          1 UNL1 0.0\\n    55 H      -4.589912    -0.835254    -1.895561 H          1 UNL1 0.0\\n    56 H      -6.807285    -2.198109     0.817637 H          1 UNL1 0.0\\n    57 H      -7.874683    -4.360384     0.699140 H          1 UNL1 0.0\\n    58 H      -7.988192    -5.606502    -1.434191 H          1 UNL1 0.0\\n    59 H      -6.995666    -4.640044    -3.486367 H          1 UNL1 0.0\\n    60 H      -5.897498    -2.440853    -3.418472 H          1 UNL1 0.0\\n    61 C      -0.011407    -1.384326     1.551570 C          1 UNL1 0.0\\n    62 C       1.114646    -2.377905     1.335923 C          1 UNL1 0.0\\n    63 C       1.935675    -2.404629     0.188214 C          1 UNL1 0.0\\n    64 C       2.928487    -3.380798     0.053918 C          1 UNL1 0.0\\n    65 C       3.117619    -4.335093     1.055714 C          1 UNL1 0.0\\n    66 C       2.315447    -4.315914     2.196994 C          1 UNL1 0.0\\n    67 C       1.320239    -3.346312     2.335503 C          1 UNL1 0.0\\n    68 H       0.077578    -0.895295     2.534391 H          1 UNL1 0.0\\n    69 H      -0.894559    -2.042999     1.599625 H          1 UNL1 0.0\\n    70 H       1.819646    -1.689178    -0.611442 H          1 UNL1 0.0\\n    71 H       3.549970    -3.400258    -0.831783 H          1 UNL1 0.0\\n    72 H       3.884227    -5.091110     0.947045 H          1 UNL1 0.0\\n    73 H       2.460100    -5.055676     2.973829 H          1 UNL1 0.0\\n    74 H       0.701819    -3.351120     3.225378 H          1 UNL1 0.0\\n@<TRIPOS>BOND\\n     1      1      2          1\\n     2      2      3          1\\n     3      3      4          1\\n     4      4      5          2\\n     5      5      1          1\\n     6      4      6          1\\n     7      6      7          1\\n     8      7      8          1\\n     9      8      9          1\\n    10      9     10          1\\n    11     10     11          1\\n    12     11      7          2\\n    13     11     12          1\\n    14     12      5          1\\n    15     12     13          1\\n    16     12     14          1\\n    17      6     15          1\\n    18      6     16          1\\n    19     17     18          1\\n    20     17     19          1\\n    21      9     17          1\\n    22     20     21          1\\n    23     20     22          1\\n    24      2     20          1\\n    25      1     23          1\\n    26      2     24          1\\n    27      9     25          1\\n    28     10     26          1\\n    29     15     27          1\\n    30     15     28          1\\n    31     15     29          1\\n    32     16     30          1\\n    33     16     31          1\\n    34     16     32          1\\n    35     17     33          1\\n    36     18     34          1\\n    37     18     35          1\\n    38     18     36          1\\n    39     19     37          1\\n    40     19     38          1\\n    41     19     39          1\\n    42     20     40          1\\n    43     21     41          1\\n    44     21     42          1\\n    45     21     43          1\\n    46     22     44          1\\n    47     22     45          1\\n    48     22     46          1\\n    49     47     48          1\\n    50     48     49          2\\n    51     49     50          1\\n    52     50     51          2\\n    53     51     52          1\\n    54     52     53          2\\n    55     53     48          1\\n    56     47     54          1\\n    57     47     55          1\\n    58     49     56          1\\n    59     50     57          1\\n    60     51     58          1\\n    61     52     59          1\\n    62     53     60          1\\n    63     10     47          1\\n    64     61     62          1\\n    65     62     63          2\\n    66     63     64          1\\n    67     64     65          2\\n    68     65     66          1\\n    69     66     67          2\\n    70     67     62          1\\n    71     61     68          1\\n    72     61     69          1\\n    73     63     70          1\\n    74     64     71          1\\n    75     65     72          1\\n    76     66     73          1\\n    77     67     74          1\\n    78      1     61          1\\n\",\"mol2\");\n\tviewer_16871986849170587.setStyle({\"stick\": {\"radius\": 0.1}, \"sphere\": {\"scale\": 0.15}});\n\tviewer_16871986849170587.setHoverable({},true,\"\\n            function(atom,viewer,event,container) {\\n                if(!atom.label) {\\n                    atom.label = viewer.addLabel(atom.elem + atom.serial, {position: atom, backgroundColor: 'mintcream', fontColor:'black'});\\n                }\\n            }\\n            \",\"\\n            function(atom,viewer) { \\n                if(atom.label) {\\n                    viewer.removeLabel(atom.label);\\n                    delete atom.label;\\n                }\\n            }\\n            \");\n\tviewer_16871986849170587.zoomTo();\n\tviewer_16871986849170587.setBackgroundColor(null);\nviewer_16871986849170587.render();\n});\n</script>",
      "text/html": [
       "<div id=\"3dmolviewer_16871986849170587\"  style=\"position: relative; width: 1000px; height: 500px\">\n",
       "        <p id=\"3dmolwarning_16871986849170587\" style=\"background-color:#ffcccc;color:black\">You appear to be running in JupyterLab (or JavaScript failed to load for some other reason).  You need to install the 3dmol extension: <br>\n",
       "        <tt>jupyter labextension install jupyterlab_3dmol</tt></p>\n",
       "        </div>\n",
       "<script>\n",
       "\n",
       "var loadScriptAsync = function(uri){\n",
       "  return new Promise((resolve, reject) => {\n",
       "    //this is to ignore the existence of requirejs amd\n",
       "    var savedexports, savedmodule;\n",
       "    if (typeof exports !== 'undefined') savedexports = exports;\n",
       "    else exports = {}\n",
       "    if (typeof module !== 'undefined') savedmodule = module;\n",
       "    else module = {}\n",
       "\n",
       "    var tag = document.createElement('script');\n",
       "    tag.src = uri;\n",
       "    tag.async = true;\n",
       "    tag.onload = () => {\n",
       "        exports = savedexports;\n",
       "        module = savedmodule;\n",
       "        resolve();\n",
       "    };\n",
       "  var firstScriptTag = document.getElementsByTagName('script')[0];\n",
       "  firstScriptTag.parentNode.insertBefore(tag, firstScriptTag);\n",
       "});\n",
       "};\n",
       "\n",
       "if(typeof $3Dmolpromise === 'undefined') {\n",
       "$3Dmolpromise = null;\n",
       "  $3Dmolpromise = loadScriptAsync('https://cdnjs.cloudflare.com/ajax/libs/3Dmol/2.0.1/3Dmol-min.js');\n",
       "}\n",
       "\n",
       "var viewer_16871986849170587 = null;\n",
       "var warn = document.getElementById(\"3dmolwarning_16871986849170587\");\n",
       "if(warn) {\n",
       "    warn.parentNode.removeChild(warn);\n",
       "}\n",
       "$3Dmolpromise.then(function() {\n",
       "viewer_16871986849170587 = $3Dmol.createViewer(document.getElementById(\"3dmolviewer_16871986849170587\"),{backgroundColor:\"white\"});\n",
       "viewer_16871986849170587.zoomTo();\n",
       "\tviewer_16871986849170587.addModel(\"# Produced with molli package\\n@<TRIPOS>MOLECULE\\n3_6_6\\n74 78 0 0 0\\nSMALL\\nUSER_CHARGES\\n\\n@<TRIPOS>ATOM\\n     1 C      -0.256063    -0.332488     0.439495 C          1 UNL1 0.0\\n     2 C       0.708418     0.908737     0.321722 C          1 UNL1 0.0\\n     3 O      -0.172667     1.954052     0.153453 O          1 UNL1 0.0\\n     4 C      -1.447115     1.547699     0.284853 C          1 UNL1 0.0\\n     5 N      -1.576048     0.289936     0.470166 N          1 UNL1 0.0\\n     6 C      -2.600873     2.509169     0.173145 C          1 UNL1 0.0\\n     7 C      -3.893192     1.748374     0.048684 C          1 UNL1 0.0\\n     8 O      -5.061656     2.384374    -0.135383 O          1 UNL1 0.0\\n     9 C      -6.102127     1.491191    -0.077789 C          1 UNL1 0.0\\n    10 C      -5.394336     0.087619    -0.062471 C          1 UNL1 0.0\\n    11 N      -3.997484     0.474710     0.143044 N          1 UNL1 0.0\\n    12 C      -2.875321    -0.414566     0.520614 C          1 UNL1 0.0\\n    13 Br     -3.238339    -0.994217     2.345912 Br         1 UNL1 0.0\\n    14 Br     -2.756857    -2.038033    -0.573198 Br         1 UNL1 0.0\\n    15 C      -2.640943     3.404398     1.422291 C          1 UNL1 0.0\\n    16 C      -2.425439     3.370340    -1.088753 C          1 UNL1 0.0\\n    17 C      -7.251213     1.934235    -1.041290 C          1 UNL1 0.0\\n    18 C      -6.794536     2.351834    -2.459620 C          1 UNL1 0.0\\n    19 C      -8.437028     0.956573    -1.064416 C          1 UNL1 0.0\\n    20 C       1.725179     1.367784     1.418605 C          1 UNL1 0.0\\n    21 C       2.873924     0.387752     1.669720 C          1 UNL1 0.0\\n    22 C       1.089600     1.830948     2.740523 C          1 UNL1 0.0\\n    23 H      -0.243329    -0.875377    -0.529360 H          1 UNL1 0.0\\n    24 H       1.295672     0.780296    -0.615077 H          1 UNL1 0.0\\n    25 H      -6.534909     1.598924     0.944515 H          1 UNL1 0.0\\n    26 H      -5.735018    -0.450968     0.833649 H          1 UNL1 0.0\\n    27 H      -2.772623     2.783089     2.336092 H          1 UNL1 0.0\\n    28 H      -3.487073     4.123282     1.367920 H          1 UNL1 0.0\\n    29 H      -1.697049     3.981379     1.526916 H          1 UNL1 0.0\\n    30 H      -1.483602     3.958409    -1.033779 H          1 UNL1 0.0\\n    31 H      -3.267253     4.090163    -1.191107 H          1 UNL1 0.0\\n    32 H      -2.393619     2.733400    -1.998701 H          1 UNL1 0.0\\n    33 H      -7.641362     2.881580    -0.604679 H          1 UNL1 0.0\\n    34 H      -6.022404     3.147014    -2.387263 H          1 UNL1 0.0\\n    35 H      -7.657081     2.780982    -3.012084 H          1 UNL1 0.0\\n    36 H      -6.381885     1.553341    -3.095100 H          1 UNL1 0.0\\n    37 H      -8.187558    -0.018794    -1.519268 H          1 UNL1 0.0\\n    38 H      -9.270785     1.392440    -1.654970 H          1 UNL1 0.0\\n    39 H      -8.801193     0.775740    -0.031652 H          1 UNL1 0.0\\n    40 H       2.208448     2.274455     0.986017 H          1 UNL1 0.0\\n    41 H       3.650059     0.874204     2.298170 H          1 UNL1 0.0\\n    42 H       3.350606     0.097369     0.708865 H          1 UNL1 0.0\\n    43 H       2.538888    -0.505991     2.217874 H          1 UNL1 0.0\\n    44 H       0.343773     2.631254     2.554794 H          1 UNL1 0.0\\n    45 H       1.876094     2.257673     3.399900 H          1 UNL1 0.0\\n    46 H       0.598978     1.013189     3.292331 H          1 UNL1 0.0\\n    47 C      -5.556844    -0.754393    -1.372781 C          1 UNL1 0.0\\n    48 C      -6.239436    -2.117188    -1.303138 C          1 UNL1 0.0\\n    49 C      -6.810797    -2.686090    -0.140018 C          1 UNL1 0.0\\n    50 C      -7.435584    -3.936759    -0.195187 C          1 UNL1 0.0\\n    51 C      -7.501610    -4.640268    -1.397445 C          1 UNL1 0.0\\n    52 C      -6.943164    -4.095372    -2.552417 C          1 UNL1 0.0\\n    53 C      -6.320047    -2.845645    -2.506628 C          1 UNL1 0.0\\n    54 H      -6.117846    -0.202912    -2.115599 H          1 UNL1 0.0\\n    55 H      -4.589912    -0.835254    -1.895561 H          1 UNL1 0.0\\n    56 H      -6.807285    -2.198109     0.817637 H          1 UNL1 0.0\\n    57 H      -7.874683    -4.360384     0.699140 H          1 UNL1 0.0\\n    58 H      -7.988192    -5.606502    -1.434191 H          1 UNL1 0.0\\n    59 H      -6.995666    -4.640044    -3.486367 H          1 UNL1 0.0\\n    60 H      -5.897498    -2.440853    -3.418472 H          1 UNL1 0.0\\n    61 C      -0.011407    -1.384326     1.551570 C          1 UNL1 0.0\\n    62 C       1.114646    -2.377905     1.335923 C          1 UNL1 0.0\\n    63 C       1.935675    -2.404629     0.188214 C          1 UNL1 0.0\\n    64 C       2.928487    -3.380798     0.053918 C          1 UNL1 0.0\\n    65 C       3.117619    -4.335093     1.055714 C          1 UNL1 0.0\\n    66 C       2.315447    -4.315914     2.196994 C          1 UNL1 0.0\\n    67 C       1.320239    -3.346312     2.335503 C          1 UNL1 0.0\\n    68 H       0.077578    -0.895295     2.534391 H          1 UNL1 0.0\\n    69 H      -0.894559    -2.042999     1.599625 H          1 UNL1 0.0\\n    70 H       1.819646    -1.689178    -0.611442 H          1 UNL1 0.0\\n    71 H       3.549970    -3.400258    -0.831783 H          1 UNL1 0.0\\n    72 H       3.884227    -5.091110     0.947045 H          1 UNL1 0.0\\n    73 H       2.460100    -5.055676     2.973829 H          1 UNL1 0.0\\n    74 H       0.701819    -3.351120     3.225378 H          1 UNL1 0.0\\n@<TRIPOS>BOND\\n     1      1      2          1\\n     2      2      3          1\\n     3      3      4          1\\n     4      4      5          2\\n     5      5      1          1\\n     6      4      6          1\\n     7      6      7          1\\n     8      7      8          1\\n     9      8      9          1\\n    10      9     10          1\\n    11     10     11          1\\n    12     11      7          2\\n    13     11     12          1\\n    14     12      5          1\\n    15     12     13          1\\n    16     12     14          1\\n    17      6     15          1\\n    18      6     16          1\\n    19     17     18          1\\n    20     17     19          1\\n    21      9     17          1\\n    22     20     21          1\\n    23     20     22          1\\n    24      2     20          1\\n    25      1     23          1\\n    26      2     24          1\\n    27      9     25          1\\n    28     10     26          1\\n    29     15     27          1\\n    30     15     28          1\\n    31     15     29          1\\n    32     16     30          1\\n    33     16     31          1\\n    34     16     32          1\\n    35     17     33          1\\n    36     18     34          1\\n    37     18     35          1\\n    38     18     36          1\\n    39     19     37          1\\n    40     19     38          1\\n    41     19     39          1\\n    42     20     40          1\\n    43     21     41          1\\n    44     21     42          1\\n    45     21     43          1\\n    46     22     44          1\\n    47     22     45          1\\n    48     22     46          1\\n    49     47     48          1\\n    50     48     49          2\\n    51     49     50          1\\n    52     50     51          2\\n    53     51     52          1\\n    54     52     53          2\\n    55     53     48          1\\n    56     47     54          1\\n    57     47     55          1\\n    58     49     56          1\\n    59     50     57          1\\n    60     51     58          1\\n    61     52     59          1\\n    62     53     60          1\\n    63     10     47          1\\n    64     61     62          1\\n    65     62     63          2\\n    66     63     64          1\\n    67     64     65          2\\n    68     65     66          1\\n    69     66     67          2\\n    70     67     62          1\\n    71     61     68          1\\n    72     61     69          1\\n    73     63     70          1\\n    74     64     71          1\\n    75     65     72          1\\n    76     66     73          1\\n    77     67     74          1\\n    78      1     61          1\\n\",\"mol2\");\n",
       "\tviewer_16871986849170587.setStyle({\"stick\": {\"radius\": 0.1}, \"sphere\": {\"scale\": 0.15}});\n",
       "\tviewer_16871986849170587.setHoverable({},true,\"\\n            function(atom,viewer,event,container) {\\n                if(!atom.label) {\\n                    atom.label = viewer.addLabel(atom.elem + atom.serial, {position: atom, backgroundColor: 'mintcream', fontColor:'black'});\\n                }\\n            }\\n            \",\"\\n            function(atom,viewer) { \\n                if(atom.label) {\\n                    viewer.removeLabel(atom.label);\\n                    delete atom.label;\\n                }\\n            }\\n            \");\n",
       "\tviewer_16871986849170587.zoomTo();\n",
       "\tviewer_16871986849170587.setBackgroundColor(null);\n",
       "viewer_16871986849170587.render();\n",
       "});\n",
       "</script>"
      ]
     },
     "metadata": {},
     "output_type": "display_data"
    },
    {
     "data": {
      "text/plain": [
       "Molecule(name='3_6_6', formula='C30 H38 Br2 N2 O2')"
      ]
     },
     "execution_count": 9,
     "metadata": {},
     "output_type": "execute_result"
    }
   ],
   "source": [
    "combined[\"3_6_6\"]"
   ]
  },
  {
   "attachments": {},
   "cell_type": "markdown",
   "metadata": {},
   "source": [
    "# 3. Conformer Generation"
   ]
  },
  {
   "cell_type": "code",
   "execution_count": 10,
   "metadata": {},
   "outputs": [
    {
     "name": "stderr",
     "output_type": "stream",
     "text": [
      "100%|██████████| 75/75 [02:12<00:00,  1.77s/it]\n"
     ]
    },
    {
     "data": {
      "text/plain": [
       "CompletedProcess(args=['molli', 'conformers', './ncsa-testing-output/test_combine_new_env.mlib', '-n', '50', '-o', './ncsa-testing-output/test_conformers_new_env.mlib', '-t', '-j', '96', '--overwrite'], returncode=0)"
      ]
     },
     "execution_count": 10,
     "metadata": {},
     "output_type": "execute_result"
    }
   ],
   "source": [
    "subprocess.run(['molli', \n",
    "                'conformers', \n",
    "                f'{out_dir}test_combine_new_env.mlib', \n",
    "                '-n', \n",
    "                '50', \n",
    "                '-o', \n",
    "                f'{out_dir}test_conformers_new_env.mlib', \n",
    "                '-t', \n",
    "                '-j', ### !!!!!! Number of jobs. Please scale down if host system has fewer cores. defaults to os.cpu_count()//2  !!!!! ###\n",
    "                '96',\n",
    "                \"--overwrite\"\n",
    "                ])"
   ]
  },
  {
   "cell_type": "code",
   "execution_count": 11,
   "metadata": {},
   "outputs": [
    {
     "name": "stdout",
     "output_type": "stream",
     "text": [
      "75\n"
     ]
    }
   ],
   "source": [
    "clib = ml.ConformerLibrary(f'{out_dir}test_conformers_new_env.mlib')\n",
    "print(len(clib))"
   ]
  },
  {
   "cell_type": "code",
   "execution_count": 12,
   "metadata": {},
   "outputs": [
    {
     "name": "stdout",
     "output_type": "stream",
     "text": [
      "8028 conformers in library\n"
     ]
    }
   ],
   "source": [
    "i = 0\n",
    "for conf in clib:\n",
    "    i += conf.n_conformers\n",
    "    # print(conf)\n",
    "print(str(i) + ' conformers in library')\n",
    "\n",
    "# many of these conformers ar redundant - redundant confs thrown out during aso calculation"
   ]
  },
  {
   "cell_type": "code",
   "execution_count": 13,
   "metadata": {},
   "outputs": [
    {
     "name": "stdout",
     "output_type": "stream",
     "text": [
      "ConformerEnsemble(name='1_3_3', formula='C16 H26 Br2 N2 O2', n_conformers=150)\n"
     ]
    },
    {
     "data": {
      "application/3dmoljs_load.v0": "<div id=\"3dmolviewer_16871988186221464\"  style=\"position: relative; width: 1000px; height: 500px\">\n        <p id=\"3dmolwarning_16871988186221464\" style=\"background-color:#ffcccc;color:black\">You appear to be running in JupyterLab (or JavaScript failed to load for some other reason).  You need to install the 3dmol extension: <br>\n        <tt>jupyter labextension install jupyterlab_3dmol</tt></p>\n        </div>\n<script>\n\nvar loadScriptAsync = function(uri){\n  return new Promise((resolve, reject) => {\n    //this is to ignore the existence of requirejs amd\n    var savedexports, savedmodule;\n    if (typeof exports !== 'undefined') savedexports = exports;\n    else exports = {}\n    if (typeof module !== 'undefined') savedmodule = module;\n    else module = {}\n\n    var tag = document.createElement('script');\n    tag.src = uri;\n    tag.async = true;\n    tag.onload = () => {\n        exports = savedexports;\n        module = savedmodule;\n        resolve();\n    };\n  var firstScriptTag = document.getElementsByTagName('script')[0];\n  firstScriptTag.parentNode.insertBefore(tag, firstScriptTag);\n});\n};\n\nif(typeof $3Dmolpromise === 'undefined') {\n$3Dmolpromise = null;\n  $3Dmolpromise = loadScriptAsync('https://cdnjs.cloudflare.com/ajax/libs/3Dmol/2.0.1/3Dmol-min.js');\n}\n\nvar viewer_16871988186221464 = null;\nvar warn = document.getElementById(\"3dmolwarning_16871988186221464\");\nif(warn) {\n    warn.parentNode.removeChild(warn);\n}\n$3Dmolpromise.then(function() {\nviewer_16871988186221464 = $3Dmol.createViewer(document.getElementById(\"3dmolviewer_16871988186221464\"),{backgroundColor:\"white\"});\nviewer_16871988186221464.zoomTo();\n\tviewer_16871988186221464.addModel(\"# Produced with molli package\\n@<TRIPOS>MOLECULE\\n1_3_3\\n48 50 0 0 0\\nSMALL\\nUSER_CHARGES\\n\\n@<TRIPOS>ATOM\\n     1 C       0.005200    -0.049800     0.565100 C.3        1 UNL1 0.0\\n     2 C       0.805000     1.155900     0.055300 C.3        1 UNL1 0.0\\n     3 O      -0.058400     2.264500     0.382200 O.2        1 UNL1 0.0\\n     4 C      -1.304900     1.796600     0.370600 C.2        1 UNL1 0.0\\n     5 N      -1.360600     0.521400     0.355300 N.2        1 UNL1 0.0\\n     6 C      -2.514400     2.667500     0.332300 C.3        1 UNL1 0.0\\n     7 C      -3.769100     1.853300     0.305600 C.2        1 UNL1 0.0\\n     8 O      -4.948700     2.356100     0.659500 O.2        1 UNL1 0.0\\n     9 C      -5.853300     1.261900     0.852600 C.3        1 UNL1 0.0\\n    10 C      -5.216400     0.101700     0.078800 C.3        1 UNL1 0.0\\n    11 N      -3.812500     0.618200    -0.020400 N.2        1 UNL1 0.0\\n    12 C      -2.550000    -0.161100    -0.267100 C.3        1 UNL1 0.0\\n    13 BR     -2.159100    -0.144900    -2.219300 Br         1 UNL1 0.0\\n    14 BR     -2.721300    -2.015000     0.311400 Br         1 UNL1 0.0\\n    15 C      -2.503200     3.529800     1.604300 C.3        1 UNL1 0.0\\n    16 C      -2.475800     3.565600    -0.907800 C.3        1 UNL1 0.0\\n    17 H       0.155700    -0.944300    -0.046400 H          1 UNL1 0.0\\n    18 H       1.778100     1.300100     0.529700 H          1 UNL1 0.0\\n    19 H       0.942300     1.136800    -1.032700 H          1 UNL1 0.0\\n    20 H      -5.906700     1.051300     1.927300 H          1 UNL1 0.0\\n    21 H      -6.853100     1.539500     0.505600 H          1 UNL1 0.0\\n    22 H      -5.245700    -0.795900     0.703700 H          1 UNL1 0.0\\n    23 H      -1.585200     4.124100     1.679900 H          1 UNL1 0.0\\n    24 H      -3.349900     4.225300     1.628400 H          1 UNL1 0.0\\n    25 H      -2.564600     2.905900     2.504400 H          1 UNL1 0.0\\n    26 H      -1.582300     4.200100    -0.915600 H          1 UNL1 0.0\\n    27 H      -2.464500     2.977800    -1.831700 H          1 UNL1 0.0\\n    28 H      -3.353800     4.220300    -0.951900 H          1 UNL1 0.0\\n    29 C      -5.946700    -0.130900    -1.263400 C.3        1 UNL1 0.0\\n    30 C      -5.837600     1.002000    -2.288400 C.3        1 UNL1 0.0\\n    31 C      -5.634400    -1.485000    -1.901900 C.3        1 UNL1 0.0\\n    32 H      -7.015500    -0.196000    -1.009200 H          1 UNL1 0.0\\n    33 H      -4.818100     1.136000    -2.654500 H          1 UNL1 0.0\\n    34 H      -6.471000     0.791300    -3.157400 H          1 UNL1 0.0\\n    35 H      -6.174800     1.954500    -1.868000 H          1 UNL1 0.0\\n    36 H      -4.628000    -1.536700    -2.313400 H          1 UNL1 0.0\\n    37 H      -5.752200    -2.295600    -1.175300 H          1 UNL1 0.0\\n    38 H      -6.328800    -1.684800    -2.725900 H          1 UNL1 0.0\\n    39 C       0.321700    -0.274300     2.074300 C.3        1 UNL1 0.0\\n    40 C       1.698600    -0.942500     2.226500 C.3        1 UNL1 0.0\\n    41 C      -0.691400    -1.106700     2.859900 C.3        1 UNL1 0.0\\n    42 H       0.373900     0.700900     2.579100 H          1 UNL1 0.0\\n    43 H       1.948700    -1.080700     3.284200 H          1 UNL1 0.0\\n    44 H       2.497200    -0.341700     1.783000 H          1 UNL1 0.0\\n    45 H       1.711800    -1.927100     1.746300 H          1 UNL1 0.0\\n    46 H      -0.396500    -1.167400     3.914200 H          1 UNL1 0.0\\n    47 H      -0.744500    -2.132400     2.484500 H          1 UNL1 0.0\\n    48 H      -1.687100    -0.654700     2.841900 H          1 UNL1 0.0\\n@<TRIPOS>BOND\\n     1      1      2          1\\n     2      2      3          1\\n     3      3      4          1\\n     4      4      5          2\\n     5      5      1          1\\n     6      4      6          1\\n     7      6      7          1\\n     8      7      8          1\\n     9      8      9          1\\n    10      9     10          1\\n    11     10     11          1\\n    12     11      7          2\\n    13     11     12          1\\n    14     12      5          1\\n    15     12     13          1\\n    16     12     14          1\\n    17      6     15          1\\n    18      6     16          1\\n    19      1     17          1\\n    20      2     18          1\\n    21      2     19          1\\n    22      9     20          1\\n    23      9     21          1\\n    24     10     22          1\\n    25     15     23          1\\n    26     15     24          1\\n    27     15     25          1\\n    28     16     26          1\\n    29     16     27          1\\n    30     16     28          1\\n    31     29     30          1\\n    32     29     31          1\\n    33     29     32          1\\n    34     30     33          1\\n    35     30     34          1\\n    36     30     35          1\\n    37     31     36          1\\n    38     31     37          1\\n    39     31     38          1\\n    40     10     29          1\\n    41     39     40          1\\n    42     39     41          1\\n    43     39     42          1\\n    44     40     43          1\\n    45     40     44          1\\n    46     40     45          1\\n    47     41     46          1\\n    48     41     47          1\\n    49     41     48          1\\n    50      1     39          1\\n\",\"mol2\");\n\tviewer_16871988186221464.setStyle({\"stick\": {\"radius\": 0.1}, \"sphere\": {\"scale\": 0.15}});\n\tviewer_16871988186221464.setHoverable({},true,\"\\n            function(atom,viewer,event,container) {\\n                if(!atom.label) {\\n                    atom.label = viewer.addLabel(atom.elem + atom.serial, {position: atom, backgroundColor: 'mintcream', fontColor:'black'});\\n                }\\n            }\\n            \",\"\\n            function(atom,viewer) { \\n                if(atom.label) {\\n                    viewer.removeLabel(atom.label);\\n                    delete atom.label;\\n                }\\n            }\\n            \");\n\tviewer_16871988186221464.zoomTo();\n\tviewer_16871988186221464.setBackgroundColor(null);\nviewer_16871988186221464.render();\n});\n</script>",
      "text/html": [
       "<div id=\"3dmolviewer_16871988186221464\"  style=\"position: relative; width: 1000px; height: 500px\">\n",
       "        <p id=\"3dmolwarning_16871988186221464\" style=\"background-color:#ffcccc;color:black\">You appear to be running in JupyterLab (or JavaScript failed to load for some other reason).  You need to install the 3dmol extension: <br>\n",
       "        <tt>jupyter labextension install jupyterlab_3dmol</tt></p>\n",
       "        </div>\n",
       "<script>\n",
       "\n",
       "var loadScriptAsync = function(uri){\n",
       "  return new Promise((resolve, reject) => {\n",
       "    //this is to ignore the existence of requirejs amd\n",
       "    var savedexports, savedmodule;\n",
       "    if (typeof exports !== 'undefined') savedexports = exports;\n",
       "    else exports = {}\n",
       "    if (typeof module !== 'undefined') savedmodule = module;\n",
       "    else module = {}\n",
       "\n",
       "    var tag = document.createElement('script');\n",
       "    tag.src = uri;\n",
       "    tag.async = true;\n",
       "    tag.onload = () => {\n",
       "        exports = savedexports;\n",
       "        module = savedmodule;\n",
       "        resolve();\n",
       "    };\n",
       "  var firstScriptTag = document.getElementsByTagName('script')[0];\n",
       "  firstScriptTag.parentNode.insertBefore(tag, firstScriptTag);\n",
       "});\n",
       "};\n",
       "\n",
       "if(typeof $3Dmolpromise === 'undefined') {\n",
       "$3Dmolpromise = null;\n",
       "  $3Dmolpromise = loadScriptAsync('https://cdnjs.cloudflare.com/ajax/libs/3Dmol/2.0.1/3Dmol-min.js');\n",
       "}\n",
       "\n",
       "var viewer_16871988186221464 = null;\n",
       "var warn = document.getElementById(\"3dmolwarning_16871988186221464\");\n",
       "if(warn) {\n",
       "    warn.parentNode.removeChild(warn);\n",
       "}\n",
       "$3Dmolpromise.then(function() {\n",
       "viewer_16871988186221464 = $3Dmol.createViewer(document.getElementById(\"3dmolviewer_16871988186221464\"),{backgroundColor:\"white\"});\n",
       "viewer_16871988186221464.zoomTo();\n",
       "\tviewer_16871988186221464.addModel(\"# Produced with molli package\\n@<TRIPOS>MOLECULE\\n1_3_3\\n48 50 0 0 0\\nSMALL\\nUSER_CHARGES\\n\\n@<TRIPOS>ATOM\\n     1 C       0.005200    -0.049800     0.565100 C.3        1 UNL1 0.0\\n     2 C       0.805000     1.155900     0.055300 C.3        1 UNL1 0.0\\n     3 O      -0.058400     2.264500     0.382200 O.2        1 UNL1 0.0\\n     4 C      -1.304900     1.796600     0.370600 C.2        1 UNL1 0.0\\n     5 N      -1.360600     0.521400     0.355300 N.2        1 UNL1 0.0\\n     6 C      -2.514400     2.667500     0.332300 C.3        1 UNL1 0.0\\n     7 C      -3.769100     1.853300     0.305600 C.2        1 UNL1 0.0\\n     8 O      -4.948700     2.356100     0.659500 O.2        1 UNL1 0.0\\n     9 C      -5.853300     1.261900     0.852600 C.3        1 UNL1 0.0\\n    10 C      -5.216400     0.101700     0.078800 C.3        1 UNL1 0.0\\n    11 N      -3.812500     0.618200    -0.020400 N.2        1 UNL1 0.0\\n    12 C      -2.550000    -0.161100    -0.267100 C.3        1 UNL1 0.0\\n    13 BR     -2.159100    -0.144900    -2.219300 Br         1 UNL1 0.0\\n    14 BR     -2.721300    -2.015000     0.311400 Br         1 UNL1 0.0\\n    15 C      -2.503200     3.529800     1.604300 C.3        1 UNL1 0.0\\n    16 C      -2.475800     3.565600    -0.907800 C.3        1 UNL1 0.0\\n    17 H       0.155700    -0.944300    -0.046400 H          1 UNL1 0.0\\n    18 H       1.778100     1.300100     0.529700 H          1 UNL1 0.0\\n    19 H       0.942300     1.136800    -1.032700 H          1 UNL1 0.0\\n    20 H      -5.906700     1.051300     1.927300 H          1 UNL1 0.0\\n    21 H      -6.853100     1.539500     0.505600 H          1 UNL1 0.0\\n    22 H      -5.245700    -0.795900     0.703700 H          1 UNL1 0.0\\n    23 H      -1.585200     4.124100     1.679900 H          1 UNL1 0.0\\n    24 H      -3.349900     4.225300     1.628400 H          1 UNL1 0.0\\n    25 H      -2.564600     2.905900     2.504400 H          1 UNL1 0.0\\n    26 H      -1.582300     4.200100    -0.915600 H          1 UNL1 0.0\\n    27 H      -2.464500     2.977800    -1.831700 H          1 UNL1 0.0\\n    28 H      -3.353800     4.220300    -0.951900 H          1 UNL1 0.0\\n    29 C      -5.946700    -0.130900    -1.263400 C.3        1 UNL1 0.0\\n    30 C      -5.837600     1.002000    -2.288400 C.3        1 UNL1 0.0\\n    31 C      -5.634400    -1.485000    -1.901900 C.3        1 UNL1 0.0\\n    32 H      -7.015500    -0.196000    -1.009200 H          1 UNL1 0.0\\n    33 H      -4.818100     1.136000    -2.654500 H          1 UNL1 0.0\\n    34 H      -6.471000     0.791300    -3.157400 H          1 UNL1 0.0\\n    35 H      -6.174800     1.954500    -1.868000 H          1 UNL1 0.0\\n    36 H      -4.628000    -1.536700    -2.313400 H          1 UNL1 0.0\\n    37 H      -5.752200    -2.295600    -1.175300 H          1 UNL1 0.0\\n    38 H      -6.328800    -1.684800    -2.725900 H          1 UNL1 0.0\\n    39 C       0.321700    -0.274300     2.074300 C.3        1 UNL1 0.0\\n    40 C       1.698600    -0.942500     2.226500 C.3        1 UNL1 0.0\\n    41 C      -0.691400    -1.106700     2.859900 C.3        1 UNL1 0.0\\n    42 H       0.373900     0.700900     2.579100 H          1 UNL1 0.0\\n    43 H       1.948700    -1.080700     3.284200 H          1 UNL1 0.0\\n    44 H       2.497200    -0.341700     1.783000 H          1 UNL1 0.0\\n    45 H       1.711800    -1.927100     1.746300 H          1 UNL1 0.0\\n    46 H      -0.396500    -1.167400     3.914200 H          1 UNL1 0.0\\n    47 H      -0.744500    -2.132400     2.484500 H          1 UNL1 0.0\\n    48 H      -1.687100    -0.654700     2.841900 H          1 UNL1 0.0\\n@<TRIPOS>BOND\\n     1      1      2          1\\n     2      2      3          1\\n     3      3      4          1\\n     4      4      5          2\\n     5      5      1          1\\n     6      4      6          1\\n     7      6      7          1\\n     8      7      8          1\\n     9      8      9          1\\n    10      9     10          1\\n    11     10     11          1\\n    12     11      7          2\\n    13     11     12          1\\n    14     12      5          1\\n    15     12     13          1\\n    16     12     14          1\\n    17      6     15          1\\n    18      6     16          1\\n    19      1     17          1\\n    20      2     18          1\\n    21      2     19          1\\n    22      9     20          1\\n    23      9     21          1\\n    24     10     22          1\\n    25     15     23          1\\n    26     15     24          1\\n    27     15     25          1\\n    28     16     26          1\\n    29     16     27          1\\n    30     16     28          1\\n    31     29     30          1\\n    32     29     31          1\\n    33     29     32          1\\n    34     30     33          1\\n    35     30     34          1\\n    36     30     35          1\\n    37     31     36          1\\n    38     31     37          1\\n    39     31     38          1\\n    40     10     29          1\\n    41     39     40          1\\n    42     39     41          1\\n    43     39     42          1\\n    44     40     43          1\\n    45     40     44          1\\n    46     40     45          1\\n    47     41     46          1\\n    48     41     47          1\\n    49     41     48          1\\n    50      1     39          1\\n\",\"mol2\");\n",
       "\tviewer_16871988186221464.setStyle({\"stick\": {\"radius\": 0.1}, \"sphere\": {\"scale\": 0.15}});\n",
       "\tviewer_16871988186221464.setHoverable({},true,\"\\n            function(atom,viewer,event,container) {\\n                if(!atom.label) {\\n                    atom.label = viewer.addLabel(atom.elem + atom.serial, {position: atom, backgroundColor: 'mintcream', fontColor:'black'});\\n                }\\n            }\\n            \",\"\\n            function(atom,viewer) { \\n                if(atom.label) {\\n                    viewer.removeLabel(atom.label);\\n                    delete atom.label;\\n                }\\n            }\\n            \");\n",
       "\tviewer_16871988186221464.zoomTo();\n",
       "\tviewer_16871988186221464.setBackgroundColor(null);\n",
       "viewer_16871988186221464.render();\n",
       "});\n",
       "</script>"
      ]
     },
     "metadata": {},
     "output_type": "display_data"
    },
    {
     "data": {
      "text/plain": [
       "Conformer(name='1_3_3', formula='C16 H26 Br2 N2 O2')"
      ]
     },
     "execution_count": 13,
     "metadata": {},
     "output_type": "execute_result"
    }
   ],
   "source": [
    "print(clib[0])\n",
    "\n",
    "clib['1_3_3'][0]"
   ]
  },
  {
   "cell_type": "code",
   "execution_count": 14,
   "metadata": {},
   "outputs": [
    {
     "data": {
      "application/3dmoljs_load.v0": "<div id=\"3dmolviewer_16871988186349118\"  style=\"position: relative; width: 1000px; height: 500px\">\n        <p id=\"3dmolwarning_16871988186349118\" style=\"background-color:#ffcccc;color:black\">You appear to be running in JupyterLab (or JavaScript failed to load for some other reason).  You need to install the 3dmol extension: <br>\n        <tt>jupyter labextension install jupyterlab_3dmol</tt></p>\n        </div>\n<script>\n\nvar loadScriptAsync = function(uri){\n  return new Promise((resolve, reject) => {\n    //this is to ignore the existence of requirejs amd\n    var savedexports, savedmodule;\n    if (typeof exports !== 'undefined') savedexports = exports;\n    else exports = {}\n    if (typeof module !== 'undefined') savedmodule = module;\n    else module = {}\n\n    var tag = document.createElement('script');\n    tag.src = uri;\n    tag.async = true;\n    tag.onload = () => {\n        exports = savedexports;\n        module = savedmodule;\n        resolve();\n    };\n  var firstScriptTag = document.getElementsByTagName('script')[0];\n  firstScriptTag.parentNode.insertBefore(tag, firstScriptTag);\n});\n};\n\nif(typeof $3Dmolpromise === 'undefined') {\n$3Dmolpromise = null;\n  $3Dmolpromise = loadScriptAsync('https://cdnjs.cloudflare.com/ajax/libs/3Dmol/2.0.1/3Dmol-min.js');\n}\n\nvar viewer_16871988186349118 = null;\nvar warn = document.getElementById(\"3dmolwarning_16871988186349118\");\nif(warn) {\n    warn.parentNode.removeChild(warn);\n}\n$3Dmolpromise.then(function() {\nviewer_16871988186349118 = $3Dmol.createViewer(document.getElementById(\"3dmolviewer_16871988186349118\"),{backgroundColor:\"white\"});\nviewer_16871988186349118.zoomTo();\n\tviewer_16871988186349118.addModel(\"# Produced with molli package\\n@<TRIPOS>MOLECULE\\n1_3_3\\n48 50 0 0 0\\nSMALL\\nUSER_CHARGES\\n\\n@<TRIPOS>ATOM\\n     1 C       0.022100    -0.053600     0.499100 C.3        1 UNL1 0.0\\n     2 C       0.841700     1.205500     0.219500 C.3        1 UNL1 0.0\\n     3 O      -0.073100     2.276600     0.510300 O.2        1 UNL1 0.0\\n     4 C      -1.308900     1.792700     0.399100 C.2        1 UNL1 0.0\\n     5 N      -1.349600     0.519000     0.326700 N.2        1 UNL1 0.0\\n     6 C      -2.516900     2.664700     0.332100 C.3        1 UNL1 0.0\\n     7 C      -3.775400     1.863800     0.276500 C.2        1 UNL1 0.0\\n     8 O      -4.973400     2.396000     0.502400 O.2        1 UNL1 0.0\\n     9 C      -5.931500     1.333000     0.613000 C.3        1 UNL1 0.0\\n    10 C      -5.222900     0.116400     0.018500 C.3        1 UNL1 0.0\\n    11 N      -3.810600     0.616700     0.009100 N.2        1 UNL1 0.0\\n    12 C      -2.562300    -0.192200    -0.197600 C.3        1 UNL1 0.0\\n    13 BR     -2.761100    -1.961200     0.606800 Br         1 UNL1 0.0\\n    14 BR     -2.245700    -0.383400    -2.144900 Br         1 UNL1 0.0\\n    15 C      -2.437800     3.542200    -0.922100 C.3        1 UNL1 0.0\\n    16 C      -2.541400     3.542600     1.592100 C.3        1 UNL1 0.0\\n    17 H       0.197100    -0.816800    -0.266500 H          1 UNL1 0.0\\n    18 H       1.743200     1.309100     0.828000 H          1 UNL1 0.0\\n    19 H       1.125400     1.281400    -0.836900 H          1 UNL1 0.0\\n    20 H      -6.858600     1.615300     0.108300 H          1 UNL1 0.0\\n    21 H      -6.152700     1.189100     1.677000 H          1 UNL1 0.0\\n    22 H      -5.298100    -0.719000     0.721600 H          1 UNL1 0.0\\n    23 H      -2.400000     2.934300    -1.833300 H          1 UNL1 0.0\\n    24 H      -3.311000     4.199300    -1.005500 H          1 UNL1 0.0\\n    25 H      -1.541700     4.173100    -0.914300 H          1 UNL1 0.0\\n    26 H      -3.391800     4.233900     1.586300 H          1 UNL1 0.0\\n    27 H      -2.623000     2.929300     2.497700 H          1 UNL1 0.0\\n    28 H      -1.628700     4.142600     1.683800 H          1 UNL1 0.0\\n    29 C      -5.719800    -0.307500    -1.378400 C.3        1 UNL1 0.0\\n    30 C      -7.094300    -0.981700    -1.266000 C.3        1 UNL1 0.0\\n    31 C      -5.799400     0.826800    -2.408600 C.3        1 UNL1 0.0\\n    32 H      -5.043300    -1.071900    -1.775700 H          1 UNL1 0.0\\n    33 H      -7.860400    -0.287100    -0.907100 H          1 UNL1 0.0\\n    34 H      -7.418100    -1.362800    -2.240600 H          1 UNL1 0.0\\n    35 H      -7.055000    -1.830800    -0.575400 H          1 UNL1 0.0\\n    36 H      -6.565200     1.564000    -2.148400 H          1 UNL1 0.0\\n    37 H      -4.847300     1.353700    -2.513300 H          1 UNL1 0.0\\n    38 H      -6.058500     0.424100    -3.394300 H          1 UNL1 0.0\\n    39 C       0.235200    -0.633100     1.922000 C.3        1 UNL1 0.0\\n    40 C       0.089300     0.370600     3.073400 C.3        1 UNL1 0.0\\n    41 C       1.607100    -1.315500     2.012000 C.3        1 UNL1 0.0\\n    42 H      -0.500900    -1.419500     2.106900 H          1 UNL1 0.0\\n    43 H       0.826100     1.177300     3.012600 H          1 UNL1 0.0\\n    44 H      -0.910500     0.814700     3.092700 H          1 UNL1 0.0\\n    45 H       0.234900    -0.131900     4.036400 H          1 UNL1 0.0\\n    46 H       1.721700    -1.825200     2.975000 H          1 UNL1 0.0\\n    47 H       2.428000    -0.598100     1.916600 H          1 UNL1 0.0\\n    48 H       1.718700    -2.068700     1.224800 H          1 UNL1 0.0\\n@<TRIPOS>BOND\\n     1      1      2          1\\n     2      2      3          1\\n     3      3      4          1\\n     4      4      5          2\\n     5      5      1          1\\n     6      4      6          1\\n     7      6      7          1\\n     8      7      8          1\\n     9      8      9          1\\n    10      9     10          1\\n    11     10     11          1\\n    12     11      7          2\\n    13     11     12          1\\n    14     12      5          1\\n    15     12     13          1\\n    16     12     14          1\\n    17      6     15          1\\n    18      6     16          1\\n    19      1     17          1\\n    20      2     18          1\\n    21      2     19          1\\n    22      9     20          1\\n    23      9     21          1\\n    24     10     22          1\\n    25     15     23          1\\n    26     15     24          1\\n    27     15     25          1\\n    28     16     26          1\\n    29     16     27          1\\n    30     16     28          1\\n    31     29     30          1\\n    32     29     31          1\\n    33     29     32          1\\n    34     30     33          1\\n    35     30     34          1\\n    36     30     35          1\\n    37     31     36          1\\n    38     31     37          1\\n    39     31     38          1\\n    40     10     29          1\\n    41     39     40          1\\n    42     39     41          1\\n    43     39     42          1\\n    44     40     43          1\\n    45     40     44          1\\n    46     40     45          1\\n    47     41     46          1\\n    48     41     47          1\\n    49     41     48          1\\n    50      1     39          1\\n\",\"mol2\");\n\tviewer_16871988186349118.setStyle({\"stick\": {\"radius\": 0.1}, \"sphere\": {\"scale\": 0.15}});\n\tviewer_16871988186349118.setHoverable({},true,\"\\n            function(atom,viewer,event,container) {\\n                if(!atom.label) {\\n                    atom.label = viewer.addLabel(atom.elem + atom.serial, {position: atom, backgroundColor: 'mintcream', fontColor:'black'});\\n                }\\n            }\\n            \",\"\\n            function(atom,viewer) { \\n                if(atom.label) {\\n                    viewer.removeLabel(atom.label);\\n                    delete atom.label;\\n                }\\n            }\\n            \");\n\tviewer_16871988186349118.zoomTo();\n\tviewer_16871988186349118.setBackgroundColor(null);\nviewer_16871988186349118.render();\n});\n</script>",
      "text/html": [
       "<div id=\"3dmolviewer_16871988186349118\"  style=\"position: relative; width: 1000px; height: 500px\">\n",
       "        <p id=\"3dmolwarning_16871988186349118\" style=\"background-color:#ffcccc;color:black\">You appear to be running in JupyterLab (or JavaScript failed to load for some other reason).  You need to install the 3dmol extension: <br>\n",
       "        <tt>jupyter labextension install jupyterlab_3dmol</tt></p>\n",
       "        </div>\n",
       "<script>\n",
       "\n",
       "var loadScriptAsync = function(uri){\n",
       "  return new Promise((resolve, reject) => {\n",
       "    //this is to ignore the existence of requirejs amd\n",
       "    var savedexports, savedmodule;\n",
       "    if (typeof exports !== 'undefined') savedexports = exports;\n",
       "    else exports = {}\n",
       "    if (typeof module !== 'undefined') savedmodule = module;\n",
       "    else module = {}\n",
       "\n",
       "    var tag = document.createElement('script');\n",
       "    tag.src = uri;\n",
       "    tag.async = true;\n",
       "    tag.onload = () => {\n",
       "        exports = savedexports;\n",
       "        module = savedmodule;\n",
       "        resolve();\n",
       "    };\n",
       "  var firstScriptTag = document.getElementsByTagName('script')[0];\n",
       "  firstScriptTag.parentNode.insertBefore(tag, firstScriptTag);\n",
       "});\n",
       "};\n",
       "\n",
       "if(typeof $3Dmolpromise === 'undefined') {\n",
       "$3Dmolpromise = null;\n",
       "  $3Dmolpromise = loadScriptAsync('https://cdnjs.cloudflare.com/ajax/libs/3Dmol/2.0.1/3Dmol-min.js');\n",
       "}\n",
       "\n",
       "var viewer_16871988186349118 = null;\n",
       "var warn = document.getElementById(\"3dmolwarning_16871988186349118\");\n",
       "if(warn) {\n",
       "    warn.parentNode.removeChild(warn);\n",
       "}\n",
       "$3Dmolpromise.then(function() {\n",
       "viewer_16871988186349118 = $3Dmol.createViewer(document.getElementById(\"3dmolviewer_16871988186349118\"),{backgroundColor:\"white\"});\n",
       "viewer_16871988186349118.zoomTo();\n",
       "\tviewer_16871988186349118.addModel(\"# Produced with molli package\\n@<TRIPOS>MOLECULE\\n1_3_3\\n48 50 0 0 0\\nSMALL\\nUSER_CHARGES\\n\\n@<TRIPOS>ATOM\\n     1 C       0.022100    -0.053600     0.499100 C.3        1 UNL1 0.0\\n     2 C       0.841700     1.205500     0.219500 C.3        1 UNL1 0.0\\n     3 O      -0.073100     2.276600     0.510300 O.2        1 UNL1 0.0\\n     4 C      -1.308900     1.792700     0.399100 C.2        1 UNL1 0.0\\n     5 N      -1.349600     0.519000     0.326700 N.2        1 UNL1 0.0\\n     6 C      -2.516900     2.664700     0.332100 C.3        1 UNL1 0.0\\n     7 C      -3.775400     1.863800     0.276500 C.2        1 UNL1 0.0\\n     8 O      -4.973400     2.396000     0.502400 O.2        1 UNL1 0.0\\n     9 C      -5.931500     1.333000     0.613000 C.3        1 UNL1 0.0\\n    10 C      -5.222900     0.116400     0.018500 C.3        1 UNL1 0.0\\n    11 N      -3.810600     0.616700     0.009100 N.2        1 UNL1 0.0\\n    12 C      -2.562300    -0.192200    -0.197600 C.3        1 UNL1 0.0\\n    13 BR     -2.761100    -1.961200     0.606800 Br         1 UNL1 0.0\\n    14 BR     -2.245700    -0.383400    -2.144900 Br         1 UNL1 0.0\\n    15 C      -2.437800     3.542200    -0.922100 C.3        1 UNL1 0.0\\n    16 C      -2.541400     3.542600     1.592100 C.3        1 UNL1 0.0\\n    17 H       0.197100    -0.816800    -0.266500 H          1 UNL1 0.0\\n    18 H       1.743200     1.309100     0.828000 H          1 UNL1 0.0\\n    19 H       1.125400     1.281400    -0.836900 H          1 UNL1 0.0\\n    20 H      -6.858600     1.615300     0.108300 H          1 UNL1 0.0\\n    21 H      -6.152700     1.189100     1.677000 H          1 UNL1 0.0\\n    22 H      -5.298100    -0.719000     0.721600 H          1 UNL1 0.0\\n    23 H      -2.400000     2.934300    -1.833300 H          1 UNL1 0.0\\n    24 H      -3.311000     4.199300    -1.005500 H          1 UNL1 0.0\\n    25 H      -1.541700     4.173100    -0.914300 H          1 UNL1 0.0\\n    26 H      -3.391800     4.233900     1.586300 H          1 UNL1 0.0\\n    27 H      -2.623000     2.929300     2.497700 H          1 UNL1 0.0\\n    28 H      -1.628700     4.142600     1.683800 H          1 UNL1 0.0\\n    29 C      -5.719800    -0.307500    -1.378400 C.3        1 UNL1 0.0\\n    30 C      -7.094300    -0.981700    -1.266000 C.3        1 UNL1 0.0\\n    31 C      -5.799400     0.826800    -2.408600 C.3        1 UNL1 0.0\\n    32 H      -5.043300    -1.071900    -1.775700 H          1 UNL1 0.0\\n    33 H      -7.860400    -0.287100    -0.907100 H          1 UNL1 0.0\\n    34 H      -7.418100    -1.362800    -2.240600 H          1 UNL1 0.0\\n    35 H      -7.055000    -1.830800    -0.575400 H          1 UNL1 0.0\\n    36 H      -6.565200     1.564000    -2.148400 H          1 UNL1 0.0\\n    37 H      -4.847300     1.353700    -2.513300 H          1 UNL1 0.0\\n    38 H      -6.058500     0.424100    -3.394300 H          1 UNL1 0.0\\n    39 C       0.235200    -0.633100     1.922000 C.3        1 UNL1 0.0\\n    40 C       0.089300     0.370600     3.073400 C.3        1 UNL1 0.0\\n    41 C       1.607100    -1.315500     2.012000 C.3        1 UNL1 0.0\\n    42 H      -0.500900    -1.419500     2.106900 H          1 UNL1 0.0\\n    43 H       0.826100     1.177300     3.012600 H          1 UNL1 0.0\\n    44 H      -0.910500     0.814700     3.092700 H          1 UNL1 0.0\\n    45 H       0.234900    -0.131900     4.036400 H          1 UNL1 0.0\\n    46 H       1.721700    -1.825200     2.975000 H          1 UNL1 0.0\\n    47 H       2.428000    -0.598100     1.916600 H          1 UNL1 0.0\\n    48 H       1.718700    -2.068700     1.224800 H          1 UNL1 0.0\\n@<TRIPOS>BOND\\n     1      1      2          1\\n     2      2      3          1\\n     3      3      4          1\\n     4      4      5          2\\n     5      5      1          1\\n     6      4      6          1\\n     7      6      7          1\\n     8      7      8          1\\n     9      8      9          1\\n    10      9     10          1\\n    11     10     11          1\\n    12     11      7          2\\n    13     11     12          1\\n    14     12      5          1\\n    15     12     13          1\\n    16     12     14          1\\n    17      6     15          1\\n    18      6     16          1\\n    19      1     17          1\\n    20      2     18          1\\n    21      2     19          1\\n    22      9     20          1\\n    23      9     21          1\\n    24     10     22          1\\n    25     15     23          1\\n    26     15     24          1\\n    27     15     25          1\\n    28     16     26          1\\n    29     16     27          1\\n    30     16     28          1\\n    31     29     30          1\\n    32     29     31          1\\n    33     29     32          1\\n    34     30     33          1\\n    35     30     34          1\\n    36     30     35          1\\n    37     31     36          1\\n    38     31     37          1\\n    39     31     38          1\\n    40     10     29          1\\n    41     39     40          1\\n    42     39     41          1\\n    43     39     42          1\\n    44     40     43          1\\n    45     40     44          1\\n    46     40     45          1\\n    47     41     46          1\\n    48     41     47          1\\n    49     41     48          1\\n    50      1     39          1\\n\",\"mol2\");\n",
       "\tviewer_16871988186349118.setStyle({\"stick\": {\"radius\": 0.1}, \"sphere\": {\"scale\": 0.15}});\n",
       "\tviewer_16871988186349118.setHoverable({},true,\"\\n            function(atom,viewer,event,container) {\\n                if(!atom.label) {\\n                    atom.label = viewer.addLabel(atom.elem + atom.serial, {position: atom, backgroundColor: 'mintcream', fontColor:'black'});\\n                }\\n            }\\n            \",\"\\n            function(atom,viewer) { \\n                if(atom.label) {\\n                    viewer.removeLabel(atom.label);\\n                    delete atom.label;\\n                }\\n            }\\n            \");\n",
       "\tviewer_16871988186349118.zoomTo();\n",
       "\tviewer_16871988186349118.setBackgroundColor(null);\n",
       "viewer_16871988186349118.render();\n",
       "});\n",
       "</script>"
      ]
     },
     "metadata": {},
     "output_type": "display_data"
    },
    {
     "data": {
      "text/plain": [
       "Conformer(name='1_3_3', formula='C16 H26 Br2 N2 O2')"
      ]
     },
     "execution_count": 14,
     "metadata": {},
     "output_type": "execute_result"
    }
   ],
   "source": [
    "clib['1_3_3'][1]"
   ]
  },
  {
   "cell_type": "code",
   "execution_count": 15,
   "metadata": {},
   "outputs": [
    {
     "data": {
      "application/3dmoljs_load.v0": "<div id=\"3dmolviewer_16871988186486597\"  style=\"position: relative; width: 1000px; height: 500px\">\n        <p id=\"3dmolwarning_16871988186486597\" style=\"background-color:#ffcccc;color:black\">You appear to be running in JupyterLab (or JavaScript failed to load for some other reason).  You need to install the 3dmol extension: <br>\n        <tt>jupyter labextension install jupyterlab_3dmol</tt></p>\n        </div>\n<script>\n\nvar loadScriptAsync = function(uri){\n  return new Promise((resolve, reject) => {\n    //this is to ignore the existence of requirejs amd\n    var savedexports, savedmodule;\n    if (typeof exports !== 'undefined') savedexports = exports;\n    else exports = {}\n    if (typeof module !== 'undefined') savedmodule = module;\n    else module = {}\n\n    var tag = document.createElement('script');\n    tag.src = uri;\n    tag.async = true;\n    tag.onload = () => {\n        exports = savedexports;\n        module = savedmodule;\n        resolve();\n    };\n  var firstScriptTag = document.getElementsByTagName('script')[0];\n  firstScriptTag.parentNode.insertBefore(tag, firstScriptTag);\n});\n};\n\nif(typeof $3Dmolpromise === 'undefined') {\n$3Dmolpromise = null;\n  $3Dmolpromise = loadScriptAsync('https://cdnjs.cloudflare.com/ajax/libs/3Dmol/2.0.1/3Dmol-min.js');\n}\n\nvar viewer_16871988186486597 = null;\nvar warn = document.getElementById(\"3dmolwarning_16871988186486597\");\nif(warn) {\n    warn.parentNode.removeChild(warn);\n}\n$3Dmolpromise.then(function() {\nviewer_16871988186486597 = $3Dmol.createViewer(document.getElementById(\"3dmolviewer_16871988186486597\"),{backgroundColor:\"white\"});\nviewer_16871988186486597.zoomTo();\n\tviewer_16871988186486597.addModel(\"# Produced with molli package\\n@<TRIPOS>MOLECULE\\n3_6_6\\n74 78 0 0 0\\nSMALL\\nUSER_CHARGES\\n\\n@<TRIPOS>ATOM\\n     1 C       0.130000     0.064500     0.190000 C.3        1 UNL1 0.0\\n     2 C       0.814000     1.240500     0.925300 C.3        1 UNL1 0.0\\n     3 O      -0.104600     2.311300     0.613200 O.2        1 UNL1 0.0\\n     4 C      -1.319000     1.788200     0.441700 C.2        1 UNL1 0.0\\n     5 N      -1.317400     0.519400     0.296700 N.2        1 UNL1 0.0\\n     6 C      -2.518000     2.658500     0.310800 C.3        1 UNL1 0.0\\n     7 C      -3.775700     1.870400     0.267200 C.2        1 UNL1 0.0\\n     8 O      -4.959500     2.433300     0.489700 O.2        1 UNL1 0.0\\n     9 C      -5.932900     1.395100     0.696000 C.3        1 UNL1 0.0\\n    10 C      -5.275200     0.143100     0.065200 C.3        1 UNL1 0.0\\n    11 N      -3.831300     0.620400     0.026900 N.2        1 UNL1 0.0\\n    12 C      -2.578300    -0.235200    -0.075600 C.3        1 UNL1 0.0\\n    13 BR     -2.819100    -1.697800     1.196800 Br         1 UNL1 0.0\\n    14 BR     -2.353600    -0.758400    -1.937600 Br         1 UNL1 0.0\\n    15 C      -2.412000     3.459700    -0.993200 C.3        1 UNL1 0.0\\n    16 C      -2.561900     3.612600     1.513500 C.3        1 UNL1 0.0\\n    17 C      -7.327200     1.872900     0.241800 C.3        1 UNL1 0.0\\n    18 C      -7.950200     2.759300     1.332400 C.3        1 UNL1 0.0\\n    19 C      -7.317900     2.676800    -1.064300 C.3        1 UNL1 0.0\\n    20 C       0.992900     1.183500     2.469500 C.3        1 UNL1 0.0\\n    21 C       1.168300     2.597400     3.050800 C.3        1 UNL1 0.0\\n    22 C       2.196900     0.342900     2.907700 C.3        1 UNL1 0.0\\n    23 H       0.366400     0.175000    -0.875600 H          1 UNL1 0.0\\n    24 H       1.775000     1.471400     0.448700 H          1 UNL1 0.0\\n    25 H      -5.968700     1.227100     1.782800 H          1 UNL1 0.0\\n    26 H      -5.362700    -0.663500     0.795700 H          1 UNL1 0.0\\n    27 H      -1.531500     4.111300    -0.993800 H          1 UNL1 0.0\\n    28 H      -3.296700     4.087600    -1.146100 H          1 UNL1 0.0\\n    29 H      -2.331300     2.795200    -1.862500 H          1 UNL1 0.0\\n    30 H      -3.423300     4.287800     1.464800 H          1 UNL1 0.0\\n    31 H      -1.661900     4.236000     1.567100 H          1 UNL1 0.0\\n    32 H      -2.633300     3.056500     2.455700 H          1 UNL1 0.0\\n    33 H      -7.988800     1.005700     0.133200 H          1 UNL1 0.0\\n    34 H      -7.334400     3.642700     1.531900 H          1 UNL1 0.0\\n    35 H      -8.060500     2.202800     2.268600 H          1 UNL1 0.0\\n    36 H      -8.946600     3.100300     1.033500 H          1 UNL1 0.0\\n    37 H      -6.774700     3.621100    -0.952300 H          1 UNL1 0.0\\n    38 H      -6.861800     2.128000    -1.889100 H          1 UNL1 0.0\\n    39 H      -8.341300     2.922000    -1.366400 H          1 UNL1 0.0\\n    40 H       0.090800     0.763100     2.929100 H          1 UNL1 0.0\\n    41 H       2.012500     3.113300     2.580900 H          1 UNL1 0.0\\n    42 H       0.271700     3.207500     2.902900 H          1 UNL1 0.0\\n    43 H       1.352300     2.558200     4.129300 H          1 UNL1 0.0\\n    44 H       3.085400     0.581700     2.314500 H          1 UNL1 0.0\\n    45 H       2.440600     0.521800     3.960700 H          1 UNL1 0.0\\n    46 H       2.000000    -0.727500     2.825900 H          1 UNL1 0.0\\n    47 C      -5.819100    -0.267800    -1.311400 C.3        1 UNL1 0.0\\n    48 C      -5.580200    -1.700600    -1.734700 C.ar       1 UNL1 0.0\\n    49 C      -5.325800    -1.972600    -3.090300 C.ar       1 UNL1 0.0\\n    50 C      -5.110000    -3.279000    -3.531200 C.ar       1 UNL1 0.0\\n    51 C      -5.176400    -4.336500    -2.630900 C.ar       1 UNL1 0.0\\n    52 C      -5.485800    -4.090800    -1.296300 C.ar       1 UNL1 0.0\\n    53 C      -5.705200    -2.783800    -0.852700 C.ar       1 UNL1 0.0\\n    54 H      -6.909500    -0.170500    -1.329900 H          1 UNL1 0.0\\n    55 H      -5.424600     0.409800    -2.080000 H          1 UNL1 0.0\\n    56 H      -5.298700    -1.173300    -3.830300 H          1 UNL1 0.0\\n    57 H      -4.910900    -3.475900    -4.583400 H          1 UNL1 0.0\\n    58 H      -5.024900    -5.357000    -2.978600 H          1 UNL1 0.0\\n    59 H      -5.589000    -4.929900    -0.609500 H          1 UNL1 0.0\\n    60 H      -6.013200    -2.659200     0.182500 H          1 UNL1 0.0\\n    61 C       0.533600    -1.321200     0.684900 C.3        1 UNL1 0.0\\n    62 C       0.306600    -2.473700    -0.266300 C.ar       1 UNL1 0.0\\n    63 C       0.731900    -2.420200    -1.603100 C.ar       1 UNL1 0.0\\n    64 C       0.522800    -3.502600    -2.461000 C.ar       1 UNL1 0.0\\n    65 C      -0.082400    -4.663000    -1.988900 C.ar       1 UNL1 0.0\\n    66 C      -0.449700    -4.755700    -0.650800 C.ar       1 UNL1 0.0\\n    67 C      -0.236300    -3.677400     0.208700 C.ar       1 UNL1 0.0\\n    68 H       1.620100    -1.326300     0.832500 H          1 UNL1 0.0\\n    69 H       0.085400    -1.530400     1.660800 H          1 UNL1 0.0\\n    70 H       1.262200    -1.560000    -2.006300 H          1 UNL1 0.0\\n    71 H       0.857300    -3.455600    -3.496100 H          1 UNL1 0.0\\n    72 H      -0.228600    -5.512000    -2.654500 H          1 UNL1 0.0\\n    73 H      -0.874300    -5.683100    -0.271400 H          1 UNL1 0.0\\n    74 H      -0.485400    -3.809800     1.260500 H          1 UNL1 0.0\\n@<TRIPOS>BOND\\n     1      1      2          1\\n     2      2      3          1\\n     3      3      4          1\\n     4      4      5          2\\n     5      5      1          1\\n     6      4      6          1\\n     7      6      7          1\\n     8      7      8          1\\n     9      8      9          1\\n    10      9     10          1\\n    11     10     11          1\\n    12     11      7          2\\n    13     11     12          1\\n    14     12      5          1\\n    15     12     13          1\\n    16     12     14          1\\n    17      6     15          1\\n    18      6     16          1\\n    19     17     18          1\\n    20     17     19          1\\n    21      9     17          1\\n    22     20     21          1\\n    23     20     22          1\\n    24      2     20          1\\n    25      1     23          1\\n    26      2     24          1\\n    27      9     25          1\\n    28     10     26          1\\n    29     15     27          1\\n    30     15     28          1\\n    31     15     29          1\\n    32     16     30          1\\n    33     16     31          1\\n    34     16     32          1\\n    35     17     33          1\\n    36     18     34          1\\n    37     18     35          1\\n    38     18     36          1\\n    39     19     37          1\\n    40     19     38          1\\n    41     19     39          1\\n    42     20     40          1\\n    43     21     41          1\\n    44     21     42          1\\n    45     21     43          1\\n    46     22     44          1\\n    47     22     45          1\\n    48     22     46          1\\n    49     47     48          1\\n    50     48     49         ar\\n    51     49     50         ar\\n    52     50     51         ar\\n    53     51     52         ar\\n    54     52     53         ar\\n    55     53     48         ar\\n    56     47     54          1\\n    57     47     55          1\\n    58     49     56          1\\n    59     50     57          1\\n    60     51     58          1\\n    61     52     59          1\\n    62     53     60          1\\n    63     10     47          1\\n    64     61     62          1\\n    65     62     63         ar\\n    66     63     64         ar\\n    67     64     65         ar\\n    68     65     66         ar\\n    69     66     67         ar\\n    70     67     62         ar\\n    71     61     68          1\\n    72     61     69          1\\n    73     63     70          1\\n    74     64     71          1\\n    75     65     72          1\\n    76     66     73          1\\n    77     67     74          1\\n    78      1     61          1\\n\",\"mol2\");\n\tviewer_16871988186486597.setStyle({\"stick\": {\"radius\": 0.1}, \"sphere\": {\"scale\": 0.15}});\n\tviewer_16871988186486597.setHoverable({},true,\"\\n            function(atom,viewer,event,container) {\\n                if(!atom.label) {\\n                    atom.label = viewer.addLabel(atom.elem + atom.serial, {position: atom, backgroundColor: 'mintcream', fontColor:'black'});\\n                }\\n            }\\n            \",\"\\n            function(atom,viewer) { \\n                if(atom.label) {\\n                    viewer.removeLabel(atom.label);\\n                    delete atom.label;\\n                }\\n            }\\n            \");\n\tviewer_16871988186486597.zoomTo();\n\tviewer_16871988186486597.setBackgroundColor(null);\nviewer_16871988186486597.render();\n});\n</script>",
      "text/html": [
       "<div id=\"3dmolviewer_16871988186486597\"  style=\"position: relative; width: 1000px; height: 500px\">\n",
       "        <p id=\"3dmolwarning_16871988186486597\" style=\"background-color:#ffcccc;color:black\">You appear to be running in JupyterLab (or JavaScript failed to load for some other reason).  You need to install the 3dmol extension: <br>\n",
       "        <tt>jupyter labextension install jupyterlab_3dmol</tt></p>\n",
       "        </div>\n",
       "<script>\n",
       "\n",
       "var loadScriptAsync = function(uri){\n",
       "  return new Promise((resolve, reject) => {\n",
       "    //this is to ignore the existence of requirejs amd\n",
       "    var savedexports, savedmodule;\n",
       "    if (typeof exports !== 'undefined') savedexports = exports;\n",
       "    else exports = {}\n",
       "    if (typeof module !== 'undefined') savedmodule = module;\n",
       "    else module = {}\n",
       "\n",
       "    var tag = document.createElement('script');\n",
       "    tag.src = uri;\n",
       "    tag.async = true;\n",
       "    tag.onload = () => {\n",
       "        exports = savedexports;\n",
       "        module = savedmodule;\n",
       "        resolve();\n",
       "    };\n",
       "  var firstScriptTag = document.getElementsByTagName('script')[0];\n",
       "  firstScriptTag.parentNode.insertBefore(tag, firstScriptTag);\n",
       "});\n",
       "};\n",
       "\n",
       "if(typeof $3Dmolpromise === 'undefined') {\n",
       "$3Dmolpromise = null;\n",
       "  $3Dmolpromise = loadScriptAsync('https://cdnjs.cloudflare.com/ajax/libs/3Dmol/2.0.1/3Dmol-min.js');\n",
       "}\n",
       "\n",
       "var viewer_16871988186486597 = null;\n",
       "var warn = document.getElementById(\"3dmolwarning_16871988186486597\");\n",
       "if(warn) {\n",
       "    warn.parentNode.removeChild(warn);\n",
       "}\n",
       "$3Dmolpromise.then(function() {\n",
       "viewer_16871988186486597 = $3Dmol.createViewer(document.getElementById(\"3dmolviewer_16871988186486597\"),{backgroundColor:\"white\"});\n",
       "viewer_16871988186486597.zoomTo();\n",
       "\tviewer_16871988186486597.addModel(\"# Produced with molli package\\n@<TRIPOS>MOLECULE\\n3_6_6\\n74 78 0 0 0\\nSMALL\\nUSER_CHARGES\\n\\n@<TRIPOS>ATOM\\n     1 C       0.130000     0.064500     0.190000 C.3        1 UNL1 0.0\\n     2 C       0.814000     1.240500     0.925300 C.3        1 UNL1 0.0\\n     3 O      -0.104600     2.311300     0.613200 O.2        1 UNL1 0.0\\n     4 C      -1.319000     1.788200     0.441700 C.2        1 UNL1 0.0\\n     5 N      -1.317400     0.519400     0.296700 N.2        1 UNL1 0.0\\n     6 C      -2.518000     2.658500     0.310800 C.3        1 UNL1 0.0\\n     7 C      -3.775700     1.870400     0.267200 C.2        1 UNL1 0.0\\n     8 O      -4.959500     2.433300     0.489700 O.2        1 UNL1 0.0\\n     9 C      -5.932900     1.395100     0.696000 C.3        1 UNL1 0.0\\n    10 C      -5.275200     0.143100     0.065200 C.3        1 UNL1 0.0\\n    11 N      -3.831300     0.620400     0.026900 N.2        1 UNL1 0.0\\n    12 C      -2.578300    -0.235200    -0.075600 C.3        1 UNL1 0.0\\n    13 BR     -2.819100    -1.697800     1.196800 Br         1 UNL1 0.0\\n    14 BR     -2.353600    -0.758400    -1.937600 Br         1 UNL1 0.0\\n    15 C      -2.412000     3.459700    -0.993200 C.3        1 UNL1 0.0\\n    16 C      -2.561900     3.612600     1.513500 C.3        1 UNL1 0.0\\n    17 C      -7.327200     1.872900     0.241800 C.3        1 UNL1 0.0\\n    18 C      -7.950200     2.759300     1.332400 C.3        1 UNL1 0.0\\n    19 C      -7.317900     2.676800    -1.064300 C.3        1 UNL1 0.0\\n    20 C       0.992900     1.183500     2.469500 C.3        1 UNL1 0.0\\n    21 C       1.168300     2.597400     3.050800 C.3        1 UNL1 0.0\\n    22 C       2.196900     0.342900     2.907700 C.3        1 UNL1 0.0\\n    23 H       0.366400     0.175000    -0.875600 H          1 UNL1 0.0\\n    24 H       1.775000     1.471400     0.448700 H          1 UNL1 0.0\\n    25 H      -5.968700     1.227100     1.782800 H          1 UNL1 0.0\\n    26 H      -5.362700    -0.663500     0.795700 H          1 UNL1 0.0\\n    27 H      -1.531500     4.111300    -0.993800 H          1 UNL1 0.0\\n    28 H      -3.296700     4.087600    -1.146100 H          1 UNL1 0.0\\n    29 H      -2.331300     2.795200    -1.862500 H          1 UNL1 0.0\\n    30 H      -3.423300     4.287800     1.464800 H          1 UNL1 0.0\\n    31 H      -1.661900     4.236000     1.567100 H          1 UNL1 0.0\\n    32 H      -2.633300     3.056500     2.455700 H          1 UNL1 0.0\\n    33 H      -7.988800     1.005700     0.133200 H          1 UNL1 0.0\\n    34 H      -7.334400     3.642700     1.531900 H          1 UNL1 0.0\\n    35 H      -8.060500     2.202800     2.268600 H          1 UNL1 0.0\\n    36 H      -8.946600     3.100300     1.033500 H          1 UNL1 0.0\\n    37 H      -6.774700     3.621100    -0.952300 H          1 UNL1 0.0\\n    38 H      -6.861800     2.128000    -1.889100 H          1 UNL1 0.0\\n    39 H      -8.341300     2.922000    -1.366400 H          1 UNL1 0.0\\n    40 H       0.090800     0.763100     2.929100 H          1 UNL1 0.0\\n    41 H       2.012500     3.113300     2.580900 H          1 UNL1 0.0\\n    42 H       0.271700     3.207500     2.902900 H          1 UNL1 0.0\\n    43 H       1.352300     2.558200     4.129300 H          1 UNL1 0.0\\n    44 H       3.085400     0.581700     2.314500 H          1 UNL1 0.0\\n    45 H       2.440600     0.521800     3.960700 H          1 UNL1 0.0\\n    46 H       2.000000    -0.727500     2.825900 H          1 UNL1 0.0\\n    47 C      -5.819100    -0.267800    -1.311400 C.3        1 UNL1 0.0\\n    48 C      -5.580200    -1.700600    -1.734700 C.ar       1 UNL1 0.0\\n    49 C      -5.325800    -1.972600    -3.090300 C.ar       1 UNL1 0.0\\n    50 C      -5.110000    -3.279000    -3.531200 C.ar       1 UNL1 0.0\\n    51 C      -5.176400    -4.336500    -2.630900 C.ar       1 UNL1 0.0\\n    52 C      -5.485800    -4.090800    -1.296300 C.ar       1 UNL1 0.0\\n    53 C      -5.705200    -2.783800    -0.852700 C.ar       1 UNL1 0.0\\n    54 H      -6.909500    -0.170500    -1.329900 H          1 UNL1 0.0\\n    55 H      -5.424600     0.409800    -2.080000 H          1 UNL1 0.0\\n    56 H      -5.298700    -1.173300    -3.830300 H          1 UNL1 0.0\\n    57 H      -4.910900    -3.475900    -4.583400 H          1 UNL1 0.0\\n    58 H      -5.024900    -5.357000    -2.978600 H          1 UNL1 0.0\\n    59 H      -5.589000    -4.929900    -0.609500 H          1 UNL1 0.0\\n    60 H      -6.013200    -2.659200     0.182500 H          1 UNL1 0.0\\n    61 C       0.533600    -1.321200     0.684900 C.3        1 UNL1 0.0\\n    62 C       0.306600    -2.473700    -0.266300 C.ar       1 UNL1 0.0\\n    63 C       0.731900    -2.420200    -1.603100 C.ar       1 UNL1 0.0\\n    64 C       0.522800    -3.502600    -2.461000 C.ar       1 UNL1 0.0\\n    65 C      -0.082400    -4.663000    -1.988900 C.ar       1 UNL1 0.0\\n    66 C      -0.449700    -4.755700    -0.650800 C.ar       1 UNL1 0.0\\n    67 C      -0.236300    -3.677400     0.208700 C.ar       1 UNL1 0.0\\n    68 H       1.620100    -1.326300     0.832500 H          1 UNL1 0.0\\n    69 H       0.085400    -1.530400     1.660800 H          1 UNL1 0.0\\n    70 H       1.262200    -1.560000    -2.006300 H          1 UNL1 0.0\\n    71 H       0.857300    -3.455600    -3.496100 H          1 UNL1 0.0\\n    72 H      -0.228600    -5.512000    -2.654500 H          1 UNL1 0.0\\n    73 H      -0.874300    -5.683100    -0.271400 H          1 UNL1 0.0\\n    74 H      -0.485400    -3.809800     1.260500 H          1 UNL1 0.0\\n@<TRIPOS>BOND\\n     1      1      2          1\\n     2      2      3          1\\n     3      3      4          1\\n     4      4      5          2\\n     5      5      1          1\\n     6      4      6          1\\n     7      6      7          1\\n     8      7      8          1\\n     9      8      9          1\\n    10      9     10          1\\n    11     10     11          1\\n    12     11      7          2\\n    13     11     12          1\\n    14     12      5          1\\n    15     12     13          1\\n    16     12     14          1\\n    17      6     15          1\\n    18      6     16          1\\n    19     17     18          1\\n    20     17     19          1\\n    21      9     17          1\\n    22     20     21          1\\n    23     20     22          1\\n    24      2     20          1\\n    25      1     23          1\\n    26      2     24          1\\n    27      9     25          1\\n    28     10     26          1\\n    29     15     27          1\\n    30     15     28          1\\n    31     15     29          1\\n    32     16     30          1\\n    33     16     31          1\\n    34     16     32          1\\n    35     17     33          1\\n    36     18     34          1\\n    37     18     35          1\\n    38     18     36          1\\n    39     19     37          1\\n    40     19     38          1\\n    41     19     39          1\\n    42     20     40          1\\n    43     21     41          1\\n    44     21     42          1\\n    45     21     43          1\\n    46     22     44          1\\n    47     22     45          1\\n    48     22     46          1\\n    49     47     48          1\\n    50     48     49         ar\\n    51     49     50         ar\\n    52     50     51         ar\\n    53     51     52         ar\\n    54     52     53         ar\\n    55     53     48         ar\\n    56     47     54          1\\n    57     47     55          1\\n    58     49     56          1\\n    59     50     57          1\\n    60     51     58          1\\n    61     52     59          1\\n    62     53     60          1\\n    63     10     47          1\\n    64     61     62          1\\n    65     62     63         ar\\n    66     63     64         ar\\n    67     64     65         ar\\n    68     65     66         ar\\n    69     66     67         ar\\n    70     67     62         ar\\n    71     61     68          1\\n    72     61     69          1\\n    73     63     70          1\\n    74     64     71          1\\n    75     65     72          1\\n    76     66     73          1\\n    77     67     74          1\\n    78      1     61          1\\n\",\"mol2\");\n",
       "\tviewer_16871988186486597.setStyle({\"stick\": {\"radius\": 0.1}, \"sphere\": {\"scale\": 0.15}});\n",
       "\tviewer_16871988186486597.setHoverable({},true,\"\\n            function(atom,viewer,event,container) {\\n                if(!atom.label) {\\n                    atom.label = viewer.addLabel(atom.elem + atom.serial, {position: atom, backgroundColor: 'mintcream', fontColor:'black'});\\n                }\\n            }\\n            \",\"\\n            function(atom,viewer) { \\n                if(atom.label) {\\n                    viewer.removeLabel(atom.label);\\n                    delete atom.label;\\n                }\\n            }\\n            \");\n",
       "\tviewer_16871988186486597.zoomTo();\n",
       "\tviewer_16871988186486597.setBackgroundColor(null);\n",
       "viewer_16871988186486597.render();\n",
       "});\n",
       "</script>"
      ]
     },
     "metadata": {},
     "output_type": "display_data"
    },
    {
     "data": {
      "text/plain": [
       "Conformer(name='3_6_6', formula='C30 H38 Br2 N2 O2')"
      ]
     },
     "execution_count": 15,
     "metadata": {},
     "output_type": "execute_result"
    }
   ],
   "source": [
    "clib['3_6_6'][0]"
   ]
  },
  {
   "cell_type": "code",
   "execution_count": 16,
   "metadata": {},
   "outputs": [
    {
     "data": {
      "application/3dmoljs_load.v0": "<div id=\"3dmolviewer_16871988186607206\"  style=\"position: relative; width: 1000px; height: 500px\">\n        <p id=\"3dmolwarning_16871988186607206\" style=\"background-color:#ffcccc;color:black\">You appear to be running in JupyterLab (or JavaScript failed to load for some other reason).  You need to install the 3dmol extension: <br>\n        <tt>jupyter labextension install jupyterlab_3dmol</tt></p>\n        </div>\n<script>\n\nvar loadScriptAsync = function(uri){\n  return new Promise((resolve, reject) => {\n    //this is to ignore the existence of requirejs amd\n    var savedexports, savedmodule;\n    if (typeof exports !== 'undefined') savedexports = exports;\n    else exports = {}\n    if (typeof module !== 'undefined') savedmodule = module;\n    else module = {}\n\n    var tag = document.createElement('script');\n    tag.src = uri;\n    tag.async = true;\n    tag.onload = () => {\n        exports = savedexports;\n        module = savedmodule;\n        resolve();\n    };\n  var firstScriptTag = document.getElementsByTagName('script')[0];\n  firstScriptTag.parentNode.insertBefore(tag, firstScriptTag);\n});\n};\n\nif(typeof $3Dmolpromise === 'undefined') {\n$3Dmolpromise = null;\n  $3Dmolpromise = loadScriptAsync('https://cdnjs.cloudflare.com/ajax/libs/3Dmol/2.0.1/3Dmol-min.js');\n}\n\nvar viewer_16871988186607206 = null;\nvar warn = document.getElementById(\"3dmolwarning_16871988186607206\");\nif(warn) {\n    warn.parentNode.removeChild(warn);\n}\n$3Dmolpromise.then(function() {\nviewer_16871988186607206 = $3Dmol.createViewer(document.getElementById(\"3dmolviewer_16871988186607206\"),{backgroundColor:\"white\"});\nviewer_16871988186607206.zoomTo();\n\tviewer_16871988186607206.addModel(\"# Produced with molli package\\n@<TRIPOS>MOLECULE\\n3_6_6\\n74 78 0 0 0\\nSMALL\\nUSER_CHARGES\\n\\n@<TRIPOS>ATOM\\n     1 C      -0.021600    -0.052100     0.663400 C.3        1 UNL1 0.0\\n     2 C       0.803400     1.121200     0.099200 C.3        1 UNL1 0.0\\n     3 O      -0.050400     2.250700     0.416600 O.2        1 UNL1 0.0\\n     4 C      -1.304500     1.797300     0.369500 C.2        1 UNL1 0.0\\n     5 N      -1.371300     0.521900     0.353100 N.2        1 UNL1 0.0\\n     6 C      -2.513200     2.670400     0.335900 C.3        1 UNL1 0.0\\n     7 C      -3.766700     1.852600     0.301100 C.2        1 UNL1 0.0\\n     8 O      -4.955700     2.344800     0.642300 O.2        1 UNL1 0.0\\n     9 C      -5.797600     1.219200     0.961000 C.3        1 UNL1 0.0\\n    10 C      -5.223100     0.105900     0.056600 C.3        1 UNL1 0.0\\n    11 N      -3.805800     0.614900    -0.016200 N.2        1 UNL1 0.0\\n    12 C      -2.549300    -0.156000    -0.293700 C.3        1 UNL1 0.0\\n    13 BR     -2.158300    -0.023800    -2.245900 Br         1 UNL1 0.0\\n    14 BR     -2.704200    -2.032000     0.158300 Br         1 UNL1 0.0\\n    15 C      -2.510700     3.509400     1.625200 C.3        1 UNL1 0.0\\n    16 C      -2.469200     3.595000    -0.883100 C.3        1 UNL1 0.0\\n    17 C      -7.283600     1.593700     0.854500 C.3        1 UNL1 0.0\\n    18 C      -8.177100     0.427300     1.278900 C.3        1 UNL1 0.0\\n    19 C      -7.599900     2.819100     1.722100 C.3        1 UNL1 0.0\\n    20 C       2.265700     1.376900     0.503800 C.3        1 UNL1 0.0\\n    21 C       3.138100     0.141600     0.293400 C.3        1 UNL1 0.0\\n    22 C       2.486400     1.986400     1.888100 C.3        1 UNL1 0.0\\n    23 H       0.137700    -0.984800     0.115300 H          1 UNL1 0.0\\n    24 H       0.803900     1.043700    -1.000500 H          1 UNL1 0.0\\n    25 H      -5.584000     0.970600     2.011700 H          1 UNL1 0.0\\n    26 H      -5.256600    -0.842900     0.596100 H          1 UNL1 0.0\\n    27 H      -2.581000     2.869100     2.513400 H          1 UNL1 0.0\\n    28 H      -3.357200     4.204500     1.654700 H          1 UNL1 0.0\\n    29 H      -1.592600     4.101200     1.719000 H          1 UNL1 0.0\\n    30 H      -3.368900     4.218700    -0.938400 H          1 UNL1 0.0\\n    31 H      -1.603200     4.263600    -0.843700 H          1 UNL1 0.0\\n    32 H      -2.409200     3.032700    -1.820800 H          1 UNL1 0.0\\n    33 H      -7.523500     1.883300    -0.175600 H          1 UNL1 0.0\\n    34 H      -9.234100     0.699900     1.199200 H          1 UNL1 0.0\\n    35 H      -7.984300     0.140100     2.318200 H          1 UNL1 0.0\\n    36 H      -8.017700    -0.457100     0.655000 H          1 UNL1 0.0\\n    37 H      -8.663500     3.073500     1.660300 H          1 UNL1 0.0\\n    38 H      -7.354800     2.635600     2.773800 H          1 UNL1 0.0\\n    39 H      -7.036700     3.696000     1.388800 H          1 UNL1 0.0\\n    40 H       2.629400     2.146100    -0.193200 H          1 UNL1 0.0\\n    41 H       2.872300    -0.669900     0.976200 H          1 UNL1 0.0\\n    42 H       3.040500    -0.233900    -0.731000 H          1 UNL1 0.0\\n    43 H       4.193600     0.381600     0.457700 H          1 UNL1 0.0\\n    44 H       3.519700     2.340500     1.978000 H          1 UNL1 0.0\\n    45 H       2.332200     1.269100     2.695600 H          1 UNL1 0.0\\n    46 H       1.834500     2.848700     2.055100 H          1 UNL1 0.0\\n    47 C      -5.857300     0.046600    -1.349100 C.3        1 UNL1 0.0\\n    48 C      -5.561100    -1.212600    -2.126100 C.ar       1 UNL1 0.0\\n    49 C      -5.159400    -1.129600    -3.467100 C.ar       1 UNL1 0.0\\n    50 C      -4.887400    -2.285400    -4.201500 C.ar       1 UNL1 0.0\\n    51 C      -5.045000    -3.538000    -3.617100 C.ar       1 UNL1 0.0\\n    52 C      -5.503300    -3.637300    -2.307300 C.ar       1 UNL1 0.0\\n    53 C      -5.776900    -2.483100    -1.570100 C.ar       1 UNL1 0.0\\n    54 H      -6.949800     0.082700    -1.285800 H          1 UNL1 0.0\\n    55 H      -5.557600     0.925900    -1.935000 H          1 UNL1 0.0\\n    56 H      -5.066500    -0.170000    -3.974600 H          1 UNL1 0.0\\n    57 H      -4.577600    -2.212900    -5.242800 H          1 UNL1 0.0\\n    58 H      -4.851300    -4.438300    -4.198200 H          1 UNL1 0.0\\n    59 H      -5.676200    -4.621100    -1.872500 H          1 UNL1 0.0\\n    60 H      -6.188900    -2.611900    -0.571400 H          1 UNL1 0.0\\n    61 C       0.134700    -0.200600     2.195700 C.3        1 UNL1 0.0\\n    62 C      -0.878300    -1.072600     2.888600 C.ar       1 UNL1 0.0\\n    63 C      -1.959200    -0.503200     3.581900 C.ar       1 UNL1 0.0\\n    64 C      -2.891900    -1.318100     4.225700 C.ar       1 UNL1 0.0\\n    65 C      -2.746300    -2.703500     4.194200 C.ar       1 UNL1 0.0\\n    66 C      -1.658800    -3.275700     3.537100 C.ar       1 UNL1 0.0\\n    67 C      -0.723600    -2.465800     2.890700 C.ar       1 UNL1 0.0\\n    68 H       1.126400    -0.608200     2.422200 H          1 UNL1 0.0\\n    69 H       0.102800     0.783700     2.681600 H          1 UNL1 0.0\\n    70 H      -2.053200     0.575100     3.697100 H          1 UNL1 0.0\\n    71 H      -3.704300    -0.881800     4.806000 H          1 UNL1 0.0\\n    72 H      -3.453900    -3.341700     4.723700 H          1 UNL1 0.0\\n    73 H      -1.526900    -4.357200     3.552500 H          1 UNL1 0.0\\n    74 H       0.132500    -2.942600     2.414000 H          1 UNL1 0.0\\n@<TRIPOS>BOND\\n     1      1      2          1\\n     2      2      3          1\\n     3      3      4          1\\n     4      4      5          2\\n     5      5      1          1\\n     6      4      6          1\\n     7      6      7          1\\n     8      7      8          1\\n     9      8      9          1\\n    10      9     10          1\\n    11     10     11          1\\n    12     11      7          2\\n    13     11     12          1\\n    14     12      5          1\\n    15     12     13          1\\n    16     12     14          1\\n    17      6     15          1\\n    18      6     16          1\\n    19     17     18          1\\n    20     17     19          1\\n    21      9     17          1\\n    22     20     21          1\\n    23     20     22          1\\n    24      2     20          1\\n    25      1     23          1\\n    26      2     24          1\\n    27      9     25          1\\n    28     10     26          1\\n    29     15     27          1\\n    30     15     28          1\\n    31     15     29          1\\n    32     16     30          1\\n    33     16     31          1\\n    34     16     32          1\\n    35     17     33          1\\n    36     18     34          1\\n    37     18     35          1\\n    38     18     36          1\\n    39     19     37          1\\n    40     19     38          1\\n    41     19     39          1\\n    42     20     40          1\\n    43     21     41          1\\n    44     21     42          1\\n    45     21     43          1\\n    46     22     44          1\\n    47     22     45          1\\n    48     22     46          1\\n    49     47     48          1\\n    50     48     49         ar\\n    51     49     50         ar\\n    52     50     51         ar\\n    53     51     52         ar\\n    54     52     53         ar\\n    55     53     48         ar\\n    56     47     54          1\\n    57     47     55          1\\n    58     49     56          1\\n    59     50     57          1\\n    60     51     58          1\\n    61     52     59          1\\n    62     53     60          1\\n    63     10     47          1\\n    64     61     62          1\\n    65     62     63         ar\\n    66     63     64         ar\\n    67     64     65         ar\\n    68     65     66         ar\\n    69     66     67         ar\\n    70     67     62         ar\\n    71     61     68          1\\n    72     61     69          1\\n    73     63     70          1\\n    74     64     71          1\\n    75     65     72          1\\n    76     66     73          1\\n    77     67     74          1\\n    78      1     61          1\\n\",\"mol2\");\n\tviewer_16871988186607206.setStyle({\"stick\": {\"radius\": 0.1}, \"sphere\": {\"scale\": 0.15}});\n\tviewer_16871988186607206.setHoverable({},true,\"\\n            function(atom,viewer,event,container) {\\n                if(!atom.label) {\\n                    atom.label = viewer.addLabel(atom.elem + atom.serial, {position: atom, backgroundColor: 'mintcream', fontColor:'black'});\\n                }\\n            }\\n            \",\"\\n            function(atom,viewer) { \\n                if(atom.label) {\\n                    viewer.removeLabel(atom.label);\\n                    delete atom.label;\\n                }\\n            }\\n            \");\n\tviewer_16871988186607206.zoomTo();\n\tviewer_16871988186607206.setBackgroundColor(null);\nviewer_16871988186607206.render();\n});\n</script>",
      "text/html": [
       "<div id=\"3dmolviewer_16871988186607206\"  style=\"position: relative; width: 1000px; height: 500px\">\n",
       "        <p id=\"3dmolwarning_16871988186607206\" style=\"background-color:#ffcccc;color:black\">You appear to be running in JupyterLab (or JavaScript failed to load for some other reason).  You need to install the 3dmol extension: <br>\n",
       "        <tt>jupyter labextension install jupyterlab_3dmol</tt></p>\n",
       "        </div>\n",
       "<script>\n",
       "\n",
       "var loadScriptAsync = function(uri){\n",
       "  return new Promise((resolve, reject) => {\n",
       "    //this is to ignore the existence of requirejs amd\n",
       "    var savedexports, savedmodule;\n",
       "    if (typeof exports !== 'undefined') savedexports = exports;\n",
       "    else exports = {}\n",
       "    if (typeof module !== 'undefined') savedmodule = module;\n",
       "    else module = {}\n",
       "\n",
       "    var tag = document.createElement('script');\n",
       "    tag.src = uri;\n",
       "    tag.async = true;\n",
       "    tag.onload = () => {\n",
       "        exports = savedexports;\n",
       "        module = savedmodule;\n",
       "        resolve();\n",
       "    };\n",
       "  var firstScriptTag = document.getElementsByTagName('script')[0];\n",
       "  firstScriptTag.parentNode.insertBefore(tag, firstScriptTag);\n",
       "});\n",
       "};\n",
       "\n",
       "if(typeof $3Dmolpromise === 'undefined') {\n",
       "$3Dmolpromise = null;\n",
       "  $3Dmolpromise = loadScriptAsync('https://cdnjs.cloudflare.com/ajax/libs/3Dmol/2.0.1/3Dmol-min.js');\n",
       "}\n",
       "\n",
       "var viewer_16871988186607206 = null;\n",
       "var warn = document.getElementById(\"3dmolwarning_16871988186607206\");\n",
       "if(warn) {\n",
       "    warn.parentNode.removeChild(warn);\n",
       "}\n",
       "$3Dmolpromise.then(function() {\n",
       "viewer_16871988186607206 = $3Dmol.createViewer(document.getElementById(\"3dmolviewer_16871988186607206\"),{backgroundColor:\"white\"});\n",
       "viewer_16871988186607206.zoomTo();\n",
       "\tviewer_16871988186607206.addModel(\"# Produced with molli package\\n@<TRIPOS>MOLECULE\\n3_6_6\\n74 78 0 0 0\\nSMALL\\nUSER_CHARGES\\n\\n@<TRIPOS>ATOM\\n     1 C      -0.021600    -0.052100     0.663400 C.3        1 UNL1 0.0\\n     2 C       0.803400     1.121200     0.099200 C.3        1 UNL1 0.0\\n     3 O      -0.050400     2.250700     0.416600 O.2        1 UNL1 0.0\\n     4 C      -1.304500     1.797300     0.369500 C.2        1 UNL1 0.0\\n     5 N      -1.371300     0.521900     0.353100 N.2        1 UNL1 0.0\\n     6 C      -2.513200     2.670400     0.335900 C.3        1 UNL1 0.0\\n     7 C      -3.766700     1.852600     0.301100 C.2        1 UNL1 0.0\\n     8 O      -4.955700     2.344800     0.642300 O.2        1 UNL1 0.0\\n     9 C      -5.797600     1.219200     0.961000 C.3        1 UNL1 0.0\\n    10 C      -5.223100     0.105900     0.056600 C.3        1 UNL1 0.0\\n    11 N      -3.805800     0.614900    -0.016200 N.2        1 UNL1 0.0\\n    12 C      -2.549300    -0.156000    -0.293700 C.3        1 UNL1 0.0\\n    13 BR     -2.158300    -0.023800    -2.245900 Br         1 UNL1 0.0\\n    14 BR     -2.704200    -2.032000     0.158300 Br         1 UNL1 0.0\\n    15 C      -2.510700     3.509400     1.625200 C.3        1 UNL1 0.0\\n    16 C      -2.469200     3.595000    -0.883100 C.3        1 UNL1 0.0\\n    17 C      -7.283600     1.593700     0.854500 C.3        1 UNL1 0.0\\n    18 C      -8.177100     0.427300     1.278900 C.3        1 UNL1 0.0\\n    19 C      -7.599900     2.819100     1.722100 C.3        1 UNL1 0.0\\n    20 C       2.265700     1.376900     0.503800 C.3        1 UNL1 0.0\\n    21 C       3.138100     0.141600     0.293400 C.3        1 UNL1 0.0\\n    22 C       2.486400     1.986400     1.888100 C.3        1 UNL1 0.0\\n    23 H       0.137700    -0.984800     0.115300 H          1 UNL1 0.0\\n    24 H       0.803900     1.043700    -1.000500 H          1 UNL1 0.0\\n    25 H      -5.584000     0.970600     2.011700 H          1 UNL1 0.0\\n    26 H      -5.256600    -0.842900     0.596100 H          1 UNL1 0.0\\n    27 H      -2.581000     2.869100     2.513400 H          1 UNL1 0.0\\n    28 H      -3.357200     4.204500     1.654700 H          1 UNL1 0.0\\n    29 H      -1.592600     4.101200     1.719000 H          1 UNL1 0.0\\n    30 H      -3.368900     4.218700    -0.938400 H          1 UNL1 0.0\\n    31 H      -1.603200     4.263600    -0.843700 H          1 UNL1 0.0\\n    32 H      -2.409200     3.032700    -1.820800 H          1 UNL1 0.0\\n    33 H      -7.523500     1.883300    -0.175600 H          1 UNL1 0.0\\n    34 H      -9.234100     0.699900     1.199200 H          1 UNL1 0.0\\n    35 H      -7.984300     0.140100     2.318200 H          1 UNL1 0.0\\n    36 H      -8.017700    -0.457100     0.655000 H          1 UNL1 0.0\\n    37 H      -8.663500     3.073500     1.660300 H          1 UNL1 0.0\\n    38 H      -7.354800     2.635600     2.773800 H          1 UNL1 0.0\\n    39 H      -7.036700     3.696000     1.388800 H          1 UNL1 0.0\\n    40 H       2.629400     2.146100    -0.193200 H          1 UNL1 0.0\\n    41 H       2.872300    -0.669900     0.976200 H          1 UNL1 0.0\\n    42 H       3.040500    -0.233900    -0.731000 H          1 UNL1 0.0\\n    43 H       4.193600     0.381600     0.457700 H          1 UNL1 0.0\\n    44 H       3.519700     2.340500     1.978000 H          1 UNL1 0.0\\n    45 H       2.332200     1.269100     2.695600 H          1 UNL1 0.0\\n    46 H       1.834500     2.848700     2.055100 H          1 UNL1 0.0\\n    47 C      -5.857300     0.046600    -1.349100 C.3        1 UNL1 0.0\\n    48 C      -5.561100    -1.212600    -2.126100 C.ar       1 UNL1 0.0\\n    49 C      -5.159400    -1.129600    -3.467100 C.ar       1 UNL1 0.0\\n    50 C      -4.887400    -2.285400    -4.201500 C.ar       1 UNL1 0.0\\n    51 C      -5.045000    -3.538000    -3.617100 C.ar       1 UNL1 0.0\\n    52 C      -5.503300    -3.637300    -2.307300 C.ar       1 UNL1 0.0\\n    53 C      -5.776900    -2.483100    -1.570100 C.ar       1 UNL1 0.0\\n    54 H      -6.949800     0.082700    -1.285800 H          1 UNL1 0.0\\n    55 H      -5.557600     0.925900    -1.935000 H          1 UNL1 0.0\\n    56 H      -5.066500    -0.170000    -3.974600 H          1 UNL1 0.0\\n    57 H      -4.577600    -2.212900    -5.242800 H          1 UNL1 0.0\\n    58 H      -4.851300    -4.438300    -4.198200 H          1 UNL1 0.0\\n    59 H      -5.676200    -4.621100    -1.872500 H          1 UNL1 0.0\\n    60 H      -6.188900    -2.611900    -0.571400 H          1 UNL1 0.0\\n    61 C       0.134700    -0.200600     2.195700 C.3        1 UNL1 0.0\\n    62 C      -0.878300    -1.072600     2.888600 C.ar       1 UNL1 0.0\\n    63 C      -1.959200    -0.503200     3.581900 C.ar       1 UNL1 0.0\\n    64 C      -2.891900    -1.318100     4.225700 C.ar       1 UNL1 0.0\\n    65 C      -2.746300    -2.703500     4.194200 C.ar       1 UNL1 0.0\\n    66 C      -1.658800    -3.275700     3.537100 C.ar       1 UNL1 0.0\\n    67 C      -0.723600    -2.465800     2.890700 C.ar       1 UNL1 0.0\\n    68 H       1.126400    -0.608200     2.422200 H          1 UNL1 0.0\\n    69 H       0.102800     0.783700     2.681600 H          1 UNL1 0.0\\n    70 H      -2.053200     0.575100     3.697100 H          1 UNL1 0.0\\n    71 H      -3.704300    -0.881800     4.806000 H          1 UNL1 0.0\\n    72 H      -3.453900    -3.341700     4.723700 H          1 UNL1 0.0\\n    73 H      -1.526900    -4.357200     3.552500 H          1 UNL1 0.0\\n    74 H       0.132500    -2.942600     2.414000 H          1 UNL1 0.0\\n@<TRIPOS>BOND\\n     1      1      2          1\\n     2      2      3          1\\n     3      3      4          1\\n     4      4      5          2\\n     5      5      1          1\\n     6      4      6          1\\n     7      6      7          1\\n     8      7      8          1\\n     9      8      9          1\\n    10      9     10          1\\n    11     10     11          1\\n    12     11      7          2\\n    13     11     12          1\\n    14     12      5          1\\n    15     12     13          1\\n    16     12     14          1\\n    17      6     15          1\\n    18      6     16          1\\n    19     17     18          1\\n    20     17     19          1\\n    21      9     17          1\\n    22     20     21          1\\n    23     20     22          1\\n    24      2     20          1\\n    25      1     23          1\\n    26      2     24          1\\n    27      9     25          1\\n    28     10     26          1\\n    29     15     27          1\\n    30     15     28          1\\n    31     15     29          1\\n    32     16     30          1\\n    33     16     31          1\\n    34     16     32          1\\n    35     17     33          1\\n    36     18     34          1\\n    37     18     35          1\\n    38     18     36          1\\n    39     19     37          1\\n    40     19     38          1\\n    41     19     39          1\\n    42     20     40          1\\n    43     21     41          1\\n    44     21     42          1\\n    45     21     43          1\\n    46     22     44          1\\n    47     22     45          1\\n    48     22     46          1\\n    49     47     48          1\\n    50     48     49         ar\\n    51     49     50         ar\\n    52     50     51         ar\\n    53     51     52         ar\\n    54     52     53         ar\\n    55     53     48         ar\\n    56     47     54          1\\n    57     47     55          1\\n    58     49     56          1\\n    59     50     57          1\\n    60     51     58          1\\n    61     52     59          1\\n    62     53     60          1\\n    63     10     47          1\\n    64     61     62          1\\n    65     62     63         ar\\n    66     63     64         ar\\n    67     64     65         ar\\n    68     65     66         ar\\n    69     66     67         ar\\n    70     67     62         ar\\n    71     61     68          1\\n    72     61     69          1\\n    73     63     70          1\\n    74     64     71          1\\n    75     65     72          1\\n    76     66     73          1\\n    77     67     74          1\\n    78      1     61          1\\n\",\"mol2\");\n",
       "\tviewer_16871988186607206.setStyle({\"stick\": {\"radius\": 0.1}, \"sphere\": {\"scale\": 0.15}});\n",
       "\tviewer_16871988186607206.setHoverable({},true,\"\\n            function(atom,viewer,event,container) {\\n                if(!atom.label) {\\n                    atom.label = viewer.addLabel(atom.elem + atom.serial, {position: atom, backgroundColor: 'mintcream', fontColor:'black'});\\n                }\\n            }\\n            \",\"\\n            function(atom,viewer) { \\n                if(atom.label) {\\n                    viewer.removeLabel(atom.label);\\n                    delete atom.label;\\n                }\\n            }\\n            \");\n",
       "\tviewer_16871988186607206.zoomTo();\n",
       "\tviewer_16871988186607206.setBackgroundColor(null);\n",
       "viewer_16871988186607206.render();\n",
       "});\n",
       "</script>"
      ]
     },
     "metadata": {},
     "output_type": "display_data"
    },
    {
     "data": {
      "text/plain": [
       "Conformer(name='3_6_6', formula='C30 H38 Br2 N2 O2')"
      ]
     },
     "execution_count": 16,
     "metadata": {},
     "output_type": "execute_result"
    }
   ],
   "source": [
    "clib['3_6_6'][24]"
   ]
  },
  {
   "attachments": {},
   "cell_type": "markdown",
   "metadata": {},
   "source": [
    "# 4. ASO descriptor calculation"
   ]
  },
  {
   "cell_type": "code",
   "execution_count": 17,
   "metadata": {},
   "outputs": [
    {
     "name": "stdout",
     "output_type": "stream",
     "text": [
      "(7106, 3)\n"
     ]
    },
    {
     "name": "stderr",
     "output_type": "stream",
     "text": [
      "100%|██████████| 75/75 [00:00<00:00, 1682.92it/s]\n"
     ]
    },
    {
     "data": {
      "text/plain": [
       "CompletedProcess(args=['molli', 'grid', '--mlib', './ncsa-testing-output/test_conformers_new_env.mlib', '-o', './ncsa-testing-output/grid_new_env.npy'], returncode=0)"
      ]
     },
     "execution_count": 17,
     "metadata": {},
     "output_type": "execute_result"
    }
   ],
   "source": [
    "# first we make a grid for calculating aso\n",
    "subprocess.run(['molli', \n",
    "                'grid', \n",
    "                '--mlib', \n",
    "                f'{out_dir}test_conformers_new_env.mlib', \n",
    "                '-o', \n",
    "                f'{out_dir}grid_new_env.npy'\n",
    "                ])"
   ]
  },
  {
   "cell_type": "code",
   "execution_count": 18,
   "metadata": {},
   "outputs": [
    {
     "name": "stdout",
     "output_type": "stream",
     "text": [
      "Allocating storage for descriptors\n",
      "Will compute descriptor ASO using 128 cores.\n",
      "Grid shape: (7106, 3)\n"
     ]
    },
    {
     "name": "stderr",
     "output_type": "stream",
     "text": [
      "Loading batches of conformers: 0it [00:00, ?it/s]\n",
      "Submitting calculations:   0%|          | 0/75 [00:00<?, ?it/s]\u001b[A\n",
      "                                                               \u001b[A"
     ]
    },
    {
     "name": "stderr",
     "output_type": "stream",
     "text": [
      "\n",
      "\n",
      "Gathering calculation results:   0%|          | 0/75 [00:00<?, ?it/s]\u001b[A\u001b[A\n",
      "\n",
      "Loading batches of conformers: 1it [00:13, 13.30s/it]                \u001b[A\u001b[A\n"
     ]
    },
    {
     "data": {
      "text/plain": [
       "CompletedProcess(args=['molli', 'gbca', 'aso', './ncsa-testing-output/test_conformers_new_env.mlib', '-g', './ncsa-testing-output/grid_new_env.npy', '-o', './ncsa-testing-output/aso_new_env.h5'], returncode=0)"
      ]
     },
     "execution_count": 18,
     "metadata": {},
     "output_type": "execute_result"
    }
   ],
   "source": [
    "# calculate aso\n",
    "subprocess.run(['molli', \n",
    "                'gbca', \n",
    "                'aso', \n",
    "                f'{out_dir}test_conformers_new_env.mlib', \n",
    "                '-g', \n",
    "                f'{out_dir}grid_new_env.npy', \n",
    "                '-o', \n",
    "                f'{out_dir}aso_new_env.h5'\n",
    "                ])\n",
    "# tqdm looks messed up"
   ]
  },
  {
   "attachments": {},
   "cell_type": "markdown",
   "metadata": {},
   "source": [
    "# 5. post-processing, dimensionaltiy reduction, clustering analysis"
   ]
  },
  {
   "cell_type": "code",
   "execution_count": 3,
   "metadata": {},
   "outputs": [
    {
     "name": "stderr",
     "output_type": "stream",
     "text": [
      "100%|██████████| 75/75 [00:00<00:00, 4748.84it/s]\n"
     ]
    },
    {
     "name": "stdout",
     "output_type": "stream",
     "text": [
      "shape of data after variance threshold: (75, 3784)\n",
      "total variance after variance threshold: 62.86\n",
      "\n",
      "shape of data after removing correlated columns (R > 0.8): (75, 256)\n",
      "total variance after removing correlated columns (R > 0.8): 3.46\n",
      "\n"
     ]
    },
    {
     "data": {
      "text/plain": [
       "CompletedProcess(args=['molli', 'cluster', './ncsa-testing-output/aso_new_env.h5', '-o', './ncsa-testing-output/new_env_data3', '-v', '0', '-c', '0.8'], returncode=0)"
      ]
     },
     "execution_count": 3,
     "metadata": {},
     "output_type": "execute_result"
    }
   ],
   "source": [
    "subprocess.run(\n",
    "     [ \n",
    "         'molli', \n",
    "         'cluster', \n",
    "         f'{out_dir}aso_new_env.h5', \n",
    "         '-o', \n",
    "         f'{out_dir}new_env_data3', \n",
    "         '-v', # variance threshold before doing clustering\n",
    "         '0', # remove 0 variance columns\n",
    "         '-c', # correlation cutoff before clustering\n",
    "         '0.8', # 0.8 by default\n",
    "     ]\n",
    " )"
   ]
  }
 ],
 "metadata": {
  "kernelspec": {
   "display_name": "NCSA-workflow-dev",
   "language": "python",
   "name": "python3"
  },
  "language_info": {
   "codemirror_mode": {
    "name": "ipython",
    "version": 3
   },
   "file_extension": ".py",
   "mimetype": "text/x-python",
   "name": "python",
   "nbconvert_exporter": "python",
   "pygments_lexer": "ipython3",
   "version": "3.11.4"
  },
  "orig_nbformat": 4
 },
 "nbformat": 4,
 "nbformat_minor": 2
}
