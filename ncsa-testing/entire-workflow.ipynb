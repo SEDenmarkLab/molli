{
 "cells": [
  {
   "attachments": {},
   "cell_type": "markdown",
   "metadata": {},
   "source": [
    "To-Do: entire workflow\n",
    "chemdraw parse -> combinatorial expansion -> conformer generation -> aso description -> post-processing/dimension-reduction/analysis -> plot/output data"
   ]
  },
  {
   "cell_type": "code",
   "execution_count": 1,
   "metadata": {},
   "outputs": [],
   "source": [
    "import molli as ml\n",
    "import molli.visual\n",
    "import subprocess\n",
    "import os\n",
    "\n",
    "# This is a failsafe in case openbabel aint installed\n",
    "import openbabel"
   ]
  },
  {
   "cell_type": "code",
   "execution_count": 2,
   "metadata": {},
   "outputs": [],
   "source": [
    "# these are the chemdraw files that the user passes in\n",
    "cores = ml.files.box_cores_test_1\n",
    "subs = ml.files.box_substituents_test_1"
   ]
  },
  {
   "attachments": {},
   "cell_type": "markdown",
   "metadata": {},
   "source": [
    "# Make output directory - this is where everything relevant gets saved"
   ]
  },
  {
   "cell_type": "code",
   "execution_count": 3,
   "metadata": {},
   "outputs": [],
   "source": [
    "# create output directory if it doesn't exist\n",
    "out_dir = './ncsa-testing-output/'\n",
    "if not os.path.exists(out_dir):\n",
    "    os.makedirs(out_dir)"
   ]
  },
  {
   "attachments": {},
   "cell_type": "markdown",
   "metadata": {},
   "source": [
    "# 1. ChemDraw Parsing"
   ]
  },
  {
   "cell_type": "code",
   "execution_count": 4,
   "metadata": {},
   "outputs": [
    {
     "name": "stderr",
     "output_type": "stream",
     "text": [
      "100%|██████████| 5/5 [00:00<00:00, 85.34it/s]\n",
      "100%|██████████| 15/15 [00:00<00:00, 296.35it/s]\n"
     ]
    },
    {
     "data": {
      "text/plain": [
       "CompletedProcess(args=['molli', 'parse', '--hadd', '/home/ethangm2/NCSA Development/molli/molli/files/BOX_substituents_test_1.cdxml', '-o', './ncsa-testing-output/BOX_subs_new_env.mlib', '--overwrite'], returncode=0)"
      ]
     },
     "execution_count": 4,
     "metadata": {},
     "output_type": "execute_result"
    }
   ],
   "source": [
    "# parse the files\n",
    "subprocess.run(['molli', 'parse', '--hadd', f'{cores}', '-o', f'{out_dir}BOX_cores_new_env.mlib', \"--overwrite\"])\n",
    "subprocess.run(['molli', 'parse', '--hadd', f'{subs}', '-o', f'{out_dir}BOX_subs_new_env.mlib', \"--overwrite\"])"
   ]
  },
  {
   "cell_type": "code",
   "execution_count": 5,
   "metadata": {},
   "outputs": [
    {
     "name": "stdout",
     "output_type": "stream",
     "text": [
      "5\n"
     ]
    },
    {
     "data": {
      "application/3dmoljs_load.v0": "<div id=\"3dmolviewer_16874041611409562\"  style=\"position: relative; width: 1000px; height: 500px\">\n        <p id=\"3dmolwarning_16874041611409562\" style=\"background-color:#ffcccc;color:black\">You appear to be running in JupyterLab (or JavaScript failed to load for some other reason).  You need to install the 3dmol extension: <br>\n        <tt>jupyter labextension install jupyterlab_3dmol</tt></p>\n        </div>\n<script>\n\nvar loadScriptAsync = function(uri){\n  return new Promise((resolve, reject) => {\n    //this is to ignore the existence of requirejs amd\n    var savedexports, savedmodule;\n    if (typeof exports !== 'undefined') savedexports = exports;\n    else exports = {}\n    if (typeof module !== 'undefined') savedmodule = module;\n    else module = {}\n\n    var tag = document.createElement('script');\n    tag.src = uri;\n    tag.async = true;\n    tag.onload = () => {\n        exports = savedexports;\n        module = savedmodule;\n        resolve();\n    };\n  var firstScriptTag = document.getElementsByTagName('script')[0];\n  firstScriptTag.parentNode.insertBefore(tag, firstScriptTag);\n});\n};\n\nif(typeof $3Dmolpromise === 'undefined') {\n$3Dmolpromise = null;\n  $3Dmolpromise = loadScriptAsync('https://cdnjs.cloudflare.com/ajax/libs/3Dmol/2.0.1/3Dmol-min.js');\n}\n\nvar viewer_16874041611409562 = null;\nvar warn = document.getElementById(\"3dmolwarning_16874041611409562\");\nif(warn) {\n    warn.parentNode.removeChild(warn);\n}\n$3Dmolpromise.then(function() {\nviewer_16874041611409562 = $3Dmol.createViewer(document.getElementById(\"3dmolviewer_16874041611409562\"),{backgroundColor:\"white\"});\nviewer_16874041611409562.zoomTo();\n\tviewer_16874041611409562.addModel(\"# Produced with molli package\\n@<TRIPOS>MOLECULE\\n1\\n30 32 0 0 0\\nSMALL\\nUSER_CHARGES\\n\\n@<TRIPOS>ATOM\\n     1 C       2.653877    -0.900810     0.000000 C          1 UNL1 0.0\\n     2 C       3.535127     0.312731     0.000000 C          1 UNL1 0.0\\n     3 O       2.653877     1.526273     0.000000 O          1 UNL1 0.0\\n     4 C       1.226794     1.062732     0.000000 C          1 UNL1 0.0\\n     5 N       1.226794    -0.437269     0.000000 N          1 UNL1 0.0\\n     6 C      -0.072164     1.812732     0.000000 C          1 UNL1 0.0\\n     7 C      -1.371123     1.062732     0.000000 C          1 UNL1 0.0\\n     8 O      -2.798206     1.526273     0.000000 O          1 UNL1 0.0\\n     9 C      -3.679456     0.312731     0.000000 C          1 UNL1 0.0\\n    10 C      -2.798206    -0.900810     0.000000 C          1 UNL1 0.0\\n    11 N      -1.371123    -0.437269     0.000000 N          1 UNL1 0.0\\n    12 A1     -3.029977    -1.614352    -1.299453 Unknown    1 UNL1 0.0\\n    13 A1      2.885648    -1.614352     1.299453 Unknown    1 UNL1 0.0\\n    14 C      -0.072164    -1.187268     0.000000 C          1 UNL1 0.0\\n    15 Br     -0.072164    -1.187268     1.499931 Br         1 UNL1 0.0\\n    16 Br      0.677836    -2.486227     0.000000 Br         1 UNL1 0.0\\n    17 C      -0.072164     1.812732     1.500000 C          1 UNL1 0.0\\n    18 C       1.226794     2.562732     0.000000 C          1 UNL1 0.0\\n    19 H       2.859825    -1.534673    -0.837080 H          1 UNL1 0.0\\n    20 H       4.148880     0.312731     0.876544 H          1 UNL1 0.0\\n    21 H       4.148880     0.312731    -0.876544 H          1 UNL1 0.0\\n    22 H      -4.293208     0.312731     0.876544 H          1 UNL1 0.0\\n    23 H      -4.293208     0.312731    -0.876544 H          1 UNL1 0.0\\n    24 H      -3.004154    -1.534673     0.837080 H          1 UNL1 0.0\\n    25 H      -0.446797     0.876067     1.856667 H          1 UNL1 0.0\\n    26 H      -0.696023     2.605505     1.856667 H          1 UNL1 0.0\\n    27 H       0.926327     1.956622     1.856667 H          1 UNL1 0.0\\n    28 H       1.787896     2.304234     0.873638 H          1 UNL1 0.0\\n    29 H       1.031246     3.614711     0.000027 H          1 UNL1 0.0\\n    30 H       1.787873     2.304274    -0.873665 H          1 UNL1 0.0\\n@<TRIPOS>BOND\\n     1      1      2          1\\n     2      2      3          1\\n     3      3      4          1\\n     4      4      5          2\\n     5      5      1          1\\n     6      4      6          1\\n     7      6      7          1\\n     8      7      8          1\\n     9      8      9          1\\n    10      9     10          1\\n    11     10     11          1\\n    12     11      7          2\\n    13     10     12          1\\n    14      1     13          1\\n    15     11     14          1\\n    16     14      5          1\\n    17     14     15          1\\n    18     14     16          1\\n    19      6     17          1\\n    20      6     18          1\\n    21      1     19          1\\n    22      2     20          1\\n    23      2     21          1\\n    24      9     22          1\\n    25      9     23          1\\n    26     10     24          1\\n    27     17     25          1\\n    28     17     26          1\\n    29     17     27          1\\n    30     18     28          1\\n    31     18     29          1\\n    32     18     30          1\\n\",\"mol2\");\n\tviewer_16874041611409562.setStyle({\"stick\": {\"radius\": 0.1}, \"sphere\": {\"scale\": 0.15}});\n\tviewer_16874041611409562.setHoverable({},true,\"\\n            function(atom,viewer,event,container) {\\n                if(!atom.label) {\\n                    atom.label = viewer.addLabel(atom.elem + atom.serial, {position: atom, backgroundColor: 'mintcream', fontColor:'black'});\\n                }\\n            }\\n            \",\"\\n            function(atom,viewer) { \\n                if(atom.label) {\\n                    viewer.removeLabel(atom.label);\\n                    delete atom.label;\\n                }\\n            }\\n            \");\n\tviewer_16874041611409562.zoomTo();\n\tviewer_16874041611409562.setBackgroundColor(null);\nviewer_16874041611409562.render();\n});\n</script>",
      "text/html": [
       "<div id=\"3dmolviewer_16874041611409562\"  style=\"position: relative; width: 1000px; height: 500px\">\n",
       "        <p id=\"3dmolwarning_16874041611409562\" style=\"background-color:#ffcccc;color:black\">You appear to be running in JupyterLab (or JavaScript failed to load for some other reason).  You need to install the 3dmol extension: <br>\n",
       "        <tt>jupyter labextension install jupyterlab_3dmol</tt></p>\n",
       "        </div>\n",
       "<script>\n",
       "\n",
       "var loadScriptAsync = function(uri){\n",
       "  return new Promise((resolve, reject) => {\n",
       "    //this is to ignore the existence of requirejs amd\n",
       "    var savedexports, savedmodule;\n",
       "    if (typeof exports !== 'undefined') savedexports = exports;\n",
       "    else exports = {}\n",
       "    if (typeof module !== 'undefined') savedmodule = module;\n",
       "    else module = {}\n",
       "\n",
       "    var tag = document.createElement('script');\n",
       "    tag.src = uri;\n",
       "    tag.async = true;\n",
       "    tag.onload = () => {\n",
       "        exports = savedexports;\n",
       "        module = savedmodule;\n",
       "        resolve();\n",
       "    };\n",
       "  var firstScriptTag = document.getElementsByTagName('script')[0];\n",
       "  firstScriptTag.parentNode.insertBefore(tag, firstScriptTag);\n",
       "});\n",
       "};\n",
       "\n",
       "if(typeof $3Dmolpromise === 'undefined') {\n",
       "$3Dmolpromise = null;\n",
       "  $3Dmolpromise = loadScriptAsync('https://cdnjs.cloudflare.com/ajax/libs/3Dmol/2.0.1/3Dmol-min.js');\n",
       "}\n",
       "\n",
       "var viewer_16874041611409562 = null;\n",
       "var warn = document.getElementById(\"3dmolwarning_16874041611409562\");\n",
       "if(warn) {\n",
       "    warn.parentNode.removeChild(warn);\n",
       "}\n",
       "$3Dmolpromise.then(function() {\n",
       "viewer_16874041611409562 = $3Dmol.createViewer(document.getElementById(\"3dmolviewer_16874041611409562\"),{backgroundColor:\"white\"});\n",
       "viewer_16874041611409562.zoomTo();\n",
       "\tviewer_16874041611409562.addModel(\"# Produced with molli package\\n@<TRIPOS>MOLECULE\\n1\\n30 32 0 0 0\\nSMALL\\nUSER_CHARGES\\n\\n@<TRIPOS>ATOM\\n     1 C       2.653877    -0.900810     0.000000 C          1 UNL1 0.0\\n     2 C       3.535127     0.312731     0.000000 C          1 UNL1 0.0\\n     3 O       2.653877     1.526273     0.000000 O          1 UNL1 0.0\\n     4 C       1.226794     1.062732     0.000000 C          1 UNL1 0.0\\n     5 N       1.226794    -0.437269     0.000000 N          1 UNL1 0.0\\n     6 C      -0.072164     1.812732     0.000000 C          1 UNL1 0.0\\n     7 C      -1.371123     1.062732     0.000000 C          1 UNL1 0.0\\n     8 O      -2.798206     1.526273     0.000000 O          1 UNL1 0.0\\n     9 C      -3.679456     0.312731     0.000000 C          1 UNL1 0.0\\n    10 C      -2.798206    -0.900810     0.000000 C          1 UNL1 0.0\\n    11 N      -1.371123    -0.437269     0.000000 N          1 UNL1 0.0\\n    12 A1     -3.029977    -1.614352    -1.299453 Unknown    1 UNL1 0.0\\n    13 A1      2.885648    -1.614352     1.299453 Unknown    1 UNL1 0.0\\n    14 C      -0.072164    -1.187268     0.000000 C          1 UNL1 0.0\\n    15 Br     -0.072164    -1.187268     1.499931 Br         1 UNL1 0.0\\n    16 Br      0.677836    -2.486227     0.000000 Br         1 UNL1 0.0\\n    17 C      -0.072164     1.812732     1.500000 C          1 UNL1 0.0\\n    18 C       1.226794     2.562732     0.000000 C          1 UNL1 0.0\\n    19 H       2.859825    -1.534673    -0.837080 H          1 UNL1 0.0\\n    20 H       4.148880     0.312731     0.876544 H          1 UNL1 0.0\\n    21 H       4.148880     0.312731    -0.876544 H          1 UNL1 0.0\\n    22 H      -4.293208     0.312731     0.876544 H          1 UNL1 0.0\\n    23 H      -4.293208     0.312731    -0.876544 H          1 UNL1 0.0\\n    24 H      -3.004154    -1.534673     0.837080 H          1 UNL1 0.0\\n    25 H      -0.446797     0.876067     1.856667 H          1 UNL1 0.0\\n    26 H      -0.696023     2.605505     1.856667 H          1 UNL1 0.0\\n    27 H       0.926327     1.956622     1.856667 H          1 UNL1 0.0\\n    28 H       1.787896     2.304234     0.873638 H          1 UNL1 0.0\\n    29 H       1.031246     3.614711     0.000027 H          1 UNL1 0.0\\n    30 H       1.787873     2.304274    -0.873665 H          1 UNL1 0.0\\n@<TRIPOS>BOND\\n     1      1      2          1\\n     2      2      3          1\\n     3      3      4          1\\n     4      4      5          2\\n     5      5      1          1\\n     6      4      6          1\\n     7      6      7          1\\n     8      7      8          1\\n     9      8      9          1\\n    10      9     10          1\\n    11     10     11          1\\n    12     11      7          2\\n    13     10     12          1\\n    14      1     13          1\\n    15     11     14          1\\n    16     14      5          1\\n    17     14     15          1\\n    18     14     16          1\\n    19      6     17          1\\n    20      6     18          1\\n    21      1     19          1\\n    22      2     20          1\\n    23      2     21          1\\n    24      9     22          1\\n    25      9     23          1\\n    26     10     24          1\\n    27     17     25          1\\n    28     17     26          1\\n    29     17     27          1\\n    30     18     28          1\\n    31     18     29          1\\n    32     18     30          1\\n\",\"mol2\");\n",
       "\tviewer_16874041611409562.setStyle({\"stick\": {\"radius\": 0.1}, \"sphere\": {\"scale\": 0.15}});\n",
       "\tviewer_16874041611409562.setHoverable({},true,\"\\n            function(atom,viewer,event,container) {\\n                if(!atom.label) {\\n                    atom.label = viewer.addLabel(atom.elem + atom.serial, {position: atom, backgroundColor: 'mintcream', fontColor:'black'});\\n                }\\n            }\\n            \",\"\\n            function(atom,viewer) { \\n                if(atom.label) {\\n                    viewer.removeLabel(atom.label);\\n                    delete atom.label;\\n                }\\n            }\\n            \");\n",
       "\tviewer_16874041611409562.zoomTo();\n",
       "\tviewer_16874041611409562.setBackgroundColor(null);\n",
       "viewer_16874041611409562.render();\n",
       "});\n",
       "</script>"
      ]
     },
     "metadata": {},
     "output_type": "display_data"
    },
    {
     "data": {
      "text/plain": [
       "Molecule(name='1', formula='C10 H12 Br2 N2 O2 Unknown2')"
      ]
     },
     "execution_count": 5,
     "metadata": {},
     "output_type": "execute_result"
    }
   ],
   "source": [
    "m_core = ml.MoleculeLibrary(f'{out_dir}BOX_cores_new_env.mlib')\n",
    "print(len(m_core))\n",
    "# you can index fragments directly with the string they are lablled with in the chemdraw\n",
    "m_core['1']"
   ]
  },
  {
   "cell_type": "code",
   "execution_count": 6,
   "metadata": {},
   "outputs": [
    {
     "name": "stdout",
     "output_type": "stream",
     "text": [
      "15\n"
     ]
    },
    {
     "data": {
      "application/3dmoljs_load.v0": "<div id=\"3dmolviewer_16874041611526492\"  style=\"position: relative; width: 1000px; height: 500px\">\n        <p id=\"3dmolwarning_16874041611526492\" style=\"background-color:#ffcccc;color:black\">You appear to be running in JupyterLab (or JavaScript failed to load for some other reason).  You need to install the 3dmol extension: <br>\n        <tt>jupyter labextension install jupyterlab_3dmol</tt></p>\n        </div>\n<script>\n\nvar loadScriptAsync = function(uri){\n  return new Promise((resolve, reject) => {\n    //this is to ignore the existence of requirejs amd\n    var savedexports, savedmodule;\n    if (typeof exports !== 'undefined') savedexports = exports;\n    else exports = {}\n    if (typeof module !== 'undefined') savedmodule = module;\n    else module = {}\n\n    var tag = document.createElement('script');\n    tag.src = uri;\n    tag.async = true;\n    tag.onload = () => {\n        exports = savedexports;\n        module = savedmodule;\n        resolve();\n    };\n  var firstScriptTag = document.getElementsByTagName('script')[0];\n  firstScriptTag.parentNode.insertBefore(tag, firstScriptTag);\n});\n};\n\nif(typeof $3Dmolpromise === 'undefined') {\n$3Dmolpromise = null;\n  $3Dmolpromise = loadScriptAsync('https://cdnjs.cloudflare.com/ajax/libs/3Dmol/2.0.1/3Dmol-min.js');\n}\n\nvar viewer_16874041611526492 = null;\nvar warn = document.getElementById(\"3dmolwarning_16874041611526492\");\nif(warn) {\n    warn.parentNode.removeChild(warn);\n}\n$3Dmolpromise.then(function() {\nviewer_16874041611526492 = $3Dmol.createViewer(document.getElementById(\"3dmolviewer_16874041611526492\"),{backgroundColor:\"white\"});\nviewer_16874041611526492.zoomTo();\n\tviewer_16874041611526492.addModel(\"# Produced with molli package\\n@<TRIPOS>MOLECULE\\n3\\n11 10 0 0 0\\nSMALL\\nUSER_CHARGES\\n\\n@<TRIPOS>ATOM\\n     1 C       0.000000     0.000000     0.000000 C          1 UNL1 0.0\\n     2 AP1    -1.298958    -0.750000     0.000000 Unknown    1 UNL1 0.0\\n     3 C       1.299018    -0.750035     0.000000 C          1 UNL1 0.0\\n     4 C       0.000000     1.500000     0.000000 C          1 UNL1 0.0\\n     5 H       0.000000     0.000000    -1.070000 H          1 UNL1 0.0\\n     6 H       1.860120    -0.491537     0.873638 H          1 UNL1 0.0\\n     7 H       1.860097    -0.491577    -0.873665 H          1 UNL1 0.0\\n     8 H       1.103470    -1.802014     0.000027 H          1 UNL1 0.0\\n     9 H       1.008806     1.856667     0.000000 H          1 UNL1 0.0\\n    10 H      -0.504403     1.856667     0.873651 H          1 UNL1 0.0\\n    11 H      -0.504403     1.856667    -0.873651 H          1 UNL1 0.0\\n@<TRIPOS>BOND\\n     1      2      1          1\\n     2      1      3          1\\n     3      1      4          1\\n     4      1      5          1\\n     5      3      6          1\\n     6      3      7          1\\n     7      3      8          1\\n     8      4      9          1\\n     9      4     10          1\\n    10      4     11          1\\n\",\"mol2\");\n\tviewer_16874041611526492.setStyle({\"stick\": {\"radius\": 0.1}, \"sphere\": {\"scale\": 0.15}});\n\tviewer_16874041611526492.setHoverable({},true,\"\\n            function(atom,viewer,event,container) {\\n                if(!atom.label) {\\n                    atom.label = viewer.addLabel(atom.elem + atom.serial, {position: atom, backgroundColor: 'mintcream', fontColor:'black'});\\n                }\\n            }\\n            \",\"\\n            function(atom,viewer) { \\n                if(atom.label) {\\n                    viewer.removeLabel(atom.label);\\n                    delete atom.label;\\n                }\\n            }\\n            \");\n\tviewer_16874041611526492.zoomTo();\n\tviewer_16874041611526492.setBackgroundColor(null);\nviewer_16874041611526492.render();\n});\n</script>",
      "text/html": [
       "<div id=\"3dmolviewer_16874041611526492\"  style=\"position: relative; width: 1000px; height: 500px\">\n",
       "        <p id=\"3dmolwarning_16874041611526492\" style=\"background-color:#ffcccc;color:black\">You appear to be running in JupyterLab (or JavaScript failed to load for some other reason).  You need to install the 3dmol extension: <br>\n",
       "        <tt>jupyter labextension install jupyterlab_3dmol</tt></p>\n",
       "        </div>\n",
       "<script>\n",
       "\n",
       "var loadScriptAsync = function(uri){\n",
       "  return new Promise((resolve, reject) => {\n",
       "    //this is to ignore the existence of requirejs amd\n",
       "    var savedexports, savedmodule;\n",
       "    if (typeof exports !== 'undefined') savedexports = exports;\n",
       "    else exports = {}\n",
       "    if (typeof module !== 'undefined') savedmodule = module;\n",
       "    else module = {}\n",
       "\n",
       "    var tag = document.createElement('script');\n",
       "    tag.src = uri;\n",
       "    tag.async = true;\n",
       "    tag.onload = () => {\n",
       "        exports = savedexports;\n",
       "        module = savedmodule;\n",
       "        resolve();\n",
       "    };\n",
       "  var firstScriptTag = document.getElementsByTagName('script')[0];\n",
       "  firstScriptTag.parentNode.insertBefore(tag, firstScriptTag);\n",
       "});\n",
       "};\n",
       "\n",
       "if(typeof $3Dmolpromise === 'undefined') {\n",
       "$3Dmolpromise = null;\n",
       "  $3Dmolpromise = loadScriptAsync('https://cdnjs.cloudflare.com/ajax/libs/3Dmol/2.0.1/3Dmol-min.js');\n",
       "}\n",
       "\n",
       "var viewer_16874041611526492 = null;\n",
       "var warn = document.getElementById(\"3dmolwarning_16874041611526492\");\n",
       "if(warn) {\n",
       "    warn.parentNode.removeChild(warn);\n",
       "}\n",
       "$3Dmolpromise.then(function() {\n",
       "viewer_16874041611526492 = $3Dmol.createViewer(document.getElementById(\"3dmolviewer_16874041611526492\"),{backgroundColor:\"white\"});\n",
       "viewer_16874041611526492.zoomTo();\n",
       "\tviewer_16874041611526492.addModel(\"# Produced with molli package\\n@<TRIPOS>MOLECULE\\n3\\n11 10 0 0 0\\nSMALL\\nUSER_CHARGES\\n\\n@<TRIPOS>ATOM\\n     1 C       0.000000     0.000000     0.000000 C          1 UNL1 0.0\\n     2 AP1    -1.298958    -0.750000     0.000000 Unknown    1 UNL1 0.0\\n     3 C       1.299018    -0.750035     0.000000 C          1 UNL1 0.0\\n     4 C       0.000000     1.500000     0.000000 C          1 UNL1 0.0\\n     5 H       0.000000     0.000000    -1.070000 H          1 UNL1 0.0\\n     6 H       1.860120    -0.491537     0.873638 H          1 UNL1 0.0\\n     7 H       1.860097    -0.491577    -0.873665 H          1 UNL1 0.0\\n     8 H       1.103470    -1.802014     0.000027 H          1 UNL1 0.0\\n     9 H       1.008806     1.856667     0.000000 H          1 UNL1 0.0\\n    10 H      -0.504403     1.856667     0.873651 H          1 UNL1 0.0\\n    11 H      -0.504403     1.856667    -0.873651 H          1 UNL1 0.0\\n@<TRIPOS>BOND\\n     1      2      1          1\\n     2      1      3          1\\n     3      1      4          1\\n     4      1      5          1\\n     5      3      6          1\\n     6      3      7          1\\n     7      3      8          1\\n     8      4      9          1\\n     9      4     10          1\\n    10      4     11          1\\n\",\"mol2\");\n",
       "\tviewer_16874041611526492.setStyle({\"stick\": {\"radius\": 0.1}, \"sphere\": {\"scale\": 0.15}});\n",
       "\tviewer_16874041611526492.setHoverable({},true,\"\\n            function(atom,viewer,event,container) {\\n                if(!atom.label) {\\n                    atom.label = viewer.addLabel(atom.elem + atom.serial, {position: atom, backgroundColor: 'mintcream', fontColor:'black'});\\n                }\\n            }\\n            \",\"\\n            function(atom,viewer) { \\n                if(atom.label) {\\n                    viewer.removeLabel(atom.label);\\n                    delete atom.label;\\n                }\\n            }\\n            \");\n",
       "\tviewer_16874041611526492.zoomTo();\n",
       "\tviewer_16874041611526492.setBackgroundColor(null);\n",
       "viewer_16874041611526492.render();\n",
       "});\n",
       "</script>"
      ]
     },
     "metadata": {},
     "output_type": "display_data"
    },
    {
     "data": {
      "text/plain": [
       "Molecule(name='3', formula='C3 H7 Unknown1')"
      ]
     },
     "execution_count": 6,
     "metadata": {},
     "output_type": "execute_result"
    }
   ],
   "source": [
    "m_subs = ml.MoleculeLibrary(f'{out_dir}BOX_subs_new_env.mlib')\n",
    "print(len(m_subs))\n",
    "m_subs['3']"
   ]
  },
  {
   "attachments": {},
   "cell_type": "markdown",
   "metadata": {},
   "source": [
    "# 2. Combinatorial Expansion"
   ]
  },
  {
   "cell_type": "code",
   "execution_count": 7,
   "metadata": {},
   "outputs": [
    {
     "name": "stdout",
     "output_type": "stream",
     "text": [
      "Will create a library of size 75\n"
     ]
    },
    {
     "name": "stderr",
     "output_type": "stream",
     "text": [
      "100%|██████████| 75/75 [00:02<00:00, 36.65it/s]\n"
     ]
    },
    {
     "data": {
      "text/plain": [
       "CompletedProcess(args=['molli', 'combine', './ncsa-testing-output/BOX_cores_new_env.mlib', '-s', './ncsa-testing-output/BOX_subs_new_env.mlib', '-j', '96', '-o', './ncsa-testing-output/test_combine_new_env.mlib', '-a', 'A1', '--obopt', 'uff', '-m', 'same', '--overwrite'], returncode=0)"
      ]
     },
     "execution_count": 7,
     "metadata": {},
     "output_type": "execute_result"
    }
   ],
   "source": [
    "subprocess.run(\n",
    "    [\n",
    "        'molli',\n",
    "        'combine',\n",
    "        f'{out_dir}BOX_cores_new_env.mlib',\n",
    "        '-s',\n",
    "        f'{out_dir}BOX_subs_new_env.mlib',\n",
    "        '-j',\n",
    "        '96', \n",
    "        '-o', \n",
    "        f'{out_dir}test_combine_new_env.mlib', \n",
    "        '-a', \n",
    "        'A1', \n",
    "        '--obopt', \n",
    "        'uff',\n",
    "        '-m',\n",
    "        'same',\n",
    "        \"--overwrite\"\n",
    "    ]\n",
    ")\n"
   ]
  },
  {
   "cell_type": "code",
   "execution_count": 8,
   "metadata": {},
   "outputs": [
    {
     "name": "stdout",
     "output_type": "stream",
     "text": [
      "75\n"
     ]
    },
    {
     "data": {
      "application/3dmoljs_load.v0": "<div id=\"3dmolviewer_16874041637615972\"  style=\"position: relative; width: 1000px; height: 500px\">\n        <p id=\"3dmolwarning_16874041637615972\" style=\"background-color:#ffcccc;color:black\">You appear to be running in JupyterLab (or JavaScript failed to load for some other reason).  You need to install the 3dmol extension: <br>\n        <tt>jupyter labextension install jupyterlab_3dmol</tt></p>\n        </div>\n<script>\n\nvar loadScriptAsync = function(uri){\n  return new Promise((resolve, reject) => {\n    //this is to ignore the existence of requirejs amd\n    var savedexports, savedmodule;\n    if (typeof exports !== 'undefined') savedexports = exports;\n    else exports = {}\n    if (typeof module !== 'undefined') savedmodule = module;\n    else module = {}\n\n    var tag = document.createElement('script');\n    tag.src = uri;\n    tag.async = true;\n    tag.onload = () => {\n        exports = savedexports;\n        module = savedmodule;\n        resolve();\n    };\n  var firstScriptTag = document.getElementsByTagName('script')[0];\n  firstScriptTag.parentNode.insertBefore(tag, firstScriptTag);\n});\n};\n\nif(typeof $3Dmolpromise === 'undefined') {\n$3Dmolpromise = null;\n  $3Dmolpromise = loadScriptAsync('https://cdnjs.cloudflare.com/ajax/libs/3Dmol/2.0.1/3Dmol-min.js');\n}\n\nvar viewer_16874041637615972 = null;\nvar warn = document.getElementById(\"3dmolwarning_16874041637615972\");\nif(warn) {\n    warn.parentNode.removeChild(warn);\n}\n$3Dmolpromise.then(function() {\nviewer_16874041637615972 = $3Dmol.createViewer(document.getElementById(\"3dmolviewer_16874041637615972\"),{backgroundColor:\"white\"});\nviewer_16874041637615972.zoomTo();\n\tviewer_16874041637615972.addModel(\"# Produced with molli package\\n@<TRIPOS>MOLECULE\\n1_3_3\\n48 50 0 0 0\\nSMALL\\nUSER_CHARGES\\n\\n@<TRIPOS>ATOM\\n     1 C       0.048147     0.012541     0.224689 C          1 UNL1 0.0\\n     2 C       0.867525     1.318596     0.343638 C          1 UNL1 0.0\\n     3 O      -0.077965     2.298953     0.433303 O          1 UNL1 0.0\\n     4 C      -1.311546     1.774155     0.383830 C          1 UNL1 0.0\\n     5 N      -1.346966     0.492897     0.295101 N          1 UNL1 0.0\\n     6 C      -2.512397     2.667076     0.386291 C          1 UNL1 0.0\\n     7 C      -3.764902     1.865667     0.214388 C          1 UNL1 0.0\\n     8 O      -4.964206     2.465553     0.263954 O          1 UNL1 0.0\\n     9 C      -5.967311     1.549240     0.133522 C          1 UNL1 0.0\\n    10 C      -5.230112     0.193689     0.047365 C          1 UNL1 0.0\\n    11 N      -3.807745     0.590934     0.055760 N          1 UNL1 0.0\\n    12 C      -2.603076    -0.280080     0.102144 C          1 UNL1 0.0\\n    13 Br     -2.948349    -1.521396     1.561859 Br         1 UNL1 0.0\\n    14 Br     -2.328390    -1.257956    -1.558870 Br         1 UNL1 0.0\\n    15 C      -2.562943     3.415622     1.729638 C          1 UNL1 0.0\\n    16 C      -2.408172     3.670390    -0.775455 C          1 UNL1 0.0\\n    17 H       0.238961    -0.384957    -0.796369 H          1 UNL1 0.0\\n    18 H       1.507732     1.373455     1.247642 H          1 UNL1 0.0\\n    19 H       1.503711     1.479613    -0.553793 H          1 UNL1 0.0\\n    20 H      -6.651377     1.582696     1.009061 H          1 UNL1 0.0\\n    21 H      -6.542078     1.812505    -0.776898 H          1 UNL1 0.0\\n    22 H      -5.443748    -0.337852     1.000851 H          1 UNL1 0.0\\n    23 H      -2.642442     2.694411     2.572755 H          1 UNL1 0.0\\n    24 H      -3.439001     4.098451     1.769698 H          1 UNL1 0.0\\n    25 H      -1.645058     4.025412     1.876530 H          1 UNL1 0.0\\n    26 H      -1.492571     4.293228    -0.678876 H          1 UNL1 0.0\\n    27 H      -3.286285     4.352090    -0.787512 H          1 UNL1 0.0\\n    28 H      -2.366583     3.134675    -1.749160 H          1 UNL1 0.0\\n    29 C      -5.828443    -0.657999    -1.122508 C          1 UNL1 0.0\\n    30 C      -5.576510    -2.167939    -0.979459 C          1 UNL1 0.0\\n    31 C      -5.494970    -0.127588    -2.530156 C          1 UNL1 0.0\\n    32 H      -6.935515    -0.586187    -1.017206 H          1 UNL1 0.0\\n    33 H      -4.527548    -2.467545    -1.042008 H          1 UNL1 0.0\\n    34 H      -6.129187    -2.716746    -1.771977 H          1 UNL1 0.0\\n    35 H      -5.961042    -2.518981     0.001786 H          1 UNL1 0.0\\n    36 H      -6.023353    -0.734164    -3.295927 H          1 UNL1 0.0\\n    37 H      -4.418405    -0.158590    -2.752181 H          1 UNL1 0.0\\n    38 H      -5.824753     0.921881    -2.658242 H          1 UNL1 0.0\\n    39 C       0.582204    -1.032042     1.261510 C          1 UNL1 0.0\\n    40 C       0.258267    -2.490566     0.899246 C          1 UNL1 0.0\\n    41 C       0.250599    -0.687264     2.725853 C          1 UNL1 0.0\\n    42 H       1.693278    -1.007302     1.178719 H          1 UNL1 0.0\\n    43 H      -0.804108    -2.743244     0.901131 H          1 UNL1 0.0\\n    44 H       0.766298    -3.174605     1.612599 H          1 UNL1 0.0\\n    45 H       0.646404    -2.716742    -0.116641 H          1 UNL1 0.0\\n    46 H       0.734071    -1.420275     3.405630 H          1 UNL1 0.0\\n    47 H      -0.830815    -0.692407     2.928084 H          1 UNL1 0.0\\n    48 H       0.629389     0.317555     2.999203 H          1 UNL1 0.0\\n@<TRIPOS>BOND\\n     1      1      2          1\\n     2      2      3          1\\n     3      3      4          1\\n     4      4      5          2\\n     5      5      1          1\\n     6      4      6          1\\n     7      6      7          1\\n     8      7      8          1\\n     9      8      9          1\\n    10      9     10          1\\n    11     10     11          1\\n    12     11      7          2\\n    13     11     12          1\\n    14     12      5          1\\n    15     12     13          1\\n    16     12     14          1\\n    17      6     15          1\\n    18      6     16          1\\n    19      1     17          1\\n    20      2     18          1\\n    21      2     19          1\\n    22      9     20          1\\n    23      9     21          1\\n    24     10     22          1\\n    25     15     23          1\\n    26     15     24          1\\n    27     15     25          1\\n    28     16     26          1\\n    29     16     27          1\\n    30     16     28          1\\n    31     29     30          1\\n    32     29     31          1\\n    33     29     32          1\\n    34     30     33          1\\n    35     30     34          1\\n    36     30     35          1\\n    37     31     36          1\\n    38     31     37          1\\n    39     31     38          1\\n    40     10     29          1\\n    41     39     40          1\\n    42     39     41          1\\n    43     39     42          1\\n    44     40     43          1\\n    45     40     44          1\\n    46     40     45          1\\n    47     41     46          1\\n    48     41     47          1\\n    49     41     48          1\\n    50      1     39          1\\n\",\"mol2\");\n\tviewer_16874041637615972.setStyle({\"stick\": {\"radius\": 0.1}, \"sphere\": {\"scale\": 0.15}});\n\tviewer_16874041637615972.setHoverable({},true,\"\\n            function(atom,viewer,event,container) {\\n                if(!atom.label) {\\n                    atom.label = viewer.addLabel(atom.elem + atom.serial, {position: atom, backgroundColor: 'mintcream', fontColor:'black'});\\n                }\\n            }\\n            \",\"\\n            function(atom,viewer) { \\n                if(atom.label) {\\n                    viewer.removeLabel(atom.label);\\n                    delete atom.label;\\n                }\\n            }\\n            \");\n\tviewer_16874041637615972.zoomTo();\n\tviewer_16874041637615972.setBackgroundColor(null);\nviewer_16874041637615972.render();\n});\n</script>",
      "text/html": [
       "<div id=\"3dmolviewer_16874041637615972\"  style=\"position: relative; width: 1000px; height: 500px\">\n",
       "        <p id=\"3dmolwarning_16874041637615972\" style=\"background-color:#ffcccc;color:black\">You appear to be running in JupyterLab (or JavaScript failed to load for some other reason).  You need to install the 3dmol extension: <br>\n",
       "        <tt>jupyter labextension install jupyterlab_3dmol</tt></p>\n",
       "        </div>\n",
       "<script>\n",
       "\n",
       "var loadScriptAsync = function(uri){\n",
       "  return new Promise((resolve, reject) => {\n",
       "    //this is to ignore the existence of requirejs amd\n",
       "    var savedexports, savedmodule;\n",
       "    if (typeof exports !== 'undefined') savedexports = exports;\n",
       "    else exports = {}\n",
       "    if (typeof module !== 'undefined') savedmodule = module;\n",
       "    else module = {}\n",
       "\n",
       "    var tag = document.createElement('script');\n",
       "    tag.src = uri;\n",
       "    tag.async = true;\n",
       "    tag.onload = () => {\n",
       "        exports = savedexports;\n",
       "        module = savedmodule;\n",
       "        resolve();\n",
       "    };\n",
       "  var firstScriptTag = document.getElementsByTagName('script')[0];\n",
       "  firstScriptTag.parentNode.insertBefore(tag, firstScriptTag);\n",
       "});\n",
       "};\n",
       "\n",
       "if(typeof $3Dmolpromise === 'undefined') {\n",
       "$3Dmolpromise = null;\n",
       "  $3Dmolpromise = loadScriptAsync('https://cdnjs.cloudflare.com/ajax/libs/3Dmol/2.0.1/3Dmol-min.js');\n",
       "}\n",
       "\n",
       "var viewer_16874041637615972 = null;\n",
       "var warn = document.getElementById(\"3dmolwarning_16874041637615972\");\n",
       "if(warn) {\n",
       "    warn.parentNode.removeChild(warn);\n",
       "}\n",
       "$3Dmolpromise.then(function() {\n",
       "viewer_16874041637615972 = $3Dmol.createViewer(document.getElementById(\"3dmolviewer_16874041637615972\"),{backgroundColor:\"white\"});\n",
       "viewer_16874041637615972.zoomTo();\n",
       "\tviewer_16874041637615972.addModel(\"# Produced with molli package\\n@<TRIPOS>MOLECULE\\n1_3_3\\n48 50 0 0 0\\nSMALL\\nUSER_CHARGES\\n\\n@<TRIPOS>ATOM\\n     1 C       0.048147     0.012541     0.224689 C          1 UNL1 0.0\\n     2 C       0.867525     1.318596     0.343638 C          1 UNL1 0.0\\n     3 O      -0.077965     2.298953     0.433303 O          1 UNL1 0.0\\n     4 C      -1.311546     1.774155     0.383830 C          1 UNL1 0.0\\n     5 N      -1.346966     0.492897     0.295101 N          1 UNL1 0.0\\n     6 C      -2.512397     2.667076     0.386291 C          1 UNL1 0.0\\n     7 C      -3.764902     1.865667     0.214388 C          1 UNL1 0.0\\n     8 O      -4.964206     2.465553     0.263954 O          1 UNL1 0.0\\n     9 C      -5.967311     1.549240     0.133522 C          1 UNL1 0.0\\n    10 C      -5.230112     0.193689     0.047365 C          1 UNL1 0.0\\n    11 N      -3.807745     0.590934     0.055760 N          1 UNL1 0.0\\n    12 C      -2.603076    -0.280080     0.102144 C          1 UNL1 0.0\\n    13 Br     -2.948349    -1.521396     1.561859 Br         1 UNL1 0.0\\n    14 Br     -2.328390    -1.257956    -1.558870 Br         1 UNL1 0.0\\n    15 C      -2.562943     3.415622     1.729638 C          1 UNL1 0.0\\n    16 C      -2.408172     3.670390    -0.775455 C          1 UNL1 0.0\\n    17 H       0.238961    -0.384957    -0.796369 H          1 UNL1 0.0\\n    18 H       1.507732     1.373455     1.247642 H          1 UNL1 0.0\\n    19 H       1.503711     1.479613    -0.553793 H          1 UNL1 0.0\\n    20 H      -6.651377     1.582696     1.009061 H          1 UNL1 0.0\\n    21 H      -6.542078     1.812505    -0.776898 H          1 UNL1 0.0\\n    22 H      -5.443748    -0.337852     1.000851 H          1 UNL1 0.0\\n    23 H      -2.642442     2.694411     2.572755 H          1 UNL1 0.0\\n    24 H      -3.439001     4.098451     1.769698 H          1 UNL1 0.0\\n    25 H      -1.645058     4.025412     1.876530 H          1 UNL1 0.0\\n    26 H      -1.492571     4.293228    -0.678876 H          1 UNL1 0.0\\n    27 H      -3.286285     4.352090    -0.787512 H          1 UNL1 0.0\\n    28 H      -2.366583     3.134675    -1.749160 H          1 UNL1 0.0\\n    29 C      -5.828443    -0.657999    -1.122508 C          1 UNL1 0.0\\n    30 C      -5.576510    -2.167939    -0.979459 C          1 UNL1 0.0\\n    31 C      -5.494970    -0.127588    -2.530156 C          1 UNL1 0.0\\n    32 H      -6.935515    -0.586187    -1.017206 H          1 UNL1 0.0\\n    33 H      -4.527548    -2.467545    -1.042008 H          1 UNL1 0.0\\n    34 H      -6.129187    -2.716746    -1.771977 H          1 UNL1 0.0\\n    35 H      -5.961042    -2.518981     0.001786 H          1 UNL1 0.0\\n    36 H      -6.023353    -0.734164    -3.295927 H          1 UNL1 0.0\\n    37 H      -4.418405    -0.158590    -2.752181 H          1 UNL1 0.0\\n    38 H      -5.824753     0.921881    -2.658242 H          1 UNL1 0.0\\n    39 C       0.582204    -1.032042     1.261510 C          1 UNL1 0.0\\n    40 C       0.258267    -2.490566     0.899246 C          1 UNL1 0.0\\n    41 C       0.250599    -0.687264     2.725853 C          1 UNL1 0.0\\n    42 H       1.693278    -1.007302     1.178719 H          1 UNL1 0.0\\n    43 H      -0.804108    -2.743244     0.901131 H          1 UNL1 0.0\\n    44 H       0.766298    -3.174605     1.612599 H          1 UNL1 0.0\\n    45 H       0.646404    -2.716742    -0.116641 H          1 UNL1 0.0\\n    46 H       0.734071    -1.420275     3.405630 H          1 UNL1 0.0\\n    47 H      -0.830815    -0.692407     2.928084 H          1 UNL1 0.0\\n    48 H       0.629389     0.317555     2.999203 H          1 UNL1 0.0\\n@<TRIPOS>BOND\\n     1      1      2          1\\n     2      2      3          1\\n     3      3      4          1\\n     4      4      5          2\\n     5      5      1          1\\n     6      4      6          1\\n     7      6      7          1\\n     8      7      8          1\\n     9      8      9          1\\n    10      9     10          1\\n    11     10     11          1\\n    12     11      7          2\\n    13     11     12          1\\n    14     12      5          1\\n    15     12     13          1\\n    16     12     14          1\\n    17      6     15          1\\n    18      6     16          1\\n    19      1     17          1\\n    20      2     18          1\\n    21      2     19          1\\n    22      9     20          1\\n    23      9     21          1\\n    24     10     22          1\\n    25     15     23          1\\n    26     15     24          1\\n    27     15     25          1\\n    28     16     26          1\\n    29     16     27          1\\n    30     16     28          1\\n    31     29     30          1\\n    32     29     31          1\\n    33     29     32          1\\n    34     30     33          1\\n    35     30     34          1\\n    36     30     35          1\\n    37     31     36          1\\n    38     31     37          1\\n    39     31     38          1\\n    40     10     29          1\\n    41     39     40          1\\n    42     39     41          1\\n    43     39     42          1\\n    44     40     43          1\\n    45     40     44          1\\n    46     40     45          1\\n    47     41     46          1\\n    48     41     47          1\\n    49     41     48          1\\n    50      1     39          1\\n\",\"mol2\");\n",
       "\tviewer_16874041637615972.setStyle({\"stick\": {\"radius\": 0.1}, \"sphere\": {\"scale\": 0.15}});\n",
       "\tviewer_16874041637615972.setHoverable({},true,\"\\n            function(atom,viewer,event,container) {\\n                if(!atom.label) {\\n                    atom.label = viewer.addLabel(atom.elem + atom.serial, {position: atom, backgroundColor: 'mintcream', fontColor:'black'});\\n                }\\n            }\\n            \",\"\\n            function(atom,viewer) { \\n                if(atom.label) {\\n                    viewer.removeLabel(atom.label);\\n                    delete atom.label;\\n                }\\n            }\\n            \");\n",
       "\tviewer_16874041637615972.zoomTo();\n",
       "\tviewer_16874041637615972.setBackgroundColor(null);\n",
       "viewer_16874041637615972.render();\n",
       "});\n",
       "</script>"
      ]
     },
     "metadata": {},
     "output_type": "display_data"
    },
    {
     "data": {
      "text/plain": [
       "Molecule(name='1_3_3', formula='C16 H26 Br2 N2 O2')"
      ]
     },
     "execution_count": 8,
     "metadata": {},
     "output_type": "execute_result"
    }
   ],
   "source": [
    "combined = ml.MoleculeLibrary(f'{out_dir}test_combine_new_env.mlib')\n",
    "print(len(combined))\n",
    "# you index full catalysts structures with the concatenated core_substituent_substituent string\n",
    "combined[\"1_3_3\"]"
   ]
  },
  {
   "cell_type": "code",
   "execution_count": 9,
   "metadata": {},
   "outputs": [
    {
     "data": {
      "application/3dmoljs_load.v0": "<div id=\"3dmolviewer_16874041637850227\"  style=\"position: relative; width: 1000px; height: 500px\">\n        <p id=\"3dmolwarning_16874041637850227\" style=\"background-color:#ffcccc;color:black\">You appear to be running in JupyterLab (or JavaScript failed to load for some other reason).  You need to install the 3dmol extension: <br>\n        <tt>jupyter labextension install jupyterlab_3dmol</tt></p>\n        </div>\n<script>\n\nvar loadScriptAsync = function(uri){\n  return new Promise((resolve, reject) => {\n    //this is to ignore the existence of requirejs amd\n    var savedexports, savedmodule;\n    if (typeof exports !== 'undefined') savedexports = exports;\n    else exports = {}\n    if (typeof module !== 'undefined') savedmodule = module;\n    else module = {}\n\n    var tag = document.createElement('script');\n    tag.src = uri;\n    tag.async = true;\n    tag.onload = () => {\n        exports = savedexports;\n        module = savedmodule;\n        resolve();\n    };\n  var firstScriptTag = document.getElementsByTagName('script')[0];\n  firstScriptTag.parentNode.insertBefore(tag, firstScriptTag);\n});\n};\n\nif(typeof $3Dmolpromise === 'undefined') {\n$3Dmolpromise = null;\n  $3Dmolpromise = loadScriptAsync('https://cdnjs.cloudflare.com/ajax/libs/3Dmol/2.0.1/3Dmol-min.js');\n}\n\nvar viewer_16874041637850227 = null;\nvar warn = document.getElementById(\"3dmolwarning_16874041637850227\");\nif(warn) {\n    warn.parentNode.removeChild(warn);\n}\n$3Dmolpromise.then(function() {\nviewer_16874041637850227 = $3Dmol.createViewer(document.getElementById(\"3dmolviewer_16874041637850227\"),{backgroundColor:\"white\"});\nviewer_16874041637850227.zoomTo();\n\tviewer_16874041637850227.addModel(\"# Produced with molli package\\n@<TRIPOS>MOLECULE\\n3_6_6\\n74 78 0 0 0\\nSMALL\\nUSER_CHARGES\\n\\n@<TRIPOS>ATOM\\n     1 C      -0.234801    -0.313744     0.453588 C          1 UNL1 0.0\\n     2 C       0.719470     0.931378     0.306848 C          1 UNL1 0.0\\n     3 O      -0.170031     1.973899     0.154504 O          1 UNL1 0.0\\n     4 C      -1.439508     1.561086     0.309690 C          1 UNL1 0.0\\n     5 N      -1.554227     0.302207     0.501202 N          1 UNL1 0.0\\n     6 C      -2.608722     2.509642     0.214996 C          1 UNL1 0.0\\n     7 C      -3.890875     1.730014     0.074376 C          1 UNL1 0.0\\n     8 O      -5.073103     2.341261    -0.107872 O          1 UNL1 0.0\\n     9 C      -6.096816     1.423970    -0.065954 C          1 UNL1 0.0\\n    10 C      -5.355071     0.037157    -0.055883 C          1 UNL1 0.0\\n    11 N      -3.971626     0.453736     0.157446 N          1 UNL1 0.0\\n    12 C      -2.844409    -0.407726     0.580324 C          1 UNL1 0.0\\n    13 Br     -3.197040    -0.876826     2.439395 Br         1 UNL1 0.0\\n    14 Br     -2.717700    -2.112867    -0.388296 Br         1 UNL1 0.0\\n    15 C      -2.661310     3.384969     1.477295 C          1 UNL1 0.0\\n    16 C      -2.445108     3.392874    -1.033459 C          1 UNL1 0.0\\n    17 C      -7.241492     1.858271    -1.041067 C          1 UNL1 0.0\\n    18 C      -6.782266     2.325026    -2.443234 C          1 UNL1 0.0\\n    19 C      -8.392753     0.848052    -1.116014 C          1 UNL1 0.0\\n    20 C       1.760782     1.394912     1.377754 C          1 UNL1 0.0\\n    21 C       2.908176     0.409368     1.614081 C          1 UNL1 0.0\\n    22 C       1.154919     1.875437     2.707976 C          1 UNL1 0.0\\n    23 H      -0.239980    -0.869338    -0.508256 H          1 UNL1 0.0\\n    24 H       1.284350     0.799457    -0.643131 H          1 UNL1 0.0\\n    25 H      -6.543267     1.508159     0.952174 H          1 UNL1 0.0\\n    26 H      -5.649182    -0.532785     0.839810 H          1 UNL1 0.0\\n    27 H      -1.724759     3.972103     1.591202 H          1 UNL1 0.0\\n    28 H      -2.785174     2.747791     2.381073 H          1 UNL1 0.0\\n    29 H      -3.516891     4.093184     1.433003 H          1 UNL1 0.0\\n    30 H      -1.511464     3.992993    -0.968795 H          1 UNL1 0.0\\n    31 H      -3.296761     4.102427    -1.124951 H          1 UNL1 0.0\\n    32 H      -2.403891     2.770864    -1.953307 H          1 UNL1 0.0\\n    33 H      -7.663989     2.783022    -0.586043 H          1 UNL1 0.0\\n    34 H      -6.023803     3.130577    -2.346294 H          1 UNL1 0.0\\n    35 H      -7.649045     2.755127    -2.988631 H          1 UNL1 0.0\\n    36 H      -6.362137     1.549422    -3.100452 H          1 UNL1 0.0\\n    37 H      -8.091695    -0.091453    -1.612304 H          1 UNL1 0.0\\n    38 H      -9.232747     1.278136    -1.702333 H          1 UNL1 0.0\\n    39 H      -8.764221     0.614028    -0.096515 H          1 UNL1 0.0\\n    40 H       2.239240     2.294911     0.926790 H          1 UNL1 0.0\\n    41 H       3.700339     0.896154     2.221684 H          1 UNL1 0.0\\n    42 H       3.361928     0.105622     0.646330 H          1 UNL1 0.0\\n    43 H       2.579393    -0.476967     2.177773 H          1 UNL1 0.0\\n    44 H       0.410682     2.678823     2.528893 H          1 UNL1 0.0\\n    45 H       1.957252     2.303412     3.346879 H          1 UNL1 0.0\\n    46 H       0.669193     1.068843     3.279686 H          1 UNL1 0.0\\n    47 C      -5.492483    -0.797167    -1.372472 C          1 UNL1 0.0\\n    48 C      -6.287130    -2.097223    -1.337064 C          1 UNL1 0.0\\n    49 C      -6.979833    -2.594943    -0.208639 C          1 UNL1 0.0\\n    50 C      -7.665510    -3.812407    -0.278119 C          1 UNL1 0.0\\n    51 C      -7.676481    -4.549202    -1.462460 C          1 UNL1 0.0\\n    52 C      -7.004144    -4.069515    -2.585530 C          1 UNL1 0.0\\n    53 C      -6.316958    -2.854749    -2.524225 C          1 UNL1 0.0\\n    54 H      -5.880027    -0.189435    -2.182398 H          1 UNL1 0.0\\n    55 H      -4.501552    -1.023527    -1.781385 H          1 UNL1 0.0\\n    56 H      -7.015859    -2.075821     0.732798 H          1 UNL1 0.0\\n    57 H      -8.190158    -4.186475     0.591765 H          1 UNL1 0.0\\n    58 H      -8.206902    -5.491510    -1.509877 H          1 UNL1 0.0\\n    59 H      -7.012517    -4.640373    -3.505143 H          1 UNL1 0.0\\n    60 H      -5.797703    -2.504147    -3.408205 H          1 UNL1 0.0\\n    61 C       0.028496    -1.346472     1.582159 C          1 UNL1 0.0\\n    62 C       1.133955    -2.359841     1.353013 C          1 UNL1 0.0\\n    63 C       1.927138    -2.413349     0.186855 C          1 UNL1 0.0\\n    64 C       2.900272    -3.407375     0.041020 C          1 UNL1 0.0\\n    65 C       3.097113    -4.353264     1.049278 C          1 UNL1 0.0\\n    66 C       2.322573    -4.307599     2.208746 C          1 UNL1 0.0\\n    67 C       1.347287    -3.319783     2.359148 C          1 UNL1 0.0\\n    68 H       0.148481    -0.842608     2.553134 H          1 UNL1 0.0\\n    69 H      -0.860592    -1.991409     1.674920 H          1 UNL1 0.0\\n    70 H       1.804411    -1.705222    -0.618365 H          1 UNL1 0.0\\n    71 H       3.500228    -3.447270    -0.858698 H          1 UNL1 0.0\\n    72 H       3.848234    -5.123287     0.931537 H          1 UNL1 0.0\\n    73 H       2.472924    -5.041018     2.990485 H          1 UNL1 0.0\\n    74 H       0.749459    -3.304533     3.262905 H          1 UNL1 0.0\\n@<TRIPOS>BOND\\n     1      1      2          1\\n     2      2      3          1\\n     3      3      4          1\\n     4      4      5          2\\n     5      5      1          1\\n     6      4      6          1\\n     7      6      7          1\\n     8      7      8          1\\n     9      8      9          1\\n    10      9     10          1\\n    11     10     11          1\\n    12     11      7          2\\n    13     11     12          1\\n    14     12      5          1\\n    15     12     13          1\\n    16     12     14          1\\n    17      6     15          1\\n    18      6     16          1\\n    19     17     18          1\\n    20     17     19          1\\n    21      9     17          1\\n    22     20     21          1\\n    23     20     22          1\\n    24      2     20          1\\n    25      1     23          1\\n    26      2     24          1\\n    27      9     25          1\\n    28     10     26          1\\n    29     15     27          1\\n    30     15     28          1\\n    31     15     29          1\\n    32     16     30          1\\n    33     16     31          1\\n    34     16     32          1\\n    35     17     33          1\\n    36     18     34          1\\n    37     18     35          1\\n    38     18     36          1\\n    39     19     37          1\\n    40     19     38          1\\n    41     19     39          1\\n    42     20     40          1\\n    43     21     41          1\\n    44     21     42          1\\n    45     21     43          1\\n    46     22     44          1\\n    47     22     45          1\\n    48     22     46          1\\n    49     47     48          1\\n    50     48     49          2\\n    51     49     50          1\\n    52     50     51          2\\n    53     51     52          1\\n    54     52     53          2\\n    55     53     48          1\\n    56     47     54          1\\n    57     47     55          1\\n    58     49     56          1\\n    59     50     57          1\\n    60     51     58          1\\n    61     52     59          1\\n    62     53     60          1\\n    63     10     47          1\\n    64     61     62          1\\n    65     62     63          2\\n    66     63     64          1\\n    67     64     65          2\\n    68     65     66          1\\n    69     66     67          2\\n    70     67     62          1\\n    71     61     68          1\\n    72     61     69          1\\n    73     63     70          1\\n    74     64     71          1\\n    75     65     72          1\\n    76     66     73          1\\n    77     67     74          1\\n    78      1     61          1\\n\",\"mol2\");\n\tviewer_16874041637850227.setStyle({\"stick\": {\"radius\": 0.1}, \"sphere\": {\"scale\": 0.15}});\n\tviewer_16874041637850227.setHoverable({},true,\"\\n            function(atom,viewer,event,container) {\\n                if(!atom.label) {\\n                    atom.label = viewer.addLabel(atom.elem + atom.serial, {position: atom, backgroundColor: 'mintcream', fontColor:'black'});\\n                }\\n            }\\n            \",\"\\n            function(atom,viewer) { \\n                if(atom.label) {\\n                    viewer.removeLabel(atom.label);\\n                    delete atom.label;\\n                }\\n            }\\n            \");\n\tviewer_16874041637850227.zoomTo();\n\tviewer_16874041637850227.setBackgroundColor(null);\nviewer_16874041637850227.render();\n});\n</script>",
      "text/html": [
       "<div id=\"3dmolviewer_16874041637850227\"  style=\"position: relative; width: 1000px; height: 500px\">\n",
       "        <p id=\"3dmolwarning_16874041637850227\" style=\"background-color:#ffcccc;color:black\">You appear to be running in JupyterLab (or JavaScript failed to load for some other reason).  You need to install the 3dmol extension: <br>\n",
       "        <tt>jupyter labextension install jupyterlab_3dmol</tt></p>\n",
       "        </div>\n",
       "<script>\n",
       "\n",
       "var loadScriptAsync = function(uri){\n",
       "  return new Promise((resolve, reject) => {\n",
       "    //this is to ignore the existence of requirejs amd\n",
       "    var savedexports, savedmodule;\n",
       "    if (typeof exports !== 'undefined') savedexports = exports;\n",
       "    else exports = {}\n",
       "    if (typeof module !== 'undefined') savedmodule = module;\n",
       "    else module = {}\n",
       "\n",
       "    var tag = document.createElement('script');\n",
       "    tag.src = uri;\n",
       "    tag.async = true;\n",
       "    tag.onload = () => {\n",
       "        exports = savedexports;\n",
       "        module = savedmodule;\n",
       "        resolve();\n",
       "    };\n",
       "  var firstScriptTag = document.getElementsByTagName('script')[0];\n",
       "  firstScriptTag.parentNode.insertBefore(tag, firstScriptTag);\n",
       "});\n",
       "};\n",
       "\n",
       "if(typeof $3Dmolpromise === 'undefined') {\n",
       "$3Dmolpromise = null;\n",
       "  $3Dmolpromise = loadScriptAsync('https://cdnjs.cloudflare.com/ajax/libs/3Dmol/2.0.1/3Dmol-min.js');\n",
       "}\n",
       "\n",
       "var viewer_16874041637850227 = null;\n",
       "var warn = document.getElementById(\"3dmolwarning_16874041637850227\");\n",
       "if(warn) {\n",
       "    warn.parentNode.removeChild(warn);\n",
       "}\n",
       "$3Dmolpromise.then(function() {\n",
       "viewer_16874041637850227 = $3Dmol.createViewer(document.getElementById(\"3dmolviewer_16874041637850227\"),{backgroundColor:\"white\"});\n",
       "viewer_16874041637850227.zoomTo();\n",
       "\tviewer_16874041637850227.addModel(\"# Produced with molli package\\n@<TRIPOS>MOLECULE\\n3_6_6\\n74 78 0 0 0\\nSMALL\\nUSER_CHARGES\\n\\n@<TRIPOS>ATOM\\n     1 C      -0.234801    -0.313744     0.453588 C          1 UNL1 0.0\\n     2 C       0.719470     0.931378     0.306848 C          1 UNL1 0.0\\n     3 O      -0.170031     1.973899     0.154504 O          1 UNL1 0.0\\n     4 C      -1.439508     1.561086     0.309690 C          1 UNL1 0.0\\n     5 N      -1.554227     0.302207     0.501202 N          1 UNL1 0.0\\n     6 C      -2.608722     2.509642     0.214996 C          1 UNL1 0.0\\n     7 C      -3.890875     1.730014     0.074376 C          1 UNL1 0.0\\n     8 O      -5.073103     2.341261    -0.107872 O          1 UNL1 0.0\\n     9 C      -6.096816     1.423970    -0.065954 C          1 UNL1 0.0\\n    10 C      -5.355071     0.037157    -0.055883 C          1 UNL1 0.0\\n    11 N      -3.971626     0.453736     0.157446 N          1 UNL1 0.0\\n    12 C      -2.844409    -0.407726     0.580324 C          1 UNL1 0.0\\n    13 Br     -3.197040    -0.876826     2.439395 Br         1 UNL1 0.0\\n    14 Br     -2.717700    -2.112867    -0.388296 Br         1 UNL1 0.0\\n    15 C      -2.661310     3.384969     1.477295 C          1 UNL1 0.0\\n    16 C      -2.445108     3.392874    -1.033459 C          1 UNL1 0.0\\n    17 C      -7.241492     1.858271    -1.041067 C          1 UNL1 0.0\\n    18 C      -6.782266     2.325026    -2.443234 C          1 UNL1 0.0\\n    19 C      -8.392753     0.848052    -1.116014 C          1 UNL1 0.0\\n    20 C       1.760782     1.394912     1.377754 C          1 UNL1 0.0\\n    21 C       2.908176     0.409368     1.614081 C          1 UNL1 0.0\\n    22 C       1.154919     1.875437     2.707976 C          1 UNL1 0.0\\n    23 H      -0.239980    -0.869338    -0.508256 H          1 UNL1 0.0\\n    24 H       1.284350     0.799457    -0.643131 H          1 UNL1 0.0\\n    25 H      -6.543267     1.508159     0.952174 H          1 UNL1 0.0\\n    26 H      -5.649182    -0.532785     0.839810 H          1 UNL1 0.0\\n    27 H      -1.724759     3.972103     1.591202 H          1 UNL1 0.0\\n    28 H      -2.785174     2.747791     2.381073 H          1 UNL1 0.0\\n    29 H      -3.516891     4.093184     1.433003 H          1 UNL1 0.0\\n    30 H      -1.511464     3.992993    -0.968795 H          1 UNL1 0.0\\n    31 H      -3.296761     4.102427    -1.124951 H          1 UNL1 0.0\\n    32 H      -2.403891     2.770864    -1.953307 H          1 UNL1 0.0\\n    33 H      -7.663989     2.783022    -0.586043 H          1 UNL1 0.0\\n    34 H      -6.023803     3.130577    -2.346294 H          1 UNL1 0.0\\n    35 H      -7.649045     2.755127    -2.988631 H          1 UNL1 0.0\\n    36 H      -6.362137     1.549422    -3.100452 H          1 UNL1 0.0\\n    37 H      -8.091695    -0.091453    -1.612304 H          1 UNL1 0.0\\n    38 H      -9.232747     1.278136    -1.702333 H          1 UNL1 0.0\\n    39 H      -8.764221     0.614028    -0.096515 H          1 UNL1 0.0\\n    40 H       2.239240     2.294911     0.926790 H          1 UNL1 0.0\\n    41 H       3.700339     0.896154     2.221684 H          1 UNL1 0.0\\n    42 H       3.361928     0.105622     0.646330 H          1 UNL1 0.0\\n    43 H       2.579393    -0.476967     2.177773 H          1 UNL1 0.0\\n    44 H       0.410682     2.678823     2.528893 H          1 UNL1 0.0\\n    45 H       1.957252     2.303412     3.346879 H          1 UNL1 0.0\\n    46 H       0.669193     1.068843     3.279686 H          1 UNL1 0.0\\n    47 C      -5.492483    -0.797167    -1.372472 C          1 UNL1 0.0\\n    48 C      -6.287130    -2.097223    -1.337064 C          1 UNL1 0.0\\n    49 C      -6.979833    -2.594943    -0.208639 C          1 UNL1 0.0\\n    50 C      -7.665510    -3.812407    -0.278119 C          1 UNL1 0.0\\n    51 C      -7.676481    -4.549202    -1.462460 C          1 UNL1 0.0\\n    52 C      -7.004144    -4.069515    -2.585530 C          1 UNL1 0.0\\n    53 C      -6.316958    -2.854749    -2.524225 C          1 UNL1 0.0\\n    54 H      -5.880027    -0.189435    -2.182398 H          1 UNL1 0.0\\n    55 H      -4.501552    -1.023527    -1.781385 H          1 UNL1 0.0\\n    56 H      -7.015859    -2.075821     0.732798 H          1 UNL1 0.0\\n    57 H      -8.190158    -4.186475     0.591765 H          1 UNL1 0.0\\n    58 H      -8.206902    -5.491510    -1.509877 H          1 UNL1 0.0\\n    59 H      -7.012517    -4.640373    -3.505143 H          1 UNL1 0.0\\n    60 H      -5.797703    -2.504147    -3.408205 H          1 UNL1 0.0\\n    61 C       0.028496    -1.346472     1.582159 C          1 UNL1 0.0\\n    62 C       1.133955    -2.359841     1.353013 C          1 UNL1 0.0\\n    63 C       1.927138    -2.413349     0.186855 C          1 UNL1 0.0\\n    64 C       2.900272    -3.407375     0.041020 C          1 UNL1 0.0\\n    65 C       3.097113    -4.353264     1.049278 C          1 UNL1 0.0\\n    66 C       2.322573    -4.307599     2.208746 C          1 UNL1 0.0\\n    67 C       1.347287    -3.319783     2.359148 C          1 UNL1 0.0\\n    68 H       0.148481    -0.842608     2.553134 H          1 UNL1 0.0\\n    69 H      -0.860592    -1.991409     1.674920 H          1 UNL1 0.0\\n    70 H       1.804411    -1.705222    -0.618365 H          1 UNL1 0.0\\n    71 H       3.500228    -3.447270    -0.858698 H          1 UNL1 0.0\\n    72 H       3.848234    -5.123287     0.931537 H          1 UNL1 0.0\\n    73 H       2.472924    -5.041018     2.990485 H          1 UNL1 0.0\\n    74 H       0.749459    -3.304533     3.262905 H          1 UNL1 0.0\\n@<TRIPOS>BOND\\n     1      1      2          1\\n     2      2      3          1\\n     3      3      4          1\\n     4      4      5          2\\n     5      5      1          1\\n     6      4      6          1\\n     7      6      7          1\\n     8      7      8          1\\n     9      8      9          1\\n    10      9     10          1\\n    11     10     11          1\\n    12     11      7          2\\n    13     11     12          1\\n    14     12      5          1\\n    15     12     13          1\\n    16     12     14          1\\n    17      6     15          1\\n    18      6     16          1\\n    19     17     18          1\\n    20     17     19          1\\n    21      9     17          1\\n    22     20     21          1\\n    23     20     22          1\\n    24      2     20          1\\n    25      1     23          1\\n    26      2     24          1\\n    27      9     25          1\\n    28     10     26          1\\n    29     15     27          1\\n    30     15     28          1\\n    31     15     29          1\\n    32     16     30          1\\n    33     16     31          1\\n    34     16     32          1\\n    35     17     33          1\\n    36     18     34          1\\n    37     18     35          1\\n    38     18     36          1\\n    39     19     37          1\\n    40     19     38          1\\n    41     19     39          1\\n    42     20     40          1\\n    43     21     41          1\\n    44     21     42          1\\n    45     21     43          1\\n    46     22     44          1\\n    47     22     45          1\\n    48     22     46          1\\n    49     47     48          1\\n    50     48     49          2\\n    51     49     50          1\\n    52     50     51          2\\n    53     51     52          1\\n    54     52     53          2\\n    55     53     48          1\\n    56     47     54          1\\n    57     47     55          1\\n    58     49     56          1\\n    59     50     57          1\\n    60     51     58          1\\n    61     52     59          1\\n    62     53     60          1\\n    63     10     47          1\\n    64     61     62          1\\n    65     62     63          2\\n    66     63     64          1\\n    67     64     65          2\\n    68     65     66          1\\n    69     66     67          2\\n    70     67     62          1\\n    71     61     68          1\\n    72     61     69          1\\n    73     63     70          1\\n    74     64     71          1\\n    75     65     72          1\\n    76     66     73          1\\n    77     67     74          1\\n    78      1     61          1\\n\",\"mol2\");\n",
       "\tviewer_16874041637850227.setStyle({\"stick\": {\"radius\": 0.1}, \"sphere\": {\"scale\": 0.15}});\n",
       "\tviewer_16874041637850227.setHoverable({},true,\"\\n            function(atom,viewer,event,container) {\\n                if(!atom.label) {\\n                    atom.label = viewer.addLabel(atom.elem + atom.serial, {position: atom, backgroundColor: 'mintcream', fontColor:'black'});\\n                }\\n            }\\n            \",\"\\n            function(atom,viewer) { \\n                if(atom.label) {\\n                    viewer.removeLabel(atom.label);\\n                    delete atom.label;\\n                }\\n            }\\n            \");\n",
       "\tviewer_16874041637850227.zoomTo();\n",
       "\tviewer_16874041637850227.setBackgroundColor(null);\n",
       "viewer_16874041637850227.render();\n",
       "});\n",
       "</script>"
      ]
     },
     "metadata": {},
     "output_type": "display_data"
    },
    {
     "data": {
      "text/plain": [
       "Molecule(name='3_6_6', formula='C30 H38 Br2 N2 O2')"
      ]
     },
     "execution_count": 9,
     "metadata": {},
     "output_type": "execute_result"
    }
   ],
   "source": [
    "combined[\"3_6_6\"]"
   ]
  },
  {
   "attachments": {},
   "cell_type": "markdown",
   "metadata": {},
   "source": [
    "# 3. Conformer Generation"
   ]
  },
  {
   "cell_type": "code",
   "execution_count": 10,
   "metadata": {},
   "outputs": [
    {
     "name": "stderr",
     "output_type": "stream",
     "text": [
      "100%|██████████| 75/75 [02:12<00:00,  1.76s/it]\n"
     ]
    },
    {
     "data": {
      "text/plain": [
       "CompletedProcess(args=['molli', 'conformers', './ncsa-testing-output/test_combine_new_env.mlib', '-n', '50', '-o', './ncsa-testing-output/test_conformers_new_env.mlib', '-t', '-j', '96', '--overwrite'], returncode=0)"
      ]
     },
     "execution_count": 10,
     "metadata": {},
     "output_type": "execute_result"
    }
   ],
   "source": [
    "subprocess.run(['molli', \n",
    "                'conformers', \n",
    "                f'{out_dir}test_combine_new_env.mlib', \n",
    "                '-n', \n",
    "                '50', \n",
    "                '-o', \n",
    "                f'{out_dir}test_conformers_new_env.mlib', \n",
    "                '-t', \n",
    "                '-j', ### !!!!!! Number of jobs. Please scale down if host system has fewer cores. defaults to os.cpu_count()//2  !!!!! ###\n",
    "                '96',\n",
    "                \"--overwrite\"\n",
    "                ])"
   ]
  },
  {
   "cell_type": "code",
   "execution_count": 11,
   "metadata": {},
   "outputs": [
    {
     "name": "stdout",
     "output_type": "stream",
     "text": [
      "75\n"
     ]
    }
   ],
   "source": [
    "clib = ml.ConformerLibrary(f'{out_dir}test_conformers_new_env.mlib')\n",
    "print(len(clib))"
   ]
  },
  {
   "cell_type": "code",
   "execution_count": 12,
   "metadata": {},
   "outputs": [
    {
     "name": "stdout",
     "output_type": "stream",
     "text": [
      "8028 conformers in library\n"
     ]
    }
   ],
   "source": [
    "i = 0\n",
    "for conf in clib:\n",
    "    i += conf.n_conformers\n",
    "    # print(conf)\n",
    "print(str(i) + ' conformers in library')\n",
    "\n",
    "# many of these conformers ar redundant - redundant confs thrown out during aso calculation"
   ]
  },
  {
   "cell_type": "code",
   "execution_count": 13,
   "metadata": {},
   "outputs": [
    {
     "name": "stdout",
     "output_type": "stream",
     "text": [
      "ConformerEnsemble(name='1_3_3', formula='C16 H26 Br2 N2 O2', n_conformers=150)\n"
     ]
    },
    {
     "data": {
      "application/3dmoljs_load.v0": "<div id=\"3dmolviewer_168740429712994\"  style=\"position: relative; width: 1000px; height: 500px\">\n        <p id=\"3dmolwarning_168740429712994\" style=\"background-color:#ffcccc;color:black\">You appear to be running in JupyterLab (or JavaScript failed to load for some other reason).  You need to install the 3dmol extension: <br>\n        <tt>jupyter labextension install jupyterlab_3dmol</tt></p>\n        </div>\n<script>\n\nvar loadScriptAsync = function(uri){\n  return new Promise((resolve, reject) => {\n    //this is to ignore the existence of requirejs amd\n    var savedexports, savedmodule;\n    if (typeof exports !== 'undefined') savedexports = exports;\n    else exports = {}\n    if (typeof module !== 'undefined') savedmodule = module;\n    else module = {}\n\n    var tag = document.createElement('script');\n    tag.src = uri;\n    tag.async = true;\n    tag.onload = () => {\n        exports = savedexports;\n        module = savedmodule;\n        resolve();\n    };\n  var firstScriptTag = document.getElementsByTagName('script')[0];\n  firstScriptTag.parentNode.insertBefore(tag, firstScriptTag);\n});\n};\n\nif(typeof $3Dmolpromise === 'undefined') {\n$3Dmolpromise = null;\n  $3Dmolpromise = loadScriptAsync('https://cdnjs.cloudflare.com/ajax/libs/3Dmol/2.0.1/3Dmol-min.js');\n}\n\nvar viewer_168740429712994 = null;\nvar warn = document.getElementById(\"3dmolwarning_168740429712994\");\nif(warn) {\n    warn.parentNode.removeChild(warn);\n}\n$3Dmolpromise.then(function() {\nviewer_168740429712994 = $3Dmol.createViewer(document.getElementById(\"3dmolviewer_168740429712994\"),{backgroundColor:\"white\"});\nviewer_168740429712994.zoomTo();\n\tviewer_168740429712994.addModel(\"# Produced with molli package\\n@<TRIPOS>MOLECULE\\n1_3_3\\n48 50 0 0 0\\nSMALL\\nUSER_CHARGES\\n\\n@<TRIPOS>ATOM\\n     1 C       0.006900    -0.070800     0.538900 C.3        1 UNL1 0.0\\n     2 C       0.806400     1.136100     0.031700 C.3        1 UNL1 0.0\\n     3 O      -0.052300     2.244700     0.370400 O.2        1 UNL1 0.0\\n     4 C      -1.300000     1.779800     0.363500 C.2        1 UNL1 0.0\\n     5 N      -1.358800     0.504900     0.340700 N.2        1 UNL1 0.0\\n     6 C      -2.507600     2.653800     0.337600 C.3        1 UNL1 0.0\\n     7 C      -3.764400     1.842700     0.313400 C.2        1 UNL1 0.0\\n     8 O      -4.940700     2.346000     0.677400 O.2        1 UNL1 0.0\\n     9 C      -5.846800     1.252800     0.869300 C.3        1 UNL1 0.0\\n    10 C      -5.217200     0.095800     0.084600 C.3        1 UNL1 0.0\\n    11 N      -3.812600     0.609600    -0.019800 N.2        1 UNL1 0.0\\n    12 C      -2.553500    -0.171000    -0.278700 C.3        1 UNL1 0.0\\n    13 BR     -2.174200    -0.143800    -2.233100 Br         1 UNL1 0.0\\n    14 BR     -2.725700    -2.028100     0.289400 Br         1 UNL1 0.0\\n    15 C      -2.486900     3.508300     1.614800 C.3        1 UNL1 0.0\\n    16 C      -2.474300     3.559300    -0.897100 C.3        1 UNL1 0.0\\n    17 H       0.151600    -0.961800    -0.078900 H          1 UNL1 0.0\\n    18 H       1.782600     1.275200     0.501100 H          1 UNL1 0.0\\n    19 H       0.937200     1.123300    -1.057200 H          1 UNL1 0.0\\n    20 H      -5.894300     1.035700     1.943000 H          1 UNL1 0.0\\n    21 H      -6.847900     1.534800     0.529900 H          1 UNL1 0.0\\n    22 H      -5.244900    -0.805500     0.704100 H          1 UNL1 0.0\\n    23 H      -1.567000     4.099900     1.688500 H          1 UNL1 0.0\\n    24 H      -3.331800     4.205500     1.648200 H          1 UNL1 0.0\\n    25 H      -2.544400     2.879000     2.511400 H          1 UNL1 0.0\\n    26 H      -1.579300     4.191800    -0.906400 H          1 UNL1 0.0\\n    27 H      -2.469900     2.977100    -1.824700 H          1 UNL1 0.0\\n    28 H      -3.351000     4.216400    -0.932000 H          1 UNL1 0.0\\n    29 C      -5.956000    -0.126800    -1.254700 C.3        1 UNL1 0.0\\n    30 C      -5.850300     1.012100    -2.273300 C.3        1 UNL1 0.0\\n    31 C      -5.650600    -1.477700    -1.903200 C.3        1 UNL1 0.0\\n    32 H      -7.023400    -0.191000    -0.994500 H          1 UNL1 0.0\\n    33 H      -4.832600     1.145800    -2.644700 H          1 UNL1 0.0\\n    34 H      -6.489300     0.808100    -3.139800 H          1 UNL1 0.0\\n    35 H      -6.182700     1.962700    -1.845100 H          1 UNL1 0.0\\n    36 H      -4.646900    -1.529300    -2.321000 H          1 UNL1 0.0\\n    37 H      -5.766100    -2.292500    -1.180800 H          1 UNL1 0.0\\n    38 H      -6.350400    -1.671000    -2.724300 H          1 UNL1 0.0\\n    39 C       0.331700    -0.305200     2.044800 C.3        1 UNL1 0.0\\n    40 C       1.708000    -0.977500     2.184700 C.3        1 UNL1 0.0\\n    41 C      -0.678700    -1.140000     2.831300 C.3        1 UNL1 0.0\\n    42 H       0.389300     0.666800     2.555200 H          1 UNL1 0.0\\n    43 H       1.964000    -1.122800     3.240100 H          1 UNL1 0.0\\n    44 H       2.505300    -0.375800     1.740100 H          1 UNL1 0.0\\n    45 H       1.715900    -1.959200     1.698500 H          1 UNL1 0.0\\n    46 H      -0.377600    -1.207900     3.883400 H          1 UNL1 0.0\\n    47 H      -0.736400    -2.163300     2.450000 H          1 UNL1 0.0\\n    48 H      -1.673300    -0.685600     2.822000 H          1 UNL1 0.0\\n@<TRIPOS>BOND\\n     1      1      2          1\\n     2      2      3          1\\n     3      3      4          1\\n     4      4      5          2\\n     5      5      1          1\\n     6      4      6          1\\n     7      6      7          1\\n     8      7      8          1\\n     9      8      9          1\\n    10      9     10          1\\n    11     10     11          1\\n    12     11      7          2\\n    13     11     12          1\\n    14     12      5          1\\n    15     12     13          1\\n    16     12     14          1\\n    17      6     15          1\\n    18      6     16          1\\n    19      1     17          1\\n    20      2     18          1\\n    21      2     19          1\\n    22      9     20          1\\n    23      9     21          1\\n    24     10     22          1\\n    25     15     23          1\\n    26     15     24          1\\n    27     15     25          1\\n    28     16     26          1\\n    29     16     27          1\\n    30     16     28          1\\n    31     29     30          1\\n    32     29     31          1\\n    33     29     32          1\\n    34     30     33          1\\n    35     30     34          1\\n    36     30     35          1\\n    37     31     36          1\\n    38     31     37          1\\n    39     31     38          1\\n    40     10     29          1\\n    41     39     40          1\\n    42     39     41          1\\n    43     39     42          1\\n    44     40     43          1\\n    45     40     44          1\\n    46     40     45          1\\n    47     41     46          1\\n    48     41     47          1\\n    49     41     48          1\\n    50      1     39          1\\n\",\"mol2\");\n\tviewer_168740429712994.setStyle({\"stick\": {\"radius\": 0.1}, \"sphere\": {\"scale\": 0.15}});\n\tviewer_168740429712994.setHoverable({},true,\"\\n            function(atom,viewer,event,container) {\\n                if(!atom.label) {\\n                    atom.label = viewer.addLabel(atom.elem + atom.serial, {position: atom, backgroundColor: 'mintcream', fontColor:'black'});\\n                }\\n            }\\n            \",\"\\n            function(atom,viewer) { \\n                if(atom.label) {\\n                    viewer.removeLabel(atom.label);\\n                    delete atom.label;\\n                }\\n            }\\n            \");\n\tviewer_168740429712994.zoomTo();\n\tviewer_168740429712994.setBackgroundColor(null);\nviewer_168740429712994.render();\n});\n</script>",
      "text/html": [
       "<div id=\"3dmolviewer_168740429712994\"  style=\"position: relative; width: 1000px; height: 500px\">\n",
       "        <p id=\"3dmolwarning_168740429712994\" style=\"background-color:#ffcccc;color:black\">You appear to be running in JupyterLab (or JavaScript failed to load for some other reason).  You need to install the 3dmol extension: <br>\n",
       "        <tt>jupyter labextension install jupyterlab_3dmol</tt></p>\n",
       "        </div>\n",
       "<script>\n",
       "\n",
       "var loadScriptAsync = function(uri){\n",
       "  return new Promise((resolve, reject) => {\n",
       "    //this is to ignore the existence of requirejs amd\n",
       "    var savedexports, savedmodule;\n",
       "    if (typeof exports !== 'undefined') savedexports = exports;\n",
       "    else exports = {}\n",
       "    if (typeof module !== 'undefined') savedmodule = module;\n",
       "    else module = {}\n",
       "\n",
       "    var tag = document.createElement('script');\n",
       "    tag.src = uri;\n",
       "    tag.async = true;\n",
       "    tag.onload = () => {\n",
       "        exports = savedexports;\n",
       "        module = savedmodule;\n",
       "        resolve();\n",
       "    };\n",
       "  var firstScriptTag = document.getElementsByTagName('script')[0];\n",
       "  firstScriptTag.parentNode.insertBefore(tag, firstScriptTag);\n",
       "});\n",
       "};\n",
       "\n",
       "if(typeof $3Dmolpromise === 'undefined') {\n",
       "$3Dmolpromise = null;\n",
       "  $3Dmolpromise = loadScriptAsync('https://cdnjs.cloudflare.com/ajax/libs/3Dmol/2.0.1/3Dmol-min.js');\n",
       "}\n",
       "\n",
       "var viewer_168740429712994 = null;\n",
       "var warn = document.getElementById(\"3dmolwarning_168740429712994\");\n",
       "if(warn) {\n",
       "    warn.parentNode.removeChild(warn);\n",
       "}\n",
       "$3Dmolpromise.then(function() {\n",
       "viewer_168740429712994 = $3Dmol.createViewer(document.getElementById(\"3dmolviewer_168740429712994\"),{backgroundColor:\"white\"});\n",
       "viewer_168740429712994.zoomTo();\n",
       "\tviewer_168740429712994.addModel(\"# Produced with molli package\\n@<TRIPOS>MOLECULE\\n1_3_3\\n48 50 0 0 0\\nSMALL\\nUSER_CHARGES\\n\\n@<TRIPOS>ATOM\\n     1 C       0.006900    -0.070800     0.538900 C.3        1 UNL1 0.0\\n     2 C       0.806400     1.136100     0.031700 C.3        1 UNL1 0.0\\n     3 O      -0.052300     2.244700     0.370400 O.2        1 UNL1 0.0\\n     4 C      -1.300000     1.779800     0.363500 C.2        1 UNL1 0.0\\n     5 N      -1.358800     0.504900     0.340700 N.2        1 UNL1 0.0\\n     6 C      -2.507600     2.653800     0.337600 C.3        1 UNL1 0.0\\n     7 C      -3.764400     1.842700     0.313400 C.2        1 UNL1 0.0\\n     8 O      -4.940700     2.346000     0.677400 O.2        1 UNL1 0.0\\n     9 C      -5.846800     1.252800     0.869300 C.3        1 UNL1 0.0\\n    10 C      -5.217200     0.095800     0.084600 C.3        1 UNL1 0.0\\n    11 N      -3.812600     0.609600    -0.019800 N.2        1 UNL1 0.0\\n    12 C      -2.553500    -0.171000    -0.278700 C.3        1 UNL1 0.0\\n    13 BR     -2.174200    -0.143800    -2.233100 Br         1 UNL1 0.0\\n    14 BR     -2.725700    -2.028100     0.289400 Br         1 UNL1 0.0\\n    15 C      -2.486900     3.508300     1.614800 C.3        1 UNL1 0.0\\n    16 C      -2.474300     3.559300    -0.897100 C.3        1 UNL1 0.0\\n    17 H       0.151600    -0.961800    -0.078900 H          1 UNL1 0.0\\n    18 H       1.782600     1.275200     0.501100 H          1 UNL1 0.0\\n    19 H       0.937200     1.123300    -1.057200 H          1 UNL1 0.0\\n    20 H      -5.894300     1.035700     1.943000 H          1 UNL1 0.0\\n    21 H      -6.847900     1.534800     0.529900 H          1 UNL1 0.0\\n    22 H      -5.244900    -0.805500     0.704100 H          1 UNL1 0.0\\n    23 H      -1.567000     4.099900     1.688500 H          1 UNL1 0.0\\n    24 H      -3.331800     4.205500     1.648200 H          1 UNL1 0.0\\n    25 H      -2.544400     2.879000     2.511400 H          1 UNL1 0.0\\n    26 H      -1.579300     4.191800    -0.906400 H          1 UNL1 0.0\\n    27 H      -2.469900     2.977100    -1.824700 H          1 UNL1 0.0\\n    28 H      -3.351000     4.216400    -0.932000 H          1 UNL1 0.0\\n    29 C      -5.956000    -0.126800    -1.254700 C.3        1 UNL1 0.0\\n    30 C      -5.850300     1.012100    -2.273300 C.3        1 UNL1 0.0\\n    31 C      -5.650600    -1.477700    -1.903200 C.3        1 UNL1 0.0\\n    32 H      -7.023400    -0.191000    -0.994500 H          1 UNL1 0.0\\n    33 H      -4.832600     1.145800    -2.644700 H          1 UNL1 0.0\\n    34 H      -6.489300     0.808100    -3.139800 H          1 UNL1 0.0\\n    35 H      -6.182700     1.962700    -1.845100 H          1 UNL1 0.0\\n    36 H      -4.646900    -1.529300    -2.321000 H          1 UNL1 0.0\\n    37 H      -5.766100    -2.292500    -1.180800 H          1 UNL1 0.0\\n    38 H      -6.350400    -1.671000    -2.724300 H          1 UNL1 0.0\\n    39 C       0.331700    -0.305200     2.044800 C.3        1 UNL1 0.0\\n    40 C       1.708000    -0.977500     2.184700 C.3        1 UNL1 0.0\\n    41 C      -0.678700    -1.140000     2.831300 C.3        1 UNL1 0.0\\n    42 H       0.389300     0.666800     2.555200 H          1 UNL1 0.0\\n    43 H       1.964000    -1.122800     3.240100 H          1 UNL1 0.0\\n    44 H       2.505300    -0.375800     1.740100 H          1 UNL1 0.0\\n    45 H       1.715900    -1.959200     1.698500 H          1 UNL1 0.0\\n    46 H      -0.377600    -1.207900     3.883400 H          1 UNL1 0.0\\n    47 H      -0.736400    -2.163300     2.450000 H          1 UNL1 0.0\\n    48 H      -1.673300    -0.685600     2.822000 H          1 UNL1 0.0\\n@<TRIPOS>BOND\\n     1      1      2          1\\n     2      2      3          1\\n     3      3      4          1\\n     4      4      5          2\\n     5      5      1          1\\n     6      4      6          1\\n     7      6      7          1\\n     8      7      8          1\\n     9      8      9          1\\n    10      9     10          1\\n    11     10     11          1\\n    12     11      7          2\\n    13     11     12          1\\n    14     12      5          1\\n    15     12     13          1\\n    16     12     14          1\\n    17      6     15          1\\n    18      6     16          1\\n    19      1     17          1\\n    20      2     18          1\\n    21      2     19          1\\n    22      9     20          1\\n    23      9     21          1\\n    24     10     22          1\\n    25     15     23          1\\n    26     15     24          1\\n    27     15     25          1\\n    28     16     26          1\\n    29     16     27          1\\n    30     16     28          1\\n    31     29     30          1\\n    32     29     31          1\\n    33     29     32          1\\n    34     30     33          1\\n    35     30     34          1\\n    36     30     35          1\\n    37     31     36          1\\n    38     31     37          1\\n    39     31     38          1\\n    40     10     29          1\\n    41     39     40          1\\n    42     39     41          1\\n    43     39     42          1\\n    44     40     43          1\\n    45     40     44          1\\n    46     40     45          1\\n    47     41     46          1\\n    48     41     47          1\\n    49     41     48          1\\n    50      1     39          1\\n\",\"mol2\");\n",
       "\tviewer_168740429712994.setStyle({\"stick\": {\"radius\": 0.1}, \"sphere\": {\"scale\": 0.15}});\n",
       "\tviewer_168740429712994.setHoverable({},true,\"\\n            function(atom,viewer,event,container) {\\n                if(!atom.label) {\\n                    atom.label = viewer.addLabel(atom.elem + atom.serial, {position: atom, backgroundColor: 'mintcream', fontColor:'black'});\\n                }\\n            }\\n            \",\"\\n            function(atom,viewer) { \\n                if(atom.label) {\\n                    viewer.removeLabel(atom.label);\\n                    delete atom.label;\\n                }\\n            }\\n            \");\n",
       "\tviewer_168740429712994.zoomTo();\n",
       "\tviewer_168740429712994.setBackgroundColor(null);\n",
       "viewer_168740429712994.render();\n",
       "});\n",
       "</script>"
      ]
     },
     "metadata": {},
     "output_type": "display_data"
    },
    {
     "data": {
      "text/plain": [
       "Conformer(name='1_3_3', formula='C16 H26 Br2 N2 O2')"
      ]
     },
     "execution_count": 13,
     "metadata": {},
     "output_type": "execute_result"
    }
   ],
   "source": [
    "print(clib[0])\n",
    "\n",
    "clib['1_3_3'][0]"
   ]
  },
  {
   "cell_type": "code",
   "execution_count": 14,
   "metadata": {},
   "outputs": [
    {
     "data": {
      "application/3dmoljs_load.v0": "<div id=\"3dmolviewer_16874042971415532\"  style=\"position: relative; width: 1000px; height: 500px\">\n        <p id=\"3dmolwarning_16874042971415532\" style=\"background-color:#ffcccc;color:black\">You appear to be running in JupyterLab (or JavaScript failed to load for some other reason).  You need to install the 3dmol extension: <br>\n        <tt>jupyter labextension install jupyterlab_3dmol</tt></p>\n        </div>\n<script>\n\nvar loadScriptAsync = function(uri){\n  return new Promise((resolve, reject) => {\n    //this is to ignore the existence of requirejs amd\n    var savedexports, savedmodule;\n    if (typeof exports !== 'undefined') savedexports = exports;\n    else exports = {}\n    if (typeof module !== 'undefined') savedmodule = module;\n    else module = {}\n\n    var tag = document.createElement('script');\n    tag.src = uri;\n    tag.async = true;\n    tag.onload = () => {\n        exports = savedexports;\n        module = savedmodule;\n        resolve();\n    };\n  var firstScriptTag = document.getElementsByTagName('script')[0];\n  firstScriptTag.parentNode.insertBefore(tag, firstScriptTag);\n});\n};\n\nif(typeof $3Dmolpromise === 'undefined') {\n$3Dmolpromise = null;\n  $3Dmolpromise = loadScriptAsync('https://cdnjs.cloudflare.com/ajax/libs/3Dmol/2.0.1/3Dmol-min.js');\n}\n\nvar viewer_16874042971415532 = null;\nvar warn = document.getElementById(\"3dmolwarning_16874042971415532\");\nif(warn) {\n    warn.parentNode.removeChild(warn);\n}\n$3Dmolpromise.then(function() {\nviewer_16874042971415532 = $3Dmol.createViewer(document.getElementById(\"3dmolviewer_16874042971415532\"),{backgroundColor:\"white\"});\nviewer_16874042971415532.zoomTo();\n\tviewer_16874042971415532.addModel(\"# Produced with molli package\\n@<TRIPOS>MOLECULE\\n1_3_3\\n48 50 0 0 0\\nSMALL\\nUSER_CHARGES\\n\\n@<TRIPOS>ATOM\\n     1 C       0.023400    -0.074200     0.472700 C.3        1 UNL1 0.0\\n     2 C       0.844200     1.184600     0.196000 C.3        1 UNL1 0.0\\n     3 O      -0.066300     2.256100     0.498700 O.2        1 UNL1 0.0\\n     4 C      -1.303900     1.775800     0.391900 C.2        1 UNL1 0.0\\n     5 N      -1.348000     0.502600     0.312000 N.2        1 UNL1 0.0\\n     6 C      -2.510200     2.651000     0.337500 C.3        1 UNL1 0.0\\n     7 C      -3.770900     1.853400     0.284400 C.2        1 UNL1 0.0\\n     8 O      -4.966200     2.387000     0.520700 O.2        1 UNL1 0.0\\n     9 C      -5.926200     1.325500     0.630500 C.3        1 UNL1 0.0\\n    10 C      -5.224000     0.110900     0.024400 C.3        1 UNL1 0.0\\n    11 N      -3.810600     0.608000     0.009600 N.2        1 UNL1 0.0\\n    12 C      -2.565500    -0.202500    -0.209400 C.3        1 UNL1 0.0\\n    13 BR     -2.763700    -1.976000     0.585400 Br         1 UNL1 0.0\\n    14 BR     -2.260900    -0.382500    -2.159700 Br         1 UNL1 0.0\\n    15 C      -2.436400     3.535900    -0.911800 C.3        1 UNL1 0.0\\n    16 C      -2.525100     3.521200     1.602800 C.3        1 UNL1 0.0\\n    17 H       0.192000    -0.833200    -0.298500 H          1 UNL1 0.0\\n    18 H       1.749600     1.282400     0.799700 H          1 UNL1 0.0\\n    19 H       1.121900     1.266400    -0.861700 H          1 UNL1 0.0\\n    20 H      -6.855600     1.613000     0.133100 H          1 UNL1 0.0\\n    21 H      -6.141400     1.175700     1.694900 H          1 UNL1 0.0\\n    22 H      -5.297000    -0.728500     0.722900 H          1 UNL1 0.0\\n    23 H      -2.405500     2.933500    -1.827000 H          1 UNL1 0.0\\n    24 H      -3.308600     4.195600    -0.986100 H          1 UNL1 0.0\\n    25 H      -1.538800     4.164700    -0.905500 H          1 UNL1 0.0\\n    26 H      -3.373900     4.214500     1.606300 H          1 UNL1 0.0\\n    27 H      -2.602800     2.902600     2.505200 H          1 UNL1 0.0\\n    28 H      -1.610500     4.118500     1.692800 H          1 UNL1 0.0\\n    29 C      -5.730200    -0.303200    -1.372000 C.3        1 UNL1 0.0\\n    30 C      -7.105600    -0.974900    -1.255600 C.3        1 UNL1 0.0\\n    31 C      -5.813200     0.837500    -2.394800 C.3        1 UNL1 0.0\\n    32 H      -5.057900    -1.066900    -1.778000 H          1 UNL1 0.0\\n    33 H      -7.867900    -0.280800    -0.887900 H          1 UNL1 0.0\\n    34 H      -7.436100    -1.349300    -2.230600 H          1 UNL1 0.0\\n    35 H      -7.064100    -1.828400    -0.570400 H          1 UNL1 0.0\\n    36 H      -6.575700     1.574900    -2.125600 H          1 UNL1 0.0\\n    37 H      -4.860500     1.362800    -2.501900 H          1 UNL1 0.0\\n    38 H      -6.079200     0.441400    -3.381400 H          1 UNL1 0.0\\n    39 C       0.243500    -0.662800     1.890900 C.3        1 UNL1 0.0\\n    40 C       0.106900     0.334100     3.049200 C.3        1 UNL1 0.0\\n    41 C       1.614400    -1.349000     1.968500 C.3        1 UNL1 0.0\\n    42 H      -0.493300    -1.448700     2.075300 H          1 UNL1 0.0\\n    43 H       0.845200     1.139400     2.988900 H          1 UNL1 0.0\\n    44 H      -0.891800     0.780400     3.077200 H          1 UNL1 0.0\\n    45 H       0.256900    -0.174600     4.008200 H          1 UNL1 0.0\\n    46 H       1.733400    -1.864800     2.927700 H          1 UNL1 0.0\\n    47 H       2.436300    -0.633000     1.872600 H          1 UNL1 0.0\\n    48 H       1.719400    -2.097600     1.176100 H          1 UNL1 0.0\\n@<TRIPOS>BOND\\n     1      1      2          1\\n     2      2      3          1\\n     3      3      4          1\\n     4      4      5          2\\n     5      5      1          1\\n     6      4      6          1\\n     7      6      7          1\\n     8      7      8          1\\n     9      8      9          1\\n    10      9     10          1\\n    11     10     11          1\\n    12     11      7          2\\n    13     11     12          1\\n    14     12      5          1\\n    15     12     13          1\\n    16     12     14          1\\n    17      6     15          1\\n    18      6     16          1\\n    19      1     17          1\\n    20      2     18          1\\n    21      2     19          1\\n    22      9     20          1\\n    23      9     21          1\\n    24     10     22          1\\n    25     15     23          1\\n    26     15     24          1\\n    27     15     25          1\\n    28     16     26          1\\n    29     16     27          1\\n    30     16     28          1\\n    31     29     30          1\\n    32     29     31          1\\n    33     29     32          1\\n    34     30     33          1\\n    35     30     34          1\\n    36     30     35          1\\n    37     31     36          1\\n    38     31     37          1\\n    39     31     38          1\\n    40     10     29          1\\n    41     39     40          1\\n    42     39     41          1\\n    43     39     42          1\\n    44     40     43          1\\n    45     40     44          1\\n    46     40     45          1\\n    47     41     46          1\\n    48     41     47          1\\n    49     41     48          1\\n    50      1     39          1\\n\",\"mol2\");\n\tviewer_16874042971415532.setStyle({\"stick\": {\"radius\": 0.1}, \"sphere\": {\"scale\": 0.15}});\n\tviewer_16874042971415532.setHoverable({},true,\"\\n            function(atom,viewer,event,container) {\\n                if(!atom.label) {\\n                    atom.label = viewer.addLabel(atom.elem + atom.serial, {position: atom, backgroundColor: 'mintcream', fontColor:'black'});\\n                }\\n            }\\n            \",\"\\n            function(atom,viewer) { \\n                if(atom.label) {\\n                    viewer.removeLabel(atom.label);\\n                    delete atom.label;\\n                }\\n            }\\n            \");\n\tviewer_16874042971415532.zoomTo();\n\tviewer_16874042971415532.setBackgroundColor(null);\nviewer_16874042971415532.render();\n});\n</script>",
      "text/html": [
       "<div id=\"3dmolviewer_16874042971415532\"  style=\"position: relative; width: 1000px; height: 500px\">\n",
       "        <p id=\"3dmolwarning_16874042971415532\" style=\"background-color:#ffcccc;color:black\">You appear to be running in JupyterLab (or JavaScript failed to load for some other reason).  You need to install the 3dmol extension: <br>\n",
       "        <tt>jupyter labextension install jupyterlab_3dmol</tt></p>\n",
       "        </div>\n",
       "<script>\n",
       "\n",
       "var loadScriptAsync = function(uri){\n",
       "  return new Promise((resolve, reject) => {\n",
       "    //this is to ignore the existence of requirejs amd\n",
       "    var savedexports, savedmodule;\n",
       "    if (typeof exports !== 'undefined') savedexports = exports;\n",
       "    else exports = {}\n",
       "    if (typeof module !== 'undefined') savedmodule = module;\n",
       "    else module = {}\n",
       "\n",
       "    var tag = document.createElement('script');\n",
       "    tag.src = uri;\n",
       "    tag.async = true;\n",
       "    tag.onload = () => {\n",
       "        exports = savedexports;\n",
       "        module = savedmodule;\n",
       "        resolve();\n",
       "    };\n",
       "  var firstScriptTag = document.getElementsByTagName('script')[0];\n",
       "  firstScriptTag.parentNode.insertBefore(tag, firstScriptTag);\n",
       "});\n",
       "};\n",
       "\n",
       "if(typeof $3Dmolpromise === 'undefined') {\n",
       "$3Dmolpromise = null;\n",
       "  $3Dmolpromise = loadScriptAsync('https://cdnjs.cloudflare.com/ajax/libs/3Dmol/2.0.1/3Dmol-min.js');\n",
       "}\n",
       "\n",
       "var viewer_16874042971415532 = null;\n",
       "var warn = document.getElementById(\"3dmolwarning_16874042971415532\");\n",
       "if(warn) {\n",
       "    warn.parentNode.removeChild(warn);\n",
       "}\n",
       "$3Dmolpromise.then(function() {\n",
       "viewer_16874042971415532 = $3Dmol.createViewer(document.getElementById(\"3dmolviewer_16874042971415532\"),{backgroundColor:\"white\"});\n",
       "viewer_16874042971415532.zoomTo();\n",
       "\tviewer_16874042971415532.addModel(\"# Produced with molli package\\n@<TRIPOS>MOLECULE\\n1_3_3\\n48 50 0 0 0\\nSMALL\\nUSER_CHARGES\\n\\n@<TRIPOS>ATOM\\n     1 C       0.023400    -0.074200     0.472700 C.3        1 UNL1 0.0\\n     2 C       0.844200     1.184600     0.196000 C.3        1 UNL1 0.0\\n     3 O      -0.066300     2.256100     0.498700 O.2        1 UNL1 0.0\\n     4 C      -1.303900     1.775800     0.391900 C.2        1 UNL1 0.0\\n     5 N      -1.348000     0.502600     0.312000 N.2        1 UNL1 0.0\\n     6 C      -2.510200     2.651000     0.337500 C.3        1 UNL1 0.0\\n     7 C      -3.770900     1.853400     0.284400 C.2        1 UNL1 0.0\\n     8 O      -4.966200     2.387000     0.520700 O.2        1 UNL1 0.0\\n     9 C      -5.926200     1.325500     0.630500 C.3        1 UNL1 0.0\\n    10 C      -5.224000     0.110900     0.024400 C.3        1 UNL1 0.0\\n    11 N      -3.810600     0.608000     0.009600 N.2        1 UNL1 0.0\\n    12 C      -2.565500    -0.202500    -0.209400 C.3        1 UNL1 0.0\\n    13 BR     -2.763700    -1.976000     0.585400 Br         1 UNL1 0.0\\n    14 BR     -2.260900    -0.382500    -2.159700 Br         1 UNL1 0.0\\n    15 C      -2.436400     3.535900    -0.911800 C.3        1 UNL1 0.0\\n    16 C      -2.525100     3.521200     1.602800 C.3        1 UNL1 0.0\\n    17 H       0.192000    -0.833200    -0.298500 H          1 UNL1 0.0\\n    18 H       1.749600     1.282400     0.799700 H          1 UNL1 0.0\\n    19 H       1.121900     1.266400    -0.861700 H          1 UNL1 0.0\\n    20 H      -6.855600     1.613000     0.133100 H          1 UNL1 0.0\\n    21 H      -6.141400     1.175700     1.694900 H          1 UNL1 0.0\\n    22 H      -5.297000    -0.728500     0.722900 H          1 UNL1 0.0\\n    23 H      -2.405500     2.933500    -1.827000 H          1 UNL1 0.0\\n    24 H      -3.308600     4.195600    -0.986100 H          1 UNL1 0.0\\n    25 H      -1.538800     4.164700    -0.905500 H          1 UNL1 0.0\\n    26 H      -3.373900     4.214500     1.606300 H          1 UNL1 0.0\\n    27 H      -2.602800     2.902600     2.505200 H          1 UNL1 0.0\\n    28 H      -1.610500     4.118500     1.692800 H          1 UNL1 0.0\\n    29 C      -5.730200    -0.303200    -1.372000 C.3        1 UNL1 0.0\\n    30 C      -7.105600    -0.974900    -1.255600 C.3        1 UNL1 0.0\\n    31 C      -5.813200     0.837500    -2.394800 C.3        1 UNL1 0.0\\n    32 H      -5.057900    -1.066900    -1.778000 H          1 UNL1 0.0\\n    33 H      -7.867900    -0.280800    -0.887900 H          1 UNL1 0.0\\n    34 H      -7.436100    -1.349300    -2.230600 H          1 UNL1 0.0\\n    35 H      -7.064100    -1.828400    -0.570400 H          1 UNL1 0.0\\n    36 H      -6.575700     1.574900    -2.125600 H          1 UNL1 0.0\\n    37 H      -4.860500     1.362800    -2.501900 H          1 UNL1 0.0\\n    38 H      -6.079200     0.441400    -3.381400 H          1 UNL1 0.0\\n    39 C       0.243500    -0.662800     1.890900 C.3        1 UNL1 0.0\\n    40 C       0.106900     0.334100     3.049200 C.3        1 UNL1 0.0\\n    41 C       1.614400    -1.349000     1.968500 C.3        1 UNL1 0.0\\n    42 H      -0.493300    -1.448700     2.075300 H          1 UNL1 0.0\\n    43 H       0.845200     1.139400     2.988900 H          1 UNL1 0.0\\n    44 H      -0.891800     0.780400     3.077200 H          1 UNL1 0.0\\n    45 H       0.256900    -0.174600     4.008200 H          1 UNL1 0.0\\n    46 H       1.733400    -1.864800     2.927700 H          1 UNL1 0.0\\n    47 H       2.436300    -0.633000     1.872600 H          1 UNL1 0.0\\n    48 H       1.719400    -2.097600     1.176100 H          1 UNL1 0.0\\n@<TRIPOS>BOND\\n     1      1      2          1\\n     2      2      3          1\\n     3      3      4          1\\n     4      4      5          2\\n     5      5      1          1\\n     6      4      6          1\\n     7      6      7          1\\n     8      7      8          1\\n     9      8      9          1\\n    10      9     10          1\\n    11     10     11          1\\n    12     11      7          2\\n    13     11     12          1\\n    14     12      5          1\\n    15     12     13          1\\n    16     12     14          1\\n    17      6     15          1\\n    18      6     16          1\\n    19      1     17          1\\n    20      2     18          1\\n    21      2     19          1\\n    22      9     20          1\\n    23      9     21          1\\n    24     10     22          1\\n    25     15     23          1\\n    26     15     24          1\\n    27     15     25          1\\n    28     16     26          1\\n    29     16     27          1\\n    30     16     28          1\\n    31     29     30          1\\n    32     29     31          1\\n    33     29     32          1\\n    34     30     33          1\\n    35     30     34          1\\n    36     30     35          1\\n    37     31     36          1\\n    38     31     37          1\\n    39     31     38          1\\n    40     10     29          1\\n    41     39     40          1\\n    42     39     41          1\\n    43     39     42          1\\n    44     40     43          1\\n    45     40     44          1\\n    46     40     45          1\\n    47     41     46          1\\n    48     41     47          1\\n    49     41     48          1\\n    50      1     39          1\\n\",\"mol2\");\n",
       "\tviewer_16874042971415532.setStyle({\"stick\": {\"radius\": 0.1}, \"sphere\": {\"scale\": 0.15}});\n",
       "\tviewer_16874042971415532.setHoverable({},true,\"\\n            function(atom,viewer,event,container) {\\n                if(!atom.label) {\\n                    atom.label = viewer.addLabel(atom.elem + atom.serial, {position: atom, backgroundColor: 'mintcream', fontColor:'black'});\\n                }\\n            }\\n            \",\"\\n            function(atom,viewer) { \\n                if(atom.label) {\\n                    viewer.removeLabel(atom.label);\\n                    delete atom.label;\\n                }\\n            }\\n            \");\n",
       "\tviewer_16874042971415532.zoomTo();\n",
       "\tviewer_16874042971415532.setBackgroundColor(null);\n",
       "viewer_16874042971415532.render();\n",
       "});\n",
       "</script>"
      ]
     },
     "metadata": {},
     "output_type": "display_data"
    },
    {
     "data": {
      "text/plain": [
       "Conformer(name='1_3_3', formula='C16 H26 Br2 N2 O2')"
      ]
     },
     "execution_count": 14,
     "metadata": {},
     "output_type": "execute_result"
    }
   ],
   "source": [
    "clib['1_3_3'][1]"
   ]
  },
  {
   "cell_type": "code",
   "execution_count": 15,
   "metadata": {},
   "outputs": [
    {
     "data": {
      "application/3dmoljs_load.v0": "<div id=\"3dmolviewer_16874042971578667\"  style=\"position: relative; width: 1000px; height: 500px\">\n        <p id=\"3dmolwarning_16874042971578667\" style=\"background-color:#ffcccc;color:black\">You appear to be running in JupyterLab (or JavaScript failed to load for some other reason).  You need to install the 3dmol extension: <br>\n        <tt>jupyter labextension install jupyterlab_3dmol</tt></p>\n        </div>\n<script>\n\nvar loadScriptAsync = function(uri){\n  return new Promise((resolve, reject) => {\n    //this is to ignore the existence of requirejs amd\n    var savedexports, savedmodule;\n    if (typeof exports !== 'undefined') savedexports = exports;\n    else exports = {}\n    if (typeof module !== 'undefined') savedmodule = module;\n    else module = {}\n\n    var tag = document.createElement('script');\n    tag.src = uri;\n    tag.async = true;\n    tag.onload = () => {\n        exports = savedexports;\n        module = savedmodule;\n        resolve();\n    };\n  var firstScriptTag = document.getElementsByTagName('script')[0];\n  firstScriptTag.parentNode.insertBefore(tag, firstScriptTag);\n});\n};\n\nif(typeof $3Dmolpromise === 'undefined') {\n$3Dmolpromise = null;\n  $3Dmolpromise = loadScriptAsync('https://cdnjs.cloudflare.com/ajax/libs/3Dmol/2.0.1/3Dmol-min.js');\n}\n\nvar viewer_16874042971578667 = null;\nvar warn = document.getElementById(\"3dmolwarning_16874042971578667\");\nif(warn) {\n    warn.parentNode.removeChild(warn);\n}\n$3Dmolpromise.then(function() {\nviewer_16874042971578667 = $3Dmol.createViewer(document.getElementById(\"3dmolviewer_16874042971578667\"),{backgroundColor:\"white\"});\nviewer_16874042971578667.zoomTo();\n\tviewer_16874042971578667.addModel(\"# Produced with molli package\\n@<TRIPOS>MOLECULE\\n3_6_6\\n74 78 0 0 0\\nSMALL\\nUSER_CHARGES\\n\\n@<TRIPOS>ATOM\\n     1 C       0.129700     0.045500     0.163700 C.3        1 UNL1 0.0\\n     2 C       0.820800     1.215400     0.902100 C.3        1 UNL1 0.0\\n     3 O      -0.097100     2.290200     0.602100 O.2        1 UNL1 0.0\\n     4 C      -1.313700     1.771000     0.434600 C.2        1 UNL1 0.0\\n     5 N      -1.316000     0.503200     0.281900 N.2        1 UNL1 0.0\\n     6 C      -2.511400     2.644900     0.316100 C.3        1 UNL1 0.0\\n     7 C      -3.771200     1.860000     0.275200 C.2        1 UNL1 0.0\\n     8 O      -4.952300     2.424300     0.508100 O.2        1 UNL1 0.0\\n     9 C      -5.927000     1.387100     0.713900 C.3        1 UNL1 0.0\\n    10 C      -5.276000     0.137500     0.071600 C.3        1 UNL1 0.0\\n    11 N      -3.831200     0.611600     0.027600 N.2        1 UNL1 0.0\\n    12 C      -2.580800    -0.246200    -0.087500 C.3        1 UNL1 0.0\\n    13 BR     -2.817500    -1.716100     1.177300 Br         1 UNL1 0.0\\n    14 BR     -2.368400    -0.758600    -1.954000 Br         1 UNL1 0.0\\n    15 C      -2.411300     3.453800    -0.983600 C.3        1 UNL1 0.0\\n    16 C      -2.546000     3.591700     1.524900 C.3        1 UNL1 0.0\\n    17 C      -7.322800     1.870900     0.271000 C.3        1 UNL1 0.0\\n    18 C      -7.937200     2.752000     1.370600 C.3        1 UNL1 0.0\\n    19 C      -7.319300     2.682700    -1.030300 C.3        1 UNL1 0.0\\n    20 C       1.008800     1.148600     2.444900 C.3        1 UNL1 0.0\\n    21 C       1.190900     2.558500     3.033800 C.3        1 UNL1 0.0\\n    22 C       2.213400     0.302500     2.870800 C.3        1 UNL1 0.0\\n    23 H       0.360000     0.162000    -0.902500 H          1 UNL1 0.0\\n    24 H       1.779500     1.447000     0.421300 H          1 UNL1 0.0\\n    25 H      -5.956700     1.212500     1.799900 H          1 UNL1 0.0\\n    26 H      -5.361000    -0.673400     0.797600 H          1 UNL1 0.0\\n    27 H      -1.529200     4.103400    -0.985500 H          1 UNL1 0.0\\n    28 H      -3.295400     4.084700    -1.127300 H          1 UNL1 0.0\\n    29 H      -2.337300     2.794400    -1.857400 H          1 UNL1 0.0\\n    30 H      -3.406000     4.269200     1.485400 H          1 UNL1 0.0\\n    31 H      -1.644200     4.212700     1.576900 H          1 UNL1 0.0\\n    32 H      -2.613100     3.030100     2.464000 H          1 UNL1 0.0\\n    33 H      -7.987100     1.005900     0.161000 H          1 UNL1 0.0\\n    34 H      -7.318200     3.632800     1.571800 H          1 UNL1 0.0\\n    35 H      -8.043200     2.190100     2.304000 H          1 UNL1 0.0\\n    36 H      -8.934600     3.097200     1.079700 H          1 UNL1 0.0\\n    37 H      -6.773200     3.625100    -0.915800 H          1 UNL1 0.0\\n    38 H      -6.869400     2.138000    -1.861100 H          1 UNL1 0.0\\n    39 H      -8.343900     2.932100    -1.324900 H          1 UNL1 0.0\\n    40 H       0.108400     0.727500     2.907300 H          1 UNL1 0.0\\n    41 H       2.033500     3.075300     2.562000 H          1 UNL1 0.0\\n    42 H       0.294900     3.171600     2.894900 H          1 UNL1 0.0\\n    43 H       1.381200     2.512300     4.110900 H          1 UNL1 0.0\\n    44 H       3.098800     0.542900     2.273700 H          1 UNL1 0.0\\n    45 H       2.463700     0.474400     3.923300 H          1 UNL1 0.0\\n    46 H       2.013400    -0.766900     2.783600 H          1 UNL1 0.0\\n    47 C      -5.829000    -0.263800    -1.304300 C.3        1 UNL1 0.0\\n    48 C      -5.596000    -1.694500    -1.737700 C.ar       1 UNL1 0.0\\n    49 C      -5.350300    -1.958800    -3.096400 C.ar       1 UNL1 0.0\\n    50 C      -5.140200    -3.263000    -3.546600 C.ar       1 UNL1 0.0\\n    51 C      -5.203700    -4.325800    -2.652300 C.ar       1 UNL1 0.0\\n    52 C      -5.504600    -4.087600    -1.314400 C.ar       1 UNL1 0.0\\n    53 C      -5.718300    -2.782800    -0.861600 C.ar       1 UNL1 0.0\\n    54 H      -6.919300    -0.163800    -1.315600 H          1 UNL1 0.0\\n    55 H      -5.437400     0.417600    -2.071000 H          1 UNL1 0.0\\n    56 H      -5.325600    -1.155100    -3.831700 H          1 UNL1 0.0\\n    57 H      -4.947800    -3.453900    -4.601000 H          1 UNL1 0.0\\n    58 H      -5.056700    -5.344500    -3.007200 H          1 UNL1 0.0\\n    59 H      -5.605700    -4.930600    -0.632200 H          1 UNL1 0.0\\n    60 H      -6.019900    -2.663800     0.176200 H          1 UNL1 0.0\\n    61 C       0.533000    -1.344000     0.647800 C.3        1 UNL1 0.0\\n    62 C       0.297500    -2.490200    -0.309000 C.ar       1 UNL1 0.0\\n    63 C       0.715100    -2.429500    -1.648000 C.ar       1 UNL1 0.0\\n    64 C       0.498400    -3.506200    -2.511200 C.ar       1 UNL1 0.0\\n    65 C      -0.106800    -4.668100    -2.042600 C.ar       1 UNL1 0.0\\n    66 C      -0.466300    -4.768100    -0.702900 C.ar       1 UNL1 0.0\\n    67 C      -0.245400    -3.695500     0.161900 C.ar       1 UNL1 0.0\\n    68 H       1.620300    -1.352600     0.788900 H          1 UNL1 0.0\\n    69 H       0.090000    -1.558300     1.625000 H          1 UNL1 0.0\\n    70 H       1.245000    -1.568100    -2.049100 H          1 UNL1 0.0\\n    71 H       0.826900    -3.453700    -3.548000 H          1 UNL1 0.0\\n    72 H      -0.258900    -5.512600    -2.712500 H          1 UNL1 0.0\\n    73 H      -0.890900    -5.696800    -0.326700 H          1 UNL1 0.0\\n    74 H      -0.488500    -3.833800     1.214200 H          1 UNL1 0.0\\n@<TRIPOS>BOND\\n     1      1      2          1\\n     2      2      3          1\\n     3      3      4          1\\n     4      4      5          2\\n     5      5      1          1\\n     6      4      6          1\\n     7      6      7          1\\n     8      7      8          1\\n     9      8      9          1\\n    10      9     10          1\\n    11     10     11          1\\n    12     11      7          2\\n    13     11     12          1\\n    14     12      5          1\\n    15     12     13          1\\n    16     12     14          1\\n    17      6     15          1\\n    18      6     16          1\\n    19     17     18          1\\n    20     17     19          1\\n    21      9     17          1\\n    22     20     21          1\\n    23     20     22          1\\n    24      2     20          1\\n    25      1     23          1\\n    26      2     24          1\\n    27      9     25          1\\n    28     10     26          1\\n    29     15     27          1\\n    30     15     28          1\\n    31     15     29          1\\n    32     16     30          1\\n    33     16     31          1\\n    34     16     32          1\\n    35     17     33          1\\n    36     18     34          1\\n    37     18     35          1\\n    38     18     36          1\\n    39     19     37          1\\n    40     19     38          1\\n    41     19     39          1\\n    42     20     40          1\\n    43     21     41          1\\n    44     21     42          1\\n    45     21     43          1\\n    46     22     44          1\\n    47     22     45          1\\n    48     22     46          1\\n    49     47     48          1\\n    50     48     49         ar\\n    51     49     50         ar\\n    52     50     51         ar\\n    53     51     52         ar\\n    54     52     53         ar\\n    55     53     48         ar\\n    56     47     54          1\\n    57     47     55          1\\n    58     49     56          1\\n    59     50     57          1\\n    60     51     58          1\\n    61     52     59          1\\n    62     53     60          1\\n    63     10     47          1\\n    64     61     62          1\\n    65     62     63         ar\\n    66     63     64         ar\\n    67     64     65         ar\\n    68     65     66         ar\\n    69     66     67         ar\\n    70     67     62         ar\\n    71     61     68          1\\n    72     61     69          1\\n    73     63     70          1\\n    74     64     71          1\\n    75     65     72          1\\n    76     66     73          1\\n    77     67     74          1\\n    78      1     61          1\\n\",\"mol2\");\n\tviewer_16874042971578667.setStyle({\"stick\": {\"radius\": 0.1}, \"sphere\": {\"scale\": 0.15}});\n\tviewer_16874042971578667.setHoverable({},true,\"\\n            function(atom,viewer,event,container) {\\n                if(!atom.label) {\\n                    atom.label = viewer.addLabel(atom.elem + atom.serial, {position: atom, backgroundColor: 'mintcream', fontColor:'black'});\\n                }\\n            }\\n            \",\"\\n            function(atom,viewer) { \\n                if(atom.label) {\\n                    viewer.removeLabel(atom.label);\\n                    delete atom.label;\\n                }\\n            }\\n            \");\n\tviewer_16874042971578667.zoomTo();\n\tviewer_16874042971578667.setBackgroundColor(null);\nviewer_16874042971578667.render();\n});\n</script>",
      "text/html": [
       "<div id=\"3dmolviewer_16874042971578667\"  style=\"position: relative; width: 1000px; height: 500px\">\n",
       "        <p id=\"3dmolwarning_16874042971578667\" style=\"background-color:#ffcccc;color:black\">You appear to be running in JupyterLab (or JavaScript failed to load for some other reason).  You need to install the 3dmol extension: <br>\n",
       "        <tt>jupyter labextension install jupyterlab_3dmol</tt></p>\n",
       "        </div>\n",
       "<script>\n",
       "\n",
       "var loadScriptAsync = function(uri){\n",
       "  return new Promise((resolve, reject) => {\n",
       "    //this is to ignore the existence of requirejs amd\n",
       "    var savedexports, savedmodule;\n",
       "    if (typeof exports !== 'undefined') savedexports = exports;\n",
       "    else exports = {}\n",
       "    if (typeof module !== 'undefined') savedmodule = module;\n",
       "    else module = {}\n",
       "\n",
       "    var tag = document.createElement('script');\n",
       "    tag.src = uri;\n",
       "    tag.async = true;\n",
       "    tag.onload = () => {\n",
       "        exports = savedexports;\n",
       "        module = savedmodule;\n",
       "        resolve();\n",
       "    };\n",
       "  var firstScriptTag = document.getElementsByTagName('script')[0];\n",
       "  firstScriptTag.parentNode.insertBefore(tag, firstScriptTag);\n",
       "});\n",
       "};\n",
       "\n",
       "if(typeof $3Dmolpromise === 'undefined') {\n",
       "$3Dmolpromise = null;\n",
       "  $3Dmolpromise = loadScriptAsync('https://cdnjs.cloudflare.com/ajax/libs/3Dmol/2.0.1/3Dmol-min.js');\n",
       "}\n",
       "\n",
       "var viewer_16874042971578667 = null;\n",
       "var warn = document.getElementById(\"3dmolwarning_16874042971578667\");\n",
       "if(warn) {\n",
       "    warn.parentNode.removeChild(warn);\n",
       "}\n",
       "$3Dmolpromise.then(function() {\n",
       "viewer_16874042971578667 = $3Dmol.createViewer(document.getElementById(\"3dmolviewer_16874042971578667\"),{backgroundColor:\"white\"});\n",
       "viewer_16874042971578667.zoomTo();\n",
       "\tviewer_16874042971578667.addModel(\"# Produced with molli package\\n@<TRIPOS>MOLECULE\\n3_6_6\\n74 78 0 0 0\\nSMALL\\nUSER_CHARGES\\n\\n@<TRIPOS>ATOM\\n     1 C       0.129700     0.045500     0.163700 C.3        1 UNL1 0.0\\n     2 C       0.820800     1.215400     0.902100 C.3        1 UNL1 0.0\\n     3 O      -0.097100     2.290200     0.602100 O.2        1 UNL1 0.0\\n     4 C      -1.313700     1.771000     0.434600 C.2        1 UNL1 0.0\\n     5 N      -1.316000     0.503200     0.281900 N.2        1 UNL1 0.0\\n     6 C      -2.511400     2.644900     0.316100 C.3        1 UNL1 0.0\\n     7 C      -3.771200     1.860000     0.275200 C.2        1 UNL1 0.0\\n     8 O      -4.952300     2.424300     0.508100 O.2        1 UNL1 0.0\\n     9 C      -5.927000     1.387100     0.713900 C.3        1 UNL1 0.0\\n    10 C      -5.276000     0.137500     0.071600 C.3        1 UNL1 0.0\\n    11 N      -3.831200     0.611600     0.027600 N.2        1 UNL1 0.0\\n    12 C      -2.580800    -0.246200    -0.087500 C.3        1 UNL1 0.0\\n    13 BR     -2.817500    -1.716100     1.177300 Br         1 UNL1 0.0\\n    14 BR     -2.368400    -0.758600    -1.954000 Br         1 UNL1 0.0\\n    15 C      -2.411300     3.453800    -0.983600 C.3        1 UNL1 0.0\\n    16 C      -2.546000     3.591700     1.524900 C.3        1 UNL1 0.0\\n    17 C      -7.322800     1.870900     0.271000 C.3        1 UNL1 0.0\\n    18 C      -7.937200     2.752000     1.370600 C.3        1 UNL1 0.0\\n    19 C      -7.319300     2.682700    -1.030300 C.3        1 UNL1 0.0\\n    20 C       1.008800     1.148600     2.444900 C.3        1 UNL1 0.0\\n    21 C       1.190900     2.558500     3.033800 C.3        1 UNL1 0.0\\n    22 C       2.213400     0.302500     2.870800 C.3        1 UNL1 0.0\\n    23 H       0.360000     0.162000    -0.902500 H          1 UNL1 0.0\\n    24 H       1.779500     1.447000     0.421300 H          1 UNL1 0.0\\n    25 H      -5.956700     1.212500     1.799900 H          1 UNL1 0.0\\n    26 H      -5.361000    -0.673400     0.797600 H          1 UNL1 0.0\\n    27 H      -1.529200     4.103400    -0.985500 H          1 UNL1 0.0\\n    28 H      -3.295400     4.084700    -1.127300 H          1 UNL1 0.0\\n    29 H      -2.337300     2.794400    -1.857400 H          1 UNL1 0.0\\n    30 H      -3.406000     4.269200     1.485400 H          1 UNL1 0.0\\n    31 H      -1.644200     4.212700     1.576900 H          1 UNL1 0.0\\n    32 H      -2.613100     3.030100     2.464000 H          1 UNL1 0.0\\n    33 H      -7.987100     1.005900     0.161000 H          1 UNL1 0.0\\n    34 H      -7.318200     3.632800     1.571800 H          1 UNL1 0.0\\n    35 H      -8.043200     2.190100     2.304000 H          1 UNL1 0.0\\n    36 H      -8.934600     3.097200     1.079700 H          1 UNL1 0.0\\n    37 H      -6.773200     3.625100    -0.915800 H          1 UNL1 0.0\\n    38 H      -6.869400     2.138000    -1.861100 H          1 UNL1 0.0\\n    39 H      -8.343900     2.932100    -1.324900 H          1 UNL1 0.0\\n    40 H       0.108400     0.727500     2.907300 H          1 UNL1 0.0\\n    41 H       2.033500     3.075300     2.562000 H          1 UNL1 0.0\\n    42 H       0.294900     3.171600     2.894900 H          1 UNL1 0.0\\n    43 H       1.381200     2.512300     4.110900 H          1 UNL1 0.0\\n    44 H       3.098800     0.542900     2.273700 H          1 UNL1 0.0\\n    45 H       2.463700     0.474400     3.923300 H          1 UNL1 0.0\\n    46 H       2.013400    -0.766900     2.783600 H          1 UNL1 0.0\\n    47 C      -5.829000    -0.263800    -1.304300 C.3        1 UNL1 0.0\\n    48 C      -5.596000    -1.694500    -1.737700 C.ar       1 UNL1 0.0\\n    49 C      -5.350300    -1.958800    -3.096400 C.ar       1 UNL1 0.0\\n    50 C      -5.140200    -3.263000    -3.546600 C.ar       1 UNL1 0.0\\n    51 C      -5.203700    -4.325800    -2.652300 C.ar       1 UNL1 0.0\\n    52 C      -5.504600    -4.087600    -1.314400 C.ar       1 UNL1 0.0\\n    53 C      -5.718300    -2.782800    -0.861600 C.ar       1 UNL1 0.0\\n    54 H      -6.919300    -0.163800    -1.315600 H          1 UNL1 0.0\\n    55 H      -5.437400     0.417600    -2.071000 H          1 UNL1 0.0\\n    56 H      -5.325600    -1.155100    -3.831700 H          1 UNL1 0.0\\n    57 H      -4.947800    -3.453900    -4.601000 H          1 UNL1 0.0\\n    58 H      -5.056700    -5.344500    -3.007200 H          1 UNL1 0.0\\n    59 H      -5.605700    -4.930600    -0.632200 H          1 UNL1 0.0\\n    60 H      -6.019900    -2.663800     0.176200 H          1 UNL1 0.0\\n    61 C       0.533000    -1.344000     0.647800 C.3        1 UNL1 0.0\\n    62 C       0.297500    -2.490200    -0.309000 C.ar       1 UNL1 0.0\\n    63 C       0.715100    -2.429500    -1.648000 C.ar       1 UNL1 0.0\\n    64 C       0.498400    -3.506200    -2.511200 C.ar       1 UNL1 0.0\\n    65 C      -0.106800    -4.668100    -2.042600 C.ar       1 UNL1 0.0\\n    66 C      -0.466300    -4.768100    -0.702900 C.ar       1 UNL1 0.0\\n    67 C      -0.245400    -3.695500     0.161900 C.ar       1 UNL1 0.0\\n    68 H       1.620300    -1.352600     0.788900 H          1 UNL1 0.0\\n    69 H       0.090000    -1.558300     1.625000 H          1 UNL1 0.0\\n    70 H       1.245000    -1.568100    -2.049100 H          1 UNL1 0.0\\n    71 H       0.826900    -3.453700    -3.548000 H          1 UNL1 0.0\\n    72 H      -0.258900    -5.512600    -2.712500 H          1 UNL1 0.0\\n    73 H      -0.890900    -5.696800    -0.326700 H          1 UNL1 0.0\\n    74 H      -0.488500    -3.833800     1.214200 H          1 UNL1 0.0\\n@<TRIPOS>BOND\\n     1      1      2          1\\n     2      2      3          1\\n     3      3      4          1\\n     4      4      5          2\\n     5      5      1          1\\n     6      4      6          1\\n     7      6      7          1\\n     8      7      8          1\\n     9      8      9          1\\n    10      9     10          1\\n    11     10     11          1\\n    12     11      7          2\\n    13     11     12          1\\n    14     12      5          1\\n    15     12     13          1\\n    16     12     14          1\\n    17      6     15          1\\n    18      6     16          1\\n    19     17     18          1\\n    20     17     19          1\\n    21      9     17          1\\n    22     20     21          1\\n    23     20     22          1\\n    24      2     20          1\\n    25      1     23          1\\n    26      2     24          1\\n    27      9     25          1\\n    28     10     26          1\\n    29     15     27          1\\n    30     15     28          1\\n    31     15     29          1\\n    32     16     30          1\\n    33     16     31          1\\n    34     16     32          1\\n    35     17     33          1\\n    36     18     34          1\\n    37     18     35          1\\n    38     18     36          1\\n    39     19     37          1\\n    40     19     38          1\\n    41     19     39          1\\n    42     20     40          1\\n    43     21     41          1\\n    44     21     42          1\\n    45     21     43          1\\n    46     22     44          1\\n    47     22     45          1\\n    48     22     46          1\\n    49     47     48          1\\n    50     48     49         ar\\n    51     49     50         ar\\n    52     50     51         ar\\n    53     51     52         ar\\n    54     52     53         ar\\n    55     53     48         ar\\n    56     47     54          1\\n    57     47     55          1\\n    58     49     56          1\\n    59     50     57          1\\n    60     51     58          1\\n    61     52     59          1\\n    62     53     60          1\\n    63     10     47          1\\n    64     61     62          1\\n    65     62     63         ar\\n    66     63     64         ar\\n    67     64     65         ar\\n    68     65     66         ar\\n    69     66     67         ar\\n    70     67     62         ar\\n    71     61     68          1\\n    72     61     69          1\\n    73     63     70          1\\n    74     64     71          1\\n    75     65     72          1\\n    76     66     73          1\\n    77     67     74          1\\n    78      1     61          1\\n\",\"mol2\");\n",
       "\tviewer_16874042971578667.setStyle({\"stick\": {\"radius\": 0.1}, \"sphere\": {\"scale\": 0.15}});\n",
       "\tviewer_16874042971578667.setHoverable({},true,\"\\n            function(atom,viewer,event,container) {\\n                if(!atom.label) {\\n                    atom.label = viewer.addLabel(atom.elem + atom.serial, {position: atom, backgroundColor: 'mintcream', fontColor:'black'});\\n                }\\n            }\\n            \",\"\\n            function(atom,viewer) { \\n                if(atom.label) {\\n                    viewer.removeLabel(atom.label);\\n                    delete atom.label;\\n                }\\n            }\\n            \");\n",
       "\tviewer_16874042971578667.zoomTo();\n",
       "\tviewer_16874042971578667.setBackgroundColor(null);\n",
       "viewer_16874042971578667.render();\n",
       "});\n",
       "</script>"
      ]
     },
     "metadata": {},
     "output_type": "display_data"
    },
    {
     "data": {
      "text/plain": [
       "Conformer(name='3_6_6', formula='C30 H38 Br2 N2 O2')"
      ]
     },
     "execution_count": 15,
     "metadata": {},
     "output_type": "execute_result"
    }
   ],
   "source": [
    "clib['3_6_6'][0]"
   ]
  },
  {
   "cell_type": "code",
   "execution_count": 16,
   "metadata": {},
   "outputs": [
    {
     "data": {
      "application/3dmoljs_load.v0": "<div id=\"3dmolviewer_16874042971700292\"  style=\"position: relative; width: 1000px; height: 500px\">\n        <p id=\"3dmolwarning_16874042971700292\" style=\"background-color:#ffcccc;color:black\">You appear to be running in JupyterLab (or JavaScript failed to load for some other reason).  You need to install the 3dmol extension: <br>\n        <tt>jupyter labextension install jupyterlab_3dmol</tt></p>\n        </div>\n<script>\n\nvar loadScriptAsync = function(uri){\n  return new Promise((resolve, reject) => {\n    //this is to ignore the existence of requirejs amd\n    var savedexports, savedmodule;\n    if (typeof exports !== 'undefined') savedexports = exports;\n    else exports = {}\n    if (typeof module !== 'undefined') savedmodule = module;\n    else module = {}\n\n    var tag = document.createElement('script');\n    tag.src = uri;\n    tag.async = true;\n    tag.onload = () => {\n        exports = savedexports;\n        module = savedmodule;\n        resolve();\n    };\n  var firstScriptTag = document.getElementsByTagName('script')[0];\n  firstScriptTag.parentNode.insertBefore(tag, firstScriptTag);\n});\n};\n\nif(typeof $3Dmolpromise === 'undefined') {\n$3Dmolpromise = null;\n  $3Dmolpromise = loadScriptAsync('https://cdnjs.cloudflare.com/ajax/libs/3Dmol/2.0.1/3Dmol-min.js');\n}\n\nvar viewer_16874042971700292 = null;\nvar warn = document.getElementById(\"3dmolwarning_16874042971700292\");\nif(warn) {\n    warn.parentNode.removeChild(warn);\n}\n$3Dmolpromise.then(function() {\nviewer_16874042971700292 = $3Dmol.createViewer(document.getElementById(\"3dmolviewer_16874042971700292\"),{backgroundColor:\"white\"});\nviewer_16874042971700292.zoomTo();\n\tviewer_16874042971700292.addModel(\"# Produced with molli package\\n@<TRIPOS>MOLECULE\\n3_6_6\\n74 78 0 0 0\\nSMALL\\nUSER_CHARGES\\n\\n@<TRIPOS>ATOM\\n     1 C      -0.019400    -0.073600     0.637300 C.3        1 UNL1 0.0\\n     2 C       0.805000     1.101200     0.075400 C.3        1 UNL1 0.0\\n     3 O      -0.044200     2.230700     0.404700 O.2        1 UNL1 0.0\\n     4 C      -1.299600     1.780500     0.362300 C.2        1 UNL1 0.0\\n     5 N      -1.369600     0.505400     0.338600 N.2        1 UNL1 0.0\\n     6 C      -2.506400     2.656700     0.341300 C.3        1 UNL1 0.0\\n     7 C      -3.762000     1.842000     0.308900 C.2        1 UNL1 0.0\\n     8 O      -4.947800     2.334800     0.660200 O.2        1 UNL1 0.0\\n     9 C      -5.790500     1.209300     0.977000 C.3        1 UNL1 0.0\\n    10 C      -5.224000     0.100200     0.062400 C.3        1 UNL1 0.0\\n    11 N      -3.805900     0.606300    -0.015700 N.2        1 UNL1 0.0\\n    12 C      -2.553000    -0.165800    -0.305400 C.3        1 UNL1 0.0\\n    13 BR     -2.173300    -0.022500    -2.259000 Br         1 UNL1 0.0\\n    14 BR     -2.709600    -2.044100     0.136100 Br         1 UNL1 0.0\\n    15 C      -2.494300     3.487700     1.635600 C.3        1 UNL1 0.0\\n    16 C      -2.467500     3.588600    -0.872300 C.3        1 UNL1 0.0\\n    17 C      -7.276200     1.587800     0.881600 C.3        1 UNL1 0.0\\n    18 C      -8.169900     0.421000     1.304200 C.3        1 UNL1 0.0\\n    19 C      -7.584500     2.808700     1.758600 C.3        1 UNL1 0.0\\n    20 C       2.270300     1.351000     0.472900 C.3        1 UNL1 0.0\\n    21 C       3.138600     0.115000     0.249700 C.3        1 UNL1 0.0\\n    22 C       2.500600     1.951500     1.859600 C.3        1 UNL1 0.0\\n    23 H       0.134500    -1.003300     0.082600 H          1 UNL1 0.0\\n    24 H       0.798800     1.030400    -1.024700 H          1 UNL1 0.0\\n    25 H      -5.571300     0.953800     2.024900 H          1 UNL1 0.0\\n    26 H      -5.256500    -0.851800     0.596400 H          1 UNL1 0.0\\n    27 H      -2.560900     2.842200     2.520300 H          1 UNL1 0.0\\n    28 H      -3.339000     4.184600     1.674400 H          1 UNL1 0.0\\n    29 H      -1.574300     4.076800     1.727600 H          1 UNL1 0.0\\n    30 H      -3.366100     4.214700    -0.918500 H          1 UNL1 0.0\\n    31 H      -1.599700     4.254900    -0.834000 H          1 UNL1 0.0\\n    32 H      -2.414400     3.031800    -1.813800 H          1 UNL1 0.0\\n    33 H      -7.521500     1.884300    -0.145300 H          1 UNL1 0.0\\n    34 H      -9.226700     0.696500     1.232400 H          1 UNL1 0.0\\n    35 H      -7.971600     0.126900     2.340600 H          1 UNL1 0.0\\n    36 H      -8.016300    -0.460000     0.673900 H          1 UNL1 0.0\\n    37 H      -8.647800     3.065900     1.704600 H          1 UNL1 0.0\\n    38 H      -7.333600     2.618200     2.807600 H          1 UNL1 0.0\\n    39 H      -7.021200     3.686300     1.427300 H          1 UNL1 0.0\\n    40 H       2.631700     2.123600    -0.221500 H          1 UNL1 0.0\\n    41 H       2.874800    -0.700000     0.929200 H          1 UNL1 0.0\\n    42 H       3.034000    -0.254000    -0.776300 H          1 UNL1 0.0\\n    43 H       4.195600     0.351600     0.409300 H          1 UNL1 0.0\\n    44 H       3.535300     2.302700     1.945400 H          1 UNL1 0.0\\n    45 H       2.349500     1.229700     2.663600 H          1 UNL1 0.0\\n    46 H       1.851800     2.814300     2.035600 H          1 UNL1 0.0\\n    47 C      -5.866700     0.050900    -1.339800 C.3        1 UNL1 0.0\\n    48 C      -5.578000    -1.204200    -2.126200 C.ar       1 UNL1 0.0\\n    49 C      -5.184100    -1.113900    -3.469000 C.ar       1 UNL1 0.0\\n    50 C      -4.919100    -2.265800    -4.212100 C.ar       1 UNL1 0.0\\n    51 C      -5.076300    -3.521600    -3.634400 C.ar       1 UNL1 0.0\\n    52 C      -5.527000    -3.627900    -2.322500 C.ar       1 UNL1 0.0\\n    53 C      -5.793500    -2.477500    -1.576700 C.ar       1 UNL1 0.0\\n    54 H      -6.958700     0.089200    -1.269800 H          1 UNL1 0.0\\n    55 H      -5.568400     0.933100    -1.922200 H          1 UNL1 0.0\\n    56 H      -5.091900    -0.151400    -3.971300 H          1 UNL1 0.0\\n    57 H      -4.615400    -2.187700    -5.254800 H          1 UNL1 0.0\\n    58 H      -4.888200    -4.418800    -4.222100 H          1 UNL1 0.0\\n    59 H      -5.699600    -4.613900    -1.892700 H          1 UNL1 0.0\\n    60 H      -6.199900    -2.611400    -0.576400 H          1 UNL1 0.0\\n    61 C       0.145700    -0.231800     2.167700 C.3        1 UNL1 0.0\\n    62 C      -0.865300    -1.105700     2.861400 C.ar       1 UNL1 0.0\\n    63 C      -1.940700    -0.538000     3.564500 C.ar       1 UNL1 0.0\\n    64 C      -2.871500    -1.354700     4.208900 C.ar       1 UNL1 0.0\\n    65 C      -2.729300    -2.740200     4.168000 C.ar       1 UNL1 0.0\\n    66 C      -1.647100    -3.310900     3.501000 C.ar       1 UNL1 0.0\\n    67 C      -0.713800    -2.499300     2.854000 C.ar       1 UNL1 0.0\\n    68 H       1.137700    -0.643100     2.385800 H          1 UNL1 0.0\\n    69 H       0.119000     0.749600     2.659900 H          1 UNL1 0.0\\n    70 H      -2.031500     0.539800     3.686900 H          1 UNL1 0.0\\n    71 H      -3.679400    -0.920100     4.796600 H          1 UNL1 0.0\\n    72 H      -3.435200    -3.379900     4.697800 H          1 UNL1 0.0\\n    73 H      -1.517700    -4.392800     3.509100 H          1 UNL1 0.0\\n    74 H       0.138300    -2.975000     2.369300 H          1 UNL1 0.0\\n@<TRIPOS>BOND\\n     1      1      2          1\\n     2      2      3          1\\n     3      3      4          1\\n     4      4      5          2\\n     5      5      1          1\\n     6      4      6          1\\n     7      6      7          1\\n     8      7      8          1\\n     9      8      9          1\\n    10      9     10          1\\n    11     10     11          1\\n    12     11      7          2\\n    13     11     12          1\\n    14     12      5          1\\n    15     12     13          1\\n    16     12     14          1\\n    17      6     15          1\\n    18      6     16          1\\n    19     17     18          1\\n    20     17     19          1\\n    21      9     17          1\\n    22     20     21          1\\n    23     20     22          1\\n    24      2     20          1\\n    25      1     23          1\\n    26      2     24          1\\n    27      9     25          1\\n    28     10     26          1\\n    29     15     27          1\\n    30     15     28          1\\n    31     15     29          1\\n    32     16     30          1\\n    33     16     31          1\\n    34     16     32          1\\n    35     17     33          1\\n    36     18     34          1\\n    37     18     35          1\\n    38     18     36          1\\n    39     19     37          1\\n    40     19     38          1\\n    41     19     39          1\\n    42     20     40          1\\n    43     21     41          1\\n    44     21     42          1\\n    45     21     43          1\\n    46     22     44          1\\n    47     22     45          1\\n    48     22     46          1\\n    49     47     48          1\\n    50     48     49         ar\\n    51     49     50         ar\\n    52     50     51         ar\\n    53     51     52         ar\\n    54     52     53         ar\\n    55     53     48         ar\\n    56     47     54          1\\n    57     47     55          1\\n    58     49     56          1\\n    59     50     57          1\\n    60     51     58          1\\n    61     52     59          1\\n    62     53     60          1\\n    63     10     47          1\\n    64     61     62          1\\n    65     62     63         ar\\n    66     63     64         ar\\n    67     64     65         ar\\n    68     65     66         ar\\n    69     66     67         ar\\n    70     67     62         ar\\n    71     61     68          1\\n    72     61     69          1\\n    73     63     70          1\\n    74     64     71          1\\n    75     65     72          1\\n    76     66     73          1\\n    77     67     74          1\\n    78      1     61          1\\n\",\"mol2\");\n\tviewer_16874042971700292.setStyle({\"stick\": {\"radius\": 0.1}, \"sphere\": {\"scale\": 0.15}});\n\tviewer_16874042971700292.setHoverable({},true,\"\\n            function(atom,viewer,event,container) {\\n                if(!atom.label) {\\n                    atom.label = viewer.addLabel(atom.elem + atom.serial, {position: atom, backgroundColor: 'mintcream', fontColor:'black'});\\n                }\\n            }\\n            \",\"\\n            function(atom,viewer) { \\n                if(atom.label) {\\n                    viewer.removeLabel(atom.label);\\n                    delete atom.label;\\n                }\\n            }\\n            \");\n\tviewer_16874042971700292.zoomTo();\n\tviewer_16874042971700292.setBackgroundColor(null);\nviewer_16874042971700292.render();\n});\n</script>",
      "text/html": [
       "<div id=\"3dmolviewer_16874042971700292\"  style=\"position: relative; width: 1000px; height: 500px\">\n",
       "        <p id=\"3dmolwarning_16874042971700292\" style=\"background-color:#ffcccc;color:black\">You appear to be running in JupyterLab (or JavaScript failed to load for some other reason).  You need to install the 3dmol extension: <br>\n",
       "        <tt>jupyter labextension install jupyterlab_3dmol</tt></p>\n",
       "        </div>\n",
       "<script>\n",
       "\n",
       "var loadScriptAsync = function(uri){\n",
       "  return new Promise((resolve, reject) => {\n",
       "    //this is to ignore the existence of requirejs amd\n",
       "    var savedexports, savedmodule;\n",
       "    if (typeof exports !== 'undefined') savedexports = exports;\n",
       "    else exports = {}\n",
       "    if (typeof module !== 'undefined') savedmodule = module;\n",
       "    else module = {}\n",
       "\n",
       "    var tag = document.createElement('script');\n",
       "    tag.src = uri;\n",
       "    tag.async = true;\n",
       "    tag.onload = () => {\n",
       "        exports = savedexports;\n",
       "        module = savedmodule;\n",
       "        resolve();\n",
       "    };\n",
       "  var firstScriptTag = document.getElementsByTagName('script')[0];\n",
       "  firstScriptTag.parentNode.insertBefore(tag, firstScriptTag);\n",
       "});\n",
       "};\n",
       "\n",
       "if(typeof $3Dmolpromise === 'undefined') {\n",
       "$3Dmolpromise = null;\n",
       "  $3Dmolpromise = loadScriptAsync('https://cdnjs.cloudflare.com/ajax/libs/3Dmol/2.0.1/3Dmol-min.js');\n",
       "}\n",
       "\n",
       "var viewer_16874042971700292 = null;\n",
       "var warn = document.getElementById(\"3dmolwarning_16874042971700292\");\n",
       "if(warn) {\n",
       "    warn.parentNode.removeChild(warn);\n",
       "}\n",
       "$3Dmolpromise.then(function() {\n",
       "viewer_16874042971700292 = $3Dmol.createViewer(document.getElementById(\"3dmolviewer_16874042971700292\"),{backgroundColor:\"white\"});\n",
       "viewer_16874042971700292.zoomTo();\n",
       "\tviewer_16874042971700292.addModel(\"# Produced with molli package\\n@<TRIPOS>MOLECULE\\n3_6_6\\n74 78 0 0 0\\nSMALL\\nUSER_CHARGES\\n\\n@<TRIPOS>ATOM\\n     1 C      -0.019400    -0.073600     0.637300 C.3        1 UNL1 0.0\\n     2 C       0.805000     1.101200     0.075400 C.3        1 UNL1 0.0\\n     3 O      -0.044200     2.230700     0.404700 O.2        1 UNL1 0.0\\n     4 C      -1.299600     1.780500     0.362300 C.2        1 UNL1 0.0\\n     5 N      -1.369600     0.505400     0.338600 N.2        1 UNL1 0.0\\n     6 C      -2.506400     2.656700     0.341300 C.3        1 UNL1 0.0\\n     7 C      -3.762000     1.842000     0.308900 C.2        1 UNL1 0.0\\n     8 O      -4.947800     2.334800     0.660200 O.2        1 UNL1 0.0\\n     9 C      -5.790500     1.209300     0.977000 C.3        1 UNL1 0.0\\n    10 C      -5.224000     0.100200     0.062400 C.3        1 UNL1 0.0\\n    11 N      -3.805900     0.606300    -0.015700 N.2        1 UNL1 0.0\\n    12 C      -2.553000    -0.165800    -0.305400 C.3        1 UNL1 0.0\\n    13 BR     -2.173300    -0.022500    -2.259000 Br         1 UNL1 0.0\\n    14 BR     -2.709600    -2.044100     0.136100 Br         1 UNL1 0.0\\n    15 C      -2.494300     3.487700     1.635600 C.3        1 UNL1 0.0\\n    16 C      -2.467500     3.588600    -0.872300 C.3        1 UNL1 0.0\\n    17 C      -7.276200     1.587800     0.881600 C.3        1 UNL1 0.0\\n    18 C      -8.169900     0.421000     1.304200 C.3        1 UNL1 0.0\\n    19 C      -7.584500     2.808700     1.758600 C.3        1 UNL1 0.0\\n    20 C       2.270300     1.351000     0.472900 C.3        1 UNL1 0.0\\n    21 C       3.138600     0.115000     0.249700 C.3        1 UNL1 0.0\\n    22 C       2.500600     1.951500     1.859600 C.3        1 UNL1 0.0\\n    23 H       0.134500    -1.003300     0.082600 H          1 UNL1 0.0\\n    24 H       0.798800     1.030400    -1.024700 H          1 UNL1 0.0\\n    25 H      -5.571300     0.953800     2.024900 H          1 UNL1 0.0\\n    26 H      -5.256500    -0.851800     0.596400 H          1 UNL1 0.0\\n    27 H      -2.560900     2.842200     2.520300 H          1 UNL1 0.0\\n    28 H      -3.339000     4.184600     1.674400 H          1 UNL1 0.0\\n    29 H      -1.574300     4.076800     1.727600 H          1 UNL1 0.0\\n    30 H      -3.366100     4.214700    -0.918500 H          1 UNL1 0.0\\n    31 H      -1.599700     4.254900    -0.834000 H          1 UNL1 0.0\\n    32 H      -2.414400     3.031800    -1.813800 H          1 UNL1 0.0\\n    33 H      -7.521500     1.884300    -0.145300 H          1 UNL1 0.0\\n    34 H      -9.226700     0.696500     1.232400 H          1 UNL1 0.0\\n    35 H      -7.971600     0.126900     2.340600 H          1 UNL1 0.0\\n    36 H      -8.016300    -0.460000     0.673900 H          1 UNL1 0.0\\n    37 H      -8.647800     3.065900     1.704600 H          1 UNL1 0.0\\n    38 H      -7.333600     2.618200     2.807600 H          1 UNL1 0.0\\n    39 H      -7.021200     3.686300     1.427300 H          1 UNL1 0.0\\n    40 H       2.631700     2.123600    -0.221500 H          1 UNL1 0.0\\n    41 H       2.874800    -0.700000     0.929200 H          1 UNL1 0.0\\n    42 H       3.034000    -0.254000    -0.776300 H          1 UNL1 0.0\\n    43 H       4.195600     0.351600     0.409300 H          1 UNL1 0.0\\n    44 H       3.535300     2.302700     1.945400 H          1 UNL1 0.0\\n    45 H       2.349500     1.229700     2.663600 H          1 UNL1 0.0\\n    46 H       1.851800     2.814300     2.035600 H          1 UNL1 0.0\\n    47 C      -5.866700     0.050900    -1.339800 C.3        1 UNL1 0.0\\n    48 C      -5.578000    -1.204200    -2.126200 C.ar       1 UNL1 0.0\\n    49 C      -5.184100    -1.113900    -3.469000 C.ar       1 UNL1 0.0\\n    50 C      -4.919100    -2.265800    -4.212100 C.ar       1 UNL1 0.0\\n    51 C      -5.076300    -3.521600    -3.634400 C.ar       1 UNL1 0.0\\n    52 C      -5.527000    -3.627900    -2.322500 C.ar       1 UNL1 0.0\\n    53 C      -5.793500    -2.477500    -1.576700 C.ar       1 UNL1 0.0\\n    54 H      -6.958700     0.089200    -1.269800 H          1 UNL1 0.0\\n    55 H      -5.568400     0.933100    -1.922200 H          1 UNL1 0.0\\n    56 H      -5.091900    -0.151400    -3.971300 H          1 UNL1 0.0\\n    57 H      -4.615400    -2.187700    -5.254800 H          1 UNL1 0.0\\n    58 H      -4.888200    -4.418800    -4.222100 H          1 UNL1 0.0\\n    59 H      -5.699600    -4.613900    -1.892700 H          1 UNL1 0.0\\n    60 H      -6.199900    -2.611400    -0.576400 H          1 UNL1 0.0\\n    61 C       0.145700    -0.231800     2.167700 C.3        1 UNL1 0.0\\n    62 C      -0.865300    -1.105700     2.861400 C.ar       1 UNL1 0.0\\n    63 C      -1.940700    -0.538000     3.564500 C.ar       1 UNL1 0.0\\n    64 C      -2.871500    -1.354700     4.208900 C.ar       1 UNL1 0.0\\n    65 C      -2.729300    -2.740200     4.168000 C.ar       1 UNL1 0.0\\n    66 C      -1.647100    -3.310900     3.501000 C.ar       1 UNL1 0.0\\n    67 C      -0.713800    -2.499300     2.854000 C.ar       1 UNL1 0.0\\n    68 H       1.137700    -0.643100     2.385800 H          1 UNL1 0.0\\n    69 H       0.119000     0.749600     2.659900 H          1 UNL1 0.0\\n    70 H      -2.031500     0.539800     3.686900 H          1 UNL1 0.0\\n    71 H      -3.679400    -0.920100     4.796600 H          1 UNL1 0.0\\n    72 H      -3.435200    -3.379900     4.697800 H          1 UNL1 0.0\\n    73 H      -1.517700    -4.392800     3.509100 H          1 UNL1 0.0\\n    74 H       0.138300    -2.975000     2.369300 H          1 UNL1 0.0\\n@<TRIPOS>BOND\\n     1      1      2          1\\n     2      2      3          1\\n     3      3      4          1\\n     4      4      5          2\\n     5      5      1          1\\n     6      4      6          1\\n     7      6      7          1\\n     8      7      8          1\\n     9      8      9          1\\n    10      9     10          1\\n    11     10     11          1\\n    12     11      7          2\\n    13     11     12          1\\n    14     12      5          1\\n    15     12     13          1\\n    16     12     14          1\\n    17      6     15          1\\n    18      6     16          1\\n    19     17     18          1\\n    20     17     19          1\\n    21      9     17          1\\n    22     20     21          1\\n    23     20     22          1\\n    24      2     20          1\\n    25      1     23          1\\n    26      2     24          1\\n    27      9     25          1\\n    28     10     26          1\\n    29     15     27          1\\n    30     15     28          1\\n    31     15     29          1\\n    32     16     30          1\\n    33     16     31          1\\n    34     16     32          1\\n    35     17     33          1\\n    36     18     34          1\\n    37     18     35          1\\n    38     18     36          1\\n    39     19     37          1\\n    40     19     38          1\\n    41     19     39          1\\n    42     20     40          1\\n    43     21     41          1\\n    44     21     42          1\\n    45     21     43          1\\n    46     22     44          1\\n    47     22     45          1\\n    48     22     46          1\\n    49     47     48          1\\n    50     48     49         ar\\n    51     49     50         ar\\n    52     50     51         ar\\n    53     51     52         ar\\n    54     52     53         ar\\n    55     53     48         ar\\n    56     47     54          1\\n    57     47     55          1\\n    58     49     56          1\\n    59     50     57          1\\n    60     51     58          1\\n    61     52     59          1\\n    62     53     60          1\\n    63     10     47          1\\n    64     61     62          1\\n    65     62     63         ar\\n    66     63     64         ar\\n    67     64     65         ar\\n    68     65     66         ar\\n    69     66     67         ar\\n    70     67     62         ar\\n    71     61     68          1\\n    72     61     69          1\\n    73     63     70          1\\n    74     64     71          1\\n    75     65     72          1\\n    76     66     73          1\\n    77     67     74          1\\n    78      1     61          1\\n\",\"mol2\");\n",
       "\tviewer_16874042971700292.setStyle({\"stick\": {\"radius\": 0.1}, \"sphere\": {\"scale\": 0.15}});\n",
       "\tviewer_16874042971700292.setHoverable({},true,\"\\n            function(atom,viewer,event,container) {\\n                if(!atom.label) {\\n                    atom.label = viewer.addLabel(atom.elem + atom.serial, {position: atom, backgroundColor: 'mintcream', fontColor:'black'});\\n                }\\n            }\\n            \",\"\\n            function(atom,viewer) { \\n                if(atom.label) {\\n                    viewer.removeLabel(atom.label);\\n                    delete atom.label;\\n                }\\n            }\\n            \");\n",
       "\tviewer_16874042971700292.zoomTo();\n",
       "\tviewer_16874042971700292.setBackgroundColor(null);\n",
       "viewer_16874042971700292.render();\n",
       "});\n",
       "</script>"
      ]
     },
     "metadata": {},
     "output_type": "display_data"
    },
    {
     "data": {
      "text/plain": [
       "Conformer(name='3_6_6', formula='C30 H38 Br2 N2 O2')"
      ]
     },
     "execution_count": 16,
     "metadata": {},
     "output_type": "execute_result"
    }
   ],
   "source": [
    "clib['3_6_6'][24]"
   ]
  },
  {
   "attachments": {},
   "cell_type": "markdown",
   "metadata": {},
   "source": [
    "# 4. ASO descriptor calculation"
   ]
  },
  {
   "cell_type": "code",
   "execution_count": 17,
   "metadata": {},
   "outputs": [
    {
     "name": "stdout",
     "output_type": "stream",
     "text": [
      "(7106, 3)\n"
     ]
    },
    {
     "name": "stderr",
     "output_type": "stream",
     "text": [
      "100%|██████████| 75/75 [00:00<00:00, 1676.67it/s]\n"
     ]
    },
    {
     "data": {
      "text/plain": [
       "CompletedProcess(args=['molli', 'grid', '--mlib', './ncsa-testing-output/test_conformers_new_env.mlib', '-o', './ncsa-testing-output/grid_new_env.npy'], returncode=0)"
      ]
     },
     "execution_count": 17,
     "metadata": {},
     "output_type": "execute_result"
    }
   ],
   "source": [
    "# first we make a grid for calculating aso\n",
    "subprocess.run(['molli', \n",
    "                'grid', \n",
    "                '--mlib', \n",
    "                f'{out_dir}test_conformers_new_env.mlib', \n",
    "                '-o', \n",
    "                f'{out_dir}grid_new_env.npy'\n",
    "                ])"
   ]
  },
  {
   "cell_type": "code",
   "execution_count": 18,
   "metadata": {},
   "outputs": [
    {
     "name": "stdout",
     "output_type": "stream",
     "text": [
      "Allocating storage for descriptors\n",
      "Will compute descriptor ASO using 128 cores.\n",
      "Grid shape: (7106, 3)\n"
     ]
    },
    {
     "name": "stderr",
     "output_type": "stream",
     "text": [
      "Loading batches of conformers:   0%|          | 0/1 [00:00<?, ?it/s]\n",
      "Submitting calculations:   0%|          | 0/75 [00:00<?, ?it/s]\u001b[A\n",
      "Submitting calculations:   0%|          | 0/75 [00:00<?, ?it/s]\u001b[A\n",
      "Submitting calculations:   5%|▌         | 4/75 [00:00<00:02, 27.85it/s]\u001b[A\n",
      "Submitting calculations:  12%|█▏        | 9/75 [00:01<00:02, 25.52it/s]\u001b[A\n",
      "Submitting calculations:  17%|█▋        | 13/75 [00:01<00:03, 16.67it/s]\u001b[A\n",
      "Submitting calculations:  20%|██        | 15/75 [00:01<00:05, 10.15it/s]\u001b[A\n",
      "Submitting calculations:  23%|██▎       | 17/75 [00:02<00:08,  7.08it/s]\u001b[A\n",
      "Submitting calculations:  25%|██▌       | 19/75 [00:02<00:07,  7.03it/s]\u001b[A\n",
      "Submitting calculations:  32%|███▏      | 24/75 [00:03<00:06,  7.33it/s]\u001b[A\n",
      "Submitting calculations:  37%|███▋      | 28/75 [00:04<00:07,  6.16it/s]\u001b[A\n",
      "Submitting calculations:  39%|███▊      | 29/75 [00:05<00:13,  3.31it/s]\u001b[A\n",
      "Submitting calculations:  44%|████▍     | 33/75 [00:05<00:09,  4.54it/s]\u001b[A\n",
      "Submitting calculations:  52%|█████▏    | 39/75 [00:06<00:05,  6.06it/s]\u001b[A\n",
      "Submitting calculations:  56%|█████▌    | 42/75 [00:07<00:06,  4.81it/s]\u001b[A\n",
      "Submitting calculations:  65%|██████▌   | 49/75 [00:08<00:04,  6.21it/s]\u001b[A\n",
      "Submitting calculations:  72%|███████▏  | 54/75 [00:09<00:03,  6.21it/s]\u001b[A\n",
      "Submitting calculations:  81%|████████▏ | 61/75 [00:09<00:01,  7.03it/s]\u001b[A\n",
      "Submitting calculations:  85%|████████▌ | 64/75 [00:10<00:01,  6.29it/s]\u001b[A\n",
      "Submitting calculations:  87%|████████▋ | 65/75 [00:12<00:02,  3.53it/s]\u001b[A\n",
      "                                                                        \u001b[A\n",
      "\n",
      "Gathering calculation results:   0%|          | 0/75 [00:00<?, ?it/s]\u001b[A\u001b[A\n",
      "\n",
      "Loading batches of conformers: 100%|██████████| 1/1 [00:13<00:00, 13.55s/it]\n"
     ]
    },
    {
     "data": {
      "text/plain": [
       "CompletedProcess(args=['molli', 'gbca', 'aso', './ncsa-testing-output/test_conformers_new_env.mlib', '-g', './ncsa-testing-output/grid_new_env.npy', '-o', './ncsa-testing-output/aso_new_env.h5'], returncode=0)"
      ]
     },
     "execution_count": 18,
     "metadata": {},
     "output_type": "execute_result"
    }
   ],
   "source": [
    "# calculate aso\n",
    "subprocess.run(['molli', \n",
    "                'gbca', \n",
    "                'aso', \n",
    "                f'{out_dir}test_conformers_new_env.mlib', \n",
    "                '-g', \n",
    "                f'{out_dir}grid_new_env.npy', \n",
    "                '-o', \n",
    "                f'{out_dir}aso_new_env.h5'\n",
    "                ])\n",
    "# tqdm looks messed up"
   ]
  },
  {
   "attachments": {},
   "cell_type": "markdown",
   "metadata": {},
   "source": [
    "# 5. post-processing, dimensionaltiy reduction, clustering analysis"
   ]
  },
  {
   "cell_type": "code",
   "execution_count": 19,
   "metadata": {},
   "outputs": [
    {
     "name": "stderr",
     "output_type": "stream",
     "text": [
      "100%|██████████| 75/75 [00:00<00:00, 4520.63it/s]\n"
     ]
    },
    {
     "name": "stdout",
     "output_type": "stream",
     "text": [
      "shape of data after variance threshold: (75, 3792)\n",
      "total variance after variance threshold: 62.84\n",
      "\n",
      "shape of data after removing correlated columns (R > 0.8): (75, 249)\n",
      "total variance after removing correlated columns (R > 0.8): 3.42\n",
      "\n"
     ]
    },
    {
     "data": {
      "text/plain": [
       "CompletedProcess(args=['molli', 'cluster', './ncsa-testing-output/aso_new_env.h5', '-o', './ncsa-testing-output/new_env_data_test.json', '-v', '0', '-c', '0.8'], returncode=0)"
      ]
     },
     "execution_count": 19,
     "metadata": {},
     "output_type": "execute_result"
    }
   ],
   "source": [
    "subprocess.run(\n",
    "     [ \n",
    "         'molli', \n",
    "         'cluster', \n",
    "         f'{out_dir}aso_new_env.h5', \n",
    "         '-o', \n",
    "         f'{out_dir}new_env_data_test.json', \n",
    "         '-v', # variance threshold before doing clustering\n",
    "         '0', # remove 0 variance columns\n",
    "         '-c', # correlation cutoff before clustering\n",
    "         '0.8', # 0.8 by default\n",
    "     ]\n",
    " )"
   ]
  },
  {
   "cell_type": "code",
   "execution_count": 21,
   "metadata": {},
   "outputs": [
    {
     "name": "stderr",
     "output_type": "stream",
     "text": [
      "100%|██████████| 75/75 [00:00<00:00, 4635.14it/s]\n"
     ]
    },
    {
     "name": "stdout",
     "output_type": "stream",
     "text": [
      "shape of data after variance threshold: (75, 3792)\n",
      "total variance after variance threshold: 62.84\n",
      "\n",
      "shape of data after removing correlated columns (R > 0.8): (75, 249)\n",
      "total variance after removing correlated columns (R > 0.8): 3.42\n",
      "\n"
     ]
    },
    {
     "data": {
      "text/plain": [
       "CompletedProcess(args=['molli', 'cluster', './ncsa-testing-output/aso_new_env.h5', '-o', './ncsa-testing-output/new_env_data_pca.json', '-m', 'pca', '-v', '0', '-c', '0.8'], returncode=0)"
      ]
     },
     "execution_count": 21,
     "metadata": {},
     "output_type": "execute_result"
    }
   ],
   "source": [
    "subprocess.run(\n",
    "     [ \n",
    "         'molli', \n",
    "         'cluster', \n",
    "         f'{out_dir}aso_new_env.h5', \n",
    "         '-o', \n",
    "         f'{out_dir}new_env_data_pca.json', \n",
    "         '-m',\n",
    "         'pca',\n",
    "         '-v', # variance threshold before doing clustering\n",
    "         '0', # remove 0 variance columns\n",
    "         '-c', # correlation cutoff before clustering\n",
    "         '0.8', # 0.8 by default\n",
    "     ]\n",
    " )"
   ]
  }
 ],
 "metadata": {
  "kernelspec": {
   "display_name": "NCSA-workflow-dev",
   "language": "python",
   "name": "python3"
  },
  "language_info": {
   "codemirror_mode": {
    "name": "ipython",
    "version": 3
   },
   "file_extension": ".py",
   "mimetype": "text/x-python",
   "name": "python",
   "nbconvert_exporter": "python",
   "pygments_lexer": "ipython3",
   "version": "3.11.4"
  },
  "orig_nbformat": 4
 },
 "nbformat": 4,
 "nbformat_minor": 2
}
