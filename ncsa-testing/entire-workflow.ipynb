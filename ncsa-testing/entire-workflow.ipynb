{
 "cells": [
  {
   "attachments": {},
   "cell_type": "markdown",
   "metadata": {},
   "source": [
    "To-Do: entire workflow\n",
    "chemdraw parse -> combinatorial expansion -> conformer generation -> aso description -> post-processing/dimension-reduction/analysis -> plot/output data"
   ]
  },
  {
   "cell_type": "code",
   "execution_count": 5,
   "metadata": {},
   "outputs": [],
   "source": [
    "import molli as ml\n",
    "import molli.visual\n",
    "import subprocess\n",
    "import os\n",
    "\n",
    "# This is a failsafe in case openbabel aint installed\n",
    "import openbabel"
   ]
  },
  {
   "cell_type": "code",
   "execution_count": 6,
   "metadata": {},
   "outputs": [],
   "source": [
    "# these are the chemdraw files that the user passes in\n",
    "cores = ml.files.box_cores_test_1\n",
    "subs = ml.files.box_substituents_test_1"
   ]
  },
  {
   "attachments": {},
   "cell_type": "markdown",
   "metadata": {},
   "source": [
    "# Make output directory - this is where everything relevant gets saved"
   ]
  },
  {
   "cell_type": "code",
   "execution_count": 7,
   "metadata": {},
   "outputs": [],
   "source": [
    "# create output directory if it doesn't exist\n",
    "out_dir = './ncsa-testing-output/'\n",
    "if not os.path.exists(out_dir):\n",
    "    os.makedirs(out_dir)"
   ]
  },
  {
   "attachments": {},
   "cell_type": "markdown",
   "metadata": {},
   "source": [
    "# 1. ChemDraw Parsing"
   ]
  },
  {
   "cell_type": "code",
   "execution_count": 8,
   "metadata": {},
   "outputs": [
    {
     "name": "stderr",
     "output_type": "stream",
     "text": [
      "100%|██████████| 5/5 [00:00<00:00, 83.30it/s]\n",
      "100%|██████████| 15/15 [00:00<00:00, 296.15it/s]\n"
     ]
    },
    {
     "data": {
      "text/plain": [
       "CompletedProcess(args=['molli', 'parse', '--hadd', '/home/ethangm2/NCSA Development/molli/molli/files/BOX_substituents_test_1.cdxml', '-o', './ncsa-testing-output/BOX_subs_new_env.mlib', '--overwrite'], returncode=0)"
      ]
     },
     "execution_count": 8,
     "metadata": {},
     "output_type": "execute_result"
    }
   ],
   "source": [
    "# parse the files\n",
    "subprocess.run(['molli', 'parse', '--hadd', f'{cores}', '-o', f'{out_dir}BOX_cores_new_env.mlib', \"--overwrite\"])\n",
    "subprocess.run(['molli', 'parse', '--hadd', f'{subs}', '-o', f'{out_dir}BOX_subs_new_env.mlib', \"--overwrite\"])"
   ]
  },
  {
   "cell_type": "code",
   "execution_count": 9,
   "metadata": {},
   "outputs": [
    {
     "name": "stdout",
     "output_type": "stream",
     "text": [
      "5\n"
     ]
    },
    {
     "data": {
      "application/3dmoljs_load.v0": "<div id=\"3dmolviewer_1687204325117932\"  style=\"position: relative; width: 1000px; height: 500px\">\n        <p id=\"3dmolwarning_1687204325117932\" style=\"background-color:#ffcccc;color:black\">You appear to be running in JupyterLab (or JavaScript failed to load for some other reason).  You need to install the 3dmol extension: <br>\n        <tt>jupyter labextension install jupyterlab_3dmol</tt></p>\n        </div>\n<script>\n\nvar loadScriptAsync = function(uri){\n  return new Promise((resolve, reject) => {\n    //this is to ignore the existence of requirejs amd\n    var savedexports, savedmodule;\n    if (typeof exports !== 'undefined') savedexports = exports;\n    else exports = {}\n    if (typeof module !== 'undefined') savedmodule = module;\n    else module = {}\n\n    var tag = document.createElement('script');\n    tag.src = uri;\n    tag.async = true;\n    tag.onload = () => {\n        exports = savedexports;\n        module = savedmodule;\n        resolve();\n    };\n  var firstScriptTag = document.getElementsByTagName('script')[0];\n  firstScriptTag.parentNode.insertBefore(tag, firstScriptTag);\n});\n};\n\nif(typeof $3Dmolpromise === 'undefined') {\n$3Dmolpromise = null;\n  $3Dmolpromise = loadScriptAsync('https://cdnjs.cloudflare.com/ajax/libs/3Dmol/2.0.1/3Dmol-min.js');\n}\n\nvar viewer_1687204325117932 = null;\nvar warn = document.getElementById(\"3dmolwarning_1687204325117932\");\nif(warn) {\n    warn.parentNode.removeChild(warn);\n}\n$3Dmolpromise.then(function() {\nviewer_1687204325117932 = $3Dmol.createViewer(document.getElementById(\"3dmolviewer_1687204325117932\"),{backgroundColor:\"white\"});\nviewer_1687204325117932.zoomTo();\n\tviewer_1687204325117932.addModel(\"# Produced with molli package\\n@<TRIPOS>MOLECULE\\n1\\n30 32 0 0 0\\nSMALL\\nUSER_CHARGES\\n\\n@<TRIPOS>ATOM\\n     1 C       2.653877    -0.900810     0.000000 C          1 UNL1 0.0\\n     2 C       3.535127     0.312731     0.000000 C          1 UNL1 0.0\\n     3 O       2.653877     1.526273     0.000000 O          1 UNL1 0.0\\n     4 C       1.226794     1.062732     0.000000 C          1 UNL1 0.0\\n     5 N       1.226794    -0.437269     0.000000 N          1 UNL1 0.0\\n     6 C      -0.072164     1.812732     0.000000 C          1 UNL1 0.0\\n     7 C      -1.371123     1.062732     0.000000 C          1 UNL1 0.0\\n     8 O      -2.798206     1.526273     0.000000 O          1 UNL1 0.0\\n     9 C      -3.679456     0.312731     0.000000 C          1 UNL1 0.0\\n    10 C      -2.798206    -0.900810     0.000000 C          1 UNL1 0.0\\n    11 N      -1.371123    -0.437269     0.000000 N          1 UNL1 0.0\\n    12 A1     -3.029977    -1.614352    -1.299453 Unknown    1 UNL1 0.0\\n    13 A1      2.885648    -1.614352     1.299453 Unknown    1 UNL1 0.0\\n    14 C      -0.072164    -1.187268     0.000000 C          1 UNL1 0.0\\n    15 Br     -0.072164    -1.187268     1.499931 Br         1 UNL1 0.0\\n    16 Br      0.677836    -2.486227     0.000000 Br         1 UNL1 0.0\\n    17 C      -0.072164     1.812732     1.500000 C          1 UNL1 0.0\\n    18 C       1.226794     2.562732     0.000000 C          1 UNL1 0.0\\n    19 H       2.859825    -1.534673    -0.837080 H          1 UNL1 0.0\\n    20 H       4.148880     0.312731     0.876544 H          1 UNL1 0.0\\n    21 H       4.148880     0.312731    -0.876544 H          1 UNL1 0.0\\n    22 H      -4.293208     0.312731     0.876544 H          1 UNL1 0.0\\n    23 H      -4.293208     0.312731    -0.876544 H          1 UNL1 0.0\\n    24 H      -3.004154    -1.534673     0.837080 H          1 UNL1 0.0\\n    25 H      -0.510399     0.904085     1.856667 H          1 UNL1 0.0\\n    26 H      -0.639958     2.646577     1.856667 H          1 UNL1 0.0\\n    27 H       0.933864     1.887533     1.856667 H          1 UNL1 0.0\\n    28 H       1.787896     2.304234     0.873638 H          1 UNL1 0.0\\n    29 H       1.031246     3.614711     0.000027 H          1 UNL1 0.0\\n    30 H       1.787873     2.304274    -0.873665 H          1 UNL1 0.0\\n@<TRIPOS>BOND\\n     1      1      2          1\\n     2      2      3          1\\n     3      3      4          1\\n     4      4      5          2\\n     5      5      1          1\\n     6      4      6          1\\n     7      6      7          1\\n     8      7      8          1\\n     9      8      9          1\\n    10      9     10          1\\n    11     10     11          1\\n    12     11      7          2\\n    13     10     12          1\\n    14      1     13          1\\n    15     11     14          1\\n    16     14      5          1\\n    17     14     15          1\\n    18     14     16          1\\n    19      6     17          1\\n    20      6     18          1\\n    21      1     19          1\\n    22      2     20          1\\n    23      2     21          1\\n    24      9     22          1\\n    25      9     23          1\\n    26     10     24          1\\n    27     17     25          1\\n    28     17     26          1\\n    29     17     27          1\\n    30     18     28          1\\n    31     18     29          1\\n    32     18     30          1\\n\",\"mol2\");\n\tviewer_1687204325117932.setStyle({\"stick\": {\"radius\": 0.1}, \"sphere\": {\"scale\": 0.15}});\n\tviewer_1687204325117932.setHoverable({},true,\"\\n            function(atom,viewer,event,container) {\\n                if(!atom.label) {\\n                    atom.label = viewer.addLabel(atom.elem + atom.serial, {position: atom, backgroundColor: 'mintcream', fontColor:'black'});\\n                }\\n            }\\n            \",\"\\n            function(atom,viewer) { \\n                if(atom.label) {\\n                    viewer.removeLabel(atom.label);\\n                    delete atom.label;\\n                }\\n            }\\n            \");\n\tviewer_1687204325117932.zoomTo();\n\tviewer_1687204325117932.setBackgroundColor(null);\nviewer_1687204325117932.render();\n});\n</script>",
      "text/html": [
       "<div id=\"3dmolviewer_1687204325117932\"  style=\"position: relative; width: 1000px; height: 500px\">\n",
       "        <p id=\"3dmolwarning_1687204325117932\" style=\"background-color:#ffcccc;color:black\">You appear to be running in JupyterLab (or JavaScript failed to load for some other reason).  You need to install the 3dmol extension: <br>\n",
       "        <tt>jupyter labextension install jupyterlab_3dmol</tt></p>\n",
       "        </div>\n",
       "<script>\n",
       "\n",
       "var loadScriptAsync = function(uri){\n",
       "  return new Promise((resolve, reject) => {\n",
       "    //this is to ignore the existence of requirejs amd\n",
       "    var savedexports, savedmodule;\n",
       "    if (typeof exports !== 'undefined') savedexports = exports;\n",
       "    else exports = {}\n",
       "    if (typeof module !== 'undefined') savedmodule = module;\n",
       "    else module = {}\n",
       "\n",
       "    var tag = document.createElement('script');\n",
       "    tag.src = uri;\n",
       "    tag.async = true;\n",
       "    tag.onload = () => {\n",
       "        exports = savedexports;\n",
       "        module = savedmodule;\n",
       "        resolve();\n",
       "    };\n",
       "  var firstScriptTag = document.getElementsByTagName('script')[0];\n",
       "  firstScriptTag.parentNode.insertBefore(tag, firstScriptTag);\n",
       "});\n",
       "};\n",
       "\n",
       "if(typeof $3Dmolpromise === 'undefined') {\n",
       "$3Dmolpromise = null;\n",
       "  $3Dmolpromise = loadScriptAsync('https://cdnjs.cloudflare.com/ajax/libs/3Dmol/2.0.1/3Dmol-min.js');\n",
       "}\n",
       "\n",
       "var viewer_1687204325117932 = null;\n",
       "var warn = document.getElementById(\"3dmolwarning_1687204325117932\");\n",
       "if(warn) {\n",
       "    warn.parentNode.removeChild(warn);\n",
       "}\n",
       "$3Dmolpromise.then(function() {\n",
       "viewer_1687204325117932 = $3Dmol.createViewer(document.getElementById(\"3dmolviewer_1687204325117932\"),{backgroundColor:\"white\"});\n",
       "viewer_1687204325117932.zoomTo();\n",
       "\tviewer_1687204325117932.addModel(\"# Produced with molli package\\n@<TRIPOS>MOLECULE\\n1\\n30 32 0 0 0\\nSMALL\\nUSER_CHARGES\\n\\n@<TRIPOS>ATOM\\n     1 C       2.653877    -0.900810     0.000000 C          1 UNL1 0.0\\n     2 C       3.535127     0.312731     0.000000 C          1 UNL1 0.0\\n     3 O       2.653877     1.526273     0.000000 O          1 UNL1 0.0\\n     4 C       1.226794     1.062732     0.000000 C          1 UNL1 0.0\\n     5 N       1.226794    -0.437269     0.000000 N          1 UNL1 0.0\\n     6 C      -0.072164     1.812732     0.000000 C          1 UNL1 0.0\\n     7 C      -1.371123     1.062732     0.000000 C          1 UNL1 0.0\\n     8 O      -2.798206     1.526273     0.000000 O          1 UNL1 0.0\\n     9 C      -3.679456     0.312731     0.000000 C          1 UNL1 0.0\\n    10 C      -2.798206    -0.900810     0.000000 C          1 UNL1 0.0\\n    11 N      -1.371123    -0.437269     0.000000 N          1 UNL1 0.0\\n    12 A1     -3.029977    -1.614352    -1.299453 Unknown    1 UNL1 0.0\\n    13 A1      2.885648    -1.614352     1.299453 Unknown    1 UNL1 0.0\\n    14 C      -0.072164    -1.187268     0.000000 C          1 UNL1 0.0\\n    15 Br     -0.072164    -1.187268     1.499931 Br         1 UNL1 0.0\\n    16 Br      0.677836    -2.486227     0.000000 Br         1 UNL1 0.0\\n    17 C      -0.072164     1.812732     1.500000 C          1 UNL1 0.0\\n    18 C       1.226794     2.562732     0.000000 C          1 UNL1 0.0\\n    19 H       2.859825    -1.534673    -0.837080 H          1 UNL1 0.0\\n    20 H       4.148880     0.312731     0.876544 H          1 UNL1 0.0\\n    21 H       4.148880     0.312731    -0.876544 H          1 UNL1 0.0\\n    22 H      -4.293208     0.312731     0.876544 H          1 UNL1 0.0\\n    23 H      -4.293208     0.312731    -0.876544 H          1 UNL1 0.0\\n    24 H      -3.004154    -1.534673     0.837080 H          1 UNL1 0.0\\n    25 H      -0.510399     0.904085     1.856667 H          1 UNL1 0.0\\n    26 H      -0.639958     2.646577     1.856667 H          1 UNL1 0.0\\n    27 H       0.933864     1.887533     1.856667 H          1 UNL1 0.0\\n    28 H       1.787896     2.304234     0.873638 H          1 UNL1 0.0\\n    29 H       1.031246     3.614711     0.000027 H          1 UNL1 0.0\\n    30 H       1.787873     2.304274    -0.873665 H          1 UNL1 0.0\\n@<TRIPOS>BOND\\n     1      1      2          1\\n     2      2      3          1\\n     3      3      4          1\\n     4      4      5          2\\n     5      5      1          1\\n     6      4      6          1\\n     7      6      7          1\\n     8      7      8          1\\n     9      8      9          1\\n    10      9     10          1\\n    11     10     11          1\\n    12     11      7          2\\n    13     10     12          1\\n    14      1     13          1\\n    15     11     14          1\\n    16     14      5          1\\n    17     14     15          1\\n    18     14     16          1\\n    19      6     17          1\\n    20      6     18          1\\n    21      1     19          1\\n    22      2     20          1\\n    23      2     21          1\\n    24      9     22          1\\n    25      9     23          1\\n    26     10     24          1\\n    27     17     25          1\\n    28     17     26          1\\n    29     17     27          1\\n    30     18     28          1\\n    31     18     29          1\\n    32     18     30          1\\n\",\"mol2\");\n",
       "\tviewer_1687204325117932.setStyle({\"stick\": {\"radius\": 0.1}, \"sphere\": {\"scale\": 0.15}});\n",
       "\tviewer_1687204325117932.setHoverable({},true,\"\\n            function(atom,viewer,event,container) {\\n                if(!atom.label) {\\n                    atom.label = viewer.addLabel(atom.elem + atom.serial, {position: atom, backgroundColor: 'mintcream', fontColor:'black'});\\n                }\\n            }\\n            \",\"\\n            function(atom,viewer) { \\n                if(atom.label) {\\n                    viewer.removeLabel(atom.label);\\n                    delete atom.label;\\n                }\\n            }\\n            \");\n",
       "\tviewer_1687204325117932.zoomTo();\n",
       "\tviewer_1687204325117932.setBackgroundColor(null);\n",
       "viewer_1687204325117932.render();\n",
       "});\n",
       "</script>"
      ]
     },
     "metadata": {},
     "output_type": "display_data"
    },
    {
     "data": {
      "text/plain": [
       "Molecule(name='1', formula='C10 H12 Br2 N2 O2 Unknown2')"
      ]
     },
     "execution_count": 9,
     "metadata": {},
     "output_type": "execute_result"
    }
   ],
   "source": [
    "m_core = ml.MoleculeLibrary(f'{out_dir}BOX_cores_new_env.mlib')\n",
    "print(len(m_core))\n",
    "# you can index fragments directly with the string they are lablled with in the chemdraw\n",
    "m_core['1']"
   ]
  },
  {
   "cell_type": "code",
   "execution_count": 10,
   "metadata": {},
   "outputs": [
    {
     "name": "stdout",
     "output_type": "stream",
     "text": [
      "15\n"
     ]
    },
    {
     "data": {
      "application/3dmoljs_load.v0": "<div id=\"3dmolviewer_16872043251408918\"  style=\"position: relative; width: 1000px; height: 500px\">\n        <p id=\"3dmolwarning_16872043251408918\" style=\"background-color:#ffcccc;color:black\">You appear to be running in JupyterLab (or JavaScript failed to load for some other reason).  You need to install the 3dmol extension: <br>\n        <tt>jupyter labextension install jupyterlab_3dmol</tt></p>\n        </div>\n<script>\n\nvar loadScriptAsync = function(uri){\n  return new Promise((resolve, reject) => {\n    //this is to ignore the existence of requirejs amd\n    var savedexports, savedmodule;\n    if (typeof exports !== 'undefined') savedexports = exports;\n    else exports = {}\n    if (typeof module !== 'undefined') savedmodule = module;\n    else module = {}\n\n    var tag = document.createElement('script');\n    tag.src = uri;\n    tag.async = true;\n    tag.onload = () => {\n        exports = savedexports;\n        module = savedmodule;\n        resolve();\n    };\n  var firstScriptTag = document.getElementsByTagName('script')[0];\n  firstScriptTag.parentNode.insertBefore(tag, firstScriptTag);\n});\n};\n\nif(typeof $3Dmolpromise === 'undefined') {\n$3Dmolpromise = null;\n  $3Dmolpromise = loadScriptAsync('https://cdnjs.cloudflare.com/ajax/libs/3Dmol/2.0.1/3Dmol-min.js');\n}\n\nvar viewer_16872043251408918 = null;\nvar warn = document.getElementById(\"3dmolwarning_16872043251408918\");\nif(warn) {\n    warn.parentNode.removeChild(warn);\n}\n$3Dmolpromise.then(function() {\nviewer_16872043251408918 = $3Dmol.createViewer(document.getElementById(\"3dmolviewer_16872043251408918\"),{backgroundColor:\"white\"});\nviewer_16872043251408918.zoomTo();\n\tviewer_16872043251408918.addModel(\"# Produced with molli package\\n@<TRIPOS>MOLECULE\\n3\\n11 10 0 0 0\\nSMALL\\nUSER_CHARGES\\n\\n@<TRIPOS>ATOM\\n     1 C       0.000000     0.000000     0.000000 C          1 UNL1 0.0\\n     2 AP1    -1.298958    -0.750000     0.000000 Unknown    1 UNL1 0.0\\n     3 C       1.299018    -0.750035     0.000000 C          1 UNL1 0.0\\n     4 C       0.000000     1.500000     0.000000 C          1 UNL1 0.0\\n     5 H       0.000000     0.000000    -1.070000 H          1 UNL1 0.0\\n     6 H       1.860120    -0.491537     0.873638 H          1 UNL1 0.0\\n     7 H       1.860097    -0.491577    -0.873665 H          1 UNL1 0.0\\n     8 H       1.103470    -1.802014     0.000027 H          1 UNL1 0.0\\n     9 H       1.008806     1.856667     0.000000 H          1 UNL1 0.0\\n    10 H      -0.504403     1.856667     0.873651 H          1 UNL1 0.0\\n    11 H      -0.504403     1.856667    -0.873651 H          1 UNL1 0.0\\n@<TRIPOS>BOND\\n     1      2      1          1\\n     2      1      3          1\\n     3      1      4          1\\n     4      1      5          1\\n     5      3      6          1\\n     6      3      7          1\\n     7      3      8          1\\n     8      4      9          1\\n     9      4     10          1\\n    10      4     11          1\\n\",\"mol2\");\n\tviewer_16872043251408918.setStyle({\"stick\": {\"radius\": 0.1}, \"sphere\": {\"scale\": 0.15}});\n\tviewer_16872043251408918.setHoverable({},true,\"\\n            function(atom,viewer,event,container) {\\n                if(!atom.label) {\\n                    atom.label = viewer.addLabel(atom.elem + atom.serial, {position: atom, backgroundColor: 'mintcream', fontColor:'black'});\\n                }\\n            }\\n            \",\"\\n            function(atom,viewer) { \\n                if(atom.label) {\\n                    viewer.removeLabel(atom.label);\\n                    delete atom.label;\\n                }\\n            }\\n            \");\n\tviewer_16872043251408918.zoomTo();\n\tviewer_16872043251408918.setBackgroundColor(null);\nviewer_16872043251408918.render();\n});\n</script>",
      "text/html": [
       "<div id=\"3dmolviewer_16872043251408918\"  style=\"position: relative; width: 1000px; height: 500px\">\n",
       "        <p id=\"3dmolwarning_16872043251408918\" style=\"background-color:#ffcccc;color:black\">You appear to be running in JupyterLab (or JavaScript failed to load for some other reason).  You need to install the 3dmol extension: <br>\n",
       "        <tt>jupyter labextension install jupyterlab_3dmol</tt></p>\n",
       "        </div>\n",
       "<script>\n",
       "\n",
       "var loadScriptAsync = function(uri){\n",
       "  return new Promise((resolve, reject) => {\n",
       "    //this is to ignore the existence of requirejs amd\n",
       "    var savedexports, savedmodule;\n",
       "    if (typeof exports !== 'undefined') savedexports = exports;\n",
       "    else exports = {}\n",
       "    if (typeof module !== 'undefined') savedmodule = module;\n",
       "    else module = {}\n",
       "\n",
       "    var tag = document.createElement('script');\n",
       "    tag.src = uri;\n",
       "    tag.async = true;\n",
       "    tag.onload = () => {\n",
       "        exports = savedexports;\n",
       "        module = savedmodule;\n",
       "        resolve();\n",
       "    };\n",
       "  var firstScriptTag = document.getElementsByTagName('script')[0];\n",
       "  firstScriptTag.parentNode.insertBefore(tag, firstScriptTag);\n",
       "});\n",
       "};\n",
       "\n",
       "if(typeof $3Dmolpromise === 'undefined') {\n",
       "$3Dmolpromise = null;\n",
       "  $3Dmolpromise = loadScriptAsync('https://cdnjs.cloudflare.com/ajax/libs/3Dmol/2.0.1/3Dmol-min.js');\n",
       "}\n",
       "\n",
       "var viewer_16872043251408918 = null;\n",
       "var warn = document.getElementById(\"3dmolwarning_16872043251408918\");\n",
       "if(warn) {\n",
       "    warn.parentNode.removeChild(warn);\n",
       "}\n",
       "$3Dmolpromise.then(function() {\n",
       "viewer_16872043251408918 = $3Dmol.createViewer(document.getElementById(\"3dmolviewer_16872043251408918\"),{backgroundColor:\"white\"});\n",
       "viewer_16872043251408918.zoomTo();\n",
       "\tviewer_16872043251408918.addModel(\"# Produced with molli package\\n@<TRIPOS>MOLECULE\\n3\\n11 10 0 0 0\\nSMALL\\nUSER_CHARGES\\n\\n@<TRIPOS>ATOM\\n     1 C       0.000000     0.000000     0.000000 C          1 UNL1 0.0\\n     2 AP1    -1.298958    -0.750000     0.000000 Unknown    1 UNL1 0.0\\n     3 C       1.299018    -0.750035     0.000000 C          1 UNL1 0.0\\n     4 C       0.000000     1.500000     0.000000 C          1 UNL1 0.0\\n     5 H       0.000000     0.000000    -1.070000 H          1 UNL1 0.0\\n     6 H       1.860120    -0.491537     0.873638 H          1 UNL1 0.0\\n     7 H       1.860097    -0.491577    -0.873665 H          1 UNL1 0.0\\n     8 H       1.103470    -1.802014     0.000027 H          1 UNL1 0.0\\n     9 H       1.008806     1.856667     0.000000 H          1 UNL1 0.0\\n    10 H      -0.504403     1.856667     0.873651 H          1 UNL1 0.0\\n    11 H      -0.504403     1.856667    -0.873651 H          1 UNL1 0.0\\n@<TRIPOS>BOND\\n     1      2      1          1\\n     2      1      3          1\\n     3      1      4          1\\n     4      1      5          1\\n     5      3      6          1\\n     6      3      7          1\\n     7      3      8          1\\n     8      4      9          1\\n     9      4     10          1\\n    10      4     11          1\\n\",\"mol2\");\n",
       "\tviewer_16872043251408918.setStyle({\"stick\": {\"radius\": 0.1}, \"sphere\": {\"scale\": 0.15}});\n",
       "\tviewer_16872043251408918.setHoverable({},true,\"\\n            function(atom,viewer,event,container) {\\n                if(!atom.label) {\\n                    atom.label = viewer.addLabel(atom.elem + atom.serial, {position: atom, backgroundColor: 'mintcream', fontColor:'black'});\\n                }\\n            }\\n            \",\"\\n            function(atom,viewer) { \\n                if(atom.label) {\\n                    viewer.removeLabel(atom.label);\\n                    delete atom.label;\\n                }\\n            }\\n            \");\n",
       "\tviewer_16872043251408918.zoomTo();\n",
       "\tviewer_16872043251408918.setBackgroundColor(null);\n",
       "viewer_16872043251408918.render();\n",
       "});\n",
       "</script>"
      ]
     },
     "metadata": {},
     "output_type": "display_data"
    },
    {
     "data": {
      "text/plain": [
       "Molecule(name='3', formula='C3 H7 Unknown1')"
      ]
     },
     "execution_count": 10,
     "metadata": {},
     "output_type": "execute_result"
    }
   ],
   "source": [
    "m_subs = ml.MoleculeLibrary(f'{out_dir}BOX_subs_new_env.mlib')\n",
    "print(len(m_subs))\n",
    "m_subs['3']"
   ]
  },
  {
   "attachments": {},
   "cell_type": "markdown",
   "metadata": {},
   "source": [
    "# 2. Combinatorial Expansion"
   ]
  },
  {
   "cell_type": "code",
   "execution_count": 11,
   "metadata": {},
   "outputs": [
    {
     "name": "stdout",
     "output_type": "stream",
     "text": [
      "Will create a library of size 75\n"
     ]
    },
    {
     "name": "stderr",
     "output_type": "stream",
     "text": [
      "100%|██████████| 75/75 [00:01<00:00, 39.55it/s]\n"
     ]
    },
    {
     "data": {
      "text/plain": [
       "CompletedProcess(args=['molli', 'combine', './ncsa-testing-output/BOX_cores_new_env.mlib', '-s', './ncsa-testing-output/BOX_subs_new_env.mlib', '-j', '96', '-o', './ncsa-testing-output/test_combine_new_env.mlib', '-a', 'A1', '--obopt', 'uff', '-m', 'same', '--overwrite'], returncode=0)"
      ]
     },
     "execution_count": 11,
     "metadata": {},
     "output_type": "execute_result"
    }
   ],
   "source": [
    "subprocess.run(\n",
    "    [\n",
    "        'molli',\n",
    "        'combine',\n",
    "        f'{out_dir}BOX_cores_new_env.mlib',\n",
    "        '-s',\n",
    "        f'{out_dir}BOX_subs_new_env.mlib',\n",
    "        '-j',\n",
    "        '96', \n",
    "        '-o', \n",
    "        f'{out_dir}test_combine_new_env.mlib', \n",
    "        '-a', \n",
    "        'A1', \n",
    "        '--obopt', \n",
    "        'uff',\n",
    "        '-m',\n",
    "        'same',\n",
    "        \"--overwrite\"\n",
    "    ]\n",
    ")\n"
   ]
  },
  {
   "cell_type": "code",
   "execution_count": 12,
   "metadata": {},
   "outputs": [
    {
     "name": "stdout",
     "output_type": "stream",
     "text": [
      "75\n"
     ]
    },
    {
     "data": {
      "application/3dmoljs_load.v0": "<div id=\"3dmolviewer_16872043275753667\"  style=\"position: relative; width: 1000px; height: 500px\">\n        <p id=\"3dmolwarning_16872043275753667\" style=\"background-color:#ffcccc;color:black\">You appear to be running in JupyterLab (or JavaScript failed to load for some other reason).  You need to install the 3dmol extension: <br>\n        <tt>jupyter labextension install jupyterlab_3dmol</tt></p>\n        </div>\n<script>\n\nvar loadScriptAsync = function(uri){\n  return new Promise((resolve, reject) => {\n    //this is to ignore the existence of requirejs amd\n    var savedexports, savedmodule;\n    if (typeof exports !== 'undefined') savedexports = exports;\n    else exports = {}\n    if (typeof module !== 'undefined') savedmodule = module;\n    else module = {}\n\n    var tag = document.createElement('script');\n    tag.src = uri;\n    tag.async = true;\n    tag.onload = () => {\n        exports = savedexports;\n        module = savedmodule;\n        resolve();\n    };\n  var firstScriptTag = document.getElementsByTagName('script')[0];\n  firstScriptTag.parentNode.insertBefore(tag, firstScriptTag);\n});\n};\n\nif(typeof $3Dmolpromise === 'undefined') {\n$3Dmolpromise = null;\n  $3Dmolpromise = loadScriptAsync('https://cdnjs.cloudflare.com/ajax/libs/3Dmol/2.0.1/3Dmol-min.js');\n}\n\nvar viewer_16872043275753667 = null;\nvar warn = document.getElementById(\"3dmolwarning_16872043275753667\");\nif(warn) {\n    warn.parentNode.removeChild(warn);\n}\n$3Dmolpromise.then(function() {\nviewer_16872043275753667 = $3Dmol.createViewer(document.getElementById(\"3dmolviewer_16872043275753667\"),{backgroundColor:\"white\"});\nviewer_16872043275753667.zoomTo();\n\tviewer_16872043275753667.addModel(\"# Produced with molli package\\n@<TRIPOS>MOLECULE\\n1_3_3\\n48 50 0 0 0\\nSMALL\\nUSER_CHARGES\\n\\n@<TRIPOS>ATOM\\n     1 C       0.047763     0.014815     0.228030 C          1 UNL1 0.0\\n     2 C       0.867623     1.319826     0.352551 C          1 UNL1 0.0\\n     3 O      -0.077798     2.300768     0.436341 O          1 UNL1 0.0\\n     4 C      -1.311421     1.777092     0.385472 C          1 UNL1 0.0\\n     5 N      -1.347123     0.494405     0.297905 N          1 UNL1 0.0\\n     6 C      -2.512066     2.669552     0.384985 C          1 UNL1 0.0\\n     7 C      -3.764630     1.869145     0.213009 C          1 UNL1 0.0\\n     8 O      -4.963807     2.468606     0.260640 O          1 UNL1 0.0\\n     9 C      -5.967092     1.552531     0.129851 C          1 UNL1 0.0\\n    10 C      -5.229950     0.196842     0.047313 C          1 UNL1 0.0\\n    11 N      -3.807741     0.592928     0.055728 N          1 UNL1 0.0\\n    12 C      -2.603229    -0.277232     0.103986 C          1 UNL1 0.0\\n    13 Br     -2.949853    -1.517907     1.564366 Br         1 UNL1 0.0\\n    14 Br     -2.327461    -1.256379    -1.556469 Br         1 UNL1 0.0\\n    15 C      -2.564026     3.420724     1.727018 C          1 UNL1 0.0\\n    16 C      -2.406100     3.671195    -0.778304 C          1 UNL1 0.0\\n    17 H       0.238443    -0.378210    -0.794909 H          1 UNL1 0.0\\n    18 H       1.500567     1.374577     1.261490 H          1 UNL1 0.0\\n    19 H       1.511017     1.479609    -0.539871 H          1 UNL1 0.0\\n    20 H      -6.652982     1.587488     1.003845 H          1 UNL1 0.0\\n    21 H      -6.539736     1.814588    -0.782170 H          1 UNL1 0.0\\n    22 H      -5.444073    -0.332393     1.002087 H          1 UNL1 0.0\\n    23 H      -2.644814     2.701006     2.571278 H          1 UNL1 0.0\\n    24 H      -3.439906     4.103889     1.764744 H          1 UNL1 0.0\\n    25 H      -1.646159     4.030495     1.873938 H          1 UNL1 0.0\\n    26 H      -1.490416     4.293863    -0.681683 H          1 UNL1 0.0\\n    27 H      -3.283994     4.353096    -0.792620 H          1 UNL1 0.0\\n    28 H      -2.363487     3.133767    -1.751034 H          1 UNL1 0.0\\n    29 C      -5.828056    -0.658274    -1.120391 C          1 UNL1 0.0\\n    30 C      -5.575047    -2.167639    -0.973415 C          1 UNL1 0.0\\n    31 C      -5.495115    -0.131494    -2.529520 C          1 UNL1 0.0\\n    32 H      -6.935134    -0.586701    -1.015089 H          1 UNL1 0.0\\n    33 H      -4.525825    -2.466548    -1.035565 H          1 UNL1 0.0\\n    34 H      -6.127547    -2.718954    -1.764305 H          1 UNL1 0.0\\n    35 H      -5.959015    -2.516389     0.008872 H          1 UNL1 0.0\\n    36 H      -6.023164    -0.740616    -3.293509 H          1 UNL1 0.0\\n    37 H      -4.418602    -0.162330    -2.751668 H          1 UNL1 0.0\\n    38 H      -5.825698     0.917319    -2.660629 H          1 UNL1 0.0\\n    39 C       0.581486    -1.035650     1.259293 C          1 UNL1 0.0\\n    40 C       0.254122    -2.491647     0.890048 C          1 UNL1 0.0\\n    41 C       0.252530    -0.698343     2.726001 C          1 UNL1 0.0\\n    42 H       1.692472    -1.011993     1.175137 H          1 UNL1 0.0\\n    43 H      -0.808934    -2.741891     0.892701 H          1 UNL1 0.0\\n    44 H       0.761968    -3.180440     1.598922 H          1 UNL1 0.0\\n    45 H       0.639974    -2.713381    -0.127694 H          1 UNL1 0.0\\n    46 H       0.735529    -1.436227     3.400856 H          1 UNL1 0.0\\n    47 H      -0.828464    -0.702552     2.929976 H          1 UNL1 0.0\\n    48 H       0.633681     0.303924     3.005003 H          1 UNL1 0.0\\n@<TRIPOS>BOND\\n     1      1      2          1\\n     2      2      3          1\\n     3      3      4          1\\n     4      4      5          2\\n     5      5      1          1\\n     6      4      6          1\\n     7      6      7          1\\n     8      7      8          1\\n     9      8      9          1\\n    10      9     10          1\\n    11     10     11          1\\n    12     11      7          2\\n    13     11     12          1\\n    14     12      5          1\\n    15     12     13          1\\n    16     12     14          1\\n    17      6     15          1\\n    18      6     16          1\\n    19      1     17          1\\n    20      2     18          1\\n    21      2     19          1\\n    22      9     20          1\\n    23      9     21          1\\n    24     10     22          1\\n    25     15     23          1\\n    26     15     24          1\\n    27     15     25          1\\n    28     16     26          1\\n    29     16     27          1\\n    30     16     28          1\\n    31     29     30          1\\n    32     29     31          1\\n    33     29     32          1\\n    34     30     33          1\\n    35     30     34          1\\n    36     30     35          1\\n    37     31     36          1\\n    38     31     37          1\\n    39     31     38          1\\n    40     10     29          1\\n    41     39     40          1\\n    42     39     41          1\\n    43     39     42          1\\n    44     40     43          1\\n    45     40     44          1\\n    46     40     45          1\\n    47     41     46          1\\n    48     41     47          1\\n    49     41     48          1\\n    50      1     39          1\\n\",\"mol2\");\n\tviewer_16872043275753667.setStyle({\"stick\": {\"radius\": 0.1}, \"sphere\": {\"scale\": 0.15}});\n\tviewer_16872043275753667.setHoverable({},true,\"\\n            function(atom,viewer,event,container) {\\n                if(!atom.label) {\\n                    atom.label = viewer.addLabel(atom.elem + atom.serial, {position: atom, backgroundColor: 'mintcream', fontColor:'black'});\\n                }\\n            }\\n            \",\"\\n            function(atom,viewer) { \\n                if(atom.label) {\\n                    viewer.removeLabel(atom.label);\\n                    delete atom.label;\\n                }\\n            }\\n            \");\n\tviewer_16872043275753667.zoomTo();\n\tviewer_16872043275753667.setBackgroundColor(null);\nviewer_16872043275753667.render();\n});\n</script>",
      "text/html": [
       "<div id=\"3dmolviewer_16872043275753667\"  style=\"position: relative; width: 1000px; height: 500px\">\n",
       "        <p id=\"3dmolwarning_16872043275753667\" style=\"background-color:#ffcccc;color:black\">You appear to be running in JupyterLab (or JavaScript failed to load for some other reason).  You need to install the 3dmol extension: <br>\n",
       "        <tt>jupyter labextension install jupyterlab_3dmol</tt></p>\n",
       "        </div>\n",
       "<script>\n",
       "\n",
       "var loadScriptAsync = function(uri){\n",
       "  return new Promise((resolve, reject) => {\n",
       "    //this is to ignore the existence of requirejs amd\n",
       "    var savedexports, savedmodule;\n",
       "    if (typeof exports !== 'undefined') savedexports = exports;\n",
       "    else exports = {}\n",
       "    if (typeof module !== 'undefined') savedmodule = module;\n",
       "    else module = {}\n",
       "\n",
       "    var tag = document.createElement('script');\n",
       "    tag.src = uri;\n",
       "    tag.async = true;\n",
       "    tag.onload = () => {\n",
       "        exports = savedexports;\n",
       "        module = savedmodule;\n",
       "        resolve();\n",
       "    };\n",
       "  var firstScriptTag = document.getElementsByTagName('script')[0];\n",
       "  firstScriptTag.parentNode.insertBefore(tag, firstScriptTag);\n",
       "});\n",
       "};\n",
       "\n",
       "if(typeof $3Dmolpromise === 'undefined') {\n",
       "$3Dmolpromise = null;\n",
       "  $3Dmolpromise = loadScriptAsync('https://cdnjs.cloudflare.com/ajax/libs/3Dmol/2.0.1/3Dmol-min.js');\n",
       "}\n",
       "\n",
       "var viewer_16872043275753667 = null;\n",
       "var warn = document.getElementById(\"3dmolwarning_16872043275753667\");\n",
       "if(warn) {\n",
       "    warn.parentNode.removeChild(warn);\n",
       "}\n",
       "$3Dmolpromise.then(function() {\n",
       "viewer_16872043275753667 = $3Dmol.createViewer(document.getElementById(\"3dmolviewer_16872043275753667\"),{backgroundColor:\"white\"});\n",
       "viewer_16872043275753667.zoomTo();\n",
       "\tviewer_16872043275753667.addModel(\"# Produced with molli package\\n@<TRIPOS>MOLECULE\\n1_3_3\\n48 50 0 0 0\\nSMALL\\nUSER_CHARGES\\n\\n@<TRIPOS>ATOM\\n     1 C       0.047763     0.014815     0.228030 C          1 UNL1 0.0\\n     2 C       0.867623     1.319826     0.352551 C          1 UNL1 0.0\\n     3 O      -0.077798     2.300768     0.436341 O          1 UNL1 0.0\\n     4 C      -1.311421     1.777092     0.385472 C          1 UNL1 0.0\\n     5 N      -1.347123     0.494405     0.297905 N          1 UNL1 0.0\\n     6 C      -2.512066     2.669552     0.384985 C          1 UNL1 0.0\\n     7 C      -3.764630     1.869145     0.213009 C          1 UNL1 0.0\\n     8 O      -4.963807     2.468606     0.260640 O          1 UNL1 0.0\\n     9 C      -5.967092     1.552531     0.129851 C          1 UNL1 0.0\\n    10 C      -5.229950     0.196842     0.047313 C          1 UNL1 0.0\\n    11 N      -3.807741     0.592928     0.055728 N          1 UNL1 0.0\\n    12 C      -2.603229    -0.277232     0.103986 C          1 UNL1 0.0\\n    13 Br     -2.949853    -1.517907     1.564366 Br         1 UNL1 0.0\\n    14 Br     -2.327461    -1.256379    -1.556469 Br         1 UNL1 0.0\\n    15 C      -2.564026     3.420724     1.727018 C          1 UNL1 0.0\\n    16 C      -2.406100     3.671195    -0.778304 C          1 UNL1 0.0\\n    17 H       0.238443    -0.378210    -0.794909 H          1 UNL1 0.0\\n    18 H       1.500567     1.374577     1.261490 H          1 UNL1 0.0\\n    19 H       1.511017     1.479609    -0.539871 H          1 UNL1 0.0\\n    20 H      -6.652982     1.587488     1.003845 H          1 UNL1 0.0\\n    21 H      -6.539736     1.814588    -0.782170 H          1 UNL1 0.0\\n    22 H      -5.444073    -0.332393     1.002087 H          1 UNL1 0.0\\n    23 H      -2.644814     2.701006     2.571278 H          1 UNL1 0.0\\n    24 H      -3.439906     4.103889     1.764744 H          1 UNL1 0.0\\n    25 H      -1.646159     4.030495     1.873938 H          1 UNL1 0.0\\n    26 H      -1.490416     4.293863    -0.681683 H          1 UNL1 0.0\\n    27 H      -3.283994     4.353096    -0.792620 H          1 UNL1 0.0\\n    28 H      -2.363487     3.133767    -1.751034 H          1 UNL1 0.0\\n    29 C      -5.828056    -0.658274    -1.120391 C          1 UNL1 0.0\\n    30 C      -5.575047    -2.167639    -0.973415 C          1 UNL1 0.0\\n    31 C      -5.495115    -0.131494    -2.529520 C          1 UNL1 0.0\\n    32 H      -6.935134    -0.586701    -1.015089 H          1 UNL1 0.0\\n    33 H      -4.525825    -2.466548    -1.035565 H          1 UNL1 0.0\\n    34 H      -6.127547    -2.718954    -1.764305 H          1 UNL1 0.0\\n    35 H      -5.959015    -2.516389     0.008872 H          1 UNL1 0.0\\n    36 H      -6.023164    -0.740616    -3.293509 H          1 UNL1 0.0\\n    37 H      -4.418602    -0.162330    -2.751668 H          1 UNL1 0.0\\n    38 H      -5.825698     0.917319    -2.660629 H          1 UNL1 0.0\\n    39 C       0.581486    -1.035650     1.259293 C          1 UNL1 0.0\\n    40 C       0.254122    -2.491647     0.890048 C          1 UNL1 0.0\\n    41 C       0.252530    -0.698343     2.726001 C          1 UNL1 0.0\\n    42 H       1.692472    -1.011993     1.175137 H          1 UNL1 0.0\\n    43 H      -0.808934    -2.741891     0.892701 H          1 UNL1 0.0\\n    44 H       0.761968    -3.180440     1.598922 H          1 UNL1 0.0\\n    45 H       0.639974    -2.713381    -0.127694 H          1 UNL1 0.0\\n    46 H       0.735529    -1.436227     3.400856 H          1 UNL1 0.0\\n    47 H      -0.828464    -0.702552     2.929976 H          1 UNL1 0.0\\n    48 H       0.633681     0.303924     3.005003 H          1 UNL1 0.0\\n@<TRIPOS>BOND\\n     1      1      2          1\\n     2      2      3          1\\n     3      3      4          1\\n     4      4      5          2\\n     5      5      1          1\\n     6      4      6          1\\n     7      6      7          1\\n     8      7      8          1\\n     9      8      9          1\\n    10      9     10          1\\n    11     10     11          1\\n    12     11      7          2\\n    13     11     12          1\\n    14     12      5          1\\n    15     12     13          1\\n    16     12     14          1\\n    17      6     15          1\\n    18      6     16          1\\n    19      1     17          1\\n    20      2     18          1\\n    21      2     19          1\\n    22      9     20          1\\n    23      9     21          1\\n    24     10     22          1\\n    25     15     23          1\\n    26     15     24          1\\n    27     15     25          1\\n    28     16     26          1\\n    29     16     27          1\\n    30     16     28          1\\n    31     29     30          1\\n    32     29     31          1\\n    33     29     32          1\\n    34     30     33          1\\n    35     30     34          1\\n    36     30     35          1\\n    37     31     36          1\\n    38     31     37          1\\n    39     31     38          1\\n    40     10     29          1\\n    41     39     40          1\\n    42     39     41          1\\n    43     39     42          1\\n    44     40     43          1\\n    45     40     44          1\\n    46     40     45          1\\n    47     41     46          1\\n    48     41     47          1\\n    49     41     48          1\\n    50      1     39          1\\n\",\"mol2\");\n",
       "\tviewer_16872043275753667.setStyle({\"stick\": {\"radius\": 0.1}, \"sphere\": {\"scale\": 0.15}});\n",
       "\tviewer_16872043275753667.setHoverable({},true,\"\\n            function(atom,viewer,event,container) {\\n                if(!atom.label) {\\n                    atom.label = viewer.addLabel(atom.elem + atom.serial, {position: atom, backgroundColor: 'mintcream', fontColor:'black'});\\n                }\\n            }\\n            \",\"\\n            function(atom,viewer) { \\n                if(atom.label) {\\n                    viewer.removeLabel(atom.label);\\n                    delete atom.label;\\n                }\\n            }\\n            \");\n",
       "\tviewer_16872043275753667.zoomTo();\n",
       "\tviewer_16872043275753667.setBackgroundColor(null);\n",
       "viewer_16872043275753667.render();\n",
       "});\n",
       "</script>"
      ]
     },
     "metadata": {},
     "output_type": "display_data"
    },
    {
     "data": {
      "text/plain": [
       "Molecule(name='1_3_3', formula='C16 H26 Br2 N2 O2')"
      ]
     },
     "execution_count": 12,
     "metadata": {},
     "output_type": "execute_result"
    }
   ],
   "source": [
    "combined = ml.MoleculeLibrary(f'{out_dir}test_combine_new_env.mlib')\n",
    "print(len(combined))\n",
    "# you index full catalysts structures with the concatenated core_substituent_substituent string\n",
    "combined[\"1_3_3\"]"
   ]
  },
  {
   "cell_type": "code",
   "execution_count": 13,
   "metadata": {},
   "outputs": [
    {
     "data": {
      "application/3dmoljs_load.v0": "<div id=\"3dmolviewer_168720432758814\"  style=\"position: relative; width: 1000px; height: 500px\">\n        <p id=\"3dmolwarning_168720432758814\" style=\"background-color:#ffcccc;color:black\">You appear to be running in JupyterLab (or JavaScript failed to load for some other reason).  You need to install the 3dmol extension: <br>\n        <tt>jupyter labextension install jupyterlab_3dmol</tt></p>\n        </div>\n<script>\n\nvar loadScriptAsync = function(uri){\n  return new Promise((resolve, reject) => {\n    //this is to ignore the existence of requirejs amd\n    var savedexports, savedmodule;\n    if (typeof exports !== 'undefined') savedexports = exports;\n    else exports = {}\n    if (typeof module !== 'undefined') savedmodule = module;\n    else module = {}\n\n    var tag = document.createElement('script');\n    tag.src = uri;\n    tag.async = true;\n    tag.onload = () => {\n        exports = savedexports;\n        module = savedmodule;\n        resolve();\n    };\n  var firstScriptTag = document.getElementsByTagName('script')[0];\n  firstScriptTag.parentNode.insertBefore(tag, firstScriptTag);\n});\n};\n\nif(typeof $3Dmolpromise === 'undefined') {\n$3Dmolpromise = null;\n  $3Dmolpromise = loadScriptAsync('https://cdnjs.cloudflare.com/ajax/libs/3Dmol/2.0.1/3Dmol-min.js');\n}\n\nvar viewer_168720432758814 = null;\nvar warn = document.getElementById(\"3dmolwarning_168720432758814\");\nif(warn) {\n    warn.parentNode.removeChild(warn);\n}\n$3Dmolpromise.then(function() {\nviewer_168720432758814 = $3Dmol.createViewer(document.getElementById(\"3dmolviewer_168720432758814\"),{backgroundColor:\"white\"});\nviewer_168720432758814.zoomTo();\n\tviewer_168720432758814.addModel(\"# Produced with molli package\\n@<TRIPOS>MOLECULE\\n3_6_6\\n74 78 0 0 0\\nSMALL\\nUSER_CHARGES\\n\\n@<TRIPOS>ATOM\\n     1 C      -0.245683    -0.321870     0.437791 C          1 UNL1 0.0\\n     2 C       0.712663     0.923628     0.319283 C          1 UNL1 0.0\\n     3 O      -0.173682     1.965547     0.154603 O          1 UNL1 0.0\\n     4 C      -1.445832     1.553845     0.287246 C          1 UNL1 0.0\\n     5 N      -1.567883     0.293652     0.470737 N          1 UNL1 0.0\\n     6 C      -2.606069     2.508201     0.180696 C          1 UNL1 0.0\\n     7 C      -3.894182     1.740761     0.053543 C          1 UNL1 0.0\\n     8 O      -5.068085     2.368057    -0.123273 O          1 UNL1 0.0\\n     9 C      -6.102899     1.466933    -0.071684 C          1 UNL1 0.0\\n    10 C      -5.383371     0.068974    -0.061263 C          1 UNL1 0.0\\n    11 N      -3.989765     0.464796     0.141534 N          1 UNL1 0.0\\n    12 C      -2.862739    -0.415811     0.523518 C          1 UNL1 0.0\\n    13 Br     -3.222153    -0.983752     2.353779 Br         1 UNL1 0.0\\n    14 Br     -2.734714    -2.051441    -0.553058 Br         1 UNL1 0.0\\n    15 C      -2.650190     3.398132     1.433630 C          1 UNL1 0.0\\n    16 C      -2.437041     3.376103    -1.077696 C          1 UNL1 0.0\\n    17 C      -7.249856     1.908450    -1.038971 C          1 UNL1 0.0\\n    18 C      -6.790287     2.342501    -2.451599 C          1 UNL1 0.0\\n    19 C      -8.426667     0.921700    -1.078599 C          1 UNL1 0.0\\n    20 C       1.730055     1.384212     1.414654 C          1 UNL1 0.0\\n    21 C       2.881093     0.406060     1.662784 C          1 UNL1 0.0\\n    22 C       1.095657     1.845083     2.738076 C          1 UNL1 0.0\\n    23 H      -0.232158    -0.865056    -0.530995 H          1 UNL1 0.0\\n    24 H       1.298088     0.798801    -0.619111 H          1 UNL1 0.0\\n    25 H      -6.540587     1.565510     0.949278 H          1 UNL1 0.0\\n    26 H      -5.706148    -0.478212     0.836759 H          1 UNL1 0.0\\n    27 H      -2.777416     2.772127     2.344840 H          1 UNL1 0.0\\n    28 H      -3.500512     4.112281     1.382993 H          1 UNL1 0.0\\n    29 H      -1.709533     3.980064     1.539785 H          1 UNL1 0.0\\n    30 H      -1.498656     3.969468    -1.021115 H          1 UNL1 0.0\\n    31 H      -3.283318     4.091180    -1.176167 H          1 UNL1 0.0\\n    32 H      -2.402278     2.743195    -1.990351 H          1 UNL1 0.0\\n    33 H      -7.649848     2.848893    -0.596235 H          1 UNL1 0.0\\n    34 H      -6.023447     3.141821    -2.369509 H          1 UNL1 0.0\\n    35 H      -7.653517     2.771438    -3.003197 H          1 UNL1 0.0\\n    36 H      -6.371876     1.552533    -3.093638 H          1 UNL1 0.0\\n    37 H      -8.163641    -0.044600    -1.544837 H          1 UNL1 0.0\\n    38 H      -9.261245     1.356927    -1.668575 H          1 UNL1 0.0\\n    39 H      -8.794456     0.725970    -0.049804 H          1 UNL1 0.0\\n    40 H       2.210412     2.292375     0.982053 H          1 UNL1 0.0\\n    41 H       3.657336     0.893231     2.290498 H          1 UNL1 0.0\\n    42 H       3.356486     0.117346     0.700796 H          1 UNL1 0.0\\n    43 H       2.548726    -0.488973     2.210437 H          1 UNL1 0.0\\n    44 H       0.347901     2.644008     2.554106 H          1 UNL1 0.0\\n    45 H       1.882326     2.272892     3.396487 H          1 UNL1 0.0\\n    46 H       0.607359     1.026407     3.290471 H          1 UNL1 0.0\\n    47 C      -5.545449    -0.772458    -1.371949 C          1 UNL1 0.0\\n    48 C      -6.256333    -2.120462    -1.306603 C          1 UNL1 0.0\\n    49 C      -6.851982    -2.673624    -0.148263 C          1 UNL1 0.0\\n    50 C      -7.491836    -3.916574    -0.204105 C          1 UNL1 0.0\\n    51 C      -7.550271    -4.626959    -1.402774 C          1 UNL1 0.0\\n    52 C      -6.969683    -4.096362    -2.553534 C          1 UNL1 0.0\\n    53 C      -6.330496    -2.854853    -2.506769 C          1 UNL1 0.0\\n    54 H      -6.067539    -0.205215    -2.131692 H          1 UNL1 0.0\\n    55 H      -4.572414    -0.888172    -1.872347 H          1 UNL1 0.0\\n    56 H      -6.853658    -2.179329     0.806322 H          1 UNL1 0.0\\n    57 H      -7.947335    -4.329362     0.687055 H          1 UNL1 0.0\\n    58 H      -8.047679    -5.587625    -1.439956 H          1 UNL1 0.0\\n    59 H      -7.016012    -4.646431    -3.484637 H          1 UNL1 0.0\\n    60 H      -5.888631    -2.462072    -3.414718 H          1 UNL1 0.0\\n    61 C       0.003433    -1.372243     1.551160 C          1 UNL1 0.0\\n    62 C       1.127997    -2.366798     1.333726 C          1 UNL1 0.0\\n    63 C       1.946458    -2.395234     0.184364 C          1 UNL1 0.0\\n    64 C       2.937058    -3.373456     0.048290 C          1 UNL1 0.0\\n    65 C       3.126413    -4.327904     1.049985 C          1 UNL1 0.0\\n    66 C       2.326806    -4.306783     2.193005 C          1 UNL1 0.0\\n    67 C       1.333894    -3.335200     2.333282 C          1 UNL1 0.0\\n    68 H       0.094339    -0.882566     2.533275 H          1 UNL1 0.0\\n    69 H      -0.878890    -2.031337     1.603366 H          1 UNL1 0.0\\n    70 H       1.829788    -1.679753    -0.615226 H          1 UNL1 0.0\\n    71 H       3.556525    -3.394552    -0.838760 H          1 UNL1 0.0\\n    72 H       3.891141    -5.085605     0.939901 H          1 UNL1 0.0\\n    73 H       2.471461    -5.046658     2.969745 H          1 UNL1 0.0\\n    74 H       0.717107    -3.338712     3.224324 H          1 UNL1 0.0\\n@<TRIPOS>BOND\\n     1      1      2          1\\n     2      2      3          1\\n     3      3      4          1\\n     4      4      5          2\\n     5      5      1          1\\n     6      4      6          1\\n     7      6      7          1\\n     8      7      8          1\\n     9      8      9          1\\n    10      9     10          1\\n    11     10     11          1\\n    12     11      7          2\\n    13     11     12          1\\n    14     12      5          1\\n    15     12     13          1\\n    16     12     14          1\\n    17      6     15          1\\n    18      6     16          1\\n    19     17     18          1\\n    20     17     19          1\\n    21      9     17          1\\n    22     20     21          1\\n    23     20     22          1\\n    24      2     20          1\\n    25      1     23          1\\n    26      2     24          1\\n    27      9     25          1\\n    28     10     26          1\\n    29     15     27          1\\n    30     15     28          1\\n    31     15     29          1\\n    32     16     30          1\\n    33     16     31          1\\n    34     16     32          1\\n    35     17     33          1\\n    36     18     34          1\\n    37     18     35          1\\n    38     18     36          1\\n    39     19     37          1\\n    40     19     38          1\\n    41     19     39          1\\n    42     20     40          1\\n    43     21     41          1\\n    44     21     42          1\\n    45     21     43          1\\n    46     22     44          1\\n    47     22     45          1\\n    48     22     46          1\\n    49     47     48          1\\n    50     48     49          2\\n    51     49     50          1\\n    52     50     51          2\\n    53     51     52          1\\n    54     52     53          2\\n    55     53     48          1\\n    56     47     54          1\\n    57     47     55          1\\n    58     49     56          1\\n    59     50     57          1\\n    60     51     58          1\\n    61     52     59          1\\n    62     53     60          1\\n    63     10     47          1\\n    64     61     62          1\\n    65     62     63          2\\n    66     63     64          1\\n    67     64     65          2\\n    68     65     66          1\\n    69     66     67          2\\n    70     67     62          1\\n    71     61     68          1\\n    72     61     69          1\\n    73     63     70          1\\n    74     64     71          1\\n    75     65     72          1\\n    76     66     73          1\\n    77     67     74          1\\n    78      1     61          1\\n\",\"mol2\");\n\tviewer_168720432758814.setStyle({\"stick\": {\"radius\": 0.1}, \"sphere\": {\"scale\": 0.15}});\n\tviewer_168720432758814.setHoverable({},true,\"\\n            function(atom,viewer,event,container) {\\n                if(!atom.label) {\\n                    atom.label = viewer.addLabel(atom.elem + atom.serial, {position: atom, backgroundColor: 'mintcream', fontColor:'black'});\\n                }\\n            }\\n            \",\"\\n            function(atom,viewer) { \\n                if(atom.label) {\\n                    viewer.removeLabel(atom.label);\\n                    delete atom.label;\\n                }\\n            }\\n            \");\n\tviewer_168720432758814.zoomTo();\n\tviewer_168720432758814.setBackgroundColor(null);\nviewer_168720432758814.render();\n});\n</script>",
      "text/html": [
       "<div id=\"3dmolviewer_168720432758814\"  style=\"position: relative; width: 1000px; height: 500px\">\n",
       "        <p id=\"3dmolwarning_168720432758814\" style=\"background-color:#ffcccc;color:black\">You appear to be running in JupyterLab (or JavaScript failed to load for some other reason).  You need to install the 3dmol extension: <br>\n",
       "        <tt>jupyter labextension install jupyterlab_3dmol</tt></p>\n",
       "        </div>\n",
       "<script>\n",
       "\n",
       "var loadScriptAsync = function(uri){\n",
       "  return new Promise((resolve, reject) => {\n",
       "    //this is to ignore the existence of requirejs amd\n",
       "    var savedexports, savedmodule;\n",
       "    if (typeof exports !== 'undefined') savedexports = exports;\n",
       "    else exports = {}\n",
       "    if (typeof module !== 'undefined') savedmodule = module;\n",
       "    else module = {}\n",
       "\n",
       "    var tag = document.createElement('script');\n",
       "    tag.src = uri;\n",
       "    tag.async = true;\n",
       "    tag.onload = () => {\n",
       "        exports = savedexports;\n",
       "        module = savedmodule;\n",
       "        resolve();\n",
       "    };\n",
       "  var firstScriptTag = document.getElementsByTagName('script')[0];\n",
       "  firstScriptTag.parentNode.insertBefore(tag, firstScriptTag);\n",
       "});\n",
       "};\n",
       "\n",
       "if(typeof $3Dmolpromise === 'undefined') {\n",
       "$3Dmolpromise = null;\n",
       "  $3Dmolpromise = loadScriptAsync('https://cdnjs.cloudflare.com/ajax/libs/3Dmol/2.0.1/3Dmol-min.js');\n",
       "}\n",
       "\n",
       "var viewer_168720432758814 = null;\n",
       "var warn = document.getElementById(\"3dmolwarning_168720432758814\");\n",
       "if(warn) {\n",
       "    warn.parentNode.removeChild(warn);\n",
       "}\n",
       "$3Dmolpromise.then(function() {\n",
       "viewer_168720432758814 = $3Dmol.createViewer(document.getElementById(\"3dmolviewer_168720432758814\"),{backgroundColor:\"white\"});\n",
       "viewer_168720432758814.zoomTo();\n",
       "\tviewer_168720432758814.addModel(\"# Produced with molli package\\n@<TRIPOS>MOLECULE\\n3_6_6\\n74 78 0 0 0\\nSMALL\\nUSER_CHARGES\\n\\n@<TRIPOS>ATOM\\n     1 C      -0.245683    -0.321870     0.437791 C          1 UNL1 0.0\\n     2 C       0.712663     0.923628     0.319283 C          1 UNL1 0.0\\n     3 O      -0.173682     1.965547     0.154603 O          1 UNL1 0.0\\n     4 C      -1.445832     1.553845     0.287246 C          1 UNL1 0.0\\n     5 N      -1.567883     0.293652     0.470737 N          1 UNL1 0.0\\n     6 C      -2.606069     2.508201     0.180696 C          1 UNL1 0.0\\n     7 C      -3.894182     1.740761     0.053543 C          1 UNL1 0.0\\n     8 O      -5.068085     2.368057    -0.123273 O          1 UNL1 0.0\\n     9 C      -6.102899     1.466933    -0.071684 C          1 UNL1 0.0\\n    10 C      -5.383371     0.068974    -0.061263 C          1 UNL1 0.0\\n    11 N      -3.989765     0.464796     0.141534 N          1 UNL1 0.0\\n    12 C      -2.862739    -0.415811     0.523518 C          1 UNL1 0.0\\n    13 Br     -3.222153    -0.983752     2.353779 Br         1 UNL1 0.0\\n    14 Br     -2.734714    -2.051441    -0.553058 Br         1 UNL1 0.0\\n    15 C      -2.650190     3.398132     1.433630 C          1 UNL1 0.0\\n    16 C      -2.437041     3.376103    -1.077696 C          1 UNL1 0.0\\n    17 C      -7.249856     1.908450    -1.038971 C          1 UNL1 0.0\\n    18 C      -6.790287     2.342501    -2.451599 C          1 UNL1 0.0\\n    19 C      -8.426667     0.921700    -1.078599 C          1 UNL1 0.0\\n    20 C       1.730055     1.384212     1.414654 C          1 UNL1 0.0\\n    21 C       2.881093     0.406060     1.662784 C          1 UNL1 0.0\\n    22 C       1.095657     1.845083     2.738076 C          1 UNL1 0.0\\n    23 H      -0.232158    -0.865056    -0.530995 H          1 UNL1 0.0\\n    24 H       1.298088     0.798801    -0.619111 H          1 UNL1 0.0\\n    25 H      -6.540587     1.565510     0.949278 H          1 UNL1 0.0\\n    26 H      -5.706148    -0.478212     0.836759 H          1 UNL1 0.0\\n    27 H      -2.777416     2.772127     2.344840 H          1 UNL1 0.0\\n    28 H      -3.500512     4.112281     1.382993 H          1 UNL1 0.0\\n    29 H      -1.709533     3.980064     1.539785 H          1 UNL1 0.0\\n    30 H      -1.498656     3.969468    -1.021115 H          1 UNL1 0.0\\n    31 H      -3.283318     4.091180    -1.176167 H          1 UNL1 0.0\\n    32 H      -2.402278     2.743195    -1.990351 H          1 UNL1 0.0\\n    33 H      -7.649848     2.848893    -0.596235 H          1 UNL1 0.0\\n    34 H      -6.023447     3.141821    -2.369509 H          1 UNL1 0.0\\n    35 H      -7.653517     2.771438    -3.003197 H          1 UNL1 0.0\\n    36 H      -6.371876     1.552533    -3.093638 H          1 UNL1 0.0\\n    37 H      -8.163641    -0.044600    -1.544837 H          1 UNL1 0.0\\n    38 H      -9.261245     1.356927    -1.668575 H          1 UNL1 0.0\\n    39 H      -8.794456     0.725970    -0.049804 H          1 UNL1 0.0\\n    40 H       2.210412     2.292375     0.982053 H          1 UNL1 0.0\\n    41 H       3.657336     0.893231     2.290498 H          1 UNL1 0.0\\n    42 H       3.356486     0.117346     0.700796 H          1 UNL1 0.0\\n    43 H       2.548726    -0.488973     2.210437 H          1 UNL1 0.0\\n    44 H       0.347901     2.644008     2.554106 H          1 UNL1 0.0\\n    45 H       1.882326     2.272892     3.396487 H          1 UNL1 0.0\\n    46 H       0.607359     1.026407     3.290471 H          1 UNL1 0.0\\n    47 C      -5.545449    -0.772458    -1.371949 C          1 UNL1 0.0\\n    48 C      -6.256333    -2.120462    -1.306603 C          1 UNL1 0.0\\n    49 C      -6.851982    -2.673624    -0.148263 C          1 UNL1 0.0\\n    50 C      -7.491836    -3.916574    -0.204105 C          1 UNL1 0.0\\n    51 C      -7.550271    -4.626959    -1.402774 C          1 UNL1 0.0\\n    52 C      -6.969683    -4.096362    -2.553534 C          1 UNL1 0.0\\n    53 C      -6.330496    -2.854853    -2.506769 C          1 UNL1 0.0\\n    54 H      -6.067539    -0.205215    -2.131692 H          1 UNL1 0.0\\n    55 H      -4.572414    -0.888172    -1.872347 H          1 UNL1 0.0\\n    56 H      -6.853658    -2.179329     0.806322 H          1 UNL1 0.0\\n    57 H      -7.947335    -4.329362     0.687055 H          1 UNL1 0.0\\n    58 H      -8.047679    -5.587625    -1.439956 H          1 UNL1 0.0\\n    59 H      -7.016012    -4.646431    -3.484637 H          1 UNL1 0.0\\n    60 H      -5.888631    -2.462072    -3.414718 H          1 UNL1 0.0\\n    61 C       0.003433    -1.372243     1.551160 C          1 UNL1 0.0\\n    62 C       1.127997    -2.366798     1.333726 C          1 UNL1 0.0\\n    63 C       1.946458    -2.395234     0.184364 C          1 UNL1 0.0\\n    64 C       2.937058    -3.373456     0.048290 C          1 UNL1 0.0\\n    65 C       3.126413    -4.327904     1.049985 C          1 UNL1 0.0\\n    66 C       2.326806    -4.306783     2.193005 C          1 UNL1 0.0\\n    67 C       1.333894    -3.335200     2.333282 C          1 UNL1 0.0\\n    68 H       0.094339    -0.882566     2.533275 H          1 UNL1 0.0\\n    69 H      -0.878890    -2.031337     1.603366 H          1 UNL1 0.0\\n    70 H       1.829788    -1.679753    -0.615226 H          1 UNL1 0.0\\n    71 H       3.556525    -3.394552    -0.838760 H          1 UNL1 0.0\\n    72 H       3.891141    -5.085605     0.939901 H          1 UNL1 0.0\\n    73 H       2.471461    -5.046658     2.969745 H          1 UNL1 0.0\\n    74 H       0.717107    -3.338712     3.224324 H          1 UNL1 0.0\\n@<TRIPOS>BOND\\n     1      1      2          1\\n     2      2      3          1\\n     3      3      4          1\\n     4      4      5          2\\n     5      5      1          1\\n     6      4      6          1\\n     7      6      7          1\\n     8      7      8          1\\n     9      8      9          1\\n    10      9     10          1\\n    11     10     11          1\\n    12     11      7          2\\n    13     11     12          1\\n    14     12      5          1\\n    15     12     13          1\\n    16     12     14          1\\n    17      6     15          1\\n    18      6     16          1\\n    19     17     18          1\\n    20     17     19          1\\n    21      9     17          1\\n    22     20     21          1\\n    23     20     22          1\\n    24      2     20          1\\n    25      1     23          1\\n    26      2     24          1\\n    27      9     25          1\\n    28     10     26          1\\n    29     15     27          1\\n    30     15     28          1\\n    31     15     29          1\\n    32     16     30          1\\n    33     16     31          1\\n    34     16     32          1\\n    35     17     33          1\\n    36     18     34          1\\n    37     18     35          1\\n    38     18     36          1\\n    39     19     37          1\\n    40     19     38          1\\n    41     19     39          1\\n    42     20     40          1\\n    43     21     41          1\\n    44     21     42          1\\n    45     21     43          1\\n    46     22     44          1\\n    47     22     45          1\\n    48     22     46          1\\n    49     47     48          1\\n    50     48     49          2\\n    51     49     50          1\\n    52     50     51          2\\n    53     51     52          1\\n    54     52     53          2\\n    55     53     48          1\\n    56     47     54          1\\n    57     47     55          1\\n    58     49     56          1\\n    59     50     57          1\\n    60     51     58          1\\n    61     52     59          1\\n    62     53     60          1\\n    63     10     47          1\\n    64     61     62          1\\n    65     62     63          2\\n    66     63     64          1\\n    67     64     65          2\\n    68     65     66          1\\n    69     66     67          2\\n    70     67     62          1\\n    71     61     68          1\\n    72     61     69          1\\n    73     63     70          1\\n    74     64     71          1\\n    75     65     72          1\\n    76     66     73          1\\n    77     67     74          1\\n    78      1     61          1\\n\",\"mol2\");\n",
       "\tviewer_168720432758814.setStyle({\"stick\": {\"radius\": 0.1}, \"sphere\": {\"scale\": 0.15}});\n",
       "\tviewer_168720432758814.setHoverable({},true,\"\\n            function(atom,viewer,event,container) {\\n                if(!atom.label) {\\n                    atom.label = viewer.addLabel(atom.elem + atom.serial, {position: atom, backgroundColor: 'mintcream', fontColor:'black'});\\n                }\\n            }\\n            \",\"\\n            function(atom,viewer) { \\n                if(atom.label) {\\n                    viewer.removeLabel(atom.label);\\n                    delete atom.label;\\n                }\\n            }\\n            \");\n",
       "\tviewer_168720432758814.zoomTo();\n",
       "\tviewer_168720432758814.setBackgroundColor(null);\n",
       "viewer_168720432758814.render();\n",
       "});\n",
       "</script>"
      ]
     },
     "metadata": {},
     "output_type": "display_data"
    },
    {
     "data": {
      "text/plain": [
       "Molecule(name='3_6_6', formula='C30 H38 Br2 N2 O2')"
      ]
     },
     "execution_count": 13,
     "metadata": {},
     "output_type": "execute_result"
    }
   ],
   "source": [
    "combined[\"3_6_6\"]"
   ]
  },
  {
   "attachments": {},
   "cell_type": "markdown",
   "metadata": {},
   "source": [
    "# 3. Conformer Generation"
   ]
  },
  {
   "cell_type": "code",
   "execution_count": 14,
   "metadata": {},
   "outputs": [
    {
     "name": "stderr",
     "output_type": "stream",
     "text": [
      "100%|██████████| 75/75 [02:11<00:00,  1.75s/it]\n"
     ]
    },
    {
     "data": {
      "text/plain": [
       "CompletedProcess(args=['molli', 'conformers', './ncsa-testing-output/test_combine_new_env.mlib', '-n', '50', '-o', './ncsa-testing-output/test_conformers_new_env.mlib', '-t', '-j', '96', '--overwrite'], returncode=0)"
      ]
     },
     "execution_count": 14,
     "metadata": {},
     "output_type": "execute_result"
    }
   ],
   "source": [
    "subprocess.run(['molli', \n",
    "                'conformers', \n",
    "                f'{out_dir}test_combine_new_env.mlib', \n",
    "                '-n', \n",
    "                '50', \n",
    "                '-o', \n",
    "                f'{out_dir}test_conformers_new_env.mlib', \n",
    "                '-t', \n",
    "                '-j', ### !!!!!! Number of jobs. Please scale down if host system has fewer cores. defaults to os.cpu_count()//2  !!!!! ###\n",
    "                '96',\n",
    "                \"--overwrite\"\n",
    "                ])"
   ]
  },
  {
   "cell_type": "code",
   "execution_count": 15,
   "metadata": {},
   "outputs": [
    {
     "name": "stdout",
     "output_type": "stream",
     "text": [
      "75\n"
     ]
    }
   ],
   "source": [
    "clib = ml.ConformerLibrary(f'{out_dir}test_conformers_new_env.mlib')\n",
    "print(len(clib))"
   ]
  },
  {
   "cell_type": "code",
   "execution_count": 16,
   "metadata": {},
   "outputs": [
    {
     "name": "stdout",
     "output_type": "stream",
     "text": [
      "8028 conformers in library\n"
     ]
    }
   ],
   "source": [
    "i = 0\n",
    "for conf in clib:\n",
    "    i += conf.n_conformers\n",
    "    # print(conf)\n",
    "print(str(i) + ' conformers in library')\n",
    "\n",
    "# many of these conformers ar redundant - redundant confs thrown out during aso calculation"
   ]
  },
  {
   "cell_type": "code",
   "execution_count": 17,
   "metadata": {},
   "outputs": [
    {
     "name": "stdout",
     "output_type": "stream",
     "text": [
      "ConformerEnsemble(name='1_3_3', formula='C16 H26 Br2 N2 O2', n_conformers=150)\n"
     ]
    },
    {
     "data": {
      "application/3dmoljs_load.v0": "<div id=\"3dmolviewer_1687204460426125\"  style=\"position: relative; width: 1000px; height: 500px\">\n        <p id=\"3dmolwarning_1687204460426125\" style=\"background-color:#ffcccc;color:black\">You appear to be running in JupyterLab (or JavaScript failed to load for some other reason).  You need to install the 3dmol extension: <br>\n        <tt>jupyter labextension install jupyterlab_3dmol</tt></p>\n        </div>\n<script>\n\nvar loadScriptAsync = function(uri){\n  return new Promise((resolve, reject) => {\n    //this is to ignore the existence of requirejs amd\n    var savedexports, savedmodule;\n    if (typeof exports !== 'undefined') savedexports = exports;\n    else exports = {}\n    if (typeof module !== 'undefined') savedmodule = module;\n    else module = {}\n\n    var tag = document.createElement('script');\n    tag.src = uri;\n    tag.async = true;\n    tag.onload = () => {\n        exports = savedexports;\n        module = savedmodule;\n        resolve();\n    };\n  var firstScriptTag = document.getElementsByTagName('script')[0];\n  firstScriptTag.parentNode.insertBefore(tag, firstScriptTag);\n});\n};\n\nif(typeof $3Dmolpromise === 'undefined') {\n$3Dmolpromise = null;\n  $3Dmolpromise = loadScriptAsync('https://cdnjs.cloudflare.com/ajax/libs/3Dmol/2.0.1/3Dmol-min.js');\n}\n\nvar viewer_1687204460426125 = null;\nvar warn = document.getElementById(\"3dmolwarning_1687204460426125\");\nif(warn) {\n    warn.parentNode.removeChild(warn);\n}\n$3Dmolpromise.then(function() {\nviewer_1687204460426125 = $3Dmol.createViewer(document.getElementById(\"3dmolviewer_1687204460426125\"),{backgroundColor:\"white\"});\nviewer_1687204460426125.zoomTo();\n\tviewer_1687204460426125.addModel(\"# Produced with molli package\\n@<TRIPOS>MOLECULE\\n1_3_3\\n48 50 0 0 0\\nSMALL\\nUSER_CHARGES\\n\\n@<TRIPOS>ATOM\\n     1 C       0.006200    -0.068700     0.544100 C.3        1 UNL1 0.0\\n     2 C       0.806700     1.137300     0.036400 C.3        1 UNL1 0.0\\n     3 O      -0.052100     2.246600     0.372700 O.2        1 UNL1 0.0\\n     4 C      -1.299900     1.782100     0.364900 C.2        1 UNL1 0.0\\n     5 N      -1.359100     0.507100     0.343700 N.2        1 UNL1 0.0\\n     6 C      -2.507200     2.656300     0.336500 C.3        1 UNL1 0.0\\n     7 C      -3.764200     1.845500     0.311900 C.2        1 UNL1 0.0\\n     8 O      -4.940800     2.349700     0.673900 O.2        1 UNL1 0.0\\n     9 C      -5.847400     1.257000     0.866000 C.3        1 UNL1 0.0\\n    10 C      -5.217200     0.098800     0.083600 C.3        1 UNL1 0.0\\n    11 N      -3.812400     0.612100    -0.019900 N.2        1 UNL1 0.0\\n    12 C      -2.553200    -0.169200    -0.276300 C.3        1 UNL1 0.0\\n    13 BR     -2.171600    -0.144600    -2.230300 Br         1 UNL1 0.0\\n    14 BR     -2.726600    -2.025500     0.294000 Br         1 UNL1 0.0\\n    15 C      -2.487700     3.512400     1.612600 C.3        1 UNL1 0.0\\n    16 C      -2.472200     3.560300    -0.899300 C.3        1 UNL1 0.0\\n    17 H       0.151400    -0.960600    -0.072400 H          1 UNL1 0.0\\n    18 H       1.782400     1.276700     0.506800 H          1 UNL1 0.0\\n    19 H       0.938800     1.123100    -1.052300 H          1 UNL1 0.0\\n    20 H      -5.896200     1.041300     1.939900 H          1 UNL1 0.0\\n    21 H      -6.848100     1.538900     0.525200 H          1 UNL1 0.0\\n    22 H      -5.246000    -0.801700     0.704200 H          1 UNL1 0.0\\n    23 H      -1.567800     4.103900     1.686700 H          1 UNL1 0.0\\n    24 H      -3.332500     4.210000     1.644200 H          1 UNL1 0.0\\n    25 H      -2.546500     2.884300     2.509900 H          1 UNL1 0.0\\n    26 H      -1.577000     4.192500    -0.908300 H          1 UNL1 0.0\\n    27 H      -2.466900     2.976900    -1.826200 H          1 UNL1 0.0\\n    28 H      -3.348700     4.217500    -0.936100 H          1 UNL1 0.0\\n    29 C      -5.954500    -0.125300    -1.256300 C.3        1 UNL1 0.0\\n    30 C      -5.847300     1.012300    -2.276200 C.3        1 UNL1 0.0\\n    31 C      -5.648800    -1.477100    -1.902700 C.3        1 UNL1 0.0\\n    32 H      -7.022300    -0.188800    -0.997200 H          1 UNL1 0.0\\n    33 H      -4.829200     1.145300    -2.646600 H          1 UNL1 0.0\\n    34 H      -6.485400     0.807400    -3.143200 H          1 UNL1 0.0\\n    35 H      -6.180000     1.963600    -1.849600 H          1 UNL1 0.0\\n    36 H      -4.644600    -1.529500    -2.319300 H          1 UNL1 0.0\\n    37 H      -5.765400    -2.290900    -1.179500 H          1 UNL1 0.0\\n    38 H      -6.347700    -1.671200    -2.724400 H          1 UNL1 0.0\\n    39 C       0.329300    -0.301300     2.050700 C.3        1 UNL1 0.0\\n    40 C       1.705100    -0.973900     2.193100 C.3        1 UNL1 0.0\\n    41 C      -0.682300    -1.134900     2.837100 C.3        1 UNL1 0.0\\n    42 H       0.386500     0.671200     2.560000 H          1 UNL1 0.0\\n    43 H       1.959900    -1.117900     3.249000 H          1 UNL1 0.0\\n    44 H       2.503200    -0.373000     1.748700 H          1 UNL1 0.0\\n    45 H       1.713400    -1.956200     1.708100 H          1 UNL1 0.0\\n    46 H      -0.382500    -1.201500     3.889700 H          1 UNL1 0.0\\n    47 H      -0.739900    -2.158600     2.457000 H          1 UNL1 0.0\\n    48 H      -1.676800    -0.680200     2.826100 H          1 UNL1 0.0\\n@<TRIPOS>BOND\\n     1      1      2          1\\n     2      2      3          1\\n     3      3      4          1\\n     4      4      5          2\\n     5      5      1          1\\n     6      4      6          1\\n     7      6      7          1\\n     8      7      8          1\\n     9      8      9          1\\n    10      9     10          1\\n    11     10     11          1\\n    12     11      7          2\\n    13     11     12          1\\n    14     12      5          1\\n    15     12     13          1\\n    16     12     14          1\\n    17      6     15          1\\n    18      6     16          1\\n    19      1     17          1\\n    20      2     18          1\\n    21      2     19          1\\n    22      9     20          1\\n    23      9     21          1\\n    24     10     22          1\\n    25     15     23          1\\n    26     15     24          1\\n    27     15     25          1\\n    28     16     26          1\\n    29     16     27          1\\n    30     16     28          1\\n    31     29     30          1\\n    32     29     31          1\\n    33     29     32          1\\n    34     30     33          1\\n    35     30     34          1\\n    36     30     35          1\\n    37     31     36          1\\n    38     31     37          1\\n    39     31     38          1\\n    40     10     29          1\\n    41     39     40          1\\n    42     39     41          1\\n    43     39     42          1\\n    44     40     43          1\\n    45     40     44          1\\n    46     40     45          1\\n    47     41     46          1\\n    48     41     47          1\\n    49     41     48          1\\n    50      1     39          1\\n\",\"mol2\");\n\tviewer_1687204460426125.setStyle({\"stick\": {\"radius\": 0.1}, \"sphere\": {\"scale\": 0.15}});\n\tviewer_1687204460426125.setHoverable({},true,\"\\n            function(atom,viewer,event,container) {\\n                if(!atom.label) {\\n                    atom.label = viewer.addLabel(atom.elem + atom.serial, {position: atom, backgroundColor: 'mintcream', fontColor:'black'});\\n                }\\n            }\\n            \",\"\\n            function(atom,viewer) { \\n                if(atom.label) {\\n                    viewer.removeLabel(atom.label);\\n                    delete atom.label;\\n                }\\n            }\\n            \");\n\tviewer_1687204460426125.zoomTo();\n\tviewer_1687204460426125.setBackgroundColor(null);\nviewer_1687204460426125.render();\n});\n</script>",
      "text/html": [
       "<div id=\"3dmolviewer_1687204460426125\"  style=\"position: relative; width: 1000px; height: 500px\">\n",
       "        <p id=\"3dmolwarning_1687204460426125\" style=\"background-color:#ffcccc;color:black\">You appear to be running in JupyterLab (or JavaScript failed to load for some other reason).  You need to install the 3dmol extension: <br>\n",
       "        <tt>jupyter labextension install jupyterlab_3dmol</tt></p>\n",
       "        </div>\n",
       "<script>\n",
       "\n",
       "var loadScriptAsync = function(uri){\n",
       "  return new Promise((resolve, reject) => {\n",
       "    //this is to ignore the existence of requirejs amd\n",
       "    var savedexports, savedmodule;\n",
       "    if (typeof exports !== 'undefined') savedexports = exports;\n",
       "    else exports = {}\n",
       "    if (typeof module !== 'undefined') savedmodule = module;\n",
       "    else module = {}\n",
       "\n",
       "    var tag = document.createElement('script');\n",
       "    tag.src = uri;\n",
       "    tag.async = true;\n",
       "    tag.onload = () => {\n",
       "        exports = savedexports;\n",
       "        module = savedmodule;\n",
       "        resolve();\n",
       "    };\n",
       "  var firstScriptTag = document.getElementsByTagName('script')[0];\n",
       "  firstScriptTag.parentNode.insertBefore(tag, firstScriptTag);\n",
       "});\n",
       "};\n",
       "\n",
       "if(typeof $3Dmolpromise === 'undefined') {\n",
       "$3Dmolpromise = null;\n",
       "  $3Dmolpromise = loadScriptAsync('https://cdnjs.cloudflare.com/ajax/libs/3Dmol/2.0.1/3Dmol-min.js');\n",
       "}\n",
       "\n",
       "var viewer_1687204460426125 = null;\n",
       "var warn = document.getElementById(\"3dmolwarning_1687204460426125\");\n",
       "if(warn) {\n",
       "    warn.parentNode.removeChild(warn);\n",
       "}\n",
       "$3Dmolpromise.then(function() {\n",
       "viewer_1687204460426125 = $3Dmol.createViewer(document.getElementById(\"3dmolviewer_1687204460426125\"),{backgroundColor:\"white\"});\n",
       "viewer_1687204460426125.zoomTo();\n",
       "\tviewer_1687204460426125.addModel(\"# Produced with molli package\\n@<TRIPOS>MOLECULE\\n1_3_3\\n48 50 0 0 0\\nSMALL\\nUSER_CHARGES\\n\\n@<TRIPOS>ATOM\\n     1 C       0.006200    -0.068700     0.544100 C.3        1 UNL1 0.0\\n     2 C       0.806700     1.137300     0.036400 C.3        1 UNL1 0.0\\n     3 O      -0.052100     2.246600     0.372700 O.2        1 UNL1 0.0\\n     4 C      -1.299900     1.782100     0.364900 C.2        1 UNL1 0.0\\n     5 N      -1.359100     0.507100     0.343700 N.2        1 UNL1 0.0\\n     6 C      -2.507200     2.656300     0.336500 C.3        1 UNL1 0.0\\n     7 C      -3.764200     1.845500     0.311900 C.2        1 UNL1 0.0\\n     8 O      -4.940800     2.349700     0.673900 O.2        1 UNL1 0.0\\n     9 C      -5.847400     1.257000     0.866000 C.3        1 UNL1 0.0\\n    10 C      -5.217200     0.098800     0.083600 C.3        1 UNL1 0.0\\n    11 N      -3.812400     0.612100    -0.019900 N.2        1 UNL1 0.0\\n    12 C      -2.553200    -0.169200    -0.276300 C.3        1 UNL1 0.0\\n    13 BR     -2.171600    -0.144600    -2.230300 Br         1 UNL1 0.0\\n    14 BR     -2.726600    -2.025500     0.294000 Br         1 UNL1 0.0\\n    15 C      -2.487700     3.512400     1.612600 C.3        1 UNL1 0.0\\n    16 C      -2.472200     3.560300    -0.899300 C.3        1 UNL1 0.0\\n    17 H       0.151400    -0.960600    -0.072400 H          1 UNL1 0.0\\n    18 H       1.782400     1.276700     0.506800 H          1 UNL1 0.0\\n    19 H       0.938800     1.123100    -1.052300 H          1 UNL1 0.0\\n    20 H      -5.896200     1.041300     1.939900 H          1 UNL1 0.0\\n    21 H      -6.848100     1.538900     0.525200 H          1 UNL1 0.0\\n    22 H      -5.246000    -0.801700     0.704200 H          1 UNL1 0.0\\n    23 H      -1.567800     4.103900     1.686700 H          1 UNL1 0.0\\n    24 H      -3.332500     4.210000     1.644200 H          1 UNL1 0.0\\n    25 H      -2.546500     2.884300     2.509900 H          1 UNL1 0.0\\n    26 H      -1.577000     4.192500    -0.908300 H          1 UNL1 0.0\\n    27 H      -2.466900     2.976900    -1.826200 H          1 UNL1 0.0\\n    28 H      -3.348700     4.217500    -0.936100 H          1 UNL1 0.0\\n    29 C      -5.954500    -0.125300    -1.256300 C.3        1 UNL1 0.0\\n    30 C      -5.847300     1.012300    -2.276200 C.3        1 UNL1 0.0\\n    31 C      -5.648800    -1.477100    -1.902700 C.3        1 UNL1 0.0\\n    32 H      -7.022300    -0.188800    -0.997200 H          1 UNL1 0.0\\n    33 H      -4.829200     1.145300    -2.646600 H          1 UNL1 0.0\\n    34 H      -6.485400     0.807400    -3.143200 H          1 UNL1 0.0\\n    35 H      -6.180000     1.963600    -1.849600 H          1 UNL1 0.0\\n    36 H      -4.644600    -1.529500    -2.319300 H          1 UNL1 0.0\\n    37 H      -5.765400    -2.290900    -1.179500 H          1 UNL1 0.0\\n    38 H      -6.347700    -1.671200    -2.724400 H          1 UNL1 0.0\\n    39 C       0.329300    -0.301300     2.050700 C.3        1 UNL1 0.0\\n    40 C       1.705100    -0.973900     2.193100 C.3        1 UNL1 0.0\\n    41 C      -0.682300    -1.134900     2.837100 C.3        1 UNL1 0.0\\n    42 H       0.386500     0.671200     2.560000 H          1 UNL1 0.0\\n    43 H       1.959900    -1.117900     3.249000 H          1 UNL1 0.0\\n    44 H       2.503200    -0.373000     1.748700 H          1 UNL1 0.0\\n    45 H       1.713400    -1.956200     1.708100 H          1 UNL1 0.0\\n    46 H      -0.382500    -1.201500     3.889700 H          1 UNL1 0.0\\n    47 H      -0.739900    -2.158600     2.457000 H          1 UNL1 0.0\\n    48 H      -1.676800    -0.680200     2.826100 H          1 UNL1 0.0\\n@<TRIPOS>BOND\\n     1      1      2          1\\n     2      2      3          1\\n     3      3      4          1\\n     4      4      5          2\\n     5      5      1          1\\n     6      4      6          1\\n     7      6      7          1\\n     8      7      8          1\\n     9      8      9          1\\n    10      9     10          1\\n    11     10     11          1\\n    12     11      7          2\\n    13     11     12          1\\n    14     12      5          1\\n    15     12     13          1\\n    16     12     14          1\\n    17      6     15          1\\n    18      6     16          1\\n    19      1     17          1\\n    20      2     18          1\\n    21      2     19          1\\n    22      9     20          1\\n    23      9     21          1\\n    24     10     22          1\\n    25     15     23          1\\n    26     15     24          1\\n    27     15     25          1\\n    28     16     26          1\\n    29     16     27          1\\n    30     16     28          1\\n    31     29     30          1\\n    32     29     31          1\\n    33     29     32          1\\n    34     30     33          1\\n    35     30     34          1\\n    36     30     35          1\\n    37     31     36          1\\n    38     31     37          1\\n    39     31     38          1\\n    40     10     29          1\\n    41     39     40          1\\n    42     39     41          1\\n    43     39     42          1\\n    44     40     43          1\\n    45     40     44          1\\n    46     40     45          1\\n    47     41     46          1\\n    48     41     47          1\\n    49     41     48          1\\n    50      1     39          1\\n\",\"mol2\");\n",
       "\tviewer_1687204460426125.setStyle({\"stick\": {\"radius\": 0.1}, \"sphere\": {\"scale\": 0.15}});\n",
       "\tviewer_1687204460426125.setHoverable({},true,\"\\n            function(atom,viewer,event,container) {\\n                if(!atom.label) {\\n                    atom.label = viewer.addLabel(atom.elem + atom.serial, {position: atom, backgroundColor: 'mintcream', fontColor:'black'});\\n                }\\n            }\\n            \",\"\\n            function(atom,viewer) { \\n                if(atom.label) {\\n                    viewer.removeLabel(atom.label);\\n                    delete atom.label;\\n                }\\n            }\\n            \");\n",
       "\tviewer_1687204460426125.zoomTo();\n",
       "\tviewer_1687204460426125.setBackgroundColor(null);\n",
       "viewer_1687204460426125.render();\n",
       "});\n",
       "</script>"
      ]
     },
     "metadata": {},
     "output_type": "display_data"
    },
    {
     "data": {
      "text/plain": [
       "Conformer(name='1_3_3', formula='C16 H26 Br2 N2 O2')"
      ]
     },
     "execution_count": 17,
     "metadata": {},
     "output_type": "execute_result"
    }
   ],
   "source": [
    "print(clib[0])\n",
    "\n",
    "clib['1_3_3'][0]"
   ]
  },
  {
   "cell_type": "code",
   "execution_count": 18,
   "metadata": {},
   "outputs": [
    {
     "data": {
      "application/3dmoljs_load.v0": "<div id=\"3dmolviewer_16872044604383225\"  style=\"position: relative; width: 1000px; height: 500px\">\n        <p id=\"3dmolwarning_16872044604383225\" style=\"background-color:#ffcccc;color:black\">You appear to be running in JupyterLab (or JavaScript failed to load for some other reason).  You need to install the 3dmol extension: <br>\n        <tt>jupyter labextension install jupyterlab_3dmol</tt></p>\n        </div>\n<script>\n\nvar loadScriptAsync = function(uri){\n  return new Promise((resolve, reject) => {\n    //this is to ignore the existence of requirejs amd\n    var savedexports, savedmodule;\n    if (typeof exports !== 'undefined') savedexports = exports;\n    else exports = {}\n    if (typeof module !== 'undefined') savedmodule = module;\n    else module = {}\n\n    var tag = document.createElement('script');\n    tag.src = uri;\n    tag.async = true;\n    tag.onload = () => {\n        exports = savedexports;\n        module = savedmodule;\n        resolve();\n    };\n  var firstScriptTag = document.getElementsByTagName('script')[0];\n  firstScriptTag.parentNode.insertBefore(tag, firstScriptTag);\n});\n};\n\nif(typeof $3Dmolpromise === 'undefined') {\n$3Dmolpromise = null;\n  $3Dmolpromise = loadScriptAsync('https://cdnjs.cloudflare.com/ajax/libs/3Dmol/2.0.1/3Dmol-min.js');\n}\n\nvar viewer_16872044604383225 = null;\nvar warn = document.getElementById(\"3dmolwarning_16872044604383225\");\nif(warn) {\n    warn.parentNode.removeChild(warn);\n}\n$3Dmolpromise.then(function() {\nviewer_16872044604383225 = $3Dmol.createViewer(document.getElementById(\"3dmolviewer_16872044604383225\"),{backgroundColor:\"white\"});\nviewer_16872044604383225.zoomTo();\n\tviewer_16872044604383225.addModel(\"# Produced with molli package\\n@<TRIPOS>MOLECULE\\n1_3_3\\n48 50 0 0 0\\nSMALL\\nUSER_CHARGES\\n\\n@<TRIPOS>ATOM\\n     1 C       0.022800    -0.072300     0.478100 C.3        1 UNL1 0.0\\n     2 C       0.844300     1.186000     0.200700 C.3        1 UNL1 0.0\\n     3 O      -0.066200     2.258100     0.500900 O.2        1 UNL1 0.0\\n     4 C      -1.303800     1.778000     0.393300 C.2        1 UNL1 0.0\\n     5 N      -1.348200     0.504800     0.314900 N.2        1 UNL1 0.0\\n     6 C      -2.509800     2.653500     0.336400 C.3        1 UNL1 0.0\\n     7 C      -3.770700     1.856200     0.282900 C.2        1 UNL1 0.0\\n     8 O      -4.966200     2.390500     0.517100 O.2        1 UNL1 0.0\\n     9 C      -5.926600     1.329400     0.627100 C.3        1 UNL1 0.0\\n    10 C      -5.224000     0.113900     0.023400 C.3        1 UNL1 0.0\\n    11 N      -3.810500     0.610500     0.009600 N.2        1 UNL1 0.0\\n    12 C      -2.565300    -0.200700    -0.206900 C.3        1 UNL1 0.0\\n    13 BR     -2.764900    -1.973000     0.589800 Br         1 UNL1 0.0\\n    14 BR     -2.258500    -0.383200    -2.156700 Br         1 UNL1 0.0\\n    15 C      -2.434300     3.536800    -0.914000 C.3        1 UNL1 0.0\\n    16 C      -2.525900     3.525300     1.600600 C.3        1 UNL1 0.0\\n    17 H       0.192100    -0.832200    -0.292000 H          1 UNL1 0.0\\n    18 H       1.749000     1.284300     0.805300 H          1 UNL1 0.0\\n    19 H       1.123300     1.266400    -0.856800 H          1 UNL1 0.0\\n    20 H      -6.855300     1.616600     0.128300 H          1 UNL1 0.0\\n    21 H      -6.143100     1.181000     1.691400 H          1 UNL1 0.0\\n    22 H      -5.298100    -0.724700     0.722800 H          1 UNL1 0.0\\n    23 H      -2.402500     2.933300    -1.828300 H          1 UNL1 0.0\\n    24 H      -3.306200     4.196700    -0.990000 H          1 UNL1 0.0\\n    25 H      -1.536500     4.165400    -0.907400 H          1 UNL1 0.0\\n    26 H      -3.374500     4.218900     1.602200 H          1 UNL1 0.0\\n    27 H      -2.604800     2.907900     2.503700 H          1 UNL1 0.0\\n    28 H      -1.611200     4.122500     1.690900 H          1 UNL1 0.0\\n    29 C      -5.728700    -0.301900    -1.373100 C.3        1 UNL1 0.0\\n    30 C      -7.104400    -0.973100    -1.257500 C.3        1 UNL1 0.0\\n    31 C      -5.810200     0.837500    -2.397500 C.3        1 UNL1 0.0\\n    32 H      -5.056100    -1.066200    -1.777300 H          1 UNL1 0.0\\n    33 H      -7.866900    -0.278200    -0.891500 H          1 UNL1 0.0\\n    34 H      -7.433900    -1.348600    -2.232400 H          1 UNL1 0.0\\n    35 H      -7.064000    -1.825700    -0.571200 H          1 UNL1 0.0\\n    36 H      -6.572800     1.575500    -2.130000 H          1 UNL1 0.0\\n    37 H      -4.857200     1.362500    -2.504200 H          1 UNL1 0.0\\n    38 H      -6.075100     0.440300    -3.383800 H          1 UNL1 0.0\\n    39 C       0.241100    -0.659100     1.897200 C.3        1 UNL1 0.0\\n    40 C       0.103400     0.339300     3.054100 C.3        1 UNL1 0.0\\n    41 C       1.611700    -1.345600     1.977300 C.3        1 UNL1 0.0\\n    42 H      -0.496200    -1.444500     2.081700 H          1 UNL1 0.0\\n    43 H       0.842000     1.144300     2.993700 H          1 UNL1 0.0\\n    44 H      -0.895100     0.785900     3.080300 H          1 UNL1 0.0\\n    45 H       0.252200    -0.168200     4.013900 H          1 UNL1 0.0\\n    46 H       1.729400    -1.860200     2.937200 H          1 UNL1 0.0\\n    47 H       2.433900    -0.629900     1.881400 H          1 UNL1 0.0\\n    48 H       1.717400    -2.095300     1.185900 H          1 UNL1 0.0\\n@<TRIPOS>BOND\\n     1      1      2          1\\n     2      2      3          1\\n     3      3      4          1\\n     4      4      5          2\\n     5      5      1          1\\n     6      4      6          1\\n     7      6      7          1\\n     8      7      8          1\\n     9      8      9          1\\n    10      9     10          1\\n    11     10     11          1\\n    12     11      7          2\\n    13     11     12          1\\n    14     12      5          1\\n    15     12     13          1\\n    16     12     14          1\\n    17      6     15          1\\n    18      6     16          1\\n    19      1     17          1\\n    20      2     18          1\\n    21      2     19          1\\n    22      9     20          1\\n    23      9     21          1\\n    24     10     22          1\\n    25     15     23          1\\n    26     15     24          1\\n    27     15     25          1\\n    28     16     26          1\\n    29     16     27          1\\n    30     16     28          1\\n    31     29     30          1\\n    32     29     31          1\\n    33     29     32          1\\n    34     30     33          1\\n    35     30     34          1\\n    36     30     35          1\\n    37     31     36          1\\n    38     31     37          1\\n    39     31     38          1\\n    40     10     29          1\\n    41     39     40          1\\n    42     39     41          1\\n    43     39     42          1\\n    44     40     43          1\\n    45     40     44          1\\n    46     40     45          1\\n    47     41     46          1\\n    48     41     47          1\\n    49     41     48          1\\n    50      1     39          1\\n\",\"mol2\");\n\tviewer_16872044604383225.setStyle({\"stick\": {\"radius\": 0.1}, \"sphere\": {\"scale\": 0.15}});\n\tviewer_16872044604383225.setHoverable({},true,\"\\n            function(atom,viewer,event,container) {\\n                if(!atom.label) {\\n                    atom.label = viewer.addLabel(atom.elem + atom.serial, {position: atom, backgroundColor: 'mintcream', fontColor:'black'});\\n                }\\n            }\\n            \",\"\\n            function(atom,viewer) { \\n                if(atom.label) {\\n                    viewer.removeLabel(atom.label);\\n                    delete atom.label;\\n                }\\n            }\\n            \");\n\tviewer_16872044604383225.zoomTo();\n\tviewer_16872044604383225.setBackgroundColor(null);\nviewer_16872044604383225.render();\n});\n</script>",
      "text/html": [
       "<div id=\"3dmolviewer_16872044604383225\"  style=\"position: relative; width: 1000px; height: 500px\">\n",
       "        <p id=\"3dmolwarning_16872044604383225\" style=\"background-color:#ffcccc;color:black\">You appear to be running in JupyterLab (or JavaScript failed to load for some other reason).  You need to install the 3dmol extension: <br>\n",
       "        <tt>jupyter labextension install jupyterlab_3dmol</tt></p>\n",
       "        </div>\n",
       "<script>\n",
       "\n",
       "var loadScriptAsync = function(uri){\n",
       "  return new Promise((resolve, reject) => {\n",
       "    //this is to ignore the existence of requirejs amd\n",
       "    var savedexports, savedmodule;\n",
       "    if (typeof exports !== 'undefined') savedexports = exports;\n",
       "    else exports = {}\n",
       "    if (typeof module !== 'undefined') savedmodule = module;\n",
       "    else module = {}\n",
       "\n",
       "    var tag = document.createElement('script');\n",
       "    tag.src = uri;\n",
       "    tag.async = true;\n",
       "    tag.onload = () => {\n",
       "        exports = savedexports;\n",
       "        module = savedmodule;\n",
       "        resolve();\n",
       "    };\n",
       "  var firstScriptTag = document.getElementsByTagName('script')[0];\n",
       "  firstScriptTag.parentNode.insertBefore(tag, firstScriptTag);\n",
       "});\n",
       "};\n",
       "\n",
       "if(typeof $3Dmolpromise === 'undefined') {\n",
       "$3Dmolpromise = null;\n",
       "  $3Dmolpromise = loadScriptAsync('https://cdnjs.cloudflare.com/ajax/libs/3Dmol/2.0.1/3Dmol-min.js');\n",
       "}\n",
       "\n",
       "var viewer_16872044604383225 = null;\n",
       "var warn = document.getElementById(\"3dmolwarning_16872044604383225\");\n",
       "if(warn) {\n",
       "    warn.parentNode.removeChild(warn);\n",
       "}\n",
       "$3Dmolpromise.then(function() {\n",
       "viewer_16872044604383225 = $3Dmol.createViewer(document.getElementById(\"3dmolviewer_16872044604383225\"),{backgroundColor:\"white\"});\n",
       "viewer_16872044604383225.zoomTo();\n",
       "\tviewer_16872044604383225.addModel(\"# Produced with molli package\\n@<TRIPOS>MOLECULE\\n1_3_3\\n48 50 0 0 0\\nSMALL\\nUSER_CHARGES\\n\\n@<TRIPOS>ATOM\\n     1 C       0.022800    -0.072300     0.478100 C.3        1 UNL1 0.0\\n     2 C       0.844300     1.186000     0.200700 C.3        1 UNL1 0.0\\n     3 O      -0.066200     2.258100     0.500900 O.2        1 UNL1 0.0\\n     4 C      -1.303800     1.778000     0.393300 C.2        1 UNL1 0.0\\n     5 N      -1.348200     0.504800     0.314900 N.2        1 UNL1 0.0\\n     6 C      -2.509800     2.653500     0.336400 C.3        1 UNL1 0.0\\n     7 C      -3.770700     1.856200     0.282900 C.2        1 UNL1 0.0\\n     8 O      -4.966200     2.390500     0.517100 O.2        1 UNL1 0.0\\n     9 C      -5.926600     1.329400     0.627100 C.3        1 UNL1 0.0\\n    10 C      -5.224000     0.113900     0.023400 C.3        1 UNL1 0.0\\n    11 N      -3.810500     0.610500     0.009600 N.2        1 UNL1 0.0\\n    12 C      -2.565300    -0.200700    -0.206900 C.3        1 UNL1 0.0\\n    13 BR     -2.764900    -1.973000     0.589800 Br         1 UNL1 0.0\\n    14 BR     -2.258500    -0.383200    -2.156700 Br         1 UNL1 0.0\\n    15 C      -2.434300     3.536800    -0.914000 C.3        1 UNL1 0.0\\n    16 C      -2.525900     3.525300     1.600600 C.3        1 UNL1 0.0\\n    17 H       0.192100    -0.832200    -0.292000 H          1 UNL1 0.0\\n    18 H       1.749000     1.284300     0.805300 H          1 UNL1 0.0\\n    19 H       1.123300     1.266400    -0.856800 H          1 UNL1 0.0\\n    20 H      -6.855300     1.616600     0.128300 H          1 UNL1 0.0\\n    21 H      -6.143100     1.181000     1.691400 H          1 UNL1 0.0\\n    22 H      -5.298100    -0.724700     0.722800 H          1 UNL1 0.0\\n    23 H      -2.402500     2.933300    -1.828300 H          1 UNL1 0.0\\n    24 H      -3.306200     4.196700    -0.990000 H          1 UNL1 0.0\\n    25 H      -1.536500     4.165400    -0.907400 H          1 UNL1 0.0\\n    26 H      -3.374500     4.218900     1.602200 H          1 UNL1 0.0\\n    27 H      -2.604800     2.907900     2.503700 H          1 UNL1 0.0\\n    28 H      -1.611200     4.122500     1.690900 H          1 UNL1 0.0\\n    29 C      -5.728700    -0.301900    -1.373100 C.3        1 UNL1 0.0\\n    30 C      -7.104400    -0.973100    -1.257500 C.3        1 UNL1 0.0\\n    31 C      -5.810200     0.837500    -2.397500 C.3        1 UNL1 0.0\\n    32 H      -5.056100    -1.066200    -1.777300 H          1 UNL1 0.0\\n    33 H      -7.866900    -0.278200    -0.891500 H          1 UNL1 0.0\\n    34 H      -7.433900    -1.348600    -2.232400 H          1 UNL1 0.0\\n    35 H      -7.064000    -1.825700    -0.571200 H          1 UNL1 0.0\\n    36 H      -6.572800     1.575500    -2.130000 H          1 UNL1 0.0\\n    37 H      -4.857200     1.362500    -2.504200 H          1 UNL1 0.0\\n    38 H      -6.075100     0.440300    -3.383800 H          1 UNL1 0.0\\n    39 C       0.241100    -0.659100     1.897200 C.3        1 UNL1 0.0\\n    40 C       0.103400     0.339300     3.054100 C.3        1 UNL1 0.0\\n    41 C       1.611700    -1.345600     1.977300 C.3        1 UNL1 0.0\\n    42 H      -0.496200    -1.444500     2.081700 H          1 UNL1 0.0\\n    43 H       0.842000     1.144300     2.993700 H          1 UNL1 0.0\\n    44 H      -0.895100     0.785900     3.080300 H          1 UNL1 0.0\\n    45 H       0.252200    -0.168200     4.013900 H          1 UNL1 0.0\\n    46 H       1.729400    -1.860200     2.937200 H          1 UNL1 0.0\\n    47 H       2.433900    -0.629900     1.881400 H          1 UNL1 0.0\\n    48 H       1.717400    -2.095300     1.185900 H          1 UNL1 0.0\\n@<TRIPOS>BOND\\n     1      1      2          1\\n     2      2      3          1\\n     3      3      4          1\\n     4      4      5          2\\n     5      5      1          1\\n     6      4      6          1\\n     7      6      7          1\\n     8      7      8          1\\n     9      8      9          1\\n    10      9     10          1\\n    11     10     11          1\\n    12     11      7          2\\n    13     11     12          1\\n    14     12      5          1\\n    15     12     13          1\\n    16     12     14          1\\n    17      6     15          1\\n    18      6     16          1\\n    19      1     17          1\\n    20      2     18          1\\n    21      2     19          1\\n    22      9     20          1\\n    23      9     21          1\\n    24     10     22          1\\n    25     15     23          1\\n    26     15     24          1\\n    27     15     25          1\\n    28     16     26          1\\n    29     16     27          1\\n    30     16     28          1\\n    31     29     30          1\\n    32     29     31          1\\n    33     29     32          1\\n    34     30     33          1\\n    35     30     34          1\\n    36     30     35          1\\n    37     31     36          1\\n    38     31     37          1\\n    39     31     38          1\\n    40     10     29          1\\n    41     39     40          1\\n    42     39     41          1\\n    43     39     42          1\\n    44     40     43          1\\n    45     40     44          1\\n    46     40     45          1\\n    47     41     46          1\\n    48     41     47          1\\n    49     41     48          1\\n    50      1     39          1\\n\",\"mol2\");\n",
       "\tviewer_16872044604383225.setStyle({\"stick\": {\"radius\": 0.1}, \"sphere\": {\"scale\": 0.15}});\n",
       "\tviewer_16872044604383225.setHoverable({},true,\"\\n            function(atom,viewer,event,container) {\\n                if(!atom.label) {\\n                    atom.label = viewer.addLabel(atom.elem + atom.serial, {position: atom, backgroundColor: 'mintcream', fontColor:'black'});\\n                }\\n            }\\n            \",\"\\n            function(atom,viewer) { \\n                if(atom.label) {\\n                    viewer.removeLabel(atom.label);\\n                    delete atom.label;\\n                }\\n            }\\n            \");\n",
       "\tviewer_16872044604383225.zoomTo();\n",
       "\tviewer_16872044604383225.setBackgroundColor(null);\n",
       "viewer_16872044604383225.render();\n",
       "});\n",
       "</script>"
      ]
     },
     "metadata": {},
     "output_type": "display_data"
    },
    {
     "data": {
      "text/plain": [
       "Conformer(name='1_3_3', formula='C16 H26 Br2 N2 O2')"
      ]
     },
     "execution_count": 18,
     "metadata": {},
     "output_type": "execute_result"
    }
   ],
   "source": [
    "clib['1_3_3'][1]"
   ]
  },
  {
   "cell_type": "code",
   "execution_count": 19,
   "metadata": {},
   "outputs": [
    {
     "data": {
      "application/3dmoljs_load.v0": "<div id=\"3dmolviewer_16872044604514875\"  style=\"position: relative; width: 1000px; height: 500px\">\n        <p id=\"3dmolwarning_16872044604514875\" style=\"background-color:#ffcccc;color:black\">You appear to be running in JupyterLab (or JavaScript failed to load for some other reason).  You need to install the 3dmol extension: <br>\n        <tt>jupyter labextension install jupyterlab_3dmol</tt></p>\n        </div>\n<script>\n\nvar loadScriptAsync = function(uri){\n  return new Promise((resolve, reject) => {\n    //this is to ignore the existence of requirejs amd\n    var savedexports, savedmodule;\n    if (typeof exports !== 'undefined') savedexports = exports;\n    else exports = {}\n    if (typeof module !== 'undefined') savedmodule = module;\n    else module = {}\n\n    var tag = document.createElement('script');\n    tag.src = uri;\n    tag.async = true;\n    tag.onload = () => {\n        exports = savedexports;\n        module = savedmodule;\n        resolve();\n    };\n  var firstScriptTag = document.getElementsByTagName('script')[0];\n  firstScriptTag.parentNode.insertBefore(tag, firstScriptTag);\n});\n};\n\nif(typeof $3Dmolpromise === 'undefined') {\n$3Dmolpromise = null;\n  $3Dmolpromise = loadScriptAsync('https://cdnjs.cloudflare.com/ajax/libs/3Dmol/2.0.1/3Dmol-min.js');\n}\n\nvar viewer_16872044604514875 = null;\nvar warn = document.getElementById(\"3dmolwarning_16872044604514875\");\nif(warn) {\n    warn.parentNode.removeChild(warn);\n}\n$3Dmolpromise.then(function() {\nviewer_16872044604514875 = $3Dmol.createViewer(document.getElementById(\"3dmolviewer_16872044604514875\"),{backgroundColor:\"white\"});\nviewer_16872044604514875.zoomTo();\n\tviewer_16872044604514875.addModel(\"# Produced with molli package\\n@<TRIPOS>MOLECULE\\n3_6_6\\n74 78 0 0 0\\nSMALL\\nUSER_CHARGES\\n\\n@<TRIPOS>ATOM\\n     1 C       0.129500     0.047000     0.169000 C.3        1 UNL1 0.0\\n     2 C       0.820100     1.217700     0.906700 C.3        1 UNL1 0.0\\n     3 O      -0.097100     2.292400     0.604200 O.2        1 UNL1 0.0\\n     4 C      -1.313700     1.773300     0.436000 C.2        1 UNL1 0.0\\n     5 N      -1.316200     0.505300     0.284900 N.2        1 UNL1 0.0\\n     6 C      -2.511000     2.647400     0.315000 C.3        1 UNL1 0.0\\n     7 C      -3.771000     1.862900     0.273600 C.2        1 UNL1 0.0\\n     8 O      -4.952200     2.427700     0.504400 O.2        1 UNL1 0.0\\n     9 C      -5.927400     1.391100     0.710400 C.3        1 UNL1 0.0\\n    10 C      -5.276000     0.140500     0.070500 C.3        1 UNL1 0.0\\n    11 N      -3.831100     0.614200     0.027600 N.2        1 UNL1 0.0\\n    12 C      -2.580800    -0.244200    -0.085000 C.3        1 UNL1 0.0\\n    13 BR     -2.819400    -1.712400     1.181400 Br         1 UNL1 0.0\\n    14 BR     -2.366400    -0.759000    -1.950600 Br         1 UNL1 0.0\\n    15 C      -2.409100     3.454600    -0.985600 C.3        1 UNL1 0.0\\n    16 C      -2.546700     3.595800     1.522500 C.3        1 UNL1 0.0\\n    17 C      -7.322600     1.874800     0.265200 C.3        1 UNL1 0.0\\n    18 C      -7.938000     2.757500     1.363000 C.3        1 UNL1 0.0\\n    19 C      -7.317300     2.684900    -1.037000 C.3        1 UNL1 0.0\\n    20 C       1.006200     1.152800     2.449800 C.3        1 UNL1 0.0\\n    21 C       1.188100     2.563400     3.037100 C.3        1 UNL1 0.0\\n    22 C       2.210100     0.306900     2.878200 C.3        1 UNL1 0.0\\n    23 H       0.361100     0.162100    -0.897100 H          1 UNL1 0.0\\n    24 H       1.779400     1.448400     0.426700 H          1 UNL1 0.0\\n    25 H      -5.958400     1.217900     1.796600 H          1 UNL1 0.0\\n    26 H      -5.362100    -0.669500     0.797400 H          1 UNL1 0.0\\n    27 H      -1.526900     4.104000    -0.987300 H          1 UNL1 0.0\\n    28 H      -3.292900     4.085600    -1.131200 H          1 UNL1 0.0\\n    29 H      -2.334300     2.794100    -1.858500 H          1 UNL1 0.0\\n    30 H      -3.406500     4.273400     1.481100 H          1 UNL1 0.0\\n    31 H      -1.644800     4.216600     1.574800 H          1 UNL1 0.0\\n    32 H      -2.615100     3.035300     2.462300 H          1 UNL1 0.0\\n    33 H      -7.987000     1.009800     0.155600 H          1 UNL1 0.0\\n    34 H      -7.318900     3.638300     1.563800 H          1 UNL1 0.0\\n    35 H      -8.045300     2.196800     2.297000 H          1 UNL1 0.0\\n    36 H      -8.934900     3.102600     1.070500 H          1 UNL1 0.0\\n    37 H      -6.771100     3.627300    -0.923100 H          1 UNL1 0.0\\n    38 H      -6.866600     2.139000    -1.866600 H          1 UNL1 0.0\\n    39 H      -8.341500     2.934300    -1.333100 H          1 UNL1 0.0\\n    40 H       0.105200     0.732500     2.911600 H          1 UNL1 0.0\\n    41 H       2.031400     3.079300     2.565600 H          1 UNL1 0.0\\n    42 H       0.292400     3.176500     2.896400 H          1 UNL1 0.0\\n    43 H       1.377200     2.518500     4.114500 H          1 UNL1 0.0\\n    44 H       3.096300     0.546300     2.281900 H          1 UNL1 0.0\\n    45 H       2.459300     0.480000     3.930800 H          1 UNL1 0.0\\n    46 H       2.009900    -0.762600     2.792100 H          1 UNL1 0.0\\n    47 C      -5.827600    -0.262300    -1.305600 C.3        1 UNL1 0.0\\n    48 C      -5.594500    -1.693600    -1.736900 C.ar       1 UNL1 0.0\\n    49 C      -5.347200    -1.959800    -3.094900 C.ar       1 UNL1 0.0\\n    50 C      -5.137000    -3.264600    -3.543200 C.ar       1 UNL1 0.0\\n    51 C      -5.201900    -4.326300    -2.647700 C.ar       1 UNL1 0.0\\n    52 C      -5.504300    -4.086200    -1.310500 C.ar       1 UNL1 0.0\\n    53 C      -5.718200    -2.780900    -0.859500 C.ar       1 UNL1 0.0\\n    54 H      -6.917800    -0.162000    -1.318300 H          1 UNL1 0.0\\n    55 H      -5.434900     0.417900    -2.072700 H          1 UNL1 0.0\\n    56 H      -5.321500    -1.157000    -3.831200 H          1 UNL1 0.0\\n    57 H      -4.943500    -3.456900    -4.597200 H          1 UNL1 0.0\\n    58 H      -5.054800    -5.345500    -3.001100 H          1 UNL1 0.0\\n    59 H      -5.606500    -4.928300    -0.627300 H          1 UNL1 0.0\\n    60 H      -6.020900    -2.660400     0.177700 H          1 UNL1 0.0\\n    61 C       0.531800    -1.342000     0.655300 C.3        1 UNL1 0.0\\n    62 C       0.297200    -2.489300    -0.300300 C.ar       1 UNL1 0.0\\n    63 C       0.716300    -2.430400    -1.638900 C.ar       1 UNL1 0.0\\n    64 C       0.500300    -3.508100    -2.501000 C.ar       1 UNL1 0.0\\n    65 C      -0.105800    -4.669300    -2.031600 C.ar       1 UNL1 0.0\\n    66 C      -0.466900    -4.767500    -0.692200 C.ar       1 UNL1 0.0\\n    67 C      -0.246700    -3.693900     0.171500 C.ar       1 UNL1 0.0\\n    68 H       1.619000    -1.350800     0.797700 H          1 UNL1 0.0\\n    69 H       0.087600    -1.554800     1.632300 H          1 UNL1 0.0\\n    70 H       1.246900    -1.569700    -2.040500 H          1 UNL1 0.0\\n    71 H       0.830000    -3.457100    -3.537400 H          1 UNL1 0.0\\n    72 H      -0.257400    -5.514600    -2.700600 H          1 UNL1 0.0\\n    73 H      -0.892200    -5.695600    -0.315200 H          1 UNL1 0.0\\n    74 H      -0.491000    -3.830700     1.223700 H          1 UNL1 0.0\\n@<TRIPOS>BOND\\n     1      1      2          1\\n     2      2      3          1\\n     3      3      4          1\\n     4      4      5          2\\n     5      5      1          1\\n     6      4      6          1\\n     7      6      7          1\\n     8      7      8          1\\n     9      8      9          1\\n    10      9     10          1\\n    11     10     11          1\\n    12     11      7          2\\n    13     11     12          1\\n    14     12      5          1\\n    15     12     13          1\\n    16     12     14          1\\n    17      6     15          1\\n    18      6     16          1\\n    19     17     18          1\\n    20     17     19          1\\n    21      9     17          1\\n    22     20     21          1\\n    23     20     22          1\\n    24      2     20          1\\n    25      1     23          1\\n    26      2     24          1\\n    27      9     25          1\\n    28     10     26          1\\n    29     15     27          1\\n    30     15     28          1\\n    31     15     29          1\\n    32     16     30          1\\n    33     16     31          1\\n    34     16     32          1\\n    35     17     33          1\\n    36     18     34          1\\n    37     18     35          1\\n    38     18     36          1\\n    39     19     37          1\\n    40     19     38          1\\n    41     19     39          1\\n    42     20     40          1\\n    43     21     41          1\\n    44     21     42          1\\n    45     21     43          1\\n    46     22     44          1\\n    47     22     45          1\\n    48     22     46          1\\n    49     47     48          1\\n    50     48     49         ar\\n    51     49     50         ar\\n    52     50     51         ar\\n    53     51     52         ar\\n    54     52     53         ar\\n    55     53     48         ar\\n    56     47     54          1\\n    57     47     55          1\\n    58     49     56          1\\n    59     50     57          1\\n    60     51     58          1\\n    61     52     59          1\\n    62     53     60          1\\n    63     10     47          1\\n    64     61     62          1\\n    65     62     63         ar\\n    66     63     64         ar\\n    67     64     65         ar\\n    68     65     66         ar\\n    69     66     67         ar\\n    70     67     62         ar\\n    71     61     68          1\\n    72     61     69          1\\n    73     63     70          1\\n    74     64     71          1\\n    75     65     72          1\\n    76     66     73          1\\n    77     67     74          1\\n    78      1     61          1\\n\",\"mol2\");\n\tviewer_16872044604514875.setStyle({\"stick\": {\"radius\": 0.1}, \"sphere\": {\"scale\": 0.15}});\n\tviewer_16872044604514875.setHoverable({},true,\"\\n            function(atom,viewer,event,container) {\\n                if(!atom.label) {\\n                    atom.label = viewer.addLabel(atom.elem + atom.serial, {position: atom, backgroundColor: 'mintcream', fontColor:'black'});\\n                }\\n            }\\n            \",\"\\n            function(atom,viewer) { \\n                if(atom.label) {\\n                    viewer.removeLabel(atom.label);\\n                    delete atom.label;\\n                }\\n            }\\n            \");\n\tviewer_16872044604514875.zoomTo();\n\tviewer_16872044604514875.setBackgroundColor(null);\nviewer_16872044604514875.render();\n});\n</script>",
      "text/html": [
       "<div id=\"3dmolviewer_16872044604514875\"  style=\"position: relative; width: 1000px; height: 500px\">\n",
       "        <p id=\"3dmolwarning_16872044604514875\" style=\"background-color:#ffcccc;color:black\">You appear to be running in JupyterLab (or JavaScript failed to load for some other reason).  You need to install the 3dmol extension: <br>\n",
       "        <tt>jupyter labextension install jupyterlab_3dmol</tt></p>\n",
       "        </div>\n",
       "<script>\n",
       "\n",
       "var loadScriptAsync = function(uri){\n",
       "  return new Promise((resolve, reject) => {\n",
       "    //this is to ignore the existence of requirejs amd\n",
       "    var savedexports, savedmodule;\n",
       "    if (typeof exports !== 'undefined') savedexports = exports;\n",
       "    else exports = {}\n",
       "    if (typeof module !== 'undefined') savedmodule = module;\n",
       "    else module = {}\n",
       "\n",
       "    var tag = document.createElement('script');\n",
       "    tag.src = uri;\n",
       "    tag.async = true;\n",
       "    tag.onload = () => {\n",
       "        exports = savedexports;\n",
       "        module = savedmodule;\n",
       "        resolve();\n",
       "    };\n",
       "  var firstScriptTag = document.getElementsByTagName('script')[0];\n",
       "  firstScriptTag.parentNode.insertBefore(tag, firstScriptTag);\n",
       "});\n",
       "};\n",
       "\n",
       "if(typeof $3Dmolpromise === 'undefined') {\n",
       "$3Dmolpromise = null;\n",
       "  $3Dmolpromise = loadScriptAsync('https://cdnjs.cloudflare.com/ajax/libs/3Dmol/2.0.1/3Dmol-min.js');\n",
       "}\n",
       "\n",
       "var viewer_16872044604514875 = null;\n",
       "var warn = document.getElementById(\"3dmolwarning_16872044604514875\");\n",
       "if(warn) {\n",
       "    warn.parentNode.removeChild(warn);\n",
       "}\n",
       "$3Dmolpromise.then(function() {\n",
       "viewer_16872044604514875 = $3Dmol.createViewer(document.getElementById(\"3dmolviewer_16872044604514875\"),{backgroundColor:\"white\"});\n",
       "viewer_16872044604514875.zoomTo();\n",
       "\tviewer_16872044604514875.addModel(\"# Produced with molli package\\n@<TRIPOS>MOLECULE\\n3_6_6\\n74 78 0 0 0\\nSMALL\\nUSER_CHARGES\\n\\n@<TRIPOS>ATOM\\n     1 C       0.129500     0.047000     0.169000 C.3        1 UNL1 0.0\\n     2 C       0.820100     1.217700     0.906700 C.3        1 UNL1 0.0\\n     3 O      -0.097100     2.292400     0.604200 O.2        1 UNL1 0.0\\n     4 C      -1.313700     1.773300     0.436000 C.2        1 UNL1 0.0\\n     5 N      -1.316200     0.505300     0.284900 N.2        1 UNL1 0.0\\n     6 C      -2.511000     2.647400     0.315000 C.3        1 UNL1 0.0\\n     7 C      -3.771000     1.862900     0.273600 C.2        1 UNL1 0.0\\n     8 O      -4.952200     2.427700     0.504400 O.2        1 UNL1 0.0\\n     9 C      -5.927400     1.391100     0.710400 C.3        1 UNL1 0.0\\n    10 C      -5.276000     0.140500     0.070500 C.3        1 UNL1 0.0\\n    11 N      -3.831100     0.614200     0.027600 N.2        1 UNL1 0.0\\n    12 C      -2.580800    -0.244200    -0.085000 C.3        1 UNL1 0.0\\n    13 BR     -2.819400    -1.712400     1.181400 Br         1 UNL1 0.0\\n    14 BR     -2.366400    -0.759000    -1.950600 Br         1 UNL1 0.0\\n    15 C      -2.409100     3.454600    -0.985600 C.3        1 UNL1 0.0\\n    16 C      -2.546700     3.595800     1.522500 C.3        1 UNL1 0.0\\n    17 C      -7.322600     1.874800     0.265200 C.3        1 UNL1 0.0\\n    18 C      -7.938000     2.757500     1.363000 C.3        1 UNL1 0.0\\n    19 C      -7.317300     2.684900    -1.037000 C.3        1 UNL1 0.0\\n    20 C       1.006200     1.152800     2.449800 C.3        1 UNL1 0.0\\n    21 C       1.188100     2.563400     3.037100 C.3        1 UNL1 0.0\\n    22 C       2.210100     0.306900     2.878200 C.3        1 UNL1 0.0\\n    23 H       0.361100     0.162100    -0.897100 H          1 UNL1 0.0\\n    24 H       1.779400     1.448400     0.426700 H          1 UNL1 0.0\\n    25 H      -5.958400     1.217900     1.796600 H          1 UNL1 0.0\\n    26 H      -5.362100    -0.669500     0.797400 H          1 UNL1 0.0\\n    27 H      -1.526900     4.104000    -0.987300 H          1 UNL1 0.0\\n    28 H      -3.292900     4.085600    -1.131200 H          1 UNL1 0.0\\n    29 H      -2.334300     2.794100    -1.858500 H          1 UNL1 0.0\\n    30 H      -3.406500     4.273400     1.481100 H          1 UNL1 0.0\\n    31 H      -1.644800     4.216600     1.574800 H          1 UNL1 0.0\\n    32 H      -2.615100     3.035300     2.462300 H          1 UNL1 0.0\\n    33 H      -7.987000     1.009800     0.155600 H          1 UNL1 0.0\\n    34 H      -7.318900     3.638300     1.563800 H          1 UNL1 0.0\\n    35 H      -8.045300     2.196800     2.297000 H          1 UNL1 0.0\\n    36 H      -8.934900     3.102600     1.070500 H          1 UNL1 0.0\\n    37 H      -6.771100     3.627300    -0.923100 H          1 UNL1 0.0\\n    38 H      -6.866600     2.139000    -1.866600 H          1 UNL1 0.0\\n    39 H      -8.341500     2.934300    -1.333100 H          1 UNL1 0.0\\n    40 H       0.105200     0.732500     2.911600 H          1 UNL1 0.0\\n    41 H       2.031400     3.079300     2.565600 H          1 UNL1 0.0\\n    42 H       0.292400     3.176500     2.896400 H          1 UNL1 0.0\\n    43 H       1.377200     2.518500     4.114500 H          1 UNL1 0.0\\n    44 H       3.096300     0.546300     2.281900 H          1 UNL1 0.0\\n    45 H       2.459300     0.480000     3.930800 H          1 UNL1 0.0\\n    46 H       2.009900    -0.762600     2.792100 H          1 UNL1 0.0\\n    47 C      -5.827600    -0.262300    -1.305600 C.3        1 UNL1 0.0\\n    48 C      -5.594500    -1.693600    -1.736900 C.ar       1 UNL1 0.0\\n    49 C      -5.347200    -1.959800    -3.094900 C.ar       1 UNL1 0.0\\n    50 C      -5.137000    -3.264600    -3.543200 C.ar       1 UNL1 0.0\\n    51 C      -5.201900    -4.326300    -2.647700 C.ar       1 UNL1 0.0\\n    52 C      -5.504300    -4.086200    -1.310500 C.ar       1 UNL1 0.0\\n    53 C      -5.718200    -2.780900    -0.859500 C.ar       1 UNL1 0.0\\n    54 H      -6.917800    -0.162000    -1.318300 H          1 UNL1 0.0\\n    55 H      -5.434900     0.417900    -2.072700 H          1 UNL1 0.0\\n    56 H      -5.321500    -1.157000    -3.831200 H          1 UNL1 0.0\\n    57 H      -4.943500    -3.456900    -4.597200 H          1 UNL1 0.0\\n    58 H      -5.054800    -5.345500    -3.001100 H          1 UNL1 0.0\\n    59 H      -5.606500    -4.928300    -0.627300 H          1 UNL1 0.0\\n    60 H      -6.020900    -2.660400     0.177700 H          1 UNL1 0.0\\n    61 C       0.531800    -1.342000     0.655300 C.3        1 UNL1 0.0\\n    62 C       0.297200    -2.489300    -0.300300 C.ar       1 UNL1 0.0\\n    63 C       0.716300    -2.430400    -1.638900 C.ar       1 UNL1 0.0\\n    64 C       0.500300    -3.508100    -2.501000 C.ar       1 UNL1 0.0\\n    65 C      -0.105800    -4.669300    -2.031600 C.ar       1 UNL1 0.0\\n    66 C      -0.466900    -4.767500    -0.692200 C.ar       1 UNL1 0.0\\n    67 C      -0.246700    -3.693900     0.171500 C.ar       1 UNL1 0.0\\n    68 H       1.619000    -1.350800     0.797700 H          1 UNL1 0.0\\n    69 H       0.087600    -1.554800     1.632300 H          1 UNL1 0.0\\n    70 H       1.246900    -1.569700    -2.040500 H          1 UNL1 0.0\\n    71 H       0.830000    -3.457100    -3.537400 H          1 UNL1 0.0\\n    72 H      -0.257400    -5.514600    -2.700600 H          1 UNL1 0.0\\n    73 H      -0.892200    -5.695600    -0.315200 H          1 UNL1 0.0\\n    74 H      -0.491000    -3.830700     1.223700 H          1 UNL1 0.0\\n@<TRIPOS>BOND\\n     1      1      2          1\\n     2      2      3          1\\n     3      3      4          1\\n     4      4      5          2\\n     5      5      1          1\\n     6      4      6          1\\n     7      6      7          1\\n     8      7      8          1\\n     9      8      9          1\\n    10      9     10          1\\n    11     10     11          1\\n    12     11      7          2\\n    13     11     12          1\\n    14     12      5          1\\n    15     12     13          1\\n    16     12     14          1\\n    17      6     15          1\\n    18      6     16          1\\n    19     17     18          1\\n    20     17     19          1\\n    21      9     17          1\\n    22     20     21          1\\n    23     20     22          1\\n    24      2     20          1\\n    25      1     23          1\\n    26      2     24          1\\n    27      9     25          1\\n    28     10     26          1\\n    29     15     27          1\\n    30     15     28          1\\n    31     15     29          1\\n    32     16     30          1\\n    33     16     31          1\\n    34     16     32          1\\n    35     17     33          1\\n    36     18     34          1\\n    37     18     35          1\\n    38     18     36          1\\n    39     19     37          1\\n    40     19     38          1\\n    41     19     39          1\\n    42     20     40          1\\n    43     21     41          1\\n    44     21     42          1\\n    45     21     43          1\\n    46     22     44          1\\n    47     22     45          1\\n    48     22     46          1\\n    49     47     48          1\\n    50     48     49         ar\\n    51     49     50         ar\\n    52     50     51         ar\\n    53     51     52         ar\\n    54     52     53         ar\\n    55     53     48         ar\\n    56     47     54          1\\n    57     47     55          1\\n    58     49     56          1\\n    59     50     57          1\\n    60     51     58          1\\n    61     52     59          1\\n    62     53     60          1\\n    63     10     47          1\\n    64     61     62          1\\n    65     62     63         ar\\n    66     63     64         ar\\n    67     64     65         ar\\n    68     65     66         ar\\n    69     66     67         ar\\n    70     67     62         ar\\n    71     61     68          1\\n    72     61     69          1\\n    73     63     70          1\\n    74     64     71          1\\n    75     65     72          1\\n    76     66     73          1\\n    77     67     74          1\\n    78      1     61          1\\n\",\"mol2\");\n",
       "\tviewer_16872044604514875.setStyle({\"stick\": {\"radius\": 0.1}, \"sphere\": {\"scale\": 0.15}});\n",
       "\tviewer_16872044604514875.setHoverable({},true,\"\\n            function(atom,viewer,event,container) {\\n                if(!atom.label) {\\n                    atom.label = viewer.addLabel(atom.elem + atom.serial, {position: atom, backgroundColor: 'mintcream', fontColor:'black'});\\n                }\\n            }\\n            \",\"\\n            function(atom,viewer) { \\n                if(atom.label) {\\n                    viewer.removeLabel(atom.label);\\n                    delete atom.label;\\n                }\\n            }\\n            \");\n",
       "\tviewer_16872044604514875.zoomTo();\n",
       "\tviewer_16872044604514875.setBackgroundColor(null);\n",
       "viewer_16872044604514875.render();\n",
       "});\n",
       "</script>"
      ]
     },
     "metadata": {},
     "output_type": "display_data"
    },
    {
     "data": {
      "text/plain": [
       "Conformer(name='3_6_6', formula='C30 H38 Br2 N2 O2')"
      ]
     },
     "execution_count": 19,
     "metadata": {},
     "output_type": "execute_result"
    }
   ],
   "source": [
    "clib['3_6_6'][0]"
   ]
  },
  {
   "cell_type": "code",
   "execution_count": 20,
   "metadata": {},
   "outputs": [
    {
     "data": {
      "application/3dmoljs_load.v0": "<div id=\"3dmolviewer_1687204460465229\"  style=\"position: relative; width: 1000px; height: 500px\">\n        <p id=\"3dmolwarning_1687204460465229\" style=\"background-color:#ffcccc;color:black\">You appear to be running in JupyterLab (or JavaScript failed to load for some other reason).  You need to install the 3dmol extension: <br>\n        <tt>jupyter labextension install jupyterlab_3dmol</tt></p>\n        </div>\n<script>\n\nvar loadScriptAsync = function(uri){\n  return new Promise((resolve, reject) => {\n    //this is to ignore the existence of requirejs amd\n    var savedexports, savedmodule;\n    if (typeof exports !== 'undefined') savedexports = exports;\n    else exports = {}\n    if (typeof module !== 'undefined') savedmodule = module;\n    else module = {}\n\n    var tag = document.createElement('script');\n    tag.src = uri;\n    tag.async = true;\n    tag.onload = () => {\n        exports = savedexports;\n        module = savedmodule;\n        resolve();\n    };\n  var firstScriptTag = document.getElementsByTagName('script')[0];\n  firstScriptTag.parentNode.insertBefore(tag, firstScriptTag);\n});\n};\n\nif(typeof $3Dmolpromise === 'undefined') {\n$3Dmolpromise = null;\n  $3Dmolpromise = loadScriptAsync('https://cdnjs.cloudflare.com/ajax/libs/3Dmol/2.0.1/3Dmol-min.js');\n}\n\nvar viewer_1687204460465229 = null;\nvar warn = document.getElementById(\"3dmolwarning_1687204460465229\");\nif(warn) {\n    warn.parentNode.removeChild(warn);\n}\n$3Dmolpromise.then(function() {\nviewer_1687204460465229 = $3Dmol.createViewer(document.getElementById(\"3dmolviewer_1687204460465229\"),{backgroundColor:\"white\"});\nviewer_1687204460465229.zoomTo();\n\tviewer_1687204460465229.addModel(\"# Produced with molli package\\n@<TRIPOS>MOLECULE\\n3_6_6\\n74 78 0 0 0\\nSMALL\\nUSER_CHARGES\\n\\n@<TRIPOS>ATOM\\n     1 C      -0.020100    -0.071400     0.642600 C.3        1 UNL1 0.0\\n     2 C       0.805300     1.102400     0.080100 C.3        1 UNL1 0.0\\n     3 O      -0.044000     2.232600     0.407000 O.2        1 UNL1 0.0\\n     4 C      -1.299500     1.782700     0.363700 C.2        1 UNL1 0.0\\n     5 N      -1.369800     0.507600     0.341500 N.2        1 UNL1 0.0\\n     6 C      -2.506000     2.659200     0.340200 C.3        1 UNL1 0.0\\n     7 C      -3.761800     1.844800     0.307300 C.2        1 UNL1 0.0\\n     8 O      -4.947900     2.338500     0.656600 O.2        1 UNL1 0.0\\n     9 C      -5.791300     1.213600     0.973900 C.3        1 UNL1 0.0\\n    10 C      -5.224000     0.103200     0.061400 C.3        1 UNL1 0.0\\n    11 N      -3.805800     0.608800    -0.015700 N.2        1 UNL1 0.0\\n    12 C      -2.552700    -0.164000    -0.302900 C.3        1 UNL1 0.0\\n    13 BR     -2.170600    -0.023400    -2.256300 Br         1 UNL1 0.0\\n    14 BR     -2.710400    -2.041800     0.140700 Br         1 UNL1 0.0\\n    15 C      -2.495200     3.491900     1.633500 C.3        1 UNL1 0.0\\n    16 C      -2.465400     3.589600    -0.874600 C.3        1 UNL1 0.0\\n    17 C      -7.276800     1.592500     0.876300 C.3        1 UNL1 0.0\\n    18 C      -8.171300     0.426400     1.299400 C.3        1 UNL1 0.0\\n    19 C      -7.585700     2.814500     1.751300 C.3        1 UNL1 0.0\\n    20 C       2.270200     1.352300     0.479000 C.3        1 UNL1 0.0\\n    21 C       3.138300     0.115800     0.258400 C.3        1 UNL1 0.0\\n    22 C       2.499000     1.954500     1.865200 C.3        1 UNL1 0.0\\n    23 H       0.134100    -1.001900     0.089300 H          1 UNL1 0.0\\n    24 H       0.800300     1.030200    -1.019900 H          1 UNL1 0.0\\n    25 H      -5.573400     0.959400     2.022400 H          1 UNL1 0.0\\n    26 H      -5.257500    -0.848100     0.596500 H          1 UNL1 0.0\\n    27 H      -2.563000     2.847500     2.518900 H          1 UNL1 0.0\\n    28 H      -3.339700     4.189100     1.670400 H          1 UNL1 0.0\\n    29 H      -1.575100     4.080900     1.725700 H          1 UNL1 0.0\\n    30 H      -3.363700     4.215900    -0.922600 H          1 UNL1 0.0\\n    31 H      -1.597500     4.255700    -0.836100 H          1 UNL1 0.0\\n    32 H      -2.411400     3.031600    -1.815200 H          1 UNL1 0.0\\n    33 H      -7.520800     1.887700    -0.151200 H          1 UNL1 0.0\\n    34 H      -9.228000     0.702100     1.226000 H          1 UNL1 0.0\\n    35 H      -7.974300     0.133600     2.336300 H          1 UNL1 0.0\\n    36 H      -8.017200    -0.455400     0.670400 H          1 UNL1 0.0\\n    37 H      -8.648900     3.072000     1.695800 H          1 UNL1 0.0\\n    38 H      -7.336100     2.625300     2.800900 H          1 UNL1 0.0\\n    39 H      -7.021800     3.691500     1.419600 H          1 UNL1 0.0\\n    40 H       2.632500     2.123900    -0.216000 H          1 UNL1 0.0\\n    41 H       2.873500    -0.698300     0.938600 H          1 UNL1 0.0\\n    42 H       3.034800    -0.254500    -0.767300 H          1 UNL1 0.0\\n    43 H       4.195200     0.352200     0.418900 H          1 UNL1 0.0\\n    44 H       3.533700     2.305500     1.951800 H          1 UNL1 0.0\\n    45 H       2.346800     1.233700     2.669900 H          1 UNL1 0.0\\n    46 H       1.850200     2.817700     2.039400 H          1 UNL1 0.0\\n    47 C      -5.865100     0.052300    -1.341500 C.3        1 UNL1 0.0\\n    48 C      -5.575900    -1.203900    -2.126000 C.ar       1 UNL1 0.0\\n    49 C      -5.180400    -1.115400    -3.468500 C.ar       1 UNL1 0.0\\n    50 C      -4.914900    -2.268400    -4.209700 C.ar       1 UNL1 0.0\\n    51 C      -5.073100    -3.523400    -3.630600 C.ar       1 UNL1 0.0\\n    52 C      -5.525400    -3.627800    -2.319100 C.ar       1 UNL1 0.0\\n    53 C      -5.792400    -2.476400    -1.575100 C.ar       1 UNL1 0.0\\n    54 H      -6.957200     0.091000    -1.272800 H          1 UNL1 0.0\\n    55 H      -5.565900     0.933700    -1.924600 H          1 UNL1 0.0\\n    56 H      -5.087300    -0.153600    -3.971800 H          1 UNL1 0.0\\n    57 H      -4.609900    -2.191700    -5.252200 H          1 UNL1 0.0\\n    58 H      -4.884600    -4.421300    -4.217000 H          1 UNL1 0.0\\n    59 H      -5.698800    -4.613200    -1.888300 H          1 UNL1 0.0\\n    60 H      -6.200000    -2.609000    -0.575100 H          1 UNL1 0.0\\n    61 C       0.143000    -0.227700     2.173400 C.3        1 UNL1 0.0\\n    62 C      -0.869000    -1.100400     2.867000 C.ar       1 UNL1 0.0\\n    63 C      -1.945000    -0.531500     3.568100 C.ar       1 UNL1 0.0\\n    64 C      -2.876800    -1.347100     4.212400 C.ar       1 UNL1 0.0\\n    65 C      -2.735000    -2.732700     4.173500 C.ar       1 UNL1 0.0\\n    66 C      -1.652200    -3.304600     3.508500 C.ar       1 UNL1 0.0\\n    67 C      -0.717900    -2.494000     2.861600 C.ar       1 UNL1 0.0\\n    68 H       1.134700    -0.639000     2.393200 H          1 UNL1 0.0\\n    69 H       0.116100     0.754300     2.664200 H          1 UNL1 0.0\\n    70 H      -2.035600     0.546400     3.689000 H          1 UNL1 0.0\\n    71 H      -3.685300    -0.911500     4.798600 H          1 UNL1 0.0\\n    72 H      -3.441700    -3.371600     4.703300 H          1 UNL1 0.0\\n    73 H      -1.523100    -4.386500     3.518100 H          1 UNL1 0.0\\n    74 H       0.134600    -2.970700     2.378500 H          1 UNL1 0.0\\n@<TRIPOS>BOND\\n     1      1      2          1\\n     2      2      3          1\\n     3      3      4          1\\n     4      4      5          2\\n     5      5      1          1\\n     6      4      6          1\\n     7      6      7          1\\n     8      7      8          1\\n     9      8      9          1\\n    10      9     10          1\\n    11     10     11          1\\n    12     11      7          2\\n    13     11     12          1\\n    14     12      5          1\\n    15     12     13          1\\n    16     12     14          1\\n    17      6     15          1\\n    18      6     16          1\\n    19     17     18          1\\n    20     17     19          1\\n    21      9     17          1\\n    22     20     21          1\\n    23     20     22          1\\n    24      2     20          1\\n    25      1     23          1\\n    26      2     24          1\\n    27      9     25          1\\n    28     10     26          1\\n    29     15     27          1\\n    30     15     28          1\\n    31     15     29          1\\n    32     16     30          1\\n    33     16     31          1\\n    34     16     32          1\\n    35     17     33          1\\n    36     18     34          1\\n    37     18     35          1\\n    38     18     36          1\\n    39     19     37          1\\n    40     19     38          1\\n    41     19     39          1\\n    42     20     40          1\\n    43     21     41          1\\n    44     21     42          1\\n    45     21     43          1\\n    46     22     44          1\\n    47     22     45          1\\n    48     22     46          1\\n    49     47     48          1\\n    50     48     49         ar\\n    51     49     50         ar\\n    52     50     51         ar\\n    53     51     52         ar\\n    54     52     53         ar\\n    55     53     48         ar\\n    56     47     54          1\\n    57     47     55          1\\n    58     49     56          1\\n    59     50     57          1\\n    60     51     58          1\\n    61     52     59          1\\n    62     53     60          1\\n    63     10     47          1\\n    64     61     62          1\\n    65     62     63         ar\\n    66     63     64         ar\\n    67     64     65         ar\\n    68     65     66         ar\\n    69     66     67         ar\\n    70     67     62         ar\\n    71     61     68          1\\n    72     61     69          1\\n    73     63     70          1\\n    74     64     71          1\\n    75     65     72          1\\n    76     66     73          1\\n    77     67     74          1\\n    78      1     61          1\\n\",\"mol2\");\n\tviewer_1687204460465229.setStyle({\"stick\": {\"radius\": 0.1}, \"sphere\": {\"scale\": 0.15}});\n\tviewer_1687204460465229.setHoverable({},true,\"\\n            function(atom,viewer,event,container) {\\n                if(!atom.label) {\\n                    atom.label = viewer.addLabel(atom.elem + atom.serial, {position: atom, backgroundColor: 'mintcream', fontColor:'black'});\\n                }\\n            }\\n            \",\"\\n            function(atom,viewer) { \\n                if(atom.label) {\\n                    viewer.removeLabel(atom.label);\\n                    delete atom.label;\\n                }\\n            }\\n            \");\n\tviewer_1687204460465229.zoomTo();\n\tviewer_1687204460465229.setBackgroundColor(null);\nviewer_1687204460465229.render();\n});\n</script>",
      "text/html": [
       "<div id=\"3dmolviewer_1687204460465229\"  style=\"position: relative; width: 1000px; height: 500px\">\n",
       "        <p id=\"3dmolwarning_1687204460465229\" style=\"background-color:#ffcccc;color:black\">You appear to be running in JupyterLab (or JavaScript failed to load for some other reason).  You need to install the 3dmol extension: <br>\n",
       "        <tt>jupyter labextension install jupyterlab_3dmol</tt></p>\n",
       "        </div>\n",
       "<script>\n",
       "\n",
       "var loadScriptAsync = function(uri){\n",
       "  return new Promise((resolve, reject) => {\n",
       "    //this is to ignore the existence of requirejs amd\n",
       "    var savedexports, savedmodule;\n",
       "    if (typeof exports !== 'undefined') savedexports = exports;\n",
       "    else exports = {}\n",
       "    if (typeof module !== 'undefined') savedmodule = module;\n",
       "    else module = {}\n",
       "\n",
       "    var tag = document.createElement('script');\n",
       "    tag.src = uri;\n",
       "    tag.async = true;\n",
       "    tag.onload = () => {\n",
       "        exports = savedexports;\n",
       "        module = savedmodule;\n",
       "        resolve();\n",
       "    };\n",
       "  var firstScriptTag = document.getElementsByTagName('script')[0];\n",
       "  firstScriptTag.parentNode.insertBefore(tag, firstScriptTag);\n",
       "});\n",
       "};\n",
       "\n",
       "if(typeof $3Dmolpromise === 'undefined') {\n",
       "$3Dmolpromise = null;\n",
       "  $3Dmolpromise = loadScriptAsync('https://cdnjs.cloudflare.com/ajax/libs/3Dmol/2.0.1/3Dmol-min.js');\n",
       "}\n",
       "\n",
       "var viewer_1687204460465229 = null;\n",
       "var warn = document.getElementById(\"3dmolwarning_1687204460465229\");\n",
       "if(warn) {\n",
       "    warn.parentNode.removeChild(warn);\n",
       "}\n",
       "$3Dmolpromise.then(function() {\n",
       "viewer_1687204460465229 = $3Dmol.createViewer(document.getElementById(\"3dmolviewer_1687204460465229\"),{backgroundColor:\"white\"});\n",
       "viewer_1687204460465229.zoomTo();\n",
       "\tviewer_1687204460465229.addModel(\"# Produced with molli package\\n@<TRIPOS>MOLECULE\\n3_6_6\\n74 78 0 0 0\\nSMALL\\nUSER_CHARGES\\n\\n@<TRIPOS>ATOM\\n     1 C      -0.020100    -0.071400     0.642600 C.3        1 UNL1 0.0\\n     2 C       0.805300     1.102400     0.080100 C.3        1 UNL1 0.0\\n     3 O      -0.044000     2.232600     0.407000 O.2        1 UNL1 0.0\\n     4 C      -1.299500     1.782700     0.363700 C.2        1 UNL1 0.0\\n     5 N      -1.369800     0.507600     0.341500 N.2        1 UNL1 0.0\\n     6 C      -2.506000     2.659200     0.340200 C.3        1 UNL1 0.0\\n     7 C      -3.761800     1.844800     0.307300 C.2        1 UNL1 0.0\\n     8 O      -4.947900     2.338500     0.656600 O.2        1 UNL1 0.0\\n     9 C      -5.791300     1.213600     0.973900 C.3        1 UNL1 0.0\\n    10 C      -5.224000     0.103200     0.061400 C.3        1 UNL1 0.0\\n    11 N      -3.805800     0.608800    -0.015700 N.2        1 UNL1 0.0\\n    12 C      -2.552700    -0.164000    -0.302900 C.3        1 UNL1 0.0\\n    13 BR     -2.170600    -0.023400    -2.256300 Br         1 UNL1 0.0\\n    14 BR     -2.710400    -2.041800     0.140700 Br         1 UNL1 0.0\\n    15 C      -2.495200     3.491900     1.633500 C.3        1 UNL1 0.0\\n    16 C      -2.465400     3.589600    -0.874600 C.3        1 UNL1 0.0\\n    17 C      -7.276800     1.592500     0.876300 C.3        1 UNL1 0.0\\n    18 C      -8.171300     0.426400     1.299400 C.3        1 UNL1 0.0\\n    19 C      -7.585700     2.814500     1.751300 C.3        1 UNL1 0.0\\n    20 C       2.270200     1.352300     0.479000 C.3        1 UNL1 0.0\\n    21 C       3.138300     0.115800     0.258400 C.3        1 UNL1 0.0\\n    22 C       2.499000     1.954500     1.865200 C.3        1 UNL1 0.0\\n    23 H       0.134100    -1.001900     0.089300 H          1 UNL1 0.0\\n    24 H       0.800300     1.030200    -1.019900 H          1 UNL1 0.0\\n    25 H      -5.573400     0.959400     2.022400 H          1 UNL1 0.0\\n    26 H      -5.257500    -0.848100     0.596500 H          1 UNL1 0.0\\n    27 H      -2.563000     2.847500     2.518900 H          1 UNL1 0.0\\n    28 H      -3.339700     4.189100     1.670400 H          1 UNL1 0.0\\n    29 H      -1.575100     4.080900     1.725700 H          1 UNL1 0.0\\n    30 H      -3.363700     4.215900    -0.922600 H          1 UNL1 0.0\\n    31 H      -1.597500     4.255700    -0.836100 H          1 UNL1 0.0\\n    32 H      -2.411400     3.031600    -1.815200 H          1 UNL1 0.0\\n    33 H      -7.520800     1.887700    -0.151200 H          1 UNL1 0.0\\n    34 H      -9.228000     0.702100     1.226000 H          1 UNL1 0.0\\n    35 H      -7.974300     0.133600     2.336300 H          1 UNL1 0.0\\n    36 H      -8.017200    -0.455400     0.670400 H          1 UNL1 0.0\\n    37 H      -8.648900     3.072000     1.695800 H          1 UNL1 0.0\\n    38 H      -7.336100     2.625300     2.800900 H          1 UNL1 0.0\\n    39 H      -7.021800     3.691500     1.419600 H          1 UNL1 0.0\\n    40 H       2.632500     2.123900    -0.216000 H          1 UNL1 0.0\\n    41 H       2.873500    -0.698300     0.938600 H          1 UNL1 0.0\\n    42 H       3.034800    -0.254500    -0.767300 H          1 UNL1 0.0\\n    43 H       4.195200     0.352200     0.418900 H          1 UNL1 0.0\\n    44 H       3.533700     2.305500     1.951800 H          1 UNL1 0.0\\n    45 H       2.346800     1.233700     2.669900 H          1 UNL1 0.0\\n    46 H       1.850200     2.817700     2.039400 H          1 UNL1 0.0\\n    47 C      -5.865100     0.052300    -1.341500 C.3        1 UNL1 0.0\\n    48 C      -5.575900    -1.203900    -2.126000 C.ar       1 UNL1 0.0\\n    49 C      -5.180400    -1.115400    -3.468500 C.ar       1 UNL1 0.0\\n    50 C      -4.914900    -2.268400    -4.209700 C.ar       1 UNL1 0.0\\n    51 C      -5.073100    -3.523400    -3.630600 C.ar       1 UNL1 0.0\\n    52 C      -5.525400    -3.627800    -2.319100 C.ar       1 UNL1 0.0\\n    53 C      -5.792400    -2.476400    -1.575100 C.ar       1 UNL1 0.0\\n    54 H      -6.957200     0.091000    -1.272800 H          1 UNL1 0.0\\n    55 H      -5.565900     0.933700    -1.924600 H          1 UNL1 0.0\\n    56 H      -5.087300    -0.153600    -3.971800 H          1 UNL1 0.0\\n    57 H      -4.609900    -2.191700    -5.252200 H          1 UNL1 0.0\\n    58 H      -4.884600    -4.421300    -4.217000 H          1 UNL1 0.0\\n    59 H      -5.698800    -4.613200    -1.888300 H          1 UNL1 0.0\\n    60 H      -6.200000    -2.609000    -0.575100 H          1 UNL1 0.0\\n    61 C       0.143000    -0.227700     2.173400 C.3        1 UNL1 0.0\\n    62 C      -0.869000    -1.100400     2.867000 C.ar       1 UNL1 0.0\\n    63 C      -1.945000    -0.531500     3.568100 C.ar       1 UNL1 0.0\\n    64 C      -2.876800    -1.347100     4.212400 C.ar       1 UNL1 0.0\\n    65 C      -2.735000    -2.732700     4.173500 C.ar       1 UNL1 0.0\\n    66 C      -1.652200    -3.304600     3.508500 C.ar       1 UNL1 0.0\\n    67 C      -0.717900    -2.494000     2.861600 C.ar       1 UNL1 0.0\\n    68 H       1.134700    -0.639000     2.393200 H          1 UNL1 0.0\\n    69 H       0.116100     0.754300     2.664200 H          1 UNL1 0.0\\n    70 H      -2.035600     0.546400     3.689000 H          1 UNL1 0.0\\n    71 H      -3.685300    -0.911500     4.798600 H          1 UNL1 0.0\\n    72 H      -3.441700    -3.371600     4.703300 H          1 UNL1 0.0\\n    73 H      -1.523100    -4.386500     3.518100 H          1 UNL1 0.0\\n    74 H       0.134600    -2.970700     2.378500 H          1 UNL1 0.0\\n@<TRIPOS>BOND\\n     1      1      2          1\\n     2      2      3          1\\n     3      3      4          1\\n     4      4      5          2\\n     5      5      1          1\\n     6      4      6          1\\n     7      6      7          1\\n     8      7      8          1\\n     9      8      9          1\\n    10      9     10          1\\n    11     10     11          1\\n    12     11      7          2\\n    13     11     12          1\\n    14     12      5          1\\n    15     12     13          1\\n    16     12     14          1\\n    17      6     15          1\\n    18      6     16          1\\n    19     17     18          1\\n    20     17     19          1\\n    21      9     17          1\\n    22     20     21          1\\n    23     20     22          1\\n    24      2     20          1\\n    25      1     23          1\\n    26      2     24          1\\n    27      9     25          1\\n    28     10     26          1\\n    29     15     27          1\\n    30     15     28          1\\n    31     15     29          1\\n    32     16     30          1\\n    33     16     31          1\\n    34     16     32          1\\n    35     17     33          1\\n    36     18     34          1\\n    37     18     35          1\\n    38     18     36          1\\n    39     19     37          1\\n    40     19     38          1\\n    41     19     39          1\\n    42     20     40          1\\n    43     21     41          1\\n    44     21     42          1\\n    45     21     43          1\\n    46     22     44          1\\n    47     22     45          1\\n    48     22     46          1\\n    49     47     48          1\\n    50     48     49         ar\\n    51     49     50         ar\\n    52     50     51         ar\\n    53     51     52         ar\\n    54     52     53         ar\\n    55     53     48         ar\\n    56     47     54          1\\n    57     47     55          1\\n    58     49     56          1\\n    59     50     57          1\\n    60     51     58          1\\n    61     52     59          1\\n    62     53     60          1\\n    63     10     47          1\\n    64     61     62          1\\n    65     62     63         ar\\n    66     63     64         ar\\n    67     64     65         ar\\n    68     65     66         ar\\n    69     66     67         ar\\n    70     67     62         ar\\n    71     61     68          1\\n    72     61     69          1\\n    73     63     70          1\\n    74     64     71          1\\n    75     65     72          1\\n    76     66     73          1\\n    77     67     74          1\\n    78      1     61          1\\n\",\"mol2\");\n",
       "\tviewer_1687204460465229.setStyle({\"stick\": {\"radius\": 0.1}, \"sphere\": {\"scale\": 0.15}});\n",
       "\tviewer_1687204460465229.setHoverable({},true,\"\\n            function(atom,viewer,event,container) {\\n                if(!atom.label) {\\n                    atom.label = viewer.addLabel(atom.elem + atom.serial, {position: atom, backgroundColor: 'mintcream', fontColor:'black'});\\n                }\\n            }\\n            \",\"\\n            function(atom,viewer) { \\n                if(atom.label) {\\n                    viewer.removeLabel(atom.label);\\n                    delete atom.label;\\n                }\\n            }\\n            \");\n",
       "\tviewer_1687204460465229.zoomTo();\n",
       "\tviewer_1687204460465229.setBackgroundColor(null);\n",
       "viewer_1687204460465229.render();\n",
       "});\n",
       "</script>"
      ]
     },
     "metadata": {},
     "output_type": "display_data"
    },
    {
     "data": {
      "text/plain": [
       "Conformer(name='3_6_6', formula='C30 H38 Br2 N2 O2')"
      ]
     },
     "execution_count": 20,
     "metadata": {},
     "output_type": "execute_result"
    }
   ],
   "source": [
    "clib['3_6_6'][24]"
   ]
  },
  {
   "attachments": {},
   "cell_type": "markdown",
   "metadata": {},
   "source": [
    "# 4. ASO descriptor calculation"
   ]
  },
  {
   "cell_type": "code",
   "execution_count": 21,
   "metadata": {},
   "outputs": [
    {
     "name": "stdout",
     "output_type": "stream",
     "text": [
      "(7106, 3)\n"
     ]
    },
    {
     "name": "stderr",
     "output_type": "stream",
     "text": [
      "100%|██████████| 75/75 [00:00<00:00, 1659.81it/s]\n"
     ]
    },
    {
     "data": {
      "text/plain": [
       "CompletedProcess(args=['molli', 'grid', '--mlib', './ncsa-testing-output/test_conformers_new_env.mlib', '-o', './ncsa-testing-output/grid_new_env.npy'], returncode=0)"
      ]
     },
     "execution_count": 21,
     "metadata": {},
     "output_type": "execute_result"
    }
   ],
   "source": [
    "# first we make a grid for calculating aso\n",
    "subprocess.run(['molli', \n",
    "                'grid', \n",
    "                '--mlib', \n",
    "                f'{out_dir}test_conformers_new_env.mlib', \n",
    "                '-o', \n",
    "                f'{out_dir}grid_new_env.npy'\n",
    "                ])"
   ]
  },
  {
   "cell_type": "code",
   "execution_count": 22,
   "metadata": {},
   "outputs": [
    {
     "name": "stdout",
     "output_type": "stream",
     "text": [
      "Allocating storage for descriptors\n",
      "Will compute descriptor ASO using 128 cores.\n",
      "Grid shape: (7106, 3)\n"
     ]
    },
    {
     "name": "stderr",
     "output_type": "stream",
     "text": [
      "Loading batches of conformers: 0it [00:00, ?it/s]\n",
      "Submitting calculations:   0%|          | 0/75 [00:00<?, ?it/s]\u001b[A\n",
      "                                                               \u001b[A\n",
      "\n",
      "Gathering calculation results:   0%|          | 0/75 [00:00<?, ?it/s]\u001b[A\u001b[A\n",
      "\n",
      "Loading batches of conformers: 1it [00:13, 13.36s/it]                \u001b[A\u001b[A\n"
     ]
    },
    {
     "data": {
      "text/plain": [
       "CompletedProcess(args=['molli', 'gbca', 'aso', './ncsa-testing-output/test_conformers_new_env.mlib', '-g', './ncsa-testing-output/grid_new_env.npy', '-o', './ncsa-testing-output/aso_new_env.h5'], returncode=0)"
      ]
     },
     "execution_count": 22,
     "metadata": {},
     "output_type": "execute_result"
    }
   ],
   "source": [
    "# calculate aso\n",
    "subprocess.run(['molli', \n",
    "                'gbca', \n",
    "                'aso', \n",
    "                f'{out_dir}test_conformers_new_env.mlib', \n",
    "                '-g', \n",
    "                f'{out_dir}grid_new_env.npy', \n",
    "                '-o', \n",
    "                f'{out_dir}aso_new_env.h5'\n",
    "                ])\n",
    "# tqdm looks messed up"
   ]
  },
  {
   "attachments": {},
   "cell_type": "markdown",
   "metadata": {},
   "source": [
    "# 5. post-processing, dimensionaltiy reduction, clustering analysis"
   ]
  },
  {
   "cell_type": "code",
   "execution_count": 25,
   "metadata": {},
   "outputs": [
    {
     "name": "stderr",
     "output_type": "stream",
     "text": [
      "100%|██████████| 75/75 [00:00<00:00, 4586.55it/s]\n"
     ]
    },
    {
     "name": "stdout",
     "output_type": "stream",
     "text": [
      "shape of data after variance threshold: (75, 3787)\n",
      "total variance after variance threshold: 62.85\n",
      "\n",
      "shape of data after removing correlated columns (R > 0.8): (75, 244)\n",
      "total variance after removing correlated columns (R > 0.8): 3.35\n",
      "\n"
     ]
    },
    {
     "data": {
      "text/plain": [
       "CompletedProcess(args=['molli', 'cluster', './ncsa-testing-output/aso_new_env.h5', '-o', './ncsa-testing-output/new_env_data3', '-v', '0', '-c', '0.8'], returncode=0)"
      ]
     },
     "execution_count": 25,
     "metadata": {},
     "output_type": "execute_result"
    }
   ],
   "source": [
    "subprocess.run(\n",
    "     [ \n",
    "         'molli', \n",
    "         'cluster', \n",
    "         f'{out_dir}aso_new_env.h5', \n",
    "         '-o', \n",
    "         f'{out_dir}new_env_data3', \n",
    "         '-v', # variance threshold before doing clustering\n",
    "         '0', # remove 0 variance columns\n",
    "         '-c', # correlation cutoff before clustering\n",
    "         '0.8', # 0.8 by default\n",
    "     ]\n",
    " )"
   ]
  },
  {
   "cell_type": "code",
   "execution_count": 24,
   "metadata": {},
   "outputs": [
    {
     "name": "stderr",
     "output_type": "stream",
     "text": [
      "100%|██████████| 75/75 [00:00<00:00, 4498.27it/s]\n"
     ]
    },
    {
     "name": "stdout",
     "output_type": "stream",
     "text": [
      "shape of data after variance threshold: (75, 3787)\n",
      "total variance after variance threshold: 62.85\n",
      "\n",
      "shape of data after removing correlated columns (R > 0.8): (75, 244)\n",
      "total variance after removing correlated columns (R > 0.8): 3.35\n",
      "\n"
     ]
    },
    {
     "data": {
      "text/plain": [
       "CompletedProcess(args=['molli', 'cluster', './ncsa-testing-output/aso_new_env.h5', '-o', './ncsa-testing-output/new_env_data_pca', '-m', 'pca', '-v', '0', '-c', '0.8'], returncode=0)"
      ]
     },
     "execution_count": 24,
     "metadata": {},
     "output_type": "execute_result"
    }
   ],
   "source": [
    "subprocess.run(\n",
    "     [ \n",
    "         'molli', \n",
    "         'cluster', \n",
    "         f'{out_dir}aso_new_env.h5', \n",
    "         '-o', \n",
    "         f'{out_dir}new_env_data_pca', \n",
    "         '-m',\n",
    "         'pca',\n",
    "         '-v', # variance threshold before doing clustering\n",
    "         '0', # remove 0 variance columns\n",
    "         '-c', # correlation cutoff before clustering\n",
    "         '0.8', # 0.8 by default\n",
    "     ]\n",
    " )"
   ]
  }
 ],
 "metadata": {
  "kernelspec": {
   "display_name": "NCSA-workflow-dev",
   "language": "python",
   "name": "python3"
  },
  "language_info": {
   "codemirror_mode": {
    "name": "ipython",
    "version": 3
   },
   "file_extension": ".py",
   "mimetype": "text/x-python",
   "name": "python",
   "nbconvert_exporter": "python",
   "pygments_lexer": "ipython3",
   "version": "3.11.4"
  },
  "orig_nbformat": 4
 },
 "nbformat": 4,
 "nbformat_minor": 2
}
