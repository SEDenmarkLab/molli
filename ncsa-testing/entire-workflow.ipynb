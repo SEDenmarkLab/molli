{
 "cells": [
  {
   "attachments": {},
   "cell_type": "markdown",
   "metadata": {},
   "source": [
    "To-Do: entire workflow\n",
    "chemdraw parse -> combinatorial expansion -> conformer generation -> aso description -> post-processing/dimension-reduction/analysis -> plot/output data"
   ]
  },
  {
   "attachments": {},
   "cell_type": "markdown",
   "metadata": {},
   "source": [
    "1. ChemDraw Parsing"
   ]
  },
  {
   "cell_type": "code",
   "execution_count": 1,
   "metadata": {},
   "outputs": [],
   "source": [
    "import molli as ml\n",
    "import molli.visual\n",
    "import subprocess\n",
    "\n",
    "# This is a failsafe in case openbabel aint installed\n",
    "import openbabel"
   ]
  },
  {
   "cell_type": "code",
   "execution_count": 2,
   "metadata": {},
   "outputs": [],
   "source": [
    "cores = ml.files.box_cores_test_1\n",
    "subs = ml.files.box_substituents_test_1"
   ]
  },
  {
   "cell_type": "code",
   "execution_count": 3,
   "metadata": {},
   "outputs": [
    {
     "name": "stderr",
     "output_type": "stream",
     "text": [
      "100%|██████████| 5/5 [00:00<00:00, 80.09it/s]\n",
      "100%|██████████| 15/15 [00:00<00:00, 277.99it/s]\n"
     ]
    },
    {
     "data": {
      "text/plain": [
       "CompletedProcess(args=['molli', 'parse', '--hadd', '/home/shvedalx/dev/molli/molli/files/BOX_substituents_test_1.cdxml', '-o', '../ncsa-testing/ncsa-testing-data/BOX_subs_new_env.mlib', '--overwrite'], returncode=0)"
      ]
     },
     "execution_count": 3,
     "metadata": {},
     "output_type": "execute_result"
    }
   ],
   "source": [
    "subprocess.run(['molli', 'parse', '--hadd', f'{cores}', '-o', '../ncsa-testing/ncsa-testing-data/BOX_cores_new_env.mlib', \"--overwrite\"])\n",
    "subprocess.run(['molli', 'parse', '--hadd', f'{subs}', '-o', '../ncsa-testing/ncsa-testing-data/BOX_subs_new_env.mlib', \"--overwrite\"])"
   ]
  },
  {
   "cell_type": "code",
   "execution_count": 4,
   "metadata": {},
   "outputs": [
    {
     "name": "stdout",
     "output_type": "stream",
     "text": [
      "5\n"
     ]
    },
    {
     "data": {
      "application/3dmoljs_load.v0": "<div id=\"3dmolviewer_16867891145221272\"  style=\"position: relative; width: 1000px; height: 500px\">\n        <p id=\"3dmolwarning_16867891145221272\" style=\"background-color:#ffcccc;color:black\">You appear to be running in JupyterLab (or JavaScript failed to load for some other reason).  You need to install the 3dmol extension: <br>\n        <tt>jupyter labextension install jupyterlab_3dmol</tt></p>\n        </div>\n<script>\n\nvar loadScriptAsync = function(uri){\n  return new Promise((resolve, reject) => {\n    //this is to ignore the existence of requirejs amd\n    var savedexports, savedmodule;\n    if (typeof exports !== 'undefined') savedexports = exports;\n    else exports = {}\n    if (typeof module !== 'undefined') savedmodule = module;\n    else module = {}\n\n    var tag = document.createElement('script');\n    tag.src = uri;\n    tag.async = true;\n    tag.onload = () => {\n        exports = savedexports;\n        module = savedmodule;\n        resolve();\n    };\n  var firstScriptTag = document.getElementsByTagName('script')[0];\n  firstScriptTag.parentNode.insertBefore(tag, firstScriptTag);\n});\n};\n\nif(typeof $3Dmolpromise === 'undefined') {\n$3Dmolpromise = null;\n  $3Dmolpromise = loadScriptAsync('https://cdnjs.cloudflare.com/ajax/libs/3Dmol/2.0.1/3Dmol-min.js');\n}\n\nvar viewer_16867891145221272 = null;\nvar warn = document.getElementById(\"3dmolwarning_16867891145221272\");\nif(warn) {\n    warn.parentNode.removeChild(warn);\n}\n$3Dmolpromise.then(function() {\nviewer_16867891145221272 = $3Dmol.createViewer(document.getElementById(\"3dmolviewer_16867891145221272\"),{backgroundColor:\"white\"});\nviewer_16867891145221272.zoomTo();\n\tviewer_16867891145221272.addModel(\"# Produced with molli package\\n@<TRIPOS>MOLECULE\\n1\\n30 32 0 0 0\\nSMALL\\nUSER_CHARGES\\n\\n@<TRIPOS>ATOM\\n     1 C       2.653877    -0.900810     0.000000 C          1 UNL1 0.0\\n     2 C       3.535127     0.312731     0.000000 C          1 UNL1 0.0\\n     3 O       2.653877     1.526273     0.000000 O          1 UNL1 0.0\\n     4 C       1.226794     1.062732     0.000000 C          1 UNL1 0.0\\n     5 N       1.226794    -0.437269     0.000000 N          1 UNL1 0.0\\n     6 C      -0.072164     1.812732     0.000000 C          1 UNL1 0.0\\n     7 C      -1.371123     1.062732     0.000000 C          1 UNL1 0.0\\n     8 O      -2.798206     1.526273     0.000000 O          1 UNL1 0.0\\n     9 C      -3.679456     0.312731     0.000000 C          1 UNL1 0.0\\n    10 C      -2.798206    -0.900810     0.000000 C          1 UNL1 0.0\\n    11 N      -1.371123    -0.437269     0.000000 N          1 UNL1 0.0\\n    12 A1     -3.029977    -1.614352    -1.299453 Unknown    1 UNL1 0.0\\n    13 A1      2.885648    -1.614352     1.299453 Unknown    1 UNL1 0.0\\n    14 C      -0.072164    -1.187268     0.000000 C          1 UNL1 0.0\\n    15 Br     -0.072164    -1.187268     1.499931 Br         1 UNL1 0.0\\n    16 Br      0.677836    -2.486227     0.000000 Br         1 UNL1 0.0\\n    17 C      -0.072164     1.812732     1.500000 C          1 UNL1 0.0\\n    18 C       1.226794     2.562732     0.000000 C          1 UNL1 0.0\\n    19 H       2.859825    -1.534673    -0.837080 H          1 UNL1 0.0\\n    20 H       4.148880     0.312731     0.876544 H          1 UNL1 0.0\\n    21 H       4.148880     0.312731    -0.876544 H          1 UNL1 0.0\\n    22 H      -4.293208     0.312731     0.876544 H          1 UNL1 0.0\\n    23 H      -4.293208     0.312731    -0.876544 H          1 UNL1 0.0\\n    24 H      -3.004154    -1.534673     0.837080 H          1 UNL1 0.0\\n    25 H       0.492722     0.976913     1.856667 H          1 UNL1 0.0\\n    26 H      -1.078447     1.741434     1.856667 H          1 UNL1 0.0\\n    27 H       0.369232     2.719847     1.856667 H          1 UNL1 0.0\\n    28 H       1.787896     2.304234     0.873638 H          1 UNL1 0.0\\n    29 H       1.031246     3.614711     0.000027 H          1 UNL1 0.0\\n    30 H       1.787873     2.304274    -0.873665 H          1 UNL1 0.0\\n@<TRIPOS>BOND\\n     1      1      2          1\\n     2      2      3          1\\n     3      3      4          1\\n     4      4      5          2\\n     5      5      1          1\\n     6      4      6          1\\n     7      6      7          1\\n     8      7      8          1\\n     9      8      9          1\\n    10      9     10          1\\n    11     10     11          1\\n    12     11      7          2\\n    13     10     12          1\\n    14      1     13          1\\n    15     11     14          1\\n    16     14      5          1\\n    17     14     15          1\\n    18     14     16          1\\n    19      6     17          1\\n    20      6     18          1\\n    21      1     19          1\\n    22      2     20          1\\n    23      2     21          1\\n    24      9     22          1\\n    25      9     23          1\\n    26     10     24          1\\n    27     17     25          1\\n    28     17     26          1\\n    29     17     27          1\\n    30     18     28          1\\n    31     18     29          1\\n    32     18     30          1\\n\",\"mol2\");\n\tviewer_16867891145221272.setStyle({\"stick\": {\"radius\": 0.1}, \"sphere\": {\"scale\": 0.15}});\n\tviewer_16867891145221272.setHoverable({},true,\"\\n            function(atom,viewer,event,container) {\\n                if(!atom.label) {\\n                    atom.label = viewer.addLabel(atom.elem + atom.serial, {position: atom, backgroundColor: 'mintcream', fontColor:'black'});\\n                }\\n            }\\n            \",\"\\n            function(atom,viewer) { \\n                if(atom.label) {\\n                    viewer.removeLabel(atom.label);\\n                    delete atom.label;\\n                }\\n            }\\n            \");\n\tviewer_16867891145221272.zoomTo();\n\tviewer_16867891145221272.setBackgroundColor(null);\nviewer_16867891145221272.render();\n});\n</script>",
      "text/html": [
       "<div id=\"3dmolviewer_16867891145221272\"  style=\"position: relative; width: 1000px; height: 500px\">\n",
       "        <p id=\"3dmolwarning_16867891145221272\" style=\"background-color:#ffcccc;color:black\">You appear to be running in JupyterLab (or JavaScript failed to load for some other reason).  You need to install the 3dmol extension: <br>\n",
       "        <tt>jupyter labextension install jupyterlab_3dmol</tt></p>\n",
       "        </div>\n",
       "<script>\n",
       "\n",
       "var loadScriptAsync = function(uri){\n",
       "  return new Promise((resolve, reject) => {\n",
       "    //this is to ignore the existence of requirejs amd\n",
       "    var savedexports, savedmodule;\n",
       "    if (typeof exports !== 'undefined') savedexports = exports;\n",
       "    else exports = {}\n",
       "    if (typeof module !== 'undefined') savedmodule = module;\n",
       "    else module = {}\n",
       "\n",
       "    var tag = document.createElement('script');\n",
       "    tag.src = uri;\n",
       "    tag.async = true;\n",
       "    tag.onload = () => {\n",
       "        exports = savedexports;\n",
       "        module = savedmodule;\n",
       "        resolve();\n",
       "    };\n",
       "  var firstScriptTag = document.getElementsByTagName('script')[0];\n",
       "  firstScriptTag.parentNode.insertBefore(tag, firstScriptTag);\n",
       "});\n",
       "};\n",
       "\n",
       "if(typeof $3Dmolpromise === 'undefined') {\n",
       "$3Dmolpromise = null;\n",
       "  $3Dmolpromise = loadScriptAsync('https://cdnjs.cloudflare.com/ajax/libs/3Dmol/2.0.1/3Dmol-min.js');\n",
       "}\n",
       "\n",
       "var viewer_16867891145221272 = null;\n",
       "var warn = document.getElementById(\"3dmolwarning_16867891145221272\");\n",
       "if(warn) {\n",
       "    warn.parentNode.removeChild(warn);\n",
       "}\n",
       "$3Dmolpromise.then(function() {\n",
       "viewer_16867891145221272 = $3Dmol.createViewer(document.getElementById(\"3dmolviewer_16867891145221272\"),{backgroundColor:\"white\"});\n",
       "viewer_16867891145221272.zoomTo();\n",
       "\tviewer_16867891145221272.addModel(\"# Produced with molli package\\n@<TRIPOS>MOLECULE\\n1\\n30 32 0 0 0\\nSMALL\\nUSER_CHARGES\\n\\n@<TRIPOS>ATOM\\n     1 C       2.653877    -0.900810     0.000000 C          1 UNL1 0.0\\n     2 C       3.535127     0.312731     0.000000 C          1 UNL1 0.0\\n     3 O       2.653877     1.526273     0.000000 O          1 UNL1 0.0\\n     4 C       1.226794     1.062732     0.000000 C          1 UNL1 0.0\\n     5 N       1.226794    -0.437269     0.000000 N          1 UNL1 0.0\\n     6 C      -0.072164     1.812732     0.000000 C          1 UNL1 0.0\\n     7 C      -1.371123     1.062732     0.000000 C          1 UNL1 0.0\\n     8 O      -2.798206     1.526273     0.000000 O          1 UNL1 0.0\\n     9 C      -3.679456     0.312731     0.000000 C          1 UNL1 0.0\\n    10 C      -2.798206    -0.900810     0.000000 C          1 UNL1 0.0\\n    11 N      -1.371123    -0.437269     0.000000 N          1 UNL1 0.0\\n    12 A1     -3.029977    -1.614352    -1.299453 Unknown    1 UNL1 0.0\\n    13 A1      2.885648    -1.614352     1.299453 Unknown    1 UNL1 0.0\\n    14 C      -0.072164    -1.187268     0.000000 C          1 UNL1 0.0\\n    15 Br     -0.072164    -1.187268     1.499931 Br         1 UNL1 0.0\\n    16 Br      0.677836    -2.486227     0.000000 Br         1 UNL1 0.0\\n    17 C      -0.072164     1.812732     1.500000 C          1 UNL1 0.0\\n    18 C       1.226794     2.562732     0.000000 C          1 UNL1 0.0\\n    19 H       2.859825    -1.534673    -0.837080 H          1 UNL1 0.0\\n    20 H       4.148880     0.312731     0.876544 H          1 UNL1 0.0\\n    21 H       4.148880     0.312731    -0.876544 H          1 UNL1 0.0\\n    22 H      -4.293208     0.312731     0.876544 H          1 UNL1 0.0\\n    23 H      -4.293208     0.312731    -0.876544 H          1 UNL1 0.0\\n    24 H      -3.004154    -1.534673     0.837080 H          1 UNL1 0.0\\n    25 H       0.492722     0.976913     1.856667 H          1 UNL1 0.0\\n    26 H      -1.078447     1.741434     1.856667 H          1 UNL1 0.0\\n    27 H       0.369232     2.719847     1.856667 H          1 UNL1 0.0\\n    28 H       1.787896     2.304234     0.873638 H          1 UNL1 0.0\\n    29 H       1.031246     3.614711     0.000027 H          1 UNL1 0.0\\n    30 H       1.787873     2.304274    -0.873665 H          1 UNL1 0.0\\n@<TRIPOS>BOND\\n     1      1      2          1\\n     2      2      3          1\\n     3      3      4          1\\n     4      4      5          2\\n     5      5      1          1\\n     6      4      6          1\\n     7      6      7          1\\n     8      7      8          1\\n     9      8      9          1\\n    10      9     10          1\\n    11     10     11          1\\n    12     11      7          2\\n    13     10     12          1\\n    14      1     13          1\\n    15     11     14          1\\n    16     14      5          1\\n    17     14     15          1\\n    18     14     16          1\\n    19      6     17          1\\n    20      6     18          1\\n    21      1     19          1\\n    22      2     20          1\\n    23      2     21          1\\n    24      9     22          1\\n    25      9     23          1\\n    26     10     24          1\\n    27     17     25          1\\n    28     17     26          1\\n    29     17     27          1\\n    30     18     28          1\\n    31     18     29          1\\n    32     18     30          1\\n\",\"mol2\");\n",
       "\tviewer_16867891145221272.setStyle({\"stick\": {\"radius\": 0.1}, \"sphere\": {\"scale\": 0.15}});\n",
       "\tviewer_16867891145221272.setHoverable({},true,\"\\n            function(atom,viewer,event,container) {\\n                if(!atom.label) {\\n                    atom.label = viewer.addLabel(atom.elem + atom.serial, {position: atom, backgroundColor: 'mintcream', fontColor:'black'});\\n                }\\n            }\\n            \",\"\\n            function(atom,viewer) { \\n                if(atom.label) {\\n                    viewer.removeLabel(atom.label);\\n                    delete atom.label;\\n                }\\n            }\\n            \");\n",
       "\tviewer_16867891145221272.zoomTo();\n",
       "\tviewer_16867891145221272.setBackgroundColor(null);\n",
       "viewer_16867891145221272.render();\n",
       "});\n",
       "</script>"
      ]
     },
     "metadata": {},
     "output_type": "display_data"
    },
    {
     "data": {
      "text/plain": [
       "Molecule(name='1', formula='C10 H12 Br2 N2 O2 Unknown2')"
      ]
     },
     "execution_count": 4,
     "metadata": {},
     "output_type": "execute_result"
    }
   ],
   "source": [
    "m_core = ml.MoleculeLibrary('ncsa-testing-data/BOX_cores_new_env.mlib')\n",
    "print(len(m_core))\n",
    "m_core[0]"
   ]
  },
  {
   "cell_type": "code",
   "execution_count": 5,
   "metadata": {},
   "outputs": [
    {
     "name": "stdout",
     "output_type": "stream",
     "text": [
      "15\n"
     ]
    },
    {
     "data": {
      "application/3dmoljs_load.v0": "<div id=\"3dmolviewer_16867891145339322\"  style=\"position: relative; width: 1000px; height: 500px\">\n        <p id=\"3dmolwarning_16867891145339322\" style=\"background-color:#ffcccc;color:black\">You appear to be running in JupyterLab (or JavaScript failed to load for some other reason).  You need to install the 3dmol extension: <br>\n        <tt>jupyter labextension install jupyterlab_3dmol</tt></p>\n        </div>\n<script>\n\nvar loadScriptAsync = function(uri){\n  return new Promise((resolve, reject) => {\n    //this is to ignore the existence of requirejs amd\n    var savedexports, savedmodule;\n    if (typeof exports !== 'undefined') savedexports = exports;\n    else exports = {}\n    if (typeof module !== 'undefined') savedmodule = module;\n    else module = {}\n\n    var tag = document.createElement('script');\n    tag.src = uri;\n    tag.async = true;\n    tag.onload = () => {\n        exports = savedexports;\n        module = savedmodule;\n        resolve();\n    };\n  var firstScriptTag = document.getElementsByTagName('script')[0];\n  firstScriptTag.parentNode.insertBefore(tag, firstScriptTag);\n});\n};\n\nif(typeof $3Dmolpromise === 'undefined') {\n$3Dmolpromise = null;\n  $3Dmolpromise = loadScriptAsync('https://cdnjs.cloudflare.com/ajax/libs/3Dmol/2.0.1/3Dmol-min.js');\n}\n\nvar viewer_16867891145339322 = null;\nvar warn = document.getElementById(\"3dmolwarning_16867891145339322\");\nif(warn) {\n    warn.parentNode.removeChild(warn);\n}\n$3Dmolpromise.then(function() {\nviewer_16867891145339322 = $3Dmol.createViewer(document.getElementById(\"3dmolviewer_16867891145339322\"),{backgroundColor:\"white\"});\nviewer_16867891145339322.zoomTo();\n\tviewer_16867891145339322.addModel(\"# Produced with molli package\\n@<TRIPOS>MOLECULE\\n3\\n11 10 0 0 0\\nSMALL\\nUSER_CHARGES\\n\\n@<TRIPOS>ATOM\\n     1 C       0.000000     0.000000     0.000000 C          1 UNL1 0.0\\n     2 AP1    -1.298958    -0.750000     0.000000 Unknown    1 UNL1 0.0\\n     3 C       1.299018    -0.750035     0.000000 C          1 UNL1 0.0\\n     4 C       0.000000     1.500000     0.000000 C          1 UNL1 0.0\\n     5 H       0.000000     0.000000    -1.070000 H          1 UNL1 0.0\\n     6 H       1.860120    -0.491537     0.873638 H          1 UNL1 0.0\\n     7 H       1.860097    -0.491577    -0.873665 H          1 UNL1 0.0\\n     8 H       1.103470    -1.802014     0.000027 H          1 UNL1 0.0\\n     9 H       1.008806     1.856667     0.000000 H          1 UNL1 0.0\\n    10 H      -0.504403     1.856667     0.873651 H          1 UNL1 0.0\\n    11 H      -0.504403     1.856667    -0.873651 H          1 UNL1 0.0\\n@<TRIPOS>BOND\\n     1      2      1          1\\n     2      1      3          1\\n     3      1      4          1\\n     4      1      5          1\\n     5      3      6          1\\n     6      3      7          1\\n     7      3      8          1\\n     8      4      9          1\\n     9      4     10          1\\n    10      4     11          1\\n\",\"mol2\");\n\tviewer_16867891145339322.setStyle({\"stick\": {\"radius\": 0.1}, \"sphere\": {\"scale\": 0.15}});\n\tviewer_16867891145339322.setHoverable({},true,\"\\n            function(atom,viewer,event,container) {\\n                if(!atom.label) {\\n                    atom.label = viewer.addLabel(atom.elem + atom.serial, {position: atom, backgroundColor: 'mintcream', fontColor:'black'});\\n                }\\n            }\\n            \",\"\\n            function(atom,viewer) { \\n                if(atom.label) {\\n                    viewer.removeLabel(atom.label);\\n                    delete atom.label;\\n                }\\n            }\\n            \");\n\tviewer_16867891145339322.zoomTo();\n\tviewer_16867891145339322.setBackgroundColor(null);\nviewer_16867891145339322.render();\n});\n</script>",
      "text/html": [
       "<div id=\"3dmolviewer_16867891145339322\"  style=\"position: relative; width: 1000px; height: 500px\">\n",
       "        <p id=\"3dmolwarning_16867891145339322\" style=\"background-color:#ffcccc;color:black\">You appear to be running in JupyterLab (or JavaScript failed to load for some other reason).  You need to install the 3dmol extension: <br>\n",
       "        <tt>jupyter labextension install jupyterlab_3dmol</tt></p>\n",
       "        </div>\n",
       "<script>\n",
       "\n",
       "var loadScriptAsync = function(uri){\n",
       "  return new Promise((resolve, reject) => {\n",
       "    //this is to ignore the existence of requirejs amd\n",
       "    var savedexports, savedmodule;\n",
       "    if (typeof exports !== 'undefined') savedexports = exports;\n",
       "    else exports = {}\n",
       "    if (typeof module !== 'undefined') savedmodule = module;\n",
       "    else module = {}\n",
       "\n",
       "    var tag = document.createElement('script');\n",
       "    tag.src = uri;\n",
       "    tag.async = true;\n",
       "    tag.onload = () => {\n",
       "        exports = savedexports;\n",
       "        module = savedmodule;\n",
       "        resolve();\n",
       "    };\n",
       "  var firstScriptTag = document.getElementsByTagName('script')[0];\n",
       "  firstScriptTag.parentNode.insertBefore(tag, firstScriptTag);\n",
       "});\n",
       "};\n",
       "\n",
       "if(typeof $3Dmolpromise === 'undefined') {\n",
       "$3Dmolpromise = null;\n",
       "  $3Dmolpromise = loadScriptAsync('https://cdnjs.cloudflare.com/ajax/libs/3Dmol/2.0.1/3Dmol-min.js');\n",
       "}\n",
       "\n",
       "var viewer_16867891145339322 = null;\n",
       "var warn = document.getElementById(\"3dmolwarning_16867891145339322\");\n",
       "if(warn) {\n",
       "    warn.parentNode.removeChild(warn);\n",
       "}\n",
       "$3Dmolpromise.then(function() {\n",
       "viewer_16867891145339322 = $3Dmol.createViewer(document.getElementById(\"3dmolviewer_16867891145339322\"),{backgroundColor:\"white\"});\n",
       "viewer_16867891145339322.zoomTo();\n",
       "\tviewer_16867891145339322.addModel(\"# Produced with molli package\\n@<TRIPOS>MOLECULE\\n3\\n11 10 0 0 0\\nSMALL\\nUSER_CHARGES\\n\\n@<TRIPOS>ATOM\\n     1 C       0.000000     0.000000     0.000000 C          1 UNL1 0.0\\n     2 AP1    -1.298958    -0.750000     0.000000 Unknown    1 UNL1 0.0\\n     3 C       1.299018    -0.750035     0.000000 C          1 UNL1 0.0\\n     4 C       0.000000     1.500000     0.000000 C          1 UNL1 0.0\\n     5 H       0.000000     0.000000    -1.070000 H          1 UNL1 0.0\\n     6 H       1.860120    -0.491537     0.873638 H          1 UNL1 0.0\\n     7 H       1.860097    -0.491577    -0.873665 H          1 UNL1 0.0\\n     8 H       1.103470    -1.802014     0.000027 H          1 UNL1 0.0\\n     9 H       1.008806     1.856667     0.000000 H          1 UNL1 0.0\\n    10 H      -0.504403     1.856667     0.873651 H          1 UNL1 0.0\\n    11 H      -0.504403     1.856667    -0.873651 H          1 UNL1 0.0\\n@<TRIPOS>BOND\\n     1      2      1          1\\n     2      1      3          1\\n     3      1      4          1\\n     4      1      5          1\\n     5      3      6          1\\n     6      3      7          1\\n     7      3      8          1\\n     8      4      9          1\\n     9      4     10          1\\n    10      4     11          1\\n\",\"mol2\");\n",
       "\tviewer_16867891145339322.setStyle({\"stick\": {\"radius\": 0.1}, \"sphere\": {\"scale\": 0.15}});\n",
       "\tviewer_16867891145339322.setHoverable({},true,\"\\n            function(atom,viewer,event,container) {\\n                if(!atom.label) {\\n                    atom.label = viewer.addLabel(atom.elem + atom.serial, {position: atom, backgroundColor: 'mintcream', fontColor:'black'});\\n                }\\n            }\\n            \",\"\\n            function(atom,viewer) { \\n                if(atom.label) {\\n                    viewer.removeLabel(atom.label);\\n                    delete atom.label;\\n                }\\n            }\\n            \");\n",
       "\tviewer_16867891145339322.zoomTo();\n",
       "\tviewer_16867891145339322.setBackgroundColor(null);\n",
       "viewer_16867891145339322.render();\n",
       "});\n",
       "</script>"
      ]
     },
     "metadata": {},
     "output_type": "display_data"
    },
    {
     "data": {
      "text/plain": [
       "Molecule(name='3', formula='C3 H7 Unknown1')"
      ]
     },
     "execution_count": 5,
     "metadata": {},
     "output_type": "execute_result"
    }
   ],
   "source": [
    "m_subs = ml.MoleculeLibrary('ncsa-testing-data/BOX_subs_new_env.mlib')\n",
    "print(len(m_subs))\n",
    "m_subs[0]"
   ]
  },
  {
   "attachments": {},
   "cell_type": "markdown",
   "metadata": {},
   "source": [
    "2. Combinatorial Expansion"
   ]
  },
  {
   "cell_type": "code",
   "execution_count": 6,
   "metadata": {},
   "outputs": [
    {
     "name": "stdout",
     "output_type": "stream",
     "text": [
      "Will create a library of size 75\n"
     ]
    },
    {
     "name": "stderr",
     "output_type": "stream",
     "text": [
      "100%|██████████| 75/75 [00:02<00:00, 34.85it/s]\n"
     ]
    },
    {
     "data": {
      "text/plain": [
       "CompletedProcess(args=['molli', 'combine', 'ncsa-testing-data/BOX_cores_new_env.mlib', '-s', 'ncsa-testing-data/BOX_subs_new_env.mlib', '-j', '96', '-o', 'ncsa-testing-data/test_combine_new_env.mlib', '-a', 'A1', '--obopt', 'uff', '-m', 'same', '--overwrite'], returncode=0)"
      ]
     },
     "execution_count": 6,
     "metadata": {},
     "output_type": "execute_result"
    }
   ],
   "source": [
    "subprocess.run(\n",
    "    [\n",
    "        'molli',\n",
    "        'combine',\n",
    "        'ncsa-testing-data/BOX_cores_new_env.mlib',\n",
    "        '-s',\n",
    "        'ncsa-testing-data/BOX_subs_new_env.mlib',\n",
    "        '-j',\n",
    "        '96', \n",
    "        '-o', \n",
    "        'ncsa-testing-data/test_combine_new_env.mlib', \n",
    "        '-a', \n",
    "        'A1', \n",
    "        '--obopt', \n",
    "        'uff',\n",
    "        '-m',\n",
    "        'same',\n",
    "        \"--overwrite\"\n",
    "    ]\n",
    ")\n"
   ]
  },
  {
   "cell_type": "code",
   "execution_count": 7,
   "metadata": {},
   "outputs": [
    {
     "name": "stdout",
     "output_type": "stream",
     "text": [
      "75\n"
     ]
    },
    {
     "data": {
      "application/3dmoljs_load.v0": "<div id=\"3dmolviewer_168678911735848\"  style=\"position: relative; width: 1000px; height: 500px\">\n        <p id=\"3dmolwarning_168678911735848\" style=\"background-color:#ffcccc;color:black\">You appear to be running in JupyterLab (or JavaScript failed to load for some other reason).  You need to install the 3dmol extension: <br>\n        <tt>jupyter labextension install jupyterlab_3dmol</tt></p>\n        </div>\n<script>\n\nvar loadScriptAsync = function(uri){\n  return new Promise((resolve, reject) => {\n    //this is to ignore the existence of requirejs amd\n    var savedexports, savedmodule;\n    if (typeof exports !== 'undefined') savedexports = exports;\n    else exports = {}\n    if (typeof module !== 'undefined') savedmodule = module;\n    else module = {}\n\n    var tag = document.createElement('script');\n    tag.src = uri;\n    tag.async = true;\n    tag.onload = () => {\n        exports = savedexports;\n        module = savedmodule;\n        resolve();\n    };\n  var firstScriptTag = document.getElementsByTagName('script')[0];\n  firstScriptTag.parentNode.insertBefore(tag, firstScriptTag);\n});\n};\n\nif(typeof $3Dmolpromise === 'undefined') {\n$3Dmolpromise = null;\n  $3Dmolpromise = loadScriptAsync('https://cdnjs.cloudflare.com/ajax/libs/3Dmol/2.0.1/3Dmol-min.js');\n}\n\nvar viewer_168678911735848 = null;\nvar warn = document.getElementById(\"3dmolwarning_168678911735848\");\nif(warn) {\n    warn.parentNode.removeChild(warn);\n}\n$3Dmolpromise.then(function() {\nviewer_168678911735848 = $3Dmol.createViewer(document.getElementById(\"3dmolviewer_168678911735848\"),{backgroundColor:\"white\"});\nviewer_168678911735848.zoomTo();\n\tviewer_168678911735848.addModel(\"# Produced with molli package\\n@<TRIPOS>MOLECULE\\n1_3_3\\n48 50 0 0 0\\nSMALL\\nUSER_CHARGES\\n\\n@<TRIPOS>ATOM\\n     1 C       0.050613     0.025264     0.218051 C          1 UNL1 0.0\\n     2 C       0.862460     1.336543     0.331185 C          1 UNL1 0.0\\n     3 O      -0.088793     2.310864     0.425370 O          1 UNL1 0.0\\n     4 C      -1.319185     1.779261     0.380039 C          1 UNL1 0.0\\n     5 N      -1.347057     0.496613     0.291436 N          1 UNL1 0.0\\n     6 C      -2.525438     2.664045     0.386380 C          1 UNL1 0.0\\n     7 C      -3.773580     1.855857     0.218988 C          1 UNL1 0.0\\n     8 O      -4.976197     2.447711     0.273025 O          1 UNL1 0.0\\n     9 C      -5.974435     1.525252     0.148934 C          1 UNL1 0.0\\n    10 C      -5.229166     0.174586     0.054602 C          1 UNL1 0.0\\n    11 N      -3.809355     0.579765     0.060147 N          1 UNL1 0.0\\n    12 C      -2.599128    -0.282960     0.102367 C          1 UNL1 0.0\\n    13 Br     -2.932819    -1.527283     1.562419 Br         1 UNL1 0.0\\n    14 Br     -2.323102    -1.259403    -1.559454 Br         1 UNL1 0.0\\n    15 C      -2.575829     3.412763     1.729823 C          1 UNL1 0.0\\n    16 C      -2.431471     3.668033    -0.775891 C          1 UNL1 0.0\\n    17 H       0.241797    -0.374587    -0.802099 H          1 UNL1 0.0\\n    18 H       1.508096     1.395986     1.231057 H          1 UNL1 0.0\\n    19 H       1.491736     1.501231    -0.570414 H          1 UNL1 0.0\\n    20 H      -6.650555     1.553398     1.030784 H          1 UNL1 0.0\\n    21 H      -6.559268     1.785751    -0.755929 H          1 UNL1 0.0\\n    22 H      -5.438137    -0.363525     1.005498 H          1 UNL1 0.0\\n    23 H      -2.647901     2.691188     2.573303 H          1 UNL1 0.0\\n    24 H      -3.455903     4.090188     1.772865 H          1 UNL1 0.0\\n    25 H      -1.661190     4.028173     1.873337 H          1 UNL1 0.0\\n    26 H      -1.519381     4.296461    -0.682709 H          1 UNL1 0.0\\n    27 H      -3.313808     4.344281    -0.784933 H          1 UNL1 0.0\\n    28 H      -2.390122     3.132348    -1.749636 H          1 UNL1 0.0\\n    29 C      -5.824716    -0.673516    -1.119499 C          1 UNL1 0.0\\n    30 C      -5.566956    -2.183234    -0.985112 C          1 UNL1 0.0\\n    31 C      -5.493891    -0.133106    -2.523927 C          1 UNL1 0.0\\n    32 H      -6.932054    -0.607140    -1.013346 H          1 UNL1 0.0\\n    33 H      -4.517035    -2.478852    -1.048938 H          1 UNL1 0.0\\n    34 H      -6.117485    -2.729485    -1.780910 H          1 UNL1 0.0\\n    35 H      -5.950393    -2.541314    -0.005991 H          1 UNL1 0.0\\n    36 H      -6.020292    -0.736739    -3.293366 H          1 UNL1 0.0\\n    37 H      -4.417204    -0.158633    -2.746395 H          1 UNL1 0.0\\n    38 H      -5.827581     0.916062    -2.644774 H          1 UNL1 0.0\\n    39 C       0.593435    -1.012316     1.257630 C          1 UNL1 0.0\\n    40 C       0.279738    -2.474410     0.900860 C          1 UNL1 0.0\\n    41 C       0.261099    -0.664321     2.721016 C          1 UNL1 0.0\\n    42 H       1.704215    -0.980201     1.173405 H          1 UNL1 0.0\\n    43 H      -0.780655    -2.735005     0.904233 H          1 UNL1 0.0\\n    44 H       0.793236    -3.152155     1.616321 H          1 UNL1 0.0\\n    45 H       0.668849    -2.701399    -0.114469 H          1 UNL1 0.0\\n    46 H       0.750690    -1.391086     3.403112 H          1 UNL1 0.0\\n    47 H      -0.820089    -0.676507     2.924463 H          1 UNL1 0.0\\n    48 H       0.632920     0.344410     2.989683 H          1 UNL1 0.0\\n@<TRIPOS>BOND\\n     1      1      2          1\\n     2      2      3          1\\n     3      3      4          1\\n     4      4      5          2\\n     5      5      1          1\\n     6      4      6          1\\n     7      6      7          1\\n     8      7      8          1\\n     9      8      9          1\\n    10      9     10          1\\n    11     10     11          1\\n    12     11      7          2\\n    13     11     12          1\\n    14     12      5          1\\n    15     12     13          1\\n    16     12     14          1\\n    17      6     15          1\\n    18      6     16          1\\n    19      1     17          1\\n    20      2     18          1\\n    21      2     19          1\\n    22      9     20          1\\n    23      9     21          1\\n    24     10     22          1\\n    25     15     23          1\\n    26     15     24          1\\n    27     15     25          1\\n    28     16     26          1\\n    29     16     27          1\\n    30     16     28          1\\n    31     29     30          1\\n    32     29     31          1\\n    33     29     32          1\\n    34     30     33          1\\n    35     30     34          1\\n    36     30     35          1\\n    37     31     36          1\\n    38     31     37          1\\n    39     31     38          1\\n    40     10     29          1\\n    41     39     40          1\\n    42     39     41          1\\n    43     39     42          1\\n    44     40     43          1\\n    45     40     44          1\\n    46     40     45          1\\n    47     41     46          1\\n    48     41     47          1\\n    49     41     48          1\\n    50      1     39          1\\n\",\"mol2\");\n\tviewer_168678911735848.setStyle({\"stick\": {\"radius\": 0.1}, \"sphere\": {\"scale\": 0.15}});\n\tviewer_168678911735848.setHoverable({},true,\"\\n            function(atom,viewer,event,container) {\\n                if(!atom.label) {\\n                    atom.label = viewer.addLabel(atom.elem + atom.serial, {position: atom, backgroundColor: 'mintcream', fontColor:'black'});\\n                }\\n            }\\n            \",\"\\n            function(atom,viewer) { \\n                if(atom.label) {\\n                    viewer.removeLabel(atom.label);\\n                    delete atom.label;\\n                }\\n            }\\n            \");\n\tviewer_168678911735848.zoomTo();\n\tviewer_168678911735848.setBackgroundColor(null);\nviewer_168678911735848.render();\n});\n</script>",
      "text/html": [
       "<div id=\"3dmolviewer_168678911735848\"  style=\"position: relative; width: 1000px; height: 500px\">\n",
       "        <p id=\"3dmolwarning_168678911735848\" style=\"background-color:#ffcccc;color:black\">You appear to be running in JupyterLab (or JavaScript failed to load for some other reason).  You need to install the 3dmol extension: <br>\n",
       "        <tt>jupyter labextension install jupyterlab_3dmol</tt></p>\n",
       "        </div>\n",
       "<script>\n",
       "\n",
       "var loadScriptAsync = function(uri){\n",
       "  return new Promise((resolve, reject) => {\n",
       "    //this is to ignore the existence of requirejs amd\n",
       "    var savedexports, savedmodule;\n",
       "    if (typeof exports !== 'undefined') savedexports = exports;\n",
       "    else exports = {}\n",
       "    if (typeof module !== 'undefined') savedmodule = module;\n",
       "    else module = {}\n",
       "\n",
       "    var tag = document.createElement('script');\n",
       "    tag.src = uri;\n",
       "    tag.async = true;\n",
       "    tag.onload = () => {\n",
       "        exports = savedexports;\n",
       "        module = savedmodule;\n",
       "        resolve();\n",
       "    };\n",
       "  var firstScriptTag = document.getElementsByTagName('script')[0];\n",
       "  firstScriptTag.parentNode.insertBefore(tag, firstScriptTag);\n",
       "});\n",
       "};\n",
       "\n",
       "if(typeof $3Dmolpromise === 'undefined') {\n",
       "$3Dmolpromise = null;\n",
       "  $3Dmolpromise = loadScriptAsync('https://cdnjs.cloudflare.com/ajax/libs/3Dmol/2.0.1/3Dmol-min.js');\n",
       "}\n",
       "\n",
       "var viewer_168678911735848 = null;\n",
       "var warn = document.getElementById(\"3dmolwarning_168678911735848\");\n",
       "if(warn) {\n",
       "    warn.parentNode.removeChild(warn);\n",
       "}\n",
       "$3Dmolpromise.then(function() {\n",
       "viewer_168678911735848 = $3Dmol.createViewer(document.getElementById(\"3dmolviewer_168678911735848\"),{backgroundColor:\"white\"});\n",
       "viewer_168678911735848.zoomTo();\n",
       "\tviewer_168678911735848.addModel(\"# Produced with molli package\\n@<TRIPOS>MOLECULE\\n1_3_3\\n48 50 0 0 0\\nSMALL\\nUSER_CHARGES\\n\\n@<TRIPOS>ATOM\\n     1 C       0.050613     0.025264     0.218051 C          1 UNL1 0.0\\n     2 C       0.862460     1.336543     0.331185 C          1 UNL1 0.0\\n     3 O      -0.088793     2.310864     0.425370 O          1 UNL1 0.0\\n     4 C      -1.319185     1.779261     0.380039 C          1 UNL1 0.0\\n     5 N      -1.347057     0.496613     0.291436 N          1 UNL1 0.0\\n     6 C      -2.525438     2.664045     0.386380 C          1 UNL1 0.0\\n     7 C      -3.773580     1.855857     0.218988 C          1 UNL1 0.0\\n     8 O      -4.976197     2.447711     0.273025 O          1 UNL1 0.0\\n     9 C      -5.974435     1.525252     0.148934 C          1 UNL1 0.0\\n    10 C      -5.229166     0.174586     0.054602 C          1 UNL1 0.0\\n    11 N      -3.809355     0.579765     0.060147 N          1 UNL1 0.0\\n    12 C      -2.599128    -0.282960     0.102367 C          1 UNL1 0.0\\n    13 Br     -2.932819    -1.527283     1.562419 Br         1 UNL1 0.0\\n    14 Br     -2.323102    -1.259403    -1.559454 Br         1 UNL1 0.0\\n    15 C      -2.575829     3.412763     1.729823 C          1 UNL1 0.0\\n    16 C      -2.431471     3.668033    -0.775891 C          1 UNL1 0.0\\n    17 H       0.241797    -0.374587    -0.802099 H          1 UNL1 0.0\\n    18 H       1.508096     1.395986     1.231057 H          1 UNL1 0.0\\n    19 H       1.491736     1.501231    -0.570414 H          1 UNL1 0.0\\n    20 H      -6.650555     1.553398     1.030784 H          1 UNL1 0.0\\n    21 H      -6.559268     1.785751    -0.755929 H          1 UNL1 0.0\\n    22 H      -5.438137    -0.363525     1.005498 H          1 UNL1 0.0\\n    23 H      -2.647901     2.691188     2.573303 H          1 UNL1 0.0\\n    24 H      -3.455903     4.090188     1.772865 H          1 UNL1 0.0\\n    25 H      -1.661190     4.028173     1.873337 H          1 UNL1 0.0\\n    26 H      -1.519381     4.296461    -0.682709 H          1 UNL1 0.0\\n    27 H      -3.313808     4.344281    -0.784933 H          1 UNL1 0.0\\n    28 H      -2.390122     3.132348    -1.749636 H          1 UNL1 0.0\\n    29 C      -5.824716    -0.673516    -1.119499 C          1 UNL1 0.0\\n    30 C      -5.566956    -2.183234    -0.985112 C          1 UNL1 0.0\\n    31 C      -5.493891    -0.133106    -2.523927 C          1 UNL1 0.0\\n    32 H      -6.932054    -0.607140    -1.013346 H          1 UNL1 0.0\\n    33 H      -4.517035    -2.478852    -1.048938 H          1 UNL1 0.0\\n    34 H      -6.117485    -2.729485    -1.780910 H          1 UNL1 0.0\\n    35 H      -5.950393    -2.541314    -0.005991 H          1 UNL1 0.0\\n    36 H      -6.020292    -0.736739    -3.293366 H          1 UNL1 0.0\\n    37 H      -4.417204    -0.158633    -2.746395 H          1 UNL1 0.0\\n    38 H      -5.827581     0.916062    -2.644774 H          1 UNL1 0.0\\n    39 C       0.593435    -1.012316     1.257630 C          1 UNL1 0.0\\n    40 C       0.279738    -2.474410     0.900860 C          1 UNL1 0.0\\n    41 C       0.261099    -0.664321     2.721016 C          1 UNL1 0.0\\n    42 H       1.704215    -0.980201     1.173405 H          1 UNL1 0.0\\n    43 H      -0.780655    -2.735005     0.904233 H          1 UNL1 0.0\\n    44 H       0.793236    -3.152155     1.616321 H          1 UNL1 0.0\\n    45 H       0.668849    -2.701399    -0.114469 H          1 UNL1 0.0\\n    46 H       0.750690    -1.391086     3.403112 H          1 UNL1 0.0\\n    47 H      -0.820089    -0.676507     2.924463 H          1 UNL1 0.0\\n    48 H       0.632920     0.344410     2.989683 H          1 UNL1 0.0\\n@<TRIPOS>BOND\\n     1      1      2          1\\n     2      2      3          1\\n     3      3      4          1\\n     4      4      5          2\\n     5      5      1          1\\n     6      4      6          1\\n     7      6      7          1\\n     8      7      8          1\\n     9      8      9          1\\n    10      9     10          1\\n    11     10     11          1\\n    12     11      7          2\\n    13     11     12          1\\n    14     12      5          1\\n    15     12     13          1\\n    16     12     14          1\\n    17      6     15          1\\n    18      6     16          1\\n    19      1     17          1\\n    20      2     18          1\\n    21      2     19          1\\n    22      9     20          1\\n    23      9     21          1\\n    24     10     22          1\\n    25     15     23          1\\n    26     15     24          1\\n    27     15     25          1\\n    28     16     26          1\\n    29     16     27          1\\n    30     16     28          1\\n    31     29     30          1\\n    32     29     31          1\\n    33     29     32          1\\n    34     30     33          1\\n    35     30     34          1\\n    36     30     35          1\\n    37     31     36          1\\n    38     31     37          1\\n    39     31     38          1\\n    40     10     29          1\\n    41     39     40          1\\n    42     39     41          1\\n    43     39     42          1\\n    44     40     43          1\\n    45     40     44          1\\n    46     40     45          1\\n    47     41     46          1\\n    48     41     47          1\\n    49     41     48          1\\n    50      1     39          1\\n\",\"mol2\");\n",
       "\tviewer_168678911735848.setStyle({\"stick\": {\"radius\": 0.1}, \"sphere\": {\"scale\": 0.15}});\n",
       "\tviewer_168678911735848.setHoverable({},true,\"\\n            function(atom,viewer,event,container) {\\n                if(!atom.label) {\\n                    atom.label = viewer.addLabel(atom.elem + atom.serial, {position: atom, backgroundColor: 'mintcream', fontColor:'black'});\\n                }\\n            }\\n            \",\"\\n            function(atom,viewer) { \\n                if(atom.label) {\\n                    viewer.removeLabel(atom.label);\\n                    delete atom.label;\\n                }\\n            }\\n            \");\n",
       "\tviewer_168678911735848.zoomTo();\n",
       "\tviewer_168678911735848.setBackgroundColor(null);\n",
       "viewer_168678911735848.render();\n",
       "});\n",
       "</script>"
      ]
     },
     "metadata": {},
     "output_type": "display_data"
    },
    {
     "data": {
      "text/plain": [
       "Molecule(name='1_3_3', formula='C16 H26 Br2 N2 O2')"
      ]
     },
     "execution_count": 7,
     "metadata": {},
     "output_type": "execute_result"
    }
   ],
   "source": [
    "combined = ml.MoleculeLibrary('ncsa-testing-data/test_combine_new_env.mlib')\n",
    "print(len(combined))\n",
    "combined[\"1_3_3\"]"
   ]
  },
  {
   "cell_type": "code",
   "execution_count": 8,
   "metadata": {},
   "outputs": [
    {
     "data": {
      "application/3dmoljs_load.v0": "<div id=\"3dmolviewer_16867891173709939\"  style=\"position: relative; width: 1000px; height: 500px\">\n        <p id=\"3dmolwarning_16867891173709939\" style=\"background-color:#ffcccc;color:black\">You appear to be running in JupyterLab (or JavaScript failed to load for some other reason).  You need to install the 3dmol extension: <br>\n        <tt>jupyter labextension install jupyterlab_3dmol</tt></p>\n        </div>\n<script>\n\nvar loadScriptAsync = function(uri){\n  return new Promise((resolve, reject) => {\n    //this is to ignore the existence of requirejs amd\n    var savedexports, savedmodule;\n    if (typeof exports !== 'undefined') savedexports = exports;\n    else exports = {}\n    if (typeof module !== 'undefined') savedmodule = module;\n    else module = {}\n\n    var tag = document.createElement('script');\n    tag.src = uri;\n    tag.async = true;\n    tag.onload = () => {\n        exports = savedexports;\n        module = savedmodule;\n        resolve();\n    };\n  var firstScriptTag = document.getElementsByTagName('script')[0];\n  firstScriptTag.parentNode.insertBefore(tag, firstScriptTag);\n});\n};\n\nif(typeof $3Dmolpromise === 'undefined') {\n$3Dmolpromise = null;\n  $3Dmolpromise = loadScriptAsync('https://cdnjs.cloudflare.com/ajax/libs/3Dmol/2.0.1/3Dmol-min.js');\n}\n\nvar viewer_16867891173709939 = null;\nvar warn = document.getElementById(\"3dmolwarning_16867891173709939\");\nif(warn) {\n    warn.parentNode.removeChild(warn);\n}\n$3Dmolpromise.then(function() {\nviewer_16867891173709939 = $3Dmol.createViewer(document.getElementById(\"3dmolviewer_16867891173709939\"),{backgroundColor:\"white\"});\nviewer_16867891173709939.zoomTo();\n\tviewer_16867891173709939.addModel(\"# Produced with molli package\\n@<TRIPOS>MOLECULE\\n3_6_6\\n74 78 0 0 0\\nSMALL\\nUSER_CHARGES\\n\\n@<TRIPOS>ATOM\\n     1 C      -0.224751    -0.310449     0.442190 C          1 UNL1 0.0\\n     2 C       0.724416     0.940711     0.315939 C          1 UNL1 0.0\\n     3 O      -0.168685     1.977773     0.151210 O          1 UNL1 0.0\\n     4 C      -1.438149     1.556779     0.291055 C          1 UNL1 0.0\\n     5 N      -1.549296     0.299209     0.479093 N          1 UNL1 0.0\\n     6 C      -2.608155     2.503098     0.187334 C          1 UNL1 0.0\\n     7 C      -3.890107     1.721048     0.060014 C          1 UNL1 0.0\\n     8 O      -5.073250     2.335094    -0.109620 O          1 UNL1 0.0\\n     9 C      -6.097607     1.419785    -0.058662 C          1 UNL1 0.0\\n    10 C      -5.358307     0.031533    -0.056731 C          1 UNL1 0.0\\n    11 N      -3.970301     0.446788     0.143054 N          1 UNL1 0.0\\n    12 C      -2.837221    -0.420647     0.542901 C          1 UNL1 0.0\\n    13 Br     -3.189129    -0.944150     2.387695 Br         1 UNL1 0.0\\n    14 Br     -2.694685    -2.090343    -0.480496 Br         1 UNL1 0.0\\n    15 C      -2.658015     3.391885     1.440220 C          1 UNL1 0.0\\n    16 C      -2.449274     3.371978    -1.071221 C          1 UNL1 0.0\\n    17 C      -7.249413     1.857229    -1.023879 C          1 UNL1 0.0\\n    18 C      -6.798285     2.323283    -2.429053 C          1 UNL1 0.0\\n    19 C      -8.405643     0.851172    -1.088585 C          1 UNL1 0.0\\n    20 C       1.741786     1.407429     1.408454 C          1 UNL1 0.0\\n    21 C       2.895472     0.432367     1.657480 C          1 UNL1 0.0\\n    22 C       1.107304     1.869919     2.731500 C          1 UNL1 0.0\\n    23 H      -0.214346    -0.856116    -0.525168 H          1 UNL1 0.0\\n    24 H       1.308038     0.815927    -0.623626 H          1 UNL1 0.0\\n    25 H      -6.535240     1.504596     0.963326 H          1 UNL1 0.0\\n    26 H      -5.648740    -0.535227     0.841473 H          1 UNL1 0.0\\n    27 H      -2.778371     2.765017     2.351631 H          1 UNL1 0.0\\n    28 H      -3.514360     4.098913     1.390550 H          1 UNL1 0.0\\n    29 H      -1.722061     3.981837     1.544471 H          1 UNL1 0.0\\n    30 H      -1.515949     3.973526    -1.016606 H          1 UNL1 0.0\\n    31 H      -3.302152     4.079339    -1.168494 H          1 UNL1 0.0\\n    32 H      -2.410365     2.739297    -1.983948 H          1 UNL1 0.0\\n    33 H      -7.665740     2.783180    -0.565660 H          1 UNL1 0.0\\n    34 H      -6.039589     3.129125    -2.336100 H          1 UNL1 0.0\\n    35 H      -7.667930     2.753186    -2.969903 H          1 UNL1 0.0\\n    36 H      -6.379253     1.548225    -3.087828 H          1 UNL1 0.0\\n    37 H      -8.114984    -0.091871    -1.584421 H          1 UNL1 0.0\\n    38 H      -9.248178     1.284269    -1.669011 H          1 UNL1 0.0\\n    39 H      -8.770398     0.620896    -0.065826 H          1 UNL1 0.0\\n    40 H       2.218779     2.315771     0.972882 H          1 UNL1 0.0\\n    41 H       3.671348     0.922659     2.283072 H          1 UNL1 0.0\\n    42 H       3.369983     0.142018     0.695560 H          1 UNL1 0.0\\n    43 H       2.566358    -0.462367     2.207614 H          1 UNL1 0.0\\n    44 H       0.357417     2.666497     2.546144 H          1 UNL1 0.0\\n    45 H       1.893454     2.301021     3.388255 H          1 UNL1 0.0\\n    46 H       0.620800     1.052280     3.286871 H          1 UNL1 0.0\\n    47 C      -5.514979    -0.802821    -1.371133 C          1 UNL1 0.0\\n    48 C      -6.295572    -2.111208    -1.323413 C          1 UNL1 0.0\\n    49 C      -6.961647    -2.619357    -0.183556 C          1 UNL1 0.0\\n    50 C      -7.640738    -3.841011    -0.245331 C          1 UNL1 0.0\\n    51 C      -7.670943    -4.572107    -1.432838 C          1 UNL1 0.0\\n    52 C      -7.024358    -4.082719    -2.566710 C          1 UNL1 0.0\\n    53 C      -6.344322    -2.863560    -2.513332 C          1 UNL1 0.0\\n    54 H      -5.935080    -0.200562    -2.168362 H          1 UNL1 0.0\\n    55 H      -4.531929    -1.008702    -1.808649 H          1 UNL1 0.0\\n    56 H      -6.983155    -2.105237     0.760933 H          1 UNL1 0.0\\n    57 H      -8.145914    -4.222470     0.632842 H          1 UNL1 0.0\\n    58 H      -8.196588    -5.517391    -1.474404 H          1 UNL1 0.0\\n    59 H      -7.047850    -4.649024    -3.488883 H          1 UNL1 0.0\\n    60 H      -5.846270    -2.504906    -3.406232 H          1 UNL1 0.0\\n    61 C       0.033817    -1.355383     1.559446 C          1 UNL1 0.0\\n    62 C       1.155700    -2.351536     1.335764 C          1 UNL1 0.0\\n    63 C       1.967818    -2.380564     0.182019 C          1 UNL1 0.0\\n    64 C       2.956098    -3.360183     0.040008 C          1 UNL1 0.0\\n    65 C       3.149142    -4.315736     1.039933 C          1 UNL1 0.0\\n    66 C       2.355621    -4.294237     2.187201 C          1 UNL1 0.0\\n    67 C       1.365304    -3.320934     2.333600 C          1 UNL1 0.0\\n    68 H       0.132201    -0.863173     2.539217 H          1 UNL1 0.0\\n    69 H      -0.847896    -2.013779     1.625251 H          1 UNL1 0.0\\n    70 H       1.848161    -1.664280    -0.616412 H          1 UNL1 0.0\\n    71 H       3.570812    -3.381464    -0.850308 H          1 UNL1 0.0\\n    72 H       3.911997    -5.074596     0.925165 H          1 UNL1 0.0\\n    73 H       2.502941    -5.035134     2.962440 H          1 UNL1 0.0\\n    74 H       0.752984    -3.324330     3.227756 H          1 UNL1 0.0\\n@<TRIPOS>BOND\\n     1      1      2          1\\n     2      2      3          1\\n     3      3      4          1\\n     4      4      5          2\\n     5      5      1          1\\n     6      4      6          1\\n     7      6      7          1\\n     8      7      8          1\\n     9      8      9          1\\n    10      9     10          1\\n    11     10     11          1\\n    12     11      7          2\\n    13     11     12          1\\n    14     12      5          1\\n    15     12     13          1\\n    16     12     14          1\\n    17      6     15          1\\n    18      6     16          1\\n    19     17     18          1\\n    20     17     19          1\\n    21      9     17          1\\n    22     20     21          1\\n    23     20     22          1\\n    24      2     20          1\\n    25      1     23          1\\n    26      2     24          1\\n    27      9     25          1\\n    28     10     26          1\\n    29     15     27          1\\n    30     15     28          1\\n    31     15     29          1\\n    32     16     30          1\\n    33     16     31          1\\n    34     16     32          1\\n    35     17     33          1\\n    36     18     34          1\\n    37     18     35          1\\n    38     18     36          1\\n    39     19     37          1\\n    40     19     38          1\\n    41     19     39          1\\n    42     20     40          1\\n    43     21     41          1\\n    44     21     42          1\\n    45     21     43          1\\n    46     22     44          1\\n    47     22     45          1\\n    48     22     46          1\\n    49     47     48          1\\n    50     48     49          2\\n    51     49     50          1\\n    52     50     51          2\\n    53     51     52          1\\n    54     52     53          2\\n    55     53     48          1\\n    56     47     54          1\\n    57     47     55          1\\n    58     49     56          1\\n    59     50     57          1\\n    60     51     58          1\\n    61     52     59          1\\n    62     53     60          1\\n    63     10     47          1\\n    64     61     62          1\\n    65     62     63          2\\n    66     63     64          1\\n    67     64     65          2\\n    68     65     66          1\\n    69     66     67          2\\n    70     67     62          1\\n    71     61     68          1\\n    72     61     69          1\\n    73     63     70          1\\n    74     64     71          1\\n    75     65     72          1\\n    76     66     73          1\\n    77     67     74          1\\n    78      1     61          1\\n\",\"mol2\");\n\tviewer_16867891173709939.setStyle({\"stick\": {\"radius\": 0.1}, \"sphere\": {\"scale\": 0.15}});\n\tviewer_16867891173709939.setHoverable({},true,\"\\n            function(atom,viewer,event,container) {\\n                if(!atom.label) {\\n                    atom.label = viewer.addLabel(atom.elem + atom.serial, {position: atom, backgroundColor: 'mintcream', fontColor:'black'});\\n                }\\n            }\\n            \",\"\\n            function(atom,viewer) { \\n                if(atom.label) {\\n                    viewer.removeLabel(atom.label);\\n                    delete atom.label;\\n                }\\n            }\\n            \");\n\tviewer_16867891173709939.zoomTo();\n\tviewer_16867891173709939.setBackgroundColor(null);\nviewer_16867891173709939.render();\n});\n</script>",
      "text/html": [
       "<div id=\"3dmolviewer_16867891173709939\"  style=\"position: relative; width: 1000px; height: 500px\">\n",
       "        <p id=\"3dmolwarning_16867891173709939\" style=\"background-color:#ffcccc;color:black\">You appear to be running in JupyterLab (or JavaScript failed to load for some other reason).  You need to install the 3dmol extension: <br>\n",
       "        <tt>jupyter labextension install jupyterlab_3dmol</tt></p>\n",
       "        </div>\n",
       "<script>\n",
       "\n",
       "var loadScriptAsync = function(uri){\n",
       "  return new Promise((resolve, reject) => {\n",
       "    //this is to ignore the existence of requirejs amd\n",
       "    var savedexports, savedmodule;\n",
       "    if (typeof exports !== 'undefined') savedexports = exports;\n",
       "    else exports = {}\n",
       "    if (typeof module !== 'undefined') savedmodule = module;\n",
       "    else module = {}\n",
       "\n",
       "    var tag = document.createElement('script');\n",
       "    tag.src = uri;\n",
       "    tag.async = true;\n",
       "    tag.onload = () => {\n",
       "        exports = savedexports;\n",
       "        module = savedmodule;\n",
       "        resolve();\n",
       "    };\n",
       "  var firstScriptTag = document.getElementsByTagName('script')[0];\n",
       "  firstScriptTag.parentNode.insertBefore(tag, firstScriptTag);\n",
       "});\n",
       "};\n",
       "\n",
       "if(typeof $3Dmolpromise === 'undefined') {\n",
       "$3Dmolpromise = null;\n",
       "  $3Dmolpromise = loadScriptAsync('https://cdnjs.cloudflare.com/ajax/libs/3Dmol/2.0.1/3Dmol-min.js');\n",
       "}\n",
       "\n",
       "var viewer_16867891173709939 = null;\n",
       "var warn = document.getElementById(\"3dmolwarning_16867891173709939\");\n",
       "if(warn) {\n",
       "    warn.parentNode.removeChild(warn);\n",
       "}\n",
       "$3Dmolpromise.then(function() {\n",
       "viewer_16867891173709939 = $3Dmol.createViewer(document.getElementById(\"3dmolviewer_16867891173709939\"),{backgroundColor:\"white\"});\n",
       "viewer_16867891173709939.zoomTo();\n",
       "\tviewer_16867891173709939.addModel(\"# Produced with molli package\\n@<TRIPOS>MOLECULE\\n3_6_6\\n74 78 0 0 0\\nSMALL\\nUSER_CHARGES\\n\\n@<TRIPOS>ATOM\\n     1 C      -0.224751    -0.310449     0.442190 C          1 UNL1 0.0\\n     2 C       0.724416     0.940711     0.315939 C          1 UNL1 0.0\\n     3 O      -0.168685     1.977773     0.151210 O          1 UNL1 0.0\\n     4 C      -1.438149     1.556779     0.291055 C          1 UNL1 0.0\\n     5 N      -1.549296     0.299209     0.479093 N          1 UNL1 0.0\\n     6 C      -2.608155     2.503098     0.187334 C          1 UNL1 0.0\\n     7 C      -3.890107     1.721048     0.060014 C          1 UNL1 0.0\\n     8 O      -5.073250     2.335094    -0.109620 O          1 UNL1 0.0\\n     9 C      -6.097607     1.419785    -0.058662 C          1 UNL1 0.0\\n    10 C      -5.358307     0.031533    -0.056731 C          1 UNL1 0.0\\n    11 N      -3.970301     0.446788     0.143054 N          1 UNL1 0.0\\n    12 C      -2.837221    -0.420647     0.542901 C          1 UNL1 0.0\\n    13 Br     -3.189129    -0.944150     2.387695 Br         1 UNL1 0.0\\n    14 Br     -2.694685    -2.090343    -0.480496 Br         1 UNL1 0.0\\n    15 C      -2.658015     3.391885     1.440220 C          1 UNL1 0.0\\n    16 C      -2.449274     3.371978    -1.071221 C          1 UNL1 0.0\\n    17 C      -7.249413     1.857229    -1.023879 C          1 UNL1 0.0\\n    18 C      -6.798285     2.323283    -2.429053 C          1 UNL1 0.0\\n    19 C      -8.405643     0.851172    -1.088585 C          1 UNL1 0.0\\n    20 C       1.741786     1.407429     1.408454 C          1 UNL1 0.0\\n    21 C       2.895472     0.432367     1.657480 C          1 UNL1 0.0\\n    22 C       1.107304     1.869919     2.731500 C          1 UNL1 0.0\\n    23 H      -0.214346    -0.856116    -0.525168 H          1 UNL1 0.0\\n    24 H       1.308038     0.815927    -0.623626 H          1 UNL1 0.0\\n    25 H      -6.535240     1.504596     0.963326 H          1 UNL1 0.0\\n    26 H      -5.648740    -0.535227     0.841473 H          1 UNL1 0.0\\n    27 H      -2.778371     2.765017     2.351631 H          1 UNL1 0.0\\n    28 H      -3.514360     4.098913     1.390550 H          1 UNL1 0.0\\n    29 H      -1.722061     3.981837     1.544471 H          1 UNL1 0.0\\n    30 H      -1.515949     3.973526    -1.016606 H          1 UNL1 0.0\\n    31 H      -3.302152     4.079339    -1.168494 H          1 UNL1 0.0\\n    32 H      -2.410365     2.739297    -1.983948 H          1 UNL1 0.0\\n    33 H      -7.665740     2.783180    -0.565660 H          1 UNL1 0.0\\n    34 H      -6.039589     3.129125    -2.336100 H          1 UNL1 0.0\\n    35 H      -7.667930     2.753186    -2.969903 H          1 UNL1 0.0\\n    36 H      -6.379253     1.548225    -3.087828 H          1 UNL1 0.0\\n    37 H      -8.114984    -0.091871    -1.584421 H          1 UNL1 0.0\\n    38 H      -9.248178     1.284269    -1.669011 H          1 UNL1 0.0\\n    39 H      -8.770398     0.620896    -0.065826 H          1 UNL1 0.0\\n    40 H       2.218779     2.315771     0.972882 H          1 UNL1 0.0\\n    41 H       3.671348     0.922659     2.283072 H          1 UNL1 0.0\\n    42 H       3.369983     0.142018     0.695560 H          1 UNL1 0.0\\n    43 H       2.566358    -0.462367     2.207614 H          1 UNL1 0.0\\n    44 H       0.357417     2.666497     2.546144 H          1 UNL1 0.0\\n    45 H       1.893454     2.301021     3.388255 H          1 UNL1 0.0\\n    46 H       0.620800     1.052280     3.286871 H          1 UNL1 0.0\\n    47 C      -5.514979    -0.802821    -1.371133 C          1 UNL1 0.0\\n    48 C      -6.295572    -2.111208    -1.323413 C          1 UNL1 0.0\\n    49 C      -6.961647    -2.619357    -0.183556 C          1 UNL1 0.0\\n    50 C      -7.640738    -3.841011    -0.245331 C          1 UNL1 0.0\\n    51 C      -7.670943    -4.572107    -1.432838 C          1 UNL1 0.0\\n    52 C      -7.024358    -4.082719    -2.566710 C          1 UNL1 0.0\\n    53 C      -6.344322    -2.863560    -2.513332 C          1 UNL1 0.0\\n    54 H      -5.935080    -0.200562    -2.168362 H          1 UNL1 0.0\\n    55 H      -4.531929    -1.008702    -1.808649 H          1 UNL1 0.0\\n    56 H      -6.983155    -2.105237     0.760933 H          1 UNL1 0.0\\n    57 H      -8.145914    -4.222470     0.632842 H          1 UNL1 0.0\\n    58 H      -8.196588    -5.517391    -1.474404 H          1 UNL1 0.0\\n    59 H      -7.047850    -4.649024    -3.488883 H          1 UNL1 0.0\\n    60 H      -5.846270    -2.504906    -3.406232 H          1 UNL1 0.0\\n    61 C       0.033817    -1.355383     1.559446 C          1 UNL1 0.0\\n    62 C       1.155700    -2.351536     1.335764 C          1 UNL1 0.0\\n    63 C       1.967818    -2.380564     0.182019 C          1 UNL1 0.0\\n    64 C       2.956098    -3.360183     0.040008 C          1 UNL1 0.0\\n    65 C       3.149142    -4.315736     1.039933 C          1 UNL1 0.0\\n    66 C       2.355621    -4.294237     2.187201 C          1 UNL1 0.0\\n    67 C       1.365304    -3.320934     2.333600 C          1 UNL1 0.0\\n    68 H       0.132201    -0.863173     2.539217 H          1 UNL1 0.0\\n    69 H      -0.847896    -2.013779     1.625251 H          1 UNL1 0.0\\n    70 H       1.848161    -1.664280    -0.616412 H          1 UNL1 0.0\\n    71 H       3.570812    -3.381464    -0.850308 H          1 UNL1 0.0\\n    72 H       3.911997    -5.074596     0.925165 H          1 UNL1 0.0\\n    73 H       2.502941    -5.035134     2.962440 H          1 UNL1 0.0\\n    74 H       0.752984    -3.324330     3.227756 H          1 UNL1 0.0\\n@<TRIPOS>BOND\\n     1      1      2          1\\n     2      2      3          1\\n     3      3      4          1\\n     4      4      5          2\\n     5      5      1          1\\n     6      4      6          1\\n     7      6      7          1\\n     8      7      8          1\\n     9      8      9          1\\n    10      9     10          1\\n    11     10     11          1\\n    12     11      7          2\\n    13     11     12          1\\n    14     12      5          1\\n    15     12     13          1\\n    16     12     14          1\\n    17      6     15          1\\n    18      6     16          1\\n    19     17     18          1\\n    20     17     19          1\\n    21      9     17          1\\n    22     20     21          1\\n    23     20     22          1\\n    24      2     20          1\\n    25      1     23          1\\n    26      2     24          1\\n    27      9     25          1\\n    28     10     26          1\\n    29     15     27          1\\n    30     15     28          1\\n    31     15     29          1\\n    32     16     30          1\\n    33     16     31          1\\n    34     16     32          1\\n    35     17     33          1\\n    36     18     34          1\\n    37     18     35          1\\n    38     18     36          1\\n    39     19     37          1\\n    40     19     38          1\\n    41     19     39          1\\n    42     20     40          1\\n    43     21     41          1\\n    44     21     42          1\\n    45     21     43          1\\n    46     22     44          1\\n    47     22     45          1\\n    48     22     46          1\\n    49     47     48          1\\n    50     48     49          2\\n    51     49     50          1\\n    52     50     51          2\\n    53     51     52          1\\n    54     52     53          2\\n    55     53     48          1\\n    56     47     54          1\\n    57     47     55          1\\n    58     49     56          1\\n    59     50     57          1\\n    60     51     58          1\\n    61     52     59          1\\n    62     53     60          1\\n    63     10     47          1\\n    64     61     62          1\\n    65     62     63          2\\n    66     63     64          1\\n    67     64     65          2\\n    68     65     66          1\\n    69     66     67          2\\n    70     67     62          1\\n    71     61     68          1\\n    72     61     69          1\\n    73     63     70          1\\n    74     64     71          1\\n    75     65     72          1\\n    76     66     73          1\\n    77     67     74          1\\n    78      1     61          1\\n\",\"mol2\");\n",
       "\tviewer_16867891173709939.setStyle({\"stick\": {\"radius\": 0.1}, \"sphere\": {\"scale\": 0.15}});\n",
       "\tviewer_16867891173709939.setHoverable({},true,\"\\n            function(atom,viewer,event,container) {\\n                if(!atom.label) {\\n                    atom.label = viewer.addLabel(atom.elem + atom.serial, {position: atom, backgroundColor: 'mintcream', fontColor:'black'});\\n                }\\n            }\\n            \",\"\\n            function(atom,viewer) { \\n                if(atom.label) {\\n                    viewer.removeLabel(atom.label);\\n                    delete atom.label;\\n                }\\n            }\\n            \");\n",
       "\tviewer_16867891173709939.zoomTo();\n",
       "\tviewer_16867891173709939.setBackgroundColor(null);\n",
       "viewer_16867891173709939.render();\n",
       "});\n",
       "</script>"
      ]
     },
     "metadata": {},
     "output_type": "display_data"
    },
    {
     "data": {
      "text/plain": [
       "Molecule(name='3_6_6', formula='C30 H38 Br2 N2 O2')"
      ]
     },
     "execution_count": 8,
     "metadata": {},
     "output_type": "execute_result"
    }
   ],
   "source": [
    "combined[\"3_6_6\"]"
   ]
  },
  {
   "attachments": {},
   "cell_type": "markdown",
   "metadata": {},
   "source": [
    "3. Conformer Generation"
   ]
  },
  {
   "cell_type": "code",
   "execution_count": 9,
   "metadata": {},
   "outputs": [
    {
     "name": "stderr",
     "output_type": "stream",
     "text": [
      "100%|██████████| 75/75 [02:11<00:00,  1.76s/it]\n"
     ]
    },
    {
     "data": {
      "text/plain": [
       "CompletedProcess(args=['molli', 'conformers', 'ncsa-testing-data/test_combine_new_env.mlib', '-n', '50', '-o', 'ncsa-testing-data/test_conformers_new_env.mlib', '-t', '-j', '96', '--overwrite'], returncode=0)"
      ]
     },
     "execution_count": 9,
     "metadata": {},
     "output_type": "execute_result"
    }
   ],
   "source": [
    "subprocess.run(['molli', \n",
    "                'conformers', \n",
    "                'ncsa-testing-data/test_combine_new_env.mlib', \n",
    "                '-n', \n",
    "                '50', \n",
    "                '-o', \n",
    "                'ncsa-testing-data/test_conformers_new_env.mlib', \n",
    "                '-t', \n",
    "                '-j', ### !!!!!! Number of jobs. Please scale down if host system has fewer cores. defaults to os.cpu_count()//2  !!!!! ###\n",
    "                '96',\n",
    "                \"--overwrite\"\n",
    "                ])"
   ]
  },
  {
   "cell_type": "code",
   "execution_count": 10,
   "metadata": {},
   "outputs": [
    {
     "name": "stdout",
     "output_type": "stream",
     "text": [
      "75\n"
     ]
    }
   ],
   "source": [
    "clib = ml.ConformerLibrary('ncsa-testing-data/test_conformers_new_env.mlib')\n",
    "print(len(clib))"
   ]
  },
  {
   "cell_type": "code",
   "execution_count": 11,
   "metadata": {},
   "outputs": [
    {
     "name": "stdout",
     "output_type": "stream",
     "text": [
      "8028 conformers in library\n"
     ]
    }
   ],
   "source": [
    "i = 0\n",
    "for conf in clib:\n",
    "    i += conf.n_conformers\n",
    "    # print(conf)\n",
    "print(str(i) + ' conformers in library')"
   ]
  },
  {
   "cell_type": "code",
   "execution_count": 13,
   "metadata": {},
   "outputs": [
    {
     "name": "stdout",
     "output_type": "stream",
     "text": [
      "ConformerEnsemble(name='1_3_3', formula='C16 H26 Br2 N2 O2', n_conformers=150)\n"
     ]
    },
    {
     "data": {
      "application/3dmoljs_load.v0": "<div id=\"3dmolviewer_16867892723353152\"  style=\"position: relative; width: 1000px; height: 500px\">\n        <p id=\"3dmolwarning_16867892723353152\" style=\"background-color:#ffcccc;color:black\">You appear to be running in JupyterLab (or JavaScript failed to load for some other reason).  You need to install the 3dmol extension: <br>\n        <tt>jupyter labextension install jupyterlab_3dmol</tt></p>\n        </div>\n<script>\n\nvar loadScriptAsync = function(uri){\n  return new Promise((resolve, reject) => {\n    //this is to ignore the existence of requirejs amd\n    var savedexports, savedmodule;\n    if (typeof exports !== 'undefined') savedexports = exports;\n    else exports = {}\n    if (typeof module !== 'undefined') savedmodule = module;\n    else module = {}\n\n    var tag = document.createElement('script');\n    tag.src = uri;\n    tag.async = true;\n    tag.onload = () => {\n        exports = savedexports;\n        module = savedmodule;\n        resolve();\n    };\n  var firstScriptTag = document.getElementsByTagName('script')[0];\n  firstScriptTag.parentNode.insertBefore(tag, firstScriptTag);\n});\n};\n\nif(typeof $3Dmolpromise === 'undefined') {\n$3Dmolpromise = null;\n  $3Dmolpromise = loadScriptAsync('https://cdnjs.cloudflare.com/ajax/libs/3Dmol/2.0.1/3Dmol-min.js');\n}\n\nvar viewer_16867892723353152 = null;\nvar warn = document.getElementById(\"3dmolwarning_16867892723353152\");\nif(warn) {\n    warn.parentNode.removeChild(warn);\n}\n$3Dmolpromise.then(function() {\nviewer_16867892723353152 = $3Dmol.createViewer(document.getElementById(\"3dmolviewer_16867892723353152\"),{backgroundColor:\"white\"});\nviewer_16867892723353152.zoomTo();\n\tviewer_16867892723353152.addModel(\"# Produced with molli package\\n@<TRIPOS>MOLECULE\\n1_3_3\\n48 50 0 0 0\\nSMALL\\nUSER_CHARGES\\n\\n@<TRIPOS>ATOM\\n     1 C       0.010800    -0.058300     0.530600 C.3        1 UNL1 0.0\\n     2 C       0.801400     1.153400     0.020800 C.3        1 UNL1 0.0\\n     3 O      -0.062900     2.256800     0.362400 O.2        1 UNL1 0.0\\n     4 C      -1.307800     1.784300     0.359600 C.2        1 UNL1 0.0\\n     5 N      -1.359000     0.509000     0.337000 N.2        1 UNL1 0.0\\n     6 C      -2.520700     2.650900     0.337800 C.3        1 UNL1 0.0\\n     7 C      -3.772600     1.832300     0.317800 C.2        1 UNL1 0.0\\n     8 O      -4.950800     2.328500     0.685700 O.2        1 UNL1 0.0\\n     9 C      -5.849600     1.229800     0.880600 C.3        1 UNL1 0.0\\n    10 C      -5.215600     0.076700     0.093900 C.3        1 UNL1 0.0\\n    11 N      -3.814600     0.599000    -0.015300 N.2        1 UNL1 0.0\\n    12 C      -2.551600    -0.174100    -0.278400 C.3        1 UNL1 0.0\\n    13 BR     -2.179000    -0.144600    -2.234000 Br         1 UNL1 0.0\\n    14 BR     -2.710700    -2.032100     0.290300 Br         1 UNL1 0.0\\n    15 C      -2.500900     3.505600     1.614900 C.3        1 UNL1 0.0\\n    16 C      -2.497000     3.556700    -0.897100 C.3        1 UNL1 0.0\\n    17 H       0.158900    -0.948500    -0.087700 H          1 UNL1 0.0\\n    18 H       1.778300     1.298300     0.486900 H          1 UNL1 0.0\\n    19 H       0.928600     1.141300    -1.068500 H          1 UNL1 0.0\\n    20 H      -5.892100     1.012500     1.954400 H          1 UNL1 0.0\\n    21 H      -6.853500     1.505800     0.544600 H          1 UNL1 0.0\\n    22 H      -5.235800    -0.824800     0.713500 H          1 UNL1 0.0\\n    23 H      -1.584400     4.102800     1.685500 H          1 UNL1 0.0\\n    24 H      -3.349900     4.197800     1.651100 H          1 UNL1 0.0\\n    25 H      -2.551600     2.876000     2.511600 H          1 UNL1 0.0\\n    26 H      -1.605900     4.194500    -0.909300 H          1 UNL1 0.0\\n    27 H      -2.492200     2.974500    -1.824600 H          1 UNL1 0.0\\n    28 H      -3.377800     4.208400    -0.929000 H          1 UNL1 0.0\\n    29 C      -5.957500    -0.150500    -1.243000 C.3        1 UNL1 0.0\\n    30 C      -5.862100     0.989000    -2.261900 C.3        1 UNL1 0.0\\n    31 C      -5.646200    -1.499500    -1.892500 C.3        1 UNL1 0.0\\n    32 H      -7.023700    -0.221100    -0.979200 H          1 UNL1 0.0\\n    33 H      -4.846600     1.129000    -2.636700 H          1 UNL1 0.0\\n    34 H      -6.502800     0.781200    -3.126300 H          1 UNL1 0.0\\n    35 H      -6.198900     1.937700    -1.832600 H          1 UNL1 0.0\\n    36 H      -4.643600    -1.545000    -2.313700 H          1 UNL1 0.0\\n    37 H      -5.754300    -2.314900    -1.169800 H          1 UNL1 0.0\\n    38 H      -6.347500    -1.697000    -2.711200 H          1 UNL1 0.0\\n    39 C       0.342100    -0.290800     2.035400 C.3        1 UNL1 0.0\\n    40 C       1.722900    -0.954800     2.170800 C.3        1 UNL1 0.0\\n    41 C      -0.660600    -1.131700     2.825300 C.3        1 UNL1 0.0\\n    42 H       0.395600     0.681500     2.545600 H          1 UNL1 0.0\\n    43 H       1.983300    -1.098400     3.225300 H          1 UNL1 0.0\\n    44 H       2.515100    -0.348300     1.723500 H          1 UNL1 0.0\\n    45 H       1.735200    -1.936400     1.684500 H          1 UNL1 0.0\\n    46 H      -0.355600    -1.197700     3.876400 H          1 UNL1 0.0\\n    47 H      -0.713400    -2.155300     2.444200 H          1 UNL1 0.0\\n    48 H      -1.657900    -0.683300     2.819400 H          1 UNL1 0.0\\n@<TRIPOS>BOND\\n     1      1      2          1\\n     2      2      3          1\\n     3      3      4          1\\n     4      4      5          2\\n     5      5      1          1\\n     6      4      6          1\\n     7      6      7          1\\n     8      7      8          1\\n     9      8      9          1\\n    10      9     10          1\\n    11     10     11          1\\n    12     11      7          2\\n    13     11     12          1\\n    14     12      5          1\\n    15     12     13          1\\n    16     12     14          1\\n    17      6     15          1\\n    18      6     16          1\\n    19      1     17          1\\n    20      2     18          1\\n    21      2     19          1\\n    22      9     20          1\\n    23      9     21          1\\n    24     10     22          1\\n    25     15     23          1\\n    26     15     24          1\\n    27     15     25          1\\n    28     16     26          1\\n    29     16     27          1\\n    30     16     28          1\\n    31     29     30          1\\n    32     29     31          1\\n    33     29     32          1\\n    34     30     33          1\\n    35     30     34          1\\n    36     30     35          1\\n    37     31     36          1\\n    38     31     37          1\\n    39     31     38          1\\n    40     10     29          1\\n    41     39     40          1\\n    42     39     41          1\\n    43     39     42          1\\n    44     40     43          1\\n    45     40     44          1\\n    46     40     45          1\\n    47     41     46          1\\n    48     41     47          1\\n    49     41     48          1\\n    50      1     39          1\\n\",\"mol2\");\n\tviewer_16867892723353152.setStyle({\"stick\": {\"radius\": 0.1}, \"sphere\": {\"scale\": 0.15}});\n\tviewer_16867892723353152.setHoverable({},true,\"\\n            function(atom,viewer,event,container) {\\n                if(!atom.label) {\\n                    atom.label = viewer.addLabel(atom.elem + atom.serial, {position: atom, backgroundColor: 'mintcream', fontColor:'black'});\\n                }\\n            }\\n            \",\"\\n            function(atom,viewer) { \\n                if(atom.label) {\\n                    viewer.removeLabel(atom.label);\\n                    delete atom.label;\\n                }\\n            }\\n            \");\n\tviewer_16867892723353152.zoomTo();\n\tviewer_16867892723353152.setBackgroundColor(null);\nviewer_16867892723353152.render();\n});\n</script>",
      "text/html": [
       "<div id=\"3dmolviewer_16867892723353152\"  style=\"position: relative; width: 1000px; height: 500px\">\n",
       "        <p id=\"3dmolwarning_16867892723353152\" style=\"background-color:#ffcccc;color:black\">You appear to be running in JupyterLab (or JavaScript failed to load for some other reason).  You need to install the 3dmol extension: <br>\n",
       "        <tt>jupyter labextension install jupyterlab_3dmol</tt></p>\n",
       "        </div>\n",
       "<script>\n",
       "\n",
       "var loadScriptAsync = function(uri){\n",
       "  return new Promise((resolve, reject) => {\n",
       "    //this is to ignore the existence of requirejs amd\n",
       "    var savedexports, savedmodule;\n",
       "    if (typeof exports !== 'undefined') savedexports = exports;\n",
       "    else exports = {}\n",
       "    if (typeof module !== 'undefined') savedmodule = module;\n",
       "    else module = {}\n",
       "\n",
       "    var tag = document.createElement('script');\n",
       "    tag.src = uri;\n",
       "    tag.async = true;\n",
       "    tag.onload = () => {\n",
       "        exports = savedexports;\n",
       "        module = savedmodule;\n",
       "        resolve();\n",
       "    };\n",
       "  var firstScriptTag = document.getElementsByTagName('script')[0];\n",
       "  firstScriptTag.parentNode.insertBefore(tag, firstScriptTag);\n",
       "});\n",
       "};\n",
       "\n",
       "if(typeof $3Dmolpromise === 'undefined') {\n",
       "$3Dmolpromise = null;\n",
       "  $3Dmolpromise = loadScriptAsync('https://cdnjs.cloudflare.com/ajax/libs/3Dmol/2.0.1/3Dmol-min.js');\n",
       "}\n",
       "\n",
       "var viewer_16867892723353152 = null;\n",
       "var warn = document.getElementById(\"3dmolwarning_16867892723353152\");\n",
       "if(warn) {\n",
       "    warn.parentNode.removeChild(warn);\n",
       "}\n",
       "$3Dmolpromise.then(function() {\n",
       "viewer_16867892723353152 = $3Dmol.createViewer(document.getElementById(\"3dmolviewer_16867892723353152\"),{backgroundColor:\"white\"});\n",
       "viewer_16867892723353152.zoomTo();\n",
       "\tviewer_16867892723353152.addModel(\"# Produced with molli package\\n@<TRIPOS>MOLECULE\\n1_3_3\\n48 50 0 0 0\\nSMALL\\nUSER_CHARGES\\n\\n@<TRIPOS>ATOM\\n     1 C       0.010800    -0.058300     0.530600 C.3        1 UNL1 0.0\\n     2 C       0.801400     1.153400     0.020800 C.3        1 UNL1 0.0\\n     3 O      -0.062900     2.256800     0.362400 O.2        1 UNL1 0.0\\n     4 C      -1.307800     1.784300     0.359600 C.2        1 UNL1 0.0\\n     5 N      -1.359000     0.509000     0.337000 N.2        1 UNL1 0.0\\n     6 C      -2.520700     2.650900     0.337800 C.3        1 UNL1 0.0\\n     7 C      -3.772600     1.832300     0.317800 C.2        1 UNL1 0.0\\n     8 O      -4.950800     2.328500     0.685700 O.2        1 UNL1 0.0\\n     9 C      -5.849600     1.229800     0.880600 C.3        1 UNL1 0.0\\n    10 C      -5.215600     0.076700     0.093900 C.3        1 UNL1 0.0\\n    11 N      -3.814600     0.599000    -0.015300 N.2        1 UNL1 0.0\\n    12 C      -2.551600    -0.174100    -0.278400 C.3        1 UNL1 0.0\\n    13 BR     -2.179000    -0.144600    -2.234000 Br         1 UNL1 0.0\\n    14 BR     -2.710700    -2.032100     0.290300 Br         1 UNL1 0.0\\n    15 C      -2.500900     3.505600     1.614900 C.3        1 UNL1 0.0\\n    16 C      -2.497000     3.556700    -0.897100 C.3        1 UNL1 0.0\\n    17 H       0.158900    -0.948500    -0.087700 H          1 UNL1 0.0\\n    18 H       1.778300     1.298300     0.486900 H          1 UNL1 0.0\\n    19 H       0.928600     1.141300    -1.068500 H          1 UNL1 0.0\\n    20 H      -5.892100     1.012500     1.954400 H          1 UNL1 0.0\\n    21 H      -6.853500     1.505800     0.544600 H          1 UNL1 0.0\\n    22 H      -5.235800    -0.824800     0.713500 H          1 UNL1 0.0\\n    23 H      -1.584400     4.102800     1.685500 H          1 UNL1 0.0\\n    24 H      -3.349900     4.197800     1.651100 H          1 UNL1 0.0\\n    25 H      -2.551600     2.876000     2.511600 H          1 UNL1 0.0\\n    26 H      -1.605900     4.194500    -0.909300 H          1 UNL1 0.0\\n    27 H      -2.492200     2.974500    -1.824600 H          1 UNL1 0.0\\n    28 H      -3.377800     4.208400    -0.929000 H          1 UNL1 0.0\\n    29 C      -5.957500    -0.150500    -1.243000 C.3        1 UNL1 0.0\\n    30 C      -5.862100     0.989000    -2.261900 C.3        1 UNL1 0.0\\n    31 C      -5.646200    -1.499500    -1.892500 C.3        1 UNL1 0.0\\n    32 H      -7.023700    -0.221100    -0.979200 H          1 UNL1 0.0\\n    33 H      -4.846600     1.129000    -2.636700 H          1 UNL1 0.0\\n    34 H      -6.502800     0.781200    -3.126300 H          1 UNL1 0.0\\n    35 H      -6.198900     1.937700    -1.832600 H          1 UNL1 0.0\\n    36 H      -4.643600    -1.545000    -2.313700 H          1 UNL1 0.0\\n    37 H      -5.754300    -2.314900    -1.169800 H          1 UNL1 0.0\\n    38 H      -6.347500    -1.697000    -2.711200 H          1 UNL1 0.0\\n    39 C       0.342100    -0.290800     2.035400 C.3        1 UNL1 0.0\\n    40 C       1.722900    -0.954800     2.170800 C.3        1 UNL1 0.0\\n    41 C      -0.660600    -1.131700     2.825300 C.3        1 UNL1 0.0\\n    42 H       0.395600     0.681500     2.545600 H          1 UNL1 0.0\\n    43 H       1.983300    -1.098400     3.225300 H          1 UNL1 0.0\\n    44 H       2.515100    -0.348300     1.723500 H          1 UNL1 0.0\\n    45 H       1.735200    -1.936400     1.684500 H          1 UNL1 0.0\\n    46 H      -0.355600    -1.197700     3.876400 H          1 UNL1 0.0\\n    47 H      -0.713400    -2.155300     2.444200 H          1 UNL1 0.0\\n    48 H      -1.657900    -0.683300     2.819400 H          1 UNL1 0.0\\n@<TRIPOS>BOND\\n     1      1      2          1\\n     2      2      3          1\\n     3      3      4          1\\n     4      4      5          2\\n     5      5      1          1\\n     6      4      6          1\\n     7      6      7          1\\n     8      7      8          1\\n     9      8      9          1\\n    10      9     10          1\\n    11     10     11          1\\n    12     11      7          2\\n    13     11     12          1\\n    14     12      5          1\\n    15     12     13          1\\n    16     12     14          1\\n    17      6     15          1\\n    18      6     16          1\\n    19      1     17          1\\n    20      2     18          1\\n    21      2     19          1\\n    22      9     20          1\\n    23      9     21          1\\n    24     10     22          1\\n    25     15     23          1\\n    26     15     24          1\\n    27     15     25          1\\n    28     16     26          1\\n    29     16     27          1\\n    30     16     28          1\\n    31     29     30          1\\n    32     29     31          1\\n    33     29     32          1\\n    34     30     33          1\\n    35     30     34          1\\n    36     30     35          1\\n    37     31     36          1\\n    38     31     37          1\\n    39     31     38          1\\n    40     10     29          1\\n    41     39     40          1\\n    42     39     41          1\\n    43     39     42          1\\n    44     40     43          1\\n    45     40     44          1\\n    46     40     45          1\\n    47     41     46          1\\n    48     41     47          1\\n    49     41     48          1\\n    50      1     39          1\\n\",\"mol2\");\n",
       "\tviewer_16867892723353152.setStyle({\"stick\": {\"radius\": 0.1}, \"sphere\": {\"scale\": 0.15}});\n",
       "\tviewer_16867892723353152.setHoverable({},true,\"\\n            function(atom,viewer,event,container) {\\n                if(!atom.label) {\\n                    atom.label = viewer.addLabel(atom.elem + atom.serial, {position: atom, backgroundColor: 'mintcream', fontColor:'black'});\\n                }\\n            }\\n            \",\"\\n            function(atom,viewer) { \\n                if(atom.label) {\\n                    viewer.removeLabel(atom.label);\\n                    delete atom.label;\\n                }\\n            }\\n            \");\n",
       "\tviewer_16867892723353152.zoomTo();\n",
       "\tviewer_16867892723353152.setBackgroundColor(null);\n",
       "viewer_16867892723353152.render();\n",
       "});\n",
       "</script>"
      ]
     },
     "metadata": {},
     "output_type": "display_data"
    },
    {
     "data": {
      "text/plain": [
       "Conformer(name='1_3_3', formula='C16 H26 Br2 N2 O2')"
      ]
     },
     "execution_count": 13,
     "metadata": {},
     "output_type": "execute_result"
    }
   ],
   "source": [
    "print(clib[0])\n",
    "clib[0][0]"
   ]
  },
  {
   "cell_type": "code",
   "execution_count": 14,
   "metadata": {},
   "outputs": [
    {
     "data": {
      "application/3dmoljs_load.v0": "<div id=\"3dmolviewer_16867892839009805\"  style=\"position: relative; width: 1000px; height: 500px\">\n        <p id=\"3dmolwarning_16867892839009805\" style=\"background-color:#ffcccc;color:black\">You appear to be running in JupyterLab (or JavaScript failed to load for some other reason).  You need to install the 3dmol extension: <br>\n        <tt>jupyter labextension install jupyterlab_3dmol</tt></p>\n        </div>\n<script>\n\nvar loadScriptAsync = function(uri){\n  return new Promise((resolve, reject) => {\n    //this is to ignore the existence of requirejs amd\n    var savedexports, savedmodule;\n    if (typeof exports !== 'undefined') savedexports = exports;\n    else exports = {}\n    if (typeof module !== 'undefined') savedmodule = module;\n    else module = {}\n\n    var tag = document.createElement('script');\n    tag.src = uri;\n    tag.async = true;\n    tag.onload = () => {\n        exports = savedexports;\n        module = savedmodule;\n        resolve();\n    };\n  var firstScriptTag = document.getElementsByTagName('script')[0];\n  firstScriptTag.parentNode.insertBefore(tag, firstScriptTag);\n});\n};\n\nif(typeof $3Dmolpromise === 'undefined') {\n$3Dmolpromise = null;\n  $3Dmolpromise = loadScriptAsync('https://cdnjs.cloudflare.com/ajax/libs/3Dmol/2.0.1/3Dmol-min.js');\n}\n\nvar viewer_16867892839009805 = null;\nvar warn = document.getElementById(\"3dmolwarning_16867892839009805\");\nif(warn) {\n    warn.parentNode.removeChild(warn);\n}\n$3Dmolpromise.then(function() {\nviewer_16867892839009805 = $3Dmol.createViewer(document.getElementById(\"3dmolviewer_16867892839009805\"),{backgroundColor:\"white\"});\nviewer_16867892839009805.zoomTo();\n\tviewer_16867892839009805.addModel(\"# Produced with molli package\\n@<TRIPOS>MOLECULE\\n1_3_3\\n48 50 0 0 0\\nSMALL\\nUSER_CHARGES\\n\\n@<TRIPOS>ATOM\\n     1 C       0.027200    -0.061700     0.464400 C.3        1 UNL1 0.0\\n     2 C       0.839400     1.202100     0.184900 C.3        1 UNL1 0.0\\n     3 O      -0.076500     2.268000     0.490700 O.2        1 UNL1 0.0\\n     4 C      -1.311500     1.780300     0.388000 C.2        1 UNL1 0.0\\n     5 N      -1.348200     0.506900     0.308300 N.2        1 UNL1 0.0\\n     6 C      -2.523300     2.648200     0.337600 C.3        1 UNL1 0.0\\n     7 C      -3.779300     1.842900     0.288800 C.2        1 UNL1 0.0\\n     8 O      -4.977100     2.369300     0.529100 O.2        1 UNL1 0.0\\n     9 C      -5.930200     1.302000     0.642100 C.3        1 UNL1 0.0\\n    10 C      -5.222700     0.091700     0.033700 C.3        1 UNL1 0.0\\n    11 N      -3.812400     0.597400     0.014200 N.2        1 UNL1 0.0\\n    12 C      -2.563200    -0.205600    -0.209000 C.3        1 UNL1 0.0\\n    13 BR     -2.748000    -1.980200     0.586400 Br         1 UNL1 0.0\\n    14 BR     -2.264000    -0.383800    -2.160300 Br         1 UNL1 0.0\\n    15 C      -2.459000     3.533400    -0.911900 C.3        1 UNL1 0.0\\n    16 C      -2.539200     3.518300     1.603000 C.3        1 UNL1 0.0\\n    17 H       0.197800    -0.819600    -0.307400 H          1 UNL1 0.0\\n    18 H       1.746200     1.305400     0.785700 H          1 UNL1 0.0\\n    19 H       1.113100     1.285500    -0.873600 H          1 UNL1 0.0\\n    20 H      -6.863000     1.584000     0.147800 H          1 UNL1 0.0\\n    21 H      -6.141000     1.151000     1.707200 H          1 UNL1 0.0\\n    22 H      -5.288300    -0.748100     0.732300 H          1 UNL1 0.0\\n    23 H      -2.427500     2.931200    -1.827100 H          1 UNL1 0.0\\n    24 H      -3.335400     4.187900    -0.983200 H          1 UNL1 0.0\\n    25 H      -1.565200     4.167700    -0.908600 H          1 UNL1 0.0\\n    26 H      -3.392200     4.206500     1.609400 H          1 UNL1 0.0\\n    27 H      -2.610100     2.899300     2.505700 H          1 UNL1 0.0\\n    28 H      -1.627900     4.121100     1.689900 H          1 UNL1 0.0\\n    29 C      -5.731100    -0.325500    -1.361100 C.3        1 UNL1 0.0\\n    30 C      -7.102000    -1.005500    -1.240000 C.3        1 UNL1 0.0\\n    31 C      -5.824400     0.814700    -2.383600 C.3        1 UNL1 0.0\\n    32 H      -5.055500    -1.085100    -1.769300 H          1 UNL1 0.0\\n    33 H      -7.867200    -0.315900    -0.869800 H          1 UNL1 0.0\\n    34 H      -7.433500    -1.381900    -2.213900 H          1 UNL1 0.0\\n    35 H      -7.053100    -1.858700    -0.555000 H          1 UNL1 0.0\\n    36 H      -6.590500     1.547500    -2.111800 H          1 UNL1 0.0\\n    37 H      -4.875200     1.345800    -2.493900 H          1 UNL1 0.0\\n    38 H      -6.091200     0.417000    -3.369200 H          1 UNL1 0.0\\n    39 C       0.255600    -0.648900     1.881800 C.3        1 UNL1 0.0\\n    40 C       0.116800     0.347200     3.040600 C.3        1 UNL1 0.0\\n    41 C       1.630800    -1.326800     1.954900 C.3        1 UNL1 0.0\\n    42 H      -0.475900    -1.439200     2.068700 H          1 UNL1 0.0\\n    43 H       0.850000     1.157000     2.977900 H          1 UNL1 0.0\\n    44 H      -0.884400     0.787400     3.071900 H          1 UNL1 0.0\\n    45 H       0.273100    -0.160500     3.999100 H          1 UNL1 0.0\\n    46 H       1.756200    -1.841900     2.913600 H          1 UNL1 0.0\\n    47 H       2.448100    -0.605800     1.856200 H          1 UNL1 0.0\\n    48 H       1.737700    -2.074800     1.162100 H          1 UNL1 0.0\\n@<TRIPOS>BOND\\n     1      1      2          1\\n     2      2      3          1\\n     3      3      4          1\\n     4      4      5          2\\n     5      5      1          1\\n     6      4      6          1\\n     7      6      7          1\\n     8      7      8          1\\n     9      8      9          1\\n    10      9     10          1\\n    11     10     11          1\\n    12     11      7          2\\n    13     11     12          1\\n    14     12      5          1\\n    15     12     13          1\\n    16     12     14          1\\n    17      6     15          1\\n    18      6     16          1\\n    19      1     17          1\\n    20      2     18          1\\n    21      2     19          1\\n    22      9     20          1\\n    23      9     21          1\\n    24     10     22          1\\n    25     15     23          1\\n    26     15     24          1\\n    27     15     25          1\\n    28     16     26          1\\n    29     16     27          1\\n    30     16     28          1\\n    31     29     30          1\\n    32     29     31          1\\n    33     29     32          1\\n    34     30     33          1\\n    35     30     34          1\\n    36     30     35          1\\n    37     31     36          1\\n    38     31     37          1\\n    39     31     38          1\\n    40     10     29          1\\n    41     39     40          1\\n    42     39     41          1\\n    43     39     42          1\\n    44     40     43          1\\n    45     40     44          1\\n    46     40     45          1\\n    47     41     46          1\\n    48     41     47          1\\n    49     41     48          1\\n    50      1     39          1\\n\",\"mol2\");\n\tviewer_16867892839009805.setStyle({\"stick\": {\"radius\": 0.1}, \"sphere\": {\"scale\": 0.15}});\n\tviewer_16867892839009805.setHoverable({},true,\"\\n            function(atom,viewer,event,container) {\\n                if(!atom.label) {\\n                    atom.label = viewer.addLabel(atom.elem + atom.serial, {position: atom, backgroundColor: 'mintcream', fontColor:'black'});\\n                }\\n            }\\n            \",\"\\n            function(atom,viewer) { \\n                if(atom.label) {\\n                    viewer.removeLabel(atom.label);\\n                    delete atom.label;\\n                }\\n            }\\n            \");\n\tviewer_16867892839009805.zoomTo();\n\tviewer_16867892839009805.setBackgroundColor(null);\nviewer_16867892839009805.render();\n});\n</script>",
      "text/html": [
       "<div id=\"3dmolviewer_16867892839009805\"  style=\"position: relative; width: 1000px; height: 500px\">\n",
       "        <p id=\"3dmolwarning_16867892839009805\" style=\"background-color:#ffcccc;color:black\">You appear to be running in JupyterLab (or JavaScript failed to load for some other reason).  You need to install the 3dmol extension: <br>\n",
       "        <tt>jupyter labextension install jupyterlab_3dmol</tt></p>\n",
       "        </div>\n",
       "<script>\n",
       "\n",
       "var loadScriptAsync = function(uri){\n",
       "  return new Promise((resolve, reject) => {\n",
       "    //this is to ignore the existence of requirejs amd\n",
       "    var savedexports, savedmodule;\n",
       "    if (typeof exports !== 'undefined') savedexports = exports;\n",
       "    else exports = {}\n",
       "    if (typeof module !== 'undefined') savedmodule = module;\n",
       "    else module = {}\n",
       "\n",
       "    var tag = document.createElement('script');\n",
       "    tag.src = uri;\n",
       "    tag.async = true;\n",
       "    tag.onload = () => {\n",
       "        exports = savedexports;\n",
       "        module = savedmodule;\n",
       "        resolve();\n",
       "    };\n",
       "  var firstScriptTag = document.getElementsByTagName('script')[0];\n",
       "  firstScriptTag.parentNode.insertBefore(tag, firstScriptTag);\n",
       "});\n",
       "};\n",
       "\n",
       "if(typeof $3Dmolpromise === 'undefined') {\n",
       "$3Dmolpromise = null;\n",
       "  $3Dmolpromise = loadScriptAsync('https://cdnjs.cloudflare.com/ajax/libs/3Dmol/2.0.1/3Dmol-min.js');\n",
       "}\n",
       "\n",
       "var viewer_16867892839009805 = null;\n",
       "var warn = document.getElementById(\"3dmolwarning_16867892839009805\");\n",
       "if(warn) {\n",
       "    warn.parentNode.removeChild(warn);\n",
       "}\n",
       "$3Dmolpromise.then(function() {\n",
       "viewer_16867892839009805 = $3Dmol.createViewer(document.getElementById(\"3dmolviewer_16867892839009805\"),{backgroundColor:\"white\"});\n",
       "viewer_16867892839009805.zoomTo();\n",
       "\tviewer_16867892839009805.addModel(\"# Produced with molli package\\n@<TRIPOS>MOLECULE\\n1_3_3\\n48 50 0 0 0\\nSMALL\\nUSER_CHARGES\\n\\n@<TRIPOS>ATOM\\n     1 C       0.027200    -0.061700     0.464400 C.3        1 UNL1 0.0\\n     2 C       0.839400     1.202100     0.184900 C.3        1 UNL1 0.0\\n     3 O      -0.076500     2.268000     0.490700 O.2        1 UNL1 0.0\\n     4 C      -1.311500     1.780300     0.388000 C.2        1 UNL1 0.0\\n     5 N      -1.348200     0.506900     0.308300 N.2        1 UNL1 0.0\\n     6 C      -2.523300     2.648200     0.337600 C.3        1 UNL1 0.0\\n     7 C      -3.779300     1.842900     0.288800 C.2        1 UNL1 0.0\\n     8 O      -4.977100     2.369300     0.529100 O.2        1 UNL1 0.0\\n     9 C      -5.930200     1.302000     0.642100 C.3        1 UNL1 0.0\\n    10 C      -5.222700     0.091700     0.033700 C.3        1 UNL1 0.0\\n    11 N      -3.812400     0.597400     0.014200 N.2        1 UNL1 0.0\\n    12 C      -2.563200    -0.205600    -0.209000 C.3        1 UNL1 0.0\\n    13 BR     -2.748000    -1.980200     0.586400 Br         1 UNL1 0.0\\n    14 BR     -2.264000    -0.383800    -2.160300 Br         1 UNL1 0.0\\n    15 C      -2.459000     3.533400    -0.911900 C.3        1 UNL1 0.0\\n    16 C      -2.539200     3.518300     1.603000 C.3        1 UNL1 0.0\\n    17 H       0.197800    -0.819600    -0.307400 H          1 UNL1 0.0\\n    18 H       1.746200     1.305400     0.785700 H          1 UNL1 0.0\\n    19 H       1.113100     1.285500    -0.873600 H          1 UNL1 0.0\\n    20 H      -6.863000     1.584000     0.147800 H          1 UNL1 0.0\\n    21 H      -6.141000     1.151000     1.707200 H          1 UNL1 0.0\\n    22 H      -5.288300    -0.748100     0.732300 H          1 UNL1 0.0\\n    23 H      -2.427500     2.931200    -1.827100 H          1 UNL1 0.0\\n    24 H      -3.335400     4.187900    -0.983200 H          1 UNL1 0.0\\n    25 H      -1.565200     4.167700    -0.908600 H          1 UNL1 0.0\\n    26 H      -3.392200     4.206500     1.609400 H          1 UNL1 0.0\\n    27 H      -2.610100     2.899300     2.505700 H          1 UNL1 0.0\\n    28 H      -1.627900     4.121100     1.689900 H          1 UNL1 0.0\\n    29 C      -5.731100    -0.325500    -1.361100 C.3        1 UNL1 0.0\\n    30 C      -7.102000    -1.005500    -1.240000 C.3        1 UNL1 0.0\\n    31 C      -5.824400     0.814700    -2.383600 C.3        1 UNL1 0.0\\n    32 H      -5.055500    -1.085100    -1.769300 H          1 UNL1 0.0\\n    33 H      -7.867200    -0.315900    -0.869800 H          1 UNL1 0.0\\n    34 H      -7.433500    -1.381900    -2.213900 H          1 UNL1 0.0\\n    35 H      -7.053100    -1.858700    -0.555000 H          1 UNL1 0.0\\n    36 H      -6.590500     1.547500    -2.111800 H          1 UNL1 0.0\\n    37 H      -4.875200     1.345800    -2.493900 H          1 UNL1 0.0\\n    38 H      -6.091200     0.417000    -3.369200 H          1 UNL1 0.0\\n    39 C       0.255600    -0.648900     1.881800 C.3        1 UNL1 0.0\\n    40 C       0.116800     0.347200     3.040600 C.3        1 UNL1 0.0\\n    41 C       1.630800    -1.326800     1.954900 C.3        1 UNL1 0.0\\n    42 H      -0.475900    -1.439200     2.068700 H          1 UNL1 0.0\\n    43 H       0.850000     1.157000     2.977900 H          1 UNL1 0.0\\n    44 H      -0.884400     0.787400     3.071900 H          1 UNL1 0.0\\n    45 H       0.273100    -0.160500     3.999100 H          1 UNL1 0.0\\n    46 H       1.756200    -1.841900     2.913600 H          1 UNL1 0.0\\n    47 H       2.448100    -0.605800     1.856200 H          1 UNL1 0.0\\n    48 H       1.737700    -2.074800     1.162100 H          1 UNL1 0.0\\n@<TRIPOS>BOND\\n     1      1      2          1\\n     2      2      3          1\\n     3      3      4          1\\n     4      4      5          2\\n     5      5      1          1\\n     6      4      6          1\\n     7      6      7          1\\n     8      7      8          1\\n     9      8      9          1\\n    10      9     10          1\\n    11     10     11          1\\n    12     11      7          2\\n    13     11     12          1\\n    14     12      5          1\\n    15     12     13          1\\n    16     12     14          1\\n    17      6     15          1\\n    18      6     16          1\\n    19      1     17          1\\n    20      2     18          1\\n    21      2     19          1\\n    22      9     20          1\\n    23      9     21          1\\n    24     10     22          1\\n    25     15     23          1\\n    26     15     24          1\\n    27     15     25          1\\n    28     16     26          1\\n    29     16     27          1\\n    30     16     28          1\\n    31     29     30          1\\n    32     29     31          1\\n    33     29     32          1\\n    34     30     33          1\\n    35     30     34          1\\n    36     30     35          1\\n    37     31     36          1\\n    38     31     37          1\\n    39     31     38          1\\n    40     10     29          1\\n    41     39     40          1\\n    42     39     41          1\\n    43     39     42          1\\n    44     40     43          1\\n    45     40     44          1\\n    46     40     45          1\\n    47     41     46          1\\n    48     41     47          1\\n    49     41     48          1\\n    50      1     39          1\\n\",\"mol2\");\n",
       "\tviewer_16867892839009805.setStyle({\"stick\": {\"radius\": 0.1}, \"sphere\": {\"scale\": 0.15}});\n",
       "\tviewer_16867892839009805.setHoverable({},true,\"\\n            function(atom,viewer,event,container) {\\n                if(!atom.label) {\\n                    atom.label = viewer.addLabel(atom.elem + atom.serial, {position: atom, backgroundColor: 'mintcream', fontColor:'black'});\\n                }\\n            }\\n            \",\"\\n            function(atom,viewer) { \\n                if(atom.label) {\\n                    viewer.removeLabel(atom.label);\\n                    delete atom.label;\\n                }\\n            }\\n            \");\n",
       "\tviewer_16867892839009805.zoomTo();\n",
       "\tviewer_16867892839009805.setBackgroundColor(null);\n",
       "viewer_16867892839009805.render();\n",
       "});\n",
       "</script>"
      ]
     },
     "metadata": {},
     "output_type": "display_data"
    },
    {
     "data": {
      "text/plain": [
       "Conformer(name='1_3_3', formula='C16 H26 Br2 N2 O2')"
      ]
     },
     "execution_count": 14,
     "metadata": {},
     "output_type": "execute_result"
    }
   ],
   "source": [
    "clib[0][1]"
   ]
  },
  {
   "cell_type": "code",
   "execution_count": 15,
   "metadata": {},
   "outputs": [
    {
     "data": {
      "application/3dmoljs_load.v0": "<div id=\"3dmolviewer_1686789301508301\"  style=\"position: relative; width: 1000px; height: 500px\">\n        <p id=\"3dmolwarning_1686789301508301\" style=\"background-color:#ffcccc;color:black\">You appear to be running in JupyterLab (or JavaScript failed to load for some other reason).  You need to install the 3dmol extension: <br>\n        <tt>jupyter labextension install jupyterlab_3dmol</tt></p>\n        </div>\n<script>\n\nvar loadScriptAsync = function(uri){\n  return new Promise((resolve, reject) => {\n    //this is to ignore the existence of requirejs amd\n    var savedexports, savedmodule;\n    if (typeof exports !== 'undefined') savedexports = exports;\n    else exports = {}\n    if (typeof module !== 'undefined') savedmodule = module;\n    else module = {}\n\n    var tag = document.createElement('script');\n    tag.src = uri;\n    tag.async = true;\n    tag.onload = () => {\n        exports = savedexports;\n        module = savedmodule;\n        resolve();\n    };\n  var firstScriptTag = document.getElementsByTagName('script')[0];\n  firstScriptTag.parentNode.insertBefore(tag, firstScriptTag);\n});\n};\n\nif(typeof $3Dmolpromise === 'undefined') {\n$3Dmolpromise = null;\n  $3Dmolpromise = loadScriptAsync('https://cdnjs.cloudflare.com/ajax/libs/3Dmol/2.0.1/3Dmol-min.js');\n}\n\nvar viewer_1686789301508301 = null;\nvar warn = document.getElementById(\"3dmolwarning_1686789301508301\");\nif(warn) {\n    warn.parentNode.removeChild(warn);\n}\n$3Dmolpromise.then(function() {\nviewer_1686789301508301 = $3Dmol.createViewer(document.getElementById(\"3dmolviewer_1686789301508301\"),{backgroundColor:\"white\"});\nviewer_1686789301508301.zoomTo();\n\tviewer_1686789301508301.addModel(\"# Produced with molli package\\n@<TRIPOS>MOLECULE\\n3_6_6\\n74 78 0 0 0\\nSMALL\\nUSER_CHARGES\\n\\n@<TRIPOS>ATOM\\n     1 C       0.131700     0.058700     0.155100 C.3        1 UNL1 0.0\\n     2 C       0.818200     1.232700     0.891200 C.3        1 UNL1 0.0\\n     3 O      -0.107200     2.302000     0.594200 O.2        1 UNL1 0.0\\n     4 C      -1.321200     1.775500     0.430800 C.2        1 UNL1 0.0\\n     5 N      -1.316300     0.507600     0.278100 N.2        1 UNL1 0.0\\n     6 C      -2.524500     2.642100     0.316300 C.3        1 UNL1 0.0\\n     7 C      -3.779700     1.849600     0.279500 C.2        1 UNL1 0.0\\n     8 O      -4.963400     2.406700     0.516400 O.2        1 UNL1 0.0\\n     9 C      -5.931100     1.363700     0.725500 C.3        1 UNL1 0.0\\n    10 C      -5.274700     0.118000     0.081000 C.3        1 UNL1 0.0\\n    11 N      -3.833000     0.600900     0.032200 N.2        1 UNL1 0.0\\n    12 C      -2.577800    -0.249400    -0.087100 C.3        1 UNL1 0.0\\n    13 BR     -2.801400    -1.720600     1.178500 Br         1 UNL1 0.0\\n    14 BR     -2.368600    -0.760600    -1.954300 Br         1 UNL1 0.0\\n    15 C      -2.433600     3.451500    -0.983800 C.3        1 UNL1 0.0\\n    16 C      -2.560800     3.588700     1.525100 C.3        1 UNL1 0.0\\n    17 C      -7.331300     1.839000     0.287200 C.3        1 UNL1 0.0\\n    18 C      -7.947300     2.716500     1.388900 C.3        1 UNL1 0.0\\n    19 C      -7.337100     2.650800    -1.014000 C.3        1 UNL1 0.0\\n    20 C       1.011700     1.167100     2.433300 C.3        1 UNL1 0.0\\n    21 C       1.187300     2.578100     3.021500 C.3        1 UNL1 0.0\\n    22 C       2.222800     0.328300     2.855200 C.3        1 UNL1 0.0\\n    23 H       0.357700     0.176500    -0.911900 H          1 UNL1 0.0\\n    24 H       1.773800     1.470100     0.407100 H          1 UNL1 0.0\\n    25 H      -5.956100     1.188900     1.811600 H          1 UNL1 0.0\\n    26 H      -5.352400    -0.693400     0.807400 H          1 UNL1 0.0\\n    27 H      -1.555500     4.106400    -0.988600 H          1 UNL1 0.0\\n    28 H      -3.322000     4.077000    -1.124600 H          1 UNL1 0.0\\n    29 H      -2.358600     2.792600    -1.857800 H          1 UNL1 0.0\\n    30 H      -3.425000     4.260900     1.488500 H          1 UNL1 0.0\\n    31 H      -1.662600     4.215200     1.574100 H          1 UNL1 0.0\\n    32 H      -2.621400     3.026700     2.464500 H          1 UNL1 0.0\\n    33 H      -7.990700     0.970000     0.179400 H          1 UNL1 0.0\\n    34 H      -7.333000     3.601000     1.588000 H          1 UNL1 0.0\\n    35 H      -8.046800     2.153900     2.322700 H          1 UNL1 0.0\\n    36 H      -8.947700     3.055600     1.101300 H          1 UNL1 0.0\\n    37 H      -6.796300     3.596400    -0.901400 H          1 UNL1 0.0\\n    38 H      -6.886700     2.108800    -1.846400 H          1 UNL1 0.0\\n    39 H      -8.364100     2.894000    -1.305200 H          1 UNL1 0.0\\n    40 H       0.115400     0.740600     2.898700 H          1 UNL1 0.0\\n    41 H       2.025200     3.100000     2.546900 H          1 UNL1 0.0\\n    42 H       0.287100     3.185800     2.885700 H          1 UNL1 0.0\\n    43 H       1.381500     2.533100     4.098000 H          1 UNL1 0.0\\n    44 H       3.104800     0.574000     2.255200 H          1 UNL1 0.0\\n    45 H       2.475600     0.501800     3.906900 H          1 UNL1 0.0\\n    46 H       2.029000    -0.742300     2.768700 H          1 UNL1 0.0\\n    47 C      -5.829900    -0.286600    -1.293000 C.3        1 UNL1 0.0\\n    48 C      -5.589700    -1.715900    -1.727200 C.ar       1 UNL1 0.0\\n    49 C      -5.346900    -1.978800    -3.086700 C.ar       1 UNL1 0.0\\n    50 C      -5.130500    -3.281700    -3.537500 C.ar       1 UNL1 0.0\\n    51 C      -5.184500    -4.344900    -2.643100 C.ar       1 UNL1 0.0\\n    52 C      -5.482500    -4.108400    -1.304200 C.ar       1 UNL1 0.0\\n    53 C      -5.702500    -2.805000    -0.850600 C.ar       1 UNL1 0.0\\n    54 H      -6.920800    -0.193200    -1.300700 H          1 UNL1 0.0\\n    55 H      -5.445000     0.397100    -2.061100 H          1 UNL1 0.0\\n    56 H      -5.329600    -1.175000    -3.822100 H          1 UNL1 0.0\\n    57 H      -4.940500    -3.471500    -4.592700 H          1 UNL1 0.0\\n    58 H      -5.032600    -5.362700    -2.998400 H          1 UNL1 0.0\\n    59 H      -5.576200    -4.952000    -0.621600 H          1 UNL1 0.0\\n    60 H      -6.001300    -2.687700     0.188100 H          1 UNL1 0.0\\n    61 C       0.545000    -1.328400     0.637800 C.3        1 UNL1 0.0\\n    62 C       0.313300    -2.476000    -0.318200 C.ar       1 UNL1 0.0\\n    63 C       0.726000    -2.412800    -1.658600 C.ar       1 UNL1 0.0\\n    64 C       0.512900    -3.490800    -2.521100 C.ar       1 UNL1 0.0\\n    65 C      -0.083700    -4.656400    -2.050400 C.ar       1 UNL1 0.0\\n    66 C      -0.438100    -4.758500    -0.709500 C.ar       1 UNL1 0.0\\n    67 C      -0.220800    -3.684600     0.154500 C.ar       1 UNL1 0.0\\n    68 H       1.632800    -1.330400     0.775300 H          1 UNL1 0.0\\n    69 H       0.106600    -1.545300     1.616500 H          1 UNL1 0.0\\n    70 H       1.249400    -1.548200    -2.061400 H          1 UNL1 0.0\\n    71 H       0.837600    -3.436300    -3.558900 H          1 UNL1 0.0\\n    72 H      -0.233000    -5.501800    -2.719800 H          1 UNL1 0.0\\n    73 H      -0.855900    -5.689700    -0.331800 H          1 UNL1 0.0\\n    74 H      -0.459500    -3.824300     1.207700 H          1 UNL1 0.0\\n@<TRIPOS>BOND\\n     1      1      2          1\\n     2      2      3          1\\n     3      3      4          1\\n     4      4      5          2\\n     5      5      1          1\\n     6      4      6          1\\n     7      6      7          1\\n     8      7      8          1\\n     9      8      9          1\\n    10      9     10          1\\n    11     10     11          1\\n    12     11      7          2\\n    13     11     12          1\\n    14     12      5          1\\n    15     12     13          1\\n    16     12     14          1\\n    17      6     15          1\\n    18      6     16          1\\n    19     17     18          1\\n    20     17     19          1\\n    21      9     17          1\\n    22     20     21          1\\n    23     20     22          1\\n    24      2     20          1\\n    25      1     23          1\\n    26      2     24          1\\n    27      9     25          1\\n    28     10     26          1\\n    29     15     27          1\\n    30     15     28          1\\n    31     15     29          1\\n    32     16     30          1\\n    33     16     31          1\\n    34     16     32          1\\n    35     17     33          1\\n    36     18     34          1\\n    37     18     35          1\\n    38     18     36          1\\n    39     19     37          1\\n    40     19     38          1\\n    41     19     39          1\\n    42     20     40          1\\n    43     21     41          1\\n    44     21     42          1\\n    45     21     43          1\\n    46     22     44          1\\n    47     22     45          1\\n    48     22     46          1\\n    49     47     48          1\\n    50     48     49         ar\\n    51     49     50         ar\\n    52     50     51         ar\\n    53     51     52         ar\\n    54     52     53         ar\\n    55     53     48         ar\\n    56     47     54          1\\n    57     47     55          1\\n    58     49     56          1\\n    59     50     57          1\\n    60     51     58          1\\n    61     52     59          1\\n    62     53     60          1\\n    63     10     47          1\\n    64     61     62          1\\n    65     62     63         ar\\n    66     63     64         ar\\n    67     64     65         ar\\n    68     65     66         ar\\n    69     66     67         ar\\n    70     67     62         ar\\n    71     61     68          1\\n    72     61     69          1\\n    73     63     70          1\\n    74     64     71          1\\n    75     65     72          1\\n    76     66     73          1\\n    77     67     74          1\\n    78      1     61          1\\n\",\"mol2\");\n\tviewer_1686789301508301.setStyle({\"stick\": {\"radius\": 0.1}, \"sphere\": {\"scale\": 0.15}});\n\tviewer_1686789301508301.setHoverable({},true,\"\\n            function(atom,viewer,event,container) {\\n                if(!atom.label) {\\n                    atom.label = viewer.addLabel(atom.elem + atom.serial, {position: atom, backgroundColor: 'mintcream', fontColor:'black'});\\n                }\\n            }\\n            \",\"\\n            function(atom,viewer) { \\n                if(atom.label) {\\n                    viewer.removeLabel(atom.label);\\n                    delete atom.label;\\n                }\\n            }\\n            \");\n\tviewer_1686789301508301.zoomTo();\n\tviewer_1686789301508301.setBackgroundColor(null);\nviewer_1686789301508301.render();\n});\n</script>",
      "text/html": [
       "<div id=\"3dmolviewer_1686789301508301\"  style=\"position: relative; width: 1000px; height: 500px\">\n",
       "        <p id=\"3dmolwarning_1686789301508301\" style=\"background-color:#ffcccc;color:black\">You appear to be running in JupyterLab (or JavaScript failed to load for some other reason).  You need to install the 3dmol extension: <br>\n",
       "        <tt>jupyter labextension install jupyterlab_3dmol</tt></p>\n",
       "        </div>\n",
       "<script>\n",
       "\n",
       "var loadScriptAsync = function(uri){\n",
       "  return new Promise((resolve, reject) => {\n",
       "    //this is to ignore the existence of requirejs amd\n",
       "    var savedexports, savedmodule;\n",
       "    if (typeof exports !== 'undefined') savedexports = exports;\n",
       "    else exports = {}\n",
       "    if (typeof module !== 'undefined') savedmodule = module;\n",
       "    else module = {}\n",
       "\n",
       "    var tag = document.createElement('script');\n",
       "    tag.src = uri;\n",
       "    tag.async = true;\n",
       "    tag.onload = () => {\n",
       "        exports = savedexports;\n",
       "        module = savedmodule;\n",
       "        resolve();\n",
       "    };\n",
       "  var firstScriptTag = document.getElementsByTagName('script')[0];\n",
       "  firstScriptTag.parentNode.insertBefore(tag, firstScriptTag);\n",
       "});\n",
       "};\n",
       "\n",
       "if(typeof $3Dmolpromise === 'undefined') {\n",
       "$3Dmolpromise = null;\n",
       "  $3Dmolpromise = loadScriptAsync('https://cdnjs.cloudflare.com/ajax/libs/3Dmol/2.0.1/3Dmol-min.js');\n",
       "}\n",
       "\n",
       "var viewer_1686789301508301 = null;\n",
       "var warn = document.getElementById(\"3dmolwarning_1686789301508301\");\n",
       "if(warn) {\n",
       "    warn.parentNode.removeChild(warn);\n",
       "}\n",
       "$3Dmolpromise.then(function() {\n",
       "viewer_1686789301508301 = $3Dmol.createViewer(document.getElementById(\"3dmolviewer_1686789301508301\"),{backgroundColor:\"white\"});\n",
       "viewer_1686789301508301.zoomTo();\n",
       "\tviewer_1686789301508301.addModel(\"# Produced with molli package\\n@<TRIPOS>MOLECULE\\n3_6_6\\n74 78 0 0 0\\nSMALL\\nUSER_CHARGES\\n\\n@<TRIPOS>ATOM\\n     1 C       0.131700     0.058700     0.155100 C.3        1 UNL1 0.0\\n     2 C       0.818200     1.232700     0.891200 C.3        1 UNL1 0.0\\n     3 O      -0.107200     2.302000     0.594200 O.2        1 UNL1 0.0\\n     4 C      -1.321200     1.775500     0.430800 C.2        1 UNL1 0.0\\n     5 N      -1.316300     0.507600     0.278100 N.2        1 UNL1 0.0\\n     6 C      -2.524500     2.642100     0.316300 C.3        1 UNL1 0.0\\n     7 C      -3.779700     1.849600     0.279500 C.2        1 UNL1 0.0\\n     8 O      -4.963400     2.406700     0.516400 O.2        1 UNL1 0.0\\n     9 C      -5.931100     1.363700     0.725500 C.3        1 UNL1 0.0\\n    10 C      -5.274700     0.118000     0.081000 C.3        1 UNL1 0.0\\n    11 N      -3.833000     0.600900     0.032200 N.2        1 UNL1 0.0\\n    12 C      -2.577800    -0.249400    -0.087100 C.3        1 UNL1 0.0\\n    13 BR     -2.801400    -1.720600     1.178500 Br         1 UNL1 0.0\\n    14 BR     -2.368600    -0.760600    -1.954300 Br         1 UNL1 0.0\\n    15 C      -2.433600     3.451500    -0.983800 C.3        1 UNL1 0.0\\n    16 C      -2.560800     3.588700     1.525100 C.3        1 UNL1 0.0\\n    17 C      -7.331300     1.839000     0.287200 C.3        1 UNL1 0.0\\n    18 C      -7.947300     2.716500     1.388900 C.3        1 UNL1 0.0\\n    19 C      -7.337100     2.650800    -1.014000 C.3        1 UNL1 0.0\\n    20 C       1.011700     1.167100     2.433300 C.3        1 UNL1 0.0\\n    21 C       1.187300     2.578100     3.021500 C.3        1 UNL1 0.0\\n    22 C       2.222800     0.328300     2.855200 C.3        1 UNL1 0.0\\n    23 H       0.357700     0.176500    -0.911900 H          1 UNL1 0.0\\n    24 H       1.773800     1.470100     0.407100 H          1 UNL1 0.0\\n    25 H      -5.956100     1.188900     1.811600 H          1 UNL1 0.0\\n    26 H      -5.352400    -0.693400     0.807400 H          1 UNL1 0.0\\n    27 H      -1.555500     4.106400    -0.988600 H          1 UNL1 0.0\\n    28 H      -3.322000     4.077000    -1.124600 H          1 UNL1 0.0\\n    29 H      -2.358600     2.792600    -1.857800 H          1 UNL1 0.0\\n    30 H      -3.425000     4.260900     1.488500 H          1 UNL1 0.0\\n    31 H      -1.662600     4.215200     1.574100 H          1 UNL1 0.0\\n    32 H      -2.621400     3.026700     2.464500 H          1 UNL1 0.0\\n    33 H      -7.990700     0.970000     0.179400 H          1 UNL1 0.0\\n    34 H      -7.333000     3.601000     1.588000 H          1 UNL1 0.0\\n    35 H      -8.046800     2.153900     2.322700 H          1 UNL1 0.0\\n    36 H      -8.947700     3.055600     1.101300 H          1 UNL1 0.0\\n    37 H      -6.796300     3.596400    -0.901400 H          1 UNL1 0.0\\n    38 H      -6.886700     2.108800    -1.846400 H          1 UNL1 0.0\\n    39 H      -8.364100     2.894000    -1.305200 H          1 UNL1 0.0\\n    40 H       0.115400     0.740600     2.898700 H          1 UNL1 0.0\\n    41 H       2.025200     3.100000     2.546900 H          1 UNL1 0.0\\n    42 H       0.287100     3.185800     2.885700 H          1 UNL1 0.0\\n    43 H       1.381500     2.533100     4.098000 H          1 UNL1 0.0\\n    44 H       3.104800     0.574000     2.255200 H          1 UNL1 0.0\\n    45 H       2.475600     0.501800     3.906900 H          1 UNL1 0.0\\n    46 H       2.029000    -0.742300     2.768700 H          1 UNL1 0.0\\n    47 C      -5.829900    -0.286600    -1.293000 C.3        1 UNL1 0.0\\n    48 C      -5.589700    -1.715900    -1.727200 C.ar       1 UNL1 0.0\\n    49 C      -5.346900    -1.978800    -3.086700 C.ar       1 UNL1 0.0\\n    50 C      -5.130500    -3.281700    -3.537500 C.ar       1 UNL1 0.0\\n    51 C      -5.184500    -4.344900    -2.643100 C.ar       1 UNL1 0.0\\n    52 C      -5.482500    -4.108400    -1.304200 C.ar       1 UNL1 0.0\\n    53 C      -5.702500    -2.805000    -0.850600 C.ar       1 UNL1 0.0\\n    54 H      -6.920800    -0.193200    -1.300700 H          1 UNL1 0.0\\n    55 H      -5.445000     0.397100    -2.061100 H          1 UNL1 0.0\\n    56 H      -5.329600    -1.175000    -3.822100 H          1 UNL1 0.0\\n    57 H      -4.940500    -3.471500    -4.592700 H          1 UNL1 0.0\\n    58 H      -5.032600    -5.362700    -2.998400 H          1 UNL1 0.0\\n    59 H      -5.576200    -4.952000    -0.621600 H          1 UNL1 0.0\\n    60 H      -6.001300    -2.687700     0.188100 H          1 UNL1 0.0\\n    61 C       0.545000    -1.328400     0.637800 C.3        1 UNL1 0.0\\n    62 C       0.313300    -2.476000    -0.318200 C.ar       1 UNL1 0.0\\n    63 C       0.726000    -2.412800    -1.658600 C.ar       1 UNL1 0.0\\n    64 C       0.512900    -3.490800    -2.521100 C.ar       1 UNL1 0.0\\n    65 C      -0.083700    -4.656400    -2.050400 C.ar       1 UNL1 0.0\\n    66 C      -0.438100    -4.758500    -0.709500 C.ar       1 UNL1 0.0\\n    67 C      -0.220800    -3.684600     0.154500 C.ar       1 UNL1 0.0\\n    68 H       1.632800    -1.330400     0.775300 H          1 UNL1 0.0\\n    69 H       0.106600    -1.545300     1.616500 H          1 UNL1 0.0\\n    70 H       1.249400    -1.548200    -2.061400 H          1 UNL1 0.0\\n    71 H       0.837600    -3.436300    -3.558900 H          1 UNL1 0.0\\n    72 H      -0.233000    -5.501800    -2.719800 H          1 UNL1 0.0\\n    73 H      -0.855900    -5.689700    -0.331800 H          1 UNL1 0.0\\n    74 H      -0.459500    -3.824300     1.207700 H          1 UNL1 0.0\\n@<TRIPOS>BOND\\n     1      1      2          1\\n     2      2      3          1\\n     3      3      4          1\\n     4      4      5          2\\n     5      5      1          1\\n     6      4      6          1\\n     7      6      7          1\\n     8      7      8          1\\n     9      8      9          1\\n    10      9     10          1\\n    11     10     11          1\\n    12     11      7          2\\n    13     11     12          1\\n    14     12      5          1\\n    15     12     13          1\\n    16     12     14          1\\n    17      6     15          1\\n    18      6     16          1\\n    19     17     18          1\\n    20     17     19          1\\n    21      9     17          1\\n    22     20     21          1\\n    23     20     22          1\\n    24      2     20          1\\n    25      1     23          1\\n    26      2     24          1\\n    27      9     25          1\\n    28     10     26          1\\n    29     15     27          1\\n    30     15     28          1\\n    31     15     29          1\\n    32     16     30          1\\n    33     16     31          1\\n    34     16     32          1\\n    35     17     33          1\\n    36     18     34          1\\n    37     18     35          1\\n    38     18     36          1\\n    39     19     37          1\\n    40     19     38          1\\n    41     19     39          1\\n    42     20     40          1\\n    43     21     41          1\\n    44     21     42          1\\n    45     21     43          1\\n    46     22     44          1\\n    47     22     45          1\\n    48     22     46          1\\n    49     47     48          1\\n    50     48     49         ar\\n    51     49     50         ar\\n    52     50     51         ar\\n    53     51     52         ar\\n    54     52     53         ar\\n    55     53     48         ar\\n    56     47     54          1\\n    57     47     55          1\\n    58     49     56          1\\n    59     50     57          1\\n    60     51     58          1\\n    61     52     59          1\\n    62     53     60          1\\n    63     10     47          1\\n    64     61     62          1\\n    65     62     63         ar\\n    66     63     64         ar\\n    67     64     65         ar\\n    68     65     66         ar\\n    69     66     67         ar\\n    70     67     62         ar\\n    71     61     68          1\\n    72     61     69          1\\n    73     63     70          1\\n    74     64     71          1\\n    75     65     72          1\\n    76     66     73          1\\n    77     67     74          1\\n    78      1     61          1\\n\",\"mol2\");\n",
       "\tviewer_1686789301508301.setStyle({\"stick\": {\"radius\": 0.1}, \"sphere\": {\"scale\": 0.15}});\n",
       "\tviewer_1686789301508301.setHoverable({},true,\"\\n            function(atom,viewer,event,container) {\\n                if(!atom.label) {\\n                    atom.label = viewer.addLabel(atom.elem + atom.serial, {position: atom, backgroundColor: 'mintcream', fontColor:'black'});\\n                }\\n            }\\n            \",\"\\n            function(atom,viewer) { \\n                if(atom.label) {\\n                    viewer.removeLabel(atom.label);\\n                    delete atom.label;\\n                }\\n            }\\n            \");\n",
       "\tviewer_1686789301508301.zoomTo();\n",
       "\tviewer_1686789301508301.setBackgroundColor(null);\n",
       "viewer_1686789301508301.render();\n",
       "});\n",
       "</script>"
      ]
     },
     "metadata": {},
     "output_type": "display_data"
    },
    {
     "data": {
      "text/plain": [
       "Conformer(name='3_6_6', formula='C30 H38 Br2 N2 O2')"
      ]
     },
     "execution_count": 15,
     "metadata": {},
     "output_type": "execute_result"
    }
   ],
   "source": [
    "clib[42][0]"
   ]
  },
  {
   "cell_type": "code",
   "execution_count": 16,
   "metadata": {},
   "outputs": [
    {
     "data": {
      "application/3dmoljs_load.v0": "<div id=\"3dmolviewer_1686789309952287\"  style=\"position: relative; width: 1000px; height: 500px\">\n        <p id=\"3dmolwarning_1686789309952287\" style=\"background-color:#ffcccc;color:black\">You appear to be running in JupyterLab (or JavaScript failed to load for some other reason).  You need to install the 3dmol extension: <br>\n        <tt>jupyter labextension install jupyterlab_3dmol</tt></p>\n        </div>\n<script>\n\nvar loadScriptAsync = function(uri){\n  return new Promise((resolve, reject) => {\n    //this is to ignore the existence of requirejs amd\n    var savedexports, savedmodule;\n    if (typeof exports !== 'undefined') savedexports = exports;\n    else exports = {}\n    if (typeof module !== 'undefined') savedmodule = module;\n    else module = {}\n\n    var tag = document.createElement('script');\n    tag.src = uri;\n    tag.async = true;\n    tag.onload = () => {\n        exports = savedexports;\n        module = savedmodule;\n        resolve();\n    };\n  var firstScriptTag = document.getElementsByTagName('script')[0];\n  firstScriptTag.parentNode.insertBefore(tag, firstScriptTag);\n});\n};\n\nif(typeof $3Dmolpromise === 'undefined') {\n$3Dmolpromise = null;\n  $3Dmolpromise = loadScriptAsync('https://cdnjs.cloudflare.com/ajax/libs/3Dmol/2.0.1/3Dmol-min.js');\n}\n\nvar viewer_1686789309952287 = null;\nvar warn = document.getElementById(\"3dmolwarning_1686789309952287\");\nif(warn) {\n    warn.parentNode.removeChild(warn);\n}\n$3Dmolpromise.then(function() {\nviewer_1686789309952287 = $3Dmol.createViewer(document.getElementById(\"3dmolviewer_1686789309952287\"),{backgroundColor:\"white\"});\nviewer_1686789309952287.zoomTo();\n\tviewer_1686789309952287.addModel(\"# Produced with molli package\\n@<TRIPOS>MOLECULE\\n3_6_6\\n74 78 0 0 0\\nSMALL\\nUSER_CHARGES\\n\\n@<TRIPOS>ATOM\\n     1 C      -0.015100    -0.061300     0.629200 C.3        1 UNL1 0.0\\n     2 C       0.800400     1.118400     0.064500 C.3        1 UNL1 0.0\\n     3 O      -0.054600     2.242800     0.396700 O.2        1 UNL1 0.0\\n     4 C      -1.307400     1.785000     0.358500 C.2        1 UNL1 0.0\\n     5 N      -1.369700     0.509500     0.334900 N.2        1 UNL1 0.0\\n     6 C      -2.519500     2.653900     0.341400 C.3        1 UNL1 0.0\\n     7 C      -3.770300     1.831600     0.313200 C.2        1 UNL1 0.0\\n     8 O      -4.957900     2.317300     0.668500 O.2        1 UNL1 0.0\\n     9 C      -5.792700     1.186700     0.988100 C.3        1 UNL1 0.0\\n    10 C      -5.222500     0.081000     0.071700 C.3        1 UNL1 0.0\\n    11 N      -3.807800     0.595700    -0.011200 N.2        1 UNL1 0.0\\n    12 C      -2.551200    -0.168800    -0.305000 C.3        1 UNL1 0.0\\n    13 BR     -2.178900    -0.023300    -2.259900 Br         1 UNL1 0.0\\n    14 BR     -2.695000    -2.048000     0.137000 Br         1 UNL1 0.0\\n    15 C      -2.508100     3.485000     1.635700 C.3        1 UNL1 0.0\\n    16 C      -2.490300     3.586000    -0.872300 C.3        1 UNL1 0.0\\n    17 C      -7.280900     1.556300     0.897700 C.3        1 UNL1 0.0\\n    18 C      -8.166200     0.384000     1.323300 C.3        1 UNL1 0.0\\n    19 C      -7.593600     2.775300     1.775700 C.3        1 UNL1 0.0\\n    20 C       2.265400     1.377100     0.457100 C.3        1 UNL1 0.0\\n    21 C       3.140400     0.146300     0.231000 C.3        1 UNL1 0.0\\n    22 C       2.496700     1.979000     1.843000 C.3        1 UNL1 0.0\\n    23 H       0.142600    -0.990100     0.074000 H          1 UNL1 0.0\\n    24 H       0.790900     1.047500    -1.035600 H          1 UNL1 0.0\\n    25 H      -5.568400     0.932600     2.035300 H          1 UNL1 0.0\\n    26 H      -5.247500    -0.871100     0.605700 H          1 UNL1 0.0\\n    27 H      -2.567800     2.839100     2.520600 H          1 UNL1 0.0\\n    28 H      -3.356800     4.176800     1.677300 H          1 UNL1 0.0\\n    29 H      -1.591400     4.079700     1.724600 H          1 UNL1 0.0\\n    30 H      -3.392800     4.206700    -0.915500 H          1 UNL1 0.0\\n    31 H      -1.626400     4.257500    -0.836900 H          1 UNL1 0.0\\n    32 H      -2.436900     3.029500    -1.813900 H          1 UNL1 0.0\\n    33 H      -7.531500     1.851200    -0.128400 H          1 UNL1 0.0\\n    34 H      -9.224900     0.653100     1.255100 H          1 UNL1 0.0\\n    35 H      -7.962600     0.091200     2.359000 H          1 UNL1 0.0\\n    36 H      -8.009300    -0.496000     0.692500 H          1 UNL1 0.0\\n    37 H      -8.658700     3.026000     1.725200 H          1 UNL1 0.0\\n    38 H      -7.338100     2.586300     2.823800 H          1 UNL1 0.0\\n    39 H      -7.036800     3.656200     1.442500 H          1 UNL1 0.0\\n    40 H       2.619800     2.151800    -0.238600 H          1 UNL1 0.0\\n    41 H       2.883800    -0.670200     0.911400 H          1 UNL1 0.0\\n    42 H       3.034600    -0.223400    -0.794700 H          1 UNL1 0.0\\n    43 H       4.196500     0.389300     0.387100 H          1 UNL1 0.0\\n    44 H       3.529600     2.336400     1.925400 H          1 UNL1 0.0\\n    45 H       2.352700     1.256300     2.647500 H          1 UNL1 0.0\\n    46 H       1.843300     2.837900     2.021200 H          1 UNL1 0.0\\n    47 C      -5.869600     0.027800    -1.328400 C.3        1 UNL1 0.0\\n    48 C      -5.576000    -1.225500    -2.115700 C.ar       1 UNL1 0.0\\n    49 C      -5.187100    -1.132900    -3.459900 C.ar       1 UNL1 0.0\\n    50 C      -4.917700    -2.283300    -4.203800 C.ar       1 UNL1 0.0\\n    51 C      -5.065300    -3.539900    -3.625600 C.ar       1 UNL1 0.0\\n    52 C      -5.511000    -3.648900    -2.312200 C.ar       1 UNL1 0.0\\n    53 C      -5.781900    -2.500100    -1.565500 C.ar       1 UNL1 0.0\\n    54 H      -6.961600     0.059500    -1.254700 H          1 UNL1 0.0\\n    55 H      -5.578600     0.911800    -1.911700 H          1 UNL1 0.0\\n    56 H      -5.102400    -0.169900    -3.962400 H          1 UNL1 0.0\\n    57 H      -4.617900    -2.203300    -5.247500 H          1 UNL1 0.0\\n    58 H      -4.873800    -4.436000    -4.213900 H          1 UNL1 0.0\\n    59 H      -5.676200    -4.635900    -1.881800 H          1 UNL1 0.0\\n    60 H      -6.184200    -2.636500    -0.563900 H          1 UNL1 0.0\\n    61 C       0.156000    -0.218500     2.159000 C.3        1 UNL1 0.0\\n    62 C      -0.847300    -1.098500     2.856100 C.ar       1 UNL1 0.0\\n    63 C      -1.923700    -0.537300     3.562800 C.ar       1 UNL1 0.0\\n    64 C      -2.847400    -1.359500     4.210300 C.ar       1 UNL1 0.0\\n    65 C      -2.697100    -2.744100     4.168900 C.ar       1 UNL1 0.0\\n    66 C      -1.613600    -3.308300     3.498300 C.ar       1 UNL1 0.0\\n    67 C      -0.687400    -2.491100     2.848200 C.ar       1 UNL1 0.0\\n    68 H       1.151300    -0.623800     2.373800 H          1 UNL1 0.0\\n    69 H       0.125100     0.762700     2.651200 H          1 UNL1 0.0\\n    70 H      -2.020600     0.540000     3.685400 H          1 UNL1 0.0\\n    71 H      -3.656000    -0.929800     4.800600 H          1 UNL1 0.0\\n    72 H      -3.397300    -3.388100     4.701100 H          1 UNL1 0.0\\n    73 H      -1.477600    -4.389400     3.506000 H          1 UNL1 0.0\\n    74 H       0.165900    -2.961700     2.360700 H          1 UNL1 0.0\\n@<TRIPOS>BOND\\n     1      1      2          1\\n     2      2      3          1\\n     3      3      4          1\\n     4      4      5          2\\n     5      5      1          1\\n     6      4      6          1\\n     7      6      7          1\\n     8      7      8          1\\n     9      8      9          1\\n    10      9     10          1\\n    11     10     11          1\\n    12     11      7          2\\n    13     11     12          1\\n    14     12      5          1\\n    15     12     13          1\\n    16     12     14          1\\n    17      6     15          1\\n    18      6     16          1\\n    19     17     18          1\\n    20     17     19          1\\n    21      9     17          1\\n    22     20     21          1\\n    23     20     22          1\\n    24      2     20          1\\n    25      1     23          1\\n    26      2     24          1\\n    27      9     25          1\\n    28     10     26          1\\n    29     15     27          1\\n    30     15     28          1\\n    31     15     29          1\\n    32     16     30          1\\n    33     16     31          1\\n    34     16     32          1\\n    35     17     33          1\\n    36     18     34          1\\n    37     18     35          1\\n    38     18     36          1\\n    39     19     37          1\\n    40     19     38          1\\n    41     19     39          1\\n    42     20     40          1\\n    43     21     41          1\\n    44     21     42          1\\n    45     21     43          1\\n    46     22     44          1\\n    47     22     45          1\\n    48     22     46          1\\n    49     47     48          1\\n    50     48     49         ar\\n    51     49     50         ar\\n    52     50     51         ar\\n    53     51     52         ar\\n    54     52     53         ar\\n    55     53     48         ar\\n    56     47     54          1\\n    57     47     55          1\\n    58     49     56          1\\n    59     50     57          1\\n    60     51     58          1\\n    61     52     59          1\\n    62     53     60          1\\n    63     10     47          1\\n    64     61     62          1\\n    65     62     63         ar\\n    66     63     64         ar\\n    67     64     65         ar\\n    68     65     66         ar\\n    69     66     67         ar\\n    70     67     62         ar\\n    71     61     68          1\\n    72     61     69          1\\n    73     63     70          1\\n    74     64     71          1\\n    75     65     72          1\\n    76     66     73          1\\n    77     67     74          1\\n    78      1     61          1\\n\",\"mol2\");\n\tviewer_1686789309952287.setStyle({\"stick\": {\"radius\": 0.1}, \"sphere\": {\"scale\": 0.15}});\n\tviewer_1686789309952287.setHoverable({},true,\"\\n            function(atom,viewer,event,container) {\\n                if(!atom.label) {\\n                    atom.label = viewer.addLabel(atom.elem + atom.serial, {position: atom, backgroundColor: 'mintcream', fontColor:'black'});\\n                }\\n            }\\n            \",\"\\n            function(atom,viewer) { \\n                if(atom.label) {\\n                    viewer.removeLabel(atom.label);\\n                    delete atom.label;\\n                }\\n            }\\n            \");\n\tviewer_1686789309952287.zoomTo();\n\tviewer_1686789309952287.setBackgroundColor(null);\nviewer_1686789309952287.render();\n});\n</script>",
      "text/html": [
       "<div id=\"3dmolviewer_1686789309952287\"  style=\"position: relative; width: 1000px; height: 500px\">\n",
       "        <p id=\"3dmolwarning_1686789309952287\" style=\"background-color:#ffcccc;color:black\">You appear to be running in JupyterLab (or JavaScript failed to load for some other reason).  You need to install the 3dmol extension: <br>\n",
       "        <tt>jupyter labextension install jupyterlab_3dmol</tt></p>\n",
       "        </div>\n",
       "<script>\n",
       "\n",
       "var loadScriptAsync = function(uri){\n",
       "  return new Promise((resolve, reject) => {\n",
       "    //this is to ignore the existence of requirejs amd\n",
       "    var savedexports, savedmodule;\n",
       "    if (typeof exports !== 'undefined') savedexports = exports;\n",
       "    else exports = {}\n",
       "    if (typeof module !== 'undefined') savedmodule = module;\n",
       "    else module = {}\n",
       "\n",
       "    var tag = document.createElement('script');\n",
       "    tag.src = uri;\n",
       "    tag.async = true;\n",
       "    tag.onload = () => {\n",
       "        exports = savedexports;\n",
       "        module = savedmodule;\n",
       "        resolve();\n",
       "    };\n",
       "  var firstScriptTag = document.getElementsByTagName('script')[0];\n",
       "  firstScriptTag.parentNode.insertBefore(tag, firstScriptTag);\n",
       "});\n",
       "};\n",
       "\n",
       "if(typeof $3Dmolpromise === 'undefined') {\n",
       "$3Dmolpromise = null;\n",
       "  $3Dmolpromise = loadScriptAsync('https://cdnjs.cloudflare.com/ajax/libs/3Dmol/2.0.1/3Dmol-min.js');\n",
       "}\n",
       "\n",
       "var viewer_1686789309952287 = null;\n",
       "var warn = document.getElementById(\"3dmolwarning_1686789309952287\");\n",
       "if(warn) {\n",
       "    warn.parentNode.removeChild(warn);\n",
       "}\n",
       "$3Dmolpromise.then(function() {\n",
       "viewer_1686789309952287 = $3Dmol.createViewer(document.getElementById(\"3dmolviewer_1686789309952287\"),{backgroundColor:\"white\"});\n",
       "viewer_1686789309952287.zoomTo();\n",
       "\tviewer_1686789309952287.addModel(\"# Produced with molli package\\n@<TRIPOS>MOLECULE\\n3_6_6\\n74 78 0 0 0\\nSMALL\\nUSER_CHARGES\\n\\n@<TRIPOS>ATOM\\n     1 C      -0.015100    -0.061300     0.629200 C.3        1 UNL1 0.0\\n     2 C       0.800400     1.118400     0.064500 C.3        1 UNL1 0.0\\n     3 O      -0.054600     2.242800     0.396700 O.2        1 UNL1 0.0\\n     4 C      -1.307400     1.785000     0.358500 C.2        1 UNL1 0.0\\n     5 N      -1.369700     0.509500     0.334900 N.2        1 UNL1 0.0\\n     6 C      -2.519500     2.653900     0.341400 C.3        1 UNL1 0.0\\n     7 C      -3.770300     1.831600     0.313200 C.2        1 UNL1 0.0\\n     8 O      -4.957900     2.317300     0.668500 O.2        1 UNL1 0.0\\n     9 C      -5.792700     1.186700     0.988100 C.3        1 UNL1 0.0\\n    10 C      -5.222500     0.081000     0.071700 C.3        1 UNL1 0.0\\n    11 N      -3.807800     0.595700    -0.011200 N.2        1 UNL1 0.0\\n    12 C      -2.551200    -0.168800    -0.305000 C.3        1 UNL1 0.0\\n    13 BR     -2.178900    -0.023300    -2.259900 Br         1 UNL1 0.0\\n    14 BR     -2.695000    -2.048000     0.137000 Br         1 UNL1 0.0\\n    15 C      -2.508100     3.485000     1.635700 C.3        1 UNL1 0.0\\n    16 C      -2.490300     3.586000    -0.872300 C.3        1 UNL1 0.0\\n    17 C      -7.280900     1.556300     0.897700 C.3        1 UNL1 0.0\\n    18 C      -8.166200     0.384000     1.323300 C.3        1 UNL1 0.0\\n    19 C      -7.593600     2.775300     1.775700 C.3        1 UNL1 0.0\\n    20 C       2.265400     1.377100     0.457100 C.3        1 UNL1 0.0\\n    21 C       3.140400     0.146300     0.231000 C.3        1 UNL1 0.0\\n    22 C       2.496700     1.979000     1.843000 C.3        1 UNL1 0.0\\n    23 H       0.142600    -0.990100     0.074000 H          1 UNL1 0.0\\n    24 H       0.790900     1.047500    -1.035600 H          1 UNL1 0.0\\n    25 H      -5.568400     0.932600     2.035300 H          1 UNL1 0.0\\n    26 H      -5.247500    -0.871100     0.605700 H          1 UNL1 0.0\\n    27 H      -2.567800     2.839100     2.520600 H          1 UNL1 0.0\\n    28 H      -3.356800     4.176800     1.677300 H          1 UNL1 0.0\\n    29 H      -1.591400     4.079700     1.724600 H          1 UNL1 0.0\\n    30 H      -3.392800     4.206700    -0.915500 H          1 UNL1 0.0\\n    31 H      -1.626400     4.257500    -0.836900 H          1 UNL1 0.0\\n    32 H      -2.436900     3.029500    -1.813900 H          1 UNL1 0.0\\n    33 H      -7.531500     1.851200    -0.128400 H          1 UNL1 0.0\\n    34 H      -9.224900     0.653100     1.255100 H          1 UNL1 0.0\\n    35 H      -7.962600     0.091200     2.359000 H          1 UNL1 0.0\\n    36 H      -8.009300    -0.496000     0.692500 H          1 UNL1 0.0\\n    37 H      -8.658700     3.026000     1.725200 H          1 UNL1 0.0\\n    38 H      -7.338100     2.586300     2.823800 H          1 UNL1 0.0\\n    39 H      -7.036800     3.656200     1.442500 H          1 UNL1 0.0\\n    40 H       2.619800     2.151800    -0.238600 H          1 UNL1 0.0\\n    41 H       2.883800    -0.670200     0.911400 H          1 UNL1 0.0\\n    42 H       3.034600    -0.223400    -0.794700 H          1 UNL1 0.0\\n    43 H       4.196500     0.389300     0.387100 H          1 UNL1 0.0\\n    44 H       3.529600     2.336400     1.925400 H          1 UNL1 0.0\\n    45 H       2.352700     1.256300     2.647500 H          1 UNL1 0.0\\n    46 H       1.843300     2.837900     2.021200 H          1 UNL1 0.0\\n    47 C      -5.869600     0.027800    -1.328400 C.3        1 UNL1 0.0\\n    48 C      -5.576000    -1.225500    -2.115700 C.ar       1 UNL1 0.0\\n    49 C      -5.187100    -1.132900    -3.459900 C.ar       1 UNL1 0.0\\n    50 C      -4.917700    -2.283300    -4.203800 C.ar       1 UNL1 0.0\\n    51 C      -5.065300    -3.539900    -3.625600 C.ar       1 UNL1 0.0\\n    52 C      -5.511000    -3.648900    -2.312200 C.ar       1 UNL1 0.0\\n    53 C      -5.781900    -2.500100    -1.565500 C.ar       1 UNL1 0.0\\n    54 H      -6.961600     0.059500    -1.254700 H          1 UNL1 0.0\\n    55 H      -5.578600     0.911800    -1.911700 H          1 UNL1 0.0\\n    56 H      -5.102400    -0.169900    -3.962400 H          1 UNL1 0.0\\n    57 H      -4.617900    -2.203300    -5.247500 H          1 UNL1 0.0\\n    58 H      -4.873800    -4.436000    -4.213900 H          1 UNL1 0.0\\n    59 H      -5.676200    -4.635900    -1.881800 H          1 UNL1 0.0\\n    60 H      -6.184200    -2.636500    -0.563900 H          1 UNL1 0.0\\n    61 C       0.156000    -0.218500     2.159000 C.3        1 UNL1 0.0\\n    62 C      -0.847300    -1.098500     2.856100 C.ar       1 UNL1 0.0\\n    63 C      -1.923700    -0.537300     3.562800 C.ar       1 UNL1 0.0\\n    64 C      -2.847400    -1.359500     4.210300 C.ar       1 UNL1 0.0\\n    65 C      -2.697100    -2.744100     4.168900 C.ar       1 UNL1 0.0\\n    66 C      -1.613600    -3.308300     3.498300 C.ar       1 UNL1 0.0\\n    67 C      -0.687400    -2.491100     2.848200 C.ar       1 UNL1 0.0\\n    68 H       1.151300    -0.623800     2.373800 H          1 UNL1 0.0\\n    69 H       0.125100     0.762700     2.651200 H          1 UNL1 0.0\\n    70 H      -2.020600     0.540000     3.685400 H          1 UNL1 0.0\\n    71 H      -3.656000    -0.929800     4.800600 H          1 UNL1 0.0\\n    72 H      -3.397300    -3.388100     4.701100 H          1 UNL1 0.0\\n    73 H      -1.477600    -4.389400     3.506000 H          1 UNL1 0.0\\n    74 H       0.165900    -2.961700     2.360700 H          1 UNL1 0.0\\n@<TRIPOS>BOND\\n     1      1      2          1\\n     2      2      3          1\\n     3      3      4          1\\n     4      4      5          2\\n     5      5      1          1\\n     6      4      6          1\\n     7      6      7          1\\n     8      7      8          1\\n     9      8      9          1\\n    10      9     10          1\\n    11     10     11          1\\n    12     11      7          2\\n    13     11     12          1\\n    14     12      5          1\\n    15     12     13          1\\n    16     12     14          1\\n    17      6     15          1\\n    18      6     16          1\\n    19     17     18          1\\n    20     17     19          1\\n    21      9     17          1\\n    22     20     21          1\\n    23     20     22          1\\n    24      2     20          1\\n    25      1     23          1\\n    26      2     24          1\\n    27      9     25          1\\n    28     10     26          1\\n    29     15     27          1\\n    30     15     28          1\\n    31     15     29          1\\n    32     16     30          1\\n    33     16     31          1\\n    34     16     32          1\\n    35     17     33          1\\n    36     18     34          1\\n    37     18     35          1\\n    38     18     36          1\\n    39     19     37          1\\n    40     19     38          1\\n    41     19     39          1\\n    42     20     40          1\\n    43     21     41          1\\n    44     21     42          1\\n    45     21     43          1\\n    46     22     44          1\\n    47     22     45          1\\n    48     22     46          1\\n    49     47     48          1\\n    50     48     49         ar\\n    51     49     50         ar\\n    52     50     51         ar\\n    53     51     52         ar\\n    54     52     53         ar\\n    55     53     48         ar\\n    56     47     54          1\\n    57     47     55          1\\n    58     49     56          1\\n    59     50     57          1\\n    60     51     58          1\\n    61     52     59          1\\n    62     53     60          1\\n    63     10     47          1\\n    64     61     62          1\\n    65     62     63         ar\\n    66     63     64         ar\\n    67     64     65         ar\\n    68     65     66         ar\\n    69     66     67         ar\\n    70     67     62         ar\\n    71     61     68          1\\n    72     61     69          1\\n    73     63     70          1\\n    74     64     71          1\\n    75     65     72          1\\n    76     66     73          1\\n    77     67     74          1\\n    78      1     61          1\\n\",\"mol2\");\n",
       "\tviewer_1686789309952287.setStyle({\"stick\": {\"radius\": 0.1}, \"sphere\": {\"scale\": 0.15}});\n",
       "\tviewer_1686789309952287.setHoverable({},true,\"\\n            function(atom,viewer,event,container) {\\n                if(!atom.label) {\\n                    atom.label = viewer.addLabel(atom.elem + atom.serial, {position: atom, backgroundColor: 'mintcream', fontColor:'black'});\\n                }\\n            }\\n            \",\"\\n            function(atom,viewer) { \\n                if(atom.label) {\\n                    viewer.removeLabel(atom.label);\\n                    delete atom.label;\\n                }\\n            }\\n            \");\n",
       "\tviewer_1686789309952287.zoomTo();\n",
       "\tviewer_1686789309952287.setBackgroundColor(null);\n",
       "viewer_1686789309952287.render();\n",
       "});\n",
       "</script>"
      ]
     },
     "metadata": {},
     "output_type": "display_data"
    },
    {
     "data": {
      "text/plain": [
       "Conformer(name='3_6_6', formula='C30 H38 Br2 N2 O2')"
      ]
     },
     "execution_count": 16,
     "metadata": {},
     "output_type": "execute_result"
    }
   ],
   "source": [
    "clib[42][24]"
   ]
  },
  {
   "attachments": {},
   "cell_type": "markdown",
   "metadata": {},
   "source": [
    "3.5. Create grid"
   ]
  },
  {
   "cell_type": "code",
   "execution_count": 17,
   "metadata": {},
   "outputs": [
    {
     "name": "stdout",
     "output_type": "stream",
     "text": [
      "(7106, 3)\n"
     ]
    },
    {
     "name": "stderr",
     "output_type": "stream",
     "text": [
      "100%|██████████| 75/75 [00:00<00:00, 1637.67it/s]\n"
     ]
    },
    {
     "data": {
      "text/plain": [
       "CompletedProcess(args=['molli', 'grid', '--mlib', 'ncsa-testing-data/test_conformers_new_env.mlib', '-o', 'ncsa-testing-data/grid_new_env.npy'], returncode=0)"
      ]
     },
     "execution_count": 17,
     "metadata": {},
     "output_type": "execute_result"
    }
   ],
   "source": [
    "subprocess.run(['molli', \n",
    "                'grid', \n",
    "                '--mlib', \n",
    "                'ncsa-testing-data/test_conformers_new_env.mlib', \n",
    "                '-o', \n",
    "                'ncsa-testing-data/grid_new_env.npy'\n",
    "                ])"
   ]
  },
  {
   "attachments": {},
   "cell_type": "markdown",
   "metadata": {},
   "source": [
    "4. ASO description of molecules"
   ]
  },
  {
   "cell_type": "code",
   "execution_count": 18,
   "metadata": {},
   "outputs": [
    {
     "name": "stdout",
     "output_type": "stream",
     "text": [
      "Allocating storage for descriptors\n",
      "Will compute descriptor ASO using 128 cores.\n",
      "Grid shape: (7106, 3)\n"
     ]
    },
    {
     "name": "stderr",
     "output_type": "stream",
     "text": [
      "Loading batches of conformers: 0it [00:00, ?it/s]\n",
      "Submitting calculations:   0%|          | 0/75 [00:00<?, ?it/s]\u001b[A\n",
      "Submitting calculations:  11%|█         | 8/75 [00:00<00:06, 10.37it/s]\u001b[A\n",
      "Submitting calculations:  13%|█▎        | 10/75 [00:01<00:07,  8.30it/s]\u001b[A\n",
      "Submitting calculations:  60%|██████    | 45/75 [00:06<00:04,  6.94it/s]\u001b[A\n",
      "Submitting calculations:  61%|██████▏   | 46/75 [00:07<00:05,  5.72it/s]\u001b[A\n",
      "Submitting calculations:  63%|██████▎   | 47/75 [00:08<00:05,  5.01it/s]\u001b[A\n",
      "Submitting calculations:  64%|██████▍   | 48/75 [00:08<00:05,  5.02it/s]\u001b[A\n",
      "Submitting calculations:  79%|███████▊  | 59/75 [00:08<00:01,  8.64it/s]\u001b[A\n",
      "Submitting calculations:  83%|████████▎ | 62/75 [00:10<00:02,  5.27it/s]\u001b[A\n",
      "Submitting calculations:  84%|████████▍ | 63/75 [00:10<00:02,  4.56it/s]\u001b[A\n",
      "Submitting calculations:  85%|████████▌ | 64/75 [00:11<00:02,  4.16it/s]\u001b[A\n",
      "Submitting calculations:  87%|████████▋ | 65/75 [00:11<00:02,  3.94it/s]\u001b[A\n",
      "                                                                        \u001b[A\n",
      "\n",
      "Gathering calculation results:   0%|          | 0/75 [00:00<?, ?it/s]\u001b[A\u001b[A\n",
      "\n",
      "Loading batches of conformers: 0it [00:13, ?it/s]                    \u001b[A\u001b[A\n",
      "/home/shvedalx/dev/molli/molli/lib_gen/test_aso/alt_aso.py:51: UserWarning: Invalid filepath: Unable to create dataset (name already exists)\n",
      "  warnings.warn(f'Invalid filepath: {exp!s}')\n"
     ]
    },
    {
     "data": {
      "text/plain": [
       "CompletedProcess(args=['molli', 'gbca', 'aso', 'ncsa-testing-data/test_conformers_new_env.mlib', '-g', 'ncsa-testing-data/grid_new_env.npy', '-o', 'ncsa-testing-data/aso_new_env.h5'], returncode=0)"
      ]
     },
     "execution_count": 18,
     "metadata": {},
     "output_type": "execute_result"
    }
   ],
   "source": [
    "subprocess.run(['molli', \n",
    "                'gbca', \n",
    "                'aso', \n",
    "                'ncsa-testing-data/test_conformers_new_env.mlib', \n",
    "                '-g', \n",
    "                'ncsa-testing-data/grid_new_env.npy', \n",
    "                '-o', \n",
    "                'ncsa-testing-data/aso_new_env.h5'\n",
    "                ])\n",
    "# tqdm looks messed up"
   ]
  },
  {
   "cell_type": "code",
   "execution_count": null,
   "metadata": {},
   "outputs": [],
   "source": [
    "# subprocess.run(['molli', 'grid', '--mlib', '../../out_conformers1/test_conformers.mlib', '-o', 'molli/lib_gen/test_aso'])\n"
   ]
  },
  {
   "cell_type": "code",
   "execution_count": null,
   "metadata": {},
   "outputs": [],
   "source": [
    "#subprocess.run(['molli', 'descriptors', '../../out_conformers1/test4_conformers.mlib', '-o', '../../test_aso_data/test_aso.h5'])"
   ]
  },
  {
   "attachments": {},
   "cell_type": "markdown",
   "metadata": {},
   "source": [
    "5. post-processing/dimension-reduction/analysis"
   ]
  },
  {
   "cell_type": "code",
   "execution_count": 20,
   "metadata": {},
   "outputs": [
    {
     "name": "stderr",
     "output_type": "stream",
     "text": [
      "Traceback (most recent call last):\n",
      "  File \"/home/shvedalx/dev/molli/molli/__main__.py\", line 112, in main\n",
      "    requested_module = import_module(f\"molli.scripts.{cmd}\")\n",
      "                       ^^^^^^^^^^^^^^^^^^^^^^^^^^^^^^^^^^^^^\n",
      "  File \"/home/shvedalx/mambaforge/envs/molli-dev/lib/python3.11/importlib/__init__.py\", line 126, in import_module\n",
      "    return _bootstrap._gcd_import(name[level:], package, level)\n",
      "           ^^^^^^^^^^^^^^^^^^^^^^^^^^^^^^^^^^^^^^^^^^^^^^^^^^^^\n",
      "  File \"<frozen importlib._bootstrap>\", line 1204, in _gcd_import\n",
      "  File \"<frozen importlib._bootstrap>\", line 1176, in _find_and_load\n",
      "  File \"<frozen importlib._bootstrap>\", line 1147, in _find_and_load_unlocked\n",
      "  File \"<frozen importlib._bootstrap>\", line 690, in _load_unlocked\n",
      "  File \"<frozen importlib._bootstrap_external>\", line 940, in exec_module\n",
      "  File \"<frozen importlib._bootstrap>\", line 241, in _call_with_frames_removed\n",
      "  File \"/home/shvedalx/dev/molli/molli/scripts/cluster.py\", line 10, in <module>\n",
      "    import molli.lib_gen.test_aso.data_processing as dp    # check this out later\n",
      "    ^^^^^^^^^^^^^^^^^^^^^^^^^^^^^^^^^^^^^^^^^^^^^^^^^^^\n",
      "  File \"/home/shvedalx/dev/molli/molli/lib_gen/test_aso/data_processing.py\", line 3, in <module>\n",
      "    from . import helpers\n",
      "  File \"/home/shvedalx/dev/molli/molli/lib_gen/test_aso/helpers.py\", line 10, in <module>\n",
      "    import seaborn as sns\n",
      "ModuleNotFoundError: No module named 'seaborn'\n",
      "\n",
      "During handling of the above exception, another exception occurred:\n",
      "\n",
      "Traceback (most recent call last):\n",
      "  File \"/home/shvedalx/mambaforge/envs/molli-dev/bin/molli\", line 8, in <module>\n",
      "    sys.exit(main())\n",
      "             ^^^^^^\n",
      "  File \"/home/shvedalx/dev/molli/molli/__main__.py\", line 114, in main\n",
      "    raise NotImplementedError(\n",
      "NotImplementedError: Requested module <cluster> does not seem to be implemented. Check with the developers!\n"
     ]
    },
    {
     "data": {
      "text/plain": [
       "CompletedProcess(args=['molli', 'cluster', 'ncsa-testing-data/aso_new_env.h5', '-o', 'ncsa-testing-data/new_env_data3', '-v', '0', '-c', '0.8'], returncode=1)"
      ]
     },
     "execution_count": 20,
     "metadata": {},
     "output_type": "execute_result"
    }
   ],
   "source": [
    "subprocess.run(         # check functionality for plotting and pca\n",
    "     [                   # should be better way to implement post_processing stuff\n",
    "         'molli', \n",
    "         'cluster', \n",
    "         'ncsa-testing-data/aso_new_env.h5', \n",
    "         '-o', \n",
    "         'ncsa-testing-data/new_env_data3', \n",
    "         '-v',\n",
    "         '0',\n",
    "         '-c',\n",
    "         '0.8',\n",
    "     ]\n",
    " )"
   ]
  },
  {
   "cell_type": "code",
   "execution_count": null,
   "metadata": {},
   "outputs": [],
   "source": []
  }
 ],
 "metadata": {
  "kernelspec": {
   "display_name": "NCSA-workflow-dev",
   "language": "python",
   "name": "python3"
  },
  "language_info": {
   "codemirror_mode": {
    "name": "ipython",
    "version": 3
   },
   "file_extension": ".py",
   "mimetype": "text/x-python",
   "name": "python",
   "nbconvert_exporter": "python",
   "pygments_lexer": "ipython3",
   "version": "3.11.4"
  },
  "orig_nbformat": 4
 },
 "nbformat": 4,
 "nbformat_minor": 2
}
