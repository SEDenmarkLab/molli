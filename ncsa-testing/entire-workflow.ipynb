{
 "cells": [
  {
   "attachments": {},
   "cell_type": "markdown",
   "metadata": {},
   "source": [
    "To-Do: entire workflow\n",
    "chemdraw parse -> combinatorial expansion -> conformer generation -> aso description -> post-processing/dimension-reduction/analysis -> plot/output data"
   ]
  },
  {
   "cell_type": "code",
   "execution_count": 17,
   "metadata": {},
   "outputs": [],
   "source": [
    "import molli as ml\n",
    "import molli.visual\n",
    "import subprocess\n",
    "import os\n",
    "\n",
    "# This is a failsafe in case openbabel aint installed\n",
    "import openbabel"
   ]
  },
  {
   "cell_type": "code",
   "execution_count": 18,
   "metadata": {},
   "outputs": [],
   "source": [
    "# these are the chemdraw files that the user passes in\n",
    "cores = ml.files.box_cores_test_1\n",
    "subs = ml.files.box_substituents_test_1"
   ]
  },
  {
   "attachments": {},
   "cell_type": "markdown",
   "metadata": {},
   "source": [
    "# Make output directory - this is where everything relevant gets saved"
   ]
  },
  {
   "cell_type": "code",
   "execution_count": 19,
   "metadata": {},
   "outputs": [],
   "source": [
    "# create output directory if it doesn't exist\n",
    "out_dir = './ncsa-testing-output/'\n",
    "if not os.path.exists(out_dir):\n",
    "    os.makedirs(out_dir)"
   ]
  },
  {
   "attachments": {},
   "cell_type": "markdown",
   "metadata": {},
   "source": [
    "# 1. ChemDraw Parsing"
   ]
  },
  {
   "cell_type": "code",
   "execution_count": 20,
   "metadata": {},
   "outputs": [
    {
     "name": "stderr",
     "output_type": "stream",
     "text": [
      "100%|██████████| 5/5 [00:00<00:00, 86.43it/s]\n",
      "100%|██████████| 15/15 [00:00<00:00, 320.11it/s]\n"
     ]
    },
    {
     "data": {
      "text/plain": [
       "CompletedProcess(args=['molli', 'parse', '--hadd', '/home/colen2/NCSA-workflow-new/molli/molli/files/BOX_substituents_test_1.cdxml', '-o', './ncsa-testing-output/BOX_subs_new_env.mlib', '--overwrite'], returncode=0)"
      ]
     },
     "execution_count": 20,
     "metadata": {},
     "output_type": "execute_result"
    }
   ],
   "source": [
    "# parse the files\n",
    "subprocess.run(['molli', 'parse', '--hadd', f'{cores}', '-o', f'{out_dir}BOX_cores_new_env.mlib', \"--overwrite\"])\n",
    "subprocess.run(['molli', 'parse', '--hadd', f'{subs}', '-o', f'{out_dir}BOX_subs_new_env.mlib', \"--overwrite\"])"
   ]
  },
  {
   "cell_type": "code",
   "execution_count": 21,
   "metadata": {},
   "outputs": [
    {
     "name": "stdout",
     "output_type": "stream",
     "text": [
      "5\n"
     ]
    },
    {
     "data": {
      "application/3dmoljs_load.v0": "<div id=\"3dmolviewer_16868451042563257\"  style=\"position: relative; width: 1000px; height: 500px;\">\n        <p id=\"3dmolwarning_16868451042563257\" style=\"background-color:#ffcccc;color:black\">You appear to be running in JupyterLab (or JavaScript failed to load for some other reason).  You need to install the 3dmol extension: <br>\n        <tt>jupyter labextension install jupyterlab_3dmol</tt></p>\n        </div>\n<script>\n\nvar loadScriptAsync = function(uri){\n  return new Promise((resolve, reject) => {\n    //this is to ignore the existence of requirejs amd\n    var savedexports, savedmodule;\n    if (typeof exports !== 'undefined') savedexports = exports;\n    else exports = {}\n    if (typeof module !== 'undefined') savedmodule = module;\n    else module = {}\n\n    var tag = document.createElement('script');\n    tag.src = uri;\n    tag.async = true;\n    tag.onload = () => {\n        exports = savedexports;\n        module = savedmodule;\n        resolve();\n    };\n  var firstScriptTag = document.getElementsByTagName('script')[0];\n  firstScriptTag.parentNode.insertBefore(tag, firstScriptTag);\n});\n};\n\nif(typeof $3Dmolpromise === 'undefined') {\n$3Dmolpromise = null;\n  $3Dmolpromise = loadScriptAsync('https://cdnjs.cloudflare.com/ajax/libs/3Dmol/2.0.3/3Dmol-min.js');\n}\n\nvar viewer_16868451042563257 = null;\nvar warn = document.getElementById(\"3dmolwarning_16868451042563257\");\nif(warn) {\n    warn.parentNode.removeChild(warn);\n}\n$3Dmolpromise.then(function() {\nviewer_16868451042563257 = $3Dmol.createViewer(document.getElementById(\"3dmolviewer_16868451042563257\"),{backgroundColor:\"white\"});\nviewer_16868451042563257.zoomTo();\n\tviewer_16868451042563257.addModel(\"# Produced with molli package\\n@<TRIPOS>MOLECULE\\n1\\n30 32 0 0 0\\nSMALL\\nUSER_CHARGES\\n\\n@<TRIPOS>ATOM\\n     1 C       2.653877    -0.900810     0.000000 C          1 UNL1 0.0\\n     2 C       3.535127     0.312731     0.000000 C          1 UNL1 0.0\\n     3 O       2.653877     1.526273     0.000000 O          1 UNL1 0.0\\n     4 C       1.226794     1.062732     0.000000 C          1 UNL1 0.0\\n     5 N       1.226794    -0.437269     0.000000 N          1 UNL1 0.0\\n     6 C      -0.072164     1.812732     0.000000 C          1 UNL1 0.0\\n     7 C      -1.371123     1.062732     0.000000 C          1 UNL1 0.0\\n     8 O      -2.798206     1.526273     0.000000 O          1 UNL1 0.0\\n     9 C      -3.679456     0.312731     0.000000 C          1 UNL1 0.0\\n    10 C      -2.798206    -0.900810     0.000000 C          1 UNL1 0.0\\n    11 N      -1.371123    -0.437269     0.000000 N          1 UNL1 0.0\\n    12 A1     -3.029977    -1.614352    -1.299453 Unknown    1 UNL1 0.0\\n    13 A1      2.885648    -1.614352     1.299453 Unknown    1 UNL1 0.0\\n    14 C      -0.072164    -1.187268     0.000000 C          1 UNL1 0.0\\n    15 Br     -0.072164    -1.187268     1.499931 Br         1 UNL1 0.0\\n    16 Br      0.677836    -2.486227     0.000000 Br         1 UNL1 0.0\\n    17 C      -0.072164     1.812732     1.500000 C          1 UNL1 0.0\\n    18 C       1.226794     2.562732     0.000000 C          1 UNL1 0.0\\n    19 H       2.859825    -1.534673    -0.837080 H          1 UNL1 0.0\\n    20 H       4.148880     0.312731     0.876544 H          1 UNL1 0.0\\n    21 H       4.148880     0.312731    -0.876544 H          1 UNL1 0.0\\n    22 H      -4.293208     0.312731     0.876544 H          1 UNL1 0.0\\n    23 H      -4.293208     0.312731    -0.876544 H          1 UNL1 0.0\\n    24 H      -3.004154    -1.534673     0.837080 H          1 UNL1 0.0\\n    25 H      -0.713775     1.034255     1.856667 H          1 UNL1 0.0\\n    26 H      -0.425539     2.757620     1.856667 H          1 UNL1 0.0\\n    27 H       0.922821     1.646319     1.856667 H          1 UNL1 0.0\\n    28 H       1.787896     2.304234     0.873638 H          1 UNL1 0.0\\n    29 H       1.031246     3.614711     0.000027 H          1 UNL1 0.0\\n    30 H       1.787873     2.304274    -0.873665 H          1 UNL1 0.0\\n@<TRIPOS>BOND\\n     1      1      2          1\\n     2      2      3          1\\n     3      3      4          1\\n     4      4      5          2\\n     5      5      1          1\\n     6      4      6          1\\n     7      6      7          1\\n     8      7      8          1\\n     9      8      9          1\\n    10      9     10          1\\n    11     10     11          1\\n    12     11      7          2\\n    13     10     12          1\\n    14      1     13          1\\n    15     11     14          1\\n    16     14      5          1\\n    17     14     15          1\\n    18     14     16          1\\n    19      6     17          1\\n    20      6     18          1\\n    21      1     19          1\\n    22      2     20          1\\n    23      2     21          1\\n    24      9     22          1\\n    25      9     23          1\\n    26     10     24          1\\n    27     17     25          1\\n    28     17     26          1\\n    29     17     27          1\\n    30     18     28          1\\n    31     18     29          1\\n    32     18     30          1\\n\",\"mol2\");\n\tviewer_16868451042563257.setStyle({\"stick\": {\"radius\": 0.1}, \"sphere\": {\"scale\": 0.15}});\n\tviewer_16868451042563257.setHoverable({},true,\"\\n            function(atom,viewer,event,container) {\\n                if(!atom.label) {\\n                    atom.label = viewer.addLabel(atom.elem + atom.serial, {position: atom, backgroundColor: 'mintcream', fontColor:'black'});\\n                }\\n            }\\n            \",\"\\n            function(atom,viewer) { \\n                if(atom.label) {\\n                    viewer.removeLabel(atom.label);\\n                    delete atom.label;\\n                }\\n            }\\n            \");\n\tviewer_16868451042563257.zoomTo();\n\tviewer_16868451042563257.setBackgroundColor(null);\nviewer_16868451042563257.render();\n});\n</script>",
      "text/html": [
       "<div id=\"3dmolviewer_16868451042563257\"  style=\"position: relative; width: 1000px; height: 500px;\">\n",
       "        <p id=\"3dmolwarning_16868451042563257\" style=\"background-color:#ffcccc;color:black\">You appear to be running in JupyterLab (or JavaScript failed to load for some other reason).  You need to install the 3dmol extension: <br>\n",
       "        <tt>jupyter labextension install jupyterlab_3dmol</tt></p>\n",
       "        </div>\n",
       "<script>\n",
       "\n",
       "var loadScriptAsync = function(uri){\n",
       "  return new Promise((resolve, reject) => {\n",
       "    //this is to ignore the existence of requirejs amd\n",
       "    var savedexports, savedmodule;\n",
       "    if (typeof exports !== 'undefined') savedexports = exports;\n",
       "    else exports = {}\n",
       "    if (typeof module !== 'undefined') savedmodule = module;\n",
       "    else module = {}\n",
       "\n",
       "    var tag = document.createElement('script');\n",
       "    tag.src = uri;\n",
       "    tag.async = true;\n",
       "    tag.onload = () => {\n",
       "        exports = savedexports;\n",
       "        module = savedmodule;\n",
       "        resolve();\n",
       "    };\n",
       "  var firstScriptTag = document.getElementsByTagName('script')[0];\n",
       "  firstScriptTag.parentNode.insertBefore(tag, firstScriptTag);\n",
       "});\n",
       "};\n",
       "\n",
       "if(typeof $3Dmolpromise === 'undefined') {\n",
       "$3Dmolpromise = null;\n",
       "  $3Dmolpromise = loadScriptAsync('https://cdnjs.cloudflare.com/ajax/libs/3Dmol/2.0.3/3Dmol-min.js');\n",
       "}\n",
       "\n",
       "var viewer_16868451042563257 = null;\n",
       "var warn = document.getElementById(\"3dmolwarning_16868451042563257\");\n",
       "if(warn) {\n",
       "    warn.parentNode.removeChild(warn);\n",
       "}\n",
       "$3Dmolpromise.then(function() {\n",
       "viewer_16868451042563257 = $3Dmol.createViewer(document.getElementById(\"3dmolviewer_16868451042563257\"),{backgroundColor:\"white\"});\n",
       "viewer_16868451042563257.zoomTo();\n",
       "\tviewer_16868451042563257.addModel(\"# Produced with molli package\\n@<TRIPOS>MOLECULE\\n1\\n30 32 0 0 0\\nSMALL\\nUSER_CHARGES\\n\\n@<TRIPOS>ATOM\\n     1 C       2.653877    -0.900810     0.000000 C          1 UNL1 0.0\\n     2 C       3.535127     0.312731     0.000000 C          1 UNL1 0.0\\n     3 O       2.653877     1.526273     0.000000 O          1 UNL1 0.0\\n     4 C       1.226794     1.062732     0.000000 C          1 UNL1 0.0\\n     5 N       1.226794    -0.437269     0.000000 N          1 UNL1 0.0\\n     6 C      -0.072164     1.812732     0.000000 C          1 UNL1 0.0\\n     7 C      -1.371123     1.062732     0.000000 C          1 UNL1 0.0\\n     8 O      -2.798206     1.526273     0.000000 O          1 UNL1 0.0\\n     9 C      -3.679456     0.312731     0.000000 C          1 UNL1 0.0\\n    10 C      -2.798206    -0.900810     0.000000 C          1 UNL1 0.0\\n    11 N      -1.371123    -0.437269     0.000000 N          1 UNL1 0.0\\n    12 A1     -3.029977    -1.614352    -1.299453 Unknown    1 UNL1 0.0\\n    13 A1      2.885648    -1.614352     1.299453 Unknown    1 UNL1 0.0\\n    14 C      -0.072164    -1.187268     0.000000 C          1 UNL1 0.0\\n    15 Br     -0.072164    -1.187268     1.499931 Br         1 UNL1 0.0\\n    16 Br      0.677836    -2.486227     0.000000 Br         1 UNL1 0.0\\n    17 C      -0.072164     1.812732     1.500000 C          1 UNL1 0.0\\n    18 C       1.226794     2.562732     0.000000 C          1 UNL1 0.0\\n    19 H       2.859825    -1.534673    -0.837080 H          1 UNL1 0.0\\n    20 H       4.148880     0.312731     0.876544 H          1 UNL1 0.0\\n    21 H       4.148880     0.312731    -0.876544 H          1 UNL1 0.0\\n    22 H      -4.293208     0.312731     0.876544 H          1 UNL1 0.0\\n    23 H      -4.293208     0.312731    -0.876544 H          1 UNL1 0.0\\n    24 H      -3.004154    -1.534673     0.837080 H          1 UNL1 0.0\\n    25 H      -0.713775     1.034255     1.856667 H          1 UNL1 0.0\\n    26 H      -0.425539     2.757620     1.856667 H          1 UNL1 0.0\\n    27 H       0.922821     1.646319     1.856667 H          1 UNL1 0.0\\n    28 H       1.787896     2.304234     0.873638 H          1 UNL1 0.0\\n    29 H       1.031246     3.614711     0.000027 H          1 UNL1 0.0\\n    30 H       1.787873     2.304274    -0.873665 H          1 UNL1 0.0\\n@<TRIPOS>BOND\\n     1      1      2          1\\n     2      2      3          1\\n     3      3      4          1\\n     4      4      5          2\\n     5      5      1          1\\n     6      4      6          1\\n     7      6      7          1\\n     8      7      8          1\\n     9      8      9          1\\n    10      9     10          1\\n    11     10     11          1\\n    12     11      7          2\\n    13     10     12          1\\n    14      1     13          1\\n    15     11     14          1\\n    16     14      5          1\\n    17     14     15          1\\n    18     14     16          1\\n    19      6     17          1\\n    20      6     18          1\\n    21      1     19          1\\n    22      2     20          1\\n    23      2     21          1\\n    24      9     22          1\\n    25      9     23          1\\n    26     10     24          1\\n    27     17     25          1\\n    28     17     26          1\\n    29     17     27          1\\n    30     18     28          1\\n    31     18     29          1\\n    32     18     30          1\\n\",\"mol2\");\n",
       "\tviewer_16868451042563257.setStyle({\"stick\": {\"radius\": 0.1}, \"sphere\": {\"scale\": 0.15}});\n",
       "\tviewer_16868451042563257.setHoverable({},true,\"\\n            function(atom,viewer,event,container) {\\n                if(!atom.label) {\\n                    atom.label = viewer.addLabel(atom.elem + atom.serial, {position: atom, backgroundColor: 'mintcream', fontColor:'black'});\\n                }\\n            }\\n            \",\"\\n            function(atom,viewer) { \\n                if(atom.label) {\\n                    viewer.removeLabel(atom.label);\\n                    delete atom.label;\\n                }\\n            }\\n            \");\n",
       "\tviewer_16868451042563257.zoomTo();\n",
       "\tviewer_16868451042563257.setBackgroundColor(null);\n",
       "viewer_16868451042563257.render();\n",
       "});\n",
       "</script>"
      ]
     },
     "metadata": {},
     "output_type": "display_data"
    },
    {
     "data": {
      "text/plain": [
       "Molecule(name='1', formula='C10 H12 Br2 N2 O2 Unknown2')"
      ]
     },
     "execution_count": 21,
     "metadata": {},
     "output_type": "execute_result"
    }
   ],
   "source": [
    "m_core = ml.MoleculeLibrary(f'{out_dir}BOX_cores_new_env.mlib')\n",
    "print(len(m_core))\n",
    "# you can index fragments directly with the string they are lablled with in the chemdraw\n",
    "m_core['1']"
   ]
  },
  {
   "cell_type": "code",
   "execution_count": 22,
   "metadata": {},
   "outputs": [
    {
     "name": "stdout",
     "output_type": "stream",
     "text": [
      "15\n"
     ]
    },
    {
     "data": {
      "application/3dmoljs_load.v0": "<div id=\"3dmolviewer_16868451058361073\"  style=\"position: relative; width: 1000px; height: 500px;\">\n        <p id=\"3dmolwarning_16868451058361073\" style=\"background-color:#ffcccc;color:black\">You appear to be running in JupyterLab (or JavaScript failed to load for some other reason).  You need to install the 3dmol extension: <br>\n        <tt>jupyter labextension install jupyterlab_3dmol</tt></p>\n        </div>\n<script>\n\nvar loadScriptAsync = function(uri){\n  return new Promise((resolve, reject) => {\n    //this is to ignore the existence of requirejs amd\n    var savedexports, savedmodule;\n    if (typeof exports !== 'undefined') savedexports = exports;\n    else exports = {}\n    if (typeof module !== 'undefined') savedmodule = module;\n    else module = {}\n\n    var tag = document.createElement('script');\n    tag.src = uri;\n    tag.async = true;\n    tag.onload = () => {\n        exports = savedexports;\n        module = savedmodule;\n        resolve();\n    };\n  var firstScriptTag = document.getElementsByTagName('script')[0];\n  firstScriptTag.parentNode.insertBefore(tag, firstScriptTag);\n});\n};\n\nif(typeof $3Dmolpromise === 'undefined') {\n$3Dmolpromise = null;\n  $3Dmolpromise = loadScriptAsync('https://cdnjs.cloudflare.com/ajax/libs/3Dmol/2.0.3/3Dmol-min.js');\n}\n\nvar viewer_16868451058361073 = null;\nvar warn = document.getElementById(\"3dmolwarning_16868451058361073\");\nif(warn) {\n    warn.parentNode.removeChild(warn);\n}\n$3Dmolpromise.then(function() {\nviewer_16868451058361073 = $3Dmol.createViewer(document.getElementById(\"3dmolviewer_16868451058361073\"),{backgroundColor:\"white\"});\nviewer_16868451058361073.zoomTo();\n\tviewer_16868451058361073.addModel(\"# Produced with molli package\\n@<TRIPOS>MOLECULE\\n3\\n11 10 0 0 0\\nSMALL\\nUSER_CHARGES\\n\\n@<TRIPOS>ATOM\\n     1 C       0.000000     0.000000     0.000000 C          1 UNL1 0.0\\n     2 AP1    -1.298958    -0.750000     0.000000 Unknown    1 UNL1 0.0\\n     3 C       1.299018    -0.750035     0.000000 C          1 UNL1 0.0\\n     4 C       0.000000     1.500000     0.000000 C          1 UNL1 0.0\\n     5 H       0.000000     0.000000    -1.070000 H          1 UNL1 0.0\\n     6 H       1.860120    -0.491537     0.873638 H          1 UNL1 0.0\\n     7 H       1.860097    -0.491577    -0.873665 H          1 UNL1 0.0\\n     8 H       1.103470    -1.802014     0.000027 H          1 UNL1 0.0\\n     9 H       1.008806     1.856667     0.000000 H          1 UNL1 0.0\\n    10 H      -0.504403     1.856667     0.873651 H          1 UNL1 0.0\\n    11 H      -0.504403     1.856667    -0.873651 H          1 UNL1 0.0\\n@<TRIPOS>BOND\\n     1      2      1          1\\n     2      1      3          1\\n     3      1      4          1\\n     4      1      5          1\\n     5      3      6          1\\n     6      3      7          1\\n     7      3      8          1\\n     8      4      9          1\\n     9      4     10          1\\n    10      4     11          1\\n\",\"mol2\");\n\tviewer_16868451058361073.setStyle({\"stick\": {\"radius\": 0.1}, \"sphere\": {\"scale\": 0.15}});\n\tviewer_16868451058361073.setHoverable({},true,\"\\n            function(atom,viewer,event,container) {\\n                if(!atom.label) {\\n                    atom.label = viewer.addLabel(atom.elem + atom.serial, {position: atom, backgroundColor: 'mintcream', fontColor:'black'});\\n                }\\n            }\\n            \",\"\\n            function(atom,viewer) { \\n                if(atom.label) {\\n                    viewer.removeLabel(atom.label);\\n                    delete atom.label;\\n                }\\n            }\\n            \");\n\tviewer_16868451058361073.zoomTo();\n\tviewer_16868451058361073.setBackgroundColor(null);\nviewer_16868451058361073.render();\n});\n</script>",
      "text/html": [
       "<div id=\"3dmolviewer_16868451058361073\"  style=\"position: relative; width: 1000px; height: 500px;\">\n",
       "        <p id=\"3dmolwarning_16868451058361073\" style=\"background-color:#ffcccc;color:black\">You appear to be running in JupyterLab (or JavaScript failed to load for some other reason).  You need to install the 3dmol extension: <br>\n",
       "        <tt>jupyter labextension install jupyterlab_3dmol</tt></p>\n",
       "        </div>\n",
       "<script>\n",
       "\n",
       "var loadScriptAsync = function(uri){\n",
       "  return new Promise((resolve, reject) => {\n",
       "    //this is to ignore the existence of requirejs amd\n",
       "    var savedexports, savedmodule;\n",
       "    if (typeof exports !== 'undefined') savedexports = exports;\n",
       "    else exports = {}\n",
       "    if (typeof module !== 'undefined') savedmodule = module;\n",
       "    else module = {}\n",
       "\n",
       "    var tag = document.createElement('script');\n",
       "    tag.src = uri;\n",
       "    tag.async = true;\n",
       "    tag.onload = () => {\n",
       "        exports = savedexports;\n",
       "        module = savedmodule;\n",
       "        resolve();\n",
       "    };\n",
       "  var firstScriptTag = document.getElementsByTagName('script')[0];\n",
       "  firstScriptTag.parentNode.insertBefore(tag, firstScriptTag);\n",
       "});\n",
       "};\n",
       "\n",
       "if(typeof $3Dmolpromise === 'undefined') {\n",
       "$3Dmolpromise = null;\n",
       "  $3Dmolpromise = loadScriptAsync('https://cdnjs.cloudflare.com/ajax/libs/3Dmol/2.0.3/3Dmol-min.js');\n",
       "}\n",
       "\n",
       "var viewer_16868451058361073 = null;\n",
       "var warn = document.getElementById(\"3dmolwarning_16868451058361073\");\n",
       "if(warn) {\n",
       "    warn.parentNode.removeChild(warn);\n",
       "}\n",
       "$3Dmolpromise.then(function() {\n",
       "viewer_16868451058361073 = $3Dmol.createViewer(document.getElementById(\"3dmolviewer_16868451058361073\"),{backgroundColor:\"white\"});\n",
       "viewer_16868451058361073.zoomTo();\n",
       "\tviewer_16868451058361073.addModel(\"# Produced with molli package\\n@<TRIPOS>MOLECULE\\n3\\n11 10 0 0 0\\nSMALL\\nUSER_CHARGES\\n\\n@<TRIPOS>ATOM\\n     1 C       0.000000     0.000000     0.000000 C          1 UNL1 0.0\\n     2 AP1    -1.298958    -0.750000     0.000000 Unknown    1 UNL1 0.0\\n     3 C       1.299018    -0.750035     0.000000 C          1 UNL1 0.0\\n     4 C       0.000000     1.500000     0.000000 C          1 UNL1 0.0\\n     5 H       0.000000     0.000000    -1.070000 H          1 UNL1 0.0\\n     6 H       1.860120    -0.491537     0.873638 H          1 UNL1 0.0\\n     7 H       1.860097    -0.491577    -0.873665 H          1 UNL1 0.0\\n     8 H       1.103470    -1.802014     0.000027 H          1 UNL1 0.0\\n     9 H       1.008806     1.856667     0.000000 H          1 UNL1 0.0\\n    10 H      -0.504403     1.856667     0.873651 H          1 UNL1 0.0\\n    11 H      -0.504403     1.856667    -0.873651 H          1 UNL1 0.0\\n@<TRIPOS>BOND\\n     1      2      1          1\\n     2      1      3          1\\n     3      1      4          1\\n     4      1      5          1\\n     5      3      6          1\\n     6      3      7          1\\n     7      3      8          1\\n     8      4      9          1\\n     9      4     10          1\\n    10      4     11          1\\n\",\"mol2\");\n",
       "\tviewer_16868451058361073.setStyle({\"stick\": {\"radius\": 0.1}, \"sphere\": {\"scale\": 0.15}});\n",
       "\tviewer_16868451058361073.setHoverable({},true,\"\\n            function(atom,viewer,event,container) {\\n                if(!atom.label) {\\n                    atom.label = viewer.addLabel(atom.elem + atom.serial, {position: atom, backgroundColor: 'mintcream', fontColor:'black'});\\n                }\\n            }\\n            \",\"\\n            function(atom,viewer) { \\n                if(atom.label) {\\n                    viewer.removeLabel(atom.label);\\n                    delete atom.label;\\n                }\\n            }\\n            \");\n",
       "\tviewer_16868451058361073.zoomTo();\n",
       "\tviewer_16868451058361073.setBackgroundColor(null);\n",
       "viewer_16868451058361073.render();\n",
       "});\n",
       "</script>"
      ]
     },
     "metadata": {},
     "output_type": "display_data"
    },
    {
     "data": {
      "text/plain": [
       "Molecule(name='3', formula='C3 H7 Unknown1')"
      ]
     },
     "execution_count": 22,
     "metadata": {},
     "output_type": "execute_result"
    }
   ],
   "source": [
    "m_subs = ml.MoleculeLibrary(f'{out_dir}BOX_subs_new_env.mlib')\n",
    "print(len(m_subs))\n",
    "m_subs['3']"
   ]
  },
  {
   "attachments": {},
   "cell_type": "markdown",
   "metadata": {},
   "source": [
    "# 2. Combinatorial Expansion"
   ]
  },
  {
   "cell_type": "code",
   "execution_count": 23,
   "metadata": {},
   "outputs": [
    {
     "name": "stdout",
     "output_type": "stream",
     "text": [
      "Will create a library of size 75\n"
     ]
    },
    {
     "name": "stderr",
     "output_type": "stream",
     "text": [
      "100%|██████████| 75/75 [00:02<00:00, 34.10it/s]\n"
     ]
    },
    {
     "data": {
      "text/plain": [
       "CompletedProcess(args=['molli', 'combine', './ncsa-testing-output/BOX_cores_new_env.mlib', '-s', './ncsa-testing-output/BOX_subs_new_env.mlib', '-j', '96', '-o', './ncsa-testing-output/test_combine_new_env.mlib', '-a', 'A1', '--obopt', 'uff', '-m', 'same', '--overwrite'], returncode=0)"
      ]
     },
     "execution_count": 23,
     "metadata": {},
     "output_type": "execute_result"
    }
   ],
   "source": [
    "subprocess.run(\n",
    "    [\n",
    "        'molli',\n",
    "        'combine',\n",
    "        f'{out_dir}BOX_cores_new_env.mlib',\n",
    "        '-s',\n",
    "        f'{out_dir}BOX_subs_new_env.mlib',\n",
    "        '-j',\n",
    "        '96', \n",
    "        '-o', \n",
    "        f'{out_dir}test_combine_new_env.mlib', \n",
    "        '-a', \n",
    "        'A1', \n",
    "        '--obopt', \n",
    "        'uff',\n",
    "        '-m',\n",
    "        'same',\n",
    "        \"--overwrite\"\n",
    "    ]\n",
    ")\n"
   ]
  },
  {
   "cell_type": "code",
   "execution_count": 24,
   "metadata": {},
   "outputs": [
    {
     "name": "stdout",
     "output_type": "stream",
     "text": [
      "75\n"
     ]
    },
    {
     "data": {
      "application/3dmoljs_load.v0": "<div id=\"3dmolviewer_16868451121177335\"  style=\"position: relative; width: 1000px; height: 500px;\">\n        <p id=\"3dmolwarning_16868451121177335\" style=\"background-color:#ffcccc;color:black\">You appear to be running in JupyterLab (or JavaScript failed to load for some other reason).  You need to install the 3dmol extension: <br>\n        <tt>jupyter labextension install jupyterlab_3dmol</tt></p>\n        </div>\n<script>\n\nvar loadScriptAsync = function(uri){\n  return new Promise((resolve, reject) => {\n    //this is to ignore the existence of requirejs amd\n    var savedexports, savedmodule;\n    if (typeof exports !== 'undefined') savedexports = exports;\n    else exports = {}\n    if (typeof module !== 'undefined') savedmodule = module;\n    else module = {}\n\n    var tag = document.createElement('script');\n    tag.src = uri;\n    tag.async = true;\n    tag.onload = () => {\n        exports = savedexports;\n        module = savedmodule;\n        resolve();\n    };\n  var firstScriptTag = document.getElementsByTagName('script')[0];\n  firstScriptTag.parentNode.insertBefore(tag, firstScriptTag);\n});\n};\n\nif(typeof $3Dmolpromise === 'undefined') {\n$3Dmolpromise = null;\n  $3Dmolpromise = loadScriptAsync('https://cdnjs.cloudflare.com/ajax/libs/3Dmol/2.0.3/3Dmol-min.js');\n}\n\nvar viewer_16868451121177335 = null;\nvar warn = document.getElementById(\"3dmolwarning_16868451121177335\");\nif(warn) {\n    warn.parentNode.removeChild(warn);\n}\n$3Dmolpromise.then(function() {\nviewer_16868451121177335 = $3Dmol.createViewer(document.getElementById(\"3dmolviewer_16868451121177335\"),{backgroundColor:\"white\"});\nviewer_16868451121177335.zoomTo();\n\tviewer_16868451121177335.addModel(\"# Produced with molli package\\n@<TRIPOS>MOLECULE\\n1_3_3\\n48 50 0 0 0\\nSMALL\\nUSER_CHARGES\\n\\n@<TRIPOS>ATOM\\n     1 C       0.045702     0.039679     0.257781 C          1 UNL1 0.0\\n     2 C       0.864714     1.338032     0.433162 C          1 UNL1 0.0\\n     3 O      -0.079204     2.323637     0.466331 O          1 UNL1 0.0\\n     4 C      -1.313265     1.800956     0.401056 C          1 UNL1 0.0\\n     5 N      -1.349419     0.517340     0.323635 N          1 UNL1 0.0\\n     6 C      -2.513384     2.694964     0.375024 C          1 UNL1 0.0\\n     7 C      -3.764971     1.893084     0.199962 C          1 UNL1 0.0\\n     8 O      -4.964773     2.493100     0.230437 O          1 UNL1 0.0\\n     9 C      -5.966389     1.575923     0.093076 C          1 UNL1 0.0\\n    10 C      -5.228726     0.219308     0.045395 C          1 UNL1 0.0\\n    11 N      -3.806864     0.615453     0.054944 N          1 UNL1 0.0\\n    12 C      -2.603256    -0.254449     0.119060 C          1 UNL1 0.0\\n    13 Br     -2.958660    -1.486919     1.584949 Br         1 UNL1 0.0\\n    14 Br     -2.315853    -1.238801    -1.536964 Br         1 UNL1 0.0\\n    15 C      -2.580622     3.465489     1.705374 C          1 UNL1 0.0\\n    16 C      -2.393127     3.680168    -0.800940 C          1 UNL1 0.0\\n    17 H       0.236066    -0.309914    -0.781084 H          1 UNL1 0.0\\n    18 H       1.432925     1.391785     1.382967 H          1 UNL1 0.0\\n    19 H       1.569660     1.489074    -0.412885 H          1 UNL1 0.0\\n    20 H      -6.672534     1.622672     0.950180 H          1 UNL1 0.0\\n    21 H      -6.517119     1.826229    -0.835218 H          1 UNL1 0.0\\n    22 H      -5.444805    -0.285801     1.012826 H          1 UNL1 0.0\\n    23 H      -2.672521     2.758623     2.559138 H          1 UNL1 0.0\\n    24 H      -3.456152     4.150099     1.722213 H          1 UNL1 0.0\\n    25 H      -1.664227     4.077030     1.854128 H          1 UNL1 0.0\\n    26 H      -1.478035     4.303463    -0.702820 H          1 UNL1 0.0\\n    27 H      -3.270333     4.362260    -0.835515 H          1 UNL1 0.0\\n    28 H      -2.339698     3.128901    -1.765405 H          1 UNL1 0.0\\n    29 C      -5.822435    -0.668968    -1.099559 C          1 UNL1 0.0\\n    30 C      -5.554862    -2.171726    -0.914526 C          1 UNL1 0.0\\n    31 C      -5.497987    -0.177903    -2.523591 C          1 UNL1 0.0\\n    32 H      -6.929670    -0.602765    -0.993097 H          1 UNL1 0.0\\n    33 H      -4.502434    -2.461060    -0.974372 H          1 UNL1 0.0\\n    34 H      -6.105059    -2.748920    -1.688282 H          1 UNL1 0.0\\n    35 H      -5.931203    -2.498695     0.078199 H          1 UNL1 0.0\\n    36 H      -6.021810    -0.813523    -3.268719 H          1 UNL1 0.0\\n    37 H      -4.422214    -0.204098    -2.748476 H          1 UNL1 0.0\\n    38 H      -5.839741     0.862897    -2.684393 H          1 UNL1 0.0\\n    39 C       0.577904    -1.060266     1.237147 C          1 UNL1 0.0\\n    40 C       0.223108    -2.492918     0.805972 C          1 UNL1 0.0\\n    41 C       0.273298    -0.792646     2.723733 C          1 UNL1 0.0\\n    42 H       1.687829    -1.043855     1.139718 H          1 UNL1 0.0\\n    43 H      -0.844927    -2.725137     0.818926 H          1 UNL1 0.0\\n    44 H       0.732326    -3.222236     1.471838 H          1 UNL1 0.0\\n    45 H       0.587059    -2.672554    -0.228119 H          1 UNL1 0.0\\n    46 H       0.753624    -1.572198     3.352329 H          1 UNL1 0.0\\n    47 H      -0.803683    -0.791593     2.944461 H          1 UNL1 0.0\\n    48 H       0.674463     0.185635     3.052547 H          1 UNL1 0.0\\n@<TRIPOS>BOND\\n     1      1      2          1\\n     2      2      3          1\\n     3      3      4          1\\n     4      4      5          2\\n     5      5      1          1\\n     6      4      6          1\\n     7      6      7          1\\n     8      7      8          1\\n     9      8      9          1\\n    10      9     10          1\\n    11     10     11          1\\n    12     11      7          2\\n    13     11     12          1\\n    14     12      5          1\\n    15     12     13          1\\n    16     12     14          1\\n    17      6     15          1\\n    18      6     16          1\\n    19      1     17          1\\n    20      2     18          1\\n    21      2     19          1\\n    22      9     20          1\\n    23      9     21          1\\n    24     10     22          1\\n    25     15     23          1\\n    26     15     24          1\\n    27     15     25          1\\n    28     16     26          1\\n    29     16     27          1\\n    30     16     28          1\\n    31     29     30          1\\n    32     29     31          1\\n    33     29     32          1\\n    34     30     33          1\\n    35     30     34          1\\n    36     30     35          1\\n    37     31     36          1\\n    38     31     37          1\\n    39     31     38          1\\n    40     10     29          1\\n    41     39     40          1\\n    42     39     41          1\\n    43     39     42          1\\n    44     40     43          1\\n    45     40     44          1\\n    46     40     45          1\\n    47     41     46          1\\n    48     41     47          1\\n    49     41     48          1\\n    50      1     39          1\\n\",\"mol2\");\n\tviewer_16868451121177335.setStyle({\"stick\": {\"radius\": 0.1}, \"sphere\": {\"scale\": 0.15}});\n\tviewer_16868451121177335.setHoverable({},true,\"\\n            function(atom,viewer,event,container) {\\n                if(!atom.label) {\\n                    atom.label = viewer.addLabel(atom.elem + atom.serial, {position: atom, backgroundColor: 'mintcream', fontColor:'black'});\\n                }\\n            }\\n            \",\"\\n            function(atom,viewer) { \\n                if(atom.label) {\\n                    viewer.removeLabel(atom.label);\\n                    delete atom.label;\\n                }\\n            }\\n            \");\n\tviewer_16868451121177335.zoomTo();\n\tviewer_16868451121177335.setBackgroundColor(null);\nviewer_16868451121177335.render();\n});\n</script>",
      "text/html": [
       "<div id=\"3dmolviewer_16868451121177335\"  style=\"position: relative; width: 1000px; height: 500px;\">\n",
       "        <p id=\"3dmolwarning_16868451121177335\" style=\"background-color:#ffcccc;color:black\">You appear to be running in JupyterLab (or JavaScript failed to load for some other reason).  You need to install the 3dmol extension: <br>\n",
       "        <tt>jupyter labextension install jupyterlab_3dmol</tt></p>\n",
       "        </div>\n",
       "<script>\n",
       "\n",
       "var loadScriptAsync = function(uri){\n",
       "  return new Promise((resolve, reject) => {\n",
       "    //this is to ignore the existence of requirejs amd\n",
       "    var savedexports, savedmodule;\n",
       "    if (typeof exports !== 'undefined') savedexports = exports;\n",
       "    else exports = {}\n",
       "    if (typeof module !== 'undefined') savedmodule = module;\n",
       "    else module = {}\n",
       "\n",
       "    var tag = document.createElement('script');\n",
       "    tag.src = uri;\n",
       "    tag.async = true;\n",
       "    tag.onload = () => {\n",
       "        exports = savedexports;\n",
       "        module = savedmodule;\n",
       "        resolve();\n",
       "    };\n",
       "  var firstScriptTag = document.getElementsByTagName('script')[0];\n",
       "  firstScriptTag.parentNode.insertBefore(tag, firstScriptTag);\n",
       "});\n",
       "};\n",
       "\n",
       "if(typeof $3Dmolpromise === 'undefined') {\n",
       "$3Dmolpromise = null;\n",
       "  $3Dmolpromise = loadScriptAsync('https://cdnjs.cloudflare.com/ajax/libs/3Dmol/2.0.3/3Dmol-min.js');\n",
       "}\n",
       "\n",
       "var viewer_16868451121177335 = null;\n",
       "var warn = document.getElementById(\"3dmolwarning_16868451121177335\");\n",
       "if(warn) {\n",
       "    warn.parentNode.removeChild(warn);\n",
       "}\n",
       "$3Dmolpromise.then(function() {\n",
       "viewer_16868451121177335 = $3Dmol.createViewer(document.getElementById(\"3dmolviewer_16868451121177335\"),{backgroundColor:\"white\"});\n",
       "viewer_16868451121177335.zoomTo();\n",
       "\tviewer_16868451121177335.addModel(\"# Produced with molli package\\n@<TRIPOS>MOLECULE\\n1_3_3\\n48 50 0 0 0\\nSMALL\\nUSER_CHARGES\\n\\n@<TRIPOS>ATOM\\n     1 C       0.045702     0.039679     0.257781 C          1 UNL1 0.0\\n     2 C       0.864714     1.338032     0.433162 C          1 UNL1 0.0\\n     3 O      -0.079204     2.323637     0.466331 O          1 UNL1 0.0\\n     4 C      -1.313265     1.800956     0.401056 C          1 UNL1 0.0\\n     5 N      -1.349419     0.517340     0.323635 N          1 UNL1 0.0\\n     6 C      -2.513384     2.694964     0.375024 C          1 UNL1 0.0\\n     7 C      -3.764971     1.893084     0.199962 C          1 UNL1 0.0\\n     8 O      -4.964773     2.493100     0.230437 O          1 UNL1 0.0\\n     9 C      -5.966389     1.575923     0.093076 C          1 UNL1 0.0\\n    10 C      -5.228726     0.219308     0.045395 C          1 UNL1 0.0\\n    11 N      -3.806864     0.615453     0.054944 N          1 UNL1 0.0\\n    12 C      -2.603256    -0.254449     0.119060 C          1 UNL1 0.0\\n    13 Br     -2.958660    -1.486919     1.584949 Br         1 UNL1 0.0\\n    14 Br     -2.315853    -1.238801    -1.536964 Br         1 UNL1 0.0\\n    15 C      -2.580622     3.465489     1.705374 C          1 UNL1 0.0\\n    16 C      -2.393127     3.680168    -0.800940 C          1 UNL1 0.0\\n    17 H       0.236066    -0.309914    -0.781084 H          1 UNL1 0.0\\n    18 H       1.432925     1.391785     1.382967 H          1 UNL1 0.0\\n    19 H       1.569660     1.489074    -0.412885 H          1 UNL1 0.0\\n    20 H      -6.672534     1.622672     0.950180 H          1 UNL1 0.0\\n    21 H      -6.517119     1.826229    -0.835218 H          1 UNL1 0.0\\n    22 H      -5.444805    -0.285801     1.012826 H          1 UNL1 0.0\\n    23 H      -2.672521     2.758623     2.559138 H          1 UNL1 0.0\\n    24 H      -3.456152     4.150099     1.722213 H          1 UNL1 0.0\\n    25 H      -1.664227     4.077030     1.854128 H          1 UNL1 0.0\\n    26 H      -1.478035     4.303463    -0.702820 H          1 UNL1 0.0\\n    27 H      -3.270333     4.362260    -0.835515 H          1 UNL1 0.0\\n    28 H      -2.339698     3.128901    -1.765405 H          1 UNL1 0.0\\n    29 C      -5.822435    -0.668968    -1.099559 C          1 UNL1 0.0\\n    30 C      -5.554862    -2.171726    -0.914526 C          1 UNL1 0.0\\n    31 C      -5.497987    -0.177903    -2.523591 C          1 UNL1 0.0\\n    32 H      -6.929670    -0.602765    -0.993097 H          1 UNL1 0.0\\n    33 H      -4.502434    -2.461060    -0.974372 H          1 UNL1 0.0\\n    34 H      -6.105059    -2.748920    -1.688282 H          1 UNL1 0.0\\n    35 H      -5.931203    -2.498695     0.078199 H          1 UNL1 0.0\\n    36 H      -6.021810    -0.813523    -3.268719 H          1 UNL1 0.0\\n    37 H      -4.422214    -0.204098    -2.748476 H          1 UNL1 0.0\\n    38 H      -5.839741     0.862897    -2.684393 H          1 UNL1 0.0\\n    39 C       0.577904    -1.060266     1.237147 C          1 UNL1 0.0\\n    40 C       0.223108    -2.492918     0.805972 C          1 UNL1 0.0\\n    41 C       0.273298    -0.792646     2.723733 C          1 UNL1 0.0\\n    42 H       1.687829    -1.043855     1.139718 H          1 UNL1 0.0\\n    43 H      -0.844927    -2.725137     0.818926 H          1 UNL1 0.0\\n    44 H       0.732326    -3.222236     1.471838 H          1 UNL1 0.0\\n    45 H       0.587059    -2.672554    -0.228119 H          1 UNL1 0.0\\n    46 H       0.753624    -1.572198     3.352329 H          1 UNL1 0.0\\n    47 H      -0.803683    -0.791593     2.944461 H          1 UNL1 0.0\\n    48 H       0.674463     0.185635     3.052547 H          1 UNL1 0.0\\n@<TRIPOS>BOND\\n     1      1      2          1\\n     2      2      3          1\\n     3      3      4          1\\n     4      4      5          2\\n     5      5      1          1\\n     6      4      6          1\\n     7      6      7          1\\n     8      7      8          1\\n     9      8      9          1\\n    10      9     10          1\\n    11     10     11          1\\n    12     11      7          2\\n    13     11     12          1\\n    14     12      5          1\\n    15     12     13          1\\n    16     12     14          1\\n    17      6     15          1\\n    18      6     16          1\\n    19      1     17          1\\n    20      2     18          1\\n    21      2     19          1\\n    22      9     20          1\\n    23      9     21          1\\n    24     10     22          1\\n    25     15     23          1\\n    26     15     24          1\\n    27     15     25          1\\n    28     16     26          1\\n    29     16     27          1\\n    30     16     28          1\\n    31     29     30          1\\n    32     29     31          1\\n    33     29     32          1\\n    34     30     33          1\\n    35     30     34          1\\n    36     30     35          1\\n    37     31     36          1\\n    38     31     37          1\\n    39     31     38          1\\n    40     10     29          1\\n    41     39     40          1\\n    42     39     41          1\\n    43     39     42          1\\n    44     40     43          1\\n    45     40     44          1\\n    46     40     45          1\\n    47     41     46          1\\n    48     41     47          1\\n    49     41     48          1\\n    50      1     39          1\\n\",\"mol2\");\n",
       "\tviewer_16868451121177335.setStyle({\"stick\": {\"radius\": 0.1}, \"sphere\": {\"scale\": 0.15}});\n",
       "\tviewer_16868451121177335.setHoverable({},true,\"\\n            function(atom,viewer,event,container) {\\n                if(!atom.label) {\\n                    atom.label = viewer.addLabel(atom.elem + atom.serial, {position: atom, backgroundColor: 'mintcream', fontColor:'black'});\\n                }\\n            }\\n            \",\"\\n            function(atom,viewer) { \\n                if(atom.label) {\\n                    viewer.removeLabel(atom.label);\\n                    delete atom.label;\\n                }\\n            }\\n            \");\n",
       "\tviewer_16868451121177335.zoomTo();\n",
       "\tviewer_16868451121177335.setBackgroundColor(null);\n",
       "viewer_16868451121177335.render();\n",
       "});\n",
       "</script>"
      ]
     },
     "metadata": {},
     "output_type": "display_data"
    },
    {
     "data": {
      "text/plain": [
       "Molecule(name='1_3_3', formula='C16 H26 Br2 N2 O2')"
      ]
     },
     "execution_count": 24,
     "metadata": {},
     "output_type": "execute_result"
    }
   ],
   "source": [
    "combined = ml.MoleculeLibrary(f'{out_dir}test_combine_new_env.mlib')\n",
    "print(len(combined))\n",
    "# you index full catalysts structures with the concatenated core_substituent_substituent string\n",
    "combined[\"1_3_3\"]"
   ]
  },
  {
   "cell_type": "code",
   "execution_count": 25,
   "metadata": {},
   "outputs": [
    {
     "data": {
      "application/3dmoljs_load.v0": "<div id=\"3dmolviewer_1686845113413222\"  style=\"position: relative; width: 1000px; height: 500px;\">\n        <p id=\"3dmolwarning_1686845113413222\" style=\"background-color:#ffcccc;color:black\">You appear to be running in JupyterLab (or JavaScript failed to load for some other reason).  You need to install the 3dmol extension: <br>\n        <tt>jupyter labextension install jupyterlab_3dmol</tt></p>\n        </div>\n<script>\n\nvar loadScriptAsync = function(uri){\n  return new Promise((resolve, reject) => {\n    //this is to ignore the existence of requirejs amd\n    var savedexports, savedmodule;\n    if (typeof exports !== 'undefined') savedexports = exports;\n    else exports = {}\n    if (typeof module !== 'undefined') savedmodule = module;\n    else module = {}\n\n    var tag = document.createElement('script');\n    tag.src = uri;\n    tag.async = true;\n    tag.onload = () => {\n        exports = savedexports;\n        module = savedmodule;\n        resolve();\n    };\n  var firstScriptTag = document.getElementsByTagName('script')[0];\n  firstScriptTag.parentNode.insertBefore(tag, firstScriptTag);\n});\n};\n\nif(typeof $3Dmolpromise === 'undefined') {\n$3Dmolpromise = null;\n  $3Dmolpromise = loadScriptAsync('https://cdnjs.cloudflare.com/ajax/libs/3Dmol/2.0.3/3Dmol-min.js');\n}\n\nvar viewer_1686845113413222 = null;\nvar warn = document.getElementById(\"3dmolwarning_1686845113413222\");\nif(warn) {\n    warn.parentNode.removeChild(warn);\n}\n$3Dmolpromise.then(function() {\nviewer_1686845113413222 = $3Dmol.createViewer(document.getElementById(\"3dmolviewer_1686845113413222\"),{backgroundColor:\"white\"});\nviewer_1686845113413222.zoomTo();\n\tviewer_1686845113413222.addModel(\"# Produced with molli package\\n@<TRIPOS>MOLECULE\\n3_6_6\\n74 78 0 0 0\\nSMALL\\nUSER_CHARGES\\n\\n@<TRIPOS>ATOM\\n     1 C      -0.224879    -0.305883     0.442559 C          1 UNL1 0.0\\n     2 C       0.722879     0.945875     0.312441 C          1 UNL1 0.0\\n     3 O      -0.171802     1.982742     0.153897 O          1 UNL1 0.0\\n     4 C      -1.440176     1.561406     0.296520 C          1 UNL1 0.0\\n     5 N      -1.549483     0.301576     0.482684 N          1 UNL1 0.0\\n     6 C      -2.612371     2.504952     0.197924 C          1 UNL1 0.0\\n     7 C      -3.892676     1.721698     0.065971 C          1 UNL1 0.0\\n     8 O      -5.077165     2.332169    -0.103008 O          1 UNL1 0.0\\n     9 C      -6.099731     1.414274    -0.058590 C          1 UNL1 0.0\\n    10 C      -5.356428     0.028036    -0.056320 C          1 UNL1 0.0\\n    11 N      -3.970280     0.445338     0.145407 N          1 UNL1 0.0\\n    12 C      -2.836307    -0.417796     0.548931 C          1 UNL1 0.0\\n    13 Br     -3.187726    -0.932097     2.396732 Br         1 UNL1 0.0\\n    14 Br     -2.693146    -2.094792    -0.463797 Br         1 UNL1 0.0\\n    15 C      -2.664227     3.387287     1.455499 C          1 UNL1 0.0\\n    16 C      -2.455029     3.381340    -1.055959 C          1 UNL1 0.0\\n    17 C      -7.246802     1.851306    -1.029593 C          1 UNL1 0.0\\n    18 C      -6.789114     2.319722    -2.431839 C          1 UNL1 0.0\\n    19 C      -8.401606     0.844199    -1.101752 C          1 UNL1 0.0\\n    20 C       1.747194     1.411619     1.398694 C          1 UNL1 0.0\\n    21 C       2.900739     0.434825     1.641334 C          1 UNL1 0.0\\n    22 C       1.121334     1.876271     2.725160 C          1 UNL1 0.0\\n    23 H      -0.216718    -0.853603    -0.523733 H          1 UNL1 0.0\\n    24 H       1.300571     0.822282    -0.630920 H          1 UNL1 0.0\\n    25 H      -6.543055     1.495821     0.961127 H          1 UNL1 0.0\\n    26 H      -5.644350    -0.540448     0.841878 H          1 UNL1 0.0\\n    27 H      -3.522044     4.092729     1.409492 H          1 UNL1 0.0\\n    28 H      -1.729434     3.978416     1.563178 H          1 UNL1 0.0\\n    29 H      -2.783490     2.755163     2.363428 H          1 UNL1 0.0\\n    30 H      -1.523029     3.984585    -0.997747 H          1 UNL1 0.0\\n    31 H      -3.309349     4.087448    -1.149437 H          1 UNL1 0.0\\n    32 H      -2.414584     2.753795    -1.972125 H          1 UNL1 0.0\\n    33 H      -7.666717     2.776095    -0.572263 H          1 UNL1 0.0\\n    34 H      -6.031715     3.126226    -2.334175 H          1 UNL1 0.0\\n    35 H      -7.656499     2.749405    -2.976493 H          1 UNL1 0.0\\n    36 H      -6.366186     1.545830    -3.089467 H          1 UNL1 0.0\\n    37 H      -8.107460    -0.097372    -1.598163 H          1 UNL1 0.0\\n    38 H      -9.241749     1.277484    -1.685481 H          1 UNL1 0.0\\n    39 H      -8.771107     0.611659    -0.081211 H          1 UNL1 0.0\\n    40 H       2.222798     2.319124     0.959850 H          1 UNL1 0.0\\n    41 H       3.681074     0.924113     2.262138 H          1 UNL1 0.0\\n    42 H       3.368948     0.143066     0.676764 H          1 UNL1 0.0\\n    43 H       2.573316    -0.459064     2.193815 H          1 UNL1 0.0\\n    44 H       0.371616     2.673905     2.543491 H          1 UNL1 0.0\\n    45 H       1.912060     2.306810     3.376750 H          1 UNL1 0.0\\n    46 H       0.636844     1.060252     3.284539 H          1 UNL1 0.0\\n    47 C      -5.509864    -0.807263    -1.370682 C          1 UNL1 0.0\\n    48 C      -6.294868    -2.113013    -1.324446 C          1 UNL1 0.0\\n    49 C      -6.965035    -2.618531    -0.185850 C          1 UNL1 0.0\\n    50 C      -7.646273    -3.838946    -0.248055 C          1 UNL1 0.0\\n    51 C      -7.674870    -4.571222    -1.434882 C          1 UNL1 0.0\\n    52 C      -7.024512    -4.084220    -2.567650 C          1 UNL1 0.0\\n    53 C      -6.342048    -2.866446    -2.513736 C          1 UNL1 0.0\\n    54 H      -5.921297    -0.203640    -2.171531 H          1 UNL1 0.0\\n    55 H      -4.525569    -1.020043    -1.801375 H          1 UNL1 0.0\\n    56 H      -6.987503    -2.103451     0.758127 H          1 UNL1 0.0\\n    57 H      -8.154136    -4.218652     0.629325 H          1 UNL1 0.0\\n    58 H      -8.202073    -5.515612    -1.476751 H          1 UNL1 0.0\\n    59 H      -7.046718    -4.651472    -3.489272 H          1 UNL1 0.0\\n    60 H      -5.840702    -2.509842    -3.405618 H          1 UNL1 0.0\\n    61 C       0.036119    -1.347823     1.562632 C          1 UNL1 0.0\\n    62 C       1.153419    -2.348665     1.337591 C          1 UNL1 0.0\\n    63 C       1.960404    -2.384905     0.180476 C          1 UNL1 0.0\\n    64 C       2.943637    -3.369486     0.037399 C          1 UNL1 0.0\\n    65 C       3.136752    -4.322672     1.039609 C          1 UNL1 0.0\\n    66 C       2.348462    -4.293794     2.190287 C          1 UNL1 0.0\\n    67 C       1.363171    -3.315637     2.337766 C          1 UNL1 0.0\\n    68 H       0.139517    -0.852820     2.540314 H          1 UNL1 0.0\\n    69 H      -0.846902    -2.003507     1.634908 H          1 UNL1 0.0\\n    70 H       1.840323    -1.670709    -0.619791 H          1 UNL1 0.0\\n    71 H       3.554270    -3.396579    -0.855564 H          1 UNL1 0.0\\n    72 H       3.895561    -5.085443     0.923982 H          1 UNL1 0.0\\n    73 H       2.495767    -5.032828     2.967329 H          1 UNL1 0.0\\n    74 H       0.754613    -3.313482     3.234491 H          1 UNL1 0.0\\n@<TRIPOS>BOND\\n     1      1      2          1\\n     2      2      3          1\\n     3      3      4          1\\n     4      4      5          2\\n     5      5      1          1\\n     6      4      6          1\\n     7      6      7          1\\n     8      7      8          1\\n     9      8      9          1\\n    10      9     10          1\\n    11     10     11          1\\n    12     11      7          2\\n    13     11     12          1\\n    14     12      5          1\\n    15     12     13          1\\n    16     12     14          1\\n    17      6     15          1\\n    18      6     16          1\\n    19     17     18          1\\n    20     17     19          1\\n    21      9     17          1\\n    22     20     21          1\\n    23     20     22          1\\n    24      2     20          1\\n    25      1     23          1\\n    26      2     24          1\\n    27      9     25          1\\n    28     10     26          1\\n    29     15     27          1\\n    30     15     28          1\\n    31     15     29          1\\n    32     16     30          1\\n    33     16     31          1\\n    34     16     32          1\\n    35     17     33          1\\n    36     18     34          1\\n    37     18     35          1\\n    38     18     36          1\\n    39     19     37          1\\n    40     19     38          1\\n    41     19     39          1\\n    42     20     40          1\\n    43     21     41          1\\n    44     21     42          1\\n    45     21     43          1\\n    46     22     44          1\\n    47     22     45          1\\n    48     22     46          1\\n    49     47     48          1\\n    50     48     49          2\\n    51     49     50          1\\n    52     50     51          2\\n    53     51     52          1\\n    54     52     53          2\\n    55     53     48          1\\n    56     47     54          1\\n    57     47     55          1\\n    58     49     56          1\\n    59     50     57          1\\n    60     51     58          1\\n    61     52     59          1\\n    62     53     60          1\\n    63     10     47          1\\n    64     61     62          1\\n    65     62     63          2\\n    66     63     64          1\\n    67     64     65          2\\n    68     65     66          1\\n    69     66     67          2\\n    70     67     62          1\\n    71     61     68          1\\n    72     61     69          1\\n    73     63     70          1\\n    74     64     71          1\\n    75     65     72          1\\n    76     66     73          1\\n    77     67     74          1\\n    78      1     61          1\\n\",\"mol2\");\n\tviewer_1686845113413222.setStyle({\"stick\": {\"radius\": 0.1}, \"sphere\": {\"scale\": 0.15}});\n\tviewer_1686845113413222.setHoverable({},true,\"\\n            function(atom,viewer,event,container) {\\n                if(!atom.label) {\\n                    atom.label = viewer.addLabel(atom.elem + atom.serial, {position: atom, backgroundColor: 'mintcream', fontColor:'black'});\\n                }\\n            }\\n            \",\"\\n            function(atom,viewer) { \\n                if(atom.label) {\\n                    viewer.removeLabel(atom.label);\\n                    delete atom.label;\\n                }\\n            }\\n            \");\n\tviewer_1686845113413222.zoomTo();\n\tviewer_1686845113413222.setBackgroundColor(null);\nviewer_1686845113413222.render();\n});\n</script>",
      "text/html": [
       "<div id=\"3dmolviewer_1686845113413222\"  style=\"position: relative; width: 1000px; height: 500px;\">\n",
       "        <p id=\"3dmolwarning_1686845113413222\" style=\"background-color:#ffcccc;color:black\">You appear to be running in JupyterLab (or JavaScript failed to load for some other reason).  You need to install the 3dmol extension: <br>\n",
       "        <tt>jupyter labextension install jupyterlab_3dmol</tt></p>\n",
       "        </div>\n",
       "<script>\n",
       "\n",
       "var loadScriptAsync = function(uri){\n",
       "  return new Promise((resolve, reject) => {\n",
       "    //this is to ignore the existence of requirejs amd\n",
       "    var savedexports, savedmodule;\n",
       "    if (typeof exports !== 'undefined') savedexports = exports;\n",
       "    else exports = {}\n",
       "    if (typeof module !== 'undefined') savedmodule = module;\n",
       "    else module = {}\n",
       "\n",
       "    var tag = document.createElement('script');\n",
       "    tag.src = uri;\n",
       "    tag.async = true;\n",
       "    tag.onload = () => {\n",
       "        exports = savedexports;\n",
       "        module = savedmodule;\n",
       "        resolve();\n",
       "    };\n",
       "  var firstScriptTag = document.getElementsByTagName('script')[0];\n",
       "  firstScriptTag.parentNode.insertBefore(tag, firstScriptTag);\n",
       "});\n",
       "};\n",
       "\n",
       "if(typeof $3Dmolpromise === 'undefined') {\n",
       "$3Dmolpromise = null;\n",
       "  $3Dmolpromise = loadScriptAsync('https://cdnjs.cloudflare.com/ajax/libs/3Dmol/2.0.3/3Dmol-min.js');\n",
       "}\n",
       "\n",
       "var viewer_1686845113413222 = null;\n",
       "var warn = document.getElementById(\"3dmolwarning_1686845113413222\");\n",
       "if(warn) {\n",
       "    warn.parentNode.removeChild(warn);\n",
       "}\n",
       "$3Dmolpromise.then(function() {\n",
       "viewer_1686845113413222 = $3Dmol.createViewer(document.getElementById(\"3dmolviewer_1686845113413222\"),{backgroundColor:\"white\"});\n",
       "viewer_1686845113413222.zoomTo();\n",
       "\tviewer_1686845113413222.addModel(\"# Produced with molli package\\n@<TRIPOS>MOLECULE\\n3_6_6\\n74 78 0 0 0\\nSMALL\\nUSER_CHARGES\\n\\n@<TRIPOS>ATOM\\n     1 C      -0.224879    -0.305883     0.442559 C          1 UNL1 0.0\\n     2 C       0.722879     0.945875     0.312441 C          1 UNL1 0.0\\n     3 O      -0.171802     1.982742     0.153897 O          1 UNL1 0.0\\n     4 C      -1.440176     1.561406     0.296520 C          1 UNL1 0.0\\n     5 N      -1.549483     0.301576     0.482684 N          1 UNL1 0.0\\n     6 C      -2.612371     2.504952     0.197924 C          1 UNL1 0.0\\n     7 C      -3.892676     1.721698     0.065971 C          1 UNL1 0.0\\n     8 O      -5.077165     2.332169    -0.103008 O          1 UNL1 0.0\\n     9 C      -6.099731     1.414274    -0.058590 C          1 UNL1 0.0\\n    10 C      -5.356428     0.028036    -0.056320 C          1 UNL1 0.0\\n    11 N      -3.970280     0.445338     0.145407 N          1 UNL1 0.0\\n    12 C      -2.836307    -0.417796     0.548931 C          1 UNL1 0.0\\n    13 Br     -3.187726    -0.932097     2.396732 Br         1 UNL1 0.0\\n    14 Br     -2.693146    -2.094792    -0.463797 Br         1 UNL1 0.0\\n    15 C      -2.664227     3.387287     1.455499 C          1 UNL1 0.0\\n    16 C      -2.455029     3.381340    -1.055959 C          1 UNL1 0.0\\n    17 C      -7.246802     1.851306    -1.029593 C          1 UNL1 0.0\\n    18 C      -6.789114     2.319722    -2.431839 C          1 UNL1 0.0\\n    19 C      -8.401606     0.844199    -1.101752 C          1 UNL1 0.0\\n    20 C       1.747194     1.411619     1.398694 C          1 UNL1 0.0\\n    21 C       2.900739     0.434825     1.641334 C          1 UNL1 0.0\\n    22 C       1.121334     1.876271     2.725160 C          1 UNL1 0.0\\n    23 H      -0.216718    -0.853603    -0.523733 H          1 UNL1 0.0\\n    24 H       1.300571     0.822282    -0.630920 H          1 UNL1 0.0\\n    25 H      -6.543055     1.495821     0.961127 H          1 UNL1 0.0\\n    26 H      -5.644350    -0.540448     0.841878 H          1 UNL1 0.0\\n    27 H      -3.522044     4.092729     1.409492 H          1 UNL1 0.0\\n    28 H      -1.729434     3.978416     1.563178 H          1 UNL1 0.0\\n    29 H      -2.783490     2.755163     2.363428 H          1 UNL1 0.0\\n    30 H      -1.523029     3.984585    -0.997747 H          1 UNL1 0.0\\n    31 H      -3.309349     4.087448    -1.149437 H          1 UNL1 0.0\\n    32 H      -2.414584     2.753795    -1.972125 H          1 UNL1 0.0\\n    33 H      -7.666717     2.776095    -0.572263 H          1 UNL1 0.0\\n    34 H      -6.031715     3.126226    -2.334175 H          1 UNL1 0.0\\n    35 H      -7.656499     2.749405    -2.976493 H          1 UNL1 0.0\\n    36 H      -6.366186     1.545830    -3.089467 H          1 UNL1 0.0\\n    37 H      -8.107460    -0.097372    -1.598163 H          1 UNL1 0.0\\n    38 H      -9.241749     1.277484    -1.685481 H          1 UNL1 0.0\\n    39 H      -8.771107     0.611659    -0.081211 H          1 UNL1 0.0\\n    40 H       2.222798     2.319124     0.959850 H          1 UNL1 0.0\\n    41 H       3.681074     0.924113     2.262138 H          1 UNL1 0.0\\n    42 H       3.368948     0.143066     0.676764 H          1 UNL1 0.0\\n    43 H       2.573316    -0.459064     2.193815 H          1 UNL1 0.0\\n    44 H       0.371616     2.673905     2.543491 H          1 UNL1 0.0\\n    45 H       1.912060     2.306810     3.376750 H          1 UNL1 0.0\\n    46 H       0.636844     1.060252     3.284539 H          1 UNL1 0.0\\n    47 C      -5.509864    -0.807263    -1.370682 C          1 UNL1 0.0\\n    48 C      -6.294868    -2.113013    -1.324446 C          1 UNL1 0.0\\n    49 C      -6.965035    -2.618531    -0.185850 C          1 UNL1 0.0\\n    50 C      -7.646273    -3.838946    -0.248055 C          1 UNL1 0.0\\n    51 C      -7.674870    -4.571222    -1.434882 C          1 UNL1 0.0\\n    52 C      -7.024512    -4.084220    -2.567650 C          1 UNL1 0.0\\n    53 C      -6.342048    -2.866446    -2.513736 C          1 UNL1 0.0\\n    54 H      -5.921297    -0.203640    -2.171531 H          1 UNL1 0.0\\n    55 H      -4.525569    -1.020043    -1.801375 H          1 UNL1 0.0\\n    56 H      -6.987503    -2.103451     0.758127 H          1 UNL1 0.0\\n    57 H      -8.154136    -4.218652     0.629325 H          1 UNL1 0.0\\n    58 H      -8.202073    -5.515612    -1.476751 H          1 UNL1 0.0\\n    59 H      -7.046718    -4.651472    -3.489272 H          1 UNL1 0.0\\n    60 H      -5.840702    -2.509842    -3.405618 H          1 UNL1 0.0\\n    61 C       0.036119    -1.347823     1.562632 C          1 UNL1 0.0\\n    62 C       1.153419    -2.348665     1.337591 C          1 UNL1 0.0\\n    63 C       1.960404    -2.384905     0.180476 C          1 UNL1 0.0\\n    64 C       2.943637    -3.369486     0.037399 C          1 UNL1 0.0\\n    65 C       3.136752    -4.322672     1.039609 C          1 UNL1 0.0\\n    66 C       2.348462    -4.293794     2.190287 C          1 UNL1 0.0\\n    67 C       1.363171    -3.315637     2.337766 C          1 UNL1 0.0\\n    68 H       0.139517    -0.852820     2.540314 H          1 UNL1 0.0\\n    69 H      -0.846902    -2.003507     1.634908 H          1 UNL1 0.0\\n    70 H       1.840323    -1.670709    -0.619791 H          1 UNL1 0.0\\n    71 H       3.554270    -3.396579    -0.855564 H          1 UNL1 0.0\\n    72 H       3.895561    -5.085443     0.923982 H          1 UNL1 0.0\\n    73 H       2.495767    -5.032828     2.967329 H          1 UNL1 0.0\\n    74 H       0.754613    -3.313482     3.234491 H          1 UNL1 0.0\\n@<TRIPOS>BOND\\n     1      1      2          1\\n     2      2      3          1\\n     3      3      4          1\\n     4      4      5          2\\n     5      5      1          1\\n     6      4      6          1\\n     7      6      7          1\\n     8      7      8          1\\n     9      8      9          1\\n    10      9     10          1\\n    11     10     11          1\\n    12     11      7          2\\n    13     11     12          1\\n    14     12      5          1\\n    15     12     13          1\\n    16     12     14          1\\n    17      6     15          1\\n    18      6     16          1\\n    19     17     18          1\\n    20     17     19          1\\n    21      9     17          1\\n    22     20     21          1\\n    23     20     22          1\\n    24      2     20          1\\n    25      1     23          1\\n    26      2     24          1\\n    27      9     25          1\\n    28     10     26          1\\n    29     15     27          1\\n    30     15     28          1\\n    31     15     29          1\\n    32     16     30          1\\n    33     16     31          1\\n    34     16     32          1\\n    35     17     33          1\\n    36     18     34          1\\n    37     18     35          1\\n    38     18     36          1\\n    39     19     37          1\\n    40     19     38          1\\n    41     19     39          1\\n    42     20     40          1\\n    43     21     41          1\\n    44     21     42          1\\n    45     21     43          1\\n    46     22     44          1\\n    47     22     45          1\\n    48     22     46          1\\n    49     47     48          1\\n    50     48     49          2\\n    51     49     50          1\\n    52     50     51          2\\n    53     51     52          1\\n    54     52     53          2\\n    55     53     48          1\\n    56     47     54          1\\n    57     47     55          1\\n    58     49     56          1\\n    59     50     57          1\\n    60     51     58          1\\n    61     52     59          1\\n    62     53     60          1\\n    63     10     47          1\\n    64     61     62          1\\n    65     62     63          2\\n    66     63     64          1\\n    67     64     65          2\\n    68     65     66          1\\n    69     66     67          2\\n    70     67     62          1\\n    71     61     68          1\\n    72     61     69          1\\n    73     63     70          1\\n    74     64     71          1\\n    75     65     72          1\\n    76     66     73          1\\n    77     67     74          1\\n    78      1     61          1\\n\",\"mol2\");\n",
       "\tviewer_1686845113413222.setStyle({\"stick\": {\"radius\": 0.1}, \"sphere\": {\"scale\": 0.15}});\n",
       "\tviewer_1686845113413222.setHoverable({},true,\"\\n            function(atom,viewer,event,container) {\\n                if(!atom.label) {\\n                    atom.label = viewer.addLabel(atom.elem + atom.serial, {position: atom, backgroundColor: 'mintcream', fontColor:'black'});\\n                }\\n            }\\n            \",\"\\n            function(atom,viewer) { \\n                if(atom.label) {\\n                    viewer.removeLabel(atom.label);\\n                    delete atom.label;\\n                }\\n            }\\n            \");\n",
       "\tviewer_1686845113413222.zoomTo();\n",
       "\tviewer_1686845113413222.setBackgroundColor(null);\n",
       "viewer_1686845113413222.render();\n",
       "});\n",
       "</script>"
      ]
     },
     "metadata": {},
     "output_type": "display_data"
    },
    {
     "data": {
      "text/plain": [
       "Molecule(name='3_6_6', formula='C30 H38 Br2 N2 O2')"
      ]
     },
     "execution_count": 25,
     "metadata": {},
     "output_type": "execute_result"
    }
   ],
   "source": [
    "combined[\"3_6_6\"]"
   ]
  },
  {
   "attachments": {},
   "cell_type": "markdown",
   "metadata": {},
   "source": [
    "# 3. Conformer Generation"
   ]
  },
  {
   "cell_type": "code",
   "execution_count": 26,
   "metadata": {},
   "outputs": [
    {
     "name": "stderr",
     "output_type": "stream",
     "text": [
      "100%|██████████| 75/75 [02:11<00:00,  1.76s/it]\n"
     ]
    },
    {
     "data": {
      "text/plain": [
       "CompletedProcess(args=['molli', 'conformers', './ncsa-testing-output/test_combine_new_env.mlib', '-n', '50', '-o', './ncsa-testing-output/test_conformers_new_env.mlib', '-t', '-j', '96', '--overwrite'], returncode=0)"
      ]
     },
     "execution_count": 26,
     "metadata": {},
     "output_type": "execute_result"
    }
   ],
   "source": [
    "subprocess.run(['molli', \n",
    "                'conformers', \n",
    "                f'{out_dir}test_combine_new_env.mlib', \n",
    "                '-n', \n",
    "                '50', \n",
    "                '-o', \n",
    "                f'{out_dir}test_conformers_new_env.mlib', \n",
    "                '-t', \n",
    "                '-j', ### !!!!!! Number of jobs. Please scale down if host system has fewer cores. defaults to os.cpu_count()//2  !!!!! ###\n",
    "                '96',\n",
    "                \"--overwrite\"\n",
    "                ])"
   ]
  },
  {
   "cell_type": "code",
   "execution_count": 27,
   "metadata": {},
   "outputs": [
    {
     "name": "stdout",
     "output_type": "stream",
     "text": [
      "75\n"
     ]
    }
   ],
   "source": [
    "clib = ml.ConformerLibrary(f'{out_dir}test_conformers_new_env.mlib')\n",
    "print(len(clib))"
   ]
  },
  {
   "cell_type": "code",
   "execution_count": 28,
   "metadata": {},
   "outputs": [
    {
     "name": "stdout",
     "output_type": "stream",
     "text": [
      "8028 conformers in library\n"
     ]
    }
   ],
   "source": [
    "i = 0\n",
    "for conf in clib:\n",
    "    i += conf.n_conformers\n",
    "    # print(conf)\n",
    "print(str(i) + ' conformers in library')\n",
    "\n",
    "# many of these conformers ar redundant - redundant confs thrown out during aso calculation"
   ]
  },
  {
   "cell_type": "code",
   "execution_count": 29,
   "metadata": {},
   "outputs": [
    {
     "name": "stdout",
     "output_type": "stream",
     "text": [
      "ConformerEnsemble(name='1_3_3', formula='C16 H26 Br2 N2 O2', n_conformers=150)\n"
     ]
    },
    {
     "data": {
      "application/3dmoljs_load.v0": "<div id=\"3dmolviewer_16868452594474807\"  style=\"position: relative; width: 1000px; height: 500px;\">\n        <p id=\"3dmolwarning_16868452594474807\" style=\"background-color:#ffcccc;color:black\">You appear to be running in JupyterLab (or JavaScript failed to load for some other reason).  You need to install the 3dmol extension: <br>\n        <tt>jupyter labextension install jupyterlab_3dmol</tt></p>\n        </div>\n<script>\n\nvar loadScriptAsync = function(uri){\n  return new Promise((resolve, reject) => {\n    //this is to ignore the existence of requirejs amd\n    var savedexports, savedmodule;\n    if (typeof exports !== 'undefined') savedexports = exports;\n    else exports = {}\n    if (typeof module !== 'undefined') savedmodule = module;\n    else module = {}\n\n    var tag = document.createElement('script');\n    tag.src = uri;\n    tag.async = true;\n    tag.onload = () => {\n        exports = savedexports;\n        module = savedmodule;\n        resolve();\n    };\n  var firstScriptTag = document.getElementsByTagName('script')[0];\n  firstScriptTag.parentNode.insertBefore(tag, firstScriptTag);\n});\n};\n\nif(typeof $3Dmolpromise === 'undefined') {\n$3Dmolpromise = null;\n  $3Dmolpromise = loadScriptAsync('https://cdnjs.cloudflare.com/ajax/libs/3Dmol/2.0.3/3Dmol-min.js');\n}\n\nvar viewer_16868452594474807 = null;\nvar warn = document.getElementById(\"3dmolwarning_16868452594474807\");\nif(warn) {\n    warn.parentNode.removeChild(warn);\n}\n$3Dmolpromise.then(function() {\nviewer_16868452594474807 = $3Dmol.createViewer(document.getElementById(\"3dmolviewer_16868452594474807\"),{backgroundColor:\"white\"});\nviewer_16868452594474807.zoomTo();\n\tviewer_16868452594474807.addModel(\"# Produced with molli package\\n@<TRIPOS>MOLECULE\\n1_3_3\\n48 50 0 0 0\\nSMALL\\nUSER_CHARGES\\n\\n@<TRIPOS>ATOM\\n     1 C       0.000700    -0.044000     0.591400 C.3        1 UNL1 0.0\\n     2 C       0.807700     1.156100     0.079800 C.3        1 UNL1 0.0\\n     3 O      -0.053700     2.269500     0.395300 O.2        1 UNL1 0.0\\n     4 C      -1.301800     1.805800     0.378800 C.2        1 UNL1 0.0\\n     5 N      -1.361900     0.530800     0.370200 N.2        1 UNL1 0.0\\n     6 C      -2.508000     2.680700     0.328200 C.3        1 UNL1 0.0\\n     7 C      -3.765300     1.870700     0.298400 C.2        1 UNL1 0.0\\n     8 O      -4.945300     2.379500     0.642400 O.2        1 UNL1 0.0\\n     9 C      -5.854900     1.289500     0.836100 C.3        1 UNL1 0.0\\n    10 C      -5.217300     0.122800     0.072600 C.3        1 UNL1 0.0\\n    11 N      -3.811000     0.633900    -0.021000 N.2        1 UNL1 0.0\\n    12 C      -2.549800    -0.151000    -0.255600 C.3        1 UNL1 0.0\\n    13 BR     -2.147100    -0.147100    -2.205500 Br         1 UNL1 0.0\\n    14 BR     -2.731100    -2.001100     0.332000 Br         1 UNL1 0.0\\n    15 C      -2.501500     3.550000     1.595500 C.3        1 UNL1 0.0\\n    16 C      -2.458800     3.571700    -0.916500 C.3        1 UNL1 0.0\\n    17 H       0.151700    -0.942300    -0.014200 H          1 UNL1 0.0\\n    18 H       1.778400     1.299600     0.559300 H          1 UNL1 0.0\\n    19 H       0.951500     1.130400    -1.007200 H          1 UNL1 0.0\\n    20 H      -5.915500     1.085100     1.911600 H          1 UNL1 0.0\\n    21 H      -6.851600     1.568700     0.481500 H          1 UNL1 0.0\\n    22 H      -5.253600    -0.771200     0.702200 H          1 UNL1 0.0\\n    23 H      -1.581900     4.141500     1.673400 H          1 UNL1 0.0\\n    24 H      -3.346000     4.248500     1.610600 H          1 UNL1 0.0\\n    25 H      -2.570600     2.931300     2.498600 H          1 UNL1 0.0\\n    26 H      -1.563000     4.203100    -0.922400 H          1 UNL1 0.0\\n    27 H      -2.443900     2.978700    -1.837100 H          1 UNL1 0.0\\n    28 H      -3.334200     4.229200    -0.969600 H          1 UNL1 0.0\\n    29 C      -5.940300    -0.114700    -1.272800 C.3        1 UNL1 0.0\\n    30 C      -5.821000     1.012100    -2.303300 C.3        1 UNL1 0.0\\n    31 C      -5.628800    -1.473400    -1.901800 C.3        1 UNL1 0.0\\n    32 H      -7.010900    -0.174700    -1.024700 H          1 UNL1 0.0\\n    33 H      -4.798900     1.140500    -2.663900 H          1 UNL1 0.0\\n    34 H      -6.449900     0.798800    -3.175000 H          1 UNL1 0.0\\n    35 H      -6.157400     1.968100    -1.890200 H          1 UNL1 0.0\\n    36 H      -4.620200    -1.530800    -2.306900 H          1 UNL1 0.0\\n    37 H      -5.753900    -2.279500    -1.171500 H          1 UNL1 0.0\\n    38 H      -6.318900    -1.675400    -2.728900 H          1 UNL1 0.0\\n    39 C       0.307200    -0.261100     2.103700 C.3        1 UNL1 0.0\\n    40 C       1.680800    -0.933200     2.268000 C.3        1 UNL1 0.0\\n    41 C      -0.713600    -1.085700     2.887700 C.3        1 UNL1 0.0\\n    42 H       0.359800     0.716600     2.603400 H          1 UNL1 0.0\\n    43 H       1.924000    -1.066400     3.328000 H          1 UNL1 0.0\\n    44 H       2.484200    -0.337600     1.826000 H          1 UNL1 0.0\\n    45 H       1.693500    -1.920600     1.793400 H          1 UNL1 0.0\\n    46 H      -0.425200    -1.141600     3.944100 H          1 UNL1 0.0\\n    47 H      -0.767900    -2.113200     2.517700 H          1 UNL1 0.0\\n    48 H      -1.707500    -0.630300     2.861200 H          1 UNL1 0.0\\n@<TRIPOS>BOND\\n     1      1      2          1\\n     2      2      3          1\\n     3      3      4          1\\n     4      4      5          2\\n     5      5      1          1\\n     6      4      6          1\\n     7      6      7          1\\n     8      7      8          1\\n     9      8      9          1\\n    10      9     10          1\\n    11     10     11          1\\n    12     11      7          2\\n    13     11     12          1\\n    14     12      5          1\\n    15     12     13          1\\n    16     12     14          1\\n    17      6     15          1\\n    18      6     16          1\\n    19      1     17          1\\n    20      2     18          1\\n    21      2     19          1\\n    22      9     20          1\\n    23      9     21          1\\n    24     10     22          1\\n    25     15     23          1\\n    26     15     24          1\\n    27     15     25          1\\n    28     16     26          1\\n    29     16     27          1\\n    30     16     28          1\\n    31     29     30          1\\n    32     29     31          1\\n    33     29     32          1\\n    34     30     33          1\\n    35     30     34          1\\n    36     30     35          1\\n    37     31     36          1\\n    38     31     37          1\\n    39     31     38          1\\n    40     10     29          1\\n    41     39     40          1\\n    42     39     41          1\\n    43     39     42          1\\n    44     40     43          1\\n    45     40     44          1\\n    46     40     45          1\\n    47     41     46          1\\n    48     41     47          1\\n    49     41     48          1\\n    50      1     39          1\\n\",\"mol2\");\n\tviewer_16868452594474807.setStyle({\"stick\": {\"radius\": 0.1}, \"sphere\": {\"scale\": 0.15}});\n\tviewer_16868452594474807.setHoverable({},true,\"\\n            function(atom,viewer,event,container) {\\n                if(!atom.label) {\\n                    atom.label = viewer.addLabel(atom.elem + atom.serial, {position: atom, backgroundColor: 'mintcream', fontColor:'black'});\\n                }\\n            }\\n            \",\"\\n            function(atom,viewer) { \\n                if(atom.label) {\\n                    viewer.removeLabel(atom.label);\\n                    delete atom.label;\\n                }\\n            }\\n            \");\n\tviewer_16868452594474807.zoomTo();\n\tviewer_16868452594474807.setBackgroundColor(null);\nviewer_16868452594474807.render();\n});\n</script>",
      "text/html": [
       "<div id=\"3dmolviewer_16868452594474807\"  style=\"position: relative; width: 1000px; height: 500px;\">\n",
       "        <p id=\"3dmolwarning_16868452594474807\" style=\"background-color:#ffcccc;color:black\">You appear to be running in JupyterLab (or JavaScript failed to load for some other reason).  You need to install the 3dmol extension: <br>\n",
       "        <tt>jupyter labextension install jupyterlab_3dmol</tt></p>\n",
       "        </div>\n",
       "<script>\n",
       "\n",
       "var loadScriptAsync = function(uri){\n",
       "  return new Promise((resolve, reject) => {\n",
       "    //this is to ignore the existence of requirejs amd\n",
       "    var savedexports, savedmodule;\n",
       "    if (typeof exports !== 'undefined') savedexports = exports;\n",
       "    else exports = {}\n",
       "    if (typeof module !== 'undefined') savedmodule = module;\n",
       "    else module = {}\n",
       "\n",
       "    var tag = document.createElement('script');\n",
       "    tag.src = uri;\n",
       "    tag.async = true;\n",
       "    tag.onload = () => {\n",
       "        exports = savedexports;\n",
       "        module = savedmodule;\n",
       "        resolve();\n",
       "    };\n",
       "  var firstScriptTag = document.getElementsByTagName('script')[0];\n",
       "  firstScriptTag.parentNode.insertBefore(tag, firstScriptTag);\n",
       "});\n",
       "};\n",
       "\n",
       "if(typeof $3Dmolpromise === 'undefined') {\n",
       "$3Dmolpromise = null;\n",
       "  $3Dmolpromise = loadScriptAsync('https://cdnjs.cloudflare.com/ajax/libs/3Dmol/2.0.3/3Dmol-min.js');\n",
       "}\n",
       "\n",
       "var viewer_16868452594474807 = null;\n",
       "var warn = document.getElementById(\"3dmolwarning_16868452594474807\");\n",
       "if(warn) {\n",
       "    warn.parentNode.removeChild(warn);\n",
       "}\n",
       "$3Dmolpromise.then(function() {\n",
       "viewer_16868452594474807 = $3Dmol.createViewer(document.getElementById(\"3dmolviewer_16868452594474807\"),{backgroundColor:\"white\"});\n",
       "viewer_16868452594474807.zoomTo();\n",
       "\tviewer_16868452594474807.addModel(\"# Produced with molli package\\n@<TRIPOS>MOLECULE\\n1_3_3\\n48 50 0 0 0\\nSMALL\\nUSER_CHARGES\\n\\n@<TRIPOS>ATOM\\n     1 C       0.000700    -0.044000     0.591400 C.3        1 UNL1 0.0\\n     2 C       0.807700     1.156100     0.079800 C.3        1 UNL1 0.0\\n     3 O      -0.053700     2.269500     0.395300 O.2        1 UNL1 0.0\\n     4 C      -1.301800     1.805800     0.378800 C.2        1 UNL1 0.0\\n     5 N      -1.361900     0.530800     0.370200 N.2        1 UNL1 0.0\\n     6 C      -2.508000     2.680700     0.328200 C.3        1 UNL1 0.0\\n     7 C      -3.765300     1.870700     0.298400 C.2        1 UNL1 0.0\\n     8 O      -4.945300     2.379500     0.642400 O.2        1 UNL1 0.0\\n     9 C      -5.854900     1.289500     0.836100 C.3        1 UNL1 0.0\\n    10 C      -5.217300     0.122800     0.072600 C.3        1 UNL1 0.0\\n    11 N      -3.811000     0.633900    -0.021000 N.2        1 UNL1 0.0\\n    12 C      -2.549800    -0.151000    -0.255600 C.3        1 UNL1 0.0\\n    13 BR     -2.147100    -0.147100    -2.205500 Br         1 UNL1 0.0\\n    14 BR     -2.731100    -2.001100     0.332000 Br         1 UNL1 0.0\\n    15 C      -2.501500     3.550000     1.595500 C.3        1 UNL1 0.0\\n    16 C      -2.458800     3.571700    -0.916500 C.3        1 UNL1 0.0\\n    17 H       0.151700    -0.942300    -0.014200 H          1 UNL1 0.0\\n    18 H       1.778400     1.299600     0.559300 H          1 UNL1 0.0\\n    19 H       0.951500     1.130400    -1.007200 H          1 UNL1 0.0\\n    20 H      -5.915500     1.085100     1.911600 H          1 UNL1 0.0\\n    21 H      -6.851600     1.568700     0.481500 H          1 UNL1 0.0\\n    22 H      -5.253600    -0.771200     0.702200 H          1 UNL1 0.0\\n    23 H      -1.581900     4.141500     1.673400 H          1 UNL1 0.0\\n    24 H      -3.346000     4.248500     1.610600 H          1 UNL1 0.0\\n    25 H      -2.570600     2.931300     2.498600 H          1 UNL1 0.0\\n    26 H      -1.563000     4.203100    -0.922400 H          1 UNL1 0.0\\n    27 H      -2.443900     2.978700    -1.837100 H          1 UNL1 0.0\\n    28 H      -3.334200     4.229200    -0.969600 H          1 UNL1 0.0\\n    29 C      -5.940300    -0.114700    -1.272800 C.3        1 UNL1 0.0\\n    30 C      -5.821000     1.012100    -2.303300 C.3        1 UNL1 0.0\\n    31 C      -5.628800    -1.473400    -1.901800 C.3        1 UNL1 0.0\\n    32 H      -7.010900    -0.174700    -1.024700 H          1 UNL1 0.0\\n    33 H      -4.798900     1.140500    -2.663900 H          1 UNL1 0.0\\n    34 H      -6.449900     0.798800    -3.175000 H          1 UNL1 0.0\\n    35 H      -6.157400     1.968100    -1.890200 H          1 UNL1 0.0\\n    36 H      -4.620200    -1.530800    -2.306900 H          1 UNL1 0.0\\n    37 H      -5.753900    -2.279500    -1.171500 H          1 UNL1 0.0\\n    38 H      -6.318900    -1.675400    -2.728900 H          1 UNL1 0.0\\n    39 C       0.307200    -0.261100     2.103700 C.3        1 UNL1 0.0\\n    40 C       1.680800    -0.933200     2.268000 C.3        1 UNL1 0.0\\n    41 C      -0.713600    -1.085700     2.887700 C.3        1 UNL1 0.0\\n    42 H       0.359800     0.716600     2.603400 H          1 UNL1 0.0\\n    43 H       1.924000    -1.066400     3.328000 H          1 UNL1 0.0\\n    44 H       2.484200    -0.337600     1.826000 H          1 UNL1 0.0\\n    45 H       1.693500    -1.920600     1.793400 H          1 UNL1 0.0\\n    46 H      -0.425200    -1.141600     3.944100 H          1 UNL1 0.0\\n    47 H      -0.767900    -2.113200     2.517700 H          1 UNL1 0.0\\n    48 H      -1.707500    -0.630300     2.861200 H          1 UNL1 0.0\\n@<TRIPOS>BOND\\n     1      1      2          1\\n     2      2      3          1\\n     3      3      4          1\\n     4      4      5          2\\n     5      5      1          1\\n     6      4      6          1\\n     7      6      7          1\\n     8      7      8          1\\n     9      8      9          1\\n    10      9     10          1\\n    11     10     11          1\\n    12     11      7          2\\n    13     11     12          1\\n    14     12      5          1\\n    15     12     13          1\\n    16     12     14          1\\n    17      6     15          1\\n    18      6     16          1\\n    19      1     17          1\\n    20      2     18          1\\n    21      2     19          1\\n    22      9     20          1\\n    23      9     21          1\\n    24     10     22          1\\n    25     15     23          1\\n    26     15     24          1\\n    27     15     25          1\\n    28     16     26          1\\n    29     16     27          1\\n    30     16     28          1\\n    31     29     30          1\\n    32     29     31          1\\n    33     29     32          1\\n    34     30     33          1\\n    35     30     34          1\\n    36     30     35          1\\n    37     31     36          1\\n    38     31     37          1\\n    39     31     38          1\\n    40     10     29          1\\n    41     39     40          1\\n    42     39     41          1\\n    43     39     42          1\\n    44     40     43          1\\n    45     40     44          1\\n    46     40     45          1\\n    47     41     46          1\\n    48     41     47          1\\n    49     41     48          1\\n    50      1     39          1\\n\",\"mol2\");\n",
       "\tviewer_16868452594474807.setStyle({\"stick\": {\"radius\": 0.1}, \"sphere\": {\"scale\": 0.15}});\n",
       "\tviewer_16868452594474807.setHoverable({},true,\"\\n            function(atom,viewer,event,container) {\\n                if(!atom.label) {\\n                    atom.label = viewer.addLabel(atom.elem + atom.serial, {position: atom, backgroundColor: 'mintcream', fontColor:'black'});\\n                }\\n            }\\n            \",\"\\n            function(atom,viewer) { \\n                if(atom.label) {\\n                    viewer.removeLabel(atom.label);\\n                    delete atom.label;\\n                }\\n            }\\n            \");\n",
       "\tviewer_16868452594474807.zoomTo();\n",
       "\tviewer_16868452594474807.setBackgroundColor(null);\n",
       "viewer_16868452594474807.render();\n",
       "});\n",
       "</script>"
      ]
     },
     "metadata": {},
     "output_type": "display_data"
    },
    {
     "data": {
      "text/plain": [
       "Conformer(name='1_3_3', formula='C16 H26 Br2 N2 O2')"
      ]
     },
     "execution_count": 29,
     "metadata": {},
     "output_type": "execute_result"
    }
   ],
   "source": [
    "print(clib[0])\n",
    "\n",
    "clib['1_3_3'][0]"
   ]
  },
  {
   "cell_type": "code",
   "execution_count": 30,
   "metadata": {},
   "outputs": [
    {
     "data": {
      "application/3dmoljs_load.v0": "<div id=\"3dmolviewer_16868452604066465\"  style=\"position: relative; width: 1000px; height: 500px;\">\n        <p id=\"3dmolwarning_16868452604066465\" style=\"background-color:#ffcccc;color:black\">You appear to be running in JupyterLab (or JavaScript failed to load for some other reason).  You need to install the 3dmol extension: <br>\n        <tt>jupyter labextension install jupyterlab_3dmol</tt></p>\n        </div>\n<script>\n\nvar loadScriptAsync = function(uri){\n  return new Promise((resolve, reject) => {\n    //this is to ignore the existence of requirejs amd\n    var savedexports, savedmodule;\n    if (typeof exports !== 'undefined') savedexports = exports;\n    else exports = {}\n    if (typeof module !== 'undefined') savedmodule = module;\n    else module = {}\n\n    var tag = document.createElement('script');\n    tag.src = uri;\n    tag.async = true;\n    tag.onload = () => {\n        exports = savedexports;\n        module = savedmodule;\n        resolve();\n    };\n  var firstScriptTag = document.getElementsByTagName('script')[0];\n  firstScriptTag.parentNode.insertBefore(tag, firstScriptTag);\n});\n};\n\nif(typeof $3Dmolpromise === 'undefined') {\n$3Dmolpromise = null;\n  $3Dmolpromise = loadScriptAsync('https://cdnjs.cloudflare.com/ajax/libs/3Dmol/2.0.3/3Dmol-min.js');\n}\n\nvar viewer_16868452604066465 = null;\nvar warn = document.getElementById(\"3dmolwarning_16868452604066465\");\nif(warn) {\n    warn.parentNode.removeChild(warn);\n}\n$3Dmolpromise.then(function() {\nviewer_16868452604066465 = $3Dmol.createViewer(document.getElementById(\"3dmolviewer_16868452604066465\"),{backgroundColor:\"white\"});\nviewer_16868452604066465.zoomTo();\n\tviewer_16868452604066465.addModel(\"# Produced with molli package\\n@<TRIPOS>MOLECULE\\n1_3_3\\n48 50 0 0 0\\nSMALL\\nUSER_CHARGES\\n\\n@<TRIPOS>ATOM\\n     1 C       0.018000    -0.048200     0.525500 C.3        1 UNL1 0.0\\n     2 C       0.843600     1.206500     0.244000 C.3        1 UNL1 0.0\\n     3 O      -0.069200     2.282300     0.523200 O.2        1 UNL1 0.0\\n     4 C      -1.306000     1.802100     0.407200 C.2        1 UNL1 0.0\\n     5 N      -1.350700     0.528200     0.341600 N.2        1 UNL1 0.0\\n     6 C      -2.510500     2.677900     0.328100 C.3        1 UNL1 0.0\\n     7 C      -3.771400     1.881100     0.269200 C.2        1 UNL1 0.0\\n     8 O      -4.968900     2.418700     0.484900 O.2        1 UNL1 0.0\\n     9 C      -5.931400     1.359500     0.595500 C.3        1 UNL1 0.0\\n    10 C      -5.223400     0.137200     0.012100 C.3        1 UNL1 0.0\\n    11 N      -3.809400     0.632600     0.008500 N.2        1 UNL1 0.0\\n    12 C      -2.562700    -0.181700    -0.186100 C.3        1 UNL1 0.0\\n    13 BR     -2.772500    -1.945600     0.626800 Br         1 UNL1 0.0\\n    14 BR     -2.235000    -0.384800    -2.130400 Br         1 UNL1 0.0\\n    15 C      -2.420700     3.548100    -0.930500 C.3        1 UNL1 0.0\\n    16 C      -2.539600     3.562800     1.583000 C.3        1 UNL1 0.0\\n    17 H       0.195000    -0.816300    -0.234700 H          1 UNL1 0.0\\n    18 H       1.741700     1.310300     0.857400 H          1 UNL1 0.0\\n    19 H       1.134000     1.275600    -0.811100 H          1 UNL1 0.0\\n    20 H      -6.854400     1.642200     0.083700 H          1 UNL1 0.0\\n    21 H      -6.159600     1.222400     1.659000 H          1 UNL1 0.0\\n    22 H      -5.305800    -0.693900     0.719400 H          1 UNL1 0.0\\n    23 H      -2.379500     2.935000    -1.838100 H          1 UNL1 0.0\\n    24 H      -3.291200     4.207800    -1.022800 H          1 UNL1 0.0\\n    25 H      -1.522500     4.176000    -0.920700 H          1 UNL1 0.0\\n    26 H      -3.387500     4.257100     1.568100 H          1 UNL1 0.0\\n    27 H      -2.628800     2.954900     2.491500 H          1 UNL1 0.0\\n    28 H      -1.625400     4.160200     1.676900 H          1 UNL1 0.0\\n    29 C      -5.713400    -0.292700    -1.385400 C.3        1 UNL1 0.0\\n    30 C      -7.090800    -0.961500    -1.277600 C.3        1 UNL1 0.0\\n    31 C      -5.782700     0.836100    -2.422300 C.3        1 UNL1 0.0\\n    32 H      -5.037100    -1.061700    -1.774300 H          1 UNL1 0.0\\n    33 H      -7.856600    -0.262300    -0.927200 H          1 UNL1 0.0\\n    34 H      -7.410100    -1.346900    -2.252100 H          1 UNL1 0.0\\n    35 H      -7.058600    -1.807000    -0.582100 H          1 UNL1 0.0\\n    36 H      -6.547500     1.577400    -2.170800 H          1 UNL1 0.0\\n    37 H      -4.828200     1.359200    -2.524100 H          1 UNL1 0.0\\n    38 H      -6.037300     0.428800    -3.407300 H          1 UNL1 0.0\\n    39 C       0.220400    -0.620500     1.952900 C.3        1 UNL1 0.0\\n    40 C       0.071000     0.390100     3.097800 C.3        1 UNL1 0.0\\n    41 C       1.589400    -1.307100     2.055000 C.3        1 UNL1 0.0\\n    42 H      -0.519500    -1.403300     2.137700 H          1 UNL1 0.0\\n    43 H       0.811000     1.193900     3.037100 H          1 UNL1 0.0\\n    44 H      -0.927300     0.837700     3.108600 H          1 UNL1 0.0\\n    45 H       0.209000    -0.107500     4.064500 H          1 UNL1 0.0\\n    46 H       1.696300    -1.811800     3.021500 H          1 UNL1 0.0\\n    47 H       2.413300    -0.593100     1.960700 H          1 UNL1 0.0\\n    48 H       1.703000    -2.065100     1.272700 H          1 UNL1 0.0\\n@<TRIPOS>BOND\\n     1      1      2          1\\n     2      2      3          1\\n     3      3      4          1\\n     4      4      5          2\\n     5      5      1          1\\n     6      4      6          1\\n     7      6      7          1\\n     8      7      8          1\\n     9      8      9          1\\n    10      9     10          1\\n    11     10     11          1\\n    12     11      7          2\\n    13     11     12          1\\n    14     12      5          1\\n    15     12     13          1\\n    16     12     14          1\\n    17      6     15          1\\n    18      6     16          1\\n    19      1     17          1\\n    20      2     18          1\\n    21      2     19          1\\n    22      9     20          1\\n    23      9     21          1\\n    24     10     22          1\\n    25     15     23          1\\n    26     15     24          1\\n    27     15     25          1\\n    28     16     26          1\\n    29     16     27          1\\n    30     16     28          1\\n    31     29     30          1\\n    32     29     31          1\\n    33     29     32          1\\n    34     30     33          1\\n    35     30     34          1\\n    36     30     35          1\\n    37     31     36          1\\n    38     31     37          1\\n    39     31     38          1\\n    40     10     29          1\\n    41     39     40          1\\n    42     39     41          1\\n    43     39     42          1\\n    44     40     43          1\\n    45     40     44          1\\n    46     40     45          1\\n    47     41     46          1\\n    48     41     47          1\\n    49     41     48          1\\n    50      1     39          1\\n\",\"mol2\");\n\tviewer_16868452604066465.setStyle({\"stick\": {\"radius\": 0.1}, \"sphere\": {\"scale\": 0.15}});\n\tviewer_16868452604066465.setHoverable({},true,\"\\n            function(atom,viewer,event,container) {\\n                if(!atom.label) {\\n                    atom.label = viewer.addLabel(atom.elem + atom.serial, {position: atom, backgroundColor: 'mintcream', fontColor:'black'});\\n                }\\n            }\\n            \",\"\\n            function(atom,viewer) { \\n                if(atom.label) {\\n                    viewer.removeLabel(atom.label);\\n                    delete atom.label;\\n                }\\n            }\\n            \");\n\tviewer_16868452604066465.zoomTo();\n\tviewer_16868452604066465.setBackgroundColor(null);\nviewer_16868452604066465.render();\n});\n</script>",
      "text/html": [
       "<div id=\"3dmolviewer_16868452604066465\"  style=\"position: relative; width: 1000px; height: 500px;\">\n",
       "        <p id=\"3dmolwarning_16868452604066465\" style=\"background-color:#ffcccc;color:black\">You appear to be running in JupyterLab (or JavaScript failed to load for some other reason).  You need to install the 3dmol extension: <br>\n",
       "        <tt>jupyter labextension install jupyterlab_3dmol</tt></p>\n",
       "        </div>\n",
       "<script>\n",
       "\n",
       "var loadScriptAsync = function(uri){\n",
       "  return new Promise((resolve, reject) => {\n",
       "    //this is to ignore the existence of requirejs amd\n",
       "    var savedexports, savedmodule;\n",
       "    if (typeof exports !== 'undefined') savedexports = exports;\n",
       "    else exports = {}\n",
       "    if (typeof module !== 'undefined') savedmodule = module;\n",
       "    else module = {}\n",
       "\n",
       "    var tag = document.createElement('script');\n",
       "    tag.src = uri;\n",
       "    tag.async = true;\n",
       "    tag.onload = () => {\n",
       "        exports = savedexports;\n",
       "        module = savedmodule;\n",
       "        resolve();\n",
       "    };\n",
       "  var firstScriptTag = document.getElementsByTagName('script')[0];\n",
       "  firstScriptTag.parentNode.insertBefore(tag, firstScriptTag);\n",
       "});\n",
       "};\n",
       "\n",
       "if(typeof $3Dmolpromise === 'undefined') {\n",
       "$3Dmolpromise = null;\n",
       "  $3Dmolpromise = loadScriptAsync('https://cdnjs.cloudflare.com/ajax/libs/3Dmol/2.0.3/3Dmol-min.js');\n",
       "}\n",
       "\n",
       "var viewer_16868452604066465 = null;\n",
       "var warn = document.getElementById(\"3dmolwarning_16868452604066465\");\n",
       "if(warn) {\n",
       "    warn.parentNode.removeChild(warn);\n",
       "}\n",
       "$3Dmolpromise.then(function() {\n",
       "viewer_16868452604066465 = $3Dmol.createViewer(document.getElementById(\"3dmolviewer_16868452604066465\"),{backgroundColor:\"white\"});\n",
       "viewer_16868452604066465.zoomTo();\n",
       "\tviewer_16868452604066465.addModel(\"# Produced with molli package\\n@<TRIPOS>MOLECULE\\n1_3_3\\n48 50 0 0 0\\nSMALL\\nUSER_CHARGES\\n\\n@<TRIPOS>ATOM\\n     1 C       0.018000    -0.048200     0.525500 C.3        1 UNL1 0.0\\n     2 C       0.843600     1.206500     0.244000 C.3        1 UNL1 0.0\\n     3 O      -0.069200     2.282300     0.523200 O.2        1 UNL1 0.0\\n     4 C      -1.306000     1.802100     0.407200 C.2        1 UNL1 0.0\\n     5 N      -1.350700     0.528200     0.341600 N.2        1 UNL1 0.0\\n     6 C      -2.510500     2.677900     0.328100 C.3        1 UNL1 0.0\\n     7 C      -3.771400     1.881100     0.269200 C.2        1 UNL1 0.0\\n     8 O      -4.968900     2.418700     0.484900 O.2        1 UNL1 0.0\\n     9 C      -5.931400     1.359500     0.595500 C.3        1 UNL1 0.0\\n    10 C      -5.223400     0.137200     0.012100 C.3        1 UNL1 0.0\\n    11 N      -3.809400     0.632600     0.008500 N.2        1 UNL1 0.0\\n    12 C      -2.562700    -0.181700    -0.186100 C.3        1 UNL1 0.0\\n    13 BR     -2.772500    -1.945600     0.626800 Br         1 UNL1 0.0\\n    14 BR     -2.235000    -0.384800    -2.130400 Br         1 UNL1 0.0\\n    15 C      -2.420700     3.548100    -0.930500 C.3        1 UNL1 0.0\\n    16 C      -2.539600     3.562800     1.583000 C.3        1 UNL1 0.0\\n    17 H       0.195000    -0.816300    -0.234700 H          1 UNL1 0.0\\n    18 H       1.741700     1.310300     0.857400 H          1 UNL1 0.0\\n    19 H       1.134000     1.275600    -0.811100 H          1 UNL1 0.0\\n    20 H      -6.854400     1.642200     0.083700 H          1 UNL1 0.0\\n    21 H      -6.159600     1.222400     1.659000 H          1 UNL1 0.0\\n    22 H      -5.305800    -0.693900     0.719400 H          1 UNL1 0.0\\n    23 H      -2.379500     2.935000    -1.838100 H          1 UNL1 0.0\\n    24 H      -3.291200     4.207800    -1.022800 H          1 UNL1 0.0\\n    25 H      -1.522500     4.176000    -0.920700 H          1 UNL1 0.0\\n    26 H      -3.387500     4.257100     1.568100 H          1 UNL1 0.0\\n    27 H      -2.628800     2.954900     2.491500 H          1 UNL1 0.0\\n    28 H      -1.625400     4.160200     1.676900 H          1 UNL1 0.0\\n    29 C      -5.713400    -0.292700    -1.385400 C.3        1 UNL1 0.0\\n    30 C      -7.090800    -0.961500    -1.277600 C.3        1 UNL1 0.0\\n    31 C      -5.782700     0.836100    -2.422300 C.3        1 UNL1 0.0\\n    32 H      -5.037100    -1.061700    -1.774300 H          1 UNL1 0.0\\n    33 H      -7.856600    -0.262300    -0.927200 H          1 UNL1 0.0\\n    34 H      -7.410100    -1.346900    -2.252100 H          1 UNL1 0.0\\n    35 H      -7.058600    -1.807000    -0.582100 H          1 UNL1 0.0\\n    36 H      -6.547500     1.577400    -2.170800 H          1 UNL1 0.0\\n    37 H      -4.828200     1.359200    -2.524100 H          1 UNL1 0.0\\n    38 H      -6.037300     0.428800    -3.407300 H          1 UNL1 0.0\\n    39 C       0.220400    -0.620500     1.952900 C.3        1 UNL1 0.0\\n    40 C       0.071000     0.390100     3.097800 C.3        1 UNL1 0.0\\n    41 C       1.589400    -1.307100     2.055000 C.3        1 UNL1 0.0\\n    42 H      -0.519500    -1.403300     2.137700 H          1 UNL1 0.0\\n    43 H       0.811000     1.193900     3.037100 H          1 UNL1 0.0\\n    44 H      -0.927300     0.837700     3.108600 H          1 UNL1 0.0\\n    45 H       0.209000    -0.107500     4.064500 H          1 UNL1 0.0\\n    46 H       1.696300    -1.811800     3.021500 H          1 UNL1 0.0\\n    47 H       2.413300    -0.593100     1.960700 H          1 UNL1 0.0\\n    48 H       1.703000    -2.065100     1.272700 H          1 UNL1 0.0\\n@<TRIPOS>BOND\\n     1      1      2          1\\n     2      2      3          1\\n     3      3      4          1\\n     4      4      5          2\\n     5      5      1          1\\n     6      4      6          1\\n     7      6      7          1\\n     8      7      8          1\\n     9      8      9          1\\n    10      9     10          1\\n    11     10     11          1\\n    12     11      7          2\\n    13     11     12          1\\n    14     12      5          1\\n    15     12     13          1\\n    16     12     14          1\\n    17      6     15          1\\n    18      6     16          1\\n    19      1     17          1\\n    20      2     18          1\\n    21      2     19          1\\n    22      9     20          1\\n    23      9     21          1\\n    24     10     22          1\\n    25     15     23          1\\n    26     15     24          1\\n    27     15     25          1\\n    28     16     26          1\\n    29     16     27          1\\n    30     16     28          1\\n    31     29     30          1\\n    32     29     31          1\\n    33     29     32          1\\n    34     30     33          1\\n    35     30     34          1\\n    36     30     35          1\\n    37     31     36          1\\n    38     31     37          1\\n    39     31     38          1\\n    40     10     29          1\\n    41     39     40          1\\n    42     39     41          1\\n    43     39     42          1\\n    44     40     43          1\\n    45     40     44          1\\n    46     40     45          1\\n    47     41     46          1\\n    48     41     47          1\\n    49     41     48          1\\n    50      1     39          1\\n\",\"mol2\");\n",
       "\tviewer_16868452604066465.setStyle({\"stick\": {\"radius\": 0.1}, \"sphere\": {\"scale\": 0.15}});\n",
       "\tviewer_16868452604066465.setHoverable({},true,\"\\n            function(atom,viewer,event,container) {\\n                if(!atom.label) {\\n                    atom.label = viewer.addLabel(atom.elem + atom.serial, {position: atom, backgroundColor: 'mintcream', fontColor:'black'});\\n                }\\n            }\\n            \",\"\\n            function(atom,viewer) { \\n                if(atom.label) {\\n                    viewer.removeLabel(atom.label);\\n                    delete atom.label;\\n                }\\n            }\\n            \");\n",
       "\tviewer_16868452604066465.zoomTo();\n",
       "\tviewer_16868452604066465.setBackgroundColor(null);\n",
       "viewer_16868452604066465.render();\n",
       "});\n",
       "</script>"
      ]
     },
     "metadata": {},
     "output_type": "display_data"
    },
    {
     "data": {
      "text/plain": [
       "Conformer(name='1_3_3', formula='C16 H26 Br2 N2 O2')"
      ]
     },
     "execution_count": 30,
     "metadata": {},
     "output_type": "execute_result"
    }
   ],
   "source": [
    "clib['1_3_3'][1]"
   ]
  },
  {
   "cell_type": "code",
   "execution_count": 31,
   "metadata": {},
   "outputs": [
    {
     "data": {
      "application/3dmoljs_load.v0": "<div id=\"3dmolviewer_1686845261537698\"  style=\"position: relative; width: 1000px; height: 500px;\">\n        <p id=\"3dmolwarning_1686845261537698\" style=\"background-color:#ffcccc;color:black\">You appear to be running in JupyterLab (or JavaScript failed to load for some other reason).  You need to install the 3dmol extension: <br>\n        <tt>jupyter labextension install jupyterlab_3dmol</tt></p>\n        </div>\n<script>\n\nvar loadScriptAsync = function(uri){\n  return new Promise((resolve, reject) => {\n    //this is to ignore the existence of requirejs amd\n    var savedexports, savedmodule;\n    if (typeof exports !== 'undefined') savedexports = exports;\n    else exports = {}\n    if (typeof module !== 'undefined') savedmodule = module;\n    else module = {}\n\n    var tag = document.createElement('script');\n    tag.src = uri;\n    tag.async = true;\n    tag.onload = () => {\n        exports = savedexports;\n        module = savedmodule;\n        resolve();\n    };\n  var firstScriptTag = document.getElementsByTagName('script')[0];\n  firstScriptTag.parentNode.insertBefore(tag, firstScriptTag);\n});\n};\n\nif(typeof $3Dmolpromise === 'undefined') {\n$3Dmolpromise = null;\n  $3Dmolpromise = loadScriptAsync('https://cdnjs.cloudflare.com/ajax/libs/3Dmol/2.0.3/3Dmol-min.js');\n}\n\nvar viewer_1686845261537698 = null;\nvar warn = document.getElementById(\"3dmolwarning_1686845261537698\");\nif(warn) {\n    warn.parentNode.removeChild(warn);\n}\n$3Dmolpromise.then(function() {\nviewer_1686845261537698 = $3Dmol.createViewer(document.getElementById(\"3dmolviewer_1686845261537698\"),{backgroundColor:\"white\"});\nviewer_1686845261537698.zoomTo();\n\tviewer_1686845261537698.addModel(\"# Produced with molli package\\n@<TRIPOS>MOLECULE\\n3_6_6\\n74 78 0 0 0\\nSMALL\\nUSER_CHARGES\\n\\n@<TRIPOS>ATOM\\n     1 C       0.128100     0.067800     0.216400 C.3        1 UNL1 0.0\\n     2 C       0.811800     1.245500     0.949300 C.3        1 UNL1 0.0\\n     3 O      -0.101200     2.317700     0.625800 O.2        1 UNL1 0.0\\n     4 C      -1.316300     1.797900     0.449800 C.2        1 UNL1 0.0\\n     5 N      -1.318300     0.528300     0.311900 N.2        1 UNL1 0.0\\n     6 C      -2.511500     2.671600     0.306800 C.3        1 UNL1 0.0\\n     7 C      -3.771700     1.887600     0.259900 C.2        1 UNL1 0.0\\n     8 O      -4.954800     2.455800     0.472100 O.2        1 UNL1 0.0\\n     9 C      -5.933100     1.422100     0.678300 C.3        1 UNL1 0.0\\n    10 C      -5.275900     0.164400     0.058400 C.3        1 UNL1 0.0\\n    11 N      -3.830200     0.636500     0.026200 N.2        1 UNL1 0.0\\n    12 C      -2.579500    -0.224000    -0.063900 C.3        1 UNL1 0.0\\n    13 BR     -2.833100    -1.678700     1.215000 Br         1 UNL1 0.0\\n    14 BR     -2.345500    -0.758300    -1.921600 Br         1 UNL1 0.0\\n    15 C      -2.394800     3.465100    -1.001000 C.3        1 UNL1 0.0\\n    16 C      -2.559400     3.632500     1.503900 C.3        1 UNL1 0.0\\n    17 C      -7.323000     1.902200     0.213000 C.3        1 UNL1 0.0\\n    18 C      -7.949400     2.796800     1.294800 C.3        1 UNL1 0.0\\n    19 C      -7.302900     2.698800    -1.097500 C.3        1 UNL1 0.0\\n    20 C       0.981100     1.196500     2.494900 C.3        1 UNL1 0.0\\n    21 C       1.157900     2.613000     3.069400 C.3        1 UNL1 0.0\\n    22 C       2.179500     0.354200     2.945100 C.3        1 UNL1 0.0\\n    23 H       0.371300     0.171500    -0.848300 H          1 UNL1 0.0\\n    24 H       1.776400     1.470400     0.477300 H          1 UNL1 0.0\\n    25 H      -5.976000     1.260300     1.765800 H          1 UNL1 0.0\\n    26 H      -5.370600    -0.637900     0.792800 H          1 UNL1 0.0\\n    27 H      -1.512100     4.113700    -0.999900 H          1 UNL1 0.0\\n    28 H      -3.276400     4.095200    -1.162700 H          1 UNL1 0.0\\n    29 H      -2.311200     2.795500    -1.866100 H          1 UNL1 0.0\\n    30 H      -3.418100     4.310300     1.446200 H          1 UNL1 0.0\\n    31 H      -1.657500     4.253100     1.559500 H          1 UNL1 0.0\\n    32 H      -2.638400     3.081900     2.448700 H          1 UNL1 0.0\\n    33 H      -7.986900     1.036700     0.105200 H          1 UNL1 0.0\\n    34 H      -7.331800     3.679200     1.493100 H          1 UNL1 0.0\\n    35 H      -8.067300     2.245900     2.233400 H          1 UNL1 0.0\\n    36 H      -8.942800     3.139600     0.988000 H          1 UNL1 0.0\\n    37 H      -6.757100     3.641800    -0.987400 H          1 UNL1 0.0\\n    38 H      -6.843800     2.143900    -1.916400 H          1 UNL1 0.0\\n    39 H      -8.323600     2.945800    -1.407200 H          1 UNL1 0.0\\n    40 H       0.074800     0.781800     2.951300 H          1 UNL1 0.0\\n    41 H       2.006700     3.123400     2.601800 H          1 UNL1 0.0\\n    42 H       0.264300     3.225400     2.912700 H          1 UNL1 0.0\\n    43 H       1.335300     2.579200     4.149200 H          1 UNL1 0.0\\n    44 H       3.072400     0.586600     2.355900 H          1 UNL1 0.0\\n    45 H       2.417500     0.538100     3.998500 H          1 UNL1 0.0\\n    46 H       1.979300    -0.716000     2.868000 H          1 UNL1 0.0\\n    47 C      -5.813000    -0.252300    -1.319200 C.3        1 UNL1 0.0\\n    48 C      -5.576500    -1.688200    -1.733100 C.ar       1 UNL1 0.0\\n    49 C      -5.314800    -1.968700    -3.085600 C.ar       1 UNL1 0.0\\n    50 C      -5.100900    -3.278300    -3.517900 C.ar       1 UNL1 0.0\\n    51 C      -5.176400    -4.330500    -2.612200 C.ar       1 UNL1 0.0\\n    52 C      -5.493100    -4.076300    -1.280900 C.ar       1 UNL1 0.0\\n    53 C      -5.710600    -2.766100    -0.845900 C.ar       1 UNL1 0.0\\n    54 H      -6.902900    -0.151300    -1.344800 H          1 UNL1 0.0\\n    55 H      -5.411400     0.419600    -2.089100 H          1 UNL1 0.0\\n    56 H      -5.280400    -1.173600    -3.829800 H          1 UNL1 0.0\\n    57 H      -4.896200    -3.481600    -4.567700 H          1 UNL1 0.0\\n    58 H      -5.026400    -5.353400    -2.953300 H          1 UNL1 0.0\\n    59 H      -5.603300    -4.911200    -0.590100 H          1 UNL1 0.0\\n    60 H      -6.024400    -2.634700     0.186700 H          1 UNL1 0.0\\n    61 C       0.523900    -1.316500     0.721400 C.3        1 UNL1 0.0\\n    62 C       0.298600    -2.473400    -0.224700 C.ar       1 UNL1 0.0\\n    63 C       0.732200    -2.428800    -1.559200 C.ar       1 UNL1 0.0\\n    64 C       0.524500    -3.515300    -2.412400 C.ar       1 UNL1 0.0\\n    65 C      -0.087600    -4.671000    -1.937500 C.ar       1 UNL1 0.0\\n    66 C      -0.463300    -4.755000    -0.601100 C.ar       1 UNL1 0.0\\n    67 C      -0.251400    -3.672600     0.253700 C.ar       1 UNL1 0.0\\n    68 H       1.609500    -1.324600     0.875700 H          1 UNL1 0.0\\n    69 H       0.069000    -1.518800     1.695700 H          1 UNL1 0.0\\n    70 H       1.267900    -1.572700    -1.963900 H          1 UNL1 0.0\\n    71 H       0.865500    -3.475200    -3.445600 H          1 UNL1 0.0\\n    72 H      -0.232700    -5.523200    -2.599200 H          1 UNL1 0.0\\n    73 H      -0.893400    -5.678800    -0.219200 H          1 UNL1 0.0\\n    74 H      -0.507200    -3.798300     1.304600 H          1 UNL1 0.0\\n@<TRIPOS>BOND\\n     1      1      2          1\\n     2      2      3          1\\n     3      3      4          1\\n     4      4      5          2\\n     5      5      1          1\\n     6      4      6          1\\n     7      6      7          1\\n     8      7      8          1\\n     9      8      9          1\\n    10      9     10          1\\n    11     10     11          1\\n    12     11      7          2\\n    13     11     12          1\\n    14     12      5          1\\n    15     12     13          1\\n    16     12     14          1\\n    17      6     15          1\\n    18      6     16          1\\n    19     17     18          1\\n    20     17     19          1\\n    21      9     17          1\\n    22     20     21          1\\n    23     20     22          1\\n    24      2     20          1\\n    25      1     23          1\\n    26      2     24          1\\n    27      9     25          1\\n    28     10     26          1\\n    29     15     27          1\\n    30     15     28          1\\n    31     15     29          1\\n    32     16     30          1\\n    33     16     31          1\\n    34     16     32          1\\n    35     17     33          1\\n    36     18     34          1\\n    37     18     35          1\\n    38     18     36          1\\n    39     19     37          1\\n    40     19     38          1\\n    41     19     39          1\\n    42     20     40          1\\n    43     21     41          1\\n    44     21     42          1\\n    45     21     43          1\\n    46     22     44          1\\n    47     22     45          1\\n    48     22     46          1\\n    49     47     48          1\\n    50     48     49         ar\\n    51     49     50         ar\\n    52     50     51         ar\\n    53     51     52         ar\\n    54     52     53         ar\\n    55     53     48         ar\\n    56     47     54          1\\n    57     47     55          1\\n    58     49     56          1\\n    59     50     57          1\\n    60     51     58          1\\n    61     52     59          1\\n    62     53     60          1\\n    63     10     47          1\\n    64     61     62          1\\n    65     62     63         ar\\n    66     63     64         ar\\n    67     64     65         ar\\n    68     65     66         ar\\n    69     66     67         ar\\n    70     67     62         ar\\n    71     61     68          1\\n    72     61     69          1\\n    73     63     70          1\\n    74     64     71          1\\n    75     65     72          1\\n    76     66     73          1\\n    77     67     74          1\\n    78      1     61          1\\n\",\"mol2\");\n\tviewer_1686845261537698.setStyle({\"stick\": {\"radius\": 0.1}, \"sphere\": {\"scale\": 0.15}});\n\tviewer_1686845261537698.setHoverable({},true,\"\\n            function(atom,viewer,event,container) {\\n                if(!atom.label) {\\n                    atom.label = viewer.addLabel(atom.elem + atom.serial, {position: atom, backgroundColor: 'mintcream', fontColor:'black'});\\n                }\\n            }\\n            \",\"\\n            function(atom,viewer) { \\n                if(atom.label) {\\n                    viewer.removeLabel(atom.label);\\n                    delete atom.label;\\n                }\\n            }\\n            \");\n\tviewer_1686845261537698.zoomTo();\n\tviewer_1686845261537698.setBackgroundColor(null);\nviewer_1686845261537698.render();\n});\n</script>",
      "text/html": [
       "<div id=\"3dmolviewer_1686845261537698\"  style=\"position: relative; width: 1000px; height: 500px;\">\n",
       "        <p id=\"3dmolwarning_1686845261537698\" style=\"background-color:#ffcccc;color:black\">You appear to be running in JupyterLab (or JavaScript failed to load for some other reason).  You need to install the 3dmol extension: <br>\n",
       "        <tt>jupyter labextension install jupyterlab_3dmol</tt></p>\n",
       "        </div>\n",
       "<script>\n",
       "\n",
       "var loadScriptAsync = function(uri){\n",
       "  return new Promise((resolve, reject) => {\n",
       "    //this is to ignore the existence of requirejs amd\n",
       "    var savedexports, savedmodule;\n",
       "    if (typeof exports !== 'undefined') savedexports = exports;\n",
       "    else exports = {}\n",
       "    if (typeof module !== 'undefined') savedmodule = module;\n",
       "    else module = {}\n",
       "\n",
       "    var tag = document.createElement('script');\n",
       "    tag.src = uri;\n",
       "    tag.async = true;\n",
       "    tag.onload = () => {\n",
       "        exports = savedexports;\n",
       "        module = savedmodule;\n",
       "        resolve();\n",
       "    };\n",
       "  var firstScriptTag = document.getElementsByTagName('script')[0];\n",
       "  firstScriptTag.parentNode.insertBefore(tag, firstScriptTag);\n",
       "});\n",
       "};\n",
       "\n",
       "if(typeof $3Dmolpromise === 'undefined') {\n",
       "$3Dmolpromise = null;\n",
       "  $3Dmolpromise = loadScriptAsync('https://cdnjs.cloudflare.com/ajax/libs/3Dmol/2.0.3/3Dmol-min.js');\n",
       "}\n",
       "\n",
       "var viewer_1686845261537698 = null;\n",
       "var warn = document.getElementById(\"3dmolwarning_1686845261537698\");\n",
       "if(warn) {\n",
       "    warn.parentNode.removeChild(warn);\n",
       "}\n",
       "$3Dmolpromise.then(function() {\n",
       "viewer_1686845261537698 = $3Dmol.createViewer(document.getElementById(\"3dmolviewer_1686845261537698\"),{backgroundColor:\"white\"});\n",
       "viewer_1686845261537698.zoomTo();\n",
       "\tviewer_1686845261537698.addModel(\"# Produced with molli package\\n@<TRIPOS>MOLECULE\\n3_6_6\\n74 78 0 0 0\\nSMALL\\nUSER_CHARGES\\n\\n@<TRIPOS>ATOM\\n     1 C       0.128100     0.067800     0.216400 C.3        1 UNL1 0.0\\n     2 C       0.811800     1.245500     0.949300 C.3        1 UNL1 0.0\\n     3 O      -0.101200     2.317700     0.625800 O.2        1 UNL1 0.0\\n     4 C      -1.316300     1.797900     0.449800 C.2        1 UNL1 0.0\\n     5 N      -1.318300     0.528300     0.311900 N.2        1 UNL1 0.0\\n     6 C      -2.511500     2.671600     0.306800 C.3        1 UNL1 0.0\\n     7 C      -3.771700     1.887600     0.259900 C.2        1 UNL1 0.0\\n     8 O      -4.954800     2.455800     0.472100 O.2        1 UNL1 0.0\\n     9 C      -5.933100     1.422100     0.678300 C.3        1 UNL1 0.0\\n    10 C      -5.275900     0.164400     0.058400 C.3        1 UNL1 0.0\\n    11 N      -3.830200     0.636500     0.026200 N.2        1 UNL1 0.0\\n    12 C      -2.579500    -0.224000    -0.063900 C.3        1 UNL1 0.0\\n    13 BR     -2.833100    -1.678700     1.215000 Br         1 UNL1 0.0\\n    14 BR     -2.345500    -0.758300    -1.921600 Br         1 UNL1 0.0\\n    15 C      -2.394800     3.465100    -1.001000 C.3        1 UNL1 0.0\\n    16 C      -2.559400     3.632500     1.503900 C.3        1 UNL1 0.0\\n    17 C      -7.323000     1.902200     0.213000 C.3        1 UNL1 0.0\\n    18 C      -7.949400     2.796800     1.294800 C.3        1 UNL1 0.0\\n    19 C      -7.302900     2.698800    -1.097500 C.3        1 UNL1 0.0\\n    20 C       0.981100     1.196500     2.494900 C.3        1 UNL1 0.0\\n    21 C       1.157900     2.613000     3.069400 C.3        1 UNL1 0.0\\n    22 C       2.179500     0.354200     2.945100 C.3        1 UNL1 0.0\\n    23 H       0.371300     0.171500    -0.848300 H          1 UNL1 0.0\\n    24 H       1.776400     1.470400     0.477300 H          1 UNL1 0.0\\n    25 H      -5.976000     1.260300     1.765800 H          1 UNL1 0.0\\n    26 H      -5.370600    -0.637900     0.792800 H          1 UNL1 0.0\\n    27 H      -1.512100     4.113700    -0.999900 H          1 UNL1 0.0\\n    28 H      -3.276400     4.095200    -1.162700 H          1 UNL1 0.0\\n    29 H      -2.311200     2.795500    -1.866100 H          1 UNL1 0.0\\n    30 H      -3.418100     4.310300     1.446200 H          1 UNL1 0.0\\n    31 H      -1.657500     4.253100     1.559500 H          1 UNL1 0.0\\n    32 H      -2.638400     3.081900     2.448700 H          1 UNL1 0.0\\n    33 H      -7.986900     1.036700     0.105200 H          1 UNL1 0.0\\n    34 H      -7.331800     3.679200     1.493100 H          1 UNL1 0.0\\n    35 H      -8.067300     2.245900     2.233400 H          1 UNL1 0.0\\n    36 H      -8.942800     3.139600     0.988000 H          1 UNL1 0.0\\n    37 H      -6.757100     3.641800    -0.987400 H          1 UNL1 0.0\\n    38 H      -6.843800     2.143900    -1.916400 H          1 UNL1 0.0\\n    39 H      -8.323600     2.945800    -1.407200 H          1 UNL1 0.0\\n    40 H       0.074800     0.781800     2.951300 H          1 UNL1 0.0\\n    41 H       2.006700     3.123400     2.601800 H          1 UNL1 0.0\\n    42 H       0.264300     3.225400     2.912700 H          1 UNL1 0.0\\n    43 H       1.335300     2.579200     4.149200 H          1 UNL1 0.0\\n    44 H       3.072400     0.586600     2.355900 H          1 UNL1 0.0\\n    45 H       2.417500     0.538100     3.998500 H          1 UNL1 0.0\\n    46 H       1.979300    -0.716000     2.868000 H          1 UNL1 0.0\\n    47 C      -5.813000    -0.252300    -1.319200 C.3        1 UNL1 0.0\\n    48 C      -5.576500    -1.688200    -1.733100 C.ar       1 UNL1 0.0\\n    49 C      -5.314800    -1.968700    -3.085600 C.ar       1 UNL1 0.0\\n    50 C      -5.100900    -3.278300    -3.517900 C.ar       1 UNL1 0.0\\n    51 C      -5.176400    -4.330500    -2.612200 C.ar       1 UNL1 0.0\\n    52 C      -5.493100    -4.076300    -1.280900 C.ar       1 UNL1 0.0\\n    53 C      -5.710600    -2.766100    -0.845900 C.ar       1 UNL1 0.0\\n    54 H      -6.902900    -0.151300    -1.344800 H          1 UNL1 0.0\\n    55 H      -5.411400     0.419600    -2.089100 H          1 UNL1 0.0\\n    56 H      -5.280400    -1.173600    -3.829800 H          1 UNL1 0.0\\n    57 H      -4.896200    -3.481600    -4.567700 H          1 UNL1 0.0\\n    58 H      -5.026400    -5.353400    -2.953300 H          1 UNL1 0.0\\n    59 H      -5.603300    -4.911200    -0.590100 H          1 UNL1 0.0\\n    60 H      -6.024400    -2.634700     0.186700 H          1 UNL1 0.0\\n    61 C       0.523900    -1.316500     0.721400 C.3        1 UNL1 0.0\\n    62 C       0.298600    -2.473400    -0.224700 C.ar       1 UNL1 0.0\\n    63 C       0.732200    -2.428800    -1.559200 C.ar       1 UNL1 0.0\\n    64 C       0.524500    -3.515300    -2.412400 C.ar       1 UNL1 0.0\\n    65 C      -0.087600    -4.671000    -1.937500 C.ar       1 UNL1 0.0\\n    66 C      -0.463300    -4.755000    -0.601100 C.ar       1 UNL1 0.0\\n    67 C      -0.251400    -3.672600     0.253700 C.ar       1 UNL1 0.0\\n    68 H       1.609500    -1.324600     0.875700 H          1 UNL1 0.0\\n    69 H       0.069000    -1.518800     1.695700 H          1 UNL1 0.0\\n    70 H       1.267900    -1.572700    -1.963900 H          1 UNL1 0.0\\n    71 H       0.865500    -3.475200    -3.445600 H          1 UNL1 0.0\\n    72 H      -0.232700    -5.523200    -2.599200 H          1 UNL1 0.0\\n    73 H      -0.893400    -5.678800    -0.219200 H          1 UNL1 0.0\\n    74 H      -0.507200    -3.798300     1.304600 H          1 UNL1 0.0\\n@<TRIPOS>BOND\\n     1      1      2          1\\n     2      2      3          1\\n     3      3      4          1\\n     4      4      5          2\\n     5      5      1          1\\n     6      4      6          1\\n     7      6      7          1\\n     8      7      8          1\\n     9      8      9          1\\n    10      9     10          1\\n    11     10     11          1\\n    12     11      7          2\\n    13     11     12          1\\n    14     12      5          1\\n    15     12     13          1\\n    16     12     14          1\\n    17      6     15          1\\n    18      6     16          1\\n    19     17     18          1\\n    20     17     19          1\\n    21      9     17          1\\n    22     20     21          1\\n    23     20     22          1\\n    24      2     20          1\\n    25      1     23          1\\n    26      2     24          1\\n    27      9     25          1\\n    28     10     26          1\\n    29     15     27          1\\n    30     15     28          1\\n    31     15     29          1\\n    32     16     30          1\\n    33     16     31          1\\n    34     16     32          1\\n    35     17     33          1\\n    36     18     34          1\\n    37     18     35          1\\n    38     18     36          1\\n    39     19     37          1\\n    40     19     38          1\\n    41     19     39          1\\n    42     20     40          1\\n    43     21     41          1\\n    44     21     42          1\\n    45     21     43          1\\n    46     22     44          1\\n    47     22     45          1\\n    48     22     46          1\\n    49     47     48          1\\n    50     48     49         ar\\n    51     49     50         ar\\n    52     50     51         ar\\n    53     51     52         ar\\n    54     52     53         ar\\n    55     53     48         ar\\n    56     47     54          1\\n    57     47     55          1\\n    58     49     56          1\\n    59     50     57          1\\n    60     51     58          1\\n    61     52     59          1\\n    62     53     60          1\\n    63     10     47          1\\n    64     61     62          1\\n    65     62     63         ar\\n    66     63     64         ar\\n    67     64     65         ar\\n    68     65     66         ar\\n    69     66     67         ar\\n    70     67     62         ar\\n    71     61     68          1\\n    72     61     69          1\\n    73     63     70          1\\n    74     64     71          1\\n    75     65     72          1\\n    76     66     73          1\\n    77     67     74          1\\n    78      1     61          1\\n\",\"mol2\");\n",
       "\tviewer_1686845261537698.setStyle({\"stick\": {\"radius\": 0.1}, \"sphere\": {\"scale\": 0.15}});\n",
       "\tviewer_1686845261537698.setHoverable({},true,\"\\n            function(atom,viewer,event,container) {\\n                if(!atom.label) {\\n                    atom.label = viewer.addLabel(atom.elem + atom.serial, {position: atom, backgroundColor: 'mintcream', fontColor:'black'});\\n                }\\n            }\\n            \",\"\\n            function(atom,viewer) { \\n                if(atom.label) {\\n                    viewer.removeLabel(atom.label);\\n                    delete atom.label;\\n                }\\n            }\\n            \");\n",
       "\tviewer_1686845261537698.zoomTo();\n",
       "\tviewer_1686845261537698.setBackgroundColor(null);\n",
       "viewer_1686845261537698.render();\n",
       "});\n",
       "</script>"
      ]
     },
     "metadata": {},
     "output_type": "display_data"
    },
    {
     "data": {
      "text/plain": [
       "Conformer(name='3_6_6', formula='C30 H38 Br2 N2 O2')"
      ]
     },
     "execution_count": 31,
     "metadata": {},
     "output_type": "execute_result"
    }
   ],
   "source": [
    "clib['3_6_6'][0]"
   ]
  },
  {
   "cell_type": "code",
   "execution_count": 32,
   "metadata": {},
   "outputs": [
    {
     "data": {
      "application/3dmoljs_load.v0": "<div id=\"3dmolviewer_16868452625507092\"  style=\"position: relative; width: 1000px; height: 500px;\">\n        <p id=\"3dmolwarning_16868452625507092\" style=\"background-color:#ffcccc;color:black\">You appear to be running in JupyterLab (or JavaScript failed to load for some other reason).  You need to install the 3dmol extension: <br>\n        <tt>jupyter labextension install jupyterlab_3dmol</tt></p>\n        </div>\n<script>\n\nvar loadScriptAsync = function(uri){\n  return new Promise((resolve, reject) => {\n    //this is to ignore the existence of requirejs amd\n    var savedexports, savedmodule;\n    if (typeof exports !== 'undefined') savedexports = exports;\n    else exports = {}\n    if (typeof module !== 'undefined') savedmodule = module;\n    else module = {}\n\n    var tag = document.createElement('script');\n    tag.src = uri;\n    tag.async = true;\n    tag.onload = () => {\n        exports = savedexports;\n        module = savedmodule;\n        resolve();\n    };\n  var firstScriptTag = document.getElementsByTagName('script')[0];\n  firstScriptTag.parentNode.insertBefore(tag, firstScriptTag);\n});\n};\n\nif(typeof $3Dmolpromise === 'undefined') {\n$3Dmolpromise = null;\n  $3Dmolpromise = loadScriptAsync('https://cdnjs.cloudflare.com/ajax/libs/3Dmol/2.0.3/3Dmol-min.js');\n}\n\nvar viewer_16868452625507092 = null;\nvar warn = document.getElementById(\"3dmolwarning_16868452625507092\");\nif(warn) {\n    warn.parentNode.removeChild(warn);\n}\n$3Dmolpromise.then(function() {\nviewer_16868452625507092 = $3Dmol.createViewer(document.getElementById(\"3dmolviewer_16868452625507092\"),{backgroundColor:\"white\"});\nviewer_16868452625507092.zoomTo();\n\tviewer_16868452625507092.addModel(\"# Produced with molli package\\n@<TRIPOS>MOLECULE\\n3_6_6\\n74 78 0 0 0\\nSMALL\\nUSER_CHARGES\\n\\n@<TRIPOS>ATOM\\n     1 C      -0.026700    -0.045600     0.689500 C.3        1 UNL1 0.0\\n     2 C       0.805700     1.121600     0.123900 C.3        1 UNL1 0.0\\n     3 O      -0.046000     2.255800     0.429800 O.2        1 UNL1 0.0\\n     4 C      -1.301300     1.806500     0.377600 C.2        1 UNL1 0.0\\n     5 N      -1.372600     0.531300     0.367900 N.2        1 UNL1 0.0\\n     6 C      -2.506800     2.683600     0.331900 C.3        1 UNL1 0.0\\n     7 C      -3.762900     1.869900     0.293900 C.2        1 UNL1 0.0\\n     8 O      -4.952200     2.368100     0.625200 O.2        1 UNL1 0.0\\n     9 C      -5.800000     1.247300     0.945000 C.3        1 UNL1 0.0\\n    10 C      -5.223900     0.126900     0.050300 C.3        1 UNL1 0.0\\n    11 N      -3.804400     0.630600    -0.016700 N.2        1 UNL1 0.0\\n    12 C      -2.549000    -0.146100    -0.282300 C.3        1 UNL1 0.0\\n    13 BR     -2.145700    -0.026100    -2.232800 Br         1 UNL1 0.0\\n    14 BR     -2.713100    -2.019000     0.179100 Br         1 UNL1 0.0\\n    15 C      -2.509200     3.529700     1.616500 C.3        1 UNL1 0.0\\n    16 C      -2.452200     3.601300    -0.892000 C.3        1 UNL1 0.0\\n    17 C      -7.284000     1.626200     0.827400 C.3        1 UNL1 0.0\\n    18 C      -8.184100     0.465300     1.252900 C.3        1 UNL1 0.0\\n    19 C      -7.601300     2.857600     1.686300 C.3        1 UNL1 0.0\\n    20 C       2.266400     1.374600     0.536000 C.3        1 UNL1 0.0\\n    21 C       3.135800     0.135100     0.337600 C.3        1 UNL1 0.0\\n    22 C       2.480900     1.990900     1.918200 C.3        1 UNL1 0.0\\n    23 H       0.132600    -0.981900     0.147600 H          1 UNL1 0.0\\n    24 H       0.812600     1.038000    -0.975400 H          1 UNL1 0.0\\n    25 H      -5.593700     1.003800     1.998400 H          1 UNL1 0.0\\n    26 H      -5.264000    -0.818700     0.594900 H          1 UNL1 0.0\\n    27 H      -2.587100     2.894600     2.507800 H          1 UNL1 0.0\\n    28 H      -3.353400     4.227900     1.637000 H          1 UNL1 0.0\\n    29 H      -1.589600     4.118900     1.712600 H          1 UNL1 0.0\\n    30 H      -3.349400     4.227800    -0.956200 H          1 UNL1 0.0\\n    31 H      -1.584100     4.267100    -0.851000 H          1 UNL1 0.0\\n    32 H      -2.388500     3.033500    -1.826100 H          1 UNL1 0.0\\n    33 H      -7.516600     1.910900    -0.205700 H          1 UNL1 0.0\\n    34 H      -9.239600     0.741100     1.165200 H          1 UNL1 0.0\\n    35 H      -7.998600     0.183200     2.294900 H          1 UNL1 0.0\\n    36 H      -8.024000    -0.423100     0.634800 H          1 UNL1 0.0\\n    37 H      -8.663600     3.115200     1.616600 H          1 UNL1 0.0\\n    38 H      -7.363200     2.679000     2.740400 H          1 UNL1 0.0\\n    39 H      -7.033000     3.730600     1.351600 H          1 UNL1 0.0\\n    40 H       2.637000     2.138600    -0.163100 H          1 UNL1 0.0\\n    41 H       2.863000    -0.671600     1.023300 H          1 UNL1 0.0\\n    42 H       3.043100    -0.245800    -0.685300 H          1 UNL1 0.0\\n    43 H       4.191100     0.372400     0.507100 H          1 UNL1 0.0\\n    44 H       3.514900     2.342000     2.012300 H          1 UNL1 0.0\\n    45 H       2.319300     1.278700     2.728700 H          1 UNL1 0.0\\n    46 H       1.831000     2.856400     2.076300 H          1 UNL1 0.0\\n    47 C      -5.849800     0.062000    -1.358800 C.3        1 UNL1 0.0\\n    48 C      -5.553300    -1.202500    -2.127000 C.ar       1 UNL1 0.0\\n    49 C      -5.143200    -1.128300    -3.466000 C.ar       1 UNL1 0.0\\n    50 C      -4.870700    -2.289100    -4.192400 C.ar       1 UNL1 0.0\\n    51 C      -5.036300    -3.537900    -3.602000 C.ar       1 UNL1 0.0\\n    52 C      -5.502900    -3.628400    -2.294500 C.ar       1 UNL1 0.0\\n    53 C      -5.776800    -2.469100    -1.565400 C.ar       1 UNL1 0.0\\n    54 H      -6.942500     0.102300    -1.302400 H          1 UNL1 0.0\\n    55 H      -5.543500     0.937000    -1.947800 H          1 UNL1 0.0\\n    56 H      -5.043900    -0.171900    -3.978300 H          1 UNL1 0.0\\n    57 H      -4.554400    -2.223500    -5.232200 H          1 UNL1 0.0\\n    58 H      -4.842200    -4.442100    -4.176900 H          1 UNL1 0.0\\n    59 H      -5.681800    -4.609100    -1.855300 H          1 UNL1 0.0\\n    60 H      -6.195300    -2.590900    -0.568500 H          1 UNL1 0.0\\n    61 C       0.119800    -0.186200     2.223500 C.3        1 UNL1 0.0\\n    62 C      -0.900500    -1.050800     2.915100 C.ar       1 UNL1 0.0\\n    63 C      -1.983500    -0.473800     3.598700 C.ar       1 UNL1 0.0\\n    64 C      -2.922900    -1.281900     4.241300 C.ar       1 UNL1 0.0\\n    65 C      -2.782000    -2.668000     4.218300 C.ar       1 UNL1 0.0\\n    66 C      -1.692500    -3.247600     3.571000 C.ar       1 UNL1 0.0\\n    67 C      -0.750600    -2.444500     2.925900 C.ar       1 UNL1 0.0\\n    68 H       1.108700    -0.595900     2.458300 H          1 UNL1 0.0\\n    69 H       0.088400     0.800900     2.703800 H          1 UNL1 0.0\\n    70 H      -2.074500     0.605400     3.707400 H          1 UNL1 0.0\\n    71 H      -3.737300    -0.839600     4.814200 H          1 UNL1 0.0\\n    72 H      -3.494900    -3.300700     4.747000 H          1 UNL1 0.0\\n    73 H      -1.564500    -4.329400     3.593300 H          1 UNL1 0.0\\n    74 H       0.106700    -2.926800     2.457000 H          1 UNL1 0.0\\n@<TRIPOS>BOND\\n     1      1      2          1\\n     2      2      3          1\\n     3      3      4          1\\n     4      4      5          2\\n     5      5      1          1\\n     6      4      6          1\\n     7      6      7          1\\n     8      7      8          1\\n     9      8      9          1\\n    10      9     10          1\\n    11     10     11          1\\n    12     11      7          2\\n    13     11     12          1\\n    14     12      5          1\\n    15     12     13          1\\n    16     12     14          1\\n    17      6     15          1\\n    18      6     16          1\\n    19     17     18          1\\n    20     17     19          1\\n    21      9     17          1\\n    22     20     21          1\\n    23     20     22          1\\n    24      2     20          1\\n    25      1     23          1\\n    26      2     24          1\\n    27      9     25          1\\n    28     10     26          1\\n    29     15     27          1\\n    30     15     28          1\\n    31     15     29          1\\n    32     16     30          1\\n    33     16     31          1\\n    34     16     32          1\\n    35     17     33          1\\n    36     18     34          1\\n    37     18     35          1\\n    38     18     36          1\\n    39     19     37          1\\n    40     19     38          1\\n    41     19     39          1\\n    42     20     40          1\\n    43     21     41          1\\n    44     21     42          1\\n    45     21     43          1\\n    46     22     44          1\\n    47     22     45          1\\n    48     22     46          1\\n    49     47     48          1\\n    50     48     49         ar\\n    51     49     50         ar\\n    52     50     51         ar\\n    53     51     52         ar\\n    54     52     53         ar\\n    55     53     48         ar\\n    56     47     54          1\\n    57     47     55          1\\n    58     49     56          1\\n    59     50     57          1\\n    60     51     58          1\\n    61     52     59          1\\n    62     53     60          1\\n    63     10     47          1\\n    64     61     62          1\\n    65     62     63         ar\\n    66     63     64         ar\\n    67     64     65         ar\\n    68     65     66         ar\\n    69     66     67         ar\\n    70     67     62         ar\\n    71     61     68          1\\n    72     61     69          1\\n    73     63     70          1\\n    74     64     71          1\\n    75     65     72          1\\n    76     66     73          1\\n    77     67     74          1\\n    78      1     61          1\\n\",\"mol2\");\n\tviewer_16868452625507092.setStyle({\"stick\": {\"radius\": 0.1}, \"sphere\": {\"scale\": 0.15}});\n\tviewer_16868452625507092.setHoverable({},true,\"\\n            function(atom,viewer,event,container) {\\n                if(!atom.label) {\\n                    atom.label = viewer.addLabel(atom.elem + atom.serial, {position: atom, backgroundColor: 'mintcream', fontColor:'black'});\\n                }\\n            }\\n            \",\"\\n            function(atom,viewer) { \\n                if(atom.label) {\\n                    viewer.removeLabel(atom.label);\\n                    delete atom.label;\\n                }\\n            }\\n            \");\n\tviewer_16868452625507092.zoomTo();\n\tviewer_16868452625507092.setBackgroundColor(null);\nviewer_16868452625507092.render();\n});\n</script>",
      "text/html": [
       "<div id=\"3dmolviewer_16868452625507092\"  style=\"position: relative; width: 1000px; height: 500px;\">\n",
       "        <p id=\"3dmolwarning_16868452625507092\" style=\"background-color:#ffcccc;color:black\">You appear to be running in JupyterLab (or JavaScript failed to load for some other reason).  You need to install the 3dmol extension: <br>\n",
       "        <tt>jupyter labextension install jupyterlab_3dmol</tt></p>\n",
       "        </div>\n",
       "<script>\n",
       "\n",
       "var loadScriptAsync = function(uri){\n",
       "  return new Promise((resolve, reject) => {\n",
       "    //this is to ignore the existence of requirejs amd\n",
       "    var savedexports, savedmodule;\n",
       "    if (typeof exports !== 'undefined') savedexports = exports;\n",
       "    else exports = {}\n",
       "    if (typeof module !== 'undefined') savedmodule = module;\n",
       "    else module = {}\n",
       "\n",
       "    var tag = document.createElement('script');\n",
       "    tag.src = uri;\n",
       "    tag.async = true;\n",
       "    tag.onload = () => {\n",
       "        exports = savedexports;\n",
       "        module = savedmodule;\n",
       "        resolve();\n",
       "    };\n",
       "  var firstScriptTag = document.getElementsByTagName('script')[0];\n",
       "  firstScriptTag.parentNode.insertBefore(tag, firstScriptTag);\n",
       "});\n",
       "};\n",
       "\n",
       "if(typeof $3Dmolpromise === 'undefined') {\n",
       "$3Dmolpromise = null;\n",
       "  $3Dmolpromise = loadScriptAsync('https://cdnjs.cloudflare.com/ajax/libs/3Dmol/2.0.3/3Dmol-min.js');\n",
       "}\n",
       "\n",
       "var viewer_16868452625507092 = null;\n",
       "var warn = document.getElementById(\"3dmolwarning_16868452625507092\");\n",
       "if(warn) {\n",
       "    warn.parentNode.removeChild(warn);\n",
       "}\n",
       "$3Dmolpromise.then(function() {\n",
       "viewer_16868452625507092 = $3Dmol.createViewer(document.getElementById(\"3dmolviewer_16868452625507092\"),{backgroundColor:\"white\"});\n",
       "viewer_16868452625507092.zoomTo();\n",
       "\tviewer_16868452625507092.addModel(\"# Produced with molli package\\n@<TRIPOS>MOLECULE\\n3_6_6\\n74 78 0 0 0\\nSMALL\\nUSER_CHARGES\\n\\n@<TRIPOS>ATOM\\n     1 C      -0.026700    -0.045600     0.689500 C.3        1 UNL1 0.0\\n     2 C       0.805700     1.121600     0.123900 C.3        1 UNL1 0.0\\n     3 O      -0.046000     2.255800     0.429800 O.2        1 UNL1 0.0\\n     4 C      -1.301300     1.806500     0.377600 C.2        1 UNL1 0.0\\n     5 N      -1.372600     0.531300     0.367900 N.2        1 UNL1 0.0\\n     6 C      -2.506800     2.683600     0.331900 C.3        1 UNL1 0.0\\n     7 C      -3.762900     1.869900     0.293900 C.2        1 UNL1 0.0\\n     8 O      -4.952200     2.368100     0.625200 O.2        1 UNL1 0.0\\n     9 C      -5.800000     1.247300     0.945000 C.3        1 UNL1 0.0\\n    10 C      -5.223900     0.126900     0.050300 C.3        1 UNL1 0.0\\n    11 N      -3.804400     0.630600    -0.016700 N.2        1 UNL1 0.0\\n    12 C      -2.549000    -0.146100    -0.282300 C.3        1 UNL1 0.0\\n    13 BR     -2.145700    -0.026100    -2.232800 Br         1 UNL1 0.0\\n    14 BR     -2.713100    -2.019000     0.179100 Br         1 UNL1 0.0\\n    15 C      -2.509200     3.529700     1.616500 C.3        1 UNL1 0.0\\n    16 C      -2.452200     3.601300    -0.892000 C.3        1 UNL1 0.0\\n    17 C      -7.284000     1.626200     0.827400 C.3        1 UNL1 0.0\\n    18 C      -8.184100     0.465300     1.252900 C.3        1 UNL1 0.0\\n    19 C      -7.601300     2.857600     1.686300 C.3        1 UNL1 0.0\\n    20 C       2.266400     1.374600     0.536000 C.3        1 UNL1 0.0\\n    21 C       3.135800     0.135100     0.337600 C.3        1 UNL1 0.0\\n    22 C       2.480900     1.990900     1.918200 C.3        1 UNL1 0.0\\n    23 H       0.132600    -0.981900     0.147600 H          1 UNL1 0.0\\n    24 H       0.812600     1.038000    -0.975400 H          1 UNL1 0.0\\n    25 H      -5.593700     1.003800     1.998400 H          1 UNL1 0.0\\n    26 H      -5.264000    -0.818700     0.594900 H          1 UNL1 0.0\\n    27 H      -2.587100     2.894600     2.507800 H          1 UNL1 0.0\\n    28 H      -3.353400     4.227900     1.637000 H          1 UNL1 0.0\\n    29 H      -1.589600     4.118900     1.712600 H          1 UNL1 0.0\\n    30 H      -3.349400     4.227800    -0.956200 H          1 UNL1 0.0\\n    31 H      -1.584100     4.267100    -0.851000 H          1 UNL1 0.0\\n    32 H      -2.388500     3.033500    -1.826100 H          1 UNL1 0.0\\n    33 H      -7.516600     1.910900    -0.205700 H          1 UNL1 0.0\\n    34 H      -9.239600     0.741100     1.165200 H          1 UNL1 0.0\\n    35 H      -7.998600     0.183200     2.294900 H          1 UNL1 0.0\\n    36 H      -8.024000    -0.423100     0.634800 H          1 UNL1 0.0\\n    37 H      -8.663600     3.115200     1.616600 H          1 UNL1 0.0\\n    38 H      -7.363200     2.679000     2.740400 H          1 UNL1 0.0\\n    39 H      -7.033000     3.730600     1.351600 H          1 UNL1 0.0\\n    40 H       2.637000     2.138600    -0.163100 H          1 UNL1 0.0\\n    41 H       2.863000    -0.671600     1.023300 H          1 UNL1 0.0\\n    42 H       3.043100    -0.245800    -0.685300 H          1 UNL1 0.0\\n    43 H       4.191100     0.372400     0.507100 H          1 UNL1 0.0\\n    44 H       3.514900     2.342000     2.012300 H          1 UNL1 0.0\\n    45 H       2.319300     1.278700     2.728700 H          1 UNL1 0.0\\n    46 H       1.831000     2.856400     2.076300 H          1 UNL1 0.0\\n    47 C      -5.849800     0.062000    -1.358800 C.3        1 UNL1 0.0\\n    48 C      -5.553300    -1.202500    -2.127000 C.ar       1 UNL1 0.0\\n    49 C      -5.143200    -1.128300    -3.466000 C.ar       1 UNL1 0.0\\n    50 C      -4.870700    -2.289100    -4.192400 C.ar       1 UNL1 0.0\\n    51 C      -5.036300    -3.537900    -3.602000 C.ar       1 UNL1 0.0\\n    52 C      -5.502900    -3.628400    -2.294500 C.ar       1 UNL1 0.0\\n    53 C      -5.776800    -2.469100    -1.565400 C.ar       1 UNL1 0.0\\n    54 H      -6.942500     0.102300    -1.302400 H          1 UNL1 0.0\\n    55 H      -5.543500     0.937000    -1.947800 H          1 UNL1 0.0\\n    56 H      -5.043900    -0.171900    -3.978300 H          1 UNL1 0.0\\n    57 H      -4.554400    -2.223500    -5.232200 H          1 UNL1 0.0\\n    58 H      -4.842200    -4.442100    -4.176900 H          1 UNL1 0.0\\n    59 H      -5.681800    -4.609100    -1.855300 H          1 UNL1 0.0\\n    60 H      -6.195300    -2.590900    -0.568500 H          1 UNL1 0.0\\n    61 C       0.119800    -0.186200     2.223500 C.3        1 UNL1 0.0\\n    62 C      -0.900500    -1.050800     2.915100 C.ar       1 UNL1 0.0\\n    63 C      -1.983500    -0.473800     3.598700 C.ar       1 UNL1 0.0\\n    64 C      -2.922900    -1.281900     4.241300 C.ar       1 UNL1 0.0\\n    65 C      -2.782000    -2.668000     4.218300 C.ar       1 UNL1 0.0\\n    66 C      -1.692500    -3.247600     3.571000 C.ar       1 UNL1 0.0\\n    67 C      -0.750600    -2.444500     2.925900 C.ar       1 UNL1 0.0\\n    68 H       1.108700    -0.595900     2.458300 H          1 UNL1 0.0\\n    69 H       0.088400     0.800900     2.703800 H          1 UNL1 0.0\\n    70 H      -2.074500     0.605400     3.707400 H          1 UNL1 0.0\\n    71 H      -3.737300    -0.839600     4.814200 H          1 UNL1 0.0\\n    72 H      -3.494900    -3.300700     4.747000 H          1 UNL1 0.0\\n    73 H      -1.564500    -4.329400     3.593300 H          1 UNL1 0.0\\n    74 H       0.106700    -2.926800     2.457000 H          1 UNL1 0.0\\n@<TRIPOS>BOND\\n     1      1      2          1\\n     2      2      3          1\\n     3      3      4          1\\n     4      4      5          2\\n     5      5      1          1\\n     6      4      6          1\\n     7      6      7          1\\n     8      7      8          1\\n     9      8      9          1\\n    10      9     10          1\\n    11     10     11          1\\n    12     11      7          2\\n    13     11     12          1\\n    14     12      5          1\\n    15     12     13          1\\n    16     12     14          1\\n    17      6     15          1\\n    18      6     16          1\\n    19     17     18          1\\n    20     17     19          1\\n    21      9     17          1\\n    22     20     21          1\\n    23     20     22          1\\n    24      2     20          1\\n    25      1     23          1\\n    26      2     24          1\\n    27      9     25          1\\n    28     10     26          1\\n    29     15     27          1\\n    30     15     28          1\\n    31     15     29          1\\n    32     16     30          1\\n    33     16     31          1\\n    34     16     32          1\\n    35     17     33          1\\n    36     18     34          1\\n    37     18     35          1\\n    38     18     36          1\\n    39     19     37          1\\n    40     19     38          1\\n    41     19     39          1\\n    42     20     40          1\\n    43     21     41          1\\n    44     21     42          1\\n    45     21     43          1\\n    46     22     44          1\\n    47     22     45          1\\n    48     22     46          1\\n    49     47     48          1\\n    50     48     49         ar\\n    51     49     50         ar\\n    52     50     51         ar\\n    53     51     52         ar\\n    54     52     53         ar\\n    55     53     48         ar\\n    56     47     54          1\\n    57     47     55          1\\n    58     49     56          1\\n    59     50     57          1\\n    60     51     58          1\\n    61     52     59          1\\n    62     53     60          1\\n    63     10     47          1\\n    64     61     62          1\\n    65     62     63         ar\\n    66     63     64         ar\\n    67     64     65         ar\\n    68     65     66         ar\\n    69     66     67         ar\\n    70     67     62         ar\\n    71     61     68          1\\n    72     61     69          1\\n    73     63     70          1\\n    74     64     71          1\\n    75     65     72          1\\n    76     66     73          1\\n    77     67     74          1\\n    78      1     61          1\\n\",\"mol2\");\n",
       "\tviewer_16868452625507092.setStyle({\"stick\": {\"radius\": 0.1}, \"sphere\": {\"scale\": 0.15}});\n",
       "\tviewer_16868452625507092.setHoverable({},true,\"\\n            function(atom,viewer,event,container) {\\n                if(!atom.label) {\\n                    atom.label = viewer.addLabel(atom.elem + atom.serial, {position: atom, backgroundColor: 'mintcream', fontColor:'black'});\\n                }\\n            }\\n            \",\"\\n            function(atom,viewer) { \\n                if(atom.label) {\\n                    viewer.removeLabel(atom.label);\\n                    delete atom.label;\\n                }\\n            }\\n            \");\n",
       "\tviewer_16868452625507092.zoomTo();\n",
       "\tviewer_16868452625507092.setBackgroundColor(null);\n",
       "viewer_16868452625507092.render();\n",
       "});\n",
       "</script>"
      ]
     },
     "metadata": {},
     "output_type": "display_data"
    },
    {
     "data": {
      "text/plain": [
       "Conformer(name='3_6_6', formula='C30 H38 Br2 N2 O2')"
      ]
     },
     "execution_count": 32,
     "metadata": {},
     "output_type": "execute_result"
    }
   ],
   "source": [
    "clib['3_6_6'][24]"
   ]
  },
  {
   "attachments": {},
   "cell_type": "markdown",
   "metadata": {},
   "source": [
    "# 4. ASO descriptor calculation"
   ]
  },
  {
   "cell_type": "code",
   "execution_count": 33,
   "metadata": {},
   "outputs": [
    {
     "name": "stdout",
     "output_type": "stream",
     "text": [
      "(7106, 3)\n"
     ]
    },
    {
     "name": "stderr",
     "output_type": "stream",
     "text": [
      "100%|██████████| 75/75 [00:00<00:00, 1643.38it/s]\n"
     ]
    },
    {
     "data": {
      "text/plain": [
       "CompletedProcess(args=['molli', 'grid', '--mlib', './ncsa-testing-output/test_conformers_new_env.mlib', '-o', './ncsa-testing-output/grid_new_env.npy'], returncode=0)"
      ]
     },
     "execution_count": 33,
     "metadata": {},
     "output_type": "execute_result"
    }
   ],
   "source": [
    "# first we make a grid for calculating aso\n",
    "subprocess.run(['molli', \n",
    "                'grid', \n",
    "                '--mlib', \n",
    "                f'{out_dir}test_conformers_new_env.mlib', \n",
    "                '-o', \n",
    "                f'{out_dir}grid_new_env.npy'\n",
    "                ])"
   ]
  },
  {
   "cell_type": "code",
   "execution_count": 34,
   "metadata": {},
   "outputs": [
    {
     "name": "stdout",
     "output_type": "stream",
     "text": [
      "Allocating storage for descriptors\n",
      "Will compute descriptor ASO using 128 cores.\n",
      "Grid shape: (7106, 3)\n"
     ]
    },
    {
     "name": "stderr",
     "output_type": "stream",
     "text": [
      "Loading batches of conformers: 0it [00:00, ?it/s]\n",
      "Submitting calculations:   0%|          | 0/75 [00:00<?, ?it/s]\u001b[A\n",
      "                                                               \u001b[A\n",
      "\n",
      "Gathering calculation results:   0%|          | 0/75 [00:00<?, ?it/s]\u001b[A\u001b[A\n",
      "\n",
      "Loading batches of conformers: 1it [00:13, 13.95s/it]                \u001b[A\u001b[A\n"
     ]
    },
    {
     "data": {
      "text/plain": [
       "CompletedProcess(args=['molli', 'gbca', 'aso', './ncsa-testing-output/test_conformers_new_env.mlib', '-g', './ncsa-testing-output/grid_new_env.npy', '-o', './ncsa-testing-output/aso_new_env.h5'], returncode=0)"
      ]
     },
     "execution_count": 34,
     "metadata": {},
     "output_type": "execute_result"
    }
   ],
   "source": [
    "# calculate aso\n",
    "subprocess.run(['molli', \n",
    "                'gbca', \n",
    "                'aso', \n",
    "                f'{out_dir}test_conformers_new_env.mlib', \n",
    "                '-g', \n",
    "                f'{out_dir}grid_new_env.npy', \n",
    "                '-o', \n",
    "                f'{out_dir}aso_new_env.h5'\n",
    "                ])\n",
    "# tqdm looks messed up"
   ]
  },
  {
   "attachments": {},
   "cell_type": "markdown",
   "metadata": {},
   "source": [
    "# 5. post-processing, dimensionaltiy reduction, clustering analysis"
   ]
  },
  {
   "cell_type": "code",
   "execution_count": 35,
   "metadata": {},
   "outputs": [
    {
     "name": "stderr",
     "output_type": "stream",
     "text": [
      "100%|██████████| 75/75 [00:00<00:00, 5155.24it/s]\n"
     ]
    },
    {
     "name": "stdout",
     "output_type": "stream",
     "text": [
      "shape of data after variance threshold: (75, 3785)\n",
      "total variance after variance threshold: 62.90\n",
      "\n",
      "shape of data after removing correlated columns (R > 0.8): (75, 257)\n",
      "total variance after removing correlated columns (R > 0.8): 3.42\n",
      "\n"
     ]
    },
    {
     "data": {
      "text/plain": [
       "CompletedProcess(args=['molli', 'cluster', './ncsa-testing-output/aso_new_env.h5', '-o', './ncsa-testing-output/new_env_data3', '-v', '0', '-c', '0.8'], returncode=0)"
      ]
     },
     "execution_count": 35,
     "metadata": {},
     "output_type": "execute_result"
    }
   ],
   "source": [
    "subprocess.run(         # check functionality for plotting and pca\n",
    "     [                   # should be better way to implement post_processing stuff\n",
    "         'molli', \n",
    "         'cluster', \n",
    "         f'{out_dir}aso_new_env.h5', \n",
    "         '-o', \n",
    "         f'{out_dir}new_env_data3', \n",
    "         '-v', # variance threshold before doing clustering\n",
    "         '0', # remove 0 variance columns\n",
    "         '-c', # correlation cutoff before clustering\n",
    "         '0.8', # 0.8 by default\n",
    "     ]\n",
    " )"
   ]
  },
  {
   "cell_type": "code",
   "execution_count": null,
   "metadata": {},
   "outputs": [],
   "source": []
  }
 ],
 "metadata": {
  "kernelspec": {
   "display_name": "NCSA-workflow-dev",
   "language": "python",
   "name": "python3"
  },
  "language_info": {
   "codemirror_mode": {
    "name": "ipython",
    "version": 3
   },
   "file_extension": ".py",
   "mimetype": "text/x-python",
   "name": "python",
   "nbconvert_exporter": "python",
   "pygments_lexer": "ipython3",
   "version": "3.10.11"
  },
  "orig_nbformat": 4
 },
 "nbformat": 4,
 "nbformat_minor": 2
}
