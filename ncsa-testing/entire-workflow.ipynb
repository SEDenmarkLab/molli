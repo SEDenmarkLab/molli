{
 "cells": [
  {
   "attachments": {},
   "cell_type": "markdown",
   "metadata": {},
   "source": [
    "To-Do: entire workflow\n",
    "chemdraw parse -> combinatorial expansion -> conformer generation -> aso description -> post-processing/dimension-reduction/analysis -> plot/output data"
   ]
  },
  {
   "attachments": {},
   "cell_type": "markdown",
   "metadata": {},
   "source": [
    "1. ChemDraw Parsing"
   ]
  },
  {
   "cell_type": "code",
   "execution_count": 3,
   "metadata": {},
   "outputs": [],
   "source": [
    "import molli as ml\n",
    "import molli.visual\n",
    "import subprocess"
   ]
  },
  {
   "cell_type": "code",
   "execution_count": 4,
   "metadata": {},
   "outputs": [],
   "source": [
    "cores = ml.files.box_cores_test_1\n",
    "subs = ml.files.box_substituents_test_1"
   ]
  },
  {
   "cell_type": "code",
   "execution_count": 5,
   "metadata": {},
   "outputs": [
    {
     "name": "stderr",
     "output_type": "stream",
     "text": [
      "100%|██████████| 5/5 [00:00<00:00, 101.26it/s]\n",
      "100%|██████████| 15/15 [00:00<00:00, 368.90it/s]\n"
     ]
    },
    {
     "data": {
      "text/plain": [
       "CompletedProcess(args=['molli', 'parse', '--hadd', '/home/ethangm2/NCSA Development/molli/molli/files/BOX_substituents_test_1.cdxml', '-o', '../ncsa-testing/ncsa-testing-data/BOX_subs_new_env.mlib'], returncode=0)"
      ]
     },
     "execution_count": 5,
     "metadata": {},
     "output_type": "execute_result"
    }
   ],
   "source": [
    "subprocess.run(['molli', 'parse', '--hadd', f'{cores}', '-o', '../ncsa-testing/ncsa-testing-data/BOX_cores_new_env.mlib'])\n",
    "subprocess.run(['molli', 'parse', '--hadd', f'{subs}', '-o', '../ncsa-testing/ncsa-testing-data/BOX_subs_new_env.mlib'])"
   ]
  },
  {
   "cell_type": "code",
   "execution_count": 6,
   "metadata": {},
   "outputs": [
    {
     "name": "stdout",
     "output_type": "stream",
     "text": [
      "5\n"
     ]
    },
    {
     "data": {
      "application/3dmoljs_load.v0": "<div id=\"3dmolviewer_16866743330313003\"  style=\"position: relative; width: 1000px; height: 500px\">\n        <p id=\"3dmolwarning_16866743330313003\" style=\"background-color:#ffcccc;color:black\">You appear to be running in JupyterLab (or JavaScript failed to load for some other reason).  You need to install the 3dmol extension: <br>\n        <tt>jupyter labextension install jupyterlab_3dmol</tt></p>\n        </div>\n<script>\n\nvar loadScriptAsync = function(uri){\n  return new Promise((resolve, reject) => {\n    //this is to ignore the existence of requirejs amd\n    var savedexports, savedmodule;\n    if (typeof exports !== 'undefined') savedexports = exports;\n    else exports = {}\n    if (typeof module !== 'undefined') savedmodule = module;\n    else module = {}\n\n    var tag = document.createElement('script');\n    tag.src = uri;\n    tag.async = true;\n    tag.onload = () => {\n        exports = savedexports;\n        module = savedmodule;\n        resolve();\n    };\n  var firstScriptTag = document.getElementsByTagName('script')[0];\n  firstScriptTag.parentNode.insertBefore(tag, firstScriptTag);\n});\n};\n\nif(typeof $3Dmolpromise === 'undefined') {\n$3Dmolpromise = null;\n  $3Dmolpromise = loadScriptAsync('https://cdnjs.cloudflare.com/ajax/libs/3Dmol/2.0.1/3Dmol-min.js');\n}\n\nvar viewer_16866743330313003 = null;\nvar warn = document.getElementById(\"3dmolwarning_16866743330313003\");\nif(warn) {\n    warn.parentNode.removeChild(warn);\n}\n$3Dmolpromise.then(function() {\nviewer_16866743330313003 = $3Dmol.createViewer(document.getElementById(\"3dmolviewer_16866743330313003\"),{backgroundColor:\"white\"});\nviewer_16866743330313003.zoomTo();\n\tviewer_16866743330313003.addModel(\"# Produced with molli package\\n@<TRIPOS>MOLECULE\\n1\\n30 32 0 0 0\\nSMALL\\nUSER_CHARGES\\n\\n@<TRIPOS>ATOM\\n     1 C       2.653877    -0.900810     0.000000 C          1 UNL1 0.0\\n     2 C       3.535127     0.312731     0.000000 C          1 UNL1 0.0\\n     3 O       2.653877     1.526273     0.000000 O          1 UNL1 0.0\\n     4 C       1.226794     1.062732     0.000000 C          1 UNL1 0.0\\n     5 N       1.226794    -0.437269     0.000000 N          1 UNL1 0.0\\n     6 C      -0.072164     1.812732     0.000000 C          1 UNL1 0.0\\n     7 C      -1.371123     1.062732     0.000000 C          1 UNL1 0.0\\n     8 O      -2.798206     1.526273     0.000000 O          1 UNL1 0.0\\n     9 C      -3.679456     0.312731     0.000000 C          1 UNL1 0.0\\n    10 C      -2.798206    -0.900810     0.000000 C          1 UNL1 0.0\\n    11 N      -1.371123    -0.437269     0.000000 N          1 UNL1 0.0\\n    12 A1     -3.029977    -1.614352    -1.299453 Unknown    1 UNL1 0.0\\n    13 A1      2.885648    -1.614352     1.299453 Unknown    1 UNL1 0.0\\n    14 C      -0.072164    -1.187268     0.000000 C          1 UNL1 0.0\\n    15 Br     -0.072164    -1.187268     1.499931 Br         1 UNL1 0.0\\n    16 Br      0.677836    -2.486227     0.000000 Br         1 UNL1 0.0\\n    17 C      -0.072164     1.812732     1.500000 C          1 UNL1 0.0\\n    18 C       1.226794     2.562732     0.000000 C          1 UNL1 0.0\\n    19 H       2.859825    -1.534673    -0.837080 H          1 UNL1 0.0\\n    20 H       4.148880     0.312731     0.876544 H          1 UNL1 0.0\\n    21 H       4.148880     0.312731    -0.876544 H          1 UNL1 0.0\\n    22 H      -4.293208     0.312731     0.876544 H          1 UNL1 0.0\\n    23 H      -4.293208     0.312731    -0.876544 H          1 UNL1 0.0\\n    24 H      -3.004154    -1.534673     0.837080 H          1 UNL1 0.0\\n    25 H      -0.367577     0.848149     1.856667 H          1 UNL1 0.0\\n    26 H      -0.759811     2.550858     1.856667 H          1 UNL1 0.0\\n    27 H       0.910895     2.039188     1.856667 H          1 UNL1 0.0\\n    28 H       1.787896     2.304234     0.873638 H          1 UNL1 0.0\\n    29 H       1.031246     3.614711     0.000027 H          1 UNL1 0.0\\n    30 H       1.787873     2.304274    -0.873665 H          1 UNL1 0.0\\n@<TRIPOS>BOND\\n     1      1      2          1\\n     2      2      3          1\\n     3      3      4          1\\n     4      4      5          2\\n     5      5      1          1\\n     6      4      6          1\\n     7      6      7          1\\n     8      7      8          1\\n     9      8      9          1\\n    10      9     10          1\\n    11     10     11          1\\n    12     11      7          2\\n    13     10     12          1\\n    14      1     13          1\\n    15     11     14          1\\n    16     14      5          1\\n    17     14     15          1\\n    18     14     16          1\\n    19      6     17          1\\n    20      6     18          1\\n    21      1     19          1\\n    22      2     20          1\\n    23      2     21          1\\n    24      9     22          1\\n    25      9     23          1\\n    26     10     24          1\\n    27     17     25          1\\n    28     17     26          1\\n    29     17     27          1\\n    30     18     28          1\\n    31     18     29          1\\n    32     18     30          1\\n\",\"mol2\");\n\tviewer_16866743330313003.setStyle({\"stick\": {\"radius\": 0.1}, \"sphere\": {\"scale\": 0.15}});\n\tviewer_16866743330313003.setHoverable({},true,\"\\n            function(atom,viewer,event,container) {\\n                if(!atom.label) {\\n                    atom.label = viewer.addLabel(atom.elem + atom.serial, {position: atom, backgroundColor: 'mintcream', fontColor:'black'});\\n                }\\n            }\\n            \",\"\\n            function(atom,viewer) { \\n                if(atom.label) {\\n                    viewer.removeLabel(atom.label);\\n                    delete atom.label;\\n                }\\n            }\\n            \");\n\tviewer_16866743330313003.zoomTo();\n\tviewer_16866743330313003.setBackgroundColor(null);\nviewer_16866743330313003.render();\n});\n</script>",
      "text/html": [
       "<div id=\"3dmolviewer_16866743330313003\"  style=\"position: relative; width: 1000px; height: 500px\">\n",
       "        <p id=\"3dmolwarning_16866743330313003\" style=\"background-color:#ffcccc;color:black\">You appear to be running in JupyterLab (or JavaScript failed to load for some other reason).  You need to install the 3dmol extension: <br>\n",
       "        <tt>jupyter labextension install jupyterlab_3dmol</tt></p>\n",
       "        </div>\n",
       "<script>\n",
       "\n",
       "var loadScriptAsync = function(uri){\n",
       "  return new Promise((resolve, reject) => {\n",
       "    //this is to ignore the existence of requirejs amd\n",
       "    var savedexports, savedmodule;\n",
       "    if (typeof exports !== 'undefined') savedexports = exports;\n",
       "    else exports = {}\n",
       "    if (typeof module !== 'undefined') savedmodule = module;\n",
       "    else module = {}\n",
       "\n",
       "    var tag = document.createElement('script');\n",
       "    tag.src = uri;\n",
       "    tag.async = true;\n",
       "    tag.onload = () => {\n",
       "        exports = savedexports;\n",
       "        module = savedmodule;\n",
       "        resolve();\n",
       "    };\n",
       "  var firstScriptTag = document.getElementsByTagName('script')[0];\n",
       "  firstScriptTag.parentNode.insertBefore(tag, firstScriptTag);\n",
       "});\n",
       "};\n",
       "\n",
       "if(typeof $3Dmolpromise === 'undefined') {\n",
       "$3Dmolpromise = null;\n",
       "  $3Dmolpromise = loadScriptAsync('https://cdnjs.cloudflare.com/ajax/libs/3Dmol/2.0.1/3Dmol-min.js');\n",
       "}\n",
       "\n",
       "var viewer_16866743330313003 = null;\n",
       "var warn = document.getElementById(\"3dmolwarning_16866743330313003\");\n",
       "if(warn) {\n",
       "    warn.parentNode.removeChild(warn);\n",
       "}\n",
       "$3Dmolpromise.then(function() {\n",
       "viewer_16866743330313003 = $3Dmol.createViewer(document.getElementById(\"3dmolviewer_16866743330313003\"),{backgroundColor:\"white\"});\n",
       "viewer_16866743330313003.zoomTo();\n",
       "\tviewer_16866743330313003.addModel(\"# Produced with molli package\\n@<TRIPOS>MOLECULE\\n1\\n30 32 0 0 0\\nSMALL\\nUSER_CHARGES\\n\\n@<TRIPOS>ATOM\\n     1 C       2.653877    -0.900810     0.000000 C          1 UNL1 0.0\\n     2 C       3.535127     0.312731     0.000000 C          1 UNL1 0.0\\n     3 O       2.653877     1.526273     0.000000 O          1 UNL1 0.0\\n     4 C       1.226794     1.062732     0.000000 C          1 UNL1 0.0\\n     5 N       1.226794    -0.437269     0.000000 N          1 UNL1 0.0\\n     6 C      -0.072164     1.812732     0.000000 C          1 UNL1 0.0\\n     7 C      -1.371123     1.062732     0.000000 C          1 UNL1 0.0\\n     8 O      -2.798206     1.526273     0.000000 O          1 UNL1 0.0\\n     9 C      -3.679456     0.312731     0.000000 C          1 UNL1 0.0\\n    10 C      -2.798206    -0.900810     0.000000 C          1 UNL1 0.0\\n    11 N      -1.371123    -0.437269     0.000000 N          1 UNL1 0.0\\n    12 A1     -3.029977    -1.614352    -1.299453 Unknown    1 UNL1 0.0\\n    13 A1      2.885648    -1.614352     1.299453 Unknown    1 UNL1 0.0\\n    14 C      -0.072164    -1.187268     0.000000 C          1 UNL1 0.0\\n    15 Br     -0.072164    -1.187268     1.499931 Br         1 UNL1 0.0\\n    16 Br      0.677836    -2.486227     0.000000 Br         1 UNL1 0.0\\n    17 C      -0.072164     1.812732     1.500000 C          1 UNL1 0.0\\n    18 C       1.226794     2.562732     0.000000 C          1 UNL1 0.0\\n    19 H       2.859825    -1.534673    -0.837080 H          1 UNL1 0.0\\n    20 H       4.148880     0.312731     0.876544 H          1 UNL1 0.0\\n    21 H       4.148880     0.312731    -0.876544 H          1 UNL1 0.0\\n    22 H      -4.293208     0.312731     0.876544 H          1 UNL1 0.0\\n    23 H      -4.293208     0.312731    -0.876544 H          1 UNL1 0.0\\n    24 H      -3.004154    -1.534673     0.837080 H          1 UNL1 0.0\\n    25 H      -0.367577     0.848149     1.856667 H          1 UNL1 0.0\\n    26 H      -0.759811     2.550858     1.856667 H          1 UNL1 0.0\\n    27 H       0.910895     2.039188     1.856667 H          1 UNL1 0.0\\n    28 H       1.787896     2.304234     0.873638 H          1 UNL1 0.0\\n    29 H       1.031246     3.614711     0.000027 H          1 UNL1 0.0\\n    30 H       1.787873     2.304274    -0.873665 H          1 UNL1 0.0\\n@<TRIPOS>BOND\\n     1      1      2          1\\n     2      2      3          1\\n     3      3      4          1\\n     4      4      5          2\\n     5      5      1          1\\n     6      4      6          1\\n     7      6      7          1\\n     8      7      8          1\\n     9      8      9          1\\n    10      9     10          1\\n    11     10     11          1\\n    12     11      7          2\\n    13     10     12          1\\n    14      1     13          1\\n    15     11     14          1\\n    16     14      5          1\\n    17     14     15          1\\n    18     14     16          1\\n    19      6     17          1\\n    20      6     18          1\\n    21      1     19          1\\n    22      2     20          1\\n    23      2     21          1\\n    24      9     22          1\\n    25      9     23          1\\n    26     10     24          1\\n    27     17     25          1\\n    28     17     26          1\\n    29     17     27          1\\n    30     18     28          1\\n    31     18     29          1\\n    32     18     30          1\\n\",\"mol2\");\n",
       "\tviewer_16866743330313003.setStyle({\"stick\": {\"radius\": 0.1}, \"sphere\": {\"scale\": 0.15}});\n",
       "\tviewer_16866743330313003.setHoverable({},true,\"\\n            function(atom,viewer,event,container) {\\n                if(!atom.label) {\\n                    atom.label = viewer.addLabel(atom.elem + atom.serial, {position: atom, backgroundColor: 'mintcream', fontColor:'black'});\\n                }\\n            }\\n            \",\"\\n            function(atom,viewer) { \\n                if(atom.label) {\\n                    viewer.removeLabel(atom.label);\\n                    delete atom.label;\\n                }\\n            }\\n            \");\n",
       "\tviewer_16866743330313003.zoomTo();\n",
       "\tviewer_16866743330313003.setBackgroundColor(null);\n",
       "viewer_16866743330313003.render();\n",
       "});\n",
       "</script>"
      ]
     },
     "metadata": {},
     "output_type": "display_data"
    },
    {
     "data": {
      "text/plain": [
       "Molecule(name='1', formula='C10 H12 Br2 N2 O2 Unknown2')"
      ]
     },
     "execution_count": 6,
     "metadata": {},
     "output_type": "execute_result"
    }
   ],
   "source": [
    "m_core = ml.MoleculeLibrary('ncsa-testing-data/BOX_cores_new_env.mlib')\n",
    "print(len(m_core))\n",
    "m_core[0]"
   ]
  },
  {
   "cell_type": "code",
   "execution_count": 7,
   "metadata": {},
   "outputs": [
    {
     "name": "stdout",
     "output_type": "stream",
     "text": [
      "15\n"
     ]
    },
    {
     "data": {
      "application/3dmoljs_load.v0": "<div id=\"3dmolviewer_16866743330451093\"  style=\"position: relative; width: 1000px; height: 500px\">\n        <p id=\"3dmolwarning_16866743330451093\" style=\"background-color:#ffcccc;color:black\">You appear to be running in JupyterLab (or JavaScript failed to load for some other reason).  You need to install the 3dmol extension: <br>\n        <tt>jupyter labextension install jupyterlab_3dmol</tt></p>\n        </div>\n<script>\n\nvar loadScriptAsync = function(uri){\n  return new Promise((resolve, reject) => {\n    //this is to ignore the existence of requirejs amd\n    var savedexports, savedmodule;\n    if (typeof exports !== 'undefined') savedexports = exports;\n    else exports = {}\n    if (typeof module !== 'undefined') savedmodule = module;\n    else module = {}\n\n    var tag = document.createElement('script');\n    tag.src = uri;\n    tag.async = true;\n    tag.onload = () => {\n        exports = savedexports;\n        module = savedmodule;\n        resolve();\n    };\n  var firstScriptTag = document.getElementsByTagName('script')[0];\n  firstScriptTag.parentNode.insertBefore(tag, firstScriptTag);\n});\n};\n\nif(typeof $3Dmolpromise === 'undefined') {\n$3Dmolpromise = null;\n  $3Dmolpromise = loadScriptAsync('https://cdnjs.cloudflare.com/ajax/libs/3Dmol/2.0.1/3Dmol-min.js');\n}\n\nvar viewer_16866743330451093 = null;\nvar warn = document.getElementById(\"3dmolwarning_16866743330451093\");\nif(warn) {\n    warn.parentNode.removeChild(warn);\n}\n$3Dmolpromise.then(function() {\nviewer_16866743330451093 = $3Dmol.createViewer(document.getElementById(\"3dmolviewer_16866743330451093\"),{backgroundColor:\"white\"});\nviewer_16866743330451093.zoomTo();\n\tviewer_16866743330451093.addModel(\"# Produced with molli package\\n@<TRIPOS>MOLECULE\\n3\\n11 10 0 0 0\\nSMALL\\nUSER_CHARGES\\n\\n@<TRIPOS>ATOM\\n     1 C       0.000000     0.000000     0.000000 C          1 UNL1 0.0\\n     2 AP1    -1.298958    -0.750000     0.000000 Unknown    1 UNL1 0.0\\n     3 C       1.299018    -0.750035     0.000000 C          1 UNL1 0.0\\n     4 C       0.000000     1.500000     0.000000 C          1 UNL1 0.0\\n     5 H       0.000000     0.000000    -1.070000 H          1 UNL1 0.0\\n     6 H       1.860120    -0.491537     0.873638 H          1 UNL1 0.0\\n     7 H       1.860097    -0.491577    -0.873665 H          1 UNL1 0.0\\n     8 H       1.103470    -1.802014     0.000027 H          1 UNL1 0.0\\n     9 H       1.008806     1.856667     0.000000 H          1 UNL1 0.0\\n    10 H      -0.504403     1.856667     0.873651 H          1 UNL1 0.0\\n    11 H      -0.504403     1.856667    -0.873651 H          1 UNL1 0.0\\n@<TRIPOS>BOND\\n     1      2      1          1\\n     2      1      3          1\\n     3      1      4          1\\n     4      1      5          1\\n     5      3      6          1\\n     6      3      7          1\\n     7      3      8          1\\n     8      4      9          1\\n     9      4     10          1\\n    10      4     11          1\\n\",\"mol2\");\n\tviewer_16866743330451093.setStyle({\"stick\": {\"radius\": 0.1}, \"sphere\": {\"scale\": 0.15}});\n\tviewer_16866743330451093.setHoverable({},true,\"\\n            function(atom,viewer,event,container) {\\n                if(!atom.label) {\\n                    atom.label = viewer.addLabel(atom.elem + atom.serial, {position: atom, backgroundColor: 'mintcream', fontColor:'black'});\\n                }\\n            }\\n            \",\"\\n            function(atom,viewer) { \\n                if(atom.label) {\\n                    viewer.removeLabel(atom.label);\\n                    delete atom.label;\\n                }\\n            }\\n            \");\n\tviewer_16866743330451093.zoomTo();\n\tviewer_16866743330451093.setBackgroundColor(null);\nviewer_16866743330451093.render();\n});\n</script>",
      "text/html": [
       "<div id=\"3dmolviewer_16866743330451093\"  style=\"position: relative; width: 1000px; height: 500px\">\n",
       "        <p id=\"3dmolwarning_16866743330451093\" style=\"background-color:#ffcccc;color:black\">You appear to be running in JupyterLab (or JavaScript failed to load for some other reason).  You need to install the 3dmol extension: <br>\n",
       "        <tt>jupyter labextension install jupyterlab_3dmol</tt></p>\n",
       "        </div>\n",
       "<script>\n",
       "\n",
       "var loadScriptAsync = function(uri){\n",
       "  return new Promise((resolve, reject) => {\n",
       "    //this is to ignore the existence of requirejs amd\n",
       "    var savedexports, savedmodule;\n",
       "    if (typeof exports !== 'undefined') savedexports = exports;\n",
       "    else exports = {}\n",
       "    if (typeof module !== 'undefined') savedmodule = module;\n",
       "    else module = {}\n",
       "\n",
       "    var tag = document.createElement('script');\n",
       "    tag.src = uri;\n",
       "    tag.async = true;\n",
       "    tag.onload = () => {\n",
       "        exports = savedexports;\n",
       "        module = savedmodule;\n",
       "        resolve();\n",
       "    };\n",
       "  var firstScriptTag = document.getElementsByTagName('script')[0];\n",
       "  firstScriptTag.parentNode.insertBefore(tag, firstScriptTag);\n",
       "});\n",
       "};\n",
       "\n",
       "if(typeof $3Dmolpromise === 'undefined') {\n",
       "$3Dmolpromise = null;\n",
       "  $3Dmolpromise = loadScriptAsync('https://cdnjs.cloudflare.com/ajax/libs/3Dmol/2.0.1/3Dmol-min.js');\n",
       "}\n",
       "\n",
       "var viewer_16866743330451093 = null;\n",
       "var warn = document.getElementById(\"3dmolwarning_16866743330451093\");\n",
       "if(warn) {\n",
       "    warn.parentNode.removeChild(warn);\n",
       "}\n",
       "$3Dmolpromise.then(function() {\n",
       "viewer_16866743330451093 = $3Dmol.createViewer(document.getElementById(\"3dmolviewer_16866743330451093\"),{backgroundColor:\"white\"});\n",
       "viewer_16866743330451093.zoomTo();\n",
       "\tviewer_16866743330451093.addModel(\"# Produced with molli package\\n@<TRIPOS>MOLECULE\\n3\\n11 10 0 0 0\\nSMALL\\nUSER_CHARGES\\n\\n@<TRIPOS>ATOM\\n     1 C       0.000000     0.000000     0.000000 C          1 UNL1 0.0\\n     2 AP1    -1.298958    -0.750000     0.000000 Unknown    1 UNL1 0.0\\n     3 C       1.299018    -0.750035     0.000000 C          1 UNL1 0.0\\n     4 C       0.000000     1.500000     0.000000 C          1 UNL1 0.0\\n     5 H       0.000000     0.000000    -1.070000 H          1 UNL1 0.0\\n     6 H       1.860120    -0.491537     0.873638 H          1 UNL1 0.0\\n     7 H       1.860097    -0.491577    -0.873665 H          1 UNL1 0.0\\n     8 H       1.103470    -1.802014     0.000027 H          1 UNL1 0.0\\n     9 H       1.008806     1.856667     0.000000 H          1 UNL1 0.0\\n    10 H      -0.504403     1.856667     0.873651 H          1 UNL1 0.0\\n    11 H      -0.504403     1.856667    -0.873651 H          1 UNL1 0.0\\n@<TRIPOS>BOND\\n     1      2      1          1\\n     2      1      3          1\\n     3      1      4          1\\n     4      1      5          1\\n     5      3      6          1\\n     6      3      7          1\\n     7      3      8          1\\n     8      4      9          1\\n     9      4     10          1\\n    10      4     11          1\\n\",\"mol2\");\n",
       "\tviewer_16866743330451093.setStyle({\"stick\": {\"radius\": 0.1}, \"sphere\": {\"scale\": 0.15}});\n",
       "\tviewer_16866743330451093.setHoverable({},true,\"\\n            function(atom,viewer,event,container) {\\n                if(!atom.label) {\\n                    atom.label = viewer.addLabel(atom.elem + atom.serial, {position: atom, backgroundColor: 'mintcream', fontColor:'black'});\\n                }\\n            }\\n            \",\"\\n            function(atom,viewer) { \\n                if(atom.label) {\\n                    viewer.removeLabel(atom.label);\\n                    delete atom.label;\\n                }\\n            }\\n            \");\n",
       "\tviewer_16866743330451093.zoomTo();\n",
       "\tviewer_16866743330451093.setBackgroundColor(null);\n",
       "viewer_16866743330451093.render();\n",
       "});\n",
       "</script>"
      ]
     },
     "metadata": {},
     "output_type": "display_data"
    },
    {
     "data": {
      "text/plain": [
       "Molecule(name='3', formula='C3 H7 Unknown1')"
      ]
     },
     "execution_count": 7,
     "metadata": {},
     "output_type": "execute_result"
    }
   ],
   "source": [
    "m_subs = ml.MoleculeLibrary('ncsa-testing-data/BOX_subs_new_env.mlib')\n",
    "print(len(m_subs))\n",
    "m_subs[0]"
   ]
  },
  {
   "attachments": {},
   "cell_type": "markdown",
   "metadata": {},
   "source": [
    "2. Combinatorial Expansion"
   ]
  },
  {
   "cell_type": "code",
   "execution_count": 8,
   "metadata": {},
   "outputs": [
    {
     "name": "stdout",
     "output_type": "stream",
     "text": [
      "Will create a library of size 75\n"
     ]
    },
    {
     "name": "stderr",
     "output_type": "stream",
     "text": [
      "100%|██████████| 75/75 [00:01<00:00, 38.75it/s]\n"
     ]
    },
    {
     "data": {
      "text/plain": [
       "CompletedProcess(args=['molli', 'combine', 'ncsa-testing-data/BOX_cores_new_env.mlib', '-s', 'ncsa-testing-data/BOX_subs_new_env.mlib', '-j', '96', '-o', 'ncsa-testing-data/test_combine_new_env.mlib', '-a', 'A1', '--obopt', 'uff', '-m', 'same'], returncode=0)"
      ]
     },
     "execution_count": 8,
     "metadata": {},
     "output_type": "execute_result"
    }
   ],
   "source": [
    "subprocess.run(\n",
    "    [\n",
    "        'molli',\n",
    "        'combine',\n",
    "        'ncsa-testing-data/BOX_cores_new_env.mlib',\n",
    "        '-s',\n",
    "        'ncsa-testing-data/BOX_subs_new_env.mlib',\n",
    "        '-j',\n",
    "        '96', \n",
    "        '-o', \n",
    "        'ncsa-testing-data/test_combine_new_env.mlib', \n",
    "        '-a', \n",
    "        'A1', \n",
    "        '--obopt', \n",
    "        'uff',\n",
    "        '-m',\n",
    "        'same'\n",
    "    ]\n",
    ")\n"
   ]
  },
  {
   "cell_type": "code",
   "execution_count": 9,
   "metadata": {},
   "outputs": [
    {
     "name": "stdout",
     "output_type": "stream",
     "text": [
      "75\n"
     ]
    },
    {
     "data": {
      "application/3dmoljs_load.v0": "<div id=\"3dmolviewer_16866743354353306\"  style=\"position: relative; width: 1000px; height: 500px\">\n        <p id=\"3dmolwarning_16866743354353306\" style=\"background-color:#ffcccc;color:black\">You appear to be running in JupyterLab (or JavaScript failed to load for some other reason).  You need to install the 3dmol extension: <br>\n        <tt>jupyter labextension install jupyterlab_3dmol</tt></p>\n        </div>\n<script>\n\nvar loadScriptAsync = function(uri){\n  return new Promise((resolve, reject) => {\n    //this is to ignore the existence of requirejs amd\n    var savedexports, savedmodule;\n    if (typeof exports !== 'undefined') savedexports = exports;\n    else exports = {}\n    if (typeof module !== 'undefined') savedmodule = module;\n    else module = {}\n\n    var tag = document.createElement('script');\n    tag.src = uri;\n    tag.async = true;\n    tag.onload = () => {\n        exports = savedexports;\n        module = savedmodule;\n        resolve();\n    };\n  var firstScriptTag = document.getElementsByTagName('script')[0];\n  firstScriptTag.parentNode.insertBefore(tag, firstScriptTag);\n});\n};\n\nif(typeof $3Dmolpromise === 'undefined') {\n$3Dmolpromise = null;\n  $3Dmolpromise = loadScriptAsync('https://cdnjs.cloudflare.com/ajax/libs/3Dmol/2.0.1/3Dmol-min.js');\n}\n\nvar viewer_16866743354353306 = null;\nvar warn = document.getElementById(\"3dmolwarning_16866743354353306\");\nif(warn) {\n    warn.parentNode.removeChild(warn);\n}\n$3Dmolpromise.then(function() {\nviewer_16866743354353306 = $3Dmol.createViewer(document.getElementById(\"3dmolviewer_16866743354353306\"),{backgroundColor:\"white\"});\nviewer_16866743354353306.zoomTo();\n\tviewer_16866743354353306.addModel(\"# Produced with molli package\\n@<TRIPOS>MOLECULE\\n1_3_3\\n48 50 0 0 0\\nSMALL\\nUSER_CHARGES\\n\\n@<TRIPOS>ATOM\\n     1 C       0.045902     0.055332     0.269039 C          1 UNL1 0.0\\n     2 C       0.860227     1.353452     0.463063 C          1 UNL1 0.0\\n     3 O      -0.085237     2.337982     0.478055 O          1 UNL1 0.0\\n     4 C      -1.317857     1.812238     0.406711 C          1 UNL1 0.0\\n     5 N      -1.350675     0.528152     0.332704 N          1 UNL1 0.0\\n     6 C      -2.519905     2.703433     0.371030 C          1 UNL1 0.0\\n     7 C      -3.768993     1.897800     0.195062 C          1 UNL1 0.0\\n     8 O      -4.970576     2.494676     0.219822 O          1 UNL1 0.0\\n     9 C      -5.969140     1.574328     0.080769 C          1 UNL1 0.0\\n    10 C      -5.227673     0.219600     0.044602 C          1 UNL1 0.0\\n    11 N      -3.807054     0.619550     0.054233 N          1 UNL1 0.0\\n    12 C      -2.601444    -0.246922     0.123430 C          1 UNL1 0.0\\n    13 Br     -2.956817    -1.478666     1.590120 Br         1 UNL1 0.0\\n    14 Br     -2.306847    -1.230528    -1.532033 Br         1 UNL1 0.0\\n    15 C      -2.594498     3.480993     1.696852 C          1 UNL1 0.0\\n    16 C      -2.396642     3.682611    -0.809655 C          1 UNL1 0.0\\n    17 H       0.238236    -0.278140    -0.774852 H          1 UNL1 0.0\\n    18 H       1.404368     1.408173     1.426496 H          1 UNL1 0.0\\n    19 H       1.585759     1.503742    -0.365424 H          1 UNL1 0.0\\n    20 H      -6.681694     1.623043     0.932464 H          1 UNL1 0.0\\n    21 H      -6.513585     1.818954    -0.852623 H          1 UNL1 0.0\\n    22 H      -5.442912    -0.277978     1.016163 H          1 UNL1 0.0\\n    23 H      -2.688395     2.778715     2.554124 H          1 UNL1 0.0\\n    24 H      -3.471566     4.163806     1.706069 H          1 UNL1 0.0\\n    25 H      -1.680151     4.095528     1.845899 H          1 UNL1 0.0\\n    26 H      -1.483203     4.308255    -0.711011 H          1 UNL1 0.0\\n    27 H      -3.275140     4.362586    -0.851887 H          1 UNL1 0.0\\n    28 H      -2.337759     3.126178    -1.770865 H          1 UNL1 0.0\\n    29 C      -5.817515    -0.681294    -1.092382 C          1 UNL1 0.0\\n    30 C      -5.540178    -2.180696    -0.895032 C          1 UNL1 0.0\\n    31 C      -5.497685    -0.201200    -2.521178 C          1 UNL1 0.0\\n    32 H      -6.924935    -0.620273    -0.985038 H          1 UNL1 0.0\\n    33 H      -4.485812    -2.463318    -0.955275 H          1 UNL1 0.0\\n    34 H      -6.088311    -2.768056    -1.662530 H          1 UNL1 0.0\\n    35 H      -5.912088    -2.501592     0.101352 H          1 UNL1 0.0\\n    36 H      -6.018296    -0.847063    -3.259715 H          1 UNL1 0.0\\n    37 H      -4.422164    -0.222719    -2.747242 H          1 UNL1 0.0\\n    38 H      -5.846217     0.835702    -2.691644 H          1 UNL1 0.0\\n    39 C       0.580435    -1.059628     1.230071 C          1 UNL1 0.0\\n    40 C       0.220798    -2.484566     0.778023 C          1 UNL1 0.0\\n    41 C       0.282724    -0.817651     2.722434 C          1 UNL1 0.0\\n    42 H       1.689915    -1.042113     1.128321 H          1 UNL1 0.0\\n    43 H      -0.847954    -2.714404     0.795704 H          1 UNL1 0.0\\n    44 H       0.733043    -3.225409     1.428584 H          1 UNL1 0.0\\n    45 H       0.577315    -2.648182    -0.261313 H          1 UNL1 0.0\\n    46 H       0.763627    -1.610028     3.334421 H          1 UNL1 0.0\\n    47 H      -0.793028    -0.818102     2.948136 H          1 UNL1 0.0\\n    48 H       0.688313     0.152555     3.068484 H          1 UNL1 0.0\\n@<TRIPOS>BOND\\n     1      1      2          1\\n     2      2      3          1\\n     3      3      4          1\\n     4      4      5          2\\n     5      5      1          1\\n     6      4      6          1\\n     7      6      7          1\\n     8      7      8          1\\n     9      8      9          1\\n    10      9     10          1\\n    11     10     11          1\\n    12     11      7          2\\n    13     11     12          1\\n    14     12      5          1\\n    15     12     13          1\\n    16     12     14          1\\n    17      6     15          1\\n    18      6     16          1\\n    19      1     17          1\\n    20      2     18          1\\n    21      2     19          1\\n    22      9     20          1\\n    23      9     21          1\\n    24     10     22          1\\n    25     15     23          1\\n    26     15     24          1\\n    27     15     25          1\\n    28     16     26          1\\n    29     16     27          1\\n    30     16     28          1\\n    31     29     30          1\\n    32     29     31          1\\n    33     29     32          1\\n    34     30     33          1\\n    35     30     34          1\\n    36     30     35          1\\n    37     31     36          1\\n    38     31     37          1\\n    39     31     38          1\\n    40     10     29          1\\n    41     39     40          1\\n    42     39     41          1\\n    43     39     42          1\\n    44     40     43          1\\n    45     40     44          1\\n    46     40     45          1\\n    47     41     46          1\\n    48     41     47          1\\n    49     41     48          1\\n    50      1     39          1\\n\",\"mol2\");\n\tviewer_16866743354353306.setStyle({\"stick\": {\"radius\": 0.1}, \"sphere\": {\"scale\": 0.15}});\n\tviewer_16866743354353306.setHoverable({},true,\"\\n            function(atom,viewer,event,container) {\\n                if(!atom.label) {\\n                    atom.label = viewer.addLabel(atom.elem + atom.serial, {position: atom, backgroundColor: 'mintcream', fontColor:'black'});\\n                }\\n            }\\n            \",\"\\n            function(atom,viewer) { \\n                if(atom.label) {\\n                    viewer.removeLabel(atom.label);\\n                    delete atom.label;\\n                }\\n            }\\n            \");\n\tviewer_16866743354353306.zoomTo();\n\tviewer_16866743354353306.setBackgroundColor(null);\nviewer_16866743354353306.render();\n});\n</script>",
      "text/html": [
       "<div id=\"3dmolviewer_16866743354353306\"  style=\"position: relative; width: 1000px; height: 500px\">\n",
       "        <p id=\"3dmolwarning_16866743354353306\" style=\"background-color:#ffcccc;color:black\">You appear to be running in JupyterLab (or JavaScript failed to load for some other reason).  You need to install the 3dmol extension: <br>\n",
       "        <tt>jupyter labextension install jupyterlab_3dmol</tt></p>\n",
       "        </div>\n",
       "<script>\n",
       "\n",
       "var loadScriptAsync = function(uri){\n",
       "  return new Promise((resolve, reject) => {\n",
       "    //this is to ignore the existence of requirejs amd\n",
       "    var savedexports, savedmodule;\n",
       "    if (typeof exports !== 'undefined') savedexports = exports;\n",
       "    else exports = {}\n",
       "    if (typeof module !== 'undefined') savedmodule = module;\n",
       "    else module = {}\n",
       "\n",
       "    var tag = document.createElement('script');\n",
       "    tag.src = uri;\n",
       "    tag.async = true;\n",
       "    tag.onload = () => {\n",
       "        exports = savedexports;\n",
       "        module = savedmodule;\n",
       "        resolve();\n",
       "    };\n",
       "  var firstScriptTag = document.getElementsByTagName('script')[0];\n",
       "  firstScriptTag.parentNode.insertBefore(tag, firstScriptTag);\n",
       "});\n",
       "};\n",
       "\n",
       "if(typeof $3Dmolpromise === 'undefined') {\n",
       "$3Dmolpromise = null;\n",
       "  $3Dmolpromise = loadScriptAsync('https://cdnjs.cloudflare.com/ajax/libs/3Dmol/2.0.1/3Dmol-min.js');\n",
       "}\n",
       "\n",
       "var viewer_16866743354353306 = null;\n",
       "var warn = document.getElementById(\"3dmolwarning_16866743354353306\");\n",
       "if(warn) {\n",
       "    warn.parentNode.removeChild(warn);\n",
       "}\n",
       "$3Dmolpromise.then(function() {\n",
       "viewer_16866743354353306 = $3Dmol.createViewer(document.getElementById(\"3dmolviewer_16866743354353306\"),{backgroundColor:\"white\"});\n",
       "viewer_16866743354353306.zoomTo();\n",
       "\tviewer_16866743354353306.addModel(\"# Produced with molli package\\n@<TRIPOS>MOLECULE\\n1_3_3\\n48 50 0 0 0\\nSMALL\\nUSER_CHARGES\\n\\n@<TRIPOS>ATOM\\n     1 C       0.045902     0.055332     0.269039 C          1 UNL1 0.0\\n     2 C       0.860227     1.353452     0.463063 C          1 UNL1 0.0\\n     3 O      -0.085237     2.337982     0.478055 O          1 UNL1 0.0\\n     4 C      -1.317857     1.812238     0.406711 C          1 UNL1 0.0\\n     5 N      -1.350675     0.528152     0.332704 N          1 UNL1 0.0\\n     6 C      -2.519905     2.703433     0.371030 C          1 UNL1 0.0\\n     7 C      -3.768993     1.897800     0.195062 C          1 UNL1 0.0\\n     8 O      -4.970576     2.494676     0.219822 O          1 UNL1 0.0\\n     9 C      -5.969140     1.574328     0.080769 C          1 UNL1 0.0\\n    10 C      -5.227673     0.219600     0.044602 C          1 UNL1 0.0\\n    11 N      -3.807054     0.619550     0.054233 N          1 UNL1 0.0\\n    12 C      -2.601444    -0.246922     0.123430 C          1 UNL1 0.0\\n    13 Br     -2.956817    -1.478666     1.590120 Br         1 UNL1 0.0\\n    14 Br     -2.306847    -1.230528    -1.532033 Br         1 UNL1 0.0\\n    15 C      -2.594498     3.480993     1.696852 C          1 UNL1 0.0\\n    16 C      -2.396642     3.682611    -0.809655 C          1 UNL1 0.0\\n    17 H       0.238236    -0.278140    -0.774852 H          1 UNL1 0.0\\n    18 H       1.404368     1.408173     1.426496 H          1 UNL1 0.0\\n    19 H       1.585759     1.503742    -0.365424 H          1 UNL1 0.0\\n    20 H      -6.681694     1.623043     0.932464 H          1 UNL1 0.0\\n    21 H      -6.513585     1.818954    -0.852623 H          1 UNL1 0.0\\n    22 H      -5.442912    -0.277978     1.016163 H          1 UNL1 0.0\\n    23 H      -2.688395     2.778715     2.554124 H          1 UNL1 0.0\\n    24 H      -3.471566     4.163806     1.706069 H          1 UNL1 0.0\\n    25 H      -1.680151     4.095528     1.845899 H          1 UNL1 0.0\\n    26 H      -1.483203     4.308255    -0.711011 H          1 UNL1 0.0\\n    27 H      -3.275140     4.362586    -0.851887 H          1 UNL1 0.0\\n    28 H      -2.337759     3.126178    -1.770865 H          1 UNL1 0.0\\n    29 C      -5.817515    -0.681294    -1.092382 C          1 UNL1 0.0\\n    30 C      -5.540178    -2.180696    -0.895032 C          1 UNL1 0.0\\n    31 C      -5.497685    -0.201200    -2.521178 C          1 UNL1 0.0\\n    32 H      -6.924935    -0.620273    -0.985038 H          1 UNL1 0.0\\n    33 H      -4.485812    -2.463318    -0.955275 H          1 UNL1 0.0\\n    34 H      -6.088311    -2.768056    -1.662530 H          1 UNL1 0.0\\n    35 H      -5.912088    -2.501592     0.101352 H          1 UNL1 0.0\\n    36 H      -6.018296    -0.847063    -3.259715 H          1 UNL1 0.0\\n    37 H      -4.422164    -0.222719    -2.747242 H          1 UNL1 0.0\\n    38 H      -5.846217     0.835702    -2.691644 H          1 UNL1 0.0\\n    39 C       0.580435    -1.059628     1.230071 C          1 UNL1 0.0\\n    40 C       0.220798    -2.484566     0.778023 C          1 UNL1 0.0\\n    41 C       0.282724    -0.817651     2.722434 C          1 UNL1 0.0\\n    42 H       1.689915    -1.042113     1.128321 H          1 UNL1 0.0\\n    43 H      -0.847954    -2.714404     0.795704 H          1 UNL1 0.0\\n    44 H       0.733043    -3.225409     1.428584 H          1 UNL1 0.0\\n    45 H       0.577315    -2.648182    -0.261313 H          1 UNL1 0.0\\n    46 H       0.763627    -1.610028     3.334421 H          1 UNL1 0.0\\n    47 H      -0.793028    -0.818102     2.948136 H          1 UNL1 0.0\\n    48 H       0.688313     0.152555     3.068484 H          1 UNL1 0.0\\n@<TRIPOS>BOND\\n     1      1      2          1\\n     2      2      3          1\\n     3      3      4          1\\n     4      4      5          2\\n     5      5      1          1\\n     6      4      6          1\\n     7      6      7          1\\n     8      7      8          1\\n     9      8      9          1\\n    10      9     10          1\\n    11     10     11          1\\n    12     11      7          2\\n    13     11     12          1\\n    14     12      5          1\\n    15     12     13          1\\n    16     12     14          1\\n    17      6     15          1\\n    18      6     16          1\\n    19      1     17          1\\n    20      2     18          1\\n    21      2     19          1\\n    22      9     20          1\\n    23      9     21          1\\n    24     10     22          1\\n    25     15     23          1\\n    26     15     24          1\\n    27     15     25          1\\n    28     16     26          1\\n    29     16     27          1\\n    30     16     28          1\\n    31     29     30          1\\n    32     29     31          1\\n    33     29     32          1\\n    34     30     33          1\\n    35     30     34          1\\n    36     30     35          1\\n    37     31     36          1\\n    38     31     37          1\\n    39     31     38          1\\n    40     10     29          1\\n    41     39     40          1\\n    42     39     41          1\\n    43     39     42          1\\n    44     40     43          1\\n    45     40     44          1\\n    46     40     45          1\\n    47     41     46          1\\n    48     41     47          1\\n    49     41     48          1\\n    50      1     39          1\\n\",\"mol2\");\n",
       "\tviewer_16866743354353306.setStyle({\"stick\": {\"radius\": 0.1}, \"sphere\": {\"scale\": 0.15}});\n",
       "\tviewer_16866743354353306.setHoverable({},true,\"\\n            function(atom,viewer,event,container) {\\n                if(!atom.label) {\\n                    atom.label = viewer.addLabel(atom.elem + atom.serial, {position: atom, backgroundColor: 'mintcream', fontColor:'black'});\\n                }\\n            }\\n            \",\"\\n            function(atom,viewer) { \\n                if(atom.label) {\\n                    viewer.removeLabel(atom.label);\\n                    delete atom.label;\\n                }\\n            }\\n            \");\n",
       "\tviewer_16866743354353306.zoomTo();\n",
       "\tviewer_16866743354353306.setBackgroundColor(null);\n",
       "viewer_16866743354353306.render();\n",
       "});\n",
       "</script>"
      ]
     },
     "metadata": {},
     "output_type": "display_data"
    },
    {
     "data": {
      "text/plain": [
       "Molecule(name='1_3_3', formula='C16 H26 Br2 N2 O2')"
      ]
     },
     "execution_count": 9,
     "metadata": {},
     "output_type": "execute_result"
    }
   ],
   "source": [
    "combined = ml.MoleculeLibrary('ncsa-testing-data/test_combine_new_env.mlib')\n",
    "print(len(combined))\n",
    "combined[0]"
   ]
  },
  {
   "cell_type": "code",
   "execution_count": 10,
   "metadata": {},
   "outputs": [
    {
     "data": {
      "application/3dmoljs_load.v0": "<div id=\"3dmolviewer_16866743354634163\"  style=\"position: relative; width: 1000px; height: 500px\">\n        <p id=\"3dmolwarning_16866743354634163\" style=\"background-color:#ffcccc;color:black\">You appear to be running in JupyterLab (or JavaScript failed to load for some other reason).  You need to install the 3dmol extension: <br>\n        <tt>jupyter labextension install jupyterlab_3dmol</tt></p>\n        </div>\n<script>\n\nvar loadScriptAsync = function(uri){\n  return new Promise((resolve, reject) => {\n    //this is to ignore the existence of requirejs amd\n    var savedexports, savedmodule;\n    if (typeof exports !== 'undefined') savedexports = exports;\n    else exports = {}\n    if (typeof module !== 'undefined') savedmodule = module;\n    else module = {}\n\n    var tag = document.createElement('script');\n    tag.src = uri;\n    tag.async = true;\n    tag.onload = () => {\n        exports = savedexports;\n        module = savedmodule;\n        resolve();\n    };\n  var firstScriptTag = document.getElementsByTagName('script')[0];\n  firstScriptTag.parentNode.insertBefore(tag, firstScriptTag);\n});\n};\n\nif(typeof $3Dmolpromise === 'undefined') {\n$3Dmolpromise = null;\n  $3Dmolpromise = loadScriptAsync('https://cdnjs.cloudflare.com/ajax/libs/3Dmol/2.0.1/3Dmol-min.js');\n}\n\nvar viewer_16866743354634163 = null;\nvar warn = document.getElementById(\"3dmolwarning_16866743354634163\");\nif(warn) {\n    warn.parentNode.removeChild(warn);\n}\n$3Dmolpromise.then(function() {\nviewer_16866743354634163 = $3Dmol.createViewer(document.getElementById(\"3dmolviewer_16866743354634163\"),{backgroundColor:\"white\"});\nviewer_16866743354634163.zoomTo();\n\tviewer_16866743354634163.addModel(\"# Produced with molli package\\n@<TRIPOS>MOLECULE\\n3_6_6\\n74 78 0 0 0\\nSMALL\\nUSER_CHARGES\\n\\n@<TRIPOS>ATOM\\n     1 C      -0.238816    -0.316138     0.438712 C          1 UNL1 0.0\\n     2 C       0.716040     0.931491     0.316989 C          1 UNL1 0.0\\n     3 O      -0.173088     1.971756     0.154455 O          1 UNL1 0.0\\n     4 C      -1.444008     1.556872     0.289909 C          1 UNL1 0.0\\n     5 N      -1.561872     0.296552     0.473833 N          1 UNL1 0.0\\n     6 C      -2.608214     2.507613     0.186284 C          1 UNL1 0.0\\n     7 C      -3.893784     1.735147     0.057405 C          1 UNL1 0.0\\n     8 O      -5.071248     2.356946    -0.116201 O          1 UNL1 0.0\\n     9 C      -6.102104     1.450285    -0.067505 C          1 UNL1 0.0\\n    10 C      -5.374718     0.056149    -0.059787 C          1 UNL1 0.0\\n    11 N      -3.983496     0.458864     0.142228 N          1 UNL1 0.0\\n    12 C      -2.854062    -0.416191     0.530524 C          1 UNL1 0.0\\n    13 Br     -3.210866    -0.968287     2.366276 Br         1 UNL1 0.0\\n    14 Br     -2.720887    -2.064727    -0.526808 Br         1 UNL1 0.0\\n    15 C      -2.654880     3.394550     1.441142 C          1 UNL1 0.0\\n    16 C      -2.443073     3.378883    -1.070261 C          1 UNL1 0.0\\n    17 C      -7.248551     1.890284    -1.036660 C          1 UNL1 0.0\\n    18 C      -6.788707     2.336410    -2.445514 C          1 UNL1 0.0\\n    19 C      -8.417869     0.896300    -1.087792 C          1 UNL1 0.0\\n    20 C       1.735475     1.393451     1.409709 C          1 UNL1 0.0\\n    21 C       2.887226     0.415614     1.656009 C          1 UNL1 0.0\\n    22 C       1.103606     1.855224     2.734126 C          1 UNL1 0.0\\n    23 H      -0.226667    -0.860564    -0.529400 H          1 UNL1 0.0\\n    24 H       1.299123     0.807398    -0.622965 H          1 UNL1 0.0\\n    25 H      -6.542271     1.543044     0.952821 H          1 UNL1 0.0\\n    26 H      -5.685223    -0.497724     0.838875 H          1 UNL1 0.0\\n    27 H      -2.779459     2.766100     2.351001 H          1 UNL1 0.0\\n    28 H      -3.507709     4.105829     1.392389 H          1 UNL1 0.0\\n    29 H      -1.716164     3.979492     1.548049 H          1 UNL1 0.0\\n    30 H      -1.506794     3.975504    -1.012895 H          1 UNL1 0.0\\n    31 H      -3.292036     4.091036    -1.166737 H          1 UNL1 0.0\\n    32 H      -2.406445     2.748120    -1.984337 H          1 UNL1 0.0\\n    33 H      -7.655707     2.825415    -0.589128 H          1 UNL1 0.0\\n    34 H      -6.025540     3.138577    -2.357373 H          1 UNL1 0.0\\n    35 H      -7.653137     2.765294    -2.995326 H          1 UNL1 0.0\\n    36 H      -6.367560     1.552490    -3.092885 H          1 UNL1 0.0\\n    37 H      -8.143954    -0.062243    -1.563502 H          1 UNL1 0.0\\n    38 H      -9.253959     1.330631    -1.676373 H          1 UNL1 0.0\\n    39 H      -8.787063     0.688569    -0.061831 H          1 UNL1 0.0\\n    40 H       2.214401     2.301512     0.975415 H          1 UNL1 0.0\\n    41 H       3.664705     0.903257     2.281776 H          1 UNL1 0.0\\n    42 H       3.360448     0.126143     0.693186 H          1 UNL1 0.0\\n    43 H       2.556278    -0.479182     2.204906 H          1 UNL1 0.0\\n    44 H       0.355293     2.653822     2.550962 H          1 UNL1 0.0\\n    45 H       1.891482     2.283715     3.390600 H          1 UNL1 0.0\\n    46 H       0.616381     1.037278     3.288465 H          1 UNL1 0.0\\n    47 C      -5.534597    -0.783865    -1.371343 C          1 UNL1 0.0\\n    48 C      -6.269080    -2.118990    -1.311241 C          1 UNL1 0.0\\n    49 C      -6.887866    -2.657786    -0.158463 C          1 UNL1 0.0\\n    50 C      -7.540423    -3.894016    -0.215940 C          1 UNL1 0.0\\n    51 C      -7.589616    -4.611032    -1.411153 C          1 UNL1 0.0\\n    52 C      -6.987548    -4.093523    -2.556880 C          1 UNL1 0.0\\n    53 C      -6.334955    -2.859132    -2.508230 C          1 UNL1 0.0\\n    54 H      -6.022401    -0.204245    -2.145026 H          1 UNL1 0.0\\n    55 H      -4.556749    -0.929730    -1.850623 H          1 UNL1 0.0\\n    56 H      -6.896057    -2.157280     0.793033 H          1 UNL1 0.0\\n    57 H      -8.011992    -4.296872     0.671374 H          1 UNL1 0.0\\n    58 H      -8.096141    -5.566854    -1.449534 H          1 UNL1 0.0\\n    59 H      -7.026422    -4.648788    -3.485231 H          1 UNL1 0.0\\n    60 H      -5.874638    -2.477266    -3.411671 H          1 UNL1 0.0\\n    61 C       0.013809    -1.364077     1.554086 C          1 UNL1 0.0\\n    62 C       1.135931    -2.360797     1.334464 C          1 UNL1 0.0\\n    63 C       1.950885    -2.392007     0.182741 C          1 UNL1 0.0\\n    64 C       2.938855    -3.372597     0.044617 C          1 UNL1 0.0\\n    65 C       3.128989    -4.326636     1.046579 C          1 UNL1 0.0\\n    66 C       2.332860    -4.302700     2.191962 C          1 UNL1 0.0\\n    67 C       1.342642    -3.328722     2.334330 C          1 UNL1 0.0\\n    68 H       0.108405    -0.872865     2.534925 H          1 UNL1 0.0\\n    69 H      -0.868767    -2.022145     1.612158 H          1 UNL1 0.0\\n    70 H       1.833382    -1.676958    -0.617132 H          1 UNL1 0.0\\n    71 H       3.555596    -3.395901    -0.844263 H          1 UNL1 0.0\\n    72 H       3.891595    -5.086223     0.934869 H          1 UNL1 0.0\\n    73 H       2.478025    -5.042285     2.968885 H          1 UNL1 0.0\\n    74 H       0.728335    -3.330184     3.227104 H          1 UNL1 0.0\\n@<TRIPOS>BOND\\n     1      1      2          1\\n     2      2      3          1\\n     3      3      4          1\\n     4      4      5          2\\n     5      5      1          1\\n     6      4      6          1\\n     7      6      7          1\\n     8      7      8          1\\n     9      8      9          1\\n    10      9     10          1\\n    11     10     11          1\\n    12     11      7          2\\n    13     11     12          1\\n    14     12      5          1\\n    15     12     13          1\\n    16     12     14          1\\n    17      6     15          1\\n    18      6     16          1\\n    19     17     18          1\\n    20     17     19          1\\n    21      9     17          1\\n    22     20     21          1\\n    23     20     22          1\\n    24      2     20          1\\n    25      1     23          1\\n    26      2     24          1\\n    27      9     25          1\\n    28     10     26          1\\n    29     15     27          1\\n    30     15     28          1\\n    31     15     29          1\\n    32     16     30          1\\n    33     16     31          1\\n    34     16     32          1\\n    35     17     33          1\\n    36     18     34          1\\n    37     18     35          1\\n    38     18     36          1\\n    39     19     37          1\\n    40     19     38          1\\n    41     19     39          1\\n    42     20     40          1\\n    43     21     41          1\\n    44     21     42          1\\n    45     21     43          1\\n    46     22     44          1\\n    47     22     45          1\\n    48     22     46          1\\n    49     47     48          1\\n    50     48     49          2\\n    51     49     50          1\\n    52     50     51          2\\n    53     51     52          1\\n    54     52     53          2\\n    55     53     48          1\\n    56     47     54          1\\n    57     47     55          1\\n    58     49     56          1\\n    59     50     57          1\\n    60     51     58          1\\n    61     52     59          1\\n    62     53     60          1\\n    63     10     47          1\\n    64     61     62          1\\n    65     62     63          2\\n    66     63     64          1\\n    67     64     65          2\\n    68     65     66          1\\n    69     66     67          2\\n    70     67     62          1\\n    71     61     68          1\\n    72     61     69          1\\n    73     63     70          1\\n    74     64     71          1\\n    75     65     72          1\\n    76     66     73          1\\n    77     67     74          1\\n    78      1     61          1\\n\",\"mol2\");\n\tviewer_16866743354634163.setStyle({\"stick\": {\"radius\": 0.1}, \"sphere\": {\"scale\": 0.15}});\n\tviewer_16866743354634163.setHoverable({},true,\"\\n            function(atom,viewer,event,container) {\\n                if(!atom.label) {\\n                    atom.label = viewer.addLabel(atom.elem + atom.serial, {position: atom, backgroundColor: 'mintcream', fontColor:'black'});\\n                }\\n            }\\n            \",\"\\n            function(atom,viewer) { \\n                if(atom.label) {\\n                    viewer.removeLabel(atom.label);\\n                    delete atom.label;\\n                }\\n            }\\n            \");\n\tviewer_16866743354634163.zoomTo();\n\tviewer_16866743354634163.setBackgroundColor(null);\nviewer_16866743354634163.render();\n});\n</script>",
      "text/html": [
       "<div id=\"3dmolviewer_16866743354634163\"  style=\"position: relative; width: 1000px; height: 500px\">\n",
       "        <p id=\"3dmolwarning_16866743354634163\" style=\"background-color:#ffcccc;color:black\">You appear to be running in JupyterLab (or JavaScript failed to load for some other reason).  You need to install the 3dmol extension: <br>\n",
       "        <tt>jupyter labextension install jupyterlab_3dmol</tt></p>\n",
       "        </div>\n",
       "<script>\n",
       "\n",
       "var loadScriptAsync = function(uri){\n",
       "  return new Promise((resolve, reject) => {\n",
       "    //this is to ignore the existence of requirejs amd\n",
       "    var savedexports, savedmodule;\n",
       "    if (typeof exports !== 'undefined') savedexports = exports;\n",
       "    else exports = {}\n",
       "    if (typeof module !== 'undefined') savedmodule = module;\n",
       "    else module = {}\n",
       "\n",
       "    var tag = document.createElement('script');\n",
       "    tag.src = uri;\n",
       "    tag.async = true;\n",
       "    tag.onload = () => {\n",
       "        exports = savedexports;\n",
       "        module = savedmodule;\n",
       "        resolve();\n",
       "    };\n",
       "  var firstScriptTag = document.getElementsByTagName('script')[0];\n",
       "  firstScriptTag.parentNode.insertBefore(tag, firstScriptTag);\n",
       "});\n",
       "};\n",
       "\n",
       "if(typeof $3Dmolpromise === 'undefined') {\n",
       "$3Dmolpromise = null;\n",
       "  $3Dmolpromise = loadScriptAsync('https://cdnjs.cloudflare.com/ajax/libs/3Dmol/2.0.1/3Dmol-min.js');\n",
       "}\n",
       "\n",
       "var viewer_16866743354634163 = null;\n",
       "var warn = document.getElementById(\"3dmolwarning_16866743354634163\");\n",
       "if(warn) {\n",
       "    warn.parentNode.removeChild(warn);\n",
       "}\n",
       "$3Dmolpromise.then(function() {\n",
       "viewer_16866743354634163 = $3Dmol.createViewer(document.getElementById(\"3dmolviewer_16866743354634163\"),{backgroundColor:\"white\"});\n",
       "viewer_16866743354634163.zoomTo();\n",
       "\tviewer_16866743354634163.addModel(\"# Produced with molli package\\n@<TRIPOS>MOLECULE\\n3_6_6\\n74 78 0 0 0\\nSMALL\\nUSER_CHARGES\\n\\n@<TRIPOS>ATOM\\n     1 C      -0.238816    -0.316138     0.438712 C          1 UNL1 0.0\\n     2 C       0.716040     0.931491     0.316989 C          1 UNL1 0.0\\n     3 O      -0.173088     1.971756     0.154455 O          1 UNL1 0.0\\n     4 C      -1.444008     1.556872     0.289909 C          1 UNL1 0.0\\n     5 N      -1.561872     0.296552     0.473833 N          1 UNL1 0.0\\n     6 C      -2.608214     2.507613     0.186284 C          1 UNL1 0.0\\n     7 C      -3.893784     1.735147     0.057405 C          1 UNL1 0.0\\n     8 O      -5.071248     2.356946    -0.116201 O          1 UNL1 0.0\\n     9 C      -6.102104     1.450285    -0.067505 C          1 UNL1 0.0\\n    10 C      -5.374718     0.056149    -0.059787 C          1 UNL1 0.0\\n    11 N      -3.983496     0.458864     0.142228 N          1 UNL1 0.0\\n    12 C      -2.854062    -0.416191     0.530524 C          1 UNL1 0.0\\n    13 Br     -3.210866    -0.968287     2.366276 Br         1 UNL1 0.0\\n    14 Br     -2.720887    -2.064727    -0.526808 Br         1 UNL1 0.0\\n    15 C      -2.654880     3.394550     1.441142 C          1 UNL1 0.0\\n    16 C      -2.443073     3.378883    -1.070261 C          1 UNL1 0.0\\n    17 C      -7.248551     1.890284    -1.036660 C          1 UNL1 0.0\\n    18 C      -6.788707     2.336410    -2.445514 C          1 UNL1 0.0\\n    19 C      -8.417869     0.896300    -1.087792 C          1 UNL1 0.0\\n    20 C       1.735475     1.393451     1.409709 C          1 UNL1 0.0\\n    21 C       2.887226     0.415614     1.656009 C          1 UNL1 0.0\\n    22 C       1.103606     1.855224     2.734126 C          1 UNL1 0.0\\n    23 H      -0.226667    -0.860564    -0.529400 H          1 UNL1 0.0\\n    24 H       1.299123     0.807398    -0.622965 H          1 UNL1 0.0\\n    25 H      -6.542271     1.543044     0.952821 H          1 UNL1 0.0\\n    26 H      -5.685223    -0.497724     0.838875 H          1 UNL1 0.0\\n    27 H      -2.779459     2.766100     2.351001 H          1 UNL1 0.0\\n    28 H      -3.507709     4.105829     1.392389 H          1 UNL1 0.0\\n    29 H      -1.716164     3.979492     1.548049 H          1 UNL1 0.0\\n    30 H      -1.506794     3.975504    -1.012895 H          1 UNL1 0.0\\n    31 H      -3.292036     4.091036    -1.166737 H          1 UNL1 0.0\\n    32 H      -2.406445     2.748120    -1.984337 H          1 UNL1 0.0\\n    33 H      -7.655707     2.825415    -0.589128 H          1 UNL1 0.0\\n    34 H      -6.025540     3.138577    -2.357373 H          1 UNL1 0.0\\n    35 H      -7.653137     2.765294    -2.995326 H          1 UNL1 0.0\\n    36 H      -6.367560     1.552490    -3.092885 H          1 UNL1 0.0\\n    37 H      -8.143954    -0.062243    -1.563502 H          1 UNL1 0.0\\n    38 H      -9.253959     1.330631    -1.676373 H          1 UNL1 0.0\\n    39 H      -8.787063     0.688569    -0.061831 H          1 UNL1 0.0\\n    40 H       2.214401     2.301512     0.975415 H          1 UNL1 0.0\\n    41 H       3.664705     0.903257     2.281776 H          1 UNL1 0.0\\n    42 H       3.360448     0.126143     0.693186 H          1 UNL1 0.0\\n    43 H       2.556278    -0.479182     2.204906 H          1 UNL1 0.0\\n    44 H       0.355293     2.653822     2.550962 H          1 UNL1 0.0\\n    45 H       1.891482     2.283715     3.390600 H          1 UNL1 0.0\\n    46 H       0.616381     1.037278     3.288465 H          1 UNL1 0.0\\n    47 C      -5.534597    -0.783865    -1.371343 C          1 UNL1 0.0\\n    48 C      -6.269080    -2.118990    -1.311241 C          1 UNL1 0.0\\n    49 C      -6.887866    -2.657786    -0.158463 C          1 UNL1 0.0\\n    50 C      -7.540423    -3.894016    -0.215940 C          1 UNL1 0.0\\n    51 C      -7.589616    -4.611032    -1.411153 C          1 UNL1 0.0\\n    52 C      -6.987548    -4.093523    -2.556880 C          1 UNL1 0.0\\n    53 C      -6.334955    -2.859132    -2.508230 C          1 UNL1 0.0\\n    54 H      -6.022401    -0.204245    -2.145026 H          1 UNL1 0.0\\n    55 H      -4.556749    -0.929730    -1.850623 H          1 UNL1 0.0\\n    56 H      -6.896057    -2.157280     0.793033 H          1 UNL1 0.0\\n    57 H      -8.011992    -4.296872     0.671374 H          1 UNL1 0.0\\n    58 H      -8.096141    -5.566854    -1.449534 H          1 UNL1 0.0\\n    59 H      -7.026422    -4.648788    -3.485231 H          1 UNL1 0.0\\n    60 H      -5.874638    -2.477266    -3.411671 H          1 UNL1 0.0\\n    61 C       0.013809    -1.364077     1.554086 C          1 UNL1 0.0\\n    62 C       1.135931    -2.360797     1.334464 C          1 UNL1 0.0\\n    63 C       1.950885    -2.392007     0.182741 C          1 UNL1 0.0\\n    64 C       2.938855    -3.372597     0.044617 C          1 UNL1 0.0\\n    65 C       3.128989    -4.326636     1.046579 C          1 UNL1 0.0\\n    66 C       2.332860    -4.302700     2.191962 C          1 UNL1 0.0\\n    67 C       1.342642    -3.328722     2.334330 C          1 UNL1 0.0\\n    68 H       0.108405    -0.872865     2.534925 H          1 UNL1 0.0\\n    69 H      -0.868767    -2.022145     1.612158 H          1 UNL1 0.0\\n    70 H       1.833382    -1.676958    -0.617132 H          1 UNL1 0.0\\n    71 H       3.555596    -3.395901    -0.844263 H          1 UNL1 0.0\\n    72 H       3.891595    -5.086223     0.934869 H          1 UNL1 0.0\\n    73 H       2.478025    -5.042285     2.968885 H          1 UNL1 0.0\\n    74 H       0.728335    -3.330184     3.227104 H          1 UNL1 0.0\\n@<TRIPOS>BOND\\n     1      1      2          1\\n     2      2      3          1\\n     3      3      4          1\\n     4      4      5          2\\n     5      5      1          1\\n     6      4      6          1\\n     7      6      7          1\\n     8      7      8          1\\n     9      8      9          1\\n    10      9     10          1\\n    11     10     11          1\\n    12     11      7          2\\n    13     11     12          1\\n    14     12      5          1\\n    15     12     13          1\\n    16     12     14          1\\n    17      6     15          1\\n    18      6     16          1\\n    19     17     18          1\\n    20     17     19          1\\n    21      9     17          1\\n    22     20     21          1\\n    23     20     22          1\\n    24      2     20          1\\n    25      1     23          1\\n    26      2     24          1\\n    27      9     25          1\\n    28     10     26          1\\n    29     15     27          1\\n    30     15     28          1\\n    31     15     29          1\\n    32     16     30          1\\n    33     16     31          1\\n    34     16     32          1\\n    35     17     33          1\\n    36     18     34          1\\n    37     18     35          1\\n    38     18     36          1\\n    39     19     37          1\\n    40     19     38          1\\n    41     19     39          1\\n    42     20     40          1\\n    43     21     41          1\\n    44     21     42          1\\n    45     21     43          1\\n    46     22     44          1\\n    47     22     45          1\\n    48     22     46          1\\n    49     47     48          1\\n    50     48     49          2\\n    51     49     50          1\\n    52     50     51          2\\n    53     51     52          1\\n    54     52     53          2\\n    55     53     48          1\\n    56     47     54          1\\n    57     47     55          1\\n    58     49     56          1\\n    59     50     57          1\\n    60     51     58          1\\n    61     52     59          1\\n    62     53     60          1\\n    63     10     47          1\\n    64     61     62          1\\n    65     62     63          2\\n    66     63     64          1\\n    67     64     65          2\\n    68     65     66          1\\n    69     66     67          2\\n    70     67     62          1\\n    71     61     68          1\\n    72     61     69          1\\n    73     63     70          1\\n    74     64     71          1\\n    75     65     72          1\\n    76     66     73          1\\n    77     67     74          1\\n    78      1     61          1\\n\",\"mol2\");\n",
       "\tviewer_16866743354634163.setStyle({\"stick\": {\"radius\": 0.1}, \"sphere\": {\"scale\": 0.15}});\n",
       "\tviewer_16866743354634163.setHoverable({},true,\"\\n            function(atom,viewer,event,container) {\\n                if(!atom.label) {\\n                    atom.label = viewer.addLabel(atom.elem + atom.serial, {position: atom, backgroundColor: 'mintcream', fontColor:'black'});\\n                }\\n            }\\n            \",\"\\n            function(atom,viewer) { \\n                if(atom.label) {\\n                    viewer.removeLabel(atom.label);\\n                    delete atom.label;\\n                }\\n            }\\n            \");\n",
       "\tviewer_16866743354634163.zoomTo();\n",
       "\tviewer_16866743354634163.setBackgroundColor(null);\n",
       "viewer_16866743354634163.render();\n",
       "});\n",
       "</script>"
      ]
     },
     "metadata": {},
     "output_type": "display_data"
    },
    {
     "data": {
      "text/plain": [
       "Molecule(name='3_6_6', formula='C30 H38 Br2 N2 O2')"
      ]
     },
     "execution_count": 10,
     "metadata": {},
     "output_type": "execute_result"
    }
   ],
   "source": [
    "combined[42]"
   ]
  },
  {
   "attachments": {},
   "cell_type": "markdown",
   "metadata": {},
   "source": [
    "3. Conformer Generation"
   ]
  },
  {
   "cell_type": "code",
   "execution_count": 11,
   "metadata": {},
   "outputs": [
    {
     "name": "stderr",
     "output_type": "stream",
     "text": [
      "100%|██████████| 75/75 [02:12<00:00,  1.77s/it]\n"
     ]
    },
    {
     "data": {
      "text/plain": [
       "CompletedProcess(args=['molli', 'conformers', 'ncsa-testing-data/test_combine_new_env.mlib', '-n', '50', '-o', 'ncsa-testing-data/test_conformers_new_env.mlib', '-t', '-p', '100'], returncode=0)"
      ]
     },
     "execution_count": 11,
     "metadata": {},
     "output_type": "execute_result"
    }
   ],
   "source": [
    "subprocess.run(['molli', \n",
    "                'conformers', \n",
    "                'ncsa-testing-data/test_combine_new_env.mlib', \n",
    "                '-n', \n",
    "                '50', \n",
    "                '-o', \n",
    "                'ncsa-testing-data/test_conformers_new_env.mlib', \n",
    "                '-t', \n",
    "                '-p', \n",
    "                '100'])"
   ]
  },
  {
   "cell_type": "code",
   "execution_count": 12,
   "metadata": {},
   "outputs": [
    {
     "name": "stdout",
     "output_type": "stream",
     "text": [
      "75\n"
     ]
    }
   ],
   "source": [
    "clib = ml.ConformerLibrary('ncsa-testing-data/test_conformers_new_env.mlib')\n",
    "print(len(clib))"
   ]
  },
  {
   "cell_type": "code",
   "execution_count": 13,
   "metadata": {},
   "outputs": [
    {
     "name": "stdout",
     "output_type": "stream",
     "text": [
      "8028 conformers in library\n"
     ]
    }
   ],
   "source": [
    "i = 0\n",
    "for conf in clib:\n",
    "    i += conf.n_conformers\n",
    "    # print(conf)\n",
    "print(str(i) + ' conformers in library')"
   ]
  },
  {
   "cell_type": "code",
   "execution_count": 14,
   "metadata": {},
   "outputs": [
    {
     "data": {
      "application/3dmoljs_load.v0": "<div id=\"3dmolviewer_16866744694015985\"  style=\"position: relative; width: 1000px; height: 500px\">\n        <p id=\"3dmolwarning_16866744694015985\" style=\"background-color:#ffcccc;color:black\">You appear to be running in JupyterLab (or JavaScript failed to load for some other reason).  You need to install the 3dmol extension: <br>\n        <tt>jupyter labextension install jupyterlab_3dmol</tt></p>\n        </div>\n<script>\n\nvar loadScriptAsync = function(uri){\n  return new Promise((resolve, reject) => {\n    //this is to ignore the existence of requirejs amd\n    var savedexports, savedmodule;\n    if (typeof exports !== 'undefined') savedexports = exports;\n    else exports = {}\n    if (typeof module !== 'undefined') savedmodule = module;\n    else module = {}\n\n    var tag = document.createElement('script');\n    tag.src = uri;\n    tag.async = true;\n    tag.onload = () => {\n        exports = savedexports;\n        module = savedmodule;\n        resolve();\n    };\n  var firstScriptTag = document.getElementsByTagName('script')[0];\n  firstScriptTag.parentNode.insertBefore(tag, firstScriptTag);\n});\n};\n\nif(typeof $3Dmolpromise === 'undefined') {\n$3Dmolpromise = null;\n  $3Dmolpromise = loadScriptAsync('https://cdnjs.cloudflare.com/ajax/libs/3Dmol/2.0.1/3Dmol-min.js');\n}\n\nvar viewer_16866744694015985 = null;\nvar warn = document.getElementById(\"3dmolwarning_16866744694015985\");\nif(warn) {\n    warn.parentNode.removeChild(warn);\n}\n$3Dmolpromise.then(function() {\nviewer_16866744694015985 = $3Dmol.createViewer(document.getElementById(\"3dmolviewer_16866744694015985\"),{backgroundColor:\"white\"});\nviewer_16866744694015985.zoomTo();\n\tviewer_16866744694015985.addModel(\"# Produced with molli package\\n@<TRIPOS>MOLECULE\\n1_3_3\\n48 50 0 0 0\\nSMALL\\nUSER_CHARGES\\n\\n@<TRIPOS>ATOM\\n     1 C      -0.000300    -0.028900     0.608400 C.3        1 UNL1 0.0\\n     2 C       0.805900     1.171200     0.095600 C.3        1 UNL1 0.0\\n     3 O      -0.059400     2.283700     0.403400 O.2        1 UNL1 0.0\\n     4 C      -1.306300     1.817100     0.383600 C.2        1 UNL1 0.0\\n     5 N      -1.363300     0.541800     0.379600 N.2        1 UNL1 0.0\\n     6 C      -2.514300     2.688800     0.325000 C.3        1 UNL1 0.0\\n     7 C      -3.769600     1.875700     0.293200 C.2        1 UNL1 0.0\\n     8 O      -4.952200     2.383000     0.630500 O.2        1 UNL1 0.0\\n     9 C      -5.860000     1.291700     0.824700 C.3        1 UNL1 0.0\\n    10 C      -5.216600     0.123600     0.068100 C.3        1 UNL1 0.0\\n    11 N      -3.811100     0.637700    -0.021700 N.2        1 UNL1 0.0\\n    12 C      -2.547100    -0.145200    -0.248400 C.3        1 UNL1 0.0\\n    13 BR     -2.136600    -0.147500    -2.196600 Br         1 UNL1 0.0\\n    14 BR     -2.726300    -1.993500     0.345500 Br         1 UNL1 0.0\\n    15 C      -2.515000     3.562900     1.589000 C.3        1 UNL1 0.0\\n    16 C      -2.462200     3.575300    -0.922900 C.3        1 UNL1 0.0\\n    17 H       0.155300    -0.929100     0.006900 H          1 UNL1 0.0\\n    18 H       1.774300     1.318800     0.578400 H          1 UNL1 0.0\\n    19 H       0.954200     1.141800    -0.990700 H          1 UNL1 0.0\\n    20 H      -5.924400     1.091100     1.900700 H          1 UNL1 0.0\\n    21 H      -6.855900     1.567100     0.465000 H          1 UNL1 0.0\\n    22 H      -5.253200    -0.768100     0.700900 H          1 UNL1 0.0\\n    23 H      -1.597100     4.156900     1.668300 H          1 UNL1 0.0\\n    24 H      -3.361100     4.259500     1.598100 H          1 UNL1 0.0\\n    25 H      -2.586200     2.947400     2.494100 H          1 UNL1 0.0\\n    26 H      -1.567900     4.208800    -0.927500 H          1 UNL1 0.0\\n    27 H      -2.442300     2.978900    -1.841200 H          1 UNL1 0.0\\n    28 H      -3.339000     4.230500    -0.981900 H          1 UNL1 0.0\\n    29 C      -5.933600    -0.120700    -1.279200 C.3        1 UNL1 0.0\\n    30 C      -5.812800     1.002600    -2.313500 C.3        1 UNL1 0.0\\n    31 C      -5.616400    -1.480900    -1.901900 C.3        1 UNL1 0.0\\n    32 H      -7.005000    -0.182300    -1.035200 H          1 UNL1 0.0\\n    33 H      -4.789500     1.132000    -2.670500 H          1 UNL1 0.0\\n    34 H      -6.437700     0.784500    -3.186900 H          1 UNL1 0.0\\n    35 H      -6.153100     1.959200    -1.905400 H          1 UNL1 0.0\\n    36 H      -4.606000    -1.537500    -2.302700 H          1 UNL1 0.0\\n    37 H      -5.742500    -2.284600    -1.169000 H          1 UNL1 0.0\\n    38 H      -6.302700    -1.687700    -2.731000 H          1 UNL1 0.0\\n    39 C       0.300600    -0.239600     2.122800 C.3        1 UNL1 0.0\\n    40 C       1.675200    -0.907800     2.295100 C.3        1 UNL1 0.0\\n    41 C      -0.721300    -1.063600     2.905800 C.3        1 UNL1 0.0\\n    42 H       0.349000     0.740100     2.619000 H          1 UNL1 0.0\\n    43 H       1.914500    -1.036500     3.356500 H          1 UNL1 0.0\\n    44 H       2.478900    -0.312000     1.854100 H          1 UNL1 0.0\\n    45 H       1.692100    -1.896900     1.824200 H          1 UNL1 0.0\\n    46 H      -0.437100    -1.114900     3.963500 H          1 UNL1 0.0\\n    47 H      -0.771800    -2.092700     2.539400 H          1 UNL1 0.0\\n    48 H      -1.716200    -0.610800     2.873600 H          1 UNL1 0.0\\n@<TRIPOS>BOND\\n     1      1      2          1\\n     2      2      3          1\\n     3      3      4          1\\n     4      4      5          2\\n     5      5      1          1\\n     6      4      6          1\\n     7      6      7          1\\n     8      7      8          1\\n     9      8      9          1\\n    10      9     10          1\\n    11     10     11          1\\n    12     11      7          2\\n    13     11     12          1\\n    14     12      5          1\\n    15     12     13          1\\n    16     12     14          1\\n    17      6     15          1\\n    18      6     16          1\\n    19      1     17          1\\n    20      2     18          1\\n    21      2     19          1\\n    22      9     20          1\\n    23      9     21          1\\n    24     10     22          1\\n    25     15     23          1\\n    26     15     24          1\\n    27     15     25          1\\n    28     16     26          1\\n    29     16     27          1\\n    30     16     28          1\\n    31     29     30          1\\n    32     29     31          1\\n    33     29     32          1\\n    34     30     33          1\\n    35     30     34          1\\n    36     30     35          1\\n    37     31     36          1\\n    38     31     37          1\\n    39     31     38          1\\n    40     10     29          1\\n    41     39     40          1\\n    42     39     41          1\\n    43     39     42          1\\n    44     40     43          1\\n    45     40     44          1\\n    46     40     45          1\\n    47     41     46          1\\n    48     41     47          1\\n    49     41     48          1\\n    50      1     39          1\\n\",\"mol2\");\n\tviewer_16866744694015985.setStyle({\"stick\": {\"radius\": 0.1}, \"sphere\": {\"scale\": 0.15}});\n\tviewer_16866744694015985.setHoverable({},true,\"\\n            function(atom,viewer,event,container) {\\n                if(!atom.label) {\\n                    atom.label = viewer.addLabel(atom.elem + atom.serial, {position: atom, backgroundColor: 'mintcream', fontColor:'black'});\\n                }\\n            }\\n            \",\"\\n            function(atom,viewer) { \\n                if(atom.label) {\\n                    viewer.removeLabel(atom.label);\\n                    delete atom.label;\\n                }\\n            }\\n            \");\n\tviewer_16866744694015985.zoomTo();\n\tviewer_16866744694015985.setBackgroundColor(null);\nviewer_16866744694015985.render();\n});\n</script>",
      "text/html": [
       "<div id=\"3dmolviewer_16866744694015985\"  style=\"position: relative; width: 1000px; height: 500px\">\n",
       "        <p id=\"3dmolwarning_16866744694015985\" style=\"background-color:#ffcccc;color:black\">You appear to be running in JupyterLab (or JavaScript failed to load for some other reason).  You need to install the 3dmol extension: <br>\n",
       "        <tt>jupyter labextension install jupyterlab_3dmol</tt></p>\n",
       "        </div>\n",
       "<script>\n",
       "\n",
       "var loadScriptAsync = function(uri){\n",
       "  return new Promise((resolve, reject) => {\n",
       "    //this is to ignore the existence of requirejs amd\n",
       "    var savedexports, savedmodule;\n",
       "    if (typeof exports !== 'undefined') savedexports = exports;\n",
       "    else exports = {}\n",
       "    if (typeof module !== 'undefined') savedmodule = module;\n",
       "    else module = {}\n",
       "\n",
       "    var tag = document.createElement('script');\n",
       "    tag.src = uri;\n",
       "    tag.async = true;\n",
       "    tag.onload = () => {\n",
       "        exports = savedexports;\n",
       "        module = savedmodule;\n",
       "        resolve();\n",
       "    };\n",
       "  var firstScriptTag = document.getElementsByTagName('script')[0];\n",
       "  firstScriptTag.parentNode.insertBefore(tag, firstScriptTag);\n",
       "});\n",
       "};\n",
       "\n",
       "if(typeof $3Dmolpromise === 'undefined') {\n",
       "$3Dmolpromise = null;\n",
       "  $3Dmolpromise = loadScriptAsync('https://cdnjs.cloudflare.com/ajax/libs/3Dmol/2.0.1/3Dmol-min.js');\n",
       "}\n",
       "\n",
       "var viewer_16866744694015985 = null;\n",
       "var warn = document.getElementById(\"3dmolwarning_16866744694015985\");\n",
       "if(warn) {\n",
       "    warn.parentNode.removeChild(warn);\n",
       "}\n",
       "$3Dmolpromise.then(function() {\n",
       "viewer_16866744694015985 = $3Dmol.createViewer(document.getElementById(\"3dmolviewer_16866744694015985\"),{backgroundColor:\"white\"});\n",
       "viewer_16866744694015985.zoomTo();\n",
       "\tviewer_16866744694015985.addModel(\"# Produced with molli package\\n@<TRIPOS>MOLECULE\\n1_3_3\\n48 50 0 0 0\\nSMALL\\nUSER_CHARGES\\n\\n@<TRIPOS>ATOM\\n     1 C      -0.000300    -0.028900     0.608400 C.3        1 UNL1 0.0\\n     2 C       0.805900     1.171200     0.095600 C.3        1 UNL1 0.0\\n     3 O      -0.059400     2.283700     0.403400 O.2        1 UNL1 0.0\\n     4 C      -1.306300     1.817100     0.383600 C.2        1 UNL1 0.0\\n     5 N      -1.363300     0.541800     0.379600 N.2        1 UNL1 0.0\\n     6 C      -2.514300     2.688800     0.325000 C.3        1 UNL1 0.0\\n     7 C      -3.769600     1.875700     0.293200 C.2        1 UNL1 0.0\\n     8 O      -4.952200     2.383000     0.630500 O.2        1 UNL1 0.0\\n     9 C      -5.860000     1.291700     0.824700 C.3        1 UNL1 0.0\\n    10 C      -5.216600     0.123600     0.068100 C.3        1 UNL1 0.0\\n    11 N      -3.811100     0.637700    -0.021700 N.2        1 UNL1 0.0\\n    12 C      -2.547100    -0.145200    -0.248400 C.3        1 UNL1 0.0\\n    13 BR     -2.136600    -0.147500    -2.196600 Br         1 UNL1 0.0\\n    14 BR     -2.726300    -1.993500     0.345500 Br         1 UNL1 0.0\\n    15 C      -2.515000     3.562900     1.589000 C.3        1 UNL1 0.0\\n    16 C      -2.462200     3.575300    -0.922900 C.3        1 UNL1 0.0\\n    17 H       0.155300    -0.929100     0.006900 H          1 UNL1 0.0\\n    18 H       1.774300     1.318800     0.578400 H          1 UNL1 0.0\\n    19 H       0.954200     1.141800    -0.990700 H          1 UNL1 0.0\\n    20 H      -5.924400     1.091100     1.900700 H          1 UNL1 0.0\\n    21 H      -6.855900     1.567100     0.465000 H          1 UNL1 0.0\\n    22 H      -5.253200    -0.768100     0.700900 H          1 UNL1 0.0\\n    23 H      -1.597100     4.156900     1.668300 H          1 UNL1 0.0\\n    24 H      -3.361100     4.259500     1.598100 H          1 UNL1 0.0\\n    25 H      -2.586200     2.947400     2.494100 H          1 UNL1 0.0\\n    26 H      -1.567900     4.208800    -0.927500 H          1 UNL1 0.0\\n    27 H      -2.442300     2.978900    -1.841200 H          1 UNL1 0.0\\n    28 H      -3.339000     4.230500    -0.981900 H          1 UNL1 0.0\\n    29 C      -5.933600    -0.120700    -1.279200 C.3        1 UNL1 0.0\\n    30 C      -5.812800     1.002600    -2.313500 C.3        1 UNL1 0.0\\n    31 C      -5.616400    -1.480900    -1.901900 C.3        1 UNL1 0.0\\n    32 H      -7.005000    -0.182300    -1.035200 H          1 UNL1 0.0\\n    33 H      -4.789500     1.132000    -2.670500 H          1 UNL1 0.0\\n    34 H      -6.437700     0.784500    -3.186900 H          1 UNL1 0.0\\n    35 H      -6.153100     1.959200    -1.905400 H          1 UNL1 0.0\\n    36 H      -4.606000    -1.537500    -2.302700 H          1 UNL1 0.0\\n    37 H      -5.742500    -2.284600    -1.169000 H          1 UNL1 0.0\\n    38 H      -6.302700    -1.687700    -2.731000 H          1 UNL1 0.0\\n    39 C       0.300600    -0.239600     2.122800 C.3        1 UNL1 0.0\\n    40 C       1.675200    -0.907800     2.295100 C.3        1 UNL1 0.0\\n    41 C      -0.721300    -1.063600     2.905800 C.3        1 UNL1 0.0\\n    42 H       0.349000     0.740100     2.619000 H          1 UNL1 0.0\\n    43 H       1.914500    -1.036500     3.356500 H          1 UNL1 0.0\\n    44 H       2.478900    -0.312000     1.854100 H          1 UNL1 0.0\\n    45 H       1.692100    -1.896900     1.824200 H          1 UNL1 0.0\\n    46 H      -0.437100    -1.114900     3.963500 H          1 UNL1 0.0\\n    47 H      -0.771800    -2.092700     2.539400 H          1 UNL1 0.0\\n    48 H      -1.716200    -0.610800     2.873600 H          1 UNL1 0.0\\n@<TRIPOS>BOND\\n     1      1      2          1\\n     2      2      3          1\\n     3      3      4          1\\n     4      4      5          2\\n     5      5      1          1\\n     6      4      6          1\\n     7      6      7          1\\n     8      7      8          1\\n     9      8      9          1\\n    10      9     10          1\\n    11     10     11          1\\n    12     11      7          2\\n    13     11     12          1\\n    14     12      5          1\\n    15     12     13          1\\n    16     12     14          1\\n    17      6     15          1\\n    18      6     16          1\\n    19      1     17          1\\n    20      2     18          1\\n    21      2     19          1\\n    22      9     20          1\\n    23      9     21          1\\n    24     10     22          1\\n    25     15     23          1\\n    26     15     24          1\\n    27     15     25          1\\n    28     16     26          1\\n    29     16     27          1\\n    30     16     28          1\\n    31     29     30          1\\n    32     29     31          1\\n    33     29     32          1\\n    34     30     33          1\\n    35     30     34          1\\n    36     30     35          1\\n    37     31     36          1\\n    38     31     37          1\\n    39     31     38          1\\n    40     10     29          1\\n    41     39     40          1\\n    42     39     41          1\\n    43     39     42          1\\n    44     40     43          1\\n    45     40     44          1\\n    46     40     45          1\\n    47     41     46          1\\n    48     41     47          1\\n    49     41     48          1\\n    50      1     39          1\\n\",\"mol2\");\n",
       "\tviewer_16866744694015985.setStyle({\"stick\": {\"radius\": 0.1}, \"sphere\": {\"scale\": 0.15}});\n",
       "\tviewer_16866744694015985.setHoverable({},true,\"\\n            function(atom,viewer,event,container) {\\n                if(!atom.label) {\\n                    atom.label = viewer.addLabel(atom.elem + atom.serial, {position: atom, backgroundColor: 'mintcream', fontColor:'black'});\\n                }\\n            }\\n            \",\"\\n            function(atom,viewer) { \\n                if(atom.label) {\\n                    viewer.removeLabel(atom.label);\\n                    delete atom.label;\\n                }\\n            }\\n            \");\n",
       "\tviewer_16866744694015985.zoomTo();\n",
       "\tviewer_16866744694015985.setBackgroundColor(null);\n",
       "viewer_16866744694015985.render();\n",
       "});\n",
       "</script>"
      ]
     },
     "metadata": {},
     "output_type": "display_data"
    },
    {
     "data": {
      "text/plain": [
       "Conformer(name='1_3_3', formula='C16 H26 Br2 N2 O2')"
      ]
     },
     "execution_count": 14,
     "metadata": {},
     "output_type": "execute_result"
    }
   ],
   "source": [
    "clib[0][0]"
   ]
  },
  {
   "cell_type": "code",
   "execution_count": 15,
   "metadata": {},
   "outputs": [
    {
     "data": {
      "application/3dmoljs_load.v0": "<div id=\"3dmolviewer_16866744694157298\"  style=\"position: relative; width: 1000px; height: 500px\">\n        <p id=\"3dmolwarning_16866744694157298\" style=\"background-color:#ffcccc;color:black\">You appear to be running in JupyterLab (or JavaScript failed to load for some other reason).  You need to install the 3dmol extension: <br>\n        <tt>jupyter labextension install jupyterlab_3dmol</tt></p>\n        </div>\n<script>\n\nvar loadScriptAsync = function(uri){\n  return new Promise((resolve, reject) => {\n    //this is to ignore the existence of requirejs amd\n    var savedexports, savedmodule;\n    if (typeof exports !== 'undefined') savedexports = exports;\n    else exports = {}\n    if (typeof module !== 'undefined') savedmodule = module;\n    else module = {}\n\n    var tag = document.createElement('script');\n    tag.src = uri;\n    tag.async = true;\n    tag.onload = () => {\n        exports = savedexports;\n        module = savedmodule;\n        resolve();\n    };\n  var firstScriptTag = document.getElementsByTagName('script')[0];\n  firstScriptTag.parentNode.insertBefore(tag, firstScriptTag);\n});\n};\n\nif(typeof $3Dmolpromise === 'undefined') {\n$3Dmolpromise = null;\n  $3Dmolpromise = loadScriptAsync('https://cdnjs.cloudflare.com/ajax/libs/3Dmol/2.0.1/3Dmol-min.js');\n}\n\nvar viewer_16866744694157298 = null;\nvar warn = document.getElementById(\"3dmolwarning_16866744694157298\");\nif(warn) {\n    warn.parentNode.removeChild(warn);\n}\n$3Dmolpromise.then(function() {\nviewer_16866744694157298 = $3Dmol.createViewer(document.getElementById(\"3dmolviewer_16866744694157298\"),{backgroundColor:\"white\"});\nviewer_16866744694157298.zoomTo();\n\tviewer_16866744694157298.addModel(\"# Produced with molli package\\n@<TRIPOS>MOLECULE\\n1_3_3\\n48 50 0 0 0\\nSMALL\\nUSER_CHARGES\\n\\n@<TRIPOS>ATOM\\n     1 C       0.017300    -0.033300     0.542700 C.3        1 UNL1 0.0\\n     2 C       0.841000     1.222300     0.259700 C.3        1 UNL1 0.0\\n     3 O      -0.075400     2.297000     0.531200 O.2        1 UNL1 0.0\\n     4 C      -1.310600     1.813400     0.412100 C.2        1 UNL1 0.0\\n     5 N      -1.352000     0.539100     0.351100 N.2        1 UNL1 0.0\\n     6 C      -2.516800     2.686100     0.324900 C.3        1 UNL1 0.0\\n     7 C      -3.775600     1.886000     0.263900 C.2        1 UNL1 0.0\\n     8 O      -4.975200     2.421500     0.472800 O.2        1 UNL1 0.0\\n     9 C      -5.935600     1.360500     0.583600 C.3        1 UNL1 0.0\\n    10 C      -5.222400     0.137800     0.007600 C.3        1 UNL1 0.0\\n    11 N      -3.809600     0.636500     0.007800 N.2        1 UNL1 0.0\\n    12 C      -2.560200    -0.175600    -0.178800 C.3        1 UNL1 0.0\\n    13 BR     -2.769100    -1.936900     0.639900 Br         1 UNL1 0.0\\n    14 BR     -2.224200    -0.385200    -2.120900 Br         1 UNL1 0.0\\n    15 C      -2.424000     3.551700    -0.936600 C.3        1 UNL1 0.0\\n    16 C      -2.553000     3.575600     1.576300 C.3        1 UNL1 0.0\\n    17 H       0.199100    -0.803800    -0.214000 H          1 UNL1 0.0\\n    18 H       1.736500     1.330600     0.876300 H          1 UNL1 0.0\\n    19 H       1.135500     1.288100    -0.794500 H          1 UNL1 0.0\\n    20 H      -6.857300     1.639100     0.067000 H          1 UNL1 0.0\\n    21 H      -6.167800     1.226900     1.646600 H          1 UNL1 0.0\\n    22 H      -5.305700    -0.691000     0.717600 H          1 UNL1 0.0\\n    23 H      -2.377800     2.935300    -1.841700 H          1 UNL1 0.0\\n    24 H      -3.295700     4.209000    -1.034900 H          1 UNL1 0.0\\n    25 H      -1.527400     4.181800    -0.925600 H          1 UNL1 0.0\\n    26 H      -3.402500     4.267800     1.555400 H          1 UNL1 0.0\\n    27 H      -2.644400     2.970900     2.486700 H          1 UNL1 0.0\\n    28 H      -1.640600     4.175400     1.671600 H          1 UNL1 0.0\\n    29 C      -5.705800    -0.298500    -1.390200 C.3        1 UNL1 0.0\\n    30 C      -7.082000    -0.970200    -1.285500 C.3        1 UNL1 0.0\\n    31 C      -5.773600     0.826200    -2.431700 C.3        1 UNL1 0.0\\n    32 H      -5.026200    -1.067400    -1.773500 H          1 UNL1 0.0\\n    33 H      -7.850900    -0.271500    -0.940800 H          1 UNL1 0.0\\n    34 H      -7.396500    -1.360000    -2.259800 H          1 UNL1 0.0\\n    35 H      -7.050700    -1.813000    -0.586700 H          1 UNL1 0.0\\n    36 H      -6.541200     1.566600    -2.186100 H          1 UNL1 0.0\\n    37 H      -4.819900     1.351100    -2.531600 H          1 UNL1 0.0\\n    38 H      -6.023300     0.414600    -3.416100 H          1 UNL1 0.0\\n    39 C       0.215300    -0.599700     1.973000 C.3        1 UNL1 0.0\\n    40 C       0.059000     0.414800     3.113500 C.3        1 UNL1 0.0\\n    41 C       1.585500    -1.282700     2.083100 C.3        1 UNL1 0.0\\n    42 H      -0.523500    -1.383600     2.157700 H          1 UNL1 0.0\\n    43 H       0.797300     1.220100     3.052700 H          1 UNL1 0.0\\n    44 H      -0.940500     0.860000     3.118600 H          1 UNL1 0.0\\n    45 H       0.194200    -0.078900     4.082500 H          1 UNL1 0.0\\n    46 H       1.689700    -1.783600     3.051900 H          1 UNL1 0.0\\n    47 H       2.408100    -0.567100     1.989400 H          1 UNL1 0.0\\n    48 H       1.704100    -2.043300     1.304100 H          1 UNL1 0.0\\n@<TRIPOS>BOND\\n     1      1      2          1\\n     2      2      3          1\\n     3      3      4          1\\n     4      4      5          2\\n     5      5      1          1\\n     6      4      6          1\\n     7      6      7          1\\n     8      7      8          1\\n     9      8      9          1\\n    10      9     10          1\\n    11     10     11          1\\n    12     11      7          2\\n    13     11     12          1\\n    14     12      5          1\\n    15     12     13          1\\n    16     12     14          1\\n    17      6     15          1\\n    18      6     16          1\\n    19      1     17          1\\n    20      2     18          1\\n    21      2     19          1\\n    22      9     20          1\\n    23      9     21          1\\n    24     10     22          1\\n    25     15     23          1\\n    26     15     24          1\\n    27     15     25          1\\n    28     16     26          1\\n    29     16     27          1\\n    30     16     28          1\\n    31     29     30          1\\n    32     29     31          1\\n    33     29     32          1\\n    34     30     33          1\\n    35     30     34          1\\n    36     30     35          1\\n    37     31     36          1\\n    38     31     37          1\\n    39     31     38          1\\n    40     10     29          1\\n    41     39     40          1\\n    42     39     41          1\\n    43     39     42          1\\n    44     40     43          1\\n    45     40     44          1\\n    46     40     45          1\\n    47     41     46          1\\n    48     41     47          1\\n    49     41     48          1\\n    50      1     39          1\\n\",\"mol2\");\n\tviewer_16866744694157298.setStyle({\"stick\": {\"radius\": 0.1}, \"sphere\": {\"scale\": 0.15}});\n\tviewer_16866744694157298.setHoverable({},true,\"\\n            function(atom,viewer,event,container) {\\n                if(!atom.label) {\\n                    atom.label = viewer.addLabel(atom.elem + atom.serial, {position: atom, backgroundColor: 'mintcream', fontColor:'black'});\\n                }\\n            }\\n            \",\"\\n            function(atom,viewer) { \\n                if(atom.label) {\\n                    viewer.removeLabel(atom.label);\\n                    delete atom.label;\\n                }\\n            }\\n            \");\n\tviewer_16866744694157298.zoomTo();\n\tviewer_16866744694157298.setBackgroundColor(null);\nviewer_16866744694157298.render();\n});\n</script>",
      "text/html": [
       "<div id=\"3dmolviewer_16866744694157298\"  style=\"position: relative; width: 1000px; height: 500px\">\n",
       "        <p id=\"3dmolwarning_16866744694157298\" style=\"background-color:#ffcccc;color:black\">You appear to be running in JupyterLab (or JavaScript failed to load for some other reason).  You need to install the 3dmol extension: <br>\n",
       "        <tt>jupyter labextension install jupyterlab_3dmol</tt></p>\n",
       "        </div>\n",
       "<script>\n",
       "\n",
       "var loadScriptAsync = function(uri){\n",
       "  return new Promise((resolve, reject) => {\n",
       "    //this is to ignore the existence of requirejs amd\n",
       "    var savedexports, savedmodule;\n",
       "    if (typeof exports !== 'undefined') savedexports = exports;\n",
       "    else exports = {}\n",
       "    if (typeof module !== 'undefined') savedmodule = module;\n",
       "    else module = {}\n",
       "\n",
       "    var tag = document.createElement('script');\n",
       "    tag.src = uri;\n",
       "    tag.async = true;\n",
       "    tag.onload = () => {\n",
       "        exports = savedexports;\n",
       "        module = savedmodule;\n",
       "        resolve();\n",
       "    };\n",
       "  var firstScriptTag = document.getElementsByTagName('script')[0];\n",
       "  firstScriptTag.parentNode.insertBefore(tag, firstScriptTag);\n",
       "});\n",
       "};\n",
       "\n",
       "if(typeof $3Dmolpromise === 'undefined') {\n",
       "$3Dmolpromise = null;\n",
       "  $3Dmolpromise = loadScriptAsync('https://cdnjs.cloudflare.com/ajax/libs/3Dmol/2.0.1/3Dmol-min.js');\n",
       "}\n",
       "\n",
       "var viewer_16866744694157298 = null;\n",
       "var warn = document.getElementById(\"3dmolwarning_16866744694157298\");\n",
       "if(warn) {\n",
       "    warn.parentNode.removeChild(warn);\n",
       "}\n",
       "$3Dmolpromise.then(function() {\n",
       "viewer_16866744694157298 = $3Dmol.createViewer(document.getElementById(\"3dmolviewer_16866744694157298\"),{backgroundColor:\"white\"});\n",
       "viewer_16866744694157298.zoomTo();\n",
       "\tviewer_16866744694157298.addModel(\"# Produced with molli package\\n@<TRIPOS>MOLECULE\\n1_3_3\\n48 50 0 0 0\\nSMALL\\nUSER_CHARGES\\n\\n@<TRIPOS>ATOM\\n     1 C       0.017300    -0.033300     0.542700 C.3        1 UNL1 0.0\\n     2 C       0.841000     1.222300     0.259700 C.3        1 UNL1 0.0\\n     3 O      -0.075400     2.297000     0.531200 O.2        1 UNL1 0.0\\n     4 C      -1.310600     1.813400     0.412100 C.2        1 UNL1 0.0\\n     5 N      -1.352000     0.539100     0.351100 N.2        1 UNL1 0.0\\n     6 C      -2.516800     2.686100     0.324900 C.3        1 UNL1 0.0\\n     7 C      -3.775600     1.886000     0.263900 C.2        1 UNL1 0.0\\n     8 O      -4.975200     2.421500     0.472800 O.2        1 UNL1 0.0\\n     9 C      -5.935600     1.360500     0.583600 C.3        1 UNL1 0.0\\n    10 C      -5.222400     0.137800     0.007600 C.3        1 UNL1 0.0\\n    11 N      -3.809600     0.636500     0.007800 N.2        1 UNL1 0.0\\n    12 C      -2.560200    -0.175600    -0.178800 C.3        1 UNL1 0.0\\n    13 BR     -2.769100    -1.936900     0.639900 Br         1 UNL1 0.0\\n    14 BR     -2.224200    -0.385200    -2.120900 Br         1 UNL1 0.0\\n    15 C      -2.424000     3.551700    -0.936600 C.3        1 UNL1 0.0\\n    16 C      -2.553000     3.575600     1.576300 C.3        1 UNL1 0.0\\n    17 H       0.199100    -0.803800    -0.214000 H          1 UNL1 0.0\\n    18 H       1.736500     1.330600     0.876300 H          1 UNL1 0.0\\n    19 H       1.135500     1.288100    -0.794500 H          1 UNL1 0.0\\n    20 H      -6.857300     1.639100     0.067000 H          1 UNL1 0.0\\n    21 H      -6.167800     1.226900     1.646600 H          1 UNL1 0.0\\n    22 H      -5.305700    -0.691000     0.717600 H          1 UNL1 0.0\\n    23 H      -2.377800     2.935300    -1.841700 H          1 UNL1 0.0\\n    24 H      -3.295700     4.209000    -1.034900 H          1 UNL1 0.0\\n    25 H      -1.527400     4.181800    -0.925600 H          1 UNL1 0.0\\n    26 H      -3.402500     4.267800     1.555400 H          1 UNL1 0.0\\n    27 H      -2.644400     2.970900     2.486700 H          1 UNL1 0.0\\n    28 H      -1.640600     4.175400     1.671600 H          1 UNL1 0.0\\n    29 C      -5.705800    -0.298500    -1.390200 C.3        1 UNL1 0.0\\n    30 C      -7.082000    -0.970200    -1.285500 C.3        1 UNL1 0.0\\n    31 C      -5.773600     0.826200    -2.431700 C.3        1 UNL1 0.0\\n    32 H      -5.026200    -1.067400    -1.773500 H          1 UNL1 0.0\\n    33 H      -7.850900    -0.271500    -0.940800 H          1 UNL1 0.0\\n    34 H      -7.396500    -1.360000    -2.259800 H          1 UNL1 0.0\\n    35 H      -7.050700    -1.813000    -0.586700 H          1 UNL1 0.0\\n    36 H      -6.541200     1.566600    -2.186100 H          1 UNL1 0.0\\n    37 H      -4.819900     1.351100    -2.531600 H          1 UNL1 0.0\\n    38 H      -6.023300     0.414600    -3.416100 H          1 UNL1 0.0\\n    39 C       0.215300    -0.599700     1.973000 C.3        1 UNL1 0.0\\n    40 C       0.059000     0.414800     3.113500 C.3        1 UNL1 0.0\\n    41 C       1.585500    -1.282700     2.083100 C.3        1 UNL1 0.0\\n    42 H      -0.523500    -1.383600     2.157700 H          1 UNL1 0.0\\n    43 H       0.797300     1.220100     3.052700 H          1 UNL1 0.0\\n    44 H      -0.940500     0.860000     3.118600 H          1 UNL1 0.0\\n    45 H       0.194200    -0.078900     4.082500 H          1 UNL1 0.0\\n    46 H       1.689700    -1.783600     3.051900 H          1 UNL1 0.0\\n    47 H       2.408100    -0.567100     1.989400 H          1 UNL1 0.0\\n    48 H       1.704100    -2.043300     1.304100 H          1 UNL1 0.0\\n@<TRIPOS>BOND\\n     1      1      2          1\\n     2      2      3          1\\n     3      3      4          1\\n     4      4      5          2\\n     5      5      1          1\\n     6      4      6          1\\n     7      6      7          1\\n     8      7      8          1\\n     9      8      9          1\\n    10      9     10          1\\n    11     10     11          1\\n    12     11      7          2\\n    13     11     12          1\\n    14     12      5          1\\n    15     12     13          1\\n    16     12     14          1\\n    17      6     15          1\\n    18      6     16          1\\n    19      1     17          1\\n    20      2     18          1\\n    21      2     19          1\\n    22      9     20          1\\n    23      9     21          1\\n    24     10     22          1\\n    25     15     23          1\\n    26     15     24          1\\n    27     15     25          1\\n    28     16     26          1\\n    29     16     27          1\\n    30     16     28          1\\n    31     29     30          1\\n    32     29     31          1\\n    33     29     32          1\\n    34     30     33          1\\n    35     30     34          1\\n    36     30     35          1\\n    37     31     36          1\\n    38     31     37          1\\n    39     31     38          1\\n    40     10     29          1\\n    41     39     40          1\\n    42     39     41          1\\n    43     39     42          1\\n    44     40     43          1\\n    45     40     44          1\\n    46     40     45          1\\n    47     41     46          1\\n    48     41     47          1\\n    49     41     48          1\\n    50      1     39          1\\n\",\"mol2\");\n",
       "\tviewer_16866744694157298.setStyle({\"stick\": {\"radius\": 0.1}, \"sphere\": {\"scale\": 0.15}});\n",
       "\tviewer_16866744694157298.setHoverable({},true,\"\\n            function(atom,viewer,event,container) {\\n                if(!atom.label) {\\n                    atom.label = viewer.addLabel(atom.elem + atom.serial, {position: atom, backgroundColor: 'mintcream', fontColor:'black'});\\n                }\\n            }\\n            \",\"\\n            function(atom,viewer) { \\n                if(atom.label) {\\n                    viewer.removeLabel(atom.label);\\n                    delete atom.label;\\n                }\\n            }\\n            \");\n",
       "\tviewer_16866744694157298.zoomTo();\n",
       "\tviewer_16866744694157298.setBackgroundColor(null);\n",
       "viewer_16866744694157298.render();\n",
       "});\n",
       "</script>"
      ]
     },
     "metadata": {},
     "output_type": "display_data"
    },
    {
     "data": {
      "text/plain": [
       "Conformer(name='1_3_3', formula='C16 H26 Br2 N2 O2')"
      ]
     },
     "execution_count": 15,
     "metadata": {},
     "output_type": "execute_result"
    }
   ],
   "source": [
    "clib[0][1]"
   ]
  },
  {
   "cell_type": "code",
   "execution_count": 16,
   "metadata": {},
   "outputs": [
    {
     "data": {
      "application/3dmoljs_load.v0": "<div id=\"3dmolviewer_1686674469427575\"  style=\"position: relative; width: 1000px; height: 500px\">\n        <p id=\"3dmolwarning_1686674469427575\" style=\"background-color:#ffcccc;color:black\">You appear to be running in JupyterLab (or JavaScript failed to load for some other reason).  You need to install the 3dmol extension: <br>\n        <tt>jupyter labextension install jupyterlab_3dmol</tt></p>\n        </div>\n<script>\n\nvar loadScriptAsync = function(uri){\n  return new Promise((resolve, reject) => {\n    //this is to ignore the existence of requirejs amd\n    var savedexports, savedmodule;\n    if (typeof exports !== 'undefined') savedexports = exports;\n    else exports = {}\n    if (typeof module !== 'undefined') savedmodule = module;\n    else module = {}\n\n    var tag = document.createElement('script');\n    tag.src = uri;\n    tag.async = true;\n    tag.onload = () => {\n        exports = savedexports;\n        module = savedmodule;\n        resolve();\n    };\n  var firstScriptTag = document.getElementsByTagName('script')[0];\n  firstScriptTag.parentNode.insertBefore(tag, firstScriptTag);\n});\n};\n\nif(typeof $3Dmolpromise === 'undefined') {\n$3Dmolpromise = null;\n  $3Dmolpromise = loadScriptAsync('https://cdnjs.cloudflare.com/ajax/libs/3Dmol/2.0.1/3Dmol-min.js');\n}\n\nvar viewer_1686674469427575 = null;\nvar warn = document.getElementById(\"3dmolwarning_1686674469427575\");\nif(warn) {\n    warn.parentNode.removeChild(warn);\n}\n$3Dmolpromise.then(function() {\nviewer_1686674469427575 = $3Dmol.createViewer(document.getElementById(\"3dmolviewer_1686674469427575\"),{backgroundColor:\"white\"});\nviewer_1686674469427575.zoomTo();\n\tviewer_1686674469427575.addModel(\"# Produced with molli package\\n@<TRIPOS>MOLECULE\\n3_6_6\\n74 78 0 0 0\\nSMALL\\nUSER_CHARGES\\n\\n@<TRIPOS>ATOM\\n     1 C       0.128400     0.081800     0.233500 C.3        1 UNL1 0.0\\n     2 C       0.806300     1.263800     0.964700 C.3        1 UNL1 0.0\\n     3 O      -0.107900     2.332700     0.633500 O.2        1 UNL1 0.0\\n     4 C      -1.321100     1.809300     0.454700 C.2        1 UNL1 0.0\\n     5 N      -1.319500     0.539300     0.321500 N.2        1 UNL1 0.0\\n     6 C      -2.517700     2.679600     0.303600 C.3        1 UNL1 0.0\\n     7 C      -3.775800     1.892500     0.254600 C.2        1 UNL1 0.0\\n     8 O      -4.961100     2.458600     0.459900 O.2        1 UNL1 0.0\\n     9 C      -5.937800     1.423400     0.666100 C.3        1 UNL1 0.0\\n    10 C      -5.275200     0.165000     0.053600 C.3        1 UNL1 0.0\\n    11 N      -3.830500     0.640400     0.025400 N.2        1 UNL1 0.0\\n    12 C      -2.577400    -0.217500    -0.056500 C.3        1 UNL1 0.0\\n    13 BR     -2.832700    -1.668000     1.226900 Br         1 UNL1 0.0\\n    14 BR     -2.334700    -0.758200    -1.911200 Br         1 UNL1 0.0\\n    15 C      -2.397700     3.468600    -1.006700 C.3        1 UNL1 0.0\\n    16 C      -2.572700     3.644900     1.496900 C.3        1 UNL1 0.0\\n    17 C      -7.326900     1.898500     0.193400 C.3        1 UNL1 0.0\\n    18 C      -7.959800     2.795600     1.269400 C.3        1 UNL1 0.0\\n    19 C      -7.303500     2.690200    -1.119900 C.3        1 UNL1 0.0\\n    20 C       0.969600     1.221000     2.511200 C.3        1 UNL1 0.0\\n    21 C       1.140800     2.640100     3.081100 C.3        1 UNL1 0.0\\n    22 C       2.168200     0.383300     2.969300 C.3        1 UNL1 0.0\\n    23 H       0.375600     0.182100    -0.830600 H          1 UNL1 0.0\\n    24 H       1.772300     1.489300     0.495700 H          1 UNL1 0.0\\n    25 H      -5.984700     1.265600     1.754000 H          1 UNL1 0.0\\n    26 H      -5.370900    -0.634800     0.790600 H          1 UNL1 0.0\\n    27 H      -1.516500     4.119200    -1.004500 H          1 UNL1 0.0\\n    28 H      -3.280100     4.095900    -1.174300 H          1 UNL1 0.0\\n    29 H      -2.309000     2.795900    -1.868900 H          1 UNL1 0.0\\n    30 H      -3.432800     4.320500     1.433200 H          1 UNL1 0.0\\n    31 H      -1.672500     4.267900     1.553700 H          1 UNL1 0.0\\n    32 H      -2.654200     3.097700     2.443400 H          1 UNL1 0.0\\n    33 H      -7.988400     1.031000     0.086200 H          1 UNL1 0.0\\n    34 H      -7.345100     3.680200     1.466900 H          1 UNL1 0.0\\n    35 H      -8.080100     2.248000     2.209600 H          1 UNL1 0.0\\n    36 H      -8.952800     3.134900     0.957300 H          1 UNL1 0.0\\n    37 H      -6.760300     3.634900    -1.011200 H          1 UNL1 0.0\\n    38 H      -6.839800     2.133300    -1.935000 H          1 UNL1 0.0\\n    39 H      -8.323500     2.933600    -1.434600 H          1 UNL1 0.0\\n    40 H       0.062400     0.805900     2.965500 H          1 UNL1 0.0\\n    41 H       1.990200     3.150800     2.614900 H          1 UNL1 0.0\\n    42 H       0.246300     3.249800     2.918500 H          1 UNL1 0.0\\n    43 H       1.313900     2.610800     4.161700 H          1 UNL1 0.0\\n    44 H       3.062800     0.615700     2.382800 H          1 UNL1 0.0\\n    45 H       2.401500     0.571700     4.022900 H          1 UNL1 0.0\\n    46 H       1.970800    -0.687600     2.895400 H          1 UNL1 0.0\\n    47 C      -5.805700    -0.258200    -1.324600 C.3        1 UNL1 0.0\\n    48 C      -5.564200    -1.695000    -1.732200 C.ar       1 UNL1 0.0\\n    49 C      -5.296500    -1.979900    -3.082500 C.ar       1 UNL1 0.0\\n    50 C      -5.077800    -3.290600    -3.509100 C.ar       1 UNL1 0.0\\n    51 C      -5.154400    -4.339600    -2.599700 C.ar       1 UNL1 0.0\\n    52 C      -5.477000    -4.081200    -1.270700 C.ar       1 UNL1 0.0\\n    53 C      -5.699300    -2.769900    -0.841400 C.ar       1 UNL1 0.0\\n    54 H      -6.895800    -0.159800    -1.354900 H          1 UNL1 0.0\\n    55 H      -5.402700     0.411900    -2.095400 H          1 UNL1 0.0\\n    56 H      -5.261000    -1.187600    -3.829600 H          1 UNL1 0.0\\n    57 H      -4.868300    -3.497400    -4.557300 H          1 UNL1 0.0\\n    58 H      -5.000600    -5.363500    -2.936400 H          1 UNL1 0.0\\n    59 H      -5.588000    -4.913700    -0.577200 H          1 UNL1 0.0\\n    60 H      -6.017600    -2.635400     0.189400 H          1 UNL1 0.0\\n    61 C       0.525400    -1.299600     0.745300 C.3        1 UNL1 0.0\\n    62 C       0.306600    -2.460600    -0.197300 C.ar       1 UNL1 0.0\\n    63 C       0.745400    -2.420000    -1.530300 C.ar       1 UNL1 0.0\\n    64 C       0.543800    -3.510100    -2.380200 C.ar       1 UNL1 0.0\\n    65 C      -0.067500    -4.665500    -1.903400 C.ar       1 UNL1 0.0\\n    66 C      -0.448300    -4.745400    -0.568200 C.ar       1 UNL1 0.0\\n    67 C      -0.242400    -3.659400     0.283300 C.ar       1 UNL1 0.0\\n    68 H       1.610400    -1.304500     0.903900 H          1 UNL1 0.0\\n    69 H       0.067100    -1.499300     1.718500 H          1 UNL1 0.0\\n    70 H       1.280800    -1.564200    -1.936100 H          1 UNL1 0.0\\n    71 H       0.888800    -3.473200    -3.412200 H          1 UNL1 0.0\\n    72 H      -0.208000    -5.520500    -2.562600 H          1 UNL1 0.0\\n    73 H      -0.877900    -5.668800    -0.184500 H          1 UNL1 0.0\\n    74 H      -0.502200    -3.781700     1.333700 H          1 UNL1 0.0\\n@<TRIPOS>BOND\\n     1      1      2          1\\n     2      2      3          1\\n     3      3      4          1\\n     4      4      5          2\\n     5      5      1          1\\n     6      4      6          1\\n     7      6      7          1\\n     8      7      8          1\\n     9      8      9          1\\n    10      9     10          1\\n    11     10     11          1\\n    12     11      7          2\\n    13     11     12          1\\n    14     12      5          1\\n    15     12     13          1\\n    16     12     14          1\\n    17      6     15          1\\n    18      6     16          1\\n    19     17     18          1\\n    20     17     19          1\\n    21      9     17          1\\n    22     20     21          1\\n    23     20     22          1\\n    24      2     20          1\\n    25      1     23          1\\n    26      2     24          1\\n    27      9     25          1\\n    28     10     26          1\\n    29     15     27          1\\n    30     15     28          1\\n    31     15     29          1\\n    32     16     30          1\\n    33     16     31          1\\n    34     16     32          1\\n    35     17     33          1\\n    36     18     34          1\\n    37     18     35          1\\n    38     18     36          1\\n    39     19     37          1\\n    40     19     38          1\\n    41     19     39          1\\n    42     20     40          1\\n    43     21     41          1\\n    44     21     42          1\\n    45     21     43          1\\n    46     22     44          1\\n    47     22     45          1\\n    48     22     46          1\\n    49     47     48          1\\n    50     48     49         ar\\n    51     49     50         ar\\n    52     50     51         ar\\n    53     51     52         ar\\n    54     52     53         ar\\n    55     53     48         ar\\n    56     47     54          1\\n    57     47     55          1\\n    58     49     56          1\\n    59     50     57          1\\n    60     51     58          1\\n    61     52     59          1\\n    62     53     60          1\\n    63     10     47          1\\n    64     61     62          1\\n    65     62     63         ar\\n    66     63     64         ar\\n    67     64     65         ar\\n    68     65     66         ar\\n    69     66     67         ar\\n    70     67     62         ar\\n    71     61     68          1\\n    72     61     69          1\\n    73     63     70          1\\n    74     64     71          1\\n    75     65     72          1\\n    76     66     73          1\\n    77     67     74          1\\n    78      1     61          1\\n\",\"mol2\");\n\tviewer_1686674469427575.setStyle({\"stick\": {\"radius\": 0.1}, \"sphere\": {\"scale\": 0.15}});\n\tviewer_1686674469427575.setHoverable({},true,\"\\n            function(atom,viewer,event,container) {\\n                if(!atom.label) {\\n                    atom.label = viewer.addLabel(atom.elem + atom.serial, {position: atom, backgroundColor: 'mintcream', fontColor:'black'});\\n                }\\n            }\\n            \",\"\\n            function(atom,viewer) { \\n                if(atom.label) {\\n                    viewer.removeLabel(atom.label);\\n                    delete atom.label;\\n                }\\n            }\\n            \");\n\tviewer_1686674469427575.zoomTo();\n\tviewer_1686674469427575.setBackgroundColor(null);\nviewer_1686674469427575.render();\n});\n</script>",
      "text/html": [
       "<div id=\"3dmolviewer_1686674469427575\"  style=\"position: relative; width: 1000px; height: 500px\">\n",
       "        <p id=\"3dmolwarning_1686674469427575\" style=\"background-color:#ffcccc;color:black\">You appear to be running in JupyterLab (or JavaScript failed to load for some other reason).  You need to install the 3dmol extension: <br>\n",
       "        <tt>jupyter labextension install jupyterlab_3dmol</tt></p>\n",
       "        </div>\n",
       "<script>\n",
       "\n",
       "var loadScriptAsync = function(uri){\n",
       "  return new Promise((resolve, reject) => {\n",
       "    //this is to ignore the existence of requirejs amd\n",
       "    var savedexports, savedmodule;\n",
       "    if (typeof exports !== 'undefined') savedexports = exports;\n",
       "    else exports = {}\n",
       "    if (typeof module !== 'undefined') savedmodule = module;\n",
       "    else module = {}\n",
       "\n",
       "    var tag = document.createElement('script');\n",
       "    tag.src = uri;\n",
       "    tag.async = true;\n",
       "    tag.onload = () => {\n",
       "        exports = savedexports;\n",
       "        module = savedmodule;\n",
       "        resolve();\n",
       "    };\n",
       "  var firstScriptTag = document.getElementsByTagName('script')[0];\n",
       "  firstScriptTag.parentNode.insertBefore(tag, firstScriptTag);\n",
       "});\n",
       "};\n",
       "\n",
       "if(typeof $3Dmolpromise === 'undefined') {\n",
       "$3Dmolpromise = null;\n",
       "  $3Dmolpromise = loadScriptAsync('https://cdnjs.cloudflare.com/ajax/libs/3Dmol/2.0.1/3Dmol-min.js');\n",
       "}\n",
       "\n",
       "var viewer_1686674469427575 = null;\n",
       "var warn = document.getElementById(\"3dmolwarning_1686674469427575\");\n",
       "if(warn) {\n",
       "    warn.parentNode.removeChild(warn);\n",
       "}\n",
       "$3Dmolpromise.then(function() {\n",
       "viewer_1686674469427575 = $3Dmol.createViewer(document.getElementById(\"3dmolviewer_1686674469427575\"),{backgroundColor:\"white\"});\n",
       "viewer_1686674469427575.zoomTo();\n",
       "\tviewer_1686674469427575.addModel(\"# Produced with molli package\\n@<TRIPOS>MOLECULE\\n3_6_6\\n74 78 0 0 0\\nSMALL\\nUSER_CHARGES\\n\\n@<TRIPOS>ATOM\\n     1 C       0.128400     0.081800     0.233500 C.3        1 UNL1 0.0\\n     2 C       0.806300     1.263800     0.964700 C.3        1 UNL1 0.0\\n     3 O      -0.107900     2.332700     0.633500 O.2        1 UNL1 0.0\\n     4 C      -1.321100     1.809300     0.454700 C.2        1 UNL1 0.0\\n     5 N      -1.319500     0.539300     0.321500 N.2        1 UNL1 0.0\\n     6 C      -2.517700     2.679600     0.303600 C.3        1 UNL1 0.0\\n     7 C      -3.775800     1.892500     0.254600 C.2        1 UNL1 0.0\\n     8 O      -4.961100     2.458600     0.459900 O.2        1 UNL1 0.0\\n     9 C      -5.937800     1.423400     0.666100 C.3        1 UNL1 0.0\\n    10 C      -5.275200     0.165000     0.053600 C.3        1 UNL1 0.0\\n    11 N      -3.830500     0.640400     0.025400 N.2        1 UNL1 0.0\\n    12 C      -2.577400    -0.217500    -0.056500 C.3        1 UNL1 0.0\\n    13 BR     -2.832700    -1.668000     1.226900 Br         1 UNL1 0.0\\n    14 BR     -2.334700    -0.758200    -1.911200 Br         1 UNL1 0.0\\n    15 C      -2.397700     3.468600    -1.006700 C.3        1 UNL1 0.0\\n    16 C      -2.572700     3.644900     1.496900 C.3        1 UNL1 0.0\\n    17 C      -7.326900     1.898500     0.193400 C.3        1 UNL1 0.0\\n    18 C      -7.959800     2.795600     1.269400 C.3        1 UNL1 0.0\\n    19 C      -7.303500     2.690200    -1.119900 C.3        1 UNL1 0.0\\n    20 C       0.969600     1.221000     2.511200 C.3        1 UNL1 0.0\\n    21 C       1.140800     2.640100     3.081100 C.3        1 UNL1 0.0\\n    22 C       2.168200     0.383300     2.969300 C.3        1 UNL1 0.0\\n    23 H       0.375600     0.182100    -0.830600 H          1 UNL1 0.0\\n    24 H       1.772300     1.489300     0.495700 H          1 UNL1 0.0\\n    25 H      -5.984700     1.265600     1.754000 H          1 UNL1 0.0\\n    26 H      -5.370900    -0.634800     0.790600 H          1 UNL1 0.0\\n    27 H      -1.516500     4.119200    -1.004500 H          1 UNL1 0.0\\n    28 H      -3.280100     4.095900    -1.174300 H          1 UNL1 0.0\\n    29 H      -2.309000     2.795900    -1.868900 H          1 UNL1 0.0\\n    30 H      -3.432800     4.320500     1.433200 H          1 UNL1 0.0\\n    31 H      -1.672500     4.267900     1.553700 H          1 UNL1 0.0\\n    32 H      -2.654200     3.097700     2.443400 H          1 UNL1 0.0\\n    33 H      -7.988400     1.031000     0.086200 H          1 UNL1 0.0\\n    34 H      -7.345100     3.680200     1.466900 H          1 UNL1 0.0\\n    35 H      -8.080100     2.248000     2.209600 H          1 UNL1 0.0\\n    36 H      -8.952800     3.134900     0.957300 H          1 UNL1 0.0\\n    37 H      -6.760300     3.634900    -1.011200 H          1 UNL1 0.0\\n    38 H      -6.839800     2.133300    -1.935000 H          1 UNL1 0.0\\n    39 H      -8.323500     2.933600    -1.434600 H          1 UNL1 0.0\\n    40 H       0.062400     0.805900     2.965500 H          1 UNL1 0.0\\n    41 H       1.990200     3.150800     2.614900 H          1 UNL1 0.0\\n    42 H       0.246300     3.249800     2.918500 H          1 UNL1 0.0\\n    43 H       1.313900     2.610800     4.161700 H          1 UNL1 0.0\\n    44 H       3.062800     0.615700     2.382800 H          1 UNL1 0.0\\n    45 H       2.401500     0.571700     4.022900 H          1 UNL1 0.0\\n    46 H       1.970800    -0.687600     2.895400 H          1 UNL1 0.0\\n    47 C      -5.805700    -0.258200    -1.324600 C.3        1 UNL1 0.0\\n    48 C      -5.564200    -1.695000    -1.732200 C.ar       1 UNL1 0.0\\n    49 C      -5.296500    -1.979900    -3.082500 C.ar       1 UNL1 0.0\\n    50 C      -5.077800    -3.290600    -3.509100 C.ar       1 UNL1 0.0\\n    51 C      -5.154400    -4.339600    -2.599700 C.ar       1 UNL1 0.0\\n    52 C      -5.477000    -4.081200    -1.270700 C.ar       1 UNL1 0.0\\n    53 C      -5.699300    -2.769900    -0.841400 C.ar       1 UNL1 0.0\\n    54 H      -6.895800    -0.159800    -1.354900 H          1 UNL1 0.0\\n    55 H      -5.402700     0.411900    -2.095400 H          1 UNL1 0.0\\n    56 H      -5.261000    -1.187600    -3.829600 H          1 UNL1 0.0\\n    57 H      -4.868300    -3.497400    -4.557300 H          1 UNL1 0.0\\n    58 H      -5.000600    -5.363500    -2.936400 H          1 UNL1 0.0\\n    59 H      -5.588000    -4.913700    -0.577200 H          1 UNL1 0.0\\n    60 H      -6.017600    -2.635400     0.189400 H          1 UNL1 0.0\\n    61 C       0.525400    -1.299600     0.745300 C.3        1 UNL1 0.0\\n    62 C       0.306600    -2.460600    -0.197300 C.ar       1 UNL1 0.0\\n    63 C       0.745400    -2.420000    -1.530300 C.ar       1 UNL1 0.0\\n    64 C       0.543800    -3.510100    -2.380200 C.ar       1 UNL1 0.0\\n    65 C      -0.067500    -4.665500    -1.903400 C.ar       1 UNL1 0.0\\n    66 C      -0.448300    -4.745400    -0.568200 C.ar       1 UNL1 0.0\\n    67 C      -0.242400    -3.659400     0.283300 C.ar       1 UNL1 0.0\\n    68 H       1.610400    -1.304500     0.903900 H          1 UNL1 0.0\\n    69 H       0.067100    -1.499300     1.718500 H          1 UNL1 0.0\\n    70 H       1.280800    -1.564200    -1.936100 H          1 UNL1 0.0\\n    71 H       0.888800    -3.473200    -3.412200 H          1 UNL1 0.0\\n    72 H      -0.208000    -5.520500    -2.562600 H          1 UNL1 0.0\\n    73 H      -0.877900    -5.668800    -0.184500 H          1 UNL1 0.0\\n    74 H      -0.502200    -3.781700     1.333700 H          1 UNL1 0.0\\n@<TRIPOS>BOND\\n     1      1      2          1\\n     2      2      3          1\\n     3      3      4          1\\n     4      4      5          2\\n     5      5      1          1\\n     6      4      6          1\\n     7      6      7          1\\n     8      7      8          1\\n     9      8      9          1\\n    10      9     10          1\\n    11     10     11          1\\n    12     11      7          2\\n    13     11     12          1\\n    14     12      5          1\\n    15     12     13          1\\n    16     12     14          1\\n    17      6     15          1\\n    18      6     16          1\\n    19     17     18          1\\n    20     17     19          1\\n    21      9     17          1\\n    22     20     21          1\\n    23     20     22          1\\n    24      2     20          1\\n    25      1     23          1\\n    26      2     24          1\\n    27      9     25          1\\n    28     10     26          1\\n    29     15     27          1\\n    30     15     28          1\\n    31     15     29          1\\n    32     16     30          1\\n    33     16     31          1\\n    34     16     32          1\\n    35     17     33          1\\n    36     18     34          1\\n    37     18     35          1\\n    38     18     36          1\\n    39     19     37          1\\n    40     19     38          1\\n    41     19     39          1\\n    42     20     40          1\\n    43     21     41          1\\n    44     21     42          1\\n    45     21     43          1\\n    46     22     44          1\\n    47     22     45          1\\n    48     22     46          1\\n    49     47     48          1\\n    50     48     49         ar\\n    51     49     50         ar\\n    52     50     51         ar\\n    53     51     52         ar\\n    54     52     53         ar\\n    55     53     48         ar\\n    56     47     54          1\\n    57     47     55          1\\n    58     49     56          1\\n    59     50     57          1\\n    60     51     58          1\\n    61     52     59          1\\n    62     53     60          1\\n    63     10     47          1\\n    64     61     62          1\\n    65     62     63         ar\\n    66     63     64         ar\\n    67     64     65         ar\\n    68     65     66         ar\\n    69     66     67         ar\\n    70     67     62         ar\\n    71     61     68          1\\n    72     61     69          1\\n    73     63     70          1\\n    74     64     71          1\\n    75     65     72          1\\n    76     66     73          1\\n    77     67     74          1\\n    78      1     61          1\\n\",\"mol2\");\n",
       "\tviewer_1686674469427575.setStyle({\"stick\": {\"radius\": 0.1}, \"sphere\": {\"scale\": 0.15}});\n",
       "\tviewer_1686674469427575.setHoverable({},true,\"\\n            function(atom,viewer,event,container) {\\n                if(!atom.label) {\\n                    atom.label = viewer.addLabel(atom.elem + atom.serial, {position: atom, backgroundColor: 'mintcream', fontColor:'black'});\\n                }\\n            }\\n            \",\"\\n            function(atom,viewer) { \\n                if(atom.label) {\\n                    viewer.removeLabel(atom.label);\\n                    delete atom.label;\\n                }\\n            }\\n            \");\n",
       "\tviewer_1686674469427575.zoomTo();\n",
       "\tviewer_1686674469427575.setBackgroundColor(null);\n",
       "viewer_1686674469427575.render();\n",
       "});\n",
       "</script>"
      ]
     },
     "metadata": {},
     "output_type": "display_data"
    },
    {
     "data": {
      "text/plain": [
       "Conformer(name='3_6_6', formula='C30 H38 Br2 N2 O2')"
      ]
     },
     "execution_count": 16,
     "metadata": {},
     "output_type": "execute_result"
    }
   ],
   "source": [
    "clib[42][0]"
   ]
  },
  {
   "cell_type": "code",
   "execution_count": 17,
   "metadata": {},
   "outputs": [
    {
     "data": {
      "application/3dmoljs_load.v0": "<div id=\"3dmolviewer_16866744694401758\"  style=\"position: relative; width: 1000px; height: 500px\">\n        <p id=\"3dmolwarning_16866744694401758\" style=\"background-color:#ffcccc;color:black\">You appear to be running in JupyterLab (or JavaScript failed to load for some other reason).  You need to install the 3dmol extension: <br>\n        <tt>jupyter labextension install jupyterlab_3dmol</tt></p>\n        </div>\n<script>\n\nvar loadScriptAsync = function(uri){\n  return new Promise((resolve, reject) => {\n    //this is to ignore the existence of requirejs amd\n    var savedexports, savedmodule;\n    if (typeof exports !== 'undefined') savedexports = exports;\n    else exports = {}\n    if (typeof module !== 'undefined') savedmodule = module;\n    else module = {}\n\n    var tag = document.createElement('script');\n    tag.src = uri;\n    tag.async = true;\n    tag.onload = () => {\n        exports = savedexports;\n        module = savedmodule;\n        resolve();\n    };\n  var firstScriptTag = document.getElementsByTagName('script')[0];\n  firstScriptTag.parentNode.insertBefore(tag, firstScriptTag);\n});\n};\n\nif(typeof $3Dmolpromise === 'undefined') {\n$3Dmolpromise = null;\n  $3Dmolpromise = loadScriptAsync('https://cdnjs.cloudflare.com/ajax/libs/3Dmol/2.0.1/3Dmol-min.js');\n}\n\nvar viewer_16866744694401758 = null;\nvar warn = document.getElementById(\"3dmolwarning_16866744694401758\");\nif(warn) {\n    warn.parentNode.removeChild(warn);\n}\n$3Dmolpromise.then(function() {\nviewer_16866744694401758 = $3Dmol.createViewer(document.getElementById(\"3dmolviewer_16866744694401758\"),{backgroundColor:\"white\"});\nviewer_16866744694401758.zoomTo();\n\tviewer_16866744694401758.addModel(\"# Produced with molli package\\n@<TRIPOS>MOLECULE\\n3_6_6\\n74 78 0 0 0\\nSMALL\\nUSER_CHARGES\\n\\n@<TRIPOS>ATOM\\n     1 C      -0.028100    -0.030200     0.706500 C.3        1 UNL1 0.0\\n     2 C       0.803900     1.136900     0.139700 C.3        1 UNL1 0.0\\n     3 O      -0.051800     2.270200     0.438000 O.2        1 UNL1 0.0\\n     4 C      -1.305800     1.817700     0.382500 C.2        1 UNL1 0.0\\n     5 N      -1.374000     0.542300     0.377300 N.2        1 UNL1 0.0\\n     6 C      -2.513100     2.691800     0.328700 C.3        1 UNL1 0.0\\n     7 C      -3.767100     1.875000     0.288700 C.2        1 UNL1 0.0\\n     8 O      -4.959000     2.371600     0.613400 O.2        1 UNL1 0.0\\n     9 C      -5.805400     1.249900     0.934000 C.3        1 UNL1 0.0\\n    10 C      -5.223000     0.127600     0.045800 C.3        1 UNL1 0.0\\n    11 N      -3.804500     0.634400    -0.017400 N.2        1 UNL1 0.0\\n    12 C      -2.546200    -0.140300    -0.275100 C.3        1 UNL1 0.0\\n    13 BR     -2.135400    -0.026700    -2.224300 Br         1 UNL1 0.0\\n    14 BR     -2.707800    -2.011900     0.192700 Br         1 UNL1 0.0\\n    15 C      -2.522700     3.542700     1.610000 C.3        1 UNL1 0.0\\n    16 C      -2.455800     3.605000    -0.898400 C.3        1 UNL1 0.0\\n    17 C      -7.289800     1.624900     0.809000 C.3        1 UNL1 0.0\\n    18 C      -8.188800     0.463500     1.235300 C.3        1 UNL1 0.0\\n    19 C      -7.613400     2.858700     1.662100 C.3        1 UNL1 0.0\\n    20 C       2.262300     1.394800     0.556700 C.3        1 UNL1 0.0\\n    21 C       3.135400     0.156700     0.366500 C.3        1 UNL1 0.0\\n    22 C       2.469700     2.016900     1.937400 C.3        1 UNL1 0.0\\n    23 H       0.135600    -0.968200     0.168700 H          1 UNL1 0.0\\n    24 H       0.815300     1.049200    -0.959200 H          1 UNL1 0.0\\n    25 H      -5.602700     1.010900     1.989100 H          1 UNL1 0.0\\n    26 H      -5.263100    -0.816100     0.593800 H          1 UNL1 0.0\\n    27 H      -2.602700     2.910700     2.503400 H          1 UNL1 0.0\\n    28 H      -3.368600     4.239000     1.624600 H          1 UNL1 0.0\\n    29 H      -1.604900     4.134400     1.707600 H          1 UNL1 0.0\\n    30 H      -3.354300     4.229100    -0.968600 H          1 UNL1 0.0\\n    31 H      -1.589500     4.273000    -0.856500 H          1 UNL1 0.0\\n    32 H      -2.387000     3.033900    -1.830200 H          1 UNL1 0.0\\n    33 H      -7.518900     1.905200    -0.226000 H          1 UNL1 0.0\\n    34 H      -9.244700     0.736400     1.142400 H          1 UNL1 0.0\\n    35 H      -8.006800     0.185700     2.279100 H          1 UNL1 0.0\\n    36 H      -8.024200    -0.426800     0.621200 H          1 UNL1 0.0\\n    37 H      -8.676000     3.113600     1.587100 H          1 UNL1 0.0\\n    38 H      -7.379100     2.684700     2.717800 H          1 UNL1 0.0\\n    39 H      -7.045900     3.731800     1.326300 H          1 UNL1 0.0\\n    40 H       2.633900     2.157100    -0.143700 H          1 UNL1 0.0\\n    41 H       2.861700    -0.648100     1.054100 H          1 UNL1 0.0\\n    42 H       3.047700    -0.228200    -0.655300 H          1 UNL1 0.0\\n    43 H       4.189500     0.397100     0.539300 H          1 UNL1 0.0\\n    44 H       3.502500     2.370800     2.034400 H          1 UNL1 0.0\\n    45 H       2.306600     1.307300     2.750000 H          1 UNL1 0.0\\n    46 H       1.817200     2.881400     2.089800 H          1 UNL1 0.0\\n    47 C      -5.843200     0.055900    -1.365600 C.3        1 UNL1 0.0\\n    48 C      -5.540600    -1.210800    -2.127800 C.ar       1 UNL1 0.0\\n    49 C      -5.125300    -1.140600    -3.465400 C.ar       1 UNL1 0.0\\n    50 C      -4.847200    -2.303500    -4.186300 C.ar       1 UNL1 0.0\\n    51 C      -5.012200    -3.550500    -3.591900 C.ar       1 UNL1 0.0\\n    52 C      -5.483800    -3.637100    -2.285900 C.ar       1 UNL1 0.0\\n    53 C      -5.763400    -2.475800    -1.562300 C.ar       1 UNL1 0.0\\n    54 H      -6.936200     0.093800    -1.313600 H          1 UNL1 0.0\\n    55 H      -5.536600     0.929400    -1.956600 H          1 UNL1 0.0\\n    56 H      -5.026200    -0.185900    -3.980900 H          1 UNL1 0.0\\n    57 H      -4.526900    -2.241000    -5.225100 H          1 UNL1 0.0\\n    58 H      -4.813700    -4.456300    -4.162600 H          1 UNL1 0.0\\n    59 H      -5.662100    -4.616600    -1.843800 H          1 UNL1 0.0\\n    60 H      -6.185600    -2.594800    -0.566700 H          1 UNL1 0.0\\n    61 C       0.112600    -0.164600     2.241500 C.3        1 UNL1 0.0\\n    62 C      -0.908400    -1.029100     2.932300 C.ar       1 UNL1 0.0\\n    63 C      -1.995500    -0.452100     3.609400 C.ar       1 UNL1 0.0\\n    64 C      -2.935600    -1.260000     4.251300 C.ar       1 UNL1 0.0\\n    65 C      -2.791300    -2.645800     4.234000 C.ar       1 UNL1 0.0\\n    66 C      -1.697900    -3.225300     3.593300 C.ar       1 UNL1 0.0\\n    67 C      -0.755200    -2.422400     2.948900 C.ar       1 UNL1 0.0\\n    68 H       1.101500    -0.571200     2.481800 H          1 UNL1 0.0\\n    69 H       0.076900     0.824200     2.718000 H          1 UNL1 0.0\\n    70 H      -2.089400     0.627300     3.713600 H          1 UNL1 0.0\\n    71 H      -3.753300    -0.817500     4.819200 H          1 UNL1 0.0\\n    72 H      -3.504800    -3.278300     4.762300 H          1 UNL1 0.0\\n    73 H      -1.567400    -4.306700     3.620100 H          1 UNL1 0.0\\n    74 H       0.105000    -2.904400     2.485200 H          1 UNL1 0.0\\n@<TRIPOS>BOND\\n     1      1      2          1\\n     2      2      3          1\\n     3      3      4          1\\n     4      4      5          2\\n     5      5      1          1\\n     6      4      6          1\\n     7      6      7          1\\n     8      7      8          1\\n     9      8      9          1\\n    10      9     10          1\\n    11     10     11          1\\n    12     11      7          2\\n    13     11     12          1\\n    14     12      5          1\\n    15     12     13          1\\n    16     12     14          1\\n    17      6     15          1\\n    18      6     16          1\\n    19     17     18          1\\n    20     17     19          1\\n    21      9     17          1\\n    22     20     21          1\\n    23     20     22          1\\n    24      2     20          1\\n    25      1     23          1\\n    26      2     24          1\\n    27      9     25          1\\n    28     10     26          1\\n    29     15     27          1\\n    30     15     28          1\\n    31     15     29          1\\n    32     16     30          1\\n    33     16     31          1\\n    34     16     32          1\\n    35     17     33          1\\n    36     18     34          1\\n    37     18     35          1\\n    38     18     36          1\\n    39     19     37          1\\n    40     19     38          1\\n    41     19     39          1\\n    42     20     40          1\\n    43     21     41          1\\n    44     21     42          1\\n    45     21     43          1\\n    46     22     44          1\\n    47     22     45          1\\n    48     22     46          1\\n    49     47     48          1\\n    50     48     49         ar\\n    51     49     50         ar\\n    52     50     51         ar\\n    53     51     52         ar\\n    54     52     53         ar\\n    55     53     48         ar\\n    56     47     54          1\\n    57     47     55          1\\n    58     49     56          1\\n    59     50     57          1\\n    60     51     58          1\\n    61     52     59          1\\n    62     53     60          1\\n    63     10     47          1\\n    64     61     62          1\\n    65     62     63         ar\\n    66     63     64         ar\\n    67     64     65         ar\\n    68     65     66         ar\\n    69     66     67         ar\\n    70     67     62         ar\\n    71     61     68          1\\n    72     61     69          1\\n    73     63     70          1\\n    74     64     71          1\\n    75     65     72          1\\n    76     66     73          1\\n    77     67     74          1\\n    78      1     61          1\\n\",\"mol2\");\n\tviewer_16866744694401758.setStyle({\"stick\": {\"radius\": 0.1}, \"sphere\": {\"scale\": 0.15}});\n\tviewer_16866744694401758.setHoverable({},true,\"\\n            function(atom,viewer,event,container) {\\n                if(!atom.label) {\\n                    atom.label = viewer.addLabel(atom.elem + atom.serial, {position: atom, backgroundColor: 'mintcream', fontColor:'black'});\\n                }\\n            }\\n            \",\"\\n            function(atom,viewer) { \\n                if(atom.label) {\\n                    viewer.removeLabel(atom.label);\\n                    delete atom.label;\\n                }\\n            }\\n            \");\n\tviewer_16866744694401758.zoomTo();\n\tviewer_16866744694401758.setBackgroundColor(null);\nviewer_16866744694401758.render();\n});\n</script>",
      "text/html": [
       "<div id=\"3dmolviewer_16866744694401758\"  style=\"position: relative; width: 1000px; height: 500px\">\n",
       "        <p id=\"3dmolwarning_16866744694401758\" style=\"background-color:#ffcccc;color:black\">You appear to be running in JupyterLab (or JavaScript failed to load for some other reason).  You need to install the 3dmol extension: <br>\n",
       "        <tt>jupyter labextension install jupyterlab_3dmol</tt></p>\n",
       "        </div>\n",
       "<script>\n",
       "\n",
       "var loadScriptAsync = function(uri){\n",
       "  return new Promise((resolve, reject) => {\n",
       "    //this is to ignore the existence of requirejs amd\n",
       "    var savedexports, savedmodule;\n",
       "    if (typeof exports !== 'undefined') savedexports = exports;\n",
       "    else exports = {}\n",
       "    if (typeof module !== 'undefined') savedmodule = module;\n",
       "    else module = {}\n",
       "\n",
       "    var tag = document.createElement('script');\n",
       "    tag.src = uri;\n",
       "    tag.async = true;\n",
       "    tag.onload = () => {\n",
       "        exports = savedexports;\n",
       "        module = savedmodule;\n",
       "        resolve();\n",
       "    };\n",
       "  var firstScriptTag = document.getElementsByTagName('script')[0];\n",
       "  firstScriptTag.parentNode.insertBefore(tag, firstScriptTag);\n",
       "});\n",
       "};\n",
       "\n",
       "if(typeof $3Dmolpromise === 'undefined') {\n",
       "$3Dmolpromise = null;\n",
       "  $3Dmolpromise = loadScriptAsync('https://cdnjs.cloudflare.com/ajax/libs/3Dmol/2.0.1/3Dmol-min.js');\n",
       "}\n",
       "\n",
       "var viewer_16866744694401758 = null;\n",
       "var warn = document.getElementById(\"3dmolwarning_16866744694401758\");\n",
       "if(warn) {\n",
       "    warn.parentNode.removeChild(warn);\n",
       "}\n",
       "$3Dmolpromise.then(function() {\n",
       "viewer_16866744694401758 = $3Dmol.createViewer(document.getElementById(\"3dmolviewer_16866744694401758\"),{backgroundColor:\"white\"});\n",
       "viewer_16866744694401758.zoomTo();\n",
       "\tviewer_16866744694401758.addModel(\"# Produced with molli package\\n@<TRIPOS>MOLECULE\\n3_6_6\\n74 78 0 0 0\\nSMALL\\nUSER_CHARGES\\n\\n@<TRIPOS>ATOM\\n     1 C      -0.028100    -0.030200     0.706500 C.3        1 UNL1 0.0\\n     2 C       0.803900     1.136900     0.139700 C.3        1 UNL1 0.0\\n     3 O      -0.051800     2.270200     0.438000 O.2        1 UNL1 0.0\\n     4 C      -1.305800     1.817700     0.382500 C.2        1 UNL1 0.0\\n     5 N      -1.374000     0.542300     0.377300 N.2        1 UNL1 0.0\\n     6 C      -2.513100     2.691800     0.328700 C.3        1 UNL1 0.0\\n     7 C      -3.767100     1.875000     0.288700 C.2        1 UNL1 0.0\\n     8 O      -4.959000     2.371600     0.613400 O.2        1 UNL1 0.0\\n     9 C      -5.805400     1.249900     0.934000 C.3        1 UNL1 0.0\\n    10 C      -5.223000     0.127600     0.045800 C.3        1 UNL1 0.0\\n    11 N      -3.804500     0.634400    -0.017400 N.2        1 UNL1 0.0\\n    12 C      -2.546200    -0.140300    -0.275100 C.3        1 UNL1 0.0\\n    13 BR     -2.135400    -0.026700    -2.224300 Br         1 UNL1 0.0\\n    14 BR     -2.707800    -2.011900     0.192700 Br         1 UNL1 0.0\\n    15 C      -2.522700     3.542700     1.610000 C.3        1 UNL1 0.0\\n    16 C      -2.455800     3.605000    -0.898400 C.3        1 UNL1 0.0\\n    17 C      -7.289800     1.624900     0.809000 C.3        1 UNL1 0.0\\n    18 C      -8.188800     0.463500     1.235300 C.3        1 UNL1 0.0\\n    19 C      -7.613400     2.858700     1.662100 C.3        1 UNL1 0.0\\n    20 C       2.262300     1.394800     0.556700 C.3        1 UNL1 0.0\\n    21 C       3.135400     0.156700     0.366500 C.3        1 UNL1 0.0\\n    22 C       2.469700     2.016900     1.937400 C.3        1 UNL1 0.0\\n    23 H       0.135600    -0.968200     0.168700 H          1 UNL1 0.0\\n    24 H       0.815300     1.049200    -0.959200 H          1 UNL1 0.0\\n    25 H      -5.602700     1.010900     1.989100 H          1 UNL1 0.0\\n    26 H      -5.263100    -0.816100     0.593800 H          1 UNL1 0.0\\n    27 H      -2.602700     2.910700     2.503400 H          1 UNL1 0.0\\n    28 H      -3.368600     4.239000     1.624600 H          1 UNL1 0.0\\n    29 H      -1.604900     4.134400     1.707600 H          1 UNL1 0.0\\n    30 H      -3.354300     4.229100    -0.968600 H          1 UNL1 0.0\\n    31 H      -1.589500     4.273000    -0.856500 H          1 UNL1 0.0\\n    32 H      -2.387000     3.033900    -1.830200 H          1 UNL1 0.0\\n    33 H      -7.518900     1.905200    -0.226000 H          1 UNL1 0.0\\n    34 H      -9.244700     0.736400     1.142400 H          1 UNL1 0.0\\n    35 H      -8.006800     0.185700     2.279100 H          1 UNL1 0.0\\n    36 H      -8.024200    -0.426800     0.621200 H          1 UNL1 0.0\\n    37 H      -8.676000     3.113600     1.587100 H          1 UNL1 0.0\\n    38 H      -7.379100     2.684700     2.717800 H          1 UNL1 0.0\\n    39 H      -7.045900     3.731800     1.326300 H          1 UNL1 0.0\\n    40 H       2.633900     2.157100    -0.143700 H          1 UNL1 0.0\\n    41 H       2.861700    -0.648100     1.054100 H          1 UNL1 0.0\\n    42 H       3.047700    -0.228200    -0.655300 H          1 UNL1 0.0\\n    43 H       4.189500     0.397100     0.539300 H          1 UNL1 0.0\\n    44 H       3.502500     2.370800     2.034400 H          1 UNL1 0.0\\n    45 H       2.306600     1.307300     2.750000 H          1 UNL1 0.0\\n    46 H       1.817200     2.881400     2.089800 H          1 UNL1 0.0\\n    47 C      -5.843200     0.055900    -1.365600 C.3        1 UNL1 0.0\\n    48 C      -5.540600    -1.210800    -2.127800 C.ar       1 UNL1 0.0\\n    49 C      -5.125300    -1.140600    -3.465400 C.ar       1 UNL1 0.0\\n    50 C      -4.847200    -2.303500    -4.186300 C.ar       1 UNL1 0.0\\n    51 C      -5.012200    -3.550500    -3.591900 C.ar       1 UNL1 0.0\\n    52 C      -5.483800    -3.637100    -2.285900 C.ar       1 UNL1 0.0\\n    53 C      -5.763400    -2.475800    -1.562300 C.ar       1 UNL1 0.0\\n    54 H      -6.936200     0.093800    -1.313600 H          1 UNL1 0.0\\n    55 H      -5.536600     0.929400    -1.956600 H          1 UNL1 0.0\\n    56 H      -5.026200    -0.185900    -3.980900 H          1 UNL1 0.0\\n    57 H      -4.526900    -2.241000    -5.225100 H          1 UNL1 0.0\\n    58 H      -4.813700    -4.456300    -4.162600 H          1 UNL1 0.0\\n    59 H      -5.662100    -4.616600    -1.843800 H          1 UNL1 0.0\\n    60 H      -6.185600    -2.594800    -0.566700 H          1 UNL1 0.0\\n    61 C       0.112600    -0.164600     2.241500 C.3        1 UNL1 0.0\\n    62 C      -0.908400    -1.029100     2.932300 C.ar       1 UNL1 0.0\\n    63 C      -1.995500    -0.452100     3.609400 C.ar       1 UNL1 0.0\\n    64 C      -2.935600    -1.260000     4.251300 C.ar       1 UNL1 0.0\\n    65 C      -2.791300    -2.645800     4.234000 C.ar       1 UNL1 0.0\\n    66 C      -1.697900    -3.225300     3.593300 C.ar       1 UNL1 0.0\\n    67 C      -0.755200    -2.422400     2.948900 C.ar       1 UNL1 0.0\\n    68 H       1.101500    -0.571200     2.481800 H          1 UNL1 0.0\\n    69 H       0.076900     0.824200     2.718000 H          1 UNL1 0.0\\n    70 H      -2.089400     0.627300     3.713600 H          1 UNL1 0.0\\n    71 H      -3.753300    -0.817500     4.819200 H          1 UNL1 0.0\\n    72 H      -3.504800    -3.278300     4.762300 H          1 UNL1 0.0\\n    73 H      -1.567400    -4.306700     3.620100 H          1 UNL1 0.0\\n    74 H       0.105000    -2.904400     2.485200 H          1 UNL1 0.0\\n@<TRIPOS>BOND\\n     1      1      2          1\\n     2      2      3          1\\n     3      3      4          1\\n     4      4      5          2\\n     5      5      1          1\\n     6      4      6          1\\n     7      6      7          1\\n     8      7      8          1\\n     9      8      9          1\\n    10      9     10          1\\n    11     10     11          1\\n    12     11      7          2\\n    13     11     12          1\\n    14     12      5          1\\n    15     12     13          1\\n    16     12     14          1\\n    17      6     15          1\\n    18      6     16          1\\n    19     17     18          1\\n    20     17     19          1\\n    21      9     17          1\\n    22     20     21          1\\n    23     20     22          1\\n    24      2     20          1\\n    25      1     23          1\\n    26      2     24          1\\n    27      9     25          1\\n    28     10     26          1\\n    29     15     27          1\\n    30     15     28          1\\n    31     15     29          1\\n    32     16     30          1\\n    33     16     31          1\\n    34     16     32          1\\n    35     17     33          1\\n    36     18     34          1\\n    37     18     35          1\\n    38     18     36          1\\n    39     19     37          1\\n    40     19     38          1\\n    41     19     39          1\\n    42     20     40          1\\n    43     21     41          1\\n    44     21     42          1\\n    45     21     43          1\\n    46     22     44          1\\n    47     22     45          1\\n    48     22     46          1\\n    49     47     48          1\\n    50     48     49         ar\\n    51     49     50         ar\\n    52     50     51         ar\\n    53     51     52         ar\\n    54     52     53         ar\\n    55     53     48         ar\\n    56     47     54          1\\n    57     47     55          1\\n    58     49     56          1\\n    59     50     57          1\\n    60     51     58          1\\n    61     52     59          1\\n    62     53     60          1\\n    63     10     47          1\\n    64     61     62          1\\n    65     62     63         ar\\n    66     63     64         ar\\n    67     64     65         ar\\n    68     65     66         ar\\n    69     66     67         ar\\n    70     67     62         ar\\n    71     61     68          1\\n    72     61     69          1\\n    73     63     70          1\\n    74     64     71          1\\n    75     65     72          1\\n    76     66     73          1\\n    77     67     74          1\\n    78      1     61          1\\n\",\"mol2\");\n",
       "\tviewer_16866744694401758.setStyle({\"stick\": {\"radius\": 0.1}, \"sphere\": {\"scale\": 0.15}});\n",
       "\tviewer_16866744694401758.setHoverable({},true,\"\\n            function(atom,viewer,event,container) {\\n                if(!atom.label) {\\n                    atom.label = viewer.addLabel(atom.elem + atom.serial, {position: atom, backgroundColor: 'mintcream', fontColor:'black'});\\n                }\\n            }\\n            \",\"\\n            function(atom,viewer) { \\n                if(atom.label) {\\n                    viewer.removeLabel(atom.label);\\n                    delete atom.label;\\n                }\\n            }\\n            \");\n",
       "\tviewer_16866744694401758.zoomTo();\n",
       "\tviewer_16866744694401758.setBackgroundColor(null);\n",
       "viewer_16866744694401758.render();\n",
       "});\n",
       "</script>"
      ]
     },
     "metadata": {},
     "output_type": "display_data"
    },
    {
     "data": {
      "text/plain": [
       "Conformer(name='3_6_6', formula='C30 H38 Br2 N2 O2')"
      ]
     },
     "execution_count": 17,
     "metadata": {},
     "output_type": "execute_result"
    }
   ],
   "source": [
    "clib[42][24]"
   ]
  },
  {
   "attachments": {},
   "cell_type": "markdown",
   "metadata": {},
   "source": [
    "3.5. Create grid"
   ]
  },
  {
   "cell_type": "code",
   "execution_count": 18,
   "metadata": {},
   "outputs": [
    {
     "name": "stdout",
     "output_type": "stream",
     "text": [
      "(7106, 3)\n"
     ]
    },
    {
     "name": "stderr",
     "output_type": "stream",
     "text": [
      "100%|██████████| 75/75 [00:00<00:00, 1659.65it/s]\n"
     ]
    },
    {
     "data": {
      "text/plain": [
       "CompletedProcess(args=['molli', 'grid', '--mlib', 'ncsa-testing-data/test_conformers_new_env.mlib', '-o', 'ncsa-testing-data/grid_new_env.npy'], returncode=0)"
      ]
     },
     "execution_count": 18,
     "metadata": {},
     "output_type": "execute_result"
    }
   ],
   "source": [
    "subprocess.run(['molli', \n",
    "                'grid', \n",
    "                '--mlib', \n",
    "                'ncsa-testing-data/test_conformers_new_env.mlib', \n",
    "                '-o', \n",
    "                'ncsa-testing-data/grid_new_env.npy'\n",
    "                ])"
   ]
  },
  {
   "attachments": {},
   "cell_type": "markdown",
   "metadata": {},
   "source": [
    "4. ASO description of molecules"
   ]
  },
  {
   "cell_type": "code",
   "execution_count": 19,
   "metadata": {},
   "outputs": [
    {
     "name": "stdout",
     "output_type": "stream",
     "text": [
      "Allocating storage for descriptors\n",
      "Will compute descriptor ASO using 128 cores.\n",
      "Grid shape: (7106, 3)\n"
     ]
    },
    {
     "name": "stderr",
     "output_type": "stream",
     "text": [
      "Loading batches of conformers: 0it [00:00, ?it/s]\n",
      "Submitting calculations:   0%|          | 0/75 [00:00<?, ?it/s]\u001b[A\n",
      "                                                               \u001b[A\n",
      "\n",
      "Gathering calculation results:   0%|          | 0/75 [00:00<?, ?it/s]\u001b[A\u001b[A\n",
      "\n",
      "Loading batches of conformers: 1it [00:13, 13.52s/it]                \u001b[A\u001b[A\n"
     ]
    },
    {
     "data": {
      "text/plain": [
       "CompletedProcess(args=['molli', 'gbca', 'aso', 'ncsa-testing-data/test_conformers_new_env.mlib', '-g', 'ncsa-testing-data/grid_new_env.npy', '-o', 'ncsa-testing-data/aso_new_env.h5'], returncode=0)"
      ]
     },
     "execution_count": 19,
     "metadata": {},
     "output_type": "execute_result"
    }
   ],
   "source": [
    "subprocess.run(['molli', \n",
    "                'gbca', \n",
    "                'aso', \n",
    "                'ncsa-testing-data/test_conformers_new_env.mlib', \n",
    "                '-g', \n",
    "                'ncsa-testing-data/grid_new_env.npy', \n",
    "                '-o', \n",
    "                'ncsa-testing-data/aso_new_env.h5'\n",
    "                ])\n",
    "# tqdm looks messed up"
   ]
  },
  {
   "cell_type": "code",
   "execution_count": 20,
   "metadata": {},
   "outputs": [],
   "source": [
    "# subprocess.run(['molli', 'grid', '--mlib', '../../out_conformers1/test_conformers.mlib', '-o', 'molli/lib_gen/test_aso'])\n"
   ]
  },
  {
   "cell_type": "code",
   "execution_count": 21,
   "metadata": {},
   "outputs": [],
   "source": [
    "#subprocess.run(['molli', 'descriptors', '../../out_conformers1/test4_conformers.mlib', '-o', '../../test_aso_data/test_aso.h5'])"
   ]
  },
  {
   "attachments": {},
   "cell_type": "markdown",
   "metadata": {},
   "source": [
    "5. post-processing/dimension-reduction/analysis"
   ]
  },
  {
   "cell_type": "code",
   "execution_count": 22,
   "metadata": {},
   "outputs": [
    {
     "name": "stderr",
     "output_type": "stream",
     "text": [
      "100%|██████████| 75/75 [00:00<00:00, 4697.99it/s]\n"
     ]
    },
    {
     "name": "stdout",
     "output_type": "stream",
     "text": [
      "shape of data after variance threshold: (75, 3784)\n",
      "total variance after variance threshold: 62.94\n",
      "\n",
      "shape of data after removing correlated columns (R > 0.8): (75, 254)\n",
      "total variance after removing correlated columns (R > 0.8): 3.39\n",
      "\n"
     ]
    },
    {
     "data": {
      "text/plain": [
       "CompletedProcess(args=['molli', 'cluster', 'ncsa-testing-data/aso_new_env.h5', '-o', '/scratch/ethangm2/cluster-test/new_env_data3', '-v', '0', '-c', '0.8'], returncode=0)"
      ]
     },
     "execution_count": 22,
     "metadata": {},
     "output_type": "execute_result"
    }
   ],
   "source": [
    "subprocess.run(         # check functionality for plotting and pca\n",
    "     [                   # should be better way to implement post_processing stuff\n",
    "         'molli', \n",
    "         'cluster', \n",
    "         'ncsa-testing-data/aso_new_env.h5', \n",
    "         '-o', \n",
    "         '/scratch/ethangm2/cluster-test/new_env_data3', \n",
    "         '-v',\n",
    "         '0',\n",
    "         '-c',\n",
    "         '0.8',\n",
    "     ]\n",
    " )"
   ]
  },
  {
   "cell_type": "code",
   "execution_count": null,
   "metadata": {},
   "outputs": [],
   "source": []
  }
 ],
 "metadata": {
  "kernelspec": {
   "display_name": "NCSA-workflow-dev",
   "language": "python",
   "name": "python3"
  },
  "language_info": {
   "codemirror_mode": {
    "name": "ipython",
    "version": 3
   },
   "file_extension": ".py",
   "mimetype": "text/x-python",
   "name": "python",
   "nbconvert_exporter": "python",
   "pygments_lexer": "ipython3",
   "version": "3.11.4"
  },
  "orig_nbformat": 4
 },
 "nbformat": 4,
 "nbformat_minor": 2
}
