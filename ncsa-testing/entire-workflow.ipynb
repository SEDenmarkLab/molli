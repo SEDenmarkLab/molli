{
 "cells": [
  {
   "attachments": {},
   "cell_type": "markdown",
   "metadata": {},
   "source": [
    "To-Do: entire workflow\n",
    "chemdraw parse -> combinatorial expansion -> conformer generation -> aso description -> post-processing/dimension-reduction/analysis -> plot/output data"
   ]
  },
  {
   "attachments": {},
   "cell_type": "markdown",
   "metadata": {},
   "source": [
    "1. ChemDraw Parsing"
   ]
  },
  {
   "cell_type": "code",
   "execution_count": 26,
   "metadata": {},
   "outputs": [],
   "source": [
    "import molli as ml\n",
    "import molli.visual\n",
    "import subprocess"
   ]
  },
  {
   "cell_type": "code",
   "execution_count": 2,
   "metadata": {},
   "outputs": [],
   "source": [
    "cores = ml.files.box_cores_test_1\n",
    "subs = ml.files.box_substituents_test_1"
   ]
  },
  {
   "cell_type": "code",
   "execution_count": 7,
   "metadata": {},
   "outputs": [
    {
     "name": "stderr",
     "output_type": "stream",
     "text": [
      "100%|██████████| 5/5 [00:00<00:00, 17.58it/s]\n",
      "100%|██████████| 15/15 [00:00<00:00, 175.88it/s]\n"
     ]
    },
    {
     "data": {
      "text/plain": [
       "CompletedProcess(args=['molli', 'parse', '--hadd', '/home/ethangm2/NCSA Development/molli/molli/files/BOX_substituents_test_1.cdxml', '-o', '../ncsa-testing/ncsa-testing-data/BOX_subs.mlib'], returncode=0)"
      ]
     },
     "execution_count": 7,
     "metadata": {},
     "output_type": "execute_result"
    }
   ],
   "source": [
    "subprocess.run(['molli', 'parse', '--hadd', f'{cores}', '-o', '../ncsa-testing/ncsa-testing-data/BOX_cores.mlib'])\n",
    "subprocess.run(['molli', 'parse', '--hadd', f'{subs}', '-o', '../ncsa-testing/ncsa-testing-data/BOX_subs.mlib'])"
   ]
  },
  {
   "cell_type": "code",
   "execution_count": 8,
   "metadata": {},
   "outputs": [
    {
     "name": "stdout",
     "output_type": "stream",
     "text": [
      "5\n"
     ]
    },
    {
     "data": {
      "application/3dmoljs_load.v0": "<div id=\"3dmolviewer_16863461838494618\"  style=\"position: relative; width: 1000px; height: 500px;\">\n        <p id=\"3dmolwarning_16863461838494618\" style=\"background-color:#ffcccc;color:black\">You appear to be running in JupyterLab (or JavaScript failed to load for some other reason).  You need to install the 3dmol extension: <br>\n        <tt>jupyter labextension install jupyterlab_3dmol</tt></p>\n        </div>\n<script>\n\nvar loadScriptAsync = function(uri){\n  return new Promise((resolve, reject) => {\n    //this is to ignore the existence of requirejs amd\n    var savedexports, savedmodule;\n    if (typeof exports !== 'undefined') savedexports = exports;\n    else exports = {}\n    if (typeof module !== 'undefined') savedmodule = module;\n    else module = {}\n\n    var tag = document.createElement('script');\n    tag.src = uri;\n    tag.async = true;\n    tag.onload = () => {\n        exports = savedexports;\n        module = savedmodule;\n        resolve();\n    };\n  var firstScriptTag = document.getElementsByTagName('script')[0];\n  firstScriptTag.parentNode.insertBefore(tag, firstScriptTag);\n});\n};\n\nif(typeof $3Dmolpromise === 'undefined') {\n$3Dmolpromise = null;\n  $3Dmolpromise = loadScriptAsync('https://cdnjs.cloudflare.com/ajax/libs/3Dmol/2.0.3/3Dmol-min.js');\n}\n\nvar viewer_16863461838494618 = null;\nvar warn = document.getElementById(\"3dmolwarning_16863461838494618\");\nif(warn) {\n    warn.parentNode.removeChild(warn);\n}\n$3Dmolpromise.then(function() {\nviewer_16863461838494618 = $3Dmol.createViewer(document.getElementById(\"3dmolviewer_16863461838494618\"),{backgroundColor:\"white\"});\nviewer_16863461838494618.zoomTo();\n\tviewer_16863461838494618.addModel(\"# Produced with molli package\\n@<TRIPOS>MOLECULE\\n1\\n30 32 0 0 0\\nSMALL\\nUSER_CHARGES\\n\\n@<TRIPOS>ATOM\\n     1 C       2.653877    -0.900810     0.000000 C          1 UNL1 0.0\\n     2 C       3.535127     0.312731     0.000000 C          1 UNL1 0.0\\n     3 O       2.653877     1.526273     0.000000 O          1 UNL1 0.0\\n     4 C       1.226794     1.062732     0.000000 C          1 UNL1 0.0\\n     5 N       1.226794    -0.437269     0.000000 N          1 UNL1 0.0\\n     6 C      -0.072164     1.812732     0.000000 C          1 UNL1 0.0\\n     7 C      -1.371123     1.062732     0.000000 C          1 UNL1 0.0\\n     8 O      -2.798206     1.526273     0.000000 O          1 UNL1 0.0\\n     9 C      -3.679456     0.312731     0.000000 C          1 UNL1 0.0\\n    10 C      -2.798206    -0.900810     0.000000 C          1 UNL1 0.0\\n    11 N      -1.371123    -0.437269     0.000000 N          1 UNL1 0.0\\n    12 A1     -3.029977    -1.614352    -1.299453 Unknown    1 UNL1 0.0\\n    13 A1      2.885648    -1.614352     1.299453 Unknown    1 UNL1 0.0\\n    14 C      -0.072164    -1.187268     0.000000 C          1 UNL1 0.0\\n    15 Br     -0.072164    -1.187268     1.499931 Br         1 UNL1 0.0\\n    16 Br      0.677836    -2.486227     0.000000 Br         1 UNL1 0.0\\n    17 C      -0.072164     1.812732     1.500000 C          1 UNL1 0.0\\n    18 C       1.226794     2.562732     0.000000 C          1 UNL1 0.0\\n    19 H       2.859825    -1.534673    -0.837080 H          1 UNL1 0.0\\n    20 H       4.148880     0.312731     0.876544 H          1 UNL1 0.0\\n    21 H       4.148880     0.312731    -0.876544 H          1 UNL1 0.0\\n    22 H      -4.293208     0.312731     0.876544 H          1 UNL1 0.0\\n    23 H      -4.293208     0.312731    -0.876544 H          1 UNL1 0.0\\n    24 H      -3.004154    -1.534673     0.837080 H          1 UNL1 0.0\\n    25 H       0.602535     1.062752     1.856667 H          1 UNL1 0.0\\n    26 H      -1.059016     1.603414     1.856667 H          1 UNL1 0.0\\n    27 H       0.239987     2.772028     1.856667 H          1 UNL1 0.0\\n    28 H       1.787896     2.304234     0.873638 H          1 UNL1 0.0\\n    29 H       1.031246     3.614711     0.000027 H          1 UNL1 0.0\\n    30 H       1.787873     2.304274    -0.873665 H          1 UNL1 0.0\\n@<TRIPOS>BOND\\n     1      1      2          1\\n     2      2      3          1\\n     3      3      4          1\\n     4      4      5          2\\n     5      5      1          1\\n     6      4      6          1\\n     7      6      7          1\\n     8      7      8          1\\n     9      8      9          1\\n    10      9     10          1\\n    11     10     11          1\\n    12     11      7          2\\n    13     10     12          1\\n    14      1     13          1\\n    15     11     14          1\\n    16     14      5          1\\n    17     14     15          1\\n    18     14     16          1\\n    19      6     17          1\\n    20      6     18          1\\n    21      1     19          1\\n    22      2     20          1\\n    23      2     21          1\\n    24      9     22          1\\n    25      9     23          1\\n    26     10     24          1\\n    27     17     25          1\\n    28     17     26          1\\n    29     17     27          1\\n    30     18     28          1\\n    31     18     29          1\\n    32     18     30          1\\n\",\"mol2\");\n\tviewer_16863461838494618.setStyle({\"stick\": {\"radius\": 0.1}, \"sphere\": {\"scale\": 0.15}});\n\tviewer_16863461838494618.setHoverable({},true,\"\\n            function(atom,viewer,event,container) {\\n                if(!atom.label) {\\n                    atom.label = viewer.addLabel(atom.elem + atom.serial, {position: atom, backgroundColor: 'mintcream', fontColor:'black'});\\n                }\\n            }\\n            \",\"\\n            function(atom,viewer) { \\n                if(atom.label) {\\n                    viewer.removeLabel(atom.label);\\n                    delete atom.label;\\n                }\\n            }\\n            \");\n\tviewer_16863461838494618.zoomTo();\n\tviewer_16863461838494618.setBackgroundColor(null);\nviewer_16863461838494618.render();\n});\n</script>",
      "text/html": [
       "<div id=\"3dmolviewer_16863461838494618\"  style=\"position: relative; width: 1000px; height: 500px;\">\n",
       "        <p id=\"3dmolwarning_16863461838494618\" style=\"background-color:#ffcccc;color:black\">You appear to be running in JupyterLab (or JavaScript failed to load for some other reason).  You need to install the 3dmol extension: <br>\n",
       "        <tt>jupyter labextension install jupyterlab_3dmol</tt></p>\n",
       "        </div>\n",
       "<script>\n",
       "\n",
       "var loadScriptAsync = function(uri){\n",
       "  return new Promise((resolve, reject) => {\n",
       "    //this is to ignore the existence of requirejs amd\n",
       "    var savedexports, savedmodule;\n",
       "    if (typeof exports !== 'undefined') savedexports = exports;\n",
       "    else exports = {}\n",
       "    if (typeof module !== 'undefined') savedmodule = module;\n",
       "    else module = {}\n",
       "\n",
       "    var tag = document.createElement('script');\n",
       "    tag.src = uri;\n",
       "    tag.async = true;\n",
       "    tag.onload = () => {\n",
       "        exports = savedexports;\n",
       "        module = savedmodule;\n",
       "        resolve();\n",
       "    };\n",
       "  var firstScriptTag = document.getElementsByTagName('script')[0];\n",
       "  firstScriptTag.parentNode.insertBefore(tag, firstScriptTag);\n",
       "});\n",
       "};\n",
       "\n",
       "if(typeof $3Dmolpromise === 'undefined') {\n",
       "$3Dmolpromise = null;\n",
       "  $3Dmolpromise = loadScriptAsync('https://cdnjs.cloudflare.com/ajax/libs/3Dmol/2.0.3/3Dmol-min.js');\n",
       "}\n",
       "\n",
       "var viewer_16863461838494618 = null;\n",
       "var warn = document.getElementById(\"3dmolwarning_16863461838494618\");\n",
       "if(warn) {\n",
       "    warn.parentNode.removeChild(warn);\n",
       "}\n",
       "$3Dmolpromise.then(function() {\n",
       "viewer_16863461838494618 = $3Dmol.createViewer(document.getElementById(\"3dmolviewer_16863461838494618\"),{backgroundColor:\"white\"});\n",
       "viewer_16863461838494618.zoomTo();\n",
       "\tviewer_16863461838494618.addModel(\"# Produced with molli package\\n@<TRIPOS>MOLECULE\\n1\\n30 32 0 0 0\\nSMALL\\nUSER_CHARGES\\n\\n@<TRIPOS>ATOM\\n     1 C       2.653877    -0.900810     0.000000 C          1 UNL1 0.0\\n     2 C       3.535127     0.312731     0.000000 C          1 UNL1 0.0\\n     3 O       2.653877     1.526273     0.000000 O          1 UNL1 0.0\\n     4 C       1.226794     1.062732     0.000000 C          1 UNL1 0.0\\n     5 N       1.226794    -0.437269     0.000000 N          1 UNL1 0.0\\n     6 C      -0.072164     1.812732     0.000000 C          1 UNL1 0.0\\n     7 C      -1.371123     1.062732     0.000000 C          1 UNL1 0.0\\n     8 O      -2.798206     1.526273     0.000000 O          1 UNL1 0.0\\n     9 C      -3.679456     0.312731     0.000000 C          1 UNL1 0.0\\n    10 C      -2.798206    -0.900810     0.000000 C          1 UNL1 0.0\\n    11 N      -1.371123    -0.437269     0.000000 N          1 UNL1 0.0\\n    12 A1     -3.029977    -1.614352    -1.299453 Unknown    1 UNL1 0.0\\n    13 A1      2.885648    -1.614352     1.299453 Unknown    1 UNL1 0.0\\n    14 C      -0.072164    -1.187268     0.000000 C          1 UNL1 0.0\\n    15 Br     -0.072164    -1.187268     1.499931 Br         1 UNL1 0.0\\n    16 Br      0.677836    -2.486227     0.000000 Br         1 UNL1 0.0\\n    17 C      -0.072164     1.812732     1.500000 C          1 UNL1 0.0\\n    18 C       1.226794     2.562732     0.000000 C          1 UNL1 0.0\\n    19 H       2.859825    -1.534673    -0.837080 H          1 UNL1 0.0\\n    20 H       4.148880     0.312731     0.876544 H          1 UNL1 0.0\\n    21 H       4.148880     0.312731    -0.876544 H          1 UNL1 0.0\\n    22 H      -4.293208     0.312731     0.876544 H          1 UNL1 0.0\\n    23 H      -4.293208     0.312731    -0.876544 H          1 UNL1 0.0\\n    24 H      -3.004154    -1.534673     0.837080 H          1 UNL1 0.0\\n    25 H       0.602535     1.062752     1.856667 H          1 UNL1 0.0\\n    26 H      -1.059016     1.603414     1.856667 H          1 UNL1 0.0\\n    27 H       0.239987     2.772028     1.856667 H          1 UNL1 0.0\\n    28 H       1.787896     2.304234     0.873638 H          1 UNL1 0.0\\n    29 H       1.031246     3.614711     0.000027 H          1 UNL1 0.0\\n    30 H       1.787873     2.304274    -0.873665 H          1 UNL1 0.0\\n@<TRIPOS>BOND\\n     1      1      2          1\\n     2      2      3          1\\n     3      3      4          1\\n     4      4      5          2\\n     5      5      1          1\\n     6      4      6          1\\n     7      6      7          1\\n     8      7      8          1\\n     9      8      9          1\\n    10      9     10          1\\n    11     10     11          1\\n    12     11      7          2\\n    13     10     12          1\\n    14      1     13          1\\n    15     11     14          1\\n    16     14      5          1\\n    17     14     15          1\\n    18     14     16          1\\n    19      6     17          1\\n    20      6     18          1\\n    21      1     19          1\\n    22      2     20          1\\n    23      2     21          1\\n    24      9     22          1\\n    25      9     23          1\\n    26     10     24          1\\n    27     17     25          1\\n    28     17     26          1\\n    29     17     27          1\\n    30     18     28          1\\n    31     18     29          1\\n    32     18     30          1\\n\",\"mol2\");\n",
       "\tviewer_16863461838494618.setStyle({\"stick\": {\"radius\": 0.1}, \"sphere\": {\"scale\": 0.15}});\n",
       "\tviewer_16863461838494618.setHoverable({},true,\"\\n            function(atom,viewer,event,container) {\\n                if(!atom.label) {\\n                    atom.label = viewer.addLabel(atom.elem + atom.serial, {position: atom, backgroundColor: 'mintcream', fontColor:'black'});\\n                }\\n            }\\n            \",\"\\n            function(atom,viewer) { \\n                if(atom.label) {\\n                    viewer.removeLabel(atom.label);\\n                    delete atom.label;\\n                }\\n            }\\n            \");\n",
       "\tviewer_16863461838494618.zoomTo();\n",
       "\tviewer_16863461838494618.setBackgroundColor(null);\n",
       "viewer_16863461838494618.render();\n",
       "});\n",
       "</script>"
      ]
     },
     "metadata": {},
     "output_type": "display_data"
    },
    {
     "data": {
      "text/plain": [
       "Molecule(name='1', formula='C10 H12 Br2 N2 O2 Unknown2')"
      ]
     },
     "execution_count": 8,
     "metadata": {},
     "output_type": "execute_result"
    }
   ],
   "source": [
    "m_core = ml.MoleculeLibrary('ncsa-testing-data/BOX_cores.mlib')\n",
    "print(len(m_core))\n",
    "m_core[0]"
   ]
  },
  {
   "cell_type": "code",
   "execution_count": 9,
   "metadata": {},
   "outputs": [
    {
     "name": "stdout",
     "output_type": "stream",
     "text": [
      "15\n"
     ]
    },
    {
     "data": {
      "application/3dmoljs_load.v0": "<div id=\"3dmolviewer_16863461882558186\"  style=\"position: relative; width: 1000px; height: 500px;\">\n        <p id=\"3dmolwarning_16863461882558186\" style=\"background-color:#ffcccc;color:black\">You appear to be running in JupyterLab (or JavaScript failed to load for some other reason).  You need to install the 3dmol extension: <br>\n        <tt>jupyter labextension install jupyterlab_3dmol</tt></p>\n        </div>\n<script>\n\nvar loadScriptAsync = function(uri){\n  return new Promise((resolve, reject) => {\n    //this is to ignore the existence of requirejs amd\n    var savedexports, savedmodule;\n    if (typeof exports !== 'undefined') savedexports = exports;\n    else exports = {}\n    if (typeof module !== 'undefined') savedmodule = module;\n    else module = {}\n\n    var tag = document.createElement('script');\n    tag.src = uri;\n    tag.async = true;\n    tag.onload = () => {\n        exports = savedexports;\n        module = savedmodule;\n        resolve();\n    };\n  var firstScriptTag = document.getElementsByTagName('script')[0];\n  firstScriptTag.parentNode.insertBefore(tag, firstScriptTag);\n});\n};\n\nif(typeof $3Dmolpromise === 'undefined') {\n$3Dmolpromise = null;\n  $3Dmolpromise = loadScriptAsync('https://cdnjs.cloudflare.com/ajax/libs/3Dmol/2.0.3/3Dmol-min.js');\n}\n\nvar viewer_16863461882558186 = null;\nvar warn = document.getElementById(\"3dmolwarning_16863461882558186\");\nif(warn) {\n    warn.parentNode.removeChild(warn);\n}\n$3Dmolpromise.then(function() {\nviewer_16863461882558186 = $3Dmol.createViewer(document.getElementById(\"3dmolviewer_16863461882558186\"),{backgroundColor:\"white\"});\nviewer_16863461882558186.zoomTo();\n\tviewer_16863461882558186.addModel(\"# Produced with molli package\\n@<TRIPOS>MOLECULE\\n3\\n11 10 0 0 0\\nSMALL\\nUSER_CHARGES\\n\\n@<TRIPOS>ATOM\\n     1 C       0.000000     0.000000     0.000000 C          1 UNL1 0.0\\n     2 AP1    -1.298958    -0.750000     0.000000 Unknown    1 UNL1 0.0\\n     3 C       1.299018    -0.750035     0.000000 C          1 UNL1 0.0\\n     4 C       0.000000     1.500000     0.000000 C          1 UNL1 0.0\\n     5 H       0.000000     0.000000    -1.070000 H          1 UNL1 0.0\\n     6 H       1.860120    -0.491537     0.873638 H          1 UNL1 0.0\\n     7 H       1.860097    -0.491577    -0.873665 H          1 UNL1 0.0\\n     8 H       1.103470    -1.802014     0.000027 H          1 UNL1 0.0\\n     9 H       1.008806     1.856667     0.000000 H          1 UNL1 0.0\\n    10 H      -0.504403     1.856667     0.873651 H          1 UNL1 0.0\\n    11 H      -0.504403     1.856667    -0.873651 H          1 UNL1 0.0\\n@<TRIPOS>BOND\\n     1      2      1          1\\n     2      1      3          1\\n     3      1      4          1\\n     4      1      5          1\\n     5      3      6          1\\n     6      3      7          1\\n     7      3      8          1\\n     8      4      9          1\\n     9      4     10          1\\n    10      4     11          1\\n\",\"mol2\");\n\tviewer_16863461882558186.setStyle({\"stick\": {\"radius\": 0.1}, \"sphere\": {\"scale\": 0.15}});\n\tviewer_16863461882558186.setHoverable({},true,\"\\n            function(atom,viewer,event,container) {\\n                if(!atom.label) {\\n                    atom.label = viewer.addLabel(atom.elem + atom.serial, {position: atom, backgroundColor: 'mintcream', fontColor:'black'});\\n                }\\n            }\\n            \",\"\\n            function(atom,viewer) { \\n                if(atom.label) {\\n                    viewer.removeLabel(atom.label);\\n                    delete atom.label;\\n                }\\n            }\\n            \");\n\tviewer_16863461882558186.zoomTo();\n\tviewer_16863461882558186.setBackgroundColor(null);\nviewer_16863461882558186.render();\n});\n</script>",
      "text/html": [
       "<div id=\"3dmolviewer_16863461882558186\"  style=\"position: relative; width: 1000px; height: 500px;\">\n",
       "        <p id=\"3dmolwarning_16863461882558186\" style=\"background-color:#ffcccc;color:black\">You appear to be running in JupyterLab (or JavaScript failed to load for some other reason).  You need to install the 3dmol extension: <br>\n",
       "        <tt>jupyter labextension install jupyterlab_3dmol</tt></p>\n",
       "        </div>\n",
       "<script>\n",
       "\n",
       "var loadScriptAsync = function(uri){\n",
       "  return new Promise((resolve, reject) => {\n",
       "    //this is to ignore the existence of requirejs amd\n",
       "    var savedexports, savedmodule;\n",
       "    if (typeof exports !== 'undefined') savedexports = exports;\n",
       "    else exports = {}\n",
       "    if (typeof module !== 'undefined') savedmodule = module;\n",
       "    else module = {}\n",
       "\n",
       "    var tag = document.createElement('script');\n",
       "    tag.src = uri;\n",
       "    tag.async = true;\n",
       "    tag.onload = () => {\n",
       "        exports = savedexports;\n",
       "        module = savedmodule;\n",
       "        resolve();\n",
       "    };\n",
       "  var firstScriptTag = document.getElementsByTagName('script')[0];\n",
       "  firstScriptTag.parentNode.insertBefore(tag, firstScriptTag);\n",
       "});\n",
       "};\n",
       "\n",
       "if(typeof $3Dmolpromise === 'undefined') {\n",
       "$3Dmolpromise = null;\n",
       "  $3Dmolpromise = loadScriptAsync('https://cdnjs.cloudflare.com/ajax/libs/3Dmol/2.0.3/3Dmol-min.js');\n",
       "}\n",
       "\n",
       "var viewer_16863461882558186 = null;\n",
       "var warn = document.getElementById(\"3dmolwarning_16863461882558186\");\n",
       "if(warn) {\n",
       "    warn.parentNode.removeChild(warn);\n",
       "}\n",
       "$3Dmolpromise.then(function() {\n",
       "viewer_16863461882558186 = $3Dmol.createViewer(document.getElementById(\"3dmolviewer_16863461882558186\"),{backgroundColor:\"white\"});\n",
       "viewer_16863461882558186.zoomTo();\n",
       "\tviewer_16863461882558186.addModel(\"# Produced with molli package\\n@<TRIPOS>MOLECULE\\n3\\n11 10 0 0 0\\nSMALL\\nUSER_CHARGES\\n\\n@<TRIPOS>ATOM\\n     1 C       0.000000     0.000000     0.000000 C          1 UNL1 0.0\\n     2 AP1    -1.298958    -0.750000     0.000000 Unknown    1 UNL1 0.0\\n     3 C       1.299018    -0.750035     0.000000 C          1 UNL1 0.0\\n     4 C       0.000000     1.500000     0.000000 C          1 UNL1 0.0\\n     5 H       0.000000     0.000000    -1.070000 H          1 UNL1 0.0\\n     6 H       1.860120    -0.491537     0.873638 H          1 UNL1 0.0\\n     7 H       1.860097    -0.491577    -0.873665 H          1 UNL1 0.0\\n     8 H       1.103470    -1.802014     0.000027 H          1 UNL1 0.0\\n     9 H       1.008806     1.856667     0.000000 H          1 UNL1 0.0\\n    10 H      -0.504403     1.856667     0.873651 H          1 UNL1 0.0\\n    11 H      -0.504403     1.856667    -0.873651 H          1 UNL1 0.0\\n@<TRIPOS>BOND\\n     1      2      1          1\\n     2      1      3          1\\n     3      1      4          1\\n     4      1      5          1\\n     5      3      6          1\\n     6      3      7          1\\n     7      3      8          1\\n     8      4      9          1\\n     9      4     10          1\\n    10      4     11          1\\n\",\"mol2\");\n",
       "\tviewer_16863461882558186.setStyle({\"stick\": {\"radius\": 0.1}, \"sphere\": {\"scale\": 0.15}});\n",
       "\tviewer_16863461882558186.setHoverable({},true,\"\\n            function(atom,viewer,event,container) {\\n                if(!atom.label) {\\n                    atom.label = viewer.addLabel(atom.elem + atom.serial, {position: atom, backgroundColor: 'mintcream', fontColor:'black'});\\n                }\\n            }\\n            \",\"\\n            function(atom,viewer) { \\n                if(atom.label) {\\n                    viewer.removeLabel(atom.label);\\n                    delete atom.label;\\n                }\\n            }\\n            \");\n",
       "\tviewer_16863461882558186.zoomTo();\n",
       "\tviewer_16863461882558186.setBackgroundColor(null);\n",
       "viewer_16863461882558186.render();\n",
       "});\n",
       "</script>"
      ]
     },
     "metadata": {},
     "output_type": "display_data"
    },
    {
     "data": {
      "text/plain": [
       "Molecule(name='3', formula='C3 H7 Unknown1')"
      ]
     },
     "execution_count": 9,
     "metadata": {},
     "output_type": "execute_result"
    }
   ],
   "source": [
    "m_subs = ml.MoleculeLibrary('ncsa-testing-data/BOX_subs.mlib')\n",
    "print(len(m_subs))\n",
    "m_subs[0]"
   ]
  },
  {
   "attachments": {},
   "cell_type": "markdown",
   "metadata": {},
   "source": [
    "2. Combinatorial Expansion"
   ]
  },
  {
   "cell_type": "code",
   "execution_count": 10,
   "metadata": {},
   "outputs": [
    {
     "name": "stdout",
     "output_type": "stream",
     "text": [
      "Will create a library of size 75\n"
     ]
    },
    {
     "name": "stderr",
     "output_type": "stream",
     "text": [
      "100%|██████████| 75/75 [00:02<00:00, 29.39it/s]\n"
     ]
    },
    {
     "data": {
      "text/plain": [
       "CompletedProcess(args=['molli', 'combine', 'ncsa-testing-data/BOX_cores.mlib', '-s', 'ncsa-testing-data/BOX_subs.mlib', '-j', '96', '-o', 'ncsa-testing-data/test_combine.mlib', '-a', 'A1', '--obopt', 'uff', '-m', 'same'], returncode=0)"
      ]
     },
     "execution_count": 10,
     "metadata": {},
     "output_type": "execute_result"
    }
   ],
   "source": [
    "subprocess.run(\n",
    "    [\n",
    "        'molli',\n",
    "        'combine',\n",
    "        'ncsa-testing-data/BOX_cores.mlib',\n",
    "        '-s',\n",
    "        'ncsa-testing-data/BOX_subs.mlib',\n",
    "        '-j',\n",
    "        '96', \n",
    "        '-o', \n",
    "        'ncsa-testing-data/test_combine.mlib', \n",
    "        '-a', \n",
    "        'A1', \n",
    "        '--obopt', \n",
    "        'uff',\n",
    "        '-m',\n",
    "        'same'\n",
    "    ]\n",
    ")\n"
   ]
  },
  {
   "cell_type": "code",
   "execution_count": 11,
   "metadata": {},
   "outputs": [
    {
     "name": "stdout",
     "output_type": "stream",
     "text": [
      "75\n"
     ]
    },
    {
     "data": {
      "application/3dmoljs_load.v0": "<div id=\"3dmolviewer_16863462182062957\"  style=\"position: relative; width: 1000px; height: 500px;\">\n        <p id=\"3dmolwarning_16863462182062957\" style=\"background-color:#ffcccc;color:black\">You appear to be running in JupyterLab (or JavaScript failed to load for some other reason).  You need to install the 3dmol extension: <br>\n        <tt>jupyter labextension install jupyterlab_3dmol</tt></p>\n        </div>\n<script>\n\nvar loadScriptAsync = function(uri){\n  return new Promise((resolve, reject) => {\n    //this is to ignore the existence of requirejs amd\n    var savedexports, savedmodule;\n    if (typeof exports !== 'undefined') savedexports = exports;\n    else exports = {}\n    if (typeof module !== 'undefined') savedmodule = module;\n    else module = {}\n\n    var tag = document.createElement('script');\n    tag.src = uri;\n    tag.async = true;\n    tag.onload = () => {\n        exports = savedexports;\n        module = savedmodule;\n        resolve();\n    };\n  var firstScriptTag = document.getElementsByTagName('script')[0];\n  firstScriptTag.parentNode.insertBefore(tag, firstScriptTag);\n});\n};\n\nif(typeof $3Dmolpromise === 'undefined') {\n$3Dmolpromise = null;\n  $3Dmolpromise = loadScriptAsync('https://cdnjs.cloudflare.com/ajax/libs/3Dmol/2.0.3/3Dmol-min.js');\n}\n\nvar viewer_16863462182062957 = null;\nvar warn = document.getElementById(\"3dmolwarning_16863462182062957\");\nif(warn) {\n    warn.parentNode.removeChild(warn);\n}\n$3Dmolpromise.then(function() {\nviewer_16863462182062957 = $3Dmol.createViewer(document.getElementById(\"3dmolviewer_16863462182062957\"),{backgroundColor:\"white\"});\nviewer_16863462182062957.zoomTo();\n\tviewer_16863462182062957.addModel(\"# Produced with molli package\\n@<TRIPOS>MOLECULE\\n1_3_3\\n48 50 0 0 0\\nSMALL\\nUSER_CHARGES\\n\\n@<TRIPOS>ATOM\\n     1 C       0.050961     0.010913     0.200410 C          1 UNL1 0.0\\n     2 C       0.861553     1.325601     0.282616 C          1 UNL1 0.0\\n     3 O      -0.088880     2.297359     0.408072 O          1 UNL1 0.0\\n     4 C      -1.319076     1.764767     0.371783 C          1 UNL1 0.0\\n     5 N      -1.346624     0.482589     0.277783 N          1 UNL1 0.0\\n     6 C      -2.525584     2.648590     0.393439 C          1 UNL1 0.0\\n     7 C      -3.774137     1.840626     0.228041 C          1 UNL1 0.0\\n     8 O      -4.976411     2.432057     0.291819 O          1 UNL1 0.0\\n     9 C      -5.975308     1.509557     0.172433 C          1 UNL1 0.0\\n    10 C      -5.230465     0.160193     0.057062 C          1 UNL1 0.0\\n    11 N      -3.810504     0.565260     0.062739 N          1 UNL1 0.0\\n    12 C      -2.599639    -0.296804     0.095981 C          1 UNL1 0.0\\n    13 Br     -2.926097    -1.543684     1.555086 Br         1 UNL1 0.0\\n    14 Br     -2.331109    -1.272279    -1.567362 Br         1 UNL1 0.0\\n    15 C      -2.567012     3.386343     1.742936 C          1 UNL1 0.0\\n    16 C      -2.440454     3.661368    -0.761798 C          1 UNL1 0.0\\n    17 H       0.242111    -0.413429    -0.809744 H          1 UNL1 0.0\\n    18 H       1.545337     1.386060     1.154386 H          1 UNL1 0.0\\n    19 H       1.450664     1.495351    -0.644964 H          1 UNL1 0.0\\n    20 H      -6.638121     1.530820     1.064548 H          1 UNL1 0.0\\n    21 H      -6.573902     1.776453    -0.721807 H          1 UNL1 0.0\\n    22 H      -5.439017    -0.392992     0.999418 H          1 UNL1 0.0\\n    23 H      -2.632582     2.657825     2.581073 H          1 UNL1 0.0\\n    24 H      -3.447268     4.062667     1.797902 H          1 UNL1 0.0\\n    25 H      -1.651672     4.001073     1.885180 H          1 UNL1 0.0\\n    26 H      -1.528192     4.289806    -0.669930 H          1 UNL1 0.0\\n    27 H      -3.323231     4.337119    -0.759185 H          1 UNL1 0.0\\n    28 H      -2.405567     3.133385    -1.739911 H          1 UNL1 0.0\\n    29 C      -5.827932    -0.666589    -1.131413 C          1 UNL1 0.0\\n    30 C      -5.580721    -2.179920    -1.020728 C          1 UNL1 0.0\\n    31 C      -5.489962    -0.104127    -2.525423 C          1 UNL1 0.0\\n    32 H      -6.935254    -0.596183    -1.027249 H          1 UNL1 0.0\\n    33 H      -4.533062    -2.482633    -1.084501 H          1 UNL1 0.0\\n    34 H      -6.131834    -2.709144    -1.827602 H          1 UNL1 0.0\\n    35 H      -5.970890    -2.551069    -0.049176 H          1 UNL1 0.0\\n    36 H      -6.018289    -0.690418    -3.306825 H          1 UNL1 0.0\\n    37 H      -4.412640    -0.132991    -2.745250 H          1 UNL1 0.0\\n    38 H      -5.816144     0.949561    -2.627556 H          1 UNL1 0.0\\n    39 C       0.597052    -0.997087     1.267506 C          1 UNL1 0.0\\n    40 C       0.298193    -2.470958     0.949126 C          1 UNL1 0.0\\n    41 C       0.255035    -0.609993     2.718431 C          1 UNL1 0.0\\n    42 H       1.708011    -0.960451     1.186911 H          1 UNL1 0.0\\n    43 H      -0.758749    -2.743115     0.954418 H          1 UNL1 0.0\\n    44 H       0.814772    -3.123736     1.685392 H          1 UNL1 0.0\\n    45 H       0.694570    -2.721663    -0.057722 H          1 UNL1 0.0\\n    46 H       0.747839    -1.311466     3.424193 H          1 UNL1 0.0\\n    47 H      -0.827838    -0.626282     2.915689 H          1 UNL1 0.0\\n    48 H       0.616779     0.410525     2.956313 H          1 UNL1 0.0\\n@<TRIPOS>BOND\\n     1      1      2          1\\n     2      2      3          1\\n     3      3      4          1\\n     4      4      5          2\\n     5      5      1          1\\n     6      4      6          1\\n     7      6      7          1\\n     8      7      8          1\\n     9      8      9          1\\n    10      9     10          1\\n    11     10     11          1\\n    12     11      7          2\\n    13     11     12          1\\n    14     12      5          1\\n    15     12     13          1\\n    16     12     14          1\\n    17      6     15          1\\n    18      6     16          1\\n    19      1     17          1\\n    20      2     18          1\\n    21      2     19          1\\n    22      9     20          1\\n    23      9     21          1\\n    24     10     22          1\\n    25     15     23          1\\n    26     15     24          1\\n    27     15     25          1\\n    28     16     26          1\\n    29     16     27          1\\n    30     16     28          1\\n    31     29     30          1\\n    32     29     31          1\\n    33     29     32          1\\n    34     30     33          1\\n    35     30     34          1\\n    36     30     35          1\\n    37     31     36          1\\n    38     31     37          1\\n    39     31     38          1\\n    40     10     29          1\\n    41     39     40          1\\n    42     39     41          1\\n    43     39     42          1\\n    44     40     43          1\\n    45     40     44          1\\n    46     40     45          1\\n    47     41     46          1\\n    48     41     47          1\\n    49     41     48          1\\n    50      1     39          1\\n\",\"mol2\");\n\tviewer_16863462182062957.setStyle({\"stick\": {\"radius\": 0.1}, \"sphere\": {\"scale\": 0.15}});\n\tviewer_16863462182062957.setHoverable({},true,\"\\n            function(atom,viewer,event,container) {\\n                if(!atom.label) {\\n                    atom.label = viewer.addLabel(atom.elem + atom.serial, {position: atom, backgroundColor: 'mintcream', fontColor:'black'});\\n                }\\n            }\\n            \",\"\\n            function(atom,viewer) { \\n                if(atom.label) {\\n                    viewer.removeLabel(atom.label);\\n                    delete atom.label;\\n                }\\n            }\\n            \");\n\tviewer_16863462182062957.zoomTo();\n\tviewer_16863462182062957.setBackgroundColor(null);\nviewer_16863462182062957.render();\n});\n</script>",
      "text/html": [
       "<div id=\"3dmolviewer_16863462182062957\"  style=\"position: relative; width: 1000px; height: 500px;\">\n",
       "        <p id=\"3dmolwarning_16863462182062957\" style=\"background-color:#ffcccc;color:black\">You appear to be running in JupyterLab (or JavaScript failed to load for some other reason).  You need to install the 3dmol extension: <br>\n",
       "        <tt>jupyter labextension install jupyterlab_3dmol</tt></p>\n",
       "        </div>\n",
       "<script>\n",
       "\n",
       "var loadScriptAsync = function(uri){\n",
       "  return new Promise((resolve, reject) => {\n",
       "    //this is to ignore the existence of requirejs amd\n",
       "    var savedexports, savedmodule;\n",
       "    if (typeof exports !== 'undefined') savedexports = exports;\n",
       "    else exports = {}\n",
       "    if (typeof module !== 'undefined') savedmodule = module;\n",
       "    else module = {}\n",
       "\n",
       "    var tag = document.createElement('script');\n",
       "    tag.src = uri;\n",
       "    tag.async = true;\n",
       "    tag.onload = () => {\n",
       "        exports = savedexports;\n",
       "        module = savedmodule;\n",
       "        resolve();\n",
       "    };\n",
       "  var firstScriptTag = document.getElementsByTagName('script')[0];\n",
       "  firstScriptTag.parentNode.insertBefore(tag, firstScriptTag);\n",
       "});\n",
       "};\n",
       "\n",
       "if(typeof $3Dmolpromise === 'undefined') {\n",
       "$3Dmolpromise = null;\n",
       "  $3Dmolpromise = loadScriptAsync('https://cdnjs.cloudflare.com/ajax/libs/3Dmol/2.0.3/3Dmol-min.js');\n",
       "}\n",
       "\n",
       "var viewer_16863462182062957 = null;\n",
       "var warn = document.getElementById(\"3dmolwarning_16863462182062957\");\n",
       "if(warn) {\n",
       "    warn.parentNode.removeChild(warn);\n",
       "}\n",
       "$3Dmolpromise.then(function() {\n",
       "viewer_16863462182062957 = $3Dmol.createViewer(document.getElementById(\"3dmolviewer_16863462182062957\"),{backgroundColor:\"white\"});\n",
       "viewer_16863462182062957.zoomTo();\n",
       "\tviewer_16863462182062957.addModel(\"# Produced with molli package\\n@<TRIPOS>MOLECULE\\n1_3_3\\n48 50 0 0 0\\nSMALL\\nUSER_CHARGES\\n\\n@<TRIPOS>ATOM\\n     1 C       0.050961     0.010913     0.200410 C          1 UNL1 0.0\\n     2 C       0.861553     1.325601     0.282616 C          1 UNL1 0.0\\n     3 O      -0.088880     2.297359     0.408072 O          1 UNL1 0.0\\n     4 C      -1.319076     1.764767     0.371783 C          1 UNL1 0.0\\n     5 N      -1.346624     0.482589     0.277783 N          1 UNL1 0.0\\n     6 C      -2.525584     2.648590     0.393439 C          1 UNL1 0.0\\n     7 C      -3.774137     1.840626     0.228041 C          1 UNL1 0.0\\n     8 O      -4.976411     2.432057     0.291819 O          1 UNL1 0.0\\n     9 C      -5.975308     1.509557     0.172433 C          1 UNL1 0.0\\n    10 C      -5.230465     0.160193     0.057062 C          1 UNL1 0.0\\n    11 N      -3.810504     0.565260     0.062739 N          1 UNL1 0.0\\n    12 C      -2.599639    -0.296804     0.095981 C          1 UNL1 0.0\\n    13 Br     -2.926097    -1.543684     1.555086 Br         1 UNL1 0.0\\n    14 Br     -2.331109    -1.272279    -1.567362 Br         1 UNL1 0.0\\n    15 C      -2.567012     3.386343     1.742936 C          1 UNL1 0.0\\n    16 C      -2.440454     3.661368    -0.761798 C          1 UNL1 0.0\\n    17 H       0.242111    -0.413429    -0.809744 H          1 UNL1 0.0\\n    18 H       1.545337     1.386060     1.154386 H          1 UNL1 0.0\\n    19 H       1.450664     1.495351    -0.644964 H          1 UNL1 0.0\\n    20 H      -6.638121     1.530820     1.064548 H          1 UNL1 0.0\\n    21 H      -6.573902     1.776453    -0.721807 H          1 UNL1 0.0\\n    22 H      -5.439017    -0.392992     0.999418 H          1 UNL1 0.0\\n    23 H      -2.632582     2.657825     2.581073 H          1 UNL1 0.0\\n    24 H      -3.447268     4.062667     1.797902 H          1 UNL1 0.0\\n    25 H      -1.651672     4.001073     1.885180 H          1 UNL1 0.0\\n    26 H      -1.528192     4.289806    -0.669930 H          1 UNL1 0.0\\n    27 H      -3.323231     4.337119    -0.759185 H          1 UNL1 0.0\\n    28 H      -2.405567     3.133385    -1.739911 H          1 UNL1 0.0\\n    29 C      -5.827932    -0.666589    -1.131413 C          1 UNL1 0.0\\n    30 C      -5.580721    -2.179920    -1.020728 C          1 UNL1 0.0\\n    31 C      -5.489962    -0.104127    -2.525423 C          1 UNL1 0.0\\n    32 H      -6.935254    -0.596183    -1.027249 H          1 UNL1 0.0\\n    33 H      -4.533062    -2.482633    -1.084501 H          1 UNL1 0.0\\n    34 H      -6.131834    -2.709144    -1.827602 H          1 UNL1 0.0\\n    35 H      -5.970890    -2.551069    -0.049176 H          1 UNL1 0.0\\n    36 H      -6.018289    -0.690418    -3.306825 H          1 UNL1 0.0\\n    37 H      -4.412640    -0.132991    -2.745250 H          1 UNL1 0.0\\n    38 H      -5.816144     0.949561    -2.627556 H          1 UNL1 0.0\\n    39 C       0.597052    -0.997087     1.267506 C          1 UNL1 0.0\\n    40 C       0.298193    -2.470958     0.949126 C          1 UNL1 0.0\\n    41 C       0.255035    -0.609993     2.718431 C          1 UNL1 0.0\\n    42 H       1.708011    -0.960451     1.186911 H          1 UNL1 0.0\\n    43 H      -0.758749    -2.743115     0.954418 H          1 UNL1 0.0\\n    44 H       0.814772    -3.123736     1.685392 H          1 UNL1 0.0\\n    45 H       0.694570    -2.721663    -0.057722 H          1 UNL1 0.0\\n    46 H       0.747839    -1.311466     3.424193 H          1 UNL1 0.0\\n    47 H      -0.827838    -0.626282     2.915689 H          1 UNL1 0.0\\n    48 H       0.616779     0.410525     2.956313 H          1 UNL1 0.0\\n@<TRIPOS>BOND\\n     1      1      2          1\\n     2      2      3          1\\n     3      3      4          1\\n     4      4      5          2\\n     5      5      1          1\\n     6      4      6          1\\n     7      6      7          1\\n     8      7      8          1\\n     9      8      9          1\\n    10      9     10          1\\n    11     10     11          1\\n    12     11      7          2\\n    13     11     12          1\\n    14     12      5          1\\n    15     12     13          1\\n    16     12     14          1\\n    17      6     15          1\\n    18      6     16          1\\n    19      1     17          1\\n    20      2     18          1\\n    21      2     19          1\\n    22      9     20          1\\n    23      9     21          1\\n    24     10     22          1\\n    25     15     23          1\\n    26     15     24          1\\n    27     15     25          1\\n    28     16     26          1\\n    29     16     27          1\\n    30     16     28          1\\n    31     29     30          1\\n    32     29     31          1\\n    33     29     32          1\\n    34     30     33          1\\n    35     30     34          1\\n    36     30     35          1\\n    37     31     36          1\\n    38     31     37          1\\n    39     31     38          1\\n    40     10     29          1\\n    41     39     40          1\\n    42     39     41          1\\n    43     39     42          1\\n    44     40     43          1\\n    45     40     44          1\\n    46     40     45          1\\n    47     41     46          1\\n    48     41     47          1\\n    49     41     48          1\\n    50      1     39          1\\n\",\"mol2\");\n",
       "\tviewer_16863462182062957.setStyle({\"stick\": {\"radius\": 0.1}, \"sphere\": {\"scale\": 0.15}});\n",
       "\tviewer_16863462182062957.setHoverable({},true,\"\\n            function(atom,viewer,event,container) {\\n                if(!atom.label) {\\n                    atom.label = viewer.addLabel(atom.elem + atom.serial, {position: atom, backgroundColor: 'mintcream', fontColor:'black'});\\n                }\\n            }\\n            \",\"\\n            function(atom,viewer) { \\n                if(atom.label) {\\n                    viewer.removeLabel(atom.label);\\n                    delete atom.label;\\n                }\\n            }\\n            \");\n",
       "\tviewer_16863462182062957.zoomTo();\n",
       "\tviewer_16863462182062957.setBackgroundColor(null);\n",
       "viewer_16863462182062957.render();\n",
       "});\n",
       "</script>"
      ]
     },
     "metadata": {},
     "output_type": "display_data"
    },
    {
     "data": {
      "text/plain": [
       "Molecule(name='1_3_3', formula='C16 H26 Br2 N2 O2')"
      ]
     },
     "execution_count": 11,
     "metadata": {},
     "output_type": "execute_result"
    }
   ],
   "source": [
    "combined = ml.MoleculeLibrary('ncsa-testing-data/test_combine.mlib')\n",
    "print(len(combined))\n",
    "combined[0]"
   ]
  },
  {
   "cell_type": "code",
   "execution_count": 12,
   "metadata": {},
   "outputs": [
    {
     "data": {
      "application/3dmoljs_load.v0": "<div id=\"3dmolviewer_16863462240724962\"  style=\"position: relative; width: 1000px; height: 500px;\">\n        <p id=\"3dmolwarning_16863462240724962\" style=\"background-color:#ffcccc;color:black\">You appear to be running in JupyterLab (or JavaScript failed to load for some other reason).  You need to install the 3dmol extension: <br>\n        <tt>jupyter labextension install jupyterlab_3dmol</tt></p>\n        </div>\n<script>\n\nvar loadScriptAsync = function(uri){\n  return new Promise((resolve, reject) => {\n    //this is to ignore the existence of requirejs amd\n    var savedexports, savedmodule;\n    if (typeof exports !== 'undefined') savedexports = exports;\n    else exports = {}\n    if (typeof module !== 'undefined') savedmodule = module;\n    else module = {}\n\n    var tag = document.createElement('script');\n    tag.src = uri;\n    tag.async = true;\n    tag.onload = () => {\n        exports = savedexports;\n        module = savedmodule;\n        resolve();\n    };\n  var firstScriptTag = document.getElementsByTagName('script')[0];\n  firstScriptTag.parentNode.insertBefore(tag, firstScriptTag);\n});\n};\n\nif(typeof $3Dmolpromise === 'undefined') {\n$3Dmolpromise = null;\n  $3Dmolpromise = loadScriptAsync('https://cdnjs.cloudflare.com/ajax/libs/3Dmol/2.0.3/3Dmol-min.js');\n}\n\nvar viewer_16863462240724962 = null;\nvar warn = document.getElementById(\"3dmolwarning_16863462240724962\");\nif(warn) {\n    warn.parentNode.removeChild(warn);\n}\n$3Dmolpromise.then(function() {\nviewer_16863462240724962 = $3Dmol.createViewer(document.getElementById(\"3dmolviewer_16863462240724962\"),{backgroundColor:\"white\"});\nviewer_16863462240724962.zoomTo();\n\tviewer_16863462240724962.addModel(\"# Produced with molli package\\n@<TRIPOS>MOLECULE\\n3_6_6\\n74 78 0 0 0\\nSMALL\\nUSER_CHARGES\\n\\n@<TRIPOS>ATOM\\n     1 C      -0.253590    -0.326674     0.438151 C          1 UNL1 0.0\\n     2 C       0.708167     0.916548     0.319567 C          1 UNL1 0.0\\n     3 O      -0.175346     1.960792     0.156250 O          1 UNL1 0.0\\n     4 C      -1.448680     1.551905     0.288311 C          1 UNL1 0.0\\n     5 N      -1.574584     0.292782     0.470643 N          1 UNL1 0.0\\n     6 C      -2.605288     2.510413     0.181185 C          1 UNL1 0.0\\n     7 C      -3.895561     1.746806     0.052977 C          1 UNL1 0.0\\n     8 O      -5.066091     2.379421    -0.128128 O          1 UNL1 0.0\\n     9 C      -6.104278     1.482886    -0.076677 C          1 UNL1 0.0\\n    10 C      -5.391683     0.081528    -0.062696 C          1 UNL1 0.0\\n    11 N      -3.996217     0.471981     0.142803 N          1 UNL1 0.0\\n    12 C      -2.872101    -0.413922     0.521436 C          1 UNL1 0.0\\n    13 Br     -3.234344    -0.990745     2.348051 Br         1 UNL1 0.0\\n    14 Br     -2.749836    -2.040715    -0.567718 Br         1 UNL1 0.0\\n    15 C      -2.647839     3.399434     1.434765 C          1 UNL1 0.0\\n    16 C      -2.432305     3.378532    -1.076393 C          1 UNL1 0.0\\n    17 C      -7.249410     1.925777    -1.045058 C          1 UNL1 0.0\\n    18 C      -6.786919     2.347500    -2.460335 C          1 UNL1 0.0\\n    19 C      -8.433569     0.946467    -1.076077 C          1 UNL1 0.0\\n    20 C       1.728600     1.374913     1.413196 C          1 UNL1 0.0\\n    21 C       2.878169     0.394643     1.659406 C          1 UNL1 0.0\\n    22 C       1.097700     1.837374     2.737667 C          1 UNL1 0.0\\n    23 H      -0.240800    -0.869974    -0.530471 H          1 UNL1 0.0\\n    24 H       1.292033     0.790816    -0.619728 H          1 UNL1 0.0\\n    25 H      -6.542277     1.586447     0.943756 H          1 UNL1 0.0\\n    26 H      -5.727023    -0.459326     0.834142 H          1 UNL1 0.0\\n    27 H      -2.777792     2.773112     2.345403 H          1 UNL1 0.0\\n    28 H      -3.496005     4.116157     1.384035 H          1 UNL1 0.0\\n    29 H      -1.705533     3.978433     1.542360 H          1 UNL1 0.0\\n    30 H      -1.492182     3.969040    -1.018340 H          1 UNL1 0.0\\n    31 H      -3.276175     4.096459    -1.175031 H          1 UNL1 0.0\\n    32 H      -2.398649     2.746343    -1.989555 H          1 UNL1 0.0\\n    33 H      -7.643308     2.871433    -0.608116 H          1 UNL1 0.0\\n    34 H      -6.016398     3.143739    -2.382738 H          1 UNL1 0.0\\n    35 H      -7.647643     2.776571    -3.015696 H          1 UNL1 0.0\\n    36 H      -6.370265     1.551172    -3.095882 H          1 UNL1 0.0\\n    37 H      -8.180486    -0.027121    -1.532605 H          1 UNL1 0.0\\n    38 H      -9.265314     1.382719    -1.669192 H          1 UNL1 0.0\\n    39 H      -8.802133     0.762425    -0.045430 H          1 UNL1 0.0\\n    40 H       2.210107     2.282053     0.979629 H          1 UNL1 0.0\\n    41 H       3.656509     0.880495     2.285583 H          1 UNL1 0.0\\n    42 H       3.351327     0.104901     0.696622 H          1 UNL1 0.0\\n    43 H       2.544922    -0.499527     2.207917 H          1 UNL1 0.0\\n    44 H       0.351193     2.637772     2.554943 H          1 UNL1 0.0\\n    45 H       1.886510     2.263874     3.394402 H          1 UNL1 0.0\\n    46 H       0.609055     1.019601     3.291106 H          1 UNL1 0.0\\n    47 C      -5.553354    -0.761318    -1.372680 C          1 UNL1 0.0\\n    48 C      -6.242014    -2.121030    -1.303279 C          1 UNL1 0.0\\n    49 C      -6.816380    -2.687261    -0.140347 C          1 UNL1 0.0\\n    50 C      -7.444211    -3.936403    -0.195018 C          1 UNL1 0.0\\n    51 C      -7.510765    -4.640820    -1.396711 C          1 UNL1 0.0\\n    52 C      -6.949818    -4.098334    -2.551615 C          1 UNL1 0.0\\n    53 C      -6.323277    -2.850297    -2.506228 C          1 UNL1 0.0\\n    54 H      -6.105404    -0.206639    -2.119883 H          1 UNL1 0.0\\n    55 H      -4.584817    -0.850128    -1.890206 H          1 UNL1 0.0\\n    56 H      -6.812163    -2.198600     0.816971 H          1 UNL1 0.0\\n    57 H      -7.884953    -4.358263     0.699331 H          1 UNL1 0.0\\n    58 H      -7.999552    -5.605953    -1.433032 H          1 UNL1 0.0\\n    59 H      -7.002687    -4.643744    -3.485113 H          1 UNL1 0.0\\n    60 H      -5.898308    -2.447618    -3.417886 H          1 UNL1 0.0\\n    61 C      -0.006989    -1.377007     1.551512 C          1 UNL1 0.0\\n    62 C       1.116637    -2.372987     1.335335 C          1 UNL1 0.0\\n    63 C       1.934921    -2.403919     0.185845 C          1 UNL1 0.0\\n    64 C       2.924594    -3.383277     0.051050 C          1 UNL1 0.0\\n    65 C       3.113314    -4.336325     1.054182 C          1 UNL1 0.0\\n    66 C       2.313983    -4.312682     2.197347 C          1 UNL1 0.0\\n    67 C       1.321898    -3.340042     2.336303 C          1 UNL1 0.0\\n    68 H       0.083995    -0.886791     2.533448 H          1 UNL1 0.0\\n    69 H      -0.890340    -2.034931     1.602488 H          1 UNL1 0.0\\n    70 H       1.818799    -1.689596    -0.614857 H          1 UNL1 0.0\\n    71 H       3.543847    -3.406343    -0.836112 H          1 UNL1 0.0\\n    72 H       3.877345    -5.094885     0.945110 H          1 UNL1 0.0\\n    73 H       2.458225    -5.051423     2.975239 H          1 UNL1 0.0\\n    74 H       0.705381    -3.341561     3.227526 H          1 UNL1 0.0\\n@<TRIPOS>BOND\\n     1      1      2          1\\n     2      2      3          1\\n     3      3      4          1\\n     4      4      5          2\\n     5      5      1          1\\n     6      4      6          1\\n     7      6      7          1\\n     8      7      8          1\\n     9      8      9          1\\n    10      9     10          1\\n    11     10     11          1\\n    12     11      7          2\\n    13     11     12          1\\n    14     12      5          1\\n    15     12     13          1\\n    16     12     14          1\\n    17      6     15          1\\n    18      6     16          1\\n    19     17     18          1\\n    20     17     19          1\\n    21      9     17          1\\n    22     20     21          1\\n    23     20     22          1\\n    24      2     20          1\\n    25      1     23          1\\n    26      2     24          1\\n    27      9     25          1\\n    28     10     26          1\\n    29     15     27          1\\n    30     15     28          1\\n    31     15     29          1\\n    32     16     30          1\\n    33     16     31          1\\n    34     16     32          1\\n    35     17     33          1\\n    36     18     34          1\\n    37     18     35          1\\n    38     18     36          1\\n    39     19     37          1\\n    40     19     38          1\\n    41     19     39          1\\n    42     20     40          1\\n    43     21     41          1\\n    44     21     42          1\\n    45     21     43          1\\n    46     22     44          1\\n    47     22     45          1\\n    48     22     46          1\\n    49     47     48          1\\n    50     48     49          2\\n    51     49     50          1\\n    52     50     51          2\\n    53     51     52          1\\n    54     52     53          2\\n    55     53     48          1\\n    56     47     54          1\\n    57     47     55          1\\n    58     49     56          1\\n    59     50     57          1\\n    60     51     58          1\\n    61     52     59          1\\n    62     53     60          1\\n    63     10     47          1\\n    64     61     62          1\\n    65     62     63          2\\n    66     63     64          1\\n    67     64     65          2\\n    68     65     66          1\\n    69     66     67          2\\n    70     67     62          1\\n    71     61     68          1\\n    72     61     69          1\\n    73     63     70          1\\n    74     64     71          1\\n    75     65     72          1\\n    76     66     73          1\\n    77     67     74          1\\n    78      1     61          1\\n\",\"mol2\");\n\tviewer_16863462240724962.setStyle({\"stick\": {\"radius\": 0.1}, \"sphere\": {\"scale\": 0.15}});\n\tviewer_16863462240724962.setHoverable({},true,\"\\n            function(atom,viewer,event,container) {\\n                if(!atom.label) {\\n                    atom.label = viewer.addLabel(atom.elem + atom.serial, {position: atom, backgroundColor: 'mintcream', fontColor:'black'});\\n                }\\n            }\\n            \",\"\\n            function(atom,viewer) { \\n                if(atom.label) {\\n                    viewer.removeLabel(atom.label);\\n                    delete atom.label;\\n                }\\n            }\\n            \");\n\tviewer_16863462240724962.zoomTo();\n\tviewer_16863462240724962.setBackgroundColor(null);\nviewer_16863462240724962.render();\n});\n</script>",
      "text/html": [
       "<div id=\"3dmolviewer_16863462240724962\"  style=\"position: relative; width: 1000px; height: 500px;\">\n",
       "        <p id=\"3dmolwarning_16863462240724962\" style=\"background-color:#ffcccc;color:black\">You appear to be running in JupyterLab (or JavaScript failed to load for some other reason).  You need to install the 3dmol extension: <br>\n",
       "        <tt>jupyter labextension install jupyterlab_3dmol</tt></p>\n",
       "        </div>\n",
       "<script>\n",
       "\n",
       "var loadScriptAsync = function(uri){\n",
       "  return new Promise((resolve, reject) => {\n",
       "    //this is to ignore the existence of requirejs amd\n",
       "    var savedexports, savedmodule;\n",
       "    if (typeof exports !== 'undefined') savedexports = exports;\n",
       "    else exports = {}\n",
       "    if (typeof module !== 'undefined') savedmodule = module;\n",
       "    else module = {}\n",
       "\n",
       "    var tag = document.createElement('script');\n",
       "    tag.src = uri;\n",
       "    tag.async = true;\n",
       "    tag.onload = () => {\n",
       "        exports = savedexports;\n",
       "        module = savedmodule;\n",
       "        resolve();\n",
       "    };\n",
       "  var firstScriptTag = document.getElementsByTagName('script')[0];\n",
       "  firstScriptTag.parentNode.insertBefore(tag, firstScriptTag);\n",
       "});\n",
       "};\n",
       "\n",
       "if(typeof $3Dmolpromise === 'undefined') {\n",
       "$3Dmolpromise = null;\n",
       "  $3Dmolpromise = loadScriptAsync('https://cdnjs.cloudflare.com/ajax/libs/3Dmol/2.0.3/3Dmol-min.js');\n",
       "}\n",
       "\n",
       "var viewer_16863462240724962 = null;\n",
       "var warn = document.getElementById(\"3dmolwarning_16863462240724962\");\n",
       "if(warn) {\n",
       "    warn.parentNode.removeChild(warn);\n",
       "}\n",
       "$3Dmolpromise.then(function() {\n",
       "viewer_16863462240724962 = $3Dmol.createViewer(document.getElementById(\"3dmolviewer_16863462240724962\"),{backgroundColor:\"white\"});\n",
       "viewer_16863462240724962.zoomTo();\n",
       "\tviewer_16863462240724962.addModel(\"# Produced with molli package\\n@<TRIPOS>MOLECULE\\n3_6_6\\n74 78 0 0 0\\nSMALL\\nUSER_CHARGES\\n\\n@<TRIPOS>ATOM\\n     1 C      -0.253590    -0.326674     0.438151 C          1 UNL1 0.0\\n     2 C       0.708167     0.916548     0.319567 C          1 UNL1 0.0\\n     3 O      -0.175346     1.960792     0.156250 O          1 UNL1 0.0\\n     4 C      -1.448680     1.551905     0.288311 C          1 UNL1 0.0\\n     5 N      -1.574584     0.292782     0.470643 N          1 UNL1 0.0\\n     6 C      -2.605288     2.510413     0.181185 C          1 UNL1 0.0\\n     7 C      -3.895561     1.746806     0.052977 C          1 UNL1 0.0\\n     8 O      -5.066091     2.379421    -0.128128 O          1 UNL1 0.0\\n     9 C      -6.104278     1.482886    -0.076677 C          1 UNL1 0.0\\n    10 C      -5.391683     0.081528    -0.062696 C          1 UNL1 0.0\\n    11 N      -3.996217     0.471981     0.142803 N          1 UNL1 0.0\\n    12 C      -2.872101    -0.413922     0.521436 C          1 UNL1 0.0\\n    13 Br     -3.234344    -0.990745     2.348051 Br         1 UNL1 0.0\\n    14 Br     -2.749836    -2.040715    -0.567718 Br         1 UNL1 0.0\\n    15 C      -2.647839     3.399434     1.434765 C          1 UNL1 0.0\\n    16 C      -2.432305     3.378532    -1.076393 C          1 UNL1 0.0\\n    17 C      -7.249410     1.925777    -1.045058 C          1 UNL1 0.0\\n    18 C      -6.786919     2.347500    -2.460335 C          1 UNL1 0.0\\n    19 C      -8.433569     0.946467    -1.076077 C          1 UNL1 0.0\\n    20 C       1.728600     1.374913     1.413196 C          1 UNL1 0.0\\n    21 C       2.878169     0.394643     1.659406 C          1 UNL1 0.0\\n    22 C       1.097700     1.837374     2.737667 C          1 UNL1 0.0\\n    23 H      -0.240800    -0.869974    -0.530471 H          1 UNL1 0.0\\n    24 H       1.292033     0.790816    -0.619728 H          1 UNL1 0.0\\n    25 H      -6.542277     1.586447     0.943756 H          1 UNL1 0.0\\n    26 H      -5.727023    -0.459326     0.834142 H          1 UNL1 0.0\\n    27 H      -2.777792     2.773112     2.345403 H          1 UNL1 0.0\\n    28 H      -3.496005     4.116157     1.384035 H          1 UNL1 0.0\\n    29 H      -1.705533     3.978433     1.542360 H          1 UNL1 0.0\\n    30 H      -1.492182     3.969040    -1.018340 H          1 UNL1 0.0\\n    31 H      -3.276175     4.096459    -1.175031 H          1 UNL1 0.0\\n    32 H      -2.398649     2.746343    -1.989555 H          1 UNL1 0.0\\n    33 H      -7.643308     2.871433    -0.608116 H          1 UNL1 0.0\\n    34 H      -6.016398     3.143739    -2.382738 H          1 UNL1 0.0\\n    35 H      -7.647643     2.776571    -3.015696 H          1 UNL1 0.0\\n    36 H      -6.370265     1.551172    -3.095882 H          1 UNL1 0.0\\n    37 H      -8.180486    -0.027121    -1.532605 H          1 UNL1 0.0\\n    38 H      -9.265314     1.382719    -1.669192 H          1 UNL1 0.0\\n    39 H      -8.802133     0.762425    -0.045430 H          1 UNL1 0.0\\n    40 H       2.210107     2.282053     0.979629 H          1 UNL1 0.0\\n    41 H       3.656509     0.880495     2.285583 H          1 UNL1 0.0\\n    42 H       3.351327     0.104901     0.696622 H          1 UNL1 0.0\\n    43 H       2.544922    -0.499527     2.207917 H          1 UNL1 0.0\\n    44 H       0.351193     2.637772     2.554943 H          1 UNL1 0.0\\n    45 H       1.886510     2.263874     3.394402 H          1 UNL1 0.0\\n    46 H       0.609055     1.019601     3.291106 H          1 UNL1 0.0\\n    47 C      -5.553354    -0.761318    -1.372680 C          1 UNL1 0.0\\n    48 C      -6.242014    -2.121030    -1.303279 C          1 UNL1 0.0\\n    49 C      -6.816380    -2.687261    -0.140347 C          1 UNL1 0.0\\n    50 C      -7.444211    -3.936403    -0.195018 C          1 UNL1 0.0\\n    51 C      -7.510765    -4.640820    -1.396711 C          1 UNL1 0.0\\n    52 C      -6.949818    -4.098334    -2.551615 C          1 UNL1 0.0\\n    53 C      -6.323277    -2.850297    -2.506228 C          1 UNL1 0.0\\n    54 H      -6.105404    -0.206639    -2.119883 H          1 UNL1 0.0\\n    55 H      -4.584817    -0.850128    -1.890206 H          1 UNL1 0.0\\n    56 H      -6.812163    -2.198600     0.816971 H          1 UNL1 0.0\\n    57 H      -7.884953    -4.358263     0.699331 H          1 UNL1 0.0\\n    58 H      -7.999552    -5.605953    -1.433032 H          1 UNL1 0.0\\n    59 H      -7.002687    -4.643744    -3.485113 H          1 UNL1 0.0\\n    60 H      -5.898308    -2.447618    -3.417886 H          1 UNL1 0.0\\n    61 C      -0.006989    -1.377007     1.551512 C          1 UNL1 0.0\\n    62 C       1.116637    -2.372987     1.335335 C          1 UNL1 0.0\\n    63 C       1.934921    -2.403919     0.185845 C          1 UNL1 0.0\\n    64 C       2.924594    -3.383277     0.051050 C          1 UNL1 0.0\\n    65 C       3.113314    -4.336325     1.054182 C          1 UNL1 0.0\\n    66 C       2.313983    -4.312682     2.197347 C          1 UNL1 0.0\\n    67 C       1.321898    -3.340042     2.336303 C          1 UNL1 0.0\\n    68 H       0.083995    -0.886791     2.533448 H          1 UNL1 0.0\\n    69 H      -0.890340    -2.034931     1.602488 H          1 UNL1 0.0\\n    70 H       1.818799    -1.689596    -0.614857 H          1 UNL1 0.0\\n    71 H       3.543847    -3.406343    -0.836112 H          1 UNL1 0.0\\n    72 H       3.877345    -5.094885     0.945110 H          1 UNL1 0.0\\n    73 H       2.458225    -5.051423     2.975239 H          1 UNL1 0.0\\n    74 H       0.705381    -3.341561     3.227526 H          1 UNL1 0.0\\n@<TRIPOS>BOND\\n     1      1      2          1\\n     2      2      3          1\\n     3      3      4          1\\n     4      4      5          2\\n     5      5      1          1\\n     6      4      6          1\\n     7      6      7          1\\n     8      7      8          1\\n     9      8      9          1\\n    10      9     10          1\\n    11     10     11          1\\n    12     11      7          2\\n    13     11     12          1\\n    14     12      5          1\\n    15     12     13          1\\n    16     12     14          1\\n    17      6     15          1\\n    18      6     16          1\\n    19     17     18          1\\n    20     17     19          1\\n    21      9     17          1\\n    22     20     21          1\\n    23     20     22          1\\n    24      2     20          1\\n    25      1     23          1\\n    26      2     24          1\\n    27      9     25          1\\n    28     10     26          1\\n    29     15     27          1\\n    30     15     28          1\\n    31     15     29          1\\n    32     16     30          1\\n    33     16     31          1\\n    34     16     32          1\\n    35     17     33          1\\n    36     18     34          1\\n    37     18     35          1\\n    38     18     36          1\\n    39     19     37          1\\n    40     19     38          1\\n    41     19     39          1\\n    42     20     40          1\\n    43     21     41          1\\n    44     21     42          1\\n    45     21     43          1\\n    46     22     44          1\\n    47     22     45          1\\n    48     22     46          1\\n    49     47     48          1\\n    50     48     49          2\\n    51     49     50          1\\n    52     50     51          2\\n    53     51     52          1\\n    54     52     53          2\\n    55     53     48          1\\n    56     47     54          1\\n    57     47     55          1\\n    58     49     56          1\\n    59     50     57          1\\n    60     51     58          1\\n    61     52     59          1\\n    62     53     60          1\\n    63     10     47          1\\n    64     61     62          1\\n    65     62     63          2\\n    66     63     64          1\\n    67     64     65          2\\n    68     65     66          1\\n    69     66     67          2\\n    70     67     62          1\\n    71     61     68          1\\n    72     61     69          1\\n    73     63     70          1\\n    74     64     71          1\\n    75     65     72          1\\n    76     66     73          1\\n    77     67     74          1\\n    78      1     61          1\\n\",\"mol2\");\n",
       "\tviewer_16863462240724962.setStyle({\"stick\": {\"radius\": 0.1}, \"sphere\": {\"scale\": 0.15}});\n",
       "\tviewer_16863462240724962.setHoverable({},true,\"\\n            function(atom,viewer,event,container) {\\n                if(!atom.label) {\\n                    atom.label = viewer.addLabel(atom.elem + atom.serial, {position: atom, backgroundColor: 'mintcream', fontColor:'black'});\\n                }\\n            }\\n            \",\"\\n            function(atom,viewer) { \\n                if(atom.label) {\\n                    viewer.removeLabel(atom.label);\\n                    delete atom.label;\\n                }\\n            }\\n            \");\n",
       "\tviewer_16863462240724962.zoomTo();\n",
       "\tviewer_16863462240724962.setBackgroundColor(null);\n",
       "viewer_16863462240724962.render();\n",
       "});\n",
       "</script>"
      ]
     },
     "metadata": {},
     "output_type": "display_data"
    },
    {
     "data": {
      "text/plain": [
       "Molecule(name='3_6_6', formula='C30 H38 Br2 N2 O2')"
      ]
     },
     "execution_count": 12,
     "metadata": {},
     "output_type": "execute_result"
    }
   ],
   "source": [
    "combined[42]"
   ]
  },
  {
   "attachments": {},
   "cell_type": "markdown",
   "metadata": {},
   "source": [
    "3. Conformer Generation"
   ]
  },
  {
   "cell_type": "code",
   "execution_count": 13,
   "metadata": {},
   "outputs": [
    {
     "name": "stderr",
     "output_type": "stream",
     "text": [
      "100%|██████████| 75/75 [02:08<00:00,  1.71s/it]\n"
     ]
    },
    {
     "data": {
      "text/plain": [
       "CompletedProcess(args=['molli', 'conformers', 'ncsa-testing-data/test_combine.mlib', '-n', '50', '-o', 'ncsa-testing-data/test_conformers.mlib', '-t', '-p', '100'], returncode=0)"
      ]
     },
     "execution_count": 13,
     "metadata": {},
     "output_type": "execute_result"
    }
   ],
   "source": [
    "subprocess.run(['molli', 'conformers', 'ncsa-testing-data/test_combine.mlib', '-n', '50', '-o', 'ncsa-testing-data/test_conformers.mlib', '-t', '-p', '100'])\n",
    "# maybe change progress bar to increase based on num_rotatable bonds"
   ]
  },
  {
   "cell_type": "code",
   "execution_count": 14,
   "metadata": {},
   "outputs": [
    {
     "name": "stdout",
     "output_type": "stream",
     "text": [
      "75\n"
     ]
    }
   ],
   "source": [
    "clib = ml.ConformerLibrary('ncsa-testing-data/test_conformers.mlib')\n",
    "print(len(clib))"
   ]
  },
  {
   "cell_type": "code",
   "execution_count": 15,
   "metadata": {},
   "outputs": [
    {
     "name": "stdout",
     "output_type": "stream",
     "text": [
      "8028 conformers in library\n"
     ]
    }
   ],
   "source": [
    "i = 0\n",
    "for conf in clib:\n",
    "    i += conf.n_conformers\n",
    "    # print(conf)\n",
    "print(str(i) + ' conformers in library')"
   ]
  },
  {
   "cell_type": "code",
   "execution_count": 16,
   "metadata": {},
   "outputs": [
    {
     "data": {
      "application/3dmoljs_load.v0": "<div id=\"3dmolviewer_1686346377807362\"  style=\"position: relative; width: 1000px; height: 500px;\">\n        <p id=\"3dmolwarning_1686346377807362\" style=\"background-color:#ffcccc;color:black\">You appear to be running in JupyterLab (or JavaScript failed to load for some other reason).  You need to install the 3dmol extension: <br>\n        <tt>jupyter labextension install jupyterlab_3dmol</tt></p>\n        </div>\n<script>\n\nvar loadScriptAsync = function(uri){\n  return new Promise((resolve, reject) => {\n    //this is to ignore the existence of requirejs amd\n    var savedexports, savedmodule;\n    if (typeof exports !== 'undefined') savedexports = exports;\n    else exports = {}\n    if (typeof module !== 'undefined') savedmodule = module;\n    else module = {}\n\n    var tag = document.createElement('script');\n    tag.src = uri;\n    tag.async = true;\n    tag.onload = () => {\n        exports = savedexports;\n        module = savedmodule;\n        resolve();\n    };\n  var firstScriptTag = document.getElementsByTagName('script')[0];\n  firstScriptTag.parentNode.insertBefore(tag, firstScriptTag);\n});\n};\n\nif(typeof $3Dmolpromise === 'undefined') {\n$3Dmolpromise = null;\n  $3Dmolpromise = loadScriptAsync('https://cdnjs.cloudflare.com/ajax/libs/3Dmol/2.0.3/3Dmol-min.js');\n}\n\nvar viewer_1686346377807362 = null;\nvar warn = document.getElementById(\"3dmolwarning_1686346377807362\");\nif(warn) {\n    warn.parentNode.removeChild(warn);\n}\n$3Dmolpromise.then(function() {\nviewer_1686346377807362 = $3Dmol.createViewer(document.getElementById(\"3dmolviewer_1686346377807362\"),{backgroundColor:\"white\"});\nviewer_1686346377807362.zoomTo();\n\tviewer_1686346377807362.addModel(\"# Produced with molli package\\n@<TRIPOS>MOLECULE\\n1_3_3\\n48 50 0 0 0\\nSMALL\\nUSER_CHARGES\\n\\n@<TRIPOS>ATOM\\n     1 C       0.013300    -0.072800     0.504200 C.3        1 UNL1 0.0\\n     2 C       0.799600     1.142300    -0.003900 C.3        1 UNL1 0.0\\n     3 O      -0.063100     2.243200     0.349700 O.2        1 UNL1 0.0\\n     4 C      -1.307700     1.769900     0.352500 C.2        1 UNL1 0.0\\n     5 N      -1.358100     0.494700     0.322900 N.2        1 UNL1 0.0\\n     6 C      -2.521300     2.635800     0.343600 C.3        1 UNL1 0.0\\n     7 C      -3.772800     1.816400     0.327300 C.2        1 UNL1 0.0\\n     8 O      -4.948700     2.309700     0.705800 O.2        1 UNL1 0.0\\n     9 C      -5.845500     1.209300     0.900300 C.3        1 UNL1 0.0\\n    10 C      -5.216000     0.061100     0.102800 C.3        1 UNL1 0.0\\n    11 N      -3.816100     0.585000    -0.012600 N.2        1 UNL1 0.0\\n    12 C      -2.554300    -0.185700    -0.288500 C.3        1 UNL1 0.0\\n    13 BR     -2.194800    -0.144800    -2.246300 Br         1 UNL1 0.0\\n    14 BR     -2.708500    -2.047000     0.270700 Br         1 UNL1 0.0\\n    15 C      -2.493500     3.483200     1.625400 C.3        1 UNL1 0.0\\n    16 C      -2.506300     3.548600    -0.886200 C.3        1 UNL1 0.0\\n    17 H       0.157800    -0.959300    -0.120100 H          1 UNL1 0.0\\n    18 H       1.779500     1.285300     0.456600 H          1 UNL1 0.0\\n    19 H       0.919700     1.136600    -1.094000 H          1 UNL1 0.0\\n    20 H      -5.880800     0.985900     1.973100 H          1 UNL1 0.0\\n    21 H      -6.851900     1.486600     0.572500 H          1 UNL1 0.0\\n    22 H      -5.231600    -0.843900     0.717400 H          1 UNL1 0.0\\n    23 H      -1.576900     4.080600     1.693400 H          1 UNL1 0.0\\n    24 H      -3.342700     4.174500     1.671200 H          1 UNL1 0.0\\n    25 H      -2.537900     2.848400     2.518900 H          1 UNL1 0.0\\n    26 H      -1.615700     4.187100    -0.900700 H          1 UNL1 0.0\\n    27 H      -2.507300     2.971700    -1.817100 H          1 UNL1 0.0\\n    28 H      -3.387700     4.199900    -0.908600 H          1 UNL1 0.0\\n    29 C      -5.966600    -0.158900    -1.230300 C.3        1 UNL1 0.0\\n    30 C      -5.878700     0.986500    -2.243400 C.3        1 UNL1 0.0\\n    31 C      -5.658700    -1.504000    -1.889600 C.3        1 UNL1 0.0\\n    32 H      -7.031000    -0.231700    -0.959900 H          1 UNL1 0.0\\n    33 H      -4.865700     1.129200    -2.624100 H          1 UNL1 0.0\\n    34 H      -6.524900     0.783100    -3.104700 H          1 UNL1 0.0\\n    35 H      -6.213200     1.932400    -1.806500 H          1 UNL1 0.0\\n    36 H      -4.658900    -1.546400    -2.317600 H          1 UNL1 0.0\\n    37 H      -5.761500    -2.323600    -1.170900 H          1 UNL1 0.0\\n    38 H      -6.365300    -1.697300    -2.704800 H          1 UNL1 0.0\\n    39 C       0.354700    -0.313600     2.005500 C.3        1 UNL1 0.0\\n    40 C       1.736700    -0.977400     2.127900 C.3        1 UNL1 0.0\\n    41 C      -0.642200    -1.159700     2.797200 C.3        1 UNL1 0.0\\n    42 H       0.410800     0.655800     2.520900 H          1 UNL1 0.0\\n    43 H       2.004200    -1.126900     3.179800 H          1 UNL1 0.0\\n    44 H       2.525600    -0.367800     1.678900 H          1 UNL1 0.0\\n    45 H       1.746400    -1.956200     1.636000 H          1 UNL1 0.0\\n    46 H      -0.330200    -1.231500     3.845900 H          1 UNL1 0.0\\n    47 H      -0.696900    -2.181100     2.410600 H          1 UNL1 0.0\\n    48 H      -1.639900    -0.711900     2.800400 H          1 UNL1 0.0\\n@<TRIPOS>BOND\\n     1      1      2          1\\n     2      2      3          1\\n     3      3      4          1\\n     4      4      5          2\\n     5      5      1          1\\n     6      4      6          1\\n     7      6      7          1\\n     8      7      8          1\\n     9      8      9          1\\n    10      9     10          1\\n    11     10     11          1\\n    12     11      7          2\\n    13     11     12          1\\n    14     12      5          1\\n    15     12     13          1\\n    16     12     14          1\\n    17      6     15          1\\n    18      6     16          1\\n    19      1     17          1\\n    20      2     18          1\\n    21      2     19          1\\n    22      9     20          1\\n    23      9     21          1\\n    24     10     22          1\\n    25     15     23          1\\n    26     15     24          1\\n    27     15     25          1\\n    28     16     26          1\\n    29     16     27          1\\n    30     16     28          1\\n    31     29     30          1\\n    32     29     31          1\\n    33     29     32          1\\n    34     30     33          1\\n    35     30     34          1\\n    36     30     35          1\\n    37     31     36          1\\n    38     31     37          1\\n    39     31     38          1\\n    40     10     29          1\\n    41     39     40          1\\n    42     39     41          1\\n    43     39     42          1\\n    44     40     43          1\\n    45     40     44          1\\n    46     40     45          1\\n    47     41     46          1\\n    48     41     47          1\\n    49     41     48          1\\n    50      1     39          1\\n\",\"mol2\");\n\tviewer_1686346377807362.setStyle({\"stick\": {\"radius\": 0.1}, \"sphere\": {\"scale\": 0.15}});\n\tviewer_1686346377807362.setHoverable({},true,\"\\n            function(atom,viewer,event,container) {\\n                if(!atom.label) {\\n                    atom.label = viewer.addLabel(atom.elem + atom.serial, {position: atom, backgroundColor: 'mintcream', fontColor:'black'});\\n                }\\n            }\\n            \",\"\\n            function(atom,viewer) { \\n                if(atom.label) {\\n                    viewer.removeLabel(atom.label);\\n                    delete atom.label;\\n                }\\n            }\\n            \");\n\tviewer_1686346377807362.zoomTo();\n\tviewer_1686346377807362.setBackgroundColor(null);\nviewer_1686346377807362.render();\n});\n</script>",
      "text/html": [
       "<div id=\"3dmolviewer_1686346377807362\"  style=\"position: relative; width: 1000px; height: 500px;\">\n",
       "        <p id=\"3dmolwarning_1686346377807362\" style=\"background-color:#ffcccc;color:black\">You appear to be running in JupyterLab (or JavaScript failed to load for some other reason).  You need to install the 3dmol extension: <br>\n",
       "        <tt>jupyter labextension install jupyterlab_3dmol</tt></p>\n",
       "        </div>\n",
       "<script>\n",
       "\n",
       "var loadScriptAsync = function(uri){\n",
       "  return new Promise((resolve, reject) => {\n",
       "    //this is to ignore the existence of requirejs amd\n",
       "    var savedexports, savedmodule;\n",
       "    if (typeof exports !== 'undefined') savedexports = exports;\n",
       "    else exports = {}\n",
       "    if (typeof module !== 'undefined') savedmodule = module;\n",
       "    else module = {}\n",
       "\n",
       "    var tag = document.createElement('script');\n",
       "    tag.src = uri;\n",
       "    tag.async = true;\n",
       "    tag.onload = () => {\n",
       "        exports = savedexports;\n",
       "        module = savedmodule;\n",
       "        resolve();\n",
       "    };\n",
       "  var firstScriptTag = document.getElementsByTagName('script')[0];\n",
       "  firstScriptTag.parentNode.insertBefore(tag, firstScriptTag);\n",
       "});\n",
       "};\n",
       "\n",
       "if(typeof $3Dmolpromise === 'undefined') {\n",
       "$3Dmolpromise = null;\n",
       "  $3Dmolpromise = loadScriptAsync('https://cdnjs.cloudflare.com/ajax/libs/3Dmol/2.0.3/3Dmol-min.js');\n",
       "}\n",
       "\n",
       "var viewer_1686346377807362 = null;\n",
       "var warn = document.getElementById(\"3dmolwarning_1686346377807362\");\n",
       "if(warn) {\n",
       "    warn.parentNode.removeChild(warn);\n",
       "}\n",
       "$3Dmolpromise.then(function() {\n",
       "viewer_1686346377807362 = $3Dmol.createViewer(document.getElementById(\"3dmolviewer_1686346377807362\"),{backgroundColor:\"white\"});\n",
       "viewer_1686346377807362.zoomTo();\n",
       "\tviewer_1686346377807362.addModel(\"# Produced with molli package\\n@<TRIPOS>MOLECULE\\n1_3_3\\n48 50 0 0 0\\nSMALL\\nUSER_CHARGES\\n\\n@<TRIPOS>ATOM\\n     1 C       0.013300    -0.072800     0.504200 C.3        1 UNL1 0.0\\n     2 C       0.799600     1.142300    -0.003900 C.3        1 UNL1 0.0\\n     3 O      -0.063100     2.243200     0.349700 O.2        1 UNL1 0.0\\n     4 C      -1.307700     1.769900     0.352500 C.2        1 UNL1 0.0\\n     5 N      -1.358100     0.494700     0.322900 N.2        1 UNL1 0.0\\n     6 C      -2.521300     2.635800     0.343600 C.3        1 UNL1 0.0\\n     7 C      -3.772800     1.816400     0.327300 C.2        1 UNL1 0.0\\n     8 O      -4.948700     2.309700     0.705800 O.2        1 UNL1 0.0\\n     9 C      -5.845500     1.209300     0.900300 C.3        1 UNL1 0.0\\n    10 C      -5.216000     0.061100     0.102800 C.3        1 UNL1 0.0\\n    11 N      -3.816100     0.585000    -0.012600 N.2        1 UNL1 0.0\\n    12 C      -2.554300    -0.185700    -0.288500 C.3        1 UNL1 0.0\\n    13 BR     -2.194800    -0.144800    -2.246300 Br         1 UNL1 0.0\\n    14 BR     -2.708500    -2.047000     0.270700 Br         1 UNL1 0.0\\n    15 C      -2.493500     3.483200     1.625400 C.3        1 UNL1 0.0\\n    16 C      -2.506300     3.548600    -0.886200 C.3        1 UNL1 0.0\\n    17 H       0.157800    -0.959300    -0.120100 H          1 UNL1 0.0\\n    18 H       1.779500     1.285300     0.456600 H          1 UNL1 0.0\\n    19 H       0.919700     1.136600    -1.094000 H          1 UNL1 0.0\\n    20 H      -5.880800     0.985900     1.973100 H          1 UNL1 0.0\\n    21 H      -6.851900     1.486600     0.572500 H          1 UNL1 0.0\\n    22 H      -5.231600    -0.843900     0.717400 H          1 UNL1 0.0\\n    23 H      -1.576900     4.080600     1.693400 H          1 UNL1 0.0\\n    24 H      -3.342700     4.174500     1.671200 H          1 UNL1 0.0\\n    25 H      -2.537900     2.848400     2.518900 H          1 UNL1 0.0\\n    26 H      -1.615700     4.187100    -0.900700 H          1 UNL1 0.0\\n    27 H      -2.507300     2.971700    -1.817100 H          1 UNL1 0.0\\n    28 H      -3.387700     4.199900    -0.908600 H          1 UNL1 0.0\\n    29 C      -5.966600    -0.158900    -1.230300 C.3        1 UNL1 0.0\\n    30 C      -5.878700     0.986500    -2.243400 C.3        1 UNL1 0.0\\n    31 C      -5.658700    -1.504000    -1.889600 C.3        1 UNL1 0.0\\n    32 H      -7.031000    -0.231700    -0.959900 H          1 UNL1 0.0\\n    33 H      -4.865700     1.129200    -2.624100 H          1 UNL1 0.0\\n    34 H      -6.524900     0.783100    -3.104700 H          1 UNL1 0.0\\n    35 H      -6.213200     1.932400    -1.806500 H          1 UNL1 0.0\\n    36 H      -4.658900    -1.546400    -2.317600 H          1 UNL1 0.0\\n    37 H      -5.761500    -2.323600    -1.170900 H          1 UNL1 0.0\\n    38 H      -6.365300    -1.697300    -2.704800 H          1 UNL1 0.0\\n    39 C       0.354700    -0.313600     2.005500 C.3        1 UNL1 0.0\\n    40 C       1.736700    -0.977400     2.127900 C.3        1 UNL1 0.0\\n    41 C      -0.642200    -1.159700     2.797200 C.3        1 UNL1 0.0\\n    42 H       0.410800     0.655800     2.520900 H          1 UNL1 0.0\\n    43 H       2.004200    -1.126900     3.179800 H          1 UNL1 0.0\\n    44 H       2.525600    -0.367800     1.678900 H          1 UNL1 0.0\\n    45 H       1.746400    -1.956200     1.636000 H          1 UNL1 0.0\\n    46 H      -0.330200    -1.231500     3.845900 H          1 UNL1 0.0\\n    47 H      -0.696900    -2.181100     2.410600 H          1 UNL1 0.0\\n    48 H      -1.639900    -0.711900     2.800400 H          1 UNL1 0.0\\n@<TRIPOS>BOND\\n     1      1      2          1\\n     2      2      3          1\\n     3      3      4          1\\n     4      4      5          2\\n     5      5      1          1\\n     6      4      6          1\\n     7      6      7          1\\n     8      7      8          1\\n     9      8      9          1\\n    10      9     10          1\\n    11     10     11          1\\n    12     11      7          2\\n    13     11     12          1\\n    14     12      5          1\\n    15     12     13          1\\n    16     12     14          1\\n    17      6     15          1\\n    18      6     16          1\\n    19      1     17          1\\n    20      2     18          1\\n    21      2     19          1\\n    22      9     20          1\\n    23      9     21          1\\n    24     10     22          1\\n    25     15     23          1\\n    26     15     24          1\\n    27     15     25          1\\n    28     16     26          1\\n    29     16     27          1\\n    30     16     28          1\\n    31     29     30          1\\n    32     29     31          1\\n    33     29     32          1\\n    34     30     33          1\\n    35     30     34          1\\n    36     30     35          1\\n    37     31     36          1\\n    38     31     37          1\\n    39     31     38          1\\n    40     10     29          1\\n    41     39     40          1\\n    42     39     41          1\\n    43     39     42          1\\n    44     40     43          1\\n    45     40     44          1\\n    46     40     45          1\\n    47     41     46          1\\n    48     41     47          1\\n    49     41     48          1\\n    50      1     39          1\\n\",\"mol2\");\n",
       "\tviewer_1686346377807362.setStyle({\"stick\": {\"radius\": 0.1}, \"sphere\": {\"scale\": 0.15}});\n",
       "\tviewer_1686346377807362.setHoverable({},true,\"\\n            function(atom,viewer,event,container) {\\n                if(!atom.label) {\\n                    atom.label = viewer.addLabel(atom.elem + atom.serial, {position: atom, backgroundColor: 'mintcream', fontColor:'black'});\\n                }\\n            }\\n            \",\"\\n            function(atom,viewer) { \\n                if(atom.label) {\\n                    viewer.removeLabel(atom.label);\\n                    delete atom.label;\\n                }\\n            }\\n            \");\n",
       "\tviewer_1686346377807362.zoomTo();\n",
       "\tviewer_1686346377807362.setBackgroundColor(null);\n",
       "viewer_1686346377807362.render();\n",
       "});\n",
       "</script>"
      ]
     },
     "metadata": {},
     "output_type": "display_data"
    },
    {
     "data": {
      "text/plain": [
       "Conformer(name='1_3_3', formula='C16 H26 Br2 N2 O2')"
      ]
     },
     "execution_count": 16,
     "metadata": {},
     "output_type": "execute_result"
    }
   ],
   "source": [
    "clib[0][0]"
   ]
  },
  {
   "cell_type": "code",
   "execution_count": 17,
   "metadata": {},
   "outputs": [
    {
     "data": {
      "application/3dmoljs_load.v0": "<div id=\"3dmolviewer_16863463810326054\"  style=\"position: relative; width: 1000px; height: 500px;\">\n        <p id=\"3dmolwarning_16863463810326054\" style=\"background-color:#ffcccc;color:black\">You appear to be running in JupyterLab (or JavaScript failed to load for some other reason).  You need to install the 3dmol extension: <br>\n        <tt>jupyter labextension install jupyterlab_3dmol</tt></p>\n        </div>\n<script>\n\nvar loadScriptAsync = function(uri){\n  return new Promise((resolve, reject) => {\n    //this is to ignore the existence of requirejs amd\n    var savedexports, savedmodule;\n    if (typeof exports !== 'undefined') savedexports = exports;\n    else exports = {}\n    if (typeof module !== 'undefined') savedmodule = module;\n    else module = {}\n\n    var tag = document.createElement('script');\n    tag.src = uri;\n    tag.async = true;\n    tag.onload = () => {\n        exports = savedexports;\n        module = savedmodule;\n        resolve();\n    };\n  var firstScriptTag = document.getElementsByTagName('script')[0];\n  firstScriptTag.parentNode.insertBefore(tag, firstScriptTag);\n});\n};\n\nif(typeof $3Dmolpromise === 'undefined') {\n$3Dmolpromise = null;\n  $3Dmolpromise = loadScriptAsync('https://cdnjs.cloudflare.com/ajax/libs/3Dmol/2.0.3/3Dmol-min.js');\n}\n\nvar viewer_16863463810326054 = null;\nvar warn = document.getElementById(\"3dmolwarning_16863463810326054\");\nif(warn) {\n    warn.parentNode.removeChild(warn);\n}\n$3Dmolpromise.then(function() {\nviewer_16863463810326054 = $3Dmol.createViewer(document.getElementById(\"3dmolviewer_16863463810326054\"),{backgroundColor:\"white\"});\nviewer_16863463810326054.zoomTo();\n\tviewer_16863463810326054.addModel(\"# Produced with molli package\\n@<TRIPOS>MOLECULE\\n1_3_3\\n48 50 0 0 0\\nSMALL\\nUSER_CHARGES\\n\\n@<TRIPOS>ATOM\\n     1 C       0.029200    -0.075800     0.437900 C.3        1 UNL1 0.0\\n     2 C       0.838700     1.190200     0.160300 C.3        1 UNL1 0.0\\n     3 O      -0.075900     2.253700     0.478200 O.2        1 UNL1 0.0\\n     4 C      -1.311200     1.765700     0.380900 C.2        1 UNL1 0.0\\n     5 N      -1.347600     0.492700     0.294100 N.2        1 UNL1 0.0\\n     6 C      -2.523800     2.633000     0.343500 C.3        1 UNL1 0.0\\n     7 C      -3.779600     1.827200     0.298400 C.2        1 UNL1 0.0\\n     8 O      -4.976100     2.351400     0.549500 O.2        1 UNL1 0.0\\n     9 C      -5.927800     1.282800     0.662800 C.3        1 UNL1 0.0\\n    10 C      -5.223500     0.076500     0.042800 C.3        1 UNL1 0.0\\n    11 N      -3.813800     0.583200     0.016800 N.2        1 UNL1 0.0\\n    12 C      -2.565500    -0.217600    -0.219200 C.3        1 UNL1 0.0\\n    13 BR     -2.743900    -1.996900     0.567300 Br         1 UNL1 0.0\\n    14 BR     -2.279100    -0.384500    -2.173400 Br         1 UNL1 0.0\\n    15 C      -2.468400     3.525500    -0.901400 C.3        1 UNL1 0.0\\n    16 C      -2.531900     3.495900     1.613900 C.3        1 UNL1 0.0\\n    17 H       0.195200    -0.829100    -0.339300 H          1 UNL1 0.0\\n    18 H       1.749400     1.290600     0.755600 H          1 UNL1 0.0\\n    19 H       1.105300     1.279800    -0.899600 H          1 UNL1 0.0\\n    20 H      -6.864000     1.566900     0.176300 H          1 UNL1 0.0\\n    21 H      -6.131400     1.125500     1.728400 H          1 UNL1 0.0\\n    22 H      -5.284000    -0.767400     0.737100 H          1 UNL1 0.0\\n    23 H      -2.442500     2.928500    -1.820200 H          1 UNL1 0.0\\n    24 H      -3.345700     4.179700    -0.963100 H          1 UNL1 0.0\\n    25 H      -1.575000     4.160300    -0.900400 H          1 UNL1 0.0\\n    26 H      -3.385300     4.183500     1.629800 H          1 UNL1 0.0\\n    27 H      -2.596500     2.871700     2.513500 H          1 UNL1 0.0\\n    28 H      -1.620500     4.098800     1.698200 H          1 UNL1 0.0\\n    29 C      -5.740900    -0.333100    -1.350900 C.3        1 UNL1 0.0\\n    30 C      -7.110400    -1.014700    -1.224700 C.3        1 UNL1 0.0\\n    31 C      -5.841700     0.812800    -2.366300 C.3        1 UNL1 0.0\\n    32 H      -5.067500    -1.089800    -1.767900 H          1 UNL1 0.0\\n    33 H      -7.873700    -0.327800    -0.845500 H          1 UNL1 0.0\\n    34 H      -7.448200    -1.385800    -2.198500 H          1 UNL1 0.0\\n    35 H      -7.056500    -1.871800    -0.544900 H          1 UNL1 0.0\\n    36 H      -6.606400     1.543500    -2.085200 H          1 UNL1 0.0\\n    37 H      -4.893600     1.345200    -2.479800 H          1 UNL1 0.0\\n    38 H      -6.114800     0.420600    -3.352400 H          1 UNL1 0.0\\n    39 C       0.267300    -0.670900     1.850400 C.3        1 UNL1 0.0\\n    40 C       0.135600     0.318500     3.015700 C.3        1 UNL1 0.0\\n    41 C       1.643400    -1.348300     1.910500 C.3        1 UNL1 0.0\\n    42 H      -0.462300    -1.462700     2.037600 H          1 UNL1 0.0\\n    43 H       0.867800     1.129100     2.952800 H          1 UNL1 0.0\\n    44 H      -0.865700     0.757800     3.056200 H          1 UNL1 0.0\\n    45 H       0.298600    -0.194600     3.970300 H          1 UNL1 0.0\\n    46 H       1.775500    -1.868700     2.865400 H          1 UNL1 0.0\\n    47 H       2.459600    -0.626100     1.810500 H          1 UNL1 0.0\\n    48 H       1.745600    -2.091600     1.112800 H          1 UNL1 0.0\\n@<TRIPOS>BOND\\n     1      1      2          1\\n     2      2      3          1\\n     3      3      4          1\\n     4      4      5          2\\n     5      5      1          1\\n     6      4      6          1\\n     7      6      7          1\\n     8      7      8          1\\n     9      8      9          1\\n    10      9     10          1\\n    11     10     11          1\\n    12     11      7          2\\n    13     11     12          1\\n    14     12      5          1\\n    15     12     13          1\\n    16     12     14          1\\n    17      6     15          1\\n    18      6     16          1\\n    19      1     17          1\\n    20      2     18          1\\n    21      2     19          1\\n    22      9     20          1\\n    23      9     21          1\\n    24     10     22          1\\n    25     15     23          1\\n    26     15     24          1\\n    27     15     25          1\\n    28     16     26          1\\n    29     16     27          1\\n    30     16     28          1\\n    31     29     30          1\\n    32     29     31          1\\n    33     29     32          1\\n    34     30     33          1\\n    35     30     34          1\\n    36     30     35          1\\n    37     31     36          1\\n    38     31     37          1\\n    39     31     38          1\\n    40     10     29          1\\n    41     39     40          1\\n    42     39     41          1\\n    43     39     42          1\\n    44     40     43          1\\n    45     40     44          1\\n    46     40     45          1\\n    47     41     46          1\\n    48     41     47          1\\n    49     41     48          1\\n    50      1     39          1\\n\",\"mol2\");\n\tviewer_16863463810326054.setStyle({\"stick\": {\"radius\": 0.1}, \"sphere\": {\"scale\": 0.15}});\n\tviewer_16863463810326054.setHoverable({},true,\"\\n            function(atom,viewer,event,container) {\\n                if(!atom.label) {\\n                    atom.label = viewer.addLabel(atom.elem + atom.serial, {position: atom, backgroundColor: 'mintcream', fontColor:'black'});\\n                }\\n            }\\n            \",\"\\n            function(atom,viewer) { \\n                if(atom.label) {\\n                    viewer.removeLabel(atom.label);\\n                    delete atom.label;\\n                }\\n            }\\n            \");\n\tviewer_16863463810326054.zoomTo();\n\tviewer_16863463810326054.setBackgroundColor(null);\nviewer_16863463810326054.render();\n});\n</script>",
      "text/html": [
       "<div id=\"3dmolviewer_16863463810326054\"  style=\"position: relative; width: 1000px; height: 500px;\">\n",
       "        <p id=\"3dmolwarning_16863463810326054\" style=\"background-color:#ffcccc;color:black\">You appear to be running in JupyterLab (or JavaScript failed to load for some other reason).  You need to install the 3dmol extension: <br>\n",
       "        <tt>jupyter labextension install jupyterlab_3dmol</tt></p>\n",
       "        </div>\n",
       "<script>\n",
       "\n",
       "var loadScriptAsync = function(uri){\n",
       "  return new Promise((resolve, reject) => {\n",
       "    //this is to ignore the existence of requirejs amd\n",
       "    var savedexports, savedmodule;\n",
       "    if (typeof exports !== 'undefined') savedexports = exports;\n",
       "    else exports = {}\n",
       "    if (typeof module !== 'undefined') savedmodule = module;\n",
       "    else module = {}\n",
       "\n",
       "    var tag = document.createElement('script');\n",
       "    tag.src = uri;\n",
       "    tag.async = true;\n",
       "    tag.onload = () => {\n",
       "        exports = savedexports;\n",
       "        module = savedmodule;\n",
       "        resolve();\n",
       "    };\n",
       "  var firstScriptTag = document.getElementsByTagName('script')[0];\n",
       "  firstScriptTag.parentNode.insertBefore(tag, firstScriptTag);\n",
       "});\n",
       "};\n",
       "\n",
       "if(typeof $3Dmolpromise === 'undefined') {\n",
       "$3Dmolpromise = null;\n",
       "  $3Dmolpromise = loadScriptAsync('https://cdnjs.cloudflare.com/ajax/libs/3Dmol/2.0.3/3Dmol-min.js');\n",
       "}\n",
       "\n",
       "var viewer_16863463810326054 = null;\n",
       "var warn = document.getElementById(\"3dmolwarning_16863463810326054\");\n",
       "if(warn) {\n",
       "    warn.parentNode.removeChild(warn);\n",
       "}\n",
       "$3Dmolpromise.then(function() {\n",
       "viewer_16863463810326054 = $3Dmol.createViewer(document.getElementById(\"3dmolviewer_16863463810326054\"),{backgroundColor:\"white\"});\n",
       "viewer_16863463810326054.zoomTo();\n",
       "\tviewer_16863463810326054.addModel(\"# Produced with molli package\\n@<TRIPOS>MOLECULE\\n1_3_3\\n48 50 0 0 0\\nSMALL\\nUSER_CHARGES\\n\\n@<TRIPOS>ATOM\\n     1 C       0.029200    -0.075800     0.437900 C.3        1 UNL1 0.0\\n     2 C       0.838700     1.190200     0.160300 C.3        1 UNL1 0.0\\n     3 O      -0.075900     2.253700     0.478200 O.2        1 UNL1 0.0\\n     4 C      -1.311200     1.765700     0.380900 C.2        1 UNL1 0.0\\n     5 N      -1.347600     0.492700     0.294100 N.2        1 UNL1 0.0\\n     6 C      -2.523800     2.633000     0.343500 C.3        1 UNL1 0.0\\n     7 C      -3.779600     1.827200     0.298400 C.2        1 UNL1 0.0\\n     8 O      -4.976100     2.351400     0.549500 O.2        1 UNL1 0.0\\n     9 C      -5.927800     1.282800     0.662800 C.3        1 UNL1 0.0\\n    10 C      -5.223500     0.076500     0.042800 C.3        1 UNL1 0.0\\n    11 N      -3.813800     0.583200     0.016800 N.2        1 UNL1 0.0\\n    12 C      -2.565500    -0.217600    -0.219200 C.3        1 UNL1 0.0\\n    13 BR     -2.743900    -1.996900     0.567300 Br         1 UNL1 0.0\\n    14 BR     -2.279100    -0.384500    -2.173400 Br         1 UNL1 0.0\\n    15 C      -2.468400     3.525500    -0.901400 C.3        1 UNL1 0.0\\n    16 C      -2.531900     3.495900     1.613900 C.3        1 UNL1 0.0\\n    17 H       0.195200    -0.829100    -0.339300 H          1 UNL1 0.0\\n    18 H       1.749400     1.290600     0.755600 H          1 UNL1 0.0\\n    19 H       1.105300     1.279800    -0.899600 H          1 UNL1 0.0\\n    20 H      -6.864000     1.566900     0.176300 H          1 UNL1 0.0\\n    21 H      -6.131400     1.125500     1.728400 H          1 UNL1 0.0\\n    22 H      -5.284000    -0.767400     0.737100 H          1 UNL1 0.0\\n    23 H      -2.442500     2.928500    -1.820200 H          1 UNL1 0.0\\n    24 H      -3.345700     4.179700    -0.963100 H          1 UNL1 0.0\\n    25 H      -1.575000     4.160300    -0.900400 H          1 UNL1 0.0\\n    26 H      -3.385300     4.183500     1.629800 H          1 UNL1 0.0\\n    27 H      -2.596500     2.871700     2.513500 H          1 UNL1 0.0\\n    28 H      -1.620500     4.098800     1.698200 H          1 UNL1 0.0\\n    29 C      -5.740900    -0.333100    -1.350900 C.3        1 UNL1 0.0\\n    30 C      -7.110400    -1.014700    -1.224700 C.3        1 UNL1 0.0\\n    31 C      -5.841700     0.812800    -2.366300 C.3        1 UNL1 0.0\\n    32 H      -5.067500    -1.089800    -1.767900 H          1 UNL1 0.0\\n    33 H      -7.873700    -0.327800    -0.845500 H          1 UNL1 0.0\\n    34 H      -7.448200    -1.385800    -2.198500 H          1 UNL1 0.0\\n    35 H      -7.056500    -1.871800    -0.544900 H          1 UNL1 0.0\\n    36 H      -6.606400     1.543500    -2.085200 H          1 UNL1 0.0\\n    37 H      -4.893600     1.345200    -2.479800 H          1 UNL1 0.0\\n    38 H      -6.114800     0.420600    -3.352400 H          1 UNL1 0.0\\n    39 C       0.267300    -0.670900     1.850400 C.3        1 UNL1 0.0\\n    40 C       0.135600     0.318500     3.015700 C.3        1 UNL1 0.0\\n    41 C       1.643400    -1.348300     1.910500 C.3        1 UNL1 0.0\\n    42 H      -0.462300    -1.462700     2.037600 H          1 UNL1 0.0\\n    43 H       0.867800     1.129100     2.952800 H          1 UNL1 0.0\\n    44 H      -0.865700     0.757800     3.056200 H          1 UNL1 0.0\\n    45 H       0.298600    -0.194600     3.970300 H          1 UNL1 0.0\\n    46 H       1.775500    -1.868700     2.865400 H          1 UNL1 0.0\\n    47 H       2.459600    -0.626100     1.810500 H          1 UNL1 0.0\\n    48 H       1.745600    -2.091600     1.112800 H          1 UNL1 0.0\\n@<TRIPOS>BOND\\n     1      1      2          1\\n     2      2      3          1\\n     3      3      4          1\\n     4      4      5          2\\n     5      5      1          1\\n     6      4      6          1\\n     7      6      7          1\\n     8      7      8          1\\n     9      8      9          1\\n    10      9     10          1\\n    11     10     11          1\\n    12     11      7          2\\n    13     11     12          1\\n    14     12      5          1\\n    15     12     13          1\\n    16     12     14          1\\n    17      6     15          1\\n    18      6     16          1\\n    19      1     17          1\\n    20      2     18          1\\n    21      2     19          1\\n    22      9     20          1\\n    23      9     21          1\\n    24     10     22          1\\n    25     15     23          1\\n    26     15     24          1\\n    27     15     25          1\\n    28     16     26          1\\n    29     16     27          1\\n    30     16     28          1\\n    31     29     30          1\\n    32     29     31          1\\n    33     29     32          1\\n    34     30     33          1\\n    35     30     34          1\\n    36     30     35          1\\n    37     31     36          1\\n    38     31     37          1\\n    39     31     38          1\\n    40     10     29          1\\n    41     39     40          1\\n    42     39     41          1\\n    43     39     42          1\\n    44     40     43          1\\n    45     40     44          1\\n    46     40     45          1\\n    47     41     46          1\\n    48     41     47          1\\n    49     41     48          1\\n    50      1     39          1\\n\",\"mol2\");\n",
       "\tviewer_16863463810326054.setStyle({\"stick\": {\"radius\": 0.1}, \"sphere\": {\"scale\": 0.15}});\n",
       "\tviewer_16863463810326054.setHoverable({},true,\"\\n            function(atom,viewer,event,container) {\\n                if(!atom.label) {\\n                    atom.label = viewer.addLabel(atom.elem + atom.serial, {position: atom, backgroundColor: 'mintcream', fontColor:'black'});\\n                }\\n            }\\n            \",\"\\n            function(atom,viewer) { \\n                if(atom.label) {\\n                    viewer.removeLabel(atom.label);\\n                    delete atom.label;\\n                }\\n            }\\n            \");\n",
       "\tviewer_16863463810326054.zoomTo();\n",
       "\tviewer_16863463810326054.setBackgroundColor(null);\n",
       "viewer_16863463810326054.render();\n",
       "});\n",
       "</script>"
      ]
     },
     "metadata": {},
     "output_type": "display_data"
    },
    {
     "data": {
      "text/plain": [
       "Conformer(name='1_3_3', formula='C16 H26 Br2 N2 O2')"
      ]
     },
     "execution_count": 17,
     "metadata": {},
     "output_type": "execute_result"
    }
   ],
   "source": [
    "clib[0][1]"
   ]
  },
  {
   "cell_type": "code",
   "execution_count": 18,
   "metadata": {},
   "outputs": [
    {
     "data": {
      "application/3dmoljs_load.v0": "<div id=\"3dmolviewer_16863463848103747\"  style=\"position: relative; width: 1000px; height: 500px;\">\n        <p id=\"3dmolwarning_16863463848103747\" style=\"background-color:#ffcccc;color:black\">You appear to be running in JupyterLab (or JavaScript failed to load for some other reason).  You need to install the 3dmol extension: <br>\n        <tt>jupyter labextension install jupyterlab_3dmol</tt></p>\n        </div>\n<script>\n\nvar loadScriptAsync = function(uri){\n  return new Promise((resolve, reject) => {\n    //this is to ignore the existence of requirejs amd\n    var savedexports, savedmodule;\n    if (typeof exports !== 'undefined') savedexports = exports;\n    else exports = {}\n    if (typeof module !== 'undefined') savedmodule = module;\n    else module = {}\n\n    var tag = document.createElement('script');\n    tag.src = uri;\n    tag.async = true;\n    tag.onload = () => {\n        exports = savedexports;\n        module = savedmodule;\n        resolve();\n    };\n  var firstScriptTag = document.getElementsByTagName('script')[0];\n  firstScriptTag.parentNode.insertBefore(tag, firstScriptTag);\n});\n};\n\nif(typeof $3Dmolpromise === 'undefined') {\n$3Dmolpromise = null;\n  $3Dmolpromise = loadScriptAsync('https://cdnjs.cloudflare.com/ajax/libs/3Dmol/2.0.3/3Dmol-min.js');\n}\n\nvar viewer_16863463848103747 = null;\nvar warn = document.getElementById(\"3dmolwarning_16863463848103747\");\nif(warn) {\n    warn.parentNode.removeChild(warn);\n}\n$3Dmolpromise.then(function() {\nviewer_16863463848103747 = $3Dmol.createViewer(document.getElementById(\"3dmolviewer_16863463848103747\"),{backgroundColor:\"white\"});\nviewer_16863463848103747.zoomTo();\n\tviewer_16863463848103747.addModel(\"# Produced with molli package\\n@<TRIPOS>MOLECULE\\n3_6_6\\n74 78 0 0 0\\nSMALL\\nUSER_CHARGES\\n\\n@<TRIPOS>ATOM\\n     1 C       0.131500     0.046400     0.128700 C.3        1 UNL1 0.0\\n     2 C       0.822200     1.216700     0.866900 C.3        1 UNL1 0.0\\n     3 O      -0.105800     2.287100     0.582100 O.2        1 UNL1 0.0\\n     4 C      -1.320500     1.760600     0.423700 C.2        1 UNL1 0.0\\n     5 N      -1.315900     0.493700     0.263700 N.2        1 UNL1 0.0\\n     6 C      -2.525200     2.627100     0.322100 C.3        1 UNL1 0.0\\n     7 C      -3.780100     1.833900     0.289100 C.2        1 UNL1 0.0\\n     8 O      -4.962600     2.388900     0.537000 O.2        1 UNL1 0.0\\n     9 C      -5.928100     1.344000     0.746500 C.3        1 UNL1 0.0\\n    10 C      -5.275200     0.102500     0.090600 C.3        1 UNL1 0.0\\n    11 N      -3.834200     0.586600     0.035000 N.2        1 UNL1 0.0\\n    12 C      -2.579300    -0.262100    -0.097400 C.3        1 UNL1 0.0\\n    13 BR     -2.793600    -1.740700     1.161200 Br         1 UNL1 0.0\\n    14 BR     -2.382100    -0.762500    -1.968800 Br         1 UNL1 0.0\\n    15 C      -2.443400     3.444000    -0.973900 C.3        1 UNL1 0.0\\n    16 C      -2.554100     3.566800     1.536500 C.3        1 UNL1 0.0\\n    17 C      -7.331600     1.820900     0.320200 C.3        1 UNL1 0.0\\n    18 C      -7.940900     2.691600     1.430900 C.3        1 UNL1 0.0\\n    19 C      -7.346400     2.640100    -0.976400 C.3        1 UNL1 0.0\\n    20 C       1.025900     1.142400     2.407300 C.3        1 UNL1 0.0\\n    21 C       1.204500     2.550200     3.002400 C.3        1 UNL1 0.0\\n    22 C       2.240300     0.302100     2.816400 C.3        1 UNL1 0.0\\n    23 H       0.350500     0.170500    -0.939100 H          1 UNL1 0.0\\n    24 H       1.774400     1.457500     0.377900 H          1 UNL1 0.0\\n    25 H      -5.945900     1.163100     1.831700 H          1 UNL1 0.0\\n    26 H      -5.347600    -0.713100     0.812800 H          1 UNL1 0.0\\n    27 H      -1.565800     4.099500    -0.980800 H          1 UNL1 0.0\\n    28 H      -3.333100     4.069700    -1.105200 H          1 UNL1 0.0\\n    29 H      -2.373700     2.790100    -1.852100 H          1 UNL1 0.0\\n    30 H      -3.419000     4.238600     1.509500 H          1 UNL1 0.0\\n    31 H      -1.656000     4.193500     1.583200 H          1 UNL1 0.0\\n    32 H      -2.608100     2.999300     2.473100 H          1 UNL1 0.0\\n    33 H      -7.991100     0.952000     0.211800 H          1 UNL1 0.0\\n    34 H      -7.325800     3.575400     1.631000 H          1 UNL1 0.0\\n    35 H      -8.033800     2.123700     2.362100 H          1 UNL1 0.0\\n    36 H      -8.943300     3.031700     1.151900 H          1 UNL1 0.0\\n    37 H      -6.805500     3.585400    -0.861900 H          1 UNL1 0.0\\n    38 H      -6.901200     2.103100    -1.814700 H          1 UNL1 0.0\\n    39 H      -8.375500     2.884200    -1.259300 H          1 UNL1 0.0\\n    40 H       0.133000     0.712700     2.876100 H          1 UNL1 0.0\\n    41 H       2.038800     3.075400     2.525200 H          1 UNL1 0.0\\n    42 H       0.303000     3.158000     2.876000 H          1 UNL1 0.0\\n    43 H       1.405800     2.499200     4.077300 H          1 UNL1 0.0\\n    44 H       3.118200     0.551900     2.212000 H          1 UNL1 0.0\\n    45 H       2.500000     0.469700     3.867300 H          1 UNL1 0.0\\n    46 H       2.046600    -0.768100     2.725000 H          1 UNL1 0.0\\n    47 C      -5.839200    -0.294700    -1.282000 C.3        1 UNL1 0.0\\n    48 C      -5.601000    -1.721300    -1.726000 C.ar       1 UNL1 0.0\\n    49 C      -5.367000    -1.976300    -3.088500 C.ar       1 UNL1 0.0\\n    50 C      -5.152700    -3.276400    -3.548200 C.ar       1 UNL1 0.0\\n    51 C      -5.200200    -4.344700    -2.659500 C.ar       1 UNL1 0.0\\n    52 C      -5.489400    -4.116100    -1.317300 C.ar       1 UNL1 0.0\\n    53 C      -5.707300    -2.815400    -0.854900 C.ar       1 UNL1 0.0\\n    54 H      -6.930200    -0.202000    -1.282000 H          1 UNL1 0.0\\n    55 H      -5.459800     0.393600    -2.048700 H          1 UNL1 0.0\\n    56 H      -5.355000    -1.168300    -3.819400 H          1 UNL1 0.0\\n    57 H      -4.969500    -3.460000    -4.605600 H          1 UNL1 0.0\\n    58 H      -5.049900    -5.360400    -3.021600 H          1 UNL1 0.0\\n    59 H      -5.578100    -4.963600    -0.639000 H          1 UNL1 0.0\\n    60 H      -5.999300    -2.704300     0.186500 H          1 UNL1 0.0\\n    61 C       0.548900    -1.343100     0.600700 C.3        1 UNL1 0.0\\n    62 C       0.311700    -2.485300    -0.360300 C.ar       1 UNL1 0.0\\n    63 C       0.715500    -2.414300    -1.703000 C.ar       1 UNL1 0.0\\n    64 C       0.497400    -3.487400    -2.570200 C.ar       1 UNL1 0.0\\n    65 C      -0.095300    -4.656100    -2.102300 C.ar       1 UNL1 0.0\\n    66 C      -0.440800    -4.766100    -0.759700 C.ar       1 UNL1 0.0\\n    67 C      -0.218400    -3.697000     0.109000 C.ar       1 UNL1 0.0\\n    68 H       1.637700    -1.345200     0.731000 H          1 UNL1 0.0\\n    69 H       0.117100    -1.565800     1.581000 H          1 UNL1 0.0\\n    70 H       1.235600    -1.547000    -2.104400 H          1 UNL1 0.0\\n    71 H       0.815200    -3.426800    -3.609800 H          1 UNL1 0.0\\n    72 H      -0.248500    -5.497800    -2.775500 H          1 UNL1 0.0\\n    73 H      -0.855400    -5.699800    -0.384600 H          1 UNL1 0.0\\n    74 H      -0.450100    -3.842900     1.162900 H          1 UNL1 0.0\\n@<TRIPOS>BOND\\n     1      1      2          1\\n     2      2      3          1\\n     3      3      4          1\\n     4      4      5          2\\n     5      5      1          1\\n     6      4      6          1\\n     7      6      7          1\\n     8      7      8          1\\n     9      8      9          1\\n    10      9     10          1\\n    11     10     11          1\\n    12     11      7          2\\n    13     11     12          1\\n    14     12      5          1\\n    15     12     13          1\\n    16     12     14          1\\n    17      6     15          1\\n    18      6     16          1\\n    19     17     18          1\\n    20     17     19          1\\n    21      9     17          1\\n    22     20     21          1\\n    23     20     22          1\\n    24      2     20          1\\n    25      1     23          1\\n    26      2     24          1\\n    27      9     25          1\\n    28     10     26          1\\n    29     15     27          1\\n    30     15     28          1\\n    31     15     29          1\\n    32     16     30          1\\n    33     16     31          1\\n    34     16     32          1\\n    35     17     33          1\\n    36     18     34          1\\n    37     18     35          1\\n    38     18     36          1\\n    39     19     37          1\\n    40     19     38          1\\n    41     19     39          1\\n    42     20     40          1\\n    43     21     41          1\\n    44     21     42          1\\n    45     21     43          1\\n    46     22     44          1\\n    47     22     45          1\\n    48     22     46          1\\n    49     47     48          1\\n    50     48     49         ar\\n    51     49     50         ar\\n    52     50     51         ar\\n    53     51     52         ar\\n    54     52     53         ar\\n    55     53     48         ar\\n    56     47     54          1\\n    57     47     55          1\\n    58     49     56          1\\n    59     50     57          1\\n    60     51     58          1\\n    61     52     59          1\\n    62     53     60          1\\n    63     10     47          1\\n    64     61     62          1\\n    65     62     63         ar\\n    66     63     64         ar\\n    67     64     65         ar\\n    68     65     66         ar\\n    69     66     67         ar\\n    70     67     62         ar\\n    71     61     68          1\\n    72     61     69          1\\n    73     63     70          1\\n    74     64     71          1\\n    75     65     72          1\\n    76     66     73          1\\n    77     67     74          1\\n    78      1     61          1\\n\",\"mol2\");\n\tviewer_16863463848103747.setStyle({\"stick\": {\"radius\": 0.1}, \"sphere\": {\"scale\": 0.15}});\n\tviewer_16863463848103747.setHoverable({},true,\"\\n            function(atom,viewer,event,container) {\\n                if(!atom.label) {\\n                    atom.label = viewer.addLabel(atom.elem + atom.serial, {position: atom, backgroundColor: 'mintcream', fontColor:'black'});\\n                }\\n            }\\n            \",\"\\n            function(atom,viewer) { \\n                if(atom.label) {\\n                    viewer.removeLabel(atom.label);\\n                    delete atom.label;\\n                }\\n            }\\n            \");\n\tviewer_16863463848103747.zoomTo();\n\tviewer_16863463848103747.setBackgroundColor(null);\nviewer_16863463848103747.render();\n});\n</script>",
      "text/html": [
       "<div id=\"3dmolviewer_16863463848103747\"  style=\"position: relative; width: 1000px; height: 500px;\">\n",
       "        <p id=\"3dmolwarning_16863463848103747\" style=\"background-color:#ffcccc;color:black\">You appear to be running in JupyterLab (or JavaScript failed to load for some other reason).  You need to install the 3dmol extension: <br>\n",
       "        <tt>jupyter labextension install jupyterlab_3dmol</tt></p>\n",
       "        </div>\n",
       "<script>\n",
       "\n",
       "var loadScriptAsync = function(uri){\n",
       "  return new Promise((resolve, reject) => {\n",
       "    //this is to ignore the existence of requirejs amd\n",
       "    var savedexports, savedmodule;\n",
       "    if (typeof exports !== 'undefined') savedexports = exports;\n",
       "    else exports = {}\n",
       "    if (typeof module !== 'undefined') savedmodule = module;\n",
       "    else module = {}\n",
       "\n",
       "    var tag = document.createElement('script');\n",
       "    tag.src = uri;\n",
       "    tag.async = true;\n",
       "    tag.onload = () => {\n",
       "        exports = savedexports;\n",
       "        module = savedmodule;\n",
       "        resolve();\n",
       "    };\n",
       "  var firstScriptTag = document.getElementsByTagName('script')[0];\n",
       "  firstScriptTag.parentNode.insertBefore(tag, firstScriptTag);\n",
       "});\n",
       "};\n",
       "\n",
       "if(typeof $3Dmolpromise === 'undefined') {\n",
       "$3Dmolpromise = null;\n",
       "  $3Dmolpromise = loadScriptAsync('https://cdnjs.cloudflare.com/ajax/libs/3Dmol/2.0.3/3Dmol-min.js');\n",
       "}\n",
       "\n",
       "var viewer_16863463848103747 = null;\n",
       "var warn = document.getElementById(\"3dmolwarning_16863463848103747\");\n",
       "if(warn) {\n",
       "    warn.parentNode.removeChild(warn);\n",
       "}\n",
       "$3Dmolpromise.then(function() {\n",
       "viewer_16863463848103747 = $3Dmol.createViewer(document.getElementById(\"3dmolviewer_16863463848103747\"),{backgroundColor:\"white\"});\n",
       "viewer_16863463848103747.zoomTo();\n",
       "\tviewer_16863463848103747.addModel(\"# Produced with molli package\\n@<TRIPOS>MOLECULE\\n3_6_6\\n74 78 0 0 0\\nSMALL\\nUSER_CHARGES\\n\\n@<TRIPOS>ATOM\\n     1 C       0.131500     0.046400     0.128700 C.3        1 UNL1 0.0\\n     2 C       0.822200     1.216700     0.866900 C.3        1 UNL1 0.0\\n     3 O      -0.105800     2.287100     0.582100 O.2        1 UNL1 0.0\\n     4 C      -1.320500     1.760600     0.423700 C.2        1 UNL1 0.0\\n     5 N      -1.315900     0.493700     0.263700 N.2        1 UNL1 0.0\\n     6 C      -2.525200     2.627100     0.322100 C.3        1 UNL1 0.0\\n     7 C      -3.780100     1.833900     0.289100 C.2        1 UNL1 0.0\\n     8 O      -4.962600     2.388900     0.537000 O.2        1 UNL1 0.0\\n     9 C      -5.928100     1.344000     0.746500 C.3        1 UNL1 0.0\\n    10 C      -5.275200     0.102500     0.090600 C.3        1 UNL1 0.0\\n    11 N      -3.834200     0.586600     0.035000 N.2        1 UNL1 0.0\\n    12 C      -2.579300    -0.262100    -0.097400 C.3        1 UNL1 0.0\\n    13 BR     -2.793600    -1.740700     1.161200 Br         1 UNL1 0.0\\n    14 BR     -2.382100    -0.762500    -1.968800 Br         1 UNL1 0.0\\n    15 C      -2.443400     3.444000    -0.973900 C.3        1 UNL1 0.0\\n    16 C      -2.554100     3.566800     1.536500 C.3        1 UNL1 0.0\\n    17 C      -7.331600     1.820900     0.320200 C.3        1 UNL1 0.0\\n    18 C      -7.940900     2.691600     1.430900 C.3        1 UNL1 0.0\\n    19 C      -7.346400     2.640100    -0.976400 C.3        1 UNL1 0.0\\n    20 C       1.025900     1.142400     2.407300 C.3        1 UNL1 0.0\\n    21 C       1.204500     2.550200     3.002400 C.3        1 UNL1 0.0\\n    22 C       2.240300     0.302100     2.816400 C.3        1 UNL1 0.0\\n    23 H       0.350500     0.170500    -0.939100 H          1 UNL1 0.0\\n    24 H       1.774400     1.457500     0.377900 H          1 UNL1 0.0\\n    25 H      -5.945900     1.163100     1.831700 H          1 UNL1 0.0\\n    26 H      -5.347600    -0.713100     0.812800 H          1 UNL1 0.0\\n    27 H      -1.565800     4.099500    -0.980800 H          1 UNL1 0.0\\n    28 H      -3.333100     4.069700    -1.105200 H          1 UNL1 0.0\\n    29 H      -2.373700     2.790100    -1.852100 H          1 UNL1 0.0\\n    30 H      -3.419000     4.238600     1.509500 H          1 UNL1 0.0\\n    31 H      -1.656000     4.193500     1.583200 H          1 UNL1 0.0\\n    32 H      -2.608100     2.999300     2.473100 H          1 UNL1 0.0\\n    33 H      -7.991100     0.952000     0.211800 H          1 UNL1 0.0\\n    34 H      -7.325800     3.575400     1.631000 H          1 UNL1 0.0\\n    35 H      -8.033800     2.123700     2.362100 H          1 UNL1 0.0\\n    36 H      -8.943300     3.031700     1.151900 H          1 UNL1 0.0\\n    37 H      -6.805500     3.585400    -0.861900 H          1 UNL1 0.0\\n    38 H      -6.901200     2.103100    -1.814700 H          1 UNL1 0.0\\n    39 H      -8.375500     2.884200    -1.259300 H          1 UNL1 0.0\\n    40 H       0.133000     0.712700     2.876100 H          1 UNL1 0.0\\n    41 H       2.038800     3.075400     2.525200 H          1 UNL1 0.0\\n    42 H       0.303000     3.158000     2.876000 H          1 UNL1 0.0\\n    43 H       1.405800     2.499200     4.077300 H          1 UNL1 0.0\\n    44 H       3.118200     0.551900     2.212000 H          1 UNL1 0.0\\n    45 H       2.500000     0.469700     3.867300 H          1 UNL1 0.0\\n    46 H       2.046600    -0.768100     2.725000 H          1 UNL1 0.0\\n    47 C      -5.839200    -0.294700    -1.282000 C.3        1 UNL1 0.0\\n    48 C      -5.601000    -1.721300    -1.726000 C.ar       1 UNL1 0.0\\n    49 C      -5.367000    -1.976300    -3.088500 C.ar       1 UNL1 0.0\\n    50 C      -5.152700    -3.276400    -3.548200 C.ar       1 UNL1 0.0\\n    51 C      -5.200200    -4.344700    -2.659500 C.ar       1 UNL1 0.0\\n    52 C      -5.489400    -4.116100    -1.317300 C.ar       1 UNL1 0.0\\n    53 C      -5.707300    -2.815400    -0.854900 C.ar       1 UNL1 0.0\\n    54 H      -6.930200    -0.202000    -1.282000 H          1 UNL1 0.0\\n    55 H      -5.459800     0.393600    -2.048700 H          1 UNL1 0.0\\n    56 H      -5.355000    -1.168300    -3.819400 H          1 UNL1 0.0\\n    57 H      -4.969500    -3.460000    -4.605600 H          1 UNL1 0.0\\n    58 H      -5.049900    -5.360400    -3.021600 H          1 UNL1 0.0\\n    59 H      -5.578100    -4.963600    -0.639000 H          1 UNL1 0.0\\n    60 H      -5.999300    -2.704300     0.186500 H          1 UNL1 0.0\\n    61 C       0.548900    -1.343100     0.600700 C.3        1 UNL1 0.0\\n    62 C       0.311700    -2.485300    -0.360300 C.ar       1 UNL1 0.0\\n    63 C       0.715500    -2.414300    -1.703000 C.ar       1 UNL1 0.0\\n    64 C       0.497400    -3.487400    -2.570200 C.ar       1 UNL1 0.0\\n    65 C      -0.095300    -4.656100    -2.102300 C.ar       1 UNL1 0.0\\n    66 C      -0.440800    -4.766100    -0.759700 C.ar       1 UNL1 0.0\\n    67 C      -0.218400    -3.697000     0.109000 C.ar       1 UNL1 0.0\\n    68 H       1.637700    -1.345200     0.731000 H          1 UNL1 0.0\\n    69 H       0.117100    -1.565800     1.581000 H          1 UNL1 0.0\\n    70 H       1.235600    -1.547000    -2.104400 H          1 UNL1 0.0\\n    71 H       0.815200    -3.426800    -3.609800 H          1 UNL1 0.0\\n    72 H      -0.248500    -5.497800    -2.775500 H          1 UNL1 0.0\\n    73 H      -0.855400    -5.699800    -0.384600 H          1 UNL1 0.0\\n    74 H      -0.450100    -3.842900     1.162900 H          1 UNL1 0.0\\n@<TRIPOS>BOND\\n     1      1      2          1\\n     2      2      3          1\\n     3      3      4          1\\n     4      4      5          2\\n     5      5      1          1\\n     6      4      6          1\\n     7      6      7          1\\n     8      7      8          1\\n     9      8      9          1\\n    10      9     10          1\\n    11     10     11          1\\n    12     11      7          2\\n    13     11     12          1\\n    14     12      5          1\\n    15     12     13          1\\n    16     12     14          1\\n    17      6     15          1\\n    18      6     16          1\\n    19     17     18          1\\n    20     17     19          1\\n    21      9     17          1\\n    22     20     21          1\\n    23     20     22          1\\n    24      2     20          1\\n    25      1     23          1\\n    26      2     24          1\\n    27      9     25          1\\n    28     10     26          1\\n    29     15     27          1\\n    30     15     28          1\\n    31     15     29          1\\n    32     16     30          1\\n    33     16     31          1\\n    34     16     32          1\\n    35     17     33          1\\n    36     18     34          1\\n    37     18     35          1\\n    38     18     36          1\\n    39     19     37          1\\n    40     19     38          1\\n    41     19     39          1\\n    42     20     40          1\\n    43     21     41          1\\n    44     21     42          1\\n    45     21     43          1\\n    46     22     44          1\\n    47     22     45          1\\n    48     22     46          1\\n    49     47     48          1\\n    50     48     49         ar\\n    51     49     50         ar\\n    52     50     51         ar\\n    53     51     52         ar\\n    54     52     53         ar\\n    55     53     48         ar\\n    56     47     54          1\\n    57     47     55          1\\n    58     49     56          1\\n    59     50     57          1\\n    60     51     58          1\\n    61     52     59          1\\n    62     53     60          1\\n    63     10     47          1\\n    64     61     62          1\\n    65     62     63         ar\\n    66     63     64         ar\\n    67     64     65         ar\\n    68     65     66         ar\\n    69     66     67         ar\\n    70     67     62         ar\\n    71     61     68          1\\n    72     61     69          1\\n    73     63     70          1\\n    74     64     71          1\\n    75     65     72          1\\n    76     66     73          1\\n    77     67     74          1\\n    78      1     61          1\\n\",\"mol2\");\n",
       "\tviewer_16863463848103747.setStyle({\"stick\": {\"radius\": 0.1}, \"sphere\": {\"scale\": 0.15}});\n",
       "\tviewer_16863463848103747.setHoverable({},true,\"\\n            function(atom,viewer,event,container) {\\n                if(!atom.label) {\\n                    atom.label = viewer.addLabel(atom.elem + atom.serial, {position: atom, backgroundColor: 'mintcream', fontColor:'black'});\\n                }\\n            }\\n            \",\"\\n            function(atom,viewer) { \\n                if(atom.label) {\\n                    viewer.removeLabel(atom.label);\\n                    delete atom.label;\\n                }\\n            }\\n            \");\n",
       "\tviewer_16863463848103747.zoomTo();\n",
       "\tviewer_16863463848103747.setBackgroundColor(null);\n",
       "viewer_16863463848103747.render();\n",
       "});\n",
       "</script>"
      ]
     },
     "metadata": {},
     "output_type": "display_data"
    },
    {
     "data": {
      "text/plain": [
       "Conformer(name='3_6_6', formula='C30 H38 Br2 N2 O2')"
      ]
     },
     "execution_count": 18,
     "metadata": {},
     "output_type": "execute_result"
    }
   ],
   "source": [
    "clib[42][0]"
   ]
  },
  {
   "cell_type": "code",
   "execution_count": 19,
   "metadata": {},
   "outputs": [
    {
     "data": {
      "application/3dmoljs_load.v0": "<div id=\"3dmolviewer_16863463882099097\"  style=\"position: relative; width: 1000px; height: 500px;\">\n        <p id=\"3dmolwarning_16863463882099097\" style=\"background-color:#ffcccc;color:black\">You appear to be running in JupyterLab (or JavaScript failed to load for some other reason).  You need to install the 3dmol extension: <br>\n        <tt>jupyter labextension install jupyterlab_3dmol</tt></p>\n        </div>\n<script>\n\nvar loadScriptAsync = function(uri){\n  return new Promise((resolve, reject) => {\n    //this is to ignore the existence of requirejs amd\n    var savedexports, savedmodule;\n    if (typeof exports !== 'undefined') savedexports = exports;\n    else exports = {}\n    if (typeof module !== 'undefined') savedmodule = module;\n    else module = {}\n\n    var tag = document.createElement('script');\n    tag.src = uri;\n    tag.async = true;\n    tag.onload = () => {\n        exports = savedexports;\n        module = savedmodule;\n        resolve();\n    };\n  var firstScriptTag = document.getElementsByTagName('script')[0];\n  firstScriptTag.parentNode.insertBefore(tag, firstScriptTag);\n});\n};\n\nif(typeof $3Dmolpromise === 'undefined') {\n$3Dmolpromise = null;\n  $3Dmolpromise = loadScriptAsync('https://cdnjs.cloudflare.com/ajax/libs/3Dmol/2.0.3/3Dmol-min.js');\n}\n\nvar viewer_16863463882099097 = null;\nvar warn = document.getElementById(\"3dmolwarning_16863463882099097\");\nif(warn) {\n    warn.parentNode.removeChild(warn);\n}\n$3Dmolpromise.then(function() {\nviewer_16863463882099097 = $3Dmol.createViewer(document.getElementById(\"3dmolviewer_16863463882099097\"),{backgroundColor:\"white\"});\nviewer_16863463882099097.zoomTo();\n\tviewer_16863463882099097.addModel(\"# Produced with molli package\\n@<TRIPOS>MOLECULE\\n3_6_6\\n74 78 0 0 0\\nSMALL\\nUSER_CHARGES\\n\\n@<TRIPOS>ATOM\\n     1 C      -0.012000    -0.076400     0.603000 C.3        1 UNL1 0.0\\n     2 C       0.798900     1.107100     0.039700 C.3        1 UNL1 0.0\\n     3 O      -0.054500     2.229000     0.383900 O.2        1 UNL1 0.0\\n     4 C      -1.307200     1.770600     0.351300 C.2        1 UNL1 0.0\\n     5 N      -1.368900     0.495200     0.321000 N.2        1 UNL1 0.0\\n     6 C      -2.520000     2.638700     0.347300 C.3        1 UNL1 0.0\\n     7 C      -3.770400     1.815700     0.322700 C.2        1 UNL1 0.0\\n     8 O      -4.956000     2.298600     0.688500 O.2        1 UNL1 0.0\\n     9 C      -5.787900     1.165600     1.007100 C.3        1 UNL1 0.0\\n    10 C      -5.223100     0.065600     0.080700 C.3        1 UNL1 0.0\\n    11 N      -3.809300     0.581700    -0.008600 N.2        1 UNL1 0.0\\n    12 C      -2.554100    -0.180300    -0.315100 C.3        1 UNL1 0.0\\n    13 BR     -2.194800    -0.023400    -2.271500 Br         1 UNL1 0.0\\n    14 BR     -2.693800    -2.062100     0.117100 Br         1 UNL1 0.0\\n    15 C      -2.500600     3.462500     1.646200 C.3        1 UNL1 0.0\\n    16 C      -2.499400     3.577700    -0.861300 C.3        1 UNL1 0.0\\n    17 C      -7.277000     1.534700     0.928700 C.3        1 UNL1 0.0\\n    18 C      -8.158600     0.359400     1.353400 C.3        1 UNL1 0.0\\n    19 C      -7.584700     2.748400     1.815600 C.3        1 UNL1 0.0\\n    20 C       2.266400     1.364600     0.424100 C.3        1 UNL1 0.0\\n    21 C       3.140600     0.135700     0.185200 C.3        1 UNL1 0.0\\n    22 C       2.506400     1.958700     1.811800 C.3        1 UNL1 0.0\\n    23 H       0.142600    -1.001900     0.041500 H          1 UNL1 0.0\\n    24 H       0.782200     1.042500    -1.060700 H          1 UNL1 0.0\\n    25 H      -5.556600     0.905700     2.051400 H          1 UNL1 0.0\\n    26 H      -5.243900    -0.889600     0.609400 H          1 UNL1 0.0\\n    27 H      -2.554100     2.811500     2.527800 H          1 UNL1 0.0\\n    28 H      -3.349500     4.153400     1.697300 H          1 UNL1 0.0\\n    29 H      -1.583700     4.057200     1.732400 H          1 UNL1 0.0\\n    30 H      -3.402600     4.198000    -0.895000 H          1 UNL1 0.0\\n    31 H      -1.635800     4.249700    -0.827700 H          1 UNL1 0.0\\n    32 H      -2.451900     3.026700    -1.806400 H          1 UNL1 0.0\\n    33 H      -7.534400     1.835300    -0.094000 H          1 UNL1 0.0\\n    34 H      -9.217900     0.628200     1.293700 H          1 UNL1 0.0\\n    35 H      -7.948000     0.060900     2.386100 H          1 UNL1 0.0\\n    36 H      -8.005400    -0.516800     0.716600 H          1 UNL1 0.0\\n    37 H      -8.650200     2.998700     1.773700 H          1 UNL1 0.0\\n    38 H      -7.322100     2.553700     2.861000 H          1 UNL1 0.0\\n    39 H      -7.030600     3.631600     1.483800 H          1 UNL1 0.0\\n    40 H       2.615600     2.143500    -0.269500 H          1 UNL1 0.0\\n    41 H       2.889100    -0.684900     0.862600 H          1 UNL1 0.0\\n    42 H       3.028300    -0.228200    -0.841900 H          1 UNL1 0.0\\n    43 H       4.197600     0.378500     0.335600 H          1 UNL1 0.0\\n    44 H       3.539600     2.316400     1.889400 H          1 UNL1 0.0\\n    45 H       2.368200     1.231300     2.613100 H          1 UNL1 0.0\\n    46 H       1.853600     2.816100     1.999200 H          1 UNL1 0.0\\n    47 C      -5.879400     0.019900    -1.315300 C.3        1 UNL1 0.0\\n    48 C      -5.590200    -1.228700    -2.111800 C.ar       1 UNL1 0.0\\n    49 C      -5.210200    -1.128100    -3.457900 C.ar       1 UNL1 0.0\\n    50 C      -4.945000    -2.274000    -4.210100 C.ar       1 UNL1 0.0\\n    51 C      -5.088000    -3.534100    -3.638100 C.ar       1 UNL1 0.0\\n    52 C      -5.524900    -3.650800    -2.322500 C.ar       1 UNL1 0.0\\n    53 C      -5.791600    -2.506600    -1.567500 C.ar       1 UNL1 0.0\\n    54 H      -6.970900     0.050500    -1.234300 H          1 UNL1 0.0\\n    55 H      -5.592800     0.907400    -1.895600 H          1 UNL1 0.0\\n    56 H      -5.129500    -0.162200    -3.955500 H          1 UNL1 0.0\\n    57 H      -4.652100    -2.188000    -5.255300 H          1 UNL1 0.0\\n    58 H      -4.899700    -4.426600    -4.232800 H          1 UNL1 0.0\\n    59 H      -5.686600    -4.640400    -1.896700 H          1 UNL1 0.0\\n    60 H      -6.187100    -2.648900    -0.564000 H          1 UNL1 0.0\\n    61 C       0.169300    -0.242100     2.130800 C.3        1 UNL1 0.0\\n    62 C      -0.828800    -1.126800     2.829300 C.ar       1 UNL1 0.0\\n    63 C      -1.900900    -0.570300     3.546400 C.ar       1 UNL1 0.0\\n    64 C      -2.819800    -1.396900     4.195200 C.ar       1 UNL1 0.0\\n    65 C      -2.668800    -2.781200     4.145000 C.ar       1 UNL1 0.0\\n    66 C      -1.589500    -3.340800     3.464000 C.ar       1 UNL1 0.0\\n    67 C      -0.668100    -2.519200     2.812500 C.ar       1 UNL1 0.0\\n    68 H       1.166200    -0.648000     2.336700 H          1 UNL1 0.0\\n    69 H       0.141000     0.736200     2.628800 H          1 UNL1 0.0\\n    70 H      -1.997700     0.506100     3.675800 H          1 UNL1 0.0\\n    71 H      -3.624700    -0.971100     4.793400 H          1 UNL1 0.0\\n    72 H      -3.365100    -3.428600     4.678100 H          1 UNL1 0.0\\n    73 H      -1.452700    -4.421700     3.464600 H          1 UNL1 0.0\\n    74 H       0.182300    -2.986500     2.316600 H          1 UNL1 0.0\\n@<TRIPOS>BOND\\n     1      1      2          1\\n     2      2      3          1\\n     3      3      4          1\\n     4      4      5          2\\n     5      5      1          1\\n     6      4      6          1\\n     7      6      7          1\\n     8      7      8          1\\n     9      8      9          1\\n    10      9     10          1\\n    11     10     11          1\\n    12     11      7          2\\n    13     11     12          1\\n    14     12      5          1\\n    15     12     13          1\\n    16     12     14          1\\n    17      6     15          1\\n    18      6     16          1\\n    19     17     18          1\\n    20     17     19          1\\n    21      9     17          1\\n    22     20     21          1\\n    23     20     22          1\\n    24      2     20          1\\n    25      1     23          1\\n    26      2     24          1\\n    27      9     25          1\\n    28     10     26          1\\n    29     15     27          1\\n    30     15     28          1\\n    31     15     29          1\\n    32     16     30          1\\n    33     16     31          1\\n    34     16     32          1\\n    35     17     33          1\\n    36     18     34          1\\n    37     18     35          1\\n    38     18     36          1\\n    39     19     37          1\\n    40     19     38          1\\n    41     19     39          1\\n    42     20     40          1\\n    43     21     41          1\\n    44     21     42          1\\n    45     21     43          1\\n    46     22     44          1\\n    47     22     45          1\\n    48     22     46          1\\n    49     47     48          1\\n    50     48     49         ar\\n    51     49     50         ar\\n    52     50     51         ar\\n    53     51     52         ar\\n    54     52     53         ar\\n    55     53     48         ar\\n    56     47     54          1\\n    57     47     55          1\\n    58     49     56          1\\n    59     50     57          1\\n    60     51     58          1\\n    61     52     59          1\\n    62     53     60          1\\n    63     10     47          1\\n    64     61     62          1\\n    65     62     63         ar\\n    66     63     64         ar\\n    67     64     65         ar\\n    68     65     66         ar\\n    69     66     67         ar\\n    70     67     62         ar\\n    71     61     68          1\\n    72     61     69          1\\n    73     63     70          1\\n    74     64     71          1\\n    75     65     72          1\\n    76     66     73          1\\n    77     67     74          1\\n    78      1     61          1\\n\",\"mol2\");\n\tviewer_16863463882099097.setStyle({\"stick\": {\"radius\": 0.1}, \"sphere\": {\"scale\": 0.15}});\n\tviewer_16863463882099097.setHoverable({},true,\"\\n            function(atom,viewer,event,container) {\\n                if(!atom.label) {\\n                    atom.label = viewer.addLabel(atom.elem + atom.serial, {position: atom, backgroundColor: 'mintcream', fontColor:'black'});\\n                }\\n            }\\n            \",\"\\n            function(atom,viewer) { \\n                if(atom.label) {\\n                    viewer.removeLabel(atom.label);\\n                    delete atom.label;\\n                }\\n            }\\n            \");\n\tviewer_16863463882099097.zoomTo();\n\tviewer_16863463882099097.setBackgroundColor(null);\nviewer_16863463882099097.render();\n});\n</script>",
      "text/html": [
       "<div id=\"3dmolviewer_16863463882099097\"  style=\"position: relative; width: 1000px; height: 500px;\">\n",
       "        <p id=\"3dmolwarning_16863463882099097\" style=\"background-color:#ffcccc;color:black\">You appear to be running in JupyterLab (or JavaScript failed to load for some other reason).  You need to install the 3dmol extension: <br>\n",
       "        <tt>jupyter labextension install jupyterlab_3dmol</tt></p>\n",
       "        </div>\n",
       "<script>\n",
       "\n",
       "var loadScriptAsync = function(uri){\n",
       "  return new Promise((resolve, reject) => {\n",
       "    //this is to ignore the existence of requirejs amd\n",
       "    var savedexports, savedmodule;\n",
       "    if (typeof exports !== 'undefined') savedexports = exports;\n",
       "    else exports = {}\n",
       "    if (typeof module !== 'undefined') savedmodule = module;\n",
       "    else module = {}\n",
       "\n",
       "    var tag = document.createElement('script');\n",
       "    tag.src = uri;\n",
       "    tag.async = true;\n",
       "    tag.onload = () => {\n",
       "        exports = savedexports;\n",
       "        module = savedmodule;\n",
       "        resolve();\n",
       "    };\n",
       "  var firstScriptTag = document.getElementsByTagName('script')[0];\n",
       "  firstScriptTag.parentNode.insertBefore(tag, firstScriptTag);\n",
       "});\n",
       "};\n",
       "\n",
       "if(typeof $3Dmolpromise === 'undefined') {\n",
       "$3Dmolpromise = null;\n",
       "  $3Dmolpromise = loadScriptAsync('https://cdnjs.cloudflare.com/ajax/libs/3Dmol/2.0.3/3Dmol-min.js');\n",
       "}\n",
       "\n",
       "var viewer_16863463882099097 = null;\n",
       "var warn = document.getElementById(\"3dmolwarning_16863463882099097\");\n",
       "if(warn) {\n",
       "    warn.parentNode.removeChild(warn);\n",
       "}\n",
       "$3Dmolpromise.then(function() {\n",
       "viewer_16863463882099097 = $3Dmol.createViewer(document.getElementById(\"3dmolviewer_16863463882099097\"),{backgroundColor:\"white\"});\n",
       "viewer_16863463882099097.zoomTo();\n",
       "\tviewer_16863463882099097.addModel(\"# Produced with molli package\\n@<TRIPOS>MOLECULE\\n3_6_6\\n74 78 0 0 0\\nSMALL\\nUSER_CHARGES\\n\\n@<TRIPOS>ATOM\\n     1 C      -0.012000    -0.076400     0.603000 C.3        1 UNL1 0.0\\n     2 C       0.798900     1.107100     0.039700 C.3        1 UNL1 0.0\\n     3 O      -0.054500     2.229000     0.383900 O.2        1 UNL1 0.0\\n     4 C      -1.307200     1.770600     0.351300 C.2        1 UNL1 0.0\\n     5 N      -1.368900     0.495200     0.321000 N.2        1 UNL1 0.0\\n     6 C      -2.520000     2.638700     0.347300 C.3        1 UNL1 0.0\\n     7 C      -3.770400     1.815700     0.322700 C.2        1 UNL1 0.0\\n     8 O      -4.956000     2.298600     0.688500 O.2        1 UNL1 0.0\\n     9 C      -5.787900     1.165600     1.007100 C.3        1 UNL1 0.0\\n    10 C      -5.223100     0.065600     0.080700 C.3        1 UNL1 0.0\\n    11 N      -3.809300     0.581700    -0.008600 N.2        1 UNL1 0.0\\n    12 C      -2.554100    -0.180300    -0.315100 C.3        1 UNL1 0.0\\n    13 BR     -2.194800    -0.023400    -2.271500 Br         1 UNL1 0.0\\n    14 BR     -2.693800    -2.062100     0.117100 Br         1 UNL1 0.0\\n    15 C      -2.500600     3.462500     1.646200 C.3        1 UNL1 0.0\\n    16 C      -2.499400     3.577700    -0.861300 C.3        1 UNL1 0.0\\n    17 C      -7.277000     1.534700     0.928700 C.3        1 UNL1 0.0\\n    18 C      -8.158600     0.359400     1.353400 C.3        1 UNL1 0.0\\n    19 C      -7.584700     2.748400     1.815600 C.3        1 UNL1 0.0\\n    20 C       2.266400     1.364600     0.424100 C.3        1 UNL1 0.0\\n    21 C       3.140600     0.135700     0.185200 C.3        1 UNL1 0.0\\n    22 C       2.506400     1.958700     1.811800 C.3        1 UNL1 0.0\\n    23 H       0.142600    -1.001900     0.041500 H          1 UNL1 0.0\\n    24 H       0.782200     1.042500    -1.060700 H          1 UNL1 0.0\\n    25 H      -5.556600     0.905700     2.051400 H          1 UNL1 0.0\\n    26 H      -5.243900    -0.889600     0.609400 H          1 UNL1 0.0\\n    27 H      -2.554100     2.811500     2.527800 H          1 UNL1 0.0\\n    28 H      -3.349500     4.153400     1.697300 H          1 UNL1 0.0\\n    29 H      -1.583700     4.057200     1.732400 H          1 UNL1 0.0\\n    30 H      -3.402600     4.198000    -0.895000 H          1 UNL1 0.0\\n    31 H      -1.635800     4.249700    -0.827700 H          1 UNL1 0.0\\n    32 H      -2.451900     3.026700    -1.806400 H          1 UNL1 0.0\\n    33 H      -7.534400     1.835300    -0.094000 H          1 UNL1 0.0\\n    34 H      -9.217900     0.628200     1.293700 H          1 UNL1 0.0\\n    35 H      -7.948000     0.060900     2.386100 H          1 UNL1 0.0\\n    36 H      -8.005400    -0.516800     0.716600 H          1 UNL1 0.0\\n    37 H      -8.650200     2.998700     1.773700 H          1 UNL1 0.0\\n    38 H      -7.322100     2.553700     2.861000 H          1 UNL1 0.0\\n    39 H      -7.030600     3.631600     1.483800 H          1 UNL1 0.0\\n    40 H       2.615600     2.143500    -0.269500 H          1 UNL1 0.0\\n    41 H       2.889100    -0.684900     0.862600 H          1 UNL1 0.0\\n    42 H       3.028300    -0.228200    -0.841900 H          1 UNL1 0.0\\n    43 H       4.197600     0.378500     0.335600 H          1 UNL1 0.0\\n    44 H       3.539600     2.316400     1.889400 H          1 UNL1 0.0\\n    45 H       2.368200     1.231300     2.613100 H          1 UNL1 0.0\\n    46 H       1.853600     2.816100     1.999200 H          1 UNL1 0.0\\n    47 C      -5.879400     0.019900    -1.315300 C.3        1 UNL1 0.0\\n    48 C      -5.590200    -1.228700    -2.111800 C.ar       1 UNL1 0.0\\n    49 C      -5.210200    -1.128100    -3.457900 C.ar       1 UNL1 0.0\\n    50 C      -4.945000    -2.274000    -4.210100 C.ar       1 UNL1 0.0\\n    51 C      -5.088000    -3.534100    -3.638100 C.ar       1 UNL1 0.0\\n    52 C      -5.524900    -3.650800    -2.322500 C.ar       1 UNL1 0.0\\n    53 C      -5.791600    -2.506600    -1.567500 C.ar       1 UNL1 0.0\\n    54 H      -6.970900     0.050500    -1.234300 H          1 UNL1 0.0\\n    55 H      -5.592800     0.907400    -1.895600 H          1 UNL1 0.0\\n    56 H      -5.129500    -0.162200    -3.955500 H          1 UNL1 0.0\\n    57 H      -4.652100    -2.188000    -5.255300 H          1 UNL1 0.0\\n    58 H      -4.899700    -4.426600    -4.232800 H          1 UNL1 0.0\\n    59 H      -5.686600    -4.640400    -1.896700 H          1 UNL1 0.0\\n    60 H      -6.187100    -2.648900    -0.564000 H          1 UNL1 0.0\\n    61 C       0.169300    -0.242100     2.130800 C.3        1 UNL1 0.0\\n    62 C      -0.828800    -1.126800     2.829300 C.ar       1 UNL1 0.0\\n    63 C      -1.900900    -0.570300     3.546400 C.ar       1 UNL1 0.0\\n    64 C      -2.819800    -1.396900     4.195200 C.ar       1 UNL1 0.0\\n    65 C      -2.668800    -2.781200     4.145000 C.ar       1 UNL1 0.0\\n    66 C      -1.589500    -3.340800     3.464000 C.ar       1 UNL1 0.0\\n    67 C      -0.668100    -2.519200     2.812500 C.ar       1 UNL1 0.0\\n    68 H       1.166200    -0.648000     2.336700 H          1 UNL1 0.0\\n    69 H       0.141000     0.736200     2.628800 H          1 UNL1 0.0\\n    70 H      -1.997700     0.506100     3.675800 H          1 UNL1 0.0\\n    71 H      -3.624700    -0.971100     4.793400 H          1 UNL1 0.0\\n    72 H      -3.365100    -3.428600     4.678100 H          1 UNL1 0.0\\n    73 H      -1.452700    -4.421700     3.464600 H          1 UNL1 0.0\\n    74 H       0.182300    -2.986500     2.316600 H          1 UNL1 0.0\\n@<TRIPOS>BOND\\n     1      1      2          1\\n     2      2      3          1\\n     3      3      4          1\\n     4      4      5          2\\n     5      5      1          1\\n     6      4      6          1\\n     7      6      7          1\\n     8      7      8          1\\n     9      8      9          1\\n    10      9     10          1\\n    11     10     11          1\\n    12     11      7          2\\n    13     11     12          1\\n    14     12      5          1\\n    15     12     13          1\\n    16     12     14          1\\n    17      6     15          1\\n    18      6     16          1\\n    19     17     18          1\\n    20     17     19          1\\n    21      9     17          1\\n    22     20     21          1\\n    23     20     22          1\\n    24      2     20          1\\n    25      1     23          1\\n    26      2     24          1\\n    27      9     25          1\\n    28     10     26          1\\n    29     15     27          1\\n    30     15     28          1\\n    31     15     29          1\\n    32     16     30          1\\n    33     16     31          1\\n    34     16     32          1\\n    35     17     33          1\\n    36     18     34          1\\n    37     18     35          1\\n    38     18     36          1\\n    39     19     37          1\\n    40     19     38          1\\n    41     19     39          1\\n    42     20     40          1\\n    43     21     41          1\\n    44     21     42          1\\n    45     21     43          1\\n    46     22     44          1\\n    47     22     45          1\\n    48     22     46          1\\n    49     47     48          1\\n    50     48     49         ar\\n    51     49     50         ar\\n    52     50     51         ar\\n    53     51     52         ar\\n    54     52     53         ar\\n    55     53     48         ar\\n    56     47     54          1\\n    57     47     55          1\\n    58     49     56          1\\n    59     50     57          1\\n    60     51     58          1\\n    61     52     59          1\\n    62     53     60          1\\n    63     10     47          1\\n    64     61     62          1\\n    65     62     63         ar\\n    66     63     64         ar\\n    67     64     65         ar\\n    68     65     66         ar\\n    69     66     67         ar\\n    70     67     62         ar\\n    71     61     68          1\\n    72     61     69          1\\n    73     63     70          1\\n    74     64     71          1\\n    75     65     72          1\\n    76     66     73          1\\n    77     67     74          1\\n    78      1     61          1\\n\",\"mol2\");\n",
       "\tviewer_16863463882099097.setStyle({\"stick\": {\"radius\": 0.1}, \"sphere\": {\"scale\": 0.15}});\n",
       "\tviewer_16863463882099097.setHoverable({},true,\"\\n            function(atom,viewer,event,container) {\\n                if(!atom.label) {\\n                    atom.label = viewer.addLabel(atom.elem + atom.serial, {position: atom, backgroundColor: 'mintcream', fontColor:'black'});\\n                }\\n            }\\n            \",\"\\n            function(atom,viewer) { \\n                if(atom.label) {\\n                    viewer.removeLabel(atom.label);\\n                    delete atom.label;\\n                }\\n            }\\n            \");\n",
       "\tviewer_16863463882099097.zoomTo();\n",
       "\tviewer_16863463882099097.setBackgroundColor(null);\n",
       "viewer_16863463882099097.render();\n",
       "});\n",
       "</script>"
      ]
     },
     "metadata": {},
     "output_type": "display_data"
    },
    {
     "data": {
      "text/plain": [
       "Conformer(name='3_6_6', formula='C30 H38 Br2 N2 O2')"
      ]
     },
     "execution_count": 19,
     "metadata": {},
     "output_type": "execute_result"
    }
   ],
   "source": [
    "clib[42][24]"
   ]
  },
  {
   "attachments": {},
   "cell_type": "markdown",
   "metadata": {},
   "source": [
    "3.5. Create grid"
   ]
  },
  {
   "cell_type": "code",
   "execution_count": 21,
   "metadata": {},
   "outputs": [
    {
     "name": "stdout",
     "output_type": "stream",
     "text": [
      "(7106, 3)\n"
     ]
    },
    {
     "name": "stderr",
     "output_type": "stream",
     "text": [
      "100%|██████████| 75/75 [00:00<00:00, 1638.31it/s]\n"
     ]
    },
    {
     "data": {
      "text/plain": [
       "CompletedProcess(args=['molli', 'grid', '--mlib', 'ncsa-testing-data/test_conformers.mlib', '-o', 'ncsa-testing-data/grid.npy'], returncode=0)"
      ]
     },
     "execution_count": 21,
     "metadata": {},
     "output_type": "execute_result"
    }
   ],
   "source": [
    "subprocess.run(['molli', 'grid', '--mlib', 'ncsa-testing-data/test_conformers.mlib', '-o', 'ncsa-testing-data/grid.npy'])"
   ]
  },
  {
   "attachments": {},
   "cell_type": "markdown",
   "metadata": {},
   "source": [
    "4. ASO description of molecules"
   ]
  },
  {
   "cell_type": "code",
   "execution_count": 27,
   "metadata": {},
   "outputs": [
    {
     "name": "stdout",
     "output_type": "stream",
     "text": [
      "Allocating storage for descriptors\n",
      "Will compute descriptor ASO using 128 cores.\n",
      "Grid shape: (7106, 3)\n"
     ]
    },
    {
     "name": "stderr",
     "output_type": "stream",
     "text": [
      "Loading batches of conformers: 0it [00:00, ?it/s]\n",
      "Submitting calculations:   0%|          | 0/75 [00:00<?, ?it/s]\u001b[A\n",
      "Submitting calculations:  56%|█████▌    | 42/75 [00:07<00:05,  5.67it/s]\u001b[A\n",
      "Submitting calculations:  57%|█████▋    | 43/75 [00:07<00:06,  5.27it/s]\u001b[A\n",
      "                                                                        \u001b[A\n",
      "\n",
      "Gathering calculation results:   0%|          | 0/75 [00:00<?, ?it/s]\u001b[A\u001b[A\n",
      "\n",
      "Loading batches of conformers: 1it [00:14, 14.18s/it]                \u001b[A\u001b[A\n"
     ]
    },
    {
     "data": {
      "text/plain": [
       "CompletedProcess(args=['molli', 'gbca', 'aso', 'ncsa-testing-data/test_conformers.mlib', '-g', 'ncsa-testing-data/grid.npy', '-o', 'ncsa-testing-data/aso.h5'], returncode=0)"
      ]
     },
     "execution_count": 27,
     "metadata": {},
     "output_type": "execute_result"
    }
   ],
   "source": [
    "subprocess.run(['molli', 'gbca', 'aso', 'ncsa-testing-data/test_conformers.mlib', '-g', 'ncsa-testing-data/grid.npy', '-o', 'ncsa-testing-data/aso.h5'])\n",
    "# tqdm looks messed up"
   ]
  },
  {
   "cell_type": "code",
   "execution_count": 29,
   "metadata": {},
   "outputs": [],
   "source": [
    "# subprocess.run(['molli', 'grid', '--mlib', '../../out_conformers1/test_conformers.mlib', '-o', 'molli/lib_gen/test_aso'])\n"
   ]
  },
  {
   "cell_type": "code",
   "execution_count": 3,
   "metadata": {},
   "outputs": [
    {
     "name": "stdout",
     "output_type": "stream",
     "text": [
      "grid shape: (6336, 3)\n",
      "Allocating storage for descriptors\n"
     ]
    },
    {
     "name": "stderr",
     "output_type": "stream",
     "text": [
      "Loading batches of conformers: 0it [00:00, ?it/s]\n",
      "Submitting calculations:   0%|          | 0/75 [00:00<?, ?it/s]\u001b[A\n",
      "Submitting calculations:  47%|████▋     | 35/75 [00:02<00:03, 12.01it/s]\u001b[A\n",
      "Submitting calculations:  49%|████▉     | 37/75 [00:03<00:04,  8.90it/s]\u001b[A\n",
      "Submitting calculations:  51%|█████     | 38/75 [00:04<00:05,  6.66it/s]\u001b[A\n",
      "Submitting calculations:  52%|█████▏    | 39/75 [00:05<00:05,  6.06it/s]\u001b[A\n",
      "Submitting calculations:  95%|█████████▍| 71/75 [00:05<00:00, 21.04it/s]\u001b[A\n",
      "Submitting calculations: 100%|██████████| 75/75 [00:09<00:00,  6.61it/s]\u001b[A\n",
      "                                                                        \u001b[A\n",
      "\n",
      "Gathering calculation results:   0%|          | 0/75 [00:00<?, ?it/s]\u001b[A\u001b[A\n",
      "\n",
      "Loading batches of conformers: 1it [00:10, 10.23s/it]                \u001b[A\u001b[A\n"
     ]
    },
    {
     "data": {
      "text/plain": [
       "CompletedProcess(args=['molli', 'descriptors', '../../out_conformers1/test4_conformers.mlib', '-o', '../../test_aso_data/test_aso.h5'], returncode=0)"
      ]
     },
     "execution_count": 3,
     "metadata": {},
     "output_type": "execute_result"
    }
   ],
   "source": [
    "#subprocess.run(['molli', 'descriptors', '../../out_conformers1/test4_conformers.mlib', '-o', '../../test_aso_data/test_aso.h5'])"
   ]
  },
  {
   "attachments": {},
   "cell_type": "markdown",
   "metadata": {},
   "source": [
    "5. post-processing/dimension-reduction/analysis"
   ]
  },
  {
   "cell_type": "code",
   "execution_count": 109,
   "metadata": {},
   "outputs": [
    {
     "name": "stderr",
     "output_type": "stream",
     "text": [
      "100%|██████████| 75/75 [00:00<00:00, 5077.28it/s]\n",
      "/home/ethangm2/miniconda3/envs/NCSA-workflow-dev/lib/python3.10/site-packages/sklearn/cluster/_kmeans.py:870: FutureWarning: The default value of `n_init` will change from 10 to 'auto' in 1.4. Set the value of `n_init` explicitly to suppress the warning\n",
      "  warnings.warn(\n",
      "/home/ethangm2/miniconda3/envs/NCSA-workflow-dev/lib/python3.10/site-packages/threadpoolctl.py:546: RuntimeWarning: \n",
      "Found Intel OpenMP ('libiomp') and LLVM OpenMP ('libomp') loaded at\n",
      "the same time. Both libraries are known to be incompatible and this\n",
      "can cause random crashes or deadlocks on Linux when loaded in the\n",
      "same Python program.\n",
      "Using threadpoolctl may cause crashes or deadlocks. For more\n",
      "information and possible workarounds, please see\n",
      "    https://github.com/joblib/threadpoolctl/blob/master/multiple_openmp.md\n",
      "\n",
      "  warnings.warn(msg, RuntimeWarning)\n"
     ]
    },
    {
     "name": "stdout",
     "output_type": "stream",
     "text": [
      "AAAHHH\n"
     ]
    },
    {
     "name": "stderr",
     "output_type": "stream",
     "text": [
      "/home/ethangm2/miniconda3/envs/NCSA-workflow-dev/lib/python3.10/site-packages/sklearn/cluster/_kmeans.py:870: FutureWarning: The default value of `n_init` will change from 10 to 'auto' in 1.4. Set the value of `n_init` explicitly to suppress the warning\n",
      "  warnings.warn(\n",
      "/home/ethangm2/miniconda3/envs/NCSA-workflow-dev/lib/python3.10/site-packages/threadpoolctl.py:546: RuntimeWarning: \n",
      "Found Intel OpenMP ('libiomp') and LLVM OpenMP ('libomp') loaded at\n",
      "the same time. Both libraries are known to be incompatible and this\n",
      "can cause random crashes or deadlocks on Linux when loaded in the\n",
      "same Python program.\n",
      "Using threadpoolctl may cause crashes or deadlocks. For more\n",
      "information and possible workarounds, please see\n",
      "    https://github.com/joblib/threadpoolctl/blob/master/multiple_openmp.md\n",
      "\n",
      "  warnings.warn(msg, RuntimeWarning)\n"
     ]
    },
    {
     "name": "stdout",
     "output_type": "stream",
     "text": [
      "AAAHHH\n"
     ]
    },
    {
     "name": "stderr",
     "output_type": "stream",
     "text": [
      "/home/ethangm2/miniconda3/envs/NCSA-workflow-dev/lib/python3.10/site-packages/sklearn/cluster/_kmeans.py:870: FutureWarning: The default value of `n_init` will change from 10 to 'auto' in 1.4. Set the value of `n_init` explicitly to suppress the warning\n",
      "  warnings.warn(\n",
      "/home/ethangm2/miniconda3/envs/NCSA-workflow-dev/lib/python3.10/site-packages/threadpoolctl.py:546: RuntimeWarning: \n",
      "Found Intel OpenMP ('libiomp') and LLVM OpenMP ('libomp') loaded at\n",
      "the same time. Both libraries are known to be incompatible and this\n",
      "can cause random crashes or deadlocks on Linux when loaded in the\n",
      "same Python program.\n",
      "Using threadpoolctl may cause crashes or deadlocks. For more\n",
      "information and possible workarounds, please see\n",
      "    https://github.com/joblib/threadpoolctl/blob/master/multiple_openmp.md\n",
      "\n",
      "  warnings.warn(msg, RuntimeWarning)\n"
     ]
    },
    {
     "name": "stdout",
     "output_type": "stream",
     "text": [
      "AAAHHH\n"
     ]
    },
    {
     "name": "stderr",
     "output_type": "stream",
     "text": [
      "/home/ethangm2/miniconda3/envs/NCSA-workflow-dev/lib/python3.10/site-packages/sklearn/cluster/_kmeans.py:870: FutureWarning: The default value of `n_init` will change from 10 to 'auto' in 1.4. Set the value of `n_init` explicitly to suppress the warning\n",
      "  warnings.warn(\n",
      "/home/ethangm2/miniconda3/envs/NCSA-workflow-dev/lib/python3.10/site-packages/threadpoolctl.py:546: RuntimeWarning: \n",
      "Found Intel OpenMP ('libiomp') and LLVM OpenMP ('libomp') loaded at\n",
      "the same time. Both libraries are known to be incompatible and this\n",
      "can cause random crashes or deadlocks on Linux when loaded in the\n",
      "same Python program.\n",
      "Using threadpoolctl may cause crashes or deadlocks. For more\n",
      "information and possible workarounds, please see\n",
      "    https://github.com/joblib/threadpoolctl/blob/master/multiple_openmp.md\n",
      "\n",
      "  warnings.warn(msg, RuntimeWarning)\n"
     ]
    },
    {
     "name": "stdout",
     "output_type": "stream",
     "text": [
      "AAAHHH\n"
     ]
    },
    {
     "name": "stderr",
     "output_type": "stream",
     "text": [
      "/home/ethangm2/miniconda3/envs/NCSA-workflow-dev/lib/python3.10/site-packages/sklearn/cluster/_kmeans.py:870: FutureWarning: The default value of `n_init` will change from 10 to 'auto' in 1.4. Set the value of `n_init` explicitly to suppress the warning\n",
      "  warnings.warn(\n",
      "/home/ethangm2/miniconda3/envs/NCSA-workflow-dev/lib/python3.10/site-packages/threadpoolctl.py:546: RuntimeWarning: \n",
      "Found Intel OpenMP ('libiomp') and LLVM OpenMP ('libomp') loaded at\n",
      "the same time. Both libraries are known to be incompatible and this\n",
      "can cause random crashes or deadlocks on Linux when loaded in the\n",
      "same Python program.\n",
      "Using threadpoolctl may cause crashes or deadlocks. For more\n",
      "information and possible workarounds, please see\n",
      "    https://github.com/joblib/threadpoolctl/blob/master/multiple_openmp.md\n",
      "\n",
      "  warnings.warn(msg, RuntimeWarning)\n"
     ]
    },
    {
     "name": "stdout",
     "output_type": "stream",
     "text": [
      "AAAHHH\n"
     ]
    },
    {
     "name": "stderr",
     "output_type": "stream",
     "text": [
      "/home/ethangm2/miniconda3/envs/NCSA-workflow-dev/lib/python3.10/site-packages/sklearn/cluster/_kmeans.py:870: FutureWarning: The default value of `n_init` will change from 10 to 'auto' in 1.4. Set the value of `n_init` explicitly to suppress the warning\n",
      "  warnings.warn(\n",
      "/home/ethangm2/miniconda3/envs/NCSA-workflow-dev/lib/python3.10/site-packages/threadpoolctl.py:546: RuntimeWarning: \n",
      "Found Intel OpenMP ('libiomp') and LLVM OpenMP ('libomp') loaded at\n",
      "the same time. Both libraries are known to be incompatible and this\n",
      "can cause random crashes or deadlocks on Linux when loaded in the\n",
      "same Python program.\n",
      "Using threadpoolctl may cause crashes or deadlocks. For more\n",
      "information and possible workarounds, please see\n",
      "    https://github.com/joblib/threadpoolctl/blob/master/multiple_openmp.md\n",
      "\n",
      "  warnings.warn(msg, RuntimeWarning)\n"
     ]
    },
    {
     "name": "stdout",
     "output_type": "stream",
     "text": [
      "AAAHHH\n"
     ]
    },
    {
     "name": "stderr",
     "output_type": "stream",
     "text": [
      "/home/ethangm2/miniconda3/envs/NCSA-workflow-dev/lib/python3.10/site-packages/sklearn/cluster/_kmeans.py:870: FutureWarning: The default value of `n_init` will change from 10 to 'auto' in 1.4. Set the value of `n_init` explicitly to suppress the warning\n",
      "  warnings.warn(\n",
      "/home/ethangm2/miniconda3/envs/NCSA-workflow-dev/lib/python3.10/site-packages/threadpoolctl.py:546: RuntimeWarning: \n",
      "Found Intel OpenMP ('libiomp') and LLVM OpenMP ('libomp') loaded at\n",
      "the same time. Both libraries are known to be incompatible and this\n",
      "can cause random crashes or deadlocks on Linux when loaded in the\n",
      "same Python program.\n",
      "Using threadpoolctl may cause crashes or deadlocks. For more\n",
      "information and possible workarounds, please see\n",
      "    https://github.com/joblib/threadpoolctl/blob/master/multiple_openmp.md\n",
      "\n",
      "  warnings.warn(msg, RuntimeWarning)\n"
     ]
    },
    {
     "name": "stdout",
     "output_type": "stream",
     "text": [
      "AAAHHH\n"
     ]
    },
    {
     "name": "stderr",
     "output_type": "stream",
     "text": [
      "/home/ethangm2/miniconda3/envs/NCSA-workflow-dev/lib/python3.10/site-packages/sklearn/cluster/_kmeans.py:870: FutureWarning: The default value of `n_init` will change from 10 to 'auto' in 1.4. Set the value of `n_init` explicitly to suppress the warning\n",
      "  warnings.warn(\n",
      "/home/ethangm2/miniconda3/envs/NCSA-workflow-dev/lib/python3.10/site-packages/threadpoolctl.py:546: RuntimeWarning: \n",
      "Found Intel OpenMP ('libiomp') and LLVM OpenMP ('libomp') loaded at\n",
      "the same time. Both libraries are known to be incompatible and this\n",
      "can cause random crashes or deadlocks on Linux when loaded in the\n",
      "same Python program.\n",
      "Using threadpoolctl may cause crashes or deadlocks. For more\n",
      "information and possible workarounds, please see\n",
      "    https://github.com/joblib/threadpoolctl/blob/master/multiple_openmp.md\n",
      "\n",
      "  warnings.warn(msg, RuntimeWarning)\n"
     ]
    },
    {
     "ename": "KeyboardInterrupt",
     "evalue": "",
     "output_type": "error",
     "traceback": [
      "\u001b[0;31m---------------------------------------------------------------------------\u001b[0m",
      "\u001b[0;31mKeyboardInterrupt\u001b[0m                         Traceback (most recent call last)",
      "Cell \u001b[0;32mIn[109], line 1\u001b[0m\n\u001b[0;32m----> 1\u001b[0m subprocess\u001b[39m.\u001b[39;49mrun(         \u001b[39m# DOESN'T QUIT! also check functionality for plotting and pca\u001b[39;49;00m\n\u001b[1;32m      2\u001b[0m     [                   \u001b[39m# should be better way to implement post_processing stuff\u001b[39;49;00m\n\u001b[1;32m      3\u001b[0m         \u001b[39m'\u001b[39;49m\u001b[39mmolli\u001b[39;49m\u001b[39m'\u001b[39;49m, \n\u001b[1;32m      4\u001b[0m         \u001b[39m'\u001b[39;49m\u001b[39mcluster\u001b[39;49m\u001b[39m'\u001b[39;49m, \n\u001b[1;32m      5\u001b[0m         \u001b[39m'\u001b[39;49m\u001b[39m../../test_aso_data/test_aso.h5\u001b[39;49m\u001b[39m'\u001b[39;49m, \n\u001b[1;32m      6\u001b[0m         \u001b[39m'\u001b[39;49m\u001b[39m-o\u001b[39;49m\u001b[39m'\u001b[39;49m, \n\u001b[1;32m      7\u001b[0m         \u001b[39m'\u001b[39;49m\u001b[39m../../processed_data/test/test2\u001b[39;49m\u001b[39m'\u001b[39;49m, \n\u001b[1;32m      8\u001b[0m         \u001b[39m'\u001b[39;49m\u001b[39m-v\u001b[39;49m\u001b[39m'\u001b[39;49m,\n\u001b[1;32m      9\u001b[0m         \u001b[39m'\u001b[39;49m\u001b[39mfalse\u001b[39;49m\u001b[39m'\u001b[39;49m,\n\u001b[1;32m     10\u001b[0m         \u001b[39m'\u001b[39;49m\u001b[39m-c\u001b[39;49m\u001b[39m'\u001b[39;49m,\n\u001b[1;32m     11\u001b[0m         \u001b[39m'\u001b[39;49m\u001b[39mfalse\u001b[39;49m\u001b[39m'\u001b[39;49m,\n\u001b[1;32m     12\u001b[0m     ]\n\u001b[1;32m     13\u001b[0m )\n",
      "File \u001b[0;32m~/miniconda3/envs/NCSA-workflow-dev/lib/python3.10/subprocess.py:505\u001b[0m, in \u001b[0;36mrun\u001b[0;34m(input, capture_output, timeout, check, *popenargs, **kwargs)\u001b[0m\n\u001b[1;32m    503\u001b[0m \u001b[39mwith\u001b[39;00m Popen(\u001b[39m*\u001b[39mpopenargs, \u001b[39m*\u001b[39m\u001b[39m*\u001b[39mkwargs) \u001b[39mas\u001b[39;00m process:\n\u001b[1;32m    504\u001b[0m     \u001b[39mtry\u001b[39;00m:\n\u001b[0;32m--> 505\u001b[0m         stdout, stderr \u001b[39m=\u001b[39m process\u001b[39m.\u001b[39;49mcommunicate(\u001b[39minput\u001b[39;49m, timeout\u001b[39m=\u001b[39;49mtimeout)\n\u001b[1;32m    506\u001b[0m     \u001b[39mexcept\u001b[39;00m TimeoutExpired \u001b[39mas\u001b[39;00m exc:\n\u001b[1;32m    507\u001b[0m         process\u001b[39m.\u001b[39mkill()\n",
      "File \u001b[0;32m~/miniconda3/envs/NCSA-workflow-dev/lib/python3.10/subprocess.py:1146\u001b[0m, in \u001b[0;36mPopen.communicate\u001b[0;34m(self, input, timeout)\u001b[0m\n\u001b[1;32m   1144\u001b[0m         stderr \u001b[39m=\u001b[39m \u001b[39mself\u001b[39m\u001b[39m.\u001b[39mstderr\u001b[39m.\u001b[39mread()\n\u001b[1;32m   1145\u001b[0m         \u001b[39mself\u001b[39m\u001b[39m.\u001b[39mstderr\u001b[39m.\u001b[39mclose()\n\u001b[0;32m-> 1146\u001b[0m     \u001b[39mself\u001b[39;49m\u001b[39m.\u001b[39;49mwait()\n\u001b[1;32m   1147\u001b[0m \u001b[39melse\u001b[39;00m:\n\u001b[1;32m   1148\u001b[0m     \u001b[39mif\u001b[39;00m timeout \u001b[39mis\u001b[39;00m \u001b[39mnot\u001b[39;00m \u001b[39mNone\u001b[39;00m:\n",
      "File \u001b[0;32m~/miniconda3/envs/NCSA-workflow-dev/lib/python3.10/subprocess.py:1209\u001b[0m, in \u001b[0;36mPopen.wait\u001b[0;34m(self, timeout)\u001b[0m\n\u001b[1;32m   1207\u001b[0m     endtime \u001b[39m=\u001b[39m _time() \u001b[39m+\u001b[39m timeout\n\u001b[1;32m   1208\u001b[0m \u001b[39mtry\u001b[39;00m:\n\u001b[0;32m-> 1209\u001b[0m     \u001b[39mreturn\u001b[39;00m \u001b[39mself\u001b[39;49m\u001b[39m.\u001b[39;49m_wait(timeout\u001b[39m=\u001b[39;49mtimeout)\n\u001b[1;32m   1210\u001b[0m \u001b[39mexcept\u001b[39;00m \u001b[39mKeyboardInterrupt\u001b[39;00m:\n\u001b[1;32m   1211\u001b[0m     \u001b[39m# https://bugs.python.org/issue25942\u001b[39;00m\n\u001b[1;32m   1212\u001b[0m     \u001b[39m# The first keyboard interrupt waits briefly for the child to\u001b[39;00m\n\u001b[1;32m   1213\u001b[0m     \u001b[39m# exit under the common assumption that it also received the ^C\u001b[39;00m\n\u001b[1;32m   1214\u001b[0m     \u001b[39m# generated SIGINT and will exit rapidly.\u001b[39;00m\n\u001b[1;32m   1215\u001b[0m     \u001b[39mif\u001b[39;00m timeout \u001b[39mis\u001b[39;00m \u001b[39mnot\u001b[39;00m \u001b[39mNone\u001b[39;00m:\n",
      "File \u001b[0;32m~/miniconda3/envs/NCSA-workflow-dev/lib/python3.10/subprocess.py:1959\u001b[0m, in \u001b[0;36mPopen._wait\u001b[0;34m(self, timeout)\u001b[0m\n\u001b[1;32m   1957\u001b[0m \u001b[39mif\u001b[39;00m \u001b[39mself\u001b[39m\u001b[39m.\u001b[39mreturncode \u001b[39mis\u001b[39;00m \u001b[39mnot\u001b[39;00m \u001b[39mNone\u001b[39;00m:\n\u001b[1;32m   1958\u001b[0m     \u001b[39mbreak\u001b[39;00m  \u001b[39m# Another thread waited.\u001b[39;00m\n\u001b[0;32m-> 1959\u001b[0m (pid, sts) \u001b[39m=\u001b[39m \u001b[39mself\u001b[39;49m\u001b[39m.\u001b[39;49m_try_wait(\u001b[39m0\u001b[39;49m)\n\u001b[1;32m   1960\u001b[0m \u001b[39m# Check the pid and loop as waitpid has been known to\u001b[39;00m\n\u001b[1;32m   1961\u001b[0m \u001b[39m# return 0 even without WNOHANG in odd situations.\u001b[39;00m\n\u001b[1;32m   1962\u001b[0m \u001b[39m# http://bugs.python.org/issue14396.\u001b[39;00m\n\u001b[1;32m   1963\u001b[0m \u001b[39mif\u001b[39;00m pid \u001b[39m==\u001b[39m \u001b[39mself\u001b[39m\u001b[39m.\u001b[39mpid:\n",
      "File \u001b[0;32m~/miniconda3/envs/NCSA-workflow-dev/lib/python3.10/subprocess.py:1917\u001b[0m, in \u001b[0;36mPopen._try_wait\u001b[0;34m(self, wait_flags)\u001b[0m\n\u001b[1;32m   1915\u001b[0m \u001b[39m\u001b[39m\u001b[39m\"\"\"All callers to this function MUST hold self._waitpid_lock.\"\"\"\u001b[39;00m\n\u001b[1;32m   1916\u001b[0m \u001b[39mtry\u001b[39;00m:\n\u001b[0;32m-> 1917\u001b[0m     (pid, sts) \u001b[39m=\u001b[39m os\u001b[39m.\u001b[39;49mwaitpid(\u001b[39mself\u001b[39;49m\u001b[39m.\u001b[39;49mpid, wait_flags)\n\u001b[1;32m   1918\u001b[0m \u001b[39mexcept\u001b[39;00m \u001b[39mChildProcessError\u001b[39;00m:\n\u001b[1;32m   1919\u001b[0m     \u001b[39m# This happens if SIGCLD is set to be ignored or waiting\u001b[39;00m\n\u001b[1;32m   1920\u001b[0m     \u001b[39m# for child processes has otherwise been disabled for our\u001b[39;00m\n\u001b[1;32m   1921\u001b[0m     \u001b[39m# process.  This child is dead, we can't get the status.\u001b[39;00m\n\u001b[1;32m   1922\u001b[0m     pid \u001b[39m=\u001b[39m \u001b[39mself\u001b[39m\u001b[39m.\u001b[39mpid\n",
      "\u001b[0;31mKeyboardInterrupt\u001b[0m: "
     ]
    }
   ],
   "source": [
    "# subprocess.run(         # DOESN'T QUIT! also check functionality for plotting and pca\n",
    "#     [                   # should be better way to implement post_processing stuff\n",
    "#         'molli', \n",
    "#         'cluster', \n",
    "#         '../../test_aso_data/test_aso.h5', \n",
    "#         '-o', \n",
    "#         '../../processed_data/test/test2', \n",
    "#         '-v',\n",
    "#         'false',\n",
    "#         '-c',\n",
    "#         'false',\n",
    "#     ]\n",
    "# )"
   ]
  },
  {
   "cell_type": "code",
   "execution_count": null,
   "metadata": {},
   "outputs": [],
   "source": []
  }
 ],
 "metadata": {
  "kernelspec": {
   "display_name": "NCSA-workflow-dev",
   "language": "python",
   "name": "python3"
  },
  "language_info": {
   "codemirror_mode": {
    "name": "ipython",
    "version": 3
   },
   "file_extension": ".py",
   "mimetype": "text/x-python",
   "name": "python",
   "nbconvert_exporter": "python",
   "pygments_lexer": "ipython3",
   "version": "3.10.11"
  },
  "orig_nbformat": 4
 },
 "nbformat": 4,
 "nbformat_minor": 2
}
