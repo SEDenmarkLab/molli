{
 "cells": [
  {
   "attachments": {},
   "cell_type": "markdown",
   "metadata": {},
   "source": [
    "To-Do: entire workflow\n",
    "chemdraw parse -> combinatorial expansion -> conformer generation -> aso description -> post-processing/dimension-reduction/analysis -> plot/output data"
   ]
  },
  {
   "attachments": {},
   "cell_type": "markdown",
   "metadata": {},
   "source": [
    "1. ChemDraw Parsing"
   ]
  },
  {
   "cell_type": "code",
   "execution_count": 1,
   "metadata": {},
   "outputs": [],
   "source": [
    "import molli as ml\n",
    "import molli.visual\n",
    "import subprocess"
   ]
  },
  {
   "cell_type": "code",
   "execution_count": 2,
   "metadata": {},
   "outputs": [],
   "source": [
    "cores = ml.files.box_cores_test_1\n",
    "subs = ml.files.box_substituents_test_1"
   ]
  },
  {
   "cell_type": "code",
   "execution_count": 3,
   "metadata": {},
   "outputs": [
    {
     "name": "stderr",
     "output_type": "stream",
     "text": [
      "100%|██████████| 5/5 [00:00<00:00, 100.99it/s]\n",
      "100%|██████████| 15/15 [00:00<00:00, 357.11it/s]\n"
     ]
    },
    {
     "data": {
      "text/plain": [
       "CompletedProcess(args=['molli', 'parse', '--hadd', '/home/ethangm2/miniconda3/envs/NCSA-workflow-2/lib/python3.11/site-packages/molli/files/BOX_substituents_test_1.cdxml', '-o', '../ncsa-testing/ncsa-testing-data/BOX_subs_new_env.mlib'], returncode=0)"
      ]
     },
     "execution_count": 3,
     "metadata": {},
     "output_type": "execute_result"
    }
   ],
   "source": [
    "subprocess.run(['molli', 'parse', '--hadd', f'{cores}', '-o', '../ncsa-testing/ncsa-testing-data/BOX_cores_new_env.mlib'])\n",
    "subprocess.run(['molli', 'parse', '--hadd', f'{subs}', '-o', '../ncsa-testing/ncsa-testing-data/BOX_subs_new_env.mlib'])"
   ]
  },
  {
   "cell_type": "code",
   "execution_count": 4,
   "metadata": {},
   "outputs": [
    {
     "name": "stdout",
     "output_type": "stream",
     "text": [
      "5\n"
     ]
    },
    {
     "data": {
      "application/3dmoljs_load.v0": "<div id=\"3dmolviewer_16866209354042625\"  style=\"position: relative; width: 1000px; height: 500px\">\n        <p id=\"3dmolwarning_16866209354042625\" style=\"background-color:#ffcccc;color:black\">You appear to be running in JupyterLab (or JavaScript failed to load for some other reason).  You need to install the 3dmol extension: <br>\n        <tt>jupyter labextension install jupyterlab_3dmol</tt></p>\n        </div>\n<script>\n\nvar loadScriptAsync = function(uri){\n  return new Promise((resolve, reject) => {\n    //this is to ignore the existence of requirejs amd\n    var savedexports, savedmodule;\n    if (typeof exports !== 'undefined') savedexports = exports;\n    else exports = {}\n    if (typeof module !== 'undefined') savedmodule = module;\n    else module = {}\n\n    var tag = document.createElement('script');\n    tag.src = uri;\n    tag.async = true;\n    tag.onload = () => {\n        exports = savedexports;\n        module = savedmodule;\n        resolve();\n    };\n  var firstScriptTag = document.getElementsByTagName('script')[0];\n  firstScriptTag.parentNode.insertBefore(tag, firstScriptTag);\n});\n};\n\nif(typeof $3Dmolpromise === 'undefined') {\n$3Dmolpromise = null;\n  $3Dmolpromise = loadScriptAsync('https://cdnjs.cloudflare.com/ajax/libs/3Dmol/2.0.1/3Dmol-min.js');\n}\n\nvar viewer_16866209354042625 = null;\nvar warn = document.getElementById(\"3dmolwarning_16866209354042625\");\nif(warn) {\n    warn.parentNode.removeChild(warn);\n}\n$3Dmolpromise.then(function() {\nviewer_16866209354042625 = $3Dmol.createViewer(document.getElementById(\"3dmolviewer_16866209354042625\"),{backgroundColor:\"white\"});\nviewer_16866209354042625.zoomTo();\n\tviewer_16866209354042625.addModel(\"# Produced with molli package\\n@<TRIPOS>MOLECULE\\n1\\n30 32 0 0 0\\nSMALL\\nUSER_CHARGES\\n\\n@<TRIPOS>ATOM\\n     1 C       2.653877    -0.900810     0.000000 C          1 UNL1 0.0\\n     2 C       3.535127     0.312731     0.000000 C          1 UNL1 0.0\\n     3 O       2.653877     1.526273     0.000000 O          1 UNL1 0.0\\n     4 C       1.226794     1.062732     0.000000 C          1 UNL1 0.0\\n     5 N       1.226794    -0.437269     0.000000 N          1 UNL1 0.0\\n     6 C      -0.072164     1.812732     0.000000 C          1 UNL1 0.0\\n     7 C      -1.371123     1.062732     0.000000 C          1 UNL1 0.0\\n     8 O      -2.798206     1.526273     0.000000 O          1 UNL1 0.0\\n     9 C      -3.679456     0.312731     0.000000 C          1 UNL1 0.0\\n    10 C      -2.798206    -0.900810     0.000000 C          1 UNL1 0.0\\n    11 N      -1.371123    -0.437269     0.000000 N          1 UNL1 0.0\\n    12 A1     -3.029977    -1.614352    -1.299453 Unknown    1 UNL1 0.0\\n    13 A1      2.885648    -1.614352     1.299453 Unknown    1 UNL1 0.0\\n    14 C      -0.072164    -1.187268     0.000000 C          1 UNL1 0.0\\n    15 Br     -0.072164    -1.187268     1.499931 Br         1 UNL1 0.0\\n    16 Br      0.677836    -2.486227     0.000000 Br         1 UNL1 0.0\\n    17 C      -0.072164     1.812732     1.500000 C          1 UNL1 0.0\\n    18 C       1.226794     2.562732     0.000000 C          1 UNL1 0.0\\n    19 H       2.859825    -1.534673    -0.837080 H          1 UNL1 0.0\\n    20 H       4.148880     0.312731     0.876544 H          1 UNL1 0.0\\n    21 H       4.148880     0.312731    -0.876544 H          1 UNL1 0.0\\n    22 H      -4.293208     0.312731     0.876544 H          1 UNL1 0.0\\n    23 H      -4.293208     0.312731    -0.876544 H          1 UNL1 0.0\\n    24 H      -3.004154    -1.534673     0.837080 H          1 UNL1 0.0\\n    25 H       0.010549     0.807322     1.856667 H          1 UNL1 0.0\\n    26 H      -0.984231     2.243804     1.856667 H          1 UNL1 0.0\\n    27 H       0.757189     2.387068     1.856667 H          1 UNL1 0.0\\n    28 H       1.787896     2.304234     0.873638 H          1 UNL1 0.0\\n    29 H       1.031246     3.614711     0.000027 H          1 UNL1 0.0\\n    30 H       1.787873     2.304274    -0.873665 H          1 UNL1 0.0\\n@<TRIPOS>BOND\\n     1      1      2          1\\n     2      2      3          1\\n     3      3      4          1\\n     4      4      5          2\\n     5      5      1          1\\n     6      4      6          1\\n     7      6      7          1\\n     8      7      8          1\\n     9      8      9          1\\n    10      9     10          1\\n    11     10     11          1\\n    12     11      7          2\\n    13     10     12          1\\n    14      1     13          1\\n    15     11     14          1\\n    16     14      5          1\\n    17     14     15          1\\n    18     14     16          1\\n    19      6     17          1\\n    20      6     18          1\\n    21      1     19          1\\n    22      2     20          1\\n    23      2     21          1\\n    24      9     22          1\\n    25      9     23          1\\n    26     10     24          1\\n    27     17     25          1\\n    28     17     26          1\\n    29     17     27          1\\n    30     18     28          1\\n    31     18     29          1\\n    32     18     30          1\\n\",\"mol2\");\n\tviewer_16866209354042625.setStyle({\"stick\": {\"radius\": 0.1}, \"sphere\": {\"scale\": 0.15}});\n\tviewer_16866209354042625.setHoverable({},true,\"\\n            function(atom,viewer,event,container) {\\n                if(!atom.label) {\\n                    atom.label = viewer.addLabel(atom.elem + atom.serial, {position: atom, backgroundColor: 'mintcream', fontColor:'black'});\\n                }\\n            }\\n            \",\"\\n            function(atom,viewer) { \\n                if(atom.label) {\\n                    viewer.removeLabel(atom.label);\\n                    delete atom.label;\\n                }\\n            }\\n            \");\n\tviewer_16866209354042625.zoomTo();\n\tviewer_16866209354042625.setBackgroundColor(null);\nviewer_16866209354042625.render();\n});\n</script>",
      "text/html": [
       "<div id=\"3dmolviewer_16866209354042625\"  style=\"position: relative; width: 1000px; height: 500px\">\n",
       "        <p id=\"3dmolwarning_16866209354042625\" style=\"background-color:#ffcccc;color:black\">You appear to be running in JupyterLab (or JavaScript failed to load for some other reason).  You need to install the 3dmol extension: <br>\n",
       "        <tt>jupyter labextension install jupyterlab_3dmol</tt></p>\n",
       "        </div>\n",
       "<script>\n",
       "\n",
       "var loadScriptAsync = function(uri){\n",
       "  return new Promise((resolve, reject) => {\n",
       "    //this is to ignore the existence of requirejs amd\n",
       "    var savedexports, savedmodule;\n",
       "    if (typeof exports !== 'undefined') savedexports = exports;\n",
       "    else exports = {}\n",
       "    if (typeof module !== 'undefined') savedmodule = module;\n",
       "    else module = {}\n",
       "\n",
       "    var tag = document.createElement('script');\n",
       "    tag.src = uri;\n",
       "    tag.async = true;\n",
       "    tag.onload = () => {\n",
       "        exports = savedexports;\n",
       "        module = savedmodule;\n",
       "        resolve();\n",
       "    };\n",
       "  var firstScriptTag = document.getElementsByTagName('script')[0];\n",
       "  firstScriptTag.parentNode.insertBefore(tag, firstScriptTag);\n",
       "});\n",
       "};\n",
       "\n",
       "if(typeof $3Dmolpromise === 'undefined') {\n",
       "$3Dmolpromise = null;\n",
       "  $3Dmolpromise = loadScriptAsync('https://cdnjs.cloudflare.com/ajax/libs/3Dmol/2.0.1/3Dmol-min.js');\n",
       "}\n",
       "\n",
       "var viewer_16866209354042625 = null;\n",
       "var warn = document.getElementById(\"3dmolwarning_16866209354042625\");\n",
       "if(warn) {\n",
       "    warn.parentNode.removeChild(warn);\n",
       "}\n",
       "$3Dmolpromise.then(function() {\n",
       "viewer_16866209354042625 = $3Dmol.createViewer(document.getElementById(\"3dmolviewer_16866209354042625\"),{backgroundColor:\"white\"});\n",
       "viewer_16866209354042625.zoomTo();\n",
       "\tviewer_16866209354042625.addModel(\"# Produced with molli package\\n@<TRIPOS>MOLECULE\\n1\\n30 32 0 0 0\\nSMALL\\nUSER_CHARGES\\n\\n@<TRIPOS>ATOM\\n     1 C       2.653877    -0.900810     0.000000 C          1 UNL1 0.0\\n     2 C       3.535127     0.312731     0.000000 C          1 UNL1 0.0\\n     3 O       2.653877     1.526273     0.000000 O          1 UNL1 0.0\\n     4 C       1.226794     1.062732     0.000000 C          1 UNL1 0.0\\n     5 N       1.226794    -0.437269     0.000000 N          1 UNL1 0.0\\n     6 C      -0.072164     1.812732     0.000000 C          1 UNL1 0.0\\n     7 C      -1.371123     1.062732     0.000000 C          1 UNL1 0.0\\n     8 O      -2.798206     1.526273     0.000000 O          1 UNL1 0.0\\n     9 C      -3.679456     0.312731     0.000000 C          1 UNL1 0.0\\n    10 C      -2.798206    -0.900810     0.000000 C          1 UNL1 0.0\\n    11 N      -1.371123    -0.437269     0.000000 N          1 UNL1 0.0\\n    12 A1     -3.029977    -1.614352    -1.299453 Unknown    1 UNL1 0.0\\n    13 A1      2.885648    -1.614352     1.299453 Unknown    1 UNL1 0.0\\n    14 C      -0.072164    -1.187268     0.000000 C          1 UNL1 0.0\\n    15 Br     -0.072164    -1.187268     1.499931 Br         1 UNL1 0.0\\n    16 Br      0.677836    -2.486227     0.000000 Br         1 UNL1 0.0\\n    17 C      -0.072164     1.812732     1.500000 C          1 UNL1 0.0\\n    18 C       1.226794     2.562732     0.000000 C          1 UNL1 0.0\\n    19 H       2.859825    -1.534673    -0.837080 H          1 UNL1 0.0\\n    20 H       4.148880     0.312731     0.876544 H          1 UNL1 0.0\\n    21 H       4.148880     0.312731    -0.876544 H          1 UNL1 0.0\\n    22 H      -4.293208     0.312731     0.876544 H          1 UNL1 0.0\\n    23 H      -4.293208     0.312731    -0.876544 H          1 UNL1 0.0\\n    24 H      -3.004154    -1.534673     0.837080 H          1 UNL1 0.0\\n    25 H       0.010549     0.807322     1.856667 H          1 UNL1 0.0\\n    26 H      -0.984231     2.243804     1.856667 H          1 UNL1 0.0\\n    27 H       0.757189     2.387068     1.856667 H          1 UNL1 0.0\\n    28 H       1.787896     2.304234     0.873638 H          1 UNL1 0.0\\n    29 H       1.031246     3.614711     0.000027 H          1 UNL1 0.0\\n    30 H       1.787873     2.304274    -0.873665 H          1 UNL1 0.0\\n@<TRIPOS>BOND\\n     1      1      2          1\\n     2      2      3          1\\n     3      3      4          1\\n     4      4      5          2\\n     5      5      1          1\\n     6      4      6          1\\n     7      6      7          1\\n     8      7      8          1\\n     9      8      9          1\\n    10      9     10          1\\n    11     10     11          1\\n    12     11      7          2\\n    13     10     12          1\\n    14      1     13          1\\n    15     11     14          1\\n    16     14      5          1\\n    17     14     15          1\\n    18     14     16          1\\n    19      6     17          1\\n    20      6     18          1\\n    21      1     19          1\\n    22      2     20          1\\n    23      2     21          1\\n    24      9     22          1\\n    25      9     23          1\\n    26     10     24          1\\n    27     17     25          1\\n    28     17     26          1\\n    29     17     27          1\\n    30     18     28          1\\n    31     18     29          1\\n    32     18     30          1\\n\",\"mol2\");\n",
       "\tviewer_16866209354042625.setStyle({\"stick\": {\"radius\": 0.1}, \"sphere\": {\"scale\": 0.15}});\n",
       "\tviewer_16866209354042625.setHoverable({},true,\"\\n            function(atom,viewer,event,container) {\\n                if(!atom.label) {\\n                    atom.label = viewer.addLabel(atom.elem + atom.serial, {position: atom, backgroundColor: 'mintcream', fontColor:'black'});\\n                }\\n            }\\n            \",\"\\n            function(atom,viewer) { \\n                if(atom.label) {\\n                    viewer.removeLabel(atom.label);\\n                    delete atom.label;\\n                }\\n            }\\n            \");\n",
       "\tviewer_16866209354042625.zoomTo();\n",
       "\tviewer_16866209354042625.setBackgroundColor(null);\n",
       "viewer_16866209354042625.render();\n",
       "});\n",
       "</script>"
      ]
     },
     "metadata": {},
     "output_type": "display_data"
    },
    {
     "data": {
      "text/plain": [
       "Molecule(name='1', formula='C10 H12 Br2 N2 O2 Unknown2')"
      ]
     },
     "execution_count": 4,
     "metadata": {},
     "output_type": "execute_result"
    }
   ],
   "source": [
    "m_core = ml.MoleculeLibrary('ncsa-testing-data/BOX_cores_new_env.mlib')\n",
    "print(len(m_core))\n",
    "m_core[0]"
   ]
  },
  {
   "cell_type": "code",
   "execution_count": 5,
   "metadata": {},
   "outputs": [
    {
     "name": "stdout",
     "output_type": "stream",
     "text": [
      "15\n"
     ]
    },
    {
     "data": {
      "application/3dmoljs_load.v0": "<div id=\"3dmolviewer_16866209354192207\"  style=\"position: relative; width: 1000px; height: 500px\">\n        <p id=\"3dmolwarning_16866209354192207\" style=\"background-color:#ffcccc;color:black\">You appear to be running in JupyterLab (or JavaScript failed to load for some other reason).  You need to install the 3dmol extension: <br>\n        <tt>jupyter labextension install jupyterlab_3dmol</tt></p>\n        </div>\n<script>\n\nvar loadScriptAsync = function(uri){\n  return new Promise((resolve, reject) => {\n    //this is to ignore the existence of requirejs amd\n    var savedexports, savedmodule;\n    if (typeof exports !== 'undefined') savedexports = exports;\n    else exports = {}\n    if (typeof module !== 'undefined') savedmodule = module;\n    else module = {}\n\n    var tag = document.createElement('script');\n    tag.src = uri;\n    tag.async = true;\n    tag.onload = () => {\n        exports = savedexports;\n        module = savedmodule;\n        resolve();\n    };\n  var firstScriptTag = document.getElementsByTagName('script')[0];\n  firstScriptTag.parentNode.insertBefore(tag, firstScriptTag);\n});\n};\n\nif(typeof $3Dmolpromise === 'undefined') {\n$3Dmolpromise = null;\n  $3Dmolpromise = loadScriptAsync('https://cdnjs.cloudflare.com/ajax/libs/3Dmol/2.0.1/3Dmol-min.js');\n}\n\nvar viewer_16866209354192207 = null;\nvar warn = document.getElementById(\"3dmolwarning_16866209354192207\");\nif(warn) {\n    warn.parentNode.removeChild(warn);\n}\n$3Dmolpromise.then(function() {\nviewer_16866209354192207 = $3Dmol.createViewer(document.getElementById(\"3dmolviewer_16866209354192207\"),{backgroundColor:\"white\"});\nviewer_16866209354192207.zoomTo();\n\tviewer_16866209354192207.addModel(\"# Produced with molli package\\n@<TRIPOS>MOLECULE\\n3\\n11 10 0 0 0\\nSMALL\\nUSER_CHARGES\\n\\n@<TRIPOS>ATOM\\n     1 C       0.000000     0.000000     0.000000 C          1 UNL1 0.0\\n     2 AP1    -1.298958    -0.750000     0.000000 Unknown    1 UNL1 0.0\\n     3 C       1.299018    -0.750035     0.000000 C          1 UNL1 0.0\\n     4 C       0.000000     1.500000     0.000000 C          1 UNL1 0.0\\n     5 H       0.000000     0.000000    -1.070000 H          1 UNL1 0.0\\n     6 H       1.860120    -0.491537     0.873638 H          1 UNL1 0.0\\n     7 H       1.860097    -0.491577    -0.873665 H          1 UNL1 0.0\\n     8 H       1.103470    -1.802014     0.000027 H          1 UNL1 0.0\\n     9 H       1.008806     1.856667     0.000000 H          1 UNL1 0.0\\n    10 H      -0.504403     1.856667     0.873651 H          1 UNL1 0.0\\n    11 H      -0.504403     1.856667    -0.873651 H          1 UNL1 0.0\\n@<TRIPOS>BOND\\n     1      2      1          1\\n     2      1      3          1\\n     3      1      4          1\\n     4      1      5          1\\n     5      3      6          1\\n     6      3      7          1\\n     7      3      8          1\\n     8      4      9          1\\n     9      4     10          1\\n    10      4     11          1\\n\",\"mol2\");\n\tviewer_16866209354192207.setStyle({\"stick\": {\"radius\": 0.1}, \"sphere\": {\"scale\": 0.15}});\n\tviewer_16866209354192207.setHoverable({},true,\"\\n            function(atom,viewer,event,container) {\\n                if(!atom.label) {\\n                    atom.label = viewer.addLabel(atom.elem + atom.serial, {position: atom, backgroundColor: 'mintcream', fontColor:'black'});\\n                }\\n            }\\n            \",\"\\n            function(atom,viewer) { \\n                if(atom.label) {\\n                    viewer.removeLabel(atom.label);\\n                    delete atom.label;\\n                }\\n            }\\n            \");\n\tviewer_16866209354192207.zoomTo();\n\tviewer_16866209354192207.setBackgroundColor(null);\nviewer_16866209354192207.render();\n});\n</script>",
      "text/html": [
       "<div id=\"3dmolviewer_16866209354192207\"  style=\"position: relative; width: 1000px; height: 500px\">\n",
       "        <p id=\"3dmolwarning_16866209354192207\" style=\"background-color:#ffcccc;color:black\">You appear to be running in JupyterLab (or JavaScript failed to load for some other reason).  You need to install the 3dmol extension: <br>\n",
       "        <tt>jupyter labextension install jupyterlab_3dmol</tt></p>\n",
       "        </div>\n",
       "<script>\n",
       "\n",
       "var loadScriptAsync = function(uri){\n",
       "  return new Promise((resolve, reject) => {\n",
       "    //this is to ignore the existence of requirejs amd\n",
       "    var savedexports, savedmodule;\n",
       "    if (typeof exports !== 'undefined') savedexports = exports;\n",
       "    else exports = {}\n",
       "    if (typeof module !== 'undefined') savedmodule = module;\n",
       "    else module = {}\n",
       "\n",
       "    var tag = document.createElement('script');\n",
       "    tag.src = uri;\n",
       "    tag.async = true;\n",
       "    tag.onload = () => {\n",
       "        exports = savedexports;\n",
       "        module = savedmodule;\n",
       "        resolve();\n",
       "    };\n",
       "  var firstScriptTag = document.getElementsByTagName('script')[0];\n",
       "  firstScriptTag.parentNode.insertBefore(tag, firstScriptTag);\n",
       "});\n",
       "};\n",
       "\n",
       "if(typeof $3Dmolpromise === 'undefined') {\n",
       "$3Dmolpromise = null;\n",
       "  $3Dmolpromise = loadScriptAsync('https://cdnjs.cloudflare.com/ajax/libs/3Dmol/2.0.1/3Dmol-min.js');\n",
       "}\n",
       "\n",
       "var viewer_16866209354192207 = null;\n",
       "var warn = document.getElementById(\"3dmolwarning_16866209354192207\");\n",
       "if(warn) {\n",
       "    warn.parentNode.removeChild(warn);\n",
       "}\n",
       "$3Dmolpromise.then(function() {\n",
       "viewer_16866209354192207 = $3Dmol.createViewer(document.getElementById(\"3dmolviewer_16866209354192207\"),{backgroundColor:\"white\"});\n",
       "viewer_16866209354192207.zoomTo();\n",
       "\tviewer_16866209354192207.addModel(\"# Produced with molli package\\n@<TRIPOS>MOLECULE\\n3\\n11 10 0 0 0\\nSMALL\\nUSER_CHARGES\\n\\n@<TRIPOS>ATOM\\n     1 C       0.000000     0.000000     0.000000 C          1 UNL1 0.0\\n     2 AP1    -1.298958    -0.750000     0.000000 Unknown    1 UNL1 0.0\\n     3 C       1.299018    -0.750035     0.000000 C          1 UNL1 0.0\\n     4 C       0.000000     1.500000     0.000000 C          1 UNL1 0.0\\n     5 H       0.000000     0.000000    -1.070000 H          1 UNL1 0.0\\n     6 H       1.860120    -0.491537     0.873638 H          1 UNL1 0.0\\n     7 H       1.860097    -0.491577    -0.873665 H          1 UNL1 0.0\\n     8 H       1.103470    -1.802014     0.000027 H          1 UNL1 0.0\\n     9 H       1.008806     1.856667     0.000000 H          1 UNL1 0.0\\n    10 H      -0.504403     1.856667     0.873651 H          1 UNL1 0.0\\n    11 H      -0.504403     1.856667    -0.873651 H          1 UNL1 0.0\\n@<TRIPOS>BOND\\n     1      2      1          1\\n     2      1      3          1\\n     3      1      4          1\\n     4      1      5          1\\n     5      3      6          1\\n     6      3      7          1\\n     7      3      8          1\\n     8      4      9          1\\n     9      4     10          1\\n    10      4     11          1\\n\",\"mol2\");\n",
       "\tviewer_16866209354192207.setStyle({\"stick\": {\"radius\": 0.1}, \"sphere\": {\"scale\": 0.15}});\n",
       "\tviewer_16866209354192207.setHoverable({},true,\"\\n            function(atom,viewer,event,container) {\\n                if(!atom.label) {\\n                    atom.label = viewer.addLabel(atom.elem + atom.serial, {position: atom, backgroundColor: 'mintcream', fontColor:'black'});\\n                }\\n            }\\n            \",\"\\n            function(atom,viewer) { \\n                if(atom.label) {\\n                    viewer.removeLabel(atom.label);\\n                    delete atom.label;\\n                }\\n            }\\n            \");\n",
       "\tviewer_16866209354192207.zoomTo();\n",
       "\tviewer_16866209354192207.setBackgroundColor(null);\n",
       "viewer_16866209354192207.render();\n",
       "});\n",
       "</script>"
      ]
     },
     "metadata": {},
     "output_type": "display_data"
    },
    {
     "data": {
      "text/plain": [
       "Molecule(name='3', formula='C3 H7 Unknown1')"
      ]
     },
     "execution_count": 5,
     "metadata": {},
     "output_type": "execute_result"
    }
   ],
   "source": [
    "m_subs = ml.MoleculeLibrary('ncsa-testing-data/BOX_subs_new_env.mlib')\n",
    "print(len(m_subs))\n",
    "m_subs[0]"
   ]
  },
  {
   "attachments": {},
   "cell_type": "markdown",
   "metadata": {},
   "source": [
    "2. Combinatorial Expansion"
   ]
  },
  {
   "cell_type": "code",
   "execution_count": 6,
   "metadata": {},
   "outputs": [
    {
     "name": "stdout",
     "output_type": "stream",
     "text": [
      "Will create a library of size 75\n"
     ]
    },
    {
     "name": "stderr",
     "output_type": "stream",
     "text": [
      "100%|██████████| 75/75 [00:01<00:00, 39.99it/s]\n"
     ]
    },
    {
     "data": {
      "text/plain": [
       "CompletedProcess(args=['molli', 'combine', 'ncsa-testing-data/BOX_cores_new_env.mlib', '-s', 'ncsa-testing-data/BOX_subs_new_env.mlib', '-j', '96', '-o', 'ncsa-testing-data/test_combine_new_env.mlib', '-a', 'A1', '--obopt', 'uff', '-m', 'same'], returncode=0)"
      ]
     },
     "execution_count": 6,
     "metadata": {},
     "output_type": "execute_result"
    }
   ],
   "source": [
    "subprocess.run(\n",
    "    [\n",
    "        'molli',\n",
    "        'combine',\n",
    "        'ncsa-testing-data/BOX_cores_new_env.mlib',\n",
    "        '-s',\n",
    "        'ncsa-testing-data/BOX_subs_new_env.mlib',\n",
    "        '-j',\n",
    "        '96', \n",
    "        '-o', \n",
    "        'ncsa-testing-data/test_combine_new_env.mlib', \n",
    "        '-a', \n",
    "        'A1', \n",
    "        '--obopt', \n",
    "        'uff',\n",
    "        '-m',\n",
    "        'same'\n",
    "    ]\n",
    ")\n"
   ]
  },
  {
   "cell_type": "code",
   "execution_count": 7,
   "metadata": {},
   "outputs": [
    {
     "name": "stdout",
     "output_type": "stream",
     "text": [
      "75\n"
     ]
    },
    {
     "data": {
      "application/3dmoljs_load.v0": "<div id=\"3dmolviewer_1686620937754753\"  style=\"position: relative; width: 1000px; height: 500px\">\n        <p id=\"3dmolwarning_1686620937754753\" style=\"background-color:#ffcccc;color:black\">You appear to be running in JupyterLab (or JavaScript failed to load for some other reason).  You need to install the 3dmol extension: <br>\n        <tt>jupyter labextension install jupyterlab_3dmol</tt></p>\n        </div>\n<script>\n\nvar loadScriptAsync = function(uri){\n  return new Promise((resolve, reject) => {\n    //this is to ignore the existence of requirejs amd\n    var savedexports, savedmodule;\n    if (typeof exports !== 'undefined') savedexports = exports;\n    else exports = {}\n    if (typeof module !== 'undefined') savedmodule = module;\n    else module = {}\n\n    var tag = document.createElement('script');\n    tag.src = uri;\n    tag.async = true;\n    tag.onload = () => {\n        exports = savedexports;\n        module = savedmodule;\n        resolve();\n    };\n  var firstScriptTag = document.getElementsByTagName('script')[0];\n  firstScriptTag.parentNode.insertBefore(tag, firstScriptTag);\n});\n};\n\nif(typeof $3Dmolpromise === 'undefined') {\n$3Dmolpromise = null;\n  $3Dmolpromise = loadScriptAsync('https://cdnjs.cloudflare.com/ajax/libs/3Dmol/2.0.1/3Dmol-min.js');\n}\n\nvar viewer_1686620937754753 = null;\nvar warn = document.getElementById(\"3dmolwarning_1686620937754753\");\nif(warn) {\n    warn.parentNode.removeChild(warn);\n}\n$3Dmolpromise.then(function() {\nviewer_1686620937754753 = $3Dmol.createViewer(document.getElementById(\"3dmolviewer_1686620937754753\"),{backgroundColor:\"white\"});\nviewer_1686620937754753.zoomTo();\n\tviewer_1686620937754753.addModel(\"# Produced with molli package\\n@<TRIPOS>MOLECULE\\n1_3_3\\n48 50 0 0 0\\nSMALL\\nUSER_CHARGES\\n\\n@<TRIPOS>ATOM\\n     1 C       0.047617     0.049813     0.255042 C          1 UNL1 0.0\\n     2 C       0.861010     1.352159     0.427094 C          1 UNL1 0.0\\n     3 O      -0.087309     2.333325     0.463776 O          1 UNL1 0.0\\n     4 C      -1.319026     1.805072     0.399622 C          1 UNL1 0.0\\n     5 N      -1.349564     0.521557     0.321416 N          1 UNL1 0.0\\n     6 C      -2.523051     2.693800     0.375774 C          1 UNL1 0.0\\n     7 C      -3.771223     1.886547     0.200827 C          1 UNL1 0.0\\n     8 O      -4.973602     2.481362     0.232594 O          1 UNL1 0.0\\n     9 C      -5.971303     1.559958     0.095127 C          1 UNL1 0.0\\n    10 C      -5.227800     0.206601     0.045667 C          1 UNL1 0.0\\n    11 N      -3.807635     0.608954     0.054808 N          1 UNL1 0.0\\n    12 C      -2.600205    -0.255821     0.117750 C          1 UNL1 0.0\\n    13 Br     -2.949596    -1.490288     1.583354 Br         1 UNL1 0.0\\n    14 Br     -2.309578    -1.238669    -1.538537 Br         1 UNL1 0.0\\n    15 C      -2.592265     3.462091     1.707260 C          1 UNL1 0.0\\n    16 C      -2.408257     3.681089    -0.798939 C          1 UNL1 0.0\\n    17 H       0.239354    -0.301654    -0.782867 H          1 UNL1 0.0\\n    18 H       1.433331     1.408422     1.374228 H          1 UNL1 0.0\\n    19 H       1.561316     1.506988    -0.422016 H          1 UNL1 0.0\\n    20 H      -6.677001     1.602883     0.952805 H          1 UNL1 0.0\\n    21 H      -6.523842     1.808671    -0.832524 H          1 UNL1 0.0\\n    22 H      -5.441273    -0.300397     1.012661 H          1 UNL1 0.0\\n    23 H      -2.679907     2.753547     2.560089 H          1 UNL1 0.0\\n    24 H      -3.470850     4.142685     1.726174 H          1 UNL1 0.0\\n    25 H      -1.678418     4.077474     1.855830 H          1 UNL1 0.0\\n    26 H      -1.495800     4.308228    -0.700805 H          1 UNL1 0.0\\n    27 H      -3.288438     4.359423    -0.831648 H          1 UNL1 0.0\\n    28 H      -2.353383     3.131444    -1.764229 H          1 UNL1 0.0\\n    29 C      -5.818258    -0.682888    -1.099981 C          1 UNL1 0.0\\n    30 C      -5.544730    -2.184743    -0.916493 C          1 UNL1 0.0\\n    31 C      -5.495987    -0.189096    -2.523545 C          1 UNL1 0.0\\n    32 H      -6.925733    -0.621205    -0.993197 H          1 UNL1 0.0\\n    33 H      -4.491224    -2.469916    -0.976930 H          1 UNL1 0.0\\n    34 H      -6.092898    -2.763328    -1.690626 H          1 UNL1 0.0\\n    35 H      -5.919479    -2.514164     0.076006 H          1 UNL1 0.0\\n    36 H      -6.017586    -0.825843    -3.269239 H          1 UNL1 0.0\\n    37 H      -4.420182    -0.211070    -2.748700 H          1 UNL1 0.0\\n    38 H      -5.841597     0.850610    -2.683117 H          1 UNL1 0.0\\n    39 C       0.584719    -1.044621     1.237733 C          1 UNL1 0.0\\n    40 C       0.237651    -2.480222     0.810429 C          1 UNL1 0.0\\n    41 C       0.277338    -0.773903     2.723135 C          1 UNL1 0.0\\n    42 H       1.694647    -1.023075     1.141198 H          1 UNL1 0.0\\n    43 H      -0.829099    -2.717800     0.822126 H          1 UNL1 0.0\\n    44 H       0.749356    -3.204931     1.479315 H          1 UNL1 0.0\\n    45 H       0.604177    -2.661196    -0.222448 H          1 UNL1 0.0\\n    46 H       0.760974    -1.548908     3.354680 H          1 UNL1 0.0\\n    47 H      -0.799859    -0.777602     2.942780 H          1 UNL1 0.0\\n    48 H       0.673179     0.207497     3.049080 H          1 UNL1 0.0\\n@<TRIPOS>BOND\\n     1      1      2          1\\n     2      2      3          1\\n     3      3      4          1\\n     4      4      5          2\\n     5      5      1          1\\n     6      4      6          1\\n     7      6      7          1\\n     8      7      8          1\\n     9      8      9          1\\n    10      9     10          1\\n    11     10     11          1\\n    12     11      7          2\\n    13     11     12          1\\n    14     12      5          1\\n    15     12     13          1\\n    16     12     14          1\\n    17      6     15          1\\n    18      6     16          1\\n    19      1     17          1\\n    20      2     18          1\\n    21      2     19          1\\n    22      9     20          1\\n    23      9     21          1\\n    24     10     22          1\\n    25     15     23          1\\n    26     15     24          1\\n    27     15     25          1\\n    28     16     26          1\\n    29     16     27          1\\n    30     16     28          1\\n    31     29     30          1\\n    32     29     31          1\\n    33     29     32          1\\n    34     30     33          1\\n    35     30     34          1\\n    36     30     35          1\\n    37     31     36          1\\n    38     31     37          1\\n    39     31     38          1\\n    40     10     29          1\\n    41     39     40          1\\n    42     39     41          1\\n    43     39     42          1\\n    44     40     43          1\\n    45     40     44          1\\n    46     40     45          1\\n    47     41     46          1\\n    48     41     47          1\\n    49     41     48          1\\n    50      1     39          1\\n\",\"mol2\");\n\tviewer_1686620937754753.setStyle({\"stick\": {\"radius\": 0.1}, \"sphere\": {\"scale\": 0.15}});\n\tviewer_1686620937754753.setHoverable({},true,\"\\n            function(atom,viewer,event,container) {\\n                if(!atom.label) {\\n                    atom.label = viewer.addLabel(atom.elem + atom.serial, {position: atom, backgroundColor: 'mintcream', fontColor:'black'});\\n                }\\n            }\\n            \",\"\\n            function(atom,viewer) { \\n                if(atom.label) {\\n                    viewer.removeLabel(atom.label);\\n                    delete atom.label;\\n                }\\n            }\\n            \");\n\tviewer_1686620937754753.zoomTo();\n\tviewer_1686620937754753.setBackgroundColor(null);\nviewer_1686620937754753.render();\n});\n</script>",
      "text/html": [
       "<div id=\"3dmolviewer_1686620937754753\"  style=\"position: relative; width: 1000px; height: 500px\">\n",
       "        <p id=\"3dmolwarning_1686620937754753\" style=\"background-color:#ffcccc;color:black\">You appear to be running in JupyterLab (or JavaScript failed to load for some other reason).  You need to install the 3dmol extension: <br>\n",
       "        <tt>jupyter labextension install jupyterlab_3dmol</tt></p>\n",
       "        </div>\n",
       "<script>\n",
       "\n",
       "var loadScriptAsync = function(uri){\n",
       "  return new Promise((resolve, reject) => {\n",
       "    //this is to ignore the existence of requirejs amd\n",
       "    var savedexports, savedmodule;\n",
       "    if (typeof exports !== 'undefined') savedexports = exports;\n",
       "    else exports = {}\n",
       "    if (typeof module !== 'undefined') savedmodule = module;\n",
       "    else module = {}\n",
       "\n",
       "    var tag = document.createElement('script');\n",
       "    tag.src = uri;\n",
       "    tag.async = true;\n",
       "    tag.onload = () => {\n",
       "        exports = savedexports;\n",
       "        module = savedmodule;\n",
       "        resolve();\n",
       "    };\n",
       "  var firstScriptTag = document.getElementsByTagName('script')[0];\n",
       "  firstScriptTag.parentNode.insertBefore(tag, firstScriptTag);\n",
       "});\n",
       "};\n",
       "\n",
       "if(typeof $3Dmolpromise === 'undefined') {\n",
       "$3Dmolpromise = null;\n",
       "  $3Dmolpromise = loadScriptAsync('https://cdnjs.cloudflare.com/ajax/libs/3Dmol/2.0.1/3Dmol-min.js');\n",
       "}\n",
       "\n",
       "var viewer_1686620937754753 = null;\n",
       "var warn = document.getElementById(\"3dmolwarning_1686620937754753\");\n",
       "if(warn) {\n",
       "    warn.parentNode.removeChild(warn);\n",
       "}\n",
       "$3Dmolpromise.then(function() {\n",
       "viewer_1686620937754753 = $3Dmol.createViewer(document.getElementById(\"3dmolviewer_1686620937754753\"),{backgroundColor:\"white\"});\n",
       "viewer_1686620937754753.zoomTo();\n",
       "\tviewer_1686620937754753.addModel(\"# Produced with molli package\\n@<TRIPOS>MOLECULE\\n1_3_3\\n48 50 0 0 0\\nSMALL\\nUSER_CHARGES\\n\\n@<TRIPOS>ATOM\\n     1 C       0.047617     0.049813     0.255042 C          1 UNL1 0.0\\n     2 C       0.861010     1.352159     0.427094 C          1 UNL1 0.0\\n     3 O      -0.087309     2.333325     0.463776 O          1 UNL1 0.0\\n     4 C      -1.319026     1.805072     0.399622 C          1 UNL1 0.0\\n     5 N      -1.349564     0.521557     0.321416 N          1 UNL1 0.0\\n     6 C      -2.523051     2.693800     0.375774 C          1 UNL1 0.0\\n     7 C      -3.771223     1.886547     0.200827 C          1 UNL1 0.0\\n     8 O      -4.973602     2.481362     0.232594 O          1 UNL1 0.0\\n     9 C      -5.971303     1.559958     0.095127 C          1 UNL1 0.0\\n    10 C      -5.227800     0.206601     0.045667 C          1 UNL1 0.0\\n    11 N      -3.807635     0.608954     0.054808 N          1 UNL1 0.0\\n    12 C      -2.600205    -0.255821     0.117750 C          1 UNL1 0.0\\n    13 Br     -2.949596    -1.490288     1.583354 Br         1 UNL1 0.0\\n    14 Br     -2.309578    -1.238669    -1.538537 Br         1 UNL1 0.0\\n    15 C      -2.592265     3.462091     1.707260 C          1 UNL1 0.0\\n    16 C      -2.408257     3.681089    -0.798939 C          1 UNL1 0.0\\n    17 H       0.239354    -0.301654    -0.782867 H          1 UNL1 0.0\\n    18 H       1.433331     1.408422     1.374228 H          1 UNL1 0.0\\n    19 H       1.561316     1.506988    -0.422016 H          1 UNL1 0.0\\n    20 H      -6.677001     1.602883     0.952805 H          1 UNL1 0.0\\n    21 H      -6.523842     1.808671    -0.832524 H          1 UNL1 0.0\\n    22 H      -5.441273    -0.300397     1.012661 H          1 UNL1 0.0\\n    23 H      -2.679907     2.753547     2.560089 H          1 UNL1 0.0\\n    24 H      -3.470850     4.142685     1.726174 H          1 UNL1 0.0\\n    25 H      -1.678418     4.077474     1.855830 H          1 UNL1 0.0\\n    26 H      -1.495800     4.308228    -0.700805 H          1 UNL1 0.0\\n    27 H      -3.288438     4.359423    -0.831648 H          1 UNL1 0.0\\n    28 H      -2.353383     3.131444    -1.764229 H          1 UNL1 0.0\\n    29 C      -5.818258    -0.682888    -1.099981 C          1 UNL1 0.0\\n    30 C      -5.544730    -2.184743    -0.916493 C          1 UNL1 0.0\\n    31 C      -5.495987    -0.189096    -2.523545 C          1 UNL1 0.0\\n    32 H      -6.925733    -0.621205    -0.993197 H          1 UNL1 0.0\\n    33 H      -4.491224    -2.469916    -0.976930 H          1 UNL1 0.0\\n    34 H      -6.092898    -2.763328    -1.690626 H          1 UNL1 0.0\\n    35 H      -5.919479    -2.514164     0.076006 H          1 UNL1 0.0\\n    36 H      -6.017586    -0.825843    -3.269239 H          1 UNL1 0.0\\n    37 H      -4.420182    -0.211070    -2.748700 H          1 UNL1 0.0\\n    38 H      -5.841597     0.850610    -2.683117 H          1 UNL1 0.0\\n    39 C       0.584719    -1.044621     1.237733 C          1 UNL1 0.0\\n    40 C       0.237651    -2.480222     0.810429 C          1 UNL1 0.0\\n    41 C       0.277338    -0.773903     2.723135 C          1 UNL1 0.0\\n    42 H       1.694647    -1.023075     1.141198 H          1 UNL1 0.0\\n    43 H      -0.829099    -2.717800     0.822126 H          1 UNL1 0.0\\n    44 H       0.749356    -3.204931     1.479315 H          1 UNL1 0.0\\n    45 H       0.604177    -2.661196    -0.222448 H          1 UNL1 0.0\\n    46 H       0.760974    -1.548908     3.354680 H          1 UNL1 0.0\\n    47 H      -0.799859    -0.777602     2.942780 H          1 UNL1 0.0\\n    48 H       0.673179     0.207497     3.049080 H          1 UNL1 0.0\\n@<TRIPOS>BOND\\n     1      1      2          1\\n     2      2      3          1\\n     3      3      4          1\\n     4      4      5          2\\n     5      5      1          1\\n     6      4      6          1\\n     7      6      7          1\\n     8      7      8          1\\n     9      8      9          1\\n    10      9     10          1\\n    11     10     11          1\\n    12     11      7          2\\n    13     11     12          1\\n    14     12      5          1\\n    15     12     13          1\\n    16     12     14          1\\n    17      6     15          1\\n    18      6     16          1\\n    19      1     17          1\\n    20      2     18          1\\n    21      2     19          1\\n    22      9     20          1\\n    23      9     21          1\\n    24     10     22          1\\n    25     15     23          1\\n    26     15     24          1\\n    27     15     25          1\\n    28     16     26          1\\n    29     16     27          1\\n    30     16     28          1\\n    31     29     30          1\\n    32     29     31          1\\n    33     29     32          1\\n    34     30     33          1\\n    35     30     34          1\\n    36     30     35          1\\n    37     31     36          1\\n    38     31     37          1\\n    39     31     38          1\\n    40     10     29          1\\n    41     39     40          1\\n    42     39     41          1\\n    43     39     42          1\\n    44     40     43          1\\n    45     40     44          1\\n    46     40     45          1\\n    47     41     46          1\\n    48     41     47          1\\n    49     41     48          1\\n    50      1     39          1\\n\",\"mol2\");\n",
       "\tviewer_1686620937754753.setStyle({\"stick\": {\"radius\": 0.1}, \"sphere\": {\"scale\": 0.15}});\n",
       "\tviewer_1686620937754753.setHoverable({},true,\"\\n            function(atom,viewer,event,container) {\\n                if(!atom.label) {\\n                    atom.label = viewer.addLabel(atom.elem + atom.serial, {position: atom, backgroundColor: 'mintcream', fontColor:'black'});\\n                }\\n            }\\n            \",\"\\n            function(atom,viewer) { \\n                if(atom.label) {\\n                    viewer.removeLabel(atom.label);\\n                    delete atom.label;\\n                }\\n            }\\n            \");\n",
       "\tviewer_1686620937754753.zoomTo();\n",
       "\tviewer_1686620937754753.setBackgroundColor(null);\n",
       "viewer_1686620937754753.render();\n",
       "});\n",
       "</script>"
      ]
     },
     "metadata": {},
     "output_type": "display_data"
    },
    {
     "data": {
      "text/plain": [
       "Molecule(name='1_3_3', formula='C16 H26 Br2 N2 O2')"
      ]
     },
     "execution_count": 7,
     "metadata": {},
     "output_type": "execute_result"
    }
   ],
   "source": [
    "combined = ml.MoleculeLibrary('ncsa-testing-data/test_combine_new_env.mlib')\n",
    "print(len(combined))\n",
    "combined[0]"
   ]
  },
  {
   "cell_type": "code",
   "execution_count": 8,
   "metadata": {},
   "outputs": [
    {
     "data": {
      "application/3dmoljs_load.v0": "<div id=\"3dmolviewer_16866209377710884\"  style=\"position: relative; width: 1000px; height: 500px\">\n        <p id=\"3dmolwarning_16866209377710884\" style=\"background-color:#ffcccc;color:black\">You appear to be running in JupyterLab (or JavaScript failed to load for some other reason).  You need to install the 3dmol extension: <br>\n        <tt>jupyter labextension install jupyterlab_3dmol</tt></p>\n        </div>\n<script>\n\nvar loadScriptAsync = function(uri){\n  return new Promise((resolve, reject) => {\n    //this is to ignore the existence of requirejs amd\n    var savedexports, savedmodule;\n    if (typeof exports !== 'undefined') savedexports = exports;\n    else exports = {}\n    if (typeof module !== 'undefined') savedmodule = module;\n    else module = {}\n\n    var tag = document.createElement('script');\n    tag.src = uri;\n    tag.async = true;\n    tag.onload = () => {\n        exports = savedexports;\n        module = savedmodule;\n        resolve();\n    };\n  var firstScriptTag = document.getElementsByTagName('script')[0];\n  firstScriptTag.parentNode.insertBefore(tag, firstScriptTag);\n});\n};\n\nif(typeof $3Dmolpromise === 'undefined') {\n$3Dmolpromise = null;\n  $3Dmolpromise = loadScriptAsync('https://cdnjs.cloudflare.com/ajax/libs/3Dmol/2.0.1/3Dmol-min.js');\n}\n\nvar viewer_16866209377710884 = null;\nvar warn = document.getElementById(\"3dmolwarning_16866209377710884\");\nif(warn) {\n    warn.parentNode.removeChild(warn);\n}\n$3Dmolpromise.then(function() {\nviewer_16866209377710884 = $3Dmol.createViewer(document.getElementById(\"3dmolviewer_16866209377710884\"),{backgroundColor:\"white\"});\nviewer_16866209377710884.zoomTo();\n\tviewer_16866209377710884.addModel(\"# Produced with molli package\\n@<TRIPOS>MOLECULE\\n3_6_6\\n74 78 0 0 0\\nSMALL\\nUSER_CHARGES\\n\\n@<TRIPOS>ATOM\\n     1 C      -0.246719    -0.325234     0.437589 C          1 UNL1 0.0\\n     2 C       0.712925     0.919505     0.321332 C          1 UNL1 0.0\\n     3 O      -0.172216     1.961672     0.152835 O          1 UNL1 0.0\\n     4 C      -1.444997     1.551025     0.283944 C          1 UNL1 0.0\\n     5 N      -1.568668     0.291508     0.468788 N          1 UNL1 0.0\\n     6 C      -2.603564     2.506941     0.174193 C          1 UNL1 0.0\\n     7 C      -3.892884     1.741205     0.049990 C          1 UNL1 0.0\\n     8 O      -5.065549     2.370722    -0.127833 O          1 UNL1 0.0\\n     9 C      -6.101832     1.471819    -0.072057 C          1 UNL1 0.0\\n    10 C      -5.385429     0.072378    -0.061387 C          1 UNL1 0.0\\n    11 N      -3.990693     0.465876     0.140592 N          1 UNL1 0.0\\n    12 C      -2.864466    -0.417089     0.520185 C          1 UNL1 0.0\\n    13 Br     -3.224286    -0.990815     2.348421 Br         1 UNL1 0.0\\n    14 Br     -2.737969    -2.047911    -0.563250 Br         1 UNL1 0.0\\n    15 C      -2.646069     3.401269     1.424017 C          1 UNL1 0.0\\n    16 C      -2.433288     3.370024    -1.087274 C          1 UNL1 0.0\\n    17 C      -7.251615     1.913711    -1.035695 C          1 UNL1 0.0\\n    18 C      -6.796058     2.344732    -2.450512 C          1 UNL1 0.0\\n    19 C      -8.430083     0.928542    -1.069463 C          1 UNL1 0.0\\n    20 C       1.726176     1.380675     1.420393 C          1 UNL1 0.0\\n    21 C       2.877250     0.403548     1.672457 C          1 UNL1 0.0\\n    22 C       1.086704     1.840449     2.741704 C          1 UNL1 0.0\\n    23 H      -0.232083    -0.867352    -0.531793 H          1 UNL1 0.0\\n    24 H       1.301840     0.793700    -0.614728 H          1 UNL1 0.0\\n    25 H      -6.535802     1.572988     0.950293 H          1 UNL1 0.0\\n    26 H      -5.711519    -0.473128     0.836371 H          1 UNL1 0.0\\n    27 H      -2.774149     2.778757     2.337487 H          1 UNL1 0.0\\n    28 H      -3.495224     4.116648     1.370951 H          1 UNL1 0.0\\n    29 H      -1.704499     3.982144     1.527914 H          1 UNL1 0.0\\n    30 H      -1.493886     3.961987    -1.033029 H          1 UNL1 0.0\\n    31 H      -3.278402     4.086130    -1.188245 H          1 UNL1 0.0\\n    32 H      -2.399741     2.733748    -1.997650 H          1 UNL1 0.0\\n    33 H      -7.648640     2.855473    -0.593119 H          1 UNL1 0.0\\n    34 H      -6.027981     3.143243    -2.372090 H          1 UNL1 0.0\\n    35 H      -7.660485     2.773806    -3.000111 H          1 UNL1 0.0\\n    36 H      -6.380384     1.553169    -3.092416 H          1 UNL1 0.0\\n    37 H      -8.170381    -0.039376    -1.534292 H          1 UNL1 0.0\\n    38 H      -9.265948     1.363807    -1.657575 H          1 UNL1 0.0\\n    39 H      -8.794753     0.735482    -0.039065 H          1 UNL1 0.0\\n    40 H       2.207433     2.289255     0.989661 H          1 UNL1 0.0\\n    41 H       3.650823     0.891366     2.302967 H          1 UNL1 0.0\\n    42 H       3.356419     0.115580     0.712117 H          1 UNL1 0.0\\n    43 H       2.543852    -0.491915     2.218805 H          1 UNL1 0.0\\n    44 H       0.338895     2.638770     2.555475 H          1 UNL1 0.0\\n    45 H       1.870664     2.268616     3.403121 H          1 UNL1 0.0\\n    46 H       0.597211     1.020877     3.291788 H          1 UNL1 0.0\\n    47 C      -5.549255    -0.768617    -1.372100 C          1 UNL1 0.0\\n    48 C      -6.254782    -2.119447    -1.305727 C          1 UNL1 0.0\\n    49 C      -6.845926    -2.675439    -0.146405 C          1 UNL1 0.0\\n    50 C      -7.483163    -3.919760    -0.202037 C          1 UNL1 0.0\\n    51 C      -7.543103    -4.628915    -1.401353 C          1 UNL1 0.0\\n    52 C      -6.966600    -4.095751    -2.552969 C          1 UNL1 0.0\\n    53 C      -6.330313    -2.852741    -2.506494 C          1 UNL1 0.0\\n    54 H      -6.079964    -0.204041    -2.127747 H          1 UNL1 0.0\\n    55 H      -4.577975    -0.877100    -1.878252 H          1 UNL1 0.0\\n    56 H      -6.846669    -2.182180     0.808693 H          1 UNL1 0.0\\n    57 H      -7.935723    -4.334457     0.689740 H          1 UNL1 0.0\\n    58 H      -8.038628    -5.590563    -1.438399 H          1 UNL1 0.0\\n    59 H      -7.014153    -4.644839    -3.484590 H          1 UNL1 0.0\\n    60 H      -5.892066    -2.457761    -3.415238 H          1 UNL1 0.0\\n    61 C       0.000929    -1.377537     1.549227 C          1 UNL1 0.0\\n    62 C       1.128395    -2.369098     1.332591 C          1 UNL1 0.0\\n    63 C       1.950003    -2.392924     0.185336 C          1 UNL1 0.0\\n    64 C       2.943908    -3.367847     0.049962 C          1 UNL1 0.0\\n    65 C       3.133433    -4.323713     1.050233 C          1 UNL1 0.0\\n    66 C       2.330610    -4.307340     2.191087 C          1 UNL1 0.0\\n    67 C       1.334414    -3.338972     2.330685 C          1 UNL1 0.0\\n    68 H       0.088888    -0.889511     2.532525 H          1 UNL1 0.0\\n    69 H      -0.880608    -2.038151     1.597567 H          1 UNL1 0.0\\n    70 H       1.833479    -1.676174    -0.613107 H          1 UNL1 0.0\\n    71 H       3.565895    -3.385180    -0.835412 H          1 UNL1 0.0\\n    72 H       3.900820    -5.078806     0.940709 H          1 UNL1 0.0\\n    73 H       2.475451    -5.048343     2.966712 H          1 UNL1 0.0\\n    74 H       0.715357    -3.346037     3.220120 H          1 UNL1 0.0\\n@<TRIPOS>BOND\\n     1      1      2          1\\n     2      2      3          1\\n     3      3      4          1\\n     4      4      5          2\\n     5      5      1          1\\n     6      4      6          1\\n     7      6      7          1\\n     8      7      8          1\\n     9      8      9          1\\n    10      9     10          1\\n    11     10     11          1\\n    12     11      7          2\\n    13     11     12          1\\n    14     12      5          1\\n    15     12     13          1\\n    16     12     14          1\\n    17      6     15          1\\n    18      6     16          1\\n    19     17     18          1\\n    20     17     19          1\\n    21      9     17          1\\n    22     20     21          1\\n    23     20     22          1\\n    24      2     20          1\\n    25      1     23          1\\n    26      2     24          1\\n    27      9     25          1\\n    28     10     26          1\\n    29     15     27          1\\n    30     15     28          1\\n    31     15     29          1\\n    32     16     30          1\\n    33     16     31          1\\n    34     16     32          1\\n    35     17     33          1\\n    36     18     34          1\\n    37     18     35          1\\n    38     18     36          1\\n    39     19     37          1\\n    40     19     38          1\\n    41     19     39          1\\n    42     20     40          1\\n    43     21     41          1\\n    44     21     42          1\\n    45     21     43          1\\n    46     22     44          1\\n    47     22     45          1\\n    48     22     46          1\\n    49     47     48          1\\n    50     48     49          2\\n    51     49     50          1\\n    52     50     51          2\\n    53     51     52          1\\n    54     52     53          2\\n    55     53     48          1\\n    56     47     54          1\\n    57     47     55          1\\n    58     49     56          1\\n    59     50     57          1\\n    60     51     58          1\\n    61     52     59          1\\n    62     53     60          1\\n    63     10     47          1\\n    64     61     62          1\\n    65     62     63          2\\n    66     63     64          1\\n    67     64     65          2\\n    68     65     66          1\\n    69     66     67          2\\n    70     67     62          1\\n    71     61     68          1\\n    72     61     69          1\\n    73     63     70          1\\n    74     64     71          1\\n    75     65     72          1\\n    76     66     73          1\\n    77     67     74          1\\n    78      1     61          1\\n\",\"mol2\");\n\tviewer_16866209377710884.setStyle({\"stick\": {\"radius\": 0.1}, \"sphere\": {\"scale\": 0.15}});\n\tviewer_16866209377710884.setHoverable({},true,\"\\n            function(atom,viewer,event,container) {\\n                if(!atom.label) {\\n                    atom.label = viewer.addLabel(atom.elem + atom.serial, {position: atom, backgroundColor: 'mintcream', fontColor:'black'});\\n                }\\n            }\\n            \",\"\\n            function(atom,viewer) { \\n                if(atom.label) {\\n                    viewer.removeLabel(atom.label);\\n                    delete atom.label;\\n                }\\n            }\\n            \");\n\tviewer_16866209377710884.zoomTo();\n\tviewer_16866209377710884.setBackgroundColor(null);\nviewer_16866209377710884.render();\n});\n</script>",
      "text/html": [
       "<div id=\"3dmolviewer_16866209377710884\"  style=\"position: relative; width: 1000px; height: 500px\">\n",
       "        <p id=\"3dmolwarning_16866209377710884\" style=\"background-color:#ffcccc;color:black\">You appear to be running in JupyterLab (or JavaScript failed to load for some other reason).  You need to install the 3dmol extension: <br>\n",
       "        <tt>jupyter labextension install jupyterlab_3dmol</tt></p>\n",
       "        </div>\n",
       "<script>\n",
       "\n",
       "var loadScriptAsync = function(uri){\n",
       "  return new Promise((resolve, reject) => {\n",
       "    //this is to ignore the existence of requirejs amd\n",
       "    var savedexports, savedmodule;\n",
       "    if (typeof exports !== 'undefined') savedexports = exports;\n",
       "    else exports = {}\n",
       "    if (typeof module !== 'undefined') savedmodule = module;\n",
       "    else module = {}\n",
       "\n",
       "    var tag = document.createElement('script');\n",
       "    tag.src = uri;\n",
       "    tag.async = true;\n",
       "    tag.onload = () => {\n",
       "        exports = savedexports;\n",
       "        module = savedmodule;\n",
       "        resolve();\n",
       "    };\n",
       "  var firstScriptTag = document.getElementsByTagName('script')[0];\n",
       "  firstScriptTag.parentNode.insertBefore(tag, firstScriptTag);\n",
       "});\n",
       "};\n",
       "\n",
       "if(typeof $3Dmolpromise === 'undefined') {\n",
       "$3Dmolpromise = null;\n",
       "  $3Dmolpromise = loadScriptAsync('https://cdnjs.cloudflare.com/ajax/libs/3Dmol/2.0.1/3Dmol-min.js');\n",
       "}\n",
       "\n",
       "var viewer_16866209377710884 = null;\n",
       "var warn = document.getElementById(\"3dmolwarning_16866209377710884\");\n",
       "if(warn) {\n",
       "    warn.parentNode.removeChild(warn);\n",
       "}\n",
       "$3Dmolpromise.then(function() {\n",
       "viewer_16866209377710884 = $3Dmol.createViewer(document.getElementById(\"3dmolviewer_16866209377710884\"),{backgroundColor:\"white\"});\n",
       "viewer_16866209377710884.zoomTo();\n",
       "\tviewer_16866209377710884.addModel(\"# Produced with molli package\\n@<TRIPOS>MOLECULE\\n3_6_6\\n74 78 0 0 0\\nSMALL\\nUSER_CHARGES\\n\\n@<TRIPOS>ATOM\\n     1 C      -0.246719    -0.325234     0.437589 C          1 UNL1 0.0\\n     2 C       0.712925     0.919505     0.321332 C          1 UNL1 0.0\\n     3 O      -0.172216     1.961672     0.152835 O          1 UNL1 0.0\\n     4 C      -1.444997     1.551025     0.283944 C          1 UNL1 0.0\\n     5 N      -1.568668     0.291508     0.468788 N          1 UNL1 0.0\\n     6 C      -2.603564     2.506941     0.174193 C          1 UNL1 0.0\\n     7 C      -3.892884     1.741205     0.049990 C          1 UNL1 0.0\\n     8 O      -5.065549     2.370722    -0.127833 O          1 UNL1 0.0\\n     9 C      -6.101832     1.471819    -0.072057 C          1 UNL1 0.0\\n    10 C      -5.385429     0.072378    -0.061387 C          1 UNL1 0.0\\n    11 N      -3.990693     0.465876     0.140592 N          1 UNL1 0.0\\n    12 C      -2.864466    -0.417089     0.520185 C          1 UNL1 0.0\\n    13 Br     -3.224286    -0.990815     2.348421 Br         1 UNL1 0.0\\n    14 Br     -2.737969    -2.047911    -0.563250 Br         1 UNL1 0.0\\n    15 C      -2.646069     3.401269     1.424017 C          1 UNL1 0.0\\n    16 C      -2.433288     3.370024    -1.087274 C          1 UNL1 0.0\\n    17 C      -7.251615     1.913711    -1.035695 C          1 UNL1 0.0\\n    18 C      -6.796058     2.344732    -2.450512 C          1 UNL1 0.0\\n    19 C      -8.430083     0.928542    -1.069463 C          1 UNL1 0.0\\n    20 C       1.726176     1.380675     1.420393 C          1 UNL1 0.0\\n    21 C       2.877250     0.403548     1.672457 C          1 UNL1 0.0\\n    22 C       1.086704     1.840449     2.741704 C          1 UNL1 0.0\\n    23 H      -0.232083    -0.867352    -0.531793 H          1 UNL1 0.0\\n    24 H       1.301840     0.793700    -0.614728 H          1 UNL1 0.0\\n    25 H      -6.535802     1.572988     0.950293 H          1 UNL1 0.0\\n    26 H      -5.711519    -0.473128     0.836371 H          1 UNL1 0.0\\n    27 H      -2.774149     2.778757     2.337487 H          1 UNL1 0.0\\n    28 H      -3.495224     4.116648     1.370951 H          1 UNL1 0.0\\n    29 H      -1.704499     3.982144     1.527914 H          1 UNL1 0.0\\n    30 H      -1.493886     3.961987    -1.033029 H          1 UNL1 0.0\\n    31 H      -3.278402     4.086130    -1.188245 H          1 UNL1 0.0\\n    32 H      -2.399741     2.733748    -1.997650 H          1 UNL1 0.0\\n    33 H      -7.648640     2.855473    -0.593119 H          1 UNL1 0.0\\n    34 H      -6.027981     3.143243    -2.372090 H          1 UNL1 0.0\\n    35 H      -7.660485     2.773806    -3.000111 H          1 UNL1 0.0\\n    36 H      -6.380384     1.553169    -3.092416 H          1 UNL1 0.0\\n    37 H      -8.170381    -0.039376    -1.534292 H          1 UNL1 0.0\\n    38 H      -9.265948     1.363807    -1.657575 H          1 UNL1 0.0\\n    39 H      -8.794753     0.735482    -0.039065 H          1 UNL1 0.0\\n    40 H       2.207433     2.289255     0.989661 H          1 UNL1 0.0\\n    41 H       3.650823     0.891366     2.302967 H          1 UNL1 0.0\\n    42 H       3.356419     0.115580     0.712117 H          1 UNL1 0.0\\n    43 H       2.543852    -0.491915     2.218805 H          1 UNL1 0.0\\n    44 H       0.338895     2.638770     2.555475 H          1 UNL1 0.0\\n    45 H       1.870664     2.268616     3.403121 H          1 UNL1 0.0\\n    46 H       0.597211     1.020877     3.291788 H          1 UNL1 0.0\\n    47 C      -5.549255    -0.768617    -1.372100 C          1 UNL1 0.0\\n    48 C      -6.254782    -2.119447    -1.305727 C          1 UNL1 0.0\\n    49 C      -6.845926    -2.675439    -0.146405 C          1 UNL1 0.0\\n    50 C      -7.483163    -3.919760    -0.202037 C          1 UNL1 0.0\\n    51 C      -7.543103    -4.628915    -1.401353 C          1 UNL1 0.0\\n    52 C      -6.966600    -4.095751    -2.552969 C          1 UNL1 0.0\\n    53 C      -6.330313    -2.852741    -2.506494 C          1 UNL1 0.0\\n    54 H      -6.079964    -0.204041    -2.127747 H          1 UNL1 0.0\\n    55 H      -4.577975    -0.877100    -1.878252 H          1 UNL1 0.0\\n    56 H      -6.846669    -2.182180     0.808693 H          1 UNL1 0.0\\n    57 H      -7.935723    -4.334457     0.689740 H          1 UNL1 0.0\\n    58 H      -8.038628    -5.590563    -1.438399 H          1 UNL1 0.0\\n    59 H      -7.014153    -4.644839    -3.484590 H          1 UNL1 0.0\\n    60 H      -5.892066    -2.457761    -3.415238 H          1 UNL1 0.0\\n    61 C       0.000929    -1.377537     1.549227 C          1 UNL1 0.0\\n    62 C       1.128395    -2.369098     1.332591 C          1 UNL1 0.0\\n    63 C       1.950003    -2.392924     0.185336 C          1 UNL1 0.0\\n    64 C       2.943908    -3.367847     0.049962 C          1 UNL1 0.0\\n    65 C       3.133433    -4.323713     1.050233 C          1 UNL1 0.0\\n    66 C       2.330610    -4.307340     2.191087 C          1 UNL1 0.0\\n    67 C       1.334414    -3.338972     2.330685 C          1 UNL1 0.0\\n    68 H       0.088888    -0.889511     2.532525 H          1 UNL1 0.0\\n    69 H      -0.880608    -2.038151     1.597567 H          1 UNL1 0.0\\n    70 H       1.833479    -1.676174    -0.613107 H          1 UNL1 0.0\\n    71 H       3.565895    -3.385180    -0.835412 H          1 UNL1 0.0\\n    72 H       3.900820    -5.078806     0.940709 H          1 UNL1 0.0\\n    73 H       2.475451    -5.048343     2.966712 H          1 UNL1 0.0\\n    74 H       0.715357    -3.346037     3.220120 H          1 UNL1 0.0\\n@<TRIPOS>BOND\\n     1      1      2          1\\n     2      2      3          1\\n     3      3      4          1\\n     4      4      5          2\\n     5      5      1          1\\n     6      4      6          1\\n     7      6      7          1\\n     8      7      8          1\\n     9      8      9          1\\n    10      9     10          1\\n    11     10     11          1\\n    12     11      7          2\\n    13     11     12          1\\n    14     12      5          1\\n    15     12     13          1\\n    16     12     14          1\\n    17      6     15          1\\n    18      6     16          1\\n    19     17     18          1\\n    20     17     19          1\\n    21      9     17          1\\n    22     20     21          1\\n    23     20     22          1\\n    24      2     20          1\\n    25      1     23          1\\n    26      2     24          1\\n    27      9     25          1\\n    28     10     26          1\\n    29     15     27          1\\n    30     15     28          1\\n    31     15     29          1\\n    32     16     30          1\\n    33     16     31          1\\n    34     16     32          1\\n    35     17     33          1\\n    36     18     34          1\\n    37     18     35          1\\n    38     18     36          1\\n    39     19     37          1\\n    40     19     38          1\\n    41     19     39          1\\n    42     20     40          1\\n    43     21     41          1\\n    44     21     42          1\\n    45     21     43          1\\n    46     22     44          1\\n    47     22     45          1\\n    48     22     46          1\\n    49     47     48          1\\n    50     48     49          2\\n    51     49     50          1\\n    52     50     51          2\\n    53     51     52          1\\n    54     52     53          2\\n    55     53     48          1\\n    56     47     54          1\\n    57     47     55          1\\n    58     49     56          1\\n    59     50     57          1\\n    60     51     58          1\\n    61     52     59          1\\n    62     53     60          1\\n    63     10     47          1\\n    64     61     62          1\\n    65     62     63          2\\n    66     63     64          1\\n    67     64     65          2\\n    68     65     66          1\\n    69     66     67          2\\n    70     67     62          1\\n    71     61     68          1\\n    72     61     69          1\\n    73     63     70          1\\n    74     64     71          1\\n    75     65     72          1\\n    76     66     73          1\\n    77     67     74          1\\n    78      1     61          1\\n\",\"mol2\");\n",
       "\tviewer_16866209377710884.setStyle({\"stick\": {\"radius\": 0.1}, \"sphere\": {\"scale\": 0.15}});\n",
       "\tviewer_16866209377710884.setHoverable({},true,\"\\n            function(atom,viewer,event,container) {\\n                if(!atom.label) {\\n                    atom.label = viewer.addLabel(atom.elem + atom.serial, {position: atom, backgroundColor: 'mintcream', fontColor:'black'});\\n                }\\n            }\\n            \",\"\\n            function(atom,viewer) { \\n                if(atom.label) {\\n                    viewer.removeLabel(atom.label);\\n                    delete atom.label;\\n                }\\n            }\\n            \");\n",
       "\tviewer_16866209377710884.zoomTo();\n",
       "\tviewer_16866209377710884.setBackgroundColor(null);\n",
       "viewer_16866209377710884.render();\n",
       "});\n",
       "</script>"
      ]
     },
     "metadata": {},
     "output_type": "display_data"
    },
    {
     "data": {
      "text/plain": [
       "Molecule(name='3_6_6', formula='C30 H38 Br2 N2 O2')"
      ]
     },
     "execution_count": 8,
     "metadata": {},
     "output_type": "execute_result"
    }
   ],
   "source": [
    "combined[42]"
   ]
  },
  {
   "attachments": {},
   "cell_type": "markdown",
   "metadata": {},
   "source": [
    "3. Conformer Generation"
   ]
  },
  {
   "cell_type": "code",
   "execution_count": 9,
   "metadata": {},
   "outputs": [
    {
     "name": "stderr",
     "output_type": "stream",
     "text": [
      "100%|██████████| 75/75 [02:11<00:00,  1.76s/it]\n"
     ]
    },
    {
     "data": {
      "text/plain": [
       "CompletedProcess(args=['molli', 'conformers', 'ncsa-testing-data/test_combine_new_env.mlib', '-n', '50', '-o', 'ncsa-testing-data/test_conformers_new_env.mlib', '-t', '-p', '100'], returncode=0)"
      ]
     },
     "execution_count": 9,
     "metadata": {},
     "output_type": "execute_result"
    }
   ],
   "source": [
    "subprocess.run(['molli', \n",
    "                'conformers', \n",
    "                'ncsa-testing-data/test_combine_new_env.mlib', \n",
    "                '-n', \n",
    "                '50', \n",
    "                '-o', \n",
    "                'ncsa-testing-data/test_conformers_new_env.mlib', \n",
    "                '-t', \n",
    "                '-p', \n",
    "                '100'])"
   ]
  },
  {
   "cell_type": "code",
   "execution_count": 10,
   "metadata": {},
   "outputs": [
    {
     "name": "stdout",
     "output_type": "stream",
     "text": [
      "75\n"
     ]
    }
   ],
   "source": [
    "clib = ml.ConformerLibrary('ncsa-testing-data/test_conformers_new_env.mlib')\n",
    "print(len(clib))"
   ]
  },
  {
   "cell_type": "code",
   "execution_count": 11,
   "metadata": {},
   "outputs": [
    {
     "name": "stdout",
     "output_type": "stream",
     "text": [
      "8028 conformers in library\n"
     ]
    }
   ],
   "source": [
    "i = 0\n",
    "for conf in clib:\n",
    "    i += conf.n_conformers\n",
    "    # print(conf)\n",
    "print(str(i) + ' conformers in library')"
   ]
  },
  {
   "cell_type": "code",
   "execution_count": 12,
   "metadata": {},
   "outputs": [
    {
     "data": {
      "application/3dmoljs_load.v0": "<div id=\"3dmolviewer_168662107099949\"  style=\"position: relative; width: 1000px; height: 500px\">\n        <p id=\"3dmolwarning_168662107099949\" style=\"background-color:#ffcccc;color:black\">You appear to be running in JupyterLab (or JavaScript failed to load for some other reason).  You need to install the 3dmol extension: <br>\n        <tt>jupyter labextension install jupyterlab_3dmol</tt></p>\n        </div>\n<script>\n\nvar loadScriptAsync = function(uri){\n  return new Promise((resolve, reject) => {\n    //this is to ignore the existence of requirejs amd\n    var savedexports, savedmodule;\n    if (typeof exports !== 'undefined') savedexports = exports;\n    else exports = {}\n    if (typeof module !== 'undefined') savedmodule = module;\n    else module = {}\n\n    var tag = document.createElement('script');\n    tag.src = uri;\n    tag.async = true;\n    tag.onload = () => {\n        exports = savedexports;\n        module = savedmodule;\n        resolve();\n    };\n  var firstScriptTag = document.getElementsByTagName('script')[0];\n  firstScriptTag.parentNode.insertBefore(tag, firstScriptTag);\n});\n};\n\nif(typeof $3Dmolpromise === 'undefined') {\n$3Dmolpromise = null;\n  $3Dmolpromise = loadScriptAsync('https://cdnjs.cloudflare.com/ajax/libs/3Dmol/2.0.1/3Dmol-min.js');\n}\n\nvar viewer_168662107099949 = null;\nvar warn = document.getElementById(\"3dmolwarning_168662107099949\");\nif(warn) {\n    warn.parentNode.removeChild(warn);\n}\n$3Dmolpromise.then(function() {\nviewer_168662107099949 = $3Dmol.createViewer(document.getElementById(\"3dmolviewer_168662107099949\"),{backgroundColor:\"white\"});\nviewer_168662107099949.zoomTo();\n\tviewer_168662107099949.addModel(\"# Produced with molli package\\n@<TRIPOS>MOLECULE\\n1_3_3\\n48 50 0 0 0\\nSMALL\\nUSER_CHARGES\\n\\n@<TRIPOS>ATOM\\n     1 C       0.003300    -0.034100     0.587400 C.3        1 UNL1 0.0\\n     2 C       0.804500     1.170000     0.076200 C.3        1 UNL1 0.0\\n     3 O      -0.061500     2.279300     0.393400 O.2        1 UNL1 0.0\\n     4 C      -1.307600     1.810100     0.377500 C.2        1 UNL1 0.0\\n     5 N      -1.362000     0.534800     0.367800 N.2        1 UNL1 0.0\\n     6 C      -2.517600     2.679600     0.328800 C.3        1 UNL1 0.0\\n     7 C      -3.771400     1.864100     0.299400 C.2        1 UNL1 0.0\\n     8 O      -4.953400     2.367400     0.644700 O.2        1 UNL1 0.0\\n     9 C      -5.857900     1.273200     0.838300 C.3        1 UNL1 0.0\\n    10 C      -5.215800     0.110000     0.073200 C.3        1 UNL1 0.0\\n    11 N      -3.811900     0.627400    -0.021100 N.2        1 UNL1 0.0\\n    12 C      -2.547400    -0.151800    -0.257500 C.3        1 UNL1 0.0\\n    13 BR     -2.146400    -0.144300    -2.207700 Br         1 UNL1 0.0\\n    14 BR     -2.719900    -2.003100     0.328700 Br         1 UNL1 0.0\\n    15 C      -2.513900     3.547900     1.596800 C.3        1 UNL1 0.0\\n    16 C      -2.473500     3.572000    -0.915200 C.3        1 UNL1 0.0\\n    17 H       0.157800    -0.931200    -0.019100 H          1 UNL1 0.0\\n    18 H       1.775000     1.317400     0.554900 H          1 UNL1 0.0\\n    19 H       0.947600     1.145900    -1.010900 H          1 UNL1 0.0\\n    20 H      -5.916700     1.067500     1.913600 H          1 UNL1 0.0\\n    21 H      -6.856200     1.548200     0.484800 H          1 UNL1 0.0\\n    22 H      -5.247600    -0.784700     0.702100 H          1 UNL1 0.0\\n    23 H      -1.596900     4.143400     1.674400 H          1 UNL1 0.0\\n    24 H      -3.361500     4.242600     1.613300 H          1 UNL1 0.0\\n    25 H      -2.579500     2.928100     2.499400 H          1 UNL1 0.0\\n    26 H      -1.580500     4.207300    -0.921300 H          1 UNL1 0.0\\n    27 H      -2.456800     2.979800    -1.836300 H          1 UNL1 0.0\\n    28 H      -3.351900     4.225600    -0.967000 H          1 UNL1 0.0\\n    29 C      -5.938900    -0.129500    -1.271700 C.3        1 UNL1 0.0\\n    30 C      -5.825600     0.998700    -2.301300 C.3        1 UNL1 0.0\\n    31 C      -5.621900    -1.486300    -1.902200 C.3        1 UNL1 0.0\\n    32 H      -7.009000    -0.194500    -1.022800 H          1 UNL1 0.0\\n    33 H      -4.804300     1.131900    -2.662800 H          1 UNL1 0.0\\n    34 H      -6.454200     0.783300    -3.172700 H          1 UNL1 0.0\\n    35 H      -6.165800     1.952700    -1.887200 H          1 UNL1 0.0\\n    36 H      -4.613400    -1.538900    -2.308200 H          1 UNL1 0.0\\n    37 H      -5.742800    -2.293600    -1.172400 H          1 UNL1 0.0\\n    38 H      -6.311900    -1.690700    -2.728900 H          1 UNL1 0.0\\n    39 C       0.312100    -0.251200     2.099300 C.3        1 UNL1 0.0\\n    40 C       1.688800    -0.917300     2.261800 C.3        1 UNL1 0.0\\n    41 C      -0.704300    -1.080900     2.883500 C.3        1 UNL1 0.0\\n    42 H       0.360800     0.726400     2.599800 H          1 UNL1 0.0\\n    43 H       1.933600    -1.050400     3.321500 H          1 UNL1 0.0\\n    44 H       2.489200    -0.317800     1.819700 H          1 UNL1 0.0\\n    45 H       1.705400    -1.904200     1.786300 H          1 UNL1 0.0\\n    46 H      -0.414800    -1.136500     3.939600 H          1 UNL1 0.0\\n    47 H      -0.754500    -2.108400     2.512600 H          1 UNL1 0.0\\n    48 H      -1.700300    -0.630000     2.858200 H          1 UNL1 0.0\\n@<TRIPOS>BOND\\n     1      1      2          1\\n     2      2      3          1\\n     3      3      4          1\\n     4      4      5          2\\n     5      5      1          1\\n     6      4      6          1\\n     7      6      7          1\\n     8      7      8          1\\n     9      8      9          1\\n    10      9     10          1\\n    11     10     11          1\\n    12     11      7          2\\n    13     11     12          1\\n    14     12      5          1\\n    15     12     13          1\\n    16     12     14          1\\n    17      6     15          1\\n    18      6     16          1\\n    19      1     17          1\\n    20      2     18          1\\n    21      2     19          1\\n    22      9     20          1\\n    23      9     21          1\\n    24     10     22          1\\n    25     15     23          1\\n    26     15     24          1\\n    27     15     25          1\\n    28     16     26          1\\n    29     16     27          1\\n    30     16     28          1\\n    31     29     30          1\\n    32     29     31          1\\n    33     29     32          1\\n    34     30     33          1\\n    35     30     34          1\\n    36     30     35          1\\n    37     31     36          1\\n    38     31     37          1\\n    39     31     38          1\\n    40     10     29          1\\n    41     39     40          1\\n    42     39     41          1\\n    43     39     42          1\\n    44     40     43          1\\n    45     40     44          1\\n    46     40     45          1\\n    47     41     46          1\\n    48     41     47          1\\n    49     41     48          1\\n    50      1     39          1\\n\",\"mol2\");\n\tviewer_168662107099949.setStyle({\"stick\": {\"radius\": 0.1}, \"sphere\": {\"scale\": 0.15}});\n\tviewer_168662107099949.setHoverable({},true,\"\\n            function(atom,viewer,event,container) {\\n                if(!atom.label) {\\n                    atom.label = viewer.addLabel(atom.elem + atom.serial, {position: atom, backgroundColor: 'mintcream', fontColor:'black'});\\n                }\\n            }\\n            \",\"\\n            function(atom,viewer) { \\n                if(atom.label) {\\n                    viewer.removeLabel(atom.label);\\n                    delete atom.label;\\n                }\\n            }\\n            \");\n\tviewer_168662107099949.zoomTo();\n\tviewer_168662107099949.setBackgroundColor(null);\nviewer_168662107099949.render();\n});\n</script>",
      "text/html": [
       "<div id=\"3dmolviewer_168662107099949\"  style=\"position: relative; width: 1000px; height: 500px\">\n",
       "        <p id=\"3dmolwarning_168662107099949\" style=\"background-color:#ffcccc;color:black\">You appear to be running in JupyterLab (or JavaScript failed to load for some other reason).  You need to install the 3dmol extension: <br>\n",
       "        <tt>jupyter labextension install jupyterlab_3dmol</tt></p>\n",
       "        </div>\n",
       "<script>\n",
       "\n",
       "var loadScriptAsync = function(uri){\n",
       "  return new Promise((resolve, reject) => {\n",
       "    //this is to ignore the existence of requirejs amd\n",
       "    var savedexports, savedmodule;\n",
       "    if (typeof exports !== 'undefined') savedexports = exports;\n",
       "    else exports = {}\n",
       "    if (typeof module !== 'undefined') savedmodule = module;\n",
       "    else module = {}\n",
       "\n",
       "    var tag = document.createElement('script');\n",
       "    tag.src = uri;\n",
       "    tag.async = true;\n",
       "    tag.onload = () => {\n",
       "        exports = savedexports;\n",
       "        module = savedmodule;\n",
       "        resolve();\n",
       "    };\n",
       "  var firstScriptTag = document.getElementsByTagName('script')[0];\n",
       "  firstScriptTag.parentNode.insertBefore(tag, firstScriptTag);\n",
       "});\n",
       "};\n",
       "\n",
       "if(typeof $3Dmolpromise === 'undefined') {\n",
       "$3Dmolpromise = null;\n",
       "  $3Dmolpromise = loadScriptAsync('https://cdnjs.cloudflare.com/ajax/libs/3Dmol/2.0.1/3Dmol-min.js');\n",
       "}\n",
       "\n",
       "var viewer_168662107099949 = null;\n",
       "var warn = document.getElementById(\"3dmolwarning_168662107099949\");\n",
       "if(warn) {\n",
       "    warn.parentNode.removeChild(warn);\n",
       "}\n",
       "$3Dmolpromise.then(function() {\n",
       "viewer_168662107099949 = $3Dmol.createViewer(document.getElementById(\"3dmolviewer_168662107099949\"),{backgroundColor:\"white\"});\n",
       "viewer_168662107099949.zoomTo();\n",
       "\tviewer_168662107099949.addModel(\"# Produced with molli package\\n@<TRIPOS>MOLECULE\\n1_3_3\\n48 50 0 0 0\\nSMALL\\nUSER_CHARGES\\n\\n@<TRIPOS>ATOM\\n     1 C       0.003300    -0.034100     0.587400 C.3        1 UNL1 0.0\\n     2 C       0.804500     1.170000     0.076200 C.3        1 UNL1 0.0\\n     3 O      -0.061500     2.279300     0.393400 O.2        1 UNL1 0.0\\n     4 C      -1.307600     1.810100     0.377500 C.2        1 UNL1 0.0\\n     5 N      -1.362000     0.534800     0.367800 N.2        1 UNL1 0.0\\n     6 C      -2.517600     2.679600     0.328800 C.3        1 UNL1 0.0\\n     7 C      -3.771400     1.864100     0.299400 C.2        1 UNL1 0.0\\n     8 O      -4.953400     2.367400     0.644700 O.2        1 UNL1 0.0\\n     9 C      -5.857900     1.273200     0.838300 C.3        1 UNL1 0.0\\n    10 C      -5.215800     0.110000     0.073200 C.3        1 UNL1 0.0\\n    11 N      -3.811900     0.627400    -0.021100 N.2        1 UNL1 0.0\\n    12 C      -2.547400    -0.151800    -0.257500 C.3        1 UNL1 0.0\\n    13 BR     -2.146400    -0.144300    -2.207700 Br         1 UNL1 0.0\\n    14 BR     -2.719900    -2.003100     0.328700 Br         1 UNL1 0.0\\n    15 C      -2.513900     3.547900     1.596800 C.3        1 UNL1 0.0\\n    16 C      -2.473500     3.572000    -0.915200 C.3        1 UNL1 0.0\\n    17 H       0.157800    -0.931200    -0.019100 H          1 UNL1 0.0\\n    18 H       1.775000     1.317400     0.554900 H          1 UNL1 0.0\\n    19 H       0.947600     1.145900    -1.010900 H          1 UNL1 0.0\\n    20 H      -5.916700     1.067500     1.913600 H          1 UNL1 0.0\\n    21 H      -6.856200     1.548200     0.484800 H          1 UNL1 0.0\\n    22 H      -5.247600    -0.784700     0.702100 H          1 UNL1 0.0\\n    23 H      -1.596900     4.143400     1.674400 H          1 UNL1 0.0\\n    24 H      -3.361500     4.242600     1.613300 H          1 UNL1 0.0\\n    25 H      -2.579500     2.928100     2.499400 H          1 UNL1 0.0\\n    26 H      -1.580500     4.207300    -0.921300 H          1 UNL1 0.0\\n    27 H      -2.456800     2.979800    -1.836300 H          1 UNL1 0.0\\n    28 H      -3.351900     4.225600    -0.967000 H          1 UNL1 0.0\\n    29 C      -5.938900    -0.129500    -1.271700 C.3        1 UNL1 0.0\\n    30 C      -5.825600     0.998700    -2.301300 C.3        1 UNL1 0.0\\n    31 C      -5.621900    -1.486300    -1.902200 C.3        1 UNL1 0.0\\n    32 H      -7.009000    -0.194500    -1.022800 H          1 UNL1 0.0\\n    33 H      -4.804300     1.131900    -2.662800 H          1 UNL1 0.0\\n    34 H      -6.454200     0.783300    -3.172700 H          1 UNL1 0.0\\n    35 H      -6.165800     1.952700    -1.887200 H          1 UNL1 0.0\\n    36 H      -4.613400    -1.538900    -2.308200 H          1 UNL1 0.0\\n    37 H      -5.742800    -2.293600    -1.172400 H          1 UNL1 0.0\\n    38 H      -6.311900    -1.690700    -2.728900 H          1 UNL1 0.0\\n    39 C       0.312100    -0.251200     2.099300 C.3        1 UNL1 0.0\\n    40 C       1.688800    -0.917300     2.261800 C.3        1 UNL1 0.0\\n    41 C      -0.704300    -1.080900     2.883500 C.3        1 UNL1 0.0\\n    42 H       0.360800     0.726400     2.599800 H          1 UNL1 0.0\\n    43 H       1.933600    -1.050400     3.321500 H          1 UNL1 0.0\\n    44 H       2.489200    -0.317800     1.819700 H          1 UNL1 0.0\\n    45 H       1.705400    -1.904200     1.786300 H          1 UNL1 0.0\\n    46 H      -0.414800    -1.136500     3.939600 H          1 UNL1 0.0\\n    47 H      -0.754500    -2.108400     2.512600 H          1 UNL1 0.0\\n    48 H      -1.700300    -0.630000     2.858200 H          1 UNL1 0.0\\n@<TRIPOS>BOND\\n     1      1      2          1\\n     2      2      3          1\\n     3      3      4          1\\n     4      4      5          2\\n     5      5      1          1\\n     6      4      6          1\\n     7      6      7          1\\n     8      7      8          1\\n     9      8      9          1\\n    10      9     10          1\\n    11     10     11          1\\n    12     11      7          2\\n    13     11     12          1\\n    14     12      5          1\\n    15     12     13          1\\n    16     12     14          1\\n    17      6     15          1\\n    18      6     16          1\\n    19      1     17          1\\n    20      2     18          1\\n    21      2     19          1\\n    22      9     20          1\\n    23      9     21          1\\n    24     10     22          1\\n    25     15     23          1\\n    26     15     24          1\\n    27     15     25          1\\n    28     16     26          1\\n    29     16     27          1\\n    30     16     28          1\\n    31     29     30          1\\n    32     29     31          1\\n    33     29     32          1\\n    34     30     33          1\\n    35     30     34          1\\n    36     30     35          1\\n    37     31     36          1\\n    38     31     37          1\\n    39     31     38          1\\n    40     10     29          1\\n    41     39     40          1\\n    42     39     41          1\\n    43     39     42          1\\n    44     40     43          1\\n    45     40     44          1\\n    46     40     45          1\\n    47     41     46          1\\n    48     41     47          1\\n    49     41     48          1\\n    50      1     39          1\\n\",\"mol2\");\n",
       "\tviewer_168662107099949.setStyle({\"stick\": {\"radius\": 0.1}, \"sphere\": {\"scale\": 0.15}});\n",
       "\tviewer_168662107099949.setHoverable({},true,\"\\n            function(atom,viewer,event,container) {\\n                if(!atom.label) {\\n                    atom.label = viewer.addLabel(atom.elem + atom.serial, {position: atom, backgroundColor: 'mintcream', fontColor:'black'});\\n                }\\n            }\\n            \",\"\\n            function(atom,viewer) { \\n                if(atom.label) {\\n                    viewer.removeLabel(atom.label);\\n                    delete atom.label;\\n                }\\n            }\\n            \");\n",
       "\tviewer_168662107099949.zoomTo();\n",
       "\tviewer_168662107099949.setBackgroundColor(null);\n",
       "viewer_168662107099949.render();\n",
       "});\n",
       "</script>"
      ]
     },
     "metadata": {},
     "output_type": "display_data"
    },
    {
     "data": {
      "text/plain": [
       "Conformer(name='1_3_3', formula='C16 H26 Br2 N2 O2')"
      ]
     },
     "execution_count": 12,
     "metadata": {},
     "output_type": "execute_result"
    }
   ],
   "source": [
    "clib[0][0]"
   ]
  },
  {
   "cell_type": "code",
   "execution_count": 13,
   "metadata": {},
   "outputs": [
    {
     "data": {
      "application/3dmoljs_load.v0": "<div id=\"3dmolviewer_1686621071013406\"  style=\"position: relative; width: 1000px; height: 500px\">\n        <p id=\"3dmolwarning_1686621071013406\" style=\"background-color:#ffcccc;color:black\">You appear to be running in JupyterLab (or JavaScript failed to load for some other reason).  You need to install the 3dmol extension: <br>\n        <tt>jupyter labextension install jupyterlab_3dmol</tt></p>\n        </div>\n<script>\n\nvar loadScriptAsync = function(uri){\n  return new Promise((resolve, reject) => {\n    //this is to ignore the existence of requirejs amd\n    var savedexports, savedmodule;\n    if (typeof exports !== 'undefined') savedexports = exports;\n    else exports = {}\n    if (typeof module !== 'undefined') savedmodule = module;\n    else module = {}\n\n    var tag = document.createElement('script');\n    tag.src = uri;\n    tag.async = true;\n    tag.onload = () => {\n        exports = savedexports;\n        module = savedmodule;\n        resolve();\n    };\n  var firstScriptTag = document.getElementsByTagName('script')[0];\n  firstScriptTag.parentNode.insertBefore(tag, firstScriptTag);\n});\n};\n\nif(typeof $3Dmolpromise === 'undefined') {\n$3Dmolpromise = null;\n  $3Dmolpromise = loadScriptAsync('https://cdnjs.cloudflare.com/ajax/libs/3Dmol/2.0.1/3Dmol-min.js');\n}\n\nvar viewer_1686621071013406 = null;\nvar warn = document.getElementById(\"3dmolwarning_1686621071013406\");\nif(warn) {\n    warn.parentNode.removeChild(warn);\n}\n$3Dmolpromise.then(function() {\nviewer_1686621071013406 = $3Dmol.createViewer(document.getElementById(\"3dmolviewer_1686621071013406\"),{backgroundColor:\"white\"});\nviewer_1686621071013406.zoomTo();\n\tviewer_1686621071013406.addModel(\"# Produced with molli package\\n@<TRIPOS>MOLECULE\\n1_3_3\\n48 50 0 0 0\\nSMALL\\nUSER_CHARGES\\n\\n@<TRIPOS>ATOM\\n     1 C       0.020600    -0.038200     0.521500 C.3        1 UNL1 0.0\\n     2 C       0.840300     1.220400     0.240400 C.3        1 UNL1 0.0\\n     3 O      -0.077000     2.291900     0.521300 O.2        1 UNL1 0.0\\n     4 C      -1.311700     1.806300     0.405900 C.2        1 UNL1 0.0\\n     5 N      -1.350800     0.532300     0.339300 N.2        1 UNL1 0.0\\n     6 C      -2.520200     2.676900     0.328600 C.3        1 UNL1 0.0\\n     7 C      -3.777600     1.874400     0.270200 C.2        1 UNL1 0.0\\n     8 O      -4.977300     2.406500     0.487300 O.2        1 UNL1 0.0\\n     9 C      -5.934900     1.343000     0.597900 C.3        1 UNL1 0.0\\n    10 C      -5.222000     0.124400     0.012800 C.3        1 UNL1 0.0\\n    11 N      -3.810200     0.626100     0.008400 N.2        1 UNL1 0.0\\n    12 C      -2.560100    -0.182600    -0.188000 C.3        1 UNL1 0.0\\n    13 BR     -2.761400    -1.948000     0.623600 Br         1 UNL1 0.0\\n    14 BR     -2.233100    -0.382500    -2.132700 Br         1 UNL1 0.0\\n    15 C      -2.435300     3.548500    -0.929200 C.3        1 UNL1 0.0\\n    16 C      -2.552100     3.560500     1.584300 C.3        1 UNL1 0.0\\n    17 H       0.200300    -0.804800    -0.239600 H          1 UNL1 0.0\\n    18 H       1.738600     1.327700     0.853100 H          1 UNL1 0.0\\n    19 H       1.129500     1.291700    -0.814900 H          1 UNL1 0.0\\n    20 H      -6.859600     1.622100     0.087100 H          1 UNL1 0.0\\n    21 H      -6.161600     1.204000     1.661400 H          1 UNL1 0.0\\n    22 H      -5.300100    -0.707700     0.719400 H          1 UNL1 0.0\\n    23 H      -2.392200     2.936400    -1.837400 H          1 UNL1 0.0\\n    24 H      -3.308800     4.204400    -1.020300 H          1 UNL1 0.0\\n    25 H      -1.539900     4.180400    -0.919700 H          1 UNL1 0.0\\n    26 H      -3.403100     4.251000     1.570800 H          1 UNL1 0.0\\n    27 H      -2.637800     2.951500     2.492400 H          1 UNL1 0.0\\n    28 H      -1.640500     4.161800     1.678000 H          1 UNL1 0.0\\n    29 C      -5.711300    -0.306400    -1.384700 C.3        1 UNL1 0.0\\n    30 C      -7.085600    -0.981500    -1.276300 C.3        1 UNL1 0.0\\n    31 C      -5.786500     0.822900    -2.420600 C.3        1 UNL1 0.0\\n    32 H      -5.032000    -1.072100    -1.774800 H          1 UNL1 0.0\\n    33 H      -7.854300    -0.286000    -0.924600 H          1 UNL1 0.0\\n    34 H      -7.404000    -1.367400    -2.250800 H          1 UNL1 0.0\\n    35 H      -7.049100    -1.827400    -0.581600 H          1 UNL1 0.0\\n    36 H      -6.554400     1.560600    -2.167800 H          1 UNL1 0.0\\n    37 H      -4.834400     1.350300    -2.522700 H          1 UNL1 0.0\\n    38 H      -6.040200     0.415400    -3.405700 H          1 UNL1 0.0\\n    39 C       0.226800    -0.610800     1.948300 C.3        1 UNL1 0.0\\n    40 C       0.073900     0.398100     3.094200 C.3        1 UNL1 0.0\\n    41 C       1.598900    -1.291500     2.048600 C.3        1 UNL1 0.0\\n    42 H      -0.509500    -1.397100     2.133000 H          1 UNL1 0.0\\n    43 H       0.810200     1.205200     3.033500 H          1 UNL1 0.0\\n    44 H      -0.926400     0.841300     3.106200 H          1 UNL1 0.0\\n    45 H       0.214900    -0.099700     4.060300 H          1 UNL1 0.0\\n    46 H       1.708800    -1.796500     3.014500 H          1 UNL1 0.0\\n    47 H       2.419500    -0.573700     1.954100 H          1 UNL1 0.0\\n    48 H       1.715200    -2.048200     1.265500 H          1 UNL1 0.0\\n@<TRIPOS>BOND\\n     1      1      2          1\\n     2      2      3          1\\n     3      3      4          1\\n     4      4      5          2\\n     5      5      1          1\\n     6      4      6          1\\n     7      6      7          1\\n     8      7      8          1\\n     9      8      9          1\\n    10      9     10          1\\n    11     10     11          1\\n    12     11      7          2\\n    13     11     12          1\\n    14     12      5          1\\n    15     12     13          1\\n    16     12     14          1\\n    17      6     15          1\\n    18      6     16          1\\n    19      1     17          1\\n    20      2     18          1\\n    21      2     19          1\\n    22      9     20          1\\n    23      9     21          1\\n    24     10     22          1\\n    25     15     23          1\\n    26     15     24          1\\n    27     15     25          1\\n    28     16     26          1\\n    29     16     27          1\\n    30     16     28          1\\n    31     29     30          1\\n    32     29     31          1\\n    33     29     32          1\\n    34     30     33          1\\n    35     30     34          1\\n    36     30     35          1\\n    37     31     36          1\\n    38     31     37          1\\n    39     31     38          1\\n    40     10     29          1\\n    41     39     40          1\\n    42     39     41          1\\n    43     39     42          1\\n    44     40     43          1\\n    45     40     44          1\\n    46     40     45          1\\n    47     41     46          1\\n    48     41     47          1\\n    49     41     48          1\\n    50      1     39          1\\n\",\"mol2\");\n\tviewer_1686621071013406.setStyle({\"stick\": {\"radius\": 0.1}, \"sphere\": {\"scale\": 0.15}});\n\tviewer_1686621071013406.setHoverable({},true,\"\\n            function(atom,viewer,event,container) {\\n                if(!atom.label) {\\n                    atom.label = viewer.addLabel(atom.elem + atom.serial, {position: atom, backgroundColor: 'mintcream', fontColor:'black'});\\n                }\\n            }\\n            \",\"\\n            function(atom,viewer) { \\n                if(atom.label) {\\n                    viewer.removeLabel(atom.label);\\n                    delete atom.label;\\n                }\\n            }\\n            \");\n\tviewer_1686621071013406.zoomTo();\n\tviewer_1686621071013406.setBackgroundColor(null);\nviewer_1686621071013406.render();\n});\n</script>",
      "text/html": [
       "<div id=\"3dmolviewer_1686621071013406\"  style=\"position: relative; width: 1000px; height: 500px\">\n",
       "        <p id=\"3dmolwarning_1686621071013406\" style=\"background-color:#ffcccc;color:black\">You appear to be running in JupyterLab (or JavaScript failed to load for some other reason).  You need to install the 3dmol extension: <br>\n",
       "        <tt>jupyter labextension install jupyterlab_3dmol</tt></p>\n",
       "        </div>\n",
       "<script>\n",
       "\n",
       "var loadScriptAsync = function(uri){\n",
       "  return new Promise((resolve, reject) => {\n",
       "    //this is to ignore the existence of requirejs amd\n",
       "    var savedexports, savedmodule;\n",
       "    if (typeof exports !== 'undefined') savedexports = exports;\n",
       "    else exports = {}\n",
       "    if (typeof module !== 'undefined') savedmodule = module;\n",
       "    else module = {}\n",
       "\n",
       "    var tag = document.createElement('script');\n",
       "    tag.src = uri;\n",
       "    tag.async = true;\n",
       "    tag.onload = () => {\n",
       "        exports = savedexports;\n",
       "        module = savedmodule;\n",
       "        resolve();\n",
       "    };\n",
       "  var firstScriptTag = document.getElementsByTagName('script')[0];\n",
       "  firstScriptTag.parentNode.insertBefore(tag, firstScriptTag);\n",
       "});\n",
       "};\n",
       "\n",
       "if(typeof $3Dmolpromise === 'undefined') {\n",
       "$3Dmolpromise = null;\n",
       "  $3Dmolpromise = loadScriptAsync('https://cdnjs.cloudflare.com/ajax/libs/3Dmol/2.0.1/3Dmol-min.js');\n",
       "}\n",
       "\n",
       "var viewer_1686621071013406 = null;\n",
       "var warn = document.getElementById(\"3dmolwarning_1686621071013406\");\n",
       "if(warn) {\n",
       "    warn.parentNode.removeChild(warn);\n",
       "}\n",
       "$3Dmolpromise.then(function() {\n",
       "viewer_1686621071013406 = $3Dmol.createViewer(document.getElementById(\"3dmolviewer_1686621071013406\"),{backgroundColor:\"white\"});\n",
       "viewer_1686621071013406.zoomTo();\n",
       "\tviewer_1686621071013406.addModel(\"# Produced with molli package\\n@<TRIPOS>MOLECULE\\n1_3_3\\n48 50 0 0 0\\nSMALL\\nUSER_CHARGES\\n\\n@<TRIPOS>ATOM\\n     1 C       0.020600    -0.038200     0.521500 C.3        1 UNL1 0.0\\n     2 C       0.840300     1.220400     0.240400 C.3        1 UNL1 0.0\\n     3 O      -0.077000     2.291900     0.521300 O.2        1 UNL1 0.0\\n     4 C      -1.311700     1.806300     0.405900 C.2        1 UNL1 0.0\\n     5 N      -1.350800     0.532300     0.339300 N.2        1 UNL1 0.0\\n     6 C      -2.520200     2.676900     0.328600 C.3        1 UNL1 0.0\\n     7 C      -3.777600     1.874400     0.270200 C.2        1 UNL1 0.0\\n     8 O      -4.977300     2.406500     0.487300 O.2        1 UNL1 0.0\\n     9 C      -5.934900     1.343000     0.597900 C.3        1 UNL1 0.0\\n    10 C      -5.222000     0.124400     0.012800 C.3        1 UNL1 0.0\\n    11 N      -3.810200     0.626100     0.008400 N.2        1 UNL1 0.0\\n    12 C      -2.560100    -0.182600    -0.188000 C.3        1 UNL1 0.0\\n    13 BR     -2.761400    -1.948000     0.623600 Br         1 UNL1 0.0\\n    14 BR     -2.233100    -0.382500    -2.132700 Br         1 UNL1 0.0\\n    15 C      -2.435300     3.548500    -0.929200 C.3        1 UNL1 0.0\\n    16 C      -2.552100     3.560500     1.584300 C.3        1 UNL1 0.0\\n    17 H       0.200300    -0.804800    -0.239600 H          1 UNL1 0.0\\n    18 H       1.738600     1.327700     0.853100 H          1 UNL1 0.0\\n    19 H       1.129500     1.291700    -0.814900 H          1 UNL1 0.0\\n    20 H      -6.859600     1.622100     0.087100 H          1 UNL1 0.0\\n    21 H      -6.161600     1.204000     1.661400 H          1 UNL1 0.0\\n    22 H      -5.300100    -0.707700     0.719400 H          1 UNL1 0.0\\n    23 H      -2.392200     2.936400    -1.837400 H          1 UNL1 0.0\\n    24 H      -3.308800     4.204400    -1.020300 H          1 UNL1 0.0\\n    25 H      -1.539900     4.180400    -0.919700 H          1 UNL1 0.0\\n    26 H      -3.403100     4.251000     1.570800 H          1 UNL1 0.0\\n    27 H      -2.637800     2.951500     2.492400 H          1 UNL1 0.0\\n    28 H      -1.640500     4.161800     1.678000 H          1 UNL1 0.0\\n    29 C      -5.711300    -0.306400    -1.384700 C.3        1 UNL1 0.0\\n    30 C      -7.085600    -0.981500    -1.276300 C.3        1 UNL1 0.0\\n    31 C      -5.786500     0.822900    -2.420600 C.3        1 UNL1 0.0\\n    32 H      -5.032000    -1.072100    -1.774800 H          1 UNL1 0.0\\n    33 H      -7.854300    -0.286000    -0.924600 H          1 UNL1 0.0\\n    34 H      -7.404000    -1.367400    -2.250800 H          1 UNL1 0.0\\n    35 H      -7.049100    -1.827400    -0.581600 H          1 UNL1 0.0\\n    36 H      -6.554400     1.560600    -2.167800 H          1 UNL1 0.0\\n    37 H      -4.834400     1.350300    -2.522700 H          1 UNL1 0.0\\n    38 H      -6.040200     0.415400    -3.405700 H          1 UNL1 0.0\\n    39 C       0.226800    -0.610800     1.948300 C.3        1 UNL1 0.0\\n    40 C       0.073900     0.398100     3.094200 C.3        1 UNL1 0.0\\n    41 C       1.598900    -1.291500     2.048600 C.3        1 UNL1 0.0\\n    42 H      -0.509500    -1.397100     2.133000 H          1 UNL1 0.0\\n    43 H       0.810200     1.205200     3.033500 H          1 UNL1 0.0\\n    44 H      -0.926400     0.841300     3.106200 H          1 UNL1 0.0\\n    45 H       0.214900    -0.099700     4.060300 H          1 UNL1 0.0\\n    46 H       1.708800    -1.796500     3.014500 H          1 UNL1 0.0\\n    47 H       2.419500    -0.573700     1.954100 H          1 UNL1 0.0\\n    48 H       1.715200    -2.048200     1.265500 H          1 UNL1 0.0\\n@<TRIPOS>BOND\\n     1      1      2          1\\n     2      2      3          1\\n     3      3      4          1\\n     4      4      5          2\\n     5      5      1          1\\n     6      4      6          1\\n     7      6      7          1\\n     8      7      8          1\\n     9      8      9          1\\n    10      9     10          1\\n    11     10     11          1\\n    12     11      7          2\\n    13     11     12          1\\n    14     12      5          1\\n    15     12     13          1\\n    16     12     14          1\\n    17      6     15          1\\n    18      6     16          1\\n    19      1     17          1\\n    20      2     18          1\\n    21      2     19          1\\n    22      9     20          1\\n    23      9     21          1\\n    24     10     22          1\\n    25     15     23          1\\n    26     15     24          1\\n    27     15     25          1\\n    28     16     26          1\\n    29     16     27          1\\n    30     16     28          1\\n    31     29     30          1\\n    32     29     31          1\\n    33     29     32          1\\n    34     30     33          1\\n    35     30     34          1\\n    36     30     35          1\\n    37     31     36          1\\n    38     31     37          1\\n    39     31     38          1\\n    40     10     29          1\\n    41     39     40          1\\n    42     39     41          1\\n    43     39     42          1\\n    44     40     43          1\\n    45     40     44          1\\n    46     40     45          1\\n    47     41     46          1\\n    48     41     47          1\\n    49     41     48          1\\n    50      1     39          1\\n\",\"mol2\");\n",
       "\tviewer_1686621071013406.setStyle({\"stick\": {\"radius\": 0.1}, \"sphere\": {\"scale\": 0.15}});\n",
       "\tviewer_1686621071013406.setHoverable({},true,\"\\n            function(atom,viewer,event,container) {\\n                if(!atom.label) {\\n                    atom.label = viewer.addLabel(atom.elem + atom.serial, {position: atom, backgroundColor: 'mintcream', fontColor:'black'});\\n                }\\n            }\\n            \",\"\\n            function(atom,viewer) { \\n                if(atom.label) {\\n                    viewer.removeLabel(atom.label);\\n                    delete atom.label;\\n                }\\n            }\\n            \");\n",
       "\tviewer_1686621071013406.zoomTo();\n",
       "\tviewer_1686621071013406.setBackgroundColor(null);\n",
       "viewer_1686621071013406.render();\n",
       "});\n",
       "</script>"
      ]
     },
     "metadata": {},
     "output_type": "display_data"
    },
    {
     "data": {
      "text/plain": [
       "Conformer(name='1_3_3', formula='C16 H26 Br2 N2 O2')"
      ]
     },
     "execution_count": 13,
     "metadata": {},
     "output_type": "execute_result"
    }
   ],
   "source": [
    "clib[0][1]"
   ]
  },
  {
   "cell_type": "code",
   "execution_count": 14,
   "metadata": {},
   "outputs": [
    {
     "data": {
      "application/3dmoljs_load.v0": "<div id=\"3dmolviewer_16866210710256321\"  style=\"position: relative; width: 1000px; height: 500px\">\n        <p id=\"3dmolwarning_16866210710256321\" style=\"background-color:#ffcccc;color:black\">You appear to be running in JupyterLab (or JavaScript failed to load for some other reason).  You need to install the 3dmol extension: <br>\n        <tt>jupyter labextension install jupyterlab_3dmol</tt></p>\n        </div>\n<script>\n\nvar loadScriptAsync = function(uri){\n  return new Promise((resolve, reject) => {\n    //this is to ignore the existence of requirejs amd\n    var savedexports, savedmodule;\n    if (typeof exports !== 'undefined') savedexports = exports;\n    else exports = {}\n    if (typeof module !== 'undefined') savedmodule = module;\n    else module = {}\n\n    var tag = document.createElement('script');\n    tag.src = uri;\n    tag.async = true;\n    tag.onload = () => {\n        exports = savedexports;\n        module = savedmodule;\n        resolve();\n    };\n  var firstScriptTag = document.getElementsByTagName('script')[0];\n  firstScriptTag.parentNode.insertBefore(tag, firstScriptTag);\n});\n};\n\nif(typeof $3Dmolpromise === 'undefined') {\n$3Dmolpromise = null;\n  $3Dmolpromise = loadScriptAsync('https://cdnjs.cloudflare.com/ajax/libs/3Dmol/2.0.1/3Dmol-min.js');\n}\n\nvar viewer_16866210710256321 = null;\nvar warn = document.getElementById(\"3dmolwarning_16866210710256321\");\nif(warn) {\n    warn.parentNode.removeChild(warn);\n}\n$3Dmolpromise.then(function() {\nviewer_16866210710256321 = $3Dmol.createViewer(document.getElementById(\"3dmolviewer_16866210710256321\"),{backgroundColor:\"white\"});\nviewer_16866210710256321.zoomTo();\n\tviewer_16866210710256321.addModel(\"# Produced with molli package\\n@<TRIPOS>MOLECULE\\n3_6_6\\n74 78 0 0 0\\nSMALL\\nUSER_CHARGES\\n\\n@<TRIPOS>ATOM\\n     1 C       0.129900     0.078600     0.212400 C.3        1 UNL1 0.0\\n     2 C       0.809000     1.258600     0.945800 C.3        1 UNL1 0.0\\n     3 O      -0.109000     2.327100     0.623900 O.2        1 UNL1 0.0\\n     4 C      -1.322000     1.802000     0.448600 C.2        1 UNL1 0.0\\n     5 N      -1.318500     0.532600     0.309500 N.2        1 UNL1 0.0\\n     6 C      -2.521100     2.670500     0.307400 C.3        1 UNL1 0.0\\n     7 C      -3.777900     1.881000     0.260800 C.2        1 UNL1 0.0\\n     8 O      -4.963300     2.443700     0.474500 O.2        1 UNL1 0.0\\n     9 C      -5.936800     1.405600     0.680700 C.3        1 UNL1 0.0\\n    10 C      -5.274600     0.151300     0.059200 C.3        1 UNL1 0.0\\n    11 N      -3.831000     0.629800     0.026100 N.2        1 UNL1 0.0\\n    12 C      -2.576600    -0.225000    -0.065800 C.3        1 UNL1 0.0\\n    13 BR     -2.822700    -1.681900     1.212100 Br         1 UNL1 0.0\\n    14 BR     -2.341800    -0.756700    -1.924200 Br         1 UNL1 0.0\\n    15 C      -2.409100     3.465700    -0.999800 C.3        1 UNL1 0.0\\n    16 C      -2.572300     3.630200     1.505300 C.3        1 UNL1 0.0\\n    17 C      -7.329200     1.879800     0.217000 C.3        1 UNL1 0.0\\n    18 C      -7.958700     2.770700     1.300100 C.3        1 UNL1 0.0\\n    19 C      -7.313800     2.677600    -1.092800 C.3        1 UNL1 0.0\\n    20 C       0.979900     1.209000     2.491200 C.3        1 UNL1 0.0\\n    21 C       1.150900     2.625800     3.066800 C.3        1 UNL1 0.0\\n    22 C       2.182400     0.371700     2.939600 C.3        1 UNL1 0.0\\n    23 H       0.371700     0.184300    -0.852400 H          1 UNL1 0.0\\n    24 H       1.772200     1.488300     0.473100 H          1 UNL1 0.0\\n    25 H      -5.978100     1.242600     1.768000 H          1 UNL1 0.0\\n    26 H      -5.365100    -0.652000     0.792900 H          1 UNL1 0.0\\n    27 H      -1.529300     4.118200    -0.998900 H          1 UNL1 0.0\\n    28 H      -3.293700     4.092000    -1.160200 H          1 UNL1 0.0\\n    29 H      -2.323300     2.797300    -1.865600 H          1 UNL1 0.0\\n    30 H      -3.434100     4.304300     1.449000 H          1 UNL1 0.0\\n    31 H      -1.673100     4.254700     1.560700 H          1 UNL1 0.0\\n    32 H      -2.648100     3.078400     2.449700 H          1 UNL1 0.0\\n    33 H      -7.989400     1.011500     0.109000 H          1 UNL1 0.0\\n    34 H      -7.344800     3.655700     1.498700 H          1 UNL1 0.0\\n    35 H      -8.073300     2.218500     2.238400 H          1 UNL1 0.0\\n    36 H      -8.953900     3.109400     0.994500 H          1 UNL1 0.0\\n    37 H      -6.772100     3.623000    -0.982400 H          1 UNL1 0.0\\n    38 H      -6.852900     2.125500    -1.912600 H          1 UNL1 0.0\\n    39 H      -8.335900     2.920400    -1.401400 H          1 UNL1 0.0\\n    40 H       0.075800     0.789900     2.948000 H          1 UNL1 0.0\\n    41 H       1.997000     3.140400     2.598800 H          1 UNL1 0.0\\n    42 H       0.254400     3.234400     2.911400 H          1 UNL1 0.0\\n    43 H       1.329300     2.591900     4.146400 H          1 UNL1 0.0\\n    44 H       3.073700     0.608600     2.349800 H          1 UNL1 0.0\\n    45 H       2.420400     0.555700     3.992900 H          1 UNL1 0.0\\n    46 H       1.986900    -0.699300     2.861700 H          1 UNL1 0.0\\n    47 C      -5.811000    -0.266600    -1.318400 C.3        1 UNL1 0.0\\n    48 C      -5.568500    -1.701000    -1.733700 C.ar       1 UNL1 0.0\\n    49 C      -5.306800    -1.979200    -3.086600 C.ar       1 UNL1 0.0\\n    50 C      -5.087400    -3.287400    -3.520400 C.ar       1 UNL1 0.0\\n    51 C      -5.157400    -4.340800    -2.615500 C.ar       1 UNL1 0.0\\n    52 C      -5.474100    -4.089100    -1.283700 C.ar       1 UNL1 0.0\\n    53 C      -5.697100    -2.780300    -0.847300 C.ar       1 UNL1 0.0\\n    54 H      -6.901400    -0.170400    -1.342900 H          1 UNL1 0.0\\n    55 H      -5.413100     0.407800    -2.088000 H          1 UNL1 0.0\\n    56 H      -5.276500    -1.183300    -3.830300 H          1 UNL1 0.0\\n    57 H      -4.882700    -3.489000    -4.570500 H          1 UNL1 0.0\\n    58 H      -5.003200    -5.362700    -2.957600 H          1 UNL1 0.0\\n    59 H      -5.580100    -4.925100    -0.593600 H          1 UNL1 0.0\\n    60 H      -6.010500    -2.651200     0.185700 H          1 UNL1 0.0\\n    61 C       0.532300    -1.304300     0.715900 C.3        1 UNL1 0.0\\n    62 C       0.311300    -2.461500    -0.231000 C.ar       1 UNL1 0.0\\n    63 C       0.743500    -2.413800    -1.565900 C.ar       1 UNL1 0.0\\n    64 C       0.540000    -3.500400    -2.419800 C.ar       1 UNL1 0.0\\n    65 C      -0.066600    -4.659300    -1.945400 C.ar       1 UNL1 0.0\\n    66 C      -0.440700    -4.746000    -0.608800 C.ar       1 UNL1 0.0\\n    67 C      -0.232900    -3.663500     0.246700 C.ar       1 UNL1 0.0\\n    68 H       1.618000    -1.307800     0.869200 H          1 UNL1 0.0\\n    69 H       0.079100    -1.509500     1.690400 H          1 UNL1 0.0\\n    70 H       1.275100    -1.555000    -1.970300 H          1 UNL1 0.0\\n    71 H       0.879800    -3.458000    -3.453300 H          1 UNL1 0.0\\n    72 H      -0.208500    -5.511500    -2.607800 H          1 UNL1 0.0\\n    73 H      -0.866500    -5.672100    -0.227300 H          1 UNL1 0.0\\n    74 H      -0.487300    -3.791300     1.297800 H          1 UNL1 0.0\\n@<TRIPOS>BOND\\n     1      1      2          1\\n     2      2      3          1\\n     3      3      4          1\\n     4      4      5          2\\n     5      5      1          1\\n     6      4      6          1\\n     7      6      7          1\\n     8      7      8          1\\n     9      8      9          1\\n    10      9     10          1\\n    11     10     11          1\\n    12     11      7          2\\n    13     11     12          1\\n    14     12      5          1\\n    15     12     13          1\\n    16     12     14          1\\n    17      6     15          1\\n    18      6     16          1\\n    19     17     18          1\\n    20     17     19          1\\n    21      9     17          1\\n    22     20     21          1\\n    23     20     22          1\\n    24      2     20          1\\n    25      1     23          1\\n    26      2     24          1\\n    27      9     25          1\\n    28     10     26          1\\n    29     15     27          1\\n    30     15     28          1\\n    31     15     29          1\\n    32     16     30          1\\n    33     16     31          1\\n    34     16     32          1\\n    35     17     33          1\\n    36     18     34          1\\n    37     18     35          1\\n    38     18     36          1\\n    39     19     37          1\\n    40     19     38          1\\n    41     19     39          1\\n    42     20     40          1\\n    43     21     41          1\\n    44     21     42          1\\n    45     21     43          1\\n    46     22     44          1\\n    47     22     45          1\\n    48     22     46          1\\n    49     47     48          1\\n    50     48     49         ar\\n    51     49     50         ar\\n    52     50     51         ar\\n    53     51     52         ar\\n    54     52     53         ar\\n    55     53     48         ar\\n    56     47     54          1\\n    57     47     55          1\\n    58     49     56          1\\n    59     50     57          1\\n    60     51     58          1\\n    61     52     59          1\\n    62     53     60          1\\n    63     10     47          1\\n    64     61     62          1\\n    65     62     63         ar\\n    66     63     64         ar\\n    67     64     65         ar\\n    68     65     66         ar\\n    69     66     67         ar\\n    70     67     62         ar\\n    71     61     68          1\\n    72     61     69          1\\n    73     63     70          1\\n    74     64     71          1\\n    75     65     72          1\\n    76     66     73          1\\n    77     67     74          1\\n    78      1     61          1\\n\",\"mol2\");\n\tviewer_16866210710256321.setStyle({\"stick\": {\"radius\": 0.1}, \"sphere\": {\"scale\": 0.15}});\n\tviewer_16866210710256321.setHoverable({},true,\"\\n            function(atom,viewer,event,container) {\\n                if(!atom.label) {\\n                    atom.label = viewer.addLabel(atom.elem + atom.serial, {position: atom, backgroundColor: 'mintcream', fontColor:'black'});\\n                }\\n            }\\n            \",\"\\n            function(atom,viewer) { \\n                if(atom.label) {\\n                    viewer.removeLabel(atom.label);\\n                    delete atom.label;\\n                }\\n            }\\n            \");\n\tviewer_16866210710256321.zoomTo();\n\tviewer_16866210710256321.setBackgroundColor(null);\nviewer_16866210710256321.render();\n});\n</script>",
      "text/html": [
       "<div id=\"3dmolviewer_16866210710256321\"  style=\"position: relative; width: 1000px; height: 500px\">\n",
       "        <p id=\"3dmolwarning_16866210710256321\" style=\"background-color:#ffcccc;color:black\">You appear to be running in JupyterLab (or JavaScript failed to load for some other reason).  You need to install the 3dmol extension: <br>\n",
       "        <tt>jupyter labextension install jupyterlab_3dmol</tt></p>\n",
       "        </div>\n",
       "<script>\n",
       "\n",
       "var loadScriptAsync = function(uri){\n",
       "  return new Promise((resolve, reject) => {\n",
       "    //this is to ignore the existence of requirejs amd\n",
       "    var savedexports, savedmodule;\n",
       "    if (typeof exports !== 'undefined') savedexports = exports;\n",
       "    else exports = {}\n",
       "    if (typeof module !== 'undefined') savedmodule = module;\n",
       "    else module = {}\n",
       "\n",
       "    var tag = document.createElement('script');\n",
       "    tag.src = uri;\n",
       "    tag.async = true;\n",
       "    tag.onload = () => {\n",
       "        exports = savedexports;\n",
       "        module = savedmodule;\n",
       "        resolve();\n",
       "    };\n",
       "  var firstScriptTag = document.getElementsByTagName('script')[0];\n",
       "  firstScriptTag.parentNode.insertBefore(tag, firstScriptTag);\n",
       "});\n",
       "};\n",
       "\n",
       "if(typeof $3Dmolpromise === 'undefined') {\n",
       "$3Dmolpromise = null;\n",
       "  $3Dmolpromise = loadScriptAsync('https://cdnjs.cloudflare.com/ajax/libs/3Dmol/2.0.1/3Dmol-min.js');\n",
       "}\n",
       "\n",
       "var viewer_16866210710256321 = null;\n",
       "var warn = document.getElementById(\"3dmolwarning_16866210710256321\");\n",
       "if(warn) {\n",
       "    warn.parentNode.removeChild(warn);\n",
       "}\n",
       "$3Dmolpromise.then(function() {\n",
       "viewer_16866210710256321 = $3Dmol.createViewer(document.getElementById(\"3dmolviewer_16866210710256321\"),{backgroundColor:\"white\"});\n",
       "viewer_16866210710256321.zoomTo();\n",
       "\tviewer_16866210710256321.addModel(\"# Produced with molli package\\n@<TRIPOS>MOLECULE\\n3_6_6\\n74 78 0 0 0\\nSMALL\\nUSER_CHARGES\\n\\n@<TRIPOS>ATOM\\n     1 C       0.129900     0.078600     0.212400 C.3        1 UNL1 0.0\\n     2 C       0.809000     1.258600     0.945800 C.3        1 UNL1 0.0\\n     3 O      -0.109000     2.327100     0.623900 O.2        1 UNL1 0.0\\n     4 C      -1.322000     1.802000     0.448600 C.2        1 UNL1 0.0\\n     5 N      -1.318500     0.532600     0.309500 N.2        1 UNL1 0.0\\n     6 C      -2.521100     2.670500     0.307400 C.3        1 UNL1 0.0\\n     7 C      -3.777900     1.881000     0.260800 C.2        1 UNL1 0.0\\n     8 O      -4.963300     2.443700     0.474500 O.2        1 UNL1 0.0\\n     9 C      -5.936800     1.405600     0.680700 C.3        1 UNL1 0.0\\n    10 C      -5.274600     0.151300     0.059200 C.3        1 UNL1 0.0\\n    11 N      -3.831000     0.629800     0.026100 N.2        1 UNL1 0.0\\n    12 C      -2.576600    -0.225000    -0.065800 C.3        1 UNL1 0.0\\n    13 BR     -2.822700    -1.681900     1.212100 Br         1 UNL1 0.0\\n    14 BR     -2.341800    -0.756700    -1.924200 Br         1 UNL1 0.0\\n    15 C      -2.409100     3.465700    -0.999800 C.3        1 UNL1 0.0\\n    16 C      -2.572300     3.630200     1.505300 C.3        1 UNL1 0.0\\n    17 C      -7.329200     1.879800     0.217000 C.3        1 UNL1 0.0\\n    18 C      -7.958700     2.770700     1.300100 C.3        1 UNL1 0.0\\n    19 C      -7.313800     2.677600    -1.092800 C.3        1 UNL1 0.0\\n    20 C       0.979900     1.209000     2.491200 C.3        1 UNL1 0.0\\n    21 C       1.150900     2.625800     3.066800 C.3        1 UNL1 0.0\\n    22 C       2.182400     0.371700     2.939600 C.3        1 UNL1 0.0\\n    23 H       0.371700     0.184300    -0.852400 H          1 UNL1 0.0\\n    24 H       1.772200     1.488300     0.473100 H          1 UNL1 0.0\\n    25 H      -5.978100     1.242600     1.768000 H          1 UNL1 0.0\\n    26 H      -5.365100    -0.652000     0.792900 H          1 UNL1 0.0\\n    27 H      -1.529300     4.118200    -0.998900 H          1 UNL1 0.0\\n    28 H      -3.293700     4.092000    -1.160200 H          1 UNL1 0.0\\n    29 H      -2.323300     2.797300    -1.865600 H          1 UNL1 0.0\\n    30 H      -3.434100     4.304300     1.449000 H          1 UNL1 0.0\\n    31 H      -1.673100     4.254700     1.560700 H          1 UNL1 0.0\\n    32 H      -2.648100     3.078400     2.449700 H          1 UNL1 0.0\\n    33 H      -7.989400     1.011500     0.109000 H          1 UNL1 0.0\\n    34 H      -7.344800     3.655700     1.498700 H          1 UNL1 0.0\\n    35 H      -8.073300     2.218500     2.238400 H          1 UNL1 0.0\\n    36 H      -8.953900     3.109400     0.994500 H          1 UNL1 0.0\\n    37 H      -6.772100     3.623000    -0.982400 H          1 UNL1 0.0\\n    38 H      -6.852900     2.125500    -1.912600 H          1 UNL1 0.0\\n    39 H      -8.335900     2.920400    -1.401400 H          1 UNL1 0.0\\n    40 H       0.075800     0.789900     2.948000 H          1 UNL1 0.0\\n    41 H       1.997000     3.140400     2.598800 H          1 UNL1 0.0\\n    42 H       0.254400     3.234400     2.911400 H          1 UNL1 0.0\\n    43 H       1.329300     2.591900     4.146400 H          1 UNL1 0.0\\n    44 H       3.073700     0.608600     2.349800 H          1 UNL1 0.0\\n    45 H       2.420400     0.555700     3.992900 H          1 UNL1 0.0\\n    46 H       1.986900    -0.699300     2.861700 H          1 UNL1 0.0\\n    47 C      -5.811000    -0.266600    -1.318400 C.3        1 UNL1 0.0\\n    48 C      -5.568500    -1.701000    -1.733700 C.ar       1 UNL1 0.0\\n    49 C      -5.306800    -1.979200    -3.086600 C.ar       1 UNL1 0.0\\n    50 C      -5.087400    -3.287400    -3.520400 C.ar       1 UNL1 0.0\\n    51 C      -5.157400    -4.340800    -2.615500 C.ar       1 UNL1 0.0\\n    52 C      -5.474100    -4.089100    -1.283700 C.ar       1 UNL1 0.0\\n    53 C      -5.697100    -2.780300    -0.847300 C.ar       1 UNL1 0.0\\n    54 H      -6.901400    -0.170400    -1.342900 H          1 UNL1 0.0\\n    55 H      -5.413100     0.407800    -2.088000 H          1 UNL1 0.0\\n    56 H      -5.276500    -1.183300    -3.830300 H          1 UNL1 0.0\\n    57 H      -4.882700    -3.489000    -4.570500 H          1 UNL1 0.0\\n    58 H      -5.003200    -5.362700    -2.957600 H          1 UNL1 0.0\\n    59 H      -5.580100    -4.925100    -0.593600 H          1 UNL1 0.0\\n    60 H      -6.010500    -2.651200     0.185700 H          1 UNL1 0.0\\n    61 C       0.532300    -1.304300     0.715900 C.3        1 UNL1 0.0\\n    62 C       0.311300    -2.461500    -0.231000 C.ar       1 UNL1 0.0\\n    63 C       0.743500    -2.413800    -1.565900 C.ar       1 UNL1 0.0\\n    64 C       0.540000    -3.500400    -2.419800 C.ar       1 UNL1 0.0\\n    65 C      -0.066600    -4.659300    -1.945400 C.ar       1 UNL1 0.0\\n    66 C      -0.440700    -4.746000    -0.608800 C.ar       1 UNL1 0.0\\n    67 C      -0.232900    -3.663500     0.246700 C.ar       1 UNL1 0.0\\n    68 H       1.618000    -1.307800     0.869200 H          1 UNL1 0.0\\n    69 H       0.079100    -1.509500     1.690400 H          1 UNL1 0.0\\n    70 H       1.275100    -1.555000    -1.970300 H          1 UNL1 0.0\\n    71 H       0.879800    -3.458000    -3.453300 H          1 UNL1 0.0\\n    72 H      -0.208500    -5.511500    -2.607800 H          1 UNL1 0.0\\n    73 H      -0.866500    -5.672100    -0.227300 H          1 UNL1 0.0\\n    74 H      -0.487300    -3.791300     1.297800 H          1 UNL1 0.0\\n@<TRIPOS>BOND\\n     1      1      2          1\\n     2      2      3          1\\n     3      3      4          1\\n     4      4      5          2\\n     5      5      1          1\\n     6      4      6          1\\n     7      6      7          1\\n     8      7      8          1\\n     9      8      9          1\\n    10      9     10          1\\n    11     10     11          1\\n    12     11      7          2\\n    13     11     12          1\\n    14     12      5          1\\n    15     12     13          1\\n    16     12     14          1\\n    17      6     15          1\\n    18      6     16          1\\n    19     17     18          1\\n    20     17     19          1\\n    21      9     17          1\\n    22     20     21          1\\n    23     20     22          1\\n    24      2     20          1\\n    25      1     23          1\\n    26      2     24          1\\n    27      9     25          1\\n    28     10     26          1\\n    29     15     27          1\\n    30     15     28          1\\n    31     15     29          1\\n    32     16     30          1\\n    33     16     31          1\\n    34     16     32          1\\n    35     17     33          1\\n    36     18     34          1\\n    37     18     35          1\\n    38     18     36          1\\n    39     19     37          1\\n    40     19     38          1\\n    41     19     39          1\\n    42     20     40          1\\n    43     21     41          1\\n    44     21     42          1\\n    45     21     43          1\\n    46     22     44          1\\n    47     22     45          1\\n    48     22     46          1\\n    49     47     48          1\\n    50     48     49         ar\\n    51     49     50         ar\\n    52     50     51         ar\\n    53     51     52         ar\\n    54     52     53         ar\\n    55     53     48         ar\\n    56     47     54          1\\n    57     47     55          1\\n    58     49     56          1\\n    59     50     57          1\\n    60     51     58          1\\n    61     52     59          1\\n    62     53     60          1\\n    63     10     47          1\\n    64     61     62          1\\n    65     62     63         ar\\n    66     63     64         ar\\n    67     64     65         ar\\n    68     65     66         ar\\n    69     66     67         ar\\n    70     67     62         ar\\n    71     61     68          1\\n    72     61     69          1\\n    73     63     70          1\\n    74     64     71          1\\n    75     65     72          1\\n    76     66     73          1\\n    77     67     74          1\\n    78      1     61          1\\n\",\"mol2\");\n",
       "\tviewer_16866210710256321.setStyle({\"stick\": {\"radius\": 0.1}, \"sphere\": {\"scale\": 0.15}});\n",
       "\tviewer_16866210710256321.setHoverable({},true,\"\\n            function(atom,viewer,event,container) {\\n                if(!atom.label) {\\n                    atom.label = viewer.addLabel(atom.elem + atom.serial, {position: atom, backgroundColor: 'mintcream', fontColor:'black'});\\n                }\\n            }\\n            \",\"\\n            function(atom,viewer) { \\n                if(atom.label) {\\n                    viewer.removeLabel(atom.label);\\n                    delete atom.label;\\n                }\\n            }\\n            \");\n",
       "\tviewer_16866210710256321.zoomTo();\n",
       "\tviewer_16866210710256321.setBackgroundColor(null);\n",
       "viewer_16866210710256321.render();\n",
       "});\n",
       "</script>"
      ]
     },
     "metadata": {},
     "output_type": "display_data"
    },
    {
     "data": {
      "text/plain": [
       "Conformer(name='3_6_6', formula='C30 H38 Br2 N2 O2')"
      ]
     },
     "execution_count": 14,
     "metadata": {},
     "output_type": "execute_result"
    }
   ],
   "source": [
    "clib[42][0]"
   ]
  },
  {
   "cell_type": "code",
   "execution_count": 15,
   "metadata": {},
   "outputs": [
    {
     "data": {
      "application/3dmoljs_load.v0": "<div id=\"3dmolviewer_16866210710377061\"  style=\"position: relative; width: 1000px; height: 500px\">\n        <p id=\"3dmolwarning_16866210710377061\" style=\"background-color:#ffcccc;color:black\">You appear to be running in JupyterLab (or JavaScript failed to load for some other reason).  You need to install the 3dmol extension: <br>\n        <tt>jupyter labextension install jupyterlab_3dmol</tt></p>\n        </div>\n<script>\n\nvar loadScriptAsync = function(uri){\n  return new Promise((resolve, reject) => {\n    //this is to ignore the existence of requirejs amd\n    var savedexports, savedmodule;\n    if (typeof exports !== 'undefined') savedexports = exports;\n    else exports = {}\n    if (typeof module !== 'undefined') savedmodule = module;\n    else module = {}\n\n    var tag = document.createElement('script');\n    tag.src = uri;\n    tag.async = true;\n    tag.onload = () => {\n        exports = savedexports;\n        module = savedmodule;\n        resolve();\n    };\n  var firstScriptTag = document.getElementsByTagName('script')[0];\n  firstScriptTag.parentNode.insertBefore(tag, firstScriptTag);\n});\n};\n\nif(typeof $3Dmolpromise === 'undefined') {\n$3Dmolpromise = null;\n  $3Dmolpromise = loadScriptAsync('https://cdnjs.cloudflare.com/ajax/libs/3Dmol/2.0.1/3Dmol-min.js');\n}\n\nvar viewer_16866210710377061 = null;\nvar warn = document.getElementById(\"3dmolwarning_16866210710377061\");\nif(warn) {\n    warn.parentNode.removeChild(warn);\n}\n$3Dmolpromise.then(function() {\nviewer_16866210710377061 = $3Dmol.createViewer(document.getElementById(\"3dmolviewer_16866210710377061\"),{backgroundColor:\"white\"});\nviewer_16866210710377061.zoomTo();\n\tviewer_16866210710377061.addModel(\"# Produced with molli package\\n@<TRIPOS>MOLECULE\\n3_6_6\\n74 78 0 0 0\\nSMALL\\nUSER_CHARGES\\n\\n@<TRIPOS>ATOM\\n     1 C      -0.024000    -0.035900     0.685600 C.3        1 UNL1 0.0\\n     2 C       0.802800     1.135500     0.120200 C.3        1 UNL1 0.0\\n     3 O      -0.053700     2.265600     0.427900 O.2        1 UNL1 0.0\\n     4 C      -1.307100     1.810800     0.376400 C.2        1 UNL1 0.0\\n     5 N      -1.372700     0.535200     0.365600 N.2        1 UNL1 0.0\\n     6 C      -2.516500     2.682600     0.332400 C.3        1 UNL1 0.0\\n     7 C      -3.769000     1.863300     0.294900 C.2        1 UNL1 0.0\\n     8 O      -4.960300     2.356000     0.627600 O.2        1 UNL1 0.0\\n     9 C      -5.802800     1.231100     0.947100 C.3        1 UNL1 0.0\\n    10 C      -5.222400     0.114100     0.051000 C.3        1 UNL1 0.0\\n    11 N      -3.805300     0.624100    -0.016800 N.2        1 UNL1 0.0\\n    12 C      -2.546600    -0.146800    -0.284200 C.3        1 UNL1 0.0\\n    13 BR     -2.145600    -0.023300    -2.234900 Br         1 UNL1 0.0\\n    14 BR     -2.702100    -2.020800     0.175700 Br         1 UNL1 0.0\\n    15 C      -2.521500     3.527500     1.617800 C.3        1 UNL1 0.0\\n    16 C      -2.467100     3.601500    -0.890700 C.3        1 UNL1 0.0\\n    17 C      -7.288500     1.603500     0.831100 C.3        1 UNL1 0.0\\n    18 C      -8.183100     0.438300     1.256400 C.3        1 UNL1 0.0\\n    19 C      -7.610500     2.832700     1.691400 C.3        1 UNL1 0.0\\n    20 C       2.262700     1.394500     0.531300 C.3        1 UNL1 0.0\\n    21 C       3.137400     0.159100     0.331100 C.3        1 UNL1 0.0\\n    22 C       2.475600     2.010700     1.913800 C.3        1 UNL1 0.0\\n    23 H       0.139000    -0.971100     0.142700 H          1 UNL1 0.0\\n    24 H       0.809000     1.052900    -0.979100 H          1 UNL1 0.0\\n    25 H      -5.594400     0.987600     2.000100 H          1 UNL1 0.0\\n    26 H      -5.257800    -0.832200     0.594700 H          1 UNL1 0.0\\n    27 H      -2.595900     2.891300     2.508600 H          1 UNL1 0.0\\n    28 H      -3.368800     4.222000     1.639600 H          1 UNL1 0.0\\n    29 H      -1.604500     4.120700     1.713600 H          1 UNL1 0.0\\n    30 H      -3.367100     4.224100    -0.953600 H          1 UNL1 0.0\\n    31 H      -1.601900     4.271100    -0.849900 H          1 UNL1 0.0\\n    32 H      -2.401600     3.034900    -1.825400 H          1 UNL1 0.0\\n    33 H      -7.523300     1.888100    -0.201500 H          1 UNL1 0.0\\n    34 H      -9.239900     0.709400     1.169900 H          1 UNL1 0.0\\n    35 H      -7.995400     0.156100     2.298000 H          1 UNL1 0.0\\n    36 H      -8.019600    -0.448800     0.637400 H          1 UNL1 0.0\\n    37 H      -8.674000     3.085700     1.622800 H          1 UNL1 0.0\\n    38 H      -7.370700     2.654300     2.745200 H          1 UNL1 0.0\\n    39 H      -7.046400     3.708600     1.357000 H          1 UNL1 0.0\\n    40 H       2.629300     2.160800    -0.167400 H          1 UNL1 0.0\\n    41 H       2.868700    -0.649400     1.016300 H          1 UNL1 0.0\\n    42 H       3.045500    -0.221300    -0.692000 H          1 UNL1 0.0\\n    43 H       4.191800     0.400900     0.499800 H          1 UNL1 0.0\\n    44 H       3.508100     2.366300     2.007400 H          1 UNL1 0.0\\n    45 H       2.317800     1.297000     2.723900 H          1 UNL1 0.0\\n    46 H       1.822000     2.873100     2.073300 H          1 UNL1 0.0\\n    47 C      -5.849300     0.047600    -1.357700 C.3        1 UNL1 0.0\\n    48 C      -5.547800    -1.214900    -2.127300 C.ar       1 UNL1 0.0\\n    49 C      -5.139200    -1.137700    -3.466500 C.ar       1 UNL1 0.0\\n    50 C      -4.862200    -2.296700    -4.194100 C.ar       1 UNL1 0.0\\n    51 C      -5.021800    -3.546700    -3.604700 C.ar       1 UNL1 0.0\\n    52 C      -5.486700    -3.640400    -2.296800 C.ar       1 UNL1 0.0\\n    53 C      -5.765200    -2.483000    -1.566500 C.ar       1 UNL1 0.0\\n    54 H      -6.942100     0.083000    -1.300200 H          1 UNL1 0.0\\n    55 H      -5.547400     0.924500    -1.946200 H          1 UNL1 0.0\\n    56 H      -5.044600    -0.180400    -3.978100 H          1 UNL1 0.0\\n    57 H      -4.547100    -2.228800    -5.234200 H          1 UNL1 0.0\\n    58 H      -4.824200    -4.449500    -4.180500 H          1 UNL1 0.0\\n    59 H      -5.660900    -4.622300    -1.858400 H          1 UNL1 0.0\\n    60 H      -6.182300    -2.607500    -0.569400 H          1 UNL1 0.0\\n    61 C       0.124400    -0.177100     2.219300 C.3        1 UNL1 0.0\\n    62 C      -0.891400    -1.046900     2.911100 C.ar       1 UNL1 0.0\\n    63 C      -1.976400    -0.475300     3.596000 C.ar       1 UNL1 0.0\\n    64 C      -2.911600    -1.288100     4.238800 C.ar       1 UNL1 0.0\\n    65 C      -2.764500    -2.673500     4.214500 C.ar       1 UNL1 0.0\\n    66 C      -1.673100    -3.247700     3.565700 C.ar       1 UNL1 0.0\\n    67 C      -0.735300    -2.440000     2.920400 C.ar       1 UNL1 0.0\\n    68 H       1.115300    -0.582700     2.452900 H          1 UNL1 0.0\\n    69 H       0.089100     0.809400     2.700500 H          1 UNL1 0.0\\n    70 H      -2.072000     0.603400     3.705700 H          1 UNL1 0.0\\n    71 H      -3.727500    -0.850000     4.812700 H          1 UNL1 0.0\\n    72 H      -3.474200    -3.309900     4.743200 H          1 UNL1 0.0\\n    73 H      -1.540200    -4.329000     3.586900 H          1 UNL1 0.0\\n    74 H       0.123700    -2.918100     2.450400 H          1 UNL1 0.0\\n@<TRIPOS>BOND\\n     1      1      2          1\\n     2      2      3          1\\n     3      3      4          1\\n     4      4      5          2\\n     5      5      1          1\\n     6      4      6          1\\n     7      6      7          1\\n     8      7      8          1\\n     9      8      9          1\\n    10      9     10          1\\n    11     10     11          1\\n    12     11      7          2\\n    13     11     12          1\\n    14     12      5          1\\n    15     12     13          1\\n    16     12     14          1\\n    17      6     15          1\\n    18      6     16          1\\n    19     17     18          1\\n    20     17     19          1\\n    21      9     17          1\\n    22     20     21          1\\n    23     20     22          1\\n    24      2     20          1\\n    25      1     23          1\\n    26      2     24          1\\n    27      9     25          1\\n    28     10     26          1\\n    29     15     27          1\\n    30     15     28          1\\n    31     15     29          1\\n    32     16     30          1\\n    33     16     31          1\\n    34     16     32          1\\n    35     17     33          1\\n    36     18     34          1\\n    37     18     35          1\\n    38     18     36          1\\n    39     19     37          1\\n    40     19     38          1\\n    41     19     39          1\\n    42     20     40          1\\n    43     21     41          1\\n    44     21     42          1\\n    45     21     43          1\\n    46     22     44          1\\n    47     22     45          1\\n    48     22     46          1\\n    49     47     48          1\\n    50     48     49         ar\\n    51     49     50         ar\\n    52     50     51         ar\\n    53     51     52         ar\\n    54     52     53         ar\\n    55     53     48         ar\\n    56     47     54          1\\n    57     47     55          1\\n    58     49     56          1\\n    59     50     57          1\\n    60     51     58          1\\n    61     52     59          1\\n    62     53     60          1\\n    63     10     47          1\\n    64     61     62          1\\n    65     62     63         ar\\n    66     63     64         ar\\n    67     64     65         ar\\n    68     65     66         ar\\n    69     66     67         ar\\n    70     67     62         ar\\n    71     61     68          1\\n    72     61     69          1\\n    73     63     70          1\\n    74     64     71          1\\n    75     65     72          1\\n    76     66     73          1\\n    77     67     74          1\\n    78      1     61          1\\n\",\"mol2\");\n\tviewer_16866210710377061.setStyle({\"stick\": {\"radius\": 0.1}, \"sphere\": {\"scale\": 0.15}});\n\tviewer_16866210710377061.setHoverable({},true,\"\\n            function(atom,viewer,event,container) {\\n                if(!atom.label) {\\n                    atom.label = viewer.addLabel(atom.elem + atom.serial, {position: atom, backgroundColor: 'mintcream', fontColor:'black'});\\n                }\\n            }\\n            \",\"\\n            function(atom,viewer) { \\n                if(atom.label) {\\n                    viewer.removeLabel(atom.label);\\n                    delete atom.label;\\n                }\\n            }\\n            \");\n\tviewer_16866210710377061.zoomTo();\n\tviewer_16866210710377061.setBackgroundColor(null);\nviewer_16866210710377061.render();\n});\n</script>",
      "text/html": [
       "<div id=\"3dmolviewer_16866210710377061\"  style=\"position: relative; width: 1000px; height: 500px\">\n",
       "        <p id=\"3dmolwarning_16866210710377061\" style=\"background-color:#ffcccc;color:black\">You appear to be running in JupyterLab (or JavaScript failed to load for some other reason).  You need to install the 3dmol extension: <br>\n",
       "        <tt>jupyter labextension install jupyterlab_3dmol</tt></p>\n",
       "        </div>\n",
       "<script>\n",
       "\n",
       "var loadScriptAsync = function(uri){\n",
       "  return new Promise((resolve, reject) => {\n",
       "    //this is to ignore the existence of requirejs amd\n",
       "    var savedexports, savedmodule;\n",
       "    if (typeof exports !== 'undefined') savedexports = exports;\n",
       "    else exports = {}\n",
       "    if (typeof module !== 'undefined') savedmodule = module;\n",
       "    else module = {}\n",
       "\n",
       "    var tag = document.createElement('script');\n",
       "    tag.src = uri;\n",
       "    tag.async = true;\n",
       "    tag.onload = () => {\n",
       "        exports = savedexports;\n",
       "        module = savedmodule;\n",
       "        resolve();\n",
       "    };\n",
       "  var firstScriptTag = document.getElementsByTagName('script')[0];\n",
       "  firstScriptTag.parentNode.insertBefore(tag, firstScriptTag);\n",
       "});\n",
       "};\n",
       "\n",
       "if(typeof $3Dmolpromise === 'undefined') {\n",
       "$3Dmolpromise = null;\n",
       "  $3Dmolpromise = loadScriptAsync('https://cdnjs.cloudflare.com/ajax/libs/3Dmol/2.0.1/3Dmol-min.js');\n",
       "}\n",
       "\n",
       "var viewer_16866210710377061 = null;\n",
       "var warn = document.getElementById(\"3dmolwarning_16866210710377061\");\n",
       "if(warn) {\n",
       "    warn.parentNode.removeChild(warn);\n",
       "}\n",
       "$3Dmolpromise.then(function() {\n",
       "viewer_16866210710377061 = $3Dmol.createViewer(document.getElementById(\"3dmolviewer_16866210710377061\"),{backgroundColor:\"white\"});\n",
       "viewer_16866210710377061.zoomTo();\n",
       "\tviewer_16866210710377061.addModel(\"# Produced with molli package\\n@<TRIPOS>MOLECULE\\n3_6_6\\n74 78 0 0 0\\nSMALL\\nUSER_CHARGES\\n\\n@<TRIPOS>ATOM\\n     1 C      -0.024000    -0.035900     0.685600 C.3        1 UNL1 0.0\\n     2 C       0.802800     1.135500     0.120200 C.3        1 UNL1 0.0\\n     3 O      -0.053700     2.265600     0.427900 O.2        1 UNL1 0.0\\n     4 C      -1.307100     1.810800     0.376400 C.2        1 UNL1 0.0\\n     5 N      -1.372700     0.535200     0.365600 N.2        1 UNL1 0.0\\n     6 C      -2.516500     2.682600     0.332400 C.3        1 UNL1 0.0\\n     7 C      -3.769000     1.863300     0.294900 C.2        1 UNL1 0.0\\n     8 O      -4.960300     2.356000     0.627600 O.2        1 UNL1 0.0\\n     9 C      -5.802800     1.231100     0.947100 C.3        1 UNL1 0.0\\n    10 C      -5.222400     0.114100     0.051000 C.3        1 UNL1 0.0\\n    11 N      -3.805300     0.624100    -0.016800 N.2        1 UNL1 0.0\\n    12 C      -2.546600    -0.146800    -0.284200 C.3        1 UNL1 0.0\\n    13 BR     -2.145600    -0.023300    -2.234900 Br         1 UNL1 0.0\\n    14 BR     -2.702100    -2.020800     0.175700 Br         1 UNL1 0.0\\n    15 C      -2.521500     3.527500     1.617800 C.3        1 UNL1 0.0\\n    16 C      -2.467100     3.601500    -0.890700 C.3        1 UNL1 0.0\\n    17 C      -7.288500     1.603500     0.831100 C.3        1 UNL1 0.0\\n    18 C      -8.183100     0.438300     1.256400 C.3        1 UNL1 0.0\\n    19 C      -7.610500     2.832700     1.691400 C.3        1 UNL1 0.0\\n    20 C       2.262700     1.394500     0.531300 C.3        1 UNL1 0.0\\n    21 C       3.137400     0.159100     0.331100 C.3        1 UNL1 0.0\\n    22 C       2.475600     2.010700     1.913800 C.3        1 UNL1 0.0\\n    23 H       0.139000    -0.971100     0.142700 H          1 UNL1 0.0\\n    24 H       0.809000     1.052900    -0.979100 H          1 UNL1 0.0\\n    25 H      -5.594400     0.987600     2.000100 H          1 UNL1 0.0\\n    26 H      -5.257800    -0.832200     0.594700 H          1 UNL1 0.0\\n    27 H      -2.595900     2.891300     2.508600 H          1 UNL1 0.0\\n    28 H      -3.368800     4.222000     1.639600 H          1 UNL1 0.0\\n    29 H      -1.604500     4.120700     1.713600 H          1 UNL1 0.0\\n    30 H      -3.367100     4.224100    -0.953600 H          1 UNL1 0.0\\n    31 H      -1.601900     4.271100    -0.849900 H          1 UNL1 0.0\\n    32 H      -2.401600     3.034900    -1.825400 H          1 UNL1 0.0\\n    33 H      -7.523300     1.888100    -0.201500 H          1 UNL1 0.0\\n    34 H      -9.239900     0.709400     1.169900 H          1 UNL1 0.0\\n    35 H      -7.995400     0.156100     2.298000 H          1 UNL1 0.0\\n    36 H      -8.019600    -0.448800     0.637400 H          1 UNL1 0.0\\n    37 H      -8.674000     3.085700     1.622800 H          1 UNL1 0.0\\n    38 H      -7.370700     2.654300     2.745200 H          1 UNL1 0.0\\n    39 H      -7.046400     3.708600     1.357000 H          1 UNL1 0.0\\n    40 H       2.629300     2.160800    -0.167400 H          1 UNL1 0.0\\n    41 H       2.868700    -0.649400     1.016300 H          1 UNL1 0.0\\n    42 H       3.045500    -0.221300    -0.692000 H          1 UNL1 0.0\\n    43 H       4.191800     0.400900     0.499800 H          1 UNL1 0.0\\n    44 H       3.508100     2.366300     2.007400 H          1 UNL1 0.0\\n    45 H       2.317800     1.297000     2.723900 H          1 UNL1 0.0\\n    46 H       1.822000     2.873100     2.073300 H          1 UNL1 0.0\\n    47 C      -5.849300     0.047600    -1.357700 C.3        1 UNL1 0.0\\n    48 C      -5.547800    -1.214900    -2.127300 C.ar       1 UNL1 0.0\\n    49 C      -5.139200    -1.137700    -3.466500 C.ar       1 UNL1 0.0\\n    50 C      -4.862200    -2.296700    -4.194100 C.ar       1 UNL1 0.0\\n    51 C      -5.021800    -3.546700    -3.604700 C.ar       1 UNL1 0.0\\n    52 C      -5.486700    -3.640400    -2.296800 C.ar       1 UNL1 0.0\\n    53 C      -5.765200    -2.483000    -1.566500 C.ar       1 UNL1 0.0\\n    54 H      -6.942100     0.083000    -1.300200 H          1 UNL1 0.0\\n    55 H      -5.547400     0.924500    -1.946200 H          1 UNL1 0.0\\n    56 H      -5.044600    -0.180400    -3.978100 H          1 UNL1 0.0\\n    57 H      -4.547100    -2.228800    -5.234200 H          1 UNL1 0.0\\n    58 H      -4.824200    -4.449500    -4.180500 H          1 UNL1 0.0\\n    59 H      -5.660900    -4.622300    -1.858400 H          1 UNL1 0.0\\n    60 H      -6.182300    -2.607500    -0.569400 H          1 UNL1 0.0\\n    61 C       0.124400    -0.177100     2.219300 C.3        1 UNL1 0.0\\n    62 C      -0.891400    -1.046900     2.911100 C.ar       1 UNL1 0.0\\n    63 C      -1.976400    -0.475300     3.596000 C.ar       1 UNL1 0.0\\n    64 C      -2.911600    -1.288100     4.238800 C.ar       1 UNL1 0.0\\n    65 C      -2.764500    -2.673500     4.214500 C.ar       1 UNL1 0.0\\n    66 C      -1.673100    -3.247700     3.565700 C.ar       1 UNL1 0.0\\n    67 C      -0.735300    -2.440000     2.920400 C.ar       1 UNL1 0.0\\n    68 H       1.115300    -0.582700     2.452900 H          1 UNL1 0.0\\n    69 H       0.089100     0.809400     2.700500 H          1 UNL1 0.0\\n    70 H      -2.072000     0.603400     3.705700 H          1 UNL1 0.0\\n    71 H      -3.727500    -0.850000     4.812700 H          1 UNL1 0.0\\n    72 H      -3.474200    -3.309900     4.743200 H          1 UNL1 0.0\\n    73 H      -1.540200    -4.329000     3.586900 H          1 UNL1 0.0\\n    74 H       0.123700    -2.918100     2.450400 H          1 UNL1 0.0\\n@<TRIPOS>BOND\\n     1      1      2          1\\n     2      2      3          1\\n     3      3      4          1\\n     4      4      5          2\\n     5      5      1          1\\n     6      4      6          1\\n     7      6      7          1\\n     8      7      8          1\\n     9      8      9          1\\n    10      9     10          1\\n    11     10     11          1\\n    12     11      7          2\\n    13     11     12          1\\n    14     12      5          1\\n    15     12     13          1\\n    16     12     14          1\\n    17      6     15          1\\n    18      6     16          1\\n    19     17     18          1\\n    20     17     19          1\\n    21      9     17          1\\n    22     20     21          1\\n    23     20     22          1\\n    24      2     20          1\\n    25      1     23          1\\n    26      2     24          1\\n    27      9     25          1\\n    28     10     26          1\\n    29     15     27          1\\n    30     15     28          1\\n    31     15     29          1\\n    32     16     30          1\\n    33     16     31          1\\n    34     16     32          1\\n    35     17     33          1\\n    36     18     34          1\\n    37     18     35          1\\n    38     18     36          1\\n    39     19     37          1\\n    40     19     38          1\\n    41     19     39          1\\n    42     20     40          1\\n    43     21     41          1\\n    44     21     42          1\\n    45     21     43          1\\n    46     22     44          1\\n    47     22     45          1\\n    48     22     46          1\\n    49     47     48          1\\n    50     48     49         ar\\n    51     49     50         ar\\n    52     50     51         ar\\n    53     51     52         ar\\n    54     52     53         ar\\n    55     53     48         ar\\n    56     47     54          1\\n    57     47     55          1\\n    58     49     56          1\\n    59     50     57          1\\n    60     51     58          1\\n    61     52     59          1\\n    62     53     60          1\\n    63     10     47          1\\n    64     61     62          1\\n    65     62     63         ar\\n    66     63     64         ar\\n    67     64     65         ar\\n    68     65     66         ar\\n    69     66     67         ar\\n    70     67     62         ar\\n    71     61     68          1\\n    72     61     69          1\\n    73     63     70          1\\n    74     64     71          1\\n    75     65     72          1\\n    76     66     73          1\\n    77     67     74          1\\n    78      1     61          1\\n\",\"mol2\");\n",
       "\tviewer_16866210710377061.setStyle({\"stick\": {\"radius\": 0.1}, \"sphere\": {\"scale\": 0.15}});\n",
       "\tviewer_16866210710377061.setHoverable({},true,\"\\n            function(atom,viewer,event,container) {\\n                if(!atom.label) {\\n                    atom.label = viewer.addLabel(atom.elem + atom.serial, {position: atom, backgroundColor: 'mintcream', fontColor:'black'});\\n                }\\n            }\\n            \",\"\\n            function(atom,viewer) { \\n                if(atom.label) {\\n                    viewer.removeLabel(atom.label);\\n                    delete atom.label;\\n                }\\n            }\\n            \");\n",
       "\tviewer_16866210710377061.zoomTo();\n",
       "\tviewer_16866210710377061.setBackgroundColor(null);\n",
       "viewer_16866210710377061.render();\n",
       "});\n",
       "</script>"
      ]
     },
     "metadata": {},
     "output_type": "display_data"
    },
    {
     "data": {
      "text/plain": [
       "Conformer(name='3_6_6', formula='C30 H38 Br2 N2 O2')"
      ]
     },
     "execution_count": 15,
     "metadata": {},
     "output_type": "execute_result"
    }
   ],
   "source": [
    "clib[42][24]"
   ]
  },
  {
   "attachments": {},
   "cell_type": "markdown",
   "metadata": {},
   "source": [
    "3.5. Create grid"
   ]
  },
  {
   "cell_type": "code",
   "execution_count": 16,
   "metadata": {},
   "outputs": [
    {
     "name": "stdout",
     "output_type": "stream",
     "text": [
      "(7106, 3)\n"
     ]
    },
    {
     "name": "stderr",
     "output_type": "stream",
     "text": [
      "100%|██████████| 75/75 [00:00<00:00, 1639.52it/s]\n"
     ]
    },
    {
     "data": {
      "text/plain": [
       "CompletedProcess(args=['molli', 'grid', '--mlib', 'ncsa-testing-data/test_conformers_new_env.mlib', '-o', 'ncsa-testing-data/grid_new_env.npy'], returncode=0)"
      ]
     },
     "execution_count": 16,
     "metadata": {},
     "output_type": "execute_result"
    }
   ],
   "source": [
    "subprocess.run(['molli', \n",
    "                'grid', \n",
    "                '--mlib', \n",
    "                'ncsa-testing-data/test_conformers_new_env.mlib', \n",
    "                '-o', \n",
    "                'ncsa-testing-data/grid_new_env.npy'\n",
    "                ])"
   ]
  },
  {
   "attachments": {},
   "cell_type": "markdown",
   "metadata": {},
   "source": [
    "4. ASO description of molecules"
   ]
  },
  {
   "cell_type": "code",
   "execution_count": 17,
   "metadata": {},
   "outputs": [
    {
     "name": "stdout",
     "output_type": "stream",
     "text": [
      "Allocating storage for descriptors\n",
      "Will compute descriptor ASO using 128 cores.\n",
      "Grid shape: (7106, 3)\n"
     ]
    },
    {
     "name": "stderr",
     "output_type": "stream",
     "text": [
      "Loading batches of conformers: 0it [00:00, ?it/s]\n",
      "Submitting calculations:   0%|          | 0/75 [00:00<?, ?it/s]\u001b[A\n",
      "Submitting calculations:  93%|█████████▎| 70/75 [00:01<00:00, 78.58it/s]\u001b[A\n",
      "                                                                        \u001b[A\n",
      "\n",
      "Gathering calculation results:   0%|          | 0/75 [00:00<?, ?it/s]\u001b[A\u001b[A\n",
      "\n",
      "Loading batches of conformers: 1it [00:13, 13.58s/it]                \u001b[A\u001b[A\n"
     ]
    },
    {
     "data": {
      "text/plain": [
       "CompletedProcess(args=['molli', 'gbca', 'aso', 'ncsa-testing-data/test_conformers_new_env.mlib', '-g', 'ncsa-testing-data/grid_new_env.npy', '-o', 'ncsa-testing-data/aso_new_env.h5'], returncode=0)"
      ]
     },
     "execution_count": 17,
     "metadata": {},
     "output_type": "execute_result"
    }
   ],
   "source": [
    "subprocess.run(['molli', \n",
    "                'gbca', \n",
    "                'aso', \n",
    "                'ncsa-testing-data/test_conformers_new_env.mlib', \n",
    "                '-g', \n",
    "                'ncsa-testing-data/grid_new_env.npy', \n",
    "                '-o', \n",
    "                'ncsa-testing-data/aso_new_env.h5'\n",
    "                ])\n",
    "# tqdm looks messed up"
   ]
  },
  {
   "cell_type": "code",
   "execution_count": 18,
   "metadata": {},
   "outputs": [],
   "source": [
    "# subprocess.run(['molli', 'grid', '--mlib', '../../out_conformers1/test_conformers.mlib', '-o', 'molli/lib_gen/test_aso'])\n"
   ]
  },
  {
   "cell_type": "code",
   "execution_count": 19,
   "metadata": {},
   "outputs": [],
   "source": [
    "#subprocess.run(['molli', 'descriptors', '../../out_conformers1/test4_conformers.mlib', '-o', '../../test_aso_data/test_aso.h5'])"
   ]
  },
  {
   "attachments": {},
   "cell_type": "markdown",
   "metadata": {},
   "source": [
    "5. post-processing/dimension-reduction/analysis"
   ]
  },
  {
   "cell_type": "code",
   "execution_count": 2,
   "metadata": {},
   "outputs": [
    {
     "name": "stderr",
     "output_type": "stream",
     "text": [
      "100%|██████████| 75/75 [00:00<00:00, 4790.28it/s]\n",
      "/home/ethangm2/miniconda3/envs/NCSA-workflow-2/lib/python3.11/site-packages/molli/scripts/cluster.py:118: UserWarning: Issue with variance or correlation feature selection: '>=' not supported between instances of 'str' and 'int'\n",
      "  warnings.warn(f'Issue with variance or correlation feature selection: {exp!s}')\n",
      "/home/ethangm2/miniconda3/envs/NCSA-workflow-2/lib/python3.11/site-packages/sklearn/cluster/_kmeans.py:870: FutureWarning: The default value of `n_init` will change from 10 to 'auto' in 1.4. Set the value of `n_init` explicitly to suppress the warning\n",
      "  warnings.warn(\n",
      "/home/ethangm2/miniconda3/envs/NCSA-workflow-2/lib/python3.11/site-packages/sklearn/cluster/_kmeans.py:870: FutureWarning: The default value of `n_init` will change from 10 to 'auto' in 1.4. Set the value of `n_init` explicitly to suppress the warning\n",
      "  warnings.warn(\n",
      "/home/ethangm2/miniconda3/envs/NCSA-workflow-2/lib/python3.11/site-packages/sklearn/cluster/_kmeans.py:870: FutureWarning: The default value of `n_init` will change from 10 to 'auto' in 1.4. Set the value of `n_init` explicitly to suppress the warning\n",
      "  warnings.warn(\n",
      "/home/ethangm2/miniconda3/envs/NCSA-workflow-2/lib/python3.11/site-packages/sklearn/cluster/_kmeans.py:870: FutureWarning: The default value of `n_init` will change from 10 to 'auto' in 1.4. Set the value of `n_init` explicitly to suppress the warning\n",
      "  warnings.warn(\n",
      "/home/ethangm2/miniconda3/envs/NCSA-workflow-2/lib/python3.11/site-packages/sklearn/cluster/_kmeans.py:870: FutureWarning: The default value of `n_init` will change from 10 to 'auto' in 1.4. Set the value of `n_init` explicitly to suppress the warning\n",
      "  warnings.warn(\n",
      "/home/ethangm2/miniconda3/envs/NCSA-workflow-2/lib/python3.11/site-packages/sklearn/cluster/_kmeans.py:870: FutureWarning: The default value of `n_init` will change from 10 to 'auto' in 1.4. Set the value of `n_init` explicitly to suppress the warning\n",
      "  warnings.warn(\n",
      "/home/ethangm2/miniconda3/envs/NCSA-workflow-2/lib/python3.11/site-packages/sklearn/cluster/_kmeans.py:870: FutureWarning: The default value of `n_init` will change from 10 to 'auto' in 1.4. Set the value of `n_init` explicitly to suppress the warning\n",
      "  warnings.warn(\n",
      "/home/ethangm2/miniconda3/envs/NCSA-workflow-2/lib/python3.11/site-packages/sklearn/cluster/_kmeans.py:870: FutureWarning: The default value of `n_init` will change from 10 to 'auto' in 1.4. Set the value of `n_init` explicitly to suppress the warning\n",
      "  warnings.warn(\n",
      "/home/ethangm2/miniconda3/envs/NCSA-workflow-2/lib/python3.11/site-packages/sklearn/cluster/_kmeans.py:870: FutureWarning: The default value of `n_init` will change from 10 to 'auto' in 1.4. Set the value of `n_init` explicitly to suppress the warning\n",
      "  warnings.warn(\n",
      "/home/ethangm2/miniconda3/envs/NCSA-workflow-2/lib/python3.11/site-packages/sklearn/cluster/_kmeans.py:870: FutureWarning: The default value of `n_init` will change from 10 to 'auto' in 1.4. Set the value of `n_init` explicitly to suppress the warning\n",
      "  warnings.warn(\n",
      "/home/ethangm2/miniconda3/envs/NCSA-workflow-2/lib/python3.11/site-packages/sklearn/cluster/_kmeans.py:870: FutureWarning: The default value of `n_init` will change from 10 to 'auto' in 1.4. Set the value of `n_init` explicitly to suppress the warning\n",
      "  warnings.warn(\n",
      "/home/ethangm2/miniconda3/envs/NCSA-workflow-2/lib/python3.11/site-packages/sklearn/cluster/_kmeans.py:870: FutureWarning: The default value of `n_init` will change from 10 to 'auto' in 1.4. Set the value of `n_init` explicitly to suppress the warning\n",
      "  warnings.warn(\n",
      "/home/ethangm2/miniconda3/envs/NCSA-workflow-2/lib/python3.11/site-packages/sklearn/cluster/_kmeans.py:870: FutureWarning: The default value of `n_init` will change from 10 to 'auto' in 1.4. Set the value of `n_init` explicitly to suppress the warning\n",
      "  warnings.warn(\n",
      "/home/ethangm2/miniconda3/envs/NCSA-workflow-2/lib/python3.11/site-packages/sklearn/cluster/_kmeans.py:870: FutureWarning: The default value of `n_init` will change from 10 to 'auto' in 1.4. Set the value of `n_init` explicitly to suppress the warning\n",
      "  warnings.warn(\n",
      "/home/ethangm2/miniconda3/envs/NCSA-workflow-2/lib/python3.11/site-packages/sklearn/cluster/_kmeans.py:870: FutureWarning: The default value of `n_init` will change from 10 to 'auto' in 1.4. Set the value of `n_init` explicitly to suppress the warning\n",
      "  warnings.warn(\n",
      "/home/ethangm2/miniconda3/envs/NCSA-workflow-2/lib/python3.11/site-packages/sklearn/cluster/_kmeans.py:870: FutureWarning: The default value of `n_init` will change from 10 to 'auto' in 1.4. Set the value of `n_init` explicitly to suppress the warning\n",
      "  warnings.warn(\n",
      "/home/ethangm2/miniconda3/envs/NCSA-workflow-2/lib/python3.11/site-packages/sklearn/cluster/_kmeans.py:870: FutureWarning: The default value of `n_init` will change from 10 to 'auto' in 1.4. Set the value of `n_init` explicitly to suppress the warning\n",
      "  warnings.warn(\n",
      "/home/ethangm2/miniconda3/envs/NCSA-workflow-2/lib/python3.11/site-packages/sklearn/cluster/_kmeans.py:870: FutureWarning: The default value of `n_init` will change from 10 to 'auto' in 1.4. Set the value of `n_init` explicitly to suppress the warning\n",
      "  warnings.warn(\n",
      "/home/ethangm2/miniconda3/envs/NCSA-workflow-2/lib/python3.11/site-packages/sklearn/cluster/_kmeans.py:870: FutureWarning: The default value of `n_init` will change from 10 to 'auto' in 1.4. Set the value of `n_init` explicitly to suppress the warning\n",
      "  warnings.warn(\n",
      "/home/ethangm2/miniconda3/envs/NCSA-workflow-2/lib/python3.11/site-packages/sklearn/cluster/_kmeans.py:870: FutureWarning: The default value of `n_init` will change from 10 to 'auto' in 1.4. Set the value of `n_init` explicitly to suppress the warning\n",
      "  warnings.warn(\n"
     ]
    },
    {
     "data": {
      "text/plain": [
       "CompletedProcess(args=['molli', 'cluster', 'ncsa-testing-data/aso_new_env.h5', '-o', '/scratch/ethangm2/cluster-test/new_env_data3', '-v', '0', '-c', '0.8'], returncode=0)"
      ]
     },
     "execution_count": 2,
     "metadata": {},
     "output_type": "execute_result"
    }
   ],
   "source": [
    "subprocess.run(         # check functionality for plotting and pca\n",
    "     [                   # should be better way to implement post_processing stuff\n",
    "         'molli', \n",
    "         'cluster', \n",
    "         'ncsa-testing-data/aso_new_env.h5', \n",
    "         '-o', \n",
    "         '/scratch/ethangm2/cluster-test/new_env_data3', \n",
    "         '-v',\n",
    "         '0',\n",
    "         '-c',\n",
    "         '0.8',\n",
    "     ]\n",
    " )"
   ]
  },
  {
   "cell_type": "code",
   "execution_count": null,
   "metadata": {},
   "outputs": [],
   "source": []
  }
 ],
 "metadata": {
  "kernelspec": {
   "display_name": "NCSA-workflow-dev",
   "language": "python",
   "name": "python3"
  },
  "language_info": {
   "codemirror_mode": {
    "name": "ipython",
    "version": 3
   },
   "file_extension": ".py",
   "mimetype": "text/x-python",
   "name": "python",
   "nbconvert_exporter": "python",
   "pygments_lexer": "ipython3",
   "version": "3.11.4"
  },
  "orig_nbformat": 4
 },
 "nbformat": 4,
 "nbformat_minor": 2
}
