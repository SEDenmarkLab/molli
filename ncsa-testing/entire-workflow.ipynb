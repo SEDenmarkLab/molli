{
 "cells": [
  {
   "attachments": {},
   "cell_type": "markdown",
   "metadata": {},
   "source": [
    "To-Do: entire workflow\n",
    "chemdraw parse -> combinatorial expansion -> conformer generation -> aso description -> post-processing/dimension-reduction/analysis -> plot/output data"
   ]
  },
  {
   "cell_type": "code",
   "execution_count": 1,
   "metadata": {},
   "outputs": [],
   "source": [
    "import molli as ml\n",
    "import molli.visual\n",
    "import subprocess\n",
    "import os\n",
    "\n",
    "# This is a failsafe in case openbabel aint installed\n",
    "import openbabel"
   ]
  },
  {
   "cell_type": "code",
   "execution_count": 2,
   "metadata": {},
   "outputs": [],
   "source": [
    "# these are the chemdraw files that the user passes in\n",
    "cores = ml.files.box_cores_test_1\n",
    "subs = ml.files.box_substituents_test_1"
   ]
  },
  {
   "attachments": {},
   "cell_type": "markdown",
   "metadata": {},
   "source": [
    "# Make output directory - this is where everything relevant gets saved"
   ]
  },
  {
   "cell_type": "code",
   "execution_count": 3,
   "metadata": {},
   "outputs": [],
   "source": [
    "# create output directory if it doesn't exist\n",
    "out_dir = './ncsa-testing-output/'\n",
    "if not os.path.exists(out_dir):\n",
    "    os.makedirs(out_dir)"
   ]
  },
  {
   "attachments": {},
   "cell_type": "markdown",
   "metadata": {},
   "source": [
    "# 1. ChemDraw Parsing"
   ]
  },
  {
   "cell_type": "code",
   "execution_count": 4,
   "metadata": {},
   "outputs": [
    {
     "name": "stderr",
     "output_type": "stream",
     "text": [
      "100%|██████████| 5/5 [00:00<00:00, 84.89it/s]\n",
      "100%|██████████| 15/15 [00:00<00:00, 296.28it/s]\n"
     ]
    },
    {
     "data": {
      "text/plain": [
       "CompletedProcess(args=['molli', 'parse', '--hadd', '/home/ethangm2/NCSA Development/molli/molli/files/BOX_substituents_test_1.cdxml', '-o', './ncsa-testing-output/BOX_subs_new_env.mlib', '--overwrite'], returncode=0)"
      ]
     },
     "execution_count": 4,
     "metadata": {},
     "output_type": "execute_result"
    }
   ],
   "source": [
    "# parse the files\n",
    "subprocess.run(['molli', 'parse', '--hadd', f'{cores}', '-o', f'{out_dir}BOX_cores_new_env.mlib', \"--overwrite\"])\n",
    "subprocess.run(['molli', 'parse', '--hadd', f'{subs}', '-o', f'{out_dir}BOX_subs_new_env.mlib', \"--overwrite\"])"
   ]
  },
  {
   "cell_type": "code",
   "execution_count": 5,
   "metadata": {},
   "outputs": [
    {
     "name": "stdout",
     "output_type": "stream",
     "text": [
      "5\n"
     ]
    },
    {
     "data": {
      "application/3dmoljs_load.v0": "<div id=\"3dmolviewer_16869335944675937\"  style=\"position: relative; width: 1000px; height: 500px\">\n        <p id=\"3dmolwarning_16869335944675937\" style=\"background-color:#ffcccc;color:black\">You appear to be running in JupyterLab (or JavaScript failed to load for some other reason).  You need to install the 3dmol extension: <br>\n        <tt>jupyter labextension install jupyterlab_3dmol</tt></p>\n        </div>\n<script>\n\nvar loadScriptAsync = function(uri){\n  return new Promise((resolve, reject) => {\n    //this is to ignore the existence of requirejs amd\n    var savedexports, savedmodule;\n    if (typeof exports !== 'undefined') savedexports = exports;\n    else exports = {}\n    if (typeof module !== 'undefined') savedmodule = module;\n    else module = {}\n\n    var tag = document.createElement('script');\n    tag.src = uri;\n    tag.async = true;\n    tag.onload = () => {\n        exports = savedexports;\n        module = savedmodule;\n        resolve();\n    };\n  var firstScriptTag = document.getElementsByTagName('script')[0];\n  firstScriptTag.parentNode.insertBefore(tag, firstScriptTag);\n});\n};\n\nif(typeof $3Dmolpromise === 'undefined') {\n$3Dmolpromise = null;\n  $3Dmolpromise = loadScriptAsync('https://cdnjs.cloudflare.com/ajax/libs/3Dmol/2.0.1/3Dmol-min.js');\n}\n\nvar viewer_16869335944675937 = null;\nvar warn = document.getElementById(\"3dmolwarning_16869335944675937\");\nif(warn) {\n    warn.parentNode.removeChild(warn);\n}\n$3Dmolpromise.then(function() {\nviewer_16869335944675937 = $3Dmol.createViewer(document.getElementById(\"3dmolviewer_16869335944675937\"),{backgroundColor:\"white\"});\nviewer_16869335944675937.zoomTo();\n\tviewer_16869335944675937.addModel(\"# Produced with molli package\\n@<TRIPOS>MOLECULE\\n1\\n30 32 0 0 0\\nSMALL\\nUSER_CHARGES\\n\\n@<TRIPOS>ATOM\\n     1 C       2.653877    -0.900810     0.000000 C          1 UNL1 0.0\\n     2 C       3.535127     0.312731     0.000000 C          1 UNL1 0.0\\n     3 O       2.653877     1.526273     0.000000 O          1 UNL1 0.0\\n     4 C       1.226794     1.062732     0.000000 C          1 UNL1 0.0\\n     5 N       1.226794    -0.437269     0.000000 N          1 UNL1 0.0\\n     6 C      -0.072164     1.812732     0.000000 C          1 UNL1 0.0\\n     7 C      -1.371123     1.062732     0.000000 C          1 UNL1 0.0\\n     8 O      -2.798206     1.526273     0.000000 O          1 UNL1 0.0\\n     9 C      -3.679456     0.312731     0.000000 C          1 UNL1 0.0\\n    10 C      -2.798206    -0.900810     0.000000 C          1 UNL1 0.0\\n    11 N      -1.371123    -0.437269     0.000000 N          1 UNL1 0.0\\n    12 A1     -3.029977    -1.614352    -1.299453 Unknown    1 UNL1 0.0\\n    13 A1      2.885648    -1.614352     1.299453 Unknown    1 UNL1 0.0\\n    14 C      -0.072164    -1.187268     0.000000 C          1 UNL1 0.0\\n    15 Br     -0.072164    -1.187268     1.499931 Br         1 UNL1 0.0\\n    16 Br      0.677836    -2.486227     0.000000 Br         1 UNL1 0.0\\n    17 C      -0.072164     1.812732     1.500000 C          1 UNL1 0.0\\n    18 C       1.226794     2.562732     0.000000 C          1 UNL1 0.0\\n    19 H       2.859825    -1.534673    -0.837080 H          1 UNL1 0.0\\n    20 H       4.148880     0.312731     0.876544 H          1 UNL1 0.0\\n    21 H       4.148880     0.312731    -0.876544 H          1 UNL1 0.0\\n    22 H      -4.293208     0.312731     0.876544 H          1 UNL1 0.0\\n    23 H      -4.293208     0.312731    -0.876544 H          1 UNL1 0.0\\n    24 H      -3.004154    -1.534673     0.837080 H          1 UNL1 0.0\\n    25 H       0.149176     0.828507     1.856667 H          1 UNL1 0.0\\n    26 H      -1.035198     2.113157     1.856667 H          1 UNL1 0.0\\n    27 H       0.669529     2.496530     1.856667 H          1 UNL1 0.0\\n    28 H       1.787896     2.304234     0.873638 H          1 UNL1 0.0\\n    29 H       1.031246     3.614711     0.000027 H          1 UNL1 0.0\\n    30 H       1.787873     2.304274    -0.873665 H          1 UNL1 0.0\\n@<TRIPOS>BOND\\n     1      1      2          1\\n     2      2      3          1\\n     3      3      4          1\\n     4      4      5          2\\n     5      5      1          1\\n     6      4      6          1\\n     7      6      7          1\\n     8      7      8          1\\n     9      8      9          1\\n    10      9     10          1\\n    11     10     11          1\\n    12     11      7          2\\n    13     10     12          1\\n    14      1     13          1\\n    15     11     14          1\\n    16     14      5          1\\n    17     14     15          1\\n    18     14     16          1\\n    19      6     17          1\\n    20      6     18          1\\n    21      1     19          1\\n    22      2     20          1\\n    23      2     21          1\\n    24      9     22          1\\n    25      9     23          1\\n    26     10     24          1\\n    27     17     25          1\\n    28     17     26          1\\n    29     17     27          1\\n    30     18     28          1\\n    31     18     29          1\\n    32     18     30          1\\n\",\"mol2\");\n\tviewer_16869335944675937.setStyle({\"stick\": {\"radius\": 0.1}, \"sphere\": {\"scale\": 0.15}});\n\tviewer_16869335944675937.setHoverable({},true,\"\\n            function(atom,viewer,event,container) {\\n                if(!atom.label) {\\n                    atom.label = viewer.addLabel(atom.elem + atom.serial, {position: atom, backgroundColor: 'mintcream', fontColor:'black'});\\n                }\\n            }\\n            \",\"\\n            function(atom,viewer) { \\n                if(atom.label) {\\n                    viewer.removeLabel(atom.label);\\n                    delete atom.label;\\n                }\\n            }\\n            \");\n\tviewer_16869335944675937.zoomTo();\n\tviewer_16869335944675937.setBackgroundColor(null);\nviewer_16869335944675937.render();\n});\n</script>",
      "text/html": [
       "<div id=\"3dmolviewer_16869335944675937\"  style=\"position: relative; width: 1000px; height: 500px\">\n",
       "        <p id=\"3dmolwarning_16869335944675937\" style=\"background-color:#ffcccc;color:black\">You appear to be running in JupyterLab (or JavaScript failed to load for some other reason).  You need to install the 3dmol extension: <br>\n",
       "        <tt>jupyter labextension install jupyterlab_3dmol</tt></p>\n",
       "        </div>\n",
       "<script>\n",
       "\n",
       "var loadScriptAsync = function(uri){\n",
       "  return new Promise((resolve, reject) => {\n",
       "    //this is to ignore the existence of requirejs amd\n",
       "    var savedexports, savedmodule;\n",
       "    if (typeof exports !== 'undefined') savedexports = exports;\n",
       "    else exports = {}\n",
       "    if (typeof module !== 'undefined') savedmodule = module;\n",
       "    else module = {}\n",
       "\n",
       "    var tag = document.createElement('script');\n",
       "    tag.src = uri;\n",
       "    tag.async = true;\n",
       "    tag.onload = () => {\n",
       "        exports = savedexports;\n",
       "        module = savedmodule;\n",
       "        resolve();\n",
       "    };\n",
       "  var firstScriptTag = document.getElementsByTagName('script')[0];\n",
       "  firstScriptTag.parentNode.insertBefore(tag, firstScriptTag);\n",
       "});\n",
       "};\n",
       "\n",
       "if(typeof $3Dmolpromise === 'undefined') {\n",
       "$3Dmolpromise = null;\n",
       "  $3Dmolpromise = loadScriptAsync('https://cdnjs.cloudflare.com/ajax/libs/3Dmol/2.0.1/3Dmol-min.js');\n",
       "}\n",
       "\n",
       "var viewer_16869335944675937 = null;\n",
       "var warn = document.getElementById(\"3dmolwarning_16869335944675937\");\n",
       "if(warn) {\n",
       "    warn.parentNode.removeChild(warn);\n",
       "}\n",
       "$3Dmolpromise.then(function() {\n",
       "viewer_16869335944675937 = $3Dmol.createViewer(document.getElementById(\"3dmolviewer_16869335944675937\"),{backgroundColor:\"white\"});\n",
       "viewer_16869335944675937.zoomTo();\n",
       "\tviewer_16869335944675937.addModel(\"# Produced with molli package\\n@<TRIPOS>MOLECULE\\n1\\n30 32 0 0 0\\nSMALL\\nUSER_CHARGES\\n\\n@<TRIPOS>ATOM\\n     1 C       2.653877    -0.900810     0.000000 C          1 UNL1 0.0\\n     2 C       3.535127     0.312731     0.000000 C          1 UNL1 0.0\\n     3 O       2.653877     1.526273     0.000000 O          1 UNL1 0.0\\n     4 C       1.226794     1.062732     0.000000 C          1 UNL1 0.0\\n     5 N       1.226794    -0.437269     0.000000 N          1 UNL1 0.0\\n     6 C      -0.072164     1.812732     0.000000 C          1 UNL1 0.0\\n     7 C      -1.371123     1.062732     0.000000 C          1 UNL1 0.0\\n     8 O      -2.798206     1.526273     0.000000 O          1 UNL1 0.0\\n     9 C      -3.679456     0.312731     0.000000 C          1 UNL1 0.0\\n    10 C      -2.798206    -0.900810     0.000000 C          1 UNL1 0.0\\n    11 N      -1.371123    -0.437269     0.000000 N          1 UNL1 0.0\\n    12 A1     -3.029977    -1.614352    -1.299453 Unknown    1 UNL1 0.0\\n    13 A1      2.885648    -1.614352     1.299453 Unknown    1 UNL1 0.0\\n    14 C      -0.072164    -1.187268     0.000000 C          1 UNL1 0.0\\n    15 Br     -0.072164    -1.187268     1.499931 Br         1 UNL1 0.0\\n    16 Br      0.677836    -2.486227     0.000000 Br         1 UNL1 0.0\\n    17 C      -0.072164     1.812732     1.500000 C          1 UNL1 0.0\\n    18 C       1.226794     2.562732     0.000000 C          1 UNL1 0.0\\n    19 H       2.859825    -1.534673    -0.837080 H          1 UNL1 0.0\\n    20 H       4.148880     0.312731     0.876544 H          1 UNL1 0.0\\n    21 H       4.148880     0.312731    -0.876544 H          1 UNL1 0.0\\n    22 H      -4.293208     0.312731     0.876544 H          1 UNL1 0.0\\n    23 H      -4.293208     0.312731    -0.876544 H          1 UNL1 0.0\\n    24 H      -3.004154    -1.534673     0.837080 H          1 UNL1 0.0\\n    25 H       0.149176     0.828507     1.856667 H          1 UNL1 0.0\\n    26 H      -1.035198     2.113157     1.856667 H          1 UNL1 0.0\\n    27 H       0.669529     2.496530     1.856667 H          1 UNL1 0.0\\n    28 H       1.787896     2.304234     0.873638 H          1 UNL1 0.0\\n    29 H       1.031246     3.614711     0.000027 H          1 UNL1 0.0\\n    30 H       1.787873     2.304274    -0.873665 H          1 UNL1 0.0\\n@<TRIPOS>BOND\\n     1      1      2          1\\n     2      2      3          1\\n     3      3      4          1\\n     4      4      5          2\\n     5      5      1          1\\n     6      4      6          1\\n     7      6      7          1\\n     8      7      8          1\\n     9      8      9          1\\n    10      9     10          1\\n    11     10     11          1\\n    12     11      7          2\\n    13     10     12          1\\n    14      1     13          1\\n    15     11     14          1\\n    16     14      5          1\\n    17     14     15          1\\n    18     14     16          1\\n    19      6     17          1\\n    20      6     18          1\\n    21      1     19          1\\n    22      2     20          1\\n    23      2     21          1\\n    24      9     22          1\\n    25      9     23          1\\n    26     10     24          1\\n    27     17     25          1\\n    28     17     26          1\\n    29     17     27          1\\n    30     18     28          1\\n    31     18     29          1\\n    32     18     30          1\\n\",\"mol2\");\n",
       "\tviewer_16869335944675937.setStyle({\"stick\": {\"radius\": 0.1}, \"sphere\": {\"scale\": 0.15}});\n",
       "\tviewer_16869335944675937.setHoverable({},true,\"\\n            function(atom,viewer,event,container) {\\n                if(!atom.label) {\\n                    atom.label = viewer.addLabel(atom.elem + atom.serial, {position: atom, backgroundColor: 'mintcream', fontColor:'black'});\\n                }\\n            }\\n            \",\"\\n            function(atom,viewer) { \\n                if(atom.label) {\\n                    viewer.removeLabel(atom.label);\\n                    delete atom.label;\\n                }\\n            }\\n            \");\n",
       "\tviewer_16869335944675937.zoomTo();\n",
       "\tviewer_16869335944675937.setBackgroundColor(null);\n",
       "viewer_16869335944675937.render();\n",
       "});\n",
       "</script>"
      ]
     },
     "metadata": {},
     "output_type": "display_data"
    },
    {
     "data": {
      "text/plain": [
       "Molecule(name='1', formula='C10 H12 Br2 N2 O2 Unknown2')"
      ]
     },
     "execution_count": 5,
     "metadata": {},
     "output_type": "execute_result"
    }
   ],
   "source": [
    "m_core = ml.MoleculeLibrary(f'{out_dir}BOX_cores_new_env.mlib')\n",
    "print(len(m_core))\n",
    "# you can index fragments directly with the string they are lablled with in the chemdraw\n",
    "m_core['1']"
   ]
  },
  {
   "cell_type": "code",
   "execution_count": 6,
   "metadata": {},
   "outputs": [
    {
     "name": "stdout",
     "output_type": "stream",
     "text": [
      "15\n"
     ]
    },
    {
     "data": {
      "application/3dmoljs_load.v0": "<div id=\"3dmolviewer_16869335944804926\"  style=\"position: relative; width: 1000px; height: 500px\">\n        <p id=\"3dmolwarning_16869335944804926\" style=\"background-color:#ffcccc;color:black\">You appear to be running in JupyterLab (or JavaScript failed to load for some other reason).  You need to install the 3dmol extension: <br>\n        <tt>jupyter labextension install jupyterlab_3dmol</tt></p>\n        </div>\n<script>\n\nvar loadScriptAsync = function(uri){\n  return new Promise((resolve, reject) => {\n    //this is to ignore the existence of requirejs amd\n    var savedexports, savedmodule;\n    if (typeof exports !== 'undefined') savedexports = exports;\n    else exports = {}\n    if (typeof module !== 'undefined') savedmodule = module;\n    else module = {}\n\n    var tag = document.createElement('script');\n    tag.src = uri;\n    tag.async = true;\n    tag.onload = () => {\n        exports = savedexports;\n        module = savedmodule;\n        resolve();\n    };\n  var firstScriptTag = document.getElementsByTagName('script')[0];\n  firstScriptTag.parentNode.insertBefore(tag, firstScriptTag);\n});\n};\n\nif(typeof $3Dmolpromise === 'undefined') {\n$3Dmolpromise = null;\n  $3Dmolpromise = loadScriptAsync('https://cdnjs.cloudflare.com/ajax/libs/3Dmol/2.0.1/3Dmol-min.js');\n}\n\nvar viewer_16869335944804926 = null;\nvar warn = document.getElementById(\"3dmolwarning_16869335944804926\");\nif(warn) {\n    warn.parentNode.removeChild(warn);\n}\n$3Dmolpromise.then(function() {\nviewer_16869335944804926 = $3Dmol.createViewer(document.getElementById(\"3dmolviewer_16869335944804926\"),{backgroundColor:\"white\"});\nviewer_16869335944804926.zoomTo();\n\tviewer_16869335944804926.addModel(\"# Produced with molli package\\n@<TRIPOS>MOLECULE\\n3\\n11 10 0 0 0\\nSMALL\\nUSER_CHARGES\\n\\n@<TRIPOS>ATOM\\n     1 C       0.000000     0.000000     0.000000 C          1 UNL1 0.0\\n     2 AP1    -1.298958    -0.750000     0.000000 Unknown    1 UNL1 0.0\\n     3 C       1.299018    -0.750035     0.000000 C          1 UNL1 0.0\\n     4 C       0.000000     1.500000     0.000000 C          1 UNL1 0.0\\n     5 H       0.000000     0.000000    -1.070000 H          1 UNL1 0.0\\n     6 H       1.860120    -0.491537     0.873638 H          1 UNL1 0.0\\n     7 H       1.860097    -0.491577    -0.873665 H          1 UNL1 0.0\\n     8 H       1.103470    -1.802014     0.000027 H          1 UNL1 0.0\\n     9 H       1.008806     1.856667     0.000000 H          1 UNL1 0.0\\n    10 H      -0.504403     1.856667     0.873651 H          1 UNL1 0.0\\n    11 H      -0.504403     1.856667    -0.873651 H          1 UNL1 0.0\\n@<TRIPOS>BOND\\n     1      2      1          1\\n     2      1      3          1\\n     3      1      4          1\\n     4      1      5          1\\n     5      3      6          1\\n     6      3      7          1\\n     7      3      8          1\\n     8      4      9          1\\n     9      4     10          1\\n    10      4     11          1\\n\",\"mol2\");\n\tviewer_16869335944804926.setStyle({\"stick\": {\"radius\": 0.1}, \"sphere\": {\"scale\": 0.15}});\n\tviewer_16869335944804926.setHoverable({},true,\"\\n            function(atom,viewer,event,container) {\\n                if(!atom.label) {\\n                    atom.label = viewer.addLabel(atom.elem + atom.serial, {position: atom, backgroundColor: 'mintcream', fontColor:'black'});\\n                }\\n            }\\n            \",\"\\n            function(atom,viewer) { \\n                if(atom.label) {\\n                    viewer.removeLabel(atom.label);\\n                    delete atom.label;\\n                }\\n            }\\n            \");\n\tviewer_16869335944804926.zoomTo();\n\tviewer_16869335944804926.setBackgroundColor(null);\nviewer_16869335944804926.render();\n});\n</script>",
      "text/html": [
       "<div id=\"3dmolviewer_16869335944804926\"  style=\"position: relative; width: 1000px; height: 500px\">\n",
       "        <p id=\"3dmolwarning_16869335944804926\" style=\"background-color:#ffcccc;color:black\">You appear to be running in JupyterLab (or JavaScript failed to load for some other reason).  You need to install the 3dmol extension: <br>\n",
       "        <tt>jupyter labextension install jupyterlab_3dmol</tt></p>\n",
       "        </div>\n",
       "<script>\n",
       "\n",
       "var loadScriptAsync = function(uri){\n",
       "  return new Promise((resolve, reject) => {\n",
       "    //this is to ignore the existence of requirejs amd\n",
       "    var savedexports, savedmodule;\n",
       "    if (typeof exports !== 'undefined') savedexports = exports;\n",
       "    else exports = {}\n",
       "    if (typeof module !== 'undefined') savedmodule = module;\n",
       "    else module = {}\n",
       "\n",
       "    var tag = document.createElement('script');\n",
       "    tag.src = uri;\n",
       "    tag.async = true;\n",
       "    tag.onload = () => {\n",
       "        exports = savedexports;\n",
       "        module = savedmodule;\n",
       "        resolve();\n",
       "    };\n",
       "  var firstScriptTag = document.getElementsByTagName('script')[0];\n",
       "  firstScriptTag.parentNode.insertBefore(tag, firstScriptTag);\n",
       "});\n",
       "};\n",
       "\n",
       "if(typeof $3Dmolpromise === 'undefined') {\n",
       "$3Dmolpromise = null;\n",
       "  $3Dmolpromise = loadScriptAsync('https://cdnjs.cloudflare.com/ajax/libs/3Dmol/2.0.1/3Dmol-min.js');\n",
       "}\n",
       "\n",
       "var viewer_16869335944804926 = null;\n",
       "var warn = document.getElementById(\"3dmolwarning_16869335944804926\");\n",
       "if(warn) {\n",
       "    warn.parentNode.removeChild(warn);\n",
       "}\n",
       "$3Dmolpromise.then(function() {\n",
       "viewer_16869335944804926 = $3Dmol.createViewer(document.getElementById(\"3dmolviewer_16869335944804926\"),{backgroundColor:\"white\"});\n",
       "viewer_16869335944804926.zoomTo();\n",
       "\tviewer_16869335944804926.addModel(\"# Produced with molli package\\n@<TRIPOS>MOLECULE\\n3\\n11 10 0 0 0\\nSMALL\\nUSER_CHARGES\\n\\n@<TRIPOS>ATOM\\n     1 C       0.000000     0.000000     0.000000 C          1 UNL1 0.0\\n     2 AP1    -1.298958    -0.750000     0.000000 Unknown    1 UNL1 0.0\\n     3 C       1.299018    -0.750035     0.000000 C          1 UNL1 0.0\\n     4 C       0.000000     1.500000     0.000000 C          1 UNL1 0.0\\n     5 H       0.000000     0.000000    -1.070000 H          1 UNL1 0.0\\n     6 H       1.860120    -0.491537     0.873638 H          1 UNL1 0.0\\n     7 H       1.860097    -0.491577    -0.873665 H          1 UNL1 0.0\\n     8 H       1.103470    -1.802014     0.000027 H          1 UNL1 0.0\\n     9 H       1.008806     1.856667     0.000000 H          1 UNL1 0.0\\n    10 H      -0.504403     1.856667     0.873651 H          1 UNL1 0.0\\n    11 H      -0.504403     1.856667    -0.873651 H          1 UNL1 0.0\\n@<TRIPOS>BOND\\n     1      2      1          1\\n     2      1      3          1\\n     3      1      4          1\\n     4      1      5          1\\n     5      3      6          1\\n     6      3      7          1\\n     7      3      8          1\\n     8      4      9          1\\n     9      4     10          1\\n    10      4     11          1\\n\",\"mol2\");\n",
       "\tviewer_16869335944804926.setStyle({\"stick\": {\"radius\": 0.1}, \"sphere\": {\"scale\": 0.15}});\n",
       "\tviewer_16869335944804926.setHoverable({},true,\"\\n            function(atom,viewer,event,container) {\\n                if(!atom.label) {\\n                    atom.label = viewer.addLabel(atom.elem + atom.serial, {position: atom, backgroundColor: 'mintcream', fontColor:'black'});\\n                }\\n            }\\n            \",\"\\n            function(atom,viewer) { \\n                if(atom.label) {\\n                    viewer.removeLabel(atom.label);\\n                    delete atom.label;\\n                }\\n            }\\n            \");\n",
       "\tviewer_16869335944804926.zoomTo();\n",
       "\tviewer_16869335944804926.setBackgroundColor(null);\n",
       "viewer_16869335944804926.render();\n",
       "});\n",
       "</script>"
      ]
     },
     "metadata": {},
     "output_type": "display_data"
    },
    {
     "data": {
      "text/plain": [
       "Molecule(name='3', formula='C3 H7 Unknown1')"
      ]
     },
     "execution_count": 6,
     "metadata": {},
     "output_type": "execute_result"
    }
   ],
   "source": [
    "m_subs = ml.MoleculeLibrary(f'{out_dir}BOX_subs_new_env.mlib')\n",
    "print(len(m_subs))\n",
    "m_subs['3']"
   ]
  },
  {
   "attachments": {},
   "cell_type": "markdown",
   "metadata": {},
   "source": [
    "# 2. Combinatorial Expansion"
   ]
  },
  {
   "cell_type": "code",
   "execution_count": 7,
   "metadata": {},
   "outputs": [
    {
     "name": "stdout",
     "output_type": "stream",
     "text": [
      "Will create a library of size 75\n"
     ]
    },
    {
     "name": "stderr",
     "output_type": "stream",
     "text": [
      "100%|██████████| 75/75 [00:02<00:00, 35.28it/s]\n"
     ]
    },
    {
     "data": {
      "text/plain": [
       "CompletedProcess(args=['molli', 'combine', './ncsa-testing-output/BOX_cores_new_env.mlib', '-s', './ncsa-testing-output/BOX_subs_new_env.mlib', '-j', '96', '-o', './ncsa-testing-output/test_combine_new_env.mlib', '-a', 'A1', '--obopt', 'uff', '-m', 'same', '--overwrite'], returncode=0)"
      ]
     },
     "execution_count": 7,
     "metadata": {},
     "output_type": "execute_result"
    }
   ],
   "source": [
    "subprocess.run(\n",
    "    [\n",
    "        'molli',\n",
    "        'combine',\n",
    "        f'{out_dir}BOX_cores_new_env.mlib',\n",
    "        '-s',\n",
    "        f'{out_dir}BOX_subs_new_env.mlib',\n",
    "        '-j',\n",
    "        '96', \n",
    "        '-o', \n",
    "        f'{out_dir}test_combine_new_env.mlib', \n",
    "        '-a', \n",
    "        'A1', \n",
    "        '--obopt', \n",
    "        'uff',\n",
    "        '-m',\n",
    "        'same',\n",
    "        \"--overwrite\"\n",
    "    ]\n",
    ")\n"
   ]
  },
  {
   "cell_type": "code",
   "execution_count": 8,
   "metadata": {},
   "outputs": [
    {
     "name": "stdout",
     "output_type": "stream",
     "text": [
      "75\n"
     ]
    },
    {
     "data": {
      "application/3dmoljs_load.v0": "<div id=\"3dmolviewer_1686933597142155\"  style=\"position: relative; width: 1000px; height: 500px\">\n        <p id=\"3dmolwarning_1686933597142155\" style=\"background-color:#ffcccc;color:black\">You appear to be running in JupyterLab (or JavaScript failed to load for some other reason).  You need to install the 3dmol extension: <br>\n        <tt>jupyter labextension install jupyterlab_3dmol</tt></p>\n        </div>\n<script>\n\nvar loadScriptAsync = function(uri){\n  return new Promise((resolve, reject) => {\n    //this is to ignore the existence of requirejs amd\n    var savedexports, savedmodule;\n    if (typeof exports !== 'undefined') savedexports = exports;\n    else exports = {}\n    if (typeof module !== 'undefined') savedmodule = module;\n    else module = {}\n\n    var tag = document.createElement('script');\n    tag.src = uri;\n    tag.async = true;\n    tag.onload = () => {\n        exports = savedexports;\n        module = savedmodule;\n        resolve();\n    };\n  var firstScriptTag = document.getElementsByTagName('script')[0];\n  firstScriptTag.parentNode.insertBefore(tag, firstScriptTag);\n});\n};\n\nif(typeof $3Dmolpromise === 'undefined') {\n$3Dmolpromise = null;\n  $3Dmolpromise = loadScriptAsync('https://cdnjs.cloudflare.com/ajax/libs/3Dmol/2.0.1/3Dmol-min.js');\n}\n\nvar viewer_1686933597142155 = null;\nvar warn = document.getElementById(\"3dmolwarning_1686933597142155\");\nif(warn) {\n    warn.parentNode.removeChild(warn);\n}\n$3Dmolpromise.then(function() {\nviewer_1686933597142155 = $3Dmol.createViewer(document.getElementById(\"3dmolviewer_1686933597142155\"),{backgroundColor:\"white\"});\nviewer_1686933597142155.zoomTo();\n\tviewer_1686933597142155.addModel(\"# Produced with molli package\\n@<TRIPOS>MOLECULE\\n1_3_3\\n48 50 0 0 0\\nSMALL\\nUSER_CHARGES\\n\\n@<TRIPOS>ATOM\\n     1 C       0.049649     0.015856     0.217185 C          1 UNL1 0.0\\n     2 C       0.864903     1.325627     0.325091 C          1 UNL1 0.0\\n     3 O      -0.083577     2.301993     0.425768 O          1 UNL1 0.0\\n     4 C      -1.315382     1.773674     0.380052 C          1 UNL1 0.0\\n     5 N      -1.346752     0.491555     0.289365 N          1 UNL1 0.0\\n     6 C      -2.519154     2.661834     0.388271 C          1 UNL1 0.0\\n     7 C      -3.769417     1.857362     0.217914 C          1 UNL1 0.0\\n     8 O      -4.970393     2.452775     0.271486 O          1 UNL1 0.0\\n     9 C      -5.971066     1.533561     0.143173 C          1 UNL1 0.0\\n    10 C      -5.229698     0.180726     0.049561 C          1 UNL1 0.0\\n    11 N      -3.808666     0.581856     0.056917 N          1 UNL1 0.0\\n    12 C      -2.600974    -0.284585     0.099553 C          1 UNL1 0.0\\n    13 Br     -2.939300    -1.528447     1.558765 Br         1 UNL1 0.0\\n    14 Br     -2.326703    -1.261133    -1.562389 Br         1 UNL1 0.0\\n    15 C      -2.568173     3.406720     1.733859 C          1 UNL1 0.0\\n    16 C      -2.421707     3.668804    -0.771061 C          1 UNL1 0.0\\n    17 H       0.241331    -0.389801    -0.800530 H          1 UNL1 0.0\\n    18 H       1.518485     1.382777     1.219501 H          1 UNL1 0.0\\n    19 H       1.486648     1.490315    -0.581757 H          1 UNL1 0.0\\n    20 H      -6.650363     1.562522     1.022548 H          1 UNL1 0.0\\n    21 H      -6.551704     1.797222    -0.763457 H          1 UNL1 0.0\\n    22 H      -5.440893    -0.356519     1.000441 H          1 UNL1 0.0\\n    23 H      -2.642709     2.682813     2.575153 H          1 UNL1 0.0\\n    24 H      -3.446397     4.086427     1.778508 H          1 UNL1 0.0\\n    25 H      -1.651855     4.019064     1.879762 H          1 UNL1 0.0\\n    26 H      -1.507925     4.294427    -0.675447 H          1 UNL1 0.0\\n    27 H      -3.302102     4.347593    -0.778594 H          1 UNL1 0.0\\n    28 H      -2.381236     3.135851    -1.746323 H          1 UNL1 0.0\\n    29 C      -5.826923    -0.666027    -1.124653 C          1 UNL1 0.0\\n    30 C      -5.573403    -2.176404    -0.989544 C          1 UNL1 0.0\\n    31 C      -5.493945    -0.127288    -2.529230 C          1 UNL1 0.0\\n    32 H      -6.934124    -0.596462    -1.019095 H          1 UNL1 0.0\\n    33 H      -4.524251    -2.474882    -1.052953 H          1 UNL1 0.0\\n    34 H      -6.125165    -2.721480    -1.785292 H          1 UNL1 0.0\\n    35 H      -5.958146    -2.533024    -0.010403 H          1 UNL1 0.0\\n    36 H      -6.021647    -0.729944    -3.298555 H          1 UNL1 0.0\\n    37 H      -4.417251    -0.155928    -2.751231 H          1 UNL1 0.0\\n    38 H      -5.824735     0.922674    -2.650988 H          1 UNL1 0.0\\n    39 C       0.588348    -1.016870     1.263700 C          1 UNL1 0.0\\n    40 C       0.274166    -2.480709     0.914725 C          1 UNL1 0.0\\n    41 C       0.252402    -0.659273     2.723865 C          1 UNL1 0.0\\n    42 H       1.699405    -0.987075     1.182192 H          1 UNL1 0.0\\n    43 H      -0.786251    -2.740715     0.916704 H          1 UNL1 0.0\\n    44 H       0.785200    -3.154558     1.635633 H          1 UNL1 0.0\\n    45 H       0.665849    -2.714017    -0.098166 H          1 UNL1 0.0\\n    46 H       0.739366    -1.381988     3.412086 H          1 UNL1 0.0\\n    47 H      -0.829551    -0.669115     2.924020 H          1 UNL1 0.0\\n    48 H       0.624503     0.351074     2.986415 H          1 UNL1 0.0\\n@<TRIPOS>BOND\\n     1      1      2          1\\n     2      2      3          1\\n     3      3      4          1\\n     4      4      5          2\\n     5      5      1          1\\n     6      4      6          1\\n     7      6      7          1\\n     8      7      8          1\\n     9      8      9          1\\n    10      9     10          1\\n    11     10     11          1\\n    12     11      7          2\\n    13     11     12          1\\n    14     12      5          1\\n    15     12     13          1\\n    16     12     14          1\\n    17      6     15          1\\n    18      6     16          1\\n    19      1     17          1\\n    20      2     18          1\\n    21      2     19          1\\n    22      9     20          1\\n    23      9     21          1\\n    24     10     22          1\\n    25     15     23          1\\n    26     15     24          1\\n    27     15     25          1\\n    28     16     26          1\\n    29     16     27          1\\n    30     16     28          1\\n    31     29     30          1\\n    32     29     31          1\\n    33     29     32          1\\n    34     30     33          1\\n    35     30     34          1\\n    36     30     35          1\\n    37     31     36          1\\n    38     31     37          1\\n    39     31     38          1\\n    40     10     29          1\\n    41     39     40          1\\n    42     39     41          1\\n    43     39     42          1\\n    44     40     43          1\\n    45     40     44          1\\n    46     40     45          1\\n    47     41     46          1\\n    48     41     47          1\\n    49     41     48          1\\n    50      1     39          1\\n\",\"mol2\");\n\tviewer_1686933597142155.setStyle({\"stick\": {\"radius\": 0.1}, \"sphere\": {\"scale\": 0.15}});\n\tviewer_1686933597142155.setHoverable({},true,\"\\n            function(atom,viewer,event,container) {\\n                if(!atom.label) {\\n                    atom.label = viewer.addLabel(atom.elem + atom.serial, {position: atom, backgroundColor: 'mintcream', fontColor:'black'});\\n                }\\n            }\\n            \",\"\\n            function(atom,viewer) { \\n                if(atom.label) {\\n                    viewer.removeLabel(atom.label);\\n                    delete atom.label;\\n                }\\n            }\\n            \");\n\tviewer_1686933597142155.zoomTo();\n\tviewer_1686933597142155.setBackgroundColor(null);\nviewer_1686933597142155.render();\n});\n</script>",
      "text/html": [
       "<div id=\"3dmolviewer_1686933597142155\"  style=\"position: relative; width: 1000px; height: 500px\">\n",
       "        <p id=\"3dmolwarning_1686933597142155\" style=\"background-color:#ffcccc;color:black\">You appear to be running in JupyterLab (or JavaScript failed to load for some other reason).  You need to install the 3dmol extension: <br>\n",
       "        <tt>jupyter labextension install jupyterlab_3dmol</tt></p>\n",
       "        </div>\n",
       "<script>\n",
       "\n",
       "var loadScriptAsync = function(uri){\n",
       "  return new Promise((resolve, reject) => {\n",
       "    //this is to ignore the existence of requirejs amd\n",
       "    var savedexports, savedmodule;\n",
       "    if (typeof exports !== 'undefined') savedexports = exports;\n",
       "    else exports = {}\n",
       "    if (typeof module !== 'undefined') savedmodule = module;\n",
       "    else module = {}\n",
       "\n",
       "    var tag = document.createElement('script');\n",
       "    tag.src = uri;\n",
       "    tag.async = true;\n",
       "    tag.onload = () => {\n",
       "        exports = savedexports;\n",
       "        module = savedmodule;\n",
       "        resolve();\n",
       "    };\n",
       "  var firstScriptTag = document.getElementsByTagName('script')[0];\n",
       "  firstScriptTag.parentNode.insertBefore(tag, firstScriptTag);\n",
       "});\n",
       "};\n",
       "\n",
       "if(typeof $3Dmolpromise === 'undefined') {\n",
       "$3Dmolpromise = null;\n",
       "  $3Dmolpromise = loadScriptAsync('https://cdnjs.cloudflare.com/ajax/libs/3Dmol/2.0.1/3Dmol-min.js');\n",
       "}\n",
       "\n",
       "var viewer_1686933597142155 = null;\n",
       "var warn = document.getElementById(\"3dmolwarning_1686933597142155\");\n",
       "if(warn) {\n",
       "    warn.parentNode.removeChild(warn);\n",
       "}\n",
       "$3Dmolpromise.then(function() {\n",
       "viewer_1686933597142155 = $3Dmol.createViewer(document.getElementById(\"3dmolviewer_1686933597142155\"),{backgroundColor:\"white\"});\n",
       "viewer_1686933597142155.zoomTo();\n",
       "\tviewer_1686933597142155.addModel(\"# Produced with molli package\\n@<TRIPOS>MOLECULE\\n1_3_3\\n48 50 0 0 0\\nSMALL\\nUSER_CHARGES\\n\\n@<TRIPOS>ATOM\\n     1 C       0.049649     0.015856     0.217185 C          1 UNL1 0.0\\n     2 C       0.864903     1.325627     0.325091 C          1 UNL1 0.0\\n     3 O      -0.083577     2.301993     0.425768 O          1 UNL1 0.0\\n     4 C      -1.315382     1.773674     0.380052 C          1 UNL1 0.0\\n     5 N      -1.346752     0.491555     0.289365 N          1 UNL1 0.0\\n     6 C      -2.519154     2.661834     0.388271 C          1 UNL1 0.0\\n     7 C      -3.769417     1.857362     0.217914 C          1 UNL1 0.0\\n     8 O      -4.970393     2.452775     0.271486 O          1 UNL1 0.0\\n     9 C      -5.971066     1.533561     0.143173 C          1 UNL1 0.0\\n    10 C      -5.229698     0.180726     0.049561 C          1 UNL1 0.0\\n    11 N      -3.808666     0.581856     0.056917 N          1 UNL1 0.0\\n    12 C      -2.600974    -0.284585     0.099553 C          1 UNL1 0.0\\n    13 Br     -2.939300    -1.528447     1.558765 Br         1 UNL1 0.0\\n    14 Br     -2.326703    -1.261133    -1.562389 Br         1 UNL1 0.0\\n    15 C      -2.568173     3.406720     1.733859 C          1 UNL1 0.0\\n    16 C      -2.421707     3.668804    -0.771061 C          1 UNL1 0.0\\n    17 H       0.241331    -0.389801    -0.800530 H          1 UNL1 0.0\\n    18 H       1.518485     1.382777     1.219501 H          1 UNL1 0.0\\n    19 H       1.486648     1.490315    -0.581757 H          1 UNL1 0.0\\n    20 H      -6.650363     1.562522     1.022548 H          1 UNL1 0.0\\n    21 H      -6.551704     1.797222    -0.763457 H          1 UNL1 0.0\\n    22 H      -5.440893    -0.356519     1.000441 H          1 UNL1 0.0\\n    23 H      -2.642709     2.682813     2.575153 H          1 UNL1 0.0\\n    24 H      -3.446397     4.086427     1.778508 H          1 UNL1 0.0\\n    25 H      -1.651855     4.019064     1.879762 H          1 UNL1 0.0\\n    26 H      -1.507925     4.294427    -0.675447 H          1 UNL1 0.0\\n    27 H      -3.302102     4.347593    -0.778594 H          1 UNL1 0.0\\n    28 H      -2.381236     3.135851    -1.746323 H          1 UNL1 0.0\\n    29 C      -5.826923    -0.666027    -1.124653 C          1 UNL1 0.0\\n    30 C      -5.573403    -2.176404    -0.989544 C          1 UNL1 0.0\\n    31 C      -5.493945    -0.127288    -2.529230 C          1 UNL1 0.0\\n    32 H      -6.934124    -0.596462    -1.019095 H          1 UNL1 0.0\\n    33 H      -4.524251    -2.474882    -1.052953 H          1 UNL1 0.0\\n    34 H      -6.125165    -2.721480    -1.785292 H          1 UNL1 0.0\\n    35 H      -5.958146    -2.533024    -0.010403 H          1 UNL1 0.0\\n    36 H      -6.021647    -0.729944    -3.298555 H          1 UNL1 0.0\\n    37 H      -4.417251    -0.155928    -2.751231 H          1 UNL1 0.0\\n    38 H      -5.824735     0.922674    -2.650988 H          1 UNL1 0.0\\n    39 C       0.588348    -1.016870     1.263700 C          1 UNL1 0.0\\n    40 C       0.274166    -2.480709     0.914725 C          1 UNL1 0.0\\n    41 C       0.252402    -0.659273     2.723865 C          1 UNL1 0.0\\n    42 H       1.699405    -0.987075     1.182192 H          1 UNL1 0.0\\n    43 H      -0.786251    -2.740715     0.916704 H          1 UNL1 0.0\\n    44 H       0.785200    -3.154558     1.635633 H          1 UNL1 0.0\\n    45 H       0.665849    -2.714017    -0.098166 H          1 UNL1 0.0\\n    46 H       0.739366    -1.381988     3.412086 H          1 UNL1 0.0\\n    47 H      -0.829551    -0.669115     2.924020 H          1 UNL1 0.0\\n    48 H       0.624503     0.351074     2.986415 H          1 UNL1 0.0\\n@<TRIPOS>BOND\\n     1      1      2          1\\n     2      2      3          1\\n     3      3      4          1\\n     4      4      5          2\\n     5      5      1          1\\n     6      4      6          1\\n     7      6      7          1\\n     8      7      8          1\\n     9      8      9          1\\n    10      9     10          1\\n    11     10     11          1\\n    12     11      7          2\\n    13     11     12          1\\n    14     12      5          1\\n    15     12     13          1\\n    16     12     14          1\\n    17      6     15          1\\n    18      6     16          1\\n    19      1     17          1\\n    20      2     18          1\\n    21      2     19          1\\n    22      9     20          1\\n    23      9     21          1\\n    24     10     22          1\\n    25     15     23          1\\n    26     15     24          1\\n    27     15     25          1\\n    28     16     26          1\\n    29     16     27          1\\n    30     16     28          1\\n    31     29     30          1\\n    32     29     31          1\\n    33     29     32          1\\n    34     30     33          1\\n    35     30     34          1\\n    36     30     35          1\\n    37     31     36          1\\n    38     31     37          1\\n    39     31     38          1\\n    40     10     29          1\\n    41     39     40          1\\n    42     39     41          1\\n    43     39     42          1\\n    44     40     43          1\\n    45     40     44          1\\n    46     40     45          1\\n    47     41     46          1\\n    48     41     47          1\\n    49     41     48          1\\n    50      1     39          1\\n\",\"mol2\");\n",
       "\tviewer_1686933597142155.setStyle({\"stick\": {\"radius\": 0.1}, \"sphere\": {\"scale\": 0.15}});\n",
       "\tviewer_1686933597142155.setHoverable({},true,\"\\n            function(atom,viewer,event,container) {\\n                if(!atom.label) {\\n                    atom.label = viewer.addLabel(atom.elem + atom.serial, {position: atom, backgroundColor: 'mintcream', fontColor:'black'});\\n                }\\n            }\\n            \",\"\\n            function(atom,viewer) { \\n                if(atom.label) {\\n                    viewer.removeLabel(atom.label);\\n                    delete atom.label;\\n                }\\n            }\\n            \");\n",
       "\tviewer_1686933597142155.zoomTo();\n",
       "\tviewer_1686933597142155.setBackgroundColor(null);\n",
       "viewer_1686933597142155.render();\n",
       "});\n",
       "</script>"
      ]
     },
     "metadata": {},
     "output_type": "display_data"
    },
    {
     "data": {
      "text/plain": [
       "Molecule(name='1_3_3', formula='C16 H26 Br2 N2 O2')"
      ]
     },
     "execution_count": 8,
     "metadata": {},
     "output_type": "execute_result"
    }
   ],
   "source": [
    "combined = ml.MoleculeLibrary(f'{out_dir}test_combine_new_env.mlib')\n",
    "print(len(combined))\n",
    "# you index full catalysts structures with the concatenated core_substituent_substituent string\n",
    "combined[\"1_3_3\"]"
   ]
  },
  {
   "cell_type": "code",
   "execution_count": 9,
   "metadata": {},
   "outputs": [
    {
     "data": {
      "application/3dmoljs_load.v0": "<div id=\"3dmolviewer_16869335971553674\"  style=\"position: relative; width: 1000px; height: 500px\">\n        <p id=\"3dmolwarning_16869335971553674\" style=\"background-color:#ffcccc;color:black\">You appear to be running in JupyterLab (or JavaScript failed to load for some other reason).  You need to install the 3dmol extension: <br>\n        <tt>jupyter labextension install jupyterlab_3dmol</tt></p>\n        </div>\n<script>\n\nvar loadScriptAsync = function(uri){\n  return new Promise((resolve, reject) => {\n    //this is to ignore the existence of requirejs amd\n    var savedexports, savedmodule;\n    if (typeof exports !== 'undefined') savedexports = exports;\n    else exports = {}\n    if (typeof module !== 'undefined') savedmodule = module;\n    else module = {}\n\n    var tag = document.createElement('script');\n    tag.src = uri;\n    tag.async = true;\n    tag.onload = () => {\n        exports = savedexports;\n        module = savedmodule;\n        resolve();\n    };\n  var firstScriptTag = document.getElementsByTagName('script')[0];\n  firstScriptTag.parentNode.insertBefore(tag, firstScriptTag);\n});\n};\n\nif(typeof $3Dmolpromise === 'undefined') {\n$3Dmolpromise = null;\n  $3Dmolpromise = loadScriptAsync('https://cdnjs.cloudflare.com/ajax/libs/3Dmol/2.0.1/3Dmol-min.js');\n}\n\nvar viewer_16869335971553674 = null;\nvar warn = document.getElementById(\"3dmolwarning_16869335971553674\");\nif(warn) {\n    warn.parentNode.removeChild(warn);\n}\n$3Dmolpromise.then(function() {\nviewer_16869335971553674 = $3Dmol.createViewer(document.getElementById(\"3dmolviewer_16869335971553674\"),{backgroundColor:\"white\"});\nviewer_16869335971553674.zoomTo();\n\tviewer_16869335971553674.addModel(\"# Produced with molli package\\n@<TRIPOS>MOLECULE\\n3_6_6\\n74 78 0 0 0\\nSMALL\\nUSER_CHARGES\\n\\n@<TRIPOS>ATOM\\n     1 C      -0.254500    -0.329696     0.438216 C          1 UNL1 0.0\\n     2 C       0.708419     0.912810     0.321245 C          1 UNL1 0.0\\n     3 O      -0.173997     1.957322     0.154612 O          1 UNL1 0.0\\n     4 C      -1.447904     1.549347     0.285594 C          1 UNL1 0.0\\n     5 N      -1.575218     0.291008     0.469284 N          1 UNL1 0.0\\n     6 C      -2.603048     2.509324     0.175642 C          1 UNL1 0.0\\n     7 C      -3.894385     1.747069     0.050057 C          1 UNL1 0.0\\n     8 O      -5.063858     2.381619    -0.132040 O          1 UNL1 0.0\\n     9 C      -6.103271     1.486948    -0.076897 C          1 UNL1 0.0\\n    10 C      -5.393333     0.084341    -0.062651 C          1 UNL1 0.0\\n    11 N      -3.996915     0.472961     0.142230 N          1 UNL1 0.0\\n    12 C      -2.873564    -0.414992     0.519178 C          1 UNL1 0.0\\n    13 Br     -3.236094    -0.995842     2.344307 Br         1 UNL1 0.0\\n    14 Br     -2.752729    -2.038189    -0.574951 Br         1 UNL1 0.0\\n    15 C      -2.644149     3.402268     1.426422 C          1 UNL1 0.0\\n    16 C      -2.429013     3.373077    -1.084708 C          1 UNL1 0.0\\n    17 C      -7.250886     1.930122    -1.042133 C          1 UNL1 0.0\\n    18 C      -6.791948     2.349383    -2.459261 C          1 UNL1 0.0\\n    19 C      -8.436298     0.952068    -1.068245 C          1 UNL1 0.0\\n    20 C       1.725484     1.371749     1.417861 C          1 UNL1 0.0\\n    21 C       2.875031     0.392285     1.667456 C          1 UNL1 0.0\\n    22 C       1.090418     1.833530     2.740535 C          1 UNL1 0.0\\n    23 H      -0.240973    -0.872197    -0.530847 H          1 UNL1 0.0\\n    24 H       1.295161     0.786042    -0.616108 H          1 UNL1 0.0\\n    25 H      -6.538028     1.592743     0.944740 H          1 UNL1 0.0\\n    26 H      -5.731447    -0.455180     0.833885 H          1 UNL1 0.0\\n    27 H      -2.774828     2.779097     2.339103 H          1 UNL1 0.0\\n    28 H      -3.491282     4.120073     1.373510 H          1 UNL1 0.0\\n    29 H      -1.701035     3.980348     1.531965 H          1 UNL1 0.0\\n    30 H      -1.487997     3.962366    -1.028781 H          1 UNL1 0.0\\n    31 H      -3.271860     4.091899    -1.185590 H          1 UNL1 0.0\\n    32 H      -2.396447     2.737861    -1.995826 H          1 UNL1 0.0\\n    33 H      -7.642331     2.876823    -0.605269 H          1 UNL1 0.0\\n    34 H      -6.020405     3.144941    -2.384814 H          1 UNL1 0.0\\n    35 H      -7.653759     2.778578    -3.012830 H          1 UNL1 0.0\\n    36 H      -6.377702     1.551740    -3.094767 H          1 UNL1 0.0\\n    37 H      -8.185848    -0.022701    -1.523769 H          1 UNL1 0.0\\n    38 H      -9.269227     1.388330    -1.659682 H          1 UNL1 0.0\\n    39 H      -8.802116     0.770068    -0.036267 H          1 UNL1 0.0\\n    40 H       2.207799     2.279135     0.985704 H          1 UNL1 0.0\\n    41 H       3.651209     0.878720     2.295868 H          1 UNL1 0.0\\n    42 H       3.351290     0.102986     0.706067 H          1 UNL1 0.0\\n    43 H       2.540886    -0.502139     2.215029 H          1 UNL1 0.0\\n    44 H       0.343915     2.633453     2.555839 H          1 UNL1 0.0\\n    45 H       1.877027     2.260360     3.399703 H          1 UNL1 0.0\\n    46 H       0.600719     1.015124     3.292172 H          1 UNL1 0.0\\n    47 C      -5.556301    -0.757995    -1.372732 C          1 UNL1 0.0\\n    48 C      -6.240859    -2.119786    -1.302740 C          1 UNL1 0.0\\n    49 C      -6.812179    -2.687984    -0.139253 C          1 UNL1 0.0\\n    50 C      -7.438028    -3.938140    -0.193881 C          1 UNL1 0.0\\n    51 C      -7.505325    -4.641764    -1.395998 C          1 UNL1 0.0\\n    52 C      -6.947089    -4.097494    -2.551368 C          1 UNL1 0.0\\n    53 C      -6.322773    -2.848342    -2.506084 C          1 UNL1 0.0\\n    54 H      -6.114784    -0.205456    -2.116677 H          1 UNL1 0.0\\n    55 H      -4.589247    -0.841409    -1.894462 H          1 UNL1 0.0\\n    56 H      -6.807560    -2.199949     0.818372 H          1 UNL1 0.0\\n    57 H      -7.876857    -4.361320     0.700788 H          1 UNL1 0.0\\n    58 H      -7.992680    -5.607625    -1.432308 H          1 UNL1 0.0\\n    59 H      -7.000571    -4.642267    -3.485204 H          1 UNL1 0.0\\n    60 H      -5.900249    -2.444118    -3.418193 H          1 UNL1 0.0\\n    61 C      -0.009075    -1.381520     1.550214 C          1 UNL1 0.0\\n    62 C       1.116909    -2.375071     1.334585 C          1 UNL1 0.0\\n    63 C       1.937725    -2.402159     0.186772 C          1 UNL1 0.0\\n    64 C       2.930143    -3.378765     0.052454 C          1 UNL1 0.0\\n    65 C       3.119076    -4.333016     1.054365 C          1 UNL1 0.0\\n    66 C       2.317146    -4.313353     2.195796 C          1 UNL1 0.0\\n    67 C       1.322340    -3.343380     2.334298 C          1 UNL1 0.0\\n    68 H       0.079641    -0.892606     2.533084 H          1 UNL1 0.0\\n    69 H      -0.891830    -2.040624     1.598219 H          1 UNL1 0.0\\n    70 H       1.821688    -1.686760    -0.612952 H          1 UNL1 0.0\\n    71 H       3.551435    -3.398666    -0.833364 H          1 UNL1 0.0\\n    72 H       3.885319    -5.089399     0.945676 H          1 UNL1 0.0\\n    73 H       2.461601    -5.053057     2.972728 H          1 UNL1 0.0\\n    74 H       0.704003    -3.347872     3.224241 H          1 UNL1 0.0\\n@<TRIPOS>BOND\\n     1      1      2          1\\n     2      2      3          1\\n     3      3      4          1\\n     4      4      5          2\\n     5      5      1          1\\n     6      4      6          1\\n     7      6      7          1\\n     8      7      8          1\\n     9      8      9          1\\n    10      9     10          1\\n    11     10     11          1\\n    12     11      7          2\\n    13     11     12          1\\n    14     12      5          1\\n    15     12     13          1\\n    16     12     14          1\\n    17      6     15          1\\n    18      6     16          1\\n    19     17     18          1\\n    20     17     19          1\\n    21      9     17          1\\n    22     20     21          1\\n    23     20     22          1\\n    24      2     20          1\\n    25      1     23          1\\n    26      2     24          1\\n    27      9     25          1\\n    28     10     26          1\\n    29     15     27          1\\n    30     15     28          1\\n    31     15     29          1\\n    32     16     30          1\\n    33     16     31          1\\n    34     16     32          1\\n    35     17     33          1\\n    36     18     34          1\\n    37     18     35          1\\n    38     18     36          1\\n    39     19     37          1\\n    40     19     38          1\\n    41     19     39          1\\n    42     20     40          1\\n    43     21     41          1\\n    44     21     42          1\\n    45     21     43          1\\n    46     22     44          1\\n    47     22     45          1\\n    48     22     46          1\\n    49     47     48          1\\n    50     48     49          2\\n    51     49     50          1\\n    52     50     51          2\\n    53     51     52          1\\n    54     52     53          2\\n    55     53     48          1\\n    56     47     54          1\\n    57     47     55          1\\n    58     49     56          1\\n    59     50     57          1\\n    60     51     58          1\\n    61     52     59          1\\n    62     53     60          1\\n    63     10     47          1\\n    64     61     62          1\\n    65     62     63          2\\n    66     63     64          1\\n    67     64     65          2\\n    68     65     66          1\\n    69     66     67          2\\n    70     67     62          1\\n    71     61     68          1\\n    72     61     69          1\\n    73     63     70          1\\n    74     64     71          1\\n    75     65     72          1\\n    76     66     73          1\\n    77     67     74          1\\n    78      1     61          1\\n\",\"mol2\");\n\tviewer_16869335971553674.setStyle({\"stick\": {\"radius\": 0.1}, \"sphere\": {\"scale\": 0.15}});\n\tviewer_16869335971553674.setHoverable({},true,\"\\n            function(atom,viewer,event,container) {\\n                if(!atom.label) {\\n                    atom.label = viewer.addLabel(atom.elem + atom.serial, {position: atom, backgroundColor: 'mintcream', fontColor:'black'});\\n                }\\n            }\\n            \",\"\\n            function(atom,viewer) { \\n                if(atom.label) {\\n                    viewer.removeLabel(atom.label);\\n                    delete atom.label;\\n                }\\n            }\\n            \");\n\tviewer_16869335971553674.zoomTo();\n\tviewer_16869335971553674.setBackgroundColor(null);\nviewer_16869335971553674.render();\n});\n</script>",
      "text/html": [
       "<div id=\"3dmolviewer_16869335971553674\"  style=\"position: relative; width: 1000px; height: 500px\">\n",
       "        <p id=\"3dmolwarning_16869335971553674\" style=\"background-color:#ffcccc;color:black\">You appear to be running in JupyterLab (or JavaScript failed to load for some other reason).  You need to install the 3dmol extension: <br>\n",
       "        <tt>jupyter labextension install jupyterlab_3dmol</tt></p>\n",
       "        </div>\n",
       "<script>\n",
       "\n",
       "var loadScriptAsync = function(uri){\n",
       "  return new Promise((resolve, reject) => {\n",
       "    //this is to ignore the existence of requirejs amd\n",
       "    var savedexports, savedmodule;\n",
       "    if (typeof exports !== 'undefined') savedexports = exports;\n",
       "    else exports = {}\n",
       "    if (typeof module !== 'undefined') savedmodule = module;\n",
       "    else module = {}\n",
       "\n",
       "    var tag = document.createElement('script');\n",
       "    tag.src = uri;\n",
       "    tag.async = true;\n",
       "    tag.onload = () => {\n",
       "        exports = savedexports;\n",
       "        module = savedmodule;\n",
       "        resolve();\n",
       "    };\n",
       "  var firstScriptTag = document.getElementsByTagName('script')[0];\n",
       "  firstScriptTag.parentNode.insertBefore(tag, firstScriptTag);\n",
       "});\n",
       "};\n",
       "\n",
       "if(typeof $3Dmolpromise === 'undefined') {\n",
       "$3Dmolpromise = null;\n",
       "  $3Dmolpromise = loadScriptAsync('https://cdnjs.cloudflare.com/ajax/libs/3Dmol/2.0.1/3Dmol-min.js');\n",
       "}\n",
       "\n",
       "var viewer_16869335971553674 = null;\n",
       "var warn = document.getElementById(\"3dmolwarning_16869335971553674\");\n",
       "if(warn) {\n",
       "    warn.parentNode.removeChild(warn);\n",
       "}\n",
       "$3Dmolpromise.then(function() {\n",
       "viewer_16869335971553674 = $3Dmol.createViewer(document.getElementById(\"3dmolviewer_16869335971553674\"),{backgroundColor:\"white\"});\n",
       "viewer_16869335971553674.zoomTo();\n",
       "\tviewer_16869335971553674.addModel(\"# Produced with molli package\\n@<TRIPOS>MOLECULE\\n3_6_6\\n74 78 0 0 0\\nSMALL\\nUSER_CHARGES\\n\\n@<TRIPOS>ATOM\\n     1 C      -0.254500    -0.329696     0.438216 C          1 UNL1 0.0\\n     2 C       0.708419     0.912810     0.321245 C          1 UNL1 0.0\\n     3 O      -0.173997     1.957322     0.154612 O          1 UNL1 0.0\\n     4 C      -1.447904     1.549347     0.285594 C          1 UNL1 0.0\\n     5 N      -1.575218     0.291008     0.469284 N          1 UNL1 0.0\\n     6 C      -2.603048     2.509324     0.175642 C          1 UNL1 0.0\\n     7 C      -3.894385     1.747069     0.050057 C          1 UNL1 0.0\\n     8 O      -5.063858     2.381619    -0.132040 O          1 UNL1 0.0\\n     9 C      -6.103271     1.486948    -0.076897 C          1 UNL1 0.0\\n    10 C      -5.393333     0.084341    -0.062651 C          1 UNL1 0.0\\n    11 N      -3.996915     0.472961     0.142230 N          1 UNL1 0.0\\n    12 C      -2.873564    -0.414992     0.519178 C          1 UNL1 0.0\\n    13 Br     -3.236094    -0.995842     2.344307 Br         1 UNL1 0.0\\n    14 Br     -2.752729    -2.038189    -0.574951 Br         1 UNL1 0.0\\n    15 C      -2.644149     3.402268     1.426422 C          1 UNL1 0.0\\n    16 C      -2.429013     3.373077    -1.084708 C          1 UNL1 0.0\\n    17 C      -7.250886     1.930122    -1.042133 C          1 UNL1 0.0\\n    18 C      -6.791948     2.349383    -2.459261 C          1 UNL1 0.0\\n    19 C      -8.436298     0.952068    -1.068245 C          1 UNL1 0.0\\n    20 C       1.725484     1.371749     1.417861 C          1 UNL1 0.0\\n    21 C       2.875031     0.392285     1.667456 C          1 UNL1 0.0\\n    22 C       1.090418     1.833530     2.740535 C          1 UNL1 0.0\\n    23 H      -0.240973    -0.872197    -0.530847 H          1 UNL1 0.0\\n    24 H       1.295161     0.786042    -0.616108 H          1 UNL1 0.0\\n    25 H      -6.538028     1.592743     0.944740 H          1 UNL1 0.0\\n    26 H      -5.731447    -0.455180     0.833885 H          1 UNL1 0.0\\n    27 H      -2.774828     2.779097     2.339103 H          1 UNL1 0.0\\n    28 H      -3.491282     4.120073     1.373510 H          1 UNL1 0.0\\n    29 H      -1.701035     3.980348     1.531965 H          1 UNL1 0.0\\n    30 H      -1.487997     3.962366    -1.028781 H          1 UNL1 0.0\\n    31 H      -3.271860     4.091899    -1.185590 H          1 UNL1 0.0\\n    32 H      -2.396447     2.737861    -1.995826 H          1 UNL1 0.0\\n    33 H      -7.642331     2.876823    -0.605269 H          1 UNL1 0.0\\n    34 H      -6.020405     3.144941    -2.384814 H          1 UNL1 0.0\\n    35 H      -7.653759     2.778578    -3.012830 H          1 UNL1 0.0\\n    36 H      -6.377702     1.551740    -3.094767 H          1 UNL1 0.0\\n    37 H      -8.185848    -0.022701    -1.523769 H          1 UNL1 0.0\\n    38 H      -9.269227     1.388330    -1.659682 H          1 UNL1 0.0\\n    39 H      -8.802116     0.770068    -0.036267 H          1 UNL1 0.0\\n    40 H       2.207799     2.279135     0.985704 H          1 UNL1 0.0\\n    41 H       3.651209     0.878720     2.295868 H          1 UNL1 0.0\\n    42 H       3.351290     0.102986     0.706067 H          1 UNL1 0.0\\n    43 H       2.540886    -0.502139     2.215029 H          1 UNL1 0.0\\n    44 H       0.343915     2.633453     2.555839 H          1 UNL1 0.0\\n    45 H       1.877027     2.260360     3.399703 H          1 UNL1 0.0\\n    46 H       0.600719     1.015124     3.292172 H          1 UNL1 0.0\\n    47 C      -5.556301    -0.757995    -1.372732 C          1 UNL1 0.0\\n    48 C      -6.240859    -2.119786    -1.302740 C          1 UNL1 0.0\\n    49 C      -6.812179    -2.687984    -0.139253 C          1 UNL1 0.0\\n    50 C      -7.438028    -3.938140    -0.193881 C          1 UNL1 0.0\\n    51 C      -7.505325    -4.641764    -1.395998 C          1 UNL1 0.0\\n    52 C      -6.947089    -4.097494    -2.551368 C          1 UNL1 0.0\\n    53 C      -6.322773    -2.848342    -2.506084 C          1 UNL1 0.0\\n    54 H      -6.114784    -0.205456    -2.116677 H          1 UNL1 0.0\\n    55 H      -4.589247    -0.841409    -1.894462 H          1 UNL1 0.0\\n    56 H      -6.807560    -2.199949     0.818372 H          1 UNL1 0.0\\n    57 H      -7.876857    -4.361320     0.700788 H          1 UNL1 0.0\\n    58 H      -7.992680    -5.607625    -1.432308 H          1 UNL1 0.0\\n    59 H      -7.000571    -4.642267    -3.485204 H          1 UNL1 0.0\\n    60 H      -5.900249    -2.444118    -3.418193 H          1 UNL1 0.0\\n    61 C      -0.009075    -1.381520     1.550214 C          1 UNL1 0.0\\n    62 C       1.116909    -2.375071     1.334585 C          1 UNL1 0.0\\n    63 C       1.937725    -2.402159     0.186772 C          1 UNL1 0.0\\n    64 C       2.930143    -3.378765     0.052454 C          1 UNL1 0.0\\n    65 C       3.119076    -4.333016     1.054365 C          1 UNL1 0.0\\n    66 C       2.317146    -4.313353     2.195796 C          1 UNL1 0.0\\n    67 C       1.322340    -3.343380     2.334298 C          1 UNL1 0.0\\n    68 H       0.079641    -0.892606     2.533084 H          1 UNL1 0.0\\n    69 H      -0.891830    -2.040624     1.598219 H          1 UNL1 0.0\\n    70 H       1.821688    -1.686760    -0.612952 H          1 UNL1 0.0\\n    71 H       3.551435    -3.398666    -0.833364 H          1 UNL1 0.0\\n    72 H       3.885319    -5.089399     0.945676 H          1 UNL1 0.0\\n    73 H       2.461601    -5.053057     2.972728 H          1 UNL1 0.0\\n    74 H       0.704003    -3.347872     3.224241 H          1 UNL1 0.0\\n@<TRIPOS>BOND\\n     1      1      2          1\\n     2      2      3          1\\n     3      3      4          1\\n     4      4      5          2\\n     5      5      1          1\\n     6      4      6          1\\n     7      6      7          1\\n     8      7      8          1\\n     9      8      9          1\\n    10      9     10          1\\n    11     10     11          1\\n    12     11      7          2\\n    13     11     12          1\\n    14     12      5          1\\n    15     12     13          1\\n    16     12     14          1\\n    17      6     15          1\\n    18      6     16          1\\n    19     17     18          1\\n    20     17     19          1\\n    21      9     17          1\\n    22     20     21          1\\n    23     20     22          1\\n    24      2     20          1\\n    25      1     23          1\\n    26      2     24          1\\n    27      9     25          1\\n    28     10     26          1\\n    29     15     27          1\\n    30     15     28          1\\n    31     15     29          1\\n    32     16     30          1\\n    33     16     31          1\\n    34     16     32          1\\n    35     17     33          1\\n    36     18     34          1\\n    37     18     35          1\\n    38     18     36          1\\n    39     19     37          1\\n    40     19     38          1\\n    41     19     39          1\\n    42     20     40          1\\n    43     21     41          1\\n    44     21     42          1\\n    45     21     43          1\\n    46     22     44          1\\n    47     22     45          1\\n    48     22     46          1\\n    49     47     48          1\\n    50     48     49          2\\n    51     49     50          1\\n    52     50     51          2\\n    53     51     52          1\\n    54     52     53          2\\n    55     53     48          1\\n    56     47     54          1\\n    57     47     55          1\\n    58     49     56          1\\n    59     50     57          1\\n    60     51     58          1\\n    61     52     59          1\\n    62     53     60          1\\n    63     10     47          1\\n    64     61     62          1\\n    65     62     63          2\\n    66     63     64          1\\n    67     64     65          2\\n    68     65     66          1\\n    69     66     67          2\\n    70     67     62          1\\n    71     61     68          1\\n    72     61     69          1\\n    73     63     70          1\\n    74     64     71          1\\n    75     65     72          1\\n    76     66     73          1\\n    77     67     74          1\\n    78      1     61          1\\n\",\"mol2\");\n",
       "\tviewer_16869335971553674.setStyle({\"stick\": {\"radius\": 0.1}, \"sphere\": {\"scale\": 0.15}});\n",
       "\tviewer_16869335971553674.setHoverable({},true,\"\\n            function(atom,viewer,event,container) {\\n                if(!atom.label) {\\n                    atom.label = viewer.addLabel(atom.elem + atom.serial, {position: atom, backgroundColor: 'mintcream', fontColor:'black'});\\n                }\\n            }\\n            \",\"\\n            function(atom,viewer) { \\n                if(atom.label) {\\n                    viewer.removeLabel(atom.label);\\n                    delete atom.label;\\n                }\\n            }\\n            \");\n",
       "\tviewer_16869335971553674.zoomTo();\n",
       "\tviewer_16869335971553674.setBackgroundColor(null);\n",
       "viewer_16869335971553674.render();\n",
       "});\n",
       "</script>"
      ]
     },
     "metadata": {},
     "output_type": "display_data"
    },
    {
     "data": {
      "text/plain": [
       "Molecule(name='3_6_6', formula='C30 H38 Br2 N2 O2')"
      ]
     },
     "execution_count": 9,
     "metadata": {},
     "output_type": "execute_result"
    }
   ],
   "source": [
    "combined[\"3_6_6\"]"
   ]
  },
  {
   "attachments": {},
   "cell_type": "markdown",
   "metadata": {},
   "source": [
    "# 3. Conformer Generation"
   ]
  },
  {
   "cell_type": "code",
   "execution_count": 10,
   "metadata": {},
   "outputs": [
    {
     "name": "stderr",
     "output_type": "stream",
     "text": [
      "100%|██████████| 75/75 [02:11<00:00,  1.75s/it]\n"
     ]
    },
    {
     "data": {
      "text/plain": [
       "CompletedProcess(args=['molli', 'conformers', './ncsa-testing-output/test_combine_new_env.mlib', '-n', '50', '-o', './ncsa-testing-output/test_conformers_new_env.mlib', '-t', '-j', '96', '--overwrite'], returncode=0)"
      ]
     },
     "execution_count": 10,
     "metadata": {},
     "output_type": "execute_result"
    }
   ],
   "source": [
    "subprocess.run(['molli', \n",
    "                'conformers', \n",
    "                f'{out_dir}test_combine_new_env.mlib', \n",
    "                '-n', \n",
    "                '50', \n",
    "                '-o', \n",
    "                f'{out_dir}test_conformers_new_env.mlib', \n",
    "                '-t', \n",
    "                '-j', ### !!!!!! Number of jobs. Please scale down if host system has fewer cores. defaults to os.cpu_count()//2  !!!!! ###\n",
    "                '96',\n",
    "                \"--overwrite\"\n",
    "                ])"
   ]
  },
  {
   "cell_type": "code",
   "execution_count": 11,
   "metadata": {},
   "outputs": [
    {
     "name": "stdout",
     "output_type": "stream",
     "text": [
      "75\n"
     ]
    }
   ],
   "source": [
    "clib = ml.ConformerLibrary(f'{out_dir}test_conformers_new_env.mlib')\n",
    "print(len(clib))"
   ]
  },
  {
   "cell_type": "code",
   "execution_count": 12,
   "metadata": {},
   "outputs": [
    {
     "name": "stdout",
     "output_type": "stream",
     "text": [
      "8028 conformers in library\n"
     ]
    }
   ],
   "source": [
    "i = 0\n",
    "for conf in clib:\n",
    "    i += conf.n_conformers\n",
    "    # print(conf)\n",
    "print(str(i) + ' conformers in library')\n",
    "\n",
    "# many of these conformers ar redundant - redundant confs thrown out during aso calculation"
   ]
  },
  {
   "cell_type": "code",
   "execution_count": 13,
   "metadata": {},
   "outputs": [
    {
     "name": "stdout",
     "output_type": "stream",
     "text": [
      "ConformerEnsemble(name='1_3_3', formula='C16 H26 Br2 N2 O2', n_conformers=150)\n"
     ]
    },
    {
     "data": {
      "application/3dmoljs_load.v0": "<div id=\"3dmolviewer_16869337294505253\"  style=\"position: relative; width: 1000px; height: 500px\">\n        <p id=\"3dmolwarning_16869337294505253\" style=\"background-color:#ffcccc;color:black\">You appear to be running in JupyterLab (or JavaScript failed to load for some other reason).  You need to install the 3dmol extension: <br>\n        <tt>jupyter labextension install jupyterlab_3dmol</tt></p>\n        </div>\n<script>\n\nvar loadScriptAsync = function(uri){\n  return new Promise((resolve, reject) => {\n    //this is to ignore the existence of requirejs amd\n    var savedexports, savedmodule;\n    if (typeof exports !== 'undefined') savedexports = exports;\n    else exports = {}\n    if (typeof module !== 'undefined') savedmodule = module;\n    else module = {}\n\n    var tag = document.createElement('script');\n    tag.src = uri;\n    tag.async = true;\n    tag.onload = () => {\n        exports = savedexports;\n        module = savedmodule;\n        resolve();\n    };\n  var firstScriptTag = document.getElementsByTagName('script')[0];\n  firstScriptTag.parentNode.insertBefore(tag, firstScriptTag);\n});\n};\n\nif(typeof $3Dmolpromise === 'undefined') {\n$3Dmolpromise = null;\n  $3Dmolpromise = loadScriptAsync('https://cdnjs.cloudflare.com/ajax/libs/3Dmol/2.0.1/3Dmol-min.js');\n}\n\nvar viewer_16869337294505253 = null;\nvar warn = document.getElementById(\"3dmolwarning_16869337294505253\");\nif(warn) {\n    warn.parentNode.removeChild(warn);\n}\n$3Dmolpromise.then(function() {\nviewer_16869337294505253 = $3Dmol.createViewer(document.getElementById(\"3dmolviewer_16869337294505253\"),{backgroundColor:\"white\"});\nviewer_16869337294505253.zoomTo();\n\tviewer_16869337294505253.addModel(\"# Produced with molli package\\n@<TRIPOS>MOLECULE\\n1_3_3\\n48 50 0 0 0\\nSMALL\\nUSER_CHARGES\\n\\n@<TRIPOS>ATOM\\n     1 C       0.009500    -0.067700     0.528100 C.3        1 UNL1 0.0\\n     2 C       0.803700     1.142800     0.021100 C.3        1 UNL1 0.0\\n     3 O      -0.057800     2.247900     0.364500 O.2        1 UNL1 0.0\\n     4 C      -1.304000     1.778900     0.360000 C.2        1 UNL1 0.0\\n     5 N      -1.358600     0.503800     0.334900 N.2        1 UNL1 0.0\\n     6 C      -2.514500     2.648900     0.339300 C.3        1 UNL1 0.0\\n     7 C      -3.768600     1.833700     0.317000 C.2        1 UNL1 0.0\\n     8 O      -4.945600     2.332400     0.685200 O.2        1 UNL1 0.0\\n     9 C      -5.847500     1.235800     0.877400 C.3        1 UNL1 0.0\\n    10 C      -5.216300     0.082500     0.088700 C.3        1 UNL1 0.0\\n    11 N      -3.813800     0.601200    -0.018600 N.2        1 UNL1 0.0\\n    12 C      -2.552700    -0.174800    -0.282500 C.3        1 UNL1 0.0\\n    13 BR     -2.179000    -0.142500    -2.237900 Br         1 UNL1 0.0\\n    14 BR     -2.717300    -2.033500     0.282400 Br         1 UNL1 0.0\\n    15 C      -2.493000     3.500900     1.618100 C.3        1 UNL1 0.0\\n    16 C      -2.487600     3.557000    -0.893800 C.3        1 UNL1 0.0\\n    17 H       0.155400    -0.957100    -0.091800 H          1 UNL1 0.0\\n    18 H       1.780700     1.284200     0.488100 H          1 UNL1 0.0\\n    19 H       0.931500     1.132600    -1.068100 H          1 UNL1 0.0\\n    20 H      -5.891300     1.016500     1.950800 H          1 UNL1 0.0\\n    21 H      -6.850500     1.515200     0.541400 H          1 UNL1 0.0\\n    22 H      -5.239300    -0.820100     0.706500 H          1 UNL1 0.0\\n    23 H      -1.574900     4.095400     1.690400 H          1 UNL1 0.0\\n    24 H      -3.340200     4.195300     1.655200 H          1 UNL1 0.0\\n    25 H      -2.546000     2.869700     2.513600 H          1 UNL1 0.0\\n    26 H      -1.594800     4.192400    -0.904200 H          1 UNL1 0.0\\n    27 H      -2.483900     2.976600    -1.822500 H          1 UNL1 0.0\\n    28 H      -3.366600     4.211200    -0.924900 H          1 UNL1 0.0\\n    29 C      -5.958100    -0.140000    -1.248900 C.3        1 UNL1 0.0\\n    30 C      -5.859000     1.001300    -2.265600 C.3        1 UNL1 0.0\\n    31 C      -5.650100    -1.488500    -1.901000 C.3        1 UNL1 0.0\\n    32 H      -7.024600    -0.208200    -0.985900 H          1 UNL1 0.0\\n    33 H      -4.842800     1.139200    -2.639500 H          1 UNL1 0.0\\n    34 H      -6.499700     0.797000    -3.130700 H          1 UNL1 0.0\\n    35 H      -6.193400     1.950000    -1.834600 H          1 UNL1 0.0\\n    36 H      -4.647400    -1.535900    -2.321700 H          1 UNL1 0.0\\n    37 H      -5.760800    -2.305100    -1.179900 H          1 UNL1 0.0\\n    38 H      -6.351500    -1.682500    -2.720500 H          1 UNL1 0.0\\n    39 C       0.339400    -0.304000     2.032700 C.3        1 UNL1 0.0\\n    40 C       1.718200    -0.972100     2.167400 C.3        1 UNL1 0.0\\n    41 C      -0.666100    -1.143800     2.820300 C.3        1 UNL1 0.0\\n    42 H       0.395100     0.667100     2.544800 H          1 UNL1 0.0\\n    43 H       1.977700    -1.118600     3.221800 H          1 UNL1 0.0\\n    44 H       2.512300    -0.366900     1.721800 H          1 UNL1 0.0\\n    45 H       1.728100    -1.952800     1.679200 H          1 UNL1 0.0\\n    46 H      -0.361900    -1.212700     3.871500 H          1 UNL1 0.0\\n    47 H      -0.721500    -2.166500     2.437100 H          1 UNL1 0.0\\n    48 H      -1.662200    -0.692600     2.814700 H          1 UNL1 0.0\\n@<TRIPOS>BOND\\n     1      1      2          1\\n     2      2      3          1\\n     3      3      4          1\\n     4      4      5          2\\n     5      5      1          1\\n     6      4      6          1\\n     7      6      7          1\\n     8      7      8          1\\n     9      8      9          1\\n    10      9     10          1\\n    11     10     11          1\\n    12     11      7          2\\n    13     11     12          1\\n    14     12      5          1\\n    15     12     13          1\\n    16     12     14          1\\n    17      6     15          1\\n    18      6     16          1\\n    19      1     17          1\\n    20      2     18          1\\n    21      2     19          1\\n    22      9     20          1\\n    23      9     21          1\\n    24     10     22          1\\n    25     15     23          1\\n    26     15     24          1\\n    27     15     25          1\\n    28     16     26          1\\n    29     16     27          1\\n    30     16     28          1\\n    31     29     30          1\\n    32     29     31          1\\n    33     29     32          1\\n    34     30     33          1\\n    35     30     34          1\\n    36     30     35          1\\n    37     31     36          1\\n    38     31     37          1\\n    39     31     38          1\\n    40     10     29          1\\n    41     39     40          1\\n    42     39     41          1\\n    43     39     42          1\\n    44     40     43          1\\n    45     40     44          1\\n    46     40     45          1\\n    47     41     46          1\\n    48     41     47          1\\n    49     41     48          1\\n    50      1     39          1\\n\",\"mol2\");\n\tviewer_16869337294505253.setStyle({\"stick\": {\"radius\": 0.1}, \"sphere\": {\"scale\": 0.15}});\n\tviewer_16869337294505253.setHoverable({},true,\"\\n            function(atom,viewer,event,container) {\\n                if(!atom.label) {\\n                    atom.label = viewer.addLabel(atom.elem + atom.serial, {position: atom, backgroundColor: 'mintcream', fontColor:'black'});\\n                }\\n            }\\n            \",\"\\n            function(atom,viewer) { \\n                if(atom.label) {\\n                    viewer.removeLabel(atom.label);\\n                    delete atom.label;\\n                }\\n            }\\n            \");\n\tviewer_16869337294505253.zoomTo();\n\tviewer_16869337294505253.setBackgroundColor(null);\nviewer_16869337294505253.render();\n});\n</script>",
      "text/html": [
       "<div id=\"3dmolviewer_16869337294505253\"  style=\"position: relative; width: 1000px; height: 500px\">\n",
       "        <p id=\"3dmolwarning_16869337294505253\" style=\"background-color:#ffcccc;color:black\">You appear to be running in JupyterLab (or JavaScript failed to load for some other reason).  You need to install the 3dmol extension: <br>\n",
       "        <tt>jupyter labextension install jupyterlab_3dmol</tt></p>\n",
       "        </div>\n",
       "<script>\n",
       "\n",
       "var loadScriptAsync = function(uri){\n",
       "  return new Promise((resolve, reject) => {\n",
       "    //this is to ignore the existence of requirejs amd\n",
       "    var savedexports, savedmodule;\n",
       "    if (typeof exports !== 'undefined') savedexports = exports;\n",
       "    else exports = {}\n",
       "    if (typeof module !== 'undefined') savedmodule = module;\n",
       "    else module = {}\n",
       "\n",
       "    var tag = document.createElement('script');\n",
       "    tag.src = uri;\n",
       "    tag.async = true;\n",
       "    tag.onload = () => {\n",
       "        exports = savedexports;\n",
       "        module = savedmodule;\n",
       "        resolve();\n",
       "    };\n",
       "  var firstScriptTag = document.getElementsByTagName('script')[0];\n",
       "  firstScriptTag.parentNode.insertBefore(tag, firstScriptTag);\n",
       "});\n",
       "};\n",
       "\n",
       "if(typeof $3Dmolpromise === 'undefined') {\n",
       "$3Dmolpromise = null;\n",
       "  $3Dmolpromise = loadScriptAsync('https://cdnjs.cloudflare.com/ajax/libs/3Dmol/2.0.1/3Dmol-min.js');\n",
       "}\n",
       "\n",
       "var viewer_16869337294505253 = null;\n",
       "var warn = document.getElementById(\"3dmolwarning_16869337294505253\");\n",
       "if(warn) {\n",
       "    warn.parentNode.removeChild(warn);\n",
       "}\n",
       "$3Dmolpromise.then(function() {\n",
       "viewer_16869337294505253 = $3Dmol.createViewer(document.getElementById(\"3dmolviewer_16869337294505253\"),{backgroundColor:\"white\"});\n",
       "viewer_16869337294505253.zoomTo();\n",
       "\tviewer_16869337294505253.addModel(\"# Produced with molli package\\n@<TRIPOS>MOLECULE\\n1_3_3\\n48 50 0 0 0\\nSMALL\\nUSER_CHARGES\\n\\n@<TRIPOS>ATOM\\n     1 C       0.009500    -0.067700     0.528100 C.3        1 UNL1 0.0\\n     2 C       0.803700     1.142800     0.021100 C.3        1 UNL1 0.0\\n     3 O      -0.057800     2.247900     0.364500 O.2        1 UNL1 0.0\\n     4 C      -1.304000     1.778900     0.360000 C.2        1 UNL1 0.0\\n     5 N      -1.358600     0.503800     0.334900 N.2        1 UNL1 0.0\\n     6 C      -2.514500     2.648900     0.339300 C.3        1 UNL1 0.0\\n     7 C      -3.768600     1.833700     0.317000 C.2        1 UNL1 0.0\\n     8 O      -4.945600     2.332400     0.685200 O.2        1 UNL1 0.0\\n     9 C      -5.847500     1.235800     0.877400 C.3        1 UNL1 0.0\\n    10 C      -5.216300     0.082500     0.088700 C.3        1 UNL1 0.0\\n    11 N      -3.813800     0.601200    -0.018600 N.2        1 UNL1 0.0\\n    12 C      -2.552700    -0.174800    -0.282500 C.3        1 UNL1 0.0\\n    13 BR     -2.179000    -0.142500    -2.237900 Br         1 UNL1 0.0\\n    14 BR     -2.717300    -2.033500     0.282400 Br         1 UNL1 0.0\\n    15 C      -2.493000     3.500900     1.618100 C.3        1 UNL1 0.0\\n    16 C      -2.487600     3.557000    -0.893800 C.3        1 UNL1 0.0\\n    17 H       0.155400    -0.957100    -0.091800 H          1 UNL1 0.0\\n    18 H       1.780700     1.284200     0.488100 H          1 UNL1 0.0\\n    19 H       0.931500     1.132600    -1.068100 H          1 UNL1 0.0\\n    20 H      -5.891300     1.016500     1.950800 H          1 UNL1 0.0\\n    21 H      -6.850500     1.515200     0.541400 H          1 UNL1 0.0\\n    22 H      -5.239300    -0.820100     0.706500 H          1 UNL1 0.0\\n    23 H      -1.574900     4.095400     1.690400 H          1 UNL1 0.0\\n    24 H      -3.340200     4.195300     1.655200 H          1 UNL1 0.0\\n    25 H      -2.546000     2.869700     2.513600 H          1 UNL1 0.0\\n    26 H      -1.594800     4.192400    -0.904200 H          1 UNL1 0.0\\n    27 H      -2.483900     2.976600    -1.822500 H          1 UNL1 0.0\\n    28 H      -3.366600     4.211200    -0.924900 H          1 UNL1 0.0\\n    29 C      -5.958100    -0.140000    -1.248900 C.3        1 UNL1 0.0\\n    30 C      -5.859000     1.001300    -2.265600 C.3        1 UNL1 0.0\\n    31 C      -5.650100    -1.488500    -1.901000 C.3        1 UNL1 0.0\\n    32 H      -7.024600    -0.208200    -0.985900 H          1 UNL1 0.0\\n    33 H      -4.842800     1.139200    -2.639500 H          1 UNL1 0.0\\n    34 H      -6.499700     0.797000    -3.130700 H          1 UNL1 0.0\\n    35 H      -6.193400     1.950000    -1.834600 H          1 UNL1 0.0\\n    36 H      -4.647400    -1.535900    -2.321700 H          1 UNL1 0.0\\n    37 H      -5.760800    -2.305100    -1.179900 H          1 UNL1 0.0\\n    38 H      -6.351500    -1.682500    -2.720500 H          1 UNL1 0.0\\n    39 C       0.339400    -0.304000     2.032700 C.3        1 UNL1 0.0\\n    40 C       1.718200    -0.972100     2.167400 C.3        1 UNL1 0.0\\n    41 C      -0.666100    -1.143800     2.820300 C.3        1 UNL1 0.0\\n    42 H       0.395100     0.667100     2.544800 H          1 UNL1 0.0\\n    43 H       1.977700    -1.118600     3.221800 H          1 UNL1 0.0\\n    44 H       2.512300    -0.366900     1.721800 H          1 UNL1 0.0\\n    45 H       1.728100    -1.952800     1.679200 H          1 UNL1 0.0\\n    46 H      -0.361900    -1.212700     3.871500 H          1 UNL1 0.0\\n    47 H      -0.721500    -2.166500     2.437100 H          1 UNL1 0.0\\n    48 H      -1.662200    -0.692600     2.814700 H          1 UNL1 0.0\\n@<TRIPOS>BOND\\n     1      1      2          1\\n     2      2      3          1\\n     3      3      4          1\\n     4      4      5          2\\n     5      5      1          1\\n     6      4      6          1\\n     7      6      7          1\\n     8      7      8          1\\n     9      8      9          1\\n    10      9     10          1\\n    11     10     11          1\\n    12     11      7          2\\n    13     11     12          1\\n    14     12      5          1\\n    15     12     13          1\\n    16     12     14          1\\n    17      6     15          1\\n    18      6     16          1\\n    19      1     17          1\\n    20      2     18          1\\n    21      2     19          1\\n    22      9     20          1\\n    23      9     21          1\\n    24     10     22          1\\n    25     15     23          1\\n    26     15     24          1\\n    27     15     25          1\\n    28     16     26          1\\n    29     16     27          1\\n    30     16     28          1\\n    31     29     30          1\\n    32     29     31          1\\n    33     29     32          1\\n    34     30     33          1\\n    35     30     34          1\\n    36     30     35          1\\n    37     31     36          1\\n    38     31     37          1\\n    39     31     38          1\\n    40     10     29          1\\n    41     39     40          1\\n    42     39     41          1\\n    43     39     42          1\\n    44     40     43          1\\n    45     40     44          1\\n    46     40     45          1\\n    47     41     46          1\\n    48     41     47          1\\n    49     41     48          1\\n    50      1     39          1\\n\",\"mol2\");\n",
       "\tviewer_16869337294505253.setStyle({\"stick\": {\"radius\": 0.1}, \"sphere\": {\"scale\": 0.15}});\n",
       "\tviewer_16869337294505253.setHoverable({},true,\"\\n            function(atom,viewer,event,container) {\\n                if(!atom.label) {\\n                    atom.label = viewer.addLabel(atom.elem + atom.serial, {position: atom, backgroundColor: 'mintcream', fontColor:'black'});\\n                }\\n            }\\n            \",\"\\n            function(atom,viewer) { \\n                if(atom.label) {\\n                    viewer.removeLabel(atom.label);\\n                    delete atom.label;\\n                }\\n            }\\n            \");\n",
       "\tviewer_16869337294505253.zoomTo();\n",
       "\tviewer_16869337294505253.setBackgroundColor(null);\n",
       "viewer_16869337294505253.render();\n",
       "});\n",
       "</script>"
      ]
     },
     "metadata": {},
     "output_type": "display_data"
    },
    {
     "data": {
      "text/plain": [
       "Conformer(name='1_3_3', formula='C16 H26 Br2 N2 O2')"
      ]
     },
     "execution_count": 13,
     "metadata": {},
     "output_type": "execute_result"
    }
   ],
   "source": [
    "print(clib[0])\n",
    "\n",
    "clib['1_3_3'][0]"
   ]
  },
  {
   "cell_type": "code",
   "execution_count": 14,
   "metadata": {},
   "outputs": [
    {
     "data": {
      "application/3dmoljs_load.v0": "<div id=\"3dmolviewer_16869337294628716\"  style=\"position: relative; width: 1000px; height: 500px\">\n        <p id=\"3dmolwarning_16869337294628716\" style=\"background-color:#ffcccc;color:black\">You appear to be running in JupyterLab (or JavaScript failed to load for some other reason).  You need to install the 3dmol extension: <br>\n        <tt>jupyter labextension install jupyterlab_3dmol</tt></p>\n        </div>\n<script>\n\nvar loadScriptAsync = function(uri){\n  return new Promise((resolve, reject) => {\n    //this is to ignore the existence of requirejs amd\n    var savedexports, savedmodule;\n    if (typeof exports !== 'undefined') savedexports = exports;\n    else exports = {}\n    if (typeof module !== 'undefined') savedmodule = module;\n    else module = {}\n\n    var tag = document.createElement('script');\n    tag.src = uri;\n    tag.async = true;\n    tag.onload = () => {\n        exports = savedexports;\n        module = savedmodule;\n        resolve();\n    };\n  var firstScriptTag = document.getElementsByTagName('script')[0];\n  firstScriptTag.parentNode.insertBefore(tag, firstScriptTag);\n});\n};\n\nif(typeof $3Dmolpromise === 'undefined') {\n$3Dmolpromise = null;\n  $3Dmolpromise = loadScriptAsync('https://cdnjs.cloudflare.com/ajax/libs/3Dmol/2.0.1/3Dmol-min.js');\n}\n\nvar viewer_16869337294628716 = null;\nvar warn = document.getElementById(\"3dmolwarning_16869337294628716\");\nif(warn) {\n    warn.parentNode.removeChild(warn);\n}\n$3Dmolpromise.then(function() {\nviewer_16869337294628716 = $3Dmol.createViewer(document.getElementById(\"3dmolviewer_16869337294628716\"),{backgroundColor:\"white\"});\nviewer_16869337294628716.zoomTo();\n\tviewer_16869337294628716.addModel(\"# Produced with molli package\\n@<TRIPOS>MOLECULE\\n1_3_3\\n48 50 0 0 0\\nSMALL\\nUSER_CHARGES\\n\\n@<TRIPOS>ATOM\\n     1 C       0.025900    -0.071000     0.461900 C.3        1 UNL1 0.0\\n     2 C       0.841800     1.191100     0.185400 C.3        1 UNL1 0.0\\n     3 O      -0.071500     2.258900     0.492800 O.2        1 UNL1 0.0\\n     4 C      -1.307700     1.774800     0.388500 C.2        1 UNL1 0.0\\n     5 N      -1.347900     0.501700     0.306100 N.2        1 UNL1 0.0\\n     6 C      -2.517000     2.646100     0.339100 C.3        1 UNL1 0.0\\n     7 C      -3.775300     1.844400     0.288000 C.2        1 UNL1 0.0\\n     8 O      -4.971700     2.373600     0.528700 O.2        1 UNL1 0.0\\n     9 C      -5.927900     1.308700     0.639000 C.3        1 UNL1 0.0\\n    10 C      -5.223300     0.097700     0.028600 C.3        1 UNL1 0.0\\n    11 N      -3.811700     0.599500     0.010800 N.2        1 UNL1 0.0\\n    12 C      -2.564500    -0.206500    -0.213200 C.3        1 UNL1 0.0\\n    13 BR     -2.754600    -1.982200     0.578500 Br         1 UNL1 0.0\\n    14 BR     -2.264700    -0.381600    -2.164700 Br         1 UNL1 0.0\\n    15 C      -2.449700     3.533700    -0.908600 C.3        1 UNL1 0.0\\n    16 C      -2.531300     3.513700     1.606300 C.3        1 UNL1 0.0\\n    17 H       0.194900    -0.827800    -0.311300 H          1 UNL1 0.0\\n    18 H       1.748500     1.290700     0.786800 H          1 UNL1 0.0\\n    19 H       1.116200     1.275900    -0.872800 H          1 UNL1 0.0\\n    20 H      -6.859600     1.594200     0.144800 H          1 UNL1 0.0\\n    21 H      -6.139600     1.156100     1.703700 H          1 UNL1 0.0\\n    22 H      -5.291600    -0.743400     0.725500 H          1 UNL1 0.0\\n    23 H      -2.419300     2.933200    -1.825000 H          1 UNL1 0.0\\n    24 H      -3.324300     4.190600    -0.979100 H          1 UNL1 0.0\\n    25 H      -1.554200     4.165500    -0.903600 H          1 UNL1 0.0\\n    26 H      -3.382400     4.204200     1.613500 H          1 UNL1 0.0\\n    27 H      -2.604400     2.893100     2.507600 H          1 UNL1 0.0\\n    28 H      -1.618400     4.113900     1.694800 H          1 UNL1 0.0\\n    29 C      -5.732100    -0.315400    -1.367300 C.3        1 UNL1 0.0\\n    30 C      -7.104800    -0.991900    -1.248400 C.3        1 UNL1 0.0\\n    31 C      -5.821700     0.827100    -2.387600 C.3        1 UNL1 0.0\\n    32 H      -5.058300    -1.076000    -1.776600 H          1 UNL1 0.0\\n    33 H      -7.868400    -0.300900    -0.877100 H          1 UNL1 0.0\\n    34 H      -7.436900    -1.365400    -2.223200 H          1 UNL1 0.0\\n    35 H      -7.058700    -1.846500    -0.565000 H          1 UNL1 0.0\\n    36 H      -6.585900     1.561400    -2.114700 H          1 UNL1 0.0\\n    37 H      -4.871000     1.355800    -2.496300 H          1 UNL1 0.0\\n    38 H      -6.089100     0.432100    -3.374100 H          1 UNL1 0.0\\n    39 C       0.251900    -0.661700     1.878300 C.3        1 UNL1 0.0\\n    40 C       0.115200     0.332500     3.038900 C.3        1 UNL1 0.0\\n    41 C       1.625200    -1.343500     1.950700 C.3        1 UNL1 0.0\\n    42 H      -0.481800    -1.450300     2.063200 H          1 UNL1 0.0\\n    43 H       0.850600     1.140400     2.978200 H          1 UNL1 0.0\\n    44 H      -0.884800     0.775400     3.070600 H          1 UNL1 0.0\\n    45 H       0.269600    -0.177600     3.996600 H          1 UNL1 0.0\\n    46 H       1.748600    -1.860800     2.908500 H          1 UNL1 0.0\\n    47 H       2.444500    -0.624500     1.854000 H          1 UNL1 0.0\\n    48 H       1.730500    -2.090200     1.156500 H          1 UNL1 0.0\\n@<TRIPOS>BOND\\n     1      1      2          1\\n     2      2      3          1\\n     3      3      4          1\\n     4      4      5          2\\n     5      5      1          1\\n     6      4      6          1\\n     7      6      7          1\\n     8      7      8          1\\n     9      8      9          1\\n    10      9     10          1\\n    11     10     11          1\\n    12     11      7          2\\n    13     11     12          1\\n    14     12      5          1\\n    15     12     13          1\\n    16     12     14          1\\n    17      6     15          1\\n    18      6     16          1\\n    19      1     17          1\\n    20      2     18          1\\n    21      2     19          1\\n    22      9     20          1\\n    23      9     21          1\\n    24     10     22          1\\n    25     15     23          1\\n    26     15     24          1\\n    27     15     25          1\\n    28     16     26          1\\n    29     16     27          1\\n    30     16     28          1\\n    31     29     30          1\\n    32     29     31          1\\n    33     29     32          1\\n    34     30     33          1\\n    35     30     34          1\\n    36     30     35          1\\n    37     31     36          1\\n    38     31     37          1\\n    39     31     38          1\\n    40     10     29          1\\n    41     39     40          1\\n    42     39     41          1\\n    43     39     42          1\\n    44     40     43          1\\n    45     40     44          1\\n    46     40     45          1\\n    47     41     46          1\\n    48     41     47          1\\n    49     41     48          1\\n    50      1     39          1\\n\",\"mol2\");\n\tviewer_16869337294628716.setStyle({\"stick\": {\"radius\": 0.1}, \"sphere\": {\"scale\": 0.15}});\n\tviewer_16869337294628716.setHoverable({},true,\"\\n            function(atom,viewer,event,container) {\\n                if(!atom.label) {\\n                    atom.label = viewer.addLabel(atom.elem + atom.serial, {position: atom, backgroundColor: 'mintcream', fontColor:'black'});\\n                }\\n            }\\n            \",\"\\n            function(atom,viewer) { \\n                if(atom.label) {\\n                    viewer.removeLabel(atom.label);\\n                    delete atom.label;\\n                }\\n            }\\n            \");\n\tviewer_16869337294628716.zoomTo();\n\tviewer_16869337294628716.setBackgroundColor(null);\nviewer_16869337294628716.render();\n});\n</script>",
      "text/html": [
       "<div id=\"3dmolviewer_16869337294628716\"  style=\"position: relative; width: 1000px; height: 500px\">\n",
       "        <p id=\"3dmolwarning_16869337294628716\" style=\"background-color:#ffcccc;color:black\">You appear to be running in JupyterLab (or JavaScript failed to load for some other reason).  You need to install the 3dmol extension: <br>\n",
       "        <tt>jupyter labextension install jupyterlab_3dmol</tt></p>\n",
       "        </div>\n",
       "<script>\n",
       "\n",
       "var loadScriptAsync = function(uri){\n",
       "  return new Promise((resolve, reject) => {\n",
       "    //this is to ignore the existence of requirejs amd\n",
       "    var savedexports, savedmodule;\n",
       "    if (typeof exports !== 'undefined') savedexports = exports;\n",
       "    else exports = {}\n",
       "    if (typeof module !== 'undefined') savedmodule = module;\n",
       "    else module = {}\n",
       "\n",
       "    var tag = document.createElement('script');\n",
       "    tag.src = uri;\n",
       "    tag.async = true;\n",
       "    tag.onload = () => {\n",
       "        exports = savedexports;\n",
       "        module = savedmodule;\n",
       "        resolve();\n",
       "    };\n",
       "  var firstScriptTag = document.getElementsByTagName('script')[0];\n",
       "  firstScriptTag.parentNode.insertBefore(tag, firstScriptTag);\n",
       "});\n",
       "};\n",
       "\n",
       "if(typeof $3Dmolpromise === 'undefined') {\n",
       "$3Dmolpromise = null;\n",
       "  $3Dmolpromise = loadScriptAsync('https://cdnjs.cloudflare.com/ajax/libs/3Dmol/2.0.1/3Dmol-min.js');\n",
       "}\n",
       "\n",
       "var viewer_16869337294628716 = null;\n",
       "var warn = document.getElementById(\"3dmolwarning_16869337294628716\");\n",
       "if(warn) {\n",
       "    warn.parentNode.removeChild(warn);\n",
       "}\n",
       "$3Dmolpromise.then(function() {\n",
       "viewer_16869337294628716 = $3Dmol.createViewer(document.getElementById(\"3dmolviewer_16869337294628716\"),{backgroundColor:\"white\"});\n",
       "viewer_16869337294628716.zoomTo();\n",
       "\tviewer_16869337294628716.addModel(\"# Produced with molli package\\n@<TRIPOS>MOLECULE\\n1_3_3\\n48 50 0 0 0\\nSMALL\\nUSER_CHARGES\\n\\n@<TRIPOS>ATOM\\n     1 C       0.025900    -0.071000     0.461900 C.3        1 UNL1 0.0\\n     2 C       0.841800     1.191100     0.185400 C.3        1 UNL1 0.0\\n     3 O      -0.071500     2.258900     0.492800 O.2        1 UNL1 0.0\\n     4 C      -1.307700     1.774800     0.388500 C.2        1 UNL1 0.0\\n     5 N      -1.347900     0.501700     0.306100 N.2        1 UNL1 0.0\\n     6 C      -2.517000     2.646100     0.339100 C.3        1 UNL1 0.0\\n     7 C      -3.775300     1.844400     0.288000 C.2        1 UNL1 0.0\\n     8 O      -4.971700     2.373600     0.528700 O.2        1 UNL1 0.0\\n     9 C      -5.927900     1.308700     0.639000 C.3        1 UNL1 0.0\\n    10 C      -5.223300     0.097700     0.028600 C.3        1 UNL1 0.0\\n    11 N      -3.811700     0.599500     0.010800 N.2        1 UNL1 0.0\\n    12 C      -2.564500    -0.206500    -0.213200 C.3        1 UNL1 0.0\\n    13 BR     -2.754600    -1.982200     0.578500 Br         1 UNL1 0.0\\n    14 BR     -2.264700    -0.381600    -2.164700 Br         1 UNL1 0.0\\n    15 C      -2.449700     3.533700    -0.908600 C.3        1 UNL1 0.0\\n    16 C      -2.531300     3.513700     1.606300 C.3        1 UNL1 0.0\\n    17 H       0.194900    -0.827800    -0.311300 H          1 UNL1 0.0\\n    18 H       1.748500     1.290700     0.786800 H          1 UNL1 0.0\\n    19 H       1.116200     1.275900    -0.872800 H          1 UNL1 0.0\\n    20 H      -6.859600     1.594200     0.144800 H          1 UNL1 0.0\\n    21 H      -6.139600     1.156100     1.703700 H          1 UNL1 0.0\\n    22 H      -5.291600    -0.743400     0.725500 H          1 UNL1 0.0\\n    23 H      -2.419300     2.933200    -1.825000 H          1 UNL1 0.0\\n    24 H      -3.324300     4.190600    -0.979100 H          1 UNL1 0.0\\n    25 H      -1.554200     4.165500    -0.903600 H          1 UNL1 0.0\\n    26 H      -3.382400     4.204200     1.613500 H          1 UNL1 0.0\\n    27 H      -2.604400     2.893100     2.507600 H          1 UNL1 0.0\\n    28 H      -1.618400     4.113900     1.694800 H          1 UNL1 0.0\\n    29 C      -5.732100    -0.315400    -1.367300 C.3        1 UNL1 0.0\\n    30 C      -7.104800    -0.991900    -1.248400 C.3        1 UNL1 0.0\\n    31 C      -5.821700     0.827100    -2.387600 C.3        1 UNL1 0.0\\n    32 H      -5.058300    -1.076000    -1.776600 H          1 UNL1 0.0\\n    33 H      -7.868400    -0.300900    -0.877100 H          1 UNL1 0.0\\n    34 H      -7.436900    -1.365400    -2.223200 H          1 UNL1 0.0\\n    35 H      -7.058700    -1.846500    -0.565000 H          1 UNL1 0.0\\n    36 H      -6.585900     1.561400    -2.114700 H          1 UNL1 0.0\\n    37 H      -4.871000     1.355800    -2.496300 H          1 UNL1 0.0\\n    38 H      -6.089100     0.432100    -3.374100 H          1 UNL1 0.0\\n    39 C       0.251900    -0.661700     1.878300 C.3        1 UNL1 0.0\\n    40 C       0.115200     0.332500     3.038900 C.3        1 UNL1 0.0\\n    41 C       1.625200    -1.343500     1.950700 C.3        1 UNL1 0.0\\n    42 H      -0.481800    -1.450300     2.063200 H          1 UNL1 0.0\\n    43 H       0.850600     1.140400     2.978200 H          1 UNL1 0.0\\n    44 H      -0.884800     0.775400     3.070600 H          1 UNL1 0.0\\n    45 H       0.269600    -0.177600     3.996600 H          1 UNL1 0.0\\n    46 H       1.748600    -1.860800     2.908500 H          1 UNL1 0.0\\n    47 H       2.444500    -0.624500     1.854000 H          1 UNL1 0.0\\n    48 H       1.730500    -2.090200     1.156500 H          1 UNL1 0.0\\n@<TRIPOS>BOND\\n     1      1      2          1\\n     2      2      3          1\\n     3      3      4          1\\n     4      4      5          2\\n     5      5      1          1\\n     6      4      6          1\\n     7      6      7          1\\n     8      7      8          1\\n     9      8      9          1\\n    10      9     10          1\\n    11     10     11          1\\n    12     11      7          2\\n    13     11     12          1\\n    14     12      5          1\\n    15     12     13          1\\n    16     12     14          1\\n    17      6     15          1\\n    18      6     16          1\\n    19      1     17          1\\n    20      2     18          1\\n    21      2     19          1\\n    22      9     20          1\\n    23      9     21          1\\n    24     10     22          1\\n    25     15     23          1\\n    26     15     24          1\\n    27     15     25          1\\n    28     16     26          1\\n    29     16     27          1\\n    30     16     28          1\\n    31     29     30          1\\n    32     29     31          1\\n    33     29     32          1\\n    34     30     33          1\\n    35     30     34          1\\n    36     30     35          1\\n    37     31     36          1\\n    38     31     37          1\\n    39     31     38          1\\n    40     10     29          1\\n    41     39     40          1\\n    42     39     41          1\\n    43     39     42          1\\n    44     40     43          1\\n    45     40     44          1\\n    46     40     45          1\\n    47     41     46          1\\n    48     41     47          1\\n    49     41     48          1\\n    50      1     39          1\\n\",\"mol2\");\n",
       "\tviewer_16869337294628716.setStyle({\"stick\": {\"radius\": 0.1}, \"sphere\": {\"scale\": 0.15}});\n",
       "\tviewer_16869337294628716.setHoverable({},true,\"\\n            function(atom,viewer,event,container) {\\n                if(!atom.label) {\\n                    atom.label = viewer.addLabel(atom.elem + atom.serial, {position: atom, backgroundColor: 'mintcream', fontColor:'black'});\\n                }\\n            }\\n            \",\"\\n            function(atom,viewer) { \\n                if(atom.label) {\\n                    viewer.removeLabel(atom.label);\\n                    delete atom.label;\\n                }\\n            }\\n            \");\n",
       "\tviewer_16869337294628716.zoomTo();\n",
       "\tviewer_16869337294628716.setBackgroundColor(null);\n",
       "viewer_16869337294628716.render();\n",
       "});\n",
       "</script>"
      ]
     },
     "metadata": {},
     "output_type": "display_data"
    },
    {
     "data": {
      "text/plain": [
       "Conformer(name='1_3_3', formula='C16 H26 Br2 N2 O2')"
      ]
     },
     "execution_count": 14,
     "metadata": {},
     "output_type": "execute_result"
    }
   ],
   "source": [
    "clib['1_3_3'][1]"
   ]
  },
  {
   "cell_type": "code",
   "execution_count": 15,
   "metadata": {},
   "outputs": [
    {
     "data": {
      "application/3dmoljs_load.v0": "<div id=\"3dmolviewer_16869337294750721\"  style=\"position: relative; width: 1000px; height: 500px\">\n        <p id=\"3dmolwarning_16869337294750721\" style=\"background-color:#ffcccc;color:black\">You appear to be running in JupyterLab (or JavaScript failed to load for some other reason).  You need to install the 3dmol extension: <br>\n        <tt>jupyter labextension install jupyterlab_3dmol</tt></p>\n        </div>\n<script>\n\nvar loadScriptAsync = function(uri){\n  return new Promise((resolve, reject) => {\n    //this is to ignore the existence of requirejs amd\n    var savedexports, savedmodule;\n    if (typeof exports !== 'undefined') savedexports = exports;\n    else exports = {}\n    if (typeof module !== 'undefined') savedmodule = module;\n    else module = {}\n\n    var tag = document.createElement('script');\n    tag.src = uri;\n    tag.async = true;\n    tag.onload = () => {\n        exports = savedexports;\n        module = savedmodule;\n        resolve();\n    };\n  var firstScriptTag = document.getElementsByTagName('script')[0];\n  firstScriptTag.parentNode.insertBefore(tag, firstScriptTag);\n});\n};\n\nif(typeof $3Dmolpromise === 'undefined') {\n$3Dmolpromise = null;\n  $3Dmolpromise = loadScriptAsync('https://cdnjs.cloudflare.com/ajax/libs/3Dmol/2.0.1/3Dmol-min.js');\n}\n\nvar viewer_16869337294750721 = null;\nvar warn = document.getElementById(\"3dmolwarning_16869337294750721\");\nif(warn) {\n    warn.parentNode.removeChild(warn);\n}\n$3Dmolpromise.then(function() {\nviewer_16869337294750721 = $3Dmol.createViewer(document.getElementById(\"3dmolviewer_16869337294750721\"),{backgroundColor:\"white\"});\nviewer_16869337294750721.zoomTo();\n\tviewer_16869337294750721.addModel(\"# Produced with molli package\\n@<TRIPOS>MOLECULE\\n3_6_6\\n74 78 0 0 0\\nSMALL\\nUSER_CHARGES\\n\\n@<TRIPOS>ATOM\\n     1 C       0.130900     0.049700     0.152900 C.3        1 UNL1 0.0\\n     2 C       0.820200     1.220400     0.891700 C.3        1 UNL1 0.0\\n     3 O      -0.102000     2.292800     0.596300 O.2        1 UNL1 0.0\\n     4 C      -1.317400     1.769900     0.431200 C.2        1 UNL1 0.0\\n     5 N      -1.316000     0.502400     0.276000 N.2        1 UNL1 0.0\\n     6 C      -2.518300     2.640100     0.317800 C.3        1 UNL1 0.0\\n     7 C      -3.775600     1.851100     0.278700 C.2        1 UNL1 0.0\\n     8 O      -4.957900     2.410900     0.516100 O.2        1 UNL1 0.0\\n     9 C      -5.928600     1.370200     0.722600 C.3        1 UNL1 0.0\\n    10 C      -5.275300     0.124000     0.076000 C.3        1 UNL1 0.0\\n    11 N      -3.832200     0.603000     0.028900 N.2        1 UNL1 0.0\\n    12 C      -2.579300    -0.250500    -0.091400 C.3        1 UNL1 0.0\\n    13 BR     -2.807700    -1.723600     1.171100 Br         1 UNL1 0.0\\n    14 BR     -2.370400    -0.758500    -1.959500 Br         1 UNL1 0.0\\n    15 C      -2.424500     3.451800    -0.980600 C.3        1 UNL1 0.0\\n    16 C      -2.552600     3.584400     1.528500 C.3        1 UNL1 0.0\\n    17 C      -7.327300     1.850200     0.284400 C.3        1 UNL1 0.0\\n    18 C      -7.941500     2.727200     1.387500 C.3        1 UNL1 0.0\\n    19 C      -7.330100     2.664600    -1.015200 C.3        1 UNL1 0.0\\n    20 C       1.012700     1.151200     2.433800 C.3        1 UNL1 0.0\\n    21 C       1.191800     2.560500     3.024900 C.3        1 UNL1 0.0\\n    22 C       2.221200     0.308200     2.854700 C.3        1 UNL1 0.0\\n    23 H       0.357900     0.169000    -0.913700 H          1 UNL1 0.0\\n    24 H       1.776800     1.456100     0.408600 H          1 UNL1 0.0\\n    25 H      -5.954700     1.193300     1.808200 H          1 UNL1 0.0\\n    26 H      -5.355600    -0.688600     0.800600 H          1 UNL1 0.0\\n    27 H      -1.544600     4.104300    -0.983700 H          1 UNL1 0.0\\n    28 H      -3.311100     4.080100    -1.120700 H          1 UNL1 0.0\\n    29 H      -2.350800     2.794400    -1.855900 H          1 UNL1 0.0\\n    30 H      -3.415100     4.259000     1.492700 H          1 UNL1 0.0\\n    31 H      -1.652800     4.208300     1.579200 H          1 UNL1 0.0\\n    32 H      -2.615300     3.020600     2.466700 H          1 UNL1 0.0\\n    33 H      -7.989000     0.983200     0.174600 H          1 UNL1 0.0\\n    34 H      -7.324800     3.609600     1.588700 H          1 UNL1 0.0\\n    35 H      -8.043100     2.163000     2.320100 H          1 UNL1 0.0\\n    36 H      -8.940800     3.069600     1.100100 H          1 UNL1 0.0\\n    37 H      -6.786700     3.608500    -0.900400 H          1 UNL1 0.0\\n    38 H      -6.880700     2.123000    -1.848400 H          1 UNL1 0.0\\n    39 H      -8.356300     2.911200    -1.306400 H          1 UNL1 0.0\\n    40 H       0.115000     0.726200     2.897800 H          1 UNL1 0.0\\n    41 H       2.031400     3.081100     2.551800 H          1 UNL1 0.0\\n    42 H       0.293300     3.170900     2.889800 H          1 UNL1 0.0\\n    43 H       1.385300     2.512800     4.101500 H          1 UNL1 0.0\\n    44 H       3.104300     0.552800     2.255600 H          1 UNL1 0.0\\n    45 H       2.474000     0.478900     3.906900 H          1 UNL1 0.0\\n    46 H       2.024500    -0.761600     2.765900 H          1 UNL1 0.0\\n    47 C      -5.830800    -0.276400    -1.299200 C.3        1 UNL1 0.0\\n    48 C      -5.594300    -1.705400    -1.736100 C.ar       1 UNL1 0.0\\n    49 C      -5.351500    -1.966300    -3.096000 C.ar       1 UNL1 0.0\\n    50 C      -5.138300    -3.268900    -3.549300 C.ar       1 UNL1 0.0\\n    51 C      -5.195800    -4.333700    -2.657000 C.ar       1 UNL1 0.0\\n    52 C      -5.493800    -4.099100    -1.317800 C.ar       1 UNL1 0.0\\n    53 C      -5.710600    -2.795900    -0.861800 C.ar       1 UNL1 0.0\\n    54 H      -6.921400    -0.180000    -1.307300 H          1 UNL1 0.0\\n    55 H      -5.443600     0.407800    -2.065700 H          1 UNL1 0.0\\n    56 H      -5.331500    -1.161100    -3.829700 H          1 UNL1 0.0\\n    57 H      -4.948200    -3.457000    -4.604700 H          1 UNL1 0.0\\n    58 H      -5.046400    -5.351200    -3.014300 H          1 UNL1 0.0\\n    59 H      -5.590300    -4.943700    -0.637000 H          1 UNL1 0.0\\n    60 H      -6.009600    -2.679900     0.177000 H          1 UNL1 0.0\\n    61 C       0.540100    -1.339500     0.633100 C.3        1 UNL1 0.0\\n    62 C       0.305800    -2.484500    -0.325300 C.ar       1 UNL1 0.0\\n    63 C       0.719400    -2.419800    -1.665400 C.ar       1 UNL1 0.0\\n    64 C       0.503900    -3.495500    -2.530100 C.ar       1 UNL1 0.0\\n    65 C      -0.096200    -4.660300    -2.062100 C.ar       1 UNL1 0.0\\n    66 C      -0.451600    -4.764100    -0.721600 C.ar       1 UNL1 0.0\\n    67 C      -0.231800    -3.692600     0.144700 C.ar       1 UNL1 0.0\\n    68 H       1.627900    -1.344700     0.771200 H          1 UNL1 0.0\\n    69 H       0.100600    -1.557100     1.611100 H          1 UNL1 0.0\\n    70 H       1.245400    -1.555800    -2.066200 H          1 UNL1 0.0\\n    71 H       0.829300    -3.439800    -3.567700 H          1 UNL1 0.0\\n    72 H      -0.247400    -5.504000    -2.733300 H          1 UNL1 0.0\\n    73 H      -0.872100    -5.695000    -0.346000 H          1 UNL1 0.0\\n    74 H      -0.471500    -3.833700     1.197400 H          1 UNL1 0.0\\n@<TRIPOS>BOND\\n     1      1      2          1\\n     2      2      3          1\\n     3      3      4          1\\n     4      4      5          2\\n     5      5      1          1\\n     6      4      6          1\\n     7      6      7          1\\n     8      7      8          1\\n     9      8      9          1\\n    10      9     10          1\\n    11     10     11          1\\n    12     11      7          2\\n    13     11     12          1\\n    14     12      5          1\\n    15     12     13          1\\n    16     12     14          1\\n    17      6     15          1\\n    18      6     16          1\\n    19     17     18          1\\n    20     17     19          1\\n    21      9     17          1\\n    22     20     21          1\\n    23     20     22          1\\n    24      2     20          1\\n    25      1     23          1\\n    26      2     24          1\\n    27      9     25          1\\n    28     10     26          1\\n    29     15     27          1\\n    30     15     28          1\\n    31     15     29          1\\n    32     16     30          1\\n    33     16     31          1\\n    34     16     32          1\\n    35     17     33          1\\n    36     18     34          1\\n    37     18     35          1\\n    38     18     36          1\\n    39     19     37          1\\n    40     19     38          1\\n    41     19     39          1\\n    42     20     40          1\\n    43     21     41          1\\n    44     21     42          1\\n    45     21     43          1\\n    46     22     44          1\\n    47     22     45          1\\n    48     22     46          1\\n    49     47     48          1\\n    50     48     49         ar\\n    51     49     50         ar\\n    52     50     51         ar\\n    53     51     52         ar\\n    54     52     53         ar\\n    55     53     48         ar\\n    56     47     54          1\\n    57     47     55          1\\n    58     49     56          1\\n    59     50     57          1\\n    60     51     58          1\\n    61     52     59          1\\n    62     53     60          1\\n    63     10     47          1\\n    64     61     62          1\\n    65     62     63         ar\\n    66     63     64         ar\\n    67     64     65         ar\\n    68     65     66         ar\\n    69     66     67         ar\\n    70     67     62         ar\\n    71     61     68          1\\n    72     61     69          1\\n    73     63     70          1\\n    74     64     71          1\\n    75     65     72          1\\n    76     66     73          1\\n    77     67     74          1\\n    78      1     61          1\\n\",\"mol2\");\n\tviewer_16869337294750721.setStyle({\"stick\": {\"radius\": 0.1}, \"sphere\": {\"scale\": 0.15}});\n\tviewer_16869337294750721.setHoverable({},true,\"\\n            function(atom,viewer,event,container) {\\n                if(!atom.label) {\\n                    atom.label = viewer.addLabel(atom.elem + atom.serial, {position: atom, backgroundColor: 'mintcream', fontColor:'black'});\\n                }\\n            }\\n            \",\"\\n            function(atom,viewer) { \\n                if(atom.label) {\\n                    viewer.removeLabel(atom.label);\\n                    delete atom.label;\\n                }\\n            }\\n            \");\n\tviewer_16869337294750721.zoomTo();\n\tviewer_16869337294750721.setBackgroundColor(null);\nviewer_16869337294750721.render();\n});\n</script>",
      "text/html": [
       "<div id=\"3dmolviewer_16869337294750721\"  style=\"position: relative; width: 1000px; height: 500px\">\n",
       "        <p id=\"3dmolwarning_16869337294750721\" style=\"background-color:#ffcccc;color:black\">You appear to be running in JupyterLab (or JavaScript failed to load for some other reason).  You need to install the 3dmol extension: <br>\n",
       "        <tt>jupyter labextension install jupyterlab_3dmol</tt></p>\n",
       "        </div>\n",
       "<script>\n",
       "\n",
       "var loadScriptAsync = function(uri){\n",
       "  return new Promise((resolve, reject) => {\n",
       "    //this is to ignore the existence of requirejs amd\n",
       "    var savedexports, savedmodule;\n",
       "    if (typeof exports !== 'undefined') savedexports = exports;\n",
       "    else exports = {}\n",
       "    if (typeof module !== 'undefined') savedmodule = module;\n",
       "    else module = {}\n",
       "\n",
       "    var tag = document.createElement('script');\n",
       "    tag.src = uri;\n",
       "    tag.async = true;\n",
       "    tag.onload = () => {\n",
       "        exports = savedexports;\n",
       "        module = savedmodule;\n",
       "        resolve();\n",
       "    };\n",
       "  var firstScriptTag = document.getElementsByTagName('script')[0];\n",
       "  firstScriptTag.parentNode.insertBefore(tag, firstScriptTag);\n",
       "});\n",
       "};\n",
       "\n",
       "if(typeof $3Dmolpromise === 'undefined') {\n",
       "$3Dmolpromise = null;\n",
       "  $3Dmolpromise = loadScriptAsync('https://cdnjs.cloudflare.com/ajax/libs/3Dmol/2.0.1/3Dmol-min.js');\n",
       "}\n",
       "\n",
       "var viewer_16869337294750721 = null;\n",
       "var warn = document.getElementById(\"3dmolwarning_16869337294750721\");\n",
       "if(warn) {\n",
       "    warn.parentNode.removeChild(warn);\n",
       "}\n",
       "$3Dmolpromise.then(function() {\n",
       "viewer_16869337294750721 = $3Dmol.createViewer(document.getElementById(\"3dmolviewer_16869337294750721\"),{backgroundColor:\"white\"});\n",
       "viewer_16869337294750721.zoomTo();\n",
       "\tviewer_16869337294750721.addModel(\"# Produced with molli package\\n@<TRIPOS>MOLECULE\\n3_6_6\\n74 78 0 0 0\\nSMALL\\nUSER_CHARGES\\n\\n@<TRIPOS>ATOM\\n     1 C       0.130900     0.049700     0.152900 C.3        1 UNL1 0.0\\n     2 C       0.820200     1.220400     0.891700 C.3        1 UNL1 0.0\\n     3 O      -0.102000     2.292800     0.596300 O.2        1 UNL1 0.0\\n     4 C      -1.317400     1.769900     0.431200 C.2        1 UNL1 0.0\\n     5 N      -1.316000     0.502400     0.276000 N.2        1 UNL1 0.0\\n     6 C      -2.518300     2.640100     0.317800 C.3        1 UNL1 0.0\\n     7 C      -3.775600     1.851100     0.278700 C.2        1 UNL1 0.0\\n     8 O      -4.957900     2.410900     0.516100 O.2        1 UNL1 0.0\\n     9 C      -5.928600     1.370200     0.722600 C.3        1 UNL1 0.0\\n    10 C      -5.275300     0.124000     0.076000 C.3        1 UNL1 0.0\\n    11 N      -3.832200     0.603000     0.028900 N.2        1 UNL1 0.0\\n    12 C      -2.579300    -0.250500    -0.091400 C.3        1 UNL1 0.0\\n    13 BR     -2.807700    -1.723600     1.171100 Br         1 UNL1 0.0\\n    14 BR     -2.370400    -0.758500    -1.959500 Br         1 UNL1 0.0\\n    15 C      -2.424500     3.451800    -0.980600 C.3        1 UNL1 0.0\\n    16 C      -2.552600     3.584400     1.528500 C.3        1 UNL1 0.0\\n    17 C      -7.327300     1.850200     0.284400 C.3        1 UNL1 0.0\\n    18 C      -7.941500     2.727200     1.387500 C.3        1 UNL1 0.0\\n    19 C      -7.330100     2.664600    -1.015200 C.3        1 UNL1 0.0\\n    20 C       1.012700     1.151200     2.433800 C.3        1 UNL1 0.0\\n    21 C       1.191800     2.560500     3.024900 C.3        1 UNL1 0.0\\n    22 C       2.221200     0.308200     2.854700 C.3        1 UNL1 0.0\\n    23 H       0.357900     0.169000    -0.913700 H          1 UNL1 0.0\\n    24 H       1.776800     1.456100     0.408600 H          1 UNL1 0.0\\n    25 H      -5.954700     1.193300     1.808200 H          1 UNL1 0.0\\n    26 H      -5.355600    -0.688600     0.800600 H          1 UNL1 0.0\\n    27 H      -1.544600     4.104300    -0.983700 H          1 UNL1 0.0\\n    28 H      -3.311100     4.080100    -1.120700 H          1 UNL1 0.0\\n    29 H      -2.350800     2.794400    -1.855900 H          1 UNL1 0.0\\n    30 H      -3.415100     4.259000     1.492700 H          1 UNL1 0.0\\n    31 H      -1.652800     4.208300     1.579200 H          1 UNL1 0.0\\n    32 H      -2.615300     3.020600     2.466700 H          1 UNL1 0.0\\n    33 H      -7.989000     0.983200     0.174600 H          1 UNL1 0.0\\n    34 H      -7.324800     3.609600     1.588700 H          1 UNL1 0.0\\n    35 H      -8.043100     2.163000     2.320100 H          1 UNL1 0.0\\n    36 H      -8.940800     3.069600     1.100100 H          1 UNL1 0.0\\n    37 H      -6.786700     3.608500    -0.900400 H          1 UNL1 0.0\\n    38 H      -6.880700     2.123000    -1.848400 H          1 UNL1 0.0\\n    39 H      -8.356300     2.911200    -1.306400 H          1 UNL1 0.0\\n    40 H       0.115000     0.726200     2.897800 H          1 UNL1 0.0\\n    41 H       2.031400     3.081100     2.551800 H          1 UNL1 0.0\\n    42 H       0.293300     3.170900     2.889800 H          1 UNL1 0.0\\n    43 H       1.385300     2.512800     4.101500 H          1 UNL1 0.0\\n    44 H       3.104300     0.552800     2.255600 H          1 UNL1 0.0\\n    45 H       2.474000     0.478900     3.906900 H          1 UNL1 0.0\\n    46 H       2.024500    -0.761600     2.765900 H          1 UNL1 0.0\\n    47 C      -5.830800    -0.276400    -1.299200 C.3        1 UNL1 0.0\\n    48 C      -5.594300    -1.705400    -1.736100 C.ar       1 UNL1 0.0\\n    49 C      -5.351500    -1.966300    -3.096000 C.ar       1 UNL1 0.0\\n    50 C      -5.138300    -3.268900    -3.549300 C.ar       1 UNL1 0.0\\n    51 C      -5.195800    -4.333700    -2.657000 C.ar       1 UNL1 0.0\\n    52 C      -5.493800    -4.099100    -1.317800 C.ar       1 UNL1 0.0\\n    53 C      -5.710600    -2.795900    -0.861800 C.ar       1 UNL1 0.0\\n    54 H      -6.921400    -0.180000    -1.307300 H          1 UNL1 0.0\\n    55 H      -5.443600     0.407800    -2.065700 H          1 UNL1 0.0\\n    56 H      -5.331500    -1.161100    -3.829700 H          1 UNL1 0.0\\n    57 H      -4.948200    -3.457000    -4.604700 H          1 UNL1 0.0\\n    58 H      -5.046400    -5.351200    -3.014300 H          1 UNL1 0.0\\n    59 H      -5.590300    -4.943700    -0.637000 H          1 UNL1 0.0\\n    60 H      -6.009600    -2.679900     0.177000 H          1 UNL1 0.0\\n    61 C       0.540100    -1.339500     0.633100 C.3        1 UNL1 0.0\\n    62 C       0.305800    -2.484500    -0.325300 C.ar       1 UNL1 0.0\\n    63 C       0.719400    -2.419800    -1.665400 C.ar       1 UNL1 0.0\\n    64 C       0.503900    -3.495500    -2.530100 C.ar       1 UNL1 0.0\\n    65 C      -0.096200    -4.660300    -2.062100 C.ar       1 UNL1 0.0\\n    66 C      -0.451600    -4.764100    -0.721600 C.ar       1 UNL1 0.0\\n    67 C      -0.231800    -3.692600     0.144700 C.ar       1 UNL1 0.0\\n    68 H       1.627900    -1.344700     0.771200 H          1 UNL1 0.0\\n    69 H       0.100600    -1.557100     1.611100 H          1 UNL1 0.0\\n    70 H       1.245400    -1.555800    -2.066200 H          1 UNL1 0.0\\n    71 H       0.829300    -3.439800    -3.567700 H          1 UNL1 0.0\\n    72 H      -0.247400    -5.504000    -2.733300 H          1 UNL1 0.0\\n    73 H      -0.872100    -5.695000    -0.346000 H          1 UNL1 0.0\\n    74 H      -0.471500    -3.833700     1.197400 H          1 UNL1 0.0\\n@<TRIPOS>BOND\\n     1      1      2          1\\n     2      2      3          1\\n     3      3      4          1\\n     4      4      5          2\\n     5      5      1          1\\n     6      4      6          1\\n     7      6      7          1\\n     8      7      8          1\\n     9      8      9          1\\n    10      9     10          1\\n    11     10     11          1\\n    12     11      7          2\\n    13     11     12          1\\n    14     12      5          1\\n    15     12     13          1\\n    16     12     14          1\\n    17      6     15          1\\n    18      6     16          1\\n    19     17     18          1\\n    20     17     19          1\\n    21      9     17          1\\n    22     20     21          1\\n    23     20     22          1\\n    24      2     20          1\\n    25      1     23          1\\n    26      2     24          1\\n    27      9     25          1\\n    28     10     26          1\\n    29     15     27          1\\n    30     15     28          1\\n    31     15     29          1\\n    32     16     30          1\\n    33     16     31          1\\n    34     16     32          1\\n    35     17     33          1\\n    36     18     34          1\\n    37     18     35          1\\n    38     18     36          1\\n    39     19     37          1\\n    40     19     38          1\\n    41     19     39          1\\n    42     20     40          1\\n    43     21     41          1\\n    44     21     42          1\\n    45     21     43          1\\n    46     22     44          1\\n    47     22     45          1\\n    48     22     46          1\\n    49     47     48          1\\n    50     48     49         ar\\n    51     49     50         ar\\n    52     50     51         ar\\n    53     51     52         ar\\n    54     52     53         ar\\n    55     53     48         ar\\n    56     47     54          1\\n    57     47     55          1\\n    58     49     56          1\\n    59     50     57          1\\n    60     51     58          1\\n    61     52     59          1\\n    62     53     60          1\\n    63     10     47          1\\n    64     61     62          1\\n    65     62     63         ar\\n    66     63     64         ar\\n    67     64     65         ar\\n    68     65     66         ar\\n    69     66     67         ar\\n    70     67     62         ar\\n    71     61     68          1\\n    72     61     69          1\\n    73     63     70          1\\n    74     64     71          1\\n    75     65     72          1\\n    76     66     73          1\\n    77     67     74          1\\n    78      1     61          1\\n\",\"mol2\");\n",
       "\tviewer_16869337294750721.setStyle({\"stick\": {\"radius\": 0.1}, \"sphere\": {\"scale\": 0.15}});\n",
       "\tviewer_16869337294750721.setHoverable({},true,\"\\n            function(atom,viewer,event,container) {\\n                if(!atom.label) {\\n                    atom.label = viewer.addLabel(atom.elem + atom.serial, {position: atom, backgroundColor: 'mintcream', fontColor:'black'});\\n                }\\n            }\\n            \",\"\\n            function(atom,viewer) { \\n                if(atom.label) {\\n                    viewer.removeLabel(atom.label);\\n                    delete atom.label;\\n                }\\n            }\\n            \");\n",
       "\tviewer_16869337294750721.zoomTo();\n",
       "\tviewer_16869337294750721.setBackgroundColor(null);\n",
       "viewer_16869337294750721.render();\n",
       "});\n",
       "</script>"
      ]
     },
     "metadata": {},
     "output_type": "display_data"
    },
    {
     "data": {
      "text/plain": [
       "Conformer(name='3_6_6', formula='C30 H38 Br2 N2 O2')"
      ]
     },
     "execution_count": 15,
     "metadata": {},
     "output_type": "execute_result"
    }
   ],
   "source": [
    "clib['3_6_6'][0]"
   ]
  },
  {
   "cell_type": "code",
   "execution_count": 16,
   "metadata": {},
   "outputs": [
    {
     "data": {
      "application/3dmoljs_load.v0": "<div id=\"3dmolviewer_16869337294890788\"  style=\"position: relative; width: 1000px; height: 500px\">\n        <p id=\"3dmolwarning_16869337294890788\" style=\"background-color:#ffcccc;color:black\">You appear to be running in JupyterLab (or JavaScript failed to load for some other reason).  You need to install the 3dmol extension: <br>\n        <tt>jupyter labextension install jupyterlab_3dmol</tt></p>\n        </div>\n<script>\n\nvar loadScriptAsync = function(uri){\n  return new Promise((resolve, reject) => {\n    //this is to ignore the existence of requirejs amd\n    var savedexports, savedmodule;\n    if (typeof exports !== 'undefined') savedexports = exports;\n    else exports = {}\n    if (typeof module !== 'undefined') savedmodule = module;\n    else module = {}\n\n    var tag = document.createElement('script');\n    tag.src = uri;\n    tag.async = true;\n    tag.onload = () => {\n        exports = savedexports;\n        module = savedmodule;\n        resolve();\n    };\n  var firstScriptTag = document.getElementsByTagName('script')[0];\n  firstScriptTag.parentNode.insertBefore(tag, firstScriptTag);\n});\n};\n\nif(typeof $3Dmolpromise === 'undefined') {\n$3Dmolpromise = null;\n  $3Dmolpromise = loadScriptAsync('https://cdnjs.cloudflare.com/ajax/libs/3Dmol/2.0.1/3Dmol-min.js');\n}\n\nvar viewer_16869337294890788 = null;\nvar warn = document.getElementById(\"3dmolwarning_16869337294890788\");\nif(warn) {\n    warn.parentNode.removeChild(warn);\n}\n$3Dmolpromise.then(function() {\nviewer_16869337294890788 = $3Dmol.createViewer(document.getElementById(\"3dmolviewer_16869337294890788\"),{backgroundColor:\"white\"});\nviewer_16869337294890788.zoomTo();\n\tviewer_16869337294890788.addModel(\"# Produced with molli package\\n@<TRIPOS>MOLECULE\\n3_6_6\\n74 78 0 0 0\\nSMALL\\nUSER_CHARGES\\n\\n@<TRIPOS>ATOM\\n     1 C      -0.016400    -0.070800     0.626700 C.3        1 UNL1 0.0\\n     2 C       0.802500     1.107800     0.064800 C.3        1 UNL1 0.0\\n     3 O      -0.049500     2.233800     0.398700 O.2        1 UNL1 0.0\\n     4 C      -1.303500     1.779600     0.358900 C.2        1 UNL1 0.0\\n     5 N      -1.369400     0.504300     0.332800 N.2        1 UNL1 0.0\\n     6 C      -2.513300     2.651800     0.343000 C.3        1 UNL1 0.0\\n     7 C      -3.766300     1.833000     0.312400 C.2        1 UNL1 0.0\\n     8 O      -4.952800     2.321200     0.668000 O.2        1 UNL1 0.0\\n     9 C      -5.790800     1.192300     0.984900 C.3        1 UNL1 0.0\\n    10 C      -5.223200     0.086900     0.066600 C.3        1 UNL1 0.0\\n    11 N      -3.807000     0.597800    -0.014500 N.2        1 UNL1 0.0\\n    12 C      -2.552300    -0.169500    -0.309200 C.3        1 UNL1 0.0\\n    13 BR     -2.178500    -0.021200    -2.263500 Br         1 UNL1 0.0\\n    14 BR     -2.701500    -2.049200     0.129000 Br         1 UNL1 0.0\\n    15 C      -2.500400     3.480300     1.638900 C.3        1 UNL1 0.0\\n    16 C      -2.480800     3.586200    -0.868900 C.3        1 UNL1 0.0\\n    17 C      -7.278000     1.566100     0.894400 C.3        1 UNL1 0.0\\n    18 C      -8.166700     0.395500     1.317200 C.3        1 UNL1 0.0\\n    19 C      -7.587900     2.784200     1.774600 C.3        1 UNL1 0.0\\n    20 C       2.268100     1.361700     0.458700 C.3        1 UNL1 0.0\\n    21 C       3.139800     0.129000     0.230700 C.3        1 UNL1 0.0\\n    22 C       2.500200     1.960200     1.845900 C.3        1 UNL1 0.0\\n    23 H       0.138900    -0.999000     0.069700 H          1 UNL1 0.0\\n    24 H       0.793500     1.039100    -1.035500 H          1 UNL1 0.0\\n    25 H      -5.567900     0.935500     2.031700 H          1 UNL1 0.0\\n    26 H      -5.251100    -0.866300     0.598700 H          1 UNL1 0.0\\n    27 H      -2.562300     2.832800     2.522500 H          1 UNL1 0.0\\n    28 H      -3.347200     4.174300     1.681400 H          1 UNL1 0.0\\n    29 H      -1.582000     4.072300     1.729500 H          1 UNL1 0.0\\n    30 H      -3.381600     4.209400    -0.911400 H          1 UNL1 0.0\\n    31 H      -1.615100     4.255300    -0.831700 H          1 UNL1 0.0\\n    32 H      -2.428500     3.031500    -1.811600 H          1 UNL1 0.0\\n    33 H      -7.527100     1.863800    -0.131200 H          1 UNL1 0.0\\n    34 H      -9.224600     0.667600     1.248900 H          1 UNL1 0.0\\n    35 H      -7.964500     0.100100     2.352400 H          1 UNL1 0.0\\n    36 H      -8.011900    -0.483700     0.684700 H          1 UNL1 0.0\\n    37 H      -8.652200     3.038000     1.724100 H          1 UNL1 0.0\\n    38 H      -7.333500     2.592400     2.822600 H          1 UNL1 0.0\\n    39 H      -7.028400     3.664300     1.443500 H          1 UNL1 0.0\\n    40 H       2.624900     2.136800    -0.235200 H          1 UNL1 0.0\\n    41 H       2.880600    -0.688200     0.909200 H          1 UNL1 0.0\\n    42 H       3.033600    -0.238400    -0.795800 H          1 UNL1 0.0\\n    43 H       4.196400     0.368700     0.387800 H          1 UNL1 0.0\\n    44 H       3.534000     2.314600     1.929600 H          1 UNL1 0.0\\n    45 H       2.353800     1.236300     2.648900 H          1 UNL1 0.0\\n    46 H       1.849000     2.820500     2.025500 H          1 UNL1 0.0\\n    47 C      -5.869600     0.038300    -1.334000 C.3        1 UNL1 0.0\\n    48 C      -5.579000    -1.214300    -2.123600 C.ar       1 UNL1 0.0\\n    49 C      -5.189100    -1.120100    -3.467400 C.ar       1 UNL1 0.0\\n    50 C      -4.922400    -2.269700    -4.213400 C.ar       1 UNL1 0.0\\n    51 C      -5.073800    -3.527100    -3.637800 C.ar       1 UNL1 0.0\\n    52 C      -5.520600    -3.637400    -2.324900 C.ar       1 UNL1 0.0\\n    53 C      -5.788700    -2.489400    -1.576100 C.ar       1 UNL1 0.0\\n    54 H      -6.961600     0.072800    -1.260800 H          1 UNL1 0.0\\n    55 H      -5.575900     0.922600    -1.915400 H          1 UNL1 0.0\\n    56 H      -5.101500    -0.156300    -3.968000 H          1 UNL1 0.0\\n    57 H      -4.621800    -2.188500    -5.256800 H          1 UNL1 0.0\\n    58 H      -4.884400    -4.422500    -4.227800 H          1 UNL1 0.0\\n    59 H      -5.688700    -4.624900    -1.896600 H          1 UNL1 0.0\\n    60 H      -6.191900    -2.626700    -0.574900 H          1 UNL1 0.0\\n    61 C       0.153400    -0.231500     2.156300 C.3        1 UNL1 0.0\\n    62 C      -0.852800    -1.110100     2.851000 C.ar       1 UNL1 0.0\\n    63 C      -1.928100    -0.547400     3.558300 C.ar       1 UNL1 0.0\\n    64 C      -2.854400    -1.368400     4.203600 C.ar       1 UNL1 0.0\\n    65 C      -2.707800    -2.753300     4.159600 C.ar       1 UNL1 0.0\\n    66 C      -1.625500    -3.319100     3.488400 C.ar       1 UNL1 0.0\\n    67 C      -0.696700    -2.503100     2.840500 C.ar       1 UNL1 0.0\\n    68 H       1.147400    -0.640000     2.370800 H          1 UNL1 0.0\\n    69 H       0.124800     0.748800     2.650400 H          1 UNL1 0.0\\n    70 H      -2.022100     0.529900     3.683000 H          1 UNL1 0.0\\n    71 H      -3.662100    -0.937600     4.794400 H          1 UNL1 0.0\\n    72 H      -3.410100    -3.396400     4.690100 H          1 UNL1 0.0\\n    73 H      -1.492500    -4.400600     3.494000 H          1 UNL1 0.0\\n    74 H       0.155600    -2.975200     2.352500 H          1 UNL1 0.0\\n@<TRIPOS>BOND\\n     1      1      2          1\\n     2      2      3          1\\n     3      3      4          1\\n     4      4      5          2\\n     5      5      1          1\\n     6      4      6          1\\n     7      6      7          1\\n     8      7      8          1\\n     9      8      9          1\\n    10      9     10          1\\n    11     10     11          1\\n    12     11      7          2\\n    13     11     12          1\\n    14     12      5          1\\n    15     12     13          1\\n    16     12     14          1\\n    17      6     15          1\\n    18      6     16          1\\n    19     17     18          1\\n    20     17     19          1\\n    21      9     17          1\\n    22     20     21          1\\n    23     20     22          1\\n    24      2     20          1\\n    25      1     23          1\\n    26      2     24          1\\n    27      9     25          1\\n    28     10     26          1\\n    29     15     27          1\\n    30     15     28          1\\n    31     15     29          1\\n    32     16     30          1\\n    33     16     31          1\\n    34     16     32          1\\n    35     17     33          1\\n    36     18     34          1\\n    37     18     35          1\\n    38     18     36          1\\n    39     19     37          1\\n    40     19     38          1\\n    41     19     39          1\\n    42     20     40          1\\n    43     21     41          1\\n    44     21     42          1\\n    45     21     43          1\\n    46     22     44          1\\n    47     22     45          1\\n    48     22     46          1\\n    49     47     48          1\\n    50     48     49         ar\\n    51     49     50         ar\\n    52     50     51         ar\\n    53     51     52         ar\\n    54     52     53         ar\\n    55     53     48         ar\\n    56     47     54          1\\n    57     47     55          1\\n    58     49     56          1\\n    59     50     57          1\\n    60     51     58          1\\n    61     52     59          1\\n    62     53     60          1\\n    63     10     47          1\\n    64     61     62          1\\n    65     62     63         ar\\n    66     63     64         ar\\n    67     64     65         ar\\n    68     65     66         ar\\n    69     66     67         ar\\n    70     67     62         ar\\n    71     61     68          1\\n    72     61     69          1\\n    73     63     70          1\\n    74     64     71          1\\n    75     65     72          1\\n    76     66     73          1\\n    77     67     74          1\\n    78      1     61          1\\n\",\"mol2\");\n\tviewer_16869337294890788.setStyle({\"stick\": {\"radius\": 0.1}, \"sphere\": {\"scale\": 0.15}});\n\tviewer_16869337294890788.setHoverable({},true,\"\\n            function(atom,viewer,event,container) {\\n                if(!atom.label) {\\n                    atom.label = viewer.addLabel(atom.elem + atom.serial, {position: atom, backgroundColor: 'mintcream', fontColor:'black'});\\n                }\\n            }\\n            \",\"\\n            function(atom,viewer) { \\n                if(atom.label) {\\n                    viewer.removeLabel(atom.label);\\n                    delete atom.label;\\n                }\\n            }\\n            \");\n\tviewer_16869337294890788.zoomTo();\n\tviewer_16869337294890788.setBackgroundColor(null);\nviewer_16869337294890788.render();\n});\n</script>",
      "text/html": [
       "<div id=\"3dmolviewer_16869337294890788\"  style=\"position: relative; width: 1000px; height: 500px\">\n",
       "        <p id=\"3dmolwarning_16869337294890788\" style=\"background-color:#ffcccc;color:black\">You appear to be running in JupyterLab (or JavaScript failed to load for some other reason).  You need to install the 3dmol extension: <br>\n",
       "        <tt>jupyter labextension install jupyterlab_3dmol</tt></p>\n",
       "        </div>\n",
       "<script>\n",
       "\n",
       "var loadScriptAsync = function(uri){\n",
       "  return new Promise((resolve, reject) => {\n",
       "    //this is to ignore the existence of requirejs amd\n",
       "    var savedexports, savedmodule;\n",
       "    if (typeof exports !== 'undefined') savedexports = exports;\n",
       "    else exports = {}\n",
       "    if (typeof module !== 'undefined') savedmodule = module;\n",
       "    else module = {}\n",
       "\n",
       "    var tag = document.createElement('script');\n",
       "    tag.src = uri;\n",
       "    tag.async = true;\n",
       "    tag.onload = () => {\n",
       "        exports = savedexports;\n",
       "        module = savedmodule;\n",
       "        resolve();\n",
       "    };\n",
       "  var firstScriptTag = document.getElementsByTagName('script')[0];\n",
       "  firstScriptTag.parentNode.insertBefore(tag, firstScriptTag);\n",
       "});\n",
       "};\n",
       "\n",
       "if(typeof $3Dmolpromise === 'undefined') {\n",
       "$3Dmolpromise = null;\n",
       "  $3Dmolpromise = loadScriptAsync('https://cdnjs.cloudflare.com/ajax/libs/3Dmol/2.0.1/3Dmol-min.js');\n",
       "}\n",
       "\n",
       "var viewer_16869337294890788 = null;\n",
       "var warn = document.getElementById(\"3dmolwarning_16869337294890788\");\n",
       "if(warn) {\n",
       "    warn.parentNode.removeChild(warn);\n",
       "}\n",
       "$3Dmolpromise.then(function() {\n",
       "viewer_16869337294890788 = $3Dmol.createViewer(document.getElementById(\"3dmolviewer_16869337294890788\"),{backgroundColor:\"white\"});\n",
       "viewer_16869337294890788.zoomTo();\n",
       "\tviewer_16869337294890788.addModel(\"# Produced with molli package\\n@<TRIPOS>MOLECULE\\n3_6_6\\n74 78 0 0 0\\nSMALL\\nUSER_CHARGES\\n\\n@<TRIPOS>ATOM\\n     1 C      -0.016400    -0.070800     0.626700 C.3        1 UNL1 0.0\\n     2 C       0.802500     1.107800     0.064800 C.3        1 UNL1 0.0\\n     3 O      -0.049500     2.233800     0.398700 O.2        1 UNL1 0.0\\n     4 C      -1.303500     1.779600     0.358900 C.2        1 UNL1 0.0\\n     5 N      -1.369400     0.504300     0.332800 N.2        1 UNL1 0.0\\n     6 C      -2.513300     2.651800     0.343000 C.3        1 UNL1 0.0\\n     7 C      -3.766300     1.833000     0.312400 C.2        1 UNL1 0.0\\n     8 O      -4.952800     2.321200     0.668000 O.2        1 UNL1 0.0\\n     9 C      -5.790800     1.192300     0.984900 C.3        1 UNL1 0.0\\n    10 C      -5.223200     0.086900     0.066600 C.3        1 UNL1 0.0\\n    11 N      -3.807000     0.597800    -0.014500 N.2        1 UNL1 0.0\\n    12 C      -2.552300    -0.169500    -0.309200 C.3        1 UNL1 0.0\\n    13 BR     -2.178500    -0.021200    -2.263500 Br         1 UNL1 0.0\\n    14 BR     -2.701500    -2.049200     0.129000 Br         1 UNL1 0.0\\n    15 C      -2.500400     3.480300     1.638900 C.3        1 UNL1 0.0\\n    16 C      -2.480800     3.586200    -0.868900 C.3        1 UNL1 0.0\\n    17 C      -7.278000     1.566100     0.894400 C.3        1 UNL1 0.0\\n    18 C      -8.166700     0.395500     1.317200 C.3        1 UNL1 0.0\\n    19 C      -7.587900     2.784200     1.774600 C.3        1 UNL1 0.0\\n    20 C       2.268100     1.361700     0.458700 C.3        1 UNL1 0.0\\n    21 C       3.139800     0.129000     0.230700 C.3        1 UNL1 0.0\\n    22 C       2.500200     1.960200     1.845900 C.3        1 UNL1 0.0\\n    23 H       0.138900    -0.999000     0.069700 H          1 UNL1 0.0\\n    24 H       0.793500     1.039100    -1.035500 H          1 UNL1 0.0\\n    25 H      -5.567900     0.935500     2.031700 H          1 UNL1 0.0\\n    26 H      -5.251100    -0.866300     0.598700 H          1 UNL1 0.0\\n    27 H      -2.562300     2.832800     2.522500 H          1 UNL1 0.0\\n    28 H      -3.347200     4.174300     1.681400 H          1 UNL1 0.0\\n    29 H      -1.582000     4.072300     1.729500 H          1 UNL1 0.0\\n    30 H      -3.381600     4.209400    -0.911400 H          1 UNL1 0.0\\n    31 H      -1.615100     4.255300    -0.831700 H          1 UNL1 0.0\\n    32 H      -2.428500     3.031500    -1.811600 H          1 UNL1 0.0\\n    33 H      -7.527100     1.863800    -0.131200 H          1 UNL1 0.0\\n    34 H      -9.224600     0.667600     1.248900 H          1 UNL1 0.0\\n    35 H      -7.964500     0.100100     2.352400 H          1 UNL1 0.0\\n    36 H      -8.011900    -0.483700     0.684700 H          1 UNL1 0.0\\n    37 H      -8.652200     3.038000     1.724100 H          1 UNL1 0.0\\n    38 H      -7.333500     2.592400     2.822600 H          1 UNL1 0.0\\n    39 H      -7.028400     3.664300     1.443500 H          1 UNL1 0.0\\n    40 H       2.624900     2.136800    -0.235200 H          1 UNL1 0.0\\n    41 H       2.880600    -0.688200     0.909200 H          1 UNL1 0.0\\n    42 H       3.033600    -0.238400    -0.795800 H          1 UNL1 0.0\\n    43 H       4.196400     0.368700     0.387800 H          1 UNL1 0.0\\n    44 H       3.534000     2.314600     1.929600 H          1 UNL1 0.0\\n    45 H       2.353800     1.236300     2.648900 H          1 UNL1 0.0\\n    46 H       1.849000     2.820500     2.025500 H          1 UNL1 0.0\\n    47 C      -5.869600     0.038300    -1.334000 C.3        1 UNL1 0.0\\n    48 C      -5.579000    -1.214300    -2.123600 C.ar       1 UNL1 0.0\\n    49 C      -5.189100    -1.120100    -3.467400 C.ar       1 UNL1 0.0\\n    50 C      -4.922400    -2.269700    -4.213400 C.ar       1 UNL1 0.0\\n    51 C      -5.073800    -3.527100    -3.637800 C.ar       1 UNL1 0.0\\n    52 C      -5.520600    -3.637400    -2.324900 C.ar       1 UNL1 0.0\\n    53 C      -5.788700    -2.489400    -1.576100 C.ar       1 UNL1 0.0\\n    54 H      -6.961600     0.072800    -1.260800 H          1 UNL1 0.0\\n    55 H      -5.575900     0.922600    -1.915400 H          1 UNL1 0.0\\n    56 H      -5.101500    -0.156300    -3.968000 H          1 UNL1 0.0\\n    57 H      -4.621800    -2.188500    -5.256800 H          1 UNL1 0.0\\n    58 H      -4.884400    -4.422500    -4.227800 H          1 UNL1 0.0\\n    59 H      -5.688700    -4.624900    -1.896600 H          1 UNL1 0.0\\n    60 H      -6.191900    -2.626700    -0.574900 H          1 UNL1 0.0\\n    61 C       0.153400    -0.231500     2.156300 C.3        1 UNL1 0.0\\n    62 C      -0.852800    -1.110100     2.851000 C.ar       1 UNL1 0.0\\n    63 C      -1.928100    -0.547400     3.558300 C.ar       1 UNL1 0.0\\n    64 C      -2.854400    -1.368400     4.203600 C.ar       1 UNL1 0.0\\n    65 C      -2.707800    -2.753300     4.159600 C.ar       1 UNL1 0.0\\n    66 C      -1.625500    -3.319100     3.488400 C.ar       1 UNL1 0.0\\n    67 C      -0.696700    -2.503100     2.840500 C.ar       1 UNL1 0.0\\n    68 H       1.147400    -0.640000     2.370800 H          1 UNL1 0.0\\n    69 H       0.124800     0.748800     2.650400 H          1 UNL1 0.0\\n    70 H      -2.022100     0.529900     3.683000 H          1 UNL1 0.0\\n    71 H      -3.662100    -0.937600     4.794400 H          1 UNL1 0.0\\n    72 H      -3.410100    -3.396400     4.690100 H          1 UNL1 0.0\\n    73 H      -1.492500    -4.400600     3.494000 H          1 UNL1 0.0\\n    74 H       0.155600    -2.975200     2.352500 H          1 UNL1 0.0\\n@<TRIPOS>BOND\\n     1      1      2          1\\n     2      2      3          1\\n     3      3      4          1\\n     4      4      5          2\\n     5      5      1          1\\n     6      4      6          1\\n     7      6      7          1\\n     8      7      8          1\\n     9      8      9          1\\n    10      9     10          1\\n    11     10     11          1\\n    12     11      7          2\\n    13     11     12          1\\n    14     12      5          1\\n    15     12     13          1\\n    16     12     14          1\\n    17      6     15          1\\n    18      6     16          1\\n    19     17     18          1\\n    20     17     19          1\\n    21      9     17          1\\n    22     20     21          1\\n    23     20     22          1\\n    24      2     20          1\\n    25      1     23          1\\n    26      2     24          1\\n    27      9     25          1\\n    28     10     26          1\\n    29     15     27          1\\n    30     15     28          1\\n    31     15     29          1\\n    32     16     30          1\\n    33     16     31          1\\n    34     16     32          1\\n    35     17     33          1\\n    36     18     34          1\\n    37     18     35          1\\n    38     18     36          1\\n    39     19     37          1\\n    40     19     38          1\\n    41     19     39          1\\n    42     20     40          1\\n    43     21     41          1\\n    44     21     42          1\\n    45     21     43          1\\n    46     22     44          1\\n    47     22     45          1\\n    48     22     46          1\\n    49     47     48          1\\n    50     48     49         ar\\n    51     49     50         ar\\n    52     50     51         ar\\n    53     51     52         ar\\n    54     52     53         ar\\n    55     53     48         ar\\n    56     47     54          1\\n    57     47     55          1\\n    58     49     56          1\\n    59     50     57          1\\n    60     51     58          1\\n    61     52     59          1\\n    62     53     60          1\\n    63     10     47          1\\n    64     61     62          1\\n    65     62     63         ar\\n    66     63     64         ar\\n    67     64     65         ar\\n    68     65     66         ar\\n    69     66     67         ar\\n    70     67     62         ar\\n    71     61     68          1\\n    72     61     69          1\\n    73     63     70          1\\n    74     64     71          1\\n    75     65     72          1\\n    76     66     73          1\\n    77     67     74          1\\n    78      1     61          1\\n\",\"mol2\");\n",
       "\tviewer_16869337294890788.setStyle({\"stick\": {\"radius\": 0.1}, \"sphere\": {\"scale\": 0.15}});\n",
       "\tviewer_16869337294890788.setHoverable({},true,\"\\n            function(atom,viewer,event,container) {\\n                if(!atom.label) {\\n                    atom.label = viewer.addLabel(atom.elem + atom.serial, {position: atom, backgroundColor: 'mintcream', fontColor:'black'});\\n                }\\n            }\\n            \",\"\\n            function(atom,viewer) { \\n                if(atom.label) {\\n                    viewer.removeLabel(atom.label);\\n                    delete atom.label;\\n                }\\n            }\\n            \");\n",
       "\tviewer_16869337294890788.zoomTo();\n",
       "\tviewer_16869337294890788.setBackgroundColor(null);\n",
       "viewer_16869337294890788.render();\n",
       "});\n",
       "</script>"
      ]
     },
     "metadata": {},
     "output_type": "display_data"
    },
    {
     "data": {
      "text/plain": [
       "Conformer(name='3_6_6', formula='C30 H38 Br2 N2 O2')"
      ]
     },
     "execution_count": 16,
     "metadata": {},
     "output_type": "execute_result"
    }
   ],
   "source": [
    "clib['3_6_6'][24]"
   ]
  },
  {
   "attachments": {},
   "cell_type": "markdown",
   "metadata": {},
   "source": [
    "# 4. ASO descriptor calculation"
   ]
  },
  {
   "cell_type": "code",
   "execution_count": 17,
   "metadata": {},
   "outputs": [
    {
     "name": "stdout",
     "output_type": "stream",
     "text": [
      "(7106, 3)\n"
     ]
    },
    {
     "name": "stderr",
     "output_type": "stream",
     "text": [
      "100%|██████████| 75/75 [00:00<00:00, 1636.92it/s]\n"
     ]
    },
    {
     "data": {
      "text/plain": [
       "CompletedProcess(args=['molli', 'grid', '--mlib', './ncsa-testing-output/test_conformers_new_env.mlib', '-o', './ncsa-testing-output/grid_new_env.npy'], returncode=0)"
      ]
     },
     "execution_count": 17,
     "metadata": {},
     "output_type": "execute_result"
    }
   ],
   "source": [
    "# first we make a grid for calculating aso\n",
    "subprocess.run(['molli', \n",
    "                'grid', \n",
    "                '--mlib', \n",
    "                f'{out_dir}test_conformers_new_env.mlib', \n",
    "                '-o', \n",
    "                f'{out_dir}grid_new_env.npy'\n",
    "                ])"
   ]
  },
  {
   "cell_type": "code",
   "execution_count": 18,
   "metadata": {},
   "outputs": [
    {
     "name": "stdout",
     "output_type": "stream",
     "text": [
      "Allocating storage for descriptors\n",
      "Will compute descriptor ASO using 128 cores.\n",
      "Grid shape: (7106, 3)\n"
     ]
    },
    {
     "name": "stderr",
     "output_type": "stream",
     "text": [
      "Loading batches of conformers: 0it [00:00, ?it/s]\n",
      "Submitting calculations:   0%|          | 0/75 [00:00<?, ?it/s]\u001b[A\n",
      "                                                               \u001b[A\n",
      "\n",
      "Gathering calculation results:   0%|          | 0/75 [00:00<?, ?it/s]\u001b[A\u001b[A\n",
      "\n",
      "Loading batches of conformers: 1it [00:13, 13.64s/it]                \u001b[A\u001b[A\n"
     ]
    },
    {
     "data": {
      "text/plain": [
       "CompletedProcess(args=['molli', 'gbca', 'aso', './ncsa-testing-output/test_conformers_new_env.mlib', '-g', './ncsa-testing-output/grid_new_env.npy', '-o', './ncsa-testing-output/aso_new_env.h5'], returncode=0)"
      ]
     },
     "execution_count": 18,
     "metadata": {},
     "output_type": "execute_result"
    }
   ],
   "source": [
    "# calculate aso\n",
    "subprocess.run(['molli', \n",
    "                'gbca', \n",
    "                'aso', \n",
    "                f'{out_dir}test_conformers_new_env.mlib', \n",
    "                '-g', \n",
    "                f'{out_dir}grid_new_env.npy', \n",
    "                '-o', \n",
    "                f'{out_dir}aso_new_env.h5'\n",
    "                ])\n",
    "# tqdm looks messed up"
   ]
  },
  {
   "attachments": {},
   "cell_type": "markdown",
   "metadata": {},
   "source": [
    "# 5. post-processing, dimensionaltiy reduction, clustering analysis"
   ]
  },
  {
   "cell_type": "code",
   "execution_count": 4,
   "metadata": {},
   "outputs": [
    {
     "name": "stderr",
     "output_type": "stream",
     "text": [
      "100%|██████████| 75/75 [00:00<00:00, 4637.39it/s]\n"
     ]
    },
    {
     "name": "stdout",
     "output_type": "stream",
     "text": [
      "shape of data after variance threshold: (75, 3787)\n",
      "total variance after variance threshold: 62.82\n",
      "\n",
      "shape of data after removing correlated columns (R > 0.8): (75, 249)\n",
      "total variance after removing correlated columns (R > 0.8): 3.26\n",
      "\n"
     ]
    },
    {
     "data": {
      "text/plain": [
       "CompletedProcess(args=['molli', 'cluster', './ncsa-testing-output/aso_new_env.h5', '-o', './ncsa-testing-output/new_env_data3', '-v', '0', '-c', '0.8'], returncode=0)"
      ]
     },
     "execution_count": 4,
     "metadata": {},
     "output_type": "execute_result"
    }
   ],
   "source": [
    "subprocess.run(         # check functionality for plotting and pca\n",
    "     [                   # should be better way to implement post_processing stuff\n",
    "         'molli', \n",
    "         'cluster', \n",
    "         f'{out_dir}aso_new_env.h5', \n",
    "         '-o', \n",
    "         f'{out_dir}new_env_data3', \n",
    "         '-v', # variance threshold before doing clustering\n",
    "         '0', # remove 0 variance columns\n",
    "         '-c', # correlation cutoff before clustering\n",
    "         '0.8', # 0.8 by default\n",
    "     ]\n",
    " )"
   ]
  },
  {
   "cell_type": "code",
   "execution_count": null,
   "metadata": {},
   "outputs": [],
   "source": []
  }
 ],
 "metadata": {
  "kernelspec": {
   "display_name": "NCSA-workflow-dev",
   "language": "python",
   "name": "python3"
  },
  "language_info": {
   "codemirror_mode": {
    "name": "ipython",
    "version": 3
   },
   "file_extension": ".py",
   "mimetype": "text/x-python",
   "name": "python",
   "nbconvert_exporter": "python",
   "pygments_lexer": "ipython3",
   "version": "3.11.4"
  },
  "orig_nbformat": 4
 },
 "nbformat": 4,
 "nbformat_minor": 2
}
