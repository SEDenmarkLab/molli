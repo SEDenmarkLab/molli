{
 "cells": [
  {
   "attachments": {},
   "cell_type": "markdown",
   "metadata": {},
   "source": [
    "To-Do: entire workflow\n",
    "chemdraw parse -> combinatorial expansion -> conformer generation -> aso description -> post-processing/dimension-reduction/analysis -> plot/output data"
   ]
  },
  {
   "attachments": {},
   "cell_type": "markdown",
   "metadata": {},
   "source": [
    "1. ChemDraw Parsing"
   ]
  },
  {
   "cell_type": "code",
   "execution_count": 128,
   "metadata": {},
   "outputs": [],
   "source": [
    "import molli as ml\n",
    "import molli.visual\n",
    "import subprocess"
   ]
  },
  {
   "cell_type": "code",
   "execution_count": 80,
   "metadata": {},
   "outputs": [],
   "source": [
    "cores = ml.files.box_cores_test_1\n",
    "subs = ml.files.box_substituents_test_1"
   ]
  },
  {
   "cell_type": "code",
   "execution_count": 81,
   "metadata": {},
   "outputs": [
    {
     "name": "stderr",
     "output_type": "stream",
     "text": [
      "100%|██████████| 5/5 [00:00<00:00, 43.09it/s]\n",
      "100%|██████████| 15/15 [00:00<00:00, 184.13it/s]\n"
     ]
    },
    {
     "data": {
      "text/plain": [
       "CompletedProcess(args=['molli', 'parse', '--hadd', '/home/ethangm2/NCSA Development/molli/molli/files/BOX_substituents_test_1.cdxml', '-o', '../../parsed_box/BOX_subs.mlib'], returncode=0)"
      ]
     },
     "execution_count": 81,
     "metadata": {},
     "output_type": "execute_result"
    }
   ],
   "source": [
    "subprocess.run(['molli', 'parse', '--hadd', f'{cores}', '-o', '../../parsed_box/BOX_cores.mlib'])\n",
    "subprocess.run(['molli', 'parse', '--hadd', f'{subs}', '-o', '../../parsed_box/BOX_subs.mlib'])"
   ]
  },
  {
   "cell_type": "code",
   "execution_count": 115,
   "metadata": {},
   "outputs": [
    {
     "name": "stdout",
     "output_type": "stream",
     "text": [
      "5\n"
     ]
    },
    {
     "data": {
      "application/3dmoljs_load.v0": "<div id=\"3dmolviewer_16861823219691362\"  style=\"position: relative; width: 1000px; height: 500px;\">\n        <p id=\"3dmolwarning_16861823219691362\" style=\"background-color:#ffcccc;color:black\">You appear to be running in JupyterLab (or JavaScript failed to load for some other reason).  You need to install the 3dmol extension: <br>\n        <tt>jupyter labextension install jupyterlab_3dmol</tt></p>\n        </div>\n<script>\n\nvar loadScriptAsync = function(uri){\n  return new Promise((resolve, reject) => {\n    //this is to ignore the existence of requirejs amd\n    var savedexports, savedmodule;\n    if (typeof exports !== 'undefined') savedexports = exports;\n    else exports = {}\n    if (typeof module !== 'undefined') savedmodule = module;\n    else module = {}\n\n    var tag = document.createElement('script');\n    tag.src = uri;\n    tag.async = true;\n    tag.onload = () => {\n        exports = savedexports;\n        module = savedmodule;\n        resolve();\n    };\n  var firstScriptTag = document.getElementsByTagName('script')[0];\n  firstScriptTag.parentNode.insertBefore(tag, firstScriptTag);\n});\n};\n\nif(typeof $3Dmolpromise === 'undefined') {\n$3Dmolpromise = null;\n  $3Dmolpromise = loadScriptAsync('https://cdnjs.cloudflare.com/ajax/libs/3Dmol/2.0.3/3Dmol-min.js');\n}\n\nvar viewer_16861823219691362 = null;\nvar warn = document.getElementById(\"3dmolwarning_16861823219691362\");\nif(warn) {\n    warn.parentNode.removeChild(warn);\n}\n$3Dmolpromise.then(function() {\nviewer_16861823219691362 = $3Dmol.createViewer(document.getElementById(\"3dmolviewer_16861823219691362\"),{backgroundColor:\"white\"});\nviewer_16861823219691362.zoomTo();\n\tviewer_16861823219691362.addModel(\"# Produced with molli package\\n@<TRIPOS>MOLECULE\\n1\\n30 32 0 0 0\\nSMALL\\nUSER_CHARGES\\n\\n@<TRIPOS>ATOM\\n     1 C       2.653877    -0.900810     0.000000 C          1 UNL1 0.0\\n     2 C       3.535127     0.312731     0.000000 C          1 UNL1 0.0\\n     3 O       2.653877     1.526273     0.000000 O          1 UNL1 0.0\\n     4 C       1.226794     1.062732     0.000000 C          1 UNL1 0.0\\n     5 N       1.226794    -0.437269     0.000000 N          1 UNL1 0.0\\n     6 C      -0.072164     1.812732     0.000000 C          1 UNL1 0.0\\n     7 C      -1.371123     1.062732     0.000000 C          1 UNL1 0.0\\n     8 O      -2.798206     1.526273     0.000000 O          1 UNL1 0.0\\n     9 C      -3.679456     0.312731     0.000000 C          1 UNL1 0.0\\n    10 C      -2.798206    -0.900810     0.000000 C          1 UNL1 0.0\\n    11 N      -1.371123    -0.437269     0.000000 N          1 UNL1 0.0\\n    12 A1     -3.029977    -1.614352    -1.299453 Unknown    1 UNL1 0.0\\n    13 A1      2.885648    -1.614352     1.299453 Unknown    1 UNL1 0.0\\n    14 C      -0.072164    -1.187268     0.000000 C          1 UNL1 0.0\\n    15 Br     -0.072164    -1.187268     1.499931 Br         1 UNL1 0.0\\n    16 Br      0.677836    -2.486227     0.000000 Br         1 UNL1 0.0\\n    17 C      -0.072164     1.812732     1.500000 C          1 UNL1 0.0\\n    18 C       1.226794     2.562732     0.000000 C          1 UNL1 0.0\\n    19 H       2.859825    -1.534673    -0.837080 H          1 UNL1 0.0\\n    20 H       4.148880     0.312731     0.876544 H          1 UNL1 0.0\\n    21 H       4.148880     0.312731    -0.876544 H          1 UNL1 0.0\\n    22 H      -4.293208     0.312731     0.876544 H          1 UNL1 0.0\\n    23 H      -4.293208     0.312731    -0.876544 H          1 UNL1 0.0\\n    24 H      -3.004154    -1.534673     0.837080 H          1 UNL1 0.0\\n    25 H      -1.053436     1.578647     1.856667 H          1 UNL1 0.0\\n    26 H       0.215749     2.779579     1.856667 H          1 UNL1 0.0\\n    27 H       0.621194     1.079967     1.856667 H          1 UNL1 0.0\\n    28 H       1.787896     2.304234     0.873638 H          1 UNL1 0.0\\n    29 H       1.031246     3.614711     0.000027 H          1 UNL1 0.0\\n    30 H       1.787873     2.304274    -0.873665 H          1 UNL1 0.0\\n@<TRIPOS>BOND\\n     1      1      2          1\\n     2      2      3          1\\n     3      3      4          1\\n     4      4      5          2\\n     5      5      1          1\\n     6      4      6          1\\n     7      6      7          1\\n     8      7      8          1\\n     9      8      9          1\\n    10      9     10          1\\n    11     10     11          1\\n    12     11      7          2\\n    13     10     12          1\\n    14      1     13          1\\n    15     11     14          1\\n    16     14      5          1\\n    17     14     15          1\\n    18     14     16          1\\n    19      6     17          1\\n    20      6     18          1\\n    21      1     19          1\\n    22      2     20          1\\n    23      2     21          1\\n    24      9     22          1\\n    25      9     23          1\\n    26     10     24          1\\n    27     17     25          1\\n    28     17     26          1\\n    29     17     27          1\\n    30     18     28          1\\n    31     18     29          1\\n    32     18     30          1\\n\",\"mol2\");\n\tviewer_16861823219691362.setStyle({\"stick\": {\"radius\": 0.1}, \"sphere\": {\"scale\": 0.15}});\n\tviewer_16861823219691362.setHoverable({},true,\"\\n            function(atom,viewer,event,container) {\\n                if(!atom.label) {\\n                    atom.label = viewer.addLabel(atom.elem + atom.serial, {position: atom, backgroundColor: 'mintcream', fontColor:'black'});\\n                }\\n            }\\n            \",\"\\n            function(atom,viewer) { \\n                if(atom.label) {\\n                    viewer.removeLabel(atom.label);\\n                    delete atom.label;\\n                }\\n            }\\n            \");\n\tviewer_16861823219691362.zoomTo();\n\tviewer_16861823219691362.setBackgroundColor(null);\nviewer_16861823219691362.render();\n});\n</script>",
      "text/html": [
       "<div id=\"3dmolviewer_16861823219691362\"  style=\"position: relative; width: 1000px; height: 500px;\">\n",
       "        <p id=\"3dmolwarning_16861823219691362\" style=\"background-color:#ffcccc;color:black\">You appear to be running in JupyterLab (or JavaScript failed to load for some other reason).  You need to install the 3dmol extension: <br>\n",
       "        <tt>jupyter labextension install jupyterlab_3dmol</tt></p>\n",
       "        </div>\n",
       "<script>\n",
       "\n",
       "var loadScriptAsync = function(uri){\n",
       "  return new Promise((resolve, reject) => {\n",
       "    //this is to ignore the existence of requirejs amd\n",
       "    var savedexports, savedmodule;\n",
       "    if (typeof exports !== 'undefined') savedexports = exports;\n",
       "    else exports = {}\n",
       "    if (typeof module !== 'undefined') savedmodule = module;\n",
       "    else module = {}\n",
       "\n",
       "    var tag = document.createElement('script');\n",
       "    tag.src = uri;\n",
       "    tag.async = true;\n",
       "    tag.onload = () => {\n",
       "        exports = savedexports;\n",
       "        module = savedmodule;\n",
       "        resolve();\n",
       "    };\n",
       "  var firstScriptTag = document.getElementsByTagName('script')[0];\n",
       "  firstScriptTag.parentNode.insertBefore(tag, firstScriptTag);\n",
       "});\n",
       "};\n",
       "\n",
       "if(typeof $3Dmolpromise === 'undefined') {\n",
       "$3Dmolpromise = null;\n",
       "  $3Dmolpromise = loadScriptAsync('https://cdnjs.cloudflare.com/ajax/libs/3Dmol/2.0.3/3Dmol-min.js');\n",
       "}\n",
       "\n",
       "var viewer_16861823219691362 = null;\n",
       "var warn = document.getElementById(\"3dmolwarning_16861823219691362\");\n",
       "if(warn) {\n",
       "    warn.parentNode.removeChild(warn);\n",
       "}\n",
       "$3Dmolpromise.then(function() {\n",
       "viewer_16861823219691362 = $3Dmol.createViewer(document.getElementById(\"3dmolviewer_16861823219691362\"),{backgroundColor:\"white\"});\n",
       "viewer_16861823219691362.zoomTo();\n",
       "\tviewer_16861823219691362.addModel(\"# Produced with molli package\\n@<TRIPOS>MOLECULE\\n1\\n30 32 0 0 0\\nSMALL\\nUSER_CHARGES\\n\\n@<TRIPOS>ATOM\\n     1 C       2.653877    -0.900810     0.000000 C          1 UNL1 0.0\\n     2 C       3.535127     0.312731     0.000000 C          1 UNL1 0.0\\n     3 O       2.653877     1.526273     0.000000 O          1 UNL1 0.0\\n     4 C       1.226794     1.062732     0.000000 C          1 UNL1 0.0\\n     5 N       1.226794    -0.437269     0.000000 N          1 UNL1 0.0\\n     6 C      -0.072164     1.812732     0.000000 C          1 UNL1 0.0\\n     7 C      -1.371123     1.062732     0.000000 C          1 UNL1 0.0\\n     8 O      -2.798206     1.526273     0.000000 O          1 UNL1 0.0\\n     9 C      -3.679456     0.312731     0.000000 C          1 UNL1 0.0\\n    10 C      -2.798206    -0.900810     0.000000 C          1 UNL1 0.0\\n    11 N      -1.371123    -0.437269     0.000000 N          1 UNL1 0.0\\n    12 A1     -3.029977    -1.614352    -1.299453 Unknown    1 UNL1 0.0\\n    13 A1      2.885648    -1.614352     1.299453 Unknown    1 UNL1 0.0\\n    14 C      -0.072164    -1.187268     0.000000 C          1 UNL1 0.0\\n    15 Br     -0.072164    -1.187268     1.499931 Br         1 UNL1 0.0\\n    16 Br      0.677836    -2.486227     0.000000 Br         1 UNL1 0.0\\n    17 C      -0.072164     1.812732     1.500000 C          1 UNL1 0.0\\n    18 C       1.226794     2.562732     0.000000 C          1 UNL1 0.0\\n    19 H       2.859825    -1.534673    -0.837080 H          1 UNL1 0.0\\n    20 H       4.148880     0.312731     0.876544 H          1 UNL1 0.0\\n    21 H       4.148880     0.312731    -0.876544 H          1 UNL1 0.0\\n    22 H      -4.293208     0.312731     0.876544 H          1 UNL1 0.0\\n    23 H      -4.293208     0.312731    -0.876544 H          1 UNL1 0.0\\n    24 H      -3.004154    -1.534673     0.837080 H          1 UNL1 0.0\\n    25 H      -1.053436     1.578647     1.856667 H          1 UNL1 0.0\\n    26 H       0.215749     2.779579     1.856667 H          1 UNL1 0.0\\n    27 H       0.621194     1.079967     1.856667 H          1 UNL1 0.0\\n    28 H       1.787896     2.304234     0.873638 H          1 UNL1 0.0\\n    29 H       1.031246     3.614711     0.000027 H          1 UNL1 0.0\\n    30 H       1.787873     2.304274    -0.873665 H          1 UNL1 0.0\\n@<TRIPOS>BOND\\n     1      1      2          1\\n     2      2      3          1\\n     3      3      4          1\\n     4      4      5          2\\n     5      5      1          1\\n     6      4      6          1\\n     7      6      7          1\\n     8      7      8          1\\n     9      8      9          1\\n    10      9     10          1\\n    11     10     11          1\\n    12     11      7          2\\n    13     10     12          1\\n    14      1     13          1\\n    15     11     14          1\\n    16     14      5          1\\n    17     14     15          1\\n    18     14     16          1\\n    19      6     17          1\\n    20      6     18          1\\n    21      1     19          1\\n    22      2     20          1\\n    23      2     21          1\\n    24      9     22          1\\n    25      9     23          1\\n    26     10     24          1\\n    27     17     25          1\\n    28     17     26          1\\n    29     17     27          1\\n    30     18     28          1\\n    31     18     29          1\\n    32     18     30          1\\n\",\"mol2\");\n",
       "\tviewer_16861823219691362.setStyle({\"stick\": {\"radius\": 0.1}, \"sphere\": {\"scale\": 0.15}});\n",
       "\tviewer_16861823219691362.setHoverable({},true,\"\\n            function(atom,viewer,event,container) {\\n                if(!atom.label) {\\n                    atom.label = viewer.addLabel(atom.elem + atom.serial, {position: atom, backgroundColor: 'mintcream', fontColor:'black'});\\n                }\\n            }\\n            \",\"\\n            function(atom,viewer) { \\n                if(atom.label) {\\n                    viewer.removeLabel(atom.label);\\n                    delete atom.label;\\n                }\\n            }\\n            \");\n",
       "\tviewer_16861823219691362.zoomTo();\n",
       "\tviewer_16861823219691362.setBackgroundColor(null);\n",
       "viewer_16861823219691362.render();\n",
       "});\n",
       "</script>"
      ]
     },
     "metadata": {},
     "output_type": "display_data"
    },
    {
     "data": {
      "text/plain": [
       "Molecule(name='1', formula='C10 H12 Br2 N2 O2 Unknown2')"
      ]
     },
     "execution_count": 115,
     "metadata": {},
     "output_type": "execute_result"
    }
   ],
   "source": [
    "m_core = ml.MoleculeLibrary('../../parsed_box/BOX_cores.mlib')\n",
    "print(len(m_core))\n",
    "m_core[0]"
   ]
  },
  {
   "cell_type": "code",
   "execution_count": 116,
   "metadata": {},
   "outputs": [
    {
     "name": "stdout",
     "output_type": "stream",
     "text": [
      "15\n"
     ]
    },
    {
     "data": {
      "application/3dmoljs_load.v0": "<div id=\"3dmolviewer_16861823253085587\"  style=\"position: relative; width: 1000px; height: 500px;\">\n        <p id=\"3dmolwarning_16861823253085587\" style=\"background-color:#ffcccc;color:black\">You appear to be running in JupyterLab (or JavaScript failed to load for some other reason).  You need to install the 3dmol extension: <br>\n        <tt>jupyter labextension install jupyterlab_3dmol</tt></p>\n        </div>\n<script>\n\nvar loadScriptAsync = function(uri){\n  return new Promise((resolve, reject) => {\n    //this is to ignore the existence of requirejs amd\n    var savedexports, savedmodule;\n    if (typeof exports !== 'undefined') savedexports = exports;\n    else exports = {}\n    if (typeof module !== 'undefined') savedmodule = module;\n    else module = {}\n\n    var tag = document.createElement('script');\n    tag.src = uri;\n    tag.async = true;\n    tag.onload = () => {\n        exports = savedexports;\n        module = savedmodule;\n        resolve();\n    };\n  var firstScriptTag = document.getElementsByTagName('script')[0];\n  firstScriptTag.parentNode.insertBefore(tag, firstScriptTag);\n});\n};\n\nif(typeof $3Dmolpromise === 'undefined') {\n$3Dmolpromise = null;\n  $3Dmolpromise = loadScriptAsync('https://cdnjs.cloudflare.com/ajax/libs/3Dmol/2.0.3/3Dmol-min.js');\n}\n\nvar viewer_16861823253085587 = null;\nvar warn = document.getElementById(\"3dmolwarning_16861823253085587\");\nif(warn) {\n    warn.parentNode.removeChild(warn);\n}\n$3Dmolpromise.then(function() {\nviewer_16861823253085587 = $3Dmol.createViewer(document.getElementById(\"3dmolviewer_16861823253085587\"),{backgroundColor:\"white\"});\nviewer_16861823253085587.zoomTo();\n\tviewer_16861823253085587.addModel(\"# Produced with molli package\\n@<TRIPOS>MOLECULE\\n3\\n11 10 0 0 0\\nSMALL\\nUSER_CHARGES\\n\\n@<TRIPOS>ATOM\\n     1 C       0.000000     0.000000     0.000000 C          1 UNL1 0.0\\n     2 AP1    -1.298958    -0.750000     0.000000 Unknown    1 UNL1 0.0\\n     3 C       1.299018    -0.750035     0.000000 C          1 UNL1 0.0\\n     4 C       0.000000     1.500000     0.000000 C          1 UNL1 0.0\\n     5 H       0.000000     0.000000    -1.070000 H          1 UNL1 0.0\\n     6 H       1.860120    -0.491537     0.873638 H          1 UNL1 0.0\\n     7 H       1.860097    -0.491577    -0.873665 H          1 UNL1 0.0\\n     8 H       1.103470    -1.802014     0.000027 H          1 UNL1 0.0\\n     9 H       1.008806     1.856667     0.000000 H          1 UNL1 0.0\\n    10 H      -0.504403     1.856667     0.873651 H          1 UNL1 0.0\\n    11 H      -0.504403     1.856667    -0.873651 H          1 UNL1 0.0\\n@<TRIPOS>BOND\\n     1      2      1          1\\n     2      1      3          1\\n     3      1      4          1\\n     4      1      5          1\\n     5      3      6          1\\n     6      3      7          1\\n     7      3      8          1\\n     8      4      9          1\\n     9      4     10          1\\n    10      4     11          1\\n\",\"mol2\");\n\tviewer_16861823253085587.setStyle({\"stick\": {\"radius\": 0.1}, \"sphere\": {\"scale\": 0.15}});\n\tviewer_16861823253085587.setHoverable({},true,\"\\n            function(atom,viewer,event,container) {\\n                if(!atom.label) {\\n                    atom.label = viewer.addLabel(atom.elem + atom.serial, {position: atom, backgroundColor: 'mintcream', fontColor:'black'});\\n                }\\n            }\\n            \",\"\\n            function(atom,viewer) { \\n                if(atom.label) {\\n                    viewer.removeLabel(atom.label);\\n                    delete atom.label;\\n                }\\n            }\\n            \");\n\tviewer_16861823253085587.zoomTo();\n\tviewer_16861823253085587.setBackgroundColor(null);\nviewer_16861823253085587.render();\n});\n</script>",
      "text/html": [
       "<div id=\"3dmolviewer_16861823253085587\"  style=\"position: relative; width: 1000px; height: 500px;\">\n",
       "        <p id=\"3dmolwarning_16861823253085587\" style=\"background-color:#ffcccc;color:black\">You appear to be running in JupyterLab (or JavaScript failed to load for some other reason).  You need to install the 3dmol extension: <br>\n",
       "        <tt>jupyter labextension install jupyterlab_3dmol</tt></p>\n",
       "        </div>\n",
       "<script>\n",
       "\n",
       "var loadScriptAsync = function(uri){\n",
       "  return new Promise((resolve, reject) => {\n",
       "    //this is to ignore the existence of requirejs amd\n",
       "    var savedexports, savedmodule;\n",
       "    if (typeof exports !== 'undefined') savedexports = exports;\n",
       "    else exports = {}\n",
       "    if (typeof module !== 'undefined') savedmodule = module;\n",
       "    else module = {}\n",
       "\n",
       "    var tag = document.createElement('script');\n",
       "    tag.src = uri;\n",
       "    tag.async = true;\n",
       "    tag.onload = () => {\n",
       "        exports = savedexports;\n",
       "        module = savedmodule;\n",
       "        resolve();\n",
       "    };\n",
       "  var firstScriptTag = document.getElementsByTagName('script')[0];\n",
       "  firstScriptTag.parentNode.insertBefore(tag, firstScriptTag);\n",
       "});\n",
       "};\n",
       "\n",
       "if(typeof $3Dmolpromise === 'undefined') {\n",
       "$3Dmolpromise = null;\n",
       "  $3Dmolpromise = loadScriptAsync('https://cdnjs.cloudflare.com/ajax/libs/3Dmol/2.0.3/3Dmol-min.js');\n",
       "}\n",
       "\n",
       "var viewer_16861823253085587 = null;\n",
       "var warn = document.getElementById(\"3dmolwarning_16861823253085587\");\n",
       "if(warn) {\n",
       "    warn.parentNode.removeChild(warn);\n",
       "}\n",
       "$3Dmolpromise.then(function() {\n",
       "viewer_16861823253085587 = $3Dmol.createViewer(document.getElementById(\"3dmolviewer_16861823253085587\"),{backgroundColor:\"white\"});\n",
       "viewer_16861823253085587.zoomTo();\n",
       "\tviewer_16861823253085587.addModel(\"# Produced with molli package\\n@<TRIPOS>MOLECULE\\n3\\n11 10 0 0 0\\nSMALL\\nUSER_CHARGES\\n\\n@<TRIPOS>ATOM\\n     1 C       0.000000     0.000000     0.000000 C          1 UNL1 0.0\\n     2 AP1    -1.298958    -0.750000     0.000000 Unknown    1 UNL1 0.0\\n     3 C       1.299018    -0.750035     0.000000 C          1 UNL1 0.0\\n     4 C       0.000000     1.500000     0.000000 C          1 UNL1 0.0\\n     5 H       0.000000     0.000000    -1.070000 H          1 UNL1 0.0\\n     6 H       1.860120    -0.491537     0.873638 H          1 UNL1 0.0\\n     7 H       1.860097    -0.491577    -0.873665 H          1 UNL1 0.0\\n     8 H       1.103470    -1.802014     0.000027 H          1 UNL1 0.0\\n     9 H       1.008806     1.856667     0.000000 H          1 UNL1 0.0\\n    10 H      -0.504403     1.856667     0.873651 H          1 UNL1 0.0\\n    11 H      -0.504403     1.856667    -0.873651 H          1 UNL1 0.0\\n@<TRIPOS>BOND\\n     1      2      1          1\\n     2      1      3          1\\n     3      1      4          1\\n     4      1      5          1\\n     5      3      6          1\\n     6      3      7          1\\n     7      3      8          1\\n     8      4      9          1\\n     9      4     10          1\\n    10      4     11          1\\n\",\"mol2\");\n",
       "\tviewer_16861823253085587.setStyle({\"stick\": {\"radius\": 0.1}, \"sphere\": {\"scale\": 0.15}});\n",
       "\tviewer_16861823253085587.setHoverable({},true,\"\\n            function(atom,viewer,event,container) {\\n                if(!atom.label) {\\n                    atom.label = viewer.addLabel(atom.elem + atom.serial, {position: atom, backgroundColor: 'mintcream', fontColor:'black'});\\n                }\\n            }\\n            \",\"\\n            function(atom,viewer) { \\n                if(atom.label) {\\n                    viewer.removeLabel(atom.label);\\n                    delete atom.label;\\n                }\\n            }\\n            \");\n",
       "\tviewer_16861823253085587.zoomTo();\n",
       "\tviewer_16861823253085587.setBackgroundColor(null);\n",
       "viewer_16861823253085587.render();\n",
       "});\n",
       "</script>"
      ]
     },
     "metadata": {},
     "output_type": "display_data"
    },
    {
     "data": {
      "text/plain": [
       "Molecule(name='3', formula='C3 H7 Unknown1')"
      ]
     },
     "execution_count": 116,
     "metadata": {},
     "output_type": "execute_result"
    }
   ],
   "source": [
    "m_subs = ml.MoleculeLibrary('../../parsed_box/BOX_subs.mlib')\n",
    "print(len(m_subs))\n",
    "m_subs[0]"
   ]
  },
  {
   "attachments": {},
   "cell_type": "markdown",
   "metadata": {},
   "source": [
    "2. Combinatorial Expansion"
   ]
  },
  {
   "cell_type": "code",
   "execution_count": 84,
   "metadata": {},
   "outputs": [
    {
     "name": "stdout",
     "output_type": "stream",
     "text": [
      "Will create a library of size 75\n"
     ]
    },
    {
     "name": "stderr",
     "output_type": "stream",
     "text": [
      "100%|██████████| 75/75 [00:02<00:00, 33.37it/s]\n"
     ]
    },
    {
     "data": {
      "text/plain": [
       "CompletedProcess(args=['molli', 'combine', '../../parsed_box/BOX_cores.mlib', '-s', '../../parsed_box/BOX_subs.mlib', '-j', '96', '-o', '../../in_combinatorial/test_combine.mlib', '-a', 'A1', '--obopt', 'uff', '-m', 'same'], returncode=0)"
      ]
     },
     "execution_count": 84,
     "metadata": {},
     "output_type": "execute_result"
    }
   ],
   "source": [
    "subprocess.run(\n",
    "    [\n",
    "        'molli',\n",
    "        'combine',\n",
    "        '../../parsed_box/BOX_cores.mlib',\n",
    "        '-s',\n",
    "        '../../parsed_box/BOX_subs.mlib',\n",
    "        '-j',\n",
    "        '96', \n",
    "        '-o', \n",
    "        '../../in_combinatorial/test_combine.mlib', \n",
    "        '-a', \n",
    "        'A1', \n",
    "        '--obopt', \n",
    "        'uff',\n",
    "        '-m',\n",
    "        'same'\n",
    "    ]\n",
    ")\n"
   ]
  },
  {
   "cell_type": "code",
   "execution_count": 117,
   "metadata": {},
   "outputs": [
    {
     "name": "stdout",
     "output_type": "stream",
     "text": [
      "75\n"
     ]
    },
    {
     "data": {
      "application/3dmoljs_load.v0": "<div id=\"3dmolviewer_168618234250086\"  style=\"position: relative; width: 1000px; height: 500px;\">\n        <p id=\"3dmolwarning_168618234250086\" style=\"background-color:#ffcccc;color:black\">You appear to be running in JupyterLab (or JavaScript failed to load for some other reason).  You need to install the 3dmol extension: <br>\n        <tt>jupyter labextension install jupyterlab_3dmol</tt></p>\n        </div>\n<script>\n\nvar loadScriptAsync = function(uri){\n  return new Promise((resolve, reject) => {\n    //this is to ignore the existence of requirejs amd\n    var savedexports, savedmodule;\n    if (typeof exports !== 'undefined') savedexports = exports;\n    else exports = {}\n    if (typeof module !== 'undefined') savedmodule = module;\n    else module = {}\n\n    var tag = document.createElement('script');\n    tag.src = uri;\n    tag.async = true;\n    tag.onload = () => {\n        exports = savedexports;\n        module = savedmodule;\n        resolve();\n    };\n  var firstScriptTag = document.getElementsByTagName('script')[0];\n  firstScriptTag.parentNode.insertBefore(tag, firstScriptTag);\n});\n};\n\nif(typeof $3Dmolpromise === 'undefined') {\n$3Dmolpromise = null;\n  $3Dmolpromise = loadScriptAsync('https://cdnjs.cloudflare.com/ajax/libs/3Dmol/2.0.3/3Dmol-min.js');\n}\n\nvar viewer_168618234250086 = null;\nvar warn = document.getElementById(\"3dmolwarning_168618234250086\");\nif(warn) {\n    warn.parentNode.removeChild(warn);\n}\n$3Dmolpromise.then(function() {\nviewer_168618234250086 = $3Dmol.createViewer(document.getElementById(\"3dmolviewer_168618234250086\"),{backgroundColor:\"white\"});\nviewer_168618234250086.zoomTo();\n\tviewer_168618234250086.addModel(\"# Produced with molli package\\n@<TRIPOS>MOLECULE\\n1_3_3\\n48 50 0 0 0\\nSMALL\\nUSER_CHARGES\\n\\n@<TRIPOS>ATOM\\n     1 C       0.051126     0.020661     0.209329 C          1 UNL1 0.0\\n     2 C       0.861324     1.334388     0.308436 C          1 UNL1 0.0\\n     3 O      -0.090518     2.306685     0.416266 O          1 UNL1 0.0\\n     4 C      -1.320334     1.773285     0.375784 C          1 UNL1 0.0\\n     5 N      -1.346943     0.491332     0.285172 N          1 UNL1 0.0\\n     6 C      -2.527519     2.656781     0.389233 C          1 UNL1 0.0\\n     7 C      -3.775215     1.847240     0.224142 C          1 UNL1 0.0\\n     8 O      -4.978181     2.437994     0.283487 O          1 UNL1 0.0\\n     9 C      -5.975937     1.514502     0.163726 C          1 UNL1 0.0\\n    10 C      -5.229724     0.164993     0.057816 C          1 UNL1 0.0\\n    11 N      -3.810141     0.571973     0.062767 N          1 UNL1 0.0\\n    12 C      -2.598829    -0.289961     0.100075 C          1 UNL1 0.0\\n    13 Br     -2.927318    -1.535579     1.559765 Br         1 UNL1 0.0\\n    14 Br     -2.326110    -1.265420    -1.562568 Br         1 UNL1 0.0\\n    15 C      -2.573603     3.401356     1.735038 C          1 UNL1 0.0\\n    16 C      -2.439262     3.664042    -0.770535 C          1 UNL1 0.0\\n    17 H       0.242005    -0.389688    -0.806606 H          1 UNL1 0.0\\n    18 H       1.523821     1.395058     1.196155 H          1 UNL1 0.0\\n    19 H       1.472934     1.501515    -0.604859 H          1 UNL1 0.0\\n    20 H      -6.643593     1.538775     1.052152 H          1 UNL1 0.0\\n    21 H      -6.569908     1.777180    -0.734712 H          1 UNL1 0.0\\n    22 H      -5.437691    -0.381381     1.004129 H          1 UNL1 0.0\\n    23 H      -3.454350     4.077518     1.783586 H          1 UNL1 0.0\\n    24 H      -1.659120     4.017397     1.876879 H          1 UNL1 0.0\\n    25 H      -2.641472     2.677128     2.576618 H          1 UNL1 0.0\\n    26 H      -1.527604     4.293357    -0.679044 H          1 UNL1 0.0\\n    27 H      -3.322444     4.339243    -0.774177 H          1 UNL1 0.0\\n    28 H      -2.401031     3.131201    -1.745961 H          1 UNL1 0.0\\n    29 C      -5.825708    -0.671897    -1.124026 C          1 UNL1 0.0\\n    30 C      -5.572167    -2.183411    -1.002696 C          1 UNL1 0.0\\n    31 C      -5.491762    -0.118987    -2.522808 C          1 UNL1 0.0\\n    32 H      -6.933087    -0.604466    -1.018753 H          1 UNL1 0.0\\n    33 H      -4.523193    -2.481841    -1.066642 H          1 UNL1 0.0\\n    34 H      -6.122617    -2.720874    -1.804539 H          1 UNL1 0.0\\n    35 H      -5.958759    -2.549074    -0.027641 H          1 UNL1 0.0\\n    36 H      -6.018778    -0.713599    -3.298791 H          1 UNL1 0.0\\n    37 H      -4.414721    -0.145243    -2.743968 H          1 UNL1 0.0\\n    38 H      -5.822377     0.932411    -2.633223 H          1 UNL1 0.0\\n    39 C       0.596919    -1.003338     1.260742 C          1 UNL1 0.0\\n    40 C       0.290991    -2.471019     0.920877 C          1 UNL1 0.0\\n    41 C       0.260714    -0.638554     2.718984 C          1 UNL1 0.0\\n    42 H       1.707710    -0.968175     1.177596 H          1 UNL1 0.0\\n    43 H      -0.767653    -2.737648     0.925454 H          1 UNL1 0.0\\n    44 H       0.806821    -3.137381     1.645340 H          1 UNL1 0.0\\n    45 H       0.683086    -2.707999    -0.090985 H          1 UNL1 0.0\\n    46 H       0.752815    -1.353878     3.411243 H          1 UNL1 0.0\\n    47 H      -0.821106    -0.653581     2.920223 H          1 UNL1 0.0\\n    48 H       0.627227     0.375834     2.974059 H          1 UNL1 0.0\\n@<TRIPOS>BOND\\n     1      1      2          1\\n     2      2      3          1\\n     3      3      4          1\\n     4      4      5          2\\n     5      5      1          1\\n     6      4      6          1\\n     7      6      7          1\\n     8      7      8          1\\n     9      8      9          1\\n    10      9     10          1\\n    11     10     11          1\\n    12     11      7          2\\n    13     11     12          1\\n    14     12      5          1\\n    15     12     13          1\\n    16     12     14          1\\n    17      6     15          1\\n    18      6     16          1\\n    19      1     17          1\\n    20      2     18          1\\n    21      2     19          1\\n    22      9     20          1\\n    23      9     21          1\\n    24     10     22          1\\n    25     15     23          1\\n    26     15     24          1\\n    27     15     25          1\\n    28     16     26          1\\n    29     16     27          1\\n    30     16     28          1\\n    31     29     30          1\\n    32     29     31          1\\n    33     29     32          1\\n    34     30     33          1\\n    35     30     34          1\\n    36     30     35          1\\n    37     31     36          1\\n    38     31     37          1\\n    39     31     38          1\\n    40     10     29          1\\n    41     39     40          1\\n    42     39     41          1\\n    43     39     42          1\\n    44     40     43          1\\n    45     40     44          1\\n    46     40     45          1\\n    47     41     46          1\\n    48     41     47          1\\n    49     41     48          1\\n    50      1     39          1\\n\",\"mol2\");\n\tviewer_168618234250086.setStyle({\"stick\": {\"radius\": 0.1}, \"sphere\": {\"scale\": 0.15}});\n\tviewer_168618234250086.setHoverable({},true,\"\\n            function(atom,viewer,event,container) {\\n                if(!atom.label) {\\n                    atom.label = viewer.addLabel(atom.elem + atom.serial, {position: atom, backgroundColor: 'mintcream', fontColor:'black'});\\n                }\\n            }\\n            \",\"\\n            function(atom,viewer) { \\n                if(atom.label) {\\n                    viewer.removeLabel(atom.label);\\n                    delete atom.label;\\n                }\\n            }\\n            \");\n\tviewer_168618234250086.zoomTo();\n\tviewer_168618234250086.setBackgroundColor(null);\nviewer_168618234250086.render();\n});\n</script>",
      "text/html": [
       "<div id=\"3dmolviewer_168618234250086\"  style=\"position: relative; width: 1000px; height: 500px;\">\n",
       "        <p id=\"3dmolwarning_168618234250086\" style=\"background-color:#ffcccc;color:black\">You appear to be running in JupyterLab (or JavaScript failed to load for some other reason).  You need to install the 3dmol extension: <br>\n",
       "        <tt>jupyter labextension install jupyterlab_3dmol</tt></p>\n",
       "        </div>\n",
       "<script>\n",
       "\n",
       "var loadScriptAsync = function(uri){\n",
       "  return new Promise((resolve, reject) => {\n",
       "    //this is to ignore the existence of requirejs amd\n",
       "    var savedexports, savedmodule;\n",
       "    if (typeof exports !== 'undefined') savedexports = exports;\n",
       "    else exports = {}\n",
       "    if (typeof module !== 'undefined') savedmodule = module;\n",
       "    else module = {}\n",
       "\n",
       "    var tag = document.createElement('script');\n",
       "    tag.src = uri;\n",
       "    tag.async = true;\n",
       "    tag.onload = () => {\n",
       "        exports = savedexports;\n",
       "        module = savedmodule;\n",
       "        resolve();\n",
       "    };\n",
       "  var firstScriptTag = document.getElementsByTagName('script')[0];\n",
       "  firstScriptTag.parentNode.insertBefore(tag, firstScriptTag);\n",
       "});\n",
       "};\n",
       "\n",
       "if(typeof $3Dmolpromise === 'undefined') {\n",
       "$3Dmolpromise = null;\n",
       "  $3Dmolpromise = loadScriptAsync('https://cdnjs.cloudflare.com/ajax/libs/3Dmol/2.0.3/3Dmol-min.js');\n",
       "}\n",
       "\n",
       "var viewer_168618234250086 = null;\n",
       "var warn = document.getElementById(\"3dmolwarning_168618234250086\");\n",
       "if(warn) {\n",
       "    warn.parentNode.removeChild(warn);\n",
       "}\n",
       "$3Dmolpromise.then(function() {\n",
       "viewer_168618234250086 = $3Dmol.createViewer(document.getElementById(\"3dmolviewer_168618234250086\"),{backgroundColor:\"white\"});\n",
       "viewer_168618234250086.zoomTo();\n",
       "\tviewer_168618234250086.addModel(\"# Produced with molli package\\n@<TRIPOS>MOLECULE\\n1_3_3\\n48 50 0 0 0\\nSMALL\\nUSER_CHARGES\\n\\n@<TRIPOS>ATOM\\n     1 C       0.051126     0.020661     0.209329 C          1 UNL1 0.0\\n     2 C       0.861324     1.334388     0.308436 C          1 UNL1 0.0\\n     3 O      -0.090518     2.306685     0.416266 O          1 UNL1 0.0\\n     4 C      -1.320334     1.773285     0.375784 C          1 UNL1 0.0\\n     5 N      -1.346943     0.491332     0.285172 N          1 UNL1 0.0\\n     6 C      -2.527519     2.656781     0.389233 C          1 UNL1 0.0\\n     7 C      -3.775215     1.847240     0.224142 C          1 UNL1 0.0\\n     8 O      -4.978181     2.437994     0.283487 O          1 UNL1 0.0\\n     9 C      -5.975937     1.514502     0.163726 C          1 UNL1 0.0\\n    10 C      -5.229724     0.164993     0.057816 C          1 UNL1 0.0\\n    11 N      -3.810141     0.571973     0.062767 N          1 UNL1 0.0\\n    12 C      -2.598829    -0.289961     0.100075 C          1 UNL1 0.0\\n    13 Br     -2.927318    -1.535579     1.559765 Br         1 UNL1 0.0\\n    14 Br     -2.326110    -1.265420    -1.562568 Br         1 UNL1 0.0\\n    15 C      -2.573603     3.401356     1.735038 C          1 UNL1 0.0\\n    16 C      -2.439262     3.664042    -0.770535 C          1 UNL1 0.0\\n    17 H       0.242005    -0.389688    -0.806606 H          1 UNL1 0.0\\n    18 H       1.523821     1.395058     1.196155 H          1 UNL1 0.0\\n    19 H       1.472934     1.501515    -0.604859 H          1 UNL1 0.0\\n    20 H      -6.643593     1.538775     1.052152 H          1 UNL1 0.0\\n    21 H      -6.569908     1.777180    -0.734712 H          1 UNL1 0.0\\n    22 H      -5.437691    -0.381381     1.004129 H          1 UNL1 0.0\\n    23 H      -3.454350     4.077518     1.783586 H          1 UNL1 0.0\\n    24 H      -1.659120     4.017397     1.876879 H          1 UNL1 0.0\\n    25 H      -2.641472     2.677128     2.576618 H          1 UNL1 0.0\\n    26 H      -1.527604     4.293357    -0.679044 H          1 UNL1 0.0\\n    27 H      -3.322444     4.339243    -0.774177 H          1 UNL1 0.0\\n    28 H      -2.401031     3.131201    -1.745961 H          1 UNL1 0.0\\n    29 C      -5.825708    -0.671897    -1.124026 C          1 UNL1 0.0\\n    30 C      -5.572167    -2.183411    -1.002696 C          1 UNL1 0.0\\n    31 C      -5.491762    -0.118987    -2.522808 C          1 UNL1 0.0\\n    32 H      -6.933087    -0.604466    -1.018753 H          1 UNL1 0.0\\n    33 H      -4.523193    -2.481841    -1.066642 H          1 UNL1 0.0\\n    34 H      -6.122617    -2.720874    -1.804539 H          1 UNL1 0.0\\n    35 H      -5.958759    -2.549074    -0.027641 H          1 UNL1 0.0\\n    36 H      -6.018778    -0.713599    -3.298791 H          1 UNL1 0.0\\n    37 H      -4.414721    -0.145243    -2.743968 H          1 UNL1 0.0\\n    38 H      -5.822377     0.932411    -2.633223 H          1 UNL1 0.0\\n    39 C       0.596919    -1.003338     1.260742 C          1 UNL1 0.0\\n    40 C       0.290991    -2.471019     0.920877 C          1 UNL1 0.0\\n    41 C       0.260714    -0.638554     2.718984 C          1 UNL1 0.0\\n    42 H       1.707710    -0.968175     1.177596 H          1 UNL1 0.0\\n    43 H      -0.767653    -2.737648     0.925454 H          1 UNL1 0.0\\n    44 H       0.806821    -3.137381     1.645340 H          1 UNL1 0.0\\n    45 H       0.683086    -2.707999    -0.090985 H          1 UNL1 0.0\\n    46 H       0.752815    -1.353878     3.411243 H          1 UNL1 0.0\\n    47 H      -0.821106    -0.653581     2.920223 H          1 UNL1 0.0\\n    48 H       0.627227     0.375834     2.974059 H          1 UNL1 0.0\\n@<TRIPOS>BOND\\n     1      1      2          1\\n     2      2      3          1\\n     3      3      4          1\\n     4      4      5          2\\n     5      5      1          1\\n     6      4      6          1\\n     7      6      7          1\\n     8      7      8          1\\n     9      8      9          1\\n    10      9     10          1\\n    11     10     11          1\\n    12     11      7          2\\n    13     11     12          1\\n    14     12      5          1\\n    15     12     13          1\\n    16     12     14          1\\n    17      6     15          1\\n    18      6     16          1\\n    19      1     17          1\\n    20      2     18          1\\n    21      2     19          1\\n    22      9     20          1\\n    23      9     21          1\\n    24     10     22          1\\n    25     15     23          1\\n    26     15     24          1\\n    27     15     25          1\\n    28     16     26          1\\n    29     16     27          1\\n    30     16     28          1\\n    31     29     30          1\\n    32     29     31          1\\n    33     29     32          1\\n    34     30     33          1\\n    35     30     34          1\\n    36     30     35          1\\n    37     31     36          1\\n    38     31     37          1\\n    39     31     38          1\\n    40     10     29          1\\n    41     39     40          1\\n    42     39     41          1\\n    43     39     42          1\\n    44     40     43          1\\n    45     40     44          1\\n    46     40     45          1\\n    47     41     46          1\\n    48     41     47          1\\n    49     41     48          1\\n    50      1     39          1\\n\",\"mol2\");\n",
       "\tviewer_168618234250086.setStyle({\"stick\": {\"radius\": 0.1}, \"sphere\": {\"scale\": 0.15}});\n",
       "\tviewer_168618234250086.setHoverable({},true,\"\\n            function(atom,viewer,event,container) {\\n                if(!atom.label) {\\n                    atom.label = viewer.addLabel(atom.elem + atom.serial, {position: atom, backgroundColor: 'mintcream', fontColor:'black'});\\n                }\\n            }\\n            \",\"\\n            function(atom,viewer) { \\n                if(atom.label) {\\n                    viewer.removeLabel(atom.label);\\n                    delete atom.label;\\n                }\\n            }\\n            \");\n",
       "\tviewer_168618234250086.zoomTo();\n",
       "\tviewer_168618234250086.setBackgroundColor(null);\n",
       "viewer_168618234250086.render();\n",
       "});\n",
       "</script>"
      ]
     },
     "metadata": {},
     "output_type": "display_data"
    },
    {
     "data": {
      "text/plain": [
       "Molecule(name='1_3_3', formula='C16 H26 Br2 N2 O2')"
      ]
     },
     "execution_count": 117,
     "metadata": {},
     "output_type": "execute_result"
    }
   ],
   "source": [
    "combined = ml.MoleculeLibrary('../../in_combinatorial/test_combine.mlib')\n",
    "print(len(combined))\n",
    "combined[0]"
   ]
  },
  {
   "cell_type": "code",
   "execution_count": 118,
   "metadata": {},
   "outputs": [
    {
     "data": {
      "application/3dmoljs_load.v0": "<div id=\"3dmolviewer_16861823469395099\"  style=\"position: relative; width: 1000px; height: 500px;\">\n        <p id=\"3dmolwarning_16861823469395099\" style=\"background-color:#ffcccc;color:black\">You appear to be running in JupyterLab (or JavaScript failed to load for some other reason).  You need to install the 3dmol extension: <br>\n        <tt>jupyter labextension install jupyterlab_3dmol</tt></p>\n        </div>\n<script>\n\nvar loadScriptAsync = function(uri){\n  return new Promise((resolve, reject) => {\n    //this is to ignore the existence of requirejs amd\n    var savedexports, savedmodule;\n    if (typeof exports !== 'undefined') savedexports = exports;\n    else exports = {}\n    if (typeof module !== 'undefined') savedmodule = module;\n    else module = {}\n\n    var tag = document.createElement('script');\n    tag.src = uri;\n    tag.async = true;\n    tag.onload = () => {\n        exports = savedexports;\n        module = savedmodule;\n        resolve();\n    };\n  var firstScriptTag = document.getElementsByTagName('script')[0];\n  firstScriptTag.parentNode.insertBefore(tag, firstScriptTag);\n});\n};\n\nif(typeof $3Dmolpromise === 'undefined') {\n$3Dmolpromise = null;\n  $3Dmolpromise = loadScriptAsync('https://cdnjs.cloudflare.com/ajax/libs/3Dmol/2.0.3/3Dmol-min.js');\n}\n\nvar viewer_16861823469395099 = null;\nvar warn = document.getElementById(\"3dmolwarning_16861823469395099\");\nif(warn) {\n    warn.parentNode.removeChild(warn);\n}\n$3Dmolpromise.then(function() {\nviewer_16861823469395099 = $3Dmol.createViewer(document.getElementById(\"3dmolviewer_16861823469395099\"),{backgroundColor:\"white\"});\nviewer_16861823469395099.zoomTo();\n\tviewer_16861823469395099.addModel(\"# Produced with molli package\\n@<TRIPOS>MOLECULE\\n3_6_6\\n74 78 0 0 0\\nSMALL\\nUSER_CHARGES\\n\\n@<TRIPOS>ATOM\\n     1 C      -0.253414    -0.328852     0.437851 C          1 UNL1 0.0\\n     2 C       0.708906     0.914122     0.321299 C          1 UNL1 0.0\\n     3 O      -0.174003     1.958231     0.154569 O          1 UNL1 0.0\\n     4 C      -1.447720     1.549680     0.285353 C          1 UNL1 0.0\\n     5 N      -1.574407     0.291155     0.468888 N          1 UNL1 0.0\\n     6 C      -2.603408     2.509022     0.175580 C          1 UNL1 0.0\\n     7 C      -3.894404     1.746192     0.050105 C          1 UNL1 0.0\\n     8 O      -5.064349     2.380061    -0.131169 O          1 UNL1 0.0\\n     9 C      -6.103301     1.484772    -0.076211 C          1 UNL1 0.0\\n    10 C      -5.392433     0.082605    -0.062571 C          1 UNL1 0.0\\n    11 N      -3.996204     0.471920     0.141804 N          1 UNL1 0.0\\n    12 C      -2.872348    -0.415402     0.518714 C          1 UNL1 0.0\\n    13 Br     -3.234518    -0.996190     2.343981 Br         1 UNL1 0.0\\n    14 Br     -2.750510    -2.038982    -0.574866 Br         1 UNL1 0.0\\n    15 C      -2.644767     3.401921     1.426395 C          1 UNL1 0.0\\n    16 C      -2.429992     3.372923    -1.084767 C          1 UNL1 0.0\\n    17 C      -7.251017     1.927874    -1.041404 C          1 UNL1 0.0\\n    18 C      -6.792213     2.348552    -2.458172 C          1 UNL1 0.0\\n    19 C      -8.435718     0.949085    -1.068580 C          1 UNL1 0.0\\n    20 C       1.725354     1.373309     1.418371 C          1 UNL1 0.0\\n    21 C       2.875251     0.394294     1.668144 C          1 UNL1 0.0\\n    22 C       1.089592     1.834480     2.740931 C          1 UNL1 0.0\\n    23 H      -0.239508    -0.871149    -0.531334 H          1 UNL1 0.0\\n    24 H       1.296006     0.787764    -0.615879 H          1 UNL1 0.0\\n    25 H      -6.538152     1.589825     0.945450 H          1 UNL1 0.0\\n    26 H      -5.728938    -0.457630     0.834173 H          1 UNL1 0.0\\n    27 H      -2.775012     2.778660     2.339074 H          1 UNL1 0.0\\n    28 H      -3.492249     4.119320     1.373613 H          1 UNL1 0.0\\n    29 H      -1.701921     3.980462     1.531804 H          1 UNL1 0.0\\n    30 H      -1.489254     3.962662    -1.028977 H          1 UNL1 0.0\\n    31 H      -3.273222     4.091311    -1.185515 H          1 UNL1 0.0\\n    32 H      -2.397248     2.737733    -1.995901 H          1 UNL1 0.0\\n    33 H      -7.643137     2.873999    -0.603885 H          1 UNL1 0.0\\n    34 H      -6.021091     3.144456    -2.383086 H          1 UNL1 0.0\\n    35 H      -7.654224     2.777752    -3.011426 H          1 UNL1 0.0\\n    36 H      -6.377635     1.551641    -3.094357 H          1 UNL1 0.0\\n    37 H      -8.184299    -0.024947    -1.525134 H          1 UNL1 0.0\\n    38 H      -9.268864     1.385332    -1.659732 H          1 UNL1 0.0\\n    39 H      -8.801567     0.765841    -0.036830 H          1 UNL1 0.0\\n    40 H       2.207401     2.281014     0.986595 H          1 UNL1 0.0\\n    41 H       3.650980     0.880914     2.296963 H          1 UNL1 0.0\\n    42 H       3.351981     0.105440     0.706855 H          1 UNL1 0.0\\n    43 H       2.541318    -0.500428     2.215361 H          1 UNL1 0.0\\n    44 H       0.342786     2.634099     2.556160 H          1 UNL1 0.0\\n    45 H       1.875763     2.261503     3.400494 H          1 UNL1 0.0\\n    46 H       0.600055     1.015736     3.292207 H          1 UNL1 0.0\\n    47 C      -5.555718    -0.759628    -1.372671 C          1 UNL1 0.0\\n    48 C      -6.242527    -2.120260    -1.302914 C          1 UNL1 0.0\\n    49 C      -6.815610    -2.687243    -0.139714 C          1 UNL1 0.0\\n    50 C      -7.442695    -3.936777    -0.194324 C          1 UNL1 0.0\\n    51 C      -7.509590    -4.640908    -1.396172 C          1 UNL1 0.0\\n    52 C      -6.949764    -4.097740    -2.551296 C          1 UNL1 0.0\\n    53 C      -6.324139    -2.849246    -2.506008 C          1 UNL1 0.0\\n    54 H      -6.111366    -0.205769    -2.117805 H          1 UNL1 0.0\\n    55 H      -4.588304    -0.845695    -1.892961 H          1 UNL1 0.0\\n    56 H      -6.811264    -2.198733     0.817683 H          1 UNL1 0.0\\n    57 H      -7.882706    -4.359119     0.700159 H          1 UNL1 0.0\\n    58 H      -7.997833    -5.606319    -1.432463 H          1 UNL1 0.0\\n    59 H      -7.002913    -4.642909    -3.484920 H          1 UNL1 0.0\\n    60 H      -5.900220    -2.445946    -3.417879 H          1 UNL1 0.0\\n    61 C      -0.007701    -1.380857     1.549672 C          1 UNL1 0.0\\n    62 C       1.118633    -2.373981     1.334016 C          1 UNL1 0.0\\n    63 C       1.939723    -2.400482     0.186399 C          1 UNL1 0.0\\n    64 C       2.932448    -3.376773     0.052033 C          1 UNL1 0.0\\n    65 C       3.121399    -4.331281     1.053701 C          1 UNL1 0.0\\n    66 C       2.319185    -4.312191     2.194940 C          1 UNL1 0.0\\n    67 C       1.324085    -3.342534     2.333492 C          1 UNL1 0.0\\n    68 H       0.080652    -0.892180     2.532684 H          1 UNL1 0.0\\n    69 H      -0.890183    -2.040325     1.597412 H          1 UNL1 0.0\\n    70 H       1.823653    -1.684865    -0.613128 H          1 UNL1 0.0\\n    71 H       3.553962    -3.396237    -0.833638 H          1 UNL1 0.0\\n    72 H       3.887873    -5.087424     0.944974 H          1 UNL1 0.0\\n    73 H       2.463640    -5.052096     2.971682 H          1 UNL1 0.0\\n    74 H       0.705518    -3.347476     3.223273 H          1 UNL1 0.0\\n@<TRIPOS>BOND\\n     1      1      2          1\\n     2      2      3          1\\n     3      3      4          1\\n     4      4      5          2\\n     5      5      1          1\\n     6      4      6          1\\n     7      6      7          1\\n     8      7      8          1\\n     9      8      9          1\\n    10      9     10          1\\n    11     10     11          1\\n    12     11      7          2\\n    13     11     12          1\\n    14     12      5          1\\n    15     12     13          1\\n    16     12     14          1\\n    17      6     15          1\\n    18      6     16          1\\n    19     17     18          1\\n    20     17     19          1\\n    21      9     17          1\\n    22     20     21          1\\n    23     20     22          1\\n    24      2     20          1\\n    25      1     23          1\\n    26      2     24          1\\n    27      9     25          1\\n    28     10     26          1\\n    29     15     27          1\\n    30     15     28          1\\n    31     15     29          1\\n    32     16     30          1\\n    33     16     31          1\\n    34     16     32          1\\n    35     17     33          1\\n    36     18     34          1\\n    37     18     35          1\\n    38     18     36          1\\n    39     19     37          1\\n    40     19     38          1\\n    41     19     39          1\\n    42     20     40          1\\n    43     21     41          1\\n    44     21     42          1\\n    45     21     43          1\\n    46     22     44          1\\n    47     22     45          1\\n    48     22     46          1\\n    49     47     48          1\\n    50     48     49          2\\n    51     49     50          1\\n    52     50     51          2\\n    53     51     52          1\\n    54     52     53          2\\n    55     53     48          1\\n    56     47     54          1\\n    57     47     55          1\\n    58     49     56          1\\n    59     50     57          1\\n    60     51     58          1\\n    61     52     59          1\\n    62     53     60          1\\n    63     10     47          1\\n    64     61     62          1\\n    65     62     63          2\\n    66     63     64          1\\n    67     64     65          2\\n    68     65     66          1\\n    69     66     67          2\\n    70     67     62          1\\n    71     61     68          1\\n    72     61     69          1\\n    73     63     70          1\\n    74     64     71          1\\n    75     65     72          1\\n    76     66     73          1\\n    77     67     74          1\\n    78      1     61          1\\n\",\"mol2\");\n\tviewer_16861823469395099.setStyle({\"stick\": {\"radius\": 0.1}, \"sphere\": {\"scale\": 0.15}});\n\tviewer_16861823469395099.setHoverable({},true,\"\\n            function(atom,viewer,event,container) {\\n                if(!atom.label) {\\n                    atom.label = viewer.addLabel(atom.elem + atom.serial, {position: atom, backgroundColor: 'mintcream', fontColor:'black'});\\n                }\\n            }\\n            \",\"\\n            function(atom,viewer) { \\n                if(atom.label) {\\n                    viewer.removeLabel(atom.label);\\n                    delete atom.label;\\n                }\\n            }\\n            \");\n\tviewer_16861823469395099.zoomTo();\n\tviewer_16861823469395099.setBackgroundColor(null);\nviewer_16861823469395099.render();\n});\n</script>",
      "text/html": [
       "<div id=\"3dmolviewer_16861823469395099\"  style=\"position: relative; width: 1000px; height: 500px;\">\n",
       "        <p id=\"3dmolwarning_16861823469395099\" style=\"background-color:#ffcccc;color:black\">You appear to be running in JupyterLab (or JavaScript failed to load for some other reason).  You need to install the 3dmol extension: <br>\n",
       "        <tt>jupyter labextension install jupyterlab_3dmol</tt></p>\n",
       "        </div>\n",
       "<script>\n",
       "\n",
       "var loadScriptAsync = function(uri){\n",
       "  return new Promise((resolve, reject) => {\n",
       "    //this is to ignore the existence of requirejs amd\n",
       "    var savedexports, savedmodule;\n",
       "    if (typeof exports !== 'undefined') savedexports = exports;\n",
       "    else exports = {}\n",
       "    if (typeof module !== 'undefined') savedmodule = module;\n",
       "    else module = {}\n",
       "\n",
       "    var tag = document.createElement('script');\n",
       "    tag.src = uri;\n",
       "    tag.async = true;\n",
       "    tag.onload = () => {\n",
       "        exports = savedexports;\n",
       "        module = savedmodule;\n",
       "        resolve();\n",
       "    };\n",
       "  var firstScriptTag = document.getElementsByTagName('script')[0];\n",
       "  firstScriptTag.parentNode.insertBefore(tag, firstScriptTag);\n",
       "});\n",
       "};\n",
       "\n",
       "if(typeof $3Dmolpromise === 'undefined') {\n",
       "$3Dmolpromise = null;\n",
       "  $3Dmolpromise = loadScriptAsync('https://cdnjs.cloudflare.com/ajax/libs/3Dmol/2.0.3/3Dmol-min.js');\n",
       "}\n",
       "\n",
       "var viewer_16861823469395099 = null;\n",
       "var warn = document.getElementById(\"3dmolwarning_16861823469395099\");\n",
       "if(warn) {\n",
       "    warn.parentNode.removeChild(warn);\n",
       "}\n",
       "$3Dmolpromise.then(function() {\n",
       "viewer_16861823469395099 = $3Dmol.createViewer(document.getElementById(\"3dmolviewer_16861823469395099\"),{backgroundColor:\"white\"});\n",
       "viewer_16861823469395099.zoomTo();\n",
       "\tviewer_16861823469395099.addModel(\"# Produced with molli package\\n@<TRIPOS>MOLECULE\\n3_6_6\\n74 78 0 0 0\\nSMALL\\nUSER_CHARGES\\n\\n@<TRIPOS>ATOM\\n     1 C      -0.253414    -0.328852     0.437851 C          1 UNL1 0.0\\n     2 C       0.708906     0.914122     0.321299 C          1 UNL1 0.0\\n     3 O      -0.174003     1.958231     0.154569 O          1 UNL1 0.0\\n     4 C      -1.447720     1.549680     0.285353 C          1 UNL1 0.0\\n     5 N      -1.574407     0.291155     0.468888 N          1 UNL1 0.0\\n     6 C      -2.603408     2.509022     0.175580 C          1 UNL1 0.0\\n     7 C      -3.894404     1.746192     0.050105 C          1 UNL1 0.0\\n     8 O      -5.064349     2.380061    -0.131169 O          1 UNL1 0.0\\n     9 C      -6.103301     1.484772    -0.076211 C          1 UNL1 0.0\\n    10 C      -5.392433     0.082605    -0.062571 C          1 UNL1 0.0\\n    11 N      -3.996204     0.471920     0.141804 N          1 UNL1 0.0\\n    12 C      -2.872348    -0.415402     0.518714 C          1 UNL1 0.0\\n    13 Br     -3.234518    -0.996190     2.343981 Br         1 UNL1 0.0\\n    14 Br     -2.750510    -2.038982    -0.574866 Br         1 UNL1 0.0\\n    15 C      -2.644767     3.401921     1.426395 C          1 UNL1 0.0\\n    16 C      -2.429992     3.372923    -1.084767 C          1 UNL1 0.0\\n    17 C      -7.251017     1.927874    -1.041404 C          1 UNL1 0.0\\n    18 C      -6.792213     2.348552    -2.458172 C          1 UNL1 0.0\\n    19 C      -8.435718     0.949085    -1.068580 C          1 UNL1 0.0\\n    20 C       1.725354     1.373309     1.418371 C          1 UNL1 0.0\\n    21 C       2.875251     0.394294     1.668144 C          1 UNL1 0.0\\n    22 C       1.089592     1.834480     2.740931 C          1 UNL1 0.0\\n    23 H      -0.239508    -0.871149    -0.531334 H          1 UNL1 0.0\\n    24 H       1.296006     0.787764    -0.615879 H          1 UNL1 0.0\\n    25 H      -6.538152     1.589825     0.945450 H          1 UNL1 0.0\\n    26 H      -5.728938    -0.457630     0.834173 H          1 UNL1 0.0\\n    27 H      -2.775012     2.778660     2.339074 H          1 UNL1 0.0\\n    28 H      -3.492249     4.119320     1.373613 H          1 UNL1 0.0\\n    29 H      -1.701921     3.980462     1.531804 H          1 UNL1 0.0\\n    30 H      -1.489254     3.962662    -1.028977 H          1 UNL1 0.0\\n    31 H      -3.273222     4.091311    -1.185515 H          1 UNL1 0.0\\n    32 H      -2.397248     2.737733    -1.995901 H          1 UNL1 0.0\\n    33 H      -7.643137     2.873999    -0.603885 H          1 UNL1 0.0\\n    34 H      -6.021091     3.144456    -2.383086 H          1 UNL1 0.0\\n    35 H      -7.654224     2.777752    -3.011426 H          1 UNL1 0.0\\n    36 H      -6.377635     1.551641    -3.094357 H          1 UNL1 0.0\\n    37 H      -8.184299    -0.024947    -1.525134 H          1 UNL1 0.0\\n    38 H      -9.268864     1.385332    -1.659732 H          1 UNL1 0.0\\n    39 H      -8.801567     0.765841    -0.036830 H          1 UNL1 0.0\\n    40 H       2.207401     2.281014     0.986595 H          1 UNL1 0.0\\n    41 H       3.650980     0.880914     2.296963 H          1 UNL1 0.0\\n    42 H       3.351981     0.105440     0.706855 H          1 UNL1 0.0\\n    43 H       2.541318    -0.500428     2.215361 H          1 UNL1 0.0\\n    44 H       0.342786     2.634099     2.556160 H          1 UNL1 0.0\\n    45 H       1.875763     2.261503     3.400494 H          1 UNL1 0.0\\n    46 H       0.600055     1.015736     3.292207 H          1 UNL1 0.0\\n    47 C      -5.555718    -0.759628    -1.372671 C          1 UNL1 0.0\\n    48 C      -6.242527    -2.120260    -1.302914 C          1 UNL1 0.0\\n    49 C      -6.815610    -2.687243    -0.139714 C          1 UNL1 0.0\\n    50 C      -7.442695    -3.936777    -0.194324 C          1 UNL1 0.0\\n    51 C      -7.509590    -4.640908    -1.396172 C          1 UNL1 0.0\\n    52 C      -6.949764    -4.097740    -2.551296 C          1 UNL1 0.0\\n    53 C      -6.324139    -2.849246    -2.506008 C          1 UNL1 0.0\\n    54 H      -6.111366    -0.205769    -2.117805 H          1 UNL1 0.0\\n    55 H      -4.588304    -0.845695    -1.892961 H          1 UNL1 0.0\\n    56 H      -6.811264    -2.198733     0.817683 H          1 UNL1 0.0\\n    57 H      -7.882706    -4.359119     0.700159 H          1 UNL1 0.0\\n    58 H      -7.997833    -5.606319    -1.432463 H          1 UNL1 0.0\\n    59 H      -7.002913    -4.642909    -3.484920 H          1 UNL1 0.0\\n    60 H      -5.900220    -2.445946    -3.417879 H          1 UNL1 0.0\\n    61 C      -0.007701    -1.380857     1.549672 C          1 UNL1 0.0\\n    62 C       1.118633    -2.373981     1.334016 C          1 UNL1 0.0\\n    63 C       1.939723    -2.400482     0.186399 C          1 UNL1 0.0\\n    64 C       2.932448    -3.376773     0.052033 C          1 UNL1 0.0\\n    65 C       3.121399    -4.331281     1.053701 C          1 UNL1 0.0\\n    66 C       2.319185    -4.312191     2.194940 C          1 UNL1 0.0\\n    67 C       1.324085    -3.342534     2.333492 C          1 UNL1 0.0\\n    68 H       0.080652    -0.892180     2.532684 H          1 UNL1 0.0\\n    69 H      -0.890183    -2.040325     1.597412 H          1 UNL1 0.0\\n    70 H       1.823653    -1.684865    -0.613128 H          1 UNL1 0.0\\n    71 H       3.553962    -3.396237    -0.833638 H          1 UNL1 0.0\\n    72 H       3.887873    -5.087424     0.944974 H          1 UNL1 0.0\\n    73 H       2.463640    -5.052096     2.971682 H          1 UNL1 0.0\\n    74 H       0.705518    -3.347476     3.223273 H          1 UNL1 0.0\\n@<TRIPOS>BOND\\n     1      1      2          1\\n     2      2      3          1\\n     3      3      4          1\\n     4      4      5          2\\n     5      5      1          1\\n     6      4      6          1\\n     7      6      7          1\\n     8      7      8          1\\n     9      8      9          1\\n    10      9     10          1\\n    11     10     11          1\\n    12     11      7          2\\n    13     11     12          1\\n    14     12      5          1\\n    15     12     13          1\\n    16     12     14          1\\n    17      6     15          1\\n    18      6     16          1\\n    19     17     18          1\\n    20     17     19          1\\n    21      9     17          1\\n    22     20     21          1\\n    23     20     22          1\\n    24      2     20          1\\n    25      1     23          1\\n    26      2     24          1\\n    27      9     25          1\\n    28     10     26          1\\n    29     15     27          1\\n    30     15     28          1\\n    31     15     29          1\\n    32     16     30          1\\n    33     16     31          1\\n    34     16     32          1\\n    35     17     33          1\\n    36     18     34          1\\n    37     18     35          1\\n    38     18     36          1\\n    39     19     37          1\\n    40     19     38          1\\n    41     19     39          1\\n    42     20     40          1\\n    43     21     41          1\\n    44     21     42          1\\n    45     21     43          1\\n    46     22     44          1\\n    47     22     45          1\\n    48     22     46          1\\n    49     47     48          1\\n    50     48     49          2\\n    51     49     50          1\\n    52     50     51          2\\n    53     51     52          1\\n    54     52     53          2\\n    55     53     48          1\\n    56     47     54          1\\n    57     47     55          1\\n    58     49     56          1\\n    59     50     57          1\\n    60     51     58          1\\n    61     52     59          1\\n    62     53     60          1\\n    63     10     47          1\\n    64     61     62          1\\n    65     62     63          2\\n    66     63     64          1\\n    67     64     65          2\\n    68     65     66          1\\n    69     66     67          2\\n    70     67     62          1\\n    71     61     68          1\\n    72     61     69          1\\n    73     63     70          1\\n    74     64     71          1\\n    75     65     72          1\\n    76     66     73          1\\n    77     67     74          1\\n    78      1     61          1\\n\",\"mol2\");\n",
       "\tviewer_16861823469395099.setStyle({\"stick\": {\"radius\": 0.1}, \"sphere\": {\"scale\": 0.15}});\n",
       "\tviewer_16861823469395099.setHoverable({},true,\"\\n            function(atom,viewer,event,container) {\\n                if(!atom.label) {\\n                    atom.label = viewer.addLabel(atom.elem + atom.serial, {position: atom, backgroundColor: 'mintcream', fontColor:'black'});\\n                }\\n            }\\n            \",\"\\n            function(atom,viewer) { \\n                if(atom.label) {\\n                    viewer.removeLabel(atom.label);\\n                    delete atom.label;\\n                }\\n            }\\n            \");\n",
       "\tviewer_16861823469395099.zoomTo();\n",
       "\tviewer_16861823469395099.setBackgroundColor(null);\n",
       "viewer_16861823469395099.render();\n",
       "});\n",
       "</script>"
      ]
     },
     "metadata": {},
     "output_type": "display_data"
    },
    {
     "data": {
      "text/plain": [
       "Molecule(name='3_6_6', formula='C30 H38 Br2 N2 O2')"
      ]
     },
     "execution_count": 118,
     "metadata": {},
     "output_type": "execute_result"
    }
   ],
   "source": [
    "combined[42]"
   ]
  },
  {
   "attachments": {},
   "cell_type": "markdown",
   "metadata": {},
   "source": [
    "3. Conformer Generation"
   ]
  },
  {
   "cell_type": "code",
   "execution_count": 129,
   "metadata": {},
   "outputs": [
    {
     "name": "stderr",
     "output_type": "stream",
     "text": [
      "100%|██████████| 75/75 [02:16<00:00,  1.82s/it]\n"
     ]
    },
    {
     "data": {
      "text/plain": [
       "CompletedProcess(args=['molli', 'conformers', '../../in_combinatorial/test_combine.mlib', '-n', '50', '-o', '../../out_conformers1/test4_conformers.mlib', '-t', '-p', '100'], returncode=0)"
      ]
     },
     "execution_count": 129,
     "metadata": {},
     "output_type": "execute_result"
    }
   ],
   "source": [
    "subprocess.run(['molli', 'conformers', '../../in_combinatorial/test_combine.mlib', '-n', '50', '-o', '../../out_conformers1/test4_conformers.mlib', '-t', '-p', '100'])\n",
    "# maybe change progress bar to increase based on num_rotatable bonds"
   ]
  },
  {
   "cell_type": "code",
   "execution_count": 130,
   "metadata": {},
   "outputs": [
    {
     "name": "stdout",
     "output_type": "stream",
     "text": [
      "75\n"
     ]
    }
   ],
   "source": [
    "clib = ml.ConformerLibrary('../../out_conformers1/test4_conformers.mlib')\n",
    "print(len(clib))"
   ]
  },
  {
   "cell_type": "code",
   "execution_count": 131,
   "metadata": {},
   "outputs": [
    {
     "name": "stdout",
     "output_type": "stream",
     "text": [
      "ConformerEnsemble(name='1_3_3', formula='C16 H26 Br2 N2 O2', n_conformers=150)\n",
      "ConformerEnsemble(name='1_2_2', formula='C14 H22 Br2 N2 O2', n_conformers=50)\n",
      "ConformerEnsemble(name='1_1_1', formula='C18 H30 Br2 N2 O2', n_conformers=50)\n",
      "ConformerEnsemble(name='1_4_4', formula='C12 H18 Br2 N2 O2', n_conformers=50)\n",
      "ConformerEnsemble(name='1_5_5', formula='C22 H34 Br2 N2 O2', n_conformers=39)\n",
      "ConformerEnsemble(name='1_11_11', formula='C22 H22 Br2 N2 O2', n_conformers=50)\n",
      "ConformerEnsemble(name='1_12_12', formula='C26 H30 Br2 N2 O2', n_conformers=150)\n",
      "ConformerEnsemble(name='1_14_14', formula='C30 H38 Br2 N2 O2', n_conformers=50)\n",
      "ConformerEnsemble(name='1_13_13', formula='C26 H18 Br2 F12 N2 O2', n_conformers=50)\n",
      "ConformerEnsemble(name='1_15_15', formula='C24 H26 Br2 N2 O2', n_conformers=50)\n",
      "ConformerEnsemble(name='1_8_8', formula='C28 H22 Br2 F12 N2 O2', n_conformers=50)\n",
      "ConformerEnsemble(name='1_7_7', formula='C28 H34 Br2 N2 O2', n_conformers=146)\n",
      "ConformerEnsemble(name='1_6_6', formula='C24 H26 Br2 N2 O2', n_conformers=50)\n",
      "ConformerEnsemble(name='1_10_10', formula='C26 H30 Br2 N2 O2', n_conformers=147)\n",
      "ConformerEnsemble(name='1_9_9', formula='C32 H42 Br2 N2 O2', n_conformers=50)\n",
      "ConformerEnsemble(name='2_3_3', formula='C20 H34 Br2 N2 O2', n_conformers=145)\n",
      "ConformerEnsemble(name='2_1_1', formula='C22 H38 Br2 N2 O2', n_conformers=50)\n",
      "ConformerEnsemble(name='2_2_2', formula='C18 H30 Br2 N2 O2', n_conformers=150)\n",
      "ConformerEnsemble(name='2_4_4', formula='C16 H26 Br2 N2 O2', n_conformers=150)\n",
      "ConformerEnsemble(name='2_5_5', formula='C26 H42 Br2 N2 O2', n_conformers=40)\n",
      "ConformerEnsemble(name='2_11_11', formula='C26 H30 Br2 N2 O2', n_conformers=150)\n",
      "ConformerEnsemble(name='2_12_12', formula='C30 H38 Br2 N2 O2', n_conformers=150)\n",
      "ConformerEnsemble(name='2_14_14', formula='C34 H46 Br2 N2 O2', n_conformers=150)\n",
      "ConformerEnsemble(name='2_13_13', formula='C30 H26 Br2 F12 N2 O2', n_conformers=150)\n",
      "ConformerEnsemble(name='2_15_15', formula='C28 H34 Br2 N2 O2', n_conformers=150)\n",
      "ConformerEnsemble(name='2_8_8', formula='C32 H30 Br2 F12 N2 O2', n_conformers=138)\n",
      "ConformerEnsemble(name='2_7_7', formula='C32 H42 Br2 N2 O2', n_conformers=129)\n",
      "ConformerEnsemble(name='2_6_6', formula='C28 H34 Br2 N2 O2', n_conformers=145)\n",
      "ConformerEnsemble(name='2_10_10', formula='C30 H38 Br2 N2 O2', n_conformers=144)\n",
      "ConformerEnsemble(name='3_3_3', formula='C22 H38 Br2 N2 O2', n_conformers=79)\n",
      "ConformerEnsemble(name='2_9_9', formula='C36 H50 Br2 N2 O2', n_conformers=122)\n",
      "ConformerEnsemble(name='3_2_2', formula='C20 H34 Br2 N2 O2', n_conformers=143)\n",
      "ConformerEnsemble(name='3_1_1', formula='C24 H42 Br2 N2 O2', n_conformers=72)\n",
      "ConformerEnsemble(name='3_4_4', formula='C18 H30 Br2 N2 O2', n_conformers=150)\n",
      "ConformerEnsemble(name='3_5_5', formula='C28 H46 Br2 N2 O2', n_conformers=48)\n",
      "ConformerEnsemble(name='3_11_11', formula='C28 H34 Br2 N2 O2', n_conformers=130)\n",
      "ConformerEnsemble(name='3_12_12', formula='C32 H42 Br2 N2 O2', n_conformers=123)\n",
      "ConformerEnsemble(name='3_14_14', formula='C36 H50 Br2 N2 O2', n_conformers=105)\n",
      "ConformerEnsemble(name='3_13_13', formula='C32 H30 Br2 F12 N2 O2', n_conformers=119)\n",
      "ConformerEnsemble(name='3_15_15', formula='C30 H38 Br2 N2 O2', n_conformers=128)\n",
      "ConformerEnsemble(name='3_8_8', formula='C34 H34 Br2 F12 N2 O2', n_conformers=136)\n",
      "ConformerEnsemble(name='3_7_7', formula='C34 H46 Br2 N2 O2', n_conformers=86)\n",
      "ConformerEnsemble(name='3_6_6', formula='C30 H38 Br2 N2 O2', n_conformers=86)\n",
      "ConformerEnsemble(name='3_10_10', formula='C32 H42 Br2 N2 O2', n_conformers=89)\n",
      "ConformerEnsemble(name='3_9_9', formula='C38 H54 Br2 N2 O2', n_conformers=73)\n",
      "ConformerEnsemble(name='4_3_3', formula='C22 H38 Br2 N2 O2', n_conformers=127)\n",
      "ConformerEnsemble(name='4_2_2', formula='C20 H34 Br2 N2 O2', n_conformers=150)\n",
      "ConformerEnsemble(name='4_1_1', formula='C24 H42 Br2 N2 O2', n_conformers=118)\n",
      "ConformerEnsemble(name='4_4_4', formula='C18 H30 Br2 N2 O2', n_conformers=150)\n",
      "ConformerEnsemble(name='4_5_5', formula='C28 H46 Br2 N2 O2', n_conformers=27)\n",
      "ConformerEnsemble(name='4_11_11', formula='C28 H34 Br2 N2 O2', n_conformers=150)\n",
      "ConformerEnsemble(name='4_12_12', formula='C32 H42 Br2 N2 O2', n_conformers=150)\n",
      "ConformerEnsemble(name='4_14_14', formula='C36 H50 Br2 N2 O2', n_conformers=150)\n",
      "ConformerEnsemble(name='4_13_13', formula='C32 H30 Br2 F12 N2 O2', n_conformers=150)\n",
      "ConformerEnsemble(name='4_15_15', formula='C30 H38 Br2 N2 O2', n_conformers=150)\n",
      "ConformerEnsemble(name='4_8_8', formula='C34 H34 Br2 F12 N2 O2', n_conformers=141)\n",
      "ConformerEnsemble(name='4_7_7', formula='C34 H46 Br2 N2 O2', n_conformers=136)\n",
      "ConformerEnsemble(name='4_6_6', formula='C30 H38 Br2 N2 O2', n_conformers=148)\n",
      "ConformerEnsemble(name='4_9_9', formula='C38 H54 Br2 N2 O2', n_conformers=120)\n",
      "ConformerEnsemble(name='4_10_10', formula='C32 H42 Br2 N2 O2', n_conformers=142)\n",
      "ConformerEnsemble(name='5_3_3', formula='C40 H42 Br2 N2 O2', n_conformers=76)\n",
      "ConformerEnsemble(name='5_2_2', formula='C38 H38 Br2 N2 O2', n_conformers=126)\n",
      "ConformerEnsemble(name='5_1_1', formula='C42 H46 Br2 N2 O2', n_conformers=22)\n",
      "ConformerEnsemble(name='5_4_4', formula='C36 H34 Br2 N2 O2', n_conformers=150)\n",
      "ConformerEnsemble(name='5_5_5', formula='C46 H50 Br2 N2 O2', n_conformers=27)\n",
      "ConformerEnsemble(name='5_11_11', formula='C46 H38 Br2 N2 O2', n_conformers=118)\n",
      "ConformerEnsemble(name='5_12_12', formula='C50 H46 Br2 N2 O2', n_conformers=101)\n",
      "ConformerEnsemble(name='5_14_14', formula='C54 H54 Br2 N2 O2', n_conformers=87)\n",
      "ConformerEnsemble(name='5_13_13', formula='C50 H34 Br2 F12 N2 O2', n_conformers=99)\n",
      "ConformerEnsemble(name='5_15_15', formula='C48 H42 Br2 N2 O2', n_conformers=107)\n",
      "ConformerEnsemble(name='5_8_8', formula='C52 H38 Br2 F12 N2 O2', n_conformers=103)\n",
      "ConformerEnsemble(name='5_7_7', formula='C52 H50 Br2 N2 O2', n_conformers=94)\n",
      "ConformerEnsemble(name='5_6_6', formula='C48 H42 Br2 N2 O2', n_conformers=91)\n",
      "ConformerEnsemble(name='5_10_10', formula='C50 H46 Br2 N2 O2', n_conformers=82)\n",
      "ConformerEnsemble(name='5_9_9', formula='C56 H58 Br2 N2 O2', n_conformers=74)\n",
      "8028 conformers in library\n"
     ]
    }
   ],
   "source": [
    "i = 0\n",
    "for conf in clib:\n",
    "    i += conf.n_conformers\n",
    "    print(conf)\n",
    "print(str(i) + ' conformers in library')"
   ]
  },
  {
   "cell_type": "code",
   "execution_count": 90,
   "metadata": {},
   "outputs": [
    {
     "data": {
      "application/3dmoljs_load.v0": "<div id=\"3dmolviewer_1686174271583698\"  style=\"position: relative; width: 1000px; height: 500px;\">\n        <p id=\"3dmolwarning_1686174271583698\" style=\"background-color:#ffcccc;color:black\">You appear to be running in JupyterLab (or JavaScript failed to load for some other reason).  You need to install the 3dmol extension: <br>\n        <tt>jupyter labextension install jupyterlab_3dmol</tt></p>\n        </div>\n<script>\n\nvar loadScriptAsync = function(uri){\n  return new Promise((resolve, reject) => {\n    //this is to ignore the existence of requirejs amd\n    var savedexports, savedmodule;\n    if (typeof exports !== 'undefined') savedexports = exports;\n    else exports = {}\n    if (typeof module !== 'undefined') savedmodule = module;\n    else module = {}\n\n    var tag = document.createElement('script');\n    tag.src = uri;\n    tag.async = true;\n    tag.onload = () => {\n        exports = savedexports;\n        module = savedmodule;\n        resolve();\n    };\n  var firstScriptTag = document.getElementsByTagName('script')[0];\n  firstScriptTag.parentNode.insertBefore(tag, firstScriptTag);\n});\n};\n\nif(typeof $3Dmolpromise === 'undefined') {\n$3Dmolpromise = null;\n  $3Dmolpromise = loadScriptAsync('https://cdnjs.cloudflare.com/ajax/libs/3Dmol/2.0.3/3Dmol-min.js');\n}\n\nvar viewer_1686174271583698 = null;\nvar warn = document.getElementById(\"3dmolwarning_1686174271583698\");\nif(warn) {\n    warn.parentNode.removeChild(warn);\n}\n$3Dmolpromise.then(function() {\nviewer_1686174271583698 = $3Dmol.createViewer(document.getElementById(\"3dmolviewer_1686174271583698\"),{backgroundColor:\"white\"});\nviewer_1686174271583698.zoomTo();\n\tviewer_1686174271583698.addModel(\"# Produced with molli package\\n@<TRIPOS>MOLECULE\\n1_3_3\\n48 50 0 0 0\\nSMALL\\nUSER_CHARGES\\n\\n@<TRIPOS>ATOM\\n     1 C       0.012600    -0.062700     0.518000 C.3        1 UNL1 0.0\\n     2 C       0.799800     1.151000     0.007900 C.3        1 UNL1 0.0\\n     3 O      -0.064600     2.252600     0.355100 O.2        1 UNL1 0.0\\n     4 C      -1.308900     1.778700     0.355800 C.2        1 UNL1 0.0\\n     5 N      -1.358600     0.503400     0.330600 N.2        1 UNL1 0.0\\n     6 C      -2.523000     2.643800     0.340200 C.3        1 UNL1 0.0\\n     7 C      -3.773900     1.823700     0.323000 C.2        1 UNL1 0.0\\n     8 O      -4.951300     2.317700     0.696300 O.2        1 UNL1 0.0\\n     9 C      -5.848100     1.217500     0.892100 C.3        1 UNL1 0.0\\n    10 C      -5.215600     0.066800     0.100500 C.3        1 UNL1 0.0\\n    11 N      -3.815600     0.591000    -0.012600 N.2        1 UNL1 0.0\\n    12 C      -2.552600    -0.179900    -0.281900 C.3        1 UNL1 0.0\\n    13 BR     -2.187200    -0.145800    -2.238800 Br         1 UNL1 0.0\\n    14 BR     -2.707400    -2.039300     0.283400 Br         1 UNL1 0.0\\n    15 C      -2.499500     3.495800     1.619100 C.3        1 UNL1 0.0\\n    16 C      -2.504800     3.552200    -0.892800 C.3        1 UNL1 0.0\\n    17 H       0.159400    -0.951400    -0.102700 H          1 UNL1 0.0\\n    18 H       1.778200     1.296200     0.470800 H          1 UNL1 0.0\\n    19 H       0.923100     1.141500    -1.081800 H          1 UNL1 0.0\\n    20 H      -5.886500     0.997800     1.965600 H          1 UNL1 0.0\\n    21 H      -6.853600     1.493000     0.560300 H          1 UNL1 0.0\\n    22 H      -5.232400    -0.836000     0.718300 H          1 UNL1 0.0\\n    23 H      -1.583500     4.093900     1.687700 H          1 UNL1 0.0\\n    24 H      -3.349200     4.186800     1.659900 H          1 UNL1 0.0\\n    25 H      -2.546200     2.864200     2.514700 H          1 UNL1 0.0\\n    26 H      -1.614600     4.191200    -0.906900 H          1 UNL1 0.0\\n    27 H      -2.502700     2.972000    -1.821600 H          1 UNL1 0.0\\n    28 H      -3.386500     4.203000    -0.920100 H          1 UNL1 0.0\\n    29 C      -5.962100    -0.158400    -1.234000 C.3        1 UNL1 0.0\\n    30 C      -5.871800     0.983400    -2.250900 C.3        1 UNL1 0.0\\n    31 C      -5.651500    -1.505600    -1.887600 C.3        1 UNL1 0.0\\n    32 H      -7.027200    -0.230900    -0.966600 H          1 UNL1 0.0\\n    33 H      -4.857700     1.125400    -2.629100 H          1 UNL1 0.0\\n    34 H      -6.515300     0.776700    -3.113400 H          1 UNL1 0.0\\n    35 H      -6.208100     1.930700    -1.818300 H          1 UNL1 0.0\\n    36 H      -4.650300    -1.549000    -2.312500 H          1 UNL1 0.0\\n    37 H      -5.755900    -2.322700    -1.166300 H          1 UNL1 0.0\\n    38 H      -6.355500    -1.702200    -2.704200 H          1 UNL1 0.0\\n    39 C       0.349600    -0.298000     2.021100 C.3        1 UNL1 0.0\\n    40 C       1.731700    -0.960600     2.150000 C.3        1 UNL1 0.0\\n    41 C      -0.649200    -1.141800     2.812800 C.3        1 UNL1 0.0\\n    42 H       0.403700     0.673300     2.533200 H          1 UNL1 0.0\\n    43 H       1.996100    -1.106200     3.203300 H          1 UNL1 0.0\\n    44 H       2.521500    -0.352200     1.701200 H          1 UNL1 0.0\\n    45 H       1.743400    -1.941200     1.661600 H          1 UNL1 0.0\\n    46 H      -0.340300    -1.209700     3.862700 H          1 UNL1 0.0\\n    47 H      -0.702100    -2.164700     2.429700 H          1 UNL1 0.0\\n    48 H      -1.647100    -0.694600     2.811500 H          1 UNL1 0.0\\n@<TRIPOS>BOND\\n     1      1      2          1\\n     2      2      3          1\\n     3      3      4          1\\n     4      4      5          2\\n     5      5      1          1\\n     6      4      6          1\\n     7      6      7          1\\n     8      7      8          1\\n     9      8      9          1\\n    10      9     10          1\\n    11     10     11          1\\n    12     11      7          2\\n    13     11     12          1\\n    14     12      5          1\\n    15     12     13          1\\n    16     12     14          1\\n    17      6     15          1\\n    18      6     16          1\\n    19      1     17          1\\n    20      2     18          1\\n    21      2     19          1\\n    22      9     20          1\\n    23      9     21          1\\n    24     10     22          1\\n    25     15     23          1\\n    26     15     24          1\\n    27     15     25          1\\n    28     16     26          1\\n    29     16     27          1\\n    30     16     28          1\\n    31     29     30          1\\n    32     29     31          1\\n    33     29     32          1\\n    34     30     33          1\\n    35     30     34          1\\n    36     30     35          1\\n    37     31     36          1\\n    38     31     37          1\\n    39     31     38          1\\n    40     10     29          1\\n    41     39     40          1\\n    42     39     41          1\\n    43     39     42          1\\n    44     40     43          1\\n    45     40     44          1\\n    46     40     45          1\\n    47     41     46          1\\n    48     41     47          1\\n    49     41     48          1\\n    50      1     39          1\\n\",\"mol2\");\n\tviewer_1686174271583698.setStyle({\"stick\": {\"radius\": 0.1}, \"sphere\": {\"scale\": 0.15}});\n\tviewer_1686174271583698.setHoverable({},true,\"\\n            function(atom,viewer,event,container) {\\n                if(!atom.label) {\\n                    atom.label = viewer.addLabel(atom.elem + atom.serial, {position: atom, backgroundColor: 'mintcream', fontColor:'black'});\\n                }\\n            }\\n            \",\"\\n            function(atom,viewer) { \\n                if(atom.label) {\\n                    viewer.removeLabel(atom.label);\\n                    delete atom.label;\\n                }\\n            }\\n            \");\n\tviewer_1686174271583698.zoomTo();\n\tviewer_1686174271583698.setBackgroundColor(null);\nviewer_1686174271583698.render();\n});\n</script>",
      "text/html": [
       "<div id=\"3dmolviewer_1686174271583698\"  style=\"position: relative; width: 1000px; height: 500px;\">\n",
       "        <p id=\"3dmolwarning_1686174271583698\" style=\"background-color:#ffcccc;color:black\">You appear to be running in JupyterLab (or JavaScript failed to load for some other reason).  You need to install the 3dmol extension: <br>\n",
       "        <tt>jupyter labextension install jupyterlab_3dmol</tt></p>\n",
       "        </div>\n",
       "<script>\n",
       "\n",
       "var loadScriptAsync = function(uri){\n",
       "  return new Promise((resolve, reject) => {\n",
       "    //this is to ignore the existence of requirejs amd\n",
       "    var savedexports, savedmodule;\n",
       "    if (typeof exports !== 'undefined') savedexports = exports;\n",
       "    else exports = {}\n",
       "    if (typeof module !== 'undefined') savedmodule = module;\n",
       "    else module = {}\n",
       "\n",
       "    var tag = document.createElement('script');\n",
       "    tag.src = uri;\n",
       "    tag.async = true;\n",
       "    tag.onload = () => {\n",
       "        exports = savedexports;\n",
       "        module = savedmodule;\n",
       "        resolve();\n",
       "    };\n",
       "  var firstScriptTag = document.getElementsByTagName('script')[0];\n",
       "  firstScriptTag.parentNode.insertBefore(tag, firstScriptTag);\n",
       "});\n",
       "};\n",
       "\n",
       "if(typeof $3Dmolpromise === 'undefined') {\n",
       "$3Dmolpromise = null;\n",
       "  $3Dmolpromise = loadScriptAsync('https://cdnjs.cloudflare.com/ajax/libs/3Dmol/2.0.3/3Dmol-min.js');\n",
       "}\n",
       "\n",
       "var viewer_1686174271583698 = null;\n",
       "var warn = document.getElementById(\"3dmolwarning_1686174271583698\");\n",
       "if(warn) {\n",
       "    warn.parentNode.removeChild(warn);\n",
       "}\n",
       "$3Dmolpromise.then(function() {\n",
       "viewer_1686174271583698 = $3Dmol.createViewer(document.getElementById(\"3dmolviewer_1686174271583698\"),{backgroundColor:\"white\"});\n",
       "viewer_1686174271583698.zoomTo();\n",
       "\tviewer_1686174271583698.addModel(\"# Produced with molli package\\n@<TRIPOS>MOLECULE\\n1_3_3\\n48 50 0 0 0\\nSMALL\\nUSER_CHARGES\\n\\n@<TRIPOS>ATOM\\n     1 C       0.012600    -0.062700     0.518000 C.3        1 UNL1 0.0\\n     2 C       0.799800     1.151000     0.007900 C.3        1 UNL1 0.0\\n     3 O      -0.064600     2.252600     0.355100 O.2        1 UNL1 0.0\\n     4 C      -1.308900     1.778700     0.355800 C.2        1 UNL1 0.0\\n     5 N      -1.358600     0.503400     0.330600 N.2        1 UNL1 0.0\\n     6 C      -2.523000     2.643800     0.340200 C.3        1 UNL1 0.0\\n     7 C      -3.773900     1.823700     0.323000 C.2        1 UNL1 0.0\\n     8 O      -4.951300     2.317700     0.696300 O.2        1 UNL1 0.0\\n     9 C      -5.848100     1.217500     0.892100 C.3        1 UNL1 0.0\\n    10 C      -5.215600     0.066800     0.100500 C.3        1 UNL1 0.0\\n    11 N      -3.815600     0.591000    -0.012600 N.2        1 UNL1 0.0\\n    12 C      -2.552600    -0.179900    -0.281900 C.3        1 UNL1 0.0\\n    13 BR     -2.187200    -0.145800    -2.238800 Br         1 UNL1 0.0\\n    14 BR     -2.707400    -2.039300     0.283400 Br         1 UNL1 0.0\\n    15 C      -2.499500     3.495800     1.619100 C.3        1 UNL1 0.0\\n    16 C      -2.504800     3.552200    -0.892800 C.3        1 UNL1 0.0\\n    17 H       0.159400    -0.951400    -0.102700 H          1 UNL1 0.0\\n    18 H       1.778200     1.296200     0.470800 H          1 UNL1 0.0\\n    19 H       0.923100     1.141500    -1.081800 H          1 UNL1 0.0\\n    20 H      -5.886500     0.997800     1.965600 H          1 UNL1 0.0\\n    21 H      -6.853600     1.493000     0.560300 H          1 UNL1 0.0\\n    22 H      -5.232400    -0.836000     0.718300 H          1 UNL1 0.0\\n    23 H      -1.583500     4.093900     1.687700 H          1 UNL1 0.0\\n    24 H      -3.349200     4.186800     1.659900 H          1 UNL1 0.0\\n    25 H      -2.546200     2.864200     2.514700 H          1 UNL1 0.0\\n    26 H      -1.614600     4.191200    -0.906900 H          1 UNL1 0.0\\n    27 H      -2.502700     2.972000    -1.821600 H          1 UNL1 0.0\\n    28 H      -3.386500     4.203000    -0.920100 H          1 UNL1 0.0\\n    29 C      -5.962100    -0.158400    -1.234000 C.3        1 UNL1 0.0\\n    30 C      -5.871800     0.983400    -2.250900 C.3        1 UNL1 0.0\\n    31 C      -5.651500    -1.505600    -1.887600 C.3        1 UNL1 0.0\\n    32 H      -7.027200    -0.230900    -0.966600 H          1 UNL1 0.0\\n    33 H      -4.857700     1.125400    -2.629100 H          1 UNL1 0.0\\n    34 H      -6.515300     0.776700    -3.113400 H          1 UNL1 0.0\\n    35 H      -6.208100     1.930700    -1.818300 H          1 UNL1 0.0\\n    36 H      -4.650300    -1.549000    -2.312500 H          1 UNL1 0.0\\n    37 H      -5.755900    -2.322700    -1.166300 H          1 UNL1 0.0\\n    38 H      -6.355500    -1.702200    -2.704200 H          1 UNL1 0.0\\n    39 C       0.349600    -0.298000     2.021100 C.3        1 UNL1 0.0\\n    40 C       1.731700    -0.960600     2.150000 C.3        1 UNL1 0.0\\n    41 C      -0.649200    -1.141800     2.812800 C.3        1 UNL1 0.0\\n    42 H       0.403700     0.673300     2.533200 H          1 UNL1 0.0\\n    43 H       1.996100    -1.106200     3.203300 H          1 UNL1 0.0\\n    44 H       2.521500    -0.352200     1.701200 H          1 UNL1 0.0\\n    45 H       1.743400    -1.941200     1.661600 H          1 UNL1 0.0\\n    46 H      -0.340300    -1.209700     3.862700 H          1 UNL1 0.0\\n    47 H      -0.702100    -2.164700     2.429700 H          1 UNL1 0.0\\n    48 H      -1.647100    -0.694600     2.811500 H          1 UNL1 0.0\\n@<TRIPOS>BOND\\n     1      1      2          1\\n     2      2      3          1\\n     3      3      4          1\\n     4      4      5          2\\n     5      5      1          1\\n     6      4      6          1\\n     7      6      7          1\\n     8      7      8          1\\n     9      8      9          1\\n    10      9     10          1\\n    11     10     11          1\\n    12     11      7          2\\n    13     11     12          1\\n    14     12      5          1\\n    15     12     13          1\\n    16     12     14          1\\n    17      6     15          1\\n    18      6     16          1\\n    19      1     17          1\\n    20      2     18          1\\n    21      2     19          1\\n    22      9     20          1\\n    23      9     21          1\\n    24     10     22          1\\n    25     15     23          1\\n    26     15     24          1\\n    27     15     25          1\\n    28     16     26          1\\n    29     16     27          1\\n    30     16     28          1\\n    31     29     30          1\\n    32     29     31          1\\n    33     29     32          1\\n    34     30     33          1\\n    35     30     34          1\\n    36     30     35          1\\n    37     31     36          1\\n    38     31     37          1\\n    39     31     38          1\\n    40     10     29          1\\n    41     39     40          1\\n    42     39     41          1\\n    43     39     42          1\\n    44     40     43          1\\n    45     40     44          1\\n    46     40     45          1\\n    47     41     46          1\\n    48     41     47          1\\n    49     41     48          1\\n    50      1     39          1\\n\",\"mol2\");\n",
       "\tviewer_1686174271583698.setStyle({\"stick\": {\"radius\": 0.1}, \"sphere\": {\"scale\": 0.15}});\n",
       "\tviewer_1686174271583698.setHoverable({},true,\"\\n            function(atom,viewer,event,container) {\\n                if(!atom.label) {\\n                    atom.label = viewer.addLabel(atom.elem + atom.serial, {position: atom, backgroundColor: 'mintcream', fontColor:'black'});\\n                }\\n            }\\n            \",\"\\n            function(atom,viewer) { \\n                if(atom.label) {\\n                    viewer.removeLabel(atom.label);\\n                    delete atom.label;\\n                }\\n            }\\n            \");\n",
       "\tviewer_1686174271583698.zoomTo();\n",
       "\tviewer_1686174271583698.setBackgroundColor(null);\n",
       "viewer_1686174271583698.render();\n",
       "});\n",
       "</script>"
      ]
     },
     "metadata": {},
     "output_type": "display_data"
    },
    {
     "data": {
      "text/plain": [
       "Conformer(name='1_3_3', formula='C16 H26 Br2 N2 O2')"
      ]
     },
     "execution_count": 90,
     "metadata": {},
     "output_type": "execute_result"
    }
   ],
   "source": [
    "clib[0][0]"
   ]
  },
  {
   "cell_type": "code",
   "execution_count": 91,
   "metadata": {},
   "outputs": [
    {
     "data": {
      "application/3dmoljs_load.v0": "<div id=\"3dmolviewer_16861742716571455\"  style=\"position: relative; width: 1000px; height: 500px;\">\n        <p id=\"3dmolwarning_16861742716571455\" style=\"background-color:#ffcccc;color:black\">You appear to be running in JupyterLab (or JavaScript failed to load for some other reason).  You need to install the 3dmol extension: <br>\n        <tt>jupyter labextension install jupyterlab_3dmol</tt></p>\n        </div>\n<script>\n\nvar loadScriptAsync = function(uri){\n  return new Promise((resolve, reject) => {\n    //this is to ignore the existence of requirejs amd\n    var savedexports, savedmodule;\n    if (typeof exports !== 'undefined') savedexports = exports;\n    else exports = {}\n    if (typeof module !== 'undefined') savedmodule = module;\n    else module = {}\n\n    var tag = document.createElement('script');\n    tag.src = uri;\n    tag.async = true;\n    tag.onload = () => {\n        exports = savedexports;\n        module = savedmodule;\n        resolve();\n    };\n  var firstScriptTag = document.getElementsByTagName('script')[0];\n  firstScriptTag.parentNode.insertBefore(tag, firstScriptTag);\n});\n};\n\nif(typeof $3Dmolpromise === 'undefined') {\n$3Dmolpromise = null;\n  $3Dmolpromise = loadScriptAsync('https://cdnjs.cloudflare.com/ajax/libs/3Dmol/2.0.3/3Dmol-min.js');\n}\n\nvar viewer_16861742716571455 = null;\nvar warn = document.getElementById(\"3dmolwarning_16861742716571455\");\nif(warn) {\n    warn.parentNode.removeChild(warn);\n}\n$3Dmolpromise.then(function() {\nviewer_16861742716571455 = $3Dmol.createViewer(document.getElementById(\"3dmolviewer_16861742716571455\"),{backgroundColor:\"white\"});\nviewer_16861742716571455.zoomTo();\n\tviewer_16861742716571455.addModel(\"# Produced with molli package\\n@<TRIPOS>MOLECULE\\n1_3_3\\n48 50 0 0 0\\nSMALL\\nUSER_CHARGES\\n\\n@<TRIPOS>ATOM\\n     1 C       0.028700    -0.065900     0.451800 C.3        1 UNL1 0.0\\n     2 C       0.838400     1.199400     0.172100 C.3        1 UNL1 0.0\\n     3 O      -0.077800     2.263600     0.483400 O.2        1 UNL1 0.0\\n     4 C      -1.312500     1.774500     0.384200 C.2        1 UNL1 0.0\\n     5 N      -1.348000     0.501300     0.301800 N.2        1 UNL1 0.0\\n     6 C      -2.525500     2.641100     0.340100 C.3        1 UNL1 0.0\\n     7 C      -3.780700     1.834400     0.294100 C.2        1 UNL1 0.0\\n     8 O      -4.978300     2.358800     0.539800 O.2        1 UNL1 0.0\\n     9 C      -5.929700     1.290100     0.654000 C.3        1 UNL1 0.0\\n    10 C      -5.222900     0.082000     0.040400 C.3        1 UNL1 0.0\\n    11 N      -3.813300     0.589400     0.016900 N.2        1 UNL1 0.0\\n    12 C      -2.563900    -0.211600    -0.212600 C.3        1 UNL1 0.0\\n    13 BR     -2.743700    -1.988200     0.579700 Br         1 UNL1 0.0\\n    14 BR     -2.271600    -0.385300    -2.165300 Br         1 UNL1 0.0\\n    15 C      -2.466900     3.529100    -0.907800 C.3        1 UNL1 0.0\\n    16 C      -2.537900     3.508400     1.607400 C.3        1 UNL1 0.0\\n    17 H       0.197400    -0.822000    -0.322200 H          1 UNL1 0.0\\n    18 H       1.747200     1.302500     0.769700 H          1 UNL1 0.0\\n    19 H       1.108100     1.285500    -0.887300 H          1 UNL1 0.0\\n    20 H      -6.864600     1.571900     0.163700 H          1 UNL1 0.0\\n    21 H      -6.136400     1.136500     1.719600 H          1 UNL1 0.0\\n    22 H      -5.285000    -0.759500     0.737500 H          1 UNL1 0.0\\n    23 H      -2.437900     2.928900    -1.824400 H          1 UNL1 0.0\\n    24 H      -3.344300     4.182600    -0.974500 H          1 UNL1 0.0\\n    25 H      -1.573800     4.164400    -0.906400 H          1 UNL1 0.0\\n    26 H      -3.391700     4.195600     1.618300 H          1 UNL1 0.0\\n    27 H      -2.604800     2.887400     2.509000 H          1 UNL1 0.0\\n    28 H      -1.627000     4.112200     1.692300 H          1 UNL1 0.0\\n    29 C      -5.735800    -0.332900    -1.353400 C.3        1 UNL1 0.0\\n    30 C      -7.105400    -1.014800    -1.228800 C.3        1 UNL1 0.0\\n    31 C      -5.834300     0.809400    -2.373100 C.3        1 UNL1 0.0\\n    32 H      -5.060800    -1.090700    -1.765600 H          1 UNL1 0.0\\n    33 H      -7.870200    -0.327000    -0.854300 H          1 UNL1 0.0\\n    34 H      -7.440000    -1.389500    -2.202300 H          1 UNL1 0.0\\n    35 H      -7.053100    -1.869400    -0.545800 H          1 UNL1 0.0\\n    36 H      -6.600200     1.540600    -2.096900 H          1 UNL1 0.0\\n    37 H      -4.886200     1.341800    -2.485700 H          1 UNL1 0.0\\n    38 H      -6.104200     0.413400    -3.358600 H          1 UNL1 0.0\\n    39 C       0.263000    -0.656000     1.867000 C.3        1 UNL1 0.0\\n    40 C       0.127100     0.337500     3.028500 C.3        1 UNL1 0.0\\n    41 C       1.639300    -1.332300     1.933600 C.3        1 UNL1 0.0\\n    42 H      -0.466800    -1.447500     2.054900 H          1 UNL1 0.0\\n    43 H       0.859100     1.148300     2.964800 H          1 UNL1 0.0\\n    44 H      -0.874500     0.776400     3.064400 H          1 UNL1 0.0\\n    45 H       0.287600    -0.172100     3.985300 H          1 UNL1 0.0\\n    46 H       1.768700    -1.849300     2.890800 H          1 UNL1 0.0\\n    47 H       2.455300    -0.610100     1.833600 H          1 UNL1 0.0\\n    48 H       1.744200    -2.078400     1.138900 H          1 UNL1 0.0\\n@<TRIPOS>BOND\\n     1      1      2          1\\n     2      2      3          1\\n     3      3      4          1\\n     4      4      5          2\\n     5      5      1          1\\n     6      4      6          1\\n     7      6      7          1\\n     8      7      8          1\\n     9      8      9          1\\n    10      9     10          1\\n    11     10     11          1\\n    12     11      7          2\\n    13     11     12          1\\n    14     12      5          1\\n    15     12     13          1\\n    16     12     14          1\\n    17      6     15          1\\n    18      6     16          1\\n    19      1     17          1\\n    20      2     18          1\\n    21      2     19          1\\n    22      9     20          1\\n    23      9     21          1\\n    24     10     22          1\\n    25     15     23          1\\n    26     15     24          1\\n    27     15     25          1\\n    28     16     26          1\\n    29     16     27          1\\n    30     16     28          1\\n    31     29     30          1\\n    32     29     31          1\\n    33     29     32          1\\n    34     30     33          1\\n    35     30     34          1\\n    36     30     35          1\\n    37     31     36          1\\n    38     31     37          1\\n    39     31     38          1\\n    40     10     29          1\\n    41     39     40          1\\n    42     39     41          1\\n    43     39     42          1\\n    44     40     43          1\\n    45     40     44          1\\n    46     40     45          1\\n    47     41     46          1\\n    48     41     47          1\\n    49     41     48          1\\n    50      1     39          1\\n\",\"mol2\");\n\tviewer_16861742716571455.setStyle({\"stick\": {\"radius\": 0.1}, \"sphere\": {\"scale\": 0.15}});\n\tviewer_16861742716571455.setHoverable({},true,\"\\n            function(atom,viewer,event,container) {\\n                if(!atom.label) {\\n                    atom.label = viewer.addLabel(atom.elem + atom.serial, {position: atom, backgroundColor: 'mintcream', fontColor:'black'});\\n                }\\n            }\\n            \",\"\\n            function(atom,viewer) { \\n                if(atom.label) {\\n                    viewer.removeLabel(atom.label);\\n                    delete atom.label;\\n                }\\n            }\\n            \");\n\tviewer_16861742716571455.zoomTo();\n\tviewer_16861742716571455.setBackgroundColor(null);\nviewer_16861742716571455.render();\n});\n</script>",
      "text/html": [
       "<div id=\"3dmolviewer_16861742716571455\"  style=\"position: relative; width: 1000px; height: 500px;\">\n",
       "        <p id=\"3dmolwarning_16861742716571455\" style=\"background-color:#ffcccc;color:black\">You appear to be running in JupyterLab (or JavaScript failed to load for some other reason).  You need to install the 3dmol extension: <br>\n",
       "        <tt>jupyter labextension install jupyterlab_3dmol</tt></p>\n",
       "        </div>\n",
       "<script>\n",
       "\n",
       "var loadScriptAsync = function(uri){\n",
       "  return new Promise((resolve, reject) => {\n",
       "    //this is to ignore the existence of requirejs amd\n",
       "    var savedexports, savedmodule;\n",
       "    if (typeof exports !== 'undefined') savedexports = exports;\n",
       "    else exports = {}\n",
       "    if (typeof module !== 'undefined') savedmodule = module;\n",
       "    else module = {}\n",
       "\n",
       "    var tag = document.createElement('script');\n",
       "    tag.src = uri;\n",
       "    tag.async = true;\n",
       "    tag.onload = () => {\n",
       "        exports = savedexports;\n",
       "        module = savedmodule;\n",
       "        resolve();\n",
       "    };\n",
       "  var firstScriptTag = document.getElementsByTagName('script')[0];\n",
       "  firstScriptTag.parentNode.insertBefore(tag, firstScriptTag);\n",
       "});\n",
       "};\n",
       "\n",
       "if(typeof $3Dmolpromise === 'undefined') {\n",
       "$3Dmolpromise = null;\n",
       "  $3Dmolpromise = loadScriptAsync('https://cdnjs.cloudflare.com/ajax/libs/3Dmol/2.0.3/3Dmol-min.js');\n",
       "}\n",
       "\n",
       "var viewer_16861742716571455 = null;\n",
       "var warn = document.getElementById(\"3dmolwarning_16861742716571455\");\n",
       "if(warn) {\n",
       "    warn.parentNode.removeChild(warn);\n",
       "}\n",
       "$3Dmolpromise.then(function() {\n",
       "viewer_16861742716571455 = $3Dmol.createViewer(document.getElementById(\"3dmolviewer_16861742716571455\"),{backgroundColor:\"white\"});\n",
       "viewer_16861742716571455.zoomTo();\n",
       "\tviewer_16861742716571455.addModel(\"# Produced with molli package\\n@<TRIPOS>MOLECULE\\n1_3_3\\n48 50 0 0 0\\nSMALL\\nUSER_CHARGES\\n\\n@<TRIPOS>ATOM\\n     1 C       0.028700    -0.065900     0.451800 C.3        1 UNL1 0.0\\n     2 C       0.838400     1.199400     0.172100 C.3        1 UNL1 0.0\\n     3 O      -0.077800     2.263600     0.483400 O.2        1 UNL1 0.0\\n     4 C      -1.312500     1.774500     0.384200 C.2        1 UNL1 0.0\\n     5 N      -1.348000     0.501300     0.301800 N.2        1 UNL1 0.0\\n     6 C      -2.525500     2.641100     0.340100 C.3        1 UNL1 0.0\\n     7 C      -3.780700     1.834400     0.294100 C.2        1 UNL1 0.0\\n     8 O      -4.978300     2.358800     0.539800 O.2        1 UNL1 0.0\\n     9 C      -5.929700     1.290100     0.654000 C.3        1 UNL1 0.0\\n    10 C      -5.222900     0.082000     0.040400 C.3        1 UNL1 0.0\\n    11 N      -3.813300     0.589400     0.016900 N.2        1 UNL1 0.0\\n    12 C      -2.563900    -0.211600    -0.212600 C.3        1 UNL1 0.0\\n    13 BR     -2.743700    -1.988200     0.579700 Br         1 UNL1 0.0\\n    14 BR     -2.271600    -0.385300    -2.165300 Br         1 UNL1 0.0\\n    15 C      -2.466900     3.529100    -0.907800 C.3        1 UNL1 0.0\\n    16 C      -2.537900     3.508400     1.607400 C.3        1 UNL1 0.0\\n    17 H       0.197400    -0.822000    -0.322200 H          1 UNL1 0.0\\n    18 H       1.747200     1.302500     0.769700 H          1 UNL1 0.0\\n    19 H       1.108100     1.285500    -0.887300 H          1 UNL1 0.0\\n    20 H      -6.864600     1.571900     0.163700 H          1 UNL1 0.0\\n    21 H      -6.136400     1.136500     1.719600 H          1 UNL1 0.0\\n    22 H      -5.285000    -0.759500     0.737500 H          1 UNL1 0.0\\n    23 H      -2.437900     2.928900    -1.824400 H          1 UNL1 0.0\\n    24 H      -3.344300     4.182600    -0.974500 H          1 UNL1 0.0\\n    25 H      -1.573800     4.164400    -0.906400 H          1 UNL1 0.0\\n    26 H      -3.391700     4.195600     1.618300 H          1 UNL1 0.0\\n    27 H      -2.604800     2.887400     2.509000 H          1 UNL1 0.0\\n    28 H      -1.627000     4.112200     1.692300 H          1 UNL1 0.0\\n    29 C      -5.735800    -0.332900    -1.353400 C.3        1 UNL1 0.0\\n    30 C      -7.105400    -1.014800    -1.228800 C.3        1 UNL1 0.0\\n    31 C      -5.834300     0.809400    -2.373100 C.3        1 UNL1 0.0\\n    32 H      -5.060800    -1.090700    -1.765600 H          1 UNL1 0.0\\n    33 H      -7.870200    -0.327000    -0.854300 H          1 UNL1 0.0\\n    34 H      -7.440000    -1.389500    -2.202300 H          1 UNL1 0.0\\n    35 H      -7.053100    -1.869400    -0.545800 H          1 UNL1 0.0\\n    36 H      -6.600200     1.540600    -2.096900 H          1 UNL1 0.0\\n    37 H      -4.886200     1.341800    -2.485700 H          1 UNL1 0.0\\n    38 H      -6.104200     0.413400    -3.358600 H          1 UNL1 0.0\\n    39 C       0.263000    -0.656000     1.867000 C.3        1 UNL1 0.0\\n    40 C       0.127100     0.337500     3.028500 C.3        1 UNL1 0.0\\n    41 C       1.639300    -1.332300     1.933600 C.3        1 UNL1 0.0\\n    42 H      -0.466800    -1.447500     2.054900 H          1 UNL1 0.0\\n    43 H       0.859100     1.148300     2.964800 H          1 UNL1 0.0\\n    44 H      -0.874500     0.776400     3.064400 H          1 UNL1 0.0\\n    45 H       0.287600    -0.172100     3.985300 H          1 UNL1 0.0\\n    46 H       1.768700    -1.849300     2.890800 H          1 UNL1 0.0\\n    47 H       2.455300    -0.610100     1.833600 H          1 UNL1 0.0\\n    48 H       1.744200    -2.078400     1.138900 H          1 UNL1 0.0\\n@<TRIPOS>BOND\\n     1      1      2          1\\n     2      2      3          1\\n     3      3      4          1\\n     4      4      5          2\\n     5      5      1          1\\n     6      4      6          1\\n     7      6      7          1\\n     8      7      8          1\\n     9      8      9          1\\n    10      9     10          1\\n    11     10     11          1\\n    12     11      7          2\\n    13     11     12          1\\n    14     12      5          1\\n    15     12     13          1\\n    16     12     14          1\\n    17      6     15          1\\n    18      6     16          1\\n    19      1     17          1\\n    20      2     18          1\\n    21      2     19          1\\n    22      9     20          1\\n    23      9     21          1\\n    24     10     22          1\\n    25     15     23          1\\n    26     15     24          1\\n    27     15     25          1\\n    28     16     26          1\\n    29     16     27          1\\n    30     16     28          1\\n    31     29     30          1\\n    32     29     31          1\\n    33     29     32          1\\n    34     30     33          1\\n    35     30     34          1\\n    36     30     35          1\\n    37     31     36          1\\n    38     31     37          1\\n    39     31     38          1\\n    40     10     29          1\\n    41     39     40          1\\n    42     39     41          1\\n    43     39     42          1\\n    44     40     43          1\\n    45     40     44          1\\n    46     40     45          1\\n    47     41     46          1\\n    48     41     47          1\\n    49     41     48          1\\n    50      1     39          1\\n\",\"mol2\");\n",
       "\tviewer_16861742716571455.setStyle({\"stick\": {\"radius\": 0.1}, \"sphere\": {\"scale\": 0.15}});\n",
       "\tviewer_16861742716571455.setHoverable({},true,\"\\n            function(atom,viewer,event,container) {\\n                if(!atom.label) {\\n                    atom.label = viewer.addLabel(atom.elem + atom.serial, {position: atom, backgroundColor: 'mintcream', fontColor:'black'});\\n                }\\n            }\\n            \",\"\\n            function(atom,viewer) { \\n                if(atom.label) {\\n                    viewer.removeLabel(atom.label);\\n                    delete atom.label;\\n                }\\n            }\\n            \");\n",
       "\tviewer_16861742716571455.zoomTo();\n",
       "\tviewer_16861742716571455.setBackgroundColor(null);\n",
       "viewer_16861742716571455.render();\n",
       "});\n",
       "</script>"
      ]
     },
     "metadata": {},
     "output_type": "display_data"
    },
    {
     "data": {
      "text/plain": [
       "Conformer(name='1_3_3', formula='C16 H26 Br2 N2 O2')"
      ]
     },
     "execution_count": 91,
     "metadata": {},
     "output_type": "execute_result"
    }
   ],
   "source": [
    "clib[0][1]"
   ]
  },
  {
   "cell_type": "code",
   "execution_count": 92,
   "metadata": {},
   "outputs": [
    {
     "data": {
      "application/3dmoljs_load.v0": "<div id=\"3dmolviewer_1686174271728438\"  style=\"position: relative; width: 1000px; height: 500px;\">\n        <p id=\"3dmolwarning_1686174271728438\" style=\"background-color:#ffcccc;color:black\">You appear to be running in JupyterLab (or JavaScript failed to load for some other reason).  You need to install the 3dmol extension: <br>\n        <tt>jupyter labextension install jupyterlab_3dmol</tt></p>\n        </div>\n<script>\n\nvar loadScriptAsync = function(uri){\n  return new Promise((resolve, reject) => {\n    //this is to ignore the existence of requirejs amd\n    var savedexports, savedmodule;\n    if (typeof exports !== 'undefined') savedexports = exports;\n    else exports = {}\n    if (typeof module !== 'undefined') savedmodule = module;\n    else module = {}\n\n    var tag = document.createElement('script');\n    tag.src = uri;\n    tag.async = true;\n    tag.onload = () => {\n        exports = savedexports;\n        module = savedmodule;\n        resolve();\n    };\n  var firstScriptTag = document.getElementsByTagName('script')[0];\n  firstScriptTag.parentNode.insertBefore(tag, firstScriptTag);\n});\n};\n\nif(typeof $3Dmolpromise === 'undefined') {\n$3Dmolpromise = null;\n  $3Dmolpromise = loadScriptAsync('https://cdnjs.cloudflare.com/ajax/libs/3Dmol/2.0.3/3Dmol-min.js');\n}\n\nvar viewer_1686174271728438 = null;\nvar warn = document.getElementById(\"3dmolwarning_1686174271728438\");\nif(warn) {\n    warn.parentNode.removeChild(warn);\n}\n$3Dmolpromise.then(function() {\nviewer_1686174271728438 = $3Dmol.createViewer(document.getElementById(\"3dmolviewer_1686174271728438\"),{backgroundColor:\"white\"});\nviewer_1686174271728438.zoomTo();\n\tviewer_1686174271728438.addModel(\"# Produced with molli package\\n@<TRIPOS>MOLECULE\\n3_6_6\\n74 78 0 0 0\\nSMALL\\nUSER_CHARGES\\n\\n@<TRIPOS>ATOM\\n     1 C       0.131900     0.055200     0.142400 C.3        1 UNL1 0.0\\n     2 C       0.819700     1.228500     0.878400 C.3        1 UNL1 0.0\\n     3 O      -0.108100     2.297300     0.587100 O.2        1 UNL1 0.0\\n     4 C      -1.322000     1.769600     0.427000 C.2        1 UNL1 0.0\\n     5 N      -1.316200     0.502100     0.271500 N.2        1 UNL1 0.0\\n     6 C      -2.526800     2.635000     0.318700 C.3        1 UNL1 0.0\\n     7 C      -3.781200     1.841100     0.284800 C.2        1 UNL1 0.0\\n     8 O      -4.964700     2.396200     0.527200 O.2        1 UNL1 0.0\\n     9 C      -5.930300     1.351500     0.737600 C.3        1 UNL1 0.0\\n    10 C      -5.274800     0.108000     0.088000 C.3        1 UNL1 0.0\\n    11 N      -3.833800     0.592800     0.035000 N.2        1 UNL1 0.0\\n    12 C      -2.578000    -0.255700    -0.090700 C.3        1 UNL1 0.0\\n    13 BR     -2.795300    -1.729900     1.172600 Br         1 UNL1 0.0\\n    14 BR     -2.375000    -0.762600    -1.959700 Br         1 UNL1 0.0\\n    15 C      -2.441600     3.447400    -0.979900 C.3        1 UNL1 0.0\\n    16 C      -2.559800     3.579000     1.529700 C.3        1 UNL1 0.0\\n    17 C      -7.332700     1.826100     0.305300 C.3        1 UNL1 0.0\\n    18 C      -7.945800     2.700400     1.411100 C.3        1 UNL1 0.0\\n    19 C      -7.344200     2.640700    -0.994100 C.3        1 UNL1 0.0\\n    20 C       1.018800     1.159800     2.419700 C.3        1 UNL1 0.0\\n    21 C       1.194900     2.569800     3.010400 C.3        1 UNL1 0.0\\n    22 C       2.232500     0.321600     2.835400 C.3        1 UNL1 0.0\\n    23 H       0.354000     0.175600    -0.925200 H          1 UNL1 0.0\\n    24 H       1.773200     1.468100     0.391400 H          1 UNL1 0.0\\n    25 H      -5.951200     1.174400     1.823300 H          1 UNL1 0.0\\n    26 H      -5.348800    -0.705000     0.812900 H          1 UNL1 0.0\\n    27 H      -1.564400     4.103300    -0.986500 H          1 UNL1 0.0\\n    28 H      -3.331300     4.072100    -1.116100 H          1 UNL1 0.0\\n    29 H      -2.369000     2.790400    -1.855600 H          1 UNL1 0.0\\n    30 H      -3.425100     4.250200     1.497700 H          1 UNL1 0.0\\n    31 H      -1.662200     4.206400     1.576800 H          1 UNL1 0.0\\n    32 H      -2.616300     3.014800     2.468100 H          1 UNL1 0.0\\n    33 H      -7.991400     0.956500     0.198100 H          1 UNL1 0.0\\n    34 H      -7.331800     3.585300     1.609900 H          1 UNL1 0.0\\n    35 H      -8.041200     2.135800     2.344100 H          1 UNL1 0.0\\n    36 H      -8.947600     3.039000     1.127900 H          1 UNL1 0.0\\n    37 H      -6.804100     3.586700    -0.881400 H          1 UNL1 0.0\\n    38 H      -6.896100     2.101000    -1.829200 H          1 UNL1 0.0\\n    39 H      -8.372600     2.883300    -1.281000 H          1 UNL1 0.0\\n    40 H       0.124800     0.731200     2.887400 H          1 UNL1 0.0\\n    41 H       2.030400     3.093700     2.533800 H          1 UNL1 0.0\\n    42 H       0.293400     3.176600     2.879100 H          1 UNL1 0.0\\n    43 H       1.393000     2.522700     4.086000 H          1 UNL1 0.0\\n    44 H       3.112000     0.569700     2.232700 H          1 UNL1 0.0\\n    45 H       2.488900     0.493100     3.886500 H          1 UNL1 0.0\\n    46 H       2.039700    -0.749000     2.747300 H          1 UNL1 0.0\\n    47 C      -5.834500    -0.294300    -1.284900 C.3        1 UNL1 0.0\\n    48 C      -5.594100    -1.722300    -1.723000 C.ar       1 UNL1 0.0\\n    49 C      -5.355900    -1.982000    -3.083900 C.ar       1 UNL1 0.0\\n    50 C      -5.139500    -3.283700    -3.538400 C.ar       1 UNL1 0.0\\n    51 C      -5.189100    -4.348800    -2.646000 C.ar       1 UNL1 0.0\\n    52 C      -5.482400    -4.115600    -1.305600 C.ar       1 UNL1 0.0\\n    53 C      -5.702400    -2.813400    -0.848400 C.ar       1 UNL1 0.0\\n    54 H      -6.925500    -0.202200    -1.288400 H          1 UNL1 0.0\\n    55 H      -5.453200     0.391500    -2.052800 H          1 UNL1 0.0\\n    56 H      -5.342200    -1.176600    -3.817600 H          1 UNL1 0.0\\n    57 H      -4.953100    -3.470900    -4.594600 H          1 UNL1 0.0\\n    58 H      -5.037200    -5.365700    -3.004100 H          1 UNL1 0.0\\n    59 H      -5.572600    -4.960700    -0.624500 H          1 UNL1 0.0\\n    60 H      -5.997500    -2.698800     0.191700 H          1 UNL1 0.0\\n    61 C       0.548700    -1.332400     0.620500 C.3        1 UNL1 0.0\\n    62 C       0.314900    -2.478200    -0.337000 C.ar       1 UNL1 0.0\\n    63 C       0.722600    -2.411600    -1.678800 C.ar       1 UNL1 0.0\\n    64 C       0.507700    -3.488000    -2.542800 C.ar       1 UNL1 0.0\\n    65 C      -0.085700    -4.655300    -2.072500 C.ar       1 UNL1 0.0\\n    66 C      -0.435200    -4.760700    -0.730600 C.ar       1 UNL1 0.0\\n    67 C      -0.215900    -3.688500     0.135000 C.ar       1 UNL1 0.0\\n    68 H       1.637000    -1.333400     0.754100 H          1 UNL1 0.0\\n    69 H       0.114100    -1.551900     1.600400 H          1 UNL1 0.0\\n    70 H       1.243500    -1.545500    -2.081700 H          1 UNL1 0.0\\n    71 H       0.828600    -3.430900    -3.581700 H          1 UNL1 0.0\\n    72 H      -0.236400    -5.499500    -2.743200 H          1 UNL1 0.0\\n    73 H      -0.850400    -5.693300    -0.353400 H          1 UNL1 0.0\\n    74 H      -0.450700    -3.830700     1.188700 H          1 UNL1 0.0\\n@<TRIPOS>BOND\\n     1      1      2          1\\n     2      2      3          1\\n     3      3      4          1\\n     4      4      5          2\\n     5      5      1          1\\n     6      4      6          1\\n     7      6      7          1\\n     8      7      8          1\\n     9      8      9          1\\n    10      9     10          1\\n    11     10     11          1\\n    12     11      7          2\\n    13     11     12          1\\n    14     12      5          1\\n    15     12     13          1\\n    16     12     14          1\\n    17      6     15          1\\n    18      6     16          1\\n    19     17     18          1\\n    20     17     19          1\\n    21      9     17          1\\n    22     20     21          1\\n    23     20     22          1\\n    24      2     20          1\\n    25      1     23          1\\n    26      2     24          1\\n    27      9     25          1\\n    28     10     26          1\\n    29     15     27          1\\n    30     15     28          1\\n    31     15     29          1\\n    32     16     30          1\\n    33     16     31          1\\n    34     16     32          1\\n    35     17     33          1\\n    36     18     34          1\\n    37     18     35          1\\n    38     18     36          1\\n    39     19     37          1\\n    40     19     38          1\\n    41     19     39          1\\n    42     20     40          1\\n    43     21     41          1\\n    44     21     42          1\\n    45     21     43          1\\n    46     22     44          1\\n    47     22     45          1\\n    48     22     46          1\\n    49     47     48          1\\n    50     48     49         ar\\n    51     49     50         ar\\n    52     50     51         ar\\n    53     51     52         ar\\n    54     52     53         ar\\n    55     53     48         ar\\n    56     47     54          1\\n    57     47     55          1\\n    58     49     56          1\\n    59     50     57          1\\n    60     51     58          1\\n    61     52     59          1\\n    62     53     60          1\\n    63     10     47          1\\n    64     61     62          1\\n    65     62     63         ar\\n    66     63     64         ar\\n    67     64     65         ar\\n    68     65     66         ar\\n    69     66     67         ar\\n    70     67     62         ar\\n    71     61     68          1\\n    72     61     69          1\\n    73     63     70          1\\n    74     64     71          1\\n    75     65     72          1\\n    76     66     73          1\\n    77     67     74          1\\n    78      1     61          1\\n\",\"mol2\");\n\tviewer_1686174271728438.setStyle({\"stick\": {\"radius\": 0.1}, \"sphere\": {\"scale\": 0.15}});\n\tviewer_1686174271728438.setHoverable({},true,\"\\n            function(atom,viewer,event,container) {\\n                if(!atom.label) {\\n                    atom.label = viewer.addLabel(atom.elem + atom.serial, {position: atom, backgroundColor: 'mintcream', fontColor:'black'});\\n                }\\n            }\\n            \",\"\\n            function(atom,viewer) { \\n                if(atom.label) {\\n                    viewer.removeLabel(atom.label);\\n                    delete atom.label;\\n                }\\n            }\\n            \");\n\tviewer_1686174271728438.zoomTo();\n\tviewer_1686174271728438.setBackgroundColor(null);\nviewer_1686174271728438.render();\n});\n</script>",
      "text/html": [
       "<div id=\"3dmolviewer_1686174271728438\"  style=\"position: relative; width: 1000px; height: 500px;\">\n",
       "        <p id=\"3dmolwarning_1686174271728438\" style=\"background-color:#ffcccc;color:black\">You appear to be running in JupyterLab (or JavaScript failed to load for some other reason).  You need to install the 3dmol extension: <br>\n",
       "        <tt>jupyter labextension install jupyterlab_3dmol</tt></p>\n",
       "        </div>\n",
       "<script>\n",
       "\n",
       "var loadScriptAsync = function(uri){\n",
       "  return new Promise((resolve, reject) => {\n",
       "    //this is to ignore the existence of requirejs amd\n",
       "    var savedexports, savedmodule;\n",
       "    if (typeof exports !== 'undefined') savedexports = exports;\n",
       "    else exports = {}\n",
       "    if (typeof module !== 'undefined') savedmodule = module;\n",
       "    else module = {}\n",
       "\n",
       "    var tag = document.createElement('script');\n",
       "    tag.src = uri;\n",
       "    tag.async = true;\n",
       "    tag.onload = () => {\n",
       "        exports = savedexports;\n",
       "        module = savedmodule;\n",
       "        resolve();\n",
       "    };\n",
       "  var firstScriptTag = document.getElementsByTagName('script')[0];\n",
       "  firstScriptTag.parentNode.insertBefore(tag, firstScriptTag);\n",
       "});\n",
       "};\n",
       "\n",
       "if(typeof $3Dmolpromise === 'undefined') {\n",
       "$3Dmolpromise = null;\n",
       "  $3Dmolpromise = loadScriptAsync('https://cdnjs.cloudflare.com/ajax/libs/3Dmol/2.0.3/3Dmol-min.js');\n",
       "}\n",
       "\n",
       "var viewer_1686174271728438 = null;\n",
       "var warn = document.getElementById(\"3dmolwarning_1686174271728438\");\n",
       "if(warn) {\n",
       "    warn.parentNode.removeChild(warn);\n",
       "}\n",
       "$3Dmolpromise.then(function() {\n",
       "viewer_1686174271728438 = $3Dmol.createViewer(document.getElementById(\"3dmolviewer_1686174271728438\"),{backgroundColor:\"white\"});\n",
       "viewer_1686174271728438.zoomTo();\n",
       "\tviewer_1686174271728438.addModel(\"# Produced with molli package\\n@<TRIPOS>MOLECULE\\n3_6_6\\n74 78 0 0 0\\nSMALL\\nUSER_CHARGES\\n\\n@<TRIPOS>ATOM\\n     1 C       0.131900     0.055200     0.142400 C.3        1 UNL1 0.0\\n     2 C       0.819700     1.228500     0.878400 C.3        1 UNL1 0.0\\n     3 O      -0.108100     2.297300     0.587100 O.2        1 UNL1 0.0\\n     4 C      -1.322000     1.769600     0.427000 C.2        1 UNL1 0.0\\n     5 N      -1.316200     0.502100     0.271500 N.2        1 UNL1 0.0\\n     6 C      -2.526800     2.635000     0.318700 C.3        1 UNL1 0.0\\n     7 C      -3.781200     1.841100     0.284800 C.2        1 UNL1 0.0\\n     8 O      -4.964700     2.396200     0.527200 O.2        1 UNL1 0.0\\n     9 C      -5.930300     1.351500     0.737600 C.3        1 UNL1 0.0\\n    10 C      -5.274800     0.108000     0.088000 C.3        1 UNL1 0.0\\n    11 N      -3.833800     0.592800     0.035000 N.2        1 UNL1 0.0\\n    12 C      -2.578000    -0.255700    -0.090700 C.3        1 UNL1 0.0\\n    13 BR     -2.795300    -1.729900     1.172600 Br         1 UNL1 0.0\\n    14 BR     -2.375000    -0.762600    -1.959700 Br         1 UNL1 0.0\\n    15 C      -2.441600     3.447400    -0.979900 C.3        1 UNL1 0.0\\n    16 C      -2.559800     3.579000     1.529700 C.3        1 UNL1 0.0\\n    17 C      -7.332700     1.826100     0.305300 C.3        1 UNL1 0.0\\n    18 C      -7.945800     2.700400     1.411100 C.3        1 UNL1 0.0\\n    19 C      -7.344200     2.640700    -0.994100 C.3        1 UNL1 0.0\\n    20 C       1.018800     1.159800     2.419700 C.3        1 UNL1 0.0\\n    21 C       1.194900     2.569800     3.010400 C.3        1 UNL1 0.0\\n    22 C       2.232500     0.321600     2.835400 C.3        1 UNL1 0.0\\n    23 H       0.354000     0.175600    -0.925200 H          1 UNL1 0.0\\n    24 H       1.773200     1.468100     0.391400 H          1 UNL1 0.0\\n    25 H      -5.951200     1.174400     1.823300 H          1 UNL1 0.0\\n    26 H      -5.348800    -0.705000     0.812900 H          1 UNL1 0.0\\n    27 H      -1.564400     4.103300    -0.986500 H          1 UNL1 0.0\\n    28 H      -3.331300     4.072100    -1.116100 H          1 UNL1 0.0\\n    29 H      -2.369000     2.790400    -1.855600 H          1 UNL1 0.0\\n    30 H      -3.425100     4.250200     1.497700 H          1 UNL1 0.0\\n    31 H      -1.662200     4.206400     1.576800 H          1 UNL1 0.0\\n    32 H      -2.616300     3.014800     2.468100 H          1 UNL1 0.0\\n    33 H      -7.991400     0.956500     0.198100 H          1 UNL1 0.0\\n    34 H      -7.331800     3.585300     1.609900 H          1 UNL1 0.0\\n    35 H      -8.041200     2.135800     2.344100 H          1 UNL1 0.0\\n    36 H      -8.947600     3.039000     1.127900 H          1 UNL1 0.0\\n    37 H      -6.804100     3.586700    -0.881400 H          1 UNL1 0.0\\n    38 H      -6.896100     2.101000    -1.829200 H          1 UNL1 0.0\\n    39 H      -8.372600     2.883300    -1.281000 H          1 UNL1 0.0\\n    40 H       0.124800     0.731200     2.887400 H          1 UNL1 0.0\\n    41 H       2.030400     3.093700     2.533800 H          1 UNL1 0.0\\n    42 H       0.293400     3.176600     2.879100 H          1 UNL1 0.0\\n    43 H       1.393000     2.522700     4.086000 H          1 UNL1 0.0\\n    44 H       3.112000     0.569700     2.232700 H          1 UNL1 0.0\\n    45 H       2.488900     0.493100     3.886500 H          1 UNL1 0.0\\n    46 H       2.039700    -0.749000     2.747300 H          1 UNL1 0.0\\n    47 C      -5.834500    -0.294300    -1.284900 C.3        1 UNL1 0.0\\n    48 C      -5.594100    -1.722300    -1.723000 C.ar       1 UNL1 0.0\\n    49 C      -5.355900    -1.982000    -3.083900 C.ar       1 UNL1 0.0\\n    50 C      -5.139500    -3.283700    -3.538400 C.ar       1 UNL1 0.0\\n    51 C      -5.189100    -4.348800    -2.646000 C.ar       1 UNL1 0.0\\n    52 C      -5.482400    -4.115600    -1.305600 C.ar       1 UNL1 0.0\\n    53 C      -5.702400    -2.813400    -0.848400 C.ar       1 UNL1 0.0\\n    54 H      -6.925500    -0.202200    -1.288400 H          1 UNL1 0.0\\n    55 H      -5.453200     0.391500    -2.052800 H          1 UNL1 0.0\\n    56 H      -5.342200    -1.176600    -3.817600 H          1 UNL1 0.0\\n    57 H      -4.953100    -3.470900    -4.594600 H          1 UNL1 0.0\\n    58 H      -5.037200    -5.365700    -3.004100 H          1 UNL1 0.0\\n    59 H      -5.572600    -4.960700    -0.624500 H          1 UNL1 0.0\\n    60 H      -5.997500    -2.698800     0.191700 H          1 UNL1 0.0\\n    61 C       0.548700    -1.332400     0.620500 C.3        1 UNL1 0.0\\n    62 C       0.314900    -2.478200    -0.337000 C.ar       1 UNL1 0.0\\n    63 C       0.722600    -2.411600    -1.678800 C.ar       1 UNL1 0.0\\n    64 C       0.507700    -3.488000    -2.542800 C.ar       1 UNL1 0.0\\n    65 C      -0.085700    -4.655300    -2.072500 C.ar       1 UNL1 0.0\\n    66 C      -0.435200    -4.760700    -0.730600 C.ar       1 UNL1 0.0\\n    67 C      -0.215900    -3.688500     0.135000 C.ar       1 UNL1 0.0\\n    68 H       1.637000    -1.333400     0.754100 H          1 UNL1 0.0\\n    69 H       0.114100    -1.551900     1.600400 H          1 UNL1 0.0\\n    70 H       1.243500    -1.545500    -2.081700 H          1 UNL1 0.0\\n    71 H       0.828600    -3.430900    -3.581700 H          1 UNL1 0.0\\n    72 H      -0.236400    -5.499500    -2.743200 H          1 UNL1 0.0\\n    73 H      -0.850400    -5.693300    -0.353400 H          1 UNL1 0.0\\n    74 H      -0.450700    -3.830700     1.188700 H          1 UNL1 0.0\\n@<TRIPOS>BOND\\n     1      1      2          1\\n     2      2      3          1\\n     3      3      4          1\\n     4      4      5          2\\n     5      5      1          1\\n     6      4      6          1\\n     7      6      7          1\\n     8      7      8          1\\n     9      8      9          1\\n    10      9     10          1\\n    11     10     11          1\\n    12     11      7          2\\n    13     11     12          1\\n    14     12      5          1\\n    15     12     13          1\\n    16     12     14          1\\n    17      6     15          1\\n    18      6     16          1\\n    19     17     18          1\\n    20     17     19          1\\n    21      9     17          1\\n    22     20     21          1\\n    23     20     22          1\\n    24      2     20          1\\n    25      1     23          1\\n    26      2     24          1\\n    27      9     25          1\\n    28     10     26          1\\n    29     15     27          1\\n    30     15     28          1\\n    31     15     29          1\\n    32     16     30          1\\n    33     16     31          1\\n    34     16     32          1\\n    35     17     33          1\\n    36     18     34          1\\n    37     18     35          1\\n    38     18     36          1\\n    39     19     37          1\\n    40     19     38          1\\n    41     19     39          1\\n    42     20     40          1\\n    43     21     41          1\\n    44     21     42          1\\n    45     21     43          1\\n    46     22     44          1\\n    47     22     45          1\\n    48     22     46          1\\n    49     47     48          1\\n    50     48     49         ar\\n    51     49     50         ar\\n    52     50     51         ar\\n    53     51     52         ar\\n    54     52     53         ar\\n    55     53     48         ar\\n    56     47     54          1\\n    57     47     55          1\\n    58     49     56          1\\n    59     50     57          1\\n    60     51     58          1\\n    61     52     59          1\\n    62     53     60          1\\n    63     10     47          1\\n    64     61     62          1\\n    65     62     63         ar\\n    66     63     64         ar\\n    67     64     65         ar\\n    68     65     66         ar\\n    69     66     67         ar\\n    70     67     62         ar\\n    71     61     68          1\\n    72     61     69          1\\n    73     63     70          1\\n    74     64     71          1\\n    75     65     72          1\\n    76     66     73          1\\n    77     67     74          1\\n    78      1     61          1\\n\",\"mol2\");\n",
       "\tviewer_1686174271728438.setStyle({\"stick\": {\"radius\": 0.1}, \"sphere\": {\"scale\": 0.15}});\n",
       "\tviewer_1686174271728438.setHoverable({},true,\"\\n            function(atom,viewer,event,container) {\\n                if(!atom.label) {\\n                    atom.label = viewer.addLabel(atom.elem + atom.serial, {position: atom, backgroundColor: 'mintcream', fontColor:'black'});\\n                }\\n            }\\n            \",\"\\n            function(atom,viewer) { \\n                if(atom.label) {\\n                    viewer.removeLabel(atom.label);\\n                    delete atom.label;\\n                }\\n            }\\n            \");\n",
       "\tviewer_1686174271728438.zoomTo();\n",
       "\tviewer_1686174271728438.setBackgroundColor(null);\n",
       "viewer_1686174271728438.render();\n",
       "});\n",
       "</script>"
      ]
     },
     "metadata": {},
     "output_type": "display_data"
    },
    {
     "data": {
      "text/plain": [
       "Conformer(name='3_6_6', formula='C30 H38 Br2 N2 O2')"
      ]
     },
     "execution_count": 92,
     "metadata": {},
     "output_type": "execute_result"
    }
   ],
   "source": [
    "clib[42][0]"
   ]
  },
  {
   "cell_type": "code",
   "execution_count": 93,
   "metadata": {},
   "outputs": [
    {
     "data": {
      "application/3dmoljs_load.v0": "<div id=\"3dmolviewer_1686174271796216\"  style=\"position: relative; width: 1000px; height: 500px;\">\n        <p id=\"3dmolwarning_1686174271796216\" style=\"background-color:#ffcccc;color:black\">You appear to be running in JupyterLab (or JavaScript failed to load for some other reason).  You need to install the 3dmol extension: <br>\n        <tt>jupyter labextension install jupyterlab_3dmol</tt></p>\n        </div>\n<script>\n\nvar loadScriptAsync = function(uri){\n  return new Promise((resolve, reject) => {\n    //this is to ignore the existence of requirejs amd\n    var savedexports, savedmodule;\n    if (typeof exports !== 'undefined') savedexports = exports;\n    else exports = {}\n    if (typeof module !== 'undefined') savedmodule = module;\n    else module = {}\n\n    var tag = document.createElement('script');\n    tag.src = uri;\n    tag.async = true;\n    tag.onload = () => {\n        exports = savedexports;\n        module = savedmodule;\n        resolve();\n    };\n  var firstScriptTag = document.getElementsByTagName('script')[0];\n  firstScriptTag.parentNode.insertBefore(tag, firstScriptTag);\n});\n};\n\nif(typeof $3Dmolpromise === 'undefined') {\n$3Dmolpromise = null;\n  $3Dmolpromise = loadScriptAsync('https://cdnjs.cloudflare.com/ajax/libs/3Dmol/2.0.3/3Dmol-min.js');\n}\n\nvar viewer_1686174271796216 = null;\nvar warn = document.getElementById(\"3dmolwarning_1686174271796216\");\nif(warn) {\n    warn.parentNode.removeChild(warn);\n}\n$3Dmolpromise.then(function() {\nviewer_1686174271796216 = $3Dmol.createViewer(document.getElementById(\"3dmolviewer_1686174271796216\"),{backgroundColor:\"white\"});\nviewer_1686174271796216.zoomTo();\n\tviewer_1686174271796216.addModel(\"# Produced with molli package\\n@<TRIPOS>MOLECULE\\n3_6_6\\n74 78 0 0 0\\nSMALL\\nUSER_CHARGES\\n\\n@<TRIPOS>ATOM\\n     1 C      -0.013000    -0.066000     0.616700 C.3        1 UNL1 0.0\\n     2 C       0.799000     1.115900     0.051600 C.3        1 UNL1 0.0\\n     3 O      -0.056100     2.238600     0.389300 O.2        1 UNL1 0.0\\n     4 C      -1.308500     1.779300     0.354600 C.2        1 UNL1 0.0\\n     5 N      -1.369400     0.503800     0.328600 N.2        1 UNL1 0.0\\n     6 C      -2.521700     2.646700     0.343900 C.3        1 UNL1 0.0\\n     7 C      -3.771600     1.823000     0.318500 C.2        1 UNL1 0.0\\n     8 O      -4.958500     2.306500     0.679100 O.2        1 UNL1 0.0\\n     9 C      -5.790800     1.174200     0.999200 C.3        1 UNL1 0.0\\n    10 C      -5.222500     0.071200     0.078400 C.3        1 UNL1 0.0\\n    11 N      -3.808800     0.587700    -0.008500 N.2        1 UNL1 0.0\\n    12 C      -2.552300    -0.174600    -0.308500 C.3        1 UNL1 0.0\\n    13 BR     -2.187300    -0.024400    -2.264400 Br         1 UNL1 0.0\\n    14 BR     -2.692200    -2.054900     0.129900 Br         1 UNL1 0.0\\n    15 C      -2.506700     3.475100     1.639900 C.3        1 UNL1 0.0\\n    16 C      -2.498100     3.581500    -0.867900 C.3        1 UNL1 0.0\\n    17 C      -7.279800     1.542100     0.915000 C.3        1 UNL1 0.0\\n    18 C      -8.162000     0.367900     1.341400 C.3        1 UNL1 0.0\\n    19 C      -7.590800     2.758800     1.796800 C.3        1 UNL1 0.0\\n    20 C       2.265100     1.375600     0.439400 C.3        1 UNL1 0.0\\n    21 C       3.140700     0.146400     0.207600 C.3        1 UNL1 0.0\\n    22 C       2.500700     1.974800     1.825800 C.3        1 UNL1 0.0\\n    23 H       0.143800    -0.993400     0.058900 H          1 UNL1 0.0\\n    24 H       0.785600     1.047500    -1.048600 H          1 UNL1 0.0\\n    25 H      -5.562400     0.918100     2.045100 H          1 UNL1 0.0\\n    26 H      -5.244500    -0.882200     0.610500 H          1 UNL1 0.0\\n    27 H      -2.562400     2.827200     2.523700 H          1 UNL1 0.0\\n    28 H      -3.356100     4.165800     1.686100 H          1 UNL1 0.0\\n    29 H      -1.590300     4.070700     1.726700 H          1 UNL1 0.0\\n    30 H      -3.401500     4.201200    -0.906500 H          1 UNL1 0.0\\n    31 H      -1.634900     4.254000    -0.834200 H          1 UNL1 0.0\\n    32 H      -2.447500     3.027100    -1.810900 H          1 UNL1 0.0\\n    33 H      -7.534400     1.838900    -0.109400 H          1 UNL1 0.0\\n    34 H      -9.221300     0.635800     1.277500 H          1 UNL1 0.0\\n    35 H      -7.954400     0.073100     2.375600 H          1 UNL1 0.0\\n    36 H      -8.006400    -0.510600     0.708100 H          1 UNL1 0.0\\n    37 H      -8.656300     3.008400     1.750700 H          1 UNL1 0.0\\n    38 H      -7.331200     2.567900     2.843600 H          1 UNL1 0.0\\n    39 H      -7.036200     3.641200     1.463500 H          1 UNL1 0.0\\n    40 H       2.616000     2.152300    -0.255800 H          1 UNL1 0.0\\n    41 H       2.887700    -0.671900     0.887100 H          1 UNL1 0.0\\n    42 H       3.031700    -0.221200    -0.818600 H          1 UNL1 0.0\\n    43 H       4.197100     0.390300     0.360300 H          1 UNL1 0.0\\n    44 H       3.533400     2.333300     1.905200 H          1 UNL1 0.0\\n    45 H       2.360500     1.250200     2.629200 H          1 UNL1 0.0\\n    46 H       1.846900     2.832500     2.008200 H          1 UNL1 0.0\\n    47 C      -5.874700     0.020200    -1.319400 C.3        1 UNL1 0.0\\n    48 C      -5.582400    -1.231100    -2.110500 C.ar       1 UNL1 0.0\\n    49 C      -5.198500    -1.135100    -3.455900 C.ar       1 UNL1 0.0\\n    50 C      -4.930400    -2.283500    -4.203200 C.ar       1 UNL1 0.0\\n    51 C      -5.074400    -3.541600    -3.627200 C.ar       1 UNL1 0.0\\n    52 C      -5.515200    -3.653900    -2.312400 C.ar       1 UNL1 0.0\\n    53 C      -5.784800    -2.507100    -1.562400 C.ar       1 UNL1 0.0\\n    54 H      -6.966400     0.050400    -1.241700 H          1 UNL1 0.0\\n    55 H      -5.586900     0.905800    -1.901900 H          1 UNL1 0.0\\n    56 H      -5.116800    -0.170900    -3.956700 H          1 UNL1 0.0\\n    57 H      -4.634500    -2.201000    -5.247900 H          1 UNL1 0.0\\n    58 H      -4.883800    -4.436200    -4.218100 H          1 UNL1 0.0\\n    59 H      -5.677600    -4.642100    -1.883600 H          1 UNL1 0.0\\n    60 H      -6.183200    -2.646100    -0.559500 H          1 UNL1 0.0\\n    61 C       0.163900    -0.226200     2.145600 C.3        1 UNL1 0.0\\n    62 C      -0.835800    -1.108900     2.844300 C.ar       1 UNL1 0.0\\n    63 C      -1.910400    -0.550600     3.556200 C.ar       1 UNL1 0.0\\n    64 C      -2.830700    -1.375300     4.205200 C.ar       1 UNL1 0.0\\n    65 C      -2.678800    -2.759700     4.160400 C.ar       1 UNL1 0.0\\n    66 C      -1.597100    -3.321100     3.484600 C.ar       1 UNL1 0.0\\n    67 C      -0.674300    -2.501300     2.832900 C.ar       1 UNL1 0.0\\n    68 H       1.160400    -0.630800     2.355900 H          1 UNL1 0.0\\n    69 H       0.133500     0.753900     2.640000 H          1 UNL1 0.0\\n    70 H      -2.008200     0.526300     3.681500 H          1 UNL1 0.0\\n    71 H      -3.637700    -0.947900     4.799500 H          1 UNL1 0.0\\n    72 H      -3.376300    -3.405700     4.693700 H          1 UNL1 0.0\\n    73 H      -1.459800    -4.402000     3.489400 H          1 UNL1 0.0\\n    74 H       0.177800    -2.969900     2.341200 H          1 UNL1 0.0\\n@<TRIPOS>BOND\\n     1      1      2          1\\n     2      2      3          1\\n     3      3      4          1\\n     4      4      5          2\\n     5      5      1          1\\n     6      4      6          1\\n     7      6      7          1\\n     8      7      8          1\\n     9      8      9          1\\n    10      9     10          1\\n    11     10     11          1\\n    12     11      7          2\\n    13     11     12          1\\n    14     12      5          1\\n    15     12     13          1\\n    16     12     14          1\\n    17      6     15          1\\n    18      6     16          1\\n    19     17     18          1\\n    20     17     19          1\\n    21      9     17          1\\n    22     20     21          1\\n    23     20     22          1\\n    24      2     20          1\\n    25      1     23          1\\n    26      2     24          1\\n    27      9     25          1\\n    28     10     26          1\\n    29     15     27          1\\n    30     15     28          1\\n    31     15     29          1\\n    32     16     30          1\\n    33     16     31          1\\n    34     16     32          1\\n    35     17     33          1\\n    36     18     34          1\\n    37     18     35          1\\n    38     18     36          1\\n    39     19     37          1\\n    40     19     38          1\\n    41     19     39          1\\n    42     20     40          1\\n    43     21     41          1\\n    44     21     42          1\\n    45     21     43          1\\n    46     22     44          1\\n    47     22     45          1\\n    48     22     46          1\\n    49     47     48          1\\n    50     48     49         ar\\n    51     49     50         ar\\n    52     50     51         ar\\n    53     51     52         ar\\n    54     52     53         ar\\n    55     53     48         ar\\n    56     47     54          1\\n    57     47     55          1\\n    58     49     56          1\\n    59     50     57          1\\n    60     51     58          1\\n    61     52     59          1\\n    62     53     60          1\\n    63     10     47          1\\n    64     61     62          1\\n    65     62     63         ar\\n    66     63     64         ar\\n    67     64     65         ar\\n    68     65     66         ar\\n    69     66     67         ar\\n    70     67     62         ar\\n    71     61     68          1\\n    72     61     69          1\\n    73     63     70          1\\n    74     64     71          1\\n    75     65     72          1\\n    76     66     73          1\\n    77     67     74          1\\n    78      1     61          1\\n\",\"mol2\");\n\tviewer_1686174271796216.setStyle({\"stick\": {\"radius\": 0.1}, \"sphere\": {\"scale\": 0.15}});\n\tviewer_1686174271796216.setHoverable({},true,\"\\n            function(atom,viewer,event,container) {\\n                if(!atom.label) {\\n                    atom.label = viewer.addLabel(atom.elem + atom.serial, {position: atom, backgroundColor: 'mintcream', fontColor:'black'});\\n                }\\n            }\\n            \",\"\\n            function(atom,viewer) { \\n                if(atom.label) {\\n                    viewer.removeLabel(atom.label);\\n                    delete atom.label;\\n                }\\n            }\\n            \");\n\tviewer_1686174271796216.zoomTo();\n\tviewer_1686174271796216.setBackgroundColor(null);\nviewer_1686174271796216.render();\n});\n</script>",
      "text/html": [
       "<div id=\"3dmolviewer_1686174271796216\"  style=\"position: relative; width: 1000px; height: 500px;\">\n",
       "        <p id=\"3dmolwarning_1686174271796216\" style=\"background-color:#ffcccc;color:black\">You appear to be running in JupyterLab (or JavaScript failed to load for some other reason).  You need to install the 3dmol extension: <br>\n",
       "        <tt>jupyter labextension install jupyterlab_3dmol</tt></p>\n",
       "        </div>\n",
       "<script>\n",
       "\n",
       "var loadScriptAsync = function(uri){\n",
       "  return new Promise((resolve, reject) => {\n",
       "    //this is to ignore the existence of requirejs amd\n",
       "    var savedexports, savedmodule;\n",
       "    if (typeof exports !== 'undefined') savedexports = exports;\n",
       "    else exports = {}\n",
       "    if (typeof module !== 'undefined') savedmodule = module;\n",
       "    else module = {}\n",
       "\n",
       "    var tag = document.createElement('script');\n",
       "    tag.src = uri;\n",
       "    tag.async = true;\n",
       "    tag.onload = () => {\n",
       "        exports = savedexports;\n",
       "        module = savedmodule;\n",
       "        resolve();\n",
       "    };\n",
       "  var firstScriptTag = document.getElementsByTagName('script')[0];\n",
       "  firstScriptTag.parentNode.insertBefore(tag, firstScriptTag);\n",
       "});\n",
       "};\n",
       "\n",
       "if(typeof $3Dmolpromise === 'undefined') {\n",
       "$3Dmolpromise = null;\n",
       "  $3Dmolpromise = loadScriptAsync('https://cdnjs.cloudflare.com/ajax/libs/3Dmol/2.0.3/3Dmol-min.js');\n",
       "}\n",
       "\n",
       "var viewer_1686174271796216 = null;\n",
       "var warn = document.getElementById(\"3dmolwarning_1686174271796216\");\n",
       "if(warn) {\n",
       "    warn.parentNode.removeChild(warn);\n",
       "}\n",
       "$3Dmolpromise.then(function() {\n",
       "viewer_1686174271796216 = $3Dmol.createViewer(document.getElementById(\"3dmolviewer_1686174271796216\"),{backgroundColor:\"white\"});\n",
       "viewer_1686174271796216.zoomTo();\n",
       "\tviewer_1686174271796216.addModel(\"# Produced with molli package\\n@<TRIPOS>MOLECULE\\n3_6_6\\n74 78 0 0 0\\nSMALL\\nUSER_CHARGES\\n\\n@<TRIPOS>ATOM\\n     1 C      -0.013000    -0.066000     0.616700 C.3        1 UNL1 0.0\\n     2 C       0.799000     1.115900     0.051600 C.3        1 UNL1 0.0\\n     3 O      -0.056100     2.238600     0.389300 O.2        1 UNL1 0.0\\n     4 C      -1.308500     1.779300     0.354600 C.2        1 UNL1 0.0\\n     5 N      -1.369400     0.503800     0.328600 N.2        1 UNL1 0.0\\n     6 C      -2.521700     2.646700     0.343900 C.3        1 UNL1 0.0\\n     7 C      -3.771600     1.823000     0.318500 C.2        1 UNL1 0.0\\n     8 O      -4.958500     2.306500     0.679100 O.2        1 UNL1 0.0\\n     9 C      -5.790800     1.174200     0.999200 C.3        1 UNL1 0.0\\n    10 C      -5.222500     0.071200     0.078400 C.3        1 UNL1 0.0\\n    11 N      -3.808800     0.587700    -0.008500 N.2        1 UNL1 0.0\\n    12 C      -2.552300    -0.174600    -0.308500 C.3        1 UNL1 0.0\\n    13 BR     -2.187300    -0.024400    -2.264400 Br         1 UNL1 0.0\\n    14 BR     -2.692200    -2.054900     0.129900 Br         1 UNL1 0.0\\n    15 C      -2.506700     3.475100     1.639900 C.3        1 UNL1 0.0\\n    16 C      -2.498100     3.581500    -0.867900 C.3        1 UNL1 0.0\\n    17 C      -7.279800     1.542100     0.915000 C.3        1 UNL1 0.0\\n    18 C      -8.162000     0.367900     1.341400 C.3        1 UNL1 0.0\\n    19 C      -7.590800     2.758800     1.796800 C.3        1 UNL1 0.0\\n    20 C       2.265100     1.375600     0.439400 C.3        1 UNL1 0.0\\n    21 C       3.140700     0.146400     0.207600 C.3        1 UNL1 0.0\\n    22 C       2.500700     1.974800     1.825800 C.3        1 UNL1 0.0\\n    23 H       0.143800    -0.993400     0.058900 H          1 UNL1 0.0\\n    24 H       0.785600     1.047500    -1.048600 H          1 UNL1 0.0\\n    25 H      -5.562400     0.918100     2.045100 H          1 UNL1 0.0\\n    26 H      -5.244500    -0.882200     0.610500 H          1 UNL1 0.0\\n    27 H      -2.562400     2.827200     2.523700 H          1 UNL1 0.0\\n    28 H      -3.356100     4.165800     1.686100 H          1 UNL1 0.0\\n    29 H      -1.590300     4.070700     1.726700 H          1 UNL1 0.0\\n    30 H      -3.401500     4.201200    -0.906500 H          1 UNL1 0.0\\n    31 H      -1.634900     4.254000    -0.834200 H          1 UNL1 0.0\\n    32 H      -2.447500     3.027100    -1.810900 H          1 UNL1 0.0\\n    33 H      -7.534400     1.838900    -0.109400 H          1 UNL1 0.0\\n    34 H      -9.221300     0.635800     1.277500 H          1 UNL1 0.0\\n    35 H      -7.954400     0.073100     2.375600 H          1 UNL1 0.0\\n    36 H      -8.006400    -0.510600     0.708100 H          1 UNL1 0.0\\n    37 H      -8.656300     3.008400     1.750700 H          1 UNL1 0.0\\n    38 H      -7.331200     2.567900     2.843600 H          1 UNL1 0.0\\n    39 H      -7.036200     3.641200     1.463500 H          1 UNL1 0.0\\n    40 H       2.616000     2.152300    -0.255800 H          1 UNL1 0.0\\n    41 H       2.887700    -0.671900     0.887100 H          1 UNL1 0.0\\n    42 H       3.031700    -0.221200    -0.818600 H          1 UNL1 0.0\\n    43 H       4.197100     0.390300     0.360300 H          1 UNL1 0.0\\n    44 H       3.533400     2.333300     1.905200 H          1 UNL1 0.0\\n    45 H       2.360500     1.250200     2.629200 H          1 UNL1 0.0\\n    46 H       1.846900     2.832500     2.008200 H          1 UNL1 0.0\\n    47 C      -5.874700     0.020200    -1.319400 C.3        1 UNL1 0.0\\n    48 C      -5.582400    -1.231100    -2.110500 C.ar       1 UNL1 0.0\\n    49 C      -5.198500    -1.135100    -3.455900 C.ar       1 UNL1 0.0\\n    50 C      -4.930400    -2.283500    -4.203200 C.ar       1 UNL1 0.0\\n    51 C      -5.074400    -3.541600    -3.627200 C.ar       1 UNL1 0.0\\n    52 C      -5.515200    -3.653900    -2.312400 C.ar       1 UNL1 0.0\\n    53 C      -5.784800    -2.507100    -1.562400 C.ar       1 UNL1 0.0\\n    54 H      -6.966400     0.050400    -1.241700 H          1 UNL1 0.0\\n    55 H      -5.586900     0.905800    -1.901900 H          1 UNL1 0.0\\n    56 H      -5.116800    -0.170900    -3.956700 H          1 UNL1 0.0\\n    57 H      -4.634500    -2.201000    -5.247900 H          1 UNL1 0.0\\n    58 H      -4.883800    -4.436200    -4.218100 H          1 UNL1 0.0\\n    59 H      -5.677600    -4.642100    -1.883600 H          1 UNL1 0.0\\n    60 H      -6.183200    -2.646100    -0.559500 H          1 UNL1 0.0\\n    61 C       0.163900    -0.226200     2.145600 C.3        1 UNL1 0.0\\n    62 C      -0.835800    -1.108900     2.844300 C.ar       1 UNL1 0.0\\n    63 C      -1.910400    -0.550600     3.556200 C.ar       1 UNL1 0.0\\n    64 C      -2.830700    -1.375300     4.205200 C.ar       1 UNL1 0.0\\n    65 C      -2.678800    -2.759700     4.160400 C.ar       1 UNL1 0.0\\n    66 C      -1.597100    -3.321100     3.484600 C.ar       1 UNL1 0.0\\n    67 C      -0.674300    -2.501300     2.832900 C.ar       1 UNL1 0.0\\n    68 H       1.160400    -0.630800     2.355900 H          1 UNL1 0.0\\n    69 H       0.133500     0.753900     2.640000 H          1 UNL1 0.0\\n    70 H      -2.008200     0.526300     3.681500 H          1 UNL1 0.0\\n    71 H      -3.637700    -0.947900     4.799500 H          1 UNL1 0.0\\n    72 H      -3.376300    -3.405700     4.693700 H          1 UNL1 0.0\\n    73 H      -1.459800    -4.402000     3.489400 H          1 UNL1 0.0\\n    74 H       0.177800    -2.969900     2.341200 H          1 UNL1 0.0\\n@<TRIPOS>BOND\\n     1      1      2          1\\n     2      2      3          1\\n     3      3      4          1\\n     4      4      5          2\\n     5      5      1          1\\n     6      4      6          1\\n     7      6      7          1\\n     8      7      8          1\\n     9      8      9          1\\n    10      9     10          1\\n    11     10     11          1\\n    12     11      7          2\\n    13     11     12          1\\n    14     12      5          1\\n    15     12     13          1\\n    16     12     14          1\\n    17      6     15          1\\n    18      6     16          1\\n    19     17     18          1\\n    20     17     19          1\\n    21      9     17          1\\n    22     20     21          1\\n    23     20     22          1\\n    24      2     20          1\\n    25      1     23          1\\n    26      2     24          1\\n    27      9     25          1\\n    28     10     26          1\\n    29     15     27          1\\n    30     15     28          1\\n    31     15     29          1\\n    32     16     30          1\\n    33     16     31          1\\n    34     16     32          1\\n    35     17     33          1\\n    36     18     34          1\\n    37     18     35          1\\n    38     18     36          1\\n    39     19     37          1\\n    40     19     38          1\\n    41     19     39          1\\n    42     20     40          1\\n    43     21     41          1\\n    44     21     42          1\\n    45     21     43          1\\n    46     22     44          1\\n    47     22     45          1\\n    48     22     46          1\\n    49     47     48          1\\n    50     48     49         ar\\n    51     49     50         ar\\n    52     50     51         ar\\n    53     51     52         ar\\n    54     52     53         ar\\n    55     53     48         ar\\n    56     47     54          1\\n    57     47     55          1\\n    58     49     56          1\\n    59     50     57          1\\n    60     51     58          1\\n    61     52     59          1\\n    62     53     60          1\\n    63     10     47          1\\n    64     61     62          1\\n    65     62     63         ar\\n    66     63     64         ar\\n    67     64     65         ar\\n    68     65     66         ar\\n    69     66     67         ar\\n    70     67     62         ar\\n    71     61     68          1\\n    72     61     69          1\\n    73     63     70          1\\n    74     64     71          1\\n    75     65     72          1\\n    76     66     73          1\\n    77     67     74          1\\n    78      1     61          1\\n\",\"mol2\");\n",
       "\tviewer_1686174271796216.setStyle({\"stick\": {\"radius\": 0.1}, \"sphere\": {\"scale\": 0.15}});\n",
       "\tviewer_1686174271796216.setHoverable({},true,\"\\n            function(atom,viewer,event,container) {\\n                if(!atom.label) {\\n                    atom.label = viewer.addLabel(atom.elem + atom.serial, {position: atom, backgroundColor: 'mintcream', fontColor:'black'});\\n                }\\n            }\\n            \",\"\\n            function(atom,viewer) { \\n                if(atom.label) {\\n                    viewer.removeLabel(atom.label);\\n                    delete atom.label;\\n                }\\n            }\\n            \");\n",
       "\tviewer_1686174271796216.zoomTo();\n",
       "\tviewer_1686174271796216.setBackgroundColor(null);\n",
       "viewer_1686174271796216.render();\n",
       "});\n",
       "</script>"
      ]
     },
     "metadata": {},
     "output_type": "display_data"
    },
    {
     "data": {
      "text/plain": [
       "Conformer(name='3_6_6', formula='C30 H38 Br2 N2 O2')"
      ]
     },
     "execution_count": 93,
     "metadata": {},
     "output_type": "execute_result"
    }
   ],
   "source": [
    "clib[42][24]"
   ]
  },
  {
   "attachments": {},
   "cell_type": "markdown",
   "metadata": {},
   "source": [
    "4. ASO description of molecules"
   ]
  },
  {
   "cell_type": "code",
   "execution_count": 94,
   "metadata": {},
   "outputs": [
    {
     "name": "stdout",
     "output_type": "stream",
     "text": [
      "grid shape: (6336, 3)\n",
      "Allocating storage for descriptors\n"
     ]
    },
    {
     "name": "stderr",
     "output_type": "stream",
     "text": [
      "Loading batches of conformers: 0it [00:00, ?it/s]\n",
      "Submitting calculations:   0%|          | 0/75 [00:00<?, ?it/s]\u001b[A\n",
      "Submitting calculations:  36%|███▌      | 27/75 [00:00<00:01, 27.71it/s]\u001b[A\n",
      "Submitting calculations:  40%|████      | 30/75 [00:03<00:06,  7.22it/s]\u001b[A\n",
      "Submitting calculations:  43%|████▎     | 32/75 [00:04<00:07,  6.11it/s]\u001b[A\n",
      "Submitting calculations:  47%|████▋     | 35/75 [00:04<00:06,  5.98it/s]\u001b[A\n",
      "Submitting calculations:  48%|████▊     | 36/75 [00:04<00:07,  5.42it/s]\u001b[A\n",
      "Submitting calculations:  49%|████▉     | 37/75 [00:05<00:06,  5.51it/s]\u001b[A\n",
      "Submitting calculations:  84%|████████▍ | 63/75 [00:08<00:01,  7.70it/s]\u001b[A\n",
      "Submitting calculations:  88%|████████▊ | 66/75 [00:08<00:01,  6.83it/s]\u001b[A\n",
      "                                                                        \u001b[A\n",
      "\n",
      "Gathering calculation results:   0%|          | 0/75 [00:00<?, ?it/s]\u001b[A\u001b[A\n",
      "\n",
      "Gathering calculation results:   5%|▌         | 4/75 [00:00<00:05, 14.06it/s]\u001b[A\u001b[A\n",
      "\n",
      "Gathering calculation results:   8%|▊         | 6/75 [00:00<00:06, 10.44it/s]\u001b[A\u001b[A\n",
      "\n",
      "Gathering calculation results:  21%|██▏       | 16/75 [00:00<00:02, 26.51it/s]\u001b[A\u001b[A\n",
      "\n",
      "Gathering calculation results:  27%|██▋       | 20/75 [00:01<00:02, 19.65it/s]\u001b[A\u001b[A\n",
      "\n",
      "Gathering calculation results:  88%|████████▊ | 66/75 [00:01<00:00, 70.20it/s]\u001b[A\u001b[A\n",
      "\n",
      "Loading batches of conformers: 1it [00:10, 10.38s/it]                         \u001b[A\u001b[A\n"
     ]
    },
    {
     "data": {
      "text/plain": [
       "CompletedProcess(args=['molli', 'descriptors', '../../out_conformers1/test_conformers.mlib', '-o', '../../test_aso_data/test_aso.h5'], returncode=0)"
      ]
     },
     "execution_count": 94,
     "metadata": {},
     "output_type": "execute_result"
    }
   ],
   "source": [
    "subprocess.run(['molli', 'descriptors', '../../out_conformers1/test_conformers.mlib', '-o', '../../test_aso_data/test_aso.h5'])\n"
   ]
  },
  {
   "attachments": {},
   "cell_type": "markdown",
   "metadata": {},
   "source": [
    "5. post-processing/dimension-reduction/analysis"
   ]
  },
  {
   "cell_type": "code",
   "execution_count": 109,
   "metadata": {},
   "outputs": [
    {
     "name": "stderr",
     "output_type": "stream",
     "text": [
      "100%|██████████| 75/75 [00:00<00:00, 5077.28it/s]\n",
      "/home/ethangm2/miniconda3/envs/NCSA-workflow-dev/lib/python3.10/site-packages/sklearn/cluster/_kmeans.py:870: FutureWarning: The default value of `n_init` will change from 10 to 'auto' in 1.4. Set the value of `n_init` explicitly to suppress the warning\n",
      "  warnings.warn(\n",
      "/home/ethangm2/miniconda3/envs/NCSA-workflow-dev/lib/python3.10/site-packages/threadpoolctl.py:546: RuntimeWarning: \n",
      "Found Intel OpenMP ('libiomp') and LLVM OpenMP ('libomp') loaded at\n",
      "the same time. Both libraries are known to be incompatible and this\n",
      "can cause random crashes or deadlocks on Linux when loaded in the\n",
      "same Python program.\n",
      "Using threadpoolctl may cause crashes or deadlocks. For more\n",
      "information and possible workarounds, please see\n",
      "    https://github.com/joblib/threadpoolctl/blob/master/multiple_openmp.md\n",
      "\n",
      "  warnings.warn(msg, RuntimeWarning)\n"
     ]
    },
    {
     "name": "stdout",
     "output_type": "stream",
     "text": [
      "AAAHHH\n"
     ]
    },
    {
     "name": "stderr",
     "output_type": "stream",
     "text": [
      "/home/ethangm2/miniconda3/envs/NCSA-workflow-dev/lib/python3.10/site-packages/sklearn/cluster/_kmeans.py:870: FutureWarning: The default value of `n_init` will change from 10 to 'auto' in 1.4. Set the value of `n_init` explicitly to suppress the warning\n",
      "  warnings.warn(\n",
      "/home/ethangm2/miniconda3/envs/NCSA-workflow-dev/lib/python3.10/site-packages/threadpoolctl.py:546: RuntimeWarning: \n",
      "Found Intel OpenMP ('libiomp') and LLVM OpenMP ('libomp') loaded at\n",
      "the same time. Both libraries are known to be incompatible and this\n",
      "can cause random crashes or deadlocks on Linux when loaded in the\n",
      "same Python program.\n",
      "Using threadpoolctl may cause crashes or deadlocks. For more\n",
      "information and possible workarounds, please see\n",
      "    https://github.com/joblib/threadpoolctl/blob/master/multiple_openmp.md\n",
      "\n",
      "  warnings.warn(msg, RuntimeWarning)\n"
     ]
    },
    {
     "name": "stdout",
     "output_type": "stream",
     "text": [
      "AAAHHH\n"
     ]
    },
    {
     "name": "stderr",
     "output_type": "stream",
     "text": [
      "/home/ethangm2/miniconda3/envs/NCSA-workflow-dev/lib/python3.10/site-packages/sklearn/cluster/_kmeans.py:870: FutureWarning: The default value of `n_init` will change from 10 to 'auto' in 1.4. Set the value of `n_init` explicitly to suppress the warning\n",
      "  warnings.warn(\n",
      "/home/ethangm2/miniconda3/envs/NCSA-workflow-dev/lib/python3.10/site-packages/threadpoolctl.py:546: RuntimeWarning: \n",
      "Found Intel OpenMP ('libiomp') and LLVM OpenMP ('libomp') loaded at\n",
      "the same time. Both libraries are known to be incompatible and this\n",
      "can cause random crashes or deadlocks on Linux when loaded in the\n",
      "same Python program.\n",
      "Using threadpoolctl may cause crashes or deadlocks. For more\n",
      "information and possible workarounds, please see\n",
      "    https://github.com/joblib/threadpoolctl/blob/master/multiple_openmp.md\n",
      "\n",
      "  warnings.warn(msg, RuntimeWarning)\n"
     ]
    },
    {
     "name": "stdout",
     "output_type": "stream",
     "text": [
      "AAAHHH\n"
     ]
    },
    {
     "name": "stderr",
     "output_type": "stream",
     "text": [
      "/home/ethangm2/miniconda3/envs/NCSA-workflow-dev/lib/python3.10/site-packages/sklearn/cluster/_kmeans.py:870: FutureWarning: The default value of `n_init` will change from 10 to 'auto' in 1.4. Set the value of `n_init` explicitly to suppress the warning\n",
      "  warnings.warn(\n",
      "/home/ethangm2/miniconda3/envs/NCSA-workflow-dev/lib/python3.10/site-packages/threadpoolctl.py:546: RuntimeWarning: \n",
      "Found Intel OpenMP ('libiomp') and LLVM OpenMP ('libomp') loaded at\n",
      "the same time. Both libraries are known to be incompatible and this\n",
      "can cause random crashes or deadlocks on Linux when loaded in the\n",
      "same Python program.\n",
      "Using threadpoolctl may cause crashes or deadlocks. For more\n",
      "information and possible workarounds, please see\n",
      "    https://github.com/joblib/threadpoolctl/blob/master/multiple_openmp.md\n",
      "\n",
      "  warnings.warn(msg, RuntimeWarning)\n"
     ]
    },
    {
     "name": "stdout",
     "output_type": "stream",
     "text": [
      "AAAHHH\n"
     ]
    },
    {
     "name": "stderr",
     "output_type": "stream",
     "text": [
      "/home/ethangm2/miniconda3/envs/NCSA-workflow-dev/lib/python3.10/site-packages/sklearn/cluster/_kmeans.py:870: FutureWarning: The default value of `n_init` will change from 10 to 'auto' in 1.4. Set the value of `n_init` explicitly to suppress the warning\n",
      "  warnings.warn(\n",
      "/home/ethangm2/miniconda3/envs/NCSA-workflow-dev/lib/python3.10/site-packages/threadpoolctl.py:546: RuntimeWarning: \n",
      "Found Intel OpenMP ('libiomp') and LLVM OpenMP ('libomp') loaded at\n",
      "the same time. Both libraries are known to be incompatible and this\n",
      "can cause random crashes or deadlocks on Linux when loaded in the\n",
      "same Python program.\n",
      "Using threadpoolctl may cause crashes or deadlocks. For more\n",
      "information and possible workarounds, please see\n",
      "    https://github.com/joblib/threadpoolctl/blob/master/multiple_openmp.md\n",
      "\n",
      "  warnings.warn(msg, RuntimeWarning)\n"
     ]
    },
    {
     "name": "stdout",
     "output_type": "stream",
     "text": [
      "AAAHHH\n"
     ]
    },
    {
     "name": "stderr",
     "output_type": "stream",
     "text": [
      "/home/ethangm2/miniconda3/envs/NCSA-workflow-dev/lib/python3.10/site-packages/sklearn/cluster/_kmeans.py:870: FutureWarning: The default value of `n_init` will change from 10 to 'auto' in 1.4. Set the value of `n_init` explicitly to suppress the warning\n",
      "  warnings.warn(\n",
      "/home/ethangm2/miniconda3/envs/NCSA-workflow-dev/lib/python3.10/site-packages/threadpoolctl.py:546: RuntimeWarning: \n",
      "Found Intel OpenMP ('libiomp') and LLVM OpenMP ('libomp') loaded at\n",
      "the same time. Both libraries are known to be incompatible and this\n",
      "can cause random crashes or deadlocks on Linux when loaded in the\n",
      "same Python program.\n",
      "Using threadpoolctl may cause crashes or deadlocks. For more\n",
      "information and possible workarounds, please see\n",
      "    https://github.com/joblib/threadpoolctl/blob/master/multiple_openmp.md\n",
      "\n",
      "  warnings.warn(msg, RuntimeWarning)\n"
     ]
    },
    {
     "name": "stdout",
     "output_type": "stream",
     "text": [
      "AAAHHH\n"
     ]
    },
    {
     "name": "stderr",
     "output_type": "stream",
     "text": [
      "/home/ethangm2/miniconda3/envs/NCSA-workflow-dev/lib/python3.10/site-packages/sklearn/cluster/_kmeans.py:870: FutureWarning: The default value of `n_init` will change from 10 to 'auto' in 1.4. Set the value of `n_init` explicitly to suppress the warning\n",
      "  warnings.warn(\n",
      "/home/ethangm2/miniconda3/envs/NCSA-workflow-dev/lib/python3.10/site-packages/threadpoolctl.py:546: RuntimeWarning: \n",
      "Found Intel OpenMP ('libiomp') and LLVM OpenMP ('libomp') loaded at\n",
      "the same time. Both libraries are known to be incompatible and this\n",
      "can cause random crashes or deadlocks on Linux when loaded in the\n",
      "same Python program.\n",
      "Using threadpoolctl may cause crashes or deadlocks. For more\n",
      "information and possible workarounds, please see\n",
      "    https://github.com/joblib/threadpoolctl/blob/master/multiple_openmp.md\n",
      "\n",
      "  warnings.warn(msg, RuntimeWarning)\n"
     ]
    },
    {
     "name": "stdout",
     "output_type": "stream",
     "text": [
      "AAAHHH\n"
     ]
    },
    {
     "name": "stderr",
     "output_type": "stream",
     "text": [
      "/home/ethangm2/miniconda3/envs/NCSA-workflow-dev/lib/python3.10/site-packages/sklearn/cluster/_kmeans.py:870: FutureWarning: The default value of `n_init` will change from 10 to 'auto' in 1.4. Set the value of `n_init` explicitly to suppress the warning\n",
      "  warnings.warn(\n",
      "/home/ethangm2/miniconda3/envs/NCSA-workflow-dev/lib/python3.10/site-packages/threadpoolctl.py:546: RuntimeWarning: \n",
      "Found Intel OpenMP ('libiomp') and LLVM OpenMP ('libomp') loaded at\n",
      "the same time. Both libraries are known to be incompatible and this\n",
      "can cause random crashes or deadlocks on Linux when loaded in the\n",
      "same Python program.\n",
      "Using threadpoolctl may cause crashes or deadlocks. For more\n",
      "information and possible workarounds, please see\n",
      "    https://github.com/joblib/threadpoolctl/blob/master/multiple_openmp.md\n",
      "\n",
      "  warnings.warn(msg, RuntimeWarning)\n"
     ]
    },
    {
     "ename": "KeyboardInterrupt",
     "evalue": "",
     "output_type": "error",
     "traceback": [
      "\u001b[0;31m---------------------------------------------------------------------------\u001b[0m",
      "\u001b[0;31mKeyboardInterrupt\u001b[0m                         Traceback (most recent call last)",
      "Cell \u001b[0;32mIn[109], line 1\u001b[0m\n\u001b[0;32m----> 1\u001b[0m subprocess\u001b[39m.\u001b[39;49mrun(         \u001b[39m# DOESN'T QUIT! also check functionality for plotting and pca\u001b[39;49;00m\n\u001b[1;32m      2\u001b[0m     [                   \u001b[39m# should be better way to implement post_processing stuff\u001b[39;49;00m\n\u001b[1;32m      3\u001b[0m         \u001b[39m'\u001b[39;49m\u001b[39mmolli\u001b[39;49m\u001b[39m'\u001b[39;49m, \n\u001b[1;32m      4\u001b[0m         \u001b[39m'\u001b[39;49m\u001b[39mcluster\u001b[39;49m\u001b[39m'\u001b[39;49m, \n\u001b[1;32m      5\u001b[0m         \u001b[39m'\u001b[39;49m\u001b[39m../../test_aso_data/test_aso.h5\u001b[39;49m\u001b[39m'\u001b[39;49m, \n\u001b[1;32m      6\u001b[0m         \u001b[39m'\u001b[39;49m\u001b[39m-o\u001b[39;49m\u001b[39m'\u001b[39;49m, \n\u001b[1;32m      7\u001b[0m         \u001b[39m'\u001b[39;49m\u001b[39m../../processed_data/test/test2\u001b[39;49m\u001b[39m'\u001b[39;49m, \n\u001b[1;32m      8\u001b[0m         \u001b[39m'\u001b[39;49m\u001b[39m-v\u001b[39;49m\u001b[39m'\u001b[39;49m,\n\u001b[1;32m      9\u001b[0m         \u001b[39m'\u001b[39;49m\u001b[39mfalse\u001b[39;49m\u001b[39m'\u001b[39;49m,\n\u001b[1;32m     10\u001b[0m         \u001b[39m'\u001b[39;49m\u001b[39m-c\u001b[39;49m\u001b[39m'\u001b[39;49m,\n\u001b[1;32m     11\u001b[0m         \u001b[39m'\u001b[39;49m\u001b[39mfalse\u001b[39;49m\u001b[39m'\u001b[39;49m,\n\u001b[1;32m     12\u001b[0m     ]\n\u001b[1;32m     13\u001b[0m )\n",
      "File \u001b[0;32m~/miniconda3/envs/NCSA-workflow-dev/lib/python3.10/subprocess.py:505\u001b[0m, in \u001b[0;36mrun\u001b[0;34m(input, capture_output, timeout, check, *popenargs, **kwargs)\u001b[0m\n\u001b[1;32m    503\u001b[0m \u001b[39mwith\u001b[39;00m Popen(\u001b[39m*\u001b[39mpopenargs, \u001b[39m*\u001b[39m\u001b[39m*\u001b[39mkwargs) \u001b[39mas\u001b[39;00m process:\n\u001b[1;32m    504\u001b[0m     \u001b[39mtry\u001b[39;00m:\n\u001b[0;32m--> 505\u001b[0m         stdout, stderr \u001b[39m=\u001b[39m process\u001b[39m.\u001b[39;49mcommunicate(\u001b[39minput\u001b[39;49m, timeout\u001b[39m=\u001b[39;49mtimeout)\n\u001b[1;32m    506\u001b[0m     \u001b[39mexcept\u001b[39;00m TimeoutExpired \u001b[39mas\u001b[39;00m exc:\n\u001b[1;32m    507\u001b[0m         process\u001b[39m.\u001b[39mkill()\n",
      "File \u001b[0;32m~/miniconda3/envs/NCSA-workflow-dev/lib/python3.10/subprocess.py:1146\u001b[0m, in \u001b[0;36mPopen.communicate\u001b[0;34m(self, input, timeout)\u001b[0m\n\u001b[1;32m   1144\u001b[0m         stderr \u001b[39m=\u001b[39m \u001b[39mself\u001b[39m\u001b[39m.\u001b[39mstderr\u001b[39m.\u001b[39mread()\n\u001b[1;32m   1145\u001b[0m         \u001b[39mself\u001b[39m\u001b[39m.\u001b[39mstderr\u001b[39m.\u001b[39mclose()\n\u001b[0;32m-> 1146\u001b[0m     \u001b[39mself\u001b[39;49m\u001b[39m.\u001b[39;49mwait()\n\u001b[1;32m   1147\u001b[0m \u001b[39melse\u001b[39;00m:\n\u001b[1;32m   1148\u001b[0m     \u001b[39mif\u001b[39;00m timeout \u001b[39mis\u001b[39;00m \u001b[39mnot\u001b[39;00m \u001b[39mNone\u001b[39;00m:\n",
      "File \u001b[0;32m~/miniconda3/envs/NCSA-workflow-dev/lib/python3.10/subprocess.py:1209\u001b[0m, in \u001b[0;36mPopen.wait\u001b[0;34m(self, timeout)\u001b[0m\n\u001b[1;32m   1207\u001b[0m     endtime \u001b[39m=\u001b[39m _time() \u001b[39m+\u001b[39m timeout\n\u001b[1;32m   1208\u001b[0m \u001b[39mtry\u001b[39;00m:\n\u001b[0;32m-> 1209\u001b[0m     \u001b[39mreturn\u001b[39;00m \u001b[39mself\u001b[39;49m\u001b[39m.\u001b[39;49m_wait(timeout\u001b[39m=\u001b[39;49mtimeout)\n\u001b[1;32m   1210\u001b[0m \u001b[39mexcept\u001b[39;00m \u001b[39mKeyboardInterrupt\u001b[39;00m:\n\u001b[1;32m   1211\u001b[0m     \u001b[39m# https://bugs.python.org/issue25942\u001b[39;00m\n\u001b[1;32m   1212\u001b[0m     \u001b[39m# The first keyboard interrupt waits briefly for the child to\u001b[39;00m\n\u001b[1;32m   1213\u001b[0m     \u001b[39m# exit under the common assumption that it also received the ^C\u001b[39;00m\n\u001b[1;32m   1214\u001b[0m     \u001b[39m# generated SIGINT and will exit rapidly.\u001b[39;00m\n\u001b[1;32m   1215\u001b[0m     \u001b[39mif\u001b[39;00m timeout \u001b[39mis\u001b[39;00m \u001b[39mnot\u001b[39;00m \u001b[39mNone\u001b[39;00m:\n",
      "File \u001b[0;32m~/miniconda3/envs/NCSA-workflow-dev/lib/python3.10/subprocess.py:1959\u001b[0m, in \u001b[0;36mPopen._wait\u001b[0;34m(self, timeout)\u001b[0m\n\u001b[1;32m   1957\u001b[0m \u001b[39mif\u001b[39;00m \u001b[39mself\u001b[39m\u001b[39m.\u001b[39mreturncode \u001b[39mis\u001b[39;00m \u001b[39mnot\u001b[39;00m \u001b[39mNone\u001b[39;00m:\n\u001b[1;32m   1958\u001b[0m     \u001b[39mbreak\u001b[39;00m  \u001b[39m# Another thread waited.\u001b[39;00m\n\u001b[0;32m-> 1959\u001b[0m (pid, sts) \u001b[39m=\u001b[39m \u001b[39mself\u001b[39;49m\u001b[39m.\u001b[39;49m_try_wait(\u001b[39m0\u001b[39;49m)\n\u001b[1;32m   1960\u001b[0m \u001b[39m# Check the pid and loop as waitpid has been known to\u001b[39;00m\n\u001b[1;32m   1961\u001b[0m \u001b[39m# return 0 even without WNOHANG in odd situations.\u001b[39;00m\n\u001b[1;32m   1962\u001b[0m \u001b[39m# http://bugs.python.org/issue14396.\u001b[39;00m\n\u001b[1;32m   1963\u001b[0m \u001b[39mif\u001b[39;00m pid \u001b[39m==\u001b[39m \u001b[39mself\u001b[39m\u001b[39m.\u001b[39mpid:\n",
      "File \u001b[0;32m~/miniconda3/envs/NCSA-workflow-dev/lib/python3.10/subprocess.py:1917\u001b[0m, in \u001b[0;36mPopen._try_wait\u001b[0;34m(self, wait_flags)\u001b[0m\n\u001b[1;32m   1915\u001b[0m \u001b[39m\u001b[39m\u001b[39m\"\"\"All callers to this function MUST hold self._waitpid_lock.\"\"\"\u001b[39;00m\n\u001b[1;32m   1916\u001b[0m \u001b[39mtry\u001b[39;00m:\n\u001b[0;32m-> 1917\u001b[0m     (pid, sts) \u001b[39m=\u001b[39m os\u001b[39m.\u001b[39;49mwaitpid(\u001b[39mself\u001b[39;49m\u001b[39m.\u001b[39;49mpid, wait_flags)\n\u001b[1;32m   1918\u001b[0m \u001b[39mexcept\u001b[39;00m \u001b[39mChildProcessError\u001b[39;00m:\n\u001b[1;32m   1919\u001b[0m     \u001b[39m# This happens if SIGCLD is set to be ignored or waiting\u001b[39;00m\n\u001b[1;32m   1920\u001b[0m     \u001b[39m# for child processes has otherwise been disabled for our\u001b[39;00m\n\u001b[1;32m   1921\u001b[0m     \u001b[39m# process.  This child is dead, we can't get the status.\u001b[39;00m\n\u001b[1;32m   1922\u001b[0m     pid \u001b[39m=\u001b[39m \u001b[39mself\u001b[39m\u001b[39m.\u001b[39mpid\n",
      "\u001b[0;31mKeyboardInterrupt\u001b[0m: "
     ]
    }
   ],
   "source": [
    "subprocess.run(         # DOESN'T QUIT! also check functionality for plotting and pca\n",
    "    [                   # should be better way to implement post_processing stuff\n",
    "        'molli', \n",
    "        'cluster', \n",
    "        '../../test_aso_data/test_aso.h5', \n",
    "        '-o', \n",
    "        '../../processed_data/test/test2', \n",
    "        '-v',\n",
    "        'false',\n",
    "        '-c',\n",
    "        'false',\n",
    "    ]\n",
    ")"
   ]
  },
  {
   "cell_type": "code",
   "execution_count": null,
   "metadata": {},
   "outputs": [],
   "source": []
  }
 ],
 "metadata": {
  "kernelspec": {
   "display_name": "NCSA-workflow-dev",
   "language": "python",
   "name": "python3"
  },
  "language_info": {
   "codemirror_mode": {
    "name": "ipython",
    "version": 3
   },
   "file_extension": ".py",
   "mimetype": "text/x-python",
   "name": "python",
   "nbconvert_exporter": "python",
   "pygments_lexer": "ipython3",
   "version": "3.10.11"
  },
  "orig_nbformat": 4
 },
 "nbformat": 4,
 "nbformat_minor": 2
}
