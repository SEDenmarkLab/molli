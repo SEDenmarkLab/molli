{
 "cells": [
  {
   "attachments": {},
   "cell_type": "markdown",
   "metadata": {},
   "source": [
    "To-Do: entire workflow\n",
    "chemdraw parse -> combinatorial expansion -> conformer generation -> aso description -> post-processing/dimension-reduction/analysis -> plot/output data"
   ]
  },
  {
   "cell_type": "code",
   "execution_count": 1,
   "metadata": {},
   "outputs": [],
   "source": [
    "import molli as ml\n",
    "import molli.visual\n",
    "import subprocess\n",
    "import os\n",
    "\n",
    "# This is a failsafe in case openbabel aint installed\n",
    "import openbabel"
   ]
  },
  {
   "cell_type": "code",
   "execution_count": 2,
   "metadata": {},
   "outputs": [],
   "source": [
    "# these are the chemdraw files that the user passes in\n",
    "cores = ml.files.box_cores_test_1\n",
    "subs = ml.files.box_substituents_test_1"
   ]
  },
  {
   "attachments": {},
   "cell_type": "markdown",
   "metadata": {},
   "source": [
    "# Make output directory - this is where everything relevant gets saved"
   ]
  },
  {
   "cell_type": "code",
   "execution_count": 3,
   "metadata": {},
   "outputs": [],
   "source": [
    "# create output directory if it doesn't exist\n",
    "out_dir = './ncsa-testing-output/'\n",
    "if not os.path.exists(out_dir):\n",
    "    os.makedirs(out_dir)"
   ]
  },
  {
   "attachments": {},
   "cell_type": "markdown",
   "metadata": {},
   "source": [
    "# 1. ChemDraw Parsing"
   ]
  },
  {
   "cell_type": "code",
   "execution_count": 4,
   "metadata": {},
   "outputs": [
    {
     "name": "stderr",
     "output_type": "stream",
     "text": [
      "100%|██████████| 5/5 [00:00<00:00, 85.19it/s]\n",
      "100%|██████████| 15/15 [00:00<00:00, 295.10it/s]\n"
     ]
    },
    {
     "data": {
      "text/plain": [
       "CompletedProcess(args=['molli', 'parse', '--hadd', '/home/ethangm2/NCSA Development/molli/molli/files/BOX_substituents_test_1.cdxml', '-o', './ncsa-testing-output/BOX_subs_new_env.mlib', '--overwrite'], returncode=0)"
      ]
     },
     "execution_count": 4,
     "metadata": {},
     "output_type": "execute_result"
    }
   ],
   "source": [
    "# parse the files\n",
    "subprocess.run(['molli', 'parse', '--hadd', f'{cores}', '-o', f'{out_dir}BOX_cores_new_env.mlib', \"--overwrite\"])\n",
    "subprocess.run(['molli', 'parse', '--hadd', f'{subs}', '-o', f'{out_dir}BOX_subs_new_env.mlib', \"--overwrite\"])"
   ]
  },
  {
   "cell_type": "code",
   "execution_count": 5,
   "metadata": {},
   "outputs": [
    {
     "name": "stdout",
     "output_type": "stream",
     "text": [
      "5\n"
     ]
    },
    {
     "data": {
      "application/3dmoljs_load.v0": "<div id=\"3dmolviewer_1686943555059458\"  style=\"position: relative; width: 1000px; height: 500px\">\n        <p id=\"3dmolwarning_1686943555059458\" style=\"background-color:#ffcccc;color:black\">You appear to be running in JupyterLab (or JavaScript failed to load for some other reason).  You need to install the 3dmol extension: <br>\n        <tt>jupyter labextension install jupyterlab_3dmol</tt></p>\n        </div>\n<script>\n\nvar loadScriptAsync = function(uri){\n  return new Promise((resolve, reject) => {\n    //this is to ignore the existence of requirejs amd\n    var savedexports, savedmodule;\n    if (typeof exports !== 'undefined') savedexports = exports;\n    else exports = {}\n    if (typeof module !== 'undefined') savedmodule = module;\n    else module = {}\n\n    var tag = document.createElement('script');\n    tag.src = uri;\n    tag.async = true;\n    tag.onload = () => {\n        exports = savedexports;\n        module = savedmodule;\n        resolve();\n    };\n  var firstScriptTag = document.getElementsByTagName('script')[0];\n  firstScriptTag.parentNode.insertBefore(tag, firstScriptTag);\n});\n};\n\nif(typeof $3Dmolpromise === 'undefined') {\n$3Dmolpromise = null;\n  $3Dmolpromise = loadScriptAsync('https://cdnjs.cloudflare.com/ajax/libs/3Dmol/2.0.1/3Dmol-min.js');\n}\n\nvar viewer_1686943555059458 = null;\nvar warn = document.getElementById(\"3dmolwarning_1686943555059458\");\nif(warn) {\n    warn.parentNode.removeChild(warn);\n}\n$3Dmolpromise.then(function() {\nviewer_1686943555059458 = $3Dmol.createViewer(document.getElementById(\"3dmolviewer_1686943555059458\"),{backgroundColor:\"white\"});\nviewer_1686943555059458.zoomTo();\n\tviewer_1686943555059458.addModel(\"# Produced with molli package\\n@<TRIPOS>MOLECULE\\n1\\n30 32 0 0 0\\nSMALL\\nUSER_CHARGES\\n\\n@<TRIPOS>ATOM\\n     1 C       2.653877    -0.900810     0.000000 C          1 UNL1 0.0\\n     2 C       3.535127     0.312731     0.000000 C          1 UNL1 0.0\\n     3 O       2.653877     1.526273     0.000000 O          1 UNL1 0.0\\n     4 C       1.226794     1.062732     0.000000 C          1 UNL1 0.0\\n     5 N       1.226794    -0.437269     0.000000 N          1 UNL1 0.0\\n     6 C      -0.072164     1.812732     0.000000 C          1 UNL1 0.0\\n     7 C      -1.371123     1.062732     0.000000 C          1 UNL1 0.0\\n     8 O      -2.798206     1.526273     0.000000 O          1 UNL1 0.0\\n     9 C      -3.679456     0.312731     0.000000 C          1 UNL1 0.0\\n    10 C      -2.798206    -0.900810     0.000000 C          1 UNL1 0.0\\n    11 N      -1.371123    -0.437269     0.000000 N          1 UNL1 0.0\\n    12 A1     -3.029977    -1.614352    -1.299453 Unknown    1 UNL1 0.0\\n    13 A1      2.885648    -1.614352     1.299453 Unknown    1 UNL1 0.0\\n    14 C      -0.072164    -1.187268     0.000000 C          1 UNL1 0.0\\n    15 Br     -0.072164    -1.187268     1.499931 Br         1 UNL1 0.0\\n    16 Br      0.677836    -2.486227     0.000000 Br         1 UNL1 0.0\\n    17 C      -0.072164     1.812732     1.500000 C          1 UNL1 0.0\\n    18 C       1.226794     2.562732     0.000000 C          1 UNL1 0.0\\n    19 H       2.859825    -1.534673    -0.837080 H          1 UNL1 0.0\\n    20 H       4.148880     0.312731     0.876544 H          1 UNL1 0.0\\n    21 H       4.148880     0.312731    -0.876544 H          1 UNL1 0.0\\n    22 H      -4.293208     0.312731     0.876544 H          1 UNL1 0.0\\n    23 H      -4.293208     0.312731    -0.876544 H          1 UNL1 0.0\\n    24 H      -3.004154    -1.534673     0.837080 H          1 UNL1 0.0\\n    25 H       0.625126     1.083708     1.856667 H          1 UNL1 0.0\\n    26 H      -1.052162     1.573372     1.856667 H          1 UNL1 0.0\\n    27 H       0.210543     2.781114     1.856667 H          1 UNL1 0.0\\n    28 H       1.787896     2.304234     0.873638 H          1 UNL1 0.0\\n    29 H       1.031246     3.614711     0.000027 H          1 UNL1 0.0\\n    30 H       1.787873     2.304274    -0.873665 H          1 UNL1 0.0\\n@<TRIPOS>BOND\\n     1      1      2          1\\n     2      2      3          1\\n     3      3      4          1\\n     4      4      5          2\\n     5      5      1          1\\n     6      4      6          1\\n     7      6      7          1\\n     8      7      8          1\\n     9      8      9          1\\n    10      9     10          1\\n    11     10     11          1\\n    12     11      7          2\\n    13     10     12          1\\n    14      1     13          1\\n    15     11     14          1\\n    16     14      5          1\\n    17     14     15          1\\n    18     14     16          1\\n    19      6     17          1\\n    20      6     18          1\\n    21      1     19          1\\n    22      2     20          1\\n    23      2     21          1\\n    24      9     22          1\\n    25      9     23          1\\n    26     10     24          1\\n    27     17     25          1\\n    28     17     26          1\\n    29     17     27          1\\n    30     18     28          1\\n    31     18     29          1\\n    32     18     30          1\\n\",\"mol2\");\n\tviewer_1686943555059458.setStyle({\"stick\": {\"radius\": 0.1}, \"sphere\": {\"scale\": 0.15}});\n\tviewer_1686943555059458.setHoverable({},true,\"\\n            function(atom,viewer,event,container) {\\n                if(!atom.label) {\\n                    atom.label = viewer.addLabel(atom.elem + atom.serial, {position: atom, backgroundColor: 'mintcream', fontColor:'black'});\\n                }\\n            }\\n            \",\"\\n            function(atom,viewer) { \\n                if(atom.label) {\\n                    viewer.removeLabel(atom.label);\\n                    delete atom.label;\\n                }\\n            }\\n            \");\n\tviewer_1686943555059458.zoomTo();\n\tviewer_1686943555059458.setBackgroundColor(null);\nviewer_1686943555059458.render();\n});\n</script>",
      "text/html": [
       "<div id=\"3dmolviewer_1686943555059458\"  style=\"position: relative; width: 1000px; height: 500px\">\n",
       "        <p id=\"3dmolwarning_1686943555059458\" style=\"background-color:#ffcccc;color:black\">You appear to be running in JupyterLab (or JavaScript failed to load for some other reason).  You need to install the 3dmol extension: <br>\n",
       "        <tt>jupyter labextension install jupyterlab_3dmol</tt></p>\n",
       "        </div>\n",
       "<script>\n",
       "\n",
       "var loadScriptAsync = function(uri){\n",
       "  return new Promise((resolve, reject) => {\n",
       "    //this is to ignore the existence of requirejs amd\n",
       "    var savedexports, savedmodule;\n",
       "    if (typeof exports !== 'undefined') savedexports = exports;\n",
       "    else exports = {}\n",
       "    if (typeof module !== 'undefined') savedmodule = module;\n",
       "    else module = {}\n",
       "\n",
       "    var tag = document.createElement('script');\n",
       "    tag.src = uri;\n",
       "    tag.async = true;\n",
       "    tag.onload = () => {\n",
       "        exports = savedexports;\n",
       "        module = savedmodule;\n",
       "        resolve();\n",
       "    };\n",
       "  var firstScriptTag = document.getElementsByTagName('script')[0];\n",
       "  firstScriptTag.parentNode.insertBefore(tag, firstScriptTag);\n",
       "});\n",
       "};\n",
       "\n",
       "if(typeof $3Dmolpromise === 'undefined') {\n",
       "$3Dmolpromise = null;\n",
       "  $3Dmolpromise = loadScriptAsync('https://cdnjs.cloudflare.com/ajax/libs/3Dmol/2.0.1/3Dmol-min.js');\n",
       "}\n",
       "\n",
       "var viewer_1686943555059458 = null;\n",
       "var warn = document.getElementById(\"3dmolwarning_1686943555059458\");\n",
       "if(warn) {\n",
       "    warn.parentNode.removeChild(warn);\n",
       "}\n",
       "$3Dmolpromise.then(function() {\n",
       "viewer_1686943555059458 = $3Dmol.createViewer(document.getElementById(\"3dmolviewer_1686943555059458\"),{backgroundColor:\"white\"});\n",
       "viewer_1686943555059458.zoomTo();\n",
       "\tviewer_1686943555059458.addModel(\"# Produced with molli package\\n@<TRIPOS>MOLECULE\\n1\\n30 32 0 0 0\\nSMALL\\nUSER_CHARGES\\n\\n@<TRIPOS>ATOM\\n     1 C       2.653877    -0.900810     0.000000 C          1 UNL1 0.0\\n     2 C       3.535127     0.312731     0.000000 C          1 UNL1 0.0\\n     3 O       2.653877     1.526273     0.000000 O          1 UNL1 0.0\\n     4 C       1.226794     1.062732     0.000000 C          1 UNL1 0.0\\n     5 N       1.226794    -0.437269     0.000000 N          1 UNL1 0.0\\n     6 C      -0.072164     1.812732     0.000000 C          1 UNL1 0.0\\n     7 C      -1.371123     1.062732     0.000000 C          1 UNL1 0.0\\n     8 O      -2.798206     1.526273     0.000000 O          1 UNL1 0.0\\n     9 C      -3.679456     0.312731     0.000000 C          1 UNL1 0.0\\n    10 C      -2.798206    -0.900810     0.000000 C          1 UNL1 0.0\\n    11 N      -1.371123    -0.437269     0.000000 N          1 UNL1 0.0\\n    12 A1     -3.029977    -1.614352    -1.299453 Unknown    1 UNL1 0.0\\n    13 A1      2.885648    -1.614352     1.299453 Unknown    1 UNL1 0.0\\n    14 C      -0.072164    -1.187268     0.000000 C          1 UNL1 0.0\\n    15 Br     -0.072164    -1.187268     1.499931 Br         1 UNL1 0.0\\n    16 Br      0.677836    -2.486227     0.000000 Br         1 UNL1 0.0\\n    17 C      -0.072164     1.812732     1.500000 C          1 UNL1 0.0\\n    18 C       1.226794     2.562732     0.000000 C          1 UNL1 0.0\\n    19 H       2.859825    -1.534673    -0.837080 H          1 UNL1 0.0\\n    20 H       4.148880     0.312731     0.876544 H          1 UNL1 0.0\\n    21 H       4.148880     0.312731    -0.876544 H          1 UNL1 0.0\\n    22 H      -4.293208     0.312731     0.876544 H          1 UNL1 0.0\\n    23 H      -4.293208     0.312731    -0.876544 H          1 UNL1 0.0\\n    24 H      -3.004154    -1.534673     0.837080 H          1 UNL1 0.0\\n    25 H       0.625126     1.083708     1.856667 H          1 UNL1 0.0\\n    26 H      -1.052162     1.573372     1.856667 H          1 UNL1 0.0\\n    27 H       0.210543     2.781114     1.856667 H          1 UNL1 0.0\\n    28 H       1.787896     2.304234     0.873638 H          1 UNL1 0.0\\n    29 H       1.031246     3.614711     0.000027 H          1 UNL1 0.0\\n    30 H       1.787873     2.304274    -0.873665 H          1 UNL1 0.0\\n@<TRIPOS>BOND\\n     1      1      2          1\\n     2      2      3          1\\n     3      3      4          1\\n     4      4      5          2\\n     5      5      1          1\\n     6      4      6          1\\n     7      6      7          1\\n     8      7      8          1\\n     9      8      9          1\\n    10      9     10          1\\n    11     10     11          1\\n    12     11      7          2\\n    13     10     12          1\\n    14      1     13          1\\n    15     11     14          1\\n    16     14      5          1\\n    17     14     15          1\\n    18     14     16          1\\n    19      6     17          1\\n    20      6     18          1\\n    21      1     19          1\\n    22      2     20          1\\n    23      2     21          1\\n    24      9     22          1\\n    25      9     23          1\\n    26     10     24          1\\n    27     17     25          1\\n    28     17     26          1\\n    29     17     27          1\\n    30     18     28          1\\n    31     18     29          1\\n    32     18     30          1\\n\",\"mol2\");\n",
       "\tviewer_1686943555059458.setStyle({\"stick\": {\"radius\": 0.1}, \"sphere\": {\"scale\": 0.15}});\n",
       "\tviewer_1686943555059458.setHoverable({},true,\"\\n            function(atom,viewer,event,container) {\\n                if(!atom.label) {\\n                    atom.label = viewer.addLabel(atom.elem + atom.serial, {position: atom, backgroundColor: 'mintcream', fontColor:'black'});\\n                }\\n            }\\n            \",\"\\n            function(atom,viewer) { \\n                if(atom.label) {\\n                    viewer.removeLabel(atom.label);\\n                    delete atom.label;\\n                }\\n            }\\n            \");\n",
       "\tviewer_1686943555059458.zoomTo();\n",
       "\tviewer_1686943555059458.setBackgroundColor(null);\n",
       "viewer_1686943555059458.render();\n",
       "});\n",
       "</script>"
      ]
     },
     "metadata": {},
     "output_type": "display_data"
    },
    {
     "data": {
      "text/plain": [
       "Molecule(name='1', formula='C10 H12 Br2 N2 O2 Unknown2')"
      ]
     },
     "execution_count": 5,
     "metadata": {},
     "output_type": "execute_result"
    }
   ],
   "source": [
    "m_core = ml.MoleculeLibrary(f'{out_dir}BOX_cores_new_env.mlib')\n",
    "print(len(m_core))\n",
    "# you can index fragments directly with the string they are lablled with in the chemdraw\n",
    "m_core['1']"
   ]
  },
  {
   "cell_type": "code",
   "execution_count": 6,
   "metadata": {},
   "outputs": [
    {
     "name": "stdout",
     "output_type": "stream",
     "text": [
      "15\n"
     ]
    },
    {
     "data": {
      "application/3dmoljs_load.v0": "<div id=\"3dmolviewer_16869435550708525\"  style=\"position: relative; width: 1000px; height: 500px\">\n        <p id=\"3dmolwarning_16869435550708525\" style=\"background-color:#ffcccc;color:black\">You appear to be running in JupyterLab (or JavaScript failed to load for some other reason).  You need to install the 3dmol extension: <br>\n        <tt>jupyter labextension install jupyterlab_3dmol</tt></p>\n        </div>\n<script>\n\nvar loadScriptAsync = function(uri){\n  return new Promise((resolve, reject) => {\n    //this is to ignore the existence of requirejs amd\n    var savedexports, savedmodule;\n    if (typeof exports !== 'undefined') savedexports = exports;\n    else exports = {}\n    if (typeof module !== 'undefined') savedmodule = module;\n    else module = {}\n\n    var tag = document.createElement('script');\n    tag.src = uri;\n    tag.async = true;\n    tag.onload = () => {\n        exports = savedexports;\n        module = savedmodule;\n        resolve();\n    };\n  var firstScriptTag = document.getElementsByTagName('script')[0];\n  firstScriptTag.parentNode.insertBefore(tag, firstScriptTag);\n});\n};\n\nif(typeof $3Dmolpromise === 'undefined') {\n$3Dmolpromise = null;\n  $3Dmolpromise = loadScriptAsync('https://cdnjs.cloudflare.com/ajax/libs/3Dmol/2.0.1/3Dmol-min.js');\n}\n\nvar viewer_16869435550708525 = null;\nvar warn = document.getElementById(\"3dmolwarning_16869435550708525\");\nif(warn) {\n    warn.parentNode.removeChild(warn);\n}\n$3Dmolpromise.then(function() {\nviewer_16869435550708525 = $3Dmol.createViewer(document.getElementById(\"3dmolviewer_16869435550708525\"),{backgroundColor:\"white\"});\nviewer_16869435550708525.zoomTo();\n\tviewer_16869435550708525.addModel(\"# Produced with molli package\\n@<TRIPOS>MOLECULE\\n3\\n11 10 0 0 0\\nSMALL\\nUSER_CHARGES\\n\\n@<TRIPOS>ATOM\\n     1 C       0.000000     0.000000     0.000000 C          1 UNL1 0.0\\n     2 AP1    -1.298958    -0.750000     0.000000 Unknown    1 UNL1 0.0\\n     3 C       1.299018    -0.750035     0.000000 C          1 UNL1 0.0\\n     4 C       0.000000     1.500000     0.000000 C          1 UNL1 0.0\\n     5 H       0.000000     0.000000    -1.070000 H          1 UNL1 0.0\\n     6 H       1.860120    -0.491537     0.873638 H          1 UNL1 0.0\\n     7 H       1.860097    -0.491577    -0.873665 H          1 UNL1 0.0\\n     8 H       1.103470    -1.802014     0.000027 H          1 UNL1 0.0\\n     9 H       1.008806     1.856667     0.000000 H          1 UNL1 0.0\\n    10 H      -0.504403     1.856667     0.873651 H          1 UNL1 0.0\\n    11 H      -0.504403     1.856667    -0.873651 H          1 UNL1 0.0\\n@<TRIPOS>BOND\\n     1      2      1          1\\n     2      1      3          1\\n     3      1      4          1\\n     4      1      5          1\\n     5      3      6          1\\n     6      3      7          1\\n     7      3      8          1\\n     8      4      9          1\\n     9      4     10          1\\n    10      4     11          1\\n\",\"mol2\");\n\tviewer_16869435550708525.setStyle({\"stick\": {\"radius\": 0.1}, \"sphere\": {\"scale\": 0.15}});\n\tviewer_16869435550708525.setHoverable({},true,\"\\n            function(atom,viewer,event,container) {\\n                if(!atom.label) {\\n                    atom.label = viewer.addLabel(atom.elem + atom.serial, {position: atom, backgroundColor: 'mintcream', fontColor:'black'});\\n                }\\n            }\\n            \",\"\\n            function(atom,viewer) { \\n                if(atom.label) {\\n                    viewer.removeLabel(atom.label);\\n                    delete atom.label;\\n                }\\n            }\\n            \");\n\tviewer_16869435550708525.zoomTo();\n\tviewer_16869435550708525.setBackgroundColor(null);\nviewer_16869435550708525.render();\n});\n</script>",
      "text/html": [
       "<div id=\"3dmolviewer_16869435550708525\"  style=\"position: relative; width: 1000px; height: 500px\">\n",
       "        <p id=\"3dmolwarning_16869435550708525\" style=\"background-color:#ffcccc;color:black\">You appear to be running in JupyterLab (or JavaScript failed to load for some other reason).  You need to install the 3dmol extension: <br>\n",
       "        <tt>jupyter labextension install jupyterlab_3dmol</tt></p>\n",
       "        </div>\n",
       "<script>\n",
       "\n",
       "var loadScriptAsync = function(uri){\n",
       "  return new Promise((resolve, reject) => {\n",
       "    //this is to ignore the existence of requirejs amd\n",
       "    var savedexports, savedmodule;\n",
       "    if (typeof exports !== 'undefined') savedexports = exports;\n",
       "    else exports = {}\n",
       "    if (typeof module !== 'undefined') savedmodule = module;\n",
       "    else module = {}\n",
       "\n",
       "    var tag = document.createElement('script');\n",
       "    tag.src = uri;\n",
       "    tag.async = true;\n",
       "    tag.onload = () => {\n",
       "        exports = savedexports;\n",
       "        module = savedmodule;\n",
       "        resolve();\n",
       "    };\n",
       "  var firstScriptTag = document.getElementsByTagName('script')[0];\n",
       "  firstScriptTag.parentNode.insertBefore(tag, firstScriptTag);\n",
       "});\n",
       "};\n",
       "\n",
       "if(typeof $3Dmolpromise === 'undefined') {\n",
       "$3Dmolpromise = null;\n",
       "  $3Dmolpromise = loadScriptAsync('https://cdnjs.cloudflare.com/ajax/libs/3Dmol/2.0.1/3Dmol-min.js');\n",
       "}\n",
       "\n",
       "var viewer_16869435550708525 = null;\n",
       "var warn = document.getElementById(\"3dmolwarning_16869435550708525\");\n",
       "if(warn) {\n",
       "    warn.parentNode.removeChild(warn);\n",
       "}\n",
       "$3Dmolpromise.then(function() {\n",
       "viewer_16869435550708525 = $3Dmol.createViewer(document.getElementById(\"3dmolviewer_16869435550708525\"),{backgroundColor:\"white\"});\n",
       "viewer_16869435550708525.zoomTo();\n",
       "\tviewer_16869435550708525.addModel(\"# Produced with molli package\\n@<TRIPOS>MOLECULE\\n3\\n11 10 0 0 0\\nSMALL\\nUSER_CHARGES\\n\\n@<TRIPOS>ATOM\\n     1 C       0.000000     0.000000     0.000000 C          1 UNL1 0.0\\n     2 AP1    -1.298958    -0.750000     0.000000 Unknown    1 UNL1 0.0\\n     3 C       1.299018    -0.750035     0.000000 C          1 UNL1 0.0\\n     4 C       0.000000     1.500000     0.000000 C          1 UNL1 0.0\\n     5 H       0.000000     0.000000    -1.070000 H          1 UNL1 0.0\\n     6 H       1.860120    -0.491537     0.873638 H          1 UNL1 0.0\\n     7 H       1.860097    -0.491577    -0.873665 H          1 UNL1 0.0\\n     8 H       1.103470    -1.802014     0.000027 H          1 UNL1 0.0\\n     9 H       1.008806     1.856667     0.000000 H          1 UNL1 0.0\\n    10 H      -0.504403     1.856667     0.873651 H          1 UNL1 0.0\\n    11 H      -0.504403     1.856667    -0.873651 H          1 UNL1 0.0\\n@<TRIPOS>BOND\\n     1      2      1          1\\n     2      1      3          1\\n     3      1      4          1\\n     4      1      5          1\\n     5      3      6          1\\n     6      3      7          1\\n     7      3      8          1\\n     8      4      9          1\\n     9      4     10          1\\n    10      4     11          1\\n\",\"mol2\");\n",
       "\tviewer_16869435550708525.setStyle({\"stick\": {\"radius\": 0.1}, \"sphere\": {\"scale\": 0.15}});\n",
       "\tviewer_16869435550708525.setHoverable({},true,\"\\n            function(atom,viewer,event,container) {\\n                if(!atom.label) {\\n                    atom.label = viewer.addLabel(atom.elem + atom.serial, {position: atom, backgroundColor: 'mintcream', fontColor:'black'});\\n                }\\n            }\\n            \",\"\\n            function(atom,viewer) { \\n                if(atom.label) {\\n                    viewer.removeLabel(atom.label);\\n                    delete atom.label;\\n                }\\n            }\\n            \");\n",
       "\tviewer_16869435550708525.zoomTo();\n",
       "\tviewer_16869435550708525.setBackgroundColor(null);\n",
       "viewer_16869435550708525.render();\n",
       "});\n",
       "</script>"
      ]
     },
     "metadata": {},
     "output_type": "display_data"
    },
    {
     "data": {
      "text/plain": [
       "Molecule(name='3', formula='C3 H7 Unknown1')"
      ]
     },
     "execution_count": 6,
     "metadata": {},
     "output_type": "execute_result"
    }
   ],
   "source": [
    "m_subs = ml.MoleculeLibrary(f'{out_dir}BOX_subs_new_env.mlib')\n",
    "print(len(m_subs))\n",
    "m_subs['3']"
   ]
  },
  {
   "attachments": {},
   "cell_type": "markdown",
   "metadata": {},
   "source": [
    "# 2. Combinatorial Expansion"
   ]
  },
  {
   "cell_type": "code",
   "execution_count": 7,
   "metadata": {},
   "outputs": [
    {
     "name": "stdout",
     "output_type": "stream",
     "text": [
      "Will create a library of size 75\n"
     ]
    },
    {
     "name": "stderr",
     "output_type": "stream",
     "text": [
      "100%|██████████| 75/75 [00:02<00:00, 36.89it/s]\n"
     ]
    },
    {
     "data": {
      "text/plain": [
       "CompletedProcess(args=['molli', 'combine', './ncsa-testing-output/BOX_cores_new_env.mlib', '-s', './ncsa-testing-output/BOX_subs_new_env.mlib', '-j', '96', '-o', './ncsa-testing-output/test_combine_new_env.mlib', '-a', 'A1', '--obopt', 'uff', '-m', 'same', '--overwrite'], returncode=0)"
      ]
     },
     "execution_count": 7,
     "metadata": {},
     "output_type": "execute_result"
    }
   ],
   "source": [
    "subprocess.run(\n",
    "    [\n",
    "        'molli',\n",
    "        'combine',\n",
    "        f'{out_dir}BOX_cores_new_env.mlib',\n",
    "        '-s',\n",
    "        f'{out_dir}BOX_subs_new_env.mlib',\n",
    "        '-j',\n",
    "        '96', \n",
    "        '-o', \n",
    "        f'{out_dir}test_combine_new_env.mlib', \n",
    "        '-a', \n",
    "        'A1', \n",
    "        '--obopt', \n",
    "        'uff',\n",
    "        '-m',\n",
    "        'same',\n",
    "        \"--overwrite\"\n",
    "    ]\n",
    ")\n"
   ]
  },
  {
   "cell_type": "code",
   "execution_count": 8,
   "metadata": {},
   "outputs": [
    {
     "name": "stdout",
     "output_type": "stream",
     "text": [
      "75\n"
     ]
    },
    {
     "data": {
      "application/3dmoljs_load.v0": "<div id=\"3dmolviewer_16869435576143374\"  style=\"position: relative; width: 1000px; height: 500px\">\n        <p id=\"3dmolwarning_16869435576143374\" style=\"background-color:#ffcccc;color:black\">You appear to be running in JupyterLab (or JavaScript failed to load for some other reason).  You need to install the 3dmol extension: <br>\n        <tt>jupyter labextension install jupyterlab_3dmol</tt></p>\n        </div>\n<script>\n\nvar loadScriptAsync = function(uri){\n  return new Promise((resolve, reject) => {\n    //this is to ignore the existence of requirejs amd\n    var savedexports, savedmodule;\n    if (typeof exports !== 'undefined') savedexports = exports;\n    else exports = {}\n    if (typeof module !== 'undefined') savedmodule = module;\n    else module = {}\n\n    var tag = document.createElement('script');\n    tag.src = uri;\n    tag.async = true;\n    tag.onload = () => {\n        exports = savedexports;\n        module = savedmodule;\n        resolve();\n    };\n  var firstScriptTag = document.getElementsByTagName('script')[0];\n  firstScriptTag.parentNode.insertBefore(tag, firstScriptTag);\n});\n};\n\nif(typeof $3Dmolpromise === 'undefined') {\n$3Dmolpromise = null;\n  $3Dmolpromise = loadScriptAsync('https://cdnjs.cloudflare.com/ajax/libs/3Dmol/2.0.1/3Dmol-min.js');\n}\n\nvar viewer_16869435576143374 = null;\nvar warn = document.getElementById(\"3dmolwarning_16869435576143374\");\nif(warn) {\n    warn.parentNode.removeChild(warn);\n}\n$3Dmolpromise.then(function() {\nviewer_16869435576143374 = $3Dmol.createViewer(document.getElementById(\"3dmolviewer_16869435576143374\"),{backgroundColor:\"white\"});\nviewer_16869435576143374.zoomTo();\n\tviewer_16869435576143374.addModel(\"# Produced with molli package\\n@<TRIPOS>MOLECULE\\n1_3_3\\n48 50 0 0 0\\nSMALL\\nUSER_CHARGES\\n\\n@<TRIPOS>ATOM\\n     1 C       0.050974     0.016444     0.205095 C          1 UNL1 0.0\\n     2 C       0.861092     1.330828     0.296282 C          1 UNL1 0.0\\n     3 O      -0.090230     2.302631     0.412307 O          1 UNL1 0.0\\n     4 C      -1.320041     1.769491     0.373985 C          1 UNL1 0.0\\n     5 N      -1.346887     0.487463     0.281846 N          1 UNL1 0.0\\n     6 C      -2.527050     2.652816     0.391177 C          1 UNL1 0.0\\n     7 C      -3.775011     1.843892     0.226242 C          1 UNL1 0.0\\n     8 O      -4.977726     2.434679     0.287674 O          1 UNL1 0.0\\n     9 C      -5.975860     1.511561     0.168486 C          1 UNL1 0.0\\n    10 C      -5.230091     0.162141     0.057855 C          1 UNL1 0.0\\n    11 N      -3.810402     0.568622     0.063105 N          1 UNL1 0.0\\n    12 C      -2.599165    -0.293383     0.098505 C          1 UNL1 0.0\\n    13 Br     -2.926292    -1.539289     1.558106 Br         1 UNL1 0.0\\n    14 Br     -2.328368    -1.268885    -1.564366 Br         1 UNL1 0.0\\n    15 C      -2.570941     3.394483     1.738680 C          1 UNL1 0.0\\n    16 C      -2.440509     3.662599    -0.766548 C          1 UNL1 0.0\\n    17 H       0.241970    -0.400225    -0.808187 H          1 UNL1 0.0\\n    18 H       1.533531     1.391466     1.176495 H          1 UNL1 0.0\\n    19 H       1.462176     1.499112    -0.623659 H          1 UNL1 0.0\\n    20 H      -6.640852     1.534244     1.058936 H          1 UNL1 0.0\\n    21 H      -6.572500     1.775984    -0.727720 H          1 UNL1 0.0\\n    22 H      -5.438313    -0.387639     1.002125 H          1 UNL1 0.0\\n    23 H      -2.637557     2.668337     2.578718 H          1 UNL1 0.0\\n    24 H      -3.451576     4.070539     1.790159 H          1 UNL1 0.0\\n    25 H      -1.656162     4.010075     1.880507 H          1 UNL1 0.0\\n    26 H      -1.528680     4.291665    -0.675080 H          1 UNL1 0.0\\n    27 H      -3.323633     4.337867    -0.767292 H          1 UNL1 0.0\\n    28 H      -2.403860     3.131867    -1.743167 H          1 UNL1 0.0\\n    29 C      -5.826614    -0.669622    -1.127377 C          1 UNL1 0.0\\n    30 C      -5.576087    -2.182018    -1.011418 C          1 UNL1 0.0\\n    31 C      -5.490561    -0.111833    -2.523675 C          1 UNL1 0.0\\n    32 H      -6.933984    -0.600861    -1.022769 H          1 UNL1 0.0\\n    33 H      -4.527749    -2.482492    -1.075145 H          1 UNL1 0.0\\n    34 H      -6.126708    -2.715355    -1.815886 H          1 UNL1 0.0\\n    35 H      -5.964604    -2.550481    -0.038206 H          1 UNL1 0.0\\n    36 H      -6.018087    -0.702277    -3.302459 H          1 UNL1 0.0\\n    37 H      -4.413361    -0.139247    -2.744065 H          1 UNL1 0.0\\n    38 H      -5.819090     0.940674    -2.629860 H          1 UNL1 0.0\\n    39 C       0.597395    -1.000037     1.263473 C          1 UNL1 0.0\\n    40 C       0.294735    -2.470538     0.933604 C          1 UNL1 0.0\\n    41 C       0.258875    -0.625188     2.718414 C          1 UNL1 0.0\\n    42 H       1.708237    -0.964066     1.181165 H          1 UNL1 0.0\\n    43 H      -0.763068    -2.739809     0.939076 H          1 UNL1 0.0\\n    44 H       0.811346    -3.130558     1.663242 H          1 UNL1 0.0\\n    45 H       0.688444    -2.713706    -0.076088 H          1 UNL1 0.0\\n    46 H       0.751661    -1.334117     3.416620 H          1 UNL1 0.0\\n    47 H      -0.823355    -0.640992     2.918139 H          1 UNL1 0.0\\n    48 H       0.623250     0.391996     2.965489 H          1 UNL1 0.0\\n@<TRIPOS>BOND\\n     1      1      2          1\\n     2      2      3          1\\n     3      3      4          1\\n     4      4      5          2\\n     5      5      1          1\\n     6      4      6          1\\n     7      6      7          1\\n     8      7      8          1\\n     9      8      9          1\\n    10      9     10          1\\n    11     10     11          1\\n    12     11      7          2\\n    13     11     12          1\\n    14     12      5          1\\n    15     12     13          1\\n    16     12     14          1\\n    17      6     15          1\\n    18      6     16          1\\n    19      1     17          1\\n    20      2     18          1\\n    21      2     19          1\\n    22      9     20          1\\n    23      9     21          1\\n    24     10     22          1\\n    25     15     23          1\\n    26     15     24          1\\n    27     15     25          1\\n    28     16     26          1\\n    29     16     27          1\\n    30     16     28          1\\n    31     29     30          1\\n    32     29     31          1\\n    33     29     32          1\\n    34     30     33          1\\n    35     30     34          1\\n    36     30     35          1\\n    37     31     36          1\\n    38     31     37          1\\n    39     31     38          1\\n    40     10     29          1\\n    41     39     40          1\\n    42     39     41          1\\n    43     39     42          1\\n    44     40     43          1\\n    45     40     44          1\\n    46     40     45          1\\n    47     41     46          1\\n    48     41     47          1\\n    49     41     48          1\\n    50      1     39          1\\n\",\"mol2\");\n\tviewer_16869435576143374.setStyle({\"stick\": {\"radius\": 0.1}, \"sphere\": {\"scale\": 0.15}});\n\tviewer_16869435576143374.setHoverable({},true,\"\\n            function(atom,viewer,event,container) {\\n                if(!atom.label) {\\n                    atom.label = viewer.addLabel(atom.elem + atom.serial, {position: atom, backgroundColor: 'mintcream', fontColor:'black'});\\n                }\\n            }\\n            \",\"\\n            function(atom,viewer) { \\n                if(atom.label) {\\n                    viewer.removeLabel(atom.label);\\n                    delete atom.label;\\n                }\\n            }\\n            \");\n\tviewer_16869435576143374.zoomTo();\n\tviewer_16869435576143374.setBackgroundColor(null);\nviewer_16869435576143374.render();\n});\n</script>",
      "text/html": [
       "<div id=\"3dmolviewer_16869435576143374\"  style=\"position: relative; width: 1000px; height: 500px\">\n",
       "        <p id=\"3dmolwarning_16869435576143374\" style=\"background-color:#ffcccc;color:black\">You appear to be running in JupyterLab (or JavaScript failed to load for some other reason).  You need to install the 3dmol extension: <br>\n",
       "        <tt>jupyter labextension install jupyterlab_3dmol</tt></p>\n",
       "        </div>\n",
       "<script>\n",
       "\n",
       "var loadScriptAsync = function(uri){\n",
       "  return new Promise((resolve, reject) => {\n",
       "    //this is to ignore the existence of requirejs amd\n",
       "    var savedexports, savedmodule;\n",
       "    if (typeof exports !== 'undefined') savedexports = exports;\n",
       "    else exports = {}\n",
       "    if (typeof module !== 'undefined') savedmodule = module;\n",
       "    else module = {}\n",
       "\n",
       "    var tag = document.createElement('script');\n",
       "    tag.src = uri;\n",
       "    tag.async = true;\n",
       "    tag.onload = () => {\n",
       "        exports = savedexports;\n",
       "        module = savedmodule;\n",
       "        resolve();\n",
       "    };\n",
       "  var firstScriptTag = document.getElementsByTagName('script')[0];\n",
       "  firstScriptTag.parentNode.insertBefore(tag, firstScriptTag);\n",
       "});\n",
       "};\n",
       "\n",
       "if(typeof $3Dmolpromise === 'undefined') {\n",
       "$3Dmolpromise = null;\n",
       "  $3Dmolpromise = loadScriptAsync('https://cdnjs.cloudflare.com/ajax/libs/3Dmol/2.0.1/3Dmol-min.js');\n",
       "}\n",
       "\n",
       "var viewer_16869435576143374 = null;\n",
       "var warn = document.getElementById(\"3dmolwarning_16869435576143374\");\n",
       "if(warn) {\n",
       "    warn.parentNode.removeChild(warn);\n",
       "}\n",
       "$3Dmolpromise.then(function() {\n",
       "viewer_16869435576143374 = $3Dmol.createViewer(document.getElementById(\"3dmolviewer_16869435576143374\"),{backgroundColor:\"white\"});\n",
       "viewer_16869435576143374.zoomTo();\n",
       "\tviewer_16869435576143374.addModel(\"# Produced with molli package\\n@<TRIPOS>MOLECULE\\n1_3_3\\n48 50 0 0 0\\nSMALL\\nUSER_CHARGES\\n\\n@<TRIPOS>ATOM\\n     1 C       0.050974     0.016444     0.205095 C          1 UNL1 0.0\\n     2 C       0.861092     1.330828     0.296282 C          1 UNL1 0.0\\n     3 O      -0.090230     2.302631     0.412307 O          1 UNL1 0.0\\n     4 C      -1.320041     1.769491     0.373985 C          1 UNL1 0.0\\n     5 N      -1.346887     0.487463     0.281846 N          1 UNL1 0.0\\n     6 C      -2.527050     2.652816     0.391177 C          1 UNL1 0.0\\n     7 C      -3.775011     1.843892     0.226242 C          1 UNL1 0.0\\n     8 O      -4.977726     2.434679     0.287674 O          1 UNL1 0.0\\n     9 C      -5.975860     1.511561     0.168486 C          1 UNL1 0.0\\n    10 C      -5.230091     0.162141     0.057855 C          1 UNL1 0.0\\n    11 N      -3.810402     0.568622     0.063105 N          1 UNL1 0.0\\n    12 C      -2.599165    -0.293383     0.098505 C          1 UNL1 0.0\\n    13 Br     -2.926292    -1.539289     1.558106 Br         1 UNL1 0.0\\n    14 Br     -2.328368    -1.268885    -1.564366 Br         1 UNL1 0.0\\n    15 C      -2.570941     3.394483     1.738680 C          1 UNL1 0.0\\n    16 C      -2.440509     3.662599    -0.766548 C          1 UNL1 0.0\\n    17 H       0.241970    -0.400225    -0.808187 H          1 UNL1 0.0\\n    18 H       1.533531     1.391466     1.176495 H          1 UNL1 0.0\\n    19 H       1.462176     1.499112    -0.623659 H          1 UNL1 0.0\\n    20 H      -6.640852     1.534244     1.058936 H          1 UNL1 0.0\\n    21 H      -6.572500     1.775984    -0.727720 H          1 UNL1 0.0\\n    22 H      -5.438313    -0.387639     1.002125 H          1 UNL1 0.0\\n    23 H      -2.637557     2.668337     2.578718 H          1 UNL1 0.0\\n    24 H      -3.451576     4.070539     1.790159 H          1 UNL1 0.0\\n    25 H      -1.656162     4.010075     1.880507 H          1 UNL1 0.0\\n    26 H      -1.528680     4.291665    -0.675080 H          1 UNL1 0.0\\n    27 H      -3.323633     4.337867    -0.767292 H          1 UNL1 0.0\\n    28 H      -2.403860     3.131867    -1.743167 H          1 UNL1 0.0\\n    29 C      -5.826614    -0.669622    -1.127377 C          1 UNL1 0.0\\n    30 C      -5.576087    -2.182018    -1.011418 C          1 UNL1 0.0\\n    31 C      -5.490561    -0.111833    -2.523675 C          1 UNL1 0.0\\n    32 H      -6.933984    -0.600861    -1.022769 H          1 UNL1 0.0\\n    33 H      -4.527749    -2.482492    -1.075145 H          1 UNL1 0.0\\n    34 H      -6.126708    -2.715355    -1.815886 H          1 UNL1 0.0\\n    35 H      -5.964604    -2.550481    -0.038206 H          1 UNL1 0.0\\n    36 H      -6.018087    -0.702277    -3.302459 H          1 UNL1 0.0\\n    37 H      -4.413361    -0.139247    -2.744065 H          1 UNL1 0.0\\n    38 H      -5.819090     0.940674    -2.629860 H          1 UNL1 0.0\\n    39 C       0.597395    -1.000037     1.263473 C          1 UNL1 0.0\\n    40 C       0.294735    -2.470538     0.933604 C          1 UNL1 0.0\\n    41 C       0.258875    -0.625188     2.718414 C          1 UNL1 0.0\\n    42 H       1.708237    -0.964066     1.181165 H          1 UNL1 0.0\\n    43 H      -0.763068    -2.739809     0.939076 H          1 UNL1 0.0\\n    44 H       0.811346    -3.130558     1.663242 H          1 UNL1 0.0\\n    45 H       0.688444    -2.713706    -0.076088 H          1 UNL1 0.0\\n    46 H       0.751661    -1.334117     3.416620 H          1 UNL1 0.0\\n    47 H      -0.823355    -0.640992     2.918139 H          1 UNL1 0.0\\n    48 H       0.623250     0.391996     2.965489 H          1 UNL1 0.0\\n@<TRIPOS>BOND\\n     1      1      2          1\\n     2      2      3          1\\n     3      3      4          1\\n     4      4      5          2\\n     5      5      1          1\\n     6      4      6          1\\n     7      6      7          1\\n     8      7      8          1\\n     9      8      9          1\\n    10      9     10          1\\n    11     10     11          1\\n    12     11      7          2\\n    13     11     12          1\\n    14     12      5          1\\n    15     12     13          1\\n    16     12     14          1\\n    17      6     15          1\\n    18      6     16          1\\n    19      1     17          1\\n    20      2     18          1\\n    21      2     19          1\\n    22      9     20          1\\n    23      9     21          1\\n    24     10     22          1\\n    25     15     23          1\\n    26     15     24          1\\n    27     15     25          1\\n    28     16     26          1\\n    29     16     27          1\\n    30     16     28          1\\n    31     29     30          1\\n    32     29     31          1\\n    33     29     32          1\\n    34     30     33          1\\n    35     30     34          1\\n    36     30     35          1\\n    37     31     36          1\\n    38     31     37          1\\n    39     31     38          1\\n    40     10     29          1\\n    41     39     40          1\\n    42     39     41          1\\n    43     39     42          1\\n    44     40     43          1\\n    45     40     44          1\\n    46     40     45          1\\n    47     41     46          1\\n    48     41     47          1\\n    49     41     48          1\\n    50      1     39          1\\n\",\"mol2\");\n",
       "\tviewer_16869435576143374.setStyle({\"stick\": {\"radius\": 0.1}, \"sphere\": {\"scale\": 0.15}});\n",
       "\tviewer_16869435576143374.setHoverable({},true,\"\\n            function(atom,viewer,event,container) {\\n                if(!atom.label) {\\n                    atom.label = viewer.addLabel(atom.elem + atom.serial, {position: atom, backgroundColor: 'mintcream', fontColor:'black'});\\n                }\\n            }\\n            \",\"\\n            function(atom,viewer) { \\n                if(atom.label) {\\n                    viewer.removeLabel(atom.label);\\n                    delete atom.label;\\n                }\\n            }\\n            \");\n",
       "\tviewer_16869435576143374.zoomTo();\n",
       "\tviewer_16869435576143374.setBackgroundColor(null);\n",
       "viewer_16869435576143374.render();\n",
       "});\n",
       "</script>"
      ]
     },
     "metadata": {},
     "output_type": "display_data"
    },
    {
     "data": {
      "text/plain": [
       "Molecule(name='1_3_3', formula='C16 H26 Br2 N2 O2')"
      ]
     },
     "execution_count": 8,
     "metadata": {},
     "output_type": "execute_result"
    }
   ],
   "source": [
    "combined = ml.MoleculeLibrary(f'{out_dir}test_combine_new_env.mlib')\n",
    "print(len(combined))\n",
    "# you index full catalysts structures with the concatenated core_substituent_substituent string\n",
    "combined[\"1_3_3\"]"
   ]
  },
  {
   "cell_type": "code",
   "execution_count": 9,
   "metadata": {},
   "outputs": [
    {
     "data": {
      "application/3dmoljs_load.v0": "<div id=\"3dmolviewer_16869435576422858\"  style=\"position: relative; width: 1000px; height: 500px\">\n        <p id=\"3dmolwarning_16869435576422858\" style=\"background-color:#ffcccc;color:black\">You appear to be running in JupyterLab (or JavaScript failed to load for some other reason).  You need to install the 3dmol extension: <br>\n        <tt>jupyter labextension install jupyterlab_3dmol</tt></p>\n        </div>\n<script>\n\nvar loadScriptAsync = function(uri){\n  return new Promise((resolve, reject) => {\n    //this is to ignore the existence of requirejs amd\n    var savedexports, savedmodule;\n    if (typeof exports !== 'undefined') savedexports = exports;\n    else exports = {}\n    if (typeof module !== 'undefined') savedmodule = module;\n    else module = {}\n\n    var tag = document.createElement('script');\n    tag.src = uri;\n    tag.async = true;\n    tag.onload = () => {\n        exports = savedexports;\n        module = savedmodule;\n        resolve();\n    };\n  var firstScriptTag = document.getElementsByTagName('script')[0];\n  firstScriptTag.parentNode.insertBefore(tag, firstScriptTag);\n});\n};\n\nif(typeof $3Dmolpromise === 'undefined') {\n$3Dmolpromise = null;\n  $3Dmolpromise = loadScriptAsync('https://cdnjs.cloudflare.com/ajax/libs/3Dmol/2.0.1/3Dmol-min.js');\n}\n\nvar viewer_16869435576422858 = null;\nvar warn = document.getElementById(\"3dmolwarning_16869435576422858\");\nif(warn) {\n    warn.parentNode.removeChild(warn);\n}\n$3Dmolpromise.then(function() {\nviewer_16869435576422858 = $3Dmol.createViewer(document.getElementById(\"3dmolviewer_16869435576422858\"),{backgroundColor:\"white\"});\nviewer_16869435576422858.zoomTo();\n\tviewer_16869435576422858.addModel(\"# Produced with molli package\\n@<TRIPOS>MOLECULE\\n3_6_6\\n74 78 0 0 0\\nSMALL\\nUSER_CHARGES\\n\\n@<TRIPOS>ATOM\\n     1 C      -0.255333    -0.329876     0.438812 C          1 UNL1 0.0\\n     2 C       0.708108     0.912054     0.320789 C          1 UNL1 0.0\\n     3 O      -0.174102     1.956868     0.154835 O          1 UNL1 0.0\\n     4 C      -1.447944     1.549969     0.286382 C          1 UNL1 0.0\\n     5 N      -1.575727     0.290681     0.470362 N          1 UNL1 0.0\\n     6 C      -2.602947     2.509629     0.176813 C          1 UNL1 0.0\\n     7 C      -3.894366     1.748309     0.050579 C          1 UNL1 0.0\\n     8 O      -5.063616     2.382491    -0.132228 O          1 UNL1 0.0\\n     9 C      -6.103278     1.488099    -0.077496 C          1 UNL1 0.0\\n    10 C      -5.393501     0.085475    -0.062618 C          1 UNL1 0.0\\n    11 N      -3.997360     0.473282     0.142996 N          1 UNL1 0.0\\n    12 C      -2.874250    -0.413962     0.520702 C          1 UNL1 0.0\\n    13 Br     -3.237069    -0.993295     2.346397 Br         1 UNL1 0.0\\n    14 Br     -2.754282    -2.038641    -0.571806 Br         1 UNL1 0.0\\n    15 C      -2.644054     3.402211     1.427992 C          1 UNL1 0.0\\n    16 C      -2.428460     3.374173    -1.083128 C          1 UNL1 0.0\\n    17 C      -7.250401     1.931141    -1.043288 C          1 UNL1 0.0\\n    18 C      -6.790881     2.349960    -2.460363 C          1 UNL1 0.0\\n    19 C      -8.435888     0.953165    -1.069584 C          1 UNL1 0.0\\n    20 C       1.726544     1.370705     1.416186 C          1 UNL1 0.0\\n    21 C       2.875651     0.390533     1.665007 C          1 UNL1 0.0\\n    22 C       1.093154     1.833524     2.739305 C          1 UNL1 0.0\\n    23 H      -0.242505    -0.873049    -0.529940 H          1 UNL1 0.0\\n    24 H       1.293768     0.784870    -0.617158 H          1 UNL1 0.0\\n    25 H      -6.538440     1.594153     0.943936 H          1 UNL1 0.0\\n    26 H      -5.732427    -0.453938     0.833776 H          1 UNL1 0.0\\n    27 H      -2.775046     2.778588     2.340332 H          1 UNL1 0.0\\n    28 H      -3.491029     4.120191     1.375276 H          1 UNL1 0.0\\n    29 H      -1.700822     3.979981     1.534005 H          1 UNL1 0.0\\n    30 H      -1.487340     3.963222    -1.026695 H          1 UNL1 0.0\\n    31 H      -3.271119     4.093224    -1.183777 H          1 UNL1 0.0\\n    32 H      -2.395859     2.739394    -1.994543 H          1 UNL1 0.0\\n    33 H      -7.641934     2.878002    -0.606845 H          1 UNL1 0.0\\n    34 H      -6.019280     3.145453    -2.385836 H          1 UNL1 0.0\\n    35 H      -7.652442     2.779083    -3.014375 H          1 UNL1 0.0\\n    36 H      -6.376482     1.552106    -3.095505 H          1 UNL1 0.0\\n    37 H      -8.185342    -0.021783    -1.524681 H          1 UNL1 0.0\\n    38 H      -9.268554     1.389290    -1.661486 H          1 UNL1 0.0\\n    39 H      -8.802121     0.771501    -0.037694 H          1 UNL1 0.0\\n    40 H       2.209039     2.277595     0.983179 H          1 UNL1 0.0\\n    41 H       3.652819     0.876674     2.292420 H          1 UNL1 0.0\\n    42 H       3.350703     0.100470     0.703252 H          1 UNL1 0.0\\n    43 H       2.541414    -0.503410     2.213307 H          1 UNL1 0.0\\n    44 H       0.347035     2.633903     2.554996 H          1 UNL1 0.0\\n    45 H       1.880736     2.260102     3.397470 H          1 UNL1 0.0\\n    46 H       0.603433     1.015739     3.291831 H          1 UNL1 0.0\\n    47 C      -5.555748    -0.757118    -1.372747 C          1 UNL1 0.0\\n    48 C      -6.239910    -2.119107    -1.302946 C          1 UNL1 0.0\\n    49 C      -6.811408    -2.687484    -0.139629 C          1 UNL1 0.0\\n    50 C      -7.436949    -3.937779    -0.194463 C          1 UNL1 0.0\\n    51 C      -7.503752    -4.641387    -1.396616 C          1 UNL1 0.0\\n    52 C      -6.945309    -4.096964    -2.551814 C          1 UNL1 0.0\\n    53 C      -6.321299    -2.847667    -2.506326 C          1 UNL1 0.0\\n    54 H      -6.114288    -0.204862    -2.116843 H          1 UNL1 0.0\\n    55 H      -4.588387    -0.840169    -1.894081 H          1 UNL1 0.0\\n    56 H      -6.807172    -2.199486     0.818015 H          1 UNL1 0.0\\n    57 H      -7.875935    -4.361079     0.700073 H          1 UNL1 0.0\\n    58 H      -7.990886    -5.607353    -1.433087 H          1 UNL1 0.0\\n    59 H      -6.998408    -4.641726    -3.485678 H          1 UNL1 0.0\\n    60 H      -5.898624    -2.443316    -3.418309 H          1 UNL1 0.0\\n    61 C      -0.009855    -1.381239     1.551449 C          1 UNL1 0.0\\n    62 C       1.115146    -2.375854     1.335598 C          1 UNL1 0.0\\n    63 C       1.934993    -2.404467     0.187122 C          1 UNL1 0.0\\n    64 C       2.926422    -3.382049     0.052649 C          1 UNL1 0.0\\n    65 C       3.115351    -4.335767     1.055066 C          1 UNL1 0.0\\n    66 C       2.314409    -4.314584     2.197163 C          1 UNL1 0.0\\n    67 C       1.320572    -3.343640     2.335823 C          1 UNL1 0.0\\n    68 H       0.079958    -0.891684     2.533880 H          1 UNL1 0.0\\n    69 H      -0.893091    -2.039572     1.600649 H          1 UNL1 0.0\\n    70 H       1.818938    -1.689532    -0.613019 H          1 UNL1 0.0\\n    71 H       3.546941    -3.403130    -0.833685 H          1 UNL1 0.0\\n    72 H       3.880823    -5.092913     0.946255 H          1 UNL1 0.0\\n    73 H       2.458866    -5.053872     2.974491 H          1 UNL1 0.0\\n    74 H       0.702975    -3.346969     3.226281 H          1 UNL1 0.0\\n@<TRIPOS>BOND\\n     1      1      2          1\\n     2      2      3          1\\n     3      3      4          1\\n     4      4      5          2\\n     5      5      1          1\\n     6      4      6          1\\n     7      6      7          1\\n     8      7      8          1\\n     9      8      9          1\\n    10      9     10          1\\n    11     10     11          1\\n    12     11      7          2\\n    13     11     12          1\\n    14     12      5          1\\n    15     12     13          1\\n    16     12     14          1\\n    17      6     15          1\\n    18      6     16          1\\n    19     17     18          1\\n    20     17     19          1\\n    21      9     17          1\\n    22     20     21          1\\n    23     20     22          1\\n    24      2     20          1\\n    25      1     23          1\\n    26      2     24          1\\n    27      9     25          1\\n    28     10     26          1\\n    29     15     27          1\\n    30     15     28          1\\n    31     15     29          1\\n    32     16     30          1\\n    33     16     31          1\\n    34     16     32          1\\n    35     17     33          1\\n    36     18     34          1\\n    37     18     35          1\\n    38     18     36          1\\n    39     19     37          1\\n    40     19     38          1\\n    41     19     39          1\\n    42     20     40          1\\n    43     21     41          1\\n    44     21     42          1\\n    45     21     43          1\\n    46     22     44          1\\n    47     22     45          1\\n    48     22     46          1\\n    49     47     48          1\\n    50     48     49          2\\n    51     49     50          1\\n    52     50     51          2\\n    53     51     52          1\\n    54     52     53          2\\n    55     53     48          1\\n    56     47     54          1\\n    57     47     55          1\\n    58     49     56          1\\n    59     50     57          1\\n    60     51     58          1\\n    61     52     59          1\\n    62     53     60          1\\n    63     10     47          1\\n    64     61     62          1\\n    65     62     63          2\\n    66     63     64          1\\n    67     64     65          2\\n    68     65     66          1\\n    69     66     67          2\\n    70     67     62          1\\n    71     61     68          1\\n    72     61     69          1\\n    73     63     70          1\\n    74     64     71          1\\n    75     65     72          1\\n    76     66     73          1\\n    77     67     74          1\\n    78      1     61          1\\n\",\"mol2\");\n\tviewer_16869435576422858.setStyle({\"stick\": {\"radius\": 0.1}, \"sphere\": {\"scale\": 0.15}});\n\tviewer_16869435576422858.setHoverable({},true,\"\\n            function(atom,viewer,event,container) {\\n                if(!atom.label) {\\n                    atom.label = viewer.addLabel(atom.elem + atom.serial, {position: atom, backgroundColor: 'mintcream', fontColor:'black'});\\n                }\\n            }\\n            \",\"\\n            function(atom,viewer) { \\n                if(atom.label) {\\n                    viewer.removeLabel(atom.label);\\n                    delete atom.label;\\n                }\\n            }\\n            \");\n\tviewer_16869435576422858.zoomTo();\n\tviewer_16869435576422858.setBackgroundColor(null);\nviewer_16869435576422858.render();\n});\n</script>",
      "text/html": [
       "<div id=\"3dmolviewer_16869435576422858\"  style=\"position: relative; width: 1000px; height: 500px\">\n",
       "        <p id=\"3dmolwarning_16869435576422858\" style=\"background-color:#ffcccc;color:black\">You appear to be running in JupyterLab (or JavaScript failed to load for some other reason).  You need to install the 3dmol extension: <br>\n",
       "        <tt>jupyter labextension install jupyterlab_3dmol</tt></p>\n",
       "        </div>\n",
       "<script>\n",
       "\n",
       "var loadScriptAsync = function(uri){\n",
       "  return new Promise((resolve, reject) => {\n",
       "    //this is to ignore the existence of requirejs amd\n",
       "    var savedexports, savedmodule;\n",
       "    if (typeof exports !== 'undefined') savedexports = exports;\n",
       "    else exports = {}\n",
       "    if (typeof module !== 'undefined') savedmodule = module;\n",
       "    else module = {}\n",
       "\n",
       "    var tag = document.createElement('script');\n",
       "    tag.src = uri;\n",
       "    tag.async = true;\n",
       "    tag.onload = () => {\n",
       "        exports = savedexports;\n",
       "        module = savedmodule;\n",
       "        resolve();\n",
       "    };\n",
       "  var firstScriptTag = document.getElementsByTagName('script')[0];\n",
       "  firstScriptTag.parentNode.insertBefore(tag, firstScriptTag);\n",
       "});\n",
       "};\n",
       "\n",
       "if(typeof $3Dmolpromise === 'undefined') {\n",
       "$3Dmolpromise = null;\n",
       "  $3Dmolpromise = loadScriptAsync('https://cdnjs.cloudflare.com/ajax/libs/3Dmol/2.0.1/3Dmol-min.js');\n",
       "}\n",
       "\n",
       "var viewer_16869435576422858 = null;\n",
       "var warn = document.getElementById(\"3dmolwarning_16869435576422858\");\n",
       "if(warn) {\n",
       "    warn.parentNode.removeChild(warn);\n",
       "}\n",
       "$3Dmolpromise.then(function() {\n",
       "viewer_16869435576422858 = $3Dmol.createViewer(document.getElementById(\"3dmolviewer_16869435576422858\"),{backgroundColor:\"white\"});\n",
       "viewer_16869435576422858.zoomTo();\n",
       "\tviewer_16869435576422858.addModel(\"# Produced with molli package\\n@<TRIPOS>MOLECULE\\n3_6_6\\n74 78 0 0 0\\nSMALL\\nUSER_CHARGES\\n\\n@<TRIPOS>ATOM\\n     1 C      -0.255333    -0.329876     0.438812 C          1 UNL1 0.0\\n     2 C       0.708108     0.912054     0.320789 C          1 UNL1 0.0\\n     3 O      -0.174102     1.956868     0.154835 O          1 UNL1 0.0\\n     4 C      -1.447944     1.549969     0.286382 C          1 UNL1 0.0\\n     5 N      -1.575727     0.290681     0.470362 N          1 UNL1 0.0\\n     6 C      -2.602947     2.509629     0.176813 C          1 UNL1 0.0\\n     7 C      -3.894366     1.748309     0.050579 C          1 UNL1 0.0\\n     8 O      -5.063616     2.382491    -0.132228 O          1 UNL1 0.0\\n     9 C      -6.103278     1.488099    -0.077496 C          1 UNL1 0.0\\n    10 C      -5.393501     0.085475    -0.062618 C          1 UNL1 0.0\\n    11 N      -3.997360     0.473282     0.142996 N          1 UNL1 0.0\\n    12 C      -2.874250    -0.413962     0.520702 C          1 UNL1 0.0\\n    13 Br     -3.237069    -0.993295     2.346397 Br         1 UNL1 0.0\\n    14 Br     -2.754282    -2.038641    -0.571806 Br         1 UNL1 0.0\\n    15 C      -2.644054     3.402211     1.427992 C          1 UNL1 0.0\\n    16 C      -2.428460     3.374173    -1.083128 C          1 UNL1 0.0\\n    17 C      -7.250401     1.931141    -1.043288 C          1 UNL1 0.0\\n    18 C      -6.790881     2.349960    -2.460363 C          1 UNL1 0.0\\n    19 C      -8.435888     0.953165    -1.069584 C          1 UNL1 0.0\\n    20 C       1.726544     1.370705     1.416186 C          1 UNL1 0.0\\n    21 C       2.875651     0.390533     1.665007 C          1 UNL1 0.0\\n    22 C       1.093154     1.833524     2.739305 C          1 UNL1 0.0\\n    23 H      -0.242505    -0.873049    -0.529940 H          1 UNL1 0.0\\n    24 H       1.293768     0.784870    -0.617158 H          1 UNL1 0.0\\n    25 H      -6.538440     1.594153     0.943936 H          1 UNL1 0.0\\n    26 H      -5.732427    -0.453938     0.833776 H          1 UNL1 0.0\\n    27 H      -2.775046     2.778588     2.340332 H          1 UNL1 0.0\\n    28 H      -3.491029     4.120191     1.375276 H          1 UNL1 0.0\\n    29 H      -1.700822     3.979981     1.534005 H          1 UNL1 0.0\\n    30 H      -1.487340     3.963222    -1.026695 H          1 UNL1 0.0\\n    31 H      -3.271119     4.093224    -1.183777 H          1 UNL1 0.0\\n    32 H      -2.395859     2.739394    -1.994543 H          1 UNL1 0.0\\n    33 H      -7.641934     2.878002    -0.606845 H          1 UNL1 0.0\\n    34 H      -6.019280     3.145453    -2.385836 H          1 UNL1 0.0\\n    35 H      -7.652442     2.779083    -3.014375 H          1 UNL1 0.0\\n    36 H      -6.376482     1.552106    -3.095505 H          1 UNL1 0.0\\n    37 H      -8.185342    -0.021783    -1.524681 H          1 UNL1 0.0\\n    38 H      -9.268554     1.389290    -1.661486 H          1 UNL1 0.0\\n    39 H      -8.802121     0.771501    -0.037694 H          1 UNL1 0.0\\n    40 H       2.209039     2.277595     0.983179 H          1 UNL1 0.0\\n    41 H       3.652819     0.876674     2.292420 H          1 UNL1 0.0\\n    42 H       3.350703     0.100470     0.703252 H          1 UNL1 0.0\\n    43 H       2.541414    -0.503410     2.213307 H          1 UNL1 0.0\\n    44 H       0.347035     2.633903     2.554996 H          1 UNL1 0.0\\n    45 H       1.880736     2.260102     3.397470 H          1 UNL1 0.0\\n    46 H       0.603433     1.015739     3.291831 H          1 UNL1 0.0\\n    47 C      -5.555748    -0.757118    -1.372747 C          1 UNL1 0.0\\n    48 C      -6.239910    -2.119107    -1.302946 C          1 UNL1 0.0\\n    49 C      -6.811408    -2.687484    -0.139629 C          1 UNL1 0.0\\n    50 C      -7.436949    -3.937779    -0.194463 C          1 UNL1 0.0\\n    51 C      -7.503752    -4.641387    -1.396616 C          1 UNL1 0.0\\n    52 C      -6.945309    -4.096964    -2.551814 C          1 UNL1 0.0\\n    53 C      -6.321299    -2.847667    -2.506326 C          1 UNL1 0.0\\n    54 H      -6.114288    -0.204862    -2.116843 H          1 UNL1 0.0\\n    55 H      -4.588387    -0.840169    -1.894081 H          1 UNL1 0.0\\n    56 H      -6.807172    -2.199486     0.818015 H          1 UNL1 0.0\\n    57 H      -7.875935    -4.361079     0.700073 H          1 UNL1 0.0\\n    58 H      -7.990886    -5.607353    -1.433087 H          1 UNL1 0.0\\n    59 H      -6.998408    -4.641726    -3.485678 H          1 UNL1 0.0\\n    60 H      -5.898624    -2.443316    -3.418309 H          1 UNL1 0.0\\n    61 C      -0.009855    -1.381239     1.551449 C          1 UNL1 0.0\\n    62 C       1.115146    -2.375854     1.335598 C          1 UNL1 0.0\\n    63 C       1.934993    -2.404467     0.187122 C          1 UNL1 0.0\\n    64 C       2.926422    -3.382049     0.052649 C          1 UNL1 0.0\\n    65 C       3.115351    -4.335767     1.055066 C          1 UNL1 0.0\\n    66 C       2.314409    -4.314584     2.197163 C          1 UNL1 0.0\\n    67 C       1.320572    -3.343640     2.335823 C          1 UNL1 0.0\\n    68 H       0.079958    -0.891684     2.533880 H          1 UNL1 0.0\\n    69 H      -0.893091    -2.039572     1.600649 H          1 UNL1 0.0\\n    70 H       1.818938    -1.689532    -0.613019 H          1 UNL1 0.0\\n    71 H       3.546941    -3.403130    -0.833685 H          1 UNL1 0.0\\n    72 H       3.880823    -5.092913     0.946255 H          1 UNL1 0.0\\n    73 H       2.458866    -5.053872     2.974491 H          1 UNL1 0.0\\n    74 H       0.702975    -3.346969     3.226281 H          1 UNL1 0.0\\n@<TRIPOS>BOND\\n     1      1      2          1\\n     2      2      3          1\\n     3      3      4          1\\n     4      4      5          2\\n     5      5      1          1\\n     6      4      6          1\\n     7      6      7          1\\n     8      7      8          1\\n     9      8      9          1\\n    10      9     10          1\\n    11     10     11          1\\n    12     11      7          2\\n    13     11     12          1\\n    14     12      5          1\\n    15     12     13          1\\n    16     12     14          1\\n    17      6     15          1\\n    18      6     16          1\\n    19     17     18          1\\n    20     17     19          1\\n    21      9     17          1\\n    22     20     21          1\\n    23     20     22          1\\n    24      2     20          1\\n    25      1     23          1\\n    26      2     24          1\\n    27      9     25          1\\n    28     10     26          1\\n    29     15     27          1\\n    30     15     28          1\\n    31     15     29          1\\n    32     16     30          1\\n    33     16     31          1\\n    34     16     32          1\\n    35     17     33          1\\n    36     18     34          1\\n    37     18     35          1\\n    38     18     36          1\\n    39     19     37          1\\n    40     19     38          1\\n    41     19     39          1\\n    42     20     40          1\\n    43     21     41          1\\n    44     21     42          1\\n    45     21     43          1\\n    46     22     44          1\\n    47     22     45          1\\n    48     22     46          1\\n    49     47     48          1\\n    50     48     49          2\\n    51     49     50          1\\n    52     50     51          2\\n    53     51     52          1\\n    54     52     53          2\\n    55     53     48          1\\n    56     47     54          1\\n    57     47     55          1\\n    58     49     56          1\\n    59     50     57          1\\n    60     51     58          1\\n    61     52     59          1\\n    62     53     60          1\\n    63     10     47          1\\n    64     61     62          1\\n    65     62     63          2\\n    66     63     64          1\\n    67     64     65          2\\n    68     65     66          1\\n    69     66     67          2\\n    70     67     62          1\\n    71     61     68          1\\n    72     61     69          1\\n    73     63     70          1\\n    74     64     71          1\\n    75     65     72          1\\n    76     66     73          1\\n    77     67     74          1\\n    78      1     61          1\\n\",\"mol2\");\n",
       "\tviewer_16869435576422858.setStyle({\"stick\": {\"radius\": 0.1}, \"sphere\": {\"scale\": 0.15}});\n",
       "\tviewer_16869435576422858.setHoverable({},true,\"\\n            function(atom,viewer,event,container) {\\n                if(!atom.label) {\\n                    atom.label = viewer.addLabel(atom.elem + atom.serial, {position: atom, backgroundColor: 'mintcream', fontColor:'black'});\\n                }\\n            }\\n            \",\"\\n            function(atom,viewer) { \\n                if(atom.label) {\\n                    viewer.removeLabel(atom.label);\\n                    delete atom.label;\\n                }\\n            }\\n            \");\n",
       "\tviewer_16869435576422858.zoomTo();\n",
       "\tviewer_16869435576422858.setBackgroundColor(null);\n",
       "viewer_16869435576422858.render();\n",
       "});\n",
       "</script>"
      ]
     },
     "metadata": {},
     "output_type": "display_data"
    },
    {
     "data": {
      "text/plain": [
       "Molecule(name='3_6_6', formula='C30 H38 Br2 N2 O2')"
      ]
     },
     "execution_count": 9,
     "metadata": {},
     "output_type": "execute_result"
    }
   ],
   "source": [
    "combined[\"3_6_6\"]"
   ]
  },
  {
   "attachments": {},
   "cell_type": "markdown",
   "metadata": {},
   "source": [
    "# 3. Conformer Generation"
   ]
  },
  {
   "cell_type": "code",
   "execution_count": 10,
   "metadata": {},
   "outputs": [
    {
     "name": "stderr",
     "output_type": "stream",
     "text": [
      "100%|██████████| 75/75 [02:09<00:00,  1.73s/it]\n"
     ]
    },
    {
     "data": {
      "text/plain": [
       "CompletedProcess(args=['molli', 'conformers', './ncsa-testing-output/test_combine_new_env.mlib', '-n', '50', '-o', './ncsa-testing-output/test_conformers_new_env.mlib', '-t', '-j', '96', '--overwrite'], returncode=0)"
      ]
     },
     "execution_count": 10,
     "metadata": {},
     "output_type": "execute_result"
    }
   ],
   "source": [
    "subprocess.run(['molli', \n",
    "                'conformers', \n",
    "                f'{out_dir}test_combine_new_env.mlib', \n",
    "                '-n', \n",
    "                '50', \n",
    "                '-o', \n",
    "                f'{out_dir}test_conformers_new_env.mlib', \n",
    "                '-t', \n",
    "                '-j', ### !!!!!! Number of jobs. Please scale down if host system has fewer cores. defaults to os.cpu_count()//2  !!!!! ###\n",
    "                '96',\n",
    "                \"--overwrite\"\n",
    "                ])"
   ]
  },
  {
   "cell_type": "code",
   "execution_count": 11,
   "metadata": {},
   "outputs": [
    {
     "name": "stdout",
     "output_type": "stream",
     "text": [
      "75\n"
     ]
    }
   ],
   "source": [
    "clib = ml.ConformerLibrary(f'{out_dir}test_conformers_new_env.mlib')\n",
    "print(len(clib))"
   ]
  },
  {
   "cell_type": "code",
   "execution_count": 12,
   "metadata": {},
   "outputs": [
    {
     "name": "stdout",
     "output_type": "stream",
     "text": [
      "8028 conformers in library\n"
     ]
    }
   ],
   "source": [
    "i = 0\n",
    "for conf in clib:\n",
    "    i += conf.n_conformers\n",
    "    # print(conf)\n",
    "print(str(i) + ' conformers in library')\n",
    "\n",
    "# many of these conformers ar redundant - redundant confs thrown out during aso calculation"
   ]
  },
  {
   "cell_type": "code",
   "execution_count": 13,
   "metadata": {},
   "outputs": [
    {
     "name": "stdout",
     "output_type": "stream",
     "text": [
      "ConformerEnsemble(name='1_3_3', formula='C16 H26 Br2 N2 O2', n_conformers=150)\n"
     ]
    },
    {
     "data": {
      "application/3dmoljs_load.v0": "<div id=\"3dmolviewer_16869436885543683\"  style=\"position: relative; width: 1000px; height: 500px\">\n        <p id=\"3dmolwarning_16869436885543683\" style=\"background-color:#ffcccc;color:black\">You appear to be running in JupyterLab (or JavaScript failed to load for some other reason).  You need to install the 3dmol extension: <br>\n        <tt>jupyter labextension install jupyterlab_3dmol</tt></p>\n        </div>\n<script>\n\nvar loadScriptAsync = function(uri){\n  return new Promise((resolve, reject) => {\n    //this is to ignore the existence of requirejs amd\n    var savedexports, savedmodule;\n    if (typeof exports !== 'undefined') savedexports = exports;\n    else exports = {}\n    if (typeof module !== 'undefined') savedmodule = module;\n    else module = {}\n\n    var tag = document.createElement('script');\n    tag.src = uri;\n    tag.async = true;\n    tag.onload = () => {\n        exports = savedexports;\n        module = savedmodule;\n        resolve();\n    };\n  var firstScriptTag = document.getElementsByTagName('script')[0];\n  firstScriptTag.parentNode.insertBefore(tag, firstScriptTag);\n});\n};\n\nif(typeof $3Dmolpromise === 'undefined') {\n$3Dmolpromise = null;\n  $3Dmolpromise = loadScriptAsync('https://cdnjs.cloudflare.com/ajax/libs/3Dmol/2.0.1/3Dmol-min.js');\n}\n\nvar viewer_16869436885543683 = null;\nvar warn = document.getElementById(\"3dmolwarning_16869436885543683\");\nif(warn) {\n    warn.parentNode.removeChild(warn);\n}\n$3Dmolpromise.then(function() {\nviewer_16869436885543683 = $3Dmol.createViewer(document.getElementById(\"3dmolviewer_16869436885543683\"),{backgroundColor:\"white\"});\nviewer_16869436885543683.zoomTo();\n\tviewer_16869436885543683.addModel(\"# Produced with molli package\\n@<TRIPOS>MOLECULE\\n1_3_3\\n48 50 0 0 0\\nSMALL\\nUSER_CHARGES\\n\\n@<TRIPOS>ATOM\\n     1 C       0.013000    -0.067000     0.511600 C.3        1 UNL1 0.0\\n     2 C       0.799500     1.147500     0.002200 C.3        1 UNL1 0.0\\n     3 O      -0.064300     2.248600     0.352400 O.2        1 UNL1 0.0\\n     4 C      -1.308600     1.774800     0.354200 C.2        1 UNL1 0.0\\n     5 N      -1.358500     0.499500     0.327100 N.2        1 UNL1 0.0\\n     6 C      -2.522600     2.640000     0.341900 C.3        1 UNL1 0.0\\n     7 C      -3.773700     1.820000     0.325300 C.2        1 UNL1 0.0\\n     8 O      -4.950500     2.313500     0.701100 O.2        1 UNL1 0.0\\n     9 C      -5.847000     1.213100     0.896400 C.3        1 UNL1 0.0\\n    10 C      -5.215800     0.063600     0.102100 C.3        1 UNL1 0.0\\n    11 N      -3.815900     0.587900    -0.012200 N.2        1 UNL1 0.0\\n    12 C      -2.553400    -0.182700    -0.284700 C.3        1 UNL1 0.0\\n    13 BR     -2.191000    -0.145500    -2.242100 Br         1 UNL1 0.0\\n    14 BR     -2.707500    -2.043000     0.277800 Br         1 UNL1 0.0\\n    15 C      -2.497200     3.489900     1.622100 C.3        1 UNL1 0.0\\n    16 C      -2.506300     3.550400    -0.889700 C.3        1 UNL1 0.0\\n    17 H       0.158800    -0.954700    -0.110800 H          1 UNL1 0.0\\n    18 H       1.778600     1.291800     0.463900 H          1 UNL1 0.0\\n    19 H       0.921200     1.139700    -1.087700 H          1 UNL1 0.0\\n    20 H      -5.883900     0.991700     1.969600 H          1 UNL1 0.0\\n    21 H      -6.853000     1.489200     0.566600 H          1 UNL1 0.0\\n    22 H      -5.231800    -0.840200     0.718400 H          1 UNL1 0.0\\n    23 H      -1.581000     4.087900     1.690300 H          1 UNL1 0.0\\n    24 H      -3.346800     4.181000     1.665200 H          1 UNL1 0.0\\n    25 H      -2.542600     2.856900     2.516700 H          1 UNL1 0.0\\n    26 H      -1.616000     4.189400    -0.904100 H          1 UNL1 0.0\\n    27 H      -2.505600     2.971700    -1.819400 H          1 UNL1 0.0\\n    28 H      -3.388000     4.201300    -0.914600 H          1 UNL1 0.0\\n    29 C      -5.964300    -0.159400    -1.231700 C.3        1 UNL1 0.0\\n    30 C      -5.875500     0.984100    -2.246900 C.3        1 UNL1 0.0\\n    31 C      -5.654800    -1.505600    -1.887900 C.3        1 UNL1 0.0\\n    32 H      -7.029100    -0.232200    -0.962800 H          1 UNL1 0.0\\n    33 H      -4.862000     1.126500    -2.626300 H          1 UNL1 0.0\\n    34 H      -6.520300     0.778800    -3.108700 H          1 UNL1 0.0\\n    35 H      -6.211000     1.930700    -1.812300 H          1 UNL1 0.0\\n    36 H      -4.654300    -1.548300    -2.314400 H          1 UNL1 0.0\\n    37 H      -5.758300    -2.323800    -1.167700 H          1 UNL1 0.0\\n    38 H      -6.360100    -1.700800    -2.703800 H          1 UNL1 0.0\\n    39 C       0.352200    -0.304700     2.013800 C.3        1 UNL1 0.0\\n    40 C       1.734400    -0.967600     2.139600 C.3        1 UNL1 0.0\\n    41 C      -0.645400    -1.149700     2.805600 C.3        1 UNL1 0.0\\n    42 H       0.407200     0.665700     2.527400 H          1 UNL1 0.0\\n    43 H       2.000400    -1.114900     3.192200 H          1 UNL1 0.0\\n    44 H       2.523600    -0.358600     1.690500 H          1 UNL1 0.0\\n    45 H       1.745300    -1.947400     1.649500 H          1 UNL1 0.0\\n    46 H      -0.335000    -1.219300     3.854900 H          1 UNL1 0.0\\n    47 H      -0.699100    -2.171900     2.420900 H          1 UNL1 0.0\\n    48 H      -1.643400    -0.702400     2.806500 H          1 UNL1 0.0\\n@<TRIPOS>BOND\\n     1      1      2          1\\n     2      2      3          1\\n     3      3      4          1\\n     4      4      5          2\\n     5      5      1          1\\n     6      4      6          1\\n     7      6      7          1\\n     8      7      8          1\\n     9      8      9          1\\n    10      9     10          1\\n    11     10     11          1\\n    12     11      7          2\\n    13     11     12          1\\n    14     12      5          1\\n    15     12     13          1\\n    16     12     14          1\\n    17      6     15          1\\n    18      6     16          1\\n    19      1     17          1\\n    20      2     18          1\\n    21      2     19          1\\n    22      9     20          1\\n    23      9     21          1\\n    24     10     22          1\\n    25     15     23          1\\n    26     15     24          1\\n    27     15     25          1\\n    28     16     26          1\\n    29     16     27          1\\n    30     16     28          1\\n    31     29     30          1\\n    32     29     31          1\\n    33     29     32          1\\n    34     30     33          1\\n    35     30     34          1\\n    36     30     35          1\\n    37     31     36          1\\n    38     31     37          1\\n    39     31     38          1\\n    40     10     29          1\\n    41     39     40          1\\n    42     39     41          1\\n    43     39     42          1\\n    44     40     43          1\\n    45     40     44          1\\n    46     40     45          1\\n    47     41     46          1\\n    48     41     47          1\\n    49     41     48          1\\n    50      1     39          1\\n\",\"mol2\");\n\tviewer_16869436885543683.setStyle({\"stick\": {\"radius\": 0.1}, \"sphere\": {\"scale\": 0.15}});\n\tviewer_16869436885543683.setHoverable({},true,\"\\n            function(atom,viewer,event,container) {\\n                if(!atom.label) {\\n                    atom.label = viewer.addLabel(atom.elem + atom.serial, {position: atom, backgroundColor: 'mintcream', fontColor:'black'});\\n                }\\n            }\\n            \",\"\\n            function(atom,viewer) { \\n                if(atom.label) {\\n                    viewer.removeLabel(atom.label);\\n                    delete atom.label;\\n                }\\n            }\\n            \");\n\tviewer_16869436885543683.zoomTo();\n\tviewer_16869436885543683.setBackgroundColor(null);\nviewer_16869436885543683.render();\n});\n</script>",
      "text/html": [
       "<div id=\"3dmolviewer_16869436885543683\"  style=\"position: relative; width: 1000px; height: 500px\">\n",
       "        <p id=\"3dmolwarning_16869436885543683\" style=\"background-color:#ffcccc;color:black\">You appear to be running in JupyterLab (or JavaScript failed to load for some other reason).  You need to install the 3dmol extension: <br>\n",
       "        <tt>jupyter labextension install jupyterlab_3dmol</tt></p>\n",
       "        </div>\n",
       "<script>\n",
       "\n",
       "var loadScriptAsync = function(uri){\n",
       "  return new Promise((resolve, reject) => {\n",
       "    //this is to ignore the existence of requirejs amd\n",
       "    var savedexports, savedmodule;\n",
       "    if (typeof exports !== 'undefined') savedexports = exports;\n",
       "    else exports = {}\n",
       "    if (typeof module !== 'undefined') savedmodule = module;\n",
       "    else module = {}\n",
       "\n",
       "    var tag = document.createElement('script');\n",
       "    tag.src = uri;\n",
       "    tag.async = true;\n",
       "    tag.onload = () => {\n",
       "        exports = savedexports;\n",
       "        module = savedmodule;\n",
       "        resolve();\n",
       "    };\n",
       "  var firstScriptTag = document.getElementsByTagName('script')[0];\n",
       "  firstScriptTag.parentNode.insertBefore(tag, firstScriptTag);\n",
       "});\n",
       "};\n",
       "\n",
       "if(typeof $3Dmolpromise === 'undefined') {\n",
       "$3Dmolpromise = null;\n",
       "  $3Dmolpromise = loadScriptAsync('https://cdnjs.cloudflare.com/ajax/libs/3Dmol/2.0.1/3Dmol-min.js');\n",
       "}\n",
       "\n",
       "var viewer_16869436885543683 = null;\n",
       "var warn = document.getElementById(\"3dmolwarning_16869436885543683\");\n",
       "if(warn) {\n",
       "    warn.parentNode.removeChild(warn);\n",
       "}\n",
       "$3Dmolpromise.then(function() {\n",
       "viewer_16869436885543683 = $3Dmol.createViewer(document.getElementById(\"3dmolviewer_16869436885543683\"),{backgroundColor:\"white\"});\n",
       "viewer_16869436885543683.zoomTo();\n",
       "\tviewer_16869436885543683.addModel(\"# Produced with molli package\\n@<TRIPOS>MOLECULE\\n1_3_3\\n48 50 0 0 0\\nSMALL\\nUSER_CHARGES\\n\\n@<TRIPOS>ATOM\\n     1 C       0.013000    -0.067000     0.511600 C.3        1 UNL1 0.0\\n     2 C       0.799500     1.147500     0.002200 C.3        1 UNL1 0.0\\n     3 O      -0.064300     2.248600     0.352400 O.2        1 UNL1 0.0\\n     4 C      -1.308600     1.774800     0.354200 C.2        1 UNL1 0.0\\n     5 N      -1.358500     0.499500     0.327100 N.2        1 UNL1 0.0\\n     6 C      -2.522600     2.640000     0.341900 C.3        1 UNL1 0.0\\n     7 C      -3.773700     1.820000     0.325300 C.2        1 UNL1 0.0\\n     8 O      -4.950500     2.313500     0.701100 O.2        1 UNL1 0.0\\n     9 C      -5.847000     1.213100     0.896400 C.3        1 UNL1 0.0\\n    10 C      -5.215800     0.063600     0.102100 C.3        1 UNL1 0.0\\n    11 N      -3.815900     0.587900    -0.012200 N.2        1 UNL1 0.0\\n    12 C      -2.553400    -0.182700    -0.284700 C.3        1 UNL1 0.0\\n    13 BR     -2.191000    -0.145500    -2.242100 Br         1 UNL1 0.0\\n    14 BR     -2.707500    -2.043000     0.277800 Br         1 UNL1 0.0\\n    15 C      -2.497200     3.489900     1.622100 C.3        1 UNL1 0.0\\n    16 C      -2.506300     3.550400    -0.889700 C.3        1 UNL1 0.0\\n    17 H       0.158800    -0.954700    -0.110800 H          1 UNL1 0.0\\n    18 H       1.778600     1.291800     0.463900 H          1 UNL1 0.0\\n    19 H       0.921200     1.139700    -1.087700 H          1 UNL1 0.0\\n    20 H      -5.883900     0.991700     1.969600 H          1 UNL1 0.0\\n    21 H      -6.853000     1.489200     0.566600 H          1 UNL1 0.0\\n    22 H      -5.231800    -0.840200     0.718400 H          1 UNL1 0.0\\n    23 H      -1.581000     4.087900     1.690300 H          1 UNL1 0.0\\n    24 H      -3.346800     4.181000     1.665200 H          1 UNL1 0.0\\n    25 H      -2.542600     2.856900     2.516700 H          1 UNL1 0.0\\n    26 H      -1.616000     4.189400    -0.904100 H          1 UNL1 0.0\\n    27 H      -2.505600     2.971700    -1.819400 H          1 UNL1 0.0\\n    28 H      -3.388000     4.201300    -0.914600 H          1 UNL1 0.0\\n    29 C      -5.964300    -0.159400    -1.231700 C.3        1 UNL1 0.0\\n    30 C      -5.875500     0.984100    -2.246900 C.3        1 UNL1 0.0\\n    31 C      -5.654800    -1.505600    -1.887900 C.3        1 UNL1 0.0\\n    32 H      -7.029100    -0.232200    -0.962800 H          1 UNL1 0.0\\n    33 H      -4.862000     1.126500    -2.626300 H          1 UNL1 0.0\\n    34 H      -6.520300     0.778800    -3.108700 H          1 UNL1 0.0\\n    35 H      -6.211000     1.930700    -1.812300 H          1 UNL1 0.0\\n    36 H      -4.654300    -1.548300    -2.314400 H          1 UNL1 0.0\\n    37 H      -5.758300    -2.323800    -1.167700 H          1 UNL1 0.0\\n    38 H      -6.360100    -1.700800    -2.703800 H          1 UNL1 0.0\\n    39 C       0.352200    -0.304700     2.013800 C.3        1 UNL1 0.0\\n    40 C       1.734400    -0.967600     2.139600 C.3        1 UNL1 0.0\\n    41 C      -0.645400    -1.149700     2.805600 C.3        1 UNL1 0.0\\n    42 H       0.407200     0.665700     2.527400 H          1 UNL1 0.0\\n    43 H       2.000400    -1.114900     3.192200 H          1 UNL1 0.0\\n    44 H       2.523600    -0.358600     1.690500 H          1 UNL1 0.0\\n    45 H       1.745300    -1.947400     1.649500 H          1 UNL1 0.0\\n    46 H      -0.335000    -1.219300     3.854900 H          1 UNL1 0.0\\n    47 H      -0.699100    -2.171900     2.420900 H          1 UNL1 0.0\\n    48 H      -1.643400    -0.702400     2.806500 H          1 UNL1 0.0\\n@<TRIPOS>BOND\\n     1      1      2          1\\n     2      2      3          1\\n     3      3      4          1\\n     4      4      5          2\\n     5      5      1          1\\n     6      4      6          1\\n     7      6      7          1\\n     8      7      8          1\\n     9      8      9          1\\n    10      9     10          1\\n    11     10     11          1\\n    12     11      7          2\\n    13     11     12          1\\n    14     12      5          1\\n    15     12     13          1\\n    16     12     14          1\\n    17      6     15          1\\n    18      6     16          1\\n    19      1     17          1\\n    20      2     18          1\\n    21      2     19          1\\n    22      9     20          1\\n    23      9     21          1\\n    24     10     22          1\\n    25     15     23          1\\n    26     15     24          1\\n    27     15     25          1\\n    28     16     26          1\\n    29     16     27          1\\n    30     16     28          1\\n    31     29     30          1\\n    32     29     31          1\\n    33     29     32          1\\n    34     30     33          1\\n    35     30     34          1\\n    36     30     35          1\\n    37     31     36          1\\n    38     31     37          1\\n    39     31     38          1\\n    40     10     29          1\\n    41     39     40          1\\n    42     39     41          1\\n    43     39     42          1\\n    44     40     43          1\\n    45     40     44          1\\n    46     40     45          1\\n    47     41     46          1\\n    48     41     47          1\\n    49     41     48          1\\n    50      1     39          1\\n\",\"mol2\");\n",
       "\tviewer_16869436885543683.setStyle({\"stick\": {\"radius\": 0.1}, \"sphere\": {\"scale\": 0.15}});\n",
       "\tviewer_16869436885543683.setHoverable({},true,\"\\n            function(atom,viewer,event,container) {\\n                if(!atom.label) {\\n                    atom.label = viewer.addLabel(atom.elem + atom.serial, {position: atom, backgroundColor: 'mintcream', fontColor:'black'});\\n                }\\n            }\\n            \",\"\\n            function(atom,viewer) { \\n                if(atom.label) {\\n                    viewer.removeLabel(atom.label);\\n                    delete atom.label;\\n                }\\n            }\\n            \");\n",
       "\tviewer_16869436885543683.zoomTo();\n",
       "\tviewer_16869436885543683.setBackgroundColor(null);\n",
       "viewer_16869436885543683.render();\n",
       "});\n",
       "</script>"
      ]
     },
     "metadata": {},
     "output_type": "display_data"
    },
    {
     "data": {
      "text/plain": [
       "Conformer(name='1_3_3', formula='C16 H26 Br2 N2 O2')"
      ]
     },
     "execution_count": 13,
     "metadata": {},
     "output_type": "execute_result"
    }
   ],
   "source": [
    "print(clib[0])\n",
    "\n",
    "clib['1_3_3'][0]"
   ]
  },
  {
   "cell_type": "code",
   "execution_count": 14,
   "metadata": {},
   "outputs": [
    {
     "data": {
      "application/3dmoljs_load.v0": "<div id=\"3dmolviewer_16869436885690966\"  style=\"position: relative; width: 1000px; height: 500px\">\n        <p id=\"3dmolwarning_16869436885690966\" style=\"background-color:#ffcccc;color:black\">You appear to be running in JupyterLab (or JavaScript failed to load for some other reason).  You need to install the 3dmol extension: <br>\n        <tt>jupyter labextension install jupyterlab_3dmol</tt></p>\n        </div>\n<script>\n\nvar loadScriptAsync = function(uri){\n  return new Promise((resolve, reject) => {\n    //this is to ignore the existence of requirejs amd\n    var savedexports, savedmodule;\n    if (typeof exports !== 'undefined') savedexports = exports;\n    else exports = {}\n    if (typeof module !== 'undefined') savedmodule = module;\n    else module = {}\n\n    var tag = document.createElement('script');\n    tag.src = uri;\n    tag.async = true;\n    tag.onload = () => {\n        exports = savedexports;\n        module = savedmodule;\n        resolve();\n    };\n  var firstScriptTag = document.getElementsByTagName('script')[0];\n  firstScriptTag.parentNode.insertBefore(tag, firstScriptTag);\n});\n};\n\nif(typeof $3Dmolpromise === 'undefined') {\n$3Dmolpromise = null;\n  $3Dmolpromise = loadScriptAsync('https://cdnjs.cloudflare.com/ajax/libs/3Dmol/2.0.1/3Dmol-min.js');\n}\n\nvar viewer_16869436885690966 = null;\nvar warn = document.getElementById(\"3dmolwarning_16869436885690966\");\nif(warn) {\n    warn.parentNode.removeChild(warn);\n}\n$3Dmolpromise.then(function() {\nviewer_16869436885690966 = $3Dmol.createViewer(document.getElementById(\"3dmolviewer_16869436885690966\"),{backgroundColor:\"white\"});\nviewer_16869436885690966.zoomTo();\n\tviewer_16869436885690966.addModel(\"# Produced with molli package\\n@<TRIPOS>MOLECULE\\n1_3_3\\n48 50 0 0 0\\nSMALL\\nUSER_CHARGES\\n\\n@<TRIPOS>ATOM\\n     1 C       0.028900    -0.070100     0.445300 C.3        1 UNL1 0.0\\n     2 C       0.838300     1.195600     0.166400 C.3        1 UNL1 0.0\\n     3 O      -0.077300     2.259400     0.480800 O.2        1 UNL1 0.0\\n     4 C      -1.312200     1.770600     0.382700 C.2        1 UNL1 0.0\\n     5 N      -1.347900     0.497500     0.298300 N.2        1 UNL1 0.0\\n     6 C      -2.525200     2.637300     0.341800 C.3        1 UNL1 0.0\\n     7 C      -3.780500     1.830800     0.296400 C.2        1 UNL1 0.0\\n     8 O      -4.977600     2.354900     0.544700 O.2        1 UNL1 0.0\\n     9 C      -5.929000     1.286100     0.658600 C.3        1 UNL1 0.0\\n    10 C      -5.223200     0.078900     0.042000 C.3        1 UNL1 0.0\\n    11 N      -3.813700     0.586200     0.017200 N.2        1 UNL1 0.0\\n    12 C      -2.564700    -0.214500    -0.215400 C.3        1 UNL1 0.0\\n    13 BR     -2.743400    -1.992300     0.574300 Br         1 UNL1 0.0\\n    14 BR     -2.275300    -0.385100    -2.168900 Br         1 UNL1 0.0\\n    15 C      -2.468300     3.527300    -0.904800 C.3        1 UNL1 0.0\\n    16 C      -2.535600     3.502600     1.610500 C.3        1 UNL1 0.0\\n    17 H       0.196500    -0.824900    -0.330200 H          1 UNL1 0.0\\n    18 H       1.748000     1.297700     0.762800 H          1 UNL1 0.0\\n    19 H       1.106400     1.283400    -0.893200 H          1 UNL1 0.0\\n    20 H      -6.864600     1.568800     0.170200 H          1 UNL1 0.0\\n    21 H      -6.134100     1.130800     1.724200 H          1 UNL1 0.0\\n    22 H      -5.284300    -0.763700     0.737900 H          1 UNL1 0.0\\n    23 H      -2.440800     2.928600    -1.822400 H          1 UNL1 0.0\\n    24 H      -3.345800     4.181000    -0.969100 H          1 UNL1 0.0\\n    25 H      -1.575300     4.162600    -0.903700 H          1 UNL1 0.0\\n    26 H      -3.389300     4.189800     1.623800 H          1 UNL1 0.0\\n    27 H      -2.601200     2.880200     2.511200 H          1 UNL1 0.0\\n    28 H      -1.624600     4.106100     1.695000 H          1 UNL1 0.0\\n    29 C      -5.738300    -0.333700    -1.351600 C.3        1 UNL1 0.0\\n    30 C      -7.107800    -1.015700    -1.226100 C.3        1 UNL1 0.0\\n    31 C      -5.838100     0.810200    -2.369400 C.3        1 UNL1 0.0\\n    32 H      -5.064000    -1.090900    -1.766100 H          1 UNL1 0.0\\n    33 H      -7.871900    -0.328400    -0.849400 H          1 UNL1 0.0\\n    34 H      -7.443900    -1.388800    -2.199700 H          1 UNL1 0.0\\n    35 H      -7.054400    -1.871400    -0.544600 H          1 UNL1 0.0\\n    36 H      -6.603600     1.541100    -2.090900 H          1 UNL1 0.0\\n    37 H      -4.890200     1.342800    -2.482600 H          1 UNL1 0.0\\n    38 H      -6.109600     0.415900    -3.355100 H          1 UNL1 0.0\\n    39 C       0.265300    -0.662400     1.859300 C.3        1 UNL1 0.0\\n    40 C       0.131300     0.329200     3.022500 C.3        1 UNL1 0.0\\n    41 C       1.641600    -1.339000     1.922700 C.3        1 UNL1 0.0\\n    42 H      -0.464300    -1.454200     2.047000 H          1 UNL1 0.0\\n    43 H       0.863300     1.140000     2.959000 H          1 UNL1 0.0\\n    44 H      -0.870200     0.768200     3.060600 H          1 UNL1 0.0\\n    45 H       0.293100    -0.181900     3.978300 H          1 UNL1 0.0\\n    46 H       1.772500    -1.857500     2.878900 H          1 UNL1 0.0\\n    47 H       2.457600    -0.616700     1.822600 H          1 UNL1 0.0\\n    48 H       1.745300    -2.083800     1.126600 H          1 UNL1 0.0\\n@<TRIPOS>BOND\\n     1      1      2          1\\n     2      2      3          1\\n     3      3      4          1\\n     4      4      5          2\\n     5      5      1          1\\n     6      4      6          1\\n     7      6      7          1\\n     8      7      8          1\\n     9      8      9          1\\n    10      9     10          1\\n    11     10     11          1\\n    12     11      7          2\\n    13     11     12          1\\n    14     12      5          1\\n    15     12     13          1\\n    16     12     14          1\\n    17      6     15          1\\n    18      6     16          1\\n    19      1     17          1\\n    20      2     18          1\\n    21      2     19          1\\n    22      9     20          1\\n    23      9     21          1\\n    24     10     22          1\\n    25     15     23          1\\n    26     15     24          1\\n    27     15     25          1\\n    28     16     26          1\\n    29     16     27          1\\n    30     16     28          1\\n    31     29     30          1\\n    32     29     31          1\\n    33     29     32          1\\n    34     30     33          1\\n    35     30     34          1\\n    36     30     35          1\\n    37     31     36          1\\n    38     31     37          1\\n    39     31     38          1\\n    40     10     29          1\\n    41     39     40          1\\n    42     39     41          1\\n    43     39     42          1\\n    44     40     43          1\\n    45     40     44          1\\n    46     40     45          1\\n    47     41     46          1\\n    48     41     47          1\\n    49     41     48          1\\n    50      1     39          1\\n\",\"mol2\");\n\tviewer_16869436885690966.setStyle({\"stick\": {\"radius\": 0.1}, \"sphere\": {\"scale\": 0.15}});\n\tviewer_16869436885690966.setHoverable({},true,\"\\n            function(atom,viewer,event,container) {\\n                if(!atom.label) {\\n                    atom.label = viewer.addLabel(atom.elem + atom.serial, {position: atom, backgroundColor: 'mintcream', fontColor:'black'});\\n                }\\n            }\\n            \",\"\\n            function(atom,viewer) { \\n                if(atom.label) {\\n                    viewer.removeLabel(atom.label);\\n                    delete atom.label;\\n                }\\n            }\\n            \");\n\tviewer_16869436885690966.zoomTo();\n\tviewer_16869436885690966.setBackgroundColor(null);\nviewer_16869436885690966.render();\n});\n</script>",
      "text/html": [
       "<div id=\"3dmolviewer_16869436885690966\"  style=\"position: relative; width: 1000px; height: 500px\">\n",
       "        <p id=\"3dmolwarning_16869436885690966\" style=\"background-color:#ffcccc;color:black\">You appear to be running in JupyterLab (or JavaScript failed to load for some other reason).  You need to install the 3dmol extension: <br>\n",
       "        <tt>jupyter labextension install jupyterlab_3dmol</tt></p>\n",
       "        </div>\n",
       "<script>\n",
       "\n",
       "var loadScriptAsync = function(uri){\n",
       "  return new Promise((resolve, reject) => {\n",
       "    //this is to ignore the existence of requirejs amd\n",
       "    var savedexports, savedmodule;\n",
       "    if (typeof exports !== 'undefined') savedexports = exports;\n",
       "    else exports = {}\n",
       "    if (typeof module !== 'undefined') savedmodule = module;\n",
       "    else module = {}\n",
       "\n",
       "    var tag = document.createElement('script');\n",
       "    tag.src = uri;\n",
       "    tag.async = true;\n",
       "    tag.onload = () => {\n",
       "        exports = savedexports;\n",
       "        module = savedmodule;\n",
       "        resolve();\n",
       "    };\n",
       "  var firstScriptTag = document.getElementsByTagName('script')[0];\n",
       "  firstScriptTag.parentNode.insertBefore(tag, firstScriptTag);\n",
       "});\n",
       "};\n",
       "\n",
       "if(typeof $3Dmolpromise === 'undefined') {\n",
       "$3Dmolpromise = null;\n",
       "  $3Dmolpromise = loadScriptAsync('https://cdnjs.cloudflare.com/ajax/libs/3Dmol/2.0.1/3Dmol-min.js');\n",
       "}\n",
       "\n",
       "var viewer_16869436885690966 = null;\n",
       "var warn = document.getElementById(\"3dmolwarning_16869436885690966\");\n",
       "if(warn) {\n",
       "    warn.parentNode.removeChild(warn);\n",
       "}\n",
       "$3Dmolpromise.then(function() {\n",
       "viewer_16869436885690966 = $3Dmol.createViewer(document.getElementById(\"3dmolviewer_16869436885690966\"),{backgroundColor:\"white\"});\n",
       "viewer_16869436885690966.zoomTo();\n",
       "\tviewer_16869436885690966.addModel(\"# Produced with molli package\\n@<TRIPOS>MOLECULE\\n1_3_3\\n48 50 0 0 0\\nSMALL\\nUSER_CHARGES\\n\\n@<TRIPOS>ATOM\\n     1 C       0.028900    -0.070100     0.445300 C.3        1 UNL1 0.0\\n     2 C       0.838300     1.195600     0.166400 C.3        1 UNL1 0.0\\n     3 O      -0.077300     2.259400     0.480800 O.2        1 UNL1 0.0\\n     4 C      -1.312200     1.770600     0.382700 C.2        1 UNL1 0.0\\n     5 N      -1.347900     0.497500     0.298300 N.2        1 UNL1 0.0\\n     6 C      -2.525200     2.637300     0.341800 C.3        1 UNL1 0.0\\n     7 C      -3.780500     1.830800     0.296400 C.2        1 UNL1 0.0\\n     8 O      -4.977600     2.354900     0.544700 O.2        1 UNL1 0.0\\n     9 C      -5.929000     1.286100     0.658600 C.3        1 UNL1 0.0\\n    10 C      -5.223200     0.078900     0.042000 C.3        1 UNL1 0.0\\n    11 N      -3.813700     0.586200     0.017200 N.2        1 UNL1 0.0\\n    12 C      -2.564700    -0.214500    -0.215400 C.3        1 UNL1 0.0\\n    13 BR     -2.743400    -1.992300     0.574300 Br         1 UNL1 0.0\\n    14 BR     -2.275300    -0.385100    -2.168900 Br         1 UNL1 0.0\\n    15 C      -2.468300     3.527300    -0.904800 C.3        1 UNL1 0.0\\n    16 C      -2.535600     3.502600     1.610500 C.3        1 UNL1 0.0\\n    17 H       0.196500    -0.824900    -0.330200 H          1 UNL1 0.0\\n    18 H       1.748000     1.297700     0.762800 H          1 UNL1 0.0\\n    19 H       1.106400     1.283400    -0.893200 H          1 UNL1 0.0\\n    20 H      -6.864600     1.568800     0.170200 H          1 UNL1 0.0\\n    21 H      -6.134100     1.130800     1.724200 H          1 UNL1 0.0\\n    22 H      -5.284300    -0.763700     0.737900 H          1 UNL1 0.0\\n    23 H      -2.440800     2.928600    -1.822400 H          1 UNL1 0.0\\n    24 H      -3.345800     4.181000    -0.969100 H          1 UNL1 0.0\\n    25 H      -1.575300     4.162600    -0.903700 H          1 UNL1 0.0\\n    26 H      -3.389300     4.189800     1.623800 H          1 UNL1 0.0\\n    27 H      -2.601200     2.880200     2.511200 H          1 UNL1 0.0\\n    28 H      -1.624600     4.106100     1.695000 H          1 UNL1 0.0\\n    29 C      -5.738300    -0.333700    -1.351600 C.3        1 UNL1 0.0\\n    30 C      -7.107800    -1.015700    -1.226100 C.3        1 UNL1 0.0\\n    31 C      -5.838100     0.810200    -2.369400 C.3        1 UNL1 0.0\\n    32 H      -5.064000    -1.090900    -1.766100 H          1 UNL1 0.0\\n    33 H      -7.871900    -0.328400    -0.849400 H          1 UNL1 0.0\\n    34 H      -7.443900    -1.388800    -2.199700 H          1 UNL1 0.0\\n    35 H      -7.054400    -1.871400    -0.544600 H          1 UNL1 0.0\\n    36 H      -6.603600     1.541100    -2.090900 H          1 UNL1 0.0\\n    37 H      -4.890200     1.342800    -2.482600 H          1 UNL1 0.0\\n    38 H      -6.109600     0.415900    -3.355100 H          1 UNL1 0.0\\n    39 C       0.265300    -0.662400     1.859300 C.3        1 UNL1 0.0\\n    40 C       0.131300     0.329200     3.022500 C.3        1 UNL1 0.0\\n    41 C       1.641600    -1.339000     1.922700 C.3        1 UNL1 0.0\\n    42 H      -0.464300    -1.454200     2.047000 H          1 UNL1 0.0\\n    43 H       0.863300     1.140000     2.959000 H          1 UNL1 0.0\\n    44 H      -0.870200     0.768200     3.060600 H          1 UNL1 0.0\\n    45 H       0.293100    -0.181900     3.978300 H          1 UNL1 0.0\\n    46 H       1.772500    -1.857500     2.878900 H          1 UNL1 0.0\\n    47 H       2.457600    -0.616700     1.822600 H          1 UNL1 0.0\\n    48 H       1.745300    -2.083800     1.126600 H          1 UNL1 0.0\\n@<TRIPOS>BOND\\n     1      1      2          1\\n     2      2      3          1\\n     3      3      4          1\\n     4      4      5          2\\n     5      5      1          1\\n     6      4      6          1\\n     7      6      7          1\\n     8      7      8          1\\n     9      8      9          1\\n    10      9     10          1\\n    11     10     11          1\\n    12     11      7          2\\n    13     11     12          1\\n    14     12      5          1\\n    15     12     13          1\\n    16     12     14          1\\n    17      6     15          1\\n    18      6     16          1\\n    19      1     17          1\\n    20      2     18          1\\n    21      2     19          1\\n    22      9     20          1\\n    23      9     21          1\\n    24     10     22          1\\n    25     15     23          1\\n    26     15     24          1\\n    27     15     25          1\\n    28     16     26          1\\n    29     16     27          1\\n    30     16     28          1\\n    31     29     30          1\\n    32     29     31          1\\n    33     29     32          1\\n    34     30     33          1\\n    35     30     34          1\\n    36     30     35          1\\n    37     31     36          1\\n    38     31     37          1\\n    39     31     38          1\\n    40     10     29          1\\n    41     39     40          1\\n    42     39     41          1\\n    43     39     42          1\\n    44     40     43          1\\n    45     40     44          1\\n    46     40     45          1\\n    47     41     46          1\\n    48     41     47          1\\n    49     41     48          1\\n    50      1     39          1\\n\",\"mol2\");\n",
       "\tviewer_16869436885690966.setStyle({\"stick\": {\"radius\": 0.1}, \"sphere\": {\"scale\": 0.15}});\n",
       "\tviewer_16869436885690966.setHoverable({},true,\"\\n            function(atom,viewer,event,container) {\\n                if(!atom.label) {\\n                    atom.label = viewer.addLabel(atom.elem + atom.serial, {position: atom, backgroundColor: 'mintcream', fontColor:'black'});\\n                }\\n            }\\n            \",\"\\n            function(atom,viewer) { \\n                if(atom.label) {\\n                    viewer.removeLabel(atom.label);\\n                    delete atom.label;\\n                }\\n            }\\n            \");\n",
       "\tviewer_16869436885690966.zoomTo();\n",
       "\tviewer_16869436885690966.setBackgroundColor(null);\n",
       "viewer_16869436885690966.render();\n",
       "});\n",
       "</script>"
      ]
     },
     "metadata": {},
     "output_type": "display_data"
    },
    {
     "data": {
      "text/plain": [
       "Conformer(name='1_3_3', formula='C16 H26 Br2 N2 O2')"
      ]
     },
     "execution_count": 14,
     "metadata": {},
     "output_type": "execute_result"
    }
   ],
   "source": [
    "clib['1_3_3'][1]"
   ]
  },
  {
   "cell_type": "code",
   "execution_count": 15,
   "metadata": {},
   "outputs": [
    {
     "data": {
      "application/3dmoljs_load.v0": "<div id=\"3dmolviewer_1686943688584227\"  style=\"position: relative; width: 1000px; height: 500px\">\n        <p id=\"3dmolwarning_1686943688584227\" style=\"background-color:#ffcccc;color:black\">You appear to be running in JupyterLab (or JavaScript failed to load for some other reason).  You need to install the 3dmol extension: <br>\n        <tt>jupyter labextension install jupyterlab_3dmol</tt></p>\n        </div>\n<script>\n\nvar loadScriptAsync = function(uri){\n  return new Promise((resolve, reject) => {\n    //this is to ignore the existence of requirejs amd\n    var savedexports, savedmodule;\n    if (typeof exports !== 'undefined') savedexports = exports;\n    else exports = {}\n    if (typeof module !== 'undefined') savedmodule = module;\n    else module = {}\n\n    var tag = document.createElement('script');\n    tag.src = uri;\n    tag.async = true;\n    tag.onload = () => {\n        exports = savedexports;\n        module = savedmodule;\n        resolve();\n    };\n  var firstScriptTag = document.getElementsByTagName('script')[0];\n  firstScriptTag.parentNode.insertBefore(tag, firstScriptTag);\n});\n};\n\nif(typeof $3Dmolpromise === 'undefined') {\n$3Dmolpromise = null;\n  $3Dmolpromise = loadScriptAsync('https://cdnjs.cloudflare.com/ajax/libs/3Dmol/2.0.1/3Dmol-min.js');\n}\n\nvar viewer_1686943688584227 = null;\nvar warn = document.getElementById(\"3dmolwarning_1686943688584227\");\nif(warn) {\n    warn.parentNode.removeChild(warn);\n}\n$3Dmolpromise.then(function() {\nviewer_1686943688584227 = $3Dmol.createViewer(document.getElementById(\"3dmolviewer_1686943688584227\"),{backgroundColor:\"white\"});\nviewer_1686943688584227.zoomTo();\n\tviewer_1686943688584227.addModel(\"# Produced with molli package\\n@<TRIPOS>MOLECULE\\n3_6_6\\n74 78 0 0 0\\nSMALL\\nUSER_CHARGES\\n\\n@<TRIPOS>ATOM\\n     1 C       0.131700     0.051500     0.135900 C.3        1 UNL1 0.0\\n     2 C       0.820700     1.223600     0.872800 C.3        1 UNL1 0.0\\n     3 O      -0.107400     2.292900     0.584600 O.2        1 UNL1 0.0\\n     4 C      -1.321600     1.765600     0.425500 C.2        1 UNL1 0.0\\n     5 N      -1.316100     0.498300     0.268000 N.2        1 UNL1 0.0\\n     6 C      -2.526500     2.631300     0.320400 C.3        1 UNL1 0.0\\n     7 C      -3.781000     1.837500     0.287100 C.2        1 UNL1 0.0\\n     8 O      -4.964100     2.392300     0.532100 O.2        1 UNL1 0.0\\n     9 C      -5.929500     1.347400     0.742300 C.3        1 UNL1 0.0\\n    10 C      -5.275000     0.104900     0.089700 C.3        1 UNL1 0.0\\n    11 N      -3.834100     0.589600     0.035400 N.2        1 UNL1 0.0\\n    12 C      -2.578600    -0.258800    -0.093600 C.3        1 UNL1 0.0\\n    13 BR     -2.794100    -1.735000     1.167600 Br         1 UNL1 0.0\\n    14 BR     -2.378400    -0.762700    -1.963700 Br         1 UNL1 0.0\\n    15 C      -2.443200     3.445700    -0.977000 C.3        1 UNL1 0.0\\n    16 C      -2.557700     3.573300     1.533000 C.3        1 UNL1 0.0\\n    17 C      -7.332500     1.822800     0.312900 C.3        1 UNL1 0.0\\n    18 C      -7.943900     2.695400     1.421000 C.3        1 UNL1 0.0\\n    19 C      -7.345800     2.639400    -0.985200 C.3        1 UNL1 0.0\\n    20 C       1.022200     1.152400     2.413700 C.3        1 UNL1 0.0\\n    21 C       1.199200     2.561400     3.006300 C.3        1 UNL1 0.0\\n    22 C       2.236400     0.313400     2.826200 C.3        1 UNL1 0.0\\n    23 H       0.352200     0.173600    -0.931800 H          1 UNL1 0.0\\n    24 H       1.773500     1.463900     0.384800 H          1 UNL1 0.0\\n    25 H      -5.948800     1.168600     1.827700 H          1 UNL1 0.0\\n    26 H      -5.348100    -0.709300     0.813400 H          1 UNL1 0.0\\n    27 H      -1.565900     4.101600    -0.983900 H          1 UNL1 0.0\\n    28 H      -3.333000     4.070700    -1.111000 H          1 UNL1 0.0\\n    29 H      -2.371900     2.790100    -1.853900 H          1 UNL1 0.0\\n    30 H      -3.422900     4.244700     1.503300 H          1 UNL1 0.0\\n    31 H      -1.659900     4.200600     1.579700 H          1 UNL1 0.0\\n    32 H      -2.612800     3.007700     2.470500 H          1 UNL1 0.0\\n    33 H      -7.991400     0.953400     0.205300 H          1 UNL1 0.0\\n    34 H      -7.329500     3.579800     1.620300 H          1 UNL1 0.0\\n    35 H      -8.037900     2.129200     2.353200 H          1 UNL1 0.0\\n    36 H      -8.946100     3.034500     1.139900 H          1 UNL1 0.0\\n    37 H      -6.805500     3.585300    -0.871800 H          1 UNL1 0.0\\n    38 H      -6.899100     2.101100    -1.821900 H          1 UNL1 0.0\\n    39 H      -8.374600     2.882600    -1.270200 H          1 UNL1 0.0\\n    40 H       0.128800     0.723100     2.882100 H          1 UNL1 0.0\\n    41 H       2.034000     3.086000     2.529400 H          1 UNL1 0.0\\n    42 H       0.297600     3.168500     2.877400 H          1 UNL1 0.0\\n    43 H       1.398900     2.512600     4.081700 H          1 UNL1 0.0\\n    44 H       3.115000     0.562500     2.222600 H          1 UNL1 0.0\\n    45 H       2.494400     0.483300     3.877300 H          1 UNL1 0.0\\n    46 H       2.043300    -0.757000     2.736700 H          1 UNL1 0.0\\n    47 C      -5.836800    -0.295200    -1.282900 C.3        1 UNL1 0.0\\n    48 C      -5.597200    -1.722500    -1.723700 C.ar       1 UNL1 0.0\\n    49 C      -5.361100    -1.980100    -3.085400 C.ar       1 UNL1 0.0\\n    50 C      -5.145500    -3.281000    -3.542300 C.ar       1 UNL1 0.0\\n    51 C      -5.193800    -4.347600    -2.651600 C.ar       1 UNL1 0.0\\n    52 C      -5.485100    -4.116500    -1.310300 C.ar       1 UNL1 0.0\\n    53 C      -5.704300    -2.815000    -0.850700 C.ar       1 UNL1 0.0\\n    54 H      -6.927800    -0.203000    -1.284700 H          1 UNL1 0.0\\n    55 H      -5.456600     0.391800    -2.050400 H          1 UNL1 0.0\\n    56 H      -5.348400    -1.173500    -3.817900 H          1 UNL1 0.0\\n    57 H      -4.960700    -3.466600    -4.599100 H          1 UNL1 0.0\\n    58 H      -5.042500    -5.363900    -3.011500 H          1 UNL1 0.0\\n    59 H      -5.574400    -4.962700    -0.630400 H          1 UNL1 0.0\\n    60 H      -5.997900    -2.702000     0.190000 H          1 UNL1 0.0\\n    61 C       0.549100    -1.336900     0.611300 C.3        1 UNL1 0.0\\n    62 C       0.313800    -2.481100    -0.347800 C.ar       1 UNL1 0.0\\n    63 C       0.719500    -2.412400    -1.690100 C.ar       1 UNL1 0.0\\n    64 C       0.503200    -3.487400    -2.555500 C.ar       1 UNL1 0.0\\n    65 C      -0.089600    -4.655400    -2.086200 C.ar       1 UNL1 0.0\\n    66 C      -0.437100    -4.763000    -0.743900 C.ar       1 UNL1 0.0\\n    67 C      -0.216500    -3.692100     0.123000 C.ar       1 UNL1 0.0\\n    68 H       1.637600    -1.338200     0.743200 H          1 UNL1 0.0\\n    69 H       0.115900    -1.557900     1.591400 H          1 UNL1 0.0\\n    70 H       1.239900    -1.545700    -2.092400 H          1 UNL1 0.0\\n    71 H       0.822500    -3.428700    -3.594800 H          1 UNL1 0.0\\n    72 H      -0.241400    -5.498500    -2.757900 H          1 UNL1 0.0\\n    73 H      -0.851800    -5.696100    -0.367600 H          1 UNL1 0.0\\n    74 H      -0.449700    -3.836000     1.176900 H          1 UNL1 0.0\\n@<TRIPOS>BOND\\n     1      1      2          1\\n     2      2      3          1\\n     3      3      4          1\\n     4      4      5          2\\n     5      5      1          1\\n     6      4      6          1\\n     7      6      7          1\\n     8      7      8          1\\n     9      8      9          1\\n    10      9     10          1\\n    11     10     11          1\\n    12     11      7          2\\n    13     11     12          1\\n    14     12      5          1\\n    15     12     13          1\\n    16     12     14          1\\n    17      6     15          1\\n    18      6     16          1\\n    19     17     18          1\\n    20     17     19          1\\n    21      9     17          1\\n    22     20     21          1\\n    23     20     22          1\\n    24      2     20          1\\n    25      1     23          1\\n    26      2     24          1\\n    27      9     25          1\\n    28     10     26          1\\n    29     15     27          1\\n    30     15     28          1\\n    31     15     29          1\\n    32     16     30          1\\n    33     16     31          1\\n    34     16     32          1\\n    35     17     33          1\\n    36     18     34          1\\n    37     18     35          1\\n    38     18     36          1\\n    39     19     37          1\\n    40     19     38          1\\n    41     19     39          1\\n    42     20     40          1\\n    43     21     41          1\\n    44     21     42          1\\n    45     21     43          1\\n    46     22     44          1\\n    47     22     45          1\\n    48     22     46          1\\n    49     47     48          1\\n    50     48     49         ar\\n    51     49     50         ar\\n    52     50     51         ar\\n    53     51     52         ar\\n    54     52     53         ar\\n    55     53     48         ar\\n    56     47     54          1\\n    57     47     55          1\\n    58     49     56          1\\n    59     50     57          1\\n    60     51     58          1\\n    61     52     59          1\\n    62     53     60          1\\n    63     10     47          1\\n    64     61     62          1\\n    65     62     63         ar\\n    66     63     64         ar\\n    67     64     65         ar\\n    68     65     66         ar\\n    69     66     67         ar\\n    70     67     62         ar\\n    71     61     68          1\\n    72     61     69          1\\n    73     63     70          1\\n    74     64     71          1\\n    75     65     72          1\\n    76     66     73          1\\n    77     67     74          1\\n    78      1     61          1\\n\",\"mol2\");\n\tviewer_1686943688584227.setStyle({\"stick\": {\"radius\": 0.1}, \"sphere\": {\"scale\": 0.15}});\n\tviewer_1686943688584227.setHoverable({},true,\"\\n            function(atom,viewer,event,container) {\\n                if(!atom.label) {\\n                    atom.label = viewer.addLabel(atom.elem + atom.serial, {position: atom, backgroundColor: 'mintcream', fontColor:'black'});\\n                }\\n            }\\n            \",\"\\n            function(atom,viewer) { \\n                if(atom.label) {\\n                    viewer.removeLabel(atom.label);\\n                    delete atom.label;\\n                }\\n            }\\n            \");\n\tviewer_1686943688584227.zoomTo();\n\tviewer_1686943688584227.setBackgroundColor(null);\nviewer_1686943688584227.render();\n});\n</script>",
      "text/html": [
       "<div id=\"3dmolviewer_1686943688584227\"  style=\"position: relative; width: 1000px; height: 500px\">\n",
       "        <p id=\"3dmolwarning_1686943688584227\" style=\"background-color:#ffcccc;color:black\">You appear to be running in JupyterLab (or JavaScript failed to load for some other reason).  You need to install the 3dmol extension: <br>\n",
       "        <tt>jupyter labextension install jupyterlab_3dmol</tt></p>\n",
       "        </div>\n",
       "<script>\n",
       "\n",
       "var loadScriptAsync = function(uri){\n",
       "  return new Promise((resolve, reject) => {\n",
       "    //this is to ignore the existence of requirejs amd\n",
       "    var savedexports, savedmodule;\n",
       "    if (typeof exports !== 'undefined') savedexports = exports;\n",
       "    else exports = {}\n",
       "    if (typeof module !== 'undefined') savedmodule = module;\n",
       "    else module = {}\n",
       "\n",
       "    var tag = document.createElement('script');\n",
       "    tag.src = uri;\n",
       "    tag.async = true;\n",
       "    tag.onload = () => {\n",
       "        exports = savedexports;\n",
       "        module = savedmodule;\n",
       "        resolve();\n",
       "    };\n",
       "  var firstScriptTag = document.getElementsByTagName('script')[0];\n",
       "  firstScriptTag.parentNode.insertBefore(tag, firstScriptTag);\n",
       "});\n",
       "};\n",
       "\n",
       "if(typeof $3Dmolpromise === 'undefined') {\n",
       "$3Dmolpromise = null;\n",
       "  $3Dmolpromise = loadScriptAsync('https://cdnjs.cloudflare.com/ajax/libs/3Dmol/2.0.1/3Dmol-min.js');\n",
       "}\n",
       "\n",
       "var viewer_1686943688584227 = null;\n",
       "var warn = document.getElementById(\"3dmolwarning_1686943688584227\");\n",
       "if(warn) {\n",
       "    warn.parentNode.removeChild(warn);\n",
       "}\n",
       "$3Dmolpromise.then(function() {\n",
       "viewer_1686943688584227 = $3Dmol.createViewer(document.getElementById(\"3dmolviewer_1686943688584227\"),{backgroundColor:\"white\"});\n",
       "viewer_1686943688584227.zoomTo();\n",
       "\tviewer_1686943688584227.addModel(\"# Produced with molli package\\n@<TRIPOS>MOLECULE\\n3_6_6\\n74 78 0 0 0\\nSMALL\\nUSER_CHARGES\\n\\n@<TRIPOS>ATOM\\n     1 C       0.131700     0.051500     0.135900 C.3        1 UNL1 0.0\\n     2 C       0.820700     1.223600     0.872800 C.3        1 UNL1 0.0\\n     3 O      -0.107400     2.292900     0.584600 O.2        1 UNL1 0.0\\n     4 C      -1.321600     1.765600     0.425500 C.2        1 UNL1 0.0\\n     5 N      -1.316100     0.498300     0.268000 N.2        1 UNL1 0.0\\n     6 C      -2.526500     2.631300     0.320400 C.3        1 UNL1 0.0\\n     7 C      -3.781000     1.837500     0.287100 C.2        1 UNL1 0.0\\n     8 O      -4.964100     2.392300     0.532100 O.2        1 UNL1 0.0\\n     9 C      -5.929500     1.347400     0.742300 C.3        1 UNL1 0.0\\n    10 C      -5.275000     0.104900     0.089700 C.3        1 UNL1 0.0\\n    11 N      -3.834100     0.589600     0.035400 N.2        1 UNL1 0.0\\n    12 C      -2.578600    -0.258800    -0.093600 C.3        1 UNL1 0.0\\n    13 BR     -2.794100    -1.735000     1.167600 Br         1 UNL1 0.0\\n    14 BR     -2.378400    -0.762700    -1.963700 Br         1 UNL1 0.0\\n    15 C      -2.443200     3.445700    -0.977000 C.3        1 UNL1 0.0\\n    16 C      -2.557700     3.573300     1.533000 C.3        1 UNL1 0.0\\n    17 C      -7.332500     1.822800     0.312900 C.3        1 UNL1 0.0\\n    18 C      -7.943900     2.695400     1.421000 C.3        1 UNL1 0.0\\n    19 C      -7.345800     2.639400    -0.985200 C.3        1 UNL1 0.0\\n    20 C       1.022200     1.152400     2.413700 C.3        1 UNL1 0.0\\n    21 C       1.199200     2.561400     3.006300 C.3        1 UNL1 0.0\\n    22 C       2.236400     0.313400     2.826200 C.3        1 UNL1 0.0\\n    23 H       0.352200     0.173600    -0.931800 H          1 UNL1 0.0\\n    24 H       1.773500     1.463900     0.384800 H          1 UNL1 0.0\\n    25 H      -5.948800     1.168600     1.827700 H          1 UNL1 0.0\\n    26 H      -5.348100    -0.709300     0.813400 H          1 UNL1 0.0\\n    27 H      -1.565900     4.101600    -0.983900 H          1 UNL1 0.0\\n    28 H      -3.333000     4.070700    -1.111000 H          1 UNL1 0.0\\n    29 H      -2.371900     2.790100    -1.853900 H          1 UNL1 0.0\\n    30 H      -3.422900     4.244700     1.503300 H          1 UNL1 0.0\\n    31 H      -1.659900     4.200600     1.579700 H          1 UNL1 0.0\\n    32 H      -2.612800     3.007700     2.470500 H          1 UNL1 0.0\\n    33 H      -7.991400     0.953400     0.205300 H          1 UNL1 0.0\\n    34 H      -7.329500     3.579800     1.620300 H          1 UNL1 0.0\\n    35 H      -8.037900     2.129200     2.353200 H          1 UNL1 0.0\\n    36 H      -8.946100     3.034500     1.139900 H          1 UNL1 0.0\\n    37 H      -6.805500     3.585300    -0.871800 H          1 UNL1 0.0\\n    38 H      -6.899100     2.101100    -1.821900 H          1 UNL1 0.0\\n    39 H      -8.374600     2.882600    -1.270200 H          1 UNL1 0.0\\n    40 H       0.128800     0.723100     2.882100 H          1 UNL1 0.0\\n    41 H       2.034000     3.086000     2.529400 H          1 UNL1 0.0\\n    42 H       0.297600     3.168500     2.877400 H          1 UNL1 0.0\\n    43 H       1.398900     2.512600     4.081700 H          1 UNL1 0.0\\n    44 H       3.115000     0.562500     2.222600 H          1 UNL1 0.0\\n    45 H       2.494400     0.483300     3.877300 H          1 UNL1 0.0\\n    46 H       2.043300    -0.757000     2.736700 H          1 UNL1 0.0\\n    47 C      -5.836800    -0.295200    -1.282900 C.3        1 UNL1 0.0\\n    48 C      -5.597200    -1.722500    -1.723700 C.ar       1 UNL1 0.0\\n    49 C      -5.361100    -1.980100    -3.085400 C.ar       1 UNL1 0.0\\n    50 C      -5.145500    -3.281000    -3.542300 C.ar       1 UNL1 0.0\\n    51 C      -5.193800    -4.347600    -2.651600 C.ar       1 UNL1 0.0\\n    52 C      -5.485100    -4.116500    -1.310300 C.ar       1 UNL1 0.0\\n    53 C      -5.704300    -2.815000    -0.850700 C.ar       1 UNL1 0.0\\n    54 H      -6.927800    -0.203000    -1.284700 H          1 UNL1 0.0\\n    55 H      -5.456600     0.391800    -2.050400 H          1 UNL1 0.0\\n    56 H      -5.348400    -1.173500    -3.817900 H          1 UNL1 0.0\\n    57 H      -4.960700    -3.466600    -4.599100 H          1 UNL1 0.0\\n    58 H      -5.042500    -5.363900    -3.011500 H          1 UNL1 0.0\\n    59 H      -5.574400    -4.962700    -0.630400 H          1 UNL1 0.0\\n    60 H      -5.997900    -2.702000     0.190000 H          1 UNL1 0.0\\n    61 C       0.549100    -1.336900     0.611300 C.3        1 UNL1 0.0\\n    62 C       0.313800    -2.481100    -0.347800 C.ar       1 UNL1 0.0\\n    63 C       0.719500    -2.412400    -1.690100 C.ar       1 UNL1 0.0\\n    64 C       0.503200    -3.487400    -2.555500 C.ar       1 UNL1 0.0\\n    65 C      -0.089600    -4.655400    -2.086200 C.ar       1 UNL1 0.0\\n    66 C      -0.437100    -4.763000    -0.743900 C.ar       1 UNL1 0.0\\n    67 C      -0.216500    -3.692100     0.123000 C.ar       1 UNL1 0.0\\n    68 H       1.637600    -1.338200     0.743200 H          1 UNL1 0.0\\n    69 H       0.115900    -1.557900     1.591400 H          1 UNL1 0.0\\n    70 H       1.239900    -1.545700    -2.092400 H          1 UNL1 0.0\\n    71 H       0.822500    -3.428700    -3.594800 H          1 UNL1 0.0\\n    72 H      -0.241400    -5.498500    -2.757900 H          1 UNL1 0.0\\n    73 H      -0.851800    -5.696100    -0.367600 H          1 UNL1 0.0\\n    74 H      -0.449700    -3.836000     1.176900 H          1 UNL1 0.0\\n@<TRIPOS>BOND\\n     1      1      2          1\\n     2      2      3          1\\n     3      3      4          1\\n     4      4      5          2\\n     5      5      1          1\\n     6      4      6          1\\n     7      6      7          1\\n     8      7      8          1\\n     9      8      9          1\\n    10      9     10          1\\n    11     10     11          1\\n    12     11      7          2\\n    13     11     12          1\\n    14     12      5          1\\n    15     12     13          1\\n    16     12     14          1\\n    17      6     15          1\\n    18      6     16          1\\n    19     17     18          1\\n    20     17     19          1\\n    21      9     17          1\\n    22     20     21          1\\n    23     20     22          1\\n    24      2     20          1\\n    25      1     23          1\\n    26      2     24          1\\n    27      9     25          1\\n    28     10     26          1\\n    29     15     27          1\\n    30     15     28          1\\n    31     15     29          1\\n    32     16     30          1\\n    33     16     31          1\\n    34     16     32          1\\n    35     17     33          1\\n    36     18     34          1\\n    37     18     35          1\\n    38     18     36          1\\n    39     19     37          1\\n    40     19     38          1\\n    41     19     39          1\\n    42     20     40          1\\n    43     21     41          1\\n    44     21     42          1\\n    45     21     43          1\\n    46     22     44          1\\n    47     22     45          1\\n    48     22     46          1\\n    49     47     48          1\\n    50     48     49         ar\\n    51     49     50         ar\\n    52     50     51         ar\\n    53     51     52         ar\\n    54     52     53         ar\\n    55     53     48         ar\\n    56     47     54          1\\n    57     47     55          1\\n    58     49     56          1\\n    59     50     57          1\\n    60     51     58          1\\n    61     52     59          1\\n    62     53     60          1\\n    63     10     47          1\\n    64     61     62          1\\n    65     62     63         ar\\n    66     63     64         ar\\n    67     64     65         ar\\n    68     65     66         ar\\n    69     66     67         ar\\n    70     67     62         ar\\n    71     61     68          1\\n    72     61     69          1\\n    73     63     70          1\\n    74     64     71          1\\n    75     65     72          1\\n    76     66     73          1\\n    77     67     74          1\\n    78      1     61          1\\n\",\"mol2\");\n",
       "\tviewer_1686943688584227.setStyle({\"stick\": {\"radius\": 0.1}, \"sphere\": {\"scale\": 0.15}});\n",
       "\tviewer_1686943688584227.setHoverable({},true,\"\\n            function(atom,viewer,event,container) {\\n                if(!atom.label) {\\n                    atom.label = viewer.addLabel(atom.elem + atom.serial, {position: atom, backgroundColor: 'mintcream', fontColor:'black'});\\n                }\\n            }\\n            \",\"\\n            function(atom,viewer) { \\n                if(atom.label) {\\n                    viewer.removeLabel(atom.label);\\n                    delete atom.label;\\n                }\\n            }\\n            \");\n",
       "\tviewer_1686943688584227.zoomTo();\n",
       "\tviewer_1686943688584227.setBackgroundColor(null);\n",
       "viewer_1686943688584227.render();\n",
       "});\n",
       "</script>"
      ]
     },
     "metadata": {},
     "output_type": "display_data"
    },
    {
     "data": {
      "text/plain": [
       "Conformer(name='3_6_6', formula='C30 H38 Br2 N2 O2')"
      ]
     },
     "execution_count": 15,
     "metadata": {},
     "output_type": "execute_result"
    }
   ],
   "source": [
    "clib['3_6_6'][0]"
   ]
  },
  {
   "cell_type": "code",
   "execution_count": 16,
   "metadata": {},
   "outputs": [
    {
     "data": {
      "application/3dmoljs_load.v0": "<div id=\"3dmolviewer_1686943688599779\"  style=\"position: relative; width: 1000px; height: 500px\">\n        <p id=\"3dmolwarning_1686943688599779\" style=\"background-color:#ffcccc;color:black\">You appear to be running in JupyterLab (or JavaScript failed to load for some other reason).  You need to install the 3dmol extension: <br>\n        <tt>jupyter labextension install jupyterlab_3dmol</tt></p>\n        </div>\n<script>\n\nvar loadScriptAsync = function(uri){\n  return new Promise((resolve, reject) => {\n    //this is to ignore the existence of requirejs amd\n    var savedexports, savedmodule;\n    if (typeof exports !== 'undefined') savedexports = exports;\n    else exports = {}\n    if (typeof module !== 'undefined') savedmodule = module;\n    else module = {}\n\n    var tag = document.createElement('script');\n    tag.src = uri;\n    tag.async = true;\n    tag.onload = () => {\n        exports = savedexports;\n        module = savedmodule;\n        resolve();\n    };\n  var firstScriptTag = document.getElementsByTagName('script')[0];\n  firstScriptTag.parentNode.insertBefore(tag, firstScriptTag);\n});\n};\n\nif(typeof $3Dmolpromise === 'undefined') {\n$3Dmolpromise = null;\n  $3Dmolpromise = loadScriptAsync('https://cdnjs.cloudflare.com/ajax/libs/3Dmol/2.0.1/3Dmol-min.js');\n}\n\nvar viewer_1686943688599779 = null;\nvar warn = document.getElementById(\"3dmolwarning_1686943688599779\");\nif(warn) {\n    warn.parentNode.removeChild(warn);\n}\n$3Dmolpromise.then(function() {\nviewer_1686943688599779 = $3Dmol.createViewer(document.getElementById(\"3dmolviewer_1686943688599779\"),{backgroundColor:\"white\"});\nviewer_1686943688599779.zoomTo();\n\tviewer_1686943688599779.addModel(\"# Produced with molli package\\n@<TRIPOS>MOLECULE\\n3_6_6\\n74 78 0 0 0\\nSMALL\\nUSER_CHARGES\\n\\n@<TRIPOS>ATOM\\n     1 C      -0.012400    -0.070400     0.610300 C.3        1 UNL1 0.0\\n     2 C       0.798700     1.112400     0.045900 C.3        1 UNL1 0.0\\n     3 O      -0.055700     2.234500     0.386600 O.2        1 UNL1 0.0\\n     4 C      -1.308200     1.775400     0.353100 C.2        1 UNL1 0.0\\n     5 N      -1.369200     0.500000     0.325100 N.2        1 UNL1 0.0\\n     6 C      -2.521400     2.643000     0.345600 C.3        1 UNL1 0.0\\n     7 C      -3.771400     1.819300     0.320700 C.2        1 UNL1 0.0\\n     8 O      -4.957700     2.302400     0.683800 O.2        1 UNL1 0.0\\n     9 C      -5.789600     1.169600     1.003400 C.3        1 UNL1 0.0\\n    10 C      -5.222800     0.068000     0.080000 C.3        1 UNL1 0.0\\n    11 N      -3.809200     0.584600    -0.008200 N.2        1 UNL1 0.0\\n    12 C      -2.553200    -0.177300    -0.311300 C.3        1 UNL1 0.0\\n    13 BR     -2.191100    -0.024100    -2.267500 Br         1 UNL1 0.0\\n    14 BR     -2.692600    -2.058400     0.124300 Br         1 UNL1 0.0\\n    15 C      -2.504300     3.469300     1.642900 C.3        1 UNL1 0.0\\n    16 C      -2.499500     3.579600    -0.864800 C.3        1 UNL1 0.0\\n    17 C      -7.278700     1.537800     0.922000 C.3        1 UNL1 0.0\\n    18 C      -8.160400     0.362900     1.347800 C.3        1 UNL1 0.0\\n    19 C      -7.588300     2.753100     1.806200 C.3        1 UNL1 0.0\\n    20 C       2.265500     1.371300     0.431900 C.3        1 UNL1 0.0\\n    21 C       3.140700     0.142400     0.196800 C.3        1 UNL1 0.0\\n    22 C       2.503200     1.968200     1.818800 C.3        1 UNL1 0.0\\n    23 H       0.143400    -0.996900     0.050800 H          1 UNL1 0.0\\n    24 H       0.783700     1.045600    -1.054500 H          1 UNL1 0.0\\n    25 H      -5.559700     0.911800     2.048600 H          1 UNL1 0.0\\n    26 H      -5.244000    -0.886100     0.610600 H          1 UNL1 0.0\\n    27 H      -2.558800     2.820000     2.525700 H          1 UNL1 0.0\\n    28 H      -3.353600     4.159900     1.691400 H          1 UNL1 0.0\\n    29 H      -1.587800     4.064600     1.729300 H          1 UNL1 0.0\\n    30 H      -3.402900     4.199400    -0.901000 H          1 UNL1 0.0\\n    31 H      -1.636200     4.252100    -0.831300 H          1 UNL1 0.0\\n    32 H      -2.450300     3.026800    -1.808700 H          1 UNL1 0.0\\n    33 H      -7.534800     1.836300    -0.101600 H          1 UNL1 0.0\\n    34 H      -9.219700     0.631100     1.286000 H          1 UNL1 0.0\\n    35 H      -7.951200     0.066500     2.381300 H          1 UNL1 0.0\\n    36 H      -8.005800    -0.514500     0.712900 H          1 UNL1 0.0\\n    37 H      -8.653900     3.002800     1.762200 H          1 UNL1 0.0\\n    38 H      -7.327200     2.560500     2.852400 H          1 UNL1 0.0\\n    39 H      -7.034100     3.636000     1.473500 H          1 UNL1 0.0\\n    40 H       2.615400     2.149000    -0.262600 H          1 UNL1 0.0\\n    41 H       2.888500    -0.677000     0.875300 H          1 UNL1 0.0\\n    42 H       3.030100    -0.223600    -0.829800 H          1 UNL1 0.0\\n    43 H       4.197300     0.385900     0.348300 H          1 UNL1 0.0\\n    44 H       3.536100     2.326600     1.897300 H          1 UNL1 0.0\\n    45 H       2.364100     1.242300     2.621400 H          1 UNL1 0.0\\n    46 H       1.849700     2.825700     2.003600 H          1 UNL1 0.0\\n    47 C      -5.877000     0.019400    -1.316900 C.3        1 UNL1 0.0\\n    48 C      -5.586100    -1.230700    -2.110500 C.ar       1 UNL1 0.0\\n    49 C      -5.204200    -1.132600    -3.456300 C.ar       1 UNL1 0.0\\n    50 C      -4.937200    -2.279800    -4.205800 C.ar       1 UNL1 0.0\\n    51 C      -5.080500    -3.538800    -3.631600 C.ar       1 UNL1 0.0\\n    52 C      -5.519400    -3.653200    -2.316400 C.ar       1 UNL1 0.0\\n    53 C      -5.787700    -2.507600    -1.564100 C.ar       1 UNL1 0.0\\n    54 H      -6.968700     0.049500    -1.237500 H          1 UNL1 0.0\\n    55 H      -5.590000     0.905800    -1.898500 H          1 UNL1 0.0\\n    56 H      -5.123100    -0.167600    -3.955600 H          1 UNL1 0.0\\n    57 H      -4.642900    -2.195600    -5.250800 H          1 UNL1 0.0\\n    58 H      -4.890900    -4.432400    -4.224300 H          1 UNL1 0.0\\n    59 H      -5.681200    -4.642100    -1.888900 H          1 UNL1 0.0\\n    60 H      -6.184700    -2.648200    -0.560800 H          1 UNL1 0.0\\n    61 C       0.166700    -0.233100     2.138600 C.3        1 UNL1 0.0\\n    62 C      -0.832100    -1.116900     2.837500 C.ar       1 UNL1 0.0\\n    63 C      -1.905500    -0.559500     3.551800 C.ar       1 UNL1 0.0\\n    64 C      -2.825000    -1.385300     4.200900 C.ar       1 UNL1 0.0\\n    65 C      -2.673200    -2.769600     4.153600 C.ar       1 UNL1 0.0\\n    66 C      -1.592600    -3.330000     3.475300 C.ar       1 UNL1 0.0\\n    67 C      -0.670700    -2.509200     2.823600 C.ar       1 UNL1 0.0\\n    68 H       1.163500    -0.638100     2.346800 H          1 UNL1 0.0\\n    69 H       0.137100     0.746200     2.634700 H          1 UNL1 0.0\\n    70 H      -2.003000     0.517100     3.679000 H          1 UNL1 0.0\\n    71 H      -3.631000    -0.958700     4.797000 H          1 UNL1 0.0\\n    72 H      -3.370000    -3.416300     4.686900 H          1 UNL1 0.0\\n    73 H      -1.455400    -4.410900     3.478200 H          1 UNL1 0.0\\n    74 H       0.180700    -2.977100     2.329900 H          1 UNL1 0.0\\n@<TRIPOS>BOND\\n     1      1      2          1\\n     2      2      3          1\\n     3      3      4          1\\n     4      4      5          2\\n     5      5      1          1\\n     6      4      6          1\\n     7      6      7          1\\n     8      7      8          1\\n     9      8      9          1\\n    10      9     10          1\\n    11     10     11          1\\n    12     11      7          2\\n    13     11     12          1\\n    14     12      5          1\\n    15     12     13          1\\n    16     12     14          1\\n    17      6     15          1\\n    18      6     16          1\\n    19     17     18          1\\n    20     17     19          1\\n    21      9     17          1\\n    22     20     21          1\\n    23     20     22          1\\n    24      2     20          1\\n    25      1     23          1\\n    26      2     24          1\\n    27      9     25          1\\n    28     10     26          1\\n    29     15     27          1\\n    30     15     28          1\\n    31     15     29          1\\n    32     16     30          1\\n    33     16     31          1\\n    34     16     32          1\\n    35     17     33          1\\n    36     18     34          1\\n    37     18     35          1\\n    38     18     36          1\\n    39     19     37          1\\n    40     19     38          1\\n    41     19     39          1\\n    42     20     40          1\\n    43     21     41          1\\n    44     21     42          1\\n    45     21     43          1\\n    46     22     44          1\\n    47     22     45          1\\n    48     22     46          1\\n    49     47     48          1\\n    50     48     49         ar\\n    51     49     50         ar\\n    52     50     51         ar\\n    53     51     52         ar\\n    54     52     53         ar\\n    55     53     48         ar\\n    56     47     54          1\\n    57     47     55          1\\n    58     49     56          1\\n    59     50     57          1\\n    60     51     58          1\\n    61     52     59          1\\n    62     53     60          1\\n    63     10     47          1\\n    64     61     62          1\\n    65     62     63         ar\\n    66     63     64         ar\\n    67     64     65         ar\\n    68     65     66         ar\\n    69     66     67         ar\\n    70     67     62         ar\\n    71     61     68          1\\n    72     61     69          1\\n    73     63     70          1\\n    74     64     71          1\\n    75     65     72          1\\n    76     66     73          1\\n    77     67     74          1\\n    78      1     61          1\\n\",\"mol2\");\n\tviewer_1686943688599779.setStyle({\"stick\": {\"radius\": 0.1}, \"sphere\": {\"scale\": 0.15}});\n\tviewer_1686943688599779.setHoverable({},true,\"\\n            function(atom,viewer,event,container) {\\n                if(!atom.label) {\\n                    atom.label = viewer.addLabel(atom.elem + atom.serial, {position: atom, backgroundColor: 'mintcream', fontColor:'black'});\\n                }\\n            }\\n            \",\"\\n            function(atom,viewer) { \\n                if(atom.label) {\\n                    viewer.removeLabel(atom.label);\\n                    delete atom.label;\\n                }\\n            }\\n            \");\n\tviewer_1686943688599779.zoomTo();\n\tviewer_1686943688599779.setBackgroundColor(null);\nviewer_1686943688599779.render();\n});\n</script>",
      "text/html": [
       "<div id=\"3dmolviewer_1686943688599779\"  style=\"position: relative; width: 1000px; height: 500px\">\n",
       "        <p id=\"3dmolwarning_1686943688599779\" style=\"background-color:#ffcccc;color:black\">You appear to be running in JupyterLab (or JavaScript failed to load for some other reason).  You need to install the 3dmol extension: <br>\n",
       "        <tt>jupyter labextension install jupyterlab_3dmol</tt></p>\n",
       "        </div>\n",
       "<script>\n",
       "\n",
       "var loadScriptAsync = function(uri){\n",
       "  return new Promise((resolve, reject) => {\n",
       "    //this is to ignore the existence of requirejs amd\n",
       "    var savedexports, savedmodule;\n",
       "    if (typeof exports !== 'undefined') savedexports = exports;\n",
       "    else exports = {}\n",
       "    if (typeof module !== 'undefined') savedmodule = module;\n",
       "    else module = {}\n",
       "\n",
       "    var tag = document.createElement('script');\n",
       "    tag.src = uri;\n",
       "    tag.async = true;\n",
       "    tag.onload = () => {\n",
       "        exports = savedexports;\n",
       "        module = savedmodule;\n",
       "        resolve();\n",
       "    };\n",
       "  var firstScriptTag = document.getElementsByTagName('script')[0];\n",
       "  firstScriptTag.parentNode.insertBefore(tag, firstScriptTag);\n",
       "});\n",
       "};\n",
       "\n",
       "if(typeof $3Dmolpromise === 'undefined') {\n",
       "$3Dmolpromise = null;\n",
       "  $3Dmolpromise = loadScriptAsync('https://cdnjs.cloudflare.com/ajax/libs/3Dmol/2.0.1/3Dmol-min.js');\n",
       "}\n",
       "\n",
       "var viewer_1686943688599779 = null;\n",
       "var warn = document.getElementById(\"3dmolwarning_1686943688599779\");\n",
       "if(warn) {\n",
       "    warn.parentNode.removeChild(warn);\n",
       "}\n",
       "$3Dmolpromise.then(function() {\n",
       "viewer_1686943688599779 = $3Dmol.createViewer(document.getElementById(\"3dmolviewer_1686943688599779\"),{backgroundColor:\"white\"});\n",
       "viewer_1686943688599779.zoomTo();\n",
       "\tviewer_1686943688599779.addModel(\"# Produced with molli package\\n@<TRIPOS>MOLECULE\\n3_6_6\\n74 78 0 0 0\\nSMALL\\nUSER_CHARGES\\n\\n@<TRIPOS>ATOM\\n     1 C      -0.012400    -0.070400     0.610300 C.3        1 UNL1 0.0\\n     2 C       0.798700     1.112400     0.045900 C.3        1 UNL1 0.0\\n     3 O      -0.055700     2.234500     0.386600 O.2        1 UNL1 0.0\\n     4 C      -1.308200     1.775400     0.353100 C.2        1 UNL1 0.0\\n     5 N      -1.369200     0.500000     0.325100 N.2        1 UNL1 0.0\\n     6 C      -2.521400     2.643000     0.345600 C.3        1 UNL1 0.0\\n     7 C      -3.771400     1.819300     0.320700 C.2        1 UNL1 0.0\\n     8 O      -4.957700     2.302400     0.683800 O.2        1 UNL1 0.0\\n     9 C      -5.789600     1.169600     1.003400 C.3        1 UNL1 0.0\\n    10 C      -5.222800     0.068000     0.080000 C.3        1 UNL1 0.0\\n    11 N      -3.809200     0.584600    -0.008200 N.2        1 UNL1 0.0\\n    12 C      -2.553200    -0.177300    -0.311300 C.3        1 UNL1 0.0\\n    13 BR     -2.191100    -0.024100    -2.267500 Br         1 UNL1 0.0\\n    14 BR     -2.692600    -2.058400     0.124300 Br         1 UNL1 0.0\\n    15 C      -2.504300     3.469300     1.642900 C.3        1 UNL1 0.0\\n    16 C      -2.499500     3.579600    -0.864800 C.3        1 UNL1 0.0\\n    17 C      -7.278700     1.537800     0.922000 C.3        1 UNL1 0.0\\n    18 C      -8.160400     0.362900     1.347800 C.3        1 UNL1 0.0\\n    19 C      -7.588300     2.753100     1.806200 C.3        1 UNL1 0.0\\n    20 C       2.265500     1.371300     0.431900 C.3        1 UNL1 0.0\\n    21 C       3.140700     0.142400     0.196800 C.3        1 UNL1 0.0\\n    22 C       2.503200     1.968200     1.818800 C.3        1 UNL1 0.0\\n    23 H       0.143400    -0.996900     0.050800 H          1 UNL1 0.0\\n    24 H       0.783700     1.045600    -1.054500 H          1 UNL1 0.0\\n    25 H      -5.559700     0.911800     2.048600 H          1 UNL1 0.0\\n    26 H      -5.244000    -0.886100     0.610600 H          1 UNL1 0.0\\n    27 H      -2.558800     2.820000     2.525700 H          1 UNL1 0.0\\n    28 H      -3.353600     4.159900     1.691400 H          1 UNL1 0.0\\n    29 H      -1.587800     4.064600     1.729300 H          1 UNL1 0.0\\n    30 H      -3.402900     4.199400    -0.901000 H          1 UNL1 0.0\\n    31 H      -1.636200     4.252100    -0.831300 H          1 UNL1 0.0\\n    32 H      -2.450300     3.026800    -1.808700 H          1 UNL1 0.0\\n    33 H      -7.534800     1.836300    -0.101600 H          1 UNL1 0.0\\n    34 H      -9.219700     0.631100     1.286000 H          1 UNL1 0.0\\n    35 H      -7.951200     0.066500     2.381300 H          1 UNL1 0.0\\n    36 H      -8.005800    -0.514500     0.712900 H          1 UNL1 0.0\\n    37 H      -8.653900     3.002800     1.762200 H          1 UNL1 0.0\\n    38 H      -7.327200     2.560500     2.852400 H          1 UNL1 0.0\\n    39 H      -7.034100     3.636000     1.473500 H          1 UNL1 0.0\\n    40 H       2.615400     2.149000    -0.262600 H          1 UNL1 0.0\\n    41 H       2.888500    -0.677000     0.875300 H          1 UNL1 0.0\\n    42 H       3.030100    -0.223600    -0.829800 H          1 UNL1 0.0\\n    43 H       4.197300     0.385900     0.348300 H          1 UNL1 0.0\\n    44 H       3.536100     2.326600     1.897300 H          1 UNL1 0.0\\n    45 H       2.364100     1.242300     2.621400 H          1 UNL1 0.0\\n    46 H       1.849700     2.825700     2.003600 H          1 UNL1 0.0\\n    47 C      -5.877000     0.019400    -1.316900 C.3        1 UNL1 0.0\\n    48 C      -5.586100    -1.230700    -2.110500 C.ar       1 UNL1 0.0\\n    49 C      -5.204200    -1.132600    -3.456300 C.ar       1 UNL1 0.0\\n    50 C      -4.937200    -2.279800    -4.205800 C.ar       1 UNL1 0.0\\n    51 C      -5.080500    -3.538800    -3.631600 C.ar       1 UNL1 0.0\\n    52 C      -5.519400    -3.653200    -2.316400 C.ar       1 UNL1 0.0\\n    53 C      -5.787700    -2.507600    -1.564100 C.ar       1 UNL1 0.0\\n    54 H      -6.968700     0.049500    -1.237500 H          1 UNL1 0.0\\n    55 H      -5.590000     0.905800    -1.898500 H          1 UNL1 0.0\\n    56 H      -5.123100    -0.167600    -3.955600 H          1 UNL1 0.0\\n    57 H      -4.642900    -2.195600    -5.250800 H          1 UNL1 0.0\\n    58 H      -4.890900    -4.432400    -4.224300 H          1 UNL1 0.0\\n    59 H      -5.681200    -4.642100    -1.888900 H          1 UNL1 0.0\\n    60 H      -6.184700    -2.648200    -0.560800 H          1 UNL1 0.0\\n    61 C       0.166700    -0.233100     2.138600 C.3        1 UNL1 0.0\\n    62 C      -0.832100    -1.116900     2.837500 C.ar       1 UNL1 0.0\\n    63 C      -1.905500    -0.559500     3.551800 C.ar       1 UNL1 0.0\\n    64 C      -2.825000    -1.385300     4.200900 C.ar       1 UNL1 0.0\\n    65 C      -2.673200    -2.769600     4.153600 C.ar       1 UNL1 0.0\\n    66 C      -1.592600    -3.330000     3.475300 C.ar       1 UNL1 0.0\\n    67 C      -0.670700    -2.509200     2.823600 C.ar       1 UNL1 0.0\\n    68 H       1.163500    -0.638100     2.346800 H          1 UNL1 0.0\\n    69 H       0.137100     0.746200     2.634700 H          1 UNL1 0.0\\n    70 H      -2.003000     0.517100     3.679000 H          1 UNL1 0.0\\n    71 H      -3.631000    -0.958700     4.797000 H          1 UNL1 0.0\\n    72 H      -3.370000    -3.416300     4.686900 H          1 UNL1 0.0\\n    73 H      -1.455400    -4.410900     3.478200 H          1 UNL1 0.0\\n    74 H       0.180700    -2.977100     2.329900 H          1 UNL1 0.0\\n@<TRIPOS>BOND\\n     1      1      2          1\\n     2      2      3          1\\n     3      3      4          1\\n     4      4      5          2\\n     5      5      1          1\\n     6      4      6          1\\n     7      6      7          1\\n     8      7      8          1\\n     9      8      9          1\\n    10      9     10          1\\n    11     10     11          1\\n    12     11      7          2\\n    13     11     12          1\\n    14     12      5          1\\n    15     12     13          1\\n    16     12     14          1\\n    17      6     15          1\\n    18      6     16          1\\n    19     17     18          1\\n    20     17     19          1\\n    21      9     17          1\\n    22     20     21          1\\n    23     20     22          1\\n    24      2     20          1\\n    25      1     23          1\\n    26      2     24          1\\n    27      9     25          1\\n    28     10     26          1\\n    29     15     27          1\\n    30     15     28          1\\n    31     15     29          1\\n    32     16     30          1\\n    33     16     31          1\\n    34     16     32          1\\n    35     17     33          1\\n    36     18     34          1\\n    37     18     35          1\\n    38     18     36          1\\n    39     19     37          1\\n    40     19     38          1\\n    41     19     39          1\\n    42     20     40          1\\n    43     21     41          1\\n    44     21     42          1\\n    45     21     43          1\\n    46     22     44          1\\n    47     22     45          1\\n    48     22     46          1\\n    49     47     48          1\\n    50     48     49         ar\\n    51     49     50         ar\\n    52     50     51         ar\\n    53     51     52         ar\\n    54     52     53         ar\\n    55     53     48         ar\\n    56     47     54          1\\n    57     47     55          1\\n    58     49     56          1\\n    59     50     57          1\\n    60     51     58          1\\n    61     52     59          1\\n    62     53     60          1\\n    63     10     47          1\\n    64     61     62          1\\n    65     62     63         ar\\n    66     63     64         ar\\n    67     64     65         ar\\n    68     65     66         ar\\n    69     66     67         ar\\n    70     67     62         ar\\n    71     61     68          1\\n    72     61     69          1\\n    73     63     70          1\\n    74     64     71          1\\n    75     65     72          1\\n    76     66     73          1\\n    77     67     74          1\\n    78      1     61          1\\n\",\"mol2\");\n",
       "\tviewer_1686943688599779.setStyle({\"stick\": {\"radius\": 0.1}, \"sphere\": {\"scale\": 0.15}});\n",
       "\tviewer_1686943688599779.setHoverable({},true,\"\\n            function(atom,viewer,event,container) {\\n                if(!atom.label) {\\n                    atom.label = viewer.addLabel(atom.elem + atom.serial, {position: atom, backgroundColor: 'mintcream', fontColor:'black'});\\n                }\\n            }\\n            \",\"\\n            function(atom,viewer) { \\n                if(atom.label) {\\n                    viewer.removeLabel(atom.label);\\n                    delete atom.label;\\n                }\\n            }\\n            \");\n",
       "\tviewer_1686943688599779.zoomTo();\n",
       "\tviewer_1686943688599779.setBackgroundColor(null);\n",
       "viewer_1686943688599779.render();\n",
       "});\n",
       "</script>"
      ]
     },
     "metadata": {},
     "output_type": "display_data"
    },
    {
     "data": {
      "text/plain": [
       "Conformer(name='3_6_6', formula='C30 H38 Br2 N2 O2')"
      ]
     },
     "execution_count": 16,
     "metadata": {},
     "output_type": "execute_result"
    }
   ],
   "source": [
    "clib['3_6_6'][24]"
   ]
  },
  {
   "attachments": {},
   "cell_type": "markdown",
   "metadata": {},
   "source": [
    "# 4. ASO descriptor calculation"
   ]
  },
  {
   "cell_type": "code",
   "execution_count": 17,
   "metadata": {},
   "outputs": [
    {
     "name": "stdout",
     "output_type": "stream",
     "text": [
      "(7106, 3)\n"
     ]
    },
    {
     "name": "stderr",
     "output_type": "stream",
     "text": [
      "100%|██████████| 75/75 [00:00<00:00, 1563.47it/s]\n"
     ]
    },
    {
     "data": {
      "text/plain": [
       "CompletedProcess(args=['molli', 'grid', '--mlib', './ncsa-testing-output/test_conformers_new_env.mlib', '-o', './ncsa-testing-output/grid_new_env.npy'], returncode=0)"
      ]
     },
     "execution_count": 17,
     "metadata": {},
     "output_type": "execute_result"
    }
   ],
   "source": [
    "# first we make a grid for calculating aso\n",
    "subprocess.run(['molli', \n",
    "                'grid', \n",
    "                '--mlib', \n",
    "                f'{out_dir}test_conformers_new_env.mlib', \n",
    "                '-o', \n",
    "                f'{out_dir}grid_new_env.npy'\n",
    "                ])"
   ]
  },
  {
   "cell_type": "code",
   "execution_count": 4,
   "metadata": {},
   "outputs": [
    {
     "name": "stdout",
     "output_type": "stream",
     "text": [
      "Allocating storage for descriptors\n",
      "Will compute descriptor ASO using 128 cores.\n",
      "Grid shape: (7106, 3)\n"
     ]
    },
    {
     "name": "stderr",
     "output_type": "stream",
     "text": [
      "Loading batches of conformers: 0it [00:00, ?it/s]\n",
      "Submitting calculations:   0%|          | 0/75 [00:00<?, ?it/s]\u001b[A\n",
      "Submitting calculations:  81%|████████▏ | 61/75 [00:10<00:02,  5.94it/s]\u001b[A\n",
      "Submitting calculations:  83%|████████▎ | 62/75 [00:10<00:02,  5.76it/s]\u001b[A\n",
      "Submitting calculations:  84%|████████▍ | 63/75 [00:10<00:02,  5.74it/s]\u001b[A\n",
      "Submitting calculations:  85%|████████▌ | 64/75 [00:11<00:02,  5.37it/s]\u001b[A\n",
      "Submitting calculations:  88%|████████▊ | 66/75 [00:11<00:01,  5.81it/s]\u001b[A\n",
      "Submitting calculations:  91%|█████████ | 68/75 [00:12<00:01,  5.14it/s]\u001b[A\n",
      "                                                                        \u001b[A\n",
      "\n",
      "Gathering calculation results:   0%|          | 0/75 [00:00<?, ?it/s]\u001b[A\u001b[A\n",
      "\n",
      "Loading batches of conformers: 1it [00:13, 13.34s/it]                \u001b[A\u001b[A\n"
     ]
    },
    {
     "data": {
      "text/plain": [
       "CompletedProcess(args=['molli', 'gbca', 'aso', './ncsa-testing-output/test_conformers_new_env.mlib', '-g', './ncsa-testing-output/grid_new_env.npy', '-o', './ncsa-testing-output/aso_new_env.h5'], returncode=0)"
      ]
     },
     "execution_count": 4,
     "metadata": {},
     "output_type": "execute_result"
    }
   ],
   "source": [
    "# calculate aso\n",
    "subprocess.run(['molli', \n",
    "                'gbca', \n",
    "                'aso', \n",
    "                f'{out_dir}test_conformers_new_env.mlib', \n",
    "                '-g', \n",
    "                f'{out_dir}grid_new_env.npy', \n",
    "                '-o', \n",
    "                f'{out_dir}aso_new_env.h5'\n",
    "                ])\n",
    "# tqdm looks messed up"
   ]
  },
  {
   "attachments": {},
   "cell_type": "markdown",
   "metadata": {},
   "source": [
    "# 5. post-processing, dimensionaltiy reduction, clustering analysis"
   ]
  },
  {
   "cell_type": "code",
   "execution_count": 5,
   "metadata": {},
   "outputs": [
    {
     "name": "stderr",
     "output_type": "stream",
     "text": [
      "/home/ethangm2/NCSA Development/molli/molli/scripts/cluster.py:98: UserWarning: Issue with descriptor file input: 'module' object is not callable\n",
      "  warnings.warn(f'Issue with descriptor file input: {exp!s}') # how should warning work?\n",
      "/home/ethangm2/NCSA Development/molli/molli/scripts/cluster.py:112: UserWarning: Issue with variance or correlation feature selection: cannot access local variable 'df' where it is not associated with a value\n",
      "  warnings.warn(f'Issue with variance or correlation feature selection: {exp!s}')\n",
      "Traceback (most recent call last):\n",
      "  File \"/home/ethangm2/miniconda3/envs/NCSA-workflow-2/bin/molli\", line 8, in <module>\n",
      "    sys.exit(main())\n",
      "             ^^^^^^\n",
      "  File \"/home/ethangm2/NCSA Development/molli/molli/__main__.py\", line 118, in main\n",
      "    requested_module.molli_main(\n",
      "  File \"/home/ethangm2/NCSA Development/molli/molli/scripts/cluster.py\", line 121, in molli_main\n",
      "    dr.tsne_processing(df, parsed.output, parsed.perplexity, parsed.k_clusters)\n",
      "                       ^^\n",
      "UnboundLocalError: cannot access local variable 'df' where it is not associated with a value\n"
     ]
    },
    {
     "data": {
      "text/plain": [
       "CompletedProcess(args=['molli', 'cluster', './ncsa-testing-output/aso_new_env.h5', '-o', './ncsa-testing-output/new_env_data3', '-v', '0', '-c', '0.8'], returncode=1)"
      ]
     },
     "execution_count": 5,
     "metadata": {},
     "output_type": "execute_result"
    }
   ],
   "source": [
    "subprocess.run(\n",
    "     [ \n",
    "         'molli', \n",
    "         'cluster', \n",
    "         f'{out_dir}aso_new_env.h5', \n",
    "         '-o', \n",
    "         f'{out_dir}new_env_data3', \n",
    "         '-v', # variance threshold before doing clustering\n",
    "         '0', # remove 0 variance columns\n",
    "         '-c', # correlation cutoff before clustering\n",
    "         '0.8', # 0.8 by default\n",
    "     ]\n",
    " )"
   ]
  },
  {
   "cell_type": "code",
   "execution_count": null,
   "metadata": {},
   "outputs": [],
   "source": []
  }
 ],
 "metadata": {
  "kernelspec": {
   "display_name": "NCSA-workflow-dev",
   "language": "python",
   "name": "python3"
  },
  "language_info": {
   "codemirror_mode": {
    "name": "ipython",
    "version": 3
   },
   "file_extension": ".py",
   "mimetype": "text/x-python",
   "name": "python",
   "nbconvert_exporter": "python",
   "pygments_lexer": "ipython3",
   "version": "3.11.4"
  },
  "orig_nbformat": 4
 },
 "nbformat": 4,
 "nbformat_minor": 2
}
