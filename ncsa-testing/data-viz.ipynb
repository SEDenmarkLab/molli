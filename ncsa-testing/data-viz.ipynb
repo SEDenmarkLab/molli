{
 "cells": [
  {
   "cell_type": "code",
   "execution_count": 1,
   "metadata": {},
   "outputs": [],
   "source": [
    "import molli\n",
    "import subprocess\n",
    "import json"
   ]
  },
  {
   "attachments": {},
   "cell_type": "markdown",
   "metadata": {},
   "source": [
    "# TSNE plot"
   ]
  },
  {
   "cell_type": "code",
   "execution_count": 2,
   "metadata": {},
   "outputs": [
    {
     "name": "stdout",
     "output_type": "stream",
     "text": [
      "7\n"
     ]
    }
   ],
   "source": [
    "# locating \"knee\" index at end of exemplars list\n",
    "with open('../../ncsa-plots/data/tsne_exemplars.json') as f:\n",
    "    exemp = json.load(f)\n",
    "knee = exemp[-1]\n",
    "print(knee)"
   ]
  },
  {
   "cell_type": "code",
   "execution_count": 3,
   "metadata": {},
   "outputs": [
    {
     "data": {
      "text/plain": [
       "CompletedProcess(args=['molli', 'plot', '../../ncsa-plots/data/tsne_values_and_clusters.json', '../../ncsa-plots/data/tsne_exemplars.json', '7', '-o', '../../ncsa-plots/tsne-cluster.png'], returncode=0)"
      ]
     },
     "execution_count": 3,
     "metadata": {},
     "output_type": "execute_result"
    }
   ],
   "source": [
    "subprocess.run(\n",
    "    [\n",
    "        'molli',\n",
    "        'plot',\n",
    "        '../../ncsa-plots/data/tsne_values_and_clusters.json',\n",
    "        '../../ncsa-plots/data/tsne_exemplars.json',\n",
    "        str(knee),\n",
    "        '-o',\n",
    "        '../../ncsa-plots/tsne-cluster.png'\n",
    "    ]\n",
    ")"
   ]
  },
  {
   "attachments": {},
   "cell_type": "markdown",
   "metadata": {},
   "source": [
    "NOT COMPLETE, WILL FIX TOMORROW MORNING (6/16)"
   ]
  }
 ],
 "metadata": {
  "kernelspec": {
   "display_name": "NCSA-workflow-2",
   "language": "python",
   "name": "python3"
  },
  "language_info": {
   "codemirror_mode": {
    "name": "ipython",
    "version": 3
   },
   "file_extension": ".py",
   "mimetype": "text/x-python",
   "name": "python",
   "nbconvert_exporter": "python",
   "pygments_lexer": "ipython3",
   "version": "3.11.4"
  },
  "orig_nbformat": 4
 },
 "nbformat": 4,
 "nbformat_minor": 2
}
