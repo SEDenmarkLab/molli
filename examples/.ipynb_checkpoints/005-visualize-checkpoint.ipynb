{
 "cells": [
  {
   "cell_type": "code",
   "execution_count": 1,
   "metadata": {},
   "outputs": [
    {
     "name": "stderr",
     "output_type": "stream",
     "text": [
      "C:\\SAS\\programs\\repo\\molli\\molli\\chem\\atom.py:382: UserWarning: Replaced illegal characters in molecule name: ***** --> _____\n",
      "  warn(f\"Replaced illegal characters in molecule name: {_value} --> {sub}\")\n"
     ]
    },
    {
     "data": {
      "text/plain": [
       "<vtkmodules.vtkRenderingAnnotation.vtkAxesActor(0x00000262BF113DF0) at 0x00000262C1CA7FA0>"
      ]
     },
     "execution_count": 1,
     "metadata": {},
     "output_type": "execute_result"
    }
   ],
   "source": [
    "import molli as ml\n",
    "import pyvista as pv\n",
    "from PIL import ImageColor\n",
    "from matplotlib.colors import ListedColormap\n",
    "import numpy as np\n",
    "\n",
    "with ml.files.mol2.nanotube.open() as f:\n",
    "    _mol = ml.chem.Molecule.from_mol2(f)\n",
    "\n",
    "# mol = _mol.heavy\n",
    "mol = _mol\n",
    "\n",
    "mol.translate(-1 * mol.centroid())\n",
    "a_sizes = [a.cov_radius_1 for a in mol.atoms]\n",
    "\n",
    "sph = pv.Sphere(theta_resolution=32, phi_resolution=32)\n",
    "\n",
    "\n",
    "plotter = pv.Plotter(notebook=True)\n",
    "\n",
    "b_lines = []\n",
    "for b in mol.bonds:\n",
    "    i1, i2 = mol.yield_atom_indices((b.a1, b.a2))\n",
    "    b_lines.append((2, i1, i2))\n",
    "\n",
    "points = pv.PolyData(mol.coords, lines=b_lines, n_lines=mol.n_bonds)\n",
    "points.point_data[\"element\"] = [a.Z for a in mol.atoms]\n",
    "points[\"radius\"] = a_sizes\n",
    "\n",
    "val = np.linspace(-1, 118, 120)\n",
    "colors = np.zeros((120, 4))\n",
    "for i, elt in enumerate(ml.chem.Element):\n",
    "    clr = elt.color_cpk or \"#000000\"\n",
    "    r, g, b = ImageColor.getrgb(clr)\n",
    "    colors[val > (elt.z - 0.5)] = [r / 255, g / 255, b / 255, 1]\n",
    "\n",
    "cmap_cpk = pv.LookupTable(ListedColormap(colors), n_values=120, scalar_range=(-1, 118))\n",
    "\n",
    "spherez = points.glyph(geom=sph, orient=False, scale=\"radius\")\n",
    "plotter.add_mesh(\n",
    "    spherez,\n",
    "    color=\"white\",\n",
    "    smooth_shading=True,\n",
    "    scalars=\"element\",\n",
    "    show_scalar_bar=False,\n",
    "    diffuse=0.7,\n",
    "    specular=0.3,\n",
    "    specular_power=2,\n",
    "    cmap=cmap_cpk,\n",
    ")\n",
    "\n",
    "plotter.add_mesh(\n",
    "    points,\n",
    "    line_width=5,\n",
    "    scalars=\"element\",\n",
    "    show_scalar_bar=False,\n",
    "    render_lines_as_tubes=True,\n",
    "    diffuse=0.7,\n",
    "    specular=0.3,\n",
    "    specular_power=2,\n",
    "    cmap=cmap_cpk,\n",
    "    interpolate_before_map=False,\n",
    ")\n",
    "\n",
    "# plotter.enable_anti_aliasing(aa_type=\"msaa\", multi_samples=2)\n",
    "# plotter.background_color = \"black\"\n",
    "plotter.view_xy()\n",
    "plotter.add_axes()\n"
   ]
  },
  {
   "cell_type": "code",
   "execution_count": 5,
   "metadata": {},
   "outputs": [
    {
     "data": {
      "application/vnd.jupyter.widget-view+json": {
       "model_id": "dc69d1bcc0124689b150983fd5b8f063",
       "version_major": 2,
       "version_minor": 0
      },
      "text/plain": [
       "Renderer(camera=PerspectiveCamera(aspect=1.3333333333333333, children=(DirectionalLight(intensity=0.25, positi…"
      ]
     },
     "metadata": {},
     "output_type": "display_data"
    }
   ],
   "source": [
    "plotter.show(jupyter_backend=\"\")"
   ]
  },
  {
   "cell_type": "code",
   "execution_count": null,
   "metadata": {},
   "outputs": [],
   "source": []
  }
 ],
 "metadata": {
  "kernelspec": {
   "display_name": "Python 3 (ipykernel)",
   "language": "python",
   "name": "python3"
  },
  "language_info": {
   "codemirror_mode": {
    "name": "ipython",
    "version": 3
   },
   "file_extension": ".py",
   "mimetype": "text/x-python",
   "name": "python",
   "nbconvert_exporter": "python",
   "pygments_lexer": "ipython3",
   "version": "3.10.6"
  },
  "vscode": {
   "interpreter": {
    "hash": "76cbec9d8be6152967bf6eb279a8f9736e48be32763f3b307b1279f8e0121d15"
   }
  }
 },
 "nbformat": 4,
 "nbformat_minor": 2
}
