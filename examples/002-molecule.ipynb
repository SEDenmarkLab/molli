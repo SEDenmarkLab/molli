{
 "cells": [
  {
   "cell_type": "code",
   "execution_count": 1,
   "metadata": {},
   "outputs": [],
   "source": [
    "import molli as ml\n",
    "ml.aux.assert_molli_version_min(\"1.0a\")"
   ]
  },
  {
   "cell_type": "code",
   "execution_count": 2,
   "metadata": {},
   "outputs": [
    {
     "name": "stderr",
     "output_type": "stream",
     "text": [
      "C:\\SAS\\programs\\repo\\molli\\molli\\parsing\\mol2.py:249: UserWarning: TRIPOS block 'SUBSTRUCTURE' is not implemented in current version of MOLLI!. Lines will be skipped.\n",
      "  warn(\n"
     ]
    },
    {
     "name": "stdout",
     "output_type": "stream",
     "text": [
      "2115 0\n"
     ]
    },
    {
     "name": "stderr",
     "output_type": "stream",
     "text": [
      "C:\\SAS\\programs\\repo\\molli\\molli\\parsing\\mol2.py:263: UserWarning: This mol2 stream contained lines within TRIPOS blocks not supported by MOLLI. skipped 1508 lines\n",
      "  warn(\n"
     ]
    }
   ],
   "source": [
    "with ml.files.mol2.zincdb_fda.open() as f:\n",
    "    mol_iter = ml.chem.Molecule.yield_from_mol2(f)\n",
    "    success = 0\n",
    "    fail = 0\n",
    "    while True:\n",
    "        try:\n",
    "            mol = next(mol_iter)\n",
    "        except StopIteration:\n",
    "            break\n",
    "        except:\n",
    "            fail += 1\n",
    "        else:\n",
    "            success += 1 \n",
    "    \n",
    "    print(success, fail)"
   ]
  },
  {
   "cell_type": "code",
   "execution_count": null,
   "metadata": {},
   "outputs": [],
   "source": []
  },
  {
   "cell_type": "code",
   "execution_count": null,
   "metadata": {},
   "outputs": [],
   "source": []
  }
 ],
 "metadata": {
  "kernelspec": {
   "display_name": "Python 3.10.6 ('molli-dev')",
   "language": "python",
   "name": "python3"
  },
  "language_info": {
   "codemirror_mode": {
    "name": "ipython",
    "version": 3
   },
   "file_extension": ".py",
   "mimetype": "text/x-python",
   "name": "python",
   "nbconvert_exporter": "python",
   "pygments_lexer": "ipython3",
   "version": "3.10.6"
  },
  "orig_nbformat": 4,
  "vscode": {
   "interpreter": {
    "hash": "76cbec9d8be6152967bf6eb279a8f9736e48be32763f3b307b1279f8e0121d15"
   }
  }
 },
 "nbformat": 4,
 "nbformat_minor": 2
}
