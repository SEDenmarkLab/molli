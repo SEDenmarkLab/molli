{
 "cells": [
  {
   "attachments": {},
   "cell_type": "markdown",
   "metadata": {},
   "source": [
    "# Assigning Atoms \n",
    "\n",
    "This is an example of using molli to assign atoms to variables "
   ]
  },
  {
   "cell_type": "code",
   "execution_count": 1,
   "metadata": {},
   "outputs": [],
   "source": [
    "# Imports necessary packages and checks the version of molli.\n",
    "import molli as ml\n",
    "import py3Dmol\n",
    "ml.aux.assert_molli_version_min(\"1.0a\")"
   ]
  },
  {
   "cell_type": "code",
   "execution_count": 5,
   "metadata": {},
   "outputs": [
    {
     "name": "stdout",
     "output_type": "stream",
     "text": [
      "AtomGeom.R4_Tetrahedral\n"
     ]
    },
    {
     "data": {
      "text/plain": [
       "True"
      ]
     },
     "execution_count": 5,
     "metadata": {},
     "output_type": "execute_result"
    }
   ],
   "source": [
    "# Assigns Silicone to both a and b, but with different geometries and atom types\n",
    "a = ml.Atom(\"Si\", isotope=29, geom=ml.AtomGeom.R4_Tetrahedral)\n",
    "b = ml.Atom(\"Si\", isotope=29, atype=ml.AtomType.AttachmentPoint)\n",
    "print(a.geom)\n",
    "b.is_attachment_point"
   ]
  },
  {
   "cell_type": "code",
   "execution_count": 3,
   "metadata": {},
   "outputs": [
    {
     "data": {
      "text/plain": [
       "Atom(element=Bi, isotope=29, label=None)"
      ]
     },
     "execution_count": 3,
     "metadata": {},
     "output_type": "execute_result"
    }
   ],
   "source": [
    "a.element = 83\n",
    "a"
   ]
  },
  {
   "cell_type": "code",
   "execution_count": 4,
   "metadata": {},
   "outputs": [
    {
     "name": "stdout",
     "output_type": "stream",
     "text": [
      "34\n",
      "unknown [produced with molli]\n",
      "C        -2.804500     3.996400    -1.412800\n",
      "C        -2.748400     3.317400    -0.053600\n",
      "H        -3.684000     4.644600    -1.476700\n",
      "H        -2.867800     3.257600    -2.218100\n",
      "H        -1.915400     4.612600    -1.580600\n",
      "C        -1.528800     2.404000     0.066300\n",
      "H        -3.665500     2.735900     0.095900\n",
      "H        -2.718500     4.083500     0.729900\n",
      "C        -0.228600     3.184600    -0.124600\n",
      "H        -1.592000     1.606100    -0.683800\n",
      "H        -1.526500     1.921300     1.051200\n",
      "C        -0.089200     4.294900     0.904600\n",
      "H        -0.200100     3.620600    -1.130000\n",
      "H         0.628700     2.506600    -0.040400\n",
      "H        -0.915000     5.009100     0.825500\n",
      "H         0.847200     4.839900     0.749600\n",
      "H        -0.081700     3.888900     1.921200\n",
      "C        47.195500     3.996400    -1.412800\n",
      "C        47.251600     3.317400    -0.053600\n",
      "H        46.316000     4.644600    -1.476700\n",
      "H        47.132200     3.257600    -2.218100\n",
      "H        48.084600     4.612600    -1.580600\n",
      "C        48.471200     2.404000     0.066300\n",
      "H        46.334500     2.735900     0.095900\n",
      "H        47.281500     4.083500     0.729900\n",
      "C        49.771400     3.184600    -0.124600\n",
      "H        48.408000     1.606100    -0.683800\n",
      "H        48.473500     1.921300     1.051200\n",
      "C        49.910800     4.294900     0.904600\n",
      "H        49.799900     3.620600    -1.130000\n",
      "H        50.628700     2.506600    -0.040400\n",
      "H        49.085000     5.009100     0.825500\n",
      "H        50.847200     4.839900     0.749600\n",
      "H        49.918300     3.888900     1.921200\n",
      "\n"
     ]
    },
    {
     "name": "stderr",
     "output_type": "stream",
     "text": [
      "/home/blakeo2/miniconda3/envs/b_dev3/lib/python3.11/site-packages/molli/chem/atom.py:719: UserWarning: Replaced illegal characters in molecule name: .\\pentane.xyz --> __pentane_xyz\n",
      "  warn(f\"Replaced illegal characters in molecule name: {value} --> {sub}\")\n"
     ]
    }
   ],
   "source": [
    "with open(ml.files.pentane_confs_mol2) as f:\n",
    "    mol1 = ml.Structure.load_mol2(f)\n",
    "\n",
    "mol2 = ml.Structure(mol1)\n",
    "\n",
    "mol2.translate([50,0,0])\n",
    "\n",
    "# print(mol1.to_xyzblock())\n",
    "# print(mol2.to_xyzblock())\n",
    "\n",
    "print((mol1 | mol2).dumps_xyz())"
   ]
  },
  {
   "cell_type": "code",
   "execution_count": 5,
   "metadata": {},
   "outputs": [
    {
     "name": "stdout",
     "output_type": "stream",
     "text": [
      "CartesianGeometry(name='unnamed', formula='C16 H25 N1 O2')\n",
      "CartesianGeometry(name='unnamed', formula='Unknown2')\n",
      "CartesianGeometry(name='unnamed', formula='C5 H12')\n",
      "CartesianGeometry(name='unnamed', formula='C5 H12')\n",
      "CartesianGeometry(name='unnamed', formula='C5 H12')\n",
      "CartesianGeometry(name='unnamed', formula='C5 H12')\n",
      "CartesianGeometry(name='unnamed', formula='C5 H12')\n",
      "CartesianGeometry(name='unnamed', formula='C5 H12')\n",
      "CartesianGeometry(name='unnamed', formula='C5 H12')\n"
     ]
    }
   ],
   "source": [
    "# Looks for all xyz files in the root directory and loads them as CartesianGeometry instances\n",
    "pattern = str(ml.files.ROOT / \"*.xyz\")\n",
    "\n",
    "for g in ml.aux.dglob(pattern, ml.CartesianGeometry.load_all_xyz, strict=False):\n",
    "    print(g)"
   ]
  },
  {
   "cell_type": "code",
   "execution_count": 6,
   "metadata": {},
   "outputs": [
    {
     "name": "stdout",
     "output_type": "stream",
     "text": [
      "34\n",
      "unknown [produced with molli]\n",
      "C        -2.082300     1.207900     0.000000\n",
      "C        -2.776900    -0.003200     0.000000\n",
      "C        -2.081200    -1.213600     0.000000\n",
      "C        -0.682200    -1.221900     0.000000\n",
      "C         0.000000     0.000000     0.000000\n",
      "C        -0.682200     1.220600     0.000000\n",
      "C         0.056300     2.524100     0.000000\n",
      "C         0.087600    -2.507100     0.000000\n",
      "H        -2.638800     2.142600     0.000000\n",
      "H        -3.864400    -0.003600     0.000000\n",
      "H        -2.638700    -2.147500     0.000000\n",
      "H         1.141200     2.379200    -0.000000\n",
      "H        -0.203100     3.103400     0.892100\n",
      "H        -0.203100     3.103400    -0.892100\n",
      "H        -0.580100    -3.375000    -0.000000\n",
      "H         0.718400    -2.569900     0.892600\n",
      "H         0.718400    -2.569900    -0.892600\n",
      "C         3.586456    -0.265499    -1.172434\n",
      "C         4.276832    -0.015588     0.015067\n",
      "C         3.576931     0.239014     1.195907\n",
      "C         2.177924     0.245611     1.198011\n",
      "C         1.499986    -0.006593    -0.000000\n",
      "C         2.186422    -0.263273    -1.190874\n",
      "C         1.452469    -0.532282    -2.468936\n",
      "C         1.403664     0.516056     2.451690\n",
      "H         4.146200    -0.462176    -2.084225\n",
      "H         5.364314    -0.019288     0.020133\n",
      "H         4.131173     0.431649     2.111703\n",
      "H         0.367081    -0.498318    -2.331880\n",
      "H         1.710046    -1.526397    -2.848553\n",
      "H         1.717715     0.218638    -3.220256\n",
      "H         2.068334     0.694556     3.303409\n",
      "H         0.768818    -0.341672     2.696356\n",
      "H         0.776492     1.404341     2.324444\n",
      "\n"
     ]
    },
    {
     "name": "stderr",
     "output_type": "stream",
     "text": [
      "/home/blakeo2/miniconda3/envs/b_dev3/lib/python3.11/site-packages/molli/chem/atom.py:719: UserWarning: Replaced illegal characters in molecule name: ***** --> _____\n",
      "  warn(f\"Replaced illegal characters in molecule name: {value} --> {sub}\")\n"
     ]
    }
   ],
   "source": [
    "# Yields atoms from the  each structure that are connected to Fluorine atoms\n",
    "m1 = ml.Structure.load_mol2(ml.files.fxyl_mol2)\n",
    "f1 = next(m1.yield_atoms_by_element(\"F\"))\n",
    "\n",
    "m2 = ml.Structure(m1)\n",
    "f2 = next(m2.yield_atoms_by_element(\"F\"))\n",
    "\n",
    "# Joins the two structures together and optimizes the rotation of the new structure \n",
    "m3 = ml.Structure.join(m1, m2, f1, f2, optimize_rotation=True)\n",
    "print(m3.dumps_xyz())"
   ]
  }
 ],
 "metadata": {
  "kernelspec": {
   "display_name": "molli-dev",
   "language": "python",
   "name": "python3"
  },
  "language_info": {
   "codemirror_mode": {
    "name": "ipython",
    "version": 3
   },
   "file_extension": ".py",
   "mimetype": "text/x-python",
   "name": "python",
   "nbconvert_exporter": "python",
   "pygments_lexer": "ipython3",
   "version": "3.11.5"
  },
  "orig_nbformat": 4,
  "vscode": {
   "interpreter": {
    "hash": "76cbec9d8be6152967bf6eb279a8f9736e48be32763f3b307b1279f8e0121d15"
   }
  }
 },
 "nbformat": 4,
 "nbformat_minor": 2
}
