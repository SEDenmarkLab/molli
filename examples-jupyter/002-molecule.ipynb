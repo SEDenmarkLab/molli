{
 "cells": [
  {
   "cell_type": "code",
   "execution_count": 2,
   "metadata": {},
   "outputs": [
    {
     "ename": "ImportError",
     "evalue": "cannot import name 'mglob' from 'molli.chem.iterators' (/home/shvedalx/repository/molli/molli/chem/iterators.py)",
     "output_type": "error",
     "traceback": [
      "\u001b[0;31m---------------------------------------------------------------------------\u001b[0m",
      "\u001b[0;31mImportError\u001b[0m                               Traceback (most recent call last)",
      "Cell \u001b[0;32mIn[2], line 1\u001b[0m\n\u001b[0;32m----> 1\u001b[0m \u001b[39mimport\u001b[39;00m \u001b[39mmolli\u001b[39;00m \u001b[39mas\u001b[39;00m \u001b[39mml\u001b[39;00m\n\u001b[1;32m      2\u001b[0m ml\u001b[39m.\u001b[39maux\u001b[39m.\u001b[39massert_molli_version_min(\u001b[39m\"\u001b[39m\u001b[39m1.0a\u001b[39m\u001b[39m\"\u001b[39m)\n",
      "File \u001b[0;32m~/repository/molli/molli/__init__.py:44\u001b[0m\n\u001b[1;32m     41\u001b[0m \u001b[39mfrom\u001b[39;00m \u001b[39m.\u001b[39;00m \u001b[39mimport\u001b[39;00m storage\n\u001b[1;32m     43\u001b[0m \u001b[39m# from . import chem\u001b[39;00m\n\u001b[0;32m---> 44\u001b[0m \u001b[39mfrom\u001b[39;00m \u001b[39m.\u001b[39;00m \u001b[39mimport\u001b[39;00m descriptor\n\u001b[1;32m     45\u001b[0m \u001b[39mfrom\u001b[39;00m \u001b[39m.\u001b[39;00m \u001b[39mimport\u001b[39;00m external\n\u001b[1;32m     46\u001b[0m \u001b[39mfrom\u001b[39;00m \u001b[39m.\u001b[39;00m \u001b[39mimport\u001b[39;00m files\n",
      "File \u001b[0;32m~/repository/molli/molli/descriptor/__init__.py:2\u001b[0m\n\u001b[1;32m      1\u001b[0m \u001b[39mfrom\u001b[39;00m \u001b[39m.\u001b[39;00m\u001b[39mgbca\u001b[39;00m \u001b[39mimport\u001b[39;00m rectangular_grid\n\u001b[0;32m----> 2\u001b[0m \u001b[39mfrom\u001b[39;00m \u001b[39m.\u001b[39;00m\u001b[39maso\u001b[39;00m \u001b[39mimport\u001b[39;00m \u001b[39m*\u001b[39m\n",
      "File \u001b[0;32m~/repository/molli/molli/descriptor/aso.py:1\u001b[0m\n\u001b[0;32m----> 1\u001b[0m \u001b[39mfrom\u001b[39;00m \u001b[39m.\u001b[39;00m\u001b[39m.\u001b[39;00m\u001b[39mchem\u001b[39;00m \u001b[39mimport\u001b[39;00m Molecule, ConformerEnsemble\n\u001b[1;32m      2\u001b[0m \u001b[39mfrom\u001b[39;00m \u001b[39mconcurrent\u001b[39;00m\u001b[39m.\u001b[39;00m\u001b[39mfutures\u001b[39;00m \u001b[39mimport\u001b[39;00m ThreadPoolExecutor, Future\n\u001b[1;32m      3\u001b[0m \u001b[39mimport\u001b[39;00m \u001b[39mnumpy\u001b[39;00m \u001b[39mas\u001b[39;00m \u001b[39mnp\u001b[39;00m\n",
      "File \u001b[0;32m~/repository/molli/molli/chem/__init__.py:32\u001b[0m\n\u001b[1;32m     30\u001b[0m \u001b[39mfrom\u001b[39;00m \u001b[39m.\u001b[39;00m\u001b[39mlibrary\u001b[39;00m \u001b[39mimport\u001b[39;00m ConformerLibrary, MoleculeLibrary\n\u001b[1;32m     31\u001b[0m \u001b[39mfrom\u001b[39;00m \u001b[39m.\u001b[39;00m\u001b[39mlegacy\u001b[39;00m \u001b[39mimport\u001b[39;00m ensemble_from_molli_old_xml\n\u001b[0;32m---> 32\u001b[0m \u001b[39mfrom\u001b[39;00m \u001b[39m.\u001b[39;00m\u001b[39miterators\u001b[39;00m \u001b[39mimport\u001b[39;00m mglob\n",
      "\u001b[0;31mImportError\u001b[0m: cannot import name 'mglob' from 'molli.chem.iterators' (/home/shvedalx/repository/molli/molli/chem/iterators.py)"
     ]
    }
   ],
   "source": [
    "import molli as ml\n",
    "ml.aux.assert_molli_version_min(\"1.0a\")"
   ]
  },
  {
   "cell_type": "code",
   "execution_count": null,
   "metadata": {},
   "outputs": [
    {
     "name": "stdout",
     "output_type": "stream",
     "text": [
      "Atom(element=Si, isotope=29, label=None, atype=Regular, stereo=Unknown, geom=R4_Tetrahedral)\n"
     ]
    },
    {
     "data": {
      "text/plain": [
       "True"
      ]
     },
     "execution_count": 2,
     "metadata": {},
     "output_type": "execute_result"
    }
   ],
   "source": [
    "a = ml.Atom(\"Si\", isotope=29, geom=ml.AtomGeom.R4_Tetrahedral)\n",
    "b = ml.Atom(\"Si\", isotope=29, atype=ml.AtomType.AttachmentPoint)\n",
    "print(a)\n",
    "b.is_attachment_point"
   ]
  },
  {
   "cell_type": "code",
   "execution_count": null,
   "metadata": {},
   "outputs": [
    {
     "data": {
      "text/plain": [
       "Atom(element=Bi, isotope=29, label=None, atype=Regular, stereo=Unknown, geom=R4_Tetrahedral)"
      ]
     },
     "execution_count": 3,
     "metadata": {},
     "output_type": "execute_result"
    }
   ],
   "source": [
    "a.element = 83\n",
    "a"
   ]
  },
  {
   "cell_type": "code",
   "execution_count": null,
   "metadata": {},
   "outputs": [
    {
     "name": "stdout",
     "output_type": "stream",
     "text": [
      "34\n",
      "unnamed [produced with molli]\n",
      "C        -2.804500     3.996400    -1.412800\n",
      "C        -2.748400     3.317400    -0.053600\n",
      "H        -3.684000     4.644600    -1.476700\n",
      "H        -2.867800     3.257600    -2.218100\n",
      "H        -1.915400     4.612600    -1.580600\n",
      "C        -1.528800     2.404000     0.066300\n",
      "H        -3.665500     2.735900     0.095900\n",
      "H        -2.718500     4.083500     0.729900\n",
      "C        -0.228600     3.184600    -0.124600\n",
      "H        -1.592000     1.606100    -0.683800\n",
      "H        -1.526500     1.921300     1.051200\n",
      "C        -0.089200     4.294900     0.904600\n",
      "H        -0.200100     3.620600    -1.130000\n",
      "H         0.628700     2.506600    -0.040400\n",
      "H        -0.915000     5.009100     0.825500\n",
      "H         0.847200     4.839900     0.749600\n",
      "H        -0.081700     3.888900     1.921200\n",
      "C        47.195500     3.996400    -1.412800\n",
      "C        47.251600     3.317400    -0.053600\n",
      "H        46.316000     4.644600    -1.476700\n",
      "H        47.132200     3.257600    -2.218100\n",
      "H        48.084600     4.612600    -1.580600\n",
      "C        48.471200     2.404000     0.066300\n",
      "H        46.334500     2.735900     0.095900\n",
      "H        47.281500     4.083500     0.729900\n",
      "C        49.771400     3.184600    -0.124600\n",
      "H        48.408000     1.606100    -0.683800\n",
      "H        48.473500     1.921300     1.051200\n",
      "C        49.910800     4.294900     0.904600\n",
      "H        49.799900     3.620600    -1.130000\n",
      "H        50.628700     2.506600    -0.040400\n",
      "H        49.085000     5.009100     0.825500\n",
      "H        50.847200     4.839900     0.749600\n",
      "H        49.918300     3.888900     1.921200\n",
      "\n"
     ]
    },
    {
     "name": "stderr",
     "output_type": "stream",
     "text": [
      "/home/shvedalx/repository/molli/molli/chem/atom.py:481: UserWarning: Replaced illegal characters in molecule name: .\\pentane.xyz --> __pentane_xyz\n",
      "  warn(f\"Replaced illegal characters in molecule name: {value} --> {sub}\")\n"
     ]
    }
   ],
   "source": [
    "with ml.files.mol2.pentane_confs.open() as f:\n",
    "    mol1 = ml.Structure.from_mol2(f)\n",
    "\n",
    "mol2 = ml.Structure(mol1)\n",
    "\n",
    "mol2.translate([50,0,0])\n",
    "\n",
    "# print(mol1.to_xyzblock())\n",
    "# print(mol2.to_xyzblock())\n",
    "\n",
    "print((mol1 | mol2).dumps_xyz())\n",
    "\n",
    "\n"
   ]
  },
  {
   "cell_type": "code",
   "execution_count": null,
   "metadata": {},
   "outputs": [
    {
     "name": "stdout",
     "output_type": "stream",
     "text": [
      "CartesianGeometry(name='unnamed', formula='C16 H25 N1 O2')\n",
      "CartesianGeometry(name='unnamed', formula='C5 H12')\n"
     ]
    }
   ],
   "source": [
    "pattern = str(ml.files.ROOT / \"*.xyz\")\n",
    "\n",
    "for g in ml.dglob(pattern, ml.CartesianGeometry.load_all_xyz, strict=False):\n",
    "    print(g)"
   ]
  },
  {
   "cell_type": "code",
   "execution_count": null,
   "metadata": {},
   "outputs": [],
   "source": []
  }
 ],
 "metadata": {
  "kernelspec": {
   "display_name": "molli-dev",
   "language": "python",
   "name": "python3"
  },
  "language_info": {
   "codemirror_mode": {
    "name": "ipython",
    "version": 3
   },
   "file_extension": ".py",
   "mimetype": "text/x-python",
   "name": "python",
   "nbconvert_exporter": "python",
   "pygments_lexer": "ipython3",
   "version": "3.10.8"
  },
  "orig_nbformat": 4,
  "vscode": {
   "interpreter": {
    "hash": "4c66e8f176fbf3df590ec010f6af88e4e499f7786e053ca101a7d8aa8a685488"
   }
  }
 },
 "nbformat": 4,
 "nbformat_minor": 2
}
