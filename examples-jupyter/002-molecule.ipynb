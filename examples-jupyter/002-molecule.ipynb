{
 "cells": [
  {
   "cell_type": "code",
   "execution_count": 1,
   "metadata": {},
   "outputs": [],
   "source": [
    "import molli as ml\n",
    "import py3Dmol\n",
    "# ml.aux.assert_molli_version_min(\"1.0a\")"
   ]
  },
  {
   "cell_type": "code",
   "execution_count": 2,
   "metadata": {},
   "outputs": [
    {
     "name": "stdout",
     "output_type": "stream",
     "text": [
      "Atom(element=Si, isotope=29, label=None)\n"
     ]
    },
    {
     "data": {
      "text/plain": [
       "True"
      ]
     },
     "execution_count": 2,
     "metadata": {},
     "output_type": "execute_result"
    }
   ],
   "source": [
    "a = ml.Atom(\"Si\", isotope=29, geom=ml.AtomGeom.R4_Tetrahedral)\n",
    "b = ml.Atom(\"Si\", isotope=29, atype=ml.AtomType.AttachmentPoint)\n",
    "print(a)\n",
    "b.is_attachment_point"
   ]
  },
  {
   "cell_type": "code",
   "execution_count": 3,
   "metadata": {},
   "outputs": [
    {
     "data": {
      "text/plain": [
       "Atom(element=Bi, isotope=29, label=None)"
      ]
     },
     "execution_count": 3,
     "metadata": {},
     "output_type": "execute_result"
    }
   ],
   "source": [
    "a.element = 83\n",
    "a"
   ]
  },
  {
   "cell_type": "code",
   "execution_count": 4,
   "metadata": {},
   "outputs": [
    {
     "name": "stdout",
     "output_type": "stream",
     "text": [
      "34\n",
      "unknown [produced with molli]\n",
      "C        -2.804500     3.996400    -1.412800\n",
      "C        -2.748400     3.317400    -0.053600\n",
      "H        -3.684000     4.644600    -1.476700\n",
      "H        -2.867800     3.257600    -2.218100\n",
      "H        -1.915400     4.612600    -1.580600\n",
      "C        -1.528800     2.404000     0.066300\n",
      "H        -3.665500     2.735900     0.095900\n",
      "H        -2.718500     4.083500     0.729900\n",
      "C        -0.228600     3.184600    -0.124600\n",
      "H        -1.592000     1.606100    -0.683800\n",
      "H        -1.526500     1.921300     1.051200\n",
      "C        -0.089200     4.294900     0.904600\n",
      "H        -0.200100     3.620600    -1.130000\n",
      "H         0.628700     2.506600    -0.040400\n",
      "H        -0.915000     5.009100     0.825500\n",
      "H         0.847200     4.839900     0.749600\n",
      "H        -0.081700     3.888900     1.921200\n",
      "C        47.195500     3.996400    -1.412800\n",
      "C        47.251600     3.317400    -0.053600\n",
      "H        46.316000     4.644600    -1.476700\n",
      "H        47.132200     3.257600    -2.218100\n",
      "H        48.084600     4.612600    -1.580600\n",
      "C        48.471200     2.404000     0.066300\n",
      "H        46.334500     2.735900     0.095900\n",
      "H        47.281500     4.083500     0.729900\n",
      "C        49.771400     3.184600    -0.124600\n",
      "H        48.408000     1.606100    -0.683800\n",
      "H        48.473500     1.921300     1.051200\n",
      "C        49.910800     4.294900     0.904600\n",
      "H        49.799900     3.620600    -1.130000\n",
      "H        50.628700     2.506600    -0.040400\n",
      "H        49.085000     5.009100     0.825500\n",
      "H        50.847200     4.839900     0.749600\n",
      "H        49.918300     3.888900     1.921200\n",
      "\n"
     ]
    },
    {
     "name": "stderr",
     "output_type": "stream",
     "text": [
      "C:\\SAS\\programs\\repo\\molli\\molli\\chem\\atom.py:612: UserWarning: Replaced illegal characters in molecule name: .\\pentane.xyz --> __pentane_xyz\n",
      "  warn(\n"
     ]
    }
   ],
   "source": [
    "with ml.files.mol2.pentane_confs.open() as f:\n",
    "    mol1 = ml.Structure.load_mol2(f)\n",
    "\n",
    "mol2 = ml.Structure(mol1)\n",
    "\n",
    "mol2.translate([50,0,0])\n",
    "\n",
    "# print(mol1.to_xyzblock())\n",
    "# print(mol2.to_xyzblock())\n",
    "\n",
    "print((mol1 | mol2).dumps_xyz())\n",
    "\n",
    "\n"
   ]
  },
  {
   "cell_type": "code",
   "execution_count": 5,
   "metadata": {},
   "outputs": [
    {
     "name": "stdout",
     "output_type": "stream",
     "text": [
      "CartesianGeometry(name='unnamed', formula='C16 H25 N1 O2')\n",
      "CartesianGeometry(name='unnamed', formula='Unknown2')\n",
      "CartesianGeometry(name='unnamed', formula='C5 H12')\n",
      "CartesianGeometry(name='unnamed', formula='C5 H12')\n",
      "CartesianGeometry(name='unnamed', formula='C5 H12')\n",
      "CartesianGeometry(name='unnamed', formula='C5 H12')\n",
      "CartesianGeometry(name='unnamed', formula='C5 H12')\n",
      "CartesianGeometry(name='unnamed', formula='C5 H12')\n",
      "CartesianGeometry(name='unnamed', formula='C5 H12')\n"
     ]
    }
   ],
   "source": [
    "pattern = str(ml.files.ROOT / \"*.xyz\")\n",
    "\n",
    "for g in ml.aux.dglob(pattern, ml.CartesianGeometry.load_all_xyz, strict=False):\n",
    "    print(g)"
   ]
  },
  {
   "cell_type": "code",
   "execution_count": 6,
   "metadata": {},
   "outputs": [
    {
     "name": "stdout",
     "output_type": "stream",
     "text": [
      "34\n",
      "unknown [produced with molli]\n",
      "C        -2.082300     1.207900     0.000000\n",
      "C        -2.776900    -0.003200     0.000000\n",
      "C        -2.081200    -1.213600     0.000000\n",
      "C        -0.682200    -1.221900     0.000000\n",
      "C         0.000000     0.000000     0.000000\n",
      "C        -0.682200     1.220600     0.000000\n",
      "C         0.056300     2.524100     0.000000\n",
      "C         0.087600    -2.507100     0.000000\n",
      "H        -2.638800     2.142600     0.000000\n",
      "H        -3.864400    -0.003600     0.000000\n",
      "H        -2.638700    -2.147500     0.000000\n",
      "H         1.141200     2.379200    -0.000000\n",
      "H        -0.203100     3.103400     0.892100\n",
      "H        -0.203100     3.103400    -0.892100\n",
      "H        -0.580100    -3.375000    -0.000000\n",
      "H         0.718400    -2.569900     0.892600\n",
      "H         0.718400    -2.569900    -0.892600\n",
      "C         3.585666    -0.445352     1.119117\n",
      "C         4.276842    -0.013277    -0.014381\n",
      "C         3.577737     0.422469    -1.141522\n",
      "C         2.178731     0.429389    -1.143530\n",
      "C         1.499986    -0.006593    -0.000000\n",
      "C         2.185619    -0.445955     1.136718\n",
      "C         1.450804    -0.911022     2.356659\n",
      "C         1.405317     0.892150    -2.340197\n",
      "H         4.144795    -0.781900     1.989443\n",
      "H         5.364327    -0.016200    -0.019217\n",
      "H         4.132597     0.755588    -2.015672\n",
      "H         0.365509    -0.856033     2.225836\n",
      "H         1.715495    -0.286524     3.216112\n",
      "H         1.708174    -1.952202     2.576712\n",
      "H         2.070561     1.201305    -3.153184\n",
      "H         0.778010     1.749741    -2.076358\n",
      "H         0.770685     0.083129    -2.716117\n",
      "\n"
     ]
    },
    {
     "name": "stderr",
     "output_type": "stream",
     "text": [
      "C:\\SAS\\programs\\repo\\molli\\molli\\chem\\atom.py:612: UserWarning: Replaced illegal characters in molecule name: ***** --> _____\n",
      "  warn(\n"
     ]
    }
   ],
   "source": [
    "m1 = ml.Structure.load_mol2(ml.files.mol2.fxyl.path)\n",
    "f1 = next(m1.yield_atoms_by_element(\"F\"))\n",
    "\n",
    "m2 = ml.Structure(m1)\n",
    "f2 = next(m2.yield_atoms_by_element(\"F\"))\n",
    "\n",
    "m3 = ml.Structure.join(m1, m2, f1, f2, optimize_rotation=True)\n",
    "print(m3.dumps_xyz())"
   ]
  }
 ],
 "metadata": {
  "kernelspec": {
   "display_name": "Python 3 (ipykernel)",
   "language": "python",
   "name": "python3"
  },
  "language_info": {
   "codemirror_mode": {
    "name": "ipython",
    "version": 3
   },
   "file_extension": ".py",
   "mimetype": "text/x-python",
   "name": "python",
   "nbconvert_exporter": "python",
   "pygments_lexer": "ipython3",
   "version": "3.11.3"
  },
  "vscode": {
   "interpreter": {
    "hash": "76cbec9d8be6152967bf6eb279a8f9736e48be32763f3b307b1279f8e0121d15"
   }
  }
 },
 "nbformat": 4,
 "nbformat_minor": 2
}
