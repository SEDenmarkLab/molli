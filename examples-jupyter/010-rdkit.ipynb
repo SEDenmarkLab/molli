{
 "cells": [
  {
   "cell_type": "markdown",
   "metadata": {},
   "source": [
    "# RDKit Interface\n",
    "\n",
    "In this tutorial we will demonstrate how `molli` `Molecule` objects can be efficiently converted into RDKit objects. Let's discuss some of their functionality.\n",
    "\n",
    "Note: `rdkit` and `openbabel` are necessary dependencies for this interface that are not natively installed within `molli`, but these can be added through conda using the lines:\n",
    "`conda install rdkit` and `conda install openbabel` respectively"
   ]
  },
  {
   "cell_type": "code",
   "execution_count": 70,
   "metadata": {},
   "outputs": [],
   "source": [
    "#Imports molli\n",
    "import molli as ml\n",
    "\n",
    "#Configures molli visualizer\n",
    "ml.visual.configure(bg_color='white')\n",
    "\n",
    "#Imports rdkit\n",
    "from rdkit import Chem\n",
    "\n",
    "#Imports the rdkit interface in molli\n",
    "from molli.external import rdkit as mrd\n",
    "\n",
    "#Imports numpy\n",
    "import numpy as np"
   ]
  },
  {
   "cell_type": "markdown",
   "metadata": {},
   "source": [
    "## Object creation\n",
    "\n",
    "Existing `Molecule` objects can be utilized to create an RDKit molecule using the `to_rdmol` function. Since there is different behavior upon creation of RDKit molecules based on the format utilzied when reading structures, multiple native RDKit readers were made available, including `MOL2`, `PDB`, `SDF`, and `SMI`. This implementation detects problems upon parsing and will raise erros if they occur upon creation of the RDKit molecule."
   ]
  },
  {
   "cell_type": "code",
   "execution_count": 71,
   "metadata": {},
   "outputs": [
    {
     "data": {
      "image/png": "[encoded data removed]",
      "text/plain": [
       "<rdkit.Chem.PropertyMol.PropertyMol at 0x7efe0b16a200>"
      ]
     },
     "execution_count": 71,
     "metadata": {},
     "output_type": "execute_result"
    }
   ],
   "source": [
    "# This creates a molecule object\n",
    "ml_mol = ml.load(ml.files.dendrobine_mol2)\n",
    "\n",
    "# This creates an RDKit molecule object using the SDF reader so\n",
    "rd_mol = mrd.to_rdmol(ml_mol, via='sdf', remove_hs=True, raise_kekulize=True)\n",
    "\n",
    "rd_mol"
   ]
  },
  {
   "cell_type": "markdown",
   "metadata": {},
   "source": [
    "In the above example, all hydrogens were removed from the `rd_mol`, DESPITE THE IMAGE DEPICTING IT WITH HYDROGENS. The element labels are not a 1:1 mapping between `ml_mol` and `rd_mol`. This can be shown by printing the symbols of the atoms in both objects.\n",
    "\n",
    "If the `ml_mol` is reduced to only heavy atoms, it maintains the same order as the `rd_mol`."
   ]
  },
  {
   "cell_type": "code",
   "execution_count": 72,
   "metadata": {},
   "outputs": [
    {
     "name": "stdout",
     "output_type": "stream",
     "text": [
      "All Molli Element Labels:\n",
      "['N', 'C', 'C', 'C', 'C', 'C', 'C', 'C', 'C', 'C', 'O', 'C', 'C', 'O', 'C', 'C', 'H', 'H', 'H', 'H', 'C', 'C', 'C', 'H', 'H', 'H', 'H', 'H', 'H', 'H', 'H', 'H', 'H', 'H', 'H', 'H', 'H', 'H', 'H', 'H', 'H', 'H', 'H', 'H']\n",
      "All RDKit Element Labels:\n",
      "['N', 'C', 'C', 'C', 'C', 'C', 'C', 'C', 'C', 'C', 'O', 'C', 'C', 'O', 'C', 'C', 'C', 'C', 'C']\n",
      "Molli Heavy Element Labels Only:\n",
      "['N', 'C', 'C', 'C', 'C', 'C', 'C', 'C', 'C', 'C', 'O', 'C', 'C', 'O', 'C', 'C', 'C', 'C', 'C']\n"
     ]
    }
   ],
   "source": [
    "#This retrieves the rdkit atom symbols\n",
    "rd_labels = [x.GetSymbol() for x in rd_mol.GetAtoms()]\n",
    "\n",
    "#This retrieves the molli atom labels\n",
    "ml_labels = [x.label for x in ml_mol.atoms]\n",
    "\n",
    "#This retrieves all non-hydrogen atom labels based on the current order of the list\n",
    "ml_heavy_labels = [ml_mol.get_atom(x).label for x in ml_mol.heavy.parent_atom_indices]\n",
    "\n",
    "print(f'All Molli Element Labels:\\n{ml_labels}')\n",
    "print(f'All RDKit Element Labels:\\n{rd_labels}')\n",
    "print(f'Molli Heavy Element Labels Only:\\n{ml_heavy_labels}')"
   ]
  },
  {
   "cell_type": "markdown",
   "metadata": {},
   "source": [
    "Hydrogens can also be maintained for the purpose of mapping the indices of atoms from the RDKit molecule object `rd_mol` back to the full 3D structure in the `ml_mol`. "
   ]
  },
  {
   "cell_type": "code",
   "execution_count": 73,
   "metadata": {},
   "outputs": [
    {
     "data": {
      "image/png": "[encoded data removed]",
      "text/plain": [
       "<rdkit.Chem.PropertyMol.PropertyMol at 0x7eff77a90bd0>"
      ]
     },
     "execution_count": 73,
     "metadata": {},
     "output_type": "execute_result"
    }
   ],
   "source": [
    "# This creates a molecule object\n",
    "ml_mol = ml.load(ml.files.dendrobine_mol2)\n",
    "\n",
    "# This creates an RDKit molecule object using the SDF reader so\n",
    "rd_mol = mrd.to_rdmol(ml_mol, via='sdf', remove_hs=False, raise_kekulize=True)\n",
    "\n",
    "rd_mol"
   ]
  },
  {
   "cell_type": "markdown",
   "metadata": {},
   "source": [
    "In this example, since the Hydrogens were not removed, the order of element labels has not been changed between the `ml_mol` and `rd_mol` It is recommended that you work with `rd_mol` without removing the hydrogens to allow for direct mapping."
   ]
  },
  {
   "cell_type": "code",
   "execution_count": 74,
   "metadata": {},
   "outputs": [
    {
     "name": "stdout",
     "output_type": "stream",
     "text": [
      "All Molli Element Labels:\n",
      "['N', 'C', 'C', 'C', 'C', 'C', 'C', 'C', 'C', 'C', 'O', 'C', 'C', 'O', 'C', 'C', 'H', 'H', 'H', 'H', 'C', 'C', 'C', 'H', 'H', 'H', 'H', 'H', 'H', 'H', 'H', 'H', 'H', 'H', 'H', 'H', 'H', 'H', 'H', 'H', 'H', 'H', 'H', 'H']\n",
      "All RDKit Element Labels:\n",
      "['N', 'C', 'C', 'C', 'C', 'C', 'C', 'C', 'C', 'C', 'O', 'C', 'C', 'O', 'C', 'C', 'H', 'H', 'H', 'H', 'C', 'C', 'C', 'H', 'H', 'H', 'H', 'H', 'H', 'H', 'H', 'H', 'H', 'H', 'H', 'H', 'H', 'H', 'H', 'H', 'H', 'H', 'H', 'H']\n"
     ]
    }
   ],
   "source": [
    "rd_atoms = [x.GetSymbol() for x in rd_mol.GetAtoms()]\n",
    "ml_elements = [x.label for x in ml_mol.atoms]\n",
    "print(f'All Molli Element Labels:\\n{ml_elements}')\n",
    "print(f'All RDKit Element Labels:\\n{rd_atoms}')"
   ]
  },
  {
   "cell_type": "markdown",
   "metadata": {},
   "source": [
    "## Canonicalization of 2D and 3D objects\n",
    "\n",
    "A common method utilized within RDKit is \"canonicalization\" of SMILES strings, which reorders the order of atoms in the SMILES string such that any permutation of a SMILES input will always be represented in the same way.\n",
    "\n",
    "This allows direct comparison of structures solely by strings, which is a much less intensive operation than comparing individual atom and bond properties between molecule objects."
   ]
  },
  {
   "cell_type": "code",
   "execution_count": 75,
   "metadata": {},
   "outputs": [
    {
     "name": "stdout",
     "output_type": "stream",
     "text": [
      "SMILES 1\n",
      "Original SMILES:c1ccccc1(Br)\n",
      "Canonical SMILES:Brc1ccccc1\n",
      "\n",
      "SMILES 2\n",
      "Original SMILES:c1ccc(Br)cc1\n",
      "Canonical SMILES:Brc1ccccc1\n"
     ]
    }
   ],
   "source": [
    "#Bromobenzene 1\n",
    "smi1 = 'c1ccccc1(Br)'\n",
    "rdmol1 = Chem.MolFromSmiles(smi1)\n",
    "can_smi1 = Chem.MolToSmiles(rdmol1, canonical=True)\n",
    "\n",
    "#Bromobenzene 2\n",
    "smi2 = 'c1ccc(Br)cc1'\n",
    "rdmol2 = Chem.MolFromSmiles(smi2)\n",
    "can_smi2 = Chem.MolToSmiles(rdmol2, canonical=True)\n",
    "\n",
    "print(f'SMILES 1\\nOriginal SMILES:{smi1}\\nCanonical SMILES:{can_smi1}\\n')\n",
    "print(f'SMILES 2\\nOriginal SMILES:{smi2}\\nCanonical SMILES:{can_smi2}')"
   ]
  },
  {
   "cell_type": "markdown",
   "metadata": {},
   "source": [
    "Molli has an implementation that can take the `rd_mol` and `ml_mol` and map the two structures to a canonicalized version of the `rd_mol` \n",
    "\n",
    "This will not change the actual coordinates of the `ml_mol` but rather just the order of the coordinates. This will allow for integration into RDKit workflows without accidental loss of information.\n",
    "\n",
    "Note: The current implementation will modify the `ml_mol` atom, bond, and coordinate order in place."
   ]
  },
  {
   "cell_type": "code",
   "execution_count": 76,
   "metadata": {},
   "outputs": [
    {
     "name": "stdout",
     "output_type": "stream",
     "text": [
      "Molli Element Labels:\n",
      "['H', 'C', 'H', 'H', 'N', 'C', 'H', 'H', 'C', 'H', 'C', 'H', 'H', 'C', 'H', 'H', 'C', 'H', 'C', 'H', 'C', 'O', 'O', 'C', 'H', 'C', 'H', 'C', 'C', 'H', 'H', 'H', 'C', 'H', 'C', 'H', 'C', 'H', 'H', 'H', 'C', 'H', 'H', 'H']\n",
      "RDKit Element Labels:\n",
      "['H', 'C', 'H', 'H', 'N', 'C', 'H', 'H', 'C', 'H', 'C', 'H', 'H', 'C', 'H', 'H', 'C', 'H', 'C', 'H', 'C', 'O', 'O', 'C', 'H', 'C', 'H', 'C', 'C', 'H', 'H', 'H', 'C', 'H', 'C', 'H', 'C', 'H', 'H', 'H', 'C', 'H', 'H', 'H']\n"
     ]
    }
   ],
   "source": [
    "can_rdmol, atom_reorder, bond_reorder = mrd.can_mol_order(rd_mol)\n",
    "\n",
    "can_ml_rd_dict = mrd.reorder_molecule(ml_mol, can_rdmol, atom_reorder, bond_reorder)\n",
    "\n",
    "new_rd_labels = [x.GetSymbol() for x in can_rdmol.GetAtoms()]\n",
    "new_ml_labels = [x.label for x in ml_mol.atoms]\n",
    "print(f'Molli Element Labels:\\n{new_rd_labels}')\n",
    "print(f'RDKit Element Labels:\\n{new_ml_labels}')"
   ]
  },
  {
   "cell_type": "markdown",
   "metadata": {},
   "source": [
    "## The Atom Filter Class\n",
    "\n",
    "There is also an implementation of an interface with RDKit's `rdQueries` module that allows for quick querying of atom properties. \n",
    "\n",
    "The `atom_filter` class offers quick querying of rdkit mols, returning an array of `True` or `False` based on the position of atoms in an ordered array. \n",
    "\n",
    "An example use case is given below:"
   ]
  },
  {
   "cell_type": "code",
   "execution_count": 77,
   "metadata": {},
   "outputs": [
    {
     "name": "stdout",
     "output_type": "stream",
     "text": [
      "This is the canonicalized SMILES: Br/C=C/c1ccccc1\n",
      "This is the boolean array of atoms in the same order marking whether atoms are aromatic or not:\n",
      "[False False False  True  True  True  True  True  True]\n"
     ]
    }
   ],
   "source": [
    "#(E)-β-Bromostyrene instantiation\n",
    "rdmol = Chem.MolFromSmiles('Br\\C=C\\c1ccccc1')\n",
    "\n",
    "#(E)-β-Bromostyrene instantiation canonicalization using RDKit\n",
    "rdmol = mrd.canonicalize_rdmol(rdmol, remove_hs=True)\n",
    "\n",
    "#This creates an atom filter object from the rdkit mol\n",
    "ac_rdmol = mrd.atom_filter(rdmol)\n",
    "\n",
    "#This queries the atoms to detect aromatic atoms as defined by RDKit, and creates a boolean array out of them.\n",
    "aromatic_bool = ac_rdmol.aromatic_type()\n",
    "\n",
    "print(f'This is the canonicalized SMILES: {Chem.MolToSmiles(rdmol)}')\n",
    "print(f'This is the boolean array of atoms in the same order marking whether atoms are aromatic or not:\\n{aromatic_bool}')\n"
   ]
  },
  {
   "cell_type": "markdown",
   "metadata": {},
   "source": [
    "Within the SMILES string, the property of atoms being `aromatic` is only `True` for the atoms associated with the benzene ring, so the resulting array will be `False` for the first 3 atoms, while the last 6 atoms in that array will be `True`. This logic can now undergo basic boolean operations to allow for complex querying very easily."
   ]
  },
  {
   "cell_type": "code",
   "execution_count": 78,
   "metadata": {},
   "outputs": [
    {
     "name": "stdout",
     "output_type": "stream",
     "text": [
      "This is the canonicalized SMILES: Br/C=C/c1ccccc1\n",
      "This is the boolean array of atoms in the same order identifying sp2 atoms that are NOT aromatic:\n",
      "[False False False  True  True  True  True  True  True]\n"
     ]
    }
   ],
   "source": [
    "#Identifies atoms that are both sp2 and NOT aromatic\n",
    "alkene_bool = ac_rdmol.sp2_type() & ~ac_rdmol.aromatic_type()\n",
    "\n",
    "print(f'This is the canonicalized SMILES: {Chem.MolToSmiles(rdmol)}')\n",
    "print(f'This is the boolean array of atoms in the same order identifying sp2 atoms that are NOT aromatic:\\n{aromatic_bool}')"
   ]
  },
  {
   "cell_type": "markdown",
   "metadata": {},
   "source": [
    "### Smarts Querying Example 1: Halogen Detection\n",
    "\n",
    "This has also been extended to allow Smarts querying and to allow more general purpose binning of atoms. An example is shown below with how 4 different rdkit mol objects could be binned into different lists just by querying molecules that may contain either a `Cl`, `Br`, or `I`."
   ]
  },
  {
   "cell_type": "code",
   "execution_count": 79,
   "metadata": {},
   "outputs": [],
   "source": [
    "#(1-chloro-3-[(E)-2-chloroethenyl]benzene instantiation\n",
    "di_cl_rdmol = Chem.MolFromSmiles('Cl\\C=C\\c1cccc(Cl)c1')\n",
    "#(1-chloro-3-[(E)-2-chloroethenyl]benzene canonicalization\n",
    "di_cl_rdmol = mrd.canonicalize_rdmol(di_cl_rdmol)\n",
    "#Sets name for RDKit molecule\n",
    "di_cl_rdmol.SetProp(\"_Name\", '2cl_mol')\n",
    "\n",
    "\n",
    "#(E)-β-Bromostyrene instantiation\n",
    "br_rdmol = Chem.MolFromSmiles('Br\\C=C\\c1ccccc1')\n",
    "#(E)-β-Bromostyrene canonicalization\n",
    "br_rdmol = Chem.MolFromSmiles(Chem.MolToSmiles(br_rdmol, canonical=True))\n",
    "#Sets name for RDKit molecule\n",
    "br_rdmol.SetProp(\"_Name\", 'br_mol')\n",
    "\n",
    "\n",
    "#(E)-β-Iodostyrene canonicalization\n",
    "i_rdmol = Chem.MolFromSmiles('I\\C=C\\c1ccccc1')\n",
    "#(E)-β-Iodostyrene canonicalization\n",
    "i_rdmol = Chem.MolFromSmiles(Chem.MolToSmiles(i_rdmol, canonical=True))\n",
    "#Sets name for RDKit molecule\n",
    "i_rdmol.SetProp(\"_Name\", 'i_rdmol')\n",
    "\n",
    "\n",
    "#(E)-β-Methylstyrene initialization\n",
    "c_rdmol = Chem.MolFromSmiles('C\\C=C\\c1ccccc1')\n",
    "#(E)-β-Methylstyrene canonicalization\n",
    "c_rdmol = Chem.MolFromSmiles(Chem.MolToSmiles(c_rdmol, canonical=True))\n",
    "#Sets name for RDKit molecule\n",
    "c_rdmol.SetProp(\"_Name\", 'c_rdmol')\n",
    "\n",
    "rdmol_list = [di_cl_rdmol, br_rdmol, i_rdmol, c_rdmol]\n"
   ]
  },
  {
   "cell_type": "code",
   "execution_count": 80,
   "metadata": {},
   "outputs": [
    {
     "name": "stdout",
     "output_type": "stream",
     "text": [
      "Multiple Halogen Mols:\n",
      "['2cl_mol']\n",
      "\n",
      "Single Halogen Mols:\n",
      "['br_mol', 'i_rdmol']\n",
      "\n",
      "No Halogen Mols\n",
      "['c_rdmol']\n",
      "\n"
     ]
    }
   ],
   "source": [
    "#Creates example bins\n",
    "no_halogen_mols = list()\n",
    "single_halogen_mols = list()\n",
    "multi_halogen_mols = list()\n",
    "\n",
    "#Iterates throught the list containing all 4 RDKit Mols\n",
    "for rdmol in rdmol_list:\n",
    "\n",
    "    #Instantiates atom filter object\n",
    "    ac_rdmol = mrd.atom_filter(rdmol)\n",
    "\n",
    "    #Defines a boolean looking for the following halogens based off of SMARTS\n",
    "    halogen_bool = ac_rdmol.smarts_query('[Cl,Br,I]')\n",
    "\n",
    "    #Counts the True values\n",
    "    true_count = np.count_nonzero(halogen_bool)\n",
    "\n",
    "    #Bins names/results based on number of halogens\n",
    "    if true_count > 1:\n",
    "        multi_halogen_mols.append(rdmol.GetProp(\"_Name\"))\n",
    "\n",
    "    elif true_count == 1:\n",
    "        single_halogen_mols.append(rdmol.GetProp(\"_Name\"))\n",
    "        \n",
    "    else:\n",
    "        no_halogen_mols.append(rdmol.GetProp(\"_Name\"))\n",
    "\n",
    "print(f'Multiple Halogen Mols:\\n{multi_halogen_mols}\\n')\n",
    "print(f'Single Halogen Mols:\\n{single_halogen_mols}\\n')\n",
    "print(f'No Halogen Mols\\n{no_halogen_mols}\\n')"
   ]
  },
  {
   "cell_type": "markdown",
   "metadata": {},
   "source": [
    "### Smarts Querying Example 2: Complex Substructure Assignment\n",
    "\n",
    "This can also be linked to the original 3D `molli` object, enabling flexible substructure querying methods that would be otherwise unavailable without hard-encoded rules of branching on the 3D structure. An example is shown below how SMARTS enable the querying of specific carbon atoms associated with the 2 5-membered rings of the of pyrrolidine and methyl group the 3D object utilizing RDKit's substructure querying."
   ]
  },
  {
   "cell_type": "code",
   "execution_count": 81,
   "metadata": {},
   "outputs": [
    {
     "data": {
      "image/png": "[encoded data removed]",
      "text/plain": [
       "<rdkit.Chem.PropertyMol.PropertyMol at 0x7efe0b1a7bf0>"
      ]
     },
     "execution_count": 81,
     "metadata": {},
     "output_type": "execute_result"
    }
   ],
   "source": [
    "# This creates a molecule object\n",
    "ml_mol = ml.load(ml.files.dendrobine_mol2)\n",
    "\n",
    "# This creates an RDKit molecule object using the SDF reader so\n",
    "rd_mol = mrd.to_rdmol(ml_mol, via='sdf', remove_hs=False, raise_kekulize=True)\n",
    "\n",
    "rd_mol"
   ]
  },
  {
   "cell_type": "code",
   "execution_count": 82,
   "metadata": {},
   "outputs": [
    {
     "name": "stdout",
     "output_type": "stream",
     "text": [
      "N1(C([H])([H])[H])C([H])([H])[C@]2([H])[C@]3(C([H])([H])[H])[C@]1([H])[C@]1([H])OC(=O)[C@]([H])([C@@]3([H])C([H])([H])C2([H])[H])[C@@]1(C(C([H])([H])[H])(C([H])([H])[H])[H])[H]\n",
      "[ True  True  True  True  True  True  True  True  True False False False\n",
      " False False False False False False False False False False False False\n",
      " False False False False False False False False False False False False\n",
      " False False False False False False False False]\n"
     ]
    }
   ],
   "source": [
    "#This creates an atom filter instance from the RDKit mol\n",
    "ac_mol = mrd.atom_filter(rd_mol)\n",
    "\n",
    "# This finds the two five-membered rings associated with the pyrrolidine, the full methyl group on the pyrrolidine, and avoiding the lactone\n",
    "substruct_bool = ac_mol.ring_size5() & ~ac_mol.smarts_query(\"O=C1CCCO1\") | ac_mol.smarts_query(\"CN\") \n",
    "\n",
    "#This is the \n",
    "print(Chem.MolToSmiles(rd_mol, canonical=False))\n",
    "print(substruct_bool)"
   ]
  },
  {
   "cell_type": "markdown",
   "metadata": {},
   "source": [
    "This can then be assigned to the original 3D molecule since the atom orders are maintained between `rd_mol` and `ml_mol`."
   ]
  },
  {
   "cell_type": "code",
   "execution_count": 83,
   "metadata": {},
   "outputs": [
    {
     "name": "stdout",
     "output_type": "stream",
     "text": [
      "[Atom(element=N, isotope=None, label='N', formal_charge=0, formal_spin=0)\n",
      " Atom(element=C, isotope=None, label='C', formal_charge=0, formal_spin=0)\n",
      " Atom(element=C, isotope=None, label='C', formal_charge=0, formal_spin=0)\n",
      " Atom(element=C, isotope=None, label='C', formal_charge=0, formal_spin=0)\n",
      " Atom(element=C, isotope=None, label='C', formal_charge=0, formal_spin=0)\n",
      " Atom(element=C, isotope=None, label='C', formal_charge=0, formal_spin=0)\n",
      " Atom(element=C, isotope=None, label='C', formal_charge=0, formal_spin=0)\n",
      " Atom(element=C, isotope=None, label='C', formal_charge=0, formal_spin=0)\n",
      " Atom(element=C, isotope=None, label='C', formal_charge=0, formal_spin=0)]\n"
     ]
    }
   ],
   "source": [
    "#This creates an array of atoms of interest\n",
    "atoms_of_interest = np.array(ml_mol.atoms)[substruct_bool]\n",
    "print(atoms_of_interest)\n",
    "\n",
    "#This assigns the attribute \"Query\" to atoms and bonds that we've considered of interest.\n",
    "for atom in atoms_of_interest:\n",
    "    atom: ml.Atom\n",
    "    #Finds atoms of interest\n",
    "    atom.attrib[\"Query\"] = True\n",
    "\n",
    "    # #Finds bonds connected to this atom\n",
    "    # bonds = ml_mol.bonds_with_atom(atom)\n",
    "\n",
    "    # #Iterates through bonds to determine which ones are associated with atoms of interest\n",
    "    # for bond in bonds:\n",
    "    #     if bond.a1 and bond.a2 in atoms_of_interest:\n",
    "    #         bond.attrib[\"Query\"] = True"
   ]
  },
  {
   "cell_type": "markdown",
   "metadata": {},
   "source": [
    "## Visualization of Molecules\n",
    "\n",
    "`molli` has one last feature in the RDKit interface, which is the ability to visualize either existing `molli` `Molecule` objects or RDKit molecule objects. This can be done with either the `ml_rd_visualize`"
   ]
  },
  {
   "attachments": {
    "image.png": {
     "image/png": "[encoded data removed]"
    }
   },
   "cell_type": "markdown",
   "metadata": {},
   "source": [
    "### Example 1: Visualization of Query for `Molecule` object\n",
    "\n",
    "`ml_rd_visualize` creates a new rdkit object for rendering using whatever format reader is available. It can utilize a `Molecule`, `MoleculeLibrary`, or `list` of `Molecule` objects. \n",
    "\n",
    "If a subset of `Atom` or `Bond` objects within a `Molecule` have a particular property, and the atom order is maintained upon creation of the RDKit object, it will highlight the atoms with that have this property. An example of how to use `ml_rd_visualize` is below\n",
    "\n",
    "```python\n",
    "# This can visualize a molli Molecule using RDKit's Renderer\n",
    "mrd.ml_rd_visualize(\n",
    "    file_path='dendrobine.svg', #File Path to write \n",
    "    obj=ml_mol, #Object of interest\n",
    "    via='sdf', #Format for conversion\n",
    "    remove_hs=False, #Keeps hydrogens\n",
    "    legend_prop=\"_Name\", #Label to use in the legend\n",
    "    highlight_atom_prop=\"Query\", #Highlights atoms with this property\n",
    "    highlight_bond_prop=\"Query\", #Highlights bonds with this property\n",
    "    )\n",
    "```\n",
    "\n",
    "This code gives the following result\n",
    "\n",
    "![image.png](attachment:image.png)"
   ]
  },
  {
   "cell_type": "markdown",
   "metadata": {},
   "source": [
    "### Example 2: Visualization of Query for RDKit Object\n",
    "\n",
    "RDKit's visualization tool has also been made available for general rdkit objects as well using the `rd_visualize` function. Here is an example of how to highlight atoms and bonds associated with aromatic rings in two example RDKit objects.\n",
    "\n",
    "Starting with creation of the objects"
   ]
  },
  {
   "cell_type": "code",
   "execution_count": 84,
   "metadata": {},
   "outputs": [],
   "source": [
    "#(1-chloro-3-[(E)-2-chloroethenyl]benzene instantiation\n",
    "di_cl_rdmol = Chem.MolFromSmiles('Cl\\C=C\\c1cccc(Cl)c1')\n",
    "#(1-chloro-3-[(E)-2-chloroethenyl]benzene canonicalization\n",
    "di_cl_rdmol = mrd.canonicalize_rdmol(di_cl_rdmol)\n",
    "#Sets name for RDKit molecule\n",
    "di_cl_rdmol.SetProp(\"_Name\", '2cl_mol')\n",
    "\n",
    "\n",
    "#(E)-β-Bromostyrene instantiation\n",
    "br_rdmol = Chem.MolFromSmiles('Br\\C=C\\c1ccccc1')\n",
    "#(E)-β-Bromostyrene canonicalization\n",
    "br_rdmol = Chem.MolFromSmiles(Chem.MolToSmiles(br_rdmol, canonical=True))\n",
    "#Sets name for RDKit molecule\n",
    "br_rdmol.SetProp(\"_Name\", 'br_mol')"
   ]
  },
  {
   "cell_type": "markdown",
   "metadata": {},
   "source": [
    "Next is using the `atom_filter` to find aromatic rings in these 2 RDKit objects."
   ]
  },
  {
   "cell_type": "code",
   "execution_count": 85,
   "metadata": {},
   "outputs": [],
   "source": [
    "#Places rdkit mols in a list\n",
    "rdkit_mols = [di_cl_rdmol, br_rdmol]\n",
    "\n",
    "#Iterates throught the list containing both RDKit mols\n",
    "for rdmol in rdkit_mols:\n",
    "    rdmol: Chem.Mol\n",
    "    #Instantiates atom filter object\n",
    "    ac_rdmol = mrd.atom_filter(rdmol)\n",
    "\n",
    "    #Defines a boolean looking for the following halogens based off of SMARTS\n",
    "    arom_bool = ac_rdmol.aromatic_type()\n",
    "\n",
    "    #Finds the indices of atoms that are aromatic\n",
    "    sub_atoms_idx = np.where(arom_bool)[0].tolist()\n",
    "\n",
    "    #Iterates through atom indices where substructure is aromatic\n",
    "    for idx in sub_atoms_idx:\n",
    "        \n",
    "        #Finds RDKit atoms where values are True and Sets Property: Query\n",
    "        atom = rdmol.GetAtomWithIdx(idx)\n",
    "        atom.SetProp(\"Query\", \"1\")\n",
    "\n",
    "        #Iterates through bonds and finds bonds where both atoms are in the aromatic substructure\n",
    "        for bond in rdmol.GetBonds():\n",
    "            a1 = bond.GetBeginAtomIdx()\n",
    "            a2 = bond.GetEndAtomIdx()\n",
    "\n",
    "            if (a1 in sub_atoms_idx) and (a2 in sub_atoms_idx):\n",
    "                bond.SetProp(\"Query\", \"1\")"
   ]
  },
  {
   "attachments": {
    "image.png": {
     "image/png": "[encoded data removed]"
    }
   },
   "cell_type": "markdown",
   "metadata": {},
   "source": [
    "The final code for visualization is shown below\n",
    "\n",
    "```python\n",
    "# This visualizes an existing list of RDKit molecules\n",
    "mrd.rd_visualize(\n",
    "    file_path='rdkit_mols.svg', #File Path to write \n",
    "    rd_list=rdkit_mols, #Object of interest\n",
    "    legend_prop=\"_Name\", #Label to use in the legend\n",
    "    highlight_atom_prop=\"Query\", #Highlights atoms with this property\n",
    "    highlight_bond_prop=\"Query\", #Highlights bonds with this property\n",
    "    )\n",
    "```\n",
    "\n",
    "This code gives the following result\n",
    "\n",
    "![image.png](attachment:image.png)"
   ]
  }
 ],
 "metadata": {
  "kernelspec": {
   "display_name": "dev-blake",
   "language": "python",
   "name": "python3"
  },
  "language_info": {
   "codemirror_mode": {
    "name": "ipython",
    "version": 3
   },
   "file_extension": ".py",
   "mimetype": "text/x-python",
   "name": "python",
   "nbconvert_exporter": "python",
   "pygments_lexer": "ipython3",
   "version": "3.11.6"
  },
  "orig_nbformat": 4
 },
 "nbformat": 4,
 "nbformat_minor": 2
}
