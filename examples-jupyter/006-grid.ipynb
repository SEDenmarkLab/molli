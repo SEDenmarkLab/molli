{
 "cells": [
  {
   "cell_type": "code",
   "execution_count": 1,
   "metadata": {},
   "outputs": [],
   "source": [
    "import molli as ml\n",
    "import pyvista as pv"
   ]
  },
  {
   "cell_type": "code",
   "execution_count": 20,
   "metadata": {},
   "outputs": [
    {
     "name": "stdout",
     "output_type": "stream",
     "text": [
      "(25, 3)\n"
     ]
    },
    {
     "data": {
      "text/plain": [
       "array([[-1. , -1. ,  0. ],\n",
       "       [-0.5, -1. ,  0. ],\n",
       "       [ 0. , -1. ,  0. ],\n",
       "       [ 0.5, -1. ,  0. ],\n",
       "       [ 1. , -1. ,  0. ],\n",
       "       [-1. , -0.5,  0. ],\n",
       "       [-0.5, -0.5,  0. ],\n",
       "       [ 0. , -0.5,  0. ],\n",
       "       [ 0.5, -0.5,  0. ],\n",
       "       [ 1. , -0.5,  0. ],\n",
       "       [-1. ,  0. ,  0. ],\n",
       "       [-0.5,  0. ,  0. ],\n",
       "       [ 0. ,  0. ,  0. ],\n",
       "       [ 0.5,  0. ,  0. ],\n",
       "       [ 1. ,  0. ,  0. ],\n",
       "       [-1. ,  0.5,  0. ],\n",
       "       [-0.5,  0.5,  0. ],\n",
       "       [ 0. ,  0.5,  0. ],\n",
       "       [ 0.5,  0.5,  0. ],\n",
       "       [ 1. ,  0.5,  0. ],\n",
       "       [-1. ,  1. ,  0. ],\n",
       "       [-0.5,  1. ,  0. ],\n",
       "       [ 0. ,  1. ,  0. ],\n",
       "       [ 0.5,  1. ,  0. ],\n",
       "       [ 1. ,  1. ,  0. ]], dtype=float32)"
      ]
     },
     "execution_count": 20,
     "metadata": {},
     "output_type": "execute_result"
    }
   ],
   "source": [
    "g = ml.descriptor.rectangular_grid([-1,-1,0], [1,1,0], spacing=0.5)\n",
    "print(g.shape)\n",
    "g"
   ]
  },
  {
   "cell_type": "code",
   "execution_count": 21,
   "metadata": {},
   "outputs": [
    {
     "data": {
      "application/vnd.jupyter.widget-view+json": {
       "model_id": "a31165df6afa41bba5069875e3563ac8",
       "version_major": 2,
       "version_minor": 0
      },
      "text/plain": [
       "BokehModel(combine_events=True, render_bundle={'docs_json': {'876e669a-128f-4d21-8689-d00e5e02c7dc': {'defs': …"
      ]
     },
     "metadata": {},
     "output_type": "display_data"
    },
    {
     "data": {
      "text/html": [
       "<div style=\"display: none\"></div>"
      ]
     },
     "metadata": {},
     "output_type": "display_data"
    }
   ],
   "source": [
    "pv.set_plot_theme(\"dark\") \n",
    "plt = pv.Plotter(notebook=True)\n",
    "\n",
    "points = pv.PointSet(g)\n",
    "\n",
    "plt.add_mesh(points, color=\"cyan\", render_points_as_spheres=True, point_size=10)\n",
    "plt.add_axes_at_origin()\n",
    "plt.show(jupyter_backend=\"panel\", window_size=(640,640))"
   ]
  },
  {
   "cell_type": "code",
   "execution_count": null,
   "metadata": {},
   "outputs": [],
   "source": []
  }
 ],
 "metadata": {
  "kernelspec": {
   "display_name": "molli-dev",
   "language": "python",
   "name": "python3"
  },
  "language_info": {
   "codemirror_mode": {
    "name": "ipython",
    "version": 3
   },
   "file_extension": ".py",
   "mimetype": "text/x-python",
   "name": "python",
   "nbconvert_exporter": "python",
   "pygments_lexer": "ipython3",
   "version": "3.10.8"
  },
  "orig_nbformat": 4,
  "vscode": {
   "interpreter": {
    "hash": "4c66e8f176fbf3df590ec010f6af88e4e499f7786e053ca101a7d8aa8a685488"
   }
  }
 },
 "nbformat": 4,
 "nbformat_minor": 2
}
