{
 "cells": [
  {
   "attachments": {},
   "cell_type": "markdown",
   "metadata": {},
   "source": [
    "# Bond Deletion"
   ]
  },
  {
   "cell_type": "code",
   "execution_count": 1,
   "metadata": {},
   "outputs": [
    {
     "name": "stdout",
     "output_type": "stream",
     "text": [
      "0     Bond(a1=Atom(element=H, isotope=None, label='H'), a2=Atom(element=C, isotope=None, label='C'), label=None, btype=Single, stereo=Unknown, f_order=1.0)\n",
      "1     Bond(a1=Atom(element=H, isotope=None, label='H'), a2=Atom(element=C, isotope=None, label='C'), label=None, btype=Single, stereo=Unknown, f_order=1.0)\n",
      "2     Bond(a1=Atom(element=H, isotope=None, label='H'), a2=Atom(element=C, isotope=None, label='C'), label=None, btype=Single, stereo=Unknown, f_order=1.0)\n",
      "3     Bond(a1=Atom(element=C, isotope=None, label='C'), a2=Atom(element=C, isotope=None, label='C'), label=None, btype=Single, stereo=Unknown, f_order=1.0)\n",
      "4     Bond(a1=Atom(element=H, isotope=None, label='H'), a2=Atom(element=C, isotope=None, label='C'), label=None, btype=Single, stereo=Unknown, f_order=1.0)\n",
      "5     Bond(a1=Atom(element=H, isotope=None, label='H'), a2=Atom(element=C, isotope=None, label='C'), label=None, btype=Single, stereo=Unknown, f_order=1.0)\n",
      "6     Bond(a1=Atom(element=H, isotope=None, label='H'), a2=Atom(element=C, isotope=None, label='C'), label=None, btype=Single, stereo=Unknown, f_order=1.0)\n",
      "7     Bond(a1=Atom(element=C, isotope=None, label='C'), a2=Atom(element=C, isotope=None, label='C'), label=None, btype=Single, stereo=Unknown, f_order=1.0)\n",
      "8     Bond(a1=Atom(element=C, isotope=None, label='C'), a2=Atom(element=H, isotope=None, label='H'), label=None, btype=Single, stereo=Unknown, f_order=1.0)\n",
      "9     Bond(a1=Atom(element=C, isotope=None, label='C'), a2=Atom(element=C, isotope=None, label='C'), label=None, btype=Single, stereo=Unknown, f_order=1.0)\n",
      "10    Bond(a1=Atom(element=C, isotope=None, label='C'), a2=Atom(element=H, isotope=None, label='H'), label=None, btype=Single, stereo=Unknown, f_order=1.0)\n",
      "11    Bond(a1=Atom(element=H, isotope=None, label='H'), a2=Atom(element=C, isotope=None, label='C'), label=None, btype=Single, stereo=Unknown, f_order=1.0)\n",
      "12    Bond(a1=Atom(element=C, isotope=None, label='C'), a2=Atom(element=C, isotope=None, label='C'), label=None, btype=Single, stereo=Unknown, f_order=1.0)\n",
      "13    Bond(a1=Atom(element=C, isotope=None, label='C'), a2=Atom(element=C, isotope=None, label='C'), label=None, btype=Single, stereo=Unknown, f_order=1.0)\n",
      "14    Bond(a1=Atom(element=O, isotope=None, label='O'), a2=Atom(element=C, isotope=None, label='C'), label=None, btype=Double, stereo=Unknown, f_order=1.0)\n",
      "15    Bond(a1=Atom(element=C, isotope=None, label='C'), a2=Atom(element=C, isotope=None, label='C'), label=None, btype=Single, stereo=Unknown, f_order=1.0)\n",
      "16    Bond(a1=Atom(element=C, isotope=None, label='C'), a2=Atom(element=C, isotope=None, label='C'), label=None, btype=Single, stereo=Unknown, f_order=1.0)\n",
      "17    Bond(a1=Atom(element=C, isotope=None, label='C'), a2=Atom(element=O, isotope=None, label='O'), label=None, btype=Single, stereo=Unknown, f_order=1.0)\n",
      "18    Bond(a1=Atom(element=O, isotope=None, label='O'), a2=Atom(element=C, isotope=None, label='C'), label=None, btype=Single, stereo=Unknown, f_order=1.0)\n",
      "19    Bond(a1=Atom(element=H, isotope=None, label='H'), a2=Atom(element=C, isotope=None, label='C'), label=None, btype=Single, stereo=Unknown, f_order=1.0)\n",
      "20    Bond(a1=Atom(element=C, isotope=None, label='C'), a2=Atom(element=C, isotope=None, label='C'), label=None, btype=Single, stereo=Unknown, f_order=1.0)\n",
      "21    Bond(a1=Atom(element=H, isotope=None, label='H'), a2=Atom(element=C, isotope=None, label='C'), label=None, btype=Single, stereo=Unknown, f_order=1.0)\n",
      "22    Bond(a1=Atom(element=H, isotope=None, label='H'), a2=Atom(element=C, isotope=None, label='C'), label=None, btype=Single, stereo=Unknown, f_order=1.0)\n",
      "23    Bond(a1=Atom(element=C, isotope=None, label='C'), a2=Atom(element=C, isotope=None, label='C'), label=None, btype=Single, stereo=Unknown, f_order=1.0)\n",
      "24    Bond(a1=Atom(element=C, isotope=None, label='C'), a2=Atom(element=H, isotope=None, label='H'), label=None, btype=Single, stereo=Unknown, f_order=1.0)\n",
      "25    Bond(a1=Atom(element=C, isotope=None, label='C'), a2=Atom(element=C, isotope=None, label='C'), label=None, btype=Single, stereo=Unknown, f_order=1.0)\n",
      "26    Bond(a1=Atom(element=H, isotope=None, label='H'), a2=Atom(element=C, isotope=None, label='C'), label=None, btype=Single, stereo=Unknown, f_order=1.0)\n",
      "27    Bond(a1=Atom(element=H, isotope=None, label='H'), a2=Atom(element=C, isotope=None, label='C'), label=None, btype=Single, stereo=Unknown, f_order=1.0)\n",
      "28    Bond(a1=Atom(element=C, isotope=None, label='C'), a2=Atom(element=C, isotope=None, label='C'), label=None, btype=Single, stereo=Unknown, f_order=1.0)\n",
      "29    Bond(a1=Atom(element=C, isotope=None, label='C'), a2=Atom(element=H, isotope=None, label='H'), label=None, btype=Single, stereo=Unknown, f_order=1.0)\n",
      "30    Bond(a1=Atom(element=C, isotope=None, label='C'), a2=Atom(element=C, isotope=None, label='C'), label=None, btype=Single, stereo=Unknown, f_order=1.0)\n",
      "31    Bond(a1=Atom(element=C, isotope=None, label='C'), a2=Atom(element=C, isotope=None, label='C'), label=None, btype=Single, stereo=Unknown, f_order=1.0)\n",
      "32    Bond(a1=Atom(element=C, isotope=None, label='C'), a2=Atom(element=C, isotope=None, label='C'), label=None, btype=Single, stereo=Unknown, f_order=1.0)\n",
      "33    Bond(a1=Atom(element=C, isotope=None, label='C'), a2=Atom(element=H, isotope=None, label='H'), label=None, btype=Single, stereo=Unknown, f_order=1.0)\n",
      "34    Bond(a1=Atom(element=C, isotope=None, label='C'), a2=Atom(element=N, isotope=None, label='N'), label=None, btype=Single, stereo=Unknown, f_order=1.0)\n",
      "35    Bond(a1=Atom(element=C, isotope=None, label='C'), a2=Atom(element=C, isotope=None, label='C'), label=None, btype=Single, stereo=Unknown, f_order=1.0)\n",
      "36    Bond(a1=Atom(element=C, isotope=None, label='C'), a2=Atom(element=H, isotope=None, label='H'), label=None, btype=Single, stereo=Unknown, f_order=1.0)\n",
      "37    Bond(a1=Atom(element=C, isotope=None, label='C'), a2=Atom(element=H, isotope=None, label='H'), label=None, btype=Single, stereo=Unknown, f_order=1.0)\n",
      "38    Bond(a1=Atom(element=H, isotope=None, label='H'), a2=Atom(element=C, isotope=None, label='C'), label=None, btype=Single, stereo=Unknown, f_order=1.0)\n",
      "39    Bond(a1=Atom(element=C, isotope=None, label='C'), a2=Atom(element=H, isotope=None, label='H'), label=None, btype=Single, stereo=Unknown, f_order=1.0)\n",
      "40    Bond(a1=Atom(element=C, isotope=None, label='C'), a2=Atom(element=C, isotope=None, label='C'), label=None, btype=Single, stereo=Unknown, f_order=1.0)\n",
      "41    Bond(a1=Atom(element=N, isotope=None, label='N'), a2=Atom(element=C, isotope=None, label='C'), label=None, btype=Single, stereo=Unknown, f_order=1.0)\n",
      "42    Bond(a1=Atom(element=N, isotope=None, label='N'), a2=Atom(element=C, isotope=None, label='C'), label=None, btype=Single, stereo=Unknown, f_order=1.0)\n",
      "43    Bond(a1=Atom(element=C, isotope=None, label='C'), a2=Atom(element=H, isotope=None, label='H'), label=None, btype=Single, stereo=Unknown, f_order=1.0)\n",
      "44    Bond(a1=Atom(element=C, isotope=None, label='C'), a2=Atom(element=H, isotope=None, label='H'), label=None, btype=Single, stereo=Unknown, f_order=1.0)\n",
      "45    Bond(a1=Atom(element=C, isotope=None, label='C'), a2=Atom(element=H, isotope=None, label='H'), label=None, btype=Single, stereo=Unknown, f_order=1.0)\n",
      "46    Bond(a1=Atom(element=C, isotope=None, label='C'), a2=Atom(element=H, isotope=None, label='H'), label=None, btype=Single, stereo=Unknown, f_order=1.0)\n"
     ]
    }
   ],
   "source": [
    "# Imports molli\n",
    "import molli as ml\n",
    "\n",
    "# Loads dendrobine to the s1 variable\n",
    "s1 = ml.Structure.load_mol2(ml.files.dendrobine_mol2)\n",
    "\n",
    "# Prints the index of the bond and the bond itself\n",
    "for i, b in enumerate(s1.bonds):\n",
    "    print(format(i, \"<5\"), b)\n",
    "\n"
   ]
  },
  {
   "cell_type": "code",
   "execution_count": 2,
   "metadata": {},
   "outputs": [
    {
     "name": "stdout",
     "output_type": "stream",
     "text": [
      "0     Bond(a1=Atom(element=C, isotope=None, label='C'), a2=Atom(element=N, isotope=None, label='N'), label=None, btype=Single, stereo=Unknown, f_order=1.0)\n",
      "1     Bond(a1=Atom(element=N, isotope=None, label='N'), a2=Atom(element=C, isotope=None, label='C'), label=None, btype=Single, stereo=Unknown, f_order=1.0)\n",
      "2     Bond(a1=Atom(element=N, isotope=None, label='N'), a2=Atom(element=C, isotope=None, label='C'), label=None, btype=Single, stereo=Unknown, f_order=1.0)\n"
     ]
    }
   ],
   "source": [
    "# Prints the bonds connected to the first atom in the molecule (atom with index 0)\n",
    "for i, b in enumerate(s1.bonds_with_atom(0)):\n",
    "    print(format(i, \"<5\"), b)"
   ]
  },
  {
   "cell_type": "code",
   "execution_count": 3,
   "metadata": {},
   "outputs": [
    {
     "name": "stdout",
     "output_type": "stream",
     "text": [
      "0     Bond(a1=Atom(element=H, isotope=None, label='H'), a2=Atom(element=C, isotope=None, label='C'), label=None, btype=Single, stereo=Unknown, f_order=1.0)\n",
      "1     Bond(a1=Atom(element=H, isotope=None, label='H'), a2=Atom(element=C, isotope=None, label='C'), label=None, btype=Single, stereo=Unknown, f_order=1.0)\n",
      "2     Bond(a1=Atom(element=H, isotope=None, label='H'), a2=Atom(element=C, isotope=None, label='C'), label=None, btype=Single, stereo=Unknown, f_order=1.0)\n",
      "3     Bond(a1=Atom(element=C, isotope=None, label='C'), a2=Atom(element=C, isotope=None, label='C'), label=None, btype=Single, stereo=Unknown, f_order=1.0)\n",
      "4     Bond(a1=Atom(element=H, isotope=None, label='H'), a2=Atom(element=C, isotope=None, label='C'), label=None, btype=Single, stereo=Unknown, f_order=1.0)\n",
      "5     Bond(a1=Atom(element=H, isotope=None, label='H'), a2=Atom(element=C, isotope=None, label='C'), label=None, btype=Single, stereo=Unknown, f_order=1.0)\n",
      "6     Bond(a1=Atom(element=H, isotope=None, label='H'), a2=Atom(element=C, isotope=None, label='C'), label=None, btype=Single, stereo=Unknown, f_order=1.0)\n",
      "7     Bond(a1=Atom(element=C, isotope=None, label='C'), a2=Atom(element=C, isotope=None, label='C'), label=None, btype=Single, stereo=Unknown, f_order=1.0)\n",
      "8     Bond(a1=Atom(element=C, isotope=None, label='C'), a2=Atom(element=H, isotope=None, label='H'), label=None, btype=Single, stereo=Unknown, f_order=1.0)\n",
      "9     Bond(a1=Atom(element=C, isotope=None, label='C'), a2=Atom(element=C, isotope=None, label='C'), label=None, btype=Single, stereo=Unknown, f_order=1.0)\n",
      "10    Bond(a1=Atom(element=C, isotope=None, label='C'), a2=Atom(element=H, isotope=None, label='H'), label=None, btype=Single, stereo=Unknown, f_order=1.0)\n",
      "11    Bond(a1=Atom(element=H, isotope=None, label='H'), a2=Atom(element=C, isotope=None, label='C'), label=None, btype=Single, stereo=Unknown, f_order=1.0)\n",
      "12    Bond(a1=Atom(element=C, isotope=None, label='C'), a2=Atom(element=C, isotope=None, label='C'), label=None, btype=Single, stereo=Unknown, f_order=1.0)\n",
      "13    Bond(a1=Atom(element=C, isotope=None, label='C'), a2=Atom(element=C, isotope=None, label='C'), label=None, btype=Single, stereo=Unknown, f_order=1.0)\n",
      "14    Bond(a1=Atom(element=O, isotope=None, label='O'), a2=Atom(element=C, isotope=None, label='C'), label=None, btype=Double, stereo=Unknown, f_order=1.0)\n",
      "15    Bond(a1=Atom(element=C, isotope=None, label='C'), a2=Atom(element=C, isotope=None, label='C'), label=None, btype=Single, stereo=Unknown, f_order=1.0)\n",
      "16    Bond(a1=Atom(element=C, isotope=None, label='C'), a2=Atom(element=C, isotope=None, label='C'), label=None, btype=Single, stereo=Unknown, f_order=1.0)\n",
      "17    Bond(a1=Atom(element=C, isotope=None, label='C'), a2=Atom(element=O, isotope=None, label='O'), label=None, btype=Single, stereo=Unknown, f_order=1.0)\n",
      "18    Bond(a1=Atom(element=O, isotope=None, label='O'), a2=Atom(element=C, isotope=None, label='C'), label=None, btype=Single, stereo=Unknown, f_order=1.0)\n",
      "19    Bond(a1=Atom(element=H, isotope=None, label='H'), a2=Atom(element=C, isotope=None, label='C'), label=None, btype=Single, stereo=Unknown, f_order=1.0)\n",
      "20    Bond(a1=Atom(element=C, isotope=None, label='C'), a2=Atom(element=C, isotope=None, label='C'), label=None, btype=Single, stereo=Unknown, f_order=1.0)\n",
      "21    Bond(a1=Atom(element=H, isotope=None, label='H'), a2=Atom(element=C, isotope=None, label='C'), label=None, btype=Single, stereo=Unknown, f_order=1.0)\n",
      "22    Bond(a1=Atom(element=H, isotope=None, label='H'), a2=Atom(element=C, isotope=None, label='C'), label=None, btype=Single, stereo=Unknown, f_order=1.0)\n",
      "23    Bond(a1=Atom(element=C, isotope=None, label='C'), a2=Atom(element=C, isotope=None, label='C'), label=None, btype=Single, stereo=Unknown, f_order=1.0)\n",
      "24    Bond(a1=Atom(element=C, isotope=None, label='C'), a2=Atom(element=H, isotope=None, label='H'), label=None, btype=Single, stereo=Unknown, f_order=1.0)\n",
      "25    Bond(a1=Atom(element=C, isotope=None, label='C'), a2=Atom(element=C, isotope=None, label='C'), label=None, btype=Single, stereo=Unknown, f_order=1.0)\n",
      "26    Bond(a1=Atom(element=H, isotope=None, label='H'), a2=Atom(element=C, isotope=None, label='C'), label=None, btype=Single, stereo=Unknown, f_order=1.0)\n",
      "27    Bond(a1=Atom(element=H, isotope=None, label='H'), a2=Atom(element=C, isotope=None, label='C'), label=None, btype=Single, stereo=Unknown, f_order=1.0)\n",
      "28    Bond(a1=Atom(element=C, isotope=None, label='C'), a2=Atom(element=C, isotope=None, label='C'), label=None, btype=Single, stereo=Unknown, f_order=1.0)\n",
      "29    Bond(a1=Atom(element=C, isotope=None, label='C'), a2=Atom(element=H, isotope=None, label='H'), label=None, btype=Single, stereo=Unknown, f_order=1.0)\n",
      "30    Bond(a1=Atom(element=C, isotope=None, label='C'), a2=Atom(element=C, isotope=None, label='C'), label=None, btype=Single, stereo=Unknown, f_order=1.0)\n",
      "31    Bond(a1=Atom(element=C, isotope=None, label='C'), a2=Atom(element=C, isotope=None, label='C'), label=None, btype=Single, stereo=Unknown, f_order=1.0)\n",
      "32    Bond(a1=Atom(element=C, isotope=None, label='C'), a2=Atom(element=C, isotope=None, label='C'), label=None, btype=Single, stereo=Unknown, f_order=1.0)\n",
      "33    Bond(a1=Atom(element=C, isotope=None, label='C'), a2=Atom(element=H, isotope=None, label='H'), label=None, btype=Single, stereo=Unknown, f_order=1.0)\n",
      "34    Bond(a1=Atom(element=C, isotope=None, label='C'), a2=Atom(element=C, isotope=None, label='C'), label=None, btype=Single, stereo=Unknown, f_order=1.0)\n",
      "35    Bond(a1=Atom(element=C, isotope=None, label='C'), a2=Atom(element=H, isotope=None, label='H'), label=None, btype=Single, stereo=Unknown, f_order=1.0)\n",
      "36    Bond(a1=Atom(element=C, isotope=None, label='C'), a2=Atom(element=H, isotope=None, label='H'), label=None, btype=Single, stereo=Unknown, f_order=1.0)\n",
      "37    Bond(a1=Atom(element=H, isotope=None, label='H'), a2=Atom(element=C, isotope=None, label='C'), label=None, btype=Single, stereo=Unknown, f_order=1.0)\n",
      "38    Bond(a1=Atom(element=C, isotope=None, label='C'), a2=Atom(element=H, isotope=None, label='H'), label=None, btype=Single, stereo=Unknown, f_order=1.0)\n",
      "39    Bond(a1=Atom(element=C, isotope=None, label='C'), a2=Atom(element=C, isotope=None, label='C'), label=None, btype=Single, stereo=Unknown, f_order=1.0)\n",
      "40    Bond(a1=Atom(element=C, isotope=None, label='C'), a2=Atom(element=H, isotope=None, label='H'), label=None, btype=Single, stereo=Unknown, f_order=1.0)\n",
      "41    Bond(a1=Atom(element=C, isotope=None, label='C'), a2=Atom(element=H, isotope=None, label='H'), label=None, btype=Single, stereo=Unknown, f_order=1.0)\n",
      "42    Bond(a1=Atom(element=C, isotope=None, label='C'), a2=Atom(element=H, isotope=None, label='H'), label=None, btype=Single, stereo=Unknown, f_order=1.0)\n",
      "43    Bond(a1=Atom(element=C, isotope=None, label='C'), a2=Atom(element=H, isotope=None, label='H'), label=None, btype=Single, stereo=Unknown, f_order=1.0)\n"
     ]
    }
   ],
   "source": [
    "\n",
    "# Deletes the first atom in the molecule\n",
    "s1.del_atom(0)\n",
    "\n",
    "# Prints the updated bond list\n",
    "for i, b in enumerate(s1.bonds):\n",
    "    print(format(i, \"<5\"), b)"
   ]
  }
 ],
 "metadata": {
  "kernelspec": {
   "display_name": "molli-dev",
   "language": "python",
   "name": "python3"
  },
  "language_info": {
   "codemirror_mode": {
    "name": "ipython",
    "version": 3
   },
   "file_extension": ".py",
   "mimetype": "text/x-python",
   "name": "python",
   "nbconvert_exporter": "python",
   "pygments_lexer": "ipython3",
   "version": "3.11.5"
  },
  "orig_nbformat": 4,
  "vscode": {
   "interpreter": {
    "hash": "76cbec9d8be6152967bf6eb279a8f9736e48be32763f3b307b1279f8e0121d15"
   }
  }
 },
 "nbformat": 4,
 "nbformat_minor": 2
}
