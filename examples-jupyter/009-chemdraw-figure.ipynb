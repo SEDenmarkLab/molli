{
 "cells": [
  {
   "cell_type": "markdown",
   "metadata": {},
   "source": [
    "## Reading ChemDraw files\n",
    "\n",
    "Molli features a chemdraw parser. This notebook will explain how to use it."
   ]
  },
  {
   "cell_type": "code",
   "execution_count": 6,
   "metadata": {},
   "outputs": [],
   "source": [
    "import molli as ml\n",
    "import molli.visual\n",
    "import os\n",
    "from IPython.core.interactiveshell import InteractiveShell\n",
    "InteractiveShell.ast_node_interactivity = 'all'"
   ]
  },
  {
   "cell_type": "code",
   "execution_count": 7,
   "metadata": {},
   "outputs": [
    {
     "name": "stderr",
     "output_type": "stream",
     "text": [
      "/home/colen2/molli-dev-JCIM/molli/molli/ftypes/cdxml.py:137: CDXMLSyntaxWarning: CDXML file /home/colen2/molli-dev-JCIM/molli/molli/files/parser_demo2.cdxml contains mismatched number of labels (13) and fragments (14). Please make sure this is intentional.\n",
      "  warn(\n"
     ]
    },
    {
     "data": {
      "text/plain": [
       "['toluene',\n",
       " 'stereo_groups',\n",
       " 'attachments',\n",
       " 'benzene',\n",
       " 'naphthalene',\n",
       " 'stereo',\n",
       " 'weird_BOX',\n",
       " 'isotopes',\n",
       " 'taxadiene',\n",
       " 'R_binol',\n",
       " 'chiral',\n",
       " 'messy_label_ap',\n",
       " 'Brevione E',\n",
       " 'weird_Cu_BOX']"
      ]
     },
     "execution_count": 7,
     "metadata": {},
     "output_type": "execute_result"
    }
   ],
   "source": [
    "# This loads an example file of a figure with various structures\n",
    "mol_collection = ml.CDXMLFile(ml.files.parser_demo2_cdxml)\n",
    "\n",
    "# we will make the keys into a list for easy step-by-step visualization in the Jupyter nb.\n",
    "keys = list(mol_collection.keys())\n",
    "keys\n",
    "\n",
    "#### FOR ALEX ####\n",
    "# 1. there are 14 labels and 13 fragments in this file, so the warning is wrong. I would also suggest changing \"fragments\" to \"structures\" in the error message, since they might not all be fragments.\n",
    "# 2. both the \"weird_BOX\" label and the \"isotopes\" label are assigned to the isotopes structure. See below."
   ]
  },
  {
   "cell_type": "markdown",
   "metadata": {},
   "source": [
    "note that in this case you should receive warnings as the file was constructed this way on purpose - there is one floating label with no associated structure!"
   ]
  },
  {
   "cell_type": "code",
   "execution_count": 8,
   "metadata": {},
   "outputs": [],
   "source": [
    "# initializing this for easy step-by-step visualization in Jupyter nb\n",
    "i = -1"
   ]
  },
  {
   "cell_type": "markdown",
   "metadata": {},
   "source": [
    "Ctrl + Enter on the cell below will visualize the molecules one-by-one"
   ]
  },
  {
   "cell_type": "code",
   "execution_count": 38,
   "metadata": {},
   "outputs": [
    {
     "data": {
      "text/plain": [
       "'Restarting from beginning!'"
      ]
     },
     "execution_count": 38,
     "metadata": {},
     "output_type": "execute_result"
    }
   ],
   "source": [
    "i += 1\n",
    "\n",
    "try:\n",
    "    # this is the current label\n",
    "    keys[i]\n",
    "    # get the molecule object and add implicit hydrogens\n",
    "    mol = mol_collection[keys[i]]\n",
    "    mol.add_implicit_hydrogens()\n",
    "    # visualized\n",
    "    mol\n",
    "\n",
    "except IndexError:\n",
    "    \"Restarting from beginning!\"\n",
    "    i = -1"
   ]
  },
  {
   "cell_type": "markdown",
   "metadata": {},
   "source": [
    "Here's how to run from command line"
   ]
  },
  {
   "cell_type": "code",
   "execution_count": 39,
   "metadata": {},
   "outputs": [
    {
     "name": "stdout",
     "output_type": "stream",
     "text": [
      "/home/colen2/molli-dev-JCIM/molli/molli/ftypes/cdxml.py:137: CDXMLSyntaxWarning: CDXML file ../molli/files/parser_demo2.cdxml contains mismatched number of labels (13) and fragments (14). Please make sure this is intentional.\n",
      "  warn(\n",
      "  0%|                                                    | 0/14 [00:00<?, ?it/s]/home/colen2/molli-dev-JCIM/molli/molli/chem/atom.py:734: UserWarning: Replaced illegal characters in molecule name: Brevione E --> Brevione_E\n",
      "  warn(f\"Replaced illegal characters in molecule name: {value} --> {sub}\")\n",
      "100%|██████████████████████████████████████████| 14/14 [00:00<00:00, 164.54it/s]\n"
     ]
    }
   ],
   "source": [
    "# the file we want is in the molli/files/ folder\n",
    "# option --hadd tells molli to add implicit hydrogens\n",
    "# option -o tells us to output the mlib in working directory with the given name\n",
    "!molli parse ../molli/files/parser_demo2.cdxml --hadd -o my_molecules.mlib"
   ]
  },
  {
   "cell_type": "markdown",
   "metadata": {},
   "source": [
    "Let's examine the my_molecules.mlib file that molli created"
   ]
  },
  {
   "cell_type": "code",
   "execution_count": 40,
   "metadata": {},
   "outputs": [
    {
     "data": {
      "text/plain": [
       "['chiral',\n",
       " 'weird_Cu_BOX',\n",
       " 'naphthalene',\n",
       " 'Brevione_E',\n",
       " 'toluene',\n",
       " 'stereo',\n",
       " 'isotopes',\n",
       " 'benzene',\n",
       " 'messy_label_ap',\n",
       " 'stereo_groups',\n",
       " 'R_binol',\n",
       " 'taxadiene',\n",
       " 'weird_BOX',\n",
       " 'attachments']"
      ]
     },
     "execution_count": 40,
     "metadata": {},
     "output_type": "execute_result"
    }
   ],
   "source": [
    "# the mlib is a MoleculeLibrary object\n",
    "mol_collection = ml.MoleculeLibrary('my_molecules.mlib')\n",
    "\n",
    "# we wrap the serialized object in with statements for reading\n",
    "with mol_collection.reading():\n",
    "    # we will make the keys into a list for easy step-by-step visualization in the Jupyter nb.\n",
    "    keys = list(mol_collection.keys())\n",
    "keys\n",
    "\n",
    "# we instantiate this same as above for step-by-step visualization\n",
    "i = -1"
   ]
  },
  {
   "cell_type": "markdown",
   "metadata": {},
   "source": [
    "Ctrl + Enter on the cell below will visualize the molecules one-by-one"
   ]
  },
  {
   "cell_type": "code",
   "execution_count": 70,
   "metadata": {},
   "outputs": [
    {
     "data": {
      "text/plain": [
       "'Restarting from beginning!'"
      ]
     },
     "execution_count": 70,
     "metadata": {},
     "output_type": "execute_result"
    }
   ],
   "source": [
    "i += 1\n",
    "\n",
    "try:\n",
    "    # need to add this with statement for reading the serialized mlib object\n",
    "    with mol_collection.reading():\n",
    "        # this is the current label\n",
    "        keys[i]\n",
    "        # get the molecule object and add implicit hydrogens\n",
    "        mol = mol_collection[keys[i]]\n",
    "        mol.add_implicit_hydrogens()\n",
    "        # visualized\n",
    "        mol\n",
    "\n",
    "except IndexError:\n",
    "    \"Restarting from beginning!\"\n",
    "    i = -1"
   ]
  },
  {
   "cell_type": "markdown",
   "metadata": {},
   "source": [
    "This last cell just deletes the demo MoleculeLibrary we created to keep your directories clean!"
   ]
  },
  {
   "cell_type": "code",
   "execution_count": 71,
   "metadata": {},
   "outputs": [],
   "source": [
    "os.remove('my_molecules.mlib')"
   ]
  }
 ],
 "metadata": {
  "kernelspec": {
   "display_name": "Python 3 (ipykernel)",
   "language": "python",
   "name": "python3"
  },
  "language_info": {
   "codemirror_mode": {
    "name": "ipython",
    "version": 3
   },
   "file_extension": ".py",
   "mimetype": "text/x-python",
   "name": "python",
   "nbconvert_exporter": "python",
   "pygments_lexer": "ipython3",
   "version": "3.12.0"
  }
 },
 "nbformat": 4,
 "nbformat_minor": 2
}
