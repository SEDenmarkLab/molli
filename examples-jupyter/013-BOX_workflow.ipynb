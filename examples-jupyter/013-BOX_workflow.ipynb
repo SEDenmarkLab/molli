{
 "cells": [
  {
   "cell_type": "markdown",
   "metadata": {},
   "source": [
    "# Workflow Example: Copper-BOX Catalyst Library Construction\n",
    "\n",
    "This notebook will show a full example of how you might use `molli` to generate a combinatorial catalyst library and extract features."
   ]
  },
  {
   "cell_type": "code",
   "execution_count": 42,
   "metadata": {},
   "outputs": [],
   "source": [
    "#Necessary imports\n",
    "import molli as ml\n",
    "ml.visual.configure(bgcolor='white')\n",
    "import msgpack\n",
    "import attrs"
   ]
  },
  {
   "cell_type": "markdown",
   "metadata": {},
   "source": [
    "## Part 1: Parsing and Combinatorial Expansion"
   ]
  },
  {
   "attachments": {
    "1_1_BOX.PNG": {
     "image/png": "[encoded data removed]"
    }
   },
   "cell_type": "markdown",
   "metadata": {},
   "source": [
    "Here's how to do combinatorial expansion programmatically in Python. We will use an example BOX ligand from a CDXML file\n",
    "\n",
    "![1_1_BOX.PNG](attachment:1_1_BOX.PNG)"
   ]
  },
  {
   "cell_type": "code",
   "execution_count": 43,
   "metadata": {},
   "outputs": [
    {
     "data": {
      "application/3dmoljs_load.v0": "<div id=\"3dmolviewer_17295508778843982\"  style=\"position: relative; width: 100%; height: 500px;\">\n        <p id=\"3dmolwarning_17295508778843982\" style=\"background-color:#ffcccc;color:black\">You appear to be running in JupyterLab (or JavaScript failed to load for some other reason).  You need to install the 3dmol extension: <br>\n        <tt>jupyter labextension install jupyterlab_3dmol</tt></p>\n        </div>\n<script>\n\nvar loadScriptAsync = function(uri){\n  return new Promise((resolve, reject) => {\n    //this is to ignore the existence of requirejs amd\n    var savedexports, savedmodule;\n    if (typeof exports !== 'undefined') savedexports = exports;\n    else exports = {}\n    if (typeof module !== 'undefined') savedmodule = module;\n    else module = {}\n\n    var tag = document.createElement('script');\n    tag.src = uri;\n    tag.async = true;\n    tag.onload = () => {\n        exports = savedexports;\n        module = savedmodule;\n        resolve();\n    };\n  var firstScriptTag = document.getElementsByTagName('script')[0];\n  firstScriptTag.parentNode.insertBefore(tag, firstScriptTag);\n});\n};\n\nif(typeof $3Dmolpromise === 'undefined') {\n$3Dmolpromise = null;\n  $3Dmolpromise = loadScriptAsync('https://cdnjs.cloudflare.com/ajax/libs/3Dmol/2.0.4/3Dmol-min.js');\n}\n\nvar viewer_17295508778843982 = null;\nvar warn = document.getElementById(\"3dmolwarning_17295508778843982\");\nif(warn) {\n    warn.parentNode.removeChild(warn);\n}\n$3Dmolpromise.then(function() {\nviewer_17295508778843982 = $3Dmol.createViewer(document.getElementById(\"3dmolviewer_17295508778843982\"),{backgroundColor:\"white\"});\nviewer_17295508778843982.zoomTo();\n\tviewer_17295508778843982.addModel(\"@<TRIPOS>MOLECULE\\n1_1\\n34 38 0 0 0\\nSMALL\\nNO_CHARGES\\n\\n@<TRIPOS>ATOM\\n1 None 1.4551 0.9973 0.0000 N\\n2 None 2.9134 0.6487 0.0000 C\\n3 None 3.6954 1.9292 0.0000 C\\n4 None 2.7204 3.0681 0.0000 O\\n5 None 1.3357 2.4931 0.0000 C\\n6 None 0.0551 3.2737 0.0000 C\\n7 None -1.2629 2.5556 0.0000 C\\n8 None -2.6171 3.2014 0.0000 O\\n9 None -3.6477 2.1112 0.0000 C\\n10 None -2.9296 0.7931 0.0000 C\\n11 None -1.4560 1.0681 0.0000 N\\n12 None -3.2518 0.1160 -1.2988 C\\n13 None 3.2016 -0.0437 1.2989 C\\n14 None 2.1464 -0.8892 1.9485 C\\n15 None 2.4333 -1.5818 3.2470 C\\n16 None 3.7765 -1.4295 3.8975 C\\n17 None 4.8330 -0.5838 3.2484 C\\n18 None 4.5448 0.1086 1.9495 C\\n19 None -4.5864 0.3355 -1.9488 C\\n20 None -4.9071 -0.3427 -3.2482 C\\n21 None -3.8960 -1.2390 -3.8974 C\\n22 None -2.5615 -1.4584 -3.2473 C\\n23 None -2.2395 -0.7805 -1.9475 C\\n24 None -3.6477 2.1112 -1.4789 H\\n25 None 3.6954 1.9292 1.4576 H\\n26 None 0.1884 -0.2611 0.0000 Cu\\n27 None 0.1884 -0.2611 1.8667 Cl\\n28 None -0.6211 -0.7303 -1.8097 Cl\\n29 A1 -4.2170 -1.9163 -5.1957 Unknown\\n30 A1 4.0647 -2.1218 5.1964 Unknown\\n31 None -4.7296 1.0306 0.0000 H\\n32 None 4.7482 0.8764 0.0000 H\\n33 A2 0.7736 3.8645 1.1777 Unknown\\n34 A2 0.0551 3.2737 -1.5603 Unknown\\n@<TRIPOS>BOND\\n1 1 2 1\\n2 2 3 1\\n3 3 4 1\\n4 4 5 1\\n5 5 1 2\\n6 5 6 1\\n7 6 7 1\\n8 7 8 1\\n9 8 9 1\\n10 9 10 1\\n11 10 11 1\\n12 11 7 2\\n13 6 34 1\\n14 10 12 1\\n15 2 13 1\\n16 13 14 2\\n17 14 15 1\\n18 15 16 2\\n19 16 17 1\\n20 17 18 2\\n21 18 13 1\\n22 12 19 2\\n23 19 20 1\\n24 20 21 2\\n25 21 22 1\\n26 22 23 2\\n27 23 12 1\\n28 21 29 1\\n29 16 30 1\\n30 9 24 1\\n31 3 25 1\\n32 11 26 1\\n33 26 1 1\\n34 26 27 1\\n35 26 28 1\\n36 9 31 1\\n37 3 32 1\\n38 6 33 1\\n\\n\",\"mol2\");\n\tviewer_17295508778843982.setStyle({\"stick\": {\"radius\": 0.1}, \"sphere\": {\"scale\": 0.15}});\n\tviewer_17295508778843982.setHoverable({},true,\"\\n        function(atom,viewer,event,container) {\\n            if(!atom.label) {\\n                atom.label = viewer.addLabel(atom.elem + '(' + atom.index + ')', {position: atom, backgroundColor: 'silver', fontColor:'black'});\\n            }\\n        }\\n        \",\"\\n        function(atom,viewer) { \\n            if(atom.label) {\\n                viewer.removeLabel(atom.label);\\n                delete atom.label;\\n            }\\n        }\\n        \");\n\tviewer_17295508778843982.zoomTo();\n\tviewer_17295508778843982.setBackgroundColor(\"white\");\nviewer_17295508778843982.render();\n});\n</script>",
      "text/html": [
       "<div id=\"3dmolviewer_17295508778843982\"  style=\"position: relative; width: 100%; height: 500px;\">\n",
       "        <p id=\"3dmolwarning_17295508778843982\" style=\"background-color:#ffcccc;color:black\">You appear to be running in JupyterLab (or JavaScript failed to load for some other reason).  You need to install the 3dmol extension: <br>\n",
       "        <tt>jupyter labextension install jupyterlab_3dmol</tt></p>\n",
       "        </div>\n",
       "<script>\n",
       "\n",
       "var loadScriptAsync = function(uri){\n",
       "  return new Promise((resolve, reject) => {\n",
       "    //this is to ignore the existence of requirejs amd\n",
       "    var savedexports, savedmodule;\n",
       "    if (typeof exports !== 'undefined') savedexports = exports;\n",
       "    else exports = {}\n",
       "    if (typeof module !== 'undefined') savedmodule = module;\n",
       "    else module = {}\n",
       "\n",
       "    var tag = document.createElement('script');\n",
       "    tag.src = uri;\n",
       "    tag.async = true;\n",
       "    tag.onload = () => {\n",
       "        exports = savedexports;\n",
       "        module = savedmodule;\n",
       "        resolve();\n",
       "    };\n",
       "  var firstScriptTag = document.getElementsByTagName('script')[0];\n",
       "  firstScriptTag.parentNode.insertBefore(tag, firstScriptTag);\n",
       "});\n",
       "};\n",
       "\n",
       "if(typeof $3Dmolpromise === 'undefined') {\n",
       "$3Dmolpromise = null;\n",
       "  $3Dmolpromise = loadScriptAsync('https://cdnjs.cloudflare.com/ajax/libs/3Dmol/2.0.4/3Dmol-min.js');\n",
       "}\n",
       "\n",
       "var viewer_17295508778843982 = null;\n",
       "var warn = document.getElementById(\"3dmolwarning_17295508778843982\");\n",
       "if(warn) {\n",
       "    warn.parentNode.removeChild(warn);\n",
       "}\n",
       "$3Dmolpromise.then(function() {\n",
       "viewer_17295508778843982 = $3Dmol.createViewer(document.getElementById(\"3dmolviewer_17295508778843982\"),{backgroundColor:\"white\"});\n",
       "viewer_17295508778843982.zoomTo();\n",
       "\tviewer_17295508778843982.addModel(\"@<TRIPOS>MOLECULE\\n1_1\\n34 38 0 0 0\\nSMALL\\nNO_CHARGES\\n\\n@<TRIPOS>ATOM\\n1 None 1.4551 0.9973 0.0000 N\\n2 None 2.9134 0.6487 0.0000 C\\n3 None 3.6954 1.9292 0.0000 C\\n4 None 2.7204 3.0681 0.0000 O\\n5 None 1.3357 2.4931 0.0000 C\\n6 None 0.0551 3.2737 0.0000 C\\n7 None -1.2629 2.5556 0.0000 C\\n8 None -2.6171 3.2014 0.0000 O\\n9 None -3.6477 2.1112 0.0000 C\\n10 None -2.9296 0.7931 0.0000 C\\n11 None -1.4560 1.0681 0.0000 N\\n12 None -3.2518 0.1160 -1.2988 C\\n13 None 3.2016 -0.0437 1.2989 C\\n14 None 2.1464 -0.8892 1.9485 C\\n15 None 2.4333 -1.5818 3.2470 C\\n16 None 3.7765 -1.4295 3.8975 C\\n17 None 4.8330 -0.5838 3.2484 C\\n18 None 4.5448 0.1086 1.9495 C\\n19 None -4.5864 0.3355 -1.9488 C\\n20 None -4.9071 -0.3427 -3.2482 C\\n21 None -3.8960 -1.2390 -3.8974 C\\n22 None -2.5615 -1.4584 -3.2473 C\\n23 None -2.2395 -0.7805 -1.9475 C\\n24 None -3.6477 2.1112 -1.4789 H\\n25 None 3.6954 1.9292 1.4576 H\\n26 None 0.1884 -0.2611 0.0000 Cu\\n27 None 0.1884 -0.2611 1.8667 Cl\\n28 None -0.6211 -0.7303 -1.8097 Cl\\n29 A1 -4.2170 -1.9163 -5.1957 Unknown\\n30 A1 4.0647 -2.1218 5.1964 Unknown\\n31 None -4.7296 1.0306 0.0000 H\\n32 None 4.7482 0.8764 0.0000 H\\n33 A2 0.7736 3.8645 1.1777 Unknown\\n34 A2 0.0551 3.2737 -1.5603 Unknown\\n@<TRIPOS>BOND\\n1 1 2 1\\n2 2 3 1\\n3 3 4 1\\n4 4 5 1\\n5 5 1 2\\n6 5 6 1\\n7 6 7 1\\n8 7 8 1\\n9 8 9 1\\n10 9 10 1\\n11 10 11 1\\n12 11 7 2\\n13 6 34 1\\n14 10 12 1\\n15 2 13 1\\n16 13 14 2\\n17 14 15 1\\n18 15 16 2\\n19 16 17 1\\n20 17 18 2\\n21 18 13 1\\n22 12 19 2\\n23 19 20 1\\n24 20 21 2\\n25 21 22 1\\n26 22 23 2\\n27 23 12 1\\n28 21 29 1\\n29 16 30 1\\n30 9 24 1\\n31 3 25 1\\n32 11 26 1\\n33 26 1 1\\n34 26 27 1\\n35 26 28 1\\n36 9 31 1\\n37 3 32 1\\n38 6 33 1\\n\\n\",\"mol2\");\n",
       "\tviewer_17295508778843982.setStyle({\"stick\": {\"radius\": 0.1}, \"sphere\": {\"scale\": 0.15}});\n",
       "\tviewer_17295508778843982.setHoverable({},true,\"\\n        function(atom,viewer,event,container) {\\n            if(!atom.label) {\\n                atom.label = viewer.addLabel(atom.elem + '(' + atom.index + ')', {position: atom, backgroundColor: 'silver', fontColor:'black'});\\n            }\\n        }\\n        \",\"\\n        function(atom,viewer) { \\n            if(atom.label) {\\n                viewer.removeLabel(atom.label);\\n                delete atom.label;\\n            }\\n        }\\n        \");\n",
       "\tviewer_17295508778843982.zoomTo();\n",
       "\tviewer_17295508778843982.setBackgroundColor(\"white\");\n",
       "viewer_17295508778843982.render();\n",
       "});\n",
       "</script>"
      ]
     },
     "metadata": {},
     "output_type": "display_data"
    },
    {
     "data": {
      "application/3dmoljs_load.v0": "<script>\n            $3Dmolpromise.then(function() { //wrap in promise for non-interactive functionality\n                \n                viewer_17295508778843982.render();\n            });\n            </script>",
      "text/html": [
       "<script>\n",
       "            $3Dmolpromise.then(function() { //wrap in promise for non-interactive functionality\n",
       "                \n",
       "                viewer_17295508778843982.render();\n",
       "            });\n",
       "            </script>"
      ]
     },
     "metadata": {},
     "output_type": "display_data"
    },
    {
     "data": {
      "text/plain": [
       "Molecule(name='1_1', formula='C19 H4 Cl2 Cu1 N2 O2 Unknown4')"
      ]
     },
     "execution_count": 43,
     "metadata": {},
     "output_type": "execute_result"
    }
   ],
   "source": [
    "# first we read in our cores\n",
    "cores = ml.CDXMLFile(ml.files.BOX_cores)\n",
    "\n",
    "example_core = cores['1_1']\n",
    "example_core"
   ]
  },
  {
   "cell_type": "code",
   "execution_count": 44,
   "metadata": {},
   "outputs": [
    {
     "data": {
      "text/plain": [
       "[Atom(element=Unknown, isotope=None, label='A1', formal_charge=0, formal_spin=0),\n",
       " Atom(element=Unknown, isotope=None, label='A1', formal_charge=0, formal_spin=0),\n",
       " Atom(element=Unknown, isotope=None, label='A2', formal_charge=0, formal_spin=0),\n",
       " Atom(element=Unknown, isotope=None, label='A2', formal_charge=0, formal_spin=0)]"
      ]
     },
     "execution_count": 44,
     "metadata": {},
     "output_type": "execute_result"
    }
   ],
   "source": [
    "# Each core has 4 attachment points, 2 labelled A1 (the pendant 4,4' positions), and 2 labelled A2 (the bridging position).\n",
    "attachment_points = [a for a in cores['1_1'].atoms if a.atype == ml.AtomType.AttachmentPoint]\n",
    "attachment_points"
   ]
  },
  {
   "attachments": {
    "BOX_Bridge.PNG": {
     "image/png": "[encoded data removed]"
    }
   },
   "cell_type": "markdown",
   "metadata": {},
   "source": [
    "Next we will parse out the Bridging groups from the CDXML File, and join them at the bridge-head of the BOX ligand example core!\n",
    "\n",
    "![BOX_Bridge.PNG](attachment:BOX_Bridge.PNG)"
   ]
  },
  {
   "cell_type": "code",
   "execution_count": 45,
   "metadata": {},
   "outputs": [
    {
     "name": "stdout",
     "output_type": "stream",
     "text": [
      "There are now 3 molecules created from the first example core.\n"
     ]
    },
    {
     "data": {
      "application/3dmoljs_load.v0": "<div id=\"3dmolviewer_17295508779332695\"  style=\"position: relative; width: 100%; height: 500px;\">\n        <p id=\"3dmolwarning_17295508779332695\" style=\"background-color:#ffcccc;color:black\">You appear to be running in JupyterLab (or JavaScript failed to load for some other reason).  You need to install the 3dmol extension: <br>\n        <tt>jupyter labextension install jupyterlab_3dmol</tt></p>\n        </div>\n<script>\n\nvar loadScriptAsync = function(uri){\n  return new Promise((resolve, reject) => {\n    //this is to ignore the existence of requirejs amd\n    var savedexports, savedmodule;\n    if (typeof exports !== 'undefined') savedexports = exports;\n    else exports = {}\n    if (typeof module !== 'undefined') savedmodule = module;\n    else module = {}\n\n    var tag = document.createElement('script');\n    tag.src = uri;\n    tag.async = true;\n    tag.onload = () => {\n        exports = savedexports;\n        module = savedmodule;\n        resolve();\n    };\n  var firstScriptTag = document.getElementsByTagName('script')[0];\n  firstScriptTag.parentNode.insertBefore(tag, firstScriptTag);\n});\n};\n\nif(typeof $3Dmolpromise === 'undefined') {\n$3Dmolpromise = null;\n  $3Dmolpromise = loadScriptAsync('https://cdnjs.cloudflare.com/ajax/libs/3Dmol/2.0.4/3Dmol-min.js');\n}\n\nvar viewer_17295508779332695 = null;\nvar warn = document.getElementById(\"3dmolwarning_17295508779332695\");\nif(warn) {\n    warn.parentNode.removeChild(warn);\n}\n$3Dmolpromise.then(function() {\nviewer_17295508779332695 = $3Dmol.createViewer(document.getElementById(\"3dmolviewer_17295508779332695\"),{backgroundColor:\"white\"});\nviewer_17295508779332695.zoomTo();\n\tviewer_17295508779332695.addModel(\"@<TRIPOS>MOLECULE\\n1_1_Me\\n34 38 0 0 0\\nSMALL\\nNO_CHARGES\\n\\n@<TRIPOS>ATOM\\n1 None 1.4000 -2.2764 0.0000 N\\n2 None 2.8583 -2.6250 0.0000 C\\n3 None 3.6403 -1.3444 0.0000 C\\n4 None 2.6653 -0.2056 0.0000 O\\n5 None 1.2806 -0.7806 0.0000 C\\n6 None 0.0000 0.0000 0.0000 C\\n7 None -1.3181 -0.7181 0.0000 C\\n8 None -2.6722 -0.0722 0.0000 O\\n9 None -3.7028 -1.1625 0.0000 C\\n10 None -2.9847 -2.4806 0.0000 C\\n11 None -1.5111 -2.2056 0.0000 N\\n12 None -3.3069 -3.1576 -1.2988 C\\n13 None 3.1465 -3.3174 1.2989 C\\n14 None 2.0913 -4.1628 1.9485 C\\n15 None 2.3782 -4.8554 3.2470 C\\n16 None 3.7214 -4.7031 3.8975 C\\n17 None 4.7779 -3.8574 3.2484 C\\n18 None 4.4897 -3.1651 1.9495 C\\n19 None -4.6415 -2.9382 -1.9488 C\\n20 None -4.9622 -3.6164 -3.2482 C\\n21 None -3.9511 -4.5126 -3.8974 C\\n22 None -2.6166 -4.7321 -3.2473 C\\n23 None -2.2946 -4.0542 -1.9475 C\\n24 None -3.7028 -1.1625 -1.4789 H\\n25 None 3.6403 -1.3444 1.4576 H\\n26 None 0.1333 -3.5347 0.0000 Cu\\n27 None 0.1333 -3.5347 1.8667 Cl\\n28 None -0.6762 -4.0040 -1.8097 Cl\\n29 A1 -4.2721 -5.1900 -5.1957 Unknown\\n30 A1 4.0096 -5.3955 5.1964 Unknown\\n31 None -4.7847 -2.2431 0.0000 H\\n32 None 4.6931 -2.3972 0.0000 H\\n33 None 0.7182 0.5906 1.1771 C\\n34 None 0.0000 0.0000 -1.5000 C\\n@<TRIPOS>BOND\\n1 1 2 1\\n2 2 3 1\\n3 3 4 1\\n4 4 5 1\\n5 5 1 2\\n6 5 6 1\\n7 6 7 1\\n8 7 8 1\\n9 8 9 1\\n10 9 10 1\\n11 10 11 1\\n12 11 7 2\\n13 10 12 1\\n14 2 13 1\\n15 13 14 2\\n16 14 15 1\\n17 15 16 2\\n18 16 17 1\\n19 17 18 2\\n20 18 13 1\\n21 12 19 2\\n22 19 20 1\\n23 20 21 2\\n24 21 22 1\\n25 22 23 2\\n26 23 12 1\\n27 21 29 1\\n28 16 30 1\\n29 9 24 1\\n30 3 25 1\\n31 11 26 1\\n32 26 1 1\\n33 26 27 1\\n34 26 28 1\\n35 9 31 1\\n36 3 32 1\\n37 6 33 1\\n38 6 34 1\\n\\n\",\"mol2\");\n\tviewer_17295508779332695.setStyle({\"stick\": {\"radius\": 0.1}, \"sphere\": {\"scale\": 0.15}});\n\tviewer_17295508779332695.setHoverable({},true,\"\\n        function(atom,viewer,event,container) {\\n            if(!atom.label) {\\n                atom.label = viewer.addLabel(atom.elem + '(' + atom.index + ')', {position: atom, backgroundColor: 'silver', fontColor:'black'});\\n            }\\n        }\\n        \",\"\\n        function(atom,viewer) { \\n            if(atom.label) {\\n                viewer.removeLabel(atom.label);\\n                delete atom.label;\\n            }\\n        }\\n        \");\n\tviewer_17295508779332695.zoomTo();\n\tviewer_17295508779332695.setBackgroundColor(\"white\");\nviewer_17295508779332695.render();\n});\n</script>",
      "text/html": [
       "<div id=\"3dmolviewer_17295508779332695\"  style=\"position: relative; width: 100%; height: 500px;\">\n",
       "        <p id=\"3dmolwarning_17295508779332695\" style=\"background-color:#ffcccc;color:black\">You appear to be running in JupyterLab (or JavaScript failed to load for some other reason).  You need to install the 3dmol extension: <br>\n",
       "        <tt>jupyter labextension install jupyterlab_3dmol</tt></p>\n",
       "        </div>\n",
       "<script>\n",
       "\n",
       "var loadScriptAsync = function(uri){\n",
       "  return new Promise((resolve, reject) => {\n",
       "    //this is to ignore the existence of requirejs amd\n",
       "    var savedexports, savedmodule;\n",
       "    if (typeof exports !== 'undefined') savedexports = exports;\n",
       "    else exports = {}\n",
       "    if (typeof module !== 'undefined') savedmodule = module;\n",
       "    else module = {}\n",
       "\n",
       "    var tag = document.createElement('script');\n",
       "    tag.src = uri;\n",
       "    tag.async = true;\n",
       "    tag.onload = () => {\n",
       "        exports = savedexports;\n",
       "        module = savedmodule;\n",
       "        resolve();\n",
       "    };\n",
       "  var firstScriptTag = document.getElementsByTagName('script')[0];\n",
       "  firstScriptTag.parentNode.insertBefore(tag, firstScriptTag);\n",
       "});\n",
       "};\n",
       "\n",
       "if(typeof $3Dmolpromise === 'undefined') {\n",
       "$3Dmolpromise = null;\n",
       "  $3Dmolpromise = loadScriptAsync('https://cdnjs.cloudflare.com/ajax/libs/3Dmol/2.0.4/3Dmol-min.js');\n",
       "}\n",
       "\n",
       "var viewer_17295508779332695 = null;\n",
       "var warn = document.getElementById(\"3dmolwarning_17295508779332695\");\n",
       "if(warn) {\n",
       "    warn.parentNode.removeChild(warn);\n",
       "}\n",
       "$3Dmolpromise.then(function() {\n",
       "viewer_17295508779332695 = $3Dmol.createViewer(document.getElementById(\"3dmolviewer_17295508779332695\"),{backgroundColor:\"white\"});\n",
       "viewer_17295508779332695.zoomTo();\n",
       "\tviewer_17295508779332695.addModel(\"@<TRIPOS>MOLECULE\\n1_1_Me\\n34 38 0 0 0\\nSMALL\\nNO_CHARGES\\n\\n@<TRIPOS>ATOM\\n1 None 1.4000 -2.2764 0.0000 N\\n2 None 2.8583 -2.6250 0.0000 C\\n3 None 3.6403 -1.3444 0.0000 C\\n4 None 2.6653 -0.2056 0.0000 O\\n5 None 1.2806 -0.7806 0.0000 C\\n6 None 0.0000 0.0000 0.0000 C\\n7 None -1.3181 -0.7181 0.0000 C\\n8 None -2.6722 -0.0722 0.0000 O\\n9 None -3.7028 -1.1625 0.0000 C\\n10 None -2.9847 -2.4806 0.0000 C\\n11 None -1.5111 -2.2056 0.0000 N\\n12 None -3.3069 -3.1576 -1.2988 C\\n13 None 3.1465 -3.3174 1.2989 C\\n14 None 2.0913 -4.1628 1.9485 C\\n15 None 2.3782 -4.8554 3.2470 C\\n16 None 3.7214 -4.7031 3.8975 C\\n17 None 4.7779 -3.8574 3.2484 C\\n18 None 4.4897 -3.1651 1.9495 C\\n19 None -4.6415 -2.9382 -1.9488 C\\n20 None -4.9622 -3.6164 -3.2482 C\\n21 None -3.9511 -4.5126 -3.8974 C\\n22 None -2.6166 -4.7321 -3.2473 C\\n23 None -2.2946 -4.0542 -1.9475 C\\n24 None -3.7028 -1.1625 -1.4789 H\\n25 None 3.6403 -1.3444 1.4576 H\\n26 None 0.1333 -3.5347 0.0000 Cu\\n27 None 0.1333 -3.5347 1.8667 Cl\\n28 None -0.6762 -4.0040 -1.8097 Cl\\n29 A1 -4.2721 -5.1900 -5.1957 Unknown\\n30 A1 4.0096 -5.3955 5.1964 Unknown\\n31 None -4.7847 -2.2431 0.0000 H\\n32 None 4.6931 -2.3972 0.0000 H\\n33 None 0.7182 0.5906 1.1771 C\\n34 None 0.0000 0.0000 -1.5000 C\\n@<TRIPOS>BOND\\n1 1 2 1\\n2 2 3 1\\n3 3 4 1\\n4 4 5 1\\n5 5 1 2\\n6 5 6 1\\n7 6 7 1\\n8 7 8 1\\n9 8 9 1\\n10 9 10 1\\n11 10 11 1\\n12 11 7 2\\n13 10 12 1\\n14 2 13 1\\n15 13 14 2\\n16 14 15 1\\n17 15 16 2\\n18 16 17 1\\n19 17 18 2\\n20 18 13 1\\n21 12 19 2\\n22 19 20 1\\n23 20 21 2\\n24 21 22 1\\n25 22 23 2\\n26 23 12 1\\n27 21 29 1\\n28 16 30 1\\n29 9 24 1\\n30 3 25 1\\n31 11 26 1\\n32 26 1 1\\n33 26 27 1\\n34 26 28 1\\n35 9 31 1\\n36 3 32 1\\n37 6 33 1\\n38 6 34 1\\n\\n\",\"mol2\");\n",
       "\tviewer_17295508779332695.setStyle({\"stick\": {\"radius\": 0.1}, \"sphere\": {\"scale\": 0.15}});\n",
       "\tviewer_17295508779332695.setHoverable({},true,\"\\n        function(atom,viewer,event,container) {\\n            if(!atom.label) {\\n                atom.label = viewer.addLabel(atom.elem + '(' + atom.index + ')', {position: atom, backgroundColor: 'silver', fontColor:'black'});\\n            }\\n        }\\n        \",\"\\n        function(atom,viewer) { \\n            if(atom.label) {\\n                viewer.removeLabel(atom.label);\\n                delete atom.label;\\n            }\\n        }\\n        \");\n",
       "\tviewer_17295508779332695.zoomTo();\n",
       "\tviewer_17295508779332695.setBackgroundColor(\"white\");\n",
       "viewer_17295508779332695.render();\n",
       "});\n",
       "</script>"
      ]
     },
     "metadata": {},
     "output_type": "display_data"
    },
    {
     "data": {
      "application/3dmoljs_load.v0": "<script>\n            $3Dmolpromise.then(function() { //wrap in promise for non-interactive functionality\n                \n                viewer_17295508779332695.render();\n            });\n            </script>",
      "text/html": [
       "<script>\n",
       "            $3Dmolpromise.then(function() { //wrap in promise for non-interactive functionality\n",
       "                \n",
       "                viewer_17295508779332695.render();\n",
       "            });\n",
       "            </script>"
      ]
     },
     "metadata": {},
     "output_type": "display_data"
    },
    {
     "data": {
      "text/plain": [
       "Molecule(name='1_1_Me', formula='C21 H4 Cl2 Cu1 N2 O2 Unknown2')"
      ]
     },
     "execution_count": 45,
     "metadata": {},
     "output_type": "execute_result"
    }
   ],
   "source": [
    "# now we will expand the bridging groups\n",
    "bridging_groups = ml.CDXMLFile(ml.files.BOX_bridge)\n",
    "\n",
    "# this will be our exapnded collection\n",
    "cores_and_bridge_mols = []\n",
    "\n",
    "# make a molecule for each core + bridging groups\n",
    "for bridging_fragment in bridging_groups.keys():\n",
    "    # get our bridge structure - molli assigns default 'AP1' label to attachment points without chemdraw-specified labels\n",
    "    bridge_mol = bridging_groups[bridging_fragment]\n",
    "    # join one bridging group fragment\n",
    "    expanded = ml.Molecule.join(example_core, bridge_mol, 'A2', 'AP1')\n",
    "    #join the other\n",
    "    expanded = ml.Molecule.join(expanded, bridge_mol, 'A2', 'AP1', name = '_'.join([example_core.name, bridge_mol.name]))\n",
    "    # add to our collection\n",
    "    cores_and_bridge_mols.append(expanded)\n",
    "\n",
    "print(f'There are now {len(cores_and_bridge_mols)} molecules created from the first example core.')\n",
    "\n",
    "expanded"
   ]
  },
  {
   "attachments": {
    "BOX_C4.PNG": {
     "image/png": "[encoded data removed]"
    }
   },
   "cell_type": "markdown",
   "metadata": {},
   "source": [
    "Now we will expand to a subset of the C4 substituents shown below:\n",
    "\n",
    "![BOX_C4.PNG](attachment:BOX_C4.PNG)"
   ]
  },
  {
   "cell_type": "code",
   "execution_count": 46,
   "metadata": {},
   "outputs": [
    {
     "name": "stdout",
     "output_type": "stream",
     "text": [
      "There are now 12 molecules created from the first example core.\n"
     ]
    },
    {
     "data": {
      "application/3dmoljs_load.v0": "<div id=\"3dmolviewer_17295508780057697\"  style=\"position: relative; width: 100%; height: 500px;\">\n        <p id=\"3dmolwarning_17295508780057697\" style=\"background-color:#ffcccc;color:black\">You appear to be running in JupyterLab (or JavaScript failed to load for some other reason).  You need to install the 3dmol extension: <br>\n        <tt>jupyter labextension install jupyterlab_3dmol</tt></p>\n        </div>\n<script>\n\nvar loadScriptAsync = function(uri){\n  return new Promise((resolve, reject) => {\n    //this is to ignore the existence of requirejs amd\n    var savedexports, savedmodule;\n    if (typeof exports !== 'undefined') savedexports = exports;\n    else exports = {}\n    if (typeof module !== 'undefined') savedmodule = module;\n    else module = {}\n\n    var tag = document.createElement('script');\n    tag.src = uri;\n    tag.async = true;\n    tag.onload = () => {\n        exports = savedexports;\n        module = savedmodule;\n        resolve();\n    };\n  var firstScriptTag = document.getElementsByTagName('script')[0];\n  firstScriptTag.parentNode.insertBefore(tag, firstScriptTag);\n});\n};\n\nif(typeof $3Dmolpromise === 'undefined') {\n$3Dmolpromise = null;\n  $3Dmolpromise = loadScriptAsync('https://cdnjs.cloudflare.com/ajax/libs/3Dmol/2.0.4/3Dmol-min.js');\n}\n\nvar viewer_17295508780057697 = null;\nvar warn = document.getElementById(\"3dmolwarning_17295508780057697\");\nif(warn) {\n    warn.parentNode.removeChild(warn);\n}\n$3Dmolpromise.then(function() {\nviewer_17295508780057697 = $3Dmol.createViewer(document.getElementById(\"3dmolviewer_17295508780057697\"),{backgroundColor:\"white\"});\nviewer_17295508780057697.zoomTo();\n\tviewer_17295508780057697.addModel(\"@<TRIPOS>MOLECULE\\n410_1_1_Me\\n62 68 0 0 0\\nSMALL\\nNO_CHARGES\\n\\n@<TRIPOS>ATOM\\n1 None -2.3214 2.4267 -3.8975 N\\n2 None -0.8631 2.0781 -3.8975 C\\n3 None -0.0811 3.3587 -3.8975 C\\n4 None -1.0561 4.4976 -3.8975 O\\n5 None -2.4408 3.9226 -3.8975 C\\n6 None -3.7214 4.7031 -3.8975 C\\n7 None -5.0394 3.9851 -3.8975 C\\n8 None -6.3936 4.6309 -3.8975 O\\n9 None -7.4242 3.5406 -3.8975 C\\n10 None -6.7061 2.2226 -3.8975 C\\n11 None -5.2325 2.4976 -3.8975 N\\n12 None -7.0283 1.5455 -5.1963 C\\n13 None -0.5749 1.3858 -2.5985 C\\n14 None -1.6301 0.5403 -1.9490 C\\n15 None -1.3432 -0.1523 -0.6505 C\\n16 None 0.0000 0.0000 0.0000 C\\n17 None 1.0565 0.8457 -0.6491 C\\n18 None 0.7683 1.5381 -1.9480 C\\n19 None -8.3629 1.7649 -5.8463 C\\n20 None -8.6836 1.0868 -7.1457 C\\n21 None -7.6725 0.1905 -7.7949 C\\n22 None -6.3380 -0.0290 -7.1448 C\\n23 None -6.0160 0.6489 -5.8450 C\\n24 None -7.4242 3.5406 -5.3764 H\\n25 None -0.0811 3.3587 -2.4399 H\\n26 None -3.5881 1.1684 -3.8975 Cu\\n27 None -3.5881 1.1684 -2.0307 Cl\\n28 None -4.3976 0.6992 -5.7072 Cl\\n29 None -8.5061 2.4601 -3.8975 H\\n30 None 0.9717 2.3059 -3.8975 H\\n31 None -3.0032 5.2937 -2.7204 C\\n32 None -3.7214 4.7031 -5.3975 C\\n33 None -5.6354 -4.1991 -10.0483 C\\n34 None -6.6762 -3.7043 -11.0080 C\\n35 None -5.3807 -3.4566 -8.7705 C\\n36 None -6.1668 -2.2193 -8.4524 C\\n37 None -7.2076 -1.7245 -9.4121 C\\n38 None -7.4622 -2.4671 -10.6898 C\\n39 None -7.9937 -0.4873 -9.0939 C\\n40 None -8.5037 -1.9724 -11.6507 C\\n41 None -4.8493 -5.4364 -10.3665 C\\n42 None -3.8085 -5.9311 -9.4068 F\\n43 None -5.8846 -6.2720 -9.6745 F\\n44 None -4.5946 -4.6939 -9.0887 F\\n45 None -8.7584 -2.7149 -12.9284 F\\n46 None -9.2898 -0.7351 -11.3325 F\\n47 None -9.5390 -2.8081 -10.9587 F\\n48 None 3.8337 -3.4633 1.3435 C\\n49 None 3.0140 -3.2741 2.5850 C\\n50 None 3.4715 -2.7288 0.0872 C\\n51 None 2.2897 -1.8052 0.0724 C\\n52 None 1.4700 -1.6160 1.3139 C\\n53 None 1.8322 -2.3505 2.5702 C\\n54 None 0.2882 -0.6924 1.2990 C\\n55 None 1.0123 -2.1616 3.8130 C\\n56 None 5.0155 -4.3869 1.3583 C\\n57 None 5.8351 -4.5761 0.1168 F\\n58 None 5.9004 -3.2480 1.7690 F\\n59 None 4.6533 -3.6524 0.1020 F\\n60 None 1.3745 -2.8961 5.0693 F\\n61 None -0.1695 -1.2380 3.7982 F\\n62 None 1.8972 -1.0227 4.2237 F\\n@<TRIPOS>BOND\\n1 1 2 1\\n2 2 3 1\\n3 3 4 1\\n4 4 5 1\\n5 5 1 2\\n6 5 6 1\\n7 6 7 1\\n8 7 8 1\\n9 8 9 1\\n10 9 10 1\\n11 10 11 1\\n12 11 7 2\\n13 10 12 1\\n14 2 13 1\\n15 13 14 2\\n16 14 15 1\\n17 15 16 2\\n18 16 17 1\\n19 17 18 2\\n20 18 13 1\\n21 12 19 2\\n22 19 20 1\\n23 20 21 2\\n24 21 22 1\\n25 22 23 2\\n26 23 12 1\\n27 9 24 1\\n28 3 25 1\\n29 11 26 1\\n30 26 1 1\\n31 26 27 1\\n32 26 28 1\\n33 9 29 1\\n34 3 30 1\\n35 6 31 1\\n36 6 32 1\\n37 33 34 2\\n38 33 35 1\\n39 35 36 2\\n40 36 37 1\\n41 37 38 2\\n42 38 34 1\\n43 37 39 1\\n44 38 40 1\\n45 33 41 1\\n46 41 42 1\\n47 41 43 1\\n48 41 44 1\\n49 40 45 1\\n50 40 46 1\\n51 40 47 1\\n52 21 39 1\\n53 48 49 2\\n54 48 50 1\\n55 50 51 2\\n56 51 52 1\\n57 52 53 2\\n58 53 49 1\\n59 52 54 1\\n60 53 55 1\\n61 48 56 1\\n62 56 57 1\\n63 56 58 1\\n64 56 59 1\\n65 55 60 1\\n66 55 61 1\\n67 55 62 1\\n68 16 54 1\\n\\n\",\"mol2\");\n\tviewer_17295508780057697.setStyle({\"stick\": {\"radius\": 0.1}, \"sphere\": {\"scale\": 0.15}});\n\tviewer_17295508780057697.setHoverable({},true,\"\\n        function(atom,viewer,event,container) {\\n            if(!atom.label) {\\n                atom.label = viewer.addLabel(atom.elem + '(' + atom.index + ')', {position: atom, backgroundColor: 'silver', fontColor:'black'});\\n            }\\n        }\\n        \",\"\\n        function(atom,viewer) { \\n            if(atom.label) {\\n                viewer.removeLabel(atom.label);\\n                delete atom.label;\\n            }\\n        }\\n        \");\n\tviewer_17295508780057697.zoomTo();\n\tviewer_17295508780057697.setBackgroundColor(\"white\");\nviewer_17295508780057697.render();\n});\n</script>",
      "text/html": [
       "<div id=\"3dmolviewer_17295508780057697\"  style=\"position: relative; width: 100%; height: 500px;\">\n",
       "        <p id=\"3dmolwarning_17295508780057697\" style=\"background-color:#ffcccc;color:black\">You appear to be running in JupyterLab (or JavaScript failed to load for some other reason).  You need to install the 3dmol extension: <br>\n",
       "        <tt>jupyter labextension install jupyterlab_3dmol</tt></p>\n",
       "        </div>\n",
       "<script>\n",
       "\n",
       "var loadScriptAsync = function(uri){\n",
       "  return new Promise((resolve, reject) => {\n",
       "    //this is to ignore the existence of requirejs amd\n",
       "    var savedexports, savedmodule;\n",
       "    if (typeof exports !== 'undefined') savedexports = exports;\n",
       "    else exports = {}\n",
       "    if (typeof module !== 'undefined') savedmodule = module;\n",
       "    else module = {}\n",
       "\n",
       "    var tag = document.createElement('script');\n",
       "    tag.src = uri;\n",
       "    tag.async = true;\n",
       "    tag.onload = () => {\n",
       "        exports = savedexports;\n",
       "        module = savedmodule;\n",
       "        resolve();\n",
       "    };\n",
       "  var firstScriptTag = document.getElementsByTagName('script')[0];\n",
       "  firstScriptTag.parentNode.insertBefore(tag, firstScriptTag);\n",
       "});\n",
       "};\n",
       "\n",
       "if(typeof $3Dmolpromise === 'undefined') {\n",
       "$3Dmolpromise = null;\n",
       "  $3Dmolpromise = loadScriptAsync('https://cdnjs.cloudflare.com/ajax/libs/3Dmol/2.0.4/3Dmol-min.js');\n",
       "}\n",
       "\n",
       "var viewer_17295508780057697 = null;\n",
       "var warn = document.getElementById(\"3dmolwarning_17295508780057697\");\n",
       "if(warn) {\n",
       "    warn.parentNode.removeChild(warn);\n",
       "}\n",
       "$3Dmolpromise.then(function() {\n",
       "viewer_17295508780057697 = $3Dmol.createViewer(document.getElementById(\"3dmolviewer_17295508780057697\"),{backgroundColor:\"white\"});\n",
       "viewer_17295508780057697.zoomTo();\n",
       "\tviewer_17295508780057697.addModel(\"@<TRIPOS>MOLECULE\\n410_1_1_Me\\n62 68 0 0 0\\nSMALL\\nNO_CHARGES\\n\\n@<TRIPOS>ATOM\\n1 None -2.3214 2.4267 -3.8975 N\\n2 None -0.8631 2.0781 -3.8975 C\\n3 None -0.0811 3.3587 -3.8975 C\\n4 None -1.0561 4.4976 -3.8975 O\\n5 None -2.4408 3.9226 -3.8975 C\\n6 None -3.7214 4.7031 -3.8975 C\\n7 None -5.0394 3.9851 -3.8975 C\\n8 None -6.3936 4.6309 -3.8975 O\\n9 None -7.4242 3.5406 -3.8975 C\\n10 None -6.7061 2.2226 -3.8975 C\\n11 None -5.2325 2.4976 -3.8975 N\\n12 None -7.0283 1.5455 -5.1963 C\\n13 None -0.5749 1.3858 -2.5985 C\\n14 None -1.6301 0.5403 -1.9490 C\\n15 None -1.3432 -0.1523 -0.6505 C\\n16 None 0.0000 0.0000 0.0000 C\\n17 None 1.0565 0.8457 -0.6491 C\\n18 None 0.7683 1.5381 -1.9480 C\\n19 None -8.3629 1.7649 -5.8463 C\\n20 None -8.6836 1.0868 -7.1457 C\\n21 None -7.6725 0.1905 -7.7949 C\\n22 None -6.3380 -0.0290 -7.1448 C\\n23 None -6.0160 0.6489 -5.8450 C\\n24 None -7.4242 3.5406 -5.3764 H\\n25 None -0.0811 3.3587 -2.4399 H\\n26 None -3.5881 1.1684 -3.8975 Cu\\n27 None -3.5881 1.1684 -2.0307 Cl\\n28 None -4.3976 0.6992 -5.7072 Cl\\n29 None -8.5061 2.4601 -3.8975 H\\n30 None 0.9717 2.3059 -3.8975 H\\n31 None -3.0032 5.2937 -2.7204 C\\n32 None -3.7214 4.7031 -5.3975 C\\n33 None -5.6354 -4.1991 -10.0483 C\\n34 None -6.6762 -3.7043 -11.0080 C\\n35 None -5.3807 -3.4566 -8.7705 C\\n36 None -6.1668 -2.2193 -8.4524 C\\n37 None -7.2076 -1.7245 -9.4121 C\\n38 None -7.4622 -2.4671 -10.6898 C\\n39 None -7.9937 -0.4873 -9.0939 C\\n40 None -8.5037 -1.9724 -11.6507 C\\n41 None -4.8493 -5.4364 -10.3665 C\\n42 None -3.8085 -5.9311 -9.4068 F\\n43 None -5.8846 -6.2720 -9.6745 F\\n44 None -4.5946 -4.6939 -9.0887 F\\n45 None -8.7584 -2.7149 -12.9284 F\\n46 None -9.2898 -0.7351 -11.3325 F\\n47 None -9.5390 -2.8081 -10.9587 F\\n48 None 3.8337 -3.4633 1.3435 C\\n49 None 3.0140 -3.2741 2.5850 C\\n50 None 3.4715 -2.7288 0.0872 C\\n51 None 2.2897 -1.8052 0.0724 C\\n52 None 1.4700 -1.6160 1.3139 C\\n53 None 1.8322 -2.3505 2.5702 C\\n54 None 0.2882 -0.6924 1.2990 C\\n55 None 1.0123 -2.1616 3.8130 C\\n56 None 5.0155 -4.3869 1.3583 C\\n57 None 5.8351 -4.5761 0.1168 F\\n58 None 5.9004 -3.2480 1.7690 F\\n59 None 4.6533 -3.6524 0.1020 F\\n60 None 1.3745 -2.8961 5.0693 F\\n61 None -0.1695 -1.2380 3.7982 F\\n62 None 1.8972 -1.0227 4.2237 F\\n@<TRIPOS>BOND\\n1 1 2 1\\n2 2 3 1\\n3 3 4 1\\n4 4 5 1\\n5 5 1 2\\n6 5 6 1\\n7 6 7 1\\n8 7 8 1\\n9 8 9 1\\n10 9 10 1\\n11 10 11 1\\n12 11 7 2\\n13 10 12 1\\n14 2 13 1\\n15 13 14 2\\n16 14 15 1\\n17 15 16 2\\n18 16 17 1\\n19 17 18 2\\n20 18 13 1\\n21 12 19 2\\n22 19 20 1\\n23 20 21 2\\n24 21 22 1\\n25 22 23 2\\n26 23 12 1\\n27 9 24 1\\n28 3 25 1\\n29 11 26 1\\n30 26 1 1\\n31 26 27 1\\n32 26 28 1\\n33 9 29 1\\n34 3 30 1\\n35 6 31 1\\n36 6 32 1\\n37 33 34 2\\n38 33 35 1\\n39 35 36 2\\n40 36 37 1\\n41 37 38 2\\n42 38 34 1\\n43 37 39 1\\n44 38 40 1\\n45 33 41 1\\n46 41 42 1\\n47 41 43 1\\n48 41 44 1\\n49 40 45 1\\n50 40 46 1\\n51 40 47 1\\n52 21 39 1\\n53 48 49 2\\n54 48 50 1\\n55 50 51 2\\n56 51 52 1\\n57 52 53 2\\n58 53 49 1\\n59 52 54 1\\n60 53 55 1\\n61 48 56 1\\n62 56 57 1\\n63 56 58 1\\n64 56 59 1\\n65 55 60 1\\n66 55 61 1\\n67 55 62 1\\n68 16 54 1\\n\\n\",\"mol2\");\n",
       "\tviewer_17295508780057697.setStyle({\"stick\": {\"radius\": 0.1}, \"sphere\": {\"scale\": 0.15}});\n",
       "\tviewer_17295508780057697.setHoverable({},true,\"\\n        function(atom,viewer,event,container) {\\n            if(!atom.label) {\\n                atom.label = viewer.addLabel(atom.elem + '(' + atom.index + ')', {position: atom, backgroundColor: 'silver', fontColor:'black'});\\n            }\\n        }\\n        \",\"\\n        function(atom,viewer) { \\n            if(atom.label) {\\n                viewer.removeLabel(atom.label);\\n                delete atom.label;\\n            }\\n        }\\n        \");\n",
       "\tviewer_17295508780057697.zoomTo();\n",
       "\tviewer_17295508780057697.setBackgroundColor(\"white\");\n",
       "viewer_17295508780057697.render();\n",
       "});\n",
       "</script>"
      ]
     },
     "metadata": {},
     "output_type": "display_data"
    },
    {
     "data": {
      "application/3dmoljs_load.v0": "<script>\n            $3Dmolpromise.then(function() { //wrap in promise for non-interactive functionality\n                \n                viewer_17295508780057697.render();\n            });\n            </script>",
      "text/html": [
       "<script>\n",
       "            $3Dmolpromise.then(function() { //wrap in promise for non-interactive functionality\n",
       "                \n",
       "                viewer_17295508780057697.render();\n",
       "            });\n",
       "            </script>"
      ]
     },
     "metadata": {},
     "output_type": "display_data"
    },
    {
     "data": {
      "text/plain": [
       "Molecule(name='410_1_1_Me', formula='C39 H4 Cl2 Cu1 F12 N2 O2')"
      ]
     },
     "execution_count": 46,
     "metadata": {},
     "output_type": "execute_result"
    }
   ],
   "source": [
    "# now we will expand the bridging groups\n",
    "four_positions = ml.CDXMLFile(ml.files.BOX_4_position)\n",
    "\n",
    "c4_keys = [\"407\", \"408\", \"409\", \"410\"]\n",
    "\n",
    "# this will be our exapnded collection\n",
    "fully_expanded_mols = []\n",
    "\n",
    "for core_and_bridge in cores_and_bridge_mols:\n",
    "\n",
    "    # make a molecule for each core + bridging groups\n",
    "    for pos4 in c4_keys:\n",
    "        # get our 4-position fragment\n",
    "        pos4_mol = four_positions[pos4]\n",
    "        # join one 4-position group fragment\n",
    "        expanded = ml.Molecule.join(core_and_bridge, pos4_mol, 'A1', 'AP1')\n",
    "        #join the other\n",
    "        expanded = ml.Molecule.join(expanded, pos4_mol, 'A1', 'AP1', name = '_'.join([ pos4_mol.name, core_and_bridge.name]))\n",
    "        # add to our collection\n",
    "        fully_expanded_mols.append(expanded)\n",
    "\n",
    "print(f'There are now {len(fully_expanded_mols)} molecules created from the first example core.')\n",
    "\n",
    "expanded"
   ]
  },
  {
   "cell_type": "markdown",
   "metadata": {},
   "source": [
    "## Part 2: Adding Hydrogens and Optimization\n",
    "\n",
    "`CDXML` does not natively parse hydrogens, although `molli` has the ability to read these directly."
   ]
  },
  {
   "cell_type": "code",
   "execution_count": 47,
   "metadata": {},
   "outputs": [
    {
     "data": {
      "application/3dmoljs_load.v0": "<div id=\"3dmolviewer_17295508781583483\"  style=\"position: relative; width: 100%; height: 500px;\">\n        <p id=\"3dmolwarning_17295508781583483\" style=\"background-color:#ffcccc;color:black\">You appear to be running in JupyterLab (or JavaScript failed to load for some other reason).  You need to install the 3dmol extension: <br>\n        <tt>jupyter labextension install jupyterlab_3dmol</tt></p>\n        </div>\n<script>\n\nvar loadScriptAsync = function(uri){\n  return new Promise((resolve, reject) => {\n    //this is to ignore the existence of requirejs amd\n    var savedexports, savedmodule;\n    if (typeof exports !== 'undefined') savedexports = exports;\n    else exports = {}\n    if (typeof module !== 'undefined') savedmodule = module;\n    else module = {}\n\n    var tag = document.createElement('script');\n    tag.src = uri;\n    tag.async = true;\n    tag.onload = () => {\n        exports = savedexports;\n        module = savedmodule;\n        resolve();\n    };\n  var firstScriptTag = document.getElementsByTagName('script')[0];\n  firstScriptTag.parentNode.insertBefore(tag, firstScriptTag);\n});\n};\n\nif(typeof $3Dmolpromise === 'undefined') {\n$3Dmolpromise = null;\n  $3Dmolpromise = loadScriptAsync('https://cdnjs.cloudflare.com/ajax/libs/3Dmol/2.0.4/3Dmol-min.js');\n}\n\nvar viewer_17295508781583483 = null;\nvar warn = document.getElementById(\"3dmolwarning_17295508781583483\");\nif(warn) {\n    warn.parentNode.removeChild(warn);\n}\n$3Dmolpromise.then(function() {\nviewer_17295508781583483 = $3Dmol.createViewer(document.getElementById(\"3dmolviewer_17295508781583483\"),{backgroundColor:\"white\"});\nviewer_17295508781583483.zoomTo();\n\tviewer_17295508781583483.addModel(\"@<TRIPOS>MOLECULE\\n410_1_1_Me\\n88 94 0 0 0\\nSMALL\\nNO_CHARGES\\n\\n@<TRIPOS>ATOM\\n1 None -2.3214 2.4267 -3.8975 N\\n2 None -0.8631 2.0781 -3.8975 C\\n3 None -0.0811 3.3587 -3.8975 C\\n4 None -1.0561 4.4976 -3.8975 O\\n5 None -2.4408 3.9226 -3.8975 C\\n6 None -3.7214 4.7031 -3.8975 C\\n7 None -5.0394 3.9851 -3.8975 C\\n8 None -6.3936 4.6309 -3.8975 O\\n9 None -7.4242 3.5406 -3.8975 C\\n10 None -6.7061 2.2226 -3.8975 C\\n11 None -5.2325 2.4976 -3.8975 N\\n12 None -7.0283 1.5455 -5.1963 C\\n13 None -0.5749 1.3858 -2.5985 C\\n14 None -1.6301 0.5403 -1.9490 C\\n15 None -1.3432 -0.1523 -0.6505 C\\n16 None 0.0000 0.0000 0.0000 C\\n17 None 1.0565 0.8457 -0.6491 C\\n18 None 0.7683 1.5381 -1.9480 C\\n19 None -8.3629 1.7649 -5.8463 C\\n20 None -8.6836 1.0868 -7.1457 C\\n21 None -7.6725 0.1905 -7.7949 C\\n22 None -6.3380 -0.0290 -7.1448 C\\n23 None -6.0160 0.6489 -5.8450 C\\n24 None -7.4242 3.5406 -5.3764 H\\n25 None -0.0811 3.3587 -2.4399 H\\n26 None -3.5881 1.1684 -3.8975 Cu\\n27 None -3.5881 1.1684 -2.0307 Cl\\n28 None -4.3976 0.6992 -5.7072 Cl\\n29 None -8.5061 2.4601 -3.8975 H\\n30 None 0.9717 2.3059 -3.8975 H\\n31 None -3.0032 5.2937 -2.7204 C\\n32 None -3.7214 4.7031 -5.3975 C\\n33 None -5.6354 -4.1991 -10.0483 C\\n34 None -6.6762 -3.7043 -11.0080 C\\n35 None -5.3807 -3.4566 -8.7705 C\\n36 None -6.1668 -2.2193 -8.4524 C\\n37 None -7.2076 -1.7245 -9.4121 C\\n38 None -7.4622 -2.4671 -10.6898 C\\n39 None -7.9937 -0.4873 -9.0939 C\\n40 None -8.5037 -1.9724 -11.6507 C\\n41 None -4.8493 -5.4364 -10.3665 C\\n42 None -3.8085 -5.9311 -9.4068 F\\n43 None -5.8846 -6.2720 -9.6745 F\\n44 None -4.5946 -4.6939 -9.0887 F\\n45 None -8.7584 -2.7149 -12.9284 F\\n46 None -9.2898 -0.7351 -11.3325 F\\n47 None -9.5390 -2.8081 -10.9587 F\\n48 None 3.8337 -3.4633 1.3435 C\\n49 None 3.0140 -3.2741 2.5850 C\\n50 None 3.4715 -2.7288 0.0872 C\\n51 None 2.2897 -1.8052 0.0724 C\\n52 None 1.4700 -1.6160 1.3139 C\\n53 None 1.8322 -2.3505 2.5702 C\\n54 None 0.2882 -0.6924 1.2990 C\\n55 None 1.0123 -2.1616 3.8130 C\\n56 None 5.0155 -4.3869 1.3583 C\\n57 None 5.8351 -4.5761 0.1168 F\\n58 None 5.9004 -3.2480 1.7690 F\\n59 None 4.6533 -3.6524 0.1020 F\\n60 None 1.3745 -2.8961 5.0693 F\\n61 None -0.1695 -1.2380 3.7982 F\\n62 None 1.8972 -1.0227 4.2237 F\\n63 None -0.6071 1.4629 -4.7347 H\\n64 None -6.9925 1.6208 -3.0604 H\\n65 None -2.5884 0.4312 -2.4123 H\\n66 None -2.0967 -0.7551 -0.1882 H\\n67 None 2.0149 0.9550 -0.1859 H\\n68 None 1.5214 2.1410 -2.4109 H\\n69 None -9.0853 2.4045 -5.3837 H\\n70 None -9.6349 1.2426 -7.6101 H\\n71 None -5.6161 -0.6687 -7.6080 H\\n72 None -5.0647 0.4931 -5.3807 H\\n73 None -2.8977 4.5509 -1.9576 H\\n74 None -3.5648 6.1204 -2.3381 H\\n75 None -2.0349 5.6312 -3.0260 H\\n76 None -2.7126 4.7031 -5.7542 H\\n77 None -4.2258 5.5768 -5.7542 H\\n78 None -4.2258 3.8295 -5.7542 H\\n79 None -6.8579 -4.2341 -11.9197 H\\n80 None -4.6381 -3.8096 -8.0858 H\\n81 None -5.9851 -1.6895 -7.5407 H\\n82 None -7.8182 0.2183 -9.8790 H\\n83 None -9.0285 -0.7586 -9.0701 H\\n84 None 3.2724 -3.7982 3.4814 H\\n85 None 4.0563 -2.8638 -0.7986 H\\n86 None 2.0313 -1.2812 -0.8240 H\\n87 None -0.5758 -1.2684 1.5573 H\\n88 None 0.4587 0.0630 2.0375 H\\n@<TRIPOS>BOND\\n1 1 2 1\\n2 2 3 1\\n3 3 4 1\\n4 4 5 1\\n5 5 1 2\\n6 5 6 1\\n7 6 7 1\\n8 7 8 1\\n9 8 9 1\\n10 9 10 1\\n11 10 11 1\\n12 11 7 2\\n13 10 12 1\\n14 2 13 1\\n15 13 14 2\\n16 14 15 1\\n17 15 16 2\\n18 16 17 1\\n19 17 18 2\\n20 18 13 1\\n21 12 19 2\\n22 19 20 1\\n23 20 21 2\\n24 21 22 1\\n25 22 23 2\\n26 23 12 1\\n27 9 24 1\\n28 3 25 1\\n29 11 26 1\\n30 26 1 1\\n31 26 27 1\\n32 26 28 1\\n33 9 29 1\\n34 3 30 1\\n35 6 31 1\\n36 6 32 1\\n37 33 34 2\\n38 33 35 1\\n39 35 36 2\\n40 36 37 1\\n41 37 38 2\\n42 38 34 1\\n43 37 39 1\\n44 38 40 1\\n45 33 41 1\\n46 41 42 1\\n47 41 43 1\\n48 41 44 1\\n49 40 45 1\\n50 40 46 1\\n51 40 47 1\\n52 21 39 1\\n53 48 49 2\\n54 48 50 1\\n55 50 51 2\\n56 51 52 1\\n57 52 53 2\\n58 53 49 1\\n59 52 54 1\\n60 53 55 1\\n61 48 56 1\\n62 56 57 1\\n63 56 58 1\\n64 56 59 1\\n65 55 60 1\\n66 55 61 1\\n67 55 62 1\\n68 16 54 1\\n69 2 63 1\\n70 10 64 1\\n71 14 65 1\\n72 15 66 1\\n73 17 67 1\\n74 18 68 1\\n75 19 69 1\\n76 20 70 1\\n77 22 71 1\\n78 23 72 1\\n79 31 73 1\\n80 31 74 1\\n81 31 75 1\\n82 32 76 1\\n83 32 77 1\\n84 32 78 1\\n85 34 79 1\\n86 35 80 1\\n87 36 81 1\\n88 39 82 1\\n89 39 83 1\\n90 49 84 1\\n91 50 85 1\\n92 51 86 1\\n93 54 87 1\\n94 54 88 1\\n\\n\",\"mol2\");\n\tviewer_17295508781583483.setStyle({\"stick\": {\"radius\": 0.1}, \"sphere\": {\"scale\": 0.15}});\n\tviewer_17295508781583483.setHoverable({},true,\"\\n        function(atom,viewer,event,container) {\\n            if(!atom.label) {\\n                atom.label = viewer.addLabel(atom.elem + '(' + atom.index + ')', {position: atom, backgroundColor: 'silver', fontColor:'black'});\\n            }\\n        }\\n        \",\"\\n        function(atom,viewer) { \\n            if(atom.label) {\\n                viewer.removeLabel(atom.label);\\n                delete atom.label;\\n            }\\n        }\\n        \");\n\tviewer_17295508781583483.zoomTo();\n\tviewer_17295508781583483.setBackgroundColor(\"white\");\nviewer_17295508781583483.render();\n});\n</script>",
      "text/html": [
       "<div id=\"3dmolviewer_17295508781583483\"  style=\"position: relative; width: 100%; height: 500px;\">\n",
       "        <p id=\"3dmolwarning_17295508781583483\" style=\"background-color:#ffcccc;color:black\">You appear to be running in JupyterLab (or JavaScript failed to load for some other reason).  You need to install the 3dmol extension: <br>\n",
       "        <tt>jupyter labextension install jupyterlab_3dmol</tt></p>\n",
       "        </div>\n",
       "<script>\n",
       "\n",
       "var loadScriptAsync = function(uri){\n",
       "  return new Promise((resolve, reject) => {\n",
       "    //this is to ignore the existence of requirejs amd\n",
       "    var savedexports, savedmodule;\n",
       "    if (typeof exports !== 'undefined') savedexports = exports;\n",
       "    else exports = {}\n",
       "    if (typeof module !== 'undefined') savedmodule = module;\n",
       "    else module = {}\n",
       "\n",
       "    var tag = document.createElement('script');\n",
       "    tag.src = uri;\n",
       "    tag.async = true;\n",
       "    tag.onload = () => {\n",
       "        exports = savedexports;\n",
       "        module = savedmodule;\n",
       "        resolve();\n",
       "    };\n",
       "  var firstScriptTag = document.getElementsByTagName('script')[0];\n",
       "  firstScriptTag.parentNode.insertBefore(tag, firstScriptTag);\n",
       "});\n",
       "};\n",
       "\n",
       "if(typeof $3Dmolpromise === 'undefined') {\n",
       "$3Dmolpromise = null;\n",
       "  $3Dmolpromise = loadScriptAsync('https://cdnjs.cloudflare.com/ajax/libs/3Dmol/2.0.4/3Dmol-min.js');\n",
       "}\n",
       "\n",
       "var viewer_17295508781583483 = null;\n",
       "var warn = document.getElementById(\"3dmolwarning_17295508781583483\");\n",
       "if(warn) {\n",
       "    warn.parentNode.removeChild(warn);\n",
       "}\n",
       "$3Dmolpromise.then(function() {\n",
       "viewer_17295508781583483 = $3Dmol.createViewer(document.getElementById(\"3dmolviewer_17295508781583483\"),{backgroundColor:\"white\"});\n",
       "viewer_17295508781583483.zoomTo();\n",
       "\tviewer_17295508781583483.addModel(\"@<TRIPOS>MOLECULE\\n410_1_1_Me\\n88 94 0 0 0\\nSMALL\\nNO_CHARGES\\n\\n@<TRIPOS>ATOM\\n1 None -2.3214 2.4267 -3.8975 N\\n2 None -0.8631 2.0781 -3.8975 C\\n3 None -0.0811 3.3587 -3.8975 C\\n4 None -1.0561 4.4976 -3.8975 O\\n5 None -2.4408 3.9226 -3.8975 C\\n6 None -3.7214 4.7031 -3.8975 C\\n7 None -5.0394 3.9851 -3.8975 C\\n8 None -6.3936 4.6309 -3.8975 O\\n9 None -7.4242 3.5406 -3.8975 C\\n10 None -6.7061 2.2226 -3.8975 C\\n11 None -5.2325 2.4976 -3.8975 N\\n12 None -7.0283 1.5455 -5.1963 C\\n13 None -0.5749 1.3858 -2.5985 C\\n14 None -1.6301 0.5403 -1.9490 C\\n15 None -1.3432 -0.1523 -0.6505 C\\n16 None 0.0000 0.0000 0.0000 C\\n17 None 1.0565 0.8457 -0.6491 C\\n18 None 0.7683 1.5381 -1.9480 C\\n19 None -8.3629 1.7649 -5.8463 C\\n20 None -8.6836 1.0868 -7.1457 C\\n21 None -7.6725 0.1905 -7.7949 C\\n22 None -6.3380 -0.0290 -7.1448 C\\n23 None -6.0160 0.6489 -5.8450 C\\n24 None -7.4242 3.5406 -5.3764 H\\n25 None -0.0811 3.3587 -2.4399 H\\n26 None -3.5881 1.1684 -3.8975 Cu\\n27 None -3.5881 1.1684 -2.0307 Cl\\n28 None -4.3976 0.6992 -5.7072 Cl\\n29 None -8.5061 2.4601 -3.8975 H\\n30 None 0.9717 2.3059 -3.8975 H\\n31 None -3.0032 5.2937 -2.7204 C\\n32 None -3.7214 4.7031 -5.3975 C\\n33 None -5.6354 -4.1991 -10.0483 C\\n34 None -6.6762 -3.7043 -11.0080 C\\n35 None -5.3807 -3.4566 -8.7705 C\\n36 None -6.1668 -2.2193 -8.4524 C\\n37 None -7.2076 -1.7245 -9.4121 C\\n38 None -7.4622 -2.4671 -10.6898 C\\n39 None -7.9937 -0.4873 -9.0939 C\\n40 None -8.5037 -1.9724 -11.6507 C\\n41 None -4.8493 -5.4364 -10.3665 C\\n42 None -3.8085 -5.9311 -9.4068 F\\n43 None -5.8846 -6.2720 -9.6745 F\\n44 None -4.5946 -4.6939 -9.0887 F\\n45 None -8.7584 -2.7149 -12.9284 F\\n46 None -9.2898 -0.7351 -11.3325 F\\n47 None -9.5390 -2.8081 -10.9587 F\\n48 None 3.8337 -3.4633 1.3435 C\\n49 None 3.0140 -3.2741 2.5850 C\\n50 None 3.4715 -2.7288 0.0872 C\\n51 None 2.2897 -1.8052 0.0724 C\\n52 None 1.4700 -1.6160 1.3139 C\\n53 None 1.8322 -2.3505 2.5702 C\\n54 None 0.2882 -0.6924 1.2990 C\\n55 None 1.0123 -2.1616 3.8130 C\\n56 None 5.0155 -4.3869 1.3583 C\\n57 None 5.8351 -4.5761 0.1168 F\\n58 None 5.9004 -3.2480 1.7690 F\\n59 None 4.6533 -3.6524 0.1020 F\\n60 None 1.3745 -2.8961 5.0693 F\\n61 None -0.1695 -1.2380 3.7982 F\\n62 None 1.8972 -1.0227 4.2237 F\\n63 None -0.6071 1.4629 -4.7347 H\\n64 None -6.9925 1.6208 -3.0604 H\\n65 None -2.5884 0.4312 -2.4123 H\\n66 None -2.0967 -0.7551 -0.1882 H\\n67 None 2.0149 0.9550 -0.1859 H\\n68 None 1.5214 2.1410 -2.4109 H\\n69 None -9.0853 2.4045 -5.3837 H\\n70 None -9.6349 1.2426 -7.6101 H\\n71 None -5.6161 -0.6687 -7.6080 H\\n72 None -5.0647 0.4931 -5.3807 H\\n73 None -2.8977 4.5509 -1.9576 H\\n74 None -3.5648 6.1204 -2.3381 H\\n75 None -2.0349 5.6312 -3.0260 H\\n76 None -2.7126 4.7031 -5.7542 H\\n77 None -4.2258 5.5768 -5.7542 H\\n78 None -4.2258 3.8295 -5.7542 H\\n79 None -6.8579 -4.2341 -11.9197 H\\n80 None -4.6381 -3.8096 -8.0858 H\\n81 None -5.9851 -1.6895 -7.5407 H\\n82 None -7.8182 0.2183 -9.8790 H\\n83 None -9.0285 -0.7586 -9.0701 H\\n84 None 3.2724 -3.7982 3.4814 H\\n85 None 4.0563 -2.8638 -0.7986 H\\n86 None 2.0313 -1.2812 -0.8240 H\\n87 None -0.5758 -1.2684 1.5573 H\\n88 None 0.4587 0.0630 2.0375 H\\n@<TRIPOS>BOND\\n1 1 2 1\\n2 2 3 1\\n3 3 4 1\\n4 4 5 1\\n5 5 1 2\\n6 5 6 1\\n7 6 7 1\\n8 7 8 1\\n9 8 9 1\\n10 9 10 1\\n11 10 11 1\\n12 11 7 2\\n13 10 12 1\\n14 2 13 1\\n15 13 14 2\\n16 14 15 1\\n17 15 16 2\\n18 16 17 1\\n19 17 18 2\\n20 18 13 1\\n21 12 19 2\\n22 19 20 1\\n23 20 21 2\\n24 21 22 1\\n25 22 23 2\\n26 23 12 1\\n27 9 24 1\\n28 3 25 1\\n29 11 26 1\\n30 26 1 1\\n31 26 27 1\\n32 26 28 1\\n33 9 29 1\\n34 3 30 1\\n35 6 31 1\\n36 6 32 1\\n37 33 34 2\\n38 33 35 1\\n39 35 36 2\\n40 36 37 1\\n41 37 38 2\\n42 38 34 1\\n43 37 39 1\\n44 38 40 1\\n45 33 41 1\\n46 41 42 1\\n47 41 43 1\\n48 41 44 1\\n49 40 45 1\\n50 40 46 1\\n51 40 47 1\\n52 21 39 1\\n53 48 49 2\\n54 48 50 1\\n55 50 51 2\\n56 51 52 1\\n57 52 53 2\\n58 53 49 1\\n59 52 54 1\\n60 53 55 1\\n61 48 56 1\\n62 56 57 1\\n63 56 58 1\\n64 56 59 1\\n65 55 60 1\\n66 55 61 1\\n67 55 62 1\\n68 16 54 1\\n69 2 63 1\\n70 10 64 1\\n71 14 65 1\\n72 15 66 1\\n73 17 67 1\\n74 18 68 1\\n75 19 69 1\\n76 20 70 1\\n77 22 71 1\\n78 23 72 1\\n79 31 73 1\\n80 31 74 1\\n81 31 75 1\\n82 32 76 1\\n83 32 77 1\\n84 32 78 1\\n85 34 79 1\\n86 35 80 1\\n87 36 81 1\\n88 39 82 1\\n89 39 83 1\\n90 49 84 1\\n91 50 85 1\\n92 51 86 1\\n93 54 87 1\\n94 54 88 1\\n\\n\",\"mol2\");\n",
       "\tviewer_17295508781583483.setStyle({\"stick\": {\"radius\": 0.1}, \"sphere\": {\"scale\": 0.15}});\n",
       "\tviewer_17295508781583483.setHoverable({},true,\"\\n        function(atom,viewer,event,container) {\\n            if(!atom.label) {\\n                atom.label = viewer.addLabel(atom.elem + '(' + atom.index + ')', {position: atom, backgroundColor: 'silver', fontColor:'black'});\\n            }\\n        }\\n        \",\"\\n        function(atom,viewer) { \\n            if(atom.label) {\\n                viewer.removeLabel(atom.label);\\n                delete atom.label;\\n            }\\n        }\\n        \");\n",
       "\tviewer_17295508781583483.zoomTo();\n",
       "\tviewer_17295508781583483.setBackgroundColor(\"white\");\n",
       "viewer_17295508781583483.render();\n",
       "});\n",
       "</script>"
      ]
     },
     "metadata": {},
     "output_type": "display_data"
    },
    {
     "data": {
      "application/3dmoljs_load.v0": "<script>\n            $3Dmolpromise.then(function() { //wrap in promise for non-interactive functionality\n                \n                viewer_17295508781583483.render();\n            });\n            </script>",
      "text/html": [
       "<script>\n",
       "            $3Dmolpromise.then(function() { //wrap in promise for non-interactive functionality\n",
       "                \n",
       "                viewer_17295508781583483.render();\n",
       "            });\n",
       "            </script>"
      ]
     },
     "metadata": {},
     "output_type": "display_data"
    },
    {
     "data": {
      "text/plain": [
       "Molecule(name='410_1_1_Me', formula='C39 H30 Cl2 Cu1 F12 N2 O2')"
      ]
     },
     "execution_count": 47,
     "metadata": {},
     "output_type": "execute_result"
    }
   ],
   "source": [
    "# finally, we'll do an optimization with XTB gfn2 to clean up our geometries a bit\n",
    "\n",
    "for mol in fully_expanded_mols:\n",
    "    mol.add_implicit_hydrogens()\n",
    "\n",
    "mol"
   ]
  },
  {
   "cell_type": "markdown",
   "metadata": {},
   "source": [
    "### Example 1: Parallel Openbabel Optimization \n",
    "\n",
    "Example of optimization using the built in functionality with `openbabel` optimization"
   ]
  },
  {
   "cell_type": "code",
   "execution_count": 54,
   "metadata": {},
   "outputs": [
    {
     "name": "stdout",
     "output_type": "stream",
     "text": [
      "[Parallel(n_jobs=32)]: Using backend ThreadingBackend with 32 concurrent workers.\n",
      "[Parallel(n_jobs=32)]: Done   1 tasks      | elapsed:    1.0s\n",
      "[Parallel(n_jobs=32)]: Done   2 out of  12 | elapsed:    1.8s remaining:    9.1s\n",
      "[Parallel(n_jobs=32)]: Done   3 out of  12 | elapsed:    2.7s remaining:    8.1s\n",
      "[Parallel(n_jobs=32)]: Done   4 out of  12 | elapsed:    3.7s remaining:    7.4s\n",
      "[Parallel(n_jobs=32)]: Done   5 out of  12 | elapsed:    4.6s remaining:    6.5s\n",
      "[Parallel(n_jobs=32)]: Done   6 out of  12 | elapsed:    5.6s remaining:    5.6s\n",
      "[Parallel(n_jobs=32)]: Done   7 out of  12 | elapsed:    7.1s remaining:    5.1s\n",
      "[Parallel(n_jobs=32)]: Done   8 out of  12 | elapsed:    9.9s remaining:    5.0s\n",
      "[Parallel(n_jobs=32)]: Done   9 out of  12 | elapsed:    9.9s remaining:    3.3s\n",
      "[Parallel(n_jobs=32)]: Done  10 out of  12 | elapsed:   11.4s remaining:    2.3s\n",
      "[Parallel(n_jobs=32)]: Done  12 out of  12 | elapsed:   15.2s finished\n"
     ]
    },
    {
     "data": {
      "application/3dmoljs_load.v0": "<div id=\"3dmolviewer_17295512967711878\"  style=\"position: relative; width: 100%; height: 500px;\">\n        <p id=\"3dmolwarning_17295512967711878\" style=\"background-color:#ffcccc;color:black\">You appear to be running in JupyterLab (or JavaScript failed to load for some other reason).  You need to install the 3dmol extension: <br>\n        <tt>jupyter labextension install jupyterlab_3dmol</tt></p>\n        </div>\n<script>\n\nvar loadScriptAsync = function(uri){\n  return new Promise((resolve, reject) => {\n    //this is to ignore the existence of requirejs amd\n    var savedexports, savedmodule;\n    if (typeof exports !== 'undefined') savedexports = exports;\n    else exports = {}\n    if (typeof module !== 'undefined') savedmodule = module;\n    else module = {}\n\n    var tag = document.createElement('script');\n    tag.src = uri;\n    tag.async = true;\n    tag.onload = () => {\n        exports = savedexports;\n        module = savedmodule;\n        resolve();\n    };\n  var firstScriptTag = document.getElementsByTagName('script')[0];\n  firstScriptTag.parentNode.insertBefore(tag, firstScriptTag);\n});\n};\n\nif(typeof $3Dmolpromise === 'undefined') {\n$3Dmolpromise = null;\n  $3Dmolpromise = loadScriptAsync('https://cdnjs.cloudflare.com/ajax/libs/3Dmol/2.0.4/3Dmol-min.js');\n}\n\nvar viewer_17295512967711878 = null;\nvar warn = document.getElementById(\"3dmolwarning_17295512967711878\");\nif(warn) {\n    warn.parentNode.removeChild(warn);\n}\n$3Dmolpromise.then(function() {\nviewer_17295512967711878 = $3Dmol.createViewer(document.getElementById(\"3dmolviewer_17295512967711878\"),{backgroundColor:\"white\"});\nviewer_17295512967711878.zoomTo();\n\tviewer_17295512967711878.addModel(\"@<TRIPOS>MOLECULE\\n408_1_1_MeTol\\n150 158 0 0 0\\nSMALL\\nNO_CHARGES\\n\\n@<TRIPOS>ATOM\\n1 None -1.8666 2.9336 -3.4311 N\\n2 None -0.4412 2.5964 -3.0616 C\\n3 None 0.2951 3.9372 -3.1622 C\\n4 None -0.5983 4.7279 -3.9418 O\\n5 None -1.8810 4.2415 -3.9459 C\\n6 None -3.0010 5.0479 -3.5023 C\\n7 None -4.0720 4.1621 -3.0878 C\\n8 None -5.3301 4.6334 -2.8278 O\\n9 None -6.3023 3.8922 -3.5526 C\\n10 None -5.5880 2.5557 -3.8426 C\\n11 None -4.1174 2.8990 -3.6938 N\\n12 None -6.1609 1.8912 -5.1271 C\\n13 None -0.1075 1.8807 -1.7370 C\\n14 None -1.0368 1.1631 -0.9707 C\\n15 None -0.6384 0.4701 0.1739 C\\n16 None 0.6943 0.4887 0.5890 C\\n17 None 1.6196 1.2166 -0.1538 C\\n18 None 1.2260 1.8880 -1.3064 C\\n19 None -7.4761 2.1785 -5.5347 C\\n20 None -8.0713 1.5228 -6.6107 C\\n21 None -7.3794 0.5430 -7.3171 C\\n22 None -6.0634 0.2699 -6.9496 C\\n23 None -5.4813 0.9049 -5.8573 C\\n24 None -6.5055 4.4375 -4.4790 H\\n25 None 0.4013 4.4047 -2.1797 H\\n26 None -2.9806 2.6204 -3.6108 Cu\\n27 None -2.9318 1.5168 -3.7804 Cl\\n28 None -2.9301 1.5177 -3.7850 Cl\\n29 None -7.2139 3.7681 -2.9618 H\\n30 None 1.2626 3.8441 -3.6627 H\\n31 None -3.4726 8.3384 -2.7787 C\\n32 None -2.5877 7.4359 -2.1735 C\\n33 None -1.5851 7.9575 -1.3468 C\\n34 None -1.4215 9.3305 -1.1864 C\\n35 None -2.2504 10.2191 -1.8662 C\\n36 None -3.2811 9.7145 -2.6573 C\\n37 None -2.7106 5.9044 -2.2388 C\\n38 None -2.0523 11.7176 -1.7222 C\\n39 None -1.4039 7.3943 -5.0849 C\\n40 None -2.5145 6.7033 -5.5874 C\\n41 None -2.8393 6.8881 -6.9367 C\\n42 None -2.1243 7.7769 -7.7382 C\\n43 None -1.0720 8.5163 -7.2022 C\\n44 None -0.7052 8.3051 -5.8751 C\\n45 None -3.4601 5.8194 -4.7466 C\\n46 None -0.3564 9.5602 -8.0427 C\\n47 None -7.7343 -1.6784 -8.6281 C\\n48 None -7.3022 -2.4658 -7.5580 C\\n49 None -6.8231 -3.7643 -7.7682 C\\n50 None -6.9059 -4.2960 -9.0606 C\\n51 None -7.4384 -3.5700 -10.1325 C\\n52 None -7.8218 -2.2440 -9.8990 C\\n53 None -8.0665 -0.1925 -8.4677 C\\n54 None -6.0710 -4.5505 -6.6711 C\\n55 None -7.4669 -4.1931 -11.5455 C\\n56 None -7.9785 -5.6597 -11.5119 C\\n57 None -8.3904 -3.4306 -12.5347 C\\n58 None -6.0313 -4.1780 -12.1221 C\\n59 None -6.5969 -6.0043 -6.5382 C\\n60 None -6.1675 -3.9068 -5.2610 C\\n61 None -4.5703 -4.5937 -7.0549 C\\n62 None 1.0200 -1.7543 1.8612 C\\n63 None 0.7450 -2.4971 0.7105 C\\n64 None 0.5527 -3.8839 0.7761 C\\n65 None 0.6611 -4.5059 2.0275 C\\n66 None 0.9866 -3.7951 3.1893 C\\n67 None 1.1567 -2.4105 3.0822 C\\n68 None 1.1377 -0.2308 1.8578 C\\n69 None 0.0891 -4.6940 -0.4573 C\\n70 None 1.0152 -4.5118 4.5586 C\\n71 None 1.7056 -5.9017 4.4795 C\\n72 None 1.7734 -3.7126 5.6546 C\\n73 None -0.4441 -4.7081 5.0328 C\\n74 None 0.6715 -6.1354 -0.4785 C\\n75 None 0.4974 -4.0411 -1.8067 C\\n76 None -1.4545 -4.7895 -0.4156 C\\n77 None -0.0600 1.9682 -3.8722 H\\n78 None -5.8246 1.8918 -3.0058 H\\n79 None -2.0823 1.1177 -1.2466 H\\n80 None -1.3746 -0.0944 0.7414 H\\n81 None 2.6597 1.2628 0.1602 H\\n82 None 1.9851 2.4224 -1.8712 H\\n83 None -8.0865 2.9033 -5.0044 H\\n84 None -9.0924 1.7742 -6.8877 H\\n85 None -5.4875 -0.4817 -7.4834 H\\n86 None -4.4956 0.5672 -5.5932 H\\n87 None -4.3257 7.9997 -3.3483 H\\n88 None -0.9265 7.2887 -0.7975 H\\n89 None -0.6422 9.7040 -0.5262 H\\n90 None -3.9531 10.3966 -3.1728 H\\n91 None -1.7919 5.5070 -1.8024 H\\n92 None -3.4398 5.6795 -1.4555 H\\n93 None -1.0435 11.9462 -1.3702 H\\n94 None -2.7672 12.1293 -1.0065 H\\n95 None -2.1959 12.2184 -2.6823 H\\n96 None -1.0646 7.2544 -4.0697 H\\n97 None -3.6793 6.3519 -7.3720 H\\n98 None -2.4110 7.9130 -8.7785 H\\n99 None 0.1207 8.8649 -5.4424 H\\n100 None -4.3730 6.3746 -4.5485 H\\n101 None -3.8110 5.0578 -5.4504 H\\n102 None 0.6629 9.7222 -7.6847 H\\n103 None -0.8910 10.5118 -7.9906 H\\n104 None -0.3060 9.2530 -9.0896 H\\n105 None -7.2732 -2.0245 -6.5683 H\\n106 None -6.5031 -5.2856 -9.2448 H\\n107 None -8.1704 -1.6145 -10.7111 H\\n108 None -7.7927 0.3269 -9.3897 H\\n109 None -9.1498 -0.0921 -8.3713 H\\n110 None -7.2926 -6.3203 -10.9787 H\\n111 None -8.0814 -6.0603 -12.5237 H\\n112 None -8.9557 -5.7163 -11.0262 H\\n113 None -8.4358 -3.9424 -13.4994 H\\n114 None -8.0239 -2.4203 -12.7288 H\\n115 None -9.4085 -3.3635 -12.1427 H\\n116 None -5.3494 -4.7467 -11.4853 H\\n117 None -5.6554 -3.1538 -12.1863 H\\n118 None -6.0044 -4.6148 -13.1232 H\\n119 None -6.0398 -6.5468 -5.7697 H\\n120 None -6.4890 -6.5654 -7.4679 H\\n121 None -7.6524 -6.0095 -6.2568 H\\n122 None -5.6405 -4.5130 -4.5197 H\\n123 None -7.2090 -3.8199 -4.9419 H\\n124 None -5.7135 -2.9128 -5.2463 H\\n125 None -3.9795 -5.1018 -6.2893 H\\n126 None -4.1772 -3.5800 -7.1701 H\\n127 None -4.4192 -5.1201 -8.0003 H\\n128 None 0.6400 -1.9762 -0.2337 H\\n129 None 0.4437 -5.5630 2.1103 H\\n130 None 1.3636 -1.8059 3.9591 H\\n131 None 0.5427 0.1615 2.6863 H\\n132 None 2.1742 0.0318 2.0830 H\\n133 None 2.7176 -5.8088 4.0782 H\\n134 None 1.1498 -6.6017 3.8537 H\\n135 None 1.7775 -6.3564 5.4711 H\\n136 None 2.7930 -3.4845 5.3338 H\\n137 None 1.8345 -4.2854 6.5835 H\\n138 None 1.2653 -2.7763 5.8946 H\\n139 None -1.0086 -5.3076 4.3144 H\\n140 None -0.9470 -3.7428 5.1326 H\\n141 None -0.4805 -5.2134 6.0008 H\\n142 None 1.7618 -6.1145 -0.4118 H\\n143 None 0.4007 -6.6513 -1.4035 H\\n144 None 0.2866 -6.7458 0.3403 H\\n145 None 1.5767 -3.8746 -1.8462 H\\n146 None -0.0096 -3.0870 -1.9644 H\\n147 None 0.2257 -4.6835 -2.6484 H\\n148 None -1.8397 -5.3475 -1.2723 H\\n149 None -1.9010 -3.7919 -0.4289 H\\n150 None -1.7864 -5.2930 0.4959 H\\n@<TRIPOS>BOND\\n1 1 2 1\\n2 2 3 1\\n3 3 4 1\\n4 4 5 1\\n5 5 1 2\\n6 5 6 1\\n7 6 7 1\\n8 7 8 1\\n9 8 9 1\\n10 9 10 1\\n11 10 11 1\\n12 11 7 2\\n13 10 12 1\\n14 2 13 1\\n15 13 14 2\\n16 14 15 1\\n17 15 16 2\\n18 16 17 1\\n19 17 18 2\\n20 18 13 1\\n21 12 19 2\\n22 19 20 1\\n23 20 21 2\\n24 21 22 1\\n25 22 23 2\\n26 23 12 1\\n27 9 24 1\\n28 3 25 1\\n29 11 26 1\\n30 26 1 1\\n31 26 27 1\\n32 26 28 1\\n33 9 29 1\\n34 3 30 1\\n35 31 32 2\\n36 32 33 1\\n37 33 34 2\\n38 34 35 1\\n39 35 36 2\\n40 36 31 1\\n41 32 37 1\\n42 35 38 1\\n43 6 37 1\\n44 39 40 2\\n45 40 41 1\\n46 41 42 2\\n47 42 43 1\\n48 43 44 2\\n49 44 39 1\\n50 40 45 1\\n51 43 46 1\\n52 6 45 1\\n53 47 48 2\\n54 48 49 1\\n55 49 50 2\\n56 50 51 1\\n57 51 52 2\\n58 52 47 1\\n59 47 53 1\\n60 49 54 1\\n61 51 55 1\\n62 55 56 1\\n63 55 57 1\\n64 55 58 1\\n65 54 59 1\\n66 54 60 1\\n67 54 61 1\\n68 21 53 1\\n69 62 63 2\\n70 63 64 1\\n71 64 65 2\\n72 65 66 1\\n73 66 67 2\\n74 67 62 1\\n75 62 68 1\\n76 64 69 1\\n77 66 70 1\\n78 70 71 1\\n79 70 72 1\\n80 70 73 1\\n81 69 74 1\\n82 69 75 1\\n83 69 76 1\\n84 16 68 1\\n85 2 77 1\\n86 10 78 1\\n87 14 79 1\\n88 15 80 1\\n89 17 81 1\\n90 18 82 1\\n91 19 83 1\\n92 20 84 1\\n93 22 85 1\\n94 23 86 1\\n95 31 87 1\\n96 33 88 1\\n97 34 89 1\\n98 36 90 1\\n99 37 91 1\\n100 37 92 1\\n101 38 93 1\\n102 38 94 1\\n103 38 95 1\\n104 39 96 1\\n105 41 97 1\\n106 42 98 1\\n107 44 99 1\\n108 45 100 1\\n109 45 101 1\\n110 46 102 1\\n111 46 103 1\\n112 46 104 1\\n113 48 105 1\\n114 50 106 1\\n115 52 107 1\\n116 53 108 1\\n117 53 109 1\\n118 56 110 1\\n119 56 111 1\\n120 56 112 1\\n121 57 113 1\\n122 57 114 1\\n123 57 115 1\\n124 58 116 1\\n125 58 117 1\\n126 58 118 1\\n127 59 119 1\\n128 59 120 1\\n129 59 121 1\\n130 60 122 1\\n131 60 123 1\\n132 60 124 1\\n133 61 125 1\\n134 61 126 1\\n135 61 127 1\\n136 63 128 1\\n137 65 129 1\\n138 67 130 1\\n139 68 131 1\\n140 68 132 1\\n141 71 133 1\\n142 71 134 1\\n143 71 135 1\\n144 72 136 1\\n145 72 137 1\\n146 72 138 1\\n147 73 139 1\\n148 73 140 1\\n149 73 141 1\\n150 74 142 1\\n151 74 143 1\\n152 74 144 1\\n153 75 145 1\\n154 75 146 1\\n155 75 147 1\\n156 76 148 1\\n157 76 149 1\\n158 76 150 1\\n\\n\",\"mol2\");\n\tviewer_17295512967711878.setStyle({\"stick\": {\"radius\": 0.1}, \"sphere\": {\"scale\": 0.15}});\n\tviewer_17295512967711878.setHoverable({},true,\"\\n        function(atom,viewer,event,container) {\\n            if(!atom.label) {\\n                atom.label = viewer.addLabel(atom.elem + '(' + atom.index + ')', {position: atom, backgroundColor: 'silver', fontColor:'black'});\\n            }\\n        }\\n        \",\"\\n        function(atom,viewer) { \\n            if(atom.label) {\\n                viewer.removeLabel(atom.label);\\n                delete atom.label;\\n            }\\n        }\\n        \");\n\tviewer_17295512967711878.zoomTo();\n\tviewer_17295512967711878.setBackgroundColor(\"white\");\nviewer_17295512967711878.render();\n});\n</script>",
      "text/html": [
       "<div id=\"3dmolviewer_17295512967711878\"  style=\"position: relative; width: 100%; height: 500px;\">\n",
       "        <p id=\"3dmolwarning_17295512967711878\" style=\"background-color:#ffcccc;color:black\">You appear to be running in JupyterLab (or JavaScript failed to load for some other reason).  You need to install the 3dmol extension: <br>\n",
       "        <tt>jupyter labextension install jupyterlab_3dmol</tt></p>\n",
       "        </div>\n",
       "<script>\n",
       "\n",
       "var loadScriptAsync = function(uri){\n",
       "  return new Promise((resolve, reject) => {\n",
       "    //this is to ignore the existence of requirejs amd\n",
       "    var savedexports, savedmodule;\n",
       "    if (typeof exports !== 'undefined') savedexports = exports;\n",
       "    else exports = {}\n",
       "    if (typeof module !== 'undefined') savedmodule = module;\n",
       "    else module = {}\n",
       "\n",
       "    var tag = document.createElement('script');\n",
       "    tag.src = uri;\n",
       "    tag.async = true;\n",
       "    tag.onload = () => {\n",
       "        exports = savedexports;\n",
       "        module = savedmodule;\n",
       "        resolve();\n",
       "    };\n",
       "  var firstScriptTag = document.getElementsByTagName('script')[0];\n",
       "  firstScriptTag.parentNode.insertBefore(tag, firstScriptTag);\n",
       "});\n",
       "};\n",
       "\n",
       "if(typeof $3Dmolpromise === 'undefined') {\n",
       "$3Dmolpromise = null;\n",
       "  $3Dmolpromise = loadScriptAsync('https://cdnjs.cloudflare.com/ajax/libs/3Dmol/2.0.4/3Dmol-min.js');\n",
       "}\n",
       "\n",
       "var viewer_17295512967711878 = null;\n",
       "var warn = document.getElementById(\"3dmolwarning_17295512967711878\");\n",
       "if(warn) {\n",
       "    warn.parentNode.removeChild(warn);\n",
       "}\n",
       "$3Dmolpromise.then(function() {\n",
       "viewer_17295512967711878 = $3Dmol.createViewer(document.getElementById(\"3dmolviewer_17295512967711878\"),{backgroundColor:\"white\"});\n",
       "viewer_17295512967711878.zoomTo();\n",
       "\tviewer_17295512967711878.addModel(\"@<TRIPOS>MOLECULE\\n408_1_1_MeTol\\n150 158 0 0 0\\nSMALL\\nNO_CHARGES\\n\\n@<TRIPOS>ATOM\\n1 None -1.8666 2.9336 -3.4311 N\\n2 None -0.4412 2.5964 -3.0616 C\\n3 None 0.2951 3.9372 -3.1622 C\\n4 None -0.5983 4.7279 -3.9418 O\\n5 None -1.8810 4.2415 -3.9459 C\\n6 None -3.0010 5.0479 -3.5023 C\\n7 None -4.0720 4.1621 -3.0878 C\\n8 None -5.3301 4.6334 -2.8278 O\\n9 None -6.3023 3.8922 -3.5526 C\\n10 None -5.5880 2.5557 -3.8426 C\\n11 None -4.1174 2.8990 -3.6938 N\\n12 None -6.1609 1.8912 -5.1271 C\\n13 None -0.1075 1.8807 -1.7370 C\\n14 None -1.0368 1.1631 -0.9707 C\\n15 None -0.6384 0.4701 0.1739 C\\n16 None 0.6943 0.4887 0.5890 C\\n17 None 1.6196 1.2166 -0.1538 C\\n18 None 1.2260 1.8880 -1.3064 C\\n19 None -7.4761 2.1785 -5.5347 C\\n20 None -8.0713 1.5228 -6.6107 C\\n21 None -7.3794 0.5430 -7.3171 C\\n22 None -6.0634 0.2699 -6.9496 C\\n23 None -5.4813 0.9049 -5.8573 C\\n24 None -6.5055 4.4375 -4.4790 H\\n25 None 0.4013 4.4047 -2.1797 H\\n26 None -2.9806 2.6204 -3.6108 Cu\\n27 None -2.9318 1.5168 -3.7804 Cl\\n28 None -2.9301 1.5177 -3.7850 Cl\\n29 None -7.2139 3.7681 -2.9618 H\\n30 None 1.2626 3.8441 -3.6627 H\\n31 None -3.4726 8.3384 -2.7787 C\\n32 None -2.5877 7.4359 -2.1735 C\\n33 None -1.5851 7.9575 -1.3468 C\\n34 None -1.4215 9.3305 -1.1864 C\\n35 None -2.2504 10.2191 -1.8662 C\\n36 None -3.2811 9.7145 -2.6573 C\\n37 None -2.7106 5.9044 -2.2388 C\\n38 None -2.0523 11.7176 -1.7222 C\\n39 None -1.4039 7.3943 -5.0849 C\\n40 None -2.5145 6.7033 -5.5874 C\\n41 None -2.8393 6.8881 -6.9367 C\\n42 None -2.1243 7.7769 -7.7382 C\\n43 None -1.0720 8.5163 -7.2022 C\\n44 None -0.7052 8.3051 -5.8751 C\\n45 None -3.4601 5.8194 -4.7466 C\\n46 None -0.3564 9.5602 -8.0427 C\\n47 None -7.7343 -1.6784 -8.6281 C\\n48 None -7.3022 -2.4658 -7.5580 C\\n49 None -6.8231 -3.7643 -7.7682 C\\n50 None -6.9059 -4.2960 -9.0606 C\\n51 None -7.4384 -3.5700 -10.1325 C\\n52 None -7.8218 -2.2440 -9.8990 C\\n53 None -8.0665 -0.1925 -8.4677 C\\n54 None -6.0710 -4.5505 -6.6711 C\\n55 None -7.4669 -4.1931 -11.5455 C\\n56 None -7.9785 -5.6597 -11.5119 C\\n57 None -8.3904 -3.4306 -12.5347 C\\n58 None -6.0313 -4.1780 -12.1221 C\\n59 None -6.5969 -6.0043 -6.5382 C\\n60 None -6.1675 -3.9068 -5.2610 C\\n61 None -4.5703 -4.5937 -7.0549 C\\n62 None 1.0200 -1.7543 1.8612 C\\n63 None 0.7450 -2.4971 0.7105 C\\n64 None 0.5527 -3.8839 0.7761 C\\n65 None 0.6611 -4.5059 2.0275 C\\n66 None 0.9866 -3.7951 3.1893 C\\n67 None 1.1567 -2.4105 3.0822 C\\n68 None 1.1377 -0.2308 1.8578 C\\n69 None 0.0891 -4.6940 -0.4573 C\\n70 None 1.0152 -4.5118 4.5586 C\\n71 None 1.7056 -5.9017 4.4795 C\\n72 None 1.7734 -3.7126 5.6546 C\\n73 None -0.4441 -4.7081 5.0328 C\\n74 None 0.6715 -6.1354 -0.4785 C\\n75 None 0.4974 -4.0411 -1.8067 C\\n76 None -1.4545 -4.7895 -0.4156 C\\n77 None -0.0600 1.9682 -3.8722 H\\n78 None -5.8246 1.8918 -3.0058 H\\n79 None -2.0823 1.1177 -1.2466 H\\n80 None -1.3746 -0.0944 0.7414 H\\n81 None 2.6597 1.2628 0.1602 H\\n82 None 1.9851 2.4224 -1.8712 H\\n83 None -8.0865 2.9033 -5.0044 H\\n84 None -9.0924 1.7742 -6.8877 H\\n85 None -5.4875 -0.4817 -7.4834 H\\n86 None -4.4956 0.5672 -5.5932 H\\n87 None -4.3257 7.9997 -3.3483 H\\n88 None -0.9265 7.2887 -0.7975 H\\n89 None -0.6422 9.7040 -0.5262 H\\n90 None -3.9531 10.3966 -3.1728 H\\n91 None -1.7919 5.5070 -1.8024 H\\n92 None -3.4398 5.6795 -1.4555 H\\n93 None -1.0435 11.9462 -1.3702 H\\n94 None -2.7672 12.1293 -1.0065 H\\n95 None -2.1959 12.2184 -2.6823 H\\n96 None -1.0646 7.2544 -4.0697 H\\n97 None -3.6793 6.3519 -7.3720 H\\n98 None -2.4110 7.9130 -8.7785 H\\n99 None 0.1207 8.8649 -5.4424 H\\n100 None -4.3730 6.3746 -4.5485 H\\n101 None -3.8110 5.0578 -5.4504 H\\n102 None 0.6629 9.7222 -7.6847 H\\n103 None -0.8910 10.5118 -7.9906 H\\n104 None -0.3060 9.2530 -9.0896 H\\n105 None -7.2732 -2.0245 -6.5683 H\\n106 None -6.5031 -5.2856 -9.2448 H\\n107 None -8.1704 -1.6145 -10.7111 H\\n108 None -7.7927 0.3269 -9.3897 H\\n109 None -9.1498 -0.0921 -8.3713 H\\n110 None -7.2926 -6.3203 -10.9787 H\\n111 None -8.0814 -6.0603 -12.5237 H\\n112 None -8.9557 -5.7163 -11.0262 H\\n113 None -8.4358 -3.9424 -13.4994 H\\n114 None -8.0239 -2.4203 -12.7288 H\\n115 None -9.4085 -3.3635 -12.1427 H\\n116 None -5.3494 -4.7467 -11.4853 H\\n117 None -5.6554 -3.1538 -12.1863 H\\n118 None -6.0044 -4.6148 -13.1232 H\\n119 None -6.0398 -6.5468 -5.7697 H\\n120 None -6.4890 -6.5654 -7.4679 H\\n121 None -7.6524 -6.0095 -6.2568 H\\n122 None -5.6405 -4.5130 -4.5197 H\\n123 None -7.2090 -3.8199 -4.9419 H\\n124 None -5.7135 -2.9128 -5.2463 H\\n125 None -3.9795 -5.1018 -6.2893 H\\n126 None -4.1772 -3.5800 -7.1701 H\\n127 None -4.4192 -5.1201 -8.0003 H\\n128 None 0.6400 -1.9762 -0.2337 H\\n129 None 0.4437 -5.5630 2.1103 H\\n130 None 1.3636 -1.8059 3.9591 H\\n131 None 0.5427 0.1615 2.6863 H\\n132 None 2.1742 0.0318 2.0830 H\\n133 None 2.7176 -5.8088 4.0782 H\\n134 None 1.1498 -6.6017 3.8537 H\\n135 None 1.7775 -6.3564 5.4711 H\\n136 None 2.7930 -3.4845 5.3338 H\\n137 None 1.8345 -4.2854 6.5835 H\\n138 None 1.2653 -2.7763 5.8946 H\\n139 None -1.0086 -5.3076 4.3144 H\\n140 None -0.9470 -3.7428 5.1326 H\\n141 None -0.4805 -5.2134 6.0008 H\\n142 None 1.7618 -6.1145 -0.4118 H\\n143 None 0.4007 -6.6513 -1.4035 H\\n144 None 0.2866 -6.7458 0.3403 H\\n145 None 1.5767 -3.8746 -1.8462 H\\n146 None -0.0096 -3.0870 -1.9644 H\\n147 None 0.2257 -4.6835 -2.6484 H\\n148 None -1.8397 -5.3475 -1.2723 H\\n149 None -1.9010 -3.7919 -0.4289 H\\n150 None -1.7864 -5.2930 0.4959 H\\n@<TRIPOS>BOND\\n1 1 2 1\\n2 2 3 1\\n3 3 4 1\\n4 4 5 1\\n5 5 1 2\\n6 5 6 1\\n7 6 7 1\\n8 7 8 1\\n9 8 9 1\\n10 9 10 1\\n11 10 11 1\\n12 11 7 2\\n13 10 12 1\\n14 2 13 1\\n15 13 14 2\\n16 14 15 1\\n17 15 16 2\\n18 16 17 1\\n19 17 18 2\\n20 18 13 1\\n21 12 19 2\\n22 19 20 1\\n23 20 21 2\\n24 21 22 1\\n25 22 23 2\\n26 23 12 1\\n27 9 24 1\\n28 3 25 1\\n29 11 26 1\\n30 26 1 1\\n31 26 27 1\\n32 26 28 1\\n33 9 29 1\\n34 3 30 1\\n35 31 32 2\\n36 32 33 1\\n37 33 34 2\\n38 34 35 1\\n39 35 36 2\\n40 36 31 1\\n41 32 37 1\\n42 35 38 1\\n43 6 37 1\\n44 39 40 2\\n45 40 41 1\\n46 41 42 2\\n47 42 43 1\\n48 43 44 2\\n49 44 39 1\\n50 40 45 1\\n51 43 46 1\\n52 6 45 1\\n53 47 48 2\\n54 48 49 1\\n55 49 50 2\\n56 50 51 1\\n57 51 52 2\\n58 52 47 1\\n59 47 53 1\\n60 49 54 1\\n61 51 55 1\\n62 55 56 1\\n63 55 57 1\\n64 55 58 1\\n65 54 59 1\\n66 54 60 1\\n67 54 61 1\\n68 21 53 1\\n69 62 63 2\\n70 63 64 1\\n71 64 65 2\\n72 65 66 1\\n73 66 67 2\\n74 67 62 1\\n75 62 68 1\\n76 64 69 1\\n77 66 70 1\\n78 70 71 1\\n79 70 72 1\\n80 70 73 1\\n81 69 74 1\\n82 69 75 1\\n83 69 76 1\\n84 16 68 1\\n85 2 77 1\\n86 10 78 1\\n87 14 79 1\\n88 15 80 1\\n89 17 81 1\\n90 18 82 1\\n91 19 83 1\\n92 20 84 1\\n93 22 85 1\\n94 23 86 1\\n95 31 87 1\\n96 33 88 1\\n97 34 89 1\\n98 36 90 1\\n99 37 91 1\\n100 37 92 1\\n101 38 93 1\\n102 38 94 1\\n103 38 95 1\\n104 39 96 1\\n105 41 97 1\\n106 42 98 1\\n107 44 99 1\\n108 45 100 1\\n109 45 101 1\\n110 46 102 1\\n111 46 103 1\\n112 46 104 1\\n113 48 105 1\\n114 50 106 1\\n115 52 107 1\\n116 53 108 1\\n117 53 109 1\\n118 56 110 1\\n119 56 111 1\\n120 56 112 1\\n121 57 113 1\\n122 57 114 1\\n123 57 115 1\\n124 58 116 1\\n125 58 117 1\\n126 58 118 1\\n127 59 119 1\\n128 59 120 1\\n129 59 121 1\\n130 60 122 1\\n131 60 123 1\\n132 60 124 1\\n133 61 125 1\\n134 61 126 1\\n135 61 127 1\\n136 63 128 1\\n137 65 129 1\\n138 67 130 1\\n139 68 131 1\\n140 68 132 1\\n141 71 133 1\\n142 71 134 1\\n143 71 135 1\\n144 72 136 1\\n145 72 137 1\\n146 72 138 1\\n147 73 139 1\\n148 73 140 1\\n149 73 141 1\\n150 74 142 1\\n151 74 143 1\\n152 74 144 1\\n153 75 145 1\\n154 75 146 1\\n155 75 147 1\\n156 76 148 1\\n157 76 149 1\\n158 76 150 1\\n\\n\",\"mol2\");\n",
       "\tviewer_17295512967711878.setStyle({\"stick\": {\"radius\": 0.1}, \"sphere\": {\"scale\": 0.15}});\n",
       "\tviewer_17295512967711878.setHoverable({},true,\"\\n        function(atom,viewer,event,container) {\\n            if(!atom.label) {\\n                atom.label = viewer.addLabel(atom.elem + '(' + atom.index + ')', {position: atom, backgroundColor: 'silver', fontColor:'black'});\\n            }\\n        }\\n        \",\"\\n        function(atom,viewer) { \\n            if(atom.label) {\\n                viewer.removeLabel(atom.label);\\n                delete atom.label;\\n            }\\n        }\\n        \");\n",
       "\tviewer_17295512967711878.zoomTo();\n",
       "\tviewer_17295512967711878.setBackgroundColor(\"white\");\n",
       "viewer_17295512967711878.render();\n",
       "});\n",
       "</script>"
      ]
     },
     "metadata": {},
     "output_type": "display_data"
    },
    {
     "data": {
      "application/3dmoljs_load.v0": "<script>\n            $3Dmolpromise.then(function() { //wrap in promise for non-interactive functionality\n                \n                viewer_17295512967711878.render();\n            });\n            </script>",
      "text/html": [
       "<script>\n",
       "            $3Dmolpromise.then(function() { //wrap in promise for non-interactive functionality\n",
       "                \n",
       "                viewer_17295512967711878.render();\n",
       "            });\n",
       "            </script>"
      ]
     },
     "metadata": {},
     "output_type": "display_data"
    },
    {
     "data": {
      "text/plain": [
       "Molecule(name='408_1_1_MeTol', formula='C65 H78 Cl2 Cu1 N2 O2')"
      ]
     },
     "execution_count": 54,
     "metadata": {},
     "output_type": "execute_result"
    }
   ],
   "source": [
    "from joblib import delayed, Parallel\n",
    "from molli.external import openbabel as mob\n",
    "\n",
    "# Sets up and runs parallel calculation using Openbabel\n",
    "res = Parallel(n_jobs=32, verbose=50,prefer='threads')(\n",
    "delayed(mob.obabel_optimize)(\n",
    "    mol= mol, \n",
    "    ff=\"gaff\",\n",
    "    coord_displace=True\n",
    "    ) for mol in fully_expanded_mols)\n",
    "\n",
    "res[1]"
   ]
  },
  {
   "cell_type": "markdown",
   "metadata": {},
   "source": [
    "## Example 2: XTB Optimization via Job Mapping\n",
    "\n",
    "One can also take advantage of the jobmap functionality to run this optimization\n",
    "\n",
    "```python\n",
    "from molli.pipeline.xtb import XTBDriver\n",
    "\n",
    "#Serializes the molecule library as is\n",
    "source = ml.MoleculeLibrary('box_unoptimized.mlib', readonly=False)\n",
    "with source.writing():\n",
    "    for mol in fully_expanded_mols:\n",
    "        source[mol.name] = mol\n",
    "\n",
    "#This is the file the conformer ensembles calculated will be written to.\n",
    "destination = ml.MoleculeLibrary(\"box_optimized.mlib\", readonly=False)\n",
    "\n",
    "#This configures the driver, number of processes to use for each worker. Can also indicate how much memory to use.\n",
    "xtb = XTBDriver(nprocs=4)\n",
    "\n",
    "ml.pipeline.jobmap(\n",
    "    xtb.optimize_m,\n",
    "    source=source, #Source of molecules\n",
    "    destination=destination, #Where conformers will be written\n",
    "    cache_dir=\"./conf_cache\", #Where final outputs will be written, successful or not!\n",
    "    scratch_dir=\"/scratch/user/\", #Scratch Directory where calculations will be run\n",
    "    n_workers=4, #Number of workers to use. In this case, 4 workers, each with 16 processors as defined in the driver.\n",
    "    kwargs={\n",
    "        \"method\": \"gfnff\", #GFNFF method to be used\n",
    "    }, #These are arguments used in the xtb job\n",
    "    progress=True, #Will print out progress\n",
    "    verbose = True, #Will print out extra information\n",
    ")\n",
    "```"
   ]
  }
 ],
 "metadata": {
  "kernelspec": {
   "display_name": "dev-blake",
   "language": "python",
   "name": "python3"
  },
  "language_info": {
   "codemirror_mode": {
    "name": "ipython",
    "version": 3
   },
   "file_extension": ".py",
   "mimetype": "text/x-python",
   "name": "python",
   "nbconvert_exporter": "python",
   "pygments_lexer": "ipython3",
   "version": "3.11.6"
  }
 },
 "nbformat": 4,
 "nbformat_minor": 2
}
