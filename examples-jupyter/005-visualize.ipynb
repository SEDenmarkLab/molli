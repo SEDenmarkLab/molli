{
 "cells": [
  {
   "cell_type": "code",
   "execution_count": 15,
   "metadata": {},
   "outputs": [
    {
     "name": "stderr",
     "output_type": "stream",
     "text": [
      "C:\\SAS\\programs\\repo\\molli\\molli\\chem\\atom.py:367: UserWarning: Replaced illegal characters in molecule name: ***** --> _____\n",
      "  warn(f\"Replaced illegal characters in molecule name: {_value} --> {sub}\")\n"
     ]
    },
    {
     "data": {
      "text/plain": [
       "<vtkmodules.vtkRenderingAnnotation.vtkAxesActor(0x000002F7F597F7A0) at 0x000002F78047E260>"
      ]
     },
     "execution_count": 15,
     "metadata": {},
     "output_type": "execute_result"
    }
   ],
   "source": [
    "import molli as ml\n",
    "import pyvista as pv\n",
    "from PIL import ImageColor\n",
    "from matplotlib.colors import ListedColormap\n",
    "import numpy as np\n",
    "\n",
    "pv.set_jupyter_backend(\"pythreejs\")\n",
    "\n",
    "with ml.files.mol2.pdb_4a05.open() as f:\n",
    "    _mol = ml.chem.Molecule.from_mol2(f)\n",
    "\n",
    "# mol = _mol.heavy\n",
    "mol = _mol\n",
    "\n",
    "for a in mol.atoms:\n",
    "    if a.element.symbol == \"N\":\n",
    "        a.dummy = True\n",
    "\n",
    "mol.translate(-1 * mol.centroid())\n",
    "a_sizes = [a.cov_radius_1 for a in mol.atoms]\n",
    "\n",
    "# sph = pv.Sphere(theta_resolution=24, phi_resolution=24)\n",
    "\n",
    "plotter = pv.Plotter(multi_samples=4)\n",
    "\n",
    "atoms = pv.MultiBlock()\n",
    "for i, a in enumerate(mol.atoms):\n",
    "    a_size = a.cov_radius_1 * 0.4\n",
    "    if a.dummy:\n",
    "        atoms.append(pv.Cube(mol.coords[i], a_size, a_size, a_size))\n",
    "    else:\n",
    "        atoms.append(\n",
    "            pv.Sphere(\n",
    "                a_size / 2, center=mol.coords[i], phi_resolution=12, theta_resolution=12\n",
    "            )\n",
    "        )\n",
    "\n",
    "bonds = pv.MultiBlock()\n",
    "for j, b in enumerate(mol.bonds):\n",
    "    r1, r2 = mol.bond_coords(b)\n",
    "    bonds.append(pv.Tube(r1, r2, radius=0.03, n_sides=16))\n",
    "\n",
    "\n",
    "actor, mapper = plotter.add_composite(\n",
    "    atoms,\n",
    "    smooth_shading=True,\n",
    "    culling=True,\n",
    "    diffuse=0.6,\n",
    "    specular=0.2,\n",
    ")\n",
    "\n",
    "for i, a in enumerate(mol.atoms):\n",
    "    mapper.block_attr[i + 1].color = a.color_cpk\n",
    "\n",
    "actor, mapper = plotter.add_composite(\n",
    "    bonds,\n",
    "    color=(0.9, 0.9, 0.9),\n",
    "    smooth_shading=True,\n",
    "    culling=True,\n",
    "    diffuse=0.7,\n",
    "    specular=0.3,\n",
    ")\n",
    "\n",
    "plotter.enable_anti_aliasing(aa_type=\"fxaa\", multi_samples=2)\n",
    "plotter.background_color = \"black\"\n",
    "plotter.view_xy()\n",
    "plotter.add_axes()\n"
   ]
  },
  {
   "cell_type": "code",
   "execution_count": 16,
   "metadata": {},
   "outputs": [
    {
     "ename": "KeyboardInterrupt",
     "evalue": "",
     "output_type": "error",
     "traceback": [
      "\u001b[1;31m---------------------------------------------------------------------------\u001b[0m",
      "\u001b[1;31mKeyboardInterrupt\u001b[0m                         Traceback (most recent call last)",
      "Cell \u001b[1;32mIn [16], line 2\u001b[0m\n\u001b[0;32m      1\u001b[0m \u001b[39m# plotter.show(jupyter_backend=\"ipygany\", window_size=(1000,600))\u001b[39;00m\n\u001b[1;32m----> 2\u001b[0m plotter\u001b[39m.\u001b[39;49mshow(window_size\u001b[39m=\u001b[39;49m(\u001b[39m1000\u001b[39;49m,\u001b[39m600\u001b[39;49m))\n",
      "File \u001b[1;32mc:\\Users\\shved\\miniconda3\\envs\\molli-dev\\lib\\site-packages\\pyvista\\plotting\\plotting.py:6143\u001b[0m, in \u001b[0;36mPlotter.show\u001b[1;34m(self, title, window_size, interactive, auto_close, interactive_update, full_screen, screenshot, return_img, cpos, use_ipyvtk, jupyter_backend, return_viewer, return_cpos, before_close_callback, **kwargs)\u001b[0m\n\u001b[0;32m   6137\u001b[0m         \u001b[39mif\u001b[39;00m screenshot:\n\u001b[0;32m   6138\u001b[0m             warnings\u001b[39m.\u001b[39mwarn(\n\u001b[0;32m   6139\u001b[0m                 \u001b[39m'\u001b[39m\u001b[39m\\n\u001b[39;00m\u001b[39mSet `jupyter_backend` backend to `\u001b[39m\u001b[39m\"\u001b[39m\u001b[39mnone\u001b[39m\u001b[39m\"\u001b[39m\u001b[39m` to take a screenshot\u001b[39m\u001b[39m'\u001b[39m\n\u001b[0;32m   6140\u001b[0m                 \u001b[39m'\u001b[39m\u001b[39m within a notebook environment.\u001b[39m\u001b[39m'\u001b[39m\n\u001b[0;32m   6141\u001b[0m             )\n\u001b[1;32m-> 6143\u001b[0m         disp \u001b[39m=\u001b[39m handle_plotter(\n\u001b[0;32m   6144\u001b[0m             \u001b[39mself\u001b[39m, backend\u001b[39m=\u001b[39mjupyter_backend, return_viewer\u001b[39m=\u001b[39mreturn_viewer, \u001b[39m*\u001b[39m\u001b[39m*\u001b[39mjupyter_kwargs\n\u001b[0;32m   6145\u001b[0m         )\n\u001b[0;32m   6146\u001b[0m         \u001b[39mreturn\u001b[39;00m disp\n\u001b[0;32m   6148\u001b[0m \u001b[39mself\u001b[39m\u001b[39m.\u001b[39mrender()\n",
      "File \u001b[1;32mc:\\Users\\shved\\miniconda3\\envs\\molli-dev\\lib\\site-packages\\pyvista\\jupyter\\notebook.py:50\u001b[0m, in \u001b[0;36mhandle_plotter\u001b[1;34m(plotter, backend, screenshot, return_viewer, **kwargs)\u001b[0m\n\u001b[0;32m     48\u001b[0m \u001b[39mtry\u001b[39;00m:\n\u001b[0;32m     49\u001b[0m     \u001b[39mif\u001b[39;00m backend \u001b[39m==\u001b[39m \u001b[39m'\u001b[39m\u001b[39mpythreejs\u001b[39m\u001b[39m'\u001b[39m:\n\u001b[1;32m---> 50\u001b[0m         \u001b[39mreturn\u001b[39;00m show_pythreejs(plotter, return_viewer, \u001b[39m*\u001b[39m\u001b[39m*\u001b[39mkwargs)\n\u001b[0;32m     51\u001b[0m     \u001b[39mif\u001b[39;00m backend \u001b[39m==\u001b[39m \u001b[39m'\u001b[39m\u001b[39mipyvtklink\u001b[39m\u001b[39m'\u001b[39m:\n\u001b[0;32m     52\u001b[0m         \u001b[39mreturn\u001b[39;00m show_ipyvtk(plotter, return_viewer)\n",
      "File \u001b[1;32mc:\\Users\\shved\\miniconda3\\envs\\molli-dev\\lib\\site-packages\\pyvista\\jupyter\\notebook.py:188\u001b[0m, in \u001b[0;36mshow_pythreejs\u001b[1;34m(plotter, return_viewer, **kwargs)\u001b[0m\n\u001b[0;32m    185\u001b[0m \u001b[39m\"\"\"Show a pyvista plotting scene using pythreejs.\"\"\"\u001b[39;00m\n\u001b[0;32m    186\u001b[0m \u001b[39mfrom\u001b[39;00m \u001b[39m.\u001b[39;00m\u001b[39mpv_pythreejs\u001b[39;00m \u001b[39mimport\u001b[39;00m convert_plotter\n\u001b[1;32m--> 188\u001b[0m renderer \u001b[39m=\u001b[39m convert_plotter(plotter)\n\u001b[0;32m    189\u001b[0m \u001b[39mif\u001b[39;00m return_viewer:\n\u001b[0;32m    190\u001b[0m     \u001b[39mreturn\u001b[39;00m renderer\n",
      "File \u001b[1;32mc:\\Users\\shved\\miniconda3\\envs\\molli-dev\\lib\\site-packages\\pyvista\\jupyter\\pv_pythreejs.py:657\u001b[0m, in \u001b[0;36mconvert_plotter\u001b[1;34m(pl)\u001b[0m\n\u001b[0;32m    650\u001b[0m     \u001b[39mraise\u001b[39;00m \u001b[39mAttributeError\u001b[39;00m(\n\u001b[0;32m    651\u001b[0m         \u001b[39m'\u001b[39m\u001b[39mThis plotter is closed and unable to export to html.\u001b[39m\u001b[39m\\n\u001b[39;00m\u001b[39m'\u001b[39m\n\u001b[0;32m    652\u001b[0m         \u001b[39m'\u001b[39m\u001b[39mPlease run this before showing or closing the plotter.\u001b[39m\u001b[39m'\u001b[39m\n\u001b[0;32m    653\u001b[0m     )\n\u001b[0;32m    655\u001b[0m \u001b[39mif\u001b[39;00m \u001b[39mlen\u001b[39m(pl\u001b[39m.\u001b[39mrenderers) \u001b[39m==\u001b[39m \u001b[39m1\u001b[39m:\n\u001b[0;32m    656\u001b[0m     \u001b[39m# return HBox(children=(convert_renderer(pl.renderers[0]),))\u001b[39;00m\n\u001b[1;32m--> 657\u001b[0m     \u001b[39mreturn\u001b[39;00m convert_renderer(pl\u001b[39m.\u001b[39;49mrenderers[\u001b[39m0\u001b[39;49m])\n\u001b[0;32m    659\u001b[0m \u001b[39m# otherwise, determine if we can use a grid layout\u001b[39;00m\n\u001b[0;32m    660\u001b[0m \u001b[39mif\u001b[39;00m \u001b[39mlen\u001b[39m(pl\u001b[39m.\u001b[39mshape) \u001b[39m==\u001b[39m \u001b[39m2\u001b[39m:\n",
      "File \u001b[1;32mc:\\Users\\shved\\miniconda3\\envs\\molli-dev\\lib\\site-packages\\pyvista\\jupyter\\pv_pythreejs.py:599\u001b[0m, in \u001b[0;36mconvert_renderer\u001b[1;34m(pv_renderer)\u001b[0m\n\u001b[0;32m    597\u001b[0m width, height \u001b[39m=\u001b[39m pv_renderer\u001b[39m.\u001b[39mwidth, pv_renderer\u001b[39m.\u001b[39mheight\n\u001b[0;32m    598\u001b[0m pv_camera \u001b[39m=\u001b[39m pv_renderer\u001b[39m.\u001b[39mcamera\n\u001b[1;32m--> 599\u001b[0m children \u001b[39m=\u001b[39m meshes_from_actors(pv_renderer\u001b[39m.\u001b[39;49mactors\u001b[39m.\u001b[39;49mvalues(), pv_camera\u001b[39m.\u001b[39;49mfocal_point)\n\u001b[0;32m    601\u001b[0m lights \u001b[39m=\u001b[39m extract_lights_from_renderer(pv_renderer)\n\u001b[0;32m    602\u001b[0m aspect \u001b[39m=\u001b[39m width \u001b[39m/\u001b[39m height\n",
      "File \u001b[1;32mc:\\Users\\shved\\miniconda3\\envs\\molli-dev\\lib\\site-packages\\pyvista\\jupyter\\pv_pythreejs.py:561\u001b[0m, in \u001b[0;36mmeshes_from_actors\u001b[1;34m(actors, focal_point)\u001b[0m\n\u001b[0;32m    558\u001b[0m     \u001b[39mfor\u001b[39;00m i, dataset \u001b[39min\u001b[39;00m \u001b[39menumerate\u001b[39m(mapper\u001b[39m.\u001b[39mdataset):\n\u001b[0;32m    559\u001b[0m         \u001b[39m# individual block opacity might be different\u001b[39;00m\n\u001b[0;32m    560\u001b[0m         block_attr \u001b[39m=\u001b[39m block_attrs[i \u001b[39m+\u001b[39m \u001b[39m1\u001b[39m]\n\u001b[1;32m--> 561\u001b[0m         mesh \u001b[39m=\u001b[39m dataset_to_mesh(\n\u001b[0;32m    562\u001b[0m             dataset,\n\u001b[0;32m    563\u001b[0m             prop,\n\u001b[0;32m    564\u001b[0m             \u001b[39mNone\u001b[39;49;00m,\n\u001b[0;32m    565\u001b[0m             focal_point,\n\u001b[0;32m    566\u001b[0m             get_coloring(mapper, dataset),\n\u001b[0;32m    567\u001b[0m             mapper\u001b[39m.\u001b[39;49mGetScalarModeAsString(),\n\u001b[0;32m    568\u001b[0m             mapper\u001b[39m.\u001b[39;49mGetColorMode(),\n\u001b[0;32m    569\u001b[0m             mapper\u001b[39m.\u001b[39;49mGetLookupTable(),\n\u001b[0;32m    570\u001b[0m             color\u001b[39m=\u001b[39;49mblock_attr\u001b[39m.\u001b[39;49mcolor,\n\u001b[0;32m    571\u001b[0m             opacity\u001b[39m=\u001b[39;49mblock_attr\u001b[39m.\u001b[39;49mopacity,\n\u001b[0;32m    572\u001b[0m         )\n\u001b[0;32m    573\u001b[0m         meshes\u001b[39m.\u001b[39mextend(mesh)\n\u001b[0;32m    574\u001b[0m \u001b[39melif\u001b[39;00m \u001b[39mnot\u001b[39;00m \u001b[39mhasattr\u001b[39m(mapper, \u001b[39m'\u001b[39m\u001b[39mGetInputAsDataSet\u001b[39m\u001b[39m'\u001b[39m):\n",
      "File \u001b[1;32mc:\\Users\\shved\\miniconda3\\envs\\molli-dev\\lib\\site-packages\\pyvista\\jupyter\\pv_pythreejs.py:475\u001b[0m, in \u001b[0;36mdataset_to_mesh\u001b[1;34m(dataset, prop, texture, focal_point, coloring, scalar_mode, color_mode, lookup_table, color, opacity)\u001b[0m\n\u001b[0;32m    459\u001b[0m         add_attr \u001b[39m=\u001b[39m {\u001b[39m'\u001b[39m\u001b[39mpolygonOffset\u001b[39m\u001b[39m'\u001b[39m: \u001b[39mTrue\u001b[39;00m, \u001b[39m'\u001b[39m\u001b[39mpolygonOffsetFactor\u001b[39m\u001b[39m'\u001b[39m: \u001b[39m1\u001b[39m, \u001b[39m'\u001b[39m\u001b[39mpolygonOffsetUnits\u001b[39m\u001b[39m'\u001b[39m: \u001b[39m1\u001b[39m}\n\u001b[0;32m    461\u001b[0m         meshes\u001b[39m.\u001b[39mappend(\n\u001b[0;32m    462\u001b[0m             to_edge_mesh(\n\u001b[0;32m    463\u001b[0m                 surf,\n\u001b[1;32m   (...)\u001b[0m\n\u001b[0;32m    471\u001b[0m             )\n\u001b[0;32m    472\u001b[0m         )\n\u001b[0;32m    474\u001b[0m     meshes\u001b[39m.\u001b[39mappend(\n\u001b[1;32m--> 475\u001b[0m         to_surf_mesh(\n\u001b[0;32m    476\u001b[0m             surf,\n\u001b[0;32m    477\u001b[0m             texture,\n\u001b[0;32m    478\u001b[0m             prop,\n\u001b[0;32m    479\u001b[0m             scalar_mode,\n\u001b[0;32m    480\u001b[0m             color_mode,\n\u001b[0;32m    481\u001b[0m             lookup_table,\n\u001b[0;32m    482\u001b[0m             coloring,\n\u001b[0;32m    483\u001b[0m             add_attr,\n\u001b[0;32m    484\u001b[0m             color\u001b[39m=\u001b[39;49mcolor,\n\u001b[0;32m    485\u001b[0m             opacity\u001b[39m=\u001b[39;49mopacity,\n\u001b[0;32m    486\u001b[0m         )\n\u001b[0;32m    487\u001b[0m     )\n\u001b[0;32m    489\u001b[0m \u001b[39melif\u001b[39;00m rep_type \u001b[39m==\u001b[39m \u001b[39m'\u001b[39m\u001b[39mPoints\u001b[39m\u001b[39m'\u001b[39m:\n\u001b[0;32m    490\u001b[0m     meshes\u001b[39m.\u001b[39mappend(\n\u001b[0;32m    491\u001b[0m         to_tjs_points(dataset, prop, coloring, lookup_table, color\u001b[39m=\u001b[39mcolor, opacity\u001b[39m=\u001b[39mopacity)\n\u001b[0;32m    492\u001b[0m     )\n",
      "File \u001b[1;32mc:\\Users\\shved\\miniconda3\\envs\\molli-dev\\lib\\site-packages\\pyvista\\jupyter\\pv_pythreejs.py:235\u001b[0m, in \u001b[0;36mto_surf_mesh\u001b[1;34m(surf, texture, prop, scalar_mode, color_mode, lookup_table, coloring, add_attr, color, opacity)\u001b[0m\n\u001b[0;32m    233\u001b[0m t_coords \u001b[39m=\u001b[39m trimesh\u001b[39m.\u001b[39mactive_t_coords\n\u001b[0;32m    234\u001b[0m \u001b[39mif\u001b[39;00m t_coords \u001b[39mis\u001b[39;00m \u001b[39mnot\u001b[39;00m \u001b[39mNone\u001b[39;00m:\n\u001b[1;32m--> 235\u001b[0m     attr[\u001b[39m'\u001b[39m\u001b[39muv\u001b[39m\u001b[39m'\u001b[39m] \u001b[39m=\u001b[39m array_to_float_buffer(t_coords)\n\u001b[0;32m    237\u001b[0m \u001b[39m# TODO: Convert PBR textures\u001b[39;00m\n\u001b[0;32m    238\u001b[0m \u001b[39m# base_color_texture = prop.GetTexture(\"albedoTex\")\u001b[39;00m\n\u001b[0;32m    239\u001b[0m \u001b[39m# orm_texture = prop.GetTexture(\"materialTex\")\u001b[39;00m\n\u001b[1;32m   (...)\u001b[0m\n\u001b[0;32m    242\u001b[0m \u001b[39m# emissive_texture = prop.GetTexture(\"emissiveTex\")\u001b[39;00m\n\u001b[0;32m    243\u001b[0m \u001b[39m# coatnormal_texture = prop.GetTexture(\"coatNormalTex\")\u001b[39;00m\n\u001b[0;32m    244\u001b[0m \u001b[39mif\u001b[39;00m prop\u001b[39m.\u001b[39mGetNumberOfTextures():  \u001b[39m# pragma: no cover\u001b[39;00m\n",
      "File \u001b[1;32mc:\\Users\\shved\\miniconda3\\envs\\molli-dev\\lib\\site-packages\\pyvista\\jupyter\\pv_pythreejs.py:134\u001b[0m, in \u001b[0;36marray_to_float_buffer\u001b[1;34m(points)\u001b[0m\n\u001b[0;32m    132\u001b[0m \u001b[39mwith\u001b[39;00m warnings\u001b[39m.\u001b[39mcatch_warnings():\n\u001b[0;32m    133\u001b[0m     warnings\u001b[39m.\u001b[39mfilterwarnings(\u001b[39m\"\u001b[39m\u001b[39mignore\u001b[39m\u001b[39m\"\u001b[39m, message\u001b[39m=\u001b[39m\u001b[39m\"\u001b[39m\u001b[39mGiven trait value dtype\u001b[39m\u001b[39m\"\u001b[39m)\n\u001b[1;32m--> 134\u001b[0m     position \u001b[39m=\u001b[39m tjs\u001b[39m.\u001b[39;49mBufferAttribute(array\u001b[39m=\u001b[39;49mpoints, normalized\u001b[39m=\u001b[39;49m\u001b[39mFalse\u001b[39;49;00m)\n\u001b[0;32m    135\u001b[0m \u001b[39mreturn\u001b[39;00m position\n",
      "File \u001b[1;32mc:\\Users\\shved\\miniconda3\\envs\\molli-dev\\lib\\site-packages\\pythreejs\\core\\BufferAttribute.py:20\u001b[0m, in \u001b[0;36mBufferAttribute.__init__\u001b[1;34m(self, array, normalized, **kwargs)\u001b[0m\n\u001b[0;32m     18\u001b[0m kwargs[\u001b[39m'\u001b[39m\u001b[39mnormalized\u001b[39m\u001b[39m'\u001b[39m] \u001b[39m=\u001b[39m normalized\n\u001b[0;32m     19\u001b[0m \u001b[39m# NOTE: skip init of direct parent class on purpose:\u001b[39;00m\n\u001b[1;32m---> 20\u001b[0m \u001b[39msuper\u001b[39m(BaseBufferAttribute, \u001b[39mself\u001b[39m)\u001b[39m.\u001b[39m\u001b[39m__init__\u001b[39m(\u001b[39m*\u001b[39m\u001b[39m*\u001b[39mkwargs)\n",
      "File \u001b[1;32mc:\\Users\\shved\\miniconda3\\envs\\molli-dev\\lib\\site-packages\\pythreejs\\_base\\Three.py:17\u001b[0m, in \u001b[0;36mThreeWidget.__init__\u001b[1;34m(self, **kwargs)\u001b[0m\n\u001b[0;32m     16\u001b[0m \u001b[39mdef\u001b[39;00m \u001b[39m__init__\u001b[39m(\u001b[39mself\u001b[39m, \u001b[39m*\u001b[39m\u001b[39m*\u001b[39mkwargs):\n\u001b[1;32m---> 17\u001b[0m     \u001b[39msuper\u001b[39m(ThreeWidget, \u001b[39mself\u001b[39m)\u001b[39m.\u001b[39m\u001b[39m__init__\u001b[39m(\u001b[39m*\u001b[39m\u001b[39m*\u001b[39mkwargs)\n\u001b[0;32m     18\u001b[0m     \u001b[39mself\u001b[39m\u001b[39m.\u001b[39mon_msg(\u001b[39mself\u001b[39m\u001b[39m.\u001b[39m_on_potential_ret_val)\n",
      "File \u001b[1;32mc:\\Users\\shved\\miniconda3\\envs\\molli-dev\\lib\\site-packages\\ipywidgets\\widgets\\widget.py:480\u001b[0m, in \u001b[0;36mWidget.__init__\u001b[1;34m(self, **kwargs)\u001b[0m\n\u001b[0;32m    477\u001b[0m \u001b[39msuper\u001b[39m(Widget, \u001b[39mself\u001b[39m)\u001b[39m.\u001b[39m\u001b[39m__init__\u001b[39m(\u001b[39m*\u001b[39m\u001b[39m*\u001b[39mkwargs)\n\u001b[0;32m    479\u001b[0m Widget\u001b[39m.\u001b[39m_call_widget_constructed(\u001b[39mself\u001b[39m)\n\u001b[1;32m--> 480\u001b[0m \u001b[39mself\u001b[39;49m\u001b[39m.\u001b[39;49mopen()\n",
      "File \u001b[1;32mc:\\Users\\shved\\miniconda3\\envs\\molli-dev\\lib\\site-packages\\ipywidgets\\widgets\\widget.py:503\u001b[0m, in \u001b[0;36mWidget.open\u001b[1;34m(self)\u001b[0m\n\u001b[0;32m    500\u001b[0m \u001b[39mif\u001b[39;00m \u001b[39mself\u001b[39m\u001b[39m.\u001b[39m_model_id \u001b[39mis\u001b[39;00m \u001b[39mnot\u001b[39;00m \u001b[39mNone\u001b[39;00m:\n\u001b[0;32m    501\u001b[0m     args[\u001b[39m'\u001b[39m\u001b[39mcomm_id\u001b[39m\u001b[39m'\u001b[39m] \u001b[39m=\u001b[39m \u001b[39mself\u001b[39m\u001b[39m.\u001b[39m_model_id\n\u001b[1;32m--> 503\u001b[0m \u001b[39mself\u001b[39m\u001b[39m.\u001b[39mcomm \u001b[39m=\u001b[39m Comm(\u001b[39m*\u001b[39m\u001b[39m*\u001b[39margs)\n",
      "File \u001b[1;32mc:\\Users\\shved\\miniconda3\\envs\\molli-dev\\lib\\site-packages\\ipykernel\\comm\\comm.py:62\u001b[0m, in \u001b[0;36mComm.__init__\u001b[1;34m(self, target_name, data, metadata, buffers, **kwargs)\u001b[0m\n\u001b[0;32m     59\u001b[0m \u001b[39mif\u001b[39;00m \u001b[39mself\u001b[39m\u001b[39m.\u001b[39mkernel:\n\u001b[0;32m     60\u001b[0m     \u001b[39mif\u001b[39;00m \u001b[39mself\u001b[39m\u001b[39m.\u001b[39mprimary:\n\u001b[0;32m     61\u001b[0m         \u001b[39m# I am primary, open my peer.\u001b[39;00m\n\u001b[1;32m---> 62\u001b[0m         \u001b[39mself\u001b[39;49m\u001b[39m.\u001b[39;49mopen(data\u001b[39m=\u001b[39;49mdata, metadata\u001b[39m=\u001b[39;49mmetadata, buffers\u001b[39m=\u001b[39;49mbuffers)\n\u001b[0;32m     63\u001b[0m     \u001b[39melse\u001b[39;00m:\n\u001b[0;32m     64\u001b[0m         \u001b[39mself\u001b[39m\u001b[39m.\u001b[39m_closed \u001b[39m=\u001b[39m \u001b[39mFalse\u001b[39;00m\n",
      "File \u001b[1;32mc:\\Users\\shved\\miniconda3\\envs\\molli-dev\\lib\\site-packages\\ipykernel\\comm\\comm.py:100\u001b[0m, in \u001b[0;36mComm.open\u001b[1;34m(self, data, metadata, buffers)\u001b[0m\n\u001b[0;32m     98\u001b[0m comm_manager\u001b[39m.\u001b[39mregister_comm(\u001b[39mself\u001b[39m)\n\u001b[0;32m     99\u001b[0m \u001b[39mtry\u001b[39;00m:\n\u001b[1;32m--> 100\u001b[0m     \u001b[39mself\u001b[39;49m\u001b[39m.\u001b[39;49m_publish_msg(\n\u001b[0;32m    101\u001b[0m         \u001b[39m\"\u001b[39;49m\u001b[39mcomm_open\u001b[39;49m\u001b[39m\"\u001b[39;49m,\n\u001b[0;32m    102\u001b[0m         data\u001b[39m=\u001b[39;49mdata,\n\u001b[0;32m    103\u001b[0m         metadata\u001b[39m=\u001b[39;49mmetadata,\n\u001b[0;32m    104\u001b[0m         buffers\u001b[39m=\u001b[39;49mbuffers,\n\u001b[0;32m    105\u001b[0m         target_name\u001b[39m=\u001b[39;49m\u001b[39mself\u001b[39;49m\u001b[39m.\u001b[39;49mtarget_name,\n\u001b[0;32m    106\u001b[0m         target_module\u001b[39m=\u001b[39;49m\u001b[39mself\u001b[39;49m\u001b[39m.\u001b[39;49mtarget_module,\n\u001b[0;32m    107\u001b[0m     )\n\u001b[0;32m    108\u001b[0m     \u001b[39mself\u001b[39m\u001b[39m.\u001b[39m_closed \u001b[39m=\u001b[39m \u001b[39mFalse\u001b[39;00m\n\u001b[0;32m    109\u001b[0m \u001b[39mexcept\u001b[39;00m \u001b[39mException\u001b[39;00m:\n",
      "File \u001b[1;32mc:\\Users\\shved\\miniconda3\\envs\\molli-dev\\lib\\site-packages\\ipykernel\\comm\\comm.py:71\u001b[0m, in \u001b[0;36mComm._publish_msg\u001b[1;34m(self, msg_type, data, metadata, buffers, **keys)\u001b[0m\n\u001b[0;32m     69\u001b[0m metadata \u001b[39m=\u001b[39m {} \u001b[39mif\u001b[39;00m metadata \u001b[39mis\u001b[39;00m \u001b[39mNone\u001b[39;00m \u001b[39melse\u001b[39;00m metadata\n\u001b[0;32m     70\u001b[0m content \u001b[39m=\u001b[39m json_clean(\u001b[39mdict\u001b[39m(data\u001b[39m=\u001b[39mdata, comm_id\u001b[39m=\u001b[39m\u001b[39mself\u001b[39m\u001b[39m.\u001b[39mcomm_id, \u001b[39m*\u001b[39m\u001b[39m*\u001b[39mkeys))\n\u001b[1;32m---> 71\u001b[0m \u001b[39mself\u001b[39;49m\u001b[39m.\u001b[39;49mkernel\u001b[39m.\u001b[39;49msession\u001b[39m.\u001b[39;49msend(\n\u001b[0;32m     72\u001b[0m     \u001b[39mself\u001b[39;49m\u001b[39m.\u001b[39;49mkernel\u001b[39m.\u001b[39;49miopub_socket,\n\u001b[0;32m     73\u001b[0m     msg_type,\n\u001b[0;32m     74\u001b[0m     content,\n\u001b[0;32m     75\u001b[0m     metadata\u001b[39m=\u001b[39;49mjson_clean(metadata),\n\u001b[0;32m     76\u001b[0m     parent\u001b[39m=\u001b[39;49m\u001b[39mself\u001b[39;49m\u001b[39m.\u001b[39;49mkernel\u001b[39m.\u001b[39;49mget_parent(\u001b[39m\"\u001b[39;49m\u001b[39mshell\u001b[39;49m\u001b[39m\"\u001b[39;49m),\n\u001b[0;32m     77\u001b[0m     ident\u001b[39m=\u001b[39;49m\u001b[39mself\u001b[39;49m\u001b[39m.\u001b[39;49mtopic,\n\u001b[0;32m     78\u001b[0m     buffers\u001b[39m=\u001b[39;49mbuffers,\n\u001b[0;32m     79\u001b[0m )\n",
      "File \u001b[1;32mc:\\Users\\shved\\miniconda3\\envs\\molli-dev\\lib\\site-packages\\jupyter_client\\session.py:855\u001b[0m, in \u001b[0;36mSession.send\u001b[1;34m(self, stream, msg_or_type, content, parent, ident, buffers, track, header, metadata)\u001b[0m\n\u001b[0;32m    852\u001b[0m \u001b[39melif\u001b[39;00m stream:\n\u001b[0;32m    853\u001b[0m     \u001b[39m# use dummy tracker, which will be done immediately\u001b[39;00m\n\u001b[0;32m    854\u001b[0m     tracker \u001b[39m=\u001b[39m DONE\n\u001b[1;32m--> 855\u001b[0m     stream\u001b[39m.\u001b[39;49msend_multipart(to_send, copy\u001b[39m=\u001b[39;49mcopy)\n\u001b[0;32m    857\u001b[0m \u001b[39mif\u001b[39;00m \u001b[39mself\u001b[39m\u001b[39m.\u001b[39mdebug:\n\u001b[0;32m    858\u001b[0m     pprint\u001b[39m.\u001b[39mpprint(msg)\n",
      "File \u001b[1;32mc:\\Users\\shved\\miniconda3\\envs\\molli-dev\\lib\\site-packages\\ipykernel\\iostream.py:286\u001b[0m, in \u001b[0;36mBackgroundSocket.send_multipart\u001b[1;34m(self, *args, **kwargs)\u001b[0m\n\u001b[0;32m    284\u001b[0m \u001b[39m\"\"\"Schedule send in IO thread\"\"\"\u001b[39;00m\n\u001b[0;32m    285\u001b[0m \u001b[39massert\u001b[39;00m \u001b[39mself\u001b[39m\u001b[39m.\u001b[39mio_thread \u001b[39mis\u001b[39;00m \u001b[39mnot\u001b[39;00m \u001b[39mNone\u001b[39;00m\n\u001b[1;32m--> 286\u001b[0m \u001b[39mreturn\u001b[39;00m \u001b[39mself\u001b[39m\u001b[39m.\u001b[39mio_thread\u001b[39m.\u001b[39msend_multipart(\u001b[39m*\u001b[39margs, \u001b[39m*\u001b[39m\u001b[39m*\u001b[39mkwargs)\n",
      "File \u001b[1;32mc:\\Users\\shved\\miniconda3\\envs\\molli-dev\\lib\\site-packages\\ipykernel\\iostream.py:219\u001b[0m, in \u001b[0;36mIOPubThread.send_multipart\u001b[1;34m(self, *args, **kwargs)\u001b[0m\n\u001b[0;32m    214\u001b[0m \u001b[39mdef\u001b[39;00m \u001b[39msend_multipart\u001b[39m(\u001b[39mself\u001b[39m, \u001b[39m*\u001b[39margs, \u001b[39m*\u001b[39m\u001b[39m*\u001b[39mkwargs):\n\u001b[0;32m    215\u001b[0m     \u001b[39m\"\"\"send_multipart schedules actual zmq send in my thread.\u001b[39;00m\n\u001b[0;32m    216\u001b[0m \n\u001b[0;32m    217\u001b[0m \u001b[39m    If my thread isn't running (e.g. forked process), send immediately.\u001b[39;00m\n\u001b[0;32m    218\u001b[0m \u001b[39m    \"\"\"\u001b[39;00m\n\u001b[1;32m--> 219\u001b[0m     \u001b[39mself\u001b[39;49m\u001b[39m.\u001b[39;49mschedule(\u001b[39mlambda\u001b[39;49;00m: \u001b[39mself\u001b[39;49m\u001b[39m.\u001b[39;49m_really_send(\u001b[39m*\u001b[39;49margs, \u001b[39m*\u001b[39;49m\u001b[39m*\u001b[39;49mkwargs))\n",
      "File \u001b[1;32mc:\\Users\\shved\\miniconda3\\envs\\molli-dev\\lib\\site-packages\\ipykernel\\iostream.py:210\u001b[0m, in \u001b[0;36mIOPubThread.schedule\u001b[1;34m(self, f)\u001b[0m\n\u001b[0;32m    208\u001b[0m     \u001b[39mself\u001b[39m\u001b[39m.\u001b[39m_events\u001b[39m.\u001b[39mappend(f)\n\u001b[0;32m    209\u001b[0m     \u001b[39m# wake event thread (message content is ignored)\u001b[39;00m\n\u001b[1;32m--> 210\u001b[0m     \u001b[39mself\u001b[39;49m\u001b[39m.\u001b[39;49m_event_pipe\u001b[39m.\u001b[39;49msend(\u001b[39mb\u001b[39;49m\u001b[39m\"\u001b[39;49m\u001b[39m\"\u001b[39;49m)\n\u001b[0;32m    211\u001b[0m \u001b[39melse\u001b[39;00m:\n\u001b[0;32m    212\u001b[0m     f()\n",
      "File \u001b[1;32mc:\\Users\\shved\\miniconda3\\envs\\molli-dev\\lib\\site-packages\\zmq\\sugar\\socket.py:620\u001b[0m, in \u001b[0;36mSocket.send\u001b[1;34m(self, data, flags, copy, track, routing_id, group)\u001b[0m\n\u001b[0;32m    613\u001b[0m         data \u001b[39m=\u001b[39m zmq\u001b[39m.\u001b[39mFrame(\n\u001b[0;32m    614\u001b[0m             data,\n\u001b[0;32m    615\u001b[0m             track\u001b[39m=\u001b[39mtrack,\n\u001b[0;32m    616\u001b[0m             copy\u001b[39m=\u001b[39mcopy \u001b[39mor\u001b[39;00m \u001b[39mNone\u001b[39;00m,\n\u001b[0;32m    617\u001b[0m             copy_threshold\u001b[39m=\u001b[39m\u001b[39mself\u001b[39m\u001b[39m.\u001b[39mcopy_threshold,\n\u001b[0;32m    618\u001b[0m         )\n\u001b[0;32m    619\u001b[0m     data\u001b[39m.\u001b[39mgroup \u001b[39m=\u001b[39m group\n\u001b[1;32m--> 620\u001b[0m \u001b[39mreturn\u001b[39;00m \u001b[39msuper\u001b[39;49m()\u001b[39m.\u001b[39;49msend(data, flags\u001b[39m=\u001b[39;49mflags, copy\u001b[39m=\u001b[39;49mcopy, track\u001b[39m=\u001b[39;49mtrack)\n",
      "File \u001b[1;32mzmq/backend/cython/socket.pyx:746\u001b[0m, in \u001b[0;36mzmq.backend.cython.socket.Socket.send\u001b[1;34m()\u001b[0m\n",
      "File \u001b[1;32mzmq/backend/cython/socket.pyx:793\u001b[0m, in \u001b[0;36mzmq.backend.cython.socket.Socket.send\u001b[1;34m()\u001b[0m\n",
      "File \u001b[1;32mzmq/backend/cython/socket.pyx:250\u001b[0m, in \u001b[0;36mzmq.backend.cython.socket._send_copy\u001b[1;34m()\u001b[0m\n",
      "File \u001b[1;32mc:\\Users\\shved\\miniconda3\\envs\\molli-dev\\lib\\site-packages\\zmq\\backend\\cython\\checkrc.pxd:13\u001b[0m, in \u001b[0;36mzmq.backend.cython.checkrc._check_rc\u001b[1;34m()\u001b[0m\n",
      "\u001b[1;31mKeyboardInterrupt\u001b[0m: "
     ]
    }
   ],
   "source": [
    "# plotter.show(jupyter_backend=\"ipygany\", window_size=(1000,600))\n",
    "plotter.show(window_size=(1000,600))"
   ]
  },
  {
   "cell_type": "code",
   "execution_count": null,
   "metadata": {},
   "outputs": [],
   "source": []
  }
 ],
 "metadata": {
  "kernelspec": {
   "display_name": "Python 3.10.6 ('molli-dev')",
   "language": "python",
   "name": "python3"
  },
  "language_info": {
   "codemirror_mode": {
    "name": "ipython",
    "version": 3
   },
   "file_extension": ".py",
   "mimetype": "text/x-python",
   "name": "python",
   "nbconvert_exporter": "python",
   "pygments_lexer": "ipython3",
   "version": "3.10.6"
  },
  "orig_nbformat": 4,
  "vscode": {
   "interpreter": {
    "hash": "76cbec9d8be6152967bf6eb279a8f9736e48be32763f3b307b1279f8e0121d15"
   }
  }
 },
 "nbformat": 4,
 "nbformat_minor": 2
}
