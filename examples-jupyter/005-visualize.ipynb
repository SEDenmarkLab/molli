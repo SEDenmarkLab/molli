{
 "cells": [
  {
   "cell_type": "code",
   "execution_count": 1,
   "metadata": {},
   "outputs": [],
   "source": [
    "import molli as ml\n",
    "import pyvista as pv\n",
    "from PIL import ImageColor\n",
    "from matplotlib.colors import ListedColormap\n",
    "import numpy as np\n"
   ]
  },
  {
   "cell_type": "code",
   "execution_count": 2,
   "metadata": {},
   "outputs": [],
   "source": [
    "\n",
    "with ml.files.mol2.dendrobine.open() as f:\n",
    "    _mol = ml.chem.Molecule.load_mol2(f)\n",
    "\n",
    "mol = _mol.heavy\n",
    "# mol = _mol\n",
    "\n",
    "mol.translate(-1 * mol.centroid())\n",
    "a_sizes = [a.cov_radius_1 for a in mol.atoms]\n"
   ]
  },
  {
   "cell_type": "code",
   "execution_count": 3,
   "metadata": {},
   "outputs": [],
   "source": [
    "\n",
    "# print(pv.Report())\n",
    "pv.set_plot_theme(\"dark\")  # \"document\" for light settings!\n",
    "# pv.set_jupyter_backend(\"panel\")\n",
    "plotter = pv.Plotter(notebook=True)\n"
   ]
  },
  {
   "cell_type": "code",
   "execution_count": 5,
   "metadata": {},
   "outputs": [],
   "source": [
    "\n",
    "sph = pv.Sphere(theta_resolution=32, phi_resolution=32)\n",
    "\n",
    "b_lines = []\n",
    "for b in mol.bonds:\n",
    "    i1, i2 = map(mol.get_atom_index, (b.a1, b.a2))\n",
    "    b_lines.append((2, i1, i2))\n",
    "\n",
    "points = pv.PolyData(mol.coords, lines=b_lines, n_lines=mol.n_bonds)\n",
    "points.point_data[\"element\"] = [a.Z for a in mol.atoms]\n",
    "points[\"radius\"] = a_sizes\n",
    "\n",
    "\n",
    "val = np.linspace(-1, 118, 120)\n",
    "colors = np.zeros((120, 4))\n",
    "for i, elt in enumerate(ml.chem.Element):\n",
    "    clr = elt.color_cpk or \"#000000\"\n",
    "    r, g, b = ImageColor.getrgb(clr)\n",
    "    colors[val > (elt.z - 0.5)] = [r / 255, g / 255, b / 255, 1]\n",
    "\n",
    "cmap_cpk = pv.LookupTable(\n",
    "    ListedColormap(colors), n_values=120, scalar_range=(-1, 118)\n",
    ")\n",
    "\n",
    "spherez = points.glyph(\n",
    "    geom=sph,\n",
    "    orient=False,\n",
    "    scale=\"radius\",\n",
    "    factor=0.5,\n",
    "    # progress_bar=True,\n",
    ")\n",
    "\n",
    "tubez = points.tube(\n",
    "    radius=0.05,\n",
    "    # progress_bar=True,\n",
    "    n_sides=24,\n",
    "    capping=False,\n",
    ")\n",
    "\n",
    "\n",
    "# plotter.add_mesh(\n",
    "#     spherez,\n",
    "#     color=\"white\",\n",
    "#     smooth_shading=True,\n",
    "#     scalars=\"element\",\n",
    "#     show_scalar_bar=False,\n",
    "#     diffuse=0.7,\n",
    "#     ambient=0.1,\n",
    "#     specular=0.2,\n",
    "#     specular_power=5,\n",
    "#     cmap=cmap_cpk,\n",
    "#     culling=True,\n",
    "# )\n",
    "\n",
    "# plotter.add_mesh(\n",
    "#     tubez,\n",
    "#     color=\"white\",\n",
    "#     smooth_shading=True,\n",
    "#     scalars=\"element\",\n",
    "#     show_scalar_bar=False,\n",
    "#     diffuse=0.7,\n",
    "#     ambient=0.1,\n",
    "#     specular=0.2,\n",
    "#     specular_power=5,\n",
    "#     interpolate_before_map=False,\n",
    "#     cmap=cmap_cpk,\n",
    "#     culling=True,\n",
    "# )\n",
    "\n",
    "# heavy = pv.PolyData(mol.heavy.coords)\n",
    "# heavy[\"labels\"] = [\n",
    "#     f\"{a.element.symbol}{i}\" for i, a in enumerate(mol.heavy.atoms)\n",
    "# ]\n",
    "\n",
    "# plotter.add_point_labels(\n",
    "#     heavy,\n",
    "#     \"labels\",\n",
    "#     font_size=20,\n",
    "#     shadow=True,\n",
    "#     shape_color=\"white\",\n",
    "#     shape_opacity=0.25,\n",
    "#     show_points=False,\n",
    "#     always_visible=True,\n",
    "#     margin=5,\n",
    "#     font_family=\"courier\",\n",
    "# )\n",
    "\n",
    "# plotter.enable_anti_aliasing(aa_type=\"msaa\", multi_samples=4)\n",
    "# plotter.view_xy()\n",
    "# plotter.add_axes()\n",
    "# plotter.enable_stereo_render()\n"
   ]
  },
  {
   "cell_type": "code",
   "execution_count": null,
   "metadata": {},
   "outputs": [],
   "source": [
    "from itkwidgets import view\n",
    "\n",
    "view."
   ]
  }
 ],
 "metadata": {
  "kernelspec": {
   "display_name": "molli-dev",
   "language": "python",
   "name": "python3"
  },
  "language_info": {
   "codemirror_mode": {
    "name": "ipython",
    "version": 3
   },
   "file_extension": ".py",
   "mimetype": "text/x-python",
   "name": "python",
   "nbconvert_exporter": "python",
   "pygments_lexer": "ipython3",
   "version": "3.10.8 | packaged by conda-forge | (main, Nov 22 2022, 08:23:14) [GCC 10.4.0]"
  },
  "orig_nbformat": 4,
  "vscode": {
   "interpreter": {
    "hash": "4c66e8f176fbf3df590ec010f6af88e4e499f7786e053ca101a7d8aa8a685488"
   }
  }
 },
 "nbformat": 4,
 "nbformat_minor": 2
}
