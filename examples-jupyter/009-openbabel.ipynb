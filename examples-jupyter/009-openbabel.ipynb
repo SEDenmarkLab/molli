{
 "cells": [
  {
   "cell_type": "markdown",
   "metadata": {},
   "source": [
    "# OpenBabel Interface\n",
    "\n",
    "In this tutorial we will demonstrate how `molli` `Molecule` objects can be efficiently converted into `openbabel` objects.\n",
    "\n",
    "Note: `openbabel` is not natively installed within Molli, but it can be added through conda using the line:\n",
    "`conda install openbabel`"
   ]
  },
  {
   "cell_type": "code",
   "execution_count": 1,
   "metadata": {},
   "outputs": [],
   "source": [
    "#Imports molli\n",
    "import molli as ml\n",
    "\n",
    "#Imports the Openbabel\n",
    "from openbabel import openbabel as ob\n",
    "\n",
    "#Imports molli interface with openbabel for additional functionality\n",
    "from molli.external import openbabel as mob\n",
    "ml.visual.configure(bgcolor='white')"
   ]
  },
  {
   "cell_type": "markdown",
   "metadata": {},
   "source": [
    "The following cell shows a conversion of an example molecule into openbabel `OBMol` object"
   ]
  },
  {
   "cell_type": "code",
   "execution_count": 2,
   "metadata": {},
   "outputs": [],
   "source": [
    "#This loads the Molli molecule object\n",
    "ml_mol = ml.load(ml.files.dendrobine_mol2)\n",
    "\n",
    "#This creates an instance of an OBMol object\n",
    "obmol = mob.to_obmol(ml_mol)"
   ]
  },
  {
   "cell_type": "markdown",
   "metadata": {},
   "source": [
    "Now let's make sure that what we get out of that operation is a valid `OBMol` object by converting it into a human readable representation."
   ]
  },
  {
   "cell_type": "code",
   "execution_count": null,
   "metadata": {},
   "outputs": [
    {
     "name": "stdout",
     "output_type": "stream",
     "text": [
      "@<TRIPOS>MOLECULE\n",
      "dendrobine\n",
      " 44 47 0 0 0\n",
      "SMALL\n",
      "GASTEIGER\n",
      "\n",
      "@<TRIPOS>ATOM\n",
      "      1 N           1.2960   -0.2319    1.2670 N.3     1  UNL1       -0.2981\n",
      "      2 C           0.0573   -0.0226    2.1227 C.3     1  UNL1        0.0024\n",
      "      3 C          -1.0974   -0.4738    1.2059 C.3     1  UNL1       -0.0210\n",
      "      4 C          -0.4284   -0.4113   -0.1687 C.3     1  UNL1       -0.0055\n",
      "      5 C           0.8683    0.3598   -0.0004 C.3     1  UNL1        0.0534\n",
      "      6 C           2.4562    0.4417    1.8361 C.3     1  UNL1       -0.0123\n",
      "      7 C          -2.4328    0.2659    0.9832 C.3     1  UNL1       -0.0482\n",
      "      8 C          -2.6553    0.2472   -0.5801 C.3     1  UNL1       -0.0486\n",
      "      9 C          -1.2428    0.5626   -1.0163 C.3     1  UNL1       -0.0205\n",
      "     10 C           1.5353    0.5790   -1.4179 C.3     1  UNL1        0.1228\n",
      "     11 O           1.3410    2.0363   -1.6507 O.3     1  UNL1       -0.4592\n",
      "     12 C           0.0782    2.2291   -2.2166 C.2     1  UNL1        0.3112\n",
      "     13 C          -0.5977    0.8539   -2.4020 C.3     1  UNL1        0.0662\n",
      "     14 O          -0.4135    3.3180   -2.4552 O.2     1  UNL1       -0.2505\n",
      "     15 C           0.7602    0.1678   -2.7001 C.3     1  UNL1        0.0132\n",
      "     16 C           0.7812   -1.2141   -3.3773 C.3     1  UNL1       -0.0397\n",
      "     17 H           1.2426    0.7684   -3.4982 H       1  UNL1        0.0347\n",
      "     18 H          -1.1794    1.5580   -0.5377 H       1  UNL1        0.0315\n",
      "     19 H           0.6516    1.3952    0.3174 H       1  UNL1        0.0504\n",
      "     20 H          -1.3722   -1.4910    1.5134 H       1  UNL1        0.0319\n",
      "     21 C          -0.2828   -1.8835   -0.5957 C.3     1  UNL1       -0.0574\n",
      "     22 C           2.1775   -1.8412   -3.3215 C.3     1  UNL1       -0.0623\n",
      "     23 C           0.3485   -1.1006   -4.8514 C.3     1  UNL1       -0.0623\n",
      "     24 H           0.0590   -1.9009   -2.9478 H       1  UNL1        0.0300\n",
      "     25 H          -0.0649    1.0264    2.4198 H       1  UNL1        0.0429\n",
      "     26 H           0.1162   -0.6408    3.0244 H       1  UNL1        0.0429\n",
      "     27 H           2.7150   -0.0049    2.8019 H       1  UNL1        0.0391\n",
      "     28 H           2.2927    1.5147    1.9874 H       1  UNL1        0.0391\n",
      "     29 H           3.3255    0.3162    1.1818 H       1  UNL1        0.0391\n",
      "     30 H          -2.3716    1.2962    1.3534 H       1  UNL1        0.0269\n",
      "     31 H          -3.2639   -0.2261    1.4982 H       1  UNL1        0.0269\n",
      "     32 H          -3.3810    1.0069   -0.8836 H       1  UNL1        0.0268\n",
      "     33 H          -2.9934   -0.7358   -0.9222 H       1  UNL1        0.0268\n",
      "     34 H           2.6088    0.3798   -1.4394 H       1  UNL1        0.0753\n",
      "     35 H          -1.2929    0.8772   -3.2423 H       1  UNL1        0.0420\n",
      "     36 H          -0.3075   -2.5854    0.2475 H       1  UNL1        0.0236\n",
      "     37 H           0.6920   -2.0890   -1.0319 H       1  UNL1        0.0236\n",
      "     38 H          -1.0943   -2.1904   -1.2614 H       1  UNL1        0.0236\n",
      "     39 H           2.1795   -2.8241   -3.8049 H       1  UNL1        0.0232\n",
      "     40 H           2.5176   -1.9822   -2.2914 H       1  UNL1        0.0232\n",
      "     41 H           2.9143   -1.2135   -3.8343 H       1  UNL1        0.0232\n",
      "     42 H           0.3522   -2.0859   -5.3307 H       1  UNL1        0.0232\n",
      "     43 H           1.0232   -0.4520   -5.4210 H       1  UNL1        0.0232\n",
      "     44 H          -0.6652   -0.6967   -4.9346 H       1  UNL1        0.0232\n",
      "@<TRIPOS>BOND\n",
      "     1    43    23    1\n",
      "     2    42    23    1\n",
      "     3    44    23    1\n",
      "     4    23    16    1\n",
      "     5    41    22    1\n",
      "     6    39    22    1\n",
      "     7    17    15    1\n",
      "     8    16    22    1\n",
      "     9    16    24    1\n",
      "    10    16    15    1\n",
      "    11    22    40    1\n",
      "    12    35    13    1\n",
      "    13    15    13    1\n",
      "    14    15    10    1\n",
      "    15    14    12    2\n",
      "    16    13    12    1\n",
      "    17    13     9    1\n",
      "    18    12    11    1\n",
      "    19    11    10    1\n",
      "    20    34    10    1\n",
      "    21    10     5    1\n",
      "    22    38    21    1\n",
      "    23    37    21    1\n",
      "    24     9     8    1\n",
      "    25     9    18    1\n",
      "    26     9     4    1\n",
      "    27    33     8    1\n",
      "    28    32     8    1\n",
      "    29    21     4    1\n",
      "    30    21    36    1\n",
      "    31     8     7    1\n",
      "    32     4     5    1\n",
      "    33     4     3    1\n",
      "    34     5    19    1\n",
      "    35     5     1    1\n",
      "    36     7     3    1\n",
      "    37     7    30    1\n",
      "    38     7    31    1\n",
      "    39    29     6    1\n",
      "    40     3    20    1\n",
      "    41     3     2    1\n",
      "    42     1     6    1\n",
      "    43     1     2    1\n",
      "    44     6    28    1\n",
      "    45     6    27    1\n",
      "    46     2    25    1\n",
      "    47     2    26    1\n",
      "\n"
     ]
    }
   ],
   "source": [
    "converter = ob.OBConversion()\n",
    "converter.SetInAndOutFormats(\"mol2\", \"mol2\")\n",
    "print(converter.WriteString(obmol))"
   ]
  },
  {
   "cell_type": "markdown",
   "metadata": {},
   "source": [
    "Molli has built in wrappers that can interface within Openbabel. For example, an `ml_mol` object could be converted to a file format that is not natively available as an output within Molli, such as SDF or SMILES, using the `ml.dumps` function."
   ]
  },
  {
   "cell_type": "code",
   "execution_count": 4,
   "metadata": {},
   "outputs": [
    {
     "name": "stdout",
     "output_type": "stream",
     "text": [
      "dendrobine\n",
      " OpenBabel10212414373D\n",
      "\n",
      " 44 47  0  0  1  0  0  0  0  0999 V2000\n",
      "    1.2960   -0.2319    1.2670 N   0  0  0  0  0  0  0  0  0  0  0  0\n",
      "    0.0573   -0.0226    2.1227 C   0  0  0  0  0  0  0  0  0  0  0  0\n",
      "   -1.0974   -0.4738    1.2059 C   0  0  2  0  0  0  0  0  0  0  0  0\n",
      "   -0.4284   -0.4113   -0.1687 C   0  0  2  0  0  0  0  0  0  0  0  0\n",
      "    0.8683    0.3598   -0.0004 C   0  0  2  0  0  0  0  0  0  0  0  0\n",
      "    2.4562    0.4417    1.8361 C   0  0  0  0  0  0  0  0  0  0  0  0\n",
      "   -2.4328    0.2659    0.9832 C   0  0  0  0  0  0  0  0  0  0  0  0\n",
      "   -2.6553    0.2472   -0.5801 C   0  0  0  0  0  0  0  0  0  0  0  0\n",
      "   -1.2428    0.5626   -1.0163 C   0  0  2  0  0  0  0  0  0  0  0  0\n",
      "    1.5353    0.5790   -1.4179 C   0  0  2  0  0  0  0  0  0  0  0  0\n",
      "    1.3410    2.0363   -1.6507 O   0  0  0  0  0  0  0  0  0  0  0  0\n",
      "    0.0782    2.2291   -2.2166 C   0  0  0  0  0  0  0  0  0  0  0  0\n",
      "   -0.5977    0.8539   -2.4020 C   0  0  1  0  0  0  0  0  0  0  0  0\n",
      "   -0.4135    3.3180   -2.4552 O   0  0  0  0  0  0  0  0  0  0  0  0\n",
      "    0.7602    0.1678   -2.7001 C   0  0  2  0  0  0  0  0  0  0  0  0\n",
      "    0.7812   -1.2141   -3.3773 C   0  0  0  0  0  0  0  0  0  0  0  0\n",
      "    1.2426    0.7684   -3.4982 H   0  0  0  0  0  0  0  0  0  0  0  0\n",
      "   -1.1794    1.5580   -0.5377 H   0  0  0  0  0  0  0  0  0  0  0  0\n",
      "    0.6516    1.3952    0.3174 H   0  0  0  0  0  0  0  0  0  0  0  0\n",
      "   -1.3722   -1.4910    1.5134 H   0  0  0  0  0  0  0  0  0  0  0  0\n",
      "   -0.2828   -1.8835   -0.5957 C   0  0  0  0  0  0  0  0  0  0  0  0\n",
      "    2.1775   -1.8412   -3.3215 C   0  0  0  0  0  0  0  0  0  0  0  0\n",
      "    0.3485   -1.1006   -4.8514 C   0  0  0  0  0  0  0  0  0  0  0  0\n",
      "    0.0590   -1.9009   -2.9478 H   0  0  0  0  0  0  0  0  0  0  0  0\n",
      "   -0.0649    1.0264    2.4198 H   0  0  0  0  0  0  0  0  0  0  0  0\n",
      "    0.1162   -0.6408    3.0244 H   0  0  0  0  0  0  0  0  0  0  0  0\n",
      "    2.7150   -0.0049    2.8019 H   0  0  0  0  0  0  0  0  0  0  0  0\n",
      "    2.2927    1.5147    1.9874 H   0  0  0  0  0  0  0  0  0  0  0  0\n",
      "    3.3255    0.3162    1.1818 H   0  0  0  0  0  0  0  0  0  0  0  0\n",
      "   -2.3716    1.2962    1.3534 H   0  0  0  0  0  0  0  0  0  0  0  0\n",
      "   -3.2639   -0.2261    1.4982 H   0  0  0  0  0  0  0  0  0  0  0  0\n",
      "   -3.3810    1.0069   -0.8836 H   0  0  0  0  0  0  0  0  0  0  0  0\n",
      "   -2.9934   -0.7358   -0.9222 H   0  0  0  0  0  0  0  0  0  0  0  0\n",
      "    2.6088    0.3798   -1.4394 H   0  0  0  0  0  0  0  0  0  0  0  0\n",
      "   -1.2929    0.8772   -3.2423 H   0  0  0  0  0  0  0  0  0  0  0  0\n",
      "   -0.3075   -2.5854    0.2475 H   0  0  0  0  0  0  0  0  0  0  0  0\n",
      "    0.6920   -2.0890   -1.0319 H   0  0  0  0  0  0  0  0  0  0  0  0\n",
      "   -1.0943   -2.1904   -1.2614 H   0  0  0  0  0  0  0  0  0  0  0  0\n",
      "    2.1795   -2.8241   -3.8049 H   0  0  0  0  0  0  0  0  0  0  0  0\n",
      "    2.5176   -1.9822   -2.2914 H   0  0  0  0  0  0  0  0  0  0  0  0\n",
      "    2.9143   -1.2135   -3.8343 H   0  0  0  0  0  0  0  0  0  0  0  0\n",
      "    0.3522   -2.0859   -5.3307 H   0  0  0  0  0  0  0  0  0  0  0  0\n",
      "    1.0232   -0.4520   -5.4210 H   0  0  0  0  0  0  0  0  0  0  0  0\n",
      "   -0.6652   -0.6967   -4.9346 H   0  0  0  0  0  0  0  0  0  0  0  0\n",
      "  1  6  1  0  0  0  0\n",
      "  1  2  1  0  0  0  0\n",
      "  2 25  1  0  0  0  0\n",
      "  2 26  1  0  0  0  0\n",
      "  3 20  1  1  0  0  0\n",
      "  3  2  1  0  0  0  0\n",
      "  4 21  1  6  0  0  0\n",
      "  4  5  1  0  0  0  0\n",
      "  4  3  1  0  0  0  0\n",
      "  5 19  1  1  0  0  0\n",
      "  5  1  1  0  0  0  0\n",
      "  6 28  1  0  0  0  0\n",
      "  6 27  1  0  0  0  0\n",
      "  7  3  1  0  0  0  0\n",
      "  7 30  1  0  0  0  0\n",
      "  7 31  1  0  0  0  0\n",
      "  8  7  1  0  0  0  0\n",
      "  9  8  1  0  0  0  0\n",
      "  9 18  1  1  0  0  0\n",
      "  9  4  1  0  0  0  0\n",
      " 10 34  1  6  0  0  0\n",
      " 10  5  1  0  0  0  0\n",
      " 11 10  1  0  0  0  0\n",
      " 12 11  1  0  0  0  0\n",
      " 13 35  1  6  0  0  0\n",
      " 13 12  1  0  0  0  0\n",
      " 13  9  1  0  0  0  0\n",
      " 14 12  2  0  0  0  0\n",
      " 15 17  1  6  0  0  0\n",
      " 15 13  1  0  0  0  0\n",
      " 15 10  1  0  0  0  0\n",
      " 16 22  1  0  0  0  0\n",
      " 16 24  1  0  0  0  0\n",
      " 16 15  1  0  0  0  0\n",
      " 21 36  1  0  0  0  0\n",
      " 22 40  1  0  0  0  0\n",
      " 23 16  1  0  0  0  0\n",
      " 29  6  1  0  0  0  0\n",
      " 32  8  1  0  0  0  0\n",
      " 33  8  1  0  0  0  0\n",
      " 37 21  1  0  0  0  0\n",
      " 38 21  1  0  0  0  0\n",
      " 39 22  1  0  0  0  0\n",
      " 41 22  1  0  0  0  0\n",
      " 42 23  1  0  0  0  0\n",
      " 43 23  1  0  0  0  0\n",
      " 44 23  1  0  0  0  0\n",
      "M  END\n",
      "$$$$\n",
      "\n",
      "N1(C[C@@H]2[C@@]3([C@@H]1[C@@H]1OC(=O)[C@H]([C@H]3CC2)[C@@H]1C(C)C)C)C\tdendrobine\n",
      "\n"
     ]
    }
   ],
   "source": [
    "sdf_str = ml.dumps(ml_mol, fmt='sdf', writer='openbabel')\n",
    "\n",
    "print(sdf_str)\n",
    "\n",
    "smi_str = ml.dumps(ml_mol, fmt='smi', writer='openbabel')\n",
    "\n",
    "print(smi_str)"
   ]
  },
  {
   "attachments": {
    "image.png": {
     "image/png": "[encoded data removed]"
    }
   },
   "cell_type": "markdown",
   "metadata": {},
   "source": [
    "## CDXMLFile to Optimized Structure Example\n",
    "\n",
    "The `molli` package does not have native geometry optimization; however, the interface with `openbabel` allows for the use of molecular forcefields to return updated coordinates for the `ml_mol`. This will be shown with an axial chiral structure R-BINOL.\n",
    "\n",
    "![image.png](attachment:image.png)"
   ]
  },
  {
   "cell_type": "code",
   "execution_count": 5,
   "metadata": {},
   "outputs": [
    {
     "name": "stderr",
     "output_type": "stream",
     "text": [
      "/home/blakeo2/new_molli/molli_dev/molli/molli/ftypes/cdxml.py:157: CDXMLSyntaxWarning: CDXML file /home/blakeo2/new_molli/molli_dev/molli/molli/files/parser_demo.cdxml contains redundant label 'naphthalene' Only the first occurrence will be kept.\n",
      "  warn(\n"
     ]
    },
    {
     "data": {
      "application/3dmoljs_load.v0": "<div id=\"3dmolviewer_17295394453724828\"  style=\"position: relative; width: 100%; height: 500px;\">\n        <p id=\"3dmolwarning_17295394453724828\" style=\"background-color:#ffcccc;color:black\">You appear to be running in JupyterLab (or JavaScript failed to load for some other reason).  You need to install the 3dmol extension: <br>\n        <tt>jupyter labextension install jupyterlab_3dmol</tt></p>\n        </div>\n<script>\n\nvar loadScriptAsync = function(uri){\n  return new Promise((resolve, reject) => {\n    //this is to ignore the existence of requirejs amd\n    var savedexports, savedmodule;\n    if (typeof exports !== 'undefined') savedexports = exports;\n    else exports = {}\n    if (typeof module !== 'undefined') savedmodule = module;\n    else module = {}\n\n    var tag = document.createElement('script');\n    tag.src = uri;\n    tag.async = true;\n    tag.onload = () => {\n        exports = savedexports;\n        module = savedmodule;\n        resolve();\n    };\n  var firstScriptTag = document.getElementsByTagName('script')[0];\n  firstScriptTag.parentNode.insertBefore(tag, firstScriptTag);\n});\n};\n\nif(typeof $3Dmolpromise === 'undefined') {\n$3Dmolpromise = null;\n  $3Dmolpromise = loadScriptAsync('https://cdnjs.cloudflare.com/ajax/libs/3Dmol/2.0.4/3Dmol-min.js');\n}\n\nvar viewer_17295394453724828 = null;\nvar warn = document.getElementById(\"3dmolwarning_17295394453724828\");\nif(warn) {\n    warn.parentNode.removeChild(warn);\n}\n$3Dmolpromise.then(function() {\nviewer_17295394453724828 = $3Dmol.createViewer(document.getElementById(\"3dmolviewer_17295394453724828\"),{backgroundColor:\"white\"});\nviewer_17295394453724828.zoomTo();\n\tviewer_17295394453724828.addModel(\"@<TRIPOS>MOLECULE\\nr_binol\\n36 39 0 0 0\\nSMALL\\nNO_CHARGES\\n\\n@<TRIPOS>ATOM\\n1 None -2.9524 3.0000 0.0000 C\\n2 None -2.9524 1.5000 0.0000 C\\n3 None -1.6538 0.7500 0.0000 C\\n4 None -0.3538 1.5000 0.0000 C\\n5 None -0.3538 3.0000 0.0000 C\\n6 None -1.6538 3.7500 0.0000 C\\n7 None 0.9448 0.7500 1.0000 C\\n8 None 2.2434 1.5000 2.0000 C\\n9 None 2.2434 3.0000 2.0000 C\\n10 None 0.9448 3.7500 1.0000 C\\n11 None 0.9448 -0.7500 1.0000 C\\n12 None -0.3538 -1.5000 1.0000 C\\n13 None -0.3538 -3.0000 1.0000 C\\n14 None 0.9448 -3.7500 1.0000 C\\n15 None 2.2434 -3.0000 1.0000 C\\n16 None 2.2434 -1.5000 1.0000 C\\n17 None -1.6538 -0.7500 2.0000 C\\n18 None -2.9524 -1.5000 3.0000 C\\n19 None -2.9524 -3.0000 3.0000 C\\n20 None -1.6538 -3.7500 2.0000 C\\n21 None 3.5434 0.7500 2.0000 O\\n22 None 3.5434 -0.7500 1.0000 O\\n23 None -3.8790 3.5351 0.0000 H\\n24 None -3.8790 0.9649 0.0000 H\\n25 None -1.6548 -0.3200 0.0000 H\\n26 None -1.6548 4.8200 0.0000 H\\n27 None 3.0143 3.4452 2.5936 H\\n28 None 0.9448 4.8200 1.0000 H\\n29 None 0.9448 -4.8200 1.0000 H\\n30 None 3.1700 -3.5351 1.0000 H\\n31 None -1.6548 0.3200 2.0000 H\\n32 None -3.7233 -1.0548 3.5936 H\\n33 None -3.7233 -3.4452 3.5936 H\\n34 None -1.6548 -4.8200 2.0000 H\\n35 None 4.3663 0.2753 2.0000 H\\n36 None 4.3663 -0.2753 1.0000 H\\n@<TRIPOS>BOND\\n1 1 2 2\\n2 2 3 1\\n3 3 4 2\\n4 4 5 1\\n5 5 6 2\\n6 6 1 1\\n7 4 7 1\\n8 7 8 2\\n9 8 9 1\\n10 9 10 2\\n11 10 5 1\\n12 7 11 1\\n13 11 12 2\\n14 12 13 1\\n15 13 14 2\\n16 14 15 1\\n17 15 16 2\\n18 16 11 1\\n19 12 17 1\\n20 17 18 2\\n21 18 19 1\\n22 19 20 2\\n23 20 13 1\\n24 8 21 1\\n25 16 22 1\\n26 1 23 1\\n27 2 24 1\\n28 3 25 1\\n29 6 26 1\\n30 9 27 1\\n31 10 28 1\\n32 14 29 1\\n33 15 30 1\\n34 17 31 1\\n35 18 32 1\\n36 19 33 1\\n37 20 34 1\\n38 21 35 1\\n39 22 36 1\\n\\n\",\"mol2\");\n\tviewer_17295394453724828.setStyle({\"stick\": {\"radius\": 0.1}, \"sphere\": {\"scale\": 0.15}});\n\tviewer_17295394453724828.setHoverable({},true,\"\\n        function(atom,viewer,event,container) {\\n            if(!atom.label) {\\n                atom.label = viewer.addLabel(atom.elem + '(' + atom.index + ')', {position: atom, backgroundColor: 'silver', fontColor:'black'});\\n            }\\n        }\\n        \",\"\\n        function(atom,viewer) { \\n            if(atom.label) {\\n                viewer.removeLabel(atom.label);\\n                delete atom.label;\\n            }\\n        }\\n        \");\n\tviewer_17295394453724828.zoomTo();\n\tviewer_17295394453724828.setBackgroundColor(\"white\");\nviewer_17295394453724828.render();\n});\n</script>",
      "text/html": [
       "<div id=\"3dmolviewer_17295394453724828\"  style=\"position: relative; width: 100%; height: 500px;\">\n",
       "        <p id=\"3dmolwarning_17295394453724828\" style=\"background-color:#ffcccc;color:black\">You appear to be running in JupyterLab (or JavaScript failed to load for some other reason).  You need to install the 3dmol extension: <br>\n",
       "        <tt>jupyter labextension install jupyterlab_3dmol</tt></p>\n",
       "        </div>\n",
       "<script>\n",
       "\n",
       "var loadScriptAsync = function(uri){\n",
       "  return new Promise((resolve, reject) => {\n",
       "    //this is to ignore the existence of requirejs amd\n",
       "    var savedexports, savedmodule;\n",
       "    if (typeof exports !== 'undefined') savedexports = exports;\n",
       "    else exports = {}\n",
       "    if (typeof module !== 'undefined') savedmodule = module;\n",
       "    else module = {}\n",
       "\n",
       "    var tag = document.createElement('script');\n",
       "    tag.src = uri;\n",
       "    tag.async = true;\n",
       "    tag.onload = () => {\n",
       "        exports = savedexports;\n",
       "        module = savedmodule;\n",
       "        resolve();\n",
       "    };\n",
       "  var firstScriptTag = document.getElementsByTagName('script')[0];\n",
       "  firstScriptTag.parentNode.insertBefore(tag, firstScriptTag);\n",
       "});\n",
       "};\n",
       "\n",
       "if(typeof $3Dmolpromise === 'undefined') {\n",
       "$3Dmolpromise = null;\n",
       "  $3Dmolpromise = loadScriptAsync('https://cdnjs.cloudflare.com/ajax/libs/3Dmol/2.0.4/3Dmol-min.js');\n",
       "}\n",
       "\n",
       "var viewer_17295394453724828 = null;\n",
       "var warn = document.getElementById(\"3dmolwarning_17295394453724828\");\n",
       "if(warn) {\n",
       "    warn.parentNode.removeChild(warn);\n",
       "}\n",
       "$3Dmolpromise.then(function() {\n",
       "viewer_17295394453724828 = $3Dmol.createViewer(document.getElementById(\"3dmolviewer_17295394453724828\"),{backgroundColor:\"white\"});\n",
       "viewer_17295394453724828.zoomTo();\n",
       "\tviewer_17295394453724828.addModel(\"@<TRIPOS>MOLECULE\\nr_binol\\n36 39 0 0 0\\nSMALL\\nNO_CHARGES\\n\\n@<TRIPOS>ATOM\\n1 None -2.9524 3.0000 0.0000 C\\n2 None -2.9524 1.5000 0.0000 C\\n3 None -1.6538 0.7500 0.0000 C\\n4 None -0.3538 1.5000 0.0000 C\\n5 None -0.3538 3.0000 0.0000 C\\n6 None -1.6538 3.7500 0.0000 C\\n7 None 0.9448 0.7500 1.0000 C\\n8 None 2.2434 1.5000 2.0000 C\\n9 None 2.2434 3.0000 2.0000 C\\n10 None 0.9448 3.7500 1.0000 C\\n11 None 0.9448 -0.7500 1.0000 C\\n12 None -0.3538 -1.5000 1.0000 C\\n13 None -0.3538 -3.0000 1.0000 C\\n14 None 0.9448 -3.7500 1.0000 C\\n15 None 2.2434 -3.0000 1.0000 C\\n16 None 2.2434 -1.5000 1.0000 C\\n17 None -1.6538 -0.7500 2.0000 C\\n18 None -2.9524 -1.5000 3.0000 C\\n19 None -2.9524 -3.0000 3.0000 C\\n20 None -1.6538 -3.7500 2.0000 C\\n21 None 3.5434 0.7500 2.0000 O\\n22 None 3.5434 -0.7500 1.0000 O\\n23 None -3.8790 3.5351 0.0000 H\\n24 None -3.8790 0.9649 0.0000 H\\n25 None -1.6548 -0.3200 0.0000 H\\n26 None -1.6548 4.8200 0.0000 H\\n27 None 3.0143 3.4452 2.5936 H\\n28 None 0.9448 4.8200 1.0000 H\\n29 None 0.9448 -4.8200 1.0000 H\\n30 None 3.1700 -3.5351 1.0000 H\\n31 None -1.6548 0.3200 2.0000 H\\n32 None -3.7233 -1.0548 3.5936 H\\n33 None -3.7233 -3.4452 3.5936 H\\n34 None -1.6548 -4.8200 2.0000 H\\n35 None 4.3663 0.2753 2.0000 H\\n36 None 4.3663 -0.2753 1.0000 H\\n@<TRIPOS>BOND\\n1 1 2 2\\n2 2 3 1\\n3 3 4 2\\n4 4 5 1\\n5 5 6 2\\n6 6 1 1\\n7 4 7 1\\n8 7 8 2\\n9 8 9 1\\n10 9 10 2\\n11 10 5 1\\n12 7 11 1\\n13 11 12 2\\n14 12 13 1\\n15 13 14 2\\n16 14 15 1\\n17 15 16 2\\n18 16 11 1\\n19 12 17 1\\n20 17 18 2\\n21 18 19 1\\n22 19 20 2\\n23 20 13 1\\n24 8 21 1\\n25 16 22 1\\n26 1 23 1\\n27 2 24 1\\n28 3 25 1\\n29 6 26 1\\n30 9 27 1\\n31 10 28 1\\n32 14 29 1\\n33 15 30 1\\n34 17 31 1\\n35 18 32 1\\n36 19 33 1\\n37 20 34 1\\n38 21 35 1\\n39 22 36 1\\n\\n\",\"mol2\");\n",
       "\tviewer_17295394453724828.setStyle({\"stick\": {\"radius\": 0.1}, \"sphere\": {\"scale\": 0.15}});\n",
       "\tviewer_17295394453724828.setHoverable({},true,\"\\n        function(atom,viewer,event,container) {\\n            if(!atom.label) {\\n                atom.label = viewer.addLabel(atom.elem + '(' + atom.index + ')', {position: atom, backgroundColor: 'silver', fontColor:'black'});\\n            }\\n        }\\n        \",\"\\n        function(atom,viewer) { \\n            if(atom.label) {\\n                viewer.removeLabel(atom.label);\\n                delete atom.label;\\n            }\\n        }\\n        \");\n",
       "\tviewer_17295394453724828.zoomTo();\n",
       "\tviewer_17295394453724828.setBackgroundColor(\"white\");\n",
       "viewer_17295394453724828.render();\n",
       "});\n",
       "</script>"
      ]
     },
     "metadata": {},
     "output_type": "display_data"
    },
    {
     "data": {
      "application/3dmoljs_load.v0": "<script>\n            $3Dmolpromise.then(function() { //wrap in promise for non-interactive functionality\n                \n                viewer_17295394453724828.render();\n            });\n            </script>",
      "text/html": [
       "<script>\n",
       "            $3Dmolpromise.then(function() { //wrap in promise for non-interactive functionality\n",
       "                \n",
       "                viewer_17295394453724828.render();\n",
       "            });\n",
       "            </script>"
      ]
     },
     "metadata": {},
     "output_type": "display_data"
    },
    {
     "data": {
      "text/plain": [
       "Molecule(name='r_binol', formula='C20 H14 O2')"
      ]
     },
     "execution_count": 5,
     "metadata": {},
     "output_type": "execute_result"
    }
   ],
   "source": [
    "# Reads CDXML File\n",
    "cdxf = ml.CDXMLFile(ml.files.parser_demo_cdxml)\n",
    "\n",
    "# Access molecule object\n",
    "ml_mol = cdxf['r_binol']\n",
    "\n",
    "# Adds implicit hydrogens\n",
    "ml_mol.add_implicit_hydrogens()\n",
    "ml_mol"
   ]
  },
  {
   "cell_type": "code",
   "execution_count": 6,
   "metadata": {},
   "outputs": [
    {
     "data": {
      "application/3dmoljs_load.v0": "<div id=\"3dmolviewer_17295394458629186\"  style=\"position: relative; width: 100%; height: 500px;\">\n        <p id=\"3dmolwarning_17295394458629186\" style=\"background-color:#ffcccc;color:black\">You appear to be running in JupyterLab (or JavaScript failed to load for some other reason).  You need to install the 3dmol extension: <br>\n        <tt>jupyter labextension install jupyterlab_3dmol</tt></p>\n        </div>\n<script>\n\nvar loadScriptAsync = function(uri){\n  return new Promise((resolve, reject) => {\n    //this is to ignore the existence of requirejs amd\n    var savedexports, savedmodule;\n    if (typeof exports !== 'undefined') savedexports = exports;\n    else exports = {}\n    if (typeof module !== 'undefined') savedmodule = module;\n    else module = {}\n\n    var tag = document.createElement('script');\n    tag.src = uri;\n    tag.async = true;\n    tag.onload = () => {\n        exports = savedexports;\n        module = savedmodule;\n        resolve();\n    };\n  var firstScriptTag = document.getElementsByTagName('script')[0];\n  firstScriptTag.parentNode.insertBefore(tag, firstScriptTag);\n});\n};\n\nif(typeof $3Dmolpromise === 'undefined') {\n$3Dmolpromise = null;\n  $3Dmolpromise = loadScriptAsync('https://cdnjs.cloudflare.com/ajax/libs/3Dmol/2.0.4/3Dmol-min.js');\n}\n\nvar viewer_17295394458629186 = null;\nvar warn = document.getElementById(\"3dmolwarning_17295394458629186\");\nif(warn) {\n    warn.parentNode.removeChild(warn);\n}\n$3Dmolpromise.then(function() {\nviewer_17295394458629186 = $3Dmol.createViewer(document.getElementById(\"3dmolviewer_17295394458629186\"),{backgroundColor:\"white\"});\nviewer_17295394458629186.zoomTo();\n\tviewer_17295394458629186.addModel(\"@<TRIPOS>MOLECULE\\nr_binol\\n36 39 0 0 0\\nSMALL\\nNO_CHARGES\\n\\n@<TRIPOS>ATOM\\n1 None -1.9882 3.6210 -0.1591 C\\n2 None -1.9339 2.2435 -0.3081 C\\n3 None -0.8913 1.5219 0.2780 C\\n4 None 0.1205 2.1448 1.0523 C\\n5 None 0.0595 3.5612 1.1614 C\\n6 None -0.9916 4.2748 0.5615 C\\n7 None 1.1711 1.4321 1.7246 C\\n8 None 2.1561 2.1873 2.3965 C\\n9 None 2.0933 3.5730 2.4808 C\\n10 None 1.0445 4.2534 1.8753 C\\n11 None 1.1988 -0.0662 1.7544 C\\n12 None 0.1615 -0.8251 2.3912 C\\n13 None 0.1678 -2.2416 2.2769 C\\n14 None 1.2124 -2.8865 1.6036 C\\n15 None 2.2558 -2.1606 1.0405 C\\n16 None 2.2406 -0.7714 1.1155 C\\n17 None -0.8983 -0.2488 3.1353 C\\n18 None -1.9276 -1.0173 3.6837 C\\n19 None -1.9201 -2.3949 3.5243 C\\n20 None -0.8730 -3.0024 2.8354 C\\n21 None 3.2476 1.6121 2.9941 O\\n22 None 3.2986 -0.0715 0.5929 O\\n23 None -2.7998 4.1879 -0.6064 H\\n24 None -2.7011 1.7228 -0.8746 H\\n25 None -0.8846 0.4440 0.1274 H\\n26 None -1.0456 5.3577 0.6577 H\\n27 None 2.8668 4.1198 3.0124 H\\n28 None 1.0109 5.3377 1.9569 H\\n29 None 1.2293 -3.9723 1.5272 H\\n30 None 3.0687 -2.6926 0.5563 H\\n31 None -0.9386 0.8278 3.2938 H\\n32 None -2.7321 -0.5325 4.2304 H\\n33 None -2.7220 -2.9973 3.9420 H\\n34 None -0.8788 -4.0861 2.7342 H\\n35 None 3.4599 0.8234 2.4603 H\\n36 None 3.8095 -0.6597 0.0108 H\\n@<TRIPOS>BOND\\n1 1 2 2\\n2 2 3 1\\n3 3 4 2\\n4 4 5 1\\n5 5 6 2\\n6 6 1 1\\n7 4 7 1\\n8 7 8 2\\n9 8 9 1\\n10 9 10 2\\n11 10 5 1\\n12 7 11 1\\n13 11 12 2\\n14 12 13 1\\n15 13 14 2\\n16 14 15 1\\n17 15 16 2\\n18 16 11 1\\n19 12 17 1\\n20 17 18 2\\n21 18 19 1\\n22 19 20 2\\n23 20 13 1\\n24 8 21 1\\n25 16 22 1\\n26 1 23 1\\n27 2 24 1\\n28 3 25 1\\n29 6 26 1\\n30 9 27 1\\n31 10 28 1\\n32 14 29 1\\n33 15 30 1\\n34 17 31 1\\n35 18 32 1\\n36 19 33 1\\n37 20 34 1\\n38 21 35 1\\n39 22 36 1\\n\\n\",\"mol2\");\n\tviewer_17295394458629186.setStyle({\"stick\": {\"radius\": 0.1}, \"sphere\": {\"scale\": 0.15}});\n\tviewer_17295394458629186.setHoverable({},true,\"\\n        function(atom,viewer,event,container) {\\n            if(!atom.label) {\\n                atom.label = viewer.addLabel(atom.elem + '(' + atom.index + ')', {position: atom, backgroundColor: 'silver', fontColor:'black'});\\n            }\\n        }\\n        \",\"\\n        function(atom,viewer) { \\n            if(atom.label) {\\n                viewer.removeLabel(atom.label);\\n                delete atom.label;\\n            }\\n        }\\n        \");\n\tviewer_17295394458629186.zoomTo();\n\tviewer_17295394458629186.setBackgroundColor(\"white\");\nviewer_17295394458629186.render();\n});\n</script>",
      "text/html": [
       "<div id=\"3dmolviewer_17295394458629186\"  style=\"position: relative; width: 100%; height: 500px;\">\n",
       "        <p id=\"3dmolwarning_17295394458629186\" style=\"background-color:#ffcccc;color:black\">You appear to be running in JupyterLab (or JavaScript failed to load for some other reason).  You need to install the 3dmol extension: <br>\n",
       "        <tt>jupyter labextension install jupyterlab_3dmol</tt></p>\n",
       "        </div>\n",
       "<script>\n",
       "\n",
       "var loadScriptAsync = function(uri){\n",
       "  return new Promise((resolve, reject) => {\n",
       "    //this is to ignore the existence of requirejs amd\n",
       "    var savedexports, savedmodule;\n",
       "    if (typeof exports !== 'undefined') savedexports = exports;\n",
       "    else exports = {}\n",
       "    if (typeof module !== 'undefined') savedmodule = module;\n",
       "    else module = {}\n",
       "\n",
       "    var tag = document.createElement('script');\n",
       "    tag.src = uri;\n",
       "    tag.async = true;\n",
       "    tag.onload = () => {\n",
       "        exports = savedexports;\n",
       "        module = savedmodule;\n",
       "        resolve();\n",
       "    };\n",
       "  var firstScriptTag = document.getElementsByTagName('script')[0];\n",
       "  firstScriptTag.parentNode.insertBefore(tag, firstScriptTag);\n",
       "});\n",
       "};\n",
       "\n",
       "if(typeof $3Dmolpromise === 'undefined') {\n",
       "$3Dmolpromise = null;\n",
       "  $3Dmolpromise = loadScriptAsync('https://cdnjs.cloudflare.com/ajax/libs/3Dmol/2.0.4/3Dmol-min.js');\n",
       "}\n",
       "\n",
       "var viewer_17295394458629186 = null;\n",
       "var warn = document.getElementById(\"3dmolwarning_17295394458629186\");\n",
       "if(warn) {\n",
       "    warn.parentNode.removeChild(warn);\n",
       "}\n",
       "$3Dmolpromise.then(function() {\n",
       "viewer_17295394458629186 = $3Dmol.createViewer(document.getElementById(\"3dmolviewer_17295394458629186\"),{backgroundColor:\"white\"});\n",
       "viewer_17295394458629186.zoomTo();\n",
       "\tviewer_17295394458629186.addModel(\"@<TRIPOS>MOLECULE\\nr_binol\\n36 39 0 0 0\\nSMALL\\nNO_CHARGES\\n\\n@<TRIPOS>ATOM\\n1 None -1.9882 3.6210 -0.1591 C\\n2 None -1.9339 2.2435 -0.3081 C\\n3 None -0.8913 1.5219 0.2780 C\\n4 None 0.1205 2.1448 1.0523 C\\n5 None 0.0595 3.5612 1.1614 C\\n6 None -0.9916 4.2748 0.5615 C\\n7 None 1.1711 1.4321 1.7246 C\\n8 None 2.1561 2.1873 2.3965 C\\n9 None 2.0933 3.5730 2.4808 C\\n10 None 1.0445 4.2534 1.8753 C\\n11 None 1.1988 -0.0662 1.7544 C\\n12 None 0.1615 -0.8251 2.3912 C\\n13 None 0.1678 -2.2416 2.2769 C\\n14 None 1.2124 -2.8865 1.6036 C\\n15 None 2.2558 -2.1606 1.0405 C\\n16 None 2.2406 -0.7714 1.1155 C\\n17 None -0.8983 -0.2488 3.1353 C\\n18 None -1.9276 -1.0173 3.6837 C\\n19 None -1.9201 -2.3949 3.5243 C\\n20 None -0.8730 -3.0024 2.8354 C\\n21 None 3.2476 1.6121 2.9941 O\\n22 None 3.2986 -0.0715 0.5929 O\\n23 None -2.7998 4.1879 -0.6064 H\\n24 None -2.7011 1.7228 -0.8746 H\\n25 None -0.8846 0.4440 0.1274 H\\n26 None -1.0456 5.3577 0.6577 H\\n27 None 2.8668 4.1198 3.0124 H\\n28 None 1.0109 5.3377 1.9569 H\\n29 None 1.2293 -3.9723 1.5272 H\\n30 None 3.0687 -2.6926 0.5563 H\\n31 None -0.9386 0.8278 3.2938 H\\n32 None -2.7321 -0.5325 4.2304 H\\n33 None -2.7220 -2.9973 3.9420 H\\n34 None -0.8788 -4.0861 2.7342 H\\n35 None 3.4599 0.8234 2.4603 H\\n36 None 3.8095 -0.6597 0.0108 H\\n@<TRIPOS>BOND\\n1 1 2 2\\n2 2 3 1\\n3 3 4 2\\n4 4 5 1\\n5 5 6 2\\n6 6 1 1\\n7 4 7 1\\n8 7 8 2\\n9 8 9 1\\n10 9 10 2\\n11 10 5 1\\n12 7 11 1\\n13 11 12 2\\n14 12 13 1\\n15 13 14 2\\n16 14 15 1\\n17 15 16 2\\n18 16 11 1\\n19 12 17 1\\n20 17 18 2\\n21 18 19 1\\n22 19 20 2\\n23 20 13 1\\n24 8 21 1\\n25 16 22 1\\n26 1 23 1\\n27 2 24 1\\n28 3 25 1\\n29 6 26 1\\n30 9 27 1\\n31 10 28 1\\n32 14 29 1\\n33 15 30 1\\n34 17 31 1\\n35 18 32 1\\n36 19 33 1\\n37 20 34 1\\n38 21 35 1\\n39 22 36 1\\n\\n\",\"mol2\");\n",
       "\tviewer_17295394458629186.setStyle({\"stick\": {\"radius\": 0.1}, \"sphere\": {\"scale\": 0.15}});\n",
       "\tviewer_17295394458629186.setHoverable({},true,\"\\n        function(atom,viewer,event,container) {\\n            if(!atom.label) {\\n                atom.label = viewer.addLabel(atom.elem + '(' + atom.index + ')', {position: atom, backgroundColor: 'silver', fontColor:'black'});\\n            }\\n        }\\n        \",\"\\n        function(atom,viewer) { \\n            if(atom.label) {\\n                viewer.removeLabel(atom.label);\\n                delete atom.label;\\n            }\\n        }\\n        \");\n",
       "\tviewer_17295394458629186.zoomTo();\n",
       "\tviewer_17295394458629186.setBackgroundColor(\"white\");\n",
       "viewer_17295394458629186.render();\n",
       "});\n",
       "</script>"
      ]
     },
     "metadata": {},
     "output_type": "display_data"
    },
    {
     "data": {
      "application/3dmoljs_load.v0": "<script>\n            $3Dmolpromise.then(function() { //wrap in promise for non-interactive functionality\n                \n                viewer_17295394458629186.render();\n            });\n            </script>",
      "text/html": [
       "<script>\n",
       "            $3Dmolpromise.then(function() { //wrap in promise for non-interactive functionality\n",
       "                \n",
       "                viewer_17295394458629186.render();\n",
       "            });\n",
       "            </script>"
      ]
     },
     "metadata": {},
     "output_type": "display_data"
    },
    {
     "data": {
      "text/plain": [
       "Molecule(name='r_binol', formula='C20 H14 O2')"
      ]
     },
     "execution_count": 6,
     "metadata": {},
     "output_type": "execute_result"
    }
   ],
   "source": [
    "#Optimizes the structure\n",
    "mob.obabel_optimize(\n",
    "    ml_mol,\n",
    "    ff = \"MMFF94\",\n",
    "    max_steps = 1000,\n",
    "    inplace=True,\n",
    "    coord_displace=True #Sometimes necessary to get flat bonds/structures to correctly relax\n",
    ")\n",
    "ml_mol"
   ]
  },
  {
   "cell_type": "markdown",
   "metadata": {},
   "source": [
    "## Multi-Attachment Optimization from CDXML File\n",
    "\n",
    "`molli` has also introduced a prototype optimization function `optimize_coordination`, that has been successfully tested with a few different structures. It has run into some issues with Linux and Mac operating systems, but has shown greater success on Windows. It is available in the `openbabel` interface within `molli`, but due to the problems on varying OS, it is not fully illustrated in this example.\n"
   ]
  }
 ],
 "metadata": {
  "kernelspec": {
   "display_name": "dev-blake",
   "language": "python",
   "name": "python3"
  },
  "language_info": {
   "codemirror_mode": {
    "name": "ipython",
    "version": 3
   },
   "file_extension": ".py",
   "mimetype": "text/x-python",
   "name": "python",
   "nbconvert_exporter": "python",
   "pygments_lexer": "ipython3",
   "version": "3.11.6"
  },
  "orig_nbformat": 4
 },
 "nbformat": 4,
 "nbformat_minor": 2
}
