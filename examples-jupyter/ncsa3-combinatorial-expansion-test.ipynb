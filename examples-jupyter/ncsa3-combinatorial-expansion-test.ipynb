{
 "cells": [
  {
   "cell_type": "code",
   "execution_count": 6,
   "metadata": {},
   "outputs": [],
   "source": [
    "import molli as ml\n",
    "import molli.visual"
   ]
  },
  {
   "cell_type": "code",
   "execution_count": 7,
   "metadata": {},
   "outputs": [],
   "source": [
    "cores = ml.files.box_cores_test_1\n",
    "subs = ml.files.box_substituents_test_1\n",
    "\n",
    "cores_parsed = ml.ftypes.CDXMLFile(cores)\n",
    "subs_parsed = ml.ftypes.CDXMLFile(subs)"
   ]
  },
  {
   "cell_type": "code",
   "execution_count": 8,
   "metadata": {},
   "outputs": [],
   "source": [
    "for label in cores_parsed.labels:\n",
    "    cores_parsed[label].add_implicit_hydrogens()\n",
    "\n",
    "core_labels = list(cores_parsed.keys())\n",
    "i = 0\n",
    "\n",
    "sub_labels = list(subs_parsed.keys())\n",
    "j = 0"
   ]
  },
  {
   "cell_type": "code",
   "execution_count": 9,
   "metadata": {},
   "outputs": [
    {
     "data": {
      "application/3dmoljs_load.v0": "<div id=\"3dmolviewer_16849447272251573\"  style=\"position: relative; width: 1000px; height: 500px;\">\n        <p id=\"3dmolwarning_16849447272251573\" style=\"background-color:#ffcccc;color:black\">You appear to be running in JupyterLab (or JavaScript failed to load for some other reason).  You need to install the 3dmol extension: <br>\n        <tt>jupyter labextension install jupyterlab_3dmol</tt></p>\n        </div>\n<script>\n\nvar loadScriptAsync = function(uri){\n  return new Promise((resolve, reject) => {\n    //this is to ignore the existence of requirejs amd\n    var savedexports, savedmodule;\n    if (typeof exports !== 'undefined') savedexports = exports;\n    else exports = {}\n    if (typeof module !== 'undefined') savedmodule = module;\n    else module = {}\n\n    var tag = document.createElement('script');\n    tag.src = uri;\n    tag.async = true;\n    tag.onload = () => {\n        exports = savedexports;\n        module = savedmodule;\n        resolve();\n    };\n  var firstScriptTag = document.getElementsByTagName('script')[0];\n  firstScriptTag.parentNode.insertBefore(tag, firstScriptTag);\n});\n};\n\nif(typeof $3Dmolpromise === 'undefined') {\n$3Dmolpromise = null;\n  $3Dmolpromise = loadScriptAsync('https://cdnjs.cloudflare.com/ajax/libs/3Dmol/2.0.3/3Dmol-min.js');\n}\n\nvar viewer_16849447272251573 = null;\nvar warn = document.getElementById(\"3dmolwarning_16849447272251573\");\nif(warn) {\n    warn.parentNode.removeChild(warn);\n}\n$3Dmolpromise.then(function() {\nviewer_16849447272251573 = $3Dmol.createViewer(document.getElementById(\"3dmolviewer_16849447272251573\"),{backgroundColor:\"white\"});\nviewer_16849447272251573.zoomTo();\n\tviewer_16849447272251573.addModel(\"# Produced with molli package\\n@<TRIPOS>MOLECULE\\n1\\n18 20 0 0 0\\nSMALL\\nUSER_CHARGES\\n\\n@<TRIPOS>ATOM\\n     1 C       2.653877    -0.900810     0.000000 C          1 UNL1 0.0\\n     2 C       3.535127     0.312731     0.000000 C          1 UNL1 0.0\\n     3 O       2.653877     1.526273     0.000000 O          1 UNL1 0.0\\n     4 C       1.226794     1.062731     0.000000 C          1 UNL1 0.0\\n     5 N       1.226794    -0.437269     0.000000 N          1 UNL1 0.0\\n     6 C      -0.072164     1.812731     0.000000 C          1 UNL1 0.0\\n     7 C      -1.371123     1.062731     0.000000 C          1 UNL1 0.0\\n     8 O      -2.798206     1.526273     0.000000 O          1 UNL1 0.0\\n     9 C      -3.679456     0.312731     0.000000 C          1 UNL1 0.0\\n    10 C      -2.798206    -0.900810     0.000000 C          1 UNL1 0.0\\n    11 N      -1.371123    -0.437269     0.000000 N          1 UNL1 0.0\\n    12 A1     -3.029977    -1.614352    -1.299453 Unknown    1 UNL1 0.0\\n    13 A1      2.885648    -1.614352     1.299453 Unknown    1 UNL1 0.0\\n    14 C      -0.072164    -1.187269     0.000000 C          1 UNL1 0.0\\n    15 Br     -0.072164    -1.187269     1.499931 Br         1 UNL1 0.0\\n    16 Br      0.677836    -2.486227     0.000000 Br         1 UNL1 0.0\\n    17 C      -0.072164     1.812731     1.500000 C          1 UNL1 0.0\\n    18 C       1.226794     2.562731     0.000000 C          1 UNL1 0.0\\n@<TRIPOS>BOND\\n     1      1      2          1\\n     2      2      3          1\\n     3      3      4          1\\n     4      4      5          2\\n     5      5      1          1\\n     6      4      6          1\\n     7      6      7          1\\n     8      7      8          1\\n     9      8      9          1\\n    10      9     10          1\\n    11     10     11          1\\n    12     11      7          2\\n    13     10     12          1\\n    14      1     13          1\\n    15     11     14          1\\n    16     14      5          1\\n    17     14     15          1\\n    18     14     16          1\\n    19      6     17          1\\n    20      6     18          1\\n\",\"mol2\");\n\tviewer_16849447272251573.setStyle({\"stick\": {\"radius\": 0.1}, \"sphere\": {\"scale\": 0.15}});\n\tviewer_16849447272251573.setHoverable({},true,\"\\n            function(atom,viewer,event,container) {\\n                if(!atom.label) {\\n                    atom.label = viewer.addLabel(atom.elem + atom.serial, {position: atom, backgroundColor: 'mintcream', fontColor:'black'});\\n                }\\n            }\\n            \",\"\\n            function(atom,viewer) { \\n                if(atom.label) {\\n                    viewer.removeLabel(atom.label);\\n                    delete atom.label;\\n                }\\n            }\\n            \");\n\tviewer_16849447272251573.zoomTo();\n\tviewer_16849447272251573.setBackgroundColor(null);\nviewer_16849447272251573.render();\n});\n</script>",
      "text/html": [
       "<div id=\"3dmolviewer_16849447272251573\"  style=\"position: relative; width: 1000px; height: 500px;\">\n",
       "        <p id=\"3dmolwarning_16849447272251573\" style=\"background-color:#ffcccc;color:black\">You appear to be running in JupyterLab (or JavaScript failed to load for some other reason).  You need to install the 3dmol extension: <br>\n",
       "        <tt>jupyter labextension install jupyterlab_3dmol</tt></p>\n",
       "        </div>\n",
       "<script>\n",
       "\n",
       "var loadScriptAsync = function(uri){\n",
       "  return new Promise((resolve, reject) => {\n",
       "    //this is to ignore the existence of requirejs amd\n",
       "    var savedexports, savedmodule;\n",
       "    if (typeof exports !== 'undefined') savedexports = exports;\n",
       "    else exports = {}\n",
       "    if (typeof module !== 'undefined') savedmodule = module;\n",
       "    else module = {}\n",
       "\n",
       "    var tag = document.createElement('script');\n",
       "    tag.src = uri;\n",
       "    tag.async = true;\n",
       "    tag.onload = () => {\n",
       "        exports = savedexports;\n",
       "        module = savedmodule;\n",
       "        resolve();\n",
       "    };\n",
       "  var firstScriptTag = document.getElementsByTagName('script')[0];\n",
       "  firstScriptTag.parentNode.insertBefore(tag, firstScriptTag);\n",
       "});\n",
       "};\n",
       "\n",
       "if(typeof $3Dmolpromise === 'undefined') {\n",
       "$3Dmolpromise = null;\n",
       "  $3Dmolpromise = loadScriptAsync('https://cdnjs.cloudflare.com/ajax/libs/3Dmol/2.0.3/3Dmol-min.js');\n",
       "}\n",
       "\n",
       "var viewer_16849447272251573 = null;\n",
       "var warn = document.getElementById(\"3dmolwarning_16849447272251573\");\n",
       "if(warn) {\n",
       "    warn.parentNode.removeChild(warn);\n",
       "}\n",
       "$3Dmolpromise.then(function() {\n",
       "viewer_16849447272251573 = $3Dmol.createViewer(document.getElementById(\"3dmolviewer_16849447272251573\"),{backgroundColor:\"white\"});\n",
       "viewer_16849447272251573.zoomTo();\n",
       "\tviewer_16849447272251573.addModel(\"# Produced with molli package\\n@<TRIPOS>MOLECULE\\n1\\n18 20 0 0 0\\nSMALL\\nUSER_CHARGES\\n\\n@<TRIPOS>ATOM\\n     1 C       2.653877    -0.900810     0.000000 C          1 UNL1 0.0\\n     2 C       3.535127     0.312731     0.000000 C          1 UNL1 0.0\\n     3 O       2.653877     1.526273     0.000000 O          1 UNL1 0.0\\n     4 C       1.226794     1.062731     0.000000 C          1 UNL1 0.0\\n     5 N       1.226794    -0.437269     0.000000 N          1 UNL1 0.0\\n     6 C      -0.072164     1.812731     0.000000 C          1 UNL1 0.0\\n     7 C      -1.371123     1.062731     0.000000 C          1 UNL1 0.0\\n     8 O      -2.798206     1.526273     0.000000 O          1 UNL1 0.0\\n     9 C      -3.679456     0.312731     0.000000 C          1 UNL1 0.0\\n    10 C      -2.798206    -0.900810     0.000000 C          1 UNL1 0.0\\n    11 N      -1.371123    -0.437269     0.000000 N          1 UNL1 0.0\\n    12 A1     -3.029977    -1.614352    -1.299453 Unknown    1 UNL1 0.0\\n    13 A1      2.885648    -1.614352     1.299453 Unknown    1 UNL1 0.0\\n    14 C      -0.072164    -1.187269     0.000000 C          1 UNL1 0.0\\n    15 Br     -0.072164    -1.187269     1.499931 Br         1 UNL1 0.0\\n    16 Br      0.677836    -2.486227     0.000000 Br         1 UNL1 0.0\\n    17 C      -0.072164     1.812731     1.500000 C          1 UNL1 0.0\\n    18 C       1.226794     2.562731     0.000000 C          1 UNL1 0.0\\n@<TRIPOS>BOND\\n     1      1      2          1\\n     2      2      3          1\\n     3      3      4          1\\n     4      4      5          2\\n     5      5      1          1\\n     6      4      6          1\\n     7      6      7          1\\n     8      7      8          1\\n     9      8      9          1\\n    10      9     10          1\\n    11     10     11          1\\n    12     11      7          2\\n    13     10     12          1\\n    14      1     13          1\\n    15     11     14          1\\n    16     14      5          1\\n    17     14     15          1\\n    18     14     16          1\\n    19      6     17          1\\n    20      6     18          1\\n\",\"mol2\");\n",
       "\tviewer_16849447272251573.setStyle({\"stick\": {\"radius\": 0.1}, \"sphere\": {\"scale\": 0.15}});\n",
       "\tviewer_16849447272251573.setHoverable({},true,\"\\n            function(atom,viewer,event,container) {\\n                if(!atom.label) {\\n                    atom.label = viewer.addLabel(atom.elem + atom.serial, {position: atom, backgroundColor: 'mintcream', fontColor:'black'});\\n                }\\n            }\\n            \",\"\\n            function(atom,viewer) { \\n                if(atom.label) {\\n                    viewer.removeLabel(atom.label);\\n                    delete atom.label;\\n                }\\n            }\\n            \");\n",
       "\tviewer_16849447272251573.zoomTo();\n",
       "\tviewer_16849447272251573.setBackgroundColor(null);\n",
       "viewer_16849447272251573.render();\n",
       "});\n",
       "</script>"
      ]
     },
     "metadata": {},
     "output_type": "display_data"
    },
    {
     "data": {
      "text/plain": [
       "Molecule(name='1', formula='C10 Br2 N2 O2 Unknown2')"
      ]
     },
     "execution_count": 9,
     "metadata": {},
     "output_type": "execute_result"
    }
   ],
   "source": [
    "current = cores_parsed[core_labels[i]]\n",
    "i = i+1\n",
    "current"
   ]
  },
  {
   "cell_type": "code",
   "execution_count": 10,
   "metadata": {},
   "outputs": [
    {
     "data": {
      "application/3dmoljs_load.v0": "<div id=\"3dmolviewer_16849447323076997\"  style=\"position: relative; width: 1000px; height: 500px;\">\n        <p id=\"3dmolwarning_16849447323076997\" style=\"background-color:#ffcccc;color:black\">You appear to be running in JupyterLab (or JavaScript failed to load for some other reason).  You need to install the 3dmol extension: <br>\n        <tt>jupyter labextension install jupyterlab_3dmol</tt></p>\n        </div>\n<script>\n\nvar loadScriptAsync = function(uri){\n  return new Promise((resolve, reject) => {\n    //this is to ignore the existence of requirejs amd\n    var savedexports, savedmodule;\n    if (typeof exports !== 'undefined') savedexports = exports;\n    else exports = {}\n    if (typeof module !== 'undefined') savedmodule = module;\n    else module = {}\n\n    var tag = document.createElement('script');\n    tag.src = uri;\n    tag.async = true;\n    tag.onload = () => {\n        exports = savedexports;\n        module = savedmodule;\n        resolve();\n    };\n  var firstScriptTag = document.getElementsByTagName('script')[0];\n  firstScriptTag.parentNode.insertBefore(tag, firstScriptTag);\n});\n};\n\nif(typeof $3Dmolpromise === 'undefined') {\n$3Dmolpromise = null;\n  $3Dmolpromise = loadScriptAsync('https://cdnjs.cloudflare.com/ajax/libs/3Dmol/2.0.3/3Dmol-min.js');\n}\n\nvar viewer_16849447323076997 = null;\nvar warn = document.getElementById(\"3dmolwarning_16849447323076997\");\nif(warn) {\n    warn.parentNode.removeChild(warn);\n}\n$3Dmolpromise.then(function() {\nviewer_16849447323076997 = $3Dmol.createViewer(document.getElementById(\"3dmolviewer_16849447323076997\"),{backgroundColor:\"white\"});\nviewer_16849447323076997.zoomTo();\n\tviewer_16849447323076997.addModel(\"# Produced with molli package\\n@<TRIPOS>MOLECULE\\n3\\n4 3 0 0 0\\nSMALL\\nUSER_CHARGES\\n\\n@<TRIPOS>ATOM\\n     1 C       0.000000     0.000000     0.000000 C          1 UNL1 0.0\\n     2 AP1    -1.298958    -0.750000     0.000000 Unknown    1 UNL1 0.0\\n     3 C       1.299018    -0.750035     0.000000 C          1 UNL1 0.0\\n     4 C       0.000000     1.500000     0.000000 C          1 UNL1 0.0\\n@<TRIPOS>BOND\\n     1      2      1          1\\n     2      1      3          1\\n     3      1      4          1\\n\",\"mol2\");\n\tviewer_16849447323076997.setStyle({\"stick\": {\"radius\": 0.1}, \"sphere\": {\"scale\": 0.15}});\n\tviewer_16849447323076997.setHoverable({},true,\"\\n            function(atom,viewer,event,container) {\\n                if(!atom.label) {\\n                    atom.label = viewer.addLabel(atom.elem + atom.serial, {position: atom, backgroundColor: 'mintcream', fontColor:'black'});\\n                }\\n            }\\n            \",\"\\n            function(atom,viewer) { \\n                if(atom.label) {\\n                    viewer.removeLabel(atom.label);\\n                    delete atom.label;\\n                }\\n            }\\n            \");\n\tviewer_16849447323076997.zoomTo();\n\tviewer_16849447323076997.setBackgroundColor(null);\nviewer_16849447323076997.render();\n});\n</script>",
      "text/html": [
       "<div id=\"3dmolviewer_16849447323076997\"  style=\"position: relative; width: 1000px; height: 500px;\">\n",
       "        <p id=\"3dmolwarning_16849447323076997\" style=\"background-color:#ffcccc;color:black\">You appear to be running in JupyterLab (or JavaScript failed to load for some other reason).  You need to install the 3dmol extension: <br>\n",
       "        <tt>jupyter labextension install jupyterlab_3dmol</tt></p>\n",
       "        </div>\n",
       "<script>\n",
       "\n",
       "var loadScriptAsync = function(uri){\n",
       "  return new Promise((resolve, reject) => {\n",
       "    //this is to ignore the existence of requirejs amd\n",
       "    var savedexports, savedmodule;\n",
       "    if (typeof exports !== 'undefined') savedexports = exports;\n",
       "    else exports = {}\n",
       "    if (typeof module !== 'undefined') savedmodule = module;\n",
       "    else module = {}\n",
       "\n",
       "    var tag = document.createElement('script');\n",
       "    tag.src = uri;\n",
       "    tag.async = true;\n",
       "    tag.onload = () => {\n",
       "        exports = savedexports;\n",
       "        module = savedmodule;\n",
       "        resolve();\n",
       "    };\n",
       "  var firstScriptTag = document.getElementsByTagName('script')[0];\n",
       "  firstScriptTag.parentNode.insertBefore(tag, firstScriptTag);\n",
       "});\n",
       "};\n",
       "\n",
       "if(typeof $3Dmolpromise === 'undefined') {\n",
       "$3Dmolpromise = null;\n",
       "  $3Dmolpromise = loadScriptAsync('https://cdnjs.cloudflare.com/ajax/libs/3Dmol/2.0.3/3Dmol-min.js');\n",
       "}\n",
       "\n",
       "var viewer_16849447323076997 = null;\n",
       "var warn = document.getElementById(\"3dmolwarning_16849447323076997\");\n",
       "if(warn) {\n",
       "    warn.parentNode.removeChild(warn);\n",
       "}\n",
       "$3Dmolpromise.then(function() {\n",
       "viewer_16849447323076997 = $3Dmol.createViewer(document.getElementById(\"3dmolviewer_16849447323076997\"),{backgroundColor:\"white\"});\n",
       "viewer_16849447323076997.zoomTo();\n",
       "\tviewer_16849447323076997.addModel(\"# Produced with molli package\\n@<TRIPOS>MOLECULE\\n3\\n4 3 0 0 0\\nSMALL\\nUSER_CHARGES\\n\\n@<TRIPOS>ATOM\\n     1 C       0.000000     0.000000     0.000000 C          1 UNL1 0.0\\n     2 AP1    -1.298958    -0.750000     0.000000 Unknown    1 UNL1 0.0\\n     3 C       1.299018    -0.750035     0.000000 C          1 UNL1 0.0\\n     4 C       0.000000     1.500000     0.000000 C          1 UNL1 0.0\\n@<TRIPOS>BOND\\n     1      2      1          1\\n     2      1      3          1\\n     3      1      4          1\\n\",\"mol2\");\n",
       "\tviewer_16849447323076997.setStyle({\"stick\": {\"radius\": 0.1}, \"sphere\": {\"scale\": 0.15}});\n",
       "\tviewer_16849447323076997.setHoverable({},true,\"\\n            function(atom,viewer,event,container) {\\n                if(!atom.label) {\\n                    atom.label = viewer.addLabel(atom.elem + atom.serial, {position: atom, backgroundColor: 'mintcream', fontColor:'black'});\\n                }\\n            }\\n            \",\"\\n            function(atom,viewer) { \\n                if(atom.label) {\\n                    viewer.removeLabel(atom.label);\\n                    delete atom.label;\\n                }\\n            }\\n            \");\n",
       "\tviewer_16849447323076997.zoomTo();\n",
       "\tviewer_16849447323076997.setBackgroundColor(null);\n",
       "viewer_16849447323076997.render();\n",
       "});\n",
       "</script>"
      ]
     },
     "metadata": {},
     "output_type": "display_data"
    },
    {
     "data": {
      "text/plain": [
       "Molecule(name='3', formula='C3 Unknown1')"
      ]
     },
     "execution_count": 10,
     "metadata": {},
     "output_type": "execute_result"
    }
   ],
   "source": [
    "current = subs_parsed[sub_labels[j]]\n",
    "j += 1\n",
    "current"
   ]
  },
  {
   "cell_type": "code",
   "execution_count": 11,
   "metadata": {},
   "outputs": [
    {
     "data": {
      "application/3dmoljs_load.v0": "<div id=\"3dmolviewer_16849447368551385\"  style=\"position: relative; width: 1000px; height: 500px;\">\n        <p id=\"3dmolwarning_16849447368551385\" style=\"background-color:#ffcccc;color:black\">You appear to be running in JupyterLab (or JavaScript failed to load for some other reason).  You need to install the 3dmol extension: <br>\n        <tt>jupyter labextension install jupyterlab_3dmol</tt></p>\n        </div>\n<script>\n\nvar loadScriptAsync = function(uri){\n  return new Promise((resolve, reject) => {\n    //this is to ignore the existence of requirejs amd\n    var savedexports, savedmodule;\n    if (typeof exports !== 'undefined') savedexports = exports;\n    else exports = {}\n    if (typeof module !== 'undefined') savedmodule = module;\n    else module = {}\n\n    var tag = document.createElement('script');\n    tag.src = uri;\n    tag.async = true;\n    tag.onload = () => {\n        exports = savedexports;\n        module = savedmodule;\n        resolve();\n    };\n  var firstScriptTag = document.getElementsByTagName('script')[0];\n  firstScriptTag.parentNode.insertBefore(tag, firstScriptTag);\n});\n};\n\nif(typeof $3Dmolpromise === 'undefined') {\n$3Dmolpromise = null;\n  $3Dmolpromise = loadScriptAsync('https://cdnjs.cloudflare.com/ajax/libs/3Dmol/2.0.3/3Dmol-min.js');\n}\n\nvar viewer_16849447368551385 = null;\nvar warn = document.getElementById(\"3dmolwarning_16849447368551385\");\nif(warn) {\n    warn.parentNode.removeChild(warn);\n}\n$3Dmolpromise.then(function() {\nviewer_16849447368551385 = $3Dmol.createViewer(document.getElementById(\"3dmolviewer_16849447368551385\"),{backgroundColor:\"white\"});\nviewer_16849447368551385.zoomTo();\n\tviewer_16849447368551385.addModel(\"# Produced with molli package\\n@<TRIPOS>MOLECULE\\n1_3\\n48 50 0 0 0\\nSMALL\\nUSER_CHARGES\\n\\n@<TRIPOS>ATOM\\n     1 C       0.000000     0.000000     0.000000 C          1 UNL1 0.0\\n     2 C       0.881250     1.213542     0.000000 C          1 UNL1 0.0\\n     3 O       0.000000     2.427083     0.000000 O          1 UNL1 0.0\\n     4 C      -1.427083     1.963542     0.000000 C          1 UNL1 0.0\\n     5 N      -1.427083     0.463542     0.000000 N          1 UNL1 0.0\\n     6 C      -2.726042     2.713542     0.000000 C          1 UNL1 0.0\\n     7 C      -4.025000     1.963542     0.000000 C          1 UNL1 0.0\\n     8 O      -5.452083     2.427083     0.000000 O          1 UNL1 0.0\\n     9 C      -6.333333     1.213542     0.000000 C          1 UNL1 0.0\\n    10 C      -5.452083     0.000000     0.000000 C          1 UNL1 0.0\\n    11 N      -4.025000     0.463542     0.000000 N          1 UNL1 0.0\\n    12 C      -2.726042    -0.286458     0.000000 C          1 UNL1 0.0\\n    13 Br     -2.726042    -0.286458     1.499931 Br         1 UNL1 0.0\\n    14 Br     -1.976042    -1.585417     0.000000 Br         1 UNL1 0.0\\n    15 C      -2.726042     2.713542     1.500000 C          1 UNL1 0.0\\n    16 C      -1.427083     3.463542     0.000000 C          1 UNL1 0.0\\n    17 C      -5.683780    -0.713314    -1.299038 C          1 UNL1 0.0\\n    18 C      -5.642181    -2.211887    -1.349523 C          1 UNL1 0.0\\n    19 C      -5.957064     0.071909    -2.547534 C          1 UNL1 0.0\\n    20 C       0.231697    -0.713314     1.299038 C          1 UNL1 0.0\\n    21 C       0.273500    -2.212314     1.334413 C          1 UNL1 0.0\\n    22 C       0.421581     0.072336     2.562643 C          1 UNL1 0.0\\n    23 H       0.205926    -0.633796    -0.837137 H          1 UNL1 0.0\\n    24 H       1.495002     1.213542     0.876544 H          1 UNL1 0.0\\n    25 H       1.495002     1.213542    -0.876544 H          1 UNL1 0.0\\n    26 H      -6.947085     1.213542     0.876544 H          1 UNL1 0.0\\n    27 H      -6.947085     1.213542    -0.876544 H          1 UNL1 0.0\\n    28 H      -5.658010    -0.633796     0.837137 H          1 UNL1 0.0\\n    29 H      -2.807447     1.708026     1.856667 H          1 UNL1 0.0\\n    30 H      -3.556141     3.286798     1.856667 H          1 UNL1 0.0\\n    31 H      -1.814537     3.145801     1.856667 H          1 UNL1 0.0\\n    32 H      -0.865981     3.205044     0.873638 H          1 UNL1 0.0\\n    33 H      -1.622632     4.515521     0.000027 H          1 UNL1 0.0\\n    34 H      -0.866004     3.205084    -0.873665 H          1 UNL1 0.0\\n    35 H      -4.634605    -0.677217    -1.505990 H          1 UNL1 0.0\\n    36 H      -4.624234    -2.541174    -1.333550 H          1 UNL1 0.0\\n    37 H      -6.112899    -2.551680    -2.248336 H          1 UNL1 0.0\\n    38 H      -6.159735    -2.611789    -0.502696 H          1 UNL1 0.0\\n    39 H      -5.031514     0.311126    -3.028191 H          1 UNL1 0.0\\n    40 H      -6.471837     0.975356    -2.295161 H          1 UNL1 0.0\\n    41 H      -6.562784    -0.510629    -3.209842 H          1 UNL1 0.0\\n    42 H       1.287095    -0.687996     1.124699 H          1 UNL1 0.0\\n    43 H       1.291443    -2.539969     1.370939 H          1 UNL1 0.0\\n    44 H      -0.195642    -2.603038     0.455698 H          1 UNL1 0.0\\n    45 H      -0.245481    -2.563221     2.201836 H          1 UNL1 0.0\\n    46 H       1.372959    -0.165275     2.990805 H          1 UNL1 0.0\\n    47 H      -0.353941    -0.175774     3.256838 H          1 UNL1 0.0\\n    48 H       0.381178     1.118488     2.341659 H          1 UNL1 0.0\\n@<TRIPOS>BOND\\n     1      1      2          1\\n     2      2      3          1\\n     3      3      4          1\\n     4      4      5          2\\n     5      5      1          1\\n     6      4      6          1\\n     7      6      7          1\\n     8      7      8          1\\n     9      8      9          1\\n    10      9     10          1\\n    11     10     11          1\\n    12     11      7          2\\n    13     11     12          1\\n    14     12      5          1\\n    15     12     13          1\\n    16     12     14          1\\n    17      6     15          1\\n    18      6     16          1\\n    19     17     18          1\\n    20     17     19          1\\n    21     10     17          1\\n    22     20     21          1\\n    23     20     22          1\\n    24      1     20          1\\n    25      1     23          1\\n    26      2     24          1\\n    27      2     25          1\\n    28      9     26          1\\n    29      9     27          1\\n    30     10     28          1\\n    31     15     29          1\\n    32     15     30          1\\n    33     15     31          1\\n    34     16     32          1\\n    35     16     33          1\\n    36     16     34          1\\n    37     17     35          1\\n    38     18     36          1\\n    39     18     37          1\\n    40     18     38          1\\n    41     19     39          1\\n    42     19     40          1\\n    43     19     41          1\\n    44     20     42          1\\n    45     21     43          1\\n    46     21     44          1\\n    47     21     45          1\\n    48     22     46          1\\n    49     22     47          1\\n    50     22     48          1\\n\",\"mol2\");\n\tviewer_16849447368551385.setStyle({\"stick\": {\"radius\": 0.1}, \"sphere\": {\"scale\": 0.15}});\n\tviewer_16849447368551385.setHoverable({},true,\"\\n            function(atom,viewer,event,container) {\\n                if(!atom.label) {\\n                    atom.label = viewer.addLabel(atom.elem + atom.serial, {position: atom, backgroundColor: 'mintcream', fontColor:'black'});\\n                }\\n            }\\n            \",\"\\n            function(atom,viewer) { \\n                if(atom.label) {\\n                    viewer.removeLabel(atom.label);\\n                    delete atom.label;\\n                }\\n            }\\n            \");\n\tviewer_16849447368551385.zoomTo();\n\tviewer_16849447368551385.setBackgroundColor(null);\nviewer_16849447368551385.render();\n});\n</script>",
      "text/html": [
       "<div id=\"3dmolviewer_16849447368551385\"  style=\"position: relative; width: 1000px; height: 500px;\">\n",
       "        <p id=\"3dmolwarning_16849447368551385\" style=\"background-color:#ffcccc;color:black\">You appear to be running in JupyterLab (or JavaScript failed to load for some other reason).  You need to install the 3dmol extension: <br>\n",
       "        <tt>jupyter labextension install jupyterlab_3dmol</tt></p>\n",
       "        </div>\n",
       "<script>\n",
       "\n",
       "var loadScriptAsync = function(uri){\n",
       "  return new Promise((resolve, reject) => {\n",
       "    //this is to ignore the existence of requirejs amd\n",
       "    var savedexports, savedmodule;\n",
       "    if (typeof exports !== 'undefined') savedexports = exports;\n",
       "    else exports = {}\n",
       "    if (typeof module !== 'undefined') savedmodule = module;\n",
       "    else module = {}\n",
       "\n",
       "    var tag = document.createElement('script');\n",
       "    tag.src = uri;\n",
       "    tag.async = true;\n",
       "    tag.onload = () => {\n",
       "        exports = savedexports;\n",
       "        module = savedmodule;\n",
       "        resolve();\n",
       "    };\n",
       "  var firstScriptTag = document.getElementsByTagName('script')[0];\n",
       "  firstScriptTag.parentNode.insertBefore(tag, firstScriptTag);\n",
       "});\n",
       "};\n",
       "\n",
       "if(typeof $3Dmolpromise === 'undefined') {\n",
       "$3Dmolpromise = null;\n",
       "  $3Dmolpromise = loadScriptAsync('https://cdnjs.cloudflare.com/ajax/libs/3Dmol/2.0.3/3Dmol-min.js');\n",
       "}\n",
       "\n",
       "var viewer_16849447368551385 = null;\n",
       "var warn = document.getElementById(\"3dmolwarning_16849447368551385\");\n",
       "if(warn) {\n",
       "    warn.parentNode.removeChild(warn);\n",
       "}\n",
       "$3Dmolpromise.then(function() {\n",
       "viewer_16849447368551385 = $3Dmol.createViewer(document.getElementById(\"3dmolviewer_16849447368551385\"),{backgroundColor:\"white\"});\n",
       "viewer_16849447368551385.zoomTo();\n",
       "\tviewer_16849447368551385.addModel(\"# Produced with molli package\\n@<TRIPOS>MOLECULE\\n1_3\\n48 50 0 0 0\\nSMALL\\nUSER_CHARGES\\n\\n@<TRIPOS>ATOM\\n     1 C       0.000000     0.000000     0.000000 C          1 UNL1 0.0\\n     2 C       0.881250     1.213542     0.000000 C          1 UNL1 0.0\\n     3 O       0.000000     2.427083     0.000000 O          1 UNL1 0.0\\n     4 C      -1.427083     1.963542     0.000000 C          1 UNL1 0.0\\n     5 N      -1.427083     0.463542     0.000000 N          1 UNL1 0.0\\n     6 C      -2.726042     2.713542     0.000000 C          1 UNL1 0.0\\n     7 C      -4.025000     1.963542     0.000000 C          1 UNL1 0.0\\n     8 O      -5.452083     2.427083     0.000000 O          1 UNL1 0.0\\n     9 C      -6.333333     1.213542     0.000000 C          1 UNL1 0.0\\n    10 C      -5.452083     0.000000     0.000000 C          1 UNL1 0.0\\n    11 N      -4.025000     0.463542     0.000000 N          1 UNL1 0.0\\n    12 C      -2.726042    -0.286458     0.000000 C          1 UNL1 0.0\\n    13 Br     -2.726042    -0.286458     1.499931 Br         1 UNL1 0.0\\n    14 Br     -1.976042    -1.585417     0.000000 Br         1 UNL1 0.0\\n    15 C      -2.726042     2.713542     1.500000 C          1 UNL1 0.0\\n    16 C      -1.427083     3.463542     0.000000 C          1 UNL1 0.0\\n    17 C      -5.683780    -0.713314    -1.299038 C          1 UNL1 0.0\\n    18 C      -5.642181    -2.211887    -1.349523 C          1 UNL1 0.0\\n    19 C      -5.957064     0.071909    -2.547534 C          1 UNL1 0.0\\n    20 C       0.231697    -0.713314     1.299038 C          1 UNL1 0.0\\n    21 C       0.273500    -2.212314     1.334413 C          1 UNL1 0.0\\n    22 C       0.421581     0.072336     2.562643 C          1 UNL1 0.0\\n    23 H       0.205926    -0.633796    -0.837137 H          1 UNL1 0.0\\n    24 H       1.495002     1.213542     0.876544 H          1 UNL1 0.0\\n    25 H       1.495002     1.213542    -0.876544 H          1 UNL1 0.0\\n    26 H      -6.947085     1.213542     0.876544 H          1 UNL1 0.0\\n    27 H      -6.947085     1.213542    -0.876544 H          1 UNL1 0.0\\n    28 H      -5.658010    -0.633796     0.837137 H          1 UNL1 0.0\\n    29 H      -2.807447     1.708026     1.856667 H          1 UNL1 0.0\\n    30 H      -3.556141     3.286798     1.856667 H          1 UNL1 0.0\\n    31 H      -1.814537     3.145801     1.856667 H          1 UNL1 0.0\\n    32 H      -0.865981     3.205044     0.873638 H          1 UNL1 0.0\\n    33 H      -1.622632     4.515521     0.000027 H          1 UNL1 0.0\\n    34 H      -0.866004     3.205084    -0.873665 H          1 UNL1 0.0\\n    35 H      -4.634605    -0.677217    -1.505990 H          1 UNL1 0.0\\n    36 H      -4.624234    -2.541174    -1.333550 H          1 UNL1 0.0\\n    37 H      -6.112899    -2.551680    -2.248336 H          1 UNL1 0.0\\n    38 H      -6.159735    -2.611789    -0.502696 H          1 UNL1 0.0\\n    39 H      -5.031514     0.311126    -3.028191 H          1 UNL1 0.0\\n    40 H      -6.471837     0.975356    -2.295161 H          1 UNL1 0.0\\n    41 H      -6.562784    -0.510629    -3.209842 H          1 UNL1 0.0\\n    42 H       1.287095    -0.687996     1.124699 H          1 UNL1 0.0\\n    43 H       1.291443    -2.539969     1.370939 H          1 UNL1 0.0\\n    44 H      -0.195642    -2.603038     0.455698 H          1 UNL1 0.0\\n    45 H      -0.245481    -2.563221     2.201836 H          1 UNL1 0.0\\n    46 H       1.372959    -0.165275     2.990805 H          1 UNL1 0.0\\n    47 H      -0.353941    -0.175774     3.256838 H          1 UNL1 0.0\\n    48 H       0.381178     1.118488     2.341659 H          1 UNL1 0.0\\n@<TRIPOS>BOND\\n     1      1      2          1\\n     2      2      3          1\\n     3      3      4          1\\n     4      4      5          2\\n     5      5      1          1\\n     6      4      6          1\\n     7      6      7          1\\n     8      7      8          1\\n     9      8      9          1\\n    10      9     10          1\\n    11     10     11          1\\n    12     11      7          2\\n    13     11     12          1\\n    14     12      5          1\\n    15     12     13          1\\n    16     12     14          1\\n    17      6     15          1\\n    18      6     16          1\\n    19     17     18          1\\n    20     17     19          1\\n    21     10     17          1\\n    22     20     21          1\\n    23     20     22          1\\n    24      1     20          1\\n    25      1     23          1\\n    26      2     24          1\\n    27      2     25          1\\n    28      9     26          1\\n    29      9     27          1\\n    30     10     28          1\\n    31     15     29          1\\n    32     15     30          1\\n    33     15     31          1\\n    34     16     32          1\\n    35     16     33          1\\n    36     16     34          1\\n    37     17     35          1\\n    38     18     36          1\\n    39     18     37          1\\n    40     18     38          1\\n    41     19     39          1\\n    42     19     40          1\\n    43     19     41          1\\n    44     20     42          1\\n    45     21     43          1\\n    46     21     44          1\\n    47     21     45          1\\n    48     22     46          1\\n    49     22     47          1\\n    50     22     48          1\\n\",\"mol2\");\n",
       "\tviewer_16849447368551385.setStyle({\"stick\": {\"radius\": 0.1}, \"sphere\": {\"scale\": 0.15}});\n",
       "\tviewer_16849447368551385.setHoverable({},true,\"\\n            function(atom,viewer,event,container) {\\n                if(!atom.label) {\\n                    atom.label = viewer.addLabel(atom.elem + atom.serial, {position: atom, backgroundColor: 'mintcream', fontColor:'black'});\\n                }\\n            }\\n            \",\"\\n            function(atom,viewer) { \\n                if(atom.label) {\\n                    viewer.removeLabel(atom.label);\\n                    delete atom.label;\\n                }\\n            }\\n            \");\n",
       "\tviewer_16849447368551385.zoomTo();\n",
       "\tviewer_16849447368551385.setBackgroundColor(null);\n",
       "viewer_16849447368551385.render();\n",
       "});\n",
       "</script>"
      ]
     },
     "metadata": {},
     "output_type": "display_data"
    },
    {
     "data": {
      "text/plain": [
       "Molecule(name='1_3', formula='C16 H26 Br2 N2 O2')"
      ]
     },
     "execution_count": 11,
     "metadata": {},
     "output_type": "execute_result"
    }
   ],
   "source": [
    "combos = []\n",
    "for core in core_labels:\n",
    "    for sub in sub_labels:\n",
    "        this_core = cores_parsed[core]\n",
    "        this_sub = subs_parsed[sub]\n",
    "        a1 = next(this_core.yield_attachment_points())\n",
    "        b1 = next(this_sub.yield_attachment_points())\n",
    "        mol = ml.Molecule.join(this_core, this_sub, a1, b1, optimize_rotation=True)\n",
    "        a2 = next(mol.yield_attachment_points())    # attach sub again to 2nd core AP\n",
    "        mol = ml.Molecule.join(mol, this_sub, a2, b1, optimize_rotation=True)\n",
    "        mol.add_implicit_hydrogens()\n",
    "        mol._name = this_core._name + \"_\" + this_sub._name\n",
    "        combos.append(mol)\n",
    "\n",
    "combos[0]"
   ]
  },
  {
   "cell_type": "code",
   "execution_count": 12,
   "metadata": {},
   "outputs": [
    {
     "data": {
      "application/3dmoljs_load.v0": "<div id=\"3dmolviewer_16849448304025142\"  style=\"position: relative; width: 1000px; height: 500px;\">\n        <p id=\"3dmolwarning_16849448304025142\" style=\"background-color:#ffcccc;color:black\">You appear to be running in JupyterLab (or JavaScript failed to load for some other reason).  You need to install the 3dmol extension: <br>\n        <tt>jupyter labextension install jupyterlab_3dmol</tt></p>\n        </div>\n<script>\n\nvar loadScriptAsync = function(uri){\n  return new Promise((resolve, reject) => {\n    //this is to ignore the existence of requirejs amd\n    var savedexports, savedmodule;\n    if (typeof exports !== 'undefined') savedexports = exports;\n    else exports = {}\n    if (typeof module !== 'undefined') savedmodule = module;\n    else module = {}\n\n    var tag = document.createElement('script');\n    tag.src = uri;\n    tag.async = true;\n    tag.onload = () => {\n        exports = savedexports;\n        module = savedmodule;\n        resolve();\n    };\n  var firstScriptTag = document.getElementsByTagName('script')[0];\n  firstScriptTag.parentNode.insertBefore(tag, firstScriptTag);\n});\n};\n\nif(typeof $3Dmolpromise === 'undefined') {\n$3Dmolpromise = null;\n  $3Dmolpromise = loadScriptAsync('https://cdnjs.cloudflare.com/ajax/libs/3Dmol/2.0.3/3Dmol-min.js');\n}\n\nvar viewer_16849448304025142 = null;\nvar warn = document.getElementById(\"3dmolwarning_16849448304025142\");\nif(warn) {\n    warn.parentNode.removeChild(warn);\n}\n$3Dmolpromise.then(function() {\nviewer_16849448304025142 = $3Dmol.createViewer(document.getElementById(\"3dmolviewer_16849448304025142\"),{backgroundColor:\"white\"});\nviewer_16849448304025142.zoomTo();\n\tviewer_16849448304025142.addModel(\"# Produced with molli package\\n@<TRIPOS>MOLECULE\\n1_2\\n42 44 0 0 0\\nSMALL\\nUSER_CHARGES\\n\\n@<TRIPOS>ATOM\\n     1 C       0.000000     0.000000     0.000000 C          1 UNL1 0.0\\n     2 C       0.881250     1.213542     0.000000 C          1 UNL1 0.0\\n     3 O       0.000000     2.427083     0.000000 O          1 UNL1 0.0\\n     4 C      -1.427083     1.963542     0.000000 C          1 UNL1 0.0\\n     5 N      -1.427083     0.463542     0.000000 N          1 UNL1 0.0\\n     6 C      -2.726042     2.713542     0.000000 C          1 UNL1 0.0\\n     7 C      -4.025000     1.963542     0.000000 C          1 UNL1 0.0\\n     8 O      -5.452083     2.427083     0.000000 O          1 UNL1 0.0\\n     9 C      -6.333333     1.213542     0.000000 C          1 UNL1 0.0\\n    10 C      -5.452083     0.000000     0.000000 C          1 UNL1 0.0\\n    11 N      -4.025000     0.463542     0.000000 N          1 UNL1 0.0\\n    12 C      -2.726042    -0.286458     0.000000 C          1 UNL1 0.0\\n    13 Br     -2.726042    -0.286458     1.499931 Br         1 UNL1 0.0\\n    14 Br     -1.976042    -1.585417     0.000000 Br         1 UNL1 0.0\\n    15 C      -2.726042     2.713542     1.500000 C          1 UNL1 0.0\\n    16 C      -1.427083     3.463542     0.000000 C          1 UNL1 0.0\\n    17 C      -5.683780    -0.713314    -1.299038 C          1 UNL1 0.0\\n    18 C      -6.824038    -1.678865    -1.431414 C          1 UNL1 0.0\\n    19 C       0.231697    -0.713314     1.299038 C          1 UNL1 0.0\\n    20 C       1.420199    -1.614505     1.458150 C          1 UNL1 0.0\\n    21 H       0.205926    -0.633796    -0.837137 H          1 UNL1 0.0\\n    22 H       1.495002     1.213542     0.876544 H          1 UNL1 0.0\\n    23 H       1.495002     1.213542    -0.876544 H          1 UNL1 0.0\\n    24 H      -6.947085     1.213542     0.876544 H          1 UNL1 0.0\\n    25 H      -6.947085     1.213542    -0.876544 H          1 UNL1 0.0\\n    26 H      -5.658010    -0.633796     0.837137 H          1 UNL1 0.0\\n    27 H      -1.833290     2.243772     1.856667 H          1 UNL1 0.0\\n    28 H      -3.579250     2.175281     1.856667 H          1 UNL1 0.0\\n    29 H      -2.765586     3.721572     1.856667 H          1 UNL1 0.0\\n    30 H      -0.865981     3.205044     0.873638 H          1 UNL1 0.0\\n    31 H      -1.622632     4.515521     0.000027 H          1 UNL1 0.0\\n    32 H      -0.866004     3.205084    -0.873665 H          1 UNL1 0.0\\n    33 H      -4.790304    -1.262618    -1.511137 H          1 UNL1 0.0\\n    34 H      -5.833783     0.042396    -2.041617 H          1 UNL1 0.0\\n    35 H      -6.622035    -2.362053    -2.229755 H          1 UNL1 0.0\\n    36 H      -7.724561    -1.140642    -1.641827 H          1 UNL1 0.0\\n    37 H      -6.938900    -2.222660    -0.517087 H          1 UNL1 0.0\\n    38 H      -0.635332    -1.314355     1.478010 H          1 UNL1 0.0\\n    39 H       0.315773     0.041468     2.052866 H          1 UNL1 0.0\\n    40 H       2.003131    -1.291583     2.295294 H          1 UNL1 0.0\\n    41 H       2.017866    -1.576508     0.571442 H          1 UNL1 0.0\\n    42 H       1.087398    -2.618276     1.621212 H          1 UNL1 0.0\\n@<TRIPOS>BOND\\n     1      1      2          1\\n     2      2      3          1\\n     3      3      4          1\\n     4      4      5          2\\n     5      5      1          1\\n     6      4      6          1\\n     7      6      7          1\\n     8      7      8          1\\n     9      8      9          1\\n    10      9     10          1\\n    11     10     11          1\\n    12     11      7          2\\n    13     11     12          1\\n    14     12      5          1\\n    15     12     13          1\\n    16     12     14          1\\n    17      6     15          1\\n    18      6     16          1\\n    19     17     18          1\\n    20     10     17          1\\n    21     19     20          1\\n    22      1     19          1\\n    23      1     21          1\\n    24      2     22          1\\n    25      2     23          1\\n    26      9     24          1\\n    27      9     25          1\\n    28     10     26          1\\n    29     15     27          1\\n    30     15     28          1\\n    31     15     29          1\\n    32     16     30          1\\n    33     16     31          1\\n    34     16     32          1\\n    35     17     33          1\\n    36     17     34          1\\n    37     18     35          1\\n    38     18     36          1\\n    39     18     37          1\\n    40     19     38          1\\n    41     19     39          1\\n    42     20     40          1\\n    43     20     41          1\\n    44     20     42          1\\n\",\"mol2\");\n\tviewer_16849448304025142.setStyle({\"stick\": {\"radius\": 0.1}, \"sphere\": {\"scale\": 0.15}});\n\tviewer_16849448304025142.setHoverable({},true,\"\\n            function(atom,viewer,event,container) {\\n                if(!atom.label) {\\n                    atom.label = viewer.addLabel(atom.elem + atom.serial, {position: atom, backgroundColor: 'mintcream', fontColor:'black'});\\n                }\\n            }\\n            \",\"\\n            function(atom,viewer) { \\n                if(atom.label) {\\n                    viewer.removeLabel(atom.label);\\n                    delete atom.label;\\n                }\\n            }\\n            \");\n\tviewer_16849448304025142.zoomTo();\n\tviewer_16849448304025142.setBackgroundColor(null);\nviewer_16849448304025142.render();\n});\n</script>",
      "text/html": [
       "<div id=\"3dmolviewer_16849448304025142\"  style=\"position: relative; width: 1000px; height: 500px;\">\n",
       "        <p id=\"3dmolwarning_16849448304025142\" style=\"background-color:#ffcccc;color:black\">You appear to be running in JupyterLab (or JavaScript failed to load for some other reason).  You need to install the 3dmol extension: <br>\n",
       "        <tt>jupyter labextension install jupyterlab_3dmol</tt></p>\n",
       "        </div>\n",
       "<script>\n",
       "\n",
       "var loadScriptAsync = function(uri){\n",
       "  return new Promise((resolve, reject) => {\n",
       "    //this is to ignore the existence of requirejs amd\n",
       "    var savedexports, savedmodule;\n",
       "    if (typeof exports !== 'undefined') savedexports = exports;\n",
       "    else exports = {}\n",
       "    if (typeof module !== 'undefined') savedmodule = module;\n",
       "    else module = {}\n",
       "\n",
       "    var tag = document.createElement('script');\n",
       "    tag.src = uri;\n",
       "    tag.async = true;\n",
       "    tag.onload = () => {\n",
       "        exports = savedexports;\n",
       "        module = savedmodule;\n",
       "        resolve();\n",
       "    };\n",
       "  var firstScriptTag = document.getElementsByTagName('script')[0];\n",
       "  firstScriptTag.parentNode.insertBefore(tag, firstScriptTag);\n",
       "});\n",
       "};\n",
       "\n",
       "if(typeof $3Dmolpromise === 'undefined') {\n",
       "$3Dmolpromise = null;\n",
       "  $3Dmolpromise = loadScriptAsync('https://cdnjs.cloudflare.com/ajax/libs/3Dmol/2.0.3/3Dmol-min.js');\n",
       "}\n",
       "\n",
       "var viewer_16849448304025142 = null;\n",
       "var warn = document.getElementById(\"3dmolwarning_16849448304025142\");\n",
       "if(warn) {\n",
       "    warn.parentNode.removeChild(warn);\n",
       "}\n",
       "$3Dmolpromise.then(function() {\n",
       "viewer_16849448304025142 = $3Dmol.createViewer(document.getElementById(\"3dmolviewer_16849448304025142\"),{backgroundColor:\"white\"});\n",
       "viewer_16849448304025142.zoomTo();\n",
       "\tviewer_16849448304025142.addModel(\"# Produced with molli package\\n@<TRIPOS>MOLECULE\\n1_2\\n42 44 0 0 0\\nSMALL\\nUSER_CHARGES\\n\\n@<TRIPOS>ATOM\\n     1 C       0.000000     0.000000     0.000000 C          1 UNL1 0.0\\n     2 C       0.881250     1.213542     0.000000 C          1 UNL1 0.0\\n     3 O       0.000000     2.427083     0.000000 O          1 UNL1 0.0\\n     4 C      -1.427083     1.963542     0.000000 C          1 UNL1 0.0\\n     5 N      -1.427083     0.463542     0.000000 N          1 UNL1 0.0\\n     6 C      -2.726042     2.713542     0.000000 C          1 UNL1 0.0\\n     7 C      -4.025000     1.963542     0.000000 C          1 UNL1 0.0\\n     8 O      -5.452083     2.427083     0.000000 O          1 UNL1 0.0\\n     9 C      -6.333333     1.213542     0.000000 C          1 UNL1 0.0\\n    10 C      -5.452083     0.000000     0.000000 C          1 UNL1 0.0\\n    11 N      -4.025000     0.463542     0.000000 N          1 UNL1 0.0\\n    12 C      -2.726042    -0.286458     0.000000 C          1 UNL1 0.0\\n    13 Br     -2.726042    -0.286458     1.499931 Br         1 UNL1 0.0\\n    14 Br     -1.976042    -1.585417     0.000000 Br         1 UNL1 0.0\\n    15 C      -2.726042     2.713542     1.500000 C          1 UNL1 0.0\\n    16 C      -1.427083     3.463542     0.000000 C          1 UNL1 0.0\\n    17 C      -5.683780    -0.713314    -1.299038 C          1 UNL1 0.0\\n    18 C      -6.824038    -1.678865    -1.431414 C          1 UNL1 0.0\\n    19 C       0.231697    -0.713314     1.299038 C          1 UNL1 0.0\\n    20 C       1.420199    -1.614505     1.458150 C          1 UNL1 0.0\\n    21 H       0.205926    -0.633796    -0.837137 H          1 UNL1 0.0\\n    22 H       1.495002     1.213542     0.876544 H          1 UNL1 0.0\\n    23 H       1.495002     1.213542    -0.876544 H          1 UNL1 0.0\\n    24 H      -6.947085     1.213542     0.876544 H          1 UNL1 0.0\\n    25 H      -6.947085     1.213542    -0.876544 H          1 UNL1 0.0\\n    26 H      -5.658010    -0.633796     0.837137 H          1 UNL1 0.0\\n    27 H      -1.833290     2.243772     1.856667 H          1 UNL1 0.0\\n    28 H      -3.579250     2.175281     1.856667 H          1 UNL1 0.0\\n    29 H      -2.765586     3.721572     1.856667 H          1 UNL1 0.0\\n    30 H      -0.865981     3.205044     0.873638 H          1 UNL1 0.0\\n    31 H      -1.622632     4.515521     0.000027 H          1 UNL1 0.0\\n    32 H      -0.866004     3.205084    -0.873665 H          1 UNL1 0.0\\n    33 H      -4.790304    -1.262618    -1.511137 H          1 UNL1 0.0\\n    34 H      -5.833783     0.042396    -2.041617 H          1 UNL1 0.0\\n    35 H      -6.622035    -2.362053    -2.229755 H          1 UNL1 0.0\\n    36 H      -7.724561    -1.140642    -1.641827 H          1 UNL1 0.0\\n    37 H      -6.938900    -2.222660    -0.517087 H          1 UNL1 0.0\\n    38 H      -0.635332    -1.314355     1.478010 H          1 UNL1 0.0\\n    39 H       0.315773     0.041468     2.052866 H          1 UNL1 0.0\\n    40 H       2.003131    -1.291583     2.295294 H          1 UNL1 0.0\\n    41 H       2.017866    -1.576508     0.571442 H          1 UNL1 0.0\\n    42 H       1.087398    -2.618276     1.621212 H          1 UNL1 0.0\\n@<TRIPOS>BOND\\n     1      1      2          1\\n     2      2      3          1\\n     3      3      4          1\\n     4      4      5          2\\n     5      5      1          1\\n     6      4      6          1\\n     7      6      7          1\\n     8      7      8          1\\n     9      8      9          1\\n    10      9     10          1\\n    11     10     11          1\\n    12     11      7          2\\n    13     11     12          1\\n    14     12      5          1\\n    15     12     13          1\\n    16     12     14          1\\n    17      6     15          1\\n    18      6     16          1\\n    19     17     18          1\\n    20     10     17          1\\n    21     19     20          1\\n    22      1     19          1\\n    23      1     21          1\\n    24      2     22          1\\n    25      2     23          1\\n    26      9     24          1\\n    27      9     25          1\\n    28     10     26          1\\n    29     15     27          1\\n    30     15     28          1\\n    31     15     29          1\\n    32     16     30          1\\n    33     16     31          1\\n    34     16     32          1\\n    35     17     33          1\\n    36     17     34          1\\n    37     18     35          1\\n    38     18     36          1\\n    39     18     37          1\\n    40     19     38          1\\n    41     19     39          1\\n    42     20     40          1\\n    43     20     41          1\\n    44     20     42          1\\n\",\"mol2\");\n",
       "\tviewer_16849448304025142.setStyle({\"stick\": {\"radius\": 0.1}, \"sphere\": {\"scale\": 0.15}});\n",
       "\tviewer_16849448304025142.setHoverable({},true,\"\\n            function(atom,viewer,event,container) {\\n                if(!atom.label) {\\n                    atom.label = viewer.addLabel(atom.elem + atom.serial, {position: atom, backgroundColor: 'mintcream', fontColor:'black'});\\n                }\\n            }\\n            \",\"\\n            function(atom,viewer) { \\n                if(atom.label) {\\n                    viewer.removeLabel(atom.label);\\n                    delete atom.label;\\n                }\\n            }\\n            \");\n",
       "\tviewer_16849448304025142.zoomTo();\n",
       "\tviewer_16849448304025142.setBackgroundColor(null);\n",
       "viewer_16849448304025142.render();\n",
       "});\n",
       "</script>"
      ]
     },
     "metadata": {},
     "output_type": "display_data"
    },
    {
     "data": {
      "text/plain": [
       "Molecule(name='1_2', formula='C14 H22 Br2 N2 O2')"
      ]
     },
     "execution_count": 12,
     "metadata": {},
     "output_type": "execute_result"
    }
   ],
   "source": [
    "combos[1]"
   ]
  },
  {
   "cell_type": "code",
   "execution_count": 13,
   "metadata": {},
   "outputs": [
    {
     "data": {
      "application/3dmoljs_load.v0": "<div id=\"3dmolviewer_16849448387198596\"  style=\"position: relative; width: 1000px; height: 500px;\">\n        <p id=\"3dmolwarning_16849448387198596\" style=\"background-color:#ffcccc;color:black\">You appear to be running in JupyterLab (or JavaScript failed to load for some other reason).  You need to install the 3dmol extension: <br>\n        <tt>jupyter labextension install jupyterlab_3dmol</tt></p>\n        </div>\n<script>\n\nvar loadScriptAsync = function(uri){\n  return new Promise((resolve, reject) => {\n    //this is to ignore the existence of requirejs amd\n    var savedexports, savedmodule;\n    if (typeof exports !== 'undefined') savedexports = exports;\n    else exports = {}\n    if (typeof module !== 'undefined') savedmodule = module;\n    else module = {}\n\n    var tag = document.createElement('script');\n    tag.src = uri;\n    tag.async = true;\n    tag.onload = () => {\n        exports = savedexports;\n        module = savedmodule;\n        resolve();\n    };\n  var firstScriptTag = document.getElementsByTagName('script')[0];\n  firstScriptTag.parentNode.insertBefore(tag, firstScriptTag);\n});\n};\n\nif(typeof $3Dmolpromise === 'undefined') {\n$3Dmolpromise = null;\n  $3Dmolpromise = loadScriptAsync('https://cdnjs.cloudflare.com/ajax/libs/3Dmol/2.0.3/3Dmol-min.js');\n}\n\nvar viewer_16849448387198596 = null;\nvar warn = document.getElementById(\"3dmolwarning_16849448387198596\");\nif(warn) {\n    warn.parentNode.removeChild(warn);\n}\n$3Dmolpromise.then(function() {\nviewer_16849448387198596 = $3Dmol.createViewer(document.getElementById(\"3dmolviewer_16849448387198596\"),{backgroundColor:\"white\"});\nviewer_16849448387198596.zoomTo();\n\tviewer_16849448387198596.addModel(\"# Produced with molli package\\n@<TRIPOS>MOLECULE\\n5_9\\n120 128 0 0 0\\nSMALL\\nUSER_CHARGES\\n\\n@<TRIPOS>ATOM\\n     1 C       0.000000     0.000000     0.000000 C          1 UNL1 0.0\\n     2 C       0.881250     1.213542     0.000000 C          1 UNL1 0.0\\n     3 O       0.000000     2.427083     0.000000 O          1 UNL1 0.0\\n     4 C      -1.427083     1.963542     0.000000 C          1 UNL1 0.0\\n     5 N      -1.427083     0.463542     0.000000 N          1 UNL1 0.0\\n     6 C      -2.726042     2.713542     0.000000 C          1 UNL1 0.0\\n     7 C      -4.025000     1.963542     0.000000 C          1 UNL1 0.0\\n     8 O      -5.452083     2.427083     0.000000 O          1 UNL1 0.0\\n     9 C      -6.333333     1.213542     0.000000 C          1 UNL1 0.0\\n    10 C      -5.452083     0.000000     0.000000 C          1 UNL1 0.0\\n    11 N      -4.025000     0.463542     0.000000 N          1 UNL1 0.0\\n    12 C      -2.726042    -0.286458     0.000000 C          1 UNL1 0.0\\n    13 Br     -2.726042    -0.286458     1.499931 Br         1 UNL1 0.0\\n    14 Br     -1.976042    -1.585417     0.000000 Br         1 UNL1 0.0\\n    15 C      -2.726042     2.713542     1.500000 C          1 UNL1 0.0\\n    16 C      -1.427083     3.463542     0.000000 C          1 UNL1 0.0\\n    17 C      -7.014550     2.549934     0.000000 C          1 UNL1 0.0\\n    18 C      -7.353792     3.215451    -1.295562 C          1 UNL1 0.0\\n    19 C      -8.032926     4.547759    -1.296036 C          1 UNL1 0.0\\n    20 C      -8.372182     5.213302    -0.001401 C          1 UNL1 0.0\\n    21 C      -8.033146     4.548190     1.292760 C          1 UNL1 0.0\\n    22 C      -7.354227     3.216303     1.294161 C          1 UNL1 0.0\\n    23 C       1.561639     2.550355     0.000000 C          1 UNL1 0.0\\n    24 C       1.900595     3.216329    -1.294617 C          1 UNL1 0.0\\n    25 C       2.578690     4.548635    -1.295073 C          1 UNL1 0.0\\n    26 C       2.917830     5.214969    -0.000912 C          1 UNL1 0.0\\n    27 C       2.578874     4.548995     1.293705 C          1 UNL1 0.0\\n    28 C       1.901200     3.217516     1.294633 C          1 UNL1 0.0\\n    29 C      -6.333333     1.213542     1.500000 C          1 UNL1 0.0\\n    30 C      -6.950866     0.075309     2.246735 C          1 UNL1 0.0\\n    31 C      -6.951126     0.074830     3.742053 C          1 UNL1 0.0\\n    32 C      -6.334016     1.212282     4.489204 C          1 UNL1 0.0\\n    33 C      -5.716484     2.350515     3.742469 C          1 UNL1 0.0\\n    34 C      -5.716484     2.350515     2.248039 C          1 UNL1 0.0\\n    35 C       0.881250     1.213542     1.500000 C          1 UNL1 0.0\\n    36 C       1.985483     0.537278     2.247814 C          1 UNL1 0.0\\n    37 C       1.985019     0.537562     3.742588 C          1 UNL1 0.0\\n    38 C       0.881080     1.213646     4.490092 C          1 UNL1 0.0\\n    39 C      -0.222395     1.889446     3.742823 C          1 UNL1 0.0\\n    40 C      -0.222689     1.889625     2.247504 C          1 UNL1 0.0\\n    41 C      -5.683780    -0.713314    -1.299038 C          1 UNL1 0.0\\n    42 C      -6.300142    -2.080744    -1.304141 C          1 UNL1 0.0\\n    43 C      -6.684818    -2.734893    -0.010266 C          1 UNL1 0.0\\n    44 C      -7.301180    -4.102323    -0.015368 C          1 UNL1 0.0\\n    45 C      -7.532866    -4.815604    -1.314347 C          1 UNL1 0.0\\n    46 C      -7.148190    -4.161455    -2.608222 C          1 UNL1 0.0\\n    47 C      -6.531828    -2.794025    -2.603119 C          1 UNL1 0.0\\n    48 C      -8.149256    -6.183097    -1.319450 C          1 UNL1 0.0\\n    49 C      -9.509397    -5.569096    -1.413707 C          1 UNL1 0.0\\n    50 C      -8.764788    -7.545228    -1.324625 C          1 UNL1 0.0\\n    51 C      -6.790566    -6.796860    -1.225284 C          1 UNL1 0.0\\n    52 C       0.231697    -0.713314     1.299038 C          1 UNL1 0.0\\n    53 C       0.924062    -2.043834     1.310853 C          1 UNL1 0.0\\n    54 C       1.384741    -2.661073     0.023689 C          1 UNL1 0.0\\n    55 C       2.077106    -3.991593     0.035503 C          1 UNL1 0.0\\n    56 C       2.308792    -4.704874     1.334481 C          1 UNL1 0.0\\n    57 C       1.848113    -4.087635     2.621645 C          1 UNL1 0.0\\n    58 C       1.155748    -2.757115     2.609831 C          1 UNL1 0.0\\n    59 C       3.001189    -6.035455     1.346296 C          1 UNL1 0.0\\n    60 C       4.320836    -5.346896     1.488717 C          1 UNL1 0.0\\n    61 C       3.692424    -7.360733     1.358206 C          1 UNL1 0.0\\n    62 C       1.682975    -6.723697     1.204014 C          1 UNL1 0.0\\n    63 H       0.205926    -0.633796    -0.837137 H          1 UNL1 0.0\\n    64 H      -5.658010    -0.633796     0.837137 H          1 UNL1 0.0\\n    65 H      -3.713571     2.507450     1.856667 H          1 UNL1 0.0\\n    66 H      -2.410758     3.671814     1.856667 H          1 UNL1 0.0\\n    67 H      -2.053796     1.961362     1.856667 H          1 UNL1 0.0\\n    68 H      -0.865981     3.205044     0.873638 H          1 UNL1 0.0\\n    69 H      -1.622632     4.515521     0.000027 H          1 UNL1 0.0\\n    70 H      -0.866004     3.205084    -0.873665 H          1 UNL1 0.0\\n    71 H      -7.110654     2.738468    -2.221992 H          1 UNL1 0.0\\n    72 H      -8.276055     5.024722    -2.222478 H          1 UNL1 0.0\\n    73 H      -8.858116     6.166595    -0.001062 H          1 UNL1 0.0\\n    74 H      -8.276608     5.025807     2.218777 H          1 UNL1 0.0\\n    75 H      -7.111503     2.740135     2.221118 H          1 UNL1 0.0\\n    76 H       1.657804     2.739298    -2.221113 H          1 UNL1 0.0\\n    77 H       2.821319     5.025347    -2.221776 H          1 UNL1 0.0\\n    78 H       3.403174     6.168562    -0.001239 H          1 UNL1 0.0\\n    79 H       2.821505     5.025712     2.220404 H          1 UNL1 0.0\\n    80 H       1.659156     2.741954     2.222079 H          1 UNL1 0.0\\n    81 H      -7.392575    -0.738846     1.711063 H          1 UNL1 0.0\\n    82 H      -7.392914    -0.739470     4.277439 H          1 UNL1 0.0\\n    83 H      -6.334320     1.211723     5.559203 H          1 UNL1 0.0\\n    84 H      -5.274597     3.164998     4.277496 H          1 UNL1 0.0\\n    85 H      -5.274526     3.165128     1.713268 H          1 UNL1 0.0\\n    86 H       2.775959     0.053168     1.713319 H          1 UNL1 0.0\\n    87 H       2.775195     0.053636     4.277693 H          1 UNL1 0.0\\n    88 H       0.880748     1.213849     5.560092 H          1 UNL1 0.0\\n    89 H      -1.012313     2.373214     4.278452 H          1 UNL1 0.0\\n    90 H      -1.012857     2.373547     1.712383 H          1 UNL1 0.0\\n    91 H      -4.728941    -0.805329    -1.773208 H          1 UNL1 0.0\\n    92 H      -6.323841    -0.086024    -1.883718 H          1 UNL1 0.0\\n    93 H      -6.519541    -2.226062     0.916382 H          1 UNL1 0.0\\n    94 H      -7.575582    -4.568949     0.907596 H          1 UNL1 0.0\\n    95 H      -7.313467    -4.670285    -3.534869 H          1 UNL1 0.0\\n    96 H      -6.257426    -2.327398    -3.526084 H          1 UNL1 0.0\\n    97 H      -9.610227    -5.068181    -2.353822 H          1 UNL1 0.0\\n    98 H      -9.638660    -4.864792    -0.618630 H          1 UNL1 0.0\\n    99 H     -10.252602    -6.334947    -1.336117 H          1 UNL1 0.0\\n   100 H      -8.073331    -8.247501    -1.741278 H          1 UNL1 0.0\\n   101 H      -9.657536    -7.530960    -1.914283 H          1 UNL1 0.0\\n   102 H      -9.004114    -7.832283    -0.322017 H          1 UNL1 0.0\\n   103 H      -6.348015    -6.541065    -0.285274 H          1 UNL1 0.0\\n   104 H      -6.176818    -6.428312    -2.020511 H          1 UNL1 0.0\\n   105 H      -6.873681    -7.860820    -1.302618 H          1 UNL1 0.0\\n   106 H      -0.730517    -0.864146     1.742226 H          1 UNL1 0.0\\n   107 H       0.816938    -0.057411     1.909207 H          1 UNL1 0.0\\n   108 H       1.219464    -2.152242    -0.902958 H          1 UNL1 0.0\\n   109 H       2.405724    -4.431890    -0.882674 H          1 UNL1 0.0\\n   110 H       2.013390    -4.596465     3.548292 H          1 UNL1 0.0\\n   111 H       0.827130    -2.316818     3.528008 H          1 UNL1 0.0\\n   112 H       4.775960    -5.635794     2.413001 H          1 UNL1 0.0\\n   113 H       4.173004    -4.287195     1.479839 H          1 UNL1 0.0\\n   114 H       4.957863    -5.624977     0.675226 H          1 UNL1 0.0\\n   115 H       4.648701    -7.260022     1.827558 H          1 UNL1 0.0\\n   116 H       3.822768    -7.704059     0.353199 H          1 UNL1 0.0\\n   117 H       3.100611    -8.066797     1.902385 H          1 UNL1 0.0\\n   118 H       1.659833    -7.262478     0.279850 H          1 UNL1 0.0\\n   119 H       0.898157    -5.996451     1.212637 H          1 UNL1 0.0\\n   120 H       1.546741    -7.405127     2.017644 H          1 UNL1 0.0\\n@<TRIPOS>BOND\\n     1      1      2          1\\n     2      2      3          1\\n     3      3      4          1\\n     4      4      5          2\\n     5      5      1          1\\n     6      4      6          1\\n     7      6      7          1\\n     8      7      8          1\\n     9      8      9          1\\n    10      9     10          1\\n    11     10     11          1\\n    12     11      7          2\\n    13     11     12          1\\n    14     12      5          1\\n    15     12     13          1\\n    16     12     14          1\\n    17      6     15          1\\n    18      6     16          1\\n    19     21     22          2\\n    20     20     21          1\\n    21     19     20          2\\n    22     18     19          1\\n    23     17     18          2\\n    24     17     22          1\\n    25      9     17          1\\n    26     27     28          2\\n    27     26     27          1\\n    28     25     26          2\\n    29     24     25          1\\n    30     23     24          2\\n    31     23     28          1\\n    32      2     23          1\\n    33     33     34          2\\n    34     32     33          1\\n    35     31     32          2\\n    36     30     31          1\\n    37     29     30          2\\n    38     29     34          1\\n    39      9     29          1\\n    40     39     40          2\\n    41     38     39          1\\n    42     37     38          2\\n    43     36     37          1\\n    44     35     36          2\\n    45     35     40          1\\n    46      2     35          1\\n    47     41     42          1\\n    48     42     43          2\\n    49     43     44          1\\n    50     44     45          2\\n    51     45     46          1\\n    52     46     47          2\\n    53     47     42          1\\n    54     48     49          1\\n    55     48     50          1\\n    56     48     51          1\\n    57     45     48          1\\n    58     10     41          1\\n    59     52     53          1\\n    60     53     54          2\\n    61     54     55          1\\n    62     55     56          2\\n    63     56     57          1\\n    64     57     58          2\\n    65     58     53          1\\n    66     59     60          1\\n    67     59     61          1\\n    68     59     62          1\\n    69     56     59          1\\n    70      1     52          1\\n    71      1     63          1\\n    72     10     64          1\\n    73     15     65          1\\n    74     15     66          1\\n    75     15     67          1\\n    76     16     68          1\\n    77     16     69          1\\n    78     16     70          1\\n    79     18     71          1\\n    80     19     72          1\\n    81     20     73          1\\n    82     21     74          1\\n    83     22     75          1\\n    84     24     76          1\\n    85     25     77          1\\n    86     26     78          1\\n    87     27     79          1\\n    88     28     80          1\\n    89     30     81          1\\n    90     31     82          1\\n    91     32     83          1\\n    92     33     84          1\\n    93     34     85          1\\n    94     36     86          1\\n    95     37     87          1\\n    96     38     88          1\\n    97     39     89          1\\n    98     40     90          1\\n    99     41     91          1\\n   100     41     92          1\\n   101     43     93          1\\n   102     44     94          1\\n   103     46     95          1\\n   104     47     96          1\\n   105     49     97          1\\n   106     49     98          1\\n   107     49     99          1\\n   108     50    100          1\\n   109     50    101          1\\n   110     50    102          1\\n   111     51    103          1\\n   112     51    104          1\\n   113     51    105          1\\n   114     52    106          1\\n   115     52    107          1\\n   116     54    108          1\\n   117     55    109          1\\n   118     57    110          1\\n   119     58    111          1\\n   120     60    112          1\\n   121     60    113          1\\n   122     60    114          1\\n   123     61    115          1\\n   124     61    116          1\\n   125     61    117          1\\n   126     62    118          1\\n   127     62    119          1\\n   128     62    120          1\\n\",\"mol2\");\n\tviewer_16849448387198596.setStyle({\"stick\": {\"radius\": 0.1}, \"sphere\": {\"scale\": 0.15}});\n\tviewer_16849448387198596.setHoverable({},true,\"\\n            function(atom,viewer,event,container) {\\n                if(!atom.label) {\\n                    atom.label = viewer.addLabel(atom.elem + atom.serial, {position: atom, backgroundColor: 'mintcream', fontColor:'black'});\\n                }\\n            }\\n            \",\"\\n            function(atom,viewer) { \\n                if(atom.label) {\\n                    viewer.removeLabel(atom.label);\\n                    delete atom.label;\\n                }\\n            }\\n            \");\n\tviewer_16849448387198596.zoomTo();\n\tviewer_16849448387198596.setBackgroundColor(null);\nviewer_16849448387198596.render();\n});\n</script>",
      "text/html": [
       "<div id=\"3dmolviewer_16849448387198596\"  style=\"position: relative; width: 1000px; height: 500px;\">\n",
       "        <p id=\"3dmolwarning_16849448387198596\" style=\"background-color:#ffcccc;color:black\">You appear to be running in JupyterLab (or JavaScript failed to load for some other reason).  You need to install the 3dmol extension: <br>\n",
       "        <tt>jupyter labextension install jupyterlab_3dmol</tt></p>\n",
       "        </div>\n",
       "<script>\n",
       "\n",
       "var loadScriptAsync = function(uri){\n",
       "  return new Promise((resolve, reject) => {\n",
       "    //this is to ignore the existence of requirejs amd\n",
       "    var savedexports, savedmodule;\n",
       "    if (typeof exports !== 'undefined') savedexports = exports;\n",
       "    else exports = {}\n",
       "    if (typeof module !== 'undefined') savedmodule = module;\n",
       "    else module = {}\n",
       "\n",
       "    var tag = document.createElement('script');\n",
       "    tag.src = uri;\n",
       "    tag.async = true;\n",
       "    tag.onload = () => {\n",
       "        exports = savedexports;\n",
       "        module = savedmodule;\n",
       "        resolve();\n",
       "    };\n",
       "  var firstScriptTag = document.getElementsByTagName('script')[0];\n",
       "  firstScriptTag.parentNode.insertBefore(tag, firstScriptTag);\n",
       "});\n",
       "};\n",
       "\n",
       "if(typeof $3Dmolpromise === 'undefined') {\n",
       "$3Dmolpromise = null;\n",
       "  $3Dmolpromise = loadScriptAsync('https://cdnjs.cloudflare.com/ajax/libs/3Dmol/2.0.3/3Dmol-min.js');\n",
       "}\n",
       "\n",
       "var viewer_16849448387198596 = null;\n",
       "var warn = document.getElementById(\"3dmolwarning_16849448387198596\");\n",
       "if(warn) {\n",
       "    warn.parentNode.removeChild(warn);\n",
       "}\n",
       "$3Dmolpromise.then(function() {\n",
       "viewer_16849448387198596 = $3Dmol.createViewer(document.getElementById(\"3dmolviewer_16849448387198596\"),{backgroundColor:\"white\"});\n",
       "viewer_16849448387198596.zoomTo();\n",
       "\tviewer_16849448387198596.addModel(\"# Produced with molli package\\n@<TRIPOS>MOLECULE\\n5_9\\n120 128 0 0 0\\nSMALL\\nUSER_CHARGES\\n\\n@<TRIPOS>ATOM\\n     1 C       0.000000     0.000000     0.000000 C          1 UNL1 0.0\\n     2 C       0.881250     1.213542     0.000000 C          1 UNL1 0.0\\n     3 O       0.000000     2.427083     0.000000 O          1 UNL1 0.0\\n     4 C      -1.427083     1.963542     0.000000 C          1 UNL1 0.0\\n     5 N      -1.427083     0.463542     0.000000 N          1 UNL1 0.0\\n     6 C      -2.726042     2.713542     0.000000 C          1 UNL1 0.0\\n     7 C      -4.025000     1.963542     0.000000 C          1 UNL1 0.0\\n     8 O      -5.452083     2.427083     0.000000 O          1 UNL1 0.0\\n     9 C      -6.333333     1.213542     0.000000 C          1 UNL1 0.0\\n    10 C      -5.452083     0.000000     0.000000 C          1 UNL1 0.0\\n    11 N      -4.025000     0.463542     0.000000 N          1 UNL1 0.0\\n    12 C      -2.726042    -0.286458     0.000000 C          1 UNL1 0.0\\n    13 Br     -2.726042    -0.286458     1.499931 Br         1 UNL1 0.0\\n    14 Br     -1.976042    -1.585417     0.000000 Br         1 UNL1 0.0\\n    15 C      -2.726042     2.713542     1.500000 C          1 UNL1 0.0\\n    16 C      -1.427083     3.463542     0.000000 C          1 UNL1 0.0\\n    17 C      -7.014550     2.549934     0.000000 C          1 UNL1 0.0\\n    18 C      -7.353792     3.215451    -1.295562 C          1 UNL1 0.0\\n    19 C      -8.032926     4.547759    -1.296036 C          1 UNL1 0.0\\n    20 C      -8.372182     5.213302    -0.001401 C          1 UNL1 0.0\\n    21 C      -8.033146     4.548190     1.292760 C          1 UNL1 0.0\\n    22 C      -7.354227     3.216303     1.294161 C          1 UNL1 0.0\\n    23 C       1.561639     2.550355     0.000000 C          1 UNL1 0.0\\n    24 C       1.900595     3.216329    -1.294617 C          1 UNL1 0.0\\n    25 C       2.578690     4.548635    -1.295073 C          1 UNL1 0.0\\n    26 C       2.917830     5.214969    -0.000912 C          1 UNL1 0.0\\n    27 C       2.578874     4.548995     1.293705 C          1 UNL1 0.0\\n    28 C       1.901200     3.217516     1.294633 C          1 UNL1 0.0\\n    29 C      -6.333333     1.213542     1.500000 C          1 UNL1 0.0\\n    30 C      -6.950866     0.075309     2.246735 C          1 UNL1 0.0\\n    31 C      -6.951126     0.074830     3.742053 C          1 UNL1 0.0\\n    32 C      -6.334016     1.212282     4.489204 C          1 UNL1 0.0\\n    33 C      -5.716484     2.350515     3.742469 C          1 UNL1 0.0\\n    34 C      -5.716484     2.350515     2.248039 C          1 UNL1 0.0\\n    35 C       0.881250     1.213542     1.500000 C          1 UNL1 0.0\\n    36 C       1.985483     0.537278     2.247814 C          1 UNL1 0.0\\n    37 C       1.985019     0.537562     3.742588 C          1 UNL1 0.0\\n    38 C       0.881080     1.213646     4.490092 C          1 UNL1 0.0\\n    39 C      -0.222395     1.889446     3.742823 C          1 UNL1 0.0\\n    40 C      -0.222689     1.889625     2.247504 C          1 UNL1 0.0\\n    41 C      -5.683780    -0.713314    -1.299038 C          1 UNL1 0.0\\n    42 C      -6.300142    -2.080744    -1.304141 C          1 UNL1 0.0\\n    43 C      -6.684818    -2.734893    -0.010266 C          1 UNL1 0.0\\n    44 C      -7.301180    -4.102323    -0.015368 C          1 UNL1 0.0\\n    45 C      -7.532866    -4.815604    -1.314347 C          1 UNL1 0.0\\n    46 C      -7.148190    -4.161455    -2.608222 C          1 UNL1 0.0\\n    47 C      -6.531828    -2.794025    -2.603119 C          1 UNL1 0.0\\n    48 C      -8.149256    -6.183097    -1.319450 C          1 UNL1 0.0\\n    49 C      -9.509397    -5.569096    -1.413707 C          1 UNL1 0.0\\n    50 C      -8.764788    -7.545228    -1.324625 C          1 UNL1 0.0\\n    51 C      -6.790566    -6.796860    -1.225284 C          1 UNL1 0.0\\n    52 C       0.231697    -0.713314     1.299038 C          1 UNL1 0.0\\n    53 C       0.924062    -2.043834     1.310853 C          1 UNL1 0.0\\n    54 C       1.384741    -2.661073     0.023689 C          1 UNL1 0.0\\n    55 C       2.077106    -3.991593     0.035503 C          1 UNL1 0.0\\n    56 C       2.308792    -4.704874     1.334481 C          1 UNL1 0.0\\n    57 C       1.848113    -4.087635     2.621645 C          1 UNL1 0.0\\n    58 C       1.155748    -2.757115     2.609831 C          1 UNL1 0.0\\n    59 C       3.001189    -6.035455     1.346296 C          1 UNL1 0.0\\n    60 C       4.320836    -5.346896     1.488717 C          1 UNL1 0.0\\n    61 C       3.692424    -7.360733     1.358206 C          1 UNL1 0.0\\n    62 C       1.682975    -6.723697     1.204014 C          1 UNL1 0.0\\n    63 H       0.205926    -0.633796    -0.837137 H          1 UNL1 0.0\\n    64 H      -5.658010    -0.633796     0.837137 H          1 UNL1 0.0\\n    65 H      -3.713571     2.507450     1.856667 H          1 UNL1 0.0\\n    66 H      -2.410758     3.671814     1.856667 H          1 UNL1 0.0\\n    67 H      -2.053796     1.961362     1.856667 H          1 UNL1 0.0\\n    68 H      -0.865981     3.205044     0.873638 H          1 UNL1 0.0\\n    69 H      -1.622632     4.515521     0.000027 H          1 UNL1 0.0\\n    70 H      -0.866004     3.205084    -0.873665 H          1 UNL1 0.0\\n    71 H      -7.110654     2.738468    -2.221992 H          1 UNL1 0.0\\n    72 H      -8.276055     5.024722    -2.222478 H          1 UNL1 0.0\\n    73 H      -8.858116     6.166595    -0.001062 H          1 UNL1 0.0\\n    74 H      -8.276608     5.025807     2.218777 H          1 UNL1 0.0\\n    75 H      -7.111503     2.740135     2.221118 H          1 UNL1 0.0\\n    76 H       1.657804     2.739298    -2.221113 H          1 UNL1 0.0\\n    77 H       2.821319     5.025347    -2.221776 H          1 UNL1 0.0\\n    78 H       3.403174     6.168562    -0.001239 H          1 UNL1 0.0\\n    79 H       2.821505     5.025712     2.220404 H          1 UNL1 0.0\\n    80 H       1.659156     2.741954     2.222079 H          1 UNL1 0.0\\n    81 H      -7.392575    -0.738846     1.711063 H          1 UNL1 0.0\\n    82 H      -7.392914    -0.739470     4.277439 H          1 UNL1 0.0\\n    83 H      -6.334320     1.211723     5.559203 H          1 UNL1 0.0\\n    84 H      -5.274597     3.164998     4.277496 H          1 UNL1 0.0\\n    85 H      -5.274526     3.165128     1.713268 H          1 UNL1 0.0\\n    86 H       2.775959     0.053168     1.713319 H          1 UNL1 0.0\\n    87 H       2.775195     0.053636     4.277693 H          1 UNL1 0.0\\n    88 H       0.880748     1.213849     5.560092 H          1 UNL1 0.0\\n    89 H      -1.012313     2.373214     4.278452 H          1 UNL1 0.0\\n    90 H      -1.012857     2.373547     1.712383 H          1 UNL1 0.0\\n    91 H      -4.728941    -0.805329    -1.773208 H          1 UNL1 0.0\\n    92 H      -6.323841    -0.086024    -1.883718 H          1 UNL1 0.0\\n    93 H      -6.519541    -2.226062     0.916382 H          1 UNL1 0.0\\n    94 H      -7.575582    -4.568949     0.907596 H          1 UNL1 0.0\\n    95 H      -7.313467    -4.670285    -3.534869 H          1 UNL1 0.0\\n    96 H      -6.257426    -2.327398    -3.526084 H          1 UNL1 0.0\\n    97 H      -9.610227    -5.068181    -2.353822 H          1 UNL1 0.0\\n    98 H      -9.638660    -4.864792    -0.618630 H          1 UNL1 0.0\\n    99 H     -10.252602    -6.334947    -1.336117 H          1 UNL1 0.0\\n   100 H      -8.073331    -8.247501    -1.741278 H          1 UNL1 0.0\\n   101 H      -9.657536    -7.530960    -1.914283 H          1 UNL1 0.0\\n   102 H      -9.004114    -7.832283    -0.322017 H          1 UNL1 0.0\\n   103 H      -6.348015    -6.541065    -0.285274 H          1 UNL1 0.0\\n   104 H      -6.176818    -6.428312    -2.020511 H          1 UNL1 0.0\\n   105 H      -6.873681    -7.860820    -1.302618 H          1 UNL1 0.0\\n   106 H      -0.730517    -0.864146     1.742226 H          1 UNL1 0.0\\n   107 H       0.816938    -0.057411     1.909207 H          1 UNL1 0.0\\n   108 H       1.219464    -2.152242    -0.902958 H          1 UNL1 0.0\\n   109 H       2.405724    -4.431890    -0.882674 H          1 UNL1 0.0\\n   110 H       2.013390    -4.596465     3.548292 H          1 UNL1 0.0\\n   111 H       0.827130    -2.316818     3.528008 H          1 UNL1 0.0\\n   112 H       4.775960    -5.635794     2.413001 H          1 UNL1 0.0\\n   113 H       4.173004    -4.287195     1.479839 H          1 UNL1 0.0\\n   114 H       4.957863    -5.624977     0.675226 H          1 UNL1 0.0\\n   115 H       4.648701    -7.260022     1.827558 H          1 UNL1 0.0\\n   116 H       3.822768    -7.704059     0.353199 H          1 UNL1 0.0\\n   117 H       3.100611    -8.066797     1.902385 H          1 UNL1 0.0\\n   118 H       1.659833    -7.262478     0.279850 H          1 UNL1 0.0\\n   119 H       0.898157    -5.996451     1.212637 H          1 UNL1 0.0\\n   120 H       1.546741    -7.405127     2.017644 H          1 UNL1 0.0\\n@<TRIPOS>BOND\\n     1      1      2          1\\n     2      2      3          1\\n     3      3      4          1\\n     4      4      5          2\\n     5      5      1          1\\n     6      4      6          1\\n     7      6      7          1\\n     8      7      8          1\\n     9      8      9          1\\n    10      9     10          1\\n    11     10     11          1\\n    12     11      7          2\\n    13     11     12          1\\n    14     12      5          1\\n    15     12     13          1\\n    16     12     14          1\\n    17      6     15          1\\n    18      6     16          1\\n    19     21     22          2\\n    20     20     21          1\\n    21     19     20          2\\n    22     18     19          1\\n    23     17     18          2\\n    24     17     22          1\\n    25      9     17          1\\n    26     27     28          2\\n    27     26     27          1\\n    28     25     26          2\\n    29     24     25          1\\n    30     23     24          2\\n    31     23     28          1\\n    32      2     23          1\\n    33     33     34          2\\n    34     32     33          1\\n    35     31     32          2\\n    36     30     31          1\\n    37     29     30          2\\n    38     29     34          1\\n    39      9     29          1\\n    40     39     40          2\\n    41     38     39          1\\n    42     37     38          2\\n    43     36     37          1\\n    44     35     36          2\\n    45     35     40          1\\n    46      2     35          1\\n    47     41     42          1\\n    48     42     43          2\\n    49     43     44          1\\n    50     44     45          2\\n    51     45     46          1\\n    52     46     47          2\\n    53     47     42          1\\n    54     48     49          1\\n    55     48     50          1\\n    56     48     51          1\\n    57     45     48          1\\n    58     10     41          1\\n    59     52     53          1\\n    60     53     54          2\\n    61     54     55          1\\n    62     55     56          2\\n    63     56     57          1\\n    64     57     58          2\\n    65     58     53          1\\n    66     59     60          1\\n    67     59     61          1\\n    68     59     62          1\\n    69     56     59          1\\n    70      1     52          1\\n    71      1     63          1\\n    72     10     64          1\\n    73     15     65          1\\n    74     15     66          1\\n    75     15     67          1\\n    76     16     68          1\\n    77     16     69          1\\n    78     16     70          1\\n    79     18     71          1\\n    80     19     72          1\\n    81     20     73          1\\n    82     21     74          1\\n    83     22     75          1\\n    84     24     76          1\\n    85     25     77          1\\n    86     26     78          1\\n    87     27     79          1\\n    88     28     80          1\\n    89     30     81          1\\n    90     31     82          1\\n    91     32     83          1\\n    92     33     84          1\\n    93     34     85          1\\n    94     36     86          1\\n    95     37     87          1\\n    96     38     88          1\\n    97     39     89          1\\n    98     40     90          1\\n    99     41     91          1\\n   100     41     92          1\\n   101     43     93          1\\n   102     44     94          1\\n   103     46     95          1\\n   104     47     96          1\\n   105     49     97          1\\n   106     49     98          1\\n   107     49     99          1\\n   108     50    100          1\\n   109     50    101          1\\n   110     50    102          1\\n   111     51    103          1\\n   112     51    104          1\\n   113     51    105          1\\n   114     52    106          1\\n   115     52    107          1\\n   116     54    108          1\\n   117     55    109          1\\n   118     57    110          1\\n   119     58    111          1\\n   120     60    112          1\\n   121     60    113          1\\n   122     60    114          1\\n   123     61    115          1\\n   124     61    116          1\\n   125     61    117          1\\n   126     62    118          1\\n   127     62    119          1\\n   128     62    120          1\\n\",\"mol2\");\n",
       "\tviewer_16849448387198596.setStyle({\"stick\": {\"radius\": 0.1}, \"sphere\": {\"scale\": 0.15}});\n",
       "\tviewer_16849448387198596.setHoverable({},true,\"\\n            function(atom,viewer,event,container) {\\n                if(!atom.label) {\\n                    atom.label = viewer.addLabel(atom.elem + atom.serial, {position: atom, backgroundColor: 'mintcream', fontColor:'black'});\\n                }\\n            }\\n            \",\"\\n            function(atom,viewer) { \\n                if(atom.label) {\\n                    viewer.removeLabel(atom.label);\\n                    delete atom.label;\\n                }\\n            }\\n            \");\n",
       "\tviewer_16849448387198596.zoomTo();\n",
       "\tviewer_16849448387198596.setBackgroundColor(null);\n",
       "viewer_16849448387198596.render();\n",
       "});\n",
       "</script>"
      ]
     },
     "metadata": {},
     "output_type": "display_data"
    },
    {
     "data": {
      "text/plain": [
       "Molecule(name='5_9', formula='C56 H58 Br2 N2 O2')"
      ]
     },
     "execution_count": 13,
     "metadata": {},
     "output_type": "execute_result"
    }
   ],
   "source": [
    "len(combos)\n",
    "combos[74]"
   ]
  },
  {
   "cell_type": "code",
   "execution_count": 14,
   "metadata": {},
   "outputs": [
    {
     "data": {
      "text/plain": [
       "75"
      ]
     },
     "execution_count": 14,
     "metadata": {},
     "output_type": "execute_result"
    }
   ],
   "source": [
    "len(combos)"
   ]
  },
  {
   "cell_type": "code",
   "execution_count": 15,
   "metadata": {},
   "outputs": [],
   "source": [
    "import os\n",
    "if not os.path.exists('out_combinatorial/'):\n",
    "    os.makedirs('out_combinatorial/')\n",
    "\n",
    "make_lib = ml.MoleculeLibrary.new('out_combinatorial/combinatorial_lib.mlib')\n"
   ]
  },
  {
   "cell_type": "code",
   "execution_count": 16,
   "metadata": {},
   "outputs": [],
   "source": [
    "new_lib = ml.MoleculeLibrary('out_combinatorial/combinatorial_lib.mlib')\n",
    "new_lib.open(False)\n",
    "for mol in combos:\n",
    "    new_lib.append(mol.name, mol)"
   ]
  },
  {
   "cell_type": "code",
   "execution_count": 17,
   "metadata": {},
   "outputs": [],
   "source": [
    "new_lib.close()"
   ]
  },
  {
   "cell_type": "code",
   "execution_count": 18,
   "metadata": {},
   "outputs": [
    {
     "data": {
      "text/plain": [
       "75"
      ]
     },
     "execution_count": 18,
     "metadata": {},
     "output_type": "execute_result"
    }
   ],
   "source": [
    "len(new_lib)"
   ]
  },
  {
   "cell_type": "code",
   "execution_count": 19,
   "metadata": {},
   "outputs": [
    {
     "data": {
      "text/plain": [
       "75"
      ]
     },
     "execution_count": 19,
     "metadata": {},
     "output_type": "execute_result"
    }
   ],
   "source": [
    "check_lib = ml.MoleculeLibrary('out_combinatorial/combinatorial_lib.mlib')\n",
    "len(check_lib)"
   ]
  },
  {
   "cell_type": "code",
   "execution_count": 20,
   "metadata": {},
   "outputs": [
    {
     "data": {
      "application/3dmoljs_load.v0": "<div id=\"3dmolviewer_16849448746587849\"  style=\"position: relative; width: 1000px; height: 500px;\">\n        <p id=\"3dmolwarning_16849448746587849\" style=\"background-color:#ffcccc;color:black\">You appear to be running in JupyterLab (or JavaScript failed to load for some other reason).  You need to install the 3dmol extension: <br>\n        <tt>jupyter labextension install jupyterlab_3dmol</tt></p>\n        </div>\n<script>\n\nvar loadScriptAsync = function(uri){\n  return new Promise((resolve, reject) => {\n    //this is to ignore the existence of requirejs amd\n    var savedexports, savedmodule;\n    if (typeof exports !== 'undefined') savedexports = exports;\n    else exports = {}\n    if (typeof module !== 'undefined') savedmodule = module;\n    else module = {}\n\n    var tag = document.createElement('script');\n    tag.src = uri;\n    tag.async = true;\n    tag.onload = () => {\n        exports = savedexports;\n        module = savedmodule;\n        resolve();\n    };\n  var firstScriptTag = document.getElementsByTagName('script')[0];\n  firstScriptTag.parentNode.insertBefore(tag, firstScriptTag);\n});\n};\n\nif(typeof $3Dmolpromise === 'undefined') {\n$3Dmolpromise = null;\n  $3Dmolpromise = loadScriptAsync('https://cdnjs.cloudflare.com/ajax/libs/3Dmol/2.0.3/3Dmol-min.js');\n}\n\nvar viewer_16849448746587849 = null;\nvar warn = document.getElementById(\"3dmolwarning_16849448746587849\");\nif(warn) {\n    warn.parentNode.removeChild(warn);\n}\n$3Dmolpromise.then(function() {\nviewer_16849448746587849 = $3Dmol.createViewer(document.getElementById(\"3dmolviewer_16849448746587849\"),{backgroundColor:\"white\"});\nviewer_16849448746587849.zoomTo();\n\tviewer_16849448746587849.addModel(\"# Produced with molli package\\n@<TRIPOS>MOLECULE\\n3_6\\n74 78 0 0 0\\nSMALL\\nUSER_CHARGES\\n\\n@<TRIPOS>ATOM\\n     1 C       0.000000     0.000000     0.000000 C          1 UNL1 0.0\\n     2 C       0.879167     1.209375     0.000000 C          1 UNL1 0.0\\n     3 O       0.000000     2.418750     0.000000 O          1 UNL1 0.0\\n     4 C      -1.421875     1.957292     0.000000 C          1 UNL1 0.0\\n     5 N      -1.421875     0.462500     0.000000 N          1 UNL1 0.0\\n     6 C      -2.716667     2.704167     0.000000 C          1 UNL1 0.0\\n     7 C      -4.010417     1.957292     0.000000 C          1 UNL1 0.0\\n     8 O      -5.433333     2.418750     0.000000 O          1 UNL1 0.0\\n     9 C      -6.311458     1.209375     0.000000 C          1 UNL1 0.0\\n    10 C      -5.433333     0.000000     0.000000 C          1 UNL1 0.0\\n    11 N      -4.010417     0.462500     0.000000 N          1 UNL1 0.0\\n    12 C      -2.716667    -0.285417     0.000000 C          1 UNL1 0.0\\n    13 Br     -2.716667    -0.285417     1.494760 Br         1 UNL1 0.0\\n    14 Br     -1.968750    -1.580208     0.000000 Br         1 UNL1 0.0\\n    15 C      -2.716667     2.704167     1.494760 C          1 UNL1 0.0\\n    16 C      -1.968750     3.998958     0.000000 C          1 UNL1 0.0\\n    17 C      -7.061458     1.209375    -1.299038 C          1 UNL1 0.0\\n    18 C      -6.464583     1.856250    -2.506061 C          1 UNL1 0.0\\n    19 C      -8.405990     0.561979    -1.385190 C          1 UNL1 0.0\\n    20 C       1.629167     1.209375     1.299038 C          1 UNL1 0.0\\n    21 C       2.973698     0.561979     1.385190 C          1 UNL1 0.0\\n    22 C       1.031510     1.856771     2.506512 C          1 UNL1 0.0\\n    23 C      -5.665006    -0.713322    -1.299038 C          1 UNL1 0.0\\n    24 C      -6.281377    -2.080748    -1.304145 C          1 UNL1 0.0\\n    25 C      -6.666086    -2.734885    -0.010273 C          1 UNL1 0.0\\n    26 C      -7.282456    -4.102311    -0.015380 C          1 UNL1 0.0\\n    27 C      -7.514458    -4.816434    -1.314881 C          1 UNL1 0.0\\n    28 C      -7.129749    -4.162297    -2.608753 C          1 UNL1 0.0\\n    29 C      -6.513039    -2.794036    -2.603123 C          1 UNL1 0.0\\n    30 C       0.232146    -0.713168     1.299038 C          1 UNL1 0.0\\n    31 C       0.924651    -2.043616     1.310777 C          1 UNL1 0.0\\n    32 C       1.385021    -2.660929     0.023539 C          1 UNL1 0.0\\n    33 C       2.077526    -3.991377     0.035278 C          1 UNL1 0.0\\n    34 C       2.310032    -4.705331     1.334782 C          1 UNL1 0.0\\n    35 C       1.849661    -4.088018     2.622021 C          1 UNL1 0.0\\n    36 C       1.156785    -2.756751     2.609756 C          1 UNL1 0.0\\n    37 H       0.205967    -0.634561    -0.836547 H          1 UNL1 0.0\\n    38 H       1.546245     1.209375    -0.836604 H          1 UNL1 0.0\\n    39 H      -6.978797     1.209375     0.836396 H          1 UNL1 0.0\\n    40 H      -5.639275    -0.634484     0.836611 H          1 UNL1 0.0\\n    41 H      -3.302173     1.882661     1.851427 H          1 UNL1 0.0\\n    42 H      -3.135359     3.621983     1.851427 H          1 UNL1 0.0\\n    43 H      -1.712469     2.607857     1.851427 H          1 UNL1 0.0\\n    44 H      -1.033933     3.870869     0.504589 H          1 UNL1 0.0\\n    45 H      -2.546955     4.744843     0.504216 H          1 UNL1 0.0\\n    46 H      -1.790164     4.307695    -1.008806 H          1 UNL1 0.0\\n    47 H      -7.524782     2.136022    -1.031538 H          1 UNL1 0.0\\n    48 H      -5.402346     1.914157    -2.391173 H          1 UNL1 0.0\\n    49 H      -6.865545     2.842008    -2.617469 H          1 UNL1 0.0\\n    50 H      -6.698337     1.275920    -3.374091 H          1 UNL1 0.0\\n    51 H      -8.489743     0.035909    -2.313163 H          1 UNL1 0.0\\n    52 H      -9.167153     1.311999    -1.330425 H          1 UNL1 0.0\\n    53 H      -8.523533    -0.125398    -0.573650 H          1 UNL1 0.0\\n    54 H       2.092490     2.136022     1.031538 H          1 UNL1 0.0\\n    55 H       3.437185     0.824552     2.313163 H          1 UNL1 0.0\\n    56 H       3.584359     0.898724     0.573650 H          1 UNL1 0.0\\n    57 H       2.862010    -0.500766     1.330425 H          1 UNL1 0.0\\n    58 H       1.058588     2.920202     2.391274 H          1 UNL1 0.0\\n    59 H       1.591239     1.577729     3.374694 H          1 UNL1 0.0\\n    60 H       0.016882     1.535809     2.617919 H          1 UNL1 0.0\\n    61 H      -4.710157    -0.805347    -1.773186 H          1 UNL1 0.0\\n    62 H      -6.305050    -0.086032    -1.883737 H          1 UNL1 0.0\\n    63 H      -6.500826    -2.226049     0.916374 H          1 UNL1 0.0\\n    64 H      -7.556639    -4.568333     0.907955 H          1 UNL1 0.0\\n    65 H      -7.954134    -5.791918    -1.318895 H          1 UNL1 0.0\\n    66 H      -7.295153    -4.671422    -3.535216 H          1 UNL1 0.0\\n    67 H      -6.238370    -2.326823    -3.525712 H          1 UNL1 0.0\\n    68 H      -0.729924    -0.864057     1.742519 H          1 UNL1 0.0\\n    69 H       0.817495    -0.057148     1.908976 H          1 UNL1 0.0\\n    70 H       1.219424    -2.152202    -0.903109 H          1 UNL1 0.0\\n    71 H       2.405659    -4.431142    -0.883327 H          1 UNL1 0.0\\n    72 H       2.804009    -5.654441     1.343526 H          1 UNL1 0.0\\n    73 H       2.015423    -4.597023     3.548486 H          1 UNL1 0.0\\n    74 H       0.828124    -2.315817     3.527611 H          1 UNL1 0.0\\n@<TRIPOS>BOND\\n     1      1      2          1\\n     2      2      3          1\\n     3      3      4          1\\n     4      4      5          2\\n     5      5      1          1\\n     6      4      6          1\\n     7      6      7          1\\n     8      7      8          1\\n     9      8      9          1\\n    10      9     10          1\\n    11     10     11          1\\n    12     11      7          2\\n    13     11     12          1\\n    14     12      5          1\\n    15     12     13          1\\n    16     12     14          1\\n    17      6     15          1\\n    18      6     16          1\\n    19     17     18          1\\n    20     17     19          1\\n    21      9     17          1\\n    22     20     21          1\\n    23     20     22          1\\n    24      2     20          1\\n    25     23     24          1\\n    26     24     25          2\\n    27     25     26          1\\n    28     26     27          2\\n    29     27     28          1\\n    30     28     29          2\\n    31     29     24          1\\n    32     10     23          1\\n    33     30     31          1\\n    34     31     32          2\\n    35     32     33          1\\n    36     33     34          2\\n    37     34     35          1\\n    38     35     36          2\\n    39     36     31          1\\n    40      1     30          1\\n    41      1     37          1\\n    42      2     38          1\\n    43      9     39          1\\n    44     10     40          1\\n    45     15     41          1\\n    46     15     42          1\\n    47     15     43          1\\n    48     16     44          1\\n    49     16     45          1\\n    50     16     46          1\\n    51     17     47          1\\n    52     18     48          1\\n    53     18     49          1\\n    54     18     50          1\\n    55     19     51          1\\n    56     19     52          1\\n    57     19     53          1\\n    58     20     54          1\\n    59     21     55          1\\n    60     21     56          1\\n    61     21     57          1\\n    62     22     58          1\\n    63     22     59          1\\n    64     22     60          1\\n    65     23     61          1\\n    66     23     62          1\\n    67     25     63          1\\n    68     26     64          1\\n    69     27     65          1\\n    70     28     66          1\\n    71     29     67          1\\n    72     30     68          1\\n    73     30     69          1\\n    74     32     70          1\\n    75     33     71          1\\n    76     34     72          1\\n    77     35     73          1\\n    78     36     74          1\\n\",\"mol2\");\n\tviewer_16849448746587849.setStyle({\"stick\": {\"radius\": 0.1}, \"sphere\": {\"scale\": 0.15}});\n\tviewer_16849448746587849.setHoverable({},true,\"\\n            function(atom,viewer,event,container) {\\n                if(!atom.label) {\\n                    atom.label = viewer.addLabel(atom.elem + atom.serial, {position: atom, backgroundColor: 'mintcream', fontColor:'black'});\\n                }\\n            }\\n            \",\"\\n            function(atom,viewer) { \\n                if(atom.label) {\\n                    viewer.removeLabel(atom.label);\\n                    delete atom.label;\\n                }\\n            }\\n            \");\n\tviewer_16849448746587849.zoomTo();\n\tviewer_16849448746587849.setBackgroundColor(null);\nviewer_16849448746587849.render();\n});\n</script>",
      "text/html": [
       "<div id=\"3dmolviewer_16849448746587849\"  style=\"position: relative; width: 1000px; height: 500px;\">\n",
       "        <p id=\"3dmolwarning_16849448746587849\" style=\"background-color:#ffcccc;color:black\">You appear to be running in JupyterLab (or JavaScript failed to load for some other reason).  You need to install the 3dmol extension: <br>\n",
       "        <tt>jupyter labextension install jupyterlab_3dmol</tt></p>\n",
       "        </div>\n",
       "<script>\n",
       "\n",
       "var loadScriptAsync = function(uri){\n",
       "  return new Promise((resolve, reject) => {\n",
       "    //this is to ignore the existence of requirejs amd\n",
       "    var savedexports, savedmodule;\n",
       "    if (typeof exports !== 'undefined') savedexports = exports;\n",
       "    else exports = {}\n",
       "    if (typeof module !== 'undefined') savedmodule = module;\n",
       "    else module = {}\n",
       "\n",
       "    var tag = document.createElement('script');\n",
       "    tag.src = uri;\n",
       "    tag.async = true;\n",
       "    tag.onload = () => {\n",
       "        exports = savedexports;\n",
       "        module = savedmodule;\n",
       "        resolve();\n",
       "    };\n",
       "  var firstScriptTag = document.getElementsByTagName('script')[0];\n",
       "  firstScriptTag.parentNode.insertBefore(tag, firstScriptTag);\n",
       "});\n",
       "};\n",
       "\n",
       "if(typeof $3Dmolpromise === 'undefined') {\n",
       "$3Dmolpromise = null;\n",
       "  $3Dmolpromise = loadScriptAsync('https://cdnjs.cloudflare.com/ajax/libs/3Dmol/2.0.3/3Dmol-min.js');\n",
       "}\n",
       "\n",
       "var viewer_16849448746587849 = null;\n",
       "var warn = document.getElementById(\"3dmolwarning_16849448746587849\");\n",
       "if(warn) {\n",
       "    warn.parentNode.removeChild(warn);\n",
       "}\n",
       "$3Dmolpromise.then(function() {\n",
       "viewer_16849448746587849 = $3Dmol.createViewer(document.getElementById(\"3dmolviewer_16849448746587849\"),{backgroundColor:\"white\"});\n",
       "viewer_16849448746587849.zoomTo();\n",
       "\tviewer_16849448746587849.addModel(\"# Produced with molli package\\n@<TRIPOS>MOLECULE\\n3_6\\n74 78 0 0 0\\nSMALL\\nUSER_CHARGES\\n\\n@<TRIPOS>ATOM\\n     1 C       0.000000     0.000000     0.000000 C          1 UNL1 0.0\\n     2 C       0.879167     1.209375     0.000000 C          1 UNL1 0.0\\n     3 O       0.000000     2.418750     0.000000 O          1 UNL1 0.0\\n     4 C      -1.421875     1.957292     0.000000 C          1 UNL1 0.0\\n     5 N      -1.421875     0.462500     0.000000 N          1 UNL1 0.0\\n     6 C      -2.716667     2.704167     0.000000 C          1 UNL1 0.0\\n     7 C      -4.010417     1.957292     0.000000 C          1 UNL1 0.0\\n     8 O      -5.433333     2.418750     0.000000 O          1 UNL1 0.0\\n     9 C      -6.311458     1.209375     0.000000 C          1 UNL1 0.0\\n    10 C      -5.433333     0.000000     0.000000 C          1 UNL1 0.0\\n    11 N      -4.010417     0.462500     0.000000 N          1 UNL1 0.0\\n    12 C      -2.716667    -0.285417     0.000000 C          1 UNL1 0.0\\n    13 Br     -2.716667    -0.285417     1.494760 Br         1 UNL1 0.0\\n    14 Br     -1.968750    -1.580208     0.000000 Br         1 UNL1 0.0\\n    15 C      -2.716667     2.704167     1.494760 C          1 UNL1 0.0\\n    16 C      -1.968750     3.998958     0.000000 C          1 UNL1 0.0\\n    17 C      -7.061458     1.209375    -1.299038 C          1 UNL1 0.0\\n    18 C      -6.464583     1.856250    -2.506061 C          1 UNL1 0.0\\n    19 C      -8.405990     0.561979    -1.385190 C          1 UNL1 0.0\\n    20 C       1.629167     1.209375     1.299038 C          1 UNL1 0.0\\n    21 C       2.973698     0.561979     1.385190 C          1 UNL1 0.0\\n    22 C       1.031510     1.856771     2.506512 C          1 UNL1 0.0\\n    23 C      -5.665006    -0.713322    -1.299038 C          1 UNL1 0.0\\n    24 C      -6.281377    -2.080748    -1.304145 C          1 UNL1 0.0\\n    25 C      -6.666086    -2.734885    -0.010273 C          1 UNL1 0.0\\n    26 C      -7.282456    -4.102311    -0.015380 C          1 UNL1 0.0\\n    27 C      -7.514458    -4.816434    -1.314881 C          1 UNL1 0.0\\n    28 C      -7.129749    -4.162297    -2.608753 C          1 UNL1 0.0\\n    29 C      -6.513039    -2.794036    -2.603123 C          1 UNL1 0.0\\n    30 C       0.232146    -0.713168     1.299038 C          1 UNL1 0.0\\n    31 C       0.924651    -2.043616     1.310777 C          1 UNL1 0.0\\n    32 C       1.385021    -2.660929     0.023539 C          1 UNL1 0.0\\n    33 C       2.077526    -3.991377     0.035278 C          1 UNL1 0.0\\n    34 C       2.310032    -4.705331     1.334782 C          1 UNL1 0.0\\n    35 C       1.849661    -4.088018     2.622021 C          1 UNL1 0.0\\n    36 C       1.156785    -2.756751     2.609756 C          1 UNL1 0.0\\n    37 H       0.205967    -0.634561    -0.836547 H          1 UNL1 0.0\\n    38 H       1.546245     1.209375    -0.836604 H          1 UNL1 0.0\\n    39 H      -6.978797     1.209375     0.836396 H          1 UNL1 0.0\\n    40 H      -5.639275    -0.634484     0.836611 H          1 UNL1 0.0\\n    41 H      -3.302173     1.882661     1.851427 H          1 UNL1 0.0\\n    42 H      -3.135359     3.621983     1.851427 H          1 UNL1 0.0\\n    43 H      -1.712469     2.607857     1.851427 H          1 UNL1 0.0\\n    44 H      -1.033933     3.870869     0.504589 H          1 UNL1 0.0\\n    45 H      -2.546955     4.744843     0.504216 H          1 UNL1 0.0\\n    46 H      -1.790164     4.307695    -1.008806 H          1 UNL1 0.0\\n    47 H      -7.524782     2.136022    -1.031538 H          1 UNL1 0.0\\n    48 H      -5.402346     1.914157    -2.391173 H          1 UNL1 0.0\\n    49 H      -6.865545     2.842008    -2.617469 H          1 UNL1 0.0\\n    50 H      -6.698337     1.275920    -3.374091 H          1 UNL1 0.0\\n    51 H      -8.489743     0.035909    -2.313163 H          1 UNL1 0.0\\n    52 H      -9.167153     1.311999    -1.330425 H          1 UNL1 0.0\\n    53 H      -8.523533    -0.125398    -0.573650 H          1 UNL1 0.0\\n    54 H       2.092490     2.136022     1.031538 H          1 UNL1 0.0\\n    55 H       3.437185     0.824552     2.313163 H          1 UNL1 0.0\\n    56 H       3.584359     0.898724     0.573650 H          1 UNL1 0.0\\n    57 H       2.862010    -0.500766     1.330425 H          1 UNL1 0.0\\n    58 H       1.058588     2.920202     2.391274 H          1 UNL1 0.0\\n    59 H       1.591239     1.577729     3.374694 H          1 UNL1 0.0\\n    60 H       0.016882     1.535809     2.617919 H          1 UNL1 0.0\\n    61 H      -4.710157    -0.805347    -1.773186 H          1 UNL1 0.0\\n    62 H      -6.305050    -0.086032    -1.883737 H          1 UNL1 0.0\\n    63 H      -6.500826    -2.226049     0.916374 H          1 UNL1 0.0\\n    64 H      -7.556639    -4.568333     0.907955 H          1 UNL1 0.0\\n    65 H      -7.954134    -5.791918    -1.318895 H          1 UNL1 0.0\\n    66 H      -7.295153    -4.671422    -3.535216 H          1 UNL1 0.0\\n    67 H      -6.238370    -2.326823    -3.525712 H          1 UNL1 0.0\\n    68 H      -0.729924    -0.864057     1.742519 H          1 UNL1 0.0\\n    69 H       0.817495    -0.057148     1.908976 H          1 UNL1 0.0\\n    70 H       1.219424    -2.152202    -0.903109 H          1 UNL1 0.0\\n    71 H       2.405659    -4.431142    -0.883327 H          1 UNL1 0.0\\n    72 H       2.804009    -5.654441     1.343526 H          1 UNL1 0.0\\n    73 H       2.015423    -4.597023     3.548486 H          1 UNL1 0.0\\n    74 H       0.828124    -2.315817     3.527611 H          1 UNL1 0.0\\n@<TRIPOS>BOND\\n     1      1      2          1\\n     2      2      3          1\\n     3      3      4          1\\n     4      4      5          2\\n     5      5      1          1\\n     6      4      6          1\\n     7      6      7          1\\n     8      7      8          1\\n     9      8      9          1\\n    10      9     10          1\\n    11     10     11          1\\n    12     11      7          2\\n    13     11     12          1\\n    14     12      5          1\\n    15     12     13          1\\n    16     12     14          1\\n    17      6     15          1\\n    18      6     16          1\\n    19     17     18          1\\n    20     17     19          1\\n    21      9     17          1\\n    22     20     21          1\\n    23     20     22          1\\n    24      2     20          1\\n    25     23     24          1\\n    26     24     25          2\\n    27     25     26          1\\n    28     26     27          2\\n    29     27     28          1\\n    30     28     29          2\\n    31     29     24          1\\n    32     10     23          1\\n    33     30     31          1\\n    34     31     32          2\\n    35     32     33          1\\n    36     33     34          2\\n    37     34     35          1\\n    38     35     36          2\\n    39     36     31          1\\n    40      1     30          1\\n    41      1     37          1\\n    42      2     38          1\\n    43      9     39          1\\n    44     10     40          1\\n    45     15     41          1\\n    46     15     42          1\\n    47     15     43          1\\n    48     16     44          1\\n    49     16     45          1\\n    50     16     46          1\\n    51     17     47          1\\n    52     18     48          1\\n    53     18     49          1\\n    54     18     50          1\\n    55     19     51          1\\n    56     19     52          1\\n    57     19     53          1\\n    58     20     54          1\\n    59     21     55          1\\n    60     21     56          1\\n    61     21     57          1\\n    62     22     58          1\\n    63     22     59          1\\n    64     22     60          1\\n    65     23     61          1\\n    66     23     62          1\\n    67     25     63          1\\n    68     26     64          1\\n    69     27     65          1\\n    70     28     66          1\\n    71     29     67          1\\n    72     30     68          1\\n    73     30     69          1\\n    74     32     70          1\\n    75     33     71          1\\n    76     34     72          1\\n    77     35     73          1\\n    78     36     74          1\\n\",\"mol2\");\n",
       "\tviewer_16849448746587849.setStyle({\"stick\": {\"radius\": 0.1}, \"sphere\": {\"scale\": 0.15}});\n",
       "\tviewer_16849448746587849.setHoverable({},true,\"\\n            function(atom,viewer,event,container) {\\n                if(!atom.label) {\\n                    atom.label = viewer.addLabel(atom.elem + atom.serial, {position: atom, backgroundColor: 'mintcream', fontColor:'black'});\\n                }\\n            }\\n            \",\"\\n            function(atom,viewer) { \\n                if(atom.label) {\\n                    viewer.removeLabel(atom.label);\\n                    delete atom.label;\\n                }\\n            }\\n            \");\n",
       "\tviewer_16849448746587849.zoomTo();\n",
       "\tviewer_16849448746587849.setBackgroundColor(null);\n",
       "viewer_16849448746587849.render();\n",
       "});\n",
       "</script>"
      ]
     },
     "metadata": {},
     "output_type": "display_data"
    },
    {
     "data": {
      "text/plain": [
       "Molecule(name='3_6', formula='C30 H38 Br2 N2 O2')"
      ]
     },
     "execution_count": 20,
     "metadata": {},
     "output_type": "execute_result"
    }
   ],
   "source": [
    "check_lib[42]"
   ]
  },
  {
   "cell_type": "code",
   "execution_count": 1,
   "metadata": {},
   "outputs": [
    {
     "name": "stdout",
     "output_type": "stream",
     "text": [
      "{'abinit': 'ABINIT Output Format', 'acesout': 'ACES output format', 'acr': 'ACR format', 'adfband': 'ADF Band output format', 'adfdftb': 'ADF DFTB output format', 'adfout': 'ADF output format', 'alc': 'Alchemy format', 'aoforce': 'Turbomole AOFORCE output format', 'arc': 'Accelrys/MSI Biosym/Insight II CAR format', 'axsf': 'XCrySDen Structure Format', 'bgf': 'MSI BGF format', 'box': 'Dock 3.5 Box format', 'bs': 'Ball and Stick format', 'c09out': 'Crystal 09 output format', 'c3d1': 'Chem3D Cartesian 1 format', 'c3d2': 'Chem3D Cartesian 2 format', 'caccrt': 'Cacao Cartesian format', 'can': 'Canonical SMILES format', 'car': 'Accelrys/MSI Biosym/Insight II CAR format', 'castep': 'CASTEP format', 'ccc': 'CCC format', 'cdjson': 'ChemDoodle JSON', 'cdx': 'ChemDraw binary format', 'cdxml': 'ChemDraw CDXML format', 'cif': 'Crystallographic Information File', 'ck': 'ChemKin format', 'cml': 'Chemical Markup Language', 'cmlr': 'CML Reaction format', 'cof': 'Culgi object file format', 'CONFIG': 'DL-POLY CONFIG', 'CONTCAR': 'VASP format', 'CONTFF': 'MDFF format', 'crk2d': 'Chemical Resource Kit diagram(2D)', 'crk3d': 'Chemical Resource Kit 3D format', 'ct': 'ChemDraw Connection Table format', 'cub': 'Gaussian cube format', 'cube': 'Gaussian cube format', 'dallog': 'DALTON output format', 'dalmol': 'DALTON input format', 'dat': 'Generic Output file format', 'dmol': 'DMol3 coordinates format', 'dx': 'OpenDX cube format for APBS', 'ent': 'Protein Data Bank format', 'exyz': 'Extended XYZ cartesian coordinates format', 'fa': 'FASTA format', 'fasta': 'FASTA format', 'fch': 'Gaussian formatted checkpoint file format', 'fchk': 'Gaussian formatted checkpoint file format', 'fck': 'Gaussian formatted checkpoint file format', 'feat': 'Feature format', 'fhiaims': 'FHIaims XYZ format', 'fract': 'Free Form Fractional format', 'fs': 'Fastsearch format', 'fsa': 'FASTA format', 'g03': 'Gaussian Output', 'g09': 'Gaussian Output', 'g16': 'Gaussian Output', 'g92': 'Gaussian Output', 'g94': 'Gaussian Output', 'g98': 'Gaussian Output', 'gal': 'Gaussian Output', 'gam': 'GAMESS Output', 'gamess': 'GAMESS Output', 'gamin': 'GAMESS Input', 'gamout': 'GAMESS Output', 'got': 'GULP format', 'gpr': 'Ghemical format', 'gro': 'GRO format', 'gukin': 'GAMESS-UK Input', 'gukout': 'GAMESS-UK Output', 'gzmat': 'Gaussian Z-Matrix Input', 'hin': 'HyperChem HIN format', 'HISTORY': 'DL-POLY HISTORY', 'inchi': 'InChI format', 'inp': 'GAMESS Input', 'ins': 'ShelX format', 'jin': 'Jaguar input format', 'jout': 'Jaguar output format', 'log': 'Generic Output file format', 'lpmd': 'LPMD format', 'mcdl': 'MCDL format', 'mcif': 'Macromolecular Crystallographic Info', 'MDFF': 'MDFF format', 'mdl': 'MDL MOL format', 'ml2': 'Sybyl Mol2 format', 'mmcif': 'Macromolecular Crystallographic Info', 'mmd': 'MacroModel format', 'mmod': 'MacroModel format', 'mol': 'MDL MOL format', 'mol2': 'Sybyl Mol2 format', 'mold': 'Molden format', 'molden': 'Molden format', 'molf': 'Molden format', 'moo': 'MOPAC Output format', 'mop': 'MOPAC Cartesian format', 'mopcrt': 'MOPAC Cartesian format', 'mopin': 'MOPAC Internal', 'mopout': 'MOPAC Output format', 'mpc': 'MOPAC Cartesian format', 'mpo': 'Molpro output format', 'mpqc': 'MPQC output format', 'mrv': 'Chemical Markup Language', 'msi': 'Accelrys/MSI Cerius II MSI format', 'nwo': 'NWChem output format', 'orca': 'ORCA output format', 'out': 'Generic Output file format', 'outmol': 'DMol3 coordinates format', 'output': 'Generic Output file format', 'pc': 'PubChem format', 'pcjson': 'PubChem JSON', 'pcm': 'PCModel Format', 'pdb': 'Protein Data Bank format', 'pdbqt': 'AutoDock PDBQT format', 'png': 'PNG 2D depiction', 'pos': 'POS cartesian coordinates format', 'POSCAR': 'VASP format', 'POSFF': 'MDFF format', 'pqr': 'PQR format', 'pqs': 'Parallel Quantum Solutions format', 'prep': 'Amber Prep format', 'pwscf': 'PWscf format', 'qcout': 'Q-Chem output format', 'res': 'ShelX format', 'rsmi': 'Reaction SMILES format', 'rxn': 'MDL RXN format', 'sd': 'MDL MOL format', 'sdf': 'MDL MOL format', 'siesta': 'SIESTA format', 'smi': 'SMILES format', 'smiles': 'SMILES format', 'smy': 'SMILES format using Smiley parser', 'sy2': 'Sybyl Mol2 format', 't41': 'ADF TAPE41 format', 'tdd': 'Thermo format', 'text': 'Read and write raw text', 'therm': 'Thermo format', 'tmol': 'TurboMole Coordinate format', 'txt': 'Title format', 'txyz': 'Tinker XYZ format', 'unixyz': 'UniChem XYZ format', 'VASP': 'VASP format', 'vmol': 'ViewMol format', 'wln': 'Wiswesser Line Notation', 'xml': 'General XML format', 'xsf': 'XCrySDen Structure Format', 'xtc': 'XTC format', 'xyz': 'XYZ cartesian coordinates format', 'yob': 'YASARA.org YOB format'}\n"
     ]
    }
   ],
   "source": [
    "import openbabel.pybel as pb\n",
    "print(pb.informats)"
   ]
  },
  {
   "cell_type": "code",
   "execution_count": 31,
   "metadata": {},
   "outputs": [
    {
     "name": "stdout",
     "output_type": "stream",
     "text": [
      "abinit : ABINIT Output Format\n",
      "acesout : ACES output format\n",
      "acr : ACR format\n",
      "adfband : ADF Band output format\n",
      "adfdftb : ADF DFTB output format\n",
      "adfout : ADF output format\n",
      "alc : Alchemy format\n",
      "aoforce : Turbomole AOFORCE output format\n",
      "arc : Accelrys/MSI Biosym/Insight II CAR format\n",
      "axsf : XCrySDen Structure Format\n",
      "bgf : MSI BGF format\n",
      "box : Dock 3.5 Box format\n",
      "bs : Ball and Stick format\n",
      "c09out : Crystal 09 output format\n",
      "c3d1 : Chem3D Cartesian 1 format\n",
      "c3d2 : Chem3D Cartesian 2 format\n",
      "caccrt : Cacao Cartesian format\n",
      "can : Canonical SMILES format\n",
      "car : Accelrys/MSI Biosym/Insight II CAR format\n",
      "castep : CASTEP format\n",
      "ccc : CCC format\n",
      "cdjson : ChemDoodle JSON\n",
      "cdx : ChemDraw binary format\n",
      "cdxml : ChemDraw CDXML format\n",
      "cif : Crystallographic Information File\n",
      "ck : ChemKin format\n",
      "cml : Chemical Markup Language\n",
      "cmlr : CML Reaction format\n",
      "cof : Culgi object file format\n",
      "CONFIG : DL-POLY CONFIG\n",
      "CONTCAR : VASP format\n",
      "CONTFF : MDFF format\n",
      "crk2d : Chemical Resource Kit diagram(2D)\n",
      "crk3d : Chemical Resource Kit 3D format\n",
      "ct : ChemDraw Connection Table format\n",
      "cub : Gaussian cube format\n",
      "cube : Gaussian cube format\n",
      "dallog : DALTON output format\n",
      "dalmol : DALTON input format\n",
      "dat : Generic Output file format\n",
      "dmol : DMol3 coordinates format\n",
      "dx : OpenDX cube format for APBS\n",
      "ent : Protein Data Bank format\n",
      "exyz : Extended XYZ cartesian coordinates format\n",
      "fa : FASTA format\n",
      "fasta : FASTA format\n",
      "fch : Gaussian formatted checkpoint file format\n",
      "fchk : Gaussian formatted checkpoint file format\n",
      "fck : Gaussian formatted checkpoint file format\n",
      "feat : Feature format\n",
      "fhiaims : FHIaims XYZ format\n",
      "fract : Free Form Fractional format\n",
      "fs : Fastsearch format\n",
      "fsa : FASTA format\n",
      "g03 : Gaussian Output\n",
      "g09 : Gaussian Output\n",
      "g16 : Gaussian Output\n",
      "g92 : Gaussian Output\n",
      "g94 : Gaussian Output\n",
      "g98 : Gaussian Output\n",
      "gal : Gaussian Output\n",
      "gam : GAMESS Output\n",
      "gamess : GAMESS Output\n",
      "gamin : GAMESS Input\n",
      "gamout : GAMESS Output\n",
      "got : GULP format\n",
      "gpr : Ghemical format\n",
      "gro : GRO format\n",
      "gukin : GAMESS-UK Input\n",
      "gukout : GAMESS-UK Output\n",
      "gzmat : Gaussian Z-Matrix Input\n",
      "hin : HyperChem HIN format\n",
      "HISTORY : DL-POLY HISTORY\n",
      "inchi : InChI format\n",
      "inp : GAMESS Input\n",
      "ins : ShelX format\n",
      "jin : Jaguar input format\n",
      "jout : Jaguar output format\n",
      "log : Generic Output file format\n",
      "lpmd : LPMD format\n",
      "mcdl : MCDL format\n",
      "mcif : Macromolecular Crystallographic Info\n",
      "MDFF : MDFF format\n",
      "mdl : MDL MOL format\n",
      "ml2 : Sybyl Mol2 format\n",
      "mmcif : Macromolecular Crystallographic Info\n",
      "mmd : MacroModel format\n",
      "mmod : MacroModel format\n",
      "mol : MDL MOL format\n",
      "mol2 : Sybyl Mol2 format\n",
      "mold : Molden format\n",
      "molden : Molden format\n",
      "molf : Molden format\n",
      "moo : MOPAC Output format\n",
      "mop : MOPAC Cartesian format\n",
      "mopcrt : MOPAC Cartesian format\n",
      "mopin : MOPAC Internal\n",
      "mopout : MOPAC Output format\n",
      "mpc : MOPAC Cartesian format\n",
      "mpo : Molpro output format\n",
      "mpqc : MPQC output format\n",
      "mrv : Chemical Markup Language\n",
      "msi : Accelrys/MSI Cerius II MSI format\n",
      "nwo : NWChem output format\n",
      "orca : ORCA output format\n",
      "out : Generic Output file format\n",
      "outmol : DMol3 coordinates format\n",
      "output : Generic Output file format\n",
      "pc : PubChem format\n",
      "pcjson : PubChem JSON\n",
      "pcm : PCModel Format\n",
      "pdb : Protein Data Bank format\n",
      "pdbqt : AutoDock PDBQT format\n",
      "png : PNG 2D depiction\n",
      "pos : POS cartesian coordinates format\n",
      "POSCAR : VASP format\n",
      "POSFF : MDFF format\n",
      "pqr : PQR format\n",
      "pqs : Parallel Quantum Solutions format\n",
      "prep : Amber Prep format\n",
      "pwscf : PWscf format\n",
      "qcout : Q-Chem output format\n",
      "res : ShelX format\n",
      "rsmi : Reaction SMILES format\n",
      "rxn : MDL RXN format\n",
      "sd : MDL MOL format\n",
      "sdf : MDL MOL format\n",
      "siesta : SIESTA format\n",
      "smi : SMILES format\n",
      "smiles : SMILES format\n",
      "smy : SMILES format using Smiley parser\n",
      "sy2 : Sybyl Mol2 format\n",
      "t41 : ADF TAPE41 format\n",
      "tdd : Thermo format\n",
      "text : Read and write raw text\n",
      "therm : Thermo format\n",
      "tmol : TurboMole Coordinate format\n",
      "txt : Title format\n",
      "txyz : Tinker XYZ format\n",
      "unixyz : UniChem XYZ format\n",
      "VASP : VASP format\n",
      "vmol : ViewMol format\n",
      "wln : Wiswesser Line Notation\n",
      "xml : General XML format\n",
      "xsf : XCrySDen Structure Format\n",
      "xtc : XTC format\n",
      "xyz : XYZ cartesian coordinates format\n",
      "yob : YASARA.org YOB format\n"
     ]
    }
   ],
   "source": [
    "for form in pb.informats:\n",
    "    print(form + ' : ' + pb.informats[form])\n"
   ]
  },
  {
   "cell_type": "code",
   "execution_count": 4,
   "metadata": {},
   "outputs": [
    {
     "data": {
      "text/plain": [
       "75"
      ]
     },
     "execution_count": 4,
     "metadata": {},
     "output_type": "execute_result"
    }
   ],
   "source": [
    "check2_lib = ml.MoleculeLibrary('out_combinatorial/combinatorial_lib_check.mlib')\n",
    "len(check2_lib)"
   ]
  },
  {
   "cell_type": "code",
   "execution_count": 5,
   "metadata": {},
   "outputs": [
    {
     "data": {
      "application/3dmoljs_load.v0": "<div id=\"3dmolviewer_16849438923745077\"  style=\"position: relative; width: 1000px; height: 500px;\">\n        <p id=\"3dmolwarning_16849438923745077\" style=\"background-color:#ffcccc;color:black\">You appear to be running in JupyterLab (or JavaScript failed to load for some other reason).  You need to install the 3dmol extension: <br>\n        <tt>jupyter labextension install jupyterlab_3dmol</tt></p>\n        </div>\n<script>\n\nvar loadScriptAsync = function(uri){\n  return new Promise((resolve, reject) => {\n    //this is to ignore the existence of requirejs amd\n    var savedexports, savedmodule;\n    if (typeof exports !== 'undefined') savedexports = exports;\n    else exports = {}\n    if (typeof module !== 'undefined') savedmodule = module;\n    else module = {}\n\n    var tag = document.createElement('script');\n    tag.src = uri;\n    tag.async = true;\n    tag.onload = () => {\n        exports = savedexports;\n        module = savedmodule;\n        resolve();\n    };\n  var firstScriptTag = document.getElementsByTagName('script')[0];\n  firstScriptTag.parentNode.insertBefore(tag, firstScriptTag);\n});\n};\n\nif(typeof $3Dmolpromise === 'undefined') {\n$3Dmolpromise = null;\n  $3Dmolpromise = loadScriptAsync('https://cdnjs.cloudflare.com/ajax/libs/3Dmol/2.0.3/3Dmol-min.js');\n}\n\nvar viewer_16849438923745077 = null;\nvar warn = document.getElementById(\"3dmolwarning_16849438923745077\");\nif(warn) {\n    warn.parentNode.removeChild(warn);\n}\n$3Dmolpromise.then(function() {\nviewer_16849438923745077 = $3Dmol.createViewer(document.getElementById(\"3dmolviewer_16849438923745077\"),{backgroundColor:\"white\"});\nviewer_16849438923745077.zoomTo();\n\tviewer_16849438923745077.addModel(\"# Produced with molli package\\n@<TRIPOS>MOLECULE\\nunknown\\n74 78 0 0 0\\nSMALL\\nUSER_CHARGES\\n\\n@<TRIPOS>ATOM\\n     1 C       0.000000     0.000000     0.000000 C          1 UNL1 0.0\\n     2 C       0.879167     1.209375     0.000000 C          1 UNL1 0.0\\n     3 O       0.000000     2.418750     0.000000 O          1 UNL1 0.0\\n     4 C      -1.421875     1.957292     0.000000 C          1 UNL1 0.0\\n     5 N      -1.421875     0.462500     0.000000 N          1 UNL1 0.0\\n     6 C      -2.716667     2.704167     0.000000 C          1 UNL1 0.0\\n     7 C      -4.010417     1.957292     0.000000 C          1 UNL1 0.0\\n     8 O      -5.433333     2.418750     0.000000 O          1 UNL1 0.0\\n     9 C      -6.311458     1.209375     0.000000 C          1 UNL1 0.0\\n    10 C      -5.433333     0.000000     0.000000 C          1 UNL1 0.0\\n    11 N      -4.010417     0.462500     0.000000 N          1 UNL1 0.0\\n    12 C      -2.716667    -0.285417     0.000000 C          1 UNL1 0.0\\n    13 Br     -2.716667    -0.285417     1.494760 Br         1 UNL1 0.0\\n    14 Br     -1.968750    -1.580208     0.000000 Br         1 UNL1 0.0\\n    15 C      -2.716667     2.704167     1.494760 C          1 UNL1 0.0\\n    16 C      -1.968750     3.998958     0.000000 C          1 UNL1 0.0\\n    17 C      -7.061458     1.209375    -1.299038 C          1 UNL1 0.0\\n    18 C      -6.464583     1.856250    -2.506061 C          1 UNL1 0.0\\n    19 C      -8.405990     0.561979    -1.385190 C          1 UNL1 0.0\\n    20 C       1.629167     1.209375     1.299038 C          1 UNL1 0.0\\n    21 C       2.973698     0.561979     1.385190 C          1 UNL1 0.0\\n    22 C       1.031510     1.856771     2.506512 C          1 UNL1 0.0\\n    23 C      -5.665006    -0.713322    -1.299038 C          1 UNL1 0.0\\n    24 C      -6.281377    -2.080748    -1.304145 C          1 UNL1 0.0\\n    25 C      -6.666086    -2.734885    -0.010273 C          1 UNL1 0.0\\n    26 C      -7.282456    -4.102311    -0.015380 C          1 UNL1 0.0\\n    27 C      -7.514458    -4.816434    -1.314881 C          1 UNL1 0.0\\n    28 C      -7.129749    -4.162297    -2.608753 C          1 UNL1 0.0\\n    29 C      -6.513039    -2.794036    -2.603123 C          1 UNL1 0.0\\n    30 C       0.232146    -0.713168     1.299038 C          1 UNL1 0.0\\n    31 C       0.924651    -2.043616     1.310777 C          1 UNL1 0.0\\n    32 C       1.385021    -2.660929     0.023539 C          1 UNL1 0.0\\n    33 C       2.077526    -3.991377     0.035278 C          1 UNL1 0.0\\n    34 C       2.310032    -4.705331     1.334782 C          1 UNL1 0.0\\n    35 C       1.849661    -4.088018     2.622021 C          1 UNL1 0.0\\n    36 C       1.156785    -2.756751     2.609756 C          1 UNL1 0.0\\n    37 H       0.205967    -0.634561    -0.836547 H          1 UNL1 0.0\\n    38 H       1.546245     1.209375    -0.836604 H          1 UNL1 0.0\\n    39 H      -6.978797     1.209375     0.836396 H          1 UNL1 0.0\\n    40 H      -5.639275    -0.634484     0.836611 H          1 UNL1 0.0\\n    41 H      -2.120177     1.890601     1.851427 H          1 UNL1 0.0\\n    42 H      -3.719480     2.594374     1.851427 H          1 UNL1 0.0\\n    43 H      -2.310343     3.627525     1.851427 H          1 UNL1 0.0\\n    44 H      -1.033933     3.870869     0.504589 H          1 UNL1 0.0\\n    45 H      -2.546955     4.744843     0.504216 H          1 UNL1 0.0\\n    46 H      -1.790164     4.307695    -1.008806 H          1 UNL1 0.0\\n    47 H      -7.524782     2.136022    -1.031538 H          1 UNL1 0.0\\n    48 H      -5.402346     1.914157    -2.391173 H          1 UNL1 0.0\\n    49 H      -6.865545     2.842008    -2.617469 H          1 UNL1 0.0\\n    50 H      -6.698337     1.275920    -3.374091 H          1 UNL1 0.0\\n    51 H      -8.489743     0.035909    -2.313163 H          1 UNL1 0.0\\n    52 H      -9.167153     1.311999    -1.330425 H          1 UNL1 0.0\\n    53 H      -8.523533    -0.125398    -0.573650 H          1 UNL1 0.0\\n    54 H       2.092490     2.136022     1.031538 H          1 UNL1 0.0\\n    55 H       3.437185     0.824552     2.313163 H          1 UNL1 0.0\\n    56 H       3.584359     0.898724     0.573650 H          1 UNL1 0.0\\n    57 H       2.862010    -0.500766     1.330425 H          1 UNL1 0.0\\n    58 H       1.058588     2.920202     2.391274 H          1 UNL1 0.0\\n    59 H       1.591239     1.577729     3.374694 H          1 UNL1 0.0\\n    60 H       0.016882     1.535809     2.617919 H          1 UNL1 0.0\\n    61 H      -4.710157    -0.805347    -1.773186 H          1 UNL1 0.0\\n    62 H      -6.305050    -0.086032    -1.883737 H          1 UNL1 0.0\\n    63 H      -6.500826    -2.226049     0.916374 H          1 UNL1 0.0\\n    64 H      -7.556639    -4.568333     0.907955 H          1 UNL1 0.0\\n    65 H      -7.954134    -5.791918    -1.318895 H          1 UNL1 0.0\\n    66 H      -7.295153    -4.671422    -3.535216 H          1 UNL1 0.0\\n    67 H      -6.238370    -2.326823    -3.525712 H          1 UNL1 0.0\\n    68 H      -0.729924    -0.864057     1.742519 H          1 UNL1 0.0\\n    69 H       0.817495    -0.057148     1.908976 H          1 UNL1 0.0\\n    70 H       1.219424    -2.152202    -0.903109 H          1 UNL1 0.0\\n    71 H       2.405659    -4.431142    -0.883327 H          1 UNL1 0.0\\n    72 H       2.804009    -5.654441     1.343526 H          1 UNL1 0.0\\n    73 H       2.015423    -4.597023     3.548486 H          1 UNL1 0.0\\n    74 H       0.828124    -2.315817     3.527611 H          1 UNL1 0.0\\n@<TRIPOS>BOND\\n     1      1      2          1\\n     2      2      3          1\\n     3      3      4          1\\n     4      4      5          2\\n     5      5      1          1\\n     6      4      6          1\\n     7      6      7          1\\n     8      7      8          1\\n     9      8      9          1\\n    10      9     10          1\\n    11     10     11          1\\n    12     11      7          2\\n    13     11     12          1\\n    14     12      5          1\\n    15     12     13          1\\n    16     12     14          1\\n    17      6     15          1\\n    18      6     16          1\\n    19     17     18          1\\n    20     17     19          1\\n    21      9     17          1\\n    22     20     21          1\\n    23     20     22          1\\n    24      2     20          1\\n    25     23     24          1\\n    26     24     25          2\\n    27     25     26          1\\n    28     26     27          2\\n    29     27     28          1\\n    30     28     29          2\\n    31     29     24          1\\n    32     10     23          1\\n    33     30     31          1\\n    34     31     32          2\\n    35     32     33          1\\n    36     33     34          2\\n    37     34     35          1\\n    38     35     36          2\\n    39     36     31          1\\n    40      1     30          1\\n    41      1     37          1\\n    42      2     38          1\\n    43      9     39          1\\n    44     10     40          1\\n    45     15     41          1\\n    46     15     42          1\\n    47     15     43          1\\n    48     16     44          1\\n    49     16     45          1\\n    50     16     46          1\\n    51     17     47          1\\n    52     18     48          1\\n    53     18     49          1\\n    54     18     50          1\\n    55     19     51          1\\n    56     19     52          1\\n    57     19     53          1\\n    58     20     54          1\\n    59     21     55          1\\n    60     21     56          1\\n    61     21     57          1\\n    62     22     58          1\\n    63     22     59          1\\n    64     22     60          1\\n    65     23     61          1\\n    66     23     62          1\\n    67     25     63          1\\n    68     26     64          1\\n    69     27     65          1\\n    70     28     66          1\\n    71     29     67          1\\n    72     30     68          1\\n    73     30     69          1\\n    74     32     70          1\\n    75     33     71          1\\n    76     34     72          1\\n    77     35     73          1\\n    78     36     74          1\\n\",\"mol2\");\n\tviewer_16849438923745077.setStyle({\"stick\": {\"radius\": 0.1}, \"sphere\": {\"scale\": 0.15}});\n\tviewer_16849438923745077.setHoverable({},true,\"\\n            function(atom,viewer,event,container) {\\n                if(!atom.label) {\\n                    atom.label = viewer.addLabel(atom.elem + atom.serial, {position: atom, backgroundColor: 'mintcream', fontColor:'black'});\\n                }\\n            }\\n            \",\"\\n            function(atom,viewer) { \\n                if(atom.label) {\\n                    viewer.removeLabel(atom.label);\\n                    delete atom.label;\\n                }\\n            }\\n            \");\n\tviewer_16849438923745077.zoomTo();\n\tviewer_16849438923745077.setBackgroundColor(null);\nviewer_16849438923745077.render();\n});\n</script>",
      "text/html": [
       "<div id=\"3dmolviewer_16849438923745077\"  style=\"position: relative; width: 1000px; height: 500px;\">\n",
       "        <p id=\"3dmolwarning_16849438923745077\" style=\"background-color:#ffcccc;color:black\">You appear to be running in JupyterLab (or JavaScript failed to load for some other reason).  You need to install the 3dmol extension: <br>\n",
       "        <tt>jupyter labextension install jupyterlab_3dmol</tt></p>\n",
       "        </div>\n",
       "<script>\n",
       "\n",
       "var loadScriptAsync = function(uri){\n",
       "  return new Promise((resolve, reject) => {\n",
       "    //this is to ignore the existence of requirejs amd\n",
       "    var savedexports, savedmodule;\n",
       "    if (typeof exports !== 'undefined') savedexports = exports;\n",
       "    else exports = {}\n",
       "    if (typeof module !== 'undefined') savedmodule = module;\n",
       "    else module = {}\n",
       "\n",
       "    var tag = document.createElement('script');\n",
       "    tag.src = uri;\n",
       "    tag.async = true;\n",
       "    tag.onload = () => {\n",
       "        exports = savedexports;\n",
       "        module = savedmodule;\n",
       "        resolve();\n",
       "    };\n",
       "  var firstScriptTag = document.getElementsByTagName('script')[0];\n",
       "  firstScriptTag.parentNode.insertBefore(tag, firstScriptTag);\n",
       "});\n",
       "};\n",
       "\n",
       "if(typeof $3Dmolpromise === 'undefined') {\n",
       "$3Dmolpromise = null;\n",
       "  $3Dmolpromise = loadScriptAsync('https://cdnjs.cloudflare.com/ajax/libs/3Dmol/2.0.3/3Dmol-min.js');\n",
       "}\n",
       "\n",
       "var viewer_16849438923745077 = null;\n",
       "var warn = document.getElementById(\"3dmolwarning_16849438923745077\");\n",
       "if(warn) {\n",
       "    warn.parentNode.removeChild(warn);\n",
       "}\n",
       "$3Dmolpromise.then(function() {\n",
       "viewer_16849438923745077 = $3Dmol.createViewer(document.getElementById(\"3dmolviewer_16849438923745077\"),{backgroundColor:\"white\"});\n",
       "viewer_16849438923745077.zoomTo();\n",
       "\tviewer_16849438923745077.addModel(\"# Produced with molli package\\n@<TRIPOS>MOLECULE\\nunknown\\n74 78 0 0 0\\nSMALL\\nUSER_CHARGES\\n\\n@<TRIPOS>ATOM\\n     1 C       0.000000     0.000000     0.000000 C          1 UNL1 0.0\\n     2 C       0.879167     1.209375     0.000000 C          1 UNL1 0.0\\n     3 O       0.000000     2.418750     0.000000 O          1 UNL1 0.0\\n     4 C      -1.421875     1.957292     0.000000 C          1 UNL1 0.0\\n     5 N      -1.421875     0.462500     0.000000 N          1 UNL1 0.0\\n     6 C      -2.716667     2.704167     0.000000 C          1 UNL1 0.0\\n     7 C      -4.010417     1.957292     0.000000 C          1 UNL1 0.0\\n     8 O      -5.433333     2.418750     0.000000 O          1 UNL1 0.0\\n     9 C      -6.311458     1.209375     0.000000 C          1 UNL1 0.0\\n    10 C      -5.433333     0.000000     0.000000 C          1 UNL1 0.0\\n    11 N      -4.010417     0.462500     0.000000 N          1 UNL1 0.0\\n    12 C      -2.716667    -0.285417     0.000000 C          1 UNL1 0.0\\n    13 Br     -2.716667    -0.285417     1.494760 Br         1 UNL1 0.0\\n    14 Br     -1.968750    -1.580208     0.000000 Br         1 UNL1 0.0\\n    15 C      -2.716667     2.704167     1.494760 C          1 UNL1 0.0\\n    16 C      -1.968750     3.998958     0.000000 C          1 UNL1 0.0\\n    17 C      -7.061458     1.209375    -1.299038 C          1 UNL1 0.0\\n    18 C      -6.464583     1.856250    -2.506061 C          1 UNL1 0.0\\n    19 C      -8.405990     0.561979    -1.385190 C          1 UNL1 0.0\\n    20 C       1.629167     1.209375     1.299038 C          1 UNL1 0.0\\n    21 C       2.973698     0.561979     1.385190 C          1 UNL1 0.0\\n    22 C       1.031510     1.856771     2.506512 C          1 UNL1 0.0\\n    23 C      -5.665006    -0.713322    -1.299038 C          1 UNL1 0.0\\n    24 C      -6.281377    -2.080748    -1.304145 C          1 UNL1 0.0\\n    25 C      -6.666086    -2.734885    -0.010273 C          1 UNL1 0.0\\n    26 C      -7.282456    -4.102311    -0.015380 C          1 UNL1 0.0\\n    27 C      -7.514458    -4.816434    -1.314881 C          1 UNL1 0.0\\n    28 C      -7.129749    -4.162297    -2.608753 C          1 UNL1 0.0\\n    29 C      -6.513039    -2.794036    -2.603123 C          1 UNL1 0.0\\n    30 C       0.232146    -0.713168     1.299038 C          1 UNL1 0.0\\n    31 C       0.924651    -2.043616     1.310777 C          1 UNL1 0.0\\n    32 C       1.385021    -2.660929     0.023539 C          1 UNL1 0.0\\n    33 C       2.077526    -3.991377     0.035278 C          1 UNL1 0.0\\n    34 C       2.310032    -4.705331     1.334782 C          1 UNL1 0.0\\n    35 C       1.849661    -4.088018     2.622021 C          1 UNL1 0.0\\n    36 C       1.156785    -2.756751     2.609756 C          1 UNL1 0.0\\n    37 H       0.205967    -0.634561    -0.836547 H          1 UNL1 0.0\\n    38 H       1.546245     1.209375    -0.836604 H          1 UNL1 0.0\\n    39 H      -6.978797     1.209375     0.836396 H          1 UNL1 0.0\\n    40 H      -5.639275    -0.634484     0.836611 H          1 UNL1 0.0\\n    41 H      -2.120177     1.890601     1.851427 H          1 UNL1 0.0\\n    42 H      -3.719480     2.594374     1.851427 H          1 UNL1 0.0\\n    43 H      -2.310343     3.627525     1.851427 H          1 UNL1 0.0\\n    44 H      -1.033933     3.870869     0.504589 H          1 UNL1 0.0\\n    45 H      -2.546955     4.744843     0.504216 H          1 UNL1 0.0\\n    46 H      -1.790164     4.307695    -1.008806 H          1 UNL1 0.0\\n    47 H      -7.524782     2.136022    -1.031538 H          1 UNL1 0.0\\n    48 H      -5.402346     1.914157    -2.391173 H          1 UNL1 0.0\\n    49 H      -6.865545     2.842008    -2.617469 H          1 UNL1 0.0\\n    50 H      -6.698337     1.275920    -3.374091 H          1 UNL1 0.0\\n    51 H      -8.489743     0.035909    -2.313163 H          1 UNL1 0.0\\n    52 H      -9.167153     1.311999    -1.330425 H          1 UNL1 0.0\\n    53 H      -8.523533    -0.125398    -0.573650 H          1 UNL1 0.0\\n    54 H       2.092490     2.136022     1.031538 H          1 UNL1 0.0\\n    55 H       3.437185     0.824552     2.313163 H          1 UNL1 0.0\\n    56 H       3.584359     0.898724     0.573650 H          1 UNL1 0.0\\n    57 H       2.862010    -0.500766     1.330425 H          1 UNL1 0.0\\n    58 H       1.058588     2.920202     2.391274 H          1 UNL1 0.0\\n    59 H       1.591239     1.577729     3.374694 H          1 UNL1 0.0\\n    60 H       0.016882     1.535809     2.617919 H          1 UNL1 0.0\\n    61 H      -4.710157    -0.805347    -1.773186 H          1 UNL1 0.0\\n    62 H      -6.305050    -0.086032    -1.883737 H          1 UNL1 0.0\\n    63 H      -6.500826    -2.226049     0.916374 H          1 UNL1 0.0\\n    64 H      -7.556639    -4.568333     0.907955 H          1 UNL1 0.0\\n    65 H      -7.954134    -5.791918    -1.318895 H          1 UNL1 0.0\\n    66 H      -7.295153    -4.671422    -3.535216 H          1 UNL1 0.0\\n    67 H      -6.238370    -2.326823    -3.525712 H          1 UNL1 0.0\\n    68 H      -0.729924    -0.864057     1.742519 H          1 UNL1 0.0\\n    69 H       0.817495    -0.057148     1.908976 H          1 UNL1 0.0\\n    70 H       1.219424    -2.152202    -0.903109 H          1 UNL1 0.0\\n    71 H       2.405659    -4.431142    -0.883327 H          1 UNL1 0.0\\n    72 H       2.804009    -5.654441     1.343526 H          1 UNL1 0.0\\n    73 H       2.015423    -4.597023     3.548486 H          1 UNL1 0.0\\n    74 H       0.828124    -2.315817     3.527611 H          1 UNL1 0.0\\n@<TRIPOS>BOND\\n     1      1      2          1\\n     2      2      3          1\\n     3      3      4          1\\n     4      4      5          2\\n     5      5      1          1\\n     6      4      6          1\\n     7      6      7          1\\n     8      7      8          1\\n     9      8      9          1\\n    10      9     10          1\\n    11     10     11          1\\n    12     11      7          2\\n    13     11     12          1\\n    14     12      5          1\\n    15     12     13          1\\n    16     12     14          1\\n    17      6     15          1\\n    18      6     16          1\\n    19     17     18          1\\n    20     17     19          1\\n    21      9     17          1\\n    22     20     21          1\\n    23     20     22          1\\n    24      2     20          1\\n    25     23     24          1\\n    26     24     25          2\\n    27     25     26          1\\n    28     26     27          2\\n    29     27     28          1\\n    30     28     29          2\\n    31     29     24          1\\n    32     10     23          1\\n    33     30     31          1\\n    34     31     32          2\\n    35     32     33          1\\n    36     33     34          2\\n    37     34     35          1\\n    38     35     36          2\\n    39     36     31          1\\n    40      1     30          1\\n    41      1     37          1\\n    42      2     38          1\\n    43      9     39          1\\n    44     10     40          1\\n    45     15     41          1\\n    46     15     42          1\\n    47     15     43          1\\n    48     16     44          1\\n    49     16     45          1\\n    50     16     46          1\\n    51     17     47          1\\n    52     18     48          1\\n    53     18     49          1\\n    54     18     50          1\\n    55     19     51          1\\n    56     19     52          1\\n    57     19     53          1\\n    58     20     54          1\\n    59     21     55          1\\n    60     21     56          1\\n    61     21     57          1\\n    62     22     58          1\\n    63     22     59          1\\n    64     22     60          1\\n    65     23     61          1\\n    66     23     62          1\\n    67     25     63          1\\n    68     26     64          1\\n    69     27     65          1\\n    70     28     66          1\\n    71     29     67          1\\n    72     30     68          1\\n    73     30     69          1\\n    74     32     70          1\\n    75     33     71          1\\n    76     34     72          1\\n    77     35     73          1\\n    78     36     74          1\\n\",\"mol2\");\n",
       "\tviewer_16849438923745077.setStyle({\"stick\": {\"radius\": 0.1}, \"sphere\": {\"scale\": 0.15}});\n",
       "\tviewer_16849438923745077.setHoverable({},true,\"\\n            function(atom,viewer,event,container) {\\n                if(!atom.label) {\\n                    atom.label = viewer.addLabel(atom.elem + atom.serial, {position: atom, backgroundColor: 'mintcream', fontColor:'black'});\\n                }\\n            }\\n            \",\"\\n            function(atom,viewer) { \\n                if(atom.label) {\\n                    viewer.removeLabel(atom.label);\\n                    delete atom.label;\\n                }\\n            }\\n            \");\n",
       "\tviewer_16849438923745077.zoomTo();\n",
       "\tviewer_16849438923745077.setBackgroundColor(null);\n",
       "viewer_16849438923745077.render();\n",
       "});\n",
       "</script>"
      ]
     },
     "metadata": {},
     "output_type": "display_data"
    },
    {
     "data": {
      "text/plain": [
       "Molecule(name='unknown', formula='C30 H38 Br2 N2 O2')"
      ]
     },
     "execution_count": 5,
     "metadata": {},
     "output_type": "execute_result"
    }
   ],
   "source": [
    "check2_lib[42]"
   ]
  },
  {
   "cell_type": "code",
   "execution_count": 22,
   "metadata": {},
   "outputs": [
    {
     "data": {
      "application/3dmoljs_load.v0": "<div id=\"3dmolviewer_16849455867008677\"  style=\"position: relative; width: 1000px; height: 500px;\">\n        <p id=\"3dmolwarning_16849455867008677\" style=\"background-color:#ffcccc;color:black\">You appear to be running in JupyterLab (or JavaScript failed to load for some other reason).  You need to install the 3dmol extension: <br>\n        <tt>jupyter labextension install jupyterlab_3dmol</tt></p>\n        </div>\n<script>\n\nvar loadScriptAsync = function(uri){\n  return new Promise((resolve, reject) => {\n    //this is to ignore the existence of requirejs amd\n    var savedexports, savedmodule;\n    if (typeof exports !== 'undefined') savedexports = exports;\n    else exports = {}\n    if (typeof module !== 'undefined') savedmodule = module;\n    else module = {}\n\n    var tag = document.createElement('script');\n    tag.src = uri;\n    tag.async = true;\n    tag.onload = () => {\n        exports = savedexports;\n        module = savedmodule;\n        resolve();\n    };\n  var firstScriptTag = document.getElementsByTagName('script')[0];\n  firstScriptTag.parentNode.insertBefore(tag, firstScriptTag);\n});\n};\n\nif(typeof $3Dmolpromise === 'undefined') {\n$3Dmolpromise = null;\n  $3Dmolpromise = loadScriptAsync('https://cdnjs.cloudflare.com/ajax/libs/3Dmol/2.0.3/3Dmol-min.js');\n}\n\nvar viewer_16849455867008677 = null;\nvar warn = document.getElementById(\"3dmolwarning_16849455867008677\");\nif(warn) {\n    warn.parentNode.removeChild(warn);\n}\n$3Dmolpromise.then(function() {\nviewer_16849455867008677 = $3Dmol.createViewer(document.getElementById(\"3dmolviewer_16849455867008677\"),{backgroundColor:\"white\"});\nviewer_16849455867008677.zoomTo();\n\tviewer_16849455867008677.addModel(\"# Produced with molli package\\n@<TRIPOS>MOLECULE\\n1\\n5 4 0 0 0\\nSMALL\\nUSER_CHARGES\\n\\n@<TRIPOS>ATOM\\n     1 C       0.000000     0.000000     0.000000 C          1 UNL1 0.0\\n     2 AP1    -1.298958    -0.750000     0.000000 Unknown    1 UNL1 0.0\\n     3 C       1.299018    -0.750035     0.000000 C          1 UNL1 0.0\\n     4 C       0.000000     0.000000     1.500000 C          1 UNL1 0.0\\n     5 C       1.299018     0.750035     0.000000 C          1 UNL1 0.0\\n@<TRIPOS>BOND\\n     1      2      1          1\\n     2      1      3          1\\n     3      1      4          1\\n     4      1      5          1\\n\",\"mol2\");\n\tviewer_16849455867008677.setStyle({\"stick\": {\"radius\": 0.1}, \"sphere\": {\"scale\": 0.15}});\n\tviewer_16849455867008677.setHoverable({},true,\"\\n            function(atom,viewer,event,container) {\\n                if(!atom.label) {\\n                    atom.label = viewer.addLabel(atom.elem + atom.serial, {position: atom, backgroundColor: 'mintcream', fontColor:'black'});\\n                }\\n            }\\n            \",\"\\n            function(atom,viewer) { \\n                if(atom.label) {\\n                    viewer.removeLabel(atom.label);\\n                    delete atom.label;\\n                }\\n            }\\n            \");\n\tviewer_16849455867008677.zoomTo();\n\tviewer_16849455867008677.setBackgroundColor(null);\nviewer_16849455867008677.render();\n});\n</script>",
      "text/html": [
       "<div id=\"3dmolviewer_16849455867008677\"  style=\"position: relative; width: 1000px; height: 500px;\">\n",
       "        <p id=\"3dmolwarning_16849455867008677\" style=\"background-color:#ffcccc;color:black\">You appear to be running in JupyterLab (or JavaScript failed to load for some other reason).  You need to install the 3dmol extension: <br>\n",
       "        <tt>jupyter labextension install jupyterlab_3dmol</tt></p>\n",
       "        </div>\n",
       "<script>\n",
       "\n",
       "var loadScriptAsync = function(uri){\n",
       "  return new Promise((resolve, reject) => {\n",
       "    //this is to ignore the existence of requirejs amd\n",
       "    var savedexports, savedmodule;\n",
       "    if (typeof exports !== 'undefined') savedexports = exports;\n",
       "    else exports = {}\n",
       "    if (typeof module !== 'undefined') savedmodule = module;\n",
       "    else module = {}\n",
       "\n",
       "    var tag = document.createElement('script');\n",
       "    tag.src = uri;\n",
       "    tag.async = true;\n",
       "    tag.onload = () => {\n",
       "        exports = savedexports;\n",
       "        module = savedmodule;\n",
       "        resolve();\n",
       "    };\n",
       "  var firstScriptTag = document.getElementsByTagName('script')[0];\n",
       "  firstScriptTag.parentNode.insertBefore(tag, firstScriptTag);\n",
       "});\n",
       "};\n",
       "\n",
       "if(typeof $3Dmolpromise === 'undefined') {\n",
       "$3Dmolpromise = null;\n",
       "  $3Dmolpromise = loadScriptAsync('https://cdnjs.cloudflare.com/ajax/libs/3Dmol/2.0.3/3Dmol-min.js');\n",
       "}\n",
       "\n",
       "var viewer_16849455867008677 = null;\n",
       "var warn = document.getElementById(\"3dmolwarning_16849455867008677\");\n",
       "if(warn) {\n",
       "    warn.parentNode.removeChild(warn);\n",
       "}\n",
       "$3Dmolpromise.then(function() {\n",
       "viewer_16849455867008677 = $3Dmol.createViewer(document.getElementById(\"3dmolviewer_16849455867008677\"),{backgroundColor:\"white\"});\n",
       "viewer_16849455867008677.zoomTo();\n",
       "\tviewer_16849455867008677.addModel(\"# Produced with molli package\\n@<TRIPOS>MOLECULE\\n1\\n5 4 0 0 0\\nSMALL\\nUSER_CHARGES\\n\\n@<TRIPOS>ATOM\\n     1 C       0.000000     0.000000     0.000000 C          1 UNL1 0.0\\n     2 AP1    -1.298958    -0.750000     0.000000 Unknown    1 UNL1 0.0\\n     3 C       1.299018    -0.750035     0.000000 C          1 UNL1 0.0\\n     4 C       0.000000     0.000000     1.500000 C          1 UNL1 0.0\\n     5 C       1.299018     0.750035     0.000000 C          1 UNL1 0.0\\n@<TRIPOS>BOND\\n     1      2      1          1\\n     2      1      3          1\\n     3      1      4          1\\n     4      1      5          1\\n\",\"mol2\");\n",
       "\tviewer_16849455867008677.setStyle({\"stick\": {\"radius\": 0.1}, \"sphere\": {\"scale\": 0.15}});\n",
       "\tviewer_16849455867008677.setHoverable({},true,\"\\n            function(atom,viewer,event,container) {\\n                if(!atom.label) {\\n                    atom.label = viewer.addLabel(atom.elem + atom.serial, {position: atom, backgroundColor: 'mintcream', fontColor:'black'});\\n                }\\n            }\\n            \",\"\\n            function(atom,viewer) { \\n                if(atom.label) {\\n                    viewer.removeLabel(atom.label);\\n                    delete atom.label;\\n                }\\n            }\\n            \");\n",
       "\tviewer_16849455867008677.zoomTo();\n",
       "\tviewer_16849455867008677.setBackgroundColor(null);\n",
       "viewer_16849455867008677.render();\n",
       "});\n",
       "</script>"
      ]
     },
     "metadata": {},
     "output_type": "display_data"
    },
    {
     "data": {
      "text/plain": [
       "Molecule(name='1', formula='C4 Unknown1')"
      ]
     },
     "execution_count": 22,
     "metadata": {},
     "output_type": "execute_result"
    }
   ],
   "source": [
    "sub_1 = subs_parsed['1']\n",
    "sub_1"
   ]
  },
  {
   "cell_type": "code",
   "execution_count": 32,
   "metadata": {},
   "outputs": [],
   "source": [
    "clib_1_1 = ml.ConformerLibrary('out_combinatorial/conformer_libs/1_1_conformers.clib')"
   ]
  },
  {
   "cell_type": "code",
   "execution_count": 35,
   "metadata": {},
   "outputs": [
    {
     "name": "stdout",
     "output_type": "stream",
     "text": [
      "1\n"
     ]
    }
   ],
   "source": [
    "print(len(clib_1_1))"
   ]
  },
  {
   "cell_type": "code",
   "execution_count": 36,
   "metadata": {},
   "outputs": [
    {
     "name": "stdout",
     "output_type": "stream",
     "text": [
      "ConformerEnsemble(name='1_1', formula='C18 H30 Br2 N2 O2', n_conformers=50)\n"
     ]
    }
   ],
   "source": [
    "print(clib_1_1[0])"
   ]
  },
  {
   "cell_type": "code",
   "execution_count": 37,
   "metadata": {},
   "outputs": [
    {
     "data": {
      "application/3dmoljs_load.v0": "<div id=\"3dmolviewer_16849516275410104\"  style=\"position: relative; width: 1000px; height: 500px;\">\n        <p id=\"3dmolwarning_16849516275410104\" style=\"background-color:#ffcccc;color:black\">You appear to be running in JupyterLab (or JavaScript failed to load for some other reason).  You need to install the 3dmol extension: <br>\n        <tt>jupyter labextension install jupyterlab_3dmol</tt></p>\n        </div>\n<script>\n\nvar loadScriptAsync = function(uri){\n  return new Promise((resolve, reject) => {\n    //this is to ignore the existence of requirejs amd\n    var savedexports, savedmodule;\n    if (typeof exports !== 'undefined') savedexports = exports;\n    else exports = {}\n    if (typeof module !== 'undefined') savedmodule = module;\n    else module = {}\n\n    var tag = document.createElement('script');\n    tag.src = uri;\n    tag.async = true;\n    tag.onload = () => {\n        exports = savedexports;\n        module = savedmodule;\n        resolve();\n    };\n  var firstScriptTag = document.getElementsByTagName('script')[0];\n  firstScriptTag.parentNode.insertBefore(tag, firstScriptTag);\n});\n};\n\nif(typeof $3Dmolpromise === 'undefined') {\n$3Dmolpromise = null;\n  $3Dmolpromise = loadScriptAsync('https://cdnjs.cloudflare.com/ajax/libs/3Dmol/2.0.3/3Dmol-min.js');\n}\n\nvar viewer_16849516275410104 = null;\nvar warn = document.getElementById(\"3dmolwarning_16849516275410104\");\nif(warn) {\n    warn.parentNode.removeChild(warn);\n}\n$3Dmolpromise.then(function() {\nviewer_16849516275410104 = $3Dmol.createViewer(document.getElementById(\"3dmolviewer_16849516275410104\"),{backgroundColor:\"white\"});\nviewer_16849516275410104.zoomTo();\n\tviewer_16849516275410104.addModel(\"# Produced with molli package\\n@<TRIPOS>MOLECULE\\n1_1\\n54 56 0 0 0\\nSMALL\\nUSER_CHARGES\\n\\n@<TRIPOS>ATOM\\n     1 C       0.008700     0.131100    -0.138400 C.3        1 UNL1 0.0\\n     2 C       0.715100     1.487300     0.016200 C.3        1 UNL1 0.0\\n     3 O      -0.311600     2.461400    -0.107200 O.2        1 UNL1 0.0\\n     4 C      -1.493400     1.858500    -0.001200 C.2        1 UNL1 0.0\\n     5 N      -1.447200     0.580200     0.034900 N.2        1 UNL1 0.0\\n     6 C      -2.734800     2.679100    -0.067400 C.3        1 UNL1 0.0\\n     7 C      -3.955100     1.856200     0.102200 C.2        1 UNL1 0.0\\n     8 O      -5.106600     2.397700     0.485100 O.2        1 UNL1 0.0\\n     9 C      -5.960100     1.342500     0.927000 C.3        1 UNL1 0.0\\n    10 C      -5.403500     0.084600     0.242900 C.3        1 UNL1 0.0\\n    11 N      -3.999700     0.593600    -0.068600 N.2        1 UNL1 0.0\\n    12 C      -2.722100    -0.209400    -0.290200 C.3        1 UNL1 0.0\\n    13 BR     -2.876200    -1.831300     0.783900 Br         1 UNL1 0.0\\n    14 BR     -2.559500    -0.619900    -2.219100 Br         1 UNL1 0.0\\n    15 C      -2.671200     3.724500     1.059800 C.3        1 UNL1 0.0\\n    16 C      -2.814100     3.383700    -1.428500 C.3        1 UNL1 0.0\\n    17 C      -6.263900    -0.403500    -0.971400 C.3        1 UNL1 0.0\\n    18 C      -5.872500    -1.831600    -1.403300 C.3        1 UNL1 0.0\\n    19 C      -6.219600     0.549200    -2.178700 C.3        1 UNL1 0.0\\n    20 C      -7.755300    -0.532800    -0.544600 C.3        1 UNL1 0.0\\n    21 C       0.623900    -0.951900     0.804600 C.3        1 UNL1 0.0\\n    22 C       0.274000    -2.387400     0.339000 C.3        1 UNL1 0.0\\n    23 C       2.181100    -0.886100     0.727700 C.3        1 UNL1 0.0\\n    24 C       0.256000    -0.742200     2.287000 C.3        1 UNL1 0.0\\n    25 H       0.111600    -0.184900    -1.183000 H          1 UNL1 0.0\\n    26 H       1.465200     1.643400    -0.765900 H          1 UNL1 0.0\\n    27 H       1.184400     1.649800     0.989900 H          1 UNL1 0.0\\n    28 H      -5.875000     1.273300     2.018500 H          1 UNL1 0.0\\n    29 H      -6.990300     1.604400     0.689900 H          1 UNL1 0.0\\n    30 H      -5.350000    -0.703700     0.999400 H          1 UNL1 0.0\\n    31 H      -3.541500     4.390600     1.044900 H          1 UNL1 0.0\\n    32 H      -2.643600     3.240500     2.043700 H          1 UNL1 0.0\\n    33 H      -1.777500     4.354100     0.979200 H          1 UNL1 0.0\\n    34 H      -2.824100     2.662200    -2.253300 H          1 UNL1 0.0\\n    35 H      -3.725500     3.986900    -1.513100 H          1 UNL1 0.0\\n    36 H      -1.957000     4.047800    -1.588100 H          1 UNL1 0.0\\n    37 H      -5.942300    -2.529800    -0.561200 H          1 UNL1 0.0\\n    38 H      -4.867800    -1.900100    -1.803900 H          1 UNL1 0.0\\n    39 H      -6.539900    -2.203900    -2.190100 H          1 UNL1 0.0\\n    40 H      -5.217200     0.639900    -2.601200 H          1 UNL1 0.0\\n    41 H      -6.558000     1.554800    -1.906400 H          1 UNL1 0.0\\n    42 H      -6.874300     0.192900    -2.982800 H          1 UNL1 0.0\\n    43 H      -8.338900    -1.074200    -1.299500 H          1 UNL1 0.0\\n    44 H      -8.246300     0.437700    -0.428400 H          1 UNL1 0.0\\n    45 H      -7.848900    -1.081500     0.399400 H          1 UNL1 0.0\\n    46 H      -0.354100    -2.392000    -0.555800 H          1 UNL1 0.0\\n    47 H       1.165000    -2.966400     0.066500 H          1 UNL1 0.0\\n    48 H      -0.221800    -2.963400     1.126600 H          1 UNL1 0.0\\n    49 H       2.589600     0.030400     1.164000 H          1 UNL1 0.0\\n    50 H       2.637800    -1.715600     1.282000 H          1 UNL1 0.0\\n    51 H       2.525100    -0.949100    -0.311200 H          1 UNL1 0.0\\n    52 H       0.705900    -1.521000     2.914100 H          1 UNL1 0.0\\n    53 H       0.619300     0.220800     2.661100 H          1 UNL1 0.0\\n    54 H      -0.819900    -0.768100     2.463900 H          1 UNL1 0.0\\n@<TRIPOS>BOND\\n     1      1      2          1\\n     2      2      3          1\\n     3      3      4          1\\n     4      4      5          2\\n     5      5      1          1\\n     6      4      6          1\\n     7      6      7          1\\n     8      7      8          1\\n     9      8      9          1\\n    10      9     10          1\\n    11     10     11          1\\n    12     11      7          2\\n    13     11     12          1\\n    14     12      5          1\\n    15     12     13          1\\n    16     12     14          1\\n    17      6     15          1\\n    18      6     16          1\\n    19     17     18          1\\n    20     17     19          1\\n    21     17     20          1\\n    22     10     17          1\\n    23     21     22          1\\n    24     21     23          1\\n    25     21     24          1\\n    26      1     21          1\\n    27      1     25          1\\n    28      2     26          1\\n    29      2     27          1\\n    30      9     28          1\\n    31      9     29          1\\n    32     10     30          1\\n    33     15     31          1\\n    34     15     32          1\\n    35     15     33          1\\n    36     16     34          1\\n    37     16     35          1\\n    38     16     36          1\\n    39     18     37          1\\n    40     18     38          1\\n    41     18     39          1\\n    42     19     40          1\\n    43     19     41          1\\n    44     19     42          1\\n    45     20     43          1\\n    46     20     44          1\\n    47     20     45          1\\n    48     22     46          1\\n    49     22     47          1\\n    50     22     48          1\\n    51     23     49          1\\n    52     23     50          1\\n    53     23     51          1\\n    54     24     52          1\\n    55     24     53          1\\n    56     24     54          1\\n\",\"mol2\");\n\tviewer_16849516275410104.setStyle({\"stick\": {\"radius\": 0.1}, \"sphere\": {\"scale\": 0.15}});\n\tviewer_16849516275410104.setHoverable({},true,\"\\n            function(atom,viewer,event,container) {\\n                if(!atom.label) {\\n                    atom.label = viewer.addLabel(atom.elem + atom.serial, {position: atom, backgroundColor: 'mintcream', fontColor:'black'});\\n                }\\n            }\\n            \",\"\\n            function(atom,viewer) { \\n                if(atom.label) {\\n                    viewer.removeLabel(atom.label);\\n                    delete atom.label;\\n                }\\n            }\\n            \");\n\tviewer_16849516275410104.zoomTo();\n\tviewer_16849516275410104.setBackgroundColor(null);\nviewer_16849516275410104.render();\n});\n</script>",
      "text/html": [
       "<div id=\"3dmolviewer_16849516275410104\"  style=\"position: relative; width: 1000px; height: 500px;\">\n",
       "        <p id=\"3dmolwarning_16849516275410104\" style=\"background-color:#ffcccc;color:black\">You appear to be running in JupyterLab (or JavaScript failed to load for some other reason).  You need to install the 3dmol extension: <br>\n",
       "        <tt>jupyter labextension install jupyterlab_3dmol</tt></p>\n",
       "        </div>\n",
       "<script>\n",
       "\n",
       "var loadScriptAsync = function(uri){\n",
       "  return new Promise((resolve, reject) => {\n",
       "    //this is to ignore the existence of requirejs amd\n",
       "    var savedexports, savedmodule;\n",
       "    if (typeof exports !== 'undefined') savedexports = exports;\n",
       "    else exports = {}\n",
       "    if (typeof module !== 'undefined') savedmodule = module;\n",
       "    else module = {}\n",
       "\n",
       "    var tag = document.createElement('script');\n",
       "    tag.src = uri;\n",
       "    tag.async = true;\n",
       "    tag.onload = () => {\n",
       "        exports = savedexports;\n",
       "        module = savedmodule;\n",
       "        resolve();\n",
       "    };\n",
       "  var firstScriptTag = document.getElementsByTagName('script')[0];\n",
       "  firstScriptTag.parentNode.insertBefore(tag, firstScriptTag);\n",
       "});\n",
       "};\n",
       "\n",
       "if(typeof $3Dmolpromise === 'undefined') {\n",
       "$3Dmolpromise = null;\n",
       "  $3Dmolpromise = loadScriptAsync('https://cdnjs.cloudflare.com/ajax/libs/3Dmol/2.0.3/3Dmol-min.js');\n",
       "}\n",
       "\n",
       "var viewer_16849516275410104 = null;\n",
       "var warn = document.getElementById(\"3dmolwarning_16849516275410104\");\n",
       "if(warn) {\n",
       "    warn.parentNode.removeChild(warn);\n",
       "}\n",
       "$3Dmolpromise.then(function() {\n",
       "viewer_16849516275410104 = $3Dmol.createViewer(document.getElementById(\"3dmolviewer_16849516275410104\"),{backgroundColor:\"white\"});\n",
       "viewer_16849516275410104.zoomTo();\n",
       "\tviewer_16849516275410104.addModel(\"# Produced with molli package\\n@<TRIPOS>MOLECULE\\n1_1\\n54 56 0 0 0\\nSMALL\\nUSER_CHARGES\\n\\n@<TRIPOS>ATOM\\n     1 C       0.008700     0.131100    -0.138400 C.3        1 UNL1 0.0\\n     2 C       0.715100     1.487300     0.016200 C.3        1 UNL1 0.0\\n     3 O      -0.311600     2.461400    -0.107200 O.2        1 UNL1 0.0\\n     4 C      -1.493400     1.858500    -0.001200 C.2        1 UNL1 0.0\\n     5 N      -1.447200     0.580200     0.034900 N.2        1 UNL1 0.0\\n     6 C      -2.734800     2.679100    -0.067400 C.3        1 UNL1 0.0\\n     7 C      -3.955100     1.856200     0.102200 C.2        1 UNL1 0.0\\n     8 O      -5.106600     2.397700     0.485100 O.2        1 UNL1 0.0\\n     9 C      -5.960100     1.342500     0.927000 C.3        1 UNL1 0.0\\n    10 C      -5.403500     0.084600     0.242900 C.3        1 UNL1 0.0\\n    11 N      -3.999700     0.593600    -0.068600 N.2        1 UNL1 0.0\\n    12 C      -2.722100    -0.209400    -0.290200 C.3        1 UNL1 0.0\\n    13 BR     -2.876200    -1.831300     0.783900 Br         1 UNL1 0.0\\n    14 BR     -2.559500    -0.619900    -2.219100 Br         1 UNL1 0.0\\n    15 C      -2.671200     3.724500     1.059800 C.3        1 UNL1 0.0\\n    16 C      -2.814100     3.383700    -1.428500 C.3        1 UNL1 0.0\\n    17 C      -6.263900    -0.403500    -0.971400 C.3        1 UNL1 0.0\\n    18 C      -5.872500    -1.831600    -1.403300 C.3        1 UNL1 0.0\\n    19 C      -6.219600     0.549200    -2.178700 C.3        1 UNL1 0.0\\n    20 C      -7.755300    -0.532800    -0.544600 C.3        1 UNL1 0.0\\n    21 C       0.623900    -0.951900     0.804600 C.3        1 UNL1 0.0\\n    22 C       0.274000    -2.387400     0.339000 C.3        1 UNL1 0.0\\n    23 C       2.181100    -0.886100     0.727700 C.3        1 UNL1 0.0\\n    24 C       0.256000    -0.742200     2.287000 C.3        1 UNL1 0.0\\n    25 H       0.111600    -0.184900    -1.183000 H          1 UNL1 0.0\\n    26 H       1.465200     1.643400    -0.765900 H          1 UNL1 0.0\\n    27 H       1.184400     1.649800     0.989900 H          1 UNL1 0.0\\n    28 H      -5.875000     1.273300     2.018500 H          1 UNL1 0.0\\n    29 H      -6.990300     1.604400     0.689900 H          1 UNL1 0.0\\n    30 H      -5.350000    -0.703700     0.999400 H          1 UNL1 0.0\\n    31 H      -3.541500     4.390600     1.044900 H          1 UNL1 0.0\\n    32 H      -2.643600     3.240500     2.043700 H          1 UNL1 0.0\\n    33 H      -1.777500     4.354100     0.979200 H          1 UNL1 0.0\\n    34 H      -2.824100     2.662200    -2.253300 H          1 UNL1 0.0\\n    35 H      -3.725500     3.986900    -1.513100 H          1 UNL1 0.0\\n    36 H      -1.957000     4.047800    -1.588100 H          1 UNL1 0.0\\n    37 H      -5.942300    -2.529800    -0.561200 H          1 UNL1 0.0\\n    38 H      -4.867800    -1.900100    -1.803900 H          1 UNL1 0.0\\n    39 H      -6.539900    -2.203900    -2.190100 H          1 UNL1 0.0\\n    40 H      -5.217200     0.639900    -2.601200 H          1 UNL1 0.0\\n    41 H      -6.558000     1.554800    -1.906400 H          1 UNL1 0.0\\n    42 H      -6.874300     0.192900    -2.982800 H          1 UNL1 0.0\\n    43 H      -8.338900    -1.074200    -1.299500 H          1 UNL1 0.0\\n    44 H      -8.246300     0.437700    -0.428400 H          1 UNL1 0.0\\n    45 H      -7.848900    -1.081500     0.399400 H          1 UNL1 0.0\\n    46 H      -0.354100    -2.392000    -0.555800 H          1 UNL1 0.0\\n    47 H       1.165000    -2.966400     0.066500 H          1 UNL1 0.0\\n    48 H      -0.221800    -2.963400     1.126600 H          1 UNL1 0.0\\n    49 H       2.589600     0.030400     1.164000 H          1 UNL1 0.0\\n    50 H       2.637800    -1.715600     1.282000 H          1 UNL1 0.0\\n    51 H       2.525100    -0.949100    -0.311200 H          1 UNL1 0.0\\n    52 H       0.705900    -1.521000     2.914100 H          1 UNL1 0.0\\n    53 H       0.619300     0.220800     2.661100 H          1 UNL1 0.0\\n    54 H      -0.819900    -0.768100     2.463900 H          1 UNL1 0.0\\n@<TRIPOS>BOND\\n     1      1      2          1\\n     2      2      3          1\\n     3      3      4          1\\n     4      4      5          2\\n     5      5      1          1\\n     6      4      6          1\\n     7      6      7          1\\n     8      7      8          1\\n     9      8      9          1\\n    10      9     10          1\\n    11     10     11          1\\n    12     11      7          2\\n    13     11     12          1\\n    14     12      5          1\\n    15     12     13          1\\n    16     12     14          1\\n    17      6     15          1\\n    18      6     16          1\\n    19     17     18          1\\n    20     17     19          1\\n    21     17     20          1\\n    22     10     17          1\\n    23     21     22          1\\n    24     21     23          1\\n    25     21     24          1\\n    26      1     21          1\\n    27      1     25          1\\n    28      2     26          1\\n    29      2     27          1\\n    30      9     28          1\\n    31      9     29          1\\n    32     10     30          1\\n    33     15     31          1\\n    34     15     32          1\\n    35     15     33          1\\n    36     16     34          1\\n    37     16     35          1\\n    38     16     36          1\\n    39     18     37          1\\n    40     18     38          1\\n    41     18     39          1\\n    42     19     40          1\\n    43     19     41          1\\n    44     19     42          1\\n    45     20     43          1\\n    46     20     44          1\\n    47     20     45          1\\n    48     22     46          1\\n    49     22     47          1\\n    50     22     48          1\\n    51     23     49          1\\n    52     23     50          1\\n    53     23     51          1\\n    54     24     52          1\\n    55     24     53          1\\n    56     24     54          1\\n\",\"mol2\");\n",
       "\tviewer_16849516275410104.setStyle({\"stick\": {\"radius\": 0.1}, \"sphere\": {\"scale\": 0.15}});\n",
       "\tviewer_16849516275410104.setHoverable({},true,\"\\n            function(atom,viewer,event,container) {\\n                if(!atom.label) {\\n                    atom.label = viewer.addLabel(atom.elem + atom.serial, {position: atom, backgroundColor: 'mintcream', fontColor:'black'});\\n                }\\n            }\\n            \",\"\\n            function(atom,viewer) { \\n                if(atom.label) {\\n                    viewer.removeLabel(atom.label);\\n                    delete atom.label;\\n                }\\n            }\\n            \");\n",
       "\tviewer_16849516275410104.zoomTo();\n",
       "\tviewer_16849516275410104.setBackgroundColor(null);\n",
       "viewer_16849516275410104.render();\n",
       "});\n",
       "</script>"
      ]
     },
     "metadata": {},
     "output_type": "display_data"
    },
    {
     "data": {
      "text/plain": [
       "Conformer(name='1_1', formula='C18 H30 Br2 N2 O2')"
      ]
     },
     "execution_count": 37,
     "metadata": {},
     "output_type": "execute_result"
    }
   ],
   "source": [
    "clib_1_1[0][0]"
   ]
  },
  {
   "cell_type": "code",
   "execution_count": 38,
   "metadata": {},
   "outputs": [
    {
     "data": {
      "application/3dmoljs_load.v0": "<div id=\"3dmolviewer_1684951650350893\"  style=\"position: relative; width: 1000px; height: 500px;\">\n        <p id=\"3dmolwarning_1684951650350893\" style=\"background-color:#ffcccc;color:black\">You appear to be running in JupyterLab (or JavaScript failed to load for some other reason).  You need to install the 3dmol extension: <br>\n        <tt>jupyter labextension install jupyterlab_3dmol</tt></p>\n        </div>\n<script>\n\nvar loadScriptAsync = function(uri){\n  return new Promise((resolve, reject) => {\n    //this is to ignore the existence of requirejs amd\n    var savedexports, savedmodule;\n    if (typeof exports !== 'undefined') savedexports = exports;\n    else exports = {}\n    if (typeof module !== 'undefined') savedmodule = module;\n    else module = {}\n\n    var tag = document.createElement('script');\n    tag.src = uri;\n    tag.async = true;\n    tag.onload = () => {\n        exports = savedexports;\n        module = savedmodule;\n        resolve();\n    };\n  var firstScriptTag = document.getElementsByTagName('script')[0];\n  firstScriptTag.parentNode.insertBefore(tag, firstScriptTag);\n});\n};\n\nif(typeof $3Dmolpromise === 'undefined') {\n$3Dmolpromise = null;\n  $3Dmolpromise = loadScriptAsync('https://cdnjs.cloudflare.com/ajax/libs/3Dmol/2.0.3/3Dmol-min.js');\n}\n\nvar viewer_1684951650350893 = null;\nvar warn = document.getElementById(\"3dmolwarning_1684951650350893\");\nif(warn) {\n    warn.parentNode.removeChild(warn);\n}\n$3Dmolpromise.then(function() {\nviewer_1684951650350893 = $3Dmol.createViewer(document.getElementById(\"3dmolviewer_1684951650350893\"),{backgroundColor:\"white\"});\nviewer_1684951650350893.zoomTo();\n\tviewer_1684951650350893.addModel(\"# Produced with molli package\\n@<TRIPOS>MOLECULE\\n1_1\\n54 56 0 0 0\\nSMALL\\nUSER_CHARGES\\n\\n@<TRIPOS>ATOM\\n     1 C      -0.098000     0.034200    -0.211900 C.3        1 UNL1 0.0\\n     2 C       0.446700     1.232600    -1.006600 C.3        1 UNL1 0.0\\n     3 O      -0.367600     2.335600    -0.595300 O.2        1 UNL1 0.0\\n     4 C      -1.508900     1.841100    -0.128100 C.2        1 UNL1 0.0\\n     5 N      -1.470500     0.584600     0.104400 N.2        1 UNL1 0.0\\n     6 C      -2.727200     2.691400     0.041400 C.3        1 UNL1 0.0\\n     7 C      -3.965400     1.861100     0.050600 C.2        1 UNL1 0.0\\n     8 O      -5.183700     2.367400     0.229200 O.2        1 UNL1 0.0\\n     9 C      -6.058200     1.262400     0.526600 C.3        1 UNL1 0.0\\n    10 C      -5.368600     0.081500    -0.168800 C.3        1 UNL1 0.0\\n    11 N      -3.958200     0.589300    -0.068300 N.2        1 UNL1 0.0\\n    12 C      -2.740500    -0.167000     0.417100 C.3        1 UNL1 0.0\\n    13 BR     -2.682700    -1.996300    -0.247000 Br         1 UNL1 0.0\\n    14 BR     -2.973300    -0.226600     2.402000 Br         1 UNL1 0.0\\n    15 C      -2.832100     3.660800    -1.147800 C.3        1 UNL1 0.0\\n    16 C      -2.608300     3.486400     1.345200 C.3        1 UNL1 0.0\\n    17 C      -5.870000    -0.111500    -1.653400 C.3        1 UNL1 0.0\\n    18 C      -5.051500    -1.149000    -2.441000 C.3        1 UNL1 0.0\\n    19 C      -5.885200     1.183700    -2.497300 C.3        1 UNL1 0.0\\n    20 C      -7.321000    -0.654800    -1.602300 C.3        1 UNL1 0.0\\n    21 C       0.789500    -0.352400     1.020700 C.3        1 UNL1 0.0\\n    22 C       2.246100    -0.619600     0.546200 C.3        1 UNL1 0.0\\n    23 C       0.849500     0.742200     2.102400 C.3        1 UNL1 0.0\\n    24 C       0.341100    -1.681500     1.659800 C.3        1 UNL1 0.0\\n    25 H      -0.195000    -0.816800    -0.893600 H          1 UNL1 0.0\\n    26 H       1.492700     1.484900    -0.835300 H          1 UNL1 0.0\\n    27 H       0.305900     1.093300    -2.085500 H          1 UNL1 0.0\\n    28 H      -7.068500     1.485100     0.178600 H          1 UNL1 0.0\\n    29 H      -6.090100     1.137900     1.616000 H          1 UNL1 0.0\\n    30 H      -5.475000    -0.839500     0.413800 H          1 UNL1 0.0\\n    31 H      -2.858800     3.117100    -2.099900 H          1 UNL1 0.0\\n    32 H      -1.977500     4.346000    -1.186500 H          1 UNL1 0.0\\n    33 H      -3.741800     4.270000    -1.092400 H          1 UNL1 0.0\\n    34 H      -2.547000     2.828500     2.217900 H          1 UNL1 0.0\\n    35 H      -3.472700     4.143400     1.494200 H          1 UNL1 0.0\\n    36 H      -1.707100     4.110500     1.348700 H          1 UNL1 0.0\\n    37 H      -5.474500    -1.309200    -3.440700 H          1 UNL1 0.0\\n    38 H      -5.058300    -2.122100    -1.941100 H          1 UNL1 0.0\\n    39 H      -4.020000    -0.817600    -2.592500 H          1 UNL1 0.0\\n    40 H      -6.272000     0.988500    -3.505000 H          1 UNL1 0.0\\n    41 H      -4.879300     1.597500    -2.618500 H          1 UNL1 0.0\\n    42 H      -6.526700     1.955700    -2.061800 H          1 UNL1 0.0\\n    43 H      -7.373800    -1.577900    -1.013700 H          1 UNL1 0.0\\n    44 H      -7.695100    -0.883500    -2.607400 H          1 UNL1 0.0\\n    45 H      -8.017300     0.064200    -1.160700 H          1 UNL1 0.0\\n    46 H       2.770000     0.295600     0.256200 H          1 UNL1 0.0\\n    47 H       2.261600    -1.307700    -0.306600 H          1 UNL1 0.0\\n    48 H       2.847400    -1.070900     1.344900 H          1 UNL1 0.0\\n    49 H      -0.130500     0.938900     2.544000 H          1 UNL1 0.0\\n    50 H       1.231200     1.686100     1.699200 H          1 UNL1 0.0\\n    51 H       1.516400     0.447100     2.921100 H          1 UNL1 0.0\\n    52 H       1.044200    -2.003200     2.438100 H          1 UNL1 0.0\\n    53 H       0.296600    -2.483200     0.914400 H          1 UNL1 0.0\\n    54 H      -0.628300    -1.612600     2.143700 H          1 UNL1 0.0\\n@<TRIPOS>BOND\\n     1      1      2          1\\n     2      2      3          1\\n     3      3      4          1\\n     4      4      5          2\\n     5      5      1          1\\n     6      4      6          1\\n     7      6      7          1\\n     8      7      8          1\\n     9      8      9          1\\n    10      9     10          1\\n    11     10     11          1\\n    12     11      7          2\\n    13     11     12          1\\n    14     12      5          1\\n    15     12     13          1\\n    16     12     14          1\\n    17      6     15          1\\n    18      6     16          1\\n    19     17     18          1\\n    20     17     19          1\\n    21     17     20          1\\n    22     10     17          1\\n    23     21     22          1\\n    24     21     23          1\\n    25     21     24          1\\n    26      1     21          1\\n    27      1     25          1\\n    28      2     26          1\\n    29      2     27          1\\n    30      9     28          1\\n    31      9     29          1\\n    32     10     30          1\\n    33     15     31          1\\n    34     15     32          1\\n    35     15     33          1\\n    36     16     34          1\\n    37     16     35          1\\n    38     16     36          1\\n    39     18     37          1\\n    40     18     38          1\\n    41     18     39          1\\n    42     19     40          1\\n    43     19     41          1\\n    44     19     42          1\\n    45     20     43          1\\n    46     20     44          1\\n    47     20     45          1\\n    48     22     46          1\\n    49     22     47          1\\n    50     22     48          1\\n    51     23     49          1\\n    52     23     50          1\\n    53     23     51          1\\n    54     24     52          1\\n    55     24     53          1\\n    56     24     54          1\\n\",\"mol2\");\n\tviewer_1684951650350893.setStyle({\"stick\": {\"radius\": 0.1}, \"sphere\": {\"scale\": 0.15}});\n\tviewer_1684951650350893.setHoverable({},true,\"\\n            function(atom,viewer,event,container) {\\n                if(!atom.label) {\\n                    atom.label = viewer.addLabel(atom.elem + atom.serial, {position: atom, backgroundColor: 'mintcream', fontColor:'black'});\\n                }\\n            }\\n            \",\"\\n            function(atom,viewer) { \\n                if(atom.label) {\\n                    viewer.removeLabel(atom.label);\\n                    delete atom.label;\\n                }\\n            }\\n            \");\n\tviewer_1684951650350893.zoomTo();\n\tviewer_1684951650350893.setBackgroundColor(null);\nviewer_1684951650350893.render();\n});\n</script>",
      "text/html": [
       "<div id=\"3dmolviewer_1684951650350893\"  style=\"position: relative; width: 1000px; height: 500px;\">\n",
       "        <p id=\"3dmolwarning_1684951650350893\" style=\"background-color:#ffcccc;color:black\">You appear to be running in JupyterLab (or JavaScript failed to load for some other reason).  You need to install the 3dmol extension: <br>\n",
       "        <tt>jupyter labextension install jupyterlab_3dmol</tt></p>\n",
       "        </div>\n",
       "<script>\n",
       "\n",
       "var loadScriptAsync = function(uri){\n",
       "  return new Promise((resolve, reject) => {\n",
       "    //this is to ignore the existence of requirejs amd\n",
       "    var savedexports, savedmodule;\n",
       "    if (typeof exports !== 'undefined') savedexports = exports;\n",
       "    else exports = {}\n",
       "    if (typeof module !== 'undefined') savedmodule = module;\n",
       "    else module = {}\n",
       "\n",
       "    var tag = document.createElement('script');\n",
       "    tag.src = uri;\n",
       "    tag.async = true;\n",
       "    tag.onload = () => {\n",
       "        exports = savedexports;\n",
       "        module = savedmodule;\n",
       "        resolve();\n",
       "    };\n",
       "  var firstScriptTag = document.getElementsByTagName('script')[0];\n",
       "  firstScriptTag.parentNode.insertBefore(tag, firstScriptTag);\n",
       "});\n",
       "};\n",
       "\n",
       "if(typeof $3Dmolpromise === 'undefined') {\n",
       "$3Dmolpromise = null;\n",
       "  $3Dmolpromise = loadScriptAsync('https://cdnjs.cloudflare.com/ajax/libs/3Dmol/2.0.3/3Dmol-min.js');\n",
       "}\n",
       "\n",
       "var viewer_1684951650350893 = null;\n",
       "var warn = document.getElementById(\"3dmolwarning_1684951650350893\");\n",
       "if(warn) {\n",
       "    warn.parentNode.removeChild(warn);\n",
       "}\n",
       "$3Dmolpromise.then(function() {\n",
       "viewer_1684951650350893 = $3Dmol.createViewer(document.getElementById(\"3dmolviewer_1684951650350893\"),{backgroundColor:\"white\"});\n",
       "viewer_1684951650350893.zoomTo();\n",
       "\tviewer_1684951650350893.addModel(\"# Produced with molli package\\n@<TRIPOS>MOLECULE\\n1_1\\n54 56 0 0 0\\nSMALL\\nUSER_CHARGES\\n\\n@<TRIPOS>ATOM\\n     1 C      -0.098000     0.034200    -0.211900 C.3        1 UNL1 0.0\\n     2 C       0.446700     1.232600    -1.006600 C.3        1 UNL1 0.0\\n     3 O      -0.367600     2.335600    -0.595300 O.2        1 UNL1 0.0\\n     4 C      -1.508900     1.841100    -0.128100 C.2        1 UNL1 0.0\\n     5 N      -1.470500     0.584600     0.104400 N.2        1 UNL1 0.0\\n     6 C      -2.727200     2.691400     0.041400 C.3        1 UNL1 0.0\\n     7 C      -3.965400     1.861100     0.050600 C.2        1 UNL1 0.0\\n     8 O      -5.183700     2.367400     0.229200 O.2        1 UNL1 0.0\\n     9 C      -6.058200     1.262400     0.526600 C.3        1 UNL1 0.0\\n    10 C      -5.368600     0.081500    -0.168800 C.3        1 UNL1 0.0\\n    11 N      -3.958200     0.589300    -0.068300 N.2        1 UNL1 0.0\\n    12 C      -2.740500    -0.167000     0.417100 C.3        1 UNL1 0.0\\n    13 BR     -2.682700    -1.996300    -0.247000 Br         1 UNL1 0.0\\n    14 BR     -2.973300    -0.226600     2.402000 Br         1 UNL1 0.0\\n    15 C      -2.832100     3.660800    -1.147800 C.3        1 UNL1 0.0\\n    16 C      -2.608300     3.486400     1.345200 C.3        1 UNL1 0.0\\n    17 C      -5.870000    -0.111500    -1.653400 C.3        1 UNL1 0.0\\n    18 C      -5.051500    -1.149000    -2.441000 C.3        1 UNL1 0.0\\n    19 C      -5.885200     1.183700    -2.497300 C.3        1 UNL1 0.0\\n    20 C      -7.321000    -0.654800    -1.602300 C.3        1 UNL1 0.0\\n    21 C       0.789500    -0.352400     1.020700 C.3        1 UNL1 0.0\\n    22 C       2.246100    -0.619600     0.546200 C.3        1 UNL1 0.0\\n    23 C       0.849500     0.742200     2.102400 C.3        1 UNL1 0.0\\n    24 C       0.341100    -1.681500     1.659800 C.3        1 UNL1 0.0\\n    25 H      -0.195000    -0.816800    -0.893600 H          1 UNL1 0.0\\n    26 H       1.492700     1.484900    -0.835300 H          1 UNL1 0.0\\n    27 H       0.305900     1.093300    -2.085500 H          1 UNL1 0.0\\n    28 H      -7.068500     1.485100     0.178600 H          1 UNL1 0.0\\n    29 H      -6.090100     1.137900     1.616000 H          1 UNL1 0.0\\n    30 H      -5.475000    -0.839500     0.413800 H          1 UNL1 0.0\\n    31 H      -2.858800     3.117100    -2.099900 H          1 UNL1 0.0\\n    32 H      -1.977500     4.346000    -1.186500 H          1 UNL1 0.0\\n    33 H      -3.741800     4.270000    -1.092400 H          1 UNL1 0.0\\n    34 H      -2.547000     2.828500     2.217900 H          1 UNL1 0.0\\n    35 H      -3.472700     4.143400     1.494200 H          1 UNL1 0.0\\n    36 H      -1.707100     4.110500     1.348700 H          1 UNL1 0.0\\n    37 H      -5.474500    -1.309200    -3.440700 H          1 UNL1 0.0\\n    38 H      -5.058300    -2.122100    -1.941100 H          1 UNL1 0.0\\n    39 H      -4.020000    -0.817600    -2.592500 H          1 UNL1 0.0\\n    40 H      -6.272000     0.988500    -3.505000 H          1 UNL1 0.0\\n    41 H      -4.879300     1.597500    -2.618500 H          1 UNL1 0.0\\n    42 H      -6.526700     1.955700    -2.061800 H          1 UNL1 0.0\\n    43 H      -7.373800    -1.577900    -1.013700 H          1 UNL1 0.0\\n    44 H      -7.695100    -0.883500    -2.607400 H          1 UNL1 0.0\\n    45 H      -8.017300     0.064200    -1.160700 H          1 UNL1 0.0\\n    46 H       2.770000     0.295600     0.256200 H          1 UNL1 0.0\\n    47 H       2.261600    -1.307700    -0.306600 H          1 UNL1 0.0\\n    48 H       2.847400    -1.070900     1.344900 H          1 UNL1 0.0\\n    49 H      -0.130500     0.938900     2.544000 H          1 UNL1 0.0\\n    50 H       1.231200     1.686100     1.699200 H          1 UNL1 0.0\\n    51 H       1.516400     0.447100     2.921100 H          1 UNL1 0.0\\n    52 H       1.044200    -2.003200     2.438100 H          1 UNL1 0.0\\n    53 H       0.296600    -2.483200     0.914400 H          1 UNL1 0.0\\n    54 H      -0.628300    -1.612600     2.143700 H          1 UNL1 0.0\\n@<TRIPOS>BOND\\n     1      1      2          1\\n     2      2      3          1\\n     3      3      4          1\\n     4      4      5          2\\n     5      5      1          1\\n     6      4      6          1\\n     7      6      7          1\\n     8      7      8          1\\n     9      8      9          1\\n    10      9     10          1\\n    11     10     11          1\\n    12     11      7          2\\n    13     11     12          1\\n    14     12      5          1\\n    15     12     13          1\\n    16     12     14          1\\n    17      6     15          1\\n    18      6     16          1\\n    19     17     18          1\\n    20     17     19          1\\n    21     17     20          1\\n    22     10     17          1\\n    23     21     22          1\\n    24     21     23          1\\n    25     21     24          1\\n    26      1     21          1\\n    27      1     25          1\\n    28      2     26          1\\n    29      2     27          1\\n    30      9     28          1\\n    31      9     29          1\\n    32     10     30          1\\n    33     15     31          1\\n    34     15     32          1\\n    35     15     33          1\\n    36     16     34          1\\n    37     16     35          1\\n    38     16     36          1\\n    39     18     37          1\\n    40     18     38          1\\n    41     18     39          1\\n    42     19     40          1\\n    43     19     41          1\\n    44     19     42          1\\n    45     20     43          1\\n    46     20     44          1\\n    47     20     45          1\\n    48     22     46          1\\n    49     22     47          1\\n    50     22     48          1\\n    51     23     49          1\\n    52     23     50          1\\n    53     23     51          1\\n    54     24     52          1\\n    55     24     53          1\\n    56     24     54          1\\n\",\"mol2\");\n",
       "\tviewer_1684951650350893.setStyle({\"stick\": {\"radius\": 0.1}, \"sphere\": {\"scale\": 0.15}});\n",
       "\tviewer_1684951650350893.setHoverable({},true,\"\\n            function(atom,viewer,event,container) {\\n                if(!atom.label) {\\n                    atom.label = viewer.addLabel(atom.elem + atom.serial, {position: atom, backgroundColor: 'mintcream', fontColor:'black'});\\n                }\\n            }\\n            \",\"\\n            function(atom,viewer) { \\n                if(atom.label) {\\n                    viewer.removeLabel(atom.label);\\n                    delete atom.label;\\n                }\\n            }\\n            \");\n",
       "\tviewer_1684951650350893.zoomTo();\n",
       "\tviewer_1684951650350893.setBackgroundColor(null);\n",
       "viewer_1684951650350893.render();\n",
       "});\n",
       "</script>"
      ]
     },
     "metadata": {},
     "output_type": "display_data"
    },
    {
     "data": {
      "text/plain": [
       "Conformer(name='1_1', formula='C18 H30 Br2 N2 O2')"
      ]
     },
     "execution_count": 38,
     "metadata": {},
     "output_type": "execute_result"
    }
   ],
   "source": [
    "clib_1_1[0][42]"
   ]
  },
  {
   "cell_type": "code",
   "execution_count": 39,
   "metadata": {},
   "outputs": [
    {
     "data": {
      "application/3dmoljs_load.v0": "<div id=\"3dmolviewer_16849519740530348\"  style=\"position: relative; width: 1000px; height: 500px;\">\n        <p id=\"3dmolwarning_16849519740530348\" style=\"background-color:#ffcccc;color:black\">You appear to be running in JupyterLab (or JavaScript failed to load for some other reason).  You need to install the 3dmol extension: <br>\n        <tt>jupyter labextension install jupyterlab_3dmol</tt></p>\n        </div>\n<script>\n\nvar loadScriptAsync = function(uri){\n  return new Promise((resolve, reject) => {\n    //this is to ignore the existence of requirejs amd\n    var savedexports, savedmodule;\n    if (typeof exports !== 'undefined') savedexports = exports;\n    else exports = {}\n    if (typeof module !== 'undefined') savedmodule = module;\n    else module = {}\n\n    var tag = document.createElement('script');\n    tag.src = uri;\n    tag.async = true;\n    tag.onload = () => {\n        exports = savedexports;\n        module = savedmodule;\n        resolve();\n    };\n  var firstScriptTag = document.getElementsByTagName('script')[0];\n  firstScriptTag.parentNode.insertBefore(tag, firstScriptTag);\n});\n};\n\nif(typeof $3Dmolpromise === 'undefined') {\n$3Dmolpromise = null;\n  $3Dmolpromise = loadScriptAsync('https://cdnjs.cloudflare.com/ajax/libs/3Dmol/2.0.3/3Dmol-min.js');\n}\n\nvar viewer_16849519740530348 = null;\nvar warn = document.getElementById(\"3dmolwarning_16849519740530348\");\nif(warn) {\n    warn.parentNode.removeChild(warn);\n}\n$3Dmolpromise.then(function() {\nviewer_16849519740530348 = $3Dmol.createViewer(document.getElementById(\"3dmolviewer_16849519740530348\"),{backgroundColor:\"white\"});\nviewer_16849519740530348.zoomTo();\n\tviewer_16849519740530348.addModel(\"# Produced with molli package\\n@<TRIPOS>MOLECULE\\n1_1\\n54 56 0 0 0\\nSMALL\\nUSER_CHARGES\\n\\n@<TRIPOS>ATOM\\n     1 C      -0.083500     0.082800     0.180500 C.3        1 UNL1 0.0\\n     2 C       0.606300     1.258400    -0.523600 C.3        1 UNL1 0.0\\n     3 O      -0.268300     2.365600    -0.234800 O.2        1 UNL1 0.0\\n     4 C      -1.486700     1.860700    -0.052800 C.2        1 UNL1 0.0\\n     5 N      -1.493900     0.589800     0.075700 N.2        1 UNL1 0.0\\n     6 C      -2.724900     2.691100    -0.050300 C.3        1 UNL1 0.0\\n     7 C      -3.943200     1.842100     0.125200 C.2        1 UNL1 0.0\\n     8 O      -5.084700     2.340100     0.588200 O.2        1 UNL1 0.0\\n     9 C      -5.899100     1.240200     1.007500 C.3        1 UNL1 0.0\\n    10 C      -5.354100     0.035800     0.222200 C.3        1 UNL1 0.0\\n    11 N      -3.981500     0.583800    -0.097800 N.2        1 UNL1 0.0\\n    12 C      -2.711400    -0.170100    -0.404400 C.3        1 UNL1 0.0\\n    13 BR     -2.477900    -0.244700    -2.388700 Br         1 UNL1 0.0\\n    14 BR     -2.769400    -1.994400     0.273500 Br         1 UNL1 0.0\\n    15 C      -2.620400     3.669400     1.131600 C.3        1 UNL1 0.0\\n    16 C      -2.843300     3.476200    -1.360100 C.3        1 UNL1 0.0\\n    17 C      -6.241200    -0.360300    -1.007700 C.3        1 UNL1 0.0\\n    18 C      -5.792500    -1.694200    -1.636500 C.3        1 UNL1 0.0\\n    19 C      -6.300900     0.726000    -2.097700 C.3        1 UNL1 0.0\\n    20 C      -7.697900    -0.623900    -0.531700 C.3        1 UNL1 0.0\\n    21 C       0.417400    -0.098900     1.666800 C.3        1 UNL1 0.0\\n    22 C       1.868400    -0.642600     1.620200 C.3        1 UNL1 0.0\\n    23 C       0.432300     1.202600     2.500800 C.3        1 UNL1 0.0\\n    24 C      -0.401400    -1.130400     2.461900 C.3        1 UNL1 0.0\\n    25 H       0.023100    -0.842600    -0.395100 H          1 UNL1 0.0\\n    26 H       1.616400     1.483800    -0.176900 H          1 UNL1 0.0\\n    27 H       0.638600     1.125700    -1.612000 H          1 UNL1 0.0\\n    28 H      -6.945100     1.491200     0.833800 H          1 UNL1 0.0\\n    29 H      -5.758900     1.109100     2.087500 H          1 UNL1 0.0\\n    30 H      -5.257300    -0.810000     0.910400 H          1 UNL1 0.0\\n    31 H      -3.475100     4.354900     1.164800 H          1 UNL1 0.0\\n    32 H      -1.710700     4.278100     1.071900 H          1 UNL1 0.0\\n    33 H      -2.594100     3.133000     2.087700 H          1 UNL1 0.0\\n    34 H      -3.744500     4.100300    -1.368600 H          1 UNL1 0.0\\n    35 H      -2.904300     2.811800    -2.227800 H          1 UNL1 0.0\\n    36 H      -1.978800     4.132100    -1.513700 H          1 UNL1 0.0\\n    37 H      -5.748100    -2.490200    -0.885000 H          1 UNL1 0.0\\n    38 H      -6.495300    -2.021900    -2.412500 H          1 UNL1 0.0\\n    39 H      -4.823000    -1.628900    -2.120600 H          1 UNL1 0.0\\n    40 H      -6.682800     1.673000    -1.701900 H          1 UNL1 0.0\\n    41 H      -6.967500     0.424600    -2.914400 H          1 UNL1 0.0\\n    42 H      -5.320700     0.919500    -2.540400 H          1 UNL1 0.0\\n    43 H      -7.713700    -1.305600     0.326300 H          1 UNL1 0.0\\n    44 H      -8.298900    -1.081400    -1.327100 H          1 UNL1 0.0\\n    45 H      -8.221900     0.293300    -0.248800 H          1 UNL1 0.0\\n    46 H       2.242100    -0.863700     2.627100 H          1 UNL1 0.0\\n    47 H       1.921400    -1.570000     1.038600 H          1 UNL1 0.0\\n    48 H       2.564900     0.073100     1.173400 H          1 UNL1 0.0\\n    49 H       1.074000     1.971300     2.059700 H          1 UNL1 0.0\\n    50 H      -0.573600     1.617400     2.618500 H          1 UNL1 0.0\\n    51 H       0.818800     1.015100     3.510100 H          1 UNL1 0.0\\n    52 H      -0.394400    -2.107300     1.969300 H          1 UNL1 0.0\\n    53 H      -1.433000    -0.797900     2.610500 H          1 UNL1 0.0\\n    54 H       0.021300    -1.283100     3.462900 H          1 UNL1 0.0\\n@<TRIPOS>BOND\\n     1      1      2          1\\n     2      2      3          1\\n     3      3      4          1\\n     4      4      5          2\\n     5      5      1          1\\n     6      4      6          1\\n     7      6      7          1\\n     8      7      8          1\\n     9      8      9          1\\n    10      9     10          1\\n    11     10     11          1\\n    12     11      7          2\\n    13     11     12          1\\n    14     12      5          1\\n    15     12     13          1\\n    16     12     14          1\\n    17      6     15          1\\n    18      6     16          1\\n    19     17     18          1\\n    20     17     19          1\\n    21     17     20          1\\n    22     10     17          1\\n    23     21     22          1\\n    24     21     23          1\\n    25     21     24          1\\n    26      1     21          1\\n    27      1     25          1\\n    28      2     26          1\\n    29      2     27          1\\n    30      9     28          1\\n    31      9     29          1\\n    32     10     30          1\\n    33     15     31          1\\n    34     15     32          1\\n    35     15     33          1\\n    36     16     34          1\\n    37     16     35          1\\n    38     16     36          1\\n    39     18     37          1\\n    40     18     38          1\\n    41     18     39          1\\n    42     19     40          1\\n    43     19     41          1\\n    44     19     42          1\\n    45     20     43          1\\n    46     20     44          1\\n    47     20     45          1\\n    48     22     46          1\\n    49     22     47          1\\n    50     22     48          1\\n    51     23     49          1\\n    52     23     50          1\\n    53     23     51          1\\n    54     24     52          1\\n    55     24     53          1\\n    56     24     54          1\\n\",\"mol2\");\n\tviewer_16849519740530348.setStyle({\"stick\": {\"radius\": 0.1}, \"sphere\": {\"scale\": 0.15}});\n\tviewer_16849519740530348.setHoverable({},true,\"\\n            function(atom,viewer,event,container) {\\n                if(!atom.label) {\\n                    atom.label = viewer.addLabel(atom.elem + atom.serial, {position: atom, backgroundColor: 'mintcream', fontColor:'black'});\\n                }\\n            }\\n            \",\"\\n            function(atom,viewer) { \\n                if(atom.label) {\\n                    viewer.removeLabel(atom.label);\\n                    delete atom.label;\\n                }\\n            }\\n            \");\n\tviewer_16849519740530348.zoomTo();\n\tviewer_16849519740530348.setBackgroundColor(null);\nviewer_16849519740530348.render();\n});\n</script>",
      "text/html": [
       "<div id=\"3dmolviewer_16849519740530348\"  style=\"position: relative; width: 1000px; height: 500px;\">\n",
       "        <p id=\"3dmolwarning_16849519740530348\" style=\"background-color:#ffcccc;color:black\">You appear to be running in JupyterLab (or JavaScript failed to load for some other reason).  You need to install the 3dmol extension: <br>\n",
       "        <tt>jupyter labextension install jupyterlab_3dmol</tt></p>\n",
       "        </div>\n",
       "<script>\n",
       "\n",
       "var loadScriptAsync = function(uri){\n",
       "  return new Promise((resolve, reject) => {\n",
       "    //this is to ignore the existence of requirejs amd\n",
       "    var savedexports, savedmodule;\n",
       "    if (typeof exports !== 'undefined') savedexports = exports;\n",
       "    else exports = {}\n",
       "    if (typeof module !== 'undefined') savedmodule = module;\n",
       "    else module = {}\n",
       "\n",
       "    var tag = document.createElement('script');\n",
       "    tag.src = uri;\n",
       "    tag.async = true;\n",
       "    tag.onload = () => {\n",
       "        exports = savedexports;\n",
       "        module = savedmodule;\n",
       "        resolve();\n",
       "    };\n",
       "  var firstScriptTag = document.getElementsByTagName('script')[0];\n",
       "  firstScriptTag.parentNode.insertBefore(tag, firstScriptTag);\n",
       "});\n",
       "};\n",
       "\n",
       "if(typeof $3Dmolpromise === 'undefined') {\n",
       "$3Dmolpromise = null;\n",
       "  $3Dmolpromise = loadScriptAsync('https://cdnjs.cloudflare.com/ajax/libs/3Dmol/2.0.3/3Dmol-min.js');\n",
       "}\n",
       "\n",
       "var viewer_16849519740530348 = null;\n",
       "var warn = document.getElementById(\"3dmolwarning_16849519740530348\");\n",
       "if(warn) {\n",
       "    warn.parentNode.removeChild(warn);\n",
       "}\n",
       "$3Dmolpromise.then(function() {\n",
       "viewer_16849519740530348 = $3Dmol.createViewer(document.getElementById(\"3dmolviewer_16849519740530348\"),{backgroundColor:\"white\"});\n",
       "viewer_16849519740530348.zoomTo();\n",
       "\tviewer_16849519740530348.addModel(\"# Produced with molli package\\n@<TRIPOS>MOLECULE\\n1_1\\n54 56 0 0 0\\nSMALL\\nUSER_CHARGES\\n\\n@<TRIPOS>ATOM\\n     1 C      -0.083500     0.082800     0.180500 C.3        1 UNL1 0.0\\n     2 C       0.606300     1.258400    -0.523600 C.3        1 UNL1 0.0\\n     3 O      -0.268300     2.365600    -0.234800 O.2        1 UNL1 0.0\\n     4 C      -1.486700     1.860700    -0.052800 C.2        1 UNL1 0.0\\n     5 N      -1.493900     0.589800     0.075700 N.2        1 UNL1 0.0\\n     6 C      -2.724900     2.691100    -0.050300 C.3        1 UNL1 0.0\\n     7 C      -3.943200     1.842100     0.125200 C.2        1 UNL1 0.0\\n     8 O      -5.084700     2.340100     0.588200 O.2        1 UNL1 0.0\\n     9 C      -5.899100     1.240200     1.007500 C.3        1 UNL1 0.0\\n    10 C      -5.354100     0.035800     0.222200 C.3        1 UNL1 0.0\\n    11 N      -3.981500     0.583800    -0.097800 N.2        1 UNL1 0.0\\n    12 C      -2.711400    -0.170100    -0.404400 C.3        1 UNL1 0.0\\n    13 BR     -2.477900    -0.244700    -2.388700 Br         1 UNL1 0.0\\n    14 BR     -2.769400    -1.994400     0.273500 Br         1 UNL1 0.0\\n    15 C      -2.620400     3.669400     1.131600 C.3        1 UNL1 0.0\\n    16 C      -2.843300     3.476200    -1.360100 C.3        1 UNL1 0.0\\n    17 C      -6.241200    -0.360300    -1.007700 C.3        1 UNL1 0.0\\n    18 C      -5.792500    -1.694200    -1.636500 C.3        1 UNL1 0.0\\n    19 C      -6.300900     0.726000    -2.097700 C.3        1 UNL1 0.0\\n    20 C      -7.697900    -0.623900    -0.531700 C.3        1 UNL1 0.0\\n    21 C       0.417400    -0.098900     1.666800 C.3        1 UNL1 0.0\\n    22 C       1.868400    -0.642600     1.620200 C.3        1 UNL1 0.0\\n    23 C       0.432300     1.202600     2.500800 C.3        1 UNL1 0.0\\n    24 C      -0.401400    -1.130400     2.461900 C.3        1 UNL1 0.0\\n    25 H       0.023100    -0.842600    -0.395100 H          1 UNL1 0.0\\n    26 H       1.616400     1.483800    -0.176900 H          1 UNL1 0.0\\n    27 H       0.638600     1.125700    -1.612000 H          1 UNL1 0.0\\n    28 H      -6.945100     1.491200     0.833800 H          1 UNL1 0.0\\n    29 H      -5.758900     1.109100     2.087500 H          1 UNL1 0.0\\n    30 H      -5.257300    -0.810000     0.910400 H          1 UNL1 0.0\\n    31 H      -3.475100     4.354900     1.164800 H          1 UNL1 0.0\\n    32 H      -1.710700     4.278100     1.071900 H          1 UNL1 0.0\\n    33 H      -2.594100     3.133000     2.087700 H          1 UNL1 0.0\\n    34 H      -3.744500     4.100300    -1.368600 H          1 UNL1 0.0\\n    35 H      -2.904300     2.811800    -2.227800 H          1 UNL1 0.0\\n    36 H      -1.978800     4.132100    -1.513700 H          1 UNL1 0.0\\n    37 H      -5.748100    -2.490200    -0.885000 H          1 UNL1 0.0\\n    38 H      -6.495300    -2.021900    -2.412500 H          1 UNL1 0.0\\n    39 H      -4.823000    -1.628900    -2.120600 H          1 UNL1 0.0\\n    40 H      -6.682800     1.673000    -1.701900 H          1 UNL1 0.0\\n    41 H      -6.967500     0.424600    -2.914400 H          1 UNL1 0.0\\n    42 H      -5.320700     0.919500    -2.540400 H          1 UNL1 0.0\\n    43 H      -7.713700    -1.305600     0.326300 H          1 UNL1 0.0\\n    44 H      -8.298900    -1.081400    -1.327100 H          1 UNL1 0.0\\n    45 H      -8.221900     0.293300    -0.248800 H          1 UNL1 0.0\\n    46 H       2.242100    -0.863700     2.627100 H          1 UNL1 0.0\\n    47 H       1.921400    -1.570000     1.038600 H          1 UNL1 0.0\\n    48 H       2.564900     0.073100     1.173400 H          1 UNL1 0.0\\n    49 H       1.074000     1.971300     2.059700 H          1 UNL1 0.0\\n    50 H      -0.573600     1.617400     2.618500 H          1 UNL1 0.0\\n    51 H       0.818800     1.015100     3.510100 H          1 UNL1 0.0\\n    52 H      -0.394400    -2.107300     1.969300 H          1 UNL1 0.0\\n    53 H      -1.433000    -0.797900     2.610500 H          1 UNL1 0.0\\n    54 H       0.021300    -1.283100     3.462900 H          1 UNL1 0.0\\n@<TRIPOS>BOND\\n     1      1      2          1\\n     2      2      3          1\\n     3      3      4          1\\n     4      4      5          2\\n     5      5      1          1\\n     6      4      6          1\\n     7      6      7          1\\n     8      7      8          1\\n     9      8      9          1\\n    10      9     10          1\\n    11     10     11          1\\n    12     11      7          2\\n    13     11     12          1\\n    14     12      5          1\\n    15     12     13          1\\n    16     12     14          1\\n    17      6     15          1\\n    18      6     16          1\\n    19     17     18          1\\n    20     17     19          1\\n    21     17     20          1\\n    22     10     17          1\\n    23     21     22          1\\n    24     21     23          1\\n    25     21     24          1\\n    26      1     21          1\\n    27      1     25          1\\n    28      2     26          1\\n    29      2     27          1\\n    30      9     28          1\\n    31      9     29          1\\n    32     10     30          1\\n    33     15     31          1\\n    34     15     32          1\\n    35     15     33          1\\n    36     16     34          1\\n    37     16     35          1\\n    38     16     36          1\\n    39     18     37          1\\n    40     18     38          1\\n    41     18     39          1\\n    42     19     40          1\\n    43     19     41          1\\n    44     19     42          1\\n    45     20     43          1\\n    46     20     44          1\\n    47     20     45          1\\n    48     22     46          1\\n    49     22     47          1\\n    50     22     48          1\\n    51     23     49          1\\n    52     23     50          1\\n    53     23     51          1\\n    54     24     52          1\\n    55     24     53          1\\n    56     24     54          1\\n\",\"mol2\");\n",
       "\tviewer_16849519740530348.setStyle({\"stick\": {\"radius\": 0.1}, \"sphere\": {\"scale\": 0.15}});\n",
       "\tviewer_16849519740530348.setHoverable({},true,\"\\n            function(atom,viewer,event,container) {\\n                if(!atom.label) {\\n                    atom.label = viewer.addLabel(atom.elem + atom.serial, {position: atom, backgroundColor: 'mintcream', fontColor:'black'});\\n                }\\n            }\\n            \",\"\\n            function(atom,viewer) { \\n                if(atom.label) {\\n                    viewer.removeLabel(atom.label);\\n                    delete atom.label;\\n                }\\n            }\\n            \");\n",
       "\tviewer_16849519740530348.zoomTo();\n",
       "\tviewer_16849519740530348.setBackgroundColor(null);\n",
       "viewer_16849519740530348.render();\n",
       "});\n",
       "</script>"
      ]
     },
     "metadata": {},
     "output_type": "display_data"
    },
    {
     "data": {
      "text/plain": [
       "Conformer(name='1_1', formula='C18 H30 Br2 N2 O2')"
      ]
     },
     "execution_count": 39,
     "metadata": {},
     "output_type": "execute_result"
    }
   ],
   "source": [
    "clib_1_1[0][43]"
   ]
  },
  {
   "cell_type": "code",
   "execution_count": 40,
   "metadata": {},
   "outputs": [],
   "source": [
    "clib_1_7 = ml.ConformerLibrary('out_combinatorial/conformer_libs/1_7_conformers.clib')\n",
    "clib_2_4 = ml.ConformerLibrary('out_combinatorial/conformer_libs/2_4_conformers.clib')\n",
    "clib_3_11 = ml.ConformerLibrary('out_combinatorial/conformer_libs/3_11_conformers.clib')\n",
    "clib_4_8 = ml.ConformerLibrary('out_combinatorial/conformer_libs/4_8_conformers.clib')\n",
    "clib_5_1 = ml.ConformerLibrary('out_combinatorial/conformer_libs/5_1_conformers.clib')\n",
    "clib_5_15 = ml.ConformerLibrary('out_combinatorial/conformer_libs/5_15_conformers.clib')"
   ]
  },
  {
   "cell_type": "code",
   "execution_count": 41,
   "metadata": {},
   "outputs": [
    {
     "data": {
      "application/3dmoljs_load.v0": "<div id=\"3dmolviewer_16849539518017695\"  style=\"position: relative; width: 1000px; height: 500px;\">\n        <p id=\"3dmolwarning_16849539518017695\" style=\"background-color:#ffcccc;color:black\">You appear to be running in JupyterLab (or JavaScript failed to load for some other reason).  You need to install the 3dmol extension: <br>\n        <tt>jupyter labextension install jupyterlab_3dmol</tt></p>\n        </div>\n<script>\n\nvar loadScriptAsync = function(uri){\n  return new Promise((resolve, reject) => {\n    //this is to ignore the existence of requirejs amd\n    var savedexports, savedmodule;\n    if (typeof exports !== 'undefined') savedexports = exports;\n    else exports = {}\n    if (typeof module !== 'undefined') savedmodule = module;\n    else module = {}\n\n    var tag = document.createElement('script');\n    tag.src = uri;\n    tag.async = true;\n    tag.onload = () => {\n        exports = savedexports;\n        module = savedmodule;\n        resolve();\n    };\n  var firstScriptTag = document.getElementsByTagName('script')[0];\n  firstScriptTag.parentNode.insertBefore(tag, firstScriptTag);\n});\n};\n\nif(typeof $3Dmolpromise === 'undefined') {\n$3Dmolpromise = null;\n  $3Dmolpromise = loadScriptAsync('https://cdnjs.cloudflare.com/ajax/libs/3Dmol/2.0.3/3Dmol-min.js');\n}\n\nvar viewer_16849539518017695 = null;\nvar warn = document.getElementById(\"3dmolwarning_16849539518017695\");\nif(warn) {\n    warn.parentNode.removeChild(warn);\n}\n$3Dmolpromise.then(function() {\nviewer_16849539518017695 = $3Dmol.createViewer(document.getElementById(\"3dmolviewer_16849539518017695\"),{backgroundColor:\"white\"});\nviewer_16849539518017695.zoomTo();\n\tviewer_16849539518017695.addModel(\"# Produced with molli package\\n@<TRIPOS>MOLECULE\\n1_7\\n68 72 0 0 0\\nSMALL\\nUSER_CHARGES\\n\\n@<TRIPOS>ATOM\\n     1 C      -0.112700     0.056000     0.208400 C.3        1 UNL1 0.0\\n     2 C       0.676000     1.306500    -0.173300 C.3        1 UNL1 0.0\\n     3 O      -0.260600     2.381400     0.011600 O.2        1 UNL1 0.0\\n     4 C      -1.486800     1.860300     0.005900 C.2        1 UNL1 0.0\\n     5 N      -1.494700     0.583400     0.023400 N.2        1 UNL1 0.0\\n     6 C      -2.726500     2.690300    -0.058600 C.3        1 UNL1 0.0\\n     7 C      -3.955800     1.851100     0.082000 C.2        1 UNL1 0.0\\n     8 O      -5.144800     2.369200     0.367500 O.2        1 UNL1 0.0\\n     9 C      -6.114700     1.313700     0.449100 C.3        1 UNL1 0.0\\n    10 C      -5.329100     0.026300     0.192800 C.3        1 UNL1 0.0\\n    11 N      -3.966400     0.582500    -0.052700 N.2        1 UNL1 0.0\\n    12 C      -2.717200    -0.191500    -0.339200 C.3        1 UNL1 0.0\\n    13 BR     -2.756200    -1.950900     0.509200 Br         1 UNL1 0.0\\n    14 BR     -2.612300    -0.443100    -2.310100 Br         1 UNL1 0.0\\n    15 C      -2.771800     3.422700    -1.404900 C.3        1 UNL1 0.0\\n    16 C      -2.697300     3.713900     1.085400 C.3        1 UNL1 0.0\\n    17 C      -5.876200    -0.771600    -0.993800 C.3        1 UNL1 0.0\\n    18 C      -7.214200    -1.383800    -0.670900 C.ar       1 UNL1 0.0\\n    19 C      -8.389600    -0.855100    -1.222200 C.ar       1 UNL1 0.0\\n    20 C      -9.636600    -1.410000    -0.912900 C.ar       1 UNL1 0.0\\n    21 C      -9.704100    -2.487500    -0.022700 C.ar       1 UNL1 0.0\\n    22 C      -8.542500    -3.029300     0.538500 C.ar       1 UNL1 0.0\\n    23 C      -7.299900    -2.483800     0.196500 C.ar       1 UNL1 0.0\\n    24 C      -8.633500    -4.228000     1.439400 C.3        1 UNL1 0.0\\n    25 C     -10.897300    -0.831100    -1.489700 C.3        1 UNL1 0.0\\n    26 C       0.166300    -0.400800     1.661300 C.3        1 UNL1 0.0\\n    27 C      -0.525600     0.380500     2.756800 C.ar       1 UNL1 0.0\\n    28 C      -0.099500     1.670800     3.101200 C.ar       1 UNL1 0.0\\n    29 C      -0.774400     2.415400     4.075800 C.ar       1 UNL1 0.0\\n    30 C      -1.866100     1.845300     4.739000 C.ar       1 UNL1 0.0\\n    31 C      -2.287500     0.546600     4.438000 C.ar       1 UNL1 0.0\\n    32 C      -1.598700    -0.184500     3.463300 C.ar       1 UNL1 0.0\\n    33 C      -3.384600    -0.092400     5.242700 C.3        1 UNL1 0.0\\n    34 C      -0.275500     3.775600     4.477900 C.3        1 UNL1 0.0\\n    35 H       0.086900    -0.753400    -0.501800 H          1 UNL1 0.0\\n    36 H       0.970000     1.295500    -1.229500 H          1 UNL1 0.0\\n    37 H       1.570300     1.473900     0.433600 H          1 UNL1 0.0\\n    38 H      -6.562300     1.322500     1.448400 H          1 UNL1 0.0\\n    39 H      -6.898200     1.515600    -0.287100 H          1 UNL1 0.0\\n    40 H      -5.286500    -0.569000     1.111800 H          1 UNL1 0.0\\n    41 H      -3.670200     4.045200    -1.490700 H          1 UNL1 0.0\\n    42 H      -1.898300     4.071500    -1.536500 H          1 UNL1 0.0\\n    43 H      -2.784500     2.721100    -2.245700 H          1 UNL1 0.0\\n    44 H      -3.527100     4.426100     1.007900 H          1 UNL1 0.0\\n    45 H      -1.766100     4.291500     1.093000 H          1 UNL1 0.0\\n    46 H      -2.789900     3.218900     2.057500 H          1 UNL1 0.0\\n    47 H      -5.953000    -0.137600    -1.887200 H          1 UNL1 0.0\\n    48 H      -5.205300    -1.591400    -1.272200 H          1 UNL1 0.0\\n    49 H      -8.352700    -0.013900    -1.912900 H          1 UNL1 0.0\\n    50 H     -10.674100    -2.919800     0.224800 H          1 UNL1 0.0\\n    51 H      -6.403100    -2.941100     0.609300 H          1 UNL1 0.0\\n    52 H      -9.555900    -4.203500     2.029200 H          1 UNL1 0.0\\n    53 H      -8.616400    -5.145600     0.843300 H          1 UNL1 0.0\\n    54 H      -7.797100    -4.249800     2.146200 H          1 UNL1 0.0\\n    55 H     -11.294300    -0.061100    -0.821100 H          1 UNL1 0.0\\n    56 H     -11.656400    -1.608400    -1.627200 H          1 UNL1 0.0\\n    57 H     -10.709000    -0.384500    -2.471600 H          1 UNL1 0.0\\n    58 H       1.248100    -0.393600     1.851000 H          1 UNL1 0.0\\n    59 H      -0.113600    -1.457000     1.757200 H          1 UNL1 0.0\\n    60 H       0.788200     2.107500     2.643800 H          1 UNL1 0.0\\n    61 H      -2.359200     2.402100     5.537500 H          1 UNL1 0.0\\n    62 H      -1.873300    -1.228500     3.315100 H          1 UNL1 0.0\\n    63 H      -3.923300    -0.834100     4.643400 H          1 UNL1 0.0\\n    64 H      -2.963600    -0.585400     6.124100 H          1 UNL1 0.0\\n    65 H      -4.115500     0.655300     5.568000 H          1 UNL1 0.0\\n    66 H       0.452900     3.682100     5.289000 H          1 UNL1 0.0\\n    67 H       0.198700     4.281700     3.630400 H          1 UNL1 0.0\\n    68 H      -1.102600     4.410200     4.812900 H          1 UNL1 0.0\\n@<TRIPOS>BOND\\n     1      1      2          1\\n     2      2      3          1\\n     3      3      4          1\\n     4      4      5          2\\n     5      5      1          1\\n     6      4      6          1\\n     7      6      7          1\\n     8      7      8          1\\n     9      8      9          1\\n    10      9     10          1\\n    11     10     11          1\\n    12     11      7          2\\n    13     11     12          1\\n    14     12      5          1\\n    15     12     13          1\\n    16     12     14          1\\n    17      6     15          1\\n    18      6     16          1\\n    19     17     18          1\\n    20     18     19         ar\\n    21     19     20         ar\\n    22     20     21         ar\\n    23     21     22         ar\\n    24     22     23         ar\\n    25     23     18         ar\\n    26     22     24          1\\n    27     20     25          1\\n    28     10     17          1\\n    29     26     27          1\\n    30     27     28         ar\\n    31     28     29         ar\\n    32     29     30         ar\\n    33     30     31         ar\\n    34     31     32         ar\\n    35     32     27         ar\\n    36     31     33          1\\n    37     29     34          1\\n    38      1     26          1\\n    39      1     35          1\\n    40      2     36          1\\n    41      2     37          1\\n    42      9     38          1\\n    43      9     39          1\\n    44     10     40          1\\n    45     15     41          1\\n    46     15     42          1\\n    47     15     43          1\\n    48     16     44          1\\n    49     16     45          1\\n    50     16     46          1\\n    51     17     47          1\\n    52     17     48          1\\n    53     19     49          1\\n    54     21     50          1\\n    55     23     51          1\\n    56     24     52          1\\n    57     24     53          1\\n    58     24     54          1\\n    59     25     55          1\\n    60     25     56          1\\n    61     25     57          1\\n    62     26     58          1\\n    63     26     59          1\\n    64     28     60          1\\n    65     30     61          1\\n    66     32     62          1\\n    67     33     63          1\\n    68     33     64          1\\n    69     33     65          1\\n    70     34     66          1\\n    71     34     67          1\\n    72     34     68          1\\n\",\"mol2\");\n\tviewer_16849539518017695.setStyle({\"stick\": {\"radius\": 0.1}, \"sphere\": {\"scale\": 0.15}});\n\tviewer_16849539518017695.setHoverable({},true,\"\\n            function(atom,viewer,event,container) {\\n                if(!atom.label) {\\n                    atom.label = viewer.addLabel(atom.elem + atom.serial, {position: atom, backgroundColor: 'mintcream', fontColor:'black'});\\n                }\\n            }\\n            \",\"\\n            function(atom,viewer) { \\n                if(atom.label) {\\n                    viewer.removeLabel(atom.label);\\n                    delete atom.label;\\n                }\\n            }\\n            \");\n\tviewer_16849539518017695.zoomTo();\n\tviewer_16849539518017695.setBackgroundColor(null);\nviewer_16849539518017695.render();\n});\n</script>",
      "text/html": [
       "<div id=\"3dmolviewer_16849539518017695\"  style=\"position: relative; width: 1000px; height: 500px;\">\n",
       "        <p id=\"3dmolwarning_16849539518017695\" style=\"background-color:#ffcccc;color:black\">You appear to be running in JupyterLab (or JavaScript failed to load for some other reason).  You need to install the 3dmol extension: <br>\n",
       "        <tt>jupyter labextension install jupyterlab_3dmol</tt></p>\n",
       "        </div>\n",
       "<script>\n",
       "\n",
       "var loadScriptAsync = function(uri){\n",
       "  return new Promise((resolve, reject) => {\n",
       "    //this is to ignore the existence of requirejs amd\n",
       "    var savedexports, savedmodule;\n",
       "    if (typeof exports !== 'undefined') savedexports = exports;\n",
       "    else exports = {}\n",
       "    if (typeof module !== 'undefined') savedmodule = module;\n",
       "    else module = {}\n",
       "\n",
       "    var tag = document.createElement('script');\n",
       "    tag.src = uri;\n",
       "    tag.async = true;\n",
       "    tag.onload = () => {\n",
       "        exports = savedexports;\n",
       "        module = savedmodule;\n",
       "        resolve();\n",
       "    };\n",
       "  var firstScriptTag = document.getElementsByTagName('script')[0];\n",
       "  firstScriptTag.parentNode.insertBefore(tag, firstScriptTag);\n",
       "});\n",
       "};\n",
       "\n",
       "if(typeof $3Dmolpromise === 'undefined') {\n",
       "$3Dmolpromise = null;\n",
       "  $3Dmolpromise = loadScriptAsync('https://cdnjs.cloudflare.com/ajax/libs/3Dmol/2.0.3/3Dmol-min.js');\n",
       "}\n",
       "\n",
       "var viewer_16849539518017695 = null;\n",
       "var warn = document.getElementById(\"3dmolwarning_16849539518017695\");\n",
       "if(warn) {\n",
       "    warn.parentNode.removeChild(warn);\n",
       "}\n",
       "$3Dmolpromise.then(function() {\n",
       "viewer_16849539518017695 = $3Dmol.createViewer(document.getElementById(\"3dmolviewer_16849539518017695\"),{backgroundColor:\"white\"});\n",
       "viewer_16849539518017695.zoomTo();\n",
       "\tviewer_16849539518017695.addModel(\"# Produced with molli package\\n@<TRIPOS>MOLECULE\\n1_7\\n68 72 0 0 0\\nSMALL\\nUSER_CHARGES\\n\\n@<TRIPOS>ATOM\\n     1 C      -0.112700     0.056000     0.208400 C.3        1 UNL1 0.0\\n     2 C       0.676000     1.306500    -0.173300 C.3        1 UNL1 0.0\\n     3 O      -0.260600     2.381400     0.011600 O.2        1 UNL1 0.0\\n     4 C      -1.486800     1.860300     0.005900 C.2        1 UNL1 0.0\\n     5 N      -1.494700     0.583400     0.023400 N.2        1 UNL1 0.0\\n     6 C      -2.726500     2.690300    -0.058600 C.3        1 UNL1 0.0\\n     7 C      -3.955800     1.851100     0.082000 C.2        1 UNL1 0.0\\n     8 O      -5.144800     2.369200     0.367500 O.2        1 UNL1 0.0\\n     9 C      -6.114700     1.313700     0.449100 C.3        1 UNL1 0.0\\n    10 C      -5.329100     0.026300     0.192800 C.3        1 UNL1 0.0\\n    11 N      -3.966400     0.582500    -0.052700 N.2        1 UNL1 0.0\\n    12 C      -2.717200    -0.191500    -0.339200 C.3        1 UNL1 0.0\\n    13 BR     -2.756200    -1.950900     0.509200 Br         1 UNL1 0.0\\n    14 BR     -2.612300    -0.443100    -2.310100 Br         1 UNL1 0.0\\n    15 C      -2.771800     3.422700    -1.404900 C.3        1 UNL1 0.0\\n    16 C      -2.697300     3.713900     1.085400 C.3        1 UNL1 0.0\\n    17 C      -5.876200    -0.771600    -0.993800 C.3        1 UNL1 0.0\\n    18 C      -7.214200    -1.383800    -0.670900 C.ar       1 UNL1 0.0\\n    19 C      -8.389600    -0.855100    -1.222200 C.ar       1 UNL1 0.0\\n    20 C      -9.636600    -1.410000    -0.912900 C.ar       1 UNL1 0.0\\n    21 C      -9.704100    -2.487500    -0.022700 C.ar       1 UNL1 0.0\\n    22 C      -8.542500    -3.029300     0.538500 C.ar       1 UNL1 0.0\\n    23 C      -7.299900    -2.483800     0.196500 C.ar       1 UNL1 0.0\\n    24 C      -8.633500    -4.228000     1.439400 C.3        1 UNL1 0.0\\n    25 C     -10.897300    -0.831100    -1.489700 C.3        1 UNL1 0.0\\n    26 C       0.166300    -0.400800     1.661300 C.3        1 UNL1 0.0\\n    27 C      -0.525600     0.380500     2.756800 C.ar       1 UNL1 0.0\\n    28 C      -0.099500     1.670800     3.101200 C.ar       1 UNL1 0.0\\n    29 C      -0.774400     2.415400     4.075800 C.ar       1 UNL1 0.0\\n    30 C      -1.866100     1.845300     4.739000 C.ar       1 UNL1 0.0\\n    31 C      -2.287500     0.546600     4.438000 C.ar       1 UNL1 0.0\\n    32 C      -1.598700    -0.184500     3.463300 C.ar       1 UNL1 0.0\\n    33 C      -3.384600    -0.092400     5.242700 C.3        1 UNL1 0.0\\n    34 C      -0.275500     3.775600     4.477900 C.3        1 UNL1 0.0\\n    35 H       0.086900    -0.753400    -0.501800 H          1 UNL1 0.0\\n    36 H       0.970000     1.295500    -1.229500 H          1 UNL1 0.0\\n    37 H       1.570300     1.473900     0.433600 H          1 UNL1 0.0\\n    38 H      -6.562300     1.322500     1.448400 H          1 UNL1 0.0\\n    39 H      -6.898200     1.515600    -0.287100 H          1 UNL1 0.0\\n    40 H      -5.286500    -0.569000     1.111800 H          1 UNL1 0.0\\n    41 H      -3.670200     4.045200    -1.490700 H          1 UNL1 0.0\\n    42 H      -1.898300     4.071500    -1.536500 H          1 UNL1 0.0\\n    43 H      -2.784500     2.721100    -2.245700 H          1 UNL1 0.0\\n    44 H      -3.527100     4.426100     1.007900 H          1 UNL1 0.0\\n    45 H      -1.766100     4.291500     1.093000 H          1 UNL1 0.0\\n    46 H      -2.789900     3.218900     2.057500 H          1 UNL1 0.0\\n    47 H      -5.953000    -0.137600    -1.887200 H          1 UNL1 0.0\\n    48 H      -5.205300    -1.591400    -1.272200 H          1 UNL1 0.0\\n    49 H      -8.352700    -0.013900    -1.912900 H          1 UNL1 0.0\\n    50 H     -10.674100    -2.919800     0.224800 H          1 UNL1 0.0\\n    51 H      -6.403100    -2.941100     0.609300 H          1 UNL1 0.0\\n    52 H      -9.555900    -4.203500     2.029200 H          1 UNL1 0.0\\n    53 H      -8.616400    -5.145600     0.843300 H          1 UNL1 0.0\\n    54 H      -7.797100    -4.249800     2.146200 H          1 UNL1 0.0\\n    55 H     -11.294300    -0.061100    -0.821100 H          1 UNL1 0.0\\n    56 H     -11.656400    -1.608400    -1.627200 H          1 UNL1 0.0\\n    57 H     -10.709000    -0.384500    -2.471600 H          1 UNL1 0.0\\n    58 H       1.248100    -0.393600     1.851000 H          1 UNL1 0.0\\n    59 H      -0.113600    -1.457000     1.757200 H          1 UNL1 0.0\\n    60 H       0.788200     2.107500     2.643800 H          1 UNL1 0.0\\n    61 H      -2.359200     2.402100     5.537500 H          1 UNL1 0.0\\n    62 H      -1.873300    -1.228500     3.315100 H          1 UNL1 0.0\\n    63 H      -3.923300    -0.834100     4.643400 H          1 UNL1 0.0\\n    64 H      -2.963600    -0.585400     6.124100 H          1 UNL1 0.0\\n    65 H      -4.115500     0.655300     5.568000 H          1 UNL1 0.0\\n    66 H       0.452900     3.682100     5.289000 H          1 UNL1 0.0\\n    67 H       0.198700     4.281700     3.630400 H          1 UNL1 0.0\\n    68 H      -1.102600     4.410200     4.812900 H          1 UNL1 0.0\\n@<TRIPOS>BOND\\n     1      1      2          1\\n     2      2      3          1\\n     3      3      4          1\\n     4      4      5          2\\n     5      5      1          1\\n     6      4      6          1\\n     7      6      7          1\\n     8      7      8          1\\n     9      8      9          1\\n    10      9     10          1\\n    11     10     11          1\\n    12     11      7          2\\n    13     11     12          1\\n    14     12      5          1\\n    15     12     13          1\\n    16     12     14          1\\n    17      6     15          1\\n    18      6     16          1\\n    19     17     18          1\\n    20     18     19         ar\\n    21     19     20         ar\\n    22     20     21         ar\\n    23     21     22         ar\\n    24     22     23         ar\\n    25     23     18         ar\\n    26     22     24          1\\n    27     20     25          1\\n    28     10     17          1\\n    29     26     27          1\\n    30     27     28         ar\\n    31     28     29         ar\\n    32     29     30         ar\\n    33     30     31         ar\\n    34     31     32         ar\\n    35     32     27         ar\\n    36     31     33          1\\n    37     29     34          1\\n    38      1     26          1\\n    39      1     35          1\\n    40      2     36          1\\n    41      2     37          1\\n    42      9     38          1\\n    43      9     39          1\\n    44     10     40          1\\n    45     15     41          1\\n    46     15     42          1\\n    47     15     43          1\\n    48     16     44          1\\n    49     16     45          1\\n    50     16     46          1\\n    51     17     47          1\\n    52     17     48          1\\n    53     19     49          1\\n    54     21     50          1\\n    55     23     51          1\\n    56     24     52          1\\n    57     24     53          1\\n    58     24     54          1\\n    59     25     55          1\\n    60     25     56          1\\n    61     25     57          1\\n    62     26     58          1\\n    63     26     59          1\\n    64     28     60          1\\n    65     30     61          1\\n    66     32     62          1\\n    67     33     63          1\\n    68     33     64          1\\n    69     33     65          1\\n    70     34     66          1\\n    71     34     67          1\\n    72     34     68          1\\n\",\"mol2\");\n",
       "\tviewer_16849539518017695.setStyle({\"stick\": {\"radius\": 0.1}, \"sphere\": {\"scale\": 0.15}});\n",
       "\tviewer_16849539518017695.setHoverable({},true,\"\\n            function(atom,viewer,event,container) {\\n                if(!atom.label) {\\n                    atom.label = viewer.addLabel(atom.elem + atom.serial, {position: atom, backgroundColor: 'mintcream', fontColor:'black'});\\n                }\\n            }\\n            \",\"\\n            function(atom,viewer) { \\n                if(atom.label) {\\n                    viewer.removeLabel(atom.label);\\n                    delete atom.label;\\n                }\\n            }\\n            \");\n",
       "\tviewer_16849539518017695.zoomTo();\n",
       "\tviewer_16849539518017695.setBackgroundColor(null);\n",
       "viewer_16849539518017695.render();\n",
       "});\n",
       "</script>"
      ]
     },
     "metadata": {},
     "output_type": "display_data"
    },
    {
     "data": {
      "text/plain": [
       "Conformer(name='1_7', formula='C28 H34 Br2 N2 O2')"
      ]
     },
     "execution_count": 41,
     "metadata": {},
     "output_type": "execute_result"
    }
   ],
   "source": [
    "clib_1_7[0][0]"
   ]
  },
  {
   "cell_type": "code",
   "execution_count": 42,
   "metadata": {},
   "outputs": [
    {
     "data": {
      "application/3dmoljs_load.v0": "<div id=\"3dmolviewer_16849539709452136\"  style=\"position: relative; width: 1000px; height: 500px;\">\n        <p id=\"3dmolwarning_16849539709452136\" style=\"background-color:#ffcccc;color:black\">You appear to be running in JupyterLab (or JavaScript failed to load for some other reason).  You need to install the 3dmol extension: <br>\n        <tt>jupyter labextension install jupyterlab_3dmol</tt></p>\n        </div>\n<script>\n\nvar loadScriptAsync = function(uri){\n  return new Promise((resolve, reject) => {\n    //this is to ignore the existence of requirejs amd\n    var savedexports, savedmodule;\n    if (typeof exports !== 'undefined') savedexports = exports;\n    else exports = {}\n    if (typeof module !== 'undefined') savedmodule = module;\n    else module = {}\n\n    var tag = document.createElement('script');\n    tag.src = uri;\n    tag.async = true;\n    tag.onload = () => {\n        exports = savedexports;\n        module = savedmodule;\n        resolve();\n    };\n  var firstScriptTag = document.getElementsByTagName('script')[0];\n  firstScriptTag.parentNode.insertBefore(tag, firstScriptTag);\n});\n};\n\nif(typeof $3Dmolpromise === 'undefined') {\n$3Dmolpromise = null;\n  $3Dmolpromise = loadScriptAsync('https://cdnjs.cloudflare.com/ajax/libs/3Dmol/2.0.3/3Dmol-min.js');\n}\n\nvar viewer_16849539709452136 = null;\nvar warn = document.getElementById(\"3dmolwarning_16849539709452136\");\nif(warn) {\n    warn.parentNode.removeChild(warn);\n}\n$3Dmolpromise.then(function() {\nviewer_16849539709452136 = $3Dmol.createViewer(document.getElementById(\"3dmolviewer_16849539709452136\"),{backgroundColor:\"white\"});\nviewer_16849539709452136.zoomTo();\n\tviewer_16849539709452136.addModel(\"# Produced with molli package\\n@<TRIPOS>MOLECULE\\n1_7\\n68 72 0 0 0\\nSMALL\\nUSER_CHARGES\\n\\n@<TRIPOS>ATOM\\n     1 C      -0.050400     0.117000    -0.268600 C.3        1 UNL1 0.0\\n     2 C       0.705700     1.407500     0.036700 C.3        1 UNL1 0.0\\n     3 O      -0.284600     2.428500    -0.099600 O.2        1 UNL1 0.0\\n     4 C      -1.487400     1.859500    -0.005100 C.2        1 UNL1 0.0\\n     5 N      -1.461900     0.584000     0.008100 N.2        1 UNL1 0.0\\n     6 C      -2.726200     2.681400    -0.004400 C.3        1 UNL1 0.0\\n     7 C      -3.964700     1.859100     0.003900 C.2        1 UNL1 0.0\\n     8 O      -5.167500     2.428200     0.096800 O.2        1 UNL1 0.0\\n     9 C      -6.157600     1.406300    -0.034800 C.3        1 UNL1 0.0\\n    10 C      -5.401300     0.117700     0.277000 C.3        1 UNL1 0.0\\n    11 N      -3.990000     0.583600    -0.002500 N.2        1 UNL1 0.0\\n    12 C      -2.725800    -0.248700     0.005000 C.3        1 UNL1 0.0\\n    13 BR     -2.698400    -1.277600    -1.653200 Br         1 UNL1 0.0\\n    14 BR     -2.752400    -1.268600     1.668800 Br         1 UNL1 0.0\\n    15 C      -2.741300     3.552100    -1.269300 C.3        1 UNL1 0.0\\n    16 C      -2.711600     3.565500     1.251100 C.3        1 UNL1 0.0\\n    17 C      -5.970900    -1.037500    -0.550400 C.3        1 UNL1 0.0\\n    18 C      -5.697700    -2.413600     0.007400 C.ar       1 UNL1 0.0\\n    19 C      -5.211000    -3.430000    -0.827000 C.ar       1 UNL1 0.0\\n    20 C      -4.916000    -4.702600    -0.323400 C.ar       1 UNL1 0.0\\n    21 C      -5.175100    -4.980500     1.021400 C.ar       1 UNL1 0.0\\n    22 C      -5.715600    -4.002200     1.861400 C.ar       1 UNL1 0.0\\n    23 C      -5.996700    -2.731900     1.341800 C.ar       1 UNL1 0.0\\n    24 C      -6.071900    -4.344700     3.280500 C.3        1 UNL1 0.0\\n    25 C      -4.410300    -5.782600    -1.237000 C.3        1 UNL1 0.0\\n    26 C       0.519700    -1.033300     0.565100 C.3        1 UNL1 0.0\\n    27 C       0.247000    -2.414100     0.018900 C.ar       1 UNL1 0.0\\n    28 C       0.540600    -2.743100    -1.314100 C.ar       1 UNL1 0.0\\n    29 C       0.277900    -4.024600    -1.816200 C.ar       1 UNL1 0.0\\n    30 C      -0.287200    -4.987300    -0.974400 C.ar       1 UNL1 0.0\\n    31 C      -0.541100    -4.698200     0.369000 C.ar       1 UNL1 0.0\\n    32 C      -0.236400    -3.424000     0.863200 C.ar       1 UNL1 0.0\\n    33 C      -1.056900    -5.766100     1.291200 C.3        1 UNL1 0.0\\n    34 C       0.569400    -4.358000    -3.252300 C.3        1 UNL1 0.0\\n    35 H       0.002800    -0.066900    -1.347000 H          1 UNL1 0.0\\n    36 H       1.105600     1.452500     1.056100 H          1 UNL1 0.0\\n    37 H       1.520000     1.582000    -0.673200 H          1 UNL1 0.0\\n    38 H      -6.557600     1.446000    -1.054800 H          1 UNL1 0.0\\n    39 H      -6.972200     1.584000     0.674400 H          1 UNL1 0.0\\n    40 H      -5.454200    -0.060500     1.356400 H          1 UNL1 0.0\\n    41 H      -3.636900     4.182300    -1.314500 H          1 UNL1 0.0\\n    42 H      -2.731000     2.931900    -2.174000 H          1 UNL1 0.0\\n    43 H      -1.868600     4.213500    -1.315600 H          1 UNL1 0.0\\n    44 H      -1.816000     4.196300     1.290100 H          1 UNL1 0.0\\n    45 H      -2.722600     2.955300     2.162700 H          1 UNL1 0.0\\n    46 H      -3.584500     4.227400     1.289600 H          1 UNL1 0.0\\n    47 H      -7.066200    -0.948900    -0.583300 H          1 UNL1 0.0\\n    48 H      -5.642300    -0.964200    -1.593400 H          1 UNL1 0.0\\n    49 H      -5.070000    -3.254800    -1.893300 H          1 UNL1 0.0\\n    50 H      -4.989100    -5.981900     1.410200 H          1 UNL1 0.0\\n    51 H      -6.480000    -2.009500     1.997500 H          1 UNL1 0.0\\n    52 H      -7.091700    -4.738700     3.325200 H          1 UNL1 0.0\\n    53 H      -6.004700    -3.460300     3.922900 H          1 UNL1 0.0\\n    54 H      -5.382900    -5.093100     3.685900 H          1 UNL1 0.0\\n    55 H      -5.250500    -6.268300    -1.742900 H          1 UNL1 0.0\\n    56 H      -3.732300    -5.365500    -1.989400 H          1 UNL1 0.0\\n    57 H      -3.849500    -6.539700    -0.679000 H          1 UNL1 0.0\\n    58 H       1.615000    -0.944300     0.595600 H          1 UNL1 0.0\\n    59 H       0.192800    -0.952400     1.608100 H          1 UNL1 0.0\\n    60 H       1.008100    -2.021600    -1.982100 H          1 UNL1 0.0\\n    61 H      -0.493700    -5.985900    -1.359700 H          1 UNL1 0.0\\n    62 H      -0.374200    -3.240200     1.928600 H          1 UNL1 0.0\\n    63 H      -1.602300    -6.536500     0.736700 H          1 UNL1 0.0\\n    64 H      -0.223400    -6.237500     1.820500 H          1 UNL1 0.0\\n    65 H      -1.750900    -5.340300     2.023700 H          1 UNL1 0.0\\n    66 H      -0.295100    -4.108700    -3.875600 H          1 UNL1 0.0\\n    67 H       1.440200    -3.799600    -3.612300 H          1 UNL1 0.0\\n    68 H       0.795800    -5.422900    -3.370200 H          1 UNL1 0.0\\n@<TRIPOS>BOND\\n     1      1      2          1\\n     2      2      3          1\\n     3      3      4          1\\n     4      4      5          2\\n     5      5      1          1\\n     6      4      6          1\\n     7      6      7          1\\n     8      7      8          1\\n     9      8      9          1\\n    10      9     10          1\\n    11     10     11          1\\n    12     11      7          2\\n    13     11     12          1\\n    14     12      5          1\\n    15     12     13          1\\n    16     12     14          1\\n    17      6     15          1\\n    18      6     16          1\\n    19     17     18          1\\n    20     18     19         ar\\n    21     19     20         ar\\n    22     20     21         ar\\n    23     21     22         ar\\n    24     22     23         ar\\n    25     23     18         ar\\n    26     22     24          1\\n    27     20     25          1\\n    28     10     17          1\\n    29     26     27          1\\n    30     27     28         ar\\n    31     28     29         ar\\n    32     29     30         ar\\n    33     30     31         ar\\n    34     31     32         ar\\n    35     32     27         ar\\n    36     31     33          1\\n    37     29     34          1\\n    38      1     26          1\\n    39      1     35          1\\n    40      2     36          1\\n    41      2     37          1\\n    42      9     38          1\\n    43      9     39          1\\n    44     10     40          1\\n    45     15     41          1\\n    46     15     42          1\\n    47     15     43          1\\n    48     16     44          1\\n    49     16     45          1\\n    50     16     46          1\\n    51     17     47          1\\n    52     17     48          1\\n    53     19     49          1\\n    54     21     50          1\\n    55     23     51          1\\n    56     24     52          1\\n    57     24     53          1\\n    58     24     54          1\\n    59     25     55          1\\n    60     25     56          1\\n    61     25     57          1\\n    62     26     58          1\\n    63     26     59          1\\n    64     28     60          1\\n    65     30     61          1\\n    66     32     62          1\\n    67     33     63          1\\n    68     33     64          1\\n    69     33     65          1\\n    70     34     66          1\\n    71     34     67          1\\n    72     34     68          1\\n\",\"mol2\");\n\tviewer_16849539709452136.setStyle({\"stick\": {\"radius\": 0.1}, \"sphere\": {\"scale\": 0.15}});\n\tviewer_16849539709452136.setHoverable({},true,\"\\n            function(atom,viewer,event,container) {\\n                if(!atom.label) {\\n                    atom.label = viewer.addLabel(atom.elem + atom.serial, {position: atom, backgroundColor: 'mintcream', fontColor:'black'});\\n                }\\n            }\\n            \",\"\\n            function(atom,viewer) { \\n                if(atom.label) {\\n                    viewer.removeLabel(atom.label);\\n                    delete atom.label;\\n                }\\n            }\\n            \");\n\tviewer_16849539709452136.zoomTo();\n\tviewer_16849539709452136.setBackgroundColor(null);\nviewer_16849539709452136.render();\n});\n</script>",
      "text/html": [
       "<div id=\"3dmolviewer_16849539709452136\"  style=\"position: relative; width: 1000px; height: 500px;\">\n",
       "        <p id=\"3dmolwarning_16849539709452136\" style=\"background-color:#ffcccc;color:black\">You appear to be running in JupyterLab (or JavaScript failed to load for some other reason).  You need to install the 3dmol extension: <br>\n",
       "        <tt>jupyter labextension install jupyterlab_3dmol</tt></p>\n",
       "        </div>\n",
       "<script>\n",
       "\n",
       "var loadScriptAsync = function(uri){\n",
       "  return new Promise((resolve, reject) => {\n",
       "    //this is to ignore the existence of requirejs amd\n",
       "    var savedexports, savedmodule;\n",
       "    if (typeof exports !== 'undefined') savedexports = exports;\n",
       "    else exports = {}\n",
       "    if (typeof module !== 'undefined') savedmodule = module;\n",
       "    else module = {}\n",
       "\n",
       "    var tag = document.createElement('script');\n",
       "    tag.src = uri;\n",
       "    tag.async = true;\n",
       "    tag.onload = () => {\n",
       "        exports = savedexports;\n",
       "        module = savedmodule;\n",
       "        resolve();\n",
       "    };\n",
       "  var firstScriptTag = document.getElementsByTagName('script')[0];\n",
       "  firstScriptTag.parentNode.insertBefore(tag, firstScriptTag);\n",
       "});\n",
       "};\n",
       "\n",
       "if(typeof $3Dmolpromise === 'undefined') {\n",
       "$3Dmolpromise = null;\n",
       "  $3Dmolpromise = loadScriptAsync('https://cdnjs.cloudflare.com/ajax/libs/3Dmol/2.0.3/3Dmol-min.js');\n",
       "}\n",
       "\n",
       "var viewer_16849539709452136 = null;\n",
       "var warn = document.getElementById(\"3dmolwarning_16849539709452136\");\n",
       "if(warn) {\n",
       "    warn.parentNode.removeChild(warn);\n",
       "}\n",
       "$3Dmolpromise.then(function() {\n",
       "viewer_16849539709452136 = $3Dmol.createViewer(document.getElementById(\"3dmolviewer_16849539709452136\"),{backgroundColor:\"white\"});\n",
       "viewer_16849539709452136.zoomTo();\n",
       "\tviewer_16849539709452136.addModel(\"# Produced with molli package\\n@<TRIPOS>MOLECULE\\n1_7\\n68 72 0 0 0\\nSMALL\\nUSER_CHARGES\\n\\n@<TRIPOS>ATOM\\n     1 C      -0.050400     0.117000    -0.268600 C.3        1 UNL1 0.0\\n     2 C       0.705700     1.407500     0.036700 C.3        1 UNL1 0.0\\n     3 O      -0.284600     2.428500    -0.099600 O.2        1 UNL1 0.0\\n     4 C      -1.487400     1.859500    -0.005100 C.2        1 UNL1 0.0\\n     5 N      -1.461900     0.584000     0.008100 N.2        1 UNL1 0.0\\n     6 C      -2.726200     2.681400    -0.004400 C.3        1 UNL1 0.0\\n     7 C      -3.964700     1.859100     0.003900 C.2        1 UNL1 0.0\\n     8 O      -5.167500     2.428200     0.096800 O.2        1 UNL1 0.0\\n     9 C      -6.157600     1.406300    -0.034800 C.3        1 UNL1 0.0\\n    10 C      -5.401300     0.117700     0.277000 C.3        1 UNL1 0.0\\n    11 N      -3.990000     0.583600    -0.002500 N.2        1 UNL1 0.0\\n    12 C      -2.725800    -0.248700     0.005000 C.3        1 UNL1 0.0\\n    13 BR     -2.698400    -1.277600    -1.653200 Br         1 UNL1 0.0\\n    14 BR     -2.752400    -1.268600     1.668800 Br         1 UNL1 0.0\\n    15 C      -2.741300     3.552100    -1.269300 C.3        1 UNL1 0.0\\n    16 C      -2.711600     3.565500     1.251100 C.3        1 UNL1 0.0\\n    17 C      -5.970900    -1.037500    -0.550400 C.3        1 UNL1 0.0\\n    18 C      -5.697700    -2.413600     0.007400 C.ar       1 UNL1 0.0\\n    19 C      -5.211000    -3.430000    -0.827000 C.ar       1 UNL1 0.0\\n    20 C      -4.916000    -4.702600    -0.323400 C.ar       1 UNL1 0.0\\n    21 C      -5.175100    -4.980500     1.021400 C.ar       1 UNL1 0.0\\n    22 C      -5.715600    -4.002200     1.861400 C.ar       1 UNL1 0.0\\n    23 C      -5.996700    -2.731900     1.341800 C.ar       1 UNL1 0.0\\n    24 C      -6.071900    -4.344700     3.280500 C.3        1 UNL1 0.0\\n    25 C      -4.410300    -5.782600    -1.237000 C.3        1 UNL1 0.0\\n    26 C       0.519700    -1.033300     0.565100 C.3        1 UNL1 0.0\\n    27 C       0.247000    -2.414100     0.018900 C.ar       1 UNL1 0.0\\n    28 C       0.540600    -2.743100    -1.314100 C.ar       1 UNL1 0.0\\n    29 C       0.277900    -4.024600    -1.816200 C.ar       1 UNL1 0.0\\n    30 C      -0.287200    -4.987300    -0.974400 C.ar       1 UNL1 0.0\\n    31 C      -0.541100    -4.698200     0.369000 C.ar       1 UNL1 0.0\\n    32 C      -0.236400    -3.424000     0.863200 C.ar       1 UNL1 0.0\\n    33 C      -1.056900    -5.766100     1.291200 C.3        1 UNL1 0.0\\n    34 C       0.569400    -4.358000    -3.252300 C.3        1 UNL1 0.0\\n    35 H       0.002800    -0.066900    -1.347000 H          1 UNL1 0.0\\n    36 H       1.105600     1.452500     1.056100 H          1 UNL1 0.0\\n    37 H       1.520000     1.582000    -0.673200 H          1 UNL1 0.0\\n    38 H      -6.557600     1.446000    -1.054800 H          1 UNL1 0.0\\n    39 H      -6.972200     1.584000     0.674400 H          1 UNL1 0.0\\n    40 H      -5.454200    -0.060500     1.356400 H          1 UNL1 0.0\\n    41 H      -3.636900     4.182300    -1.314500 H          1 UNL1 0.0\\n    42 H      -2.731000     2.931900    -2.174000 H          1 UNL1 0.0\\n    43 H      -1.868600     4.213500    -1.315600 H          1 UNL1 0.0\\n    44 H      -1.816000     4.196300     1.290100 H          1 UNL1 0.0\\n    45 H      -2.722600     2.955300     2.162700 H          1 UNL1 0.0\\n    46 H      -3.584500     4.227400     1.289600 H          1 UNL1 0.0\\n    47 H      -7.066200    -0.948900    -0.583300 H          1 UNL1 0.0\\n    48 H      -5.642300    -0.964200    -1.593400 H          1 UNL1 0.0\\n    49 H      -5.070000    -3.254800    -1.893300 H          1 UNL1 0.0\\n    50 H      -4.989100    -5.981900     1.410200 H          1 UNL1 0.0\\n    51 H      -6.480000    -2.009500     1.997500 H          1 UNL1 0.0\\n    52 H      -7.091700    -4.738700     3.325200 H          1 UNL1 0.0\\n    53 H      -6.004700    -3.460300     3.922900 H          1 UNL1 0.0\\n    54 H      -5.382900    -5.093100     3.685900 H          1 UNL1 0.0\\n    55 H      -5.250500    -6.268300    -1.742900 H          1 UNL1 0.0\\n    56 H      -3.732300    -5.365500    -1.989400 H          1 UNL1 0.0\\n    57 H      -3.849500    -6.539700    -0.679000 H          1 UNL1 0.0\\n    58 H       1.615000    -0.944300     0.595600 H          1 UNL1 0.0\\n    59 H       0.192800    -0.952400     1.608100 H          1 UNL1 0.0\\n    60 H       1.008100    -2.021600    -1.982100 H          1 UNL1 0.0\\n    61 H      -0.493700    -5.985900    -1.359700 H          1 UNL1 0.0\\n    62 H      -0.374200    -3.240200     1.928600 H          1 UNL1 0.0\\n    63 H      -1.602300    -6.536500     0.736700 H          1 UNL1 0.0\\n    64 H      -0.223400    -6.237500     1.820500 H          1 UNL1 0.0\\n    65 H      -1.750900    -5.340300     2.023700 H          1 UNL1 0.0\\n    66 H      -0.295100    -4.108700    -3.875600 H          1 UNL1 0.0\\n    67 H       1.440200    -3.799600    -3.612300 H          1 UNL1 0.0\\n    68 H       0.795800    -5.422900    -3.370200 H          1 UNL1 0.0\\n@<TRIPOS>BOND\\n     1      1      2          1\\n     2      2      3          1\\n     3      3      4          1\\n     4      4      5          2\\n     5      5      1          1\\n     6      4      6          1\\n     7      6      7          1\\n     8      7      8          1\\n     9      8      9          1\\n    10      9     10          1\\n    11     10     11          1\\n    12     11      7          2\\n    13     11     12          1\\n    14     12      5          1\\n    15     12     13          1\\n    16     12     14          1\\n    17      6     15          1\\n    18      6     16          1\\n    19     17     18          1\\n    20     18     19         ar\\n    21     19     20         ar\\n    22     20     21         ar\\n    23     21     22         ar\\n    24     22     23         ar\\n    25     23     18         ar\\n    26     22     24          1\\n    27     20     25          1\\n    28     10     17          1\\n    29     26     27          1\\n    30     27     28         ar\\n    31     28     29         ar\\n    32     29     30         ar\\n    33     30     31         ar\\n    34     31     32         ar\\n    35     32     27         ar\\n    36     31     33          1\\n    37     29     34          1\\n    38      1     26          1\\n    39      1     35          1\\n    40      2     36          1\\n    41      2     37          1\\n    42      9     38          1\\n    43      9     39          1\\n    44     10     40          1\\n    45     15     41          1\\n    46     15     42          1\\n    47     15     43          1\\n    48     16     44          1\\n    49     16     45          1\\n    50     16     46          1\\n    51     17     47          1\\n    52     17     48          1\\n    53     19     49          1\\n    54     21     50          1\\n    55     23     51          1\\n    56     24     52          1\\n    57     24     53          1\\n    58     24     54          1\\n    59     25     55          1\\n    60     25     56          1\\n    61     25     57          1\\n    62     26     58          1\\n    63     26     59          1\\n    64     28     60          1\\n    65     30     61          1\\n    66     32     62          1\\n    67     33     63          1\\n    68     33     64          1\\n    69     33     65          1\\n    70     34     66          1\\n    71     34     67          1\\n    72     34     68          1\\n\",\"mol2\");\n",
       "\tviewer_16849539709452136.setStyle({\"stick\": {\"radius\": 0.1}, \"sphere\": {\"scale\": 0.15}});\n",
       "\tviewer_16849539709452136.setHoverable({},true,\"\\n            function(atom,viewer,event,container) {\\n                if(!atom.label) {\\n                    atom.label = viewer.addLabel(atom.elem + atom.serial, {position: atom, backgroundColor: 'mintcream', fontColor:'black'});\\n                }\\n            }\\n            \",\"\\n            function(atom,viewer) { \\n                if(atom.label) {\\n                    viewer.removeLabel(atom.label);\\n                    delete atom.label;\\n                }\\n            }\\n            \");\n",
       "\tviewer_16849539709452136.zoomTo();\n",
       "\tviewer_16849539709452136.setBackgroundColor(null);\n",
       "viewer_16849539709452136.render();\n",
       "});\n",
       "</script>"
      ]
     },
     "metadata": {},
     "output_type": "display_data"
    },
    {
     "data": {
      "text/plain": [
       "Conformer(name='1_7', formula='C28 H34 Br2 N2 O2')"
      ]
     },
     "execution_count": 42,
     "metadata": {},
     "output_type": "execute_result"
    }
   ],
   "source": [
    "clib_1_7[0][42]"
   ]
  },
  {
   "cell_type": "code",
   "execution_count": 44,
   "metadata": {},
   "outputs": [
    {
     "name": "stdout",
     "output_type": "stream",
     "text": [
      "ConformerEnsemble(name='4_8', formula='C34 H34 Br2 F12 N2 O2', n_conformers=144)\n"
     ]
    }
   ],
   "source": [
    "print(clib_4_8[0])"
   ]
  },
  {
   "cell_type": "code",
   "execution_count": null,
   "metadata": {},
   "outputs": [],
   "source": [
    "print()"
   ]
  }
 ],
 "metadata": {
  "kernelspec": {
   "display_name": "Python 3.10.6 64-bit",
   "language": "python",
   "name": "python3"
  },
  "language_info": {
   "codemirror_mode": {
    "name": "ipython",
    "version": 3
   },
   "file_extension": ".py",
   "mimetype": "text/x-python",
   "name": "python",
   "nbconvert_exporter": "python",
   "pygments_lexer": "ipython3",
   "version": "3.10.6"
  },
  "orig_nbformat": 4,
  "vscode": {
   "interpreter": {
    "hash": "916dbcbb3f70747c44a77c7bcd40155683ae19c65e1c03b4aa3499c5328201f1"
   }
  }
 },
 "nbformat": 4,
 "nbformat_minor": 2
}
