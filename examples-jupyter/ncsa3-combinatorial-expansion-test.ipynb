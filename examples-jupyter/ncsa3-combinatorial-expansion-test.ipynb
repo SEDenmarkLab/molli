{
 "cells": [
  {
   "cell_type": "code",
   "execution_count": 56,
   "metadata": {},
   "outputs": [],
   "source": [
    "import molli as ml\n",
    "import molli.visual"
   ]
  },
  {
   "cell_type": "code",
   "execution_count": 57,
   "metadata": {},
   "outputs": [],
   "source": [
    "cores = ml.files.box_cores_test_1\n",
    "subs = ml.files.box_substituents_test_1\n",
    "\n",
    "cores_parsed = ml.ftypes.CDXMLFile(cores)\n",
    "subs_parsed = ml.ftypes.CDXMLFile(subs)"
   ]
  },
  {
   "cell_type": "code",
   "execution_count": 58,
   "metadata": {},
   "outputs": [],
   "source": [
    "for label in cores_parsed.labels:\n",
    "    cores_parsed[label].add_implicit_hydrogens()\n",
    "\n",
    "core_labels = list(cores_parsed.keys())\n",
    "i = 0\n",
    "\n",
    "sub_labels = list(subs_parsed.keys())\n",
    "j = 0"
   ]
  },
  {
   "cell_type": "code",
   "execution_count": 59,
   "metadata": {},
   "outputs": [
    {
     "data": {
      "application/3dmoljs_load.v0": "<div id=\"3dmolviewer_16848833519967744\"  style=\"position: relative; width: 1000px; height: 500px;\">\n        <p id=\"3dmolwarning_16848833519967744\" style=\"background-color:#ffcccc;color:black\">You appear to be running in JupyterLab (or JavaScript failed to load for some other reason).  You need to install the 3dmol extension: <br>\n        <tt>jupyter labextension install jupyterlab_3dmol</tt></p>\n        </div>\n<script>\n\nvar loadScriptAsync = function(uri){\n  return new Promise((resolve, reject) => {\n    //this is to ignore the existence of requirejs amd\n    var savedexports, savedmodule;\n    if (typeof exports !== 'undefined') savedexports = exports;\n    else exports = {}\n    if (typeof module !== 'undefined') savedmodule = module;\n    else module = {}\n\n    var tag = document.createElement('script');\n    tag.src = uri;\n    tag.async = true;\n    tag.onload = () => {\n        exports = savedexports;\n        module = savedmodule;\n        resolve();\n    };\n  var firstScriptTag = document.getElementsByTagName('script')[0];\n  firstScriptTag.parentNode.insertBefore(tag, firstScriptTag);\n});\n};\n\nif(typeof $3Dmolpromise === 'undefined') {\n$3Dmolpromise = null;\n  $3Dmolpromise = loadScriptAsync('https://cdnjs.cloudflare.com/ajax/libs/3Dmol/2.0.3/3Dmol-min.js');\n}\n\nvar viewer_16848833519967744 = null;\nvar warn = document.getElementById(\"3dmolwarning_16848833519967744\");\nif(warn) {\n    warn.parentNode.removeChild(warn);\n}\n$3Dmolpromise.then(function() {\nviewer_16848833519967744 = $3Dmol.createViewer(document.getElementById(\"3dmolviewer_16848833519967744\"),{backgroundColor:\"white\"});\nviewer_16848833519967744.zoomTo();\n\tviewer_16848833519967744.addModel(\"# Produced with molli package\\n@<TRIPOS>MOLECULE\\n1\\n18 20 0 0 0\\nSMALL\\nUSER_CHARGES\\n\\n@<TRIPOS>ATOM\\n     1 C       2.653877    -0.900810     0.000000 C          1 UNL1 0.0\\n     2 C       3.535127     0.312731     0.000000 C          1 UNL1 0.0\\n     3 O       2.653877     1.526273     0.000000 O          1 UNL1 0.0\\n     4 C       1.226794     1.062731     0.000000 C          1 UNL1 0.0\\n     5 N       1.226794    -0.437269     0.000000 N          1 UNL1 0.0\\n     6 C      -0.072164     1.812731     0.000000 C          1 UNL1 0.0\\n     7 C      -1.371123     1.062731     0.000000 C          1 UNL1 0.0\\n     8 O      -2.798206     1.526273     0.000000 O          1 UNL1 0.0\\n     9 C      -3.679456     0.312731     0.000000 C          1 UNL1 0.0\\n    10 C      -2.798206    -0.900810     0.000000 C          1 UNL1 0.0\\n    11 N      -1.371123    -0.437269     0.000000 N          1 UNL1 0.0\\n    12 A1     -3.029977    -1.614352    -1.299453 Unknown    1 UNL1 0.0\\n    13 A1      2.885648    -1.614352     1.299453 Unknown    1 UNL1 0.0\\n    14 C      -0.072164    -1.187269     0.000000 C          1 UNL1 0.0\\n    15 Br     -0.072164    -1.187269     1.499931 Br         1 UNL1 0.0\\n    16 Br      0.677836    -2.486227     0.000000 Br         1 UNL1 0.0\\n    17 C      -0.072164     1.812731     1.500000 C          1 UNL1 0.0\\n    18 C       1.226794     2.562731     0.000000 C          1 UNL1 0.0\\n@<TRIPOS>BOND\\n     1      1      2          1\\n     2      2      3          1\\n     3      3      4          1\\n     4      4      5          2\\n     5      5      1          1\\n     6      4      6          1\\n     7      6      7          1\\n     8      7      8          1\\n     9      8      9          1\\n    10      9     10          1\\n    11     10     11          1\\n    12     11      7          2\\n    13     10     12          1\\n    14      1     13          1\\n    15     11     14          1\\n    16     14      5          1\\n    17     14     15          1\\n    18     14     16          1\\n    19      6     17          1\\n    20      6     18          1\\n\",\"mol2\");\n\tviewer_16848833519967744.setStyle({\"stick\": {\"radius\": 0.1}, \"sphere\": {\"scale\": 0.15}});\n\tviewer_16848833519967744.setHoverable({},true,\"\\n            function(atom,viewer,event,container) {\\n                if(!atom.label) {\\n                    atom.label = viewer.addLabel(atom.elem + atom.serial, {position: atom, backgroundColor: 'mintcream', fontColor:'black'});\\n                }\\n            }\\n            \",\"\\n            function(atom,viewer) { \\n                if(atom.label) {\\n                    viewer.removeLabel(atom.label);\\n                    delete atom.label;\\n                }\\n            }\\n            \");\n\tviewer_16848833519967744.zoomTo();\n\tviewer_16848833519967744.setBackgroundColor(null);\nviewer_16848833519967744.render();\n});\n</script>",
      "text/html": [
       "<div id=\"3dmolviewer_16848833519967744\"  style=\"position: relative; width: 1000px; height: 500px;\">\n",
       "        <p id=\"3dmolwarning_16848833519967744\" style=\"background-color:#ffcccc;color:black\">You appear to be running in JupyterLab (or JavaScript failed to load for some other reason).  You need to install the 3dmol extension: <br>\n",
       "        <tt>jupyter labextension install jupyterlab_3dmol</tt></p>\n",
       "        </div>\n",
       "<script>\n",
       "\n",
       "var loadScriptAsync = function(uri){\n",
       "  return new Promise((resolve, reject) => {\n",
       "    //this is to ignore the existence of requirejs amd\n",
       "    var savedexports, savedmodule;\n",
       "    if (typeof exports !== 'undefined') savedexports = exports;\n",
       "    else exports = {}\n",
       "    if (typeof module !== 'undefined') savedmodule = module;\n",
       "    else module = {}\n",
       "\n",
       "    var tag = document.createElement('script');\n",
       "    tag.src = uri;\n",
       "    tag.async = true;\n",
       "    tag.onload = () => {\n",
       "        exports = savedexports;\n",
       "        module = savedmodule;\n",
       "        resolve();\n",
       "    };\n",
       "  var firstScriptTag = document.getElementsByTagName('script')[0];\n",
       "  firstScriptTag.parentNode.insertBefore(tag, firstScriptTag);\n",
       "});\n",
       "};\n",
       "\n",
       "if(typeof $3Dmolpromise === 'undefined') {\n",
       "$3Dmolpromise = null;\n",
       "  $3Dmolpromise = loadScriptAsync('https://cdnjs.cloudflare.com/ajax/libs/3Dmol/2.0.3/3Dmol-min.js');\n",
       "}\n",
       "\n",
       "var viewer_16848833519967744 = null;\n",
       "var warn = document.getElementById(\"3dmolwarning_16848833519967744\");\n",
       "if(warn) {\n",
       "    warn.parentNode.removeChild(warn);\n",
       "}\n",
       "$3Dmolpromise.then(function() {\n",
       "viewer_16848833519967744 = $3Dmol.createViewer(document.getElementById(\"3dmolviewer_16848833519967744\"),{backgroundColor:\"white\"});\n",
       "viewer_16848833519967744.zoomTo();\n",
       "\tviewer_16848833519967744.addModel(\"# Produced with molli package\\n@<TRIPOS>MOLECULE\\n1\\n18 20 0 0 0\\nSMALL\\nUSER_CHARGES\\n\\n@<TRIPOS>ATOM\\n     1 C       2.653877    -0.900810     0.000000 C          1 UNL1 0.0\\n     2 C       3.535127     0.312731     0.000000 C          1 UNL1 0.0\\n     3 O       2.653877     1.526273     0.000000 O          1 UNL1 0.0\\n     4 C       1.226794     1.062731     0.000000 C          1 UNL1 0.0\\n     5 N       1.226794    -0.437269     0.000000 N          1 UNL1 0.0\\n     6 C      -0.072164     1.812731     0.000000 C          1 UNL1 0.0\\n     7 C      -1.371123     1.062731     0.000000 C          1 UNL1 0.0\\n     8 O      -2.798206     1.526273     0.000000 O          1 UNL1 0.0\\n     9 C      -3.679456     0.312731     0.000000 C          1 UNL1 0.0\\n    10 C      -2.798206    -0.900810     0.000000 C          1 UNL1 0.0\\n    11 N      -1.371123    -0.437269     0.000000 N          1 UNL1 0.0\\n    12 A1     -3.029977    -1.614352    -1.299453 Unknown    1 UNL1 0.0\\n    13 A1      2.885648    -1.614352     1.299453 Unknown    1 UNL1 0.0\\n    14 C      -0.072164    -1.187269     0.000000 C          1 UNL1 0.0\\n    15 Br     -0.072164    -1.187269     1.499931 Br         1 UNL1 0.0\\n    16 Br      0.677836    -2.486227     0.000000 Br         1 UNL1 0.0\\n    17 C      -0.072164     1.812731     1.500000 C          1 UNL1 0.0\\n    18 C       1.226794     2.562731     0.000000 C          1 UNL1 0.0\\n@<TRIPOS>BOND\\n     1      1      2          1\\n     2      2      3          1\\n     3      3      4          1\\n     4      4      5          2\\n     5      5      1          1\\n     6      4      6          1\\n     7      6      7          1\\n     8      7      8          1\\n     9      8      9          1\\n    10      9     10          1\\n    11     10     11          1\\n    12     11      7          2\\n    13     10     12          1\\n    14      1     13          1\\n    15     11     14          1\\n    16     14      5          1\\n    17     14     15          1\\n    18     14     16          1\\n    19      6     17          1\\n    20      6     18          1\\n\",\"mol2\");\n",
       "\tviewer_16848833519967744.setStyle({\"stick\": {\"radius\": 0.1}, \"sphere\": {\"scale\": 0.15}});\n",
       "\tviewer_16848833519967744.setHoverable({},true,\"\\n            function(atom,viewer,event,container) {\\n                if(!atom.label) {\\n                    atom.label = viewer.addLabel(atom.elem + atom.serial, {position: atom, backgroundColor: 'mintcream', fontColor:'black'});\\n                }\\n            }\\n            \",\"\\n            function(atom,viewer) { \\n                if(atom.label) {\\n                    viewer.removeLabel(atom.label);\\n                    delete atom.label;\\n                }\\n            }\\n            \");\n",
       "\tviewer_16848833519967744.zoomTo();\n",
       "\tviewer_16848833519967744.setBackgroundColor(null);\n",
       "viewer_16848833519967744.render();\n",
       "});\n",
       "</script>"
      ]
     },
     "metadata": {},
     "output_type": "display_data"
    },
    {
     "data": {
      "text/plain": [
       "Molecule(name='1', formula='C10 Br2 N2 O2 Unknown2')"
      ]
     },
     "execution_count": 59,
     "metadata": {},
     "output_type": "execute_result"
    }
   ],
   "source": [
    "current = cores_parsed[core_labels[i]]\n",
    "i = i+1\n",
    "current"
   ]
  },
  {
   "cell_type": "code",
   "execution_count": 60,
   "metadata": {},
   "outputs": [
    {
     "data": {
      "application/3dmoljs_load.v0": "<div id=\"3dmolviewer_1684883352053553\"  style=\"position: relative; width: 1000px; height: 500px;\">\n        <p id=\"3dmolwarning_1684883352053553\" style=\"background-color:#ffcccc;color:black\">You appear to be running in JupyterLab (or JavaScript failed to load for some other reason).  You need to install the 3dmol extension: <br>\n        <tt>jupyter labextension install jupyterlab_3dmol</tt></p>\n        </div>\n<script>\n\nvar loadScriptAsync = function(uri){\n  return new Promise((resolve, reject) => {\n    //this is to ignore the existence of requirejs amd\n    var savedexports, savedmodule;\n    if (typeof exports !== 'undefined') savedexports = exports;\n    else exports = {}\n    if (typeof module !== 'undefined') savedmodule = module;\n    else module = {}\n\n    var tag = document.createElement('script');\n    tag.src = uri;\n    tag.async = true;\n    tag.onload = () => {\n        exports = savedexports;\n        module = savedmodule;\n        resolve();\n    };\n  var firstScriptTag = document.getElementsByTagName('script')[0];\n  firstScriptTag.parentNode.insertBefore(tag, firstScriptTag);\n});\n};\n\nif(typeof $3Dmolpromise === 'undefined') {\n$3Dmolpromise = null;\n  $3Dmolpromise = loadScriptAsync('https://cdnjs.cloudflare.com/ajax/libs/3Dmol/2.0.3/3Dmol-min.js');\n}\n\nvar viewer_1684883352053553 = null;\nvar warn = document.getElementById(\"3dmolwarning_1684883352053553\");\nif(warn) {\n    warn.parentNode.removeChild(warn);\n}\n$3Dmolpromise.then(function() {\nviewer_1684883352053553 = $3Dmol.createViewer(document.getElementById(\"3dmolviewer_1684883352053553\"),{backgroundColor:\"white\"});\nviewer_1684883352053553.zoomTo();\n\tviewer_1684883352053553.addModel(\"# Produced with molli package\\n@<TRIPOS>MOLECULE\\n3\\n4 3 0 0 0\\nSMALL\\nUSER_CHARGES\\n\\n@<TRIPOS>ATOM\\n     1 C       0.000000     0.000000     0.000000 C          1 UNL1 0.0\\n     2 AP1    -1.298958    -0.750000     0.000000 Unknown    1 UNL1 0.0\\n     3 C       1.299018    -0.750035     0.000000 C          1 UNL1 0.0\\n     4 C       0.000000     1.500000     0.000000 C          1 UNL1 0.0\\n@<TRIPOS>BOND\\n     1      2      1          1\\n     2      1      3          1\\n     3      1      4          1\\n\",\"mol2\");\n\tviewer_1684883352053553.setStyle({\"stick\": {\"radius\": 0.1}, \"sphere\": {\"scale\": 0.15}});\n\tviewer_1684883352053553.setHoverable({},true,\"\\n            function(atom,viewer,event,container) {\\n                if(!atom.label) {\\n                    atom.label = viewer.addLabel(atom.elem + atom.serial, {position: atom, backgroundColor: 'mintcream', fontColor:'black'});\\n                }\\n            }\\n            \",\"\\n            function(atom,viewer) { \\n                if(atom.label) {\\n                    viewer.removeLabel(atom.label);\\n                    delete atom.label;\\n                }\\n            }\\n            \");\n\tviewer_1684883352053553.zoomTo();\n\tviewer_1684883352053553.setBackgroundColor(null);\nviewer_1684883352053553.render();\n});\n</script>",
      "text/html": [
       "<div id=\"3dmolviewer_1684883352053553\"  style=\"position: relative; width: 1000px; height: 500px;\">\n",
       "        <p id=\"3dmolwarning_1684883352053553\" style=\"background-color:#ffcccc;color:black\">You appear to be running in JupyterLab (or JavaScript failed to load for some other reason).  You need to install the 3dmol extension: <br>\n",
       "        <tt>jupyter labextension install jupyterlab_3dmol</tt></p>\n",
       "        </div>\n",
       "<script>\n",
       "\n",
       "var loadScriptAsync = function(uri){\n",
       "  return new Promise((resolve, reject) => {\n",
       "    //this is to ignore the existence of requirejs amd\n",
       "    var savedexports, savedmodule;\n",
       "    if (typeof exports !== 'undefined') savedexports = exports;\n",
       "    else exports = {}\n",
       "    if (typeof module !== 'undefined') savedmodule = module;\n",
       "    else module = {}\n",
       "\n",
       "    var tag = document.createElement('script');\n",
       "    tag.src = uri;\n",
       "    tag.async = true;\n",
       "    tag.onload = () => {\n",
       "        exports = savedexports;\n",
       "        module = savedmodule;\n",
       "        resolve();\n",
       "    };\n",
       "  var firstScriptTag = document.getElementsByTagName('script')[0];\n",
       "  firstScriptTag.parentNode.insertBefore(tag, firstScriptTag);\n",
       "});\n",
       "};\n",
       "\n",
       "if(typeof $3Dmolpromise === 'undefined') {\n",
       "$3Dmolpromise = null;\n",
       "  $3Dmolpromise = loadScriptAsync('https://cdnjs.cloudflare.com/ajax/libs/3Dmol/2.0.3/3Dmol-min.js');\n",
       "}\n",
       "\n",
       "var viewer_1684883352053553 = null;\n",
       "var warn = document.getElementById(\"3dmolwarning_1684883352053553\");\n",
       "if(warn) {\n",
       "    warn.parentNode.removeChild(warn);\n",
       "}\n",
       "$3Dmolpromise.then(function() {\n",
       "viewer_1684883352053553 = $3Dmol.createViewer(document.getElementById(\"3dmolviewer_1684883352053553\"),{backgroundColor:\"white\"});\n",
       "viewer_1684883352053553.zoomTo();\n",
       "\tviewer_1684883352053553.addModel(\"# Produced with molli package\\n@<TRIPOS>MOLECULE\\n3\\n4 3 0 0 0\\nSMALL\\nUSER_CHARGES\\n\\n@<TRIPOS>ATOM\\n     1 C       0.000000     0.000000     0.000000 C          1 UNL1 0.0\\n     2 AP1    -1.298958    -0.750000     0.000000 Unknown    1 UNL1 0.0\\n     3 C       1.299018    -0.750035     0.000000 C          1 UNL1 0.0\\n     4 C       0.000000     1.500000     0.000000 C          1 UNL1 0.0\\n@<TRIPOS>BOND\\n     1      2      1          1\\n     2      1      3          1\\n     3      1      4          1\\n\",\"mol2\");\n",
       "\tviewer_1684883352053553.setStyle({\"stick\": {\"radius\": 0.1}, \"sphere\": {\"scale\": 0.15}});\n",
       "\tviewer_1684883352053553.setHoverable({},true,\"\\n            function(atom,viewer,event,container) {\\n                if(!atom.label) {\\n                    atom.label = viewer.addLabel(atom.elem + atom.serial, {position: atom, backgroundColor: 'mintcream', fontColor:'black'});\\n                }\\n            }\\n            \",\"\\n            function(atom,viewer) { \\n                if(atom.label) {\\n                    viewer.removeLabel(atom.label);\\n                    delete atom.label;\\n                }\\n            }\\n            \");\n",
       "\tviewer_1684883352053553.zoomTo();\n",
       "\tviewer_1684883352053553.setBackgroundColor(null);\n",
       "viewer_1684883352053553.render();\n",
       "});\n",
       "</script>"
      ]
     },
     "metadata": {},
     "output_type": "display_data"
    },
    {
     "data": {
      "text/plain": [
       "Molecule(name='3', formula='C3 Unknown1')"
      ]
     },
     "execution_count": 60,
     "metadata": {},
     "output_type": "execute_result"
    }
   ],
   "source": [
    "current = subs_parsed[sub_labels[j]]\n",
    "j += 1\n",
    "current"
   ]
  },
  {
   "cell_type": "code",
   "execution_count": 61,
   "metadata": {},
   "outputs": [
    {
     "data": {
      "application/3dmoljs_load.v0": "<div id=\"3dmolviewer_16848833526099896\"  style=\"position: relative; width: 1000px; height: 500px;\">\n        <p id=\"3dmolwarning_16848833526099896\" style=\"background-color:#ffcccc;color:black\">You appear to be running in JupyterLab (or JavaScript failed to load for some other reason).  You need to install the 3dmol extension: <br>\n        <tt>jupyter labextension install jupyterlab_3dmol</tt></p>\n        </div>\n<script>\n\nvar loadScriptAsync = function(uri){\n  return new Promise((resolve, reject) => {\n    //this is to ignore the existence of requirejs amd\n    var savedexports, savedmodule;\n    if (typeof exports !== 'undefined') savedexports = exports;\n    else exports = {}\n    if (typeof module !== 'undefined') savedmodule = module;\n    else module = {}\n\n    var tag = document.createElement('script');\n    tag.src = uri;\n    tag.async = true;\n    tag.onload = () => {\n        exports = savedexports;\n        module = savedmodule;\n        resolve();\n    };\n  var firstScriptTag = document.getElementsByTagName('script')[0];\n  firstScriptTag.parentNode.insertBefore(tag, firstScriptTag);\n});\n};\n\nif(typeof $3Dmolpromise === 'undefined') {\n$3Dmolpromise = null;\n  $3Dmolpromise = loadScriptAsync('https://cdnjs.cloudflare.com/ajax/libs/3Dmol/2.0.3/3Dmol-min.js');\n}\n\nvar viewer_16848833526099896 = null;\nvar warn = document.getElementById(\"3dmolwarning_16848833526099896\");\nif(warn) {\n    warn.parentNode.removeChild(warn);\n}\n$3Dmolpromise.then(function() {\nviewer_16848833526099896 = $3Dmol.createViewer(document.getElementById(\"3dmolviewer_16848833526099896\"),{backgroundColor:\"white\"});\nviewer_16848833526099896.zoomTo();\n\tviewer_16848833526099896.addModel(\"# Produced with molli package\\n@<TRIPOS>MOLECULE\\nunknown\\n22 24 0 0 0\\nSMALL\\nUSER_CHARGES\\n\\n@<TRIPOS>ATOM\\n     1 C       0.000000     0.000000     0.000000 C          1 UNL1 0.0\\n     2 C       0.881250     1.213542     0.000000 C          1 UNL1 0.0\\n     3 O       0.000000     2.427083     0.000000 O          1 UNL1 0.0\\n     4 C      -1.427083     1.963542     0.000000 C          1 UNL1 0.0\\n     5 N      -1.427083     0.463542     0.000000 N          1 UNL1 0.0\\n     6 C      -2.726042     2.713542     0.000000 C          1 UNL1 0.0\\n     7 C      -4.025000     1.963542     0.000000 C          1 UNL1 0.0\\n     8 O      -5.452083     2.427083     0.000000 O          1 UNL1 0.0\\n     9 C      -6.333333     1.213542     0.000000 C          1 UNL1 0.0\\n    10 C      -5.452083     0.000000     0.000000 C          1 UNL1 0.0\\n    11 N      -4.025000     0.463542     0.000000 N          1 UNL1 0.0\\n    12 C      -2.726042    -0.286458     0.000000 C          1 UNL1 0.0\\n    13 Br     -2.726042    -0.286458     1.499931 Br         1 UNL1 0.0\\n    14 Br     -1.976042    -1.585417     0.000000 Br         1 UNL1 0.0\\n    15 C      -2.726042     2.713542     1.500000 C          1 UNL1 0.0\\n    16 C      -1.427083     3.463542     0.000000 C          1 UNL1 0.0\\n    17 C      -5.683780    -0.713314    -1.299038 C          1 UNL1 0.0\\n    18 C      -5.642181    -2.211887    -1.349523 C          1 UNL1 0.0\\n    19 C      -5.957064     0.071909    -2.547534 C          1 UNL1 0.0\\n    20 C       0.231697    -0.713314     1.299038 C          1 UNL1 0.0\\n    21 C       0.273500    -2.212314     1.334413 C          1 UNL1 0.0\\n    22 C       0.421581     0.072336     2.562643 C          1 UNL1 0.0\\n@<TRIPOS>BOND\\n     1      1      2          1\\n     2      2      3          1\\n     3      3      4          1\\n     4      4      5          2\\n     5      5      1          1\\n     6      4      6          1\\n     7      6      7          1\\n     8      7      8          1\\n     9      8      9          1\\n    10      9     10          1\\n    11     10     11          1\\n    12     11      7          2\\n    13     11     12          1\\n    14     12      5          1\\n    15     12     13          1\\n    16     12     14          1\\n    17      6     15          1\\n    18      6     16          1\\n    19     17     18          1\\n    20     17     19          1\\n    21     10     17          1\\n    22     20     21          1\\n    23     20     22          1\\n    24      1     20          1\\n\",\"mol2\");\n\tviewer_16848833526099896.setStyle({\"stick\": {\"radius\": 0.1}, \"sphere\": {\"scale\": 0.15}});\n\tviewer_16848833526099896.setHoverable({},true,\"\\n            function(atom,viewer,event,container) {\\n                if(!atom.label) {\\n                    atom.label = viewer.addLabel(atom.elem + atom.serial, {position: atom, backgroundColor: 'mintcream', fontColor:'black'});\\n                }\\n            }\\n            \",\"\\n            function(atom,viewer) { \\n                if(atom.label) {\\n                    viewer.removeLabel(atom.label);\\n                    delete atom.label;\\n                }\\n            }\\n            \");\n\tviewer_16848833526099896.zoomTo();\n\tviewer_16848833526099896.setBackgroundColor(null);\nviewer_16848833526099896.render();\n});\n</script>",
      "text/html": [
       "<div id=\"3dmolviewer_16848833526099896\"  style=\"position: relative; width: 1000px; height: 500px;\">\n",
       "        <p id=\"3dmolwarning_16848833526099896\" style=\"background-color:#ffcccc;color:black\">You appear to be running in JupyterLab (or JavaScript failed to load for some other reason).  You need to install the 3dmol extension: <br>\n",
       "        <tt>jupyter labextension install jupyterlab_3dmol</tt></p>\n",
       "        </div>\n",
       "<script>\n",
       "\n",
       "var loadScriptAsync = function(uri){\n",
       "  return new Promise((resolve, reject) => {\n",
       "    //this is to ignore the existence of requirejs amd\n",
       "    var savedexports, savedmodule;\n",
       "    if (typeof exports !== 'undefined') savedexports = exports;\n",
       "    else exports = {}\n",
       "    if (typeof module !== 'undefined') savedmodule = module;\n",
       "    else module = {}\n",
       "\n",
       "    var tag = document.createElement('script');\n",
       "    tag.src = uri;\n",
       "    tag.async = true;\n",
       "    tag.onload = () => {\n",
       "        exports = savedexports;\n",
       "        module = savedmodule;\n",
       "        resolve();\n",
       "    };\n",
       "  var firstScriptTag = document.getElementsByTagName('script')[0];\n",
       "  firstScriptTag.parentNode.insertBefore(tag, firstScriptTag);\n",
       "});\n",
       "};\n",
       "\n",
       "if(typeof $3Dmolpromise === 'undefined') {\n",
       "$3Dmolpromise = null;\n",
       "  $3Dmolpromise = loadScriptAsync('https://cdnjs.cloudflare.com/ajax/libs/3Dmol/2.0.3/3Dmol-min.js');\n",
       "}\n",
       "\n",
       "var viewer_16848833526099896 = null;\n",
       "var warn = document.getElementById(\"3dmolwarning_16848833526099896\");\n",
       "if(warn) {\n",
       "    warn.parentNode.removeChild(warn);\n",
       "}\n",
       "$3Dmolpromise.then(function() {\n",
       "viewer_16848833526099896 = $3Dmol.createViewer(document.getElementById(\"3dmolviewer_16848833526099896\"),{backgroundColor:\"white\"});\n",
       "viewer_16848833526099896.zoomTo();\n",
       "\tviewer_16848833526099896.addModel(\"# Produced with molli package\\n@<TRIPOS>MOLECULE\\nunknown\\n22 24 0 0 0\\nSMALL\\nUSER_CHARGES\\n\\n@<TRIPOS>ATOM\\n     1 C       0.000000     0.000000     0.000000 C          1 UNL1 0.0\\n     2 C       0.881250     1.213542     0.000000 C          1 UNL1 0.0\\n     3 O       0.000000     2.427083     0.000000 O          1 UNL1 0.0\\n     4 C      -1.427083     1.963542     0.000000 C          1 UNL1 0.0\\n     5 N      -1.427083     0.463542     0.000000 N          1 UNL1 0.0\\n     6 C      -2.726042     2.713542     0.000000 C          1 UNL1 0.0\\n     7 C      -4.025000     1.963542     0.000000 C          1 UNL1 0.0\\n     8 O      -5.452083     2.427083     0.000000 O          1 UNL1 0.0\\n     9 C      -6.333333     1.213542     0.000000 C          1 UNL1 0.0\\n    10 C      -5.452083     0.000000     0.000000 C          1 UNL1 0.0\\n    11 N      -4.025000     0.463542     0.000000 N          1 UNL1 0.0\\n    12 C      -2.726042    -0.286458     0.000000 C          1 UNL1 0.0\\n    13 Br     -2.726042    -0.286458     1.499931 Br         1 UNL1 0.0\\n    14 Br     -1.976042    -1.585417     0.000000 Br         1 UNL1 0.0\\n    15 C      -2.726042     2.713542     1.500000 C          1 UNL1 0.0\\n    16 C      -1.427083     3.463542     0.000000 C          1 UNL1 0.0\\n    17 C      -5.683780    -0.713314    -1.299038 C          1 UNL1 0.0\\n    18 C      -5.642181    -2.211887    -1.349523 C          1 UNL1 0.0\\n    19 C      -5.957064     0.071909    -2.547534 C          1 UNL1 0.0\\n    20 C       0.231697    -0.713314     1.299038 C          1 UNL1 0.0\\n    21 C       0.273500    -2.212314     1.334413 C          1 UNL1 0.0\\n    22 C       0.421581     0.072336     2.562643 C          1 UNL1 0.0\\n@<TRIPOS>BOND\\n     1      1      2          1\\n     2      2      3          1\\n     3      3      4          1\\n     4      4      5          2\\n     5      5      1          1\\n     6      4      6          1\\n     7      6      7          1\\n     8      7      8          1\\n     9      8      9          1\\n    10      9     10          1\\n    11     10     11          1\\n    12     11      7          2\\n    13     11     12          1\\n    14     12      5          1\\n    15     12     13          1\\n    16     12     14          1\\n    17      6     15          1\\n    18      6     16          1\\n    19     17     18          1\\n    20     17     19          1\\n    21     10     17          1\\n    22     20     21          1\\n    23     20     22          1\\n    24      1     20          1\\n\",\"mol2\");\n",
       "\tviewer_16848833526099896.setStyle({\"stick\": {\"radius\": 0.1}, \"sphere\": {\"scale\": 0.15}});\n",
       "\tviewer_16848833526099896.setHoverable({},true,\"\\n            function(atom,viewer,event,container) {\\n                if(!atom.label) {\\n                    atom.label = viewer.addLabel(atom.elem + atom.serial, {position: atom, backgroundColor: 'mintcream', fontColor:'black'});\\n                }\\n            }\\n            \",\"\\n            function(atom,viewer) { \\n                if(atom.label) {\\n                    viewer.removeLabel(atom.label);\\n                    delete atom.label;\\n                }\\n            }\\n            \");\n",
       "\tviewer_16848833526099896.zoomTo();\n",
       "\tviewer_16848833526099896.setBackgroundColor(null);\n",
       "viewer_16848833526099896.render();\n",
       "});\n",
       "</script>"
      ]
     },
     "metadata": {},
     "output_type": "display_data"
    },
    {
     "data": {
      "text/plain": [
       "Molecule(name='unknown', formula='C16 Br2 N2 O2')"
      ]
     },
     "execution_count": 61,
     "metadata": {},
     "output_type": "execute_result"
    }
   ],
   "source": [
    "combos = []\n",
    "for core in core_labels:\n",
    "    for sub in sub_labels:\n",
    "        this_core = cores_parsed[core]\n",
    "        this_sub = subs_parsed[sub]\n",
    "        a1 = next(this_core.yield_attachment_points())\n",
    "        b1 = next(this_sub.yield_attachment_points())\n",
    "        mol = ml.Molecule.join(this_core, this_sub, a1, b1, optimize_rotation=True)\n",
    "        a2 = next(mol.yield_attachment_points())    # attach sub again to 2nd core AP\n",
    "        mol = ml.Molecule.join(mol, this_sub, a2, b1, optimize_rotation=True)\n",
    "        combos.append(mol)\n",
    "\n",
    "combos[0]"
   ]
  },
  {
   "cell_type": "code",
   "execution_count": 62,
   "metadata": {},
   "outputs": [
    {
     "data": {
      "application/3dmoljs_load.v0": "<div id=\"3dmolviewer_16848833526472452\"  style=\"position: relative; width: 1000px; height: 500px;\">\n        <p id=\"3dmolwarning_16848833526472452\" style=\"background-color:#ffcccc;color:black\">You appear to be running in JupyterLab (or JavaScript failed to load for some other reason).  You need to install the 3dmol extension: <br>\n        <tt>jupyter labextension install jupyterlab_3dmol</tt></p>\n        </div>\n<script>\n\nvar loadScriptAsync = function(uri){\n  return new Promise((resolve, reject) => {\n    //this is to ignore the existence of requirejs amd\n    var savedexports, savedmodule;\n    if (typeof exports !== 'undefined') savedexports = exports;\n    else exports = {}\n    if (typeof module !== 'undefined') savedmodule = module;\n    else module = {}\n\n    var tag = document.createElement('script');\n    tag.src = uri;\n    tag.async = true;\n    tag.onload = () => {\n        exports = savedexports;\n        module = savedmodule;\n        resolve();\n    };\n  var firstScriptTag = document.getElementsByTagName('script')[0];\n  firstScriptTag.parentNode.insertBefore(tag, firstScriptTag);\n});\n};\n\nif(typeof $3Dmolpromise === 'undefined') {\n$3Dmolpromise = null;\n  $3Dmolpromise = loadScriptAsync('https://cdnjs.cloudflare.com/ajax/libs/3Dmol/2.0.3/3Dmol-min.js');\n}\n\nvar viewer_16848833526472452 = null;\nvar warn = document.getElementById(\"3dmolwarning_16848833526472452\");\nif(warn) {\n    warn.parentNode.removeChild(warn);\n}\n$3Dmolpromise.then(function() {\nviewer_16848833526472452 = $3Dmol.createViewer(document.getElementById(\"3dmolviewer_16848833526472452\"),{backgroundColor:\"white\"});\nviewer_16848833526472452.zoomTo();\n\tviewer_16848833526472452.addModel(\"# Produced with molli package\\n@<TRIPOS>MOLECULE\\nunknown\\n20 22 0 0 0\\nSMALL\\nUSER_CHARGES\\n\\n@<TRIPOS>ATOM\\n     1 C       0.000000     0.000000     0.000000 C          1 UNL1 0.0\\n     2 C       0.881250     1.213542     0.000000 C          1 UNL1 0.0\\n     3 O       0.000000     2.427083     0.000000 O          1 UNL1 0.0\\n     4 C      -1.427083     1.963542     0.000000 C          1 UNL1 0.0\\n     5 N      -1.427083     0.463542     0.000000 N          1 UNL1 0.0\\n     6 C      -2.726042     2.713542     0.000000 C          1 UNL1 0.0\\n     7 C      -4.025000     1.963542     0.000000 C          1 UNL1 0.0\\n     8 O      -5.452083     2.427083     0.000000 O          1 UNL1 0.0\\n     9 C      -6.333333     1.213542     0.000000 C          1 UNL1 0.0\\n    10 C      -5.452083     0.000000     0.000000 C          1 UNL1 0.0\\n    11 N      -4.025000     0.463542     0.000000 N          1 UNL1 0.0\\n    12 C      -2.726042    -0.286458     0.000000 C          1 UNL1 0.0\\n    13 Br     -2.726042    -0.286458     1.499931 Br         1 UNL1 0.0\\n    14 Br     -1.976042    -1.585417     0.000000 Br         1 UNL1 0.0\\n    15 C      -2.726042     2.713542     1.500000 C          1 UNL1 0.0\\n    16 C      -1.427083     3.463542     0.000000 C          1 UNL1 0.0\\n    17 C      -5.683780    -0.713314    -1.299038 C          1 UNL1 0.0\\n    18 C      -6.824038    -1.678865    -1.431414 C          1 UNL1 0.0\\n    19 C       0.231697    -0.713314     1.299038 C          1 UNL1 0.0\\n    20 C       1.420199    -1.614505     1.458150 C          1 UNL1 0.0\\n@<TRIPOS>BOND\\n     1      1      2          1\\n     2      2      3          1\\n     3      3      4          1\\n     4      4      5          2\\n     5      5      1          1\\n     6      4      6          1\\n     7      6      7          1\\n     8      7      8          1\\n     9      8      9          1\\n    10      9     10          1\\n    11     10     11          1\\n    12     11      7          2\\n    13     11     12          1\\n    14     12      5          1\\n    15     12     13          1\\n    16     12     14          1\\n    17      6     15          1\\n    18      6     16          1\\n    19     17     18          1\\n    20     10     17          1\\n    21     19     20          1\\n    22      1     19          1\\n\",\"mol2\");\n\tviewer_16848833526472452.setStyle({\"stick\": {\"radius\": 0.1}, \"sphere\": {\"scale\": 0.15}});\n\tviewer_16848833526472452.setHoverable({},true,\"\\n            function(atom,viewer,event,container) {\\n                if(!atom.label) {\\n                    atom.label = viewer.addLabel(atom.elem + atom.serial, {position: atom, backgroundColor: 'mintcream', fontColor:'black'});\\n                }\\n            }\\n            \",\"\\n            function(atom,viewer) { \\n                if(atom.label) {\\n                    viewer.removeLabel(atom.label);\\n                    delete atom.label;\\n                }\\n            }\\n            \");\n\tviewer_16848833526472452.zoomTo();\n\tviewer_16848833526472452.setBackgroundColor(null);\nviewer_16848833526472452.render();\n});\n</script>",
      "text/html": [
       "<div id=\"3dmolviewer_16848833526472452\"  style=\"position: relative; width: 1000px; height: 500px;\">\n",
       "        <p id=\"3dmolwarning_16848833526472452\" style=\"background-color:#ffcccc;color:black\">You appear to be running in JupyterLab (or JavaScript failed to load for some other reason).  You need to install the 3dmol extension: <br>\n",
       "        <tt>jupyter labextension install jupyterlab_3dmol</tt></p>\n",
       "        </div>\n",
       "<script>\n",
       "\n",
       "var loadScriptAsync = function(uri){\n",
       "  return new Promise((resolve, reject) => {\n",
       "    //this is to ignore the existence of requirejs amd\n",
       "    var savedexports, savedmodule;\n",
       "    if (typeof exports !== 'undefined') savedexports = exports;\n",
       "    else exports = {}\n",
       "    if (typeof module !== 'undefined') savedmodule = module;\n",
       "    else module = {}\n",
       "\n",
       "    var tag = document.createElement('script');\n",
       "    tag.src = uri;\n",
       "    tag.async = true;\n",
       "    tag.onload = () => {\n",
       "        exports = savedexports;\n",
       "        module = savedmodule;\n",
       "        resolve();\n",
       "    };\n",
       "  var firstScriptTag = document.getElementsByTagName('script')[0];\n",
       "  firstScriptTag.parentNode.insertBefore(tag, firstScriptTag);\n",
       "});\n",
       "};\n",
       "\n",
       "if(typeof $3Dmolpromise === 'undefined') {\n",
       "$3Dmolpromise = null;\n",
       "  $3Dmolpromise = loadScriptAsync('https://cdnjs.cloudflare.com/ajax/libs/3Dmol/2.0.3/3Dmol-min.js');\n",
       "}\n",
       "\n",
       "var viewer_16848833526472452 = null;\n",
       "var warn = document.getElementById(\"3dmolwarning_16848833526472452\");\n",
       "if(warn) {\n",
       "    warn.parentNode.removeChild(warn);\n",
       "}\n",
       "$3Dmolpromise.then(function() {\n",
       "viewer_16848833526472452 = $3Dmol.createViewer(document.getElementById(\"3dmolviewer_16848833526472452\"),{backgroundColor:\"white\"});\n",
       "viewer_16848833526472452.zoomTo();\n",
       "\tviewer_16848833526472452.addModel(\"# Produced with molli package\\n@<TRIPOS>MOLECULE\\nunknown\\n20 22 0 0 0\\nSMALL\\nUSER_CHARGES\\n\\n@<TRIPOS>ATOM\\n     1 C       0.000000     0.000000     0.000000 C          1 UNL1 0.0\\n     2 C       0.881250     1.213542     0.000000 C          1 UNL1 0.0\\n     3 O       0.000000     2.427083     0.000000 O          1 UNL1 0.0\\n     4 C      -1.427083     1.963542     0.000000 C          1 UNL1 0.0\\n     5 N      -1.427083     0.463542     0.000000 N          1 UNL1 0.0\\n     6 C      -2.726042     2.713542     0.000000 C          1 UNL1 0.0\\n     7 C      -4.025000     1.963542     0.000000 C          1 UNL1 0.0\\n     8 O      -5.452083     2.427083     0.000000 O          1 UNL1 0.0\\n     9 C      -6.333333     1.213542     0.000000 C          1 UNL1 0.0\\n    10 C      -5.452083     0.000000     0.000000 C          1 UNL1 0.0\\n    11 N      -4.025000     0.463542     0.000000 N          1 UNL1 0.0\\n    12 C      -2.726042    -0.286458     0.000000 C          1 UNL1 0.0\\n    13 Br     -2.726042    -0.286458     1.499931 Br         1 UNL1 0.0\\n    14 Br     -1.976042    -1.585417     0.000000 Br         1 UNL1 0.0\\n    15 C      -2.726042     2.713542     1.500000 C          1 UNL1 0.0\\n    16 C      -1.427083     3.463542     0.000000 C          1 UNL1 0.0\\n    17 C      -5.683780    -0.713314    -1.299038 C          1 UNL1 0.0\\n    18 C      -6.824038    -1.678865    -1.431414 C          1 UNL1 0.0\\n    19 C       0.231697    -0.713314     1.299038 C          1 UNL1 0.0\\n    20 C       1.420199    -1.614505     1.458150 C          1 UNL1 0.0\\n@<TRIPOS>BOND\\n     1      1      2          1\\n     2      2      3          1\\n     3      3      4          1\\n     4      4      5          2\\n     5      5      1          1\\n     6      4      6          1\\n     7      6      7          1\\n     8      7      8          1\\n     9      8      9          1\\n    10      9     10          1\\n    11     10     11          1\\n    12     11      7          2\\n    13     11     12          1\\n    14     12      5          1\\n    15     12     13          1\\n    16     12     14          1\\n    17      6     15          1\\n    18      6     16          1\\n    19     17     18          1\\n    20     10     17          1\\n    21     19     20          1\\n    22      1     19          1\\n\",\"mol2\");\n",
       "\tviewer_16848833526472452.setStyle({\"stick\": {\"radius\": 0.1}, \"sphere\": {\"scale\": 0.15}});\n",
       "\tviewer_16848833526472452.setHoverable({},true,\"\\n            function(atom,viewer,event,container) {\\n                if(!atom.label) {\\n                    atom.label = viewer.addLabel(atom.elem + atom.serial, {position: atom, backgroundColor: 'mintcream', fontColor:'black'});\\n                }\\n            }\\n            \",\"\\n            function(atom,viewer) { \\n                if(atom.label) {\\n                    viewer.removeLabel(atom.label);\\n                    delete atom.label;\\n                }\\n            }\\n            \");\n",
       "\tviewer_16848833526472452.zoomTo();\n",
       "\tviewer_16848833526472452.setBackgroundColor(null);\n",
       "viewer_16848833526472452.render();\n",
       "});\n",
       "</script>"
      ]
     },
     "metadata": {},
     "output_type": "display_data"
    },
    {
     "data": {
      "text/plain": [
       "Molecule(name='unknown', formula='C14 Br2 N2 O2')"
      ]
     },
     "execution_count": 62,
     "metadata": {},
     "output_type": "execute_result"
    }
   ],
   "source": [
    "combos[1]"
   ]
  },
  {
   "cell_type": "code",
   "execution_count": 63,
   "metadata": {},
   "outputs": [
    {
     "data": {
      "application/3dmoljs_load.v0": "<div id=\"3dmolviewer_1684883352732648\"  style=\"position: relative; width: 1000px; height: 500px;\">\n        <p id=\"3dmolwarning_1684883352732648\" style=\"background-color:#ffcccc;color:black\">You appear to be running in JupyterLab (or JavaScript failed to load for some other reason).  You need to install the 3dmol extension: <br>\n        <tt>jupyter labextension install jupyterlab_3dmol</tt></p>\n        </div>\n<script>\n\nvar loadScriptAsync = function(uri){\n  return new Promise((resolve, reject) => {\n    //this is to ignore the existence of requirejs amd\n    var savedexports, savedmodule;\n    if (typeof exports !== 'undefined') savedexports = exports;\n    else exports = {}\n    if (typeof module !== 'undefined') savedmodule = module;\n    else module = {}\n\n    var tag = document.createElement('script');\n    tag.src = uri;\n    tag.async = true;\n    tag.onload = () => {\n        exports = savedexports;\n        module = savedmodule;\n        resolve();\n    };\n  var firstScriptTag = document.getElementsByTagName('script')[0];\n  firstScriptTag.parentNode.insertBefore(tag, firstScriptTag);\n});\n};\n\nif(typeof $3Dmolpromise === 'undefined') {\n$3Dmolpromise = null;\n  $3Dmolpromise = loadScriptAsync('https://cdnjs.cloudflare.com/ajax/libs/3Dmol/2.0.3/3Dmol-min.js');\n}\n\nvar viewer_1684883352732648 = null;\nvar warn = document.getElementById(\"3dmolwarning_1684883352732648\");\nif(warn) {\n    warn.parentNode.removeChild(warn);\n}\n$3Dmolpromise.then(function() {\nviewer_1684883352732648 = $3Dmol.createViewer(document.getElementById(\"3dmolviewer_1684883352732648\"),{backgroundColor:\"white\"});\nviewer_1684883352732648.zoomTo();\n\tviewer_1684883352732648.addModel(\"# Produced with molli package\\n@<TRIPOS>MOLECULE\\nunknown\\n62 70 0 0 0\\nSMALL\\nUSER_CHARGES\\n\\n@<TRIPOS>ATOM\\n     1 C       0.000000     0.000000     0.000000 C          1 UNL1 0.0\\n     2 C       0.881250     1.213542     0.000000 C          1 UNL1 0.0\\n     3 O       0.000000     2.427083     0.000000 O          1 UNL1 0.0\\n     4 C      -1.427083     1.963542     0.000000 C          1 UNL1 0.0\\n     5 N      -1.427083     0.463542     0.000000 N          1 UNL1 0.0\\n     6 C      -2.726042     2.713542     0.000000 C          1 UNL1 0.0\\n     7 C      -4.025000     1.963542     0.000000 C          1 UNL1 0.0\\n     8 O      -5.452083     2.427083     0.000000 O          1 UNL1 0.0\\n     9 C      -6.333333     1.213542     0.000000 C          1 UNL1 0.0\\n    10 C      -5.452083     0.000000     0.000000 C          1 UNL1 0.0\\n    11 N      -4.025000     0.463542     0.000000 N          1 UNL1 0.0\\n    12 C      -2.726042    -0.286458     0.000000 C          1 UNL1 0.0\\n    13 Br     -2.726042    -0.286458     1.499931 Br         1 UNL1 0.0\\n    14 Br     -1.976042    -1.585417     0.000000 Br         1 UNL1 0.0\\n    15 C      -2.726042     2.713542     1.500000 C          1 UNL1 0.0\\n    16 C      -1.427083     3.463542     0.000000 C          1 UNL1 0.0\\n    17 C      -7.014550     2.549934     0.000000 C          1 UNL1 0.0\\n    18 C      -7.353792     3.215451    -1.295562 C          1 UNL1 0.0\\n    19 C      -8.032926     4.547759    -1.296036 C          1 UNL1 0.0\\n    20 C      -8.372182     5.213302    -0.001401 C          1 UNL1 0.0\\n    21 C      -8.033146     4.548190     1.292760 C          1 UNL1 0.0\\n    22 C      -7.354227     3.216303     1.294161 C          1 UNL1 0.0\\n    23 C       1.561639     2.550355     0.000000 C          1 UNL1 0.0\\n    24 C       1.900595     3.216329    -1.294617 C          1 UNL1 0.0\\n    25 C       2.578690     4.548635    -1.295073 C          1 UNL1 0.0\\n    26 C       2.917830     5.214969    -0.000912 C          1 UNL1 0.0\\n    27 C       2.578874     4.548995     1.293705 C          1 UNL1 0.0\\n    28 C       1.901200     3.217516     1.294633 C          1 UNL1 0.0\\n    29 C      -6.333333     1.213542     1.500000 C          1 UNL1 0.0\\n    30 C      -6.950866     0.075309     2.246735 C          1 UNL1 0.0\\n    31 C      -6.951126     0.074830     3.742053 C          1 UNL1 0.0\\n    32 C      -6.334016     1.212282     4.489204 C          1 UNL1 0.0\\n    33 C      -5.716484     2.350515     3.742469 C          1 UNL1 0.0\\n    34 C      -5.716484     2.350515     2.248039 C          1 UNL1 0.0\\n    35 C       0.881250     1.213542     1.500000 C          1 UNL1 0.0\\n    36 C       1.985483     0.537278     2.247814 C          1 UNL1 0.0\\n    37 C       1.985019     0.537562     3.742588 C          1 UNL1 0.0\\n    38 C       0.881080     1.213646     4.490092 C          1 UNL1 0.0\\n    39 C      -0.222395     1.889446     3.742823 C          1 UNL1 0.0\\n    40 C      -0.222689     1.889625     2.247504 C          1 UNL1 0.0\\n    41 C      -5.683780    -0.713314    -1.299038 C          1 UNL1 0.0\\n    42 C      -6.300142    -2.080744    -1.304141 C          1 UNL1 0.0\\n    43 C      -6.684818    -2.734893    -0.010266 C          1 UNL1 0.0\\n    44 C      -7.301180    -4.102323    -0.015368 C          1 UNL1 0.0\\n    45 C      -7.532866    -4.815604    -1.314347 C          1 UNL1 0.0\\n    46 C      -7.148190    -4.161455    -2.608222 C          1 UNL1 0.0\\n    47 C      -6.531828    -2.794025    -2.603119 C          1 UNL1 0.0\\n    48 C      -8.149256    -6.183097    -1.319450 C          1 UNL1 0.0\\n    49 C      -9.509397    -5.569096    -1.413707 C          1 UNL1 0.0\\n    50 C      -8.764788    -7.545228    -1.324625 C          1 UNL1 0.0\\n    51 C      -6.790566    -6.796860    -1.225284 C          1 UNL1 0.0\\n    52 C       0.231697    -0.713314     1.299038 C          1 UNL1 0.0\\n    53 C       0.924062    -2.043834     1.310853 C          1 UNL1 0.0\\n    54 C       1.384741    -2.661073     0.023689 C          1 UNL1 0.0\\n    55 C       2.077106    -3.991593     0.035503 C          1 UNL1 0.0\\n    56 C       2.308792    -4.704874     1.334481 C          1 UNL1 0.0\\n    57 C       1.848113    -4.087635     2.621645 C          1 UNL1 0.0\\n    58 C       1.155748    -2.757115     2.609831 C          1 UNL1 0.0\\n    59 C       3.001189    -6.035455     1.346296 C          1 UNL1 0.0\\n    60 C       4.320836    -5.346896     1.488717 C          1 UNL1 0.0\\n    61 C       3.692424    -7.360733     1.358206 C          1 UNL1 0.0\\n    62 C       1.682975    -6.723697     1.204014 C          1 UNL1 0.0\\n@<TRIPOS>BOND\\n     1      1      2          1\\n     2      2      3          1\\n     3      3      4          1\\n     4      4      5          2\\n     5      5      1          1\\n     6      4      6          1\\n     7      6      7          1\\n     8      7      8          1\\n     9      8      9          1\\n    10      9     10          1\\n    11     10     11          1\\n    12     11      7          2\\n    13     11     12          1\\n    14     12      5          1\\n    15     12     13          1\\n    16     12     14          1\\n    17      6     15          1\\n    18      6     16          1\\n    19     21     22          2\\n    20     20     21          1\\n    21     19     20          2\\n    22     18     19          1\\n    23     17     18          2\\n    24     17     22          1\\n    25      9     17          1\\n    26     27     28          2\\n    27     26     27          1\\n    28     25     26          2\\n    29     24     25          1\\n    30     23     24          2\\n    31     23     28          1\\n    32      2     23          1\\n    33     33     34          2\\n    34     32     33          1\\n    35     31     32          2\\n    36     30     31          1\\n    37     29     30          2\\n    38     29     34          1\\n    39      9     29          1\\n    40     39     40          2\\n    41     38     39          1\\n    42     37     38          2\\n    43     36     37          1\\n    44     35     36          2\\n    45     35     40          1\\n    46      2     35          1\\n    47     41     42          1\\n    48     42     43          2\\n    49     43     44          1\\n    50     44     45          2\\n    51     45     46          1\\n    52     46     47          2\\n    53     47     42          1\\n    54     48     49          1\\n    55     48     50          1\\n    56     48     51          1\\n    57     45     48          1\\n    58     10     41          1\\n    59     52     53          1\\n    60     53     54          2\\n    61     54     55          1\\n    62     55     56          2\\n    63     56     57          1\\n    64     57     58          2\\n    65     58     53          1\\n    66     59     60          1\\n    67     59     61          1\\n    68     59     62          1\\n    69     56     59          1\\n    70      1     52          1\\n\",\"mol2\");\n\tviewer_1684883352732648.setStyle({\"stick\": {\"radius\": 0.1}, \"sphere\": {\"scale\": 0.15}});\n\tviewer_1684883352732648.setHoverable({},true,\"\\n            function(atom,viewer,event,container) {\\n                if(!atom.label) {\\n                    atom.label = viewer.addLabel(atom.elem + atom.serial, {position: atom, backgroundColor: 'mintcream', fontColor:'black'});\\n                }\\n            }\\n            \",\"\\n            function(atom,viewer) { \\n                if(atom.label) {\\n                    viewer.removeLabel(atom.label);\\n                    delete atom.label;\\n                }\\n            }\\n            \");\n\tviewer_1684883352732648.zoomTo();\n\tviewer_1684883352732648.setBackgroundColor(null);\nviewer_1684883352732648.render();\n});\n</script>",
      "text/html": [
       "<div id=\"3dmolviewer_1684883352732648\"  style=\"position: relative; width: 1000px; height: 500px;\">\n",
       "        <p id=\"3dmolwarning_1684883352732648\" style=\"background-color:#ffcccc;color:black\">You appear to be running in JupyterLab (or JavaScript failed to load for some other reason).  You need to install the 3dmol extension: <br>\n",
       "        <tt>jupyter labextension install jupyterlab_3dmol</tt></p>\n",
       "        </div>\n",
       "<script>\n",
       "\n",
       "var loadScriptAsync = function(uri){\n",
       "  return new Promise((resolve, reject) => {\n",
       "    //this is to ignore the existence of requirejs amd\n",
       "    var savedexports, savedmodule;\n",
       "    if (typeof exports !== 'undefined') savedexports = exports;\n",
       "    else exports = {}\n",
       "    if (typeof module !== 'undefined') savedmodule = module;\n",
       "    else module = {}\n",
       "\n",
       "    var tag = document.createElement('script');\n",
       "    tag.src = uri;\n",
       "    tag.async = true;\n",
       "    tag.onload = () => {\n",
       "        exports = savedexports;\n",
       "        module = savedmodule;\n",
       "        resolve();\n",
       "    };\n",
       "  var firstScriptTag = document.getElementsByTagName('script')[0];\n",
       "  firstScriptTag.parentNode.insertBefore(tag, firstScriptTag);\n",
       "});\n",
       "};\n",
       "\n",
       "if(typeof $3Dmolpromise === 'undefined') {\n",
       "$3Dmolpromise = null;\n",
       "  $3Dmolpromise = loadScriptAsync('https://cdnjs.cloudflare.com/ajax/libs/3Dmol/2.0.3/3Dmol-min.js');\n",
       "}\n",
       "\n",
       "var viewer_1684883352732648 = null;\n",
       "var warn = document.getElementById(\"3dmolwarning_1684883352732648\");\n",
       "if(warn) {\n",
       "    warn.parentNode.removeChild(warn);\n",
       "}\n",
       "$3Dmolpromise.then(function() {\n",
       "viewer_1684883352732648 = $3Dmol.createViewer(document.getElementById(\"3dmolviewer_1684883352732648\"),{backgroundColor:\"white\"});\n",
       "viewer_1684883352732648.zoomTo();\n",
       "\tviewer_1684883352732648.addModel(\"# Produced with molli package\\n@<TRIPOS>MOLECULE\\nunknown\\n62 70 0 0 0\\nSMALL\\nUSER_CHARGES\\n\\n@<TRIPOS>ATOM\\n     1 C       0.000000     0.000000     0.000000 C          1 UNL1 0.0\\n     2 C       0.881250     1.213542     0.000000 C          1 UNL1 0.0\\n     3 O       0.000000     2.427083     0.000000 O          1 UNL1 0.0\\n     4 C      -1.427083     1.963542     0.000000 C          1 UNL1 0.0\\n     5 N      -1.427083     0.463542     0.000000 N          1 UNL1 0.0\\n     6 C      -2.726042     2.713542     0.000000 C          1 UNL1 0.0\\n     7 C      -4.025000     1.963542     0.000000 C          1 UNL1 0.0\\n     8 O      -5.452083     2.427083     0.000000 O          1 UNL1 0.0\\n     9 C      -6.333333     1.213542     0.000000 C          1 UNL1 0.0\\n    10 C      -5.452083     0.000000     0.000000 C          1 UNL1 0.0\\n    11 N      -4.025000     0.463542     0.000000 N          1 UNL1 0.0\\n    12 C      -2.726042    -0.286458     0.000000 C          1 UNL1 0.0\\n    13 Br     -2.726042    -0.286458     1.499931 Br         1 UNL1 0.0\\n    14 Br     -1.976042    -1.585417     0.000000 Br         1 UNL1 0.0\\n    15 C      -2.726042     2.713542     1.500000 C          1 UNL1 0.0\\n    16 C      -1.427083     3.463542     0.000000 C          1 UNL1 0.0\\n    17 C      -7.014550     2.549934     0.000000 C          1 UNL1 0.0\\n    18 C      -7.353792     3.215451    -1.295562 C          1 UNL1 0.0\\n    19 C      -8.032926     4.547759    -1.296036 C          1 UNL1 0.0\\n    20 C      -8.372182     5.213302    -0.001401 C          1 UNL1 0.0\\n    21 C      -8.033146     4.548190     1.292760 C          1 UNL1 0.0\\n    22 C      -7.354227     3.216303     1.294161 C          1 UNL1 0.0\\n    23 C       1.561639     2.550355     0.000000 C          1 UNL1 0.0\\n    24 C       1.900595     3.216329    -1.294617 C          1 UNL1 0.0\\n    25 C       2.578690     4.548635    -1.295073 C          1 UNL1 0.0\\n    26 C       2.917830     5.214969    -0.000912 C          1 UNL1 0.0\\n    27 C       2.578874     4.548995     1.293705 C          1 UNL1 0.0\\n    28 C       1.901200     3.217516     1.294633 C          1 UNL1 0.0\\n    29 C      -6.333333     1.213542     1.500000 C          1 UNL1 0.0\\n    30 C      -6.950866     0.075309     2.246735 C          1 UNL1 0.0\\n    31 C      -6.951126     0.074830     3.742053 C          1 UNL1 0.0\\n    32 C      -6.334016     1.212282     4.489204 C          1 UNL1 0.0\\n    33 C      -5.716484     2.350515     3.742469 C          1 UNL1 0.0\\n    34 C      -5.716484     2.350515     2.248039 C          1 UNL1 0.0\\n    35 C       0.881250     1.213542     1.500000 C          1 UNL1 0.0\\n    36 C       1.985483     0.537278     2.247814 C          1 UNL1 0.0\\n    37 C       1.985019     0.537562     3.742588 C          1 UNL1 0.0\\n    38 C       0.881080     1.213646     4.490092 C          1 UNL1 0.0\\n    39 C      -0.222395     1.889446     3.742823 C          1 UNL1 0.0\\n    40 C      -0.222689     1.889625     2.247504 C          1 UNL1 0.0\\n    41 C      -5.683780    -0.713314    -1.299038 C          1 UNL1 0.0\\n    42 C      -6.300142    -2.080744    -1.304141 C          1 UNL1 0.0\\n    43 C      -6.684818    -2.734893    -0.010266 C          1 UNL1 0.0\\n    44 C      -7.301180    -4.102323    -0.015368 C          1 UNL1 0.0\\n    45 C      -7.532866    -4.815604    -1.314347 C          1 UNL1 0.0\\n    46 C      -7.148190    -4.161455    -2.608222 C          1 UNL1 0.0\\n    47 C      -6.531828    -2.794025    -2.603119 C          1 UNL1 0.0\\n    48 C      -8.149256    -6.183097    -1.319450 C          1 UNL1 0.0\\n    49 C      -9.509397    -5.569096    -1.413707 C          1 UNL1 0.0\\n    50 C      -8.764788    -7.545228    -1.324625 C          1 UNL1 0.0\\n    51 C      -6.790566    -6.796860    -1.225284 C          1 UNL1 0.0\\n    52 C       0.231697    -0.713314     1.299038 C          1 UNL1 0.0\\n    53 C       0.924062    -2.043834     1.310853 C          1 UNL1 0.0\\n    54 C       1.384741    -2.661073     0.023689 C          1 UNL1 0.0\\n    55 C       2.077106    -3.991593     0.035503 C          1 UNL1 0.0\\n    56 C       2.308792    -4.704874     1.334481 C          1 UNL1 0.0\\n    57 C       1.848113    -4.087635     2.621645 C          1 UNL1 0.0\\n    58 C       1.155748    -2.757115     2.609831 C          1 UNL1 0.0\\n    59 C       3.001189    -6.035455     1.346296 C          1 UNL1 0.0\\n    60 C       4.320836    -5.346896     1.488717 C          1 UNL1 0.0\\n    61 C       3.692424    -7.360733     1.358206 C          1 UNL1 0.0\\n    62 C       1.682975    -6.723697     1.204014 C          1 UNL1 0.0\\n@<TRIPOS>BOND\\n     1      1      2          1\\n     2      2      3          1\\n     3      3      4          1\\n     4      4      5          2\\n     5      5      1          1\\n     6      4      6          1\\n     7      6      7          1\\n     8      7      8          1\\n     9      8      9          1\\n    10      9     10          1\\n    11     10     11          1\\n    12     11      7          2\\n    13     11     12          1\\n    14     12      5          1\\n    15     12     13          1\\n    16     12     14          1\\n    17      6     15          1\\n    18      6     16          1\\n    19     21     22          2\\n    20     20     21          1\\n    21     19     20          2\\n    22     18     19          1\\n    23     17     18          2\\n    24     17     22          1\\n    25      9     17          1\\n    26     27     28          2\\n    27     26     27          1\\n    28     25     26          2\\n    29     24     25          1\\n    30     23     24          2\\n    31     23     28          1\\n    32      2     23          1\\n    33     33     34          2\\n    34     32     33          1\\n    35     31     32          2\\n    36     30     31          1\\n    37     29     30          2\\n    38     29     34          1\\n    39      9     29          1\\n    40     39     40          2\\n    41     38     39          1\\n    42     37     38          2\\n    43     36     37          1\\n    44     35     36          2\\n    45     35     40          1\\n    46      2     35          1\\n    47     41     42          1\\n    48     42     43          2\\n    49     43     44          1\\n    50     44     45          2\\n    51     45     46          1\\n    52     46     47          2\\n    53     47     42          1\\n    54     48     49          1\\n    55     48     50          1\\n    56     48     51          1\\n    57     45     48          1\\n    58     10     41          1\\n    59     52     53          1\\n    60     53     54          2\\n    61     54     55          1\\n    62     55     56          2\\n    63     56     57          1\\n    64     57     58          2\\n    65     58     53          1\\n    66     59     60          1\\n    67     59     61          1\\n    68     59     62          1\\n    69     56     59          1\\n    70      1     52          1\\n\",\"mol2\");\n",
       "\tviewer_1684883352732648.setStyle({\"stick\": {\"radius\": 0.1}, \"sphere\": {\"scale\": 0.15}});\n",
       "\tviewer_1684883352732648.setHoverable({},true,\"\\n            function(atom,viewer,event,container) {\\n                if(!atom.label) {\\n                    atom.label = viewer.addLabel(atom.elem + atom.serial, {position: atom, backgroundColor: 'mintcream', fontColor:'black'});\\n                }\\n            }\\n            \",\"\\n            function(atom,viewer) { \\n                if(atom.label) {\\n                    viewer.removeLabel(atom.label);\\n                    delete atom.label;\\n                }\\n            }\\n            \");\n",
       "\tviewer_1684883352732648.zoomTo();\n",
       "\tviewer_1684883352732648.setBackgroundColor(null);\n",
       "viewer_1684883352732648.render();\n",
       "});\n",
       "</script>"
      ]
     },
     "metadata": {},
     "output_type": "display_data"
    },
    {
     "data": {
      "text/plain": [
       "Molecule(name='unknown', formula='C56 Br2 N2 O2')"
      ]
     },
     "execution_count": 63,
     "metadata": {},
     "output_type": "execute_result"
    }
   ],
   "source": [
    "len(combos)\n",
    "combos[74]"
   ]
  },
  {
   "cell_type": "code",
   "execution_count": 67,
   "metadata": {},
   "outputs": [
    {
     "data": {
      "text/plain": [
       "75"
      ]
     },
     "execution_count": 67,
     "metadata": {},
     "output_type": "execute_result"
    }
   ],
   "source": [
    "len(combos)"
   ]
  },
  {
   "cell_type": "code",
   "execution_count": 64,
   "metadata": {},
   "outputs": [],
   "source": [
    "import os\n",
    "if not os.path.exists('out_combinatorial/'):\n",
    "    os.makedirs('out_combinatorial/')\n",
    "\n",
    "make_lib = ml.MoleculeLibrary.new('out_combinatorial/combinatorial_lib.mlib')\n"
   ]
  },
  {
   "cell_type": "code",
   "execution_count": 65,
   "metadata": {},
   "outputs": [],
   "source": [
    "new_lib = ml.MoleculeLibrary('out_combinatorial/combinatorial_lib.mlib')\n",
    "new_lib.open(False)\n",
    "for mol in combos:\n",
    "    new_lib.append(mol.name, mol)"
   ]
  },
  {
   "cell_type": "code",
   "execution_count": 68,
   "metadata": {},
   "outputs": [],
   "source": [
    "new_lib.close()"
   ]
  },
  {
   "cell_type": "code",
   "execution_count": 69,
   "metadata": {},
   "outputs": [
    {
     "data": {
      "text/plain": [
       "75"
      ]
     },
     "execution_count": 69,
     "metadata": {},
     "output_type": "execute_result"
    }
   ],
   "source": [
    "len(new_lib)"
   ]
  },
  {
   "cell_type": "code",
   "execution_count": 70,
   "metadata": {},
   "outputs": [
    {
     "data": {
      "text/plain": [
       "75"
      ]
     },
     "execution_count": 70,
     "metadata": {},
     "output_type": "execute_result"
    }
   ],
   "source": [
    "check_lib = ml.MoleculeLibrary('out_combinatorial/combinatorial_lib.mlib')\n",
    "len(check_lib)"
   ]
  },
  {
   "cell_type": "code",
   "execution_count": 71,
   "metadata": {},
   "outputs": [
    {
     "data": {
      "application/3dmoljs_load.v0": "<div id=\"3dmolviewer_1684883550028941\"  style=\"position: relative; width: 1000px; height: 500px;\">\n        <p id=\"3dmolwarning_1684883550028941\" style=\"background-color:#ffcccc;color:black\">You appear to be running in JupyterLab (or JavaScript failed to load for some other reason).  You need to install the 3dmol extension: <br>\n        <tt>jupyter labextension install jupyterlab_3dmol</tt></p>\n        </div>\n<script>\n\nvar loadScriptAsync = function(uri){\n  return new Promise((resolve, reject) => {\n    //this is to ignore the existence of requirejs amd\n    var savedexports, savedmodule;\n    if (typeof exports !== 'undefined') savedexports = exports;\n    else exports = {}\n    if (typeof module !== 'undefined') savedmodule = module;\n    else module = {}\n\n    var tag = document.createElement('script');\n    tag.src = uri;\n    tag.async = true;\n    tag.onload = () => {\n        exports = savedexports;\n        module = savedmodule;\n        resolve();\n    };\n  var firstScriptTag = document.getElementsByTagName('script')[0];\n  firstScriptTag.parentNode.insertBefore(tag, firstScriptTag);\n});\n};\n\nif(typeof $3Dmolpromise === 'undefined') {\n$3Dmolpromise = null;\n  $3Dmolpromise = loadScriptAsync('https://cdnjs.cloudflare.com/ajax/libs/3Dmol/2.0.3/3Dmol-min.js');\n}\n\nvar viewer_1684883550028941 = null;\nvar warn = document.getElementById(\"3dmolwarning_1684883550028941\");\nif(warn) {\n    warn.parentNode.removeChild(warn);\n}\n$3Dmolpromise.then(function() {\nviewer_1684883550028941 = $3Dmol.createViewer(document.getElementById(\"3dmolviewer_1684883550028941\"),{backgroundColor:\"white\"});\nviewer_1684883550028941.zoomTo();\n\tviewer_1684883550028941.addModel(\"# Produced with molli package\\n@<TRIPOS>MOLECULE\\nunknown\\n36 40 0 0 0\\nSMALL\\nUSER_CHARGES\\n\\n@<TRIPOS>ATOM\\n     1 C       0.000000     0.000000     0.000000 C          1 UNL1 0.0\\n     2 C       0.879167     1.209375     0.000000 C          1 UNL1 0.0\\n     3 O       0.000000     2.418750     0.000000 O          1 UNL1 0.0\\n     4 C      -1.421875     1.957292     0.000000 C          1 UNL1 0.0\\n     5 N      -1.421875     0.462500     0.000000 N          1 UNL1 0.0\\n     6 C      -2.716667     2.704167     0.000000 C          1 UNL1 0.0\\n     7 C      -4.010417     1.957292     0.000000 C          1 UNL1 0.0\\n     8 O      -5.433333     2.418750     0.000000 O          1 UNL1 0.0\\n     9 C      -6.311458     1.209375     0.000000 C          1 UNL1 0.0\\n    10 C      -5.433333     0.000000     0.000000 C          1 UNL1 0.0\\n    11 N      -4.010417     0.462500     0.000000 N          1 UNL1 0.0\\n    12 C      -2.716667    -0.285417     0.000000 C          1 UNL1 0.0\\n    13 Br     -2.716667    -0.285417     1.494760 Br         1 UNL1 0.0\\n    14 Br     -1.968750    -1.580208     0.000000 Br         1 UNL1 0.0\\n    15 C      -2.716667     2.704167     1.494760 C          1 UNL1 0.0\\n    16 C      -1.968750     3.998958     0.000000 C          1 UNL1 0.0\\n    17 C      -7.061458     1.209375    -1.299038 C          1 UNL1 0.0\\n    18 C      -6.464583     1.856250    -2.506061 C          1 UNL1 0.0\\n    19 C      -8.405990     0.561979    -1.385190 C          1 UNL1 0.0\\n    20 C       1.629167     1.209375     1.299038 C          1 UNL1 0.0\\n    21 C       2.973698     0.561979     1.385190 C          1 UNL1 0.0\\n    22 C       1.031510     1.856771     2.506512 C          1 UNL1 0.0\\n    23 C      -5.665006    -0.713322    -1.299038 C          1 UNL1 0.0\\n    24 C      -6.281377    -2.080748    -1.304145 C          1 UNL1 0.0\\n    25 C      -6.666086    -2.734885    -0.010273 C          1 UNL1 0.0\\n    26 C      -7.282456    -4.102311    -0.015380 C          1 UNL1 0.0\\n    27 C      -7.514458    -4.816434    -1.314881 C          1 UNL1 0.0\\n    28 C      -7.129749    -4.162297    -2.608753 C          1 UNL1 0.0\\n    29 C      -6.513039    -2.794036    -2.603123 C          1 UNL1 0.0\\n    30 C       0.232146    -0.713168     1.299038 C          1 UNL1 0.0\\n    31 C       0.924651    -2.043616     1.310777 C          1 UNL1 0.0\\n    32 C       1.385021    -2.660929     0.023539 C          1 UNL1 0.0\\n    33 C       2.077526    -3.991377     0.035278 C          1 UNL1 0.0\\n    34 C       2.310032    -4.705331     1.334782 C          1 UNL1 0.0\\n    35 C       1.849661    -4.088018     2.622021 C          1 UNL1 0.0\\n    36 C       1.156785    -2.756751     2.609756 C          1 UNL1 0.0\\n@<TRIPOS>BOND\\n     1      1      2          1\\n     2      2      3          1\\n     3      3      4          1\\n     4      4      5          2\\n     5      5      1          1\\n     6      4      6          1\\n     7      6      7          1\\n     8      7      8          1\\n     9      8      9          1\\n    10      9     10          1\\n    11     10     11          1\\n    12     11      7          2\\n    13     11     12          1\\n    14     12      5          1\\n    15     12     13          1\\n    16     12     14          1\\n    17      6     15          1\\n    18      6     16          1\\n    19     17     18          1\\n    20     17     19          1\\n    21      9     17          1\\n    22     20     21          1\\n    23     20     22          1\\n    24      2     20          1\\n    25     23     24          1\\n    26     24     25          2\\n    27     25     26          1\\n    28     26     27          2\\n    29     27     28          1\\n    30     28     29          2\\n    31     29     24          1\\n    32     10     23          1\\n    33     30     31          1\\n    34     31     32          2\\n    35     32     33          1\\n    36     33     34          2\\n    37     34     35          1\\n    38     35     36          2\\n    39     36     31          1\\n    40      1     30          1\\n\",\"mol2\");\n\tviewer_1684883550028941.setStyle({\"stick\": {\"radius\": 0.1}, \"sphere\": {\"scale\": 0.15}});\n\tviewer_1684883550028941.setHoverable({},true,\"\\n            function(atom,viewer,event,container) {\\n                if(!atom.label) {\\n                    atom.label = viewer.addLabel(atom.elem + atom.serial, {position: atom, backgroundColor: 'mintcream', fontColor:'black'});\\n                }\\n            }\\n            \",\"\\n            function(atom,viewer) { \\n                if(atom.label) {\\n                    viewer.removeLabel(atom.label);\\n                    delete atom.label;\\n                }\\n            }\\n            \");\n\tviewer_1684883550028941.zoomTo();\n\tviewer_1684883550028941.setBackgroundColor(null);\nviewer_1684883550028941.render();\n});\n</script>",
      "text/html": [
       "<div id=\"3dmolviewer_1684883550028941\"  style=\"position: relative; width: 1000px; height: 500px;\">\n",
       "        <p id=\"3dmolwarning_1684883550028941\" style=\"background-color:#ffcccc;color:black\">You appear to be running in JupyterLab (or JavaScript failed to load for some other reason).  You need to install the 3dmol extension: <br>\n",
       "        <tt>jupyter labextension install jupyterlab_3dmol</tt></p>\n",
       "        </div>\n",
       "<script>\n",
       "\n",
       "var loadScriptAsync = function(uri){\n",
       "  return new Promise((resolve, reject) => {\n",
       "    //this is to ignore the existence of requirejs amd\n",
       "    var savedexports, savedmodule;\n",
       "    if (typeof exports !== 'undefined') savedexports = exports;\n",
       "    else exports = {}\n",
       "    if (typeof module !== 'undefined') savedmodule = module;\n",
       "    else module = {}\n",
       "\n",
       "    var tag = document.createElement('script');\n",
       "    tag.src = uri;\n",
       "    tag.async = true;\n",
       "    tag.onload = () => {\n",
       "        exports = savedexports;\n",
       "        module = savedmodule;\n",
       "        resolve();\n",
       "    };\n",
       "  var firstScriptTag = document.getElementsByTagName('script')[0];\n",
       "  firstScriptTag.parentNode.insertBefore(tag, firstScriptTag);\n",
       "});\n",
       "};\n",
       "\n",
       "if(typeof $3Dmolpromise === 'undefined') {\n",
       "$3Dmolpromise = null;\n",
       "  $3Dmolpromise = loadScriptAsync('https://cdnjs.cloudflare.com/ajax/libs/3Dmol/2.0.3/3Dmol-min.js');\n",
       "}\n",
       "\n",
       "var viewer_1684883550028941 = null;\n",
       "var warn = document.getElementById(\"3dmolwarning_1684883550028941\");\n",
       "if(warn) {\n",
       "    warn.parentNode.removeChild(warn);\n",
       "}\n",
       "$3Dmolpromise.then(function() {\n",
       "viewer_1684883550028941 = $3Dmol.createViewer(document.getElementById(\"3dmolviewer_1684883550028941\"),{backgroundColor:\"white\"});\n",
       "viewer_1684883550028941.zoomTo();\n",
       "\tviewer_1684883550028941.addModel(\"# Produced with molli package\\n@<TRIPOS>MOLECULE\\nunknown\\n36 40 0 0 0\\nSMALL\\nUSER_CHARGES\\n\\n@<TRIPOS>ATOM\\n     1 C       0.000000     0.000000     0.000000 C          1 UNL1 0.0\\n     2 C       0.879167     1.209375     0.000000 C          1 UNL1 0.0\\n     3 O       0.000000     2.418750     0.000000 O          1 UNL1 0.0\\n     4 C      -1.421875     1.957292     0.000000 C          1 UNL1 0.0\\n     5 N      -1.421875     0.462500     0.000000 N          1 UNL1 0.0\\n     6 C      -2.716667     2.704167     0.000000 C          1 UNL1 0.0\\n     7 C      -4.010417     1.957292     0.000000 C          1 UNL1 0.0\\n     8 O      -5.433333     2.418750     0.000000 O          1 UNL1 0.0\\n     9 C      -6.311458     1.209375     0.000000 C          1 UNL1 0.0\\n    10 C      -5.433333     0.000000     0.000000 C          1 UNL1 0.0\\n    11 N      -4.010417     0.462500     0.000000 N          1 UNL1 0.0\\n    12 C      -2.716667    -0.285417     0.000000 C          1 UNL1 0.0\\n    13 Br     -2.716667    -0.285417     1.494760 Br         1 UNL1 0.0\\n    14 Br     -1.968750    -1.580208     0.000000 Br         1 UNL1 0.0\\n    15 C      -2.716667     2.704167     1.494760 C          1 UNL1 0.0\\n    16 C      -1.968750     3.998958     0.000000 C          1 UNL1 0.0\\n    17 C      -7.061458     1.209375    -1.299038 C          1 UNL1 0.0\\n    18 C      -6.464583     1.856250    -2.506061 C          1 UNL1 0.0\\n    19 C      -8.405990     0.561979    -1.385190 C          1 UNL1 0.0\\n    20 C       1.629167     1.209375     1.299038 C          1 UNL1 0.0\\n    21 C       2.973698     0.561979     1.385190 C          1 UNL1 0.0\\n    22 C       1.031510     1.856771     2.506512 C          1 UNL1 0.0\\n    23 C      -5.665006    -0.713322    -1.299038 C          1 UNL1 0.0\\n    24 C      -6.281377    -2.080748    -1.304145 C          1 UNL1 0.0\\n    25 C      -6.666086    -2.734885    -0.010273 C          1 UNL1 0.0\\n    26 C      -7.282456    -4.102311    -0.015380 C          1 UNL1 0.0\\n    27 C      -7.514458    -4.816434    -1.314881 C          1 UNL1 0.0\\n    28 C      -7.129749    -4.162297    -2.608753 C          1 UNL1 0.0\\n    29 C      -6.513039    -2.794036    -2.603123 C          1 UNL1 0.0\\n    30 C       0.232146    -0.713168     1.299038 C          1 UNL1 0.0\\n    31 C       0.924651    -2.043616     1.310777 C          1 UNL1 0.0\\n    32 C       1.385021    -2.660929     0.023539 C          1 UNL1 0.0\\n    33 C       2.077526    -3.991377     0.035278 C          1 UNL1 0.0\\n    34 C       2.310032    -4.705331     1.334782 C          1 UNL1 0.0\\n    35 C       1.849661    -4.088018     2.622021 C          1 UNL1 0.0\\n    36 C       1.156785    -2.756751     2.609756 C          1 UNL1 0.0\\n@<TRIPOS>BOND\\n     1      1      2          1\\n     2      2      3          1\\n     3      3      4          1\\n     4      4      5          2\\n     5      5      1          1\\n     6      4      6          1\\n     7      6      7          1\\n     8      7      8          1\\n     9      8      9          1\\n    10      9     10          1\\n    11     10     11          1\\n    12     11      7          2\\n    13     11     12          1\\n    14     12      5          1\\n    15     12     13          1\\n    16     12     14          1\\n    17      6     15          1\\n    18      6     16          1\\n    19     17     18          1\\n    20     17     19          1\\n    21      9     17          1\\n    22     20     21          1\\n    23     20     22          1\\n    24      2     20          1\\n    25     23     24          1\\n    26     24     25          2\\n    27     25     26          1\\n    28     26     27          2\\n    29     27     28          1\\n    30     28     29          2\\n    31     29     24          1\\n    32     10     23          1\\n    33     30     31          1\\n    34     31     32          2\\n    35     32     33          1\\n    36     33     34          2\\n    37     34     35          1\\n    38     35     36          2\\n    39     36     31          1\\n    40      1     30          1\\n\",\"mol2\");\n",
       "\tviewer_1684883550028941.setStyle({\"stick\": {\"radius\": 0.1}, \"sphere\": {\"scale\": 0.15}});\n",
       "\tviewer_1684883550028941.setHoverable({},true,\"\\n            function(atom,viewer,event,container) {\\n                if(!atom.label) {\\n                    atom.label = viewer.addLabel(atom.elem + atom.serial, {position: atom, backgroundColor: 'mintcream', fontColor:'black'});\\n                }\\n            }\\n            \",\"\\n            function(atom,viewer) { \\n                if(atom.label) {\\n                    viewer.removeLabel(atom.label);\\n                    delete atom.label;\\n                }\\n            }\\n            \");\n",
       "\tviewer_1684883550028941.zoomTo();\n",
       "\tviewer_1684883550028941.setBackgroundColor(null);\n",
       "viewer_1684883550028941.render();\n",
       "});\n",
       "</script>"
      ]
     },
     "metadata": {},
     "output_type": "display_data"
    },
    {
     "data": {
      "text/plain": [
       "Molecule(name='unknown', formula='C30 Br2 N2 O2')"
      ]
     },
     "execution_count": 71,
     "metadata": {},
     "output_type": "execute_result"
    }
   ],
   "source": [
    "check_lib[42]"
   ]
  }
 ],
 "metadata": {
  "kernelspec": {
   "display_name": "NCSA-workflow-dev",
   "language": "python",
   "name": "python3"
  },
  "language_info": {
   "codemirror_mode": {
    "name": "ipython",
    "version": 3
   },
   "file_extension": ".py",
   "mimetype": "text/x-python",
   "name": "python",
   "nbconvert_exporter": "python",
   "pygments_lexer": "ipython3",
   "version": "3.10.11"
  },
  "orig_nbformat": 4
 },
 "nbformat": 4,
 "nbformat_minor": 2
}
