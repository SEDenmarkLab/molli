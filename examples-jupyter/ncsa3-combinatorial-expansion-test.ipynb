{
 "cells": [
  {
   "cell_type": "code",
   "execution_count": 83,
   "metadata": {},
   "outputs": [],
   "source": [
    "import molli as ml\n",
    "import molli.visual"
   ]
  },
  {
   "cell_type": "code",
   "execution_count": 84,
   "metadata": {},
   "outputs": [],
   "source": [
    "cores = ml.files.box_cores_test_1\n",
    "subs = ml.files.box_substituents_test_1\n",
    "\n",
    "cores_parsed = ml.ftypes.CDXMLFile(cores)\n",
    "subs_parsed = ml.ftypes.CDXMLFile(subs)"
   ]
  },
  {
   "cell_type": "code",
   "execution_count": 85,
   "metadata": {},
   "outputs": [],
   "source": [
    "for label in cores_parsed.labels:\n",
    "    cores_parsed[label].add_implicit_hydrogens()\n",
    "\n",
    "core_labels = list(cores_parsed.keys())\n",
    "i = 0\n",
    "\n",
    "sub_labels = list(subs_parsed.keys())\n",
    "j = 0"
   ]
  },
  {
   "cell_type": "code",
   "execution_count": 86,
   "metadata": {},
   "outputs": [
    {
     "data": {
      "application/3dmoljs_load.v0": "<div id=\"3dmolviewer_16847983180251153\"  style=\"position: relative; width: 1000px; height: 500px;\">\n        <p id=\"3dmolwarning_16847983180251153\" style=\"background-color:#ffcccc;color:black\">You appear to be running in JupyterLab (or JavaScript failed to load for some other reason).  You need to install the 3dmol extension: <br>\n        <tt>jupyter labextension install jupyterlab_3dmol</tt></p>\n        </div>\n<script>\n\nvar loadScriptAsync = function(uri){\n  return new Promise((resolve, reject) => {\n    //this is to ignore the existence of requirejs amd\n    var savedexports, savedmodule;\n    if (typeof exports !== 'undefined') savedexports = exports;\n    else exports = {}\n    if (typeof module !== 'undefined') savedmodule = module;\n    else module = {}\n\n    var tag = document.createElement('script');\n    tag.src = uri;\n    tag.async = true;\n    tag.onload = () => {\n        exports = savedexports;\n        module = savedmodule;\n        resolve();\n    };\n  var firstScriptTag = document.getElementsByTagName('script')[0];\n  firstScriptTag.parentNode.insertBefore(tag, firstScriptTag);\n});\n};\n\nif(typeof $3Dmolpromise === 'undefined') {\n$3Dmolpromise = null;\n  $3Dmolpromise = loadScriptAsync('https://cdnjs.cloudflare.com/ajax/libs/3Dmol/2.0.3/3Dmol-min.js');\n}\n\nvar viewer_16847983180251153 = null;\nvar warn = document.getElementById(\"3dmolwarning_16847983180251153\");\nif(warn) {\n    warn.parentNode.removeChild(warn);\n}\n$3Dmolpromise.then(function() {\nviewer_16847983180251153 = $3Dmol.createViewer(document.getElementById(\"3dmolviewer_16847983180251153\"),{backgroundColor:\"white\"});\nviewer_16847983180251153.zoomTo();\n\tviewer_16847983180251153.addModel(\"# Produced with molli package\\n@<TRIPOS>MOLECULE\\n1\\n18 20 0 0 0\\nSMALL\\nUSER_CHARGES\\n\\n@<TRIPOS>ATOM\\n     1 C       2.653877    -0.900810     0.000000 C          1 UNL1 0.0\\n     2 C       3.535127     0.312731     0.000000 C          1 UNL1 0.0\\n     3 O       2.653877     1.526273     0.000000 O          1 UNL1 0.0\\n     4 C       1.226794     1.062731     0.000000 C          1 UNL1 0.0\\n     5 N       1.226794    -0.437269     0.000000 N          1 UNL1 0.0\\n     6 C      -0.072164     1.812731     0.000000 C          1 UNL1 0.0\\n     7 C      -1.371123     1.062731     0.000000 C          1 UNL1 0.0\\n     8 O      -2.798206     1.526273     0.000000 O          1 UNL1 0.0\\n     9 C      -3.679456     0.312731     0.000000 C          1 UNL1 0.0\\n    10 C      -2.798206    -0.900810     0.000000 C          1 UNL1 0.0\\n    11 N      -1.371123    -0.437269     0.000000 N          1 UNL1 0.0\\n    12 A1     -3.029977    -1.614352    -1.299453 Unknown    1 UNL1 0.0\\n    13 A1      2.885648    -1.614352     1.299453 Unknown    1 UNL1 0.0\\n    14 C      -0.072164    -1.187269     0.000000 C          1 UNL1 0.0\\n    15 Br     -0.072164    -1.187269     1.499931 Br         1 UNL1 0.0\\n    16 Br      0.677836    -2.486227     0.000000 Br         1 UNL1 0.0\\n    17 C      -0.072164     1.812731     1.500000 C          1 UNL1 0.0\\n    18 C       1.226794     2.562731     0.000000 C          1 UNL1 0.0\\n@<TRIPOS>BOND\\n     1      1      2          1\\n     2      2      3          1\\n     3      3      4          1\\n     4      4      5          2\\n     5      5      1          1\\n     6      4      6          1\\n     7      6      7          1\\n     8      7      8          1\\n     9      8      9          1\\n    10      9     10          1\\n    11     10     11          1\\n    12     11      7          2\\n    13     10     12          1\\n    14      1     13          1\\n    15     11     14          1\\n    16     14      5          1\\n    17     14     15          1\\n    18     14     16          1\\n    19      6     17          1\\n    20      6     18          1\\n\",\"mol2\");\n\tviewer_16847983180251153.setStyle({\"stick\": {\"radius\": 0.1}, \"sphere\": {\"scale\": 0.15}});\n\tviewer_16847983180251153.setHoverable({},true,\"\\n            function(atom,viewer,event,container) {\\n                if(!atom.label) {\\n                    atom.label = viewer.addLabel(atom.elem + atom.serial, {position: atom, backgroundColor: 'mintcream', fontColor:'black'});\\n                }\\n            }\\n            \",\"\\n            function(atom,viewer) { \\n                if(atom.label) {\\n                    viewer.removeLabel(atom.label);\\n                    delete atom.label;\\n                }\\n            }\\n            \");\n\tviewer_16847983180251153.zoomTo();\n\tviewer_16847983180251153.setBackgroundColor(null);\nviewer_16847983180251153.render();\n});\n</script>",
      "text/html": [
       "<div id=\"3dmolviewer_16847983180251153\"  style=\"position: relative; width: 1000px; height: 500px;\">\n",
       "        <p id=\"3dmolwarning_16847983180251153\" style=\"background-color:#ffcccc;color:black\">You appear to be running in JupyterLab (or JavaScript failed to load for some other reason).  You need to install the 3dmol extension: <br>\n",
       "        <tt>jupyter labextension install jupyterlab_3dmol</tt></p>\n",
       "        </div>\n",
       "<script>\n",
       "\n",
       "var loadScriptAsync = function(uri){\n",
       "  return new Promise((resolve, reject) => {\n",
       "    //this is to ignore the existence of requirejs amd\n",
       "    var savedexports, savedmodule;\n",
       "    if (typeof exports !== 'undefined') savedexports = exports;\n",
       "    else exports = {}\n",
       "    if (typeof module !== 'undefined') savedmodule = module;\n",
       "    else module = {}\n",
       "\n",
       "    var tag = document.createElement('script');\n",
       "    tag.src = uri;\n",
       "    tag.async = true;\n",
       "    tag.onload = () => {\n",
       "        exports = savedexports;\n",
       "        module = savedmodule;\n",
       "        resolve();\n",
       "    };\n",
       "  var firstScriptTag = document.getElementsByTagName('script')[0];\n",
       "  firstScriptTag.parentNode.insertBefore(tag, firstScriptTag);\n",
       "});\n",
       "};\n",
       "\n",
       "if(typeof $3Dmolpromise === 'undefined') {\n",
       "$3Dmolpromise = null;\n",
       "  $3Dmolpromise = loadScriptAsync('https://cdnjs.cloudflare.com/ajax/libs/3Dmol/2.0.3/3Dmol-min.js');\n",
       "}\n",
       "\n",
       "var viewer_16847983180251153 = null;\n",
       "var warn = document.getElementById(\"3dmolwarning_16847983180251153\");\n",
       "if(warn) {\n",
       "    warn.parentNode.removeChild(warn);\n",
       "}\n",
       "$3Dmolpromise.then(function() {\n",
       "viewer_16847983180251153 = $3Dmol.createViewer(document.getElementById(\"3dmolviewer_16847983180251153\"),{backgroundColor:\"white\"});\n",
       "viewer_16847983180251153.zoomTo();\n",
       "\tviewer_16847983180251153.addModel(\"# Produced with molli package\\n@<TRIPOS>MOLECULE\\n1\\n18 20 0 0 0\\nSMALL\\nUSER_CHARGES\\n\\n@<TRIPOS>ATOM\\n     1 C       2.653877    -0.900810     0.000000 C          1 UNL1 0.0\\n     2 C       3.535127     0.312731     0.000000 C          1 UNL1 0.0\\n     3 O       2.653877     1.526273     0.000000 O          1 UNL1 0.0\\n     4 C       1.226794     1.062731     0.000000 C          1 UNL1 0.0\\n     5 N       1.226794    -0.437269     0.000000 N          1 UNL1 0.0\\n     6 C      -0.072164     1.812731     0.000000 C          1 UNL1 0.0\\n     7 C      -1.371123     1.062731     0.000000 C          1 UNL1 0.0\\n     8 O      -2.798206     1.526273     0.000000 O          1 UNL1 0.0\\n     9 C      -3.679456     0.312731     0.000000 C          1 UNL1 0.0\\n    10 C      -2.798206    -0.900810     0.000000 C          1 UNL1 0.0\\n    11 N      -1.371123    -0.437269     0.000000 N          1 UNL1 0.0\\n    12 A1     -3.029977    -1.614352    -1.299453 Unknown    1 UNL1 0.0\\n    13 A1      2.885648    -1.614352     1.299453 Unknown    1 UNL1 0.0\\n    14 C      -0.072164    -1.187269     0.000000 C          1 UNL1 0.0\\n    15 Br     -0.072164    -1.187269     1.499931 Br         1 UNL1 0.0\\n    16 Br      0.677836    -2.486227     0.000000 Br         1 UNL1 0.0\\n    17 C      -0.072164     1.812731     1.500000 C          1 UNL1 0.0\\n    18 C       1.226794     2.562731     0.000000 C          1 UNL1 0.0\\n@<TRIPOS>BOND\\n     1      1      2          1\\n     2      2      3          1\\n     3      3      4          1\\n     4      4      5          2\\n     5      5      1          1\\n     6      4      6          1\\n     7      6      7          1\\n     8      7      8          1\\n     9      8      9          1\\n    10      9     10          1\\n    11     10     11          1\\n    12     11      7          2\\n    13     10     12          1\\n    14      1     13          1\\n    15     11     14          1\\n    16     14      5          1\\n    17     14     15          1\\n    18     14     16          1\\n    19      6     17          1\\n    20      6     18          1\\n\",\"mol2\");\n",
       "\tviewer_16847983180251153.setStyle({\"stick\": {\"radius\": 0.1}, \"sphere\": {\"scale\": 0.15}});\n",
       "\tviewer_16847983180251153.setHoverable({},true,\"\\n            function(atom,viewer,event,container) {\\n                if(!atom.label) {\\n                    atom.label = viewer.addLabel(atom.elem + atom.serial, {position: atom, backgroundColor: 'mintcream', fontColor:'black'});\\n                }\\n            }\\n            \",\"\\n            function(atom,viewer) { \\n                if(atom.label) {\\n                    viewer.removeLabel(atom.label);\\n                    delete atom.label;\\n                }\\n            }\\n            \");\n",
       "\tviewer_16847983180251153.zoomTo();\n",
       "\tviewer_16847983180251153.setBackgroundColor(null);\n",
       "viewer_16847983180251153.render();\n",
       "});\n",
       "</script>"
      ]
     },
     "metadata": {},
     "output_type": "display_data"
    },
    {
     "data": {
      "text/plain": [
       "Molecule(name='1', formula='C10 Br2 N2 O2 Unknown2')"
      ]
     },
     "execution_count": 86,
     "metadata": {},
     "output_type": "execute_result"
    }
   ],
   "source": [
    "current = cores_parsed[core_labels[i]]\n",
    "i = i+1\n",
    "current"
   ]
  },
  {
   "cell_type": "code",
   "execution_count": 87,
   "metadata": {},
   "outputs": [
    {
     "data": {
      "application/3dmoljs_load.v0": "<div id=\"3dmolviewer_16847983180976229\"  style=\"position: relative; width: 1000px; height: 500px;\">\n        <p id=\"3dmolwarning_16847983180976229\" style=\"background-color:#ffcccc;color:black\">You appear to be running in JupyterLab (or JavaScript failed to load for some other reason).  You need to install the 3dmol extension: <br>\n        <tt>jupyter labextension install jupyterlab_3dmol</tt></p>\n        </div>\n<script>\n\nvar loadScriptAsync = function(uri){\n  return new Promise((resolve, reject) => {\n    //this is to ignore the existence of requirejs amd\n    var savedexports, savedmodule;\n    if (typeof exports !== 'undefined') savedexports = exports;\n    else exports = {}\n    if (typeof module !== 'undefined') savedmodule = module;\n    else module = {}\n\n    var tag = document.createElement('script');\n    tag.src = uri;\n    tag.async = true;\n    tag.onload = () => {\n        exports = savedexports;\n        module = savedmodule;\n        resolve();\n    };\n  var firstScriptTag = document.getElementsByTagName('script')[0];\n  firstScriptTag.parentNode.insertBefore(tag, firstScriptTag);\n});\n};\n\nif(typeof $3Dmolpromise === 'undefined') {\n$3Dmolpromise = null;\n  $3Dmolpromise = loadScriptAsync('https://cdnjs.cloudflare.com/ajax/libs/3Dmol/2.0.3/3Dmol-min.js');\n}\n\nvar viewer_16847983180976229 = null;\nvar warn = document.getElementById(\"3dmolwarning_16847983180976229\");\nif(warn) {\n    warn.parentNode.removeChild(warn);\n}\n$3Dmolpromise.then(function() {\nviewer_16847983180976229 = $3Dmol.createViewer(document.getElementById(\"3dmolviewer_16847983180976229\"),{backgroundColor:\"white\"});\nviewer_16847983180976229.zoomTo();\n\tviewer_16847983180976229.addModel(\"# Produced with molli package\\n@<TRIPOS>MOLECULE\\n3\\n4 3 0 0 0\\nSMALL\\nUSER_CHARGES\\n\\n@<TRIPOS>ATOM\\n     1 C       0.000000     0.000000     0.000000 C          1 UNL1 0.0\\n     2 AP1    -1.298958    -0.750000     0.000000 Unknown    1 UNL1 0.0\\n     3 C       1.299018    -0.750035     0.000000 C          1 UNL1 0.0\\n     4 C       0.000000     1.500000     0.000000 C          1 UNL1 0.0\\n@<TRIPOS>BOND\\n     1      2      1          1\\n     2      1      3          1\\n     3      1      4          1\\n\",\"mol2\");\n\tviewer_16847983180976229.setStyle({\"stick\": {\"radius\": 0.1}, \"sphere\": {\"scale\": 0.15}});\n\tviewer_16847983180976229.setHoverable({},true,\"\\n            function(atom,viewer,event,container) {\\n                if(!atom.label) {\\n                    atom.label = viewer.addLabel(atom.elem + atom.serial, {position: atom, backgroundColor: 'mintcream', fontColor:'black'});\\n                }\\n            }\\n            \",\"\\n            function(atom,viewer) { \\n                if(atom.label) {\\n                    viewer.removeLabel(atom.label);\\n                    delete atom.label;\\n                }\\n            }\\n            \");\n\tviewer_16847983180976229.zoomTo();\n\tviewer_16847983180976229.setBackgroundColor(null);\nviewer_16847983180976229.render();\n});\n</script>",
      "text/html": [
       "<div id=\"3dmolviewer_16847983180976229\"  style=\"position: relative; width: 1000px; height: 500px;\">\n",
       "        <p id=\"3dmolwarning_16847983180976229\" style=\"background-color:#ffcccc;color:black\">You appear to be running in JupyterLab (or JavaScript failed to load for some other reason).  You need to install the 3dmol extension: <br>\n",
       "        <tt>jupyter labextension install jupyterlab_3dmol</tt></p>\n",
       "        </div>\n",
       "<script>\n",
       "\n",
       "var loadScriptAsync = function(uri){\n",
       "  return new Promise((resolve, reject) => {\n",
       "    //this is to ignore the existence of requirejs amd\n",
       "    var savedexports, savedmodule;\n",
       "    if (typeof exports !== 'undefined') savedexports = exports;\n",
       "    else exports = {}\n",
       "    if (typeof module !== 'undefined') savedmodule = module;\n",
       "    else module = {}\n",
       "\n",
       "    var tag = document.createElement('script');\n",
       "    tag.src = uri;\n",
       "    tag.async = true;\n",
       "    tag.onload = () => {\n",
       "        exports = savedexports;\n",
       "        module = savedmodule;\n",
       "        resolve();\n",
       "    };\n",
       "  var firstScriptTag = document.getElementsByTagName('script')[0];\n",
       "  firstScriptTag.parentNode.insertBefore(tag, firstScriptTag);\n",
       "});\n",
       "};\n",
       "\n",
       "if(typeof $3Dmolpromise === 'undefined') {\n",
       "$3Dmolpromise = null;\n",
       "  $3Dmolpromise = loadScriptAsync('https://cdnjs.cloudflare.com/ajax/libs/3Dmol/2.0.3/3Dmol-min.js');\n",
       "}\n",
       "\n",
       "var viewer_16847983180976229 = null;\n",
       "var warn = document.getElementById(\"3dmolwarning_16847983180976229\");\n",
       "if(warn) {\n",
       "    warn.parentNode.removeChild(warn);\n",
       "}\n",
       "$3Dmolpromise.then(function() {\n",
       "viewer_16847983180976229 = $3Dmol.createViewer(document.getElementById(\"3dmolviewer_16847983180976229\"),{backgroundColor:\"white\"});\n",
       "viewer_16847983180976229.zoomTo();\n",
       "\tviewer_16847983180976229.addModel(\"# Produced with molli package\\n@<TRIPOS>MOLECULE\\n3\\n4 3 0 0 0\\nSMALL\\nUSER_CHARGES\\n\\n@<TRIPOS>ATOM\\n     1 C       0.000000     0.000000     0.000000 C          1 UNL1 0.0\\n     2 AP1    -1.298958    -0.750000     0.000000 Unknown    1 UNL1 0.0\\n     3 C       1.299018    -0.750035     0.000000 C          1 UNL1 0.0\\n     4 C       0.000000     1.500000     0.000000 C          1 UNL1 0.0\\n@<TRIPOS>BOND\\n     1      2      1          1\\n     2      1      3          1\\n     3      1      4          1\\n\",\"mol2\");\n",
       "\tviewer_16847983180976229.setStyle({\"stick\": {\"radius\": 0.1}, \"sphere\": {\"scale\": 0.15}});\n",
       "\tviewer_16847983180976229.setHoverable({},true,\"\\n            function(atom,viewer,event,container) {\\n                if(!atom.label) {\\n                    atom.label = viewer.addLabel(atom.elem + atom.serial, {position: atom, backgroundColor: 'mintcream', fontColor:'black'});\\n                }\\n            }\\n            \",\"\\n            function(atom,viewer) { \\n                if(atom.label) {\\n                    viewer.removeLabel(atom.label);\\n                    delete atom.label;\\n                }\\n            }\\n            \");\n",
       "\tviewer_16847983180976229.zoomTo();\n",
       "\tviewer_16847983180976229.setBackgroundColor(null);\n",
       "viewer_16847983180976229.render();\n",
       "});\n",
       "</script>"
      ]
     },
     "metadata": {},
     "output_type": "display_data"
    },
    {
     "data": {
      "text/plain": [
       "Molecule(name='3', formula='C3 Unknown1')"
      ]
     },
     "execution_count": 87,
     "metadata": {},
     "output_type": "execute_result"
    }
   ],
   "source": [
    "current = subs_parsed[sub_labels[j]]\n",
    "j += 1\n",
    "current"
   ]
  },
  {
   "cell_type": "code",
   "execution_count": 93,
   "metadata": {},
   "outputs": [
    {
     "data": {
      "application/3dmoljs_load.v0": "<div id=\"3dmolviewer_16847998887442305\"  style=\"position: relative; width: 1000px; height: 500px;\">\n        <p id=\"3dmolwarning_16847998887442305\" style=\"background-color:#ffcccc;color:black\">You appear to be running in JupyterLab (or JavaScript failed to load for some other reason).  You need to install the 3dmol extension: <br>\n        <tt>jupyter labextension install jupyterlab_3dmol</tt></p>\n        </div>\n<script>\n\nvar loadScriptAsync = function(uri){\n  return new Promise((resolve, reject) => {\n    //this is to ignore the existence of requirejs amd\n    var savedexports, savedmodule;\n    if (typeof exports !== 'undefined') savedexports = exports;\n    else exports = {}\n    if (typeof module !== 'undefined') savedmodule = module;\n    else module = {}\n\n    var tag = document.createElement('script');\n    tag.src = uri;\n    tag.async = true;\n    tag.onload = () => {\n        exports = savedexports;\n        module = savedmodule;\n        resolve();\n    };\n  var firstScriptTag = document.getElementsByTagName('script')[0];\n  firstScriptTag.parentNode.insertBefore(tag, firstScriptTag);\n});\n};\n\nif(typeof $3Dmolpromise === 'undefined') {\n$3Dmolpromise = null;\n  $3Dmolpromise = loadScriptAsync('https://cdnjs.cloudflare.com/ajax/libs/3Dmol/2.0.3/3Dmol-min.js');\n}\n\nvar viewer_16847998887442305 = null;\nvar warn = document.getElementById(\"3dmolwarning_16847998887442305\");\nif(warn) {\n    warn.parentNode.removeChild(warn);\n}\n$3Dmolpromise.then(function() {\nviewer_16847998887442305 = $3Dmol.createViewer(document.getElementById(\"3dmolviewer_16847998887442305\"),{backgroundColor:\"white\"});\nviewer_16847998887442305.zoomTo();\n\tviewer_16847998887442305.addModel(\"# Produced with molli package\\n@<TRIPOS>MOLECULE\\nunknown\\n39 41 0 0 0\\nSMALL\\nUSER_CHARGES\\n\\n@<TRIPOS>ATOM\\n     1 C       5.452083     0.000000     0.000000 C          1 UNL1 0.0\\n     2 C       6.333333     1.213542     0.000000 C          1 UNL1 0.0\\n     3 O       5.452083     2.427083     0.000000 O          1 UNL1 0.0\\n     4 C       4.025000     1.963542     0.000000 C          1 UNL1 0.0\\n     5 N       4.025000     0.463542     0.000000 N          1 UNL1 0.0\\n     6 C       2.726042     2.713542     0.000000 C          1 UNL1 0.0\\n     7 C       1.427083     1.963542     0.000000 C          1 UNL1 0.0\\n     8 O       0.000000     2.427083     0.000000 O          1 UNL1 0.0\\n     9 C      -0.881250     1.213542     0.000000 C          1 UNL1 0.0\\n    10 C       0.000000     0.000000     0.000000 C          1 UNL1 0.0\\n    11 N       1.427083     0.463542     0.000000 N          1 UNL1 0.0\\n    12 A1      5.683854    -0.713542     1.299453 Unknown    1 UNL1 0.0\\n    13 C       2.726042    -0.286458     0.000000 C          1 UNL1 0.0\\n    14 Br      2.726042    -0.286458     1.499931 Br         1 UNL1 0.0\\n    15 Br      3.476042    -1.585417     0.000000 Br         1 UNL1 0.0\\n    16 C       2.726042     2.713542     1.500000 C          1 UNL1 0.0\\n    17 C       4.025000     3.463542     0.000000 C          1 UNL1 0.0\\n    18 C      -0.231697    -0.713314    -1.299038 C          1 UNL1 0.0\\n    19 C      -0.190097    -2.211887    -1.349523 C          1 UNL1 0.0\\n    20 C      -0.504981     0.071909    -2.547534 C          1 UNL1 0.0\\n    21 H       5.658031    -0.633862    -0.837080 H          1 UNL1 0.0\\n    22 H       6.947085     1.213542     0.876544 H          1 UNL1 0.0\\n    23 H       6.947085     1.213542    -0.876544 H          1 UNL1 0.0\\n    24 H      -1.495002     1.213542     0.876544 H          1 UNL1 0.0\\n    25 H      -1.495002     1.213542    -0.876544 H          1 UNL1 0.0\\n    26 H      -0.205926    -0.633796     0.837137 H          1 UNL1 0.0\\n    27 H       2.669260     1.706335     1.856667 H          1 UNL1 0.0\\n    28 H       1.882166     3.266320     1.856667 H          1 UNL1 0.0\\n    29 H       3.626699     3.167970     1.856667 H          1 UNL1 0.0\\n    30 H       4.586102     3.205044     0.873638 H          1 UNL1 0.0\\n    31 H       3.829452     4.515521     0.000027 H          1 UNL1 0.0\\n    32 H       4.586079     3.205084    -0.873665 H          1 UNL1 0.0\\n    33 H       0.817478    -0.677217    -1.505990 H          1 UNL1 0.0\\n    34 H       0.827849    -2.541174    -1.333550 H          1 UNL1 0.0\\n    35 H      -0.660816    -2.551680    -2.248336 H          1 UNL1 0.0\\n    36 H      -0.707651    -2.611789    -0.502696 H          1 UNL1 0.0\\n    37 H       0.420570     0.311126    -3.028191 H          1 UNL1 0.0\\n    38 H      -1.019753     0.975356    -2.295161 H          1 UNL1 0.0\\n    39 H      -1.110700    -0.510629    -3.209842 H          1 UNL1 0.0\\n@<TRIPOS>BOND\\n     1      1      2          1\\n     2      2      3          1\\n     3      3      4          1\\n     4      4      5          2\\n     5      5      1          1\\n     6      4      6          1\\n     7      6      7          1\\n     8      7      8          1\\n     9      8      9          1\\n    10      9     10          1\\n    11     10     11          1\\n    12     11      7          2\\n    13      1     12          1\\n    14     11     13          1\\n    15     13      5          1\\n    16     13     14          1\\n    17     13     15          1\\n    18      6     16          1\\n    19      6     17          1\\n    20     18     19          1\\n    21     18     20          1\\n    22     10     18          1\\n    23      1     21          1\\n    24      2     22          1\\n    25      2     23          1\\n    26      9     24          1\\n    27      9     25          1\\n    28     10     26          1\\n    29     16     27          1\\n    30     16     28          1\\n    31     16     29          1\\n    32     17     30          1\\n    33     17     31          1\\n    34     17     32          1\\n    35     18     33          1\\n    36     19     34          1\\n    37     19     35          1\\n    38     19     36          1\\n    39     20     37          1\\n    40     20     38          1\\n    41     20     39          1\\n\",\"mol2\");\n\tviewer_16847998887442305.setStyle({\"stick\": {\"radius\": 0.1}, \"sphere\": {\"scale\": 0.15}});\n\tviewer_16847998887442305.setHoverable({},true,\"\\n            function(atom,viewer,event,container) {\\n                if(!atom.label) {\\n                    atom.label = viewer.addLabel(atom.elem + atom.serial, {position: atom, backgroundColor: 'mintcream', fontColor:'black'});\\n                }\\n            }\\n            \",\"\\n            function(atom,viewer) { \\n                if(atom.label) {\\n                    viewer.removeLabel(atom.label);\\n                    delete atom.label;\\n                }\\n            }\\n            \");\n\tviewer_16847998887442305.zoomTo();\n\tviewer_16847998887442305.setBackgroundColor(null);\nviewer_16847998887442305.render();\n});\n</script>",
      "text/html": [
       "<div id=\"3dmolviewer_16847998887442305\"  style=\"position: relative; width: 1000px; height: 500px;\">\n",
       "        <p id=\"3dmolwarning_16847998887442305\" style=\"background-color:#ffcccc;color:black\">You appear to be running in JupyterLab (or JavaScript failed to load for some other reason).  You need to install the 3dmol extension: <br>\n",
       "        <tt>jupyter labextension install jupyterlab_3dmol</tt></p>\n",
       "        </div>\n",
       "<script>\n",
       "\n",
       "var loadScriptAsync = function(uri){\n",
       "  return new Promise((resolve, reject) => {\n",
       "    //this is to ignore the existence of requirejs amd\n",
       "    var savedexports, savedmodule;\n",
       "    if (typeof exports !== 'undefined') savedexports = exports;\n",
       "    else exports = {}\n",
       "    if (typeof module !== 'undefined') savedmodule = module;\n",
       "    else module = {}\n",
       "\n",
       "    var tag = document.createElement('script');\n",
       "    tag.src = uri;\n",
       "    tag.async = true;\n",
       "    tag.onload = () => {\n",
       "        exports = savedexports;\n",
       "        module = savedmodule;\n",
       "        resolve();\n",
       "    };\n",
       "  var firstScriptTag = document.getElementsByTagName('script')[0];\n",
       "  firstScriptTag.parentNode.insertBefore(tag, firstScriptTag);\n",
       "});\n",
       "};\n",
       "\n",
       "if(typeof $3Dmolpromise === 'undefined') {\n",
       "$3Dmolpromise = null;\n",
       "  $3Dmolpromise = loadScriptAsync('https://cdnjs.cloudflare.com/ajax/libs/3Dmol/2.0.3/3Dmol-min.js');\n",
       "}\n",
       "\n",
       "var viewer_16847998887442305 = null;\n",
       "var warn = document.getElementById(\"3dmolwarning_16847998887442305\");\n",
       "if(warn) {\n",
       "    warn.parentNode.removeChild(warn);\n",
       "}\n",
       "$3Dmolpromise.then(function() {\n",
       "viewer_16847998887442305 = $3Dmol.createViewer(document.getElementById(\"3dmolviewer_16847998887442305\"),{backgroundColor:\"white\"});\n",
       "viewer_16847998887442305.zoomTo();\n",
       "\tviewer_16847998887442305.addModel(\"# Produced with molli package\\n@<TRIPOS>MOLECULE\\nunknown\\n39 41 0 0 0\\nSMALL\\nUSER_CHARGES\\n\\n@<TRIPOS>ATOM\\n     1 C       5.452083     0.000000     0.000000 C          1 UNL1 0.0\\n     2 C       6.333333     1.213542     0.000000 C          1 UNL1 0.0\\n     3 O       5.452083     2.427083     0.000000 O          1 UNL1 0.0\\n     4 C       4.025000     1.963542     0.000000 C          1 UNL1 0.0\\n     5 N       4.025000     0.463542     0.000000 N          1 UNL1 0.0\\n     6 C       2.726042     2.713542     0.000000 C          1 UNL1 0.0\\n     7 C       1.427083     1.963542     0.000000 C          1 UNL1 0.0\\n     8 O       0.000000     2.427083     0.000000 O          1 UNL1 0.0\\n     9 C      -0.881250     1.213542     0.000000 C          1 UNL1 0.0\\n    10 C       0.000000     0.000000     0.000000 C          1 UNL1 0.0\\n    11 N       1.427083     0.463542     0.000000 N          1 UNL1 0.0\\n    12 A1      5.683854    -0.713542     1.299453 Unknown    1 UNL1 0.0\\n    13 C       2.726042    -0.286458     0.000000 C          1 UNL1 0.0\\n    14 Br      2.726042    -0.286458     1.499931 Br         1 UNL1 0.0\\n    15 Br      3.476042    -1.585417     0.000000 Br         1 UNL1 0.0\\n    16 C       2.726042     2.713542     1.500000 C          1 UNL1 0.0\\n    17 C       4.025000     3.463542     0.000000 C          1 UNL1 0.0\\n    18 C      -0.231697    -0.713314    -1.299038 C          1 UNL1 0.0\\n    19 C      -0.190097    -2.211887    -1.349523 C          1 UNL1 0.0\\n    20 C      -0.504981     0.071909    -2.547534 C          1 UNL1 0.0\\n    21 H       5.658031    -0.633862    -0.837080 H          1 UNL1 0.0\\n    22 H       6.947085     1.213542     0.876544 H          1 UNL1 0.0\\n    23 H       6.947085     1.213542    -0.876544 H          1 UNL1 0.0\\n    24 H      -1.495002     1.213542     0.876544 H          1 UNL1 0.0\\n    25 H      -1.495002     1.213542    -0.876544 H          1 UNL1 0.0\\n    26 H      -0.205926    -0.633796     0.837137 H          1 UNL1 0.0\\n    27 H       2.669260     1.706335     1.856667 H          1 UNL1 0.0\\n    28 H       1.882166     3.266320     1.856667 H          1 UNL1 0.0\\n    29 H       3.626699     3.167970     1.856667 H          1 UNL1 0.0\\n    30 H       4.586102     3.205044     0.873638 H          1 UNL1 0.0\\n    31 H       3.829452     4.515521     0.000027 H          1 UNL1 0.0\\n    32 H       4.586079     3.205084    -0.873665 H          1 UNL1 0.0\\n    33 H       0.817478    -0.677217    -1.505990 H          1 UNL1 0.0\\n    34 H       0.827849    -2.541174    -1.333550 H          1 UNL1 0.0\\n    35 H      -0.660816    -2.551680    -2.248336 H          1 UNL1 0.0\\n    36 H      -0.707651    -2.611789    -0.502696 H          1 UNL1 0.0\\n    37 H       0.420570     0.311126    -3.028191 H          1 UNL1 0.0\\n    38 H      -1.019753     0.975356    -2.295161 H          1 UNL1 0.0\\n    39 H      -1.110700    -0.510629    -3.209842 H          1 UNL1 0.0\\n@<TRIPOS>BOND\\n     1      1      2          1\\n     2      2      3          1\\n     3      3      4          1\\n     4      4      5          2\\n     5      5      1          1\\n     6      4      6          1\\n     7      6      7          1\\n     8      7      8          1\\n     9      8      9          1\\n    10      9     10          1\\n    11     10     11          1\\n    12     11      7          2\\n    13      1     12          1\\n    14     11     13          1\\n    15     13      5          1\\n    16     13     14          1\\n    17     13     15          1\\n    18      6     16          1\\n    19      6     17          1\\n    20     18     19          1\\n    21     18     20          1\\n    22     10     18          1\\n    23      1     21          1\\n    24      2     22          1\\n    25      2     23          1\\n    26      9     24          1\\n    27      9     25          1\\n    28     10     26          1\\n    29     16     27          1\\n    30     16     28          1\\n    31     16     29          1\\n    32     17     30          1\\n    33     17     31          1\\n    34     17     32          1\\n    35     18     33          1\\n    36     19     34          1\\n    37     19     35          1\\n    38     19     36          1\\n    39     20     37          1\\n    40     20     38          1\\n    41     20     39          1\\n\",\"mol2\");\n",
       "\tviewer_16847998887442305.setStyle({\"stick\": {\"radius\": 0.1}, \"sphere\": {\"scale\": 0.15}});\n",
       "\tviewer_16847998887442305.setHoverable({},true,\"\\n            function(atom,viewer,event,container) {\\n                if(!atom.label) {\\n                    atom.label = viewer.addLabel(atom.elem + atom.serial, {position: atom, backgroundColor: 'mintcream', fontColor:'black'});\\n                }\\n            }\\n            \",\"\\n            function(atom,viewer) { \\n                if(atom.label) {\\n                    viewer.removeLabel(atom.label);\\n                    delete atom.label;\\n                }\\n            }\\n            \");\n",
       "\tviewer_16847998887442305.zoomTo();\n",
       "\tviewer_16847998887442305.setBackgroundColor(null);\n",
       "viewer_16847998887442305.render();\n",
       "});\n",
       "</script>"
      ]
     },
     "metadata": {},
     "output_type": "display_data"
    },
    {
     "data": {
      "text/plain": [
       "Molecule(name='unknown', formula='C13 H19 Br2 N2 O2 Unknown1')"
      ]
     },
     "execution_count": 93,
     "metadata": {},
     "output_type": "execute_result"
    }
   ],
   "source": [
    "combos = []\n",
    "for core in core_labels:\n",
    "    for sub in sub_labels:\n",
    "        this_core = cores_parsed[core]\n",
    "        this_sub = subs_parsed[sub]\n",
    "        a1 = next(this_core.yield_attachment_points())\n",
    "        a2 = next(this_sub.yield_attachment_points())\n",
    "        mol = ml.Molecule.join(this_core, this_sub, a1, a2, optimize_rotation=True)\n",
    "        mol.add_implicit_hydrogens()\n",
    "        combos.append(mol)\n",
    "\n",
    "combos[0]"
   ]
  },
  {
   "cell_type": "code",
   "execution_count": 94,
   "metadata": {},
   "outputs": [
    {
     "data": {
      "application/3dmoljs_load.v0": "<div id=\"3dmolviewer_16847998998555057\"  style=\"position: relative; width: 1000px; height: 500px;\">\n        <p id=\"3dmolwarning_16847998998555057\" style=\"background-color:#ffcccc;color:black\">You appear to be running in JupyterLab (or JavaScript failed to load for some other reason).  You need to install the 3dmol extension: <br>\n        <tt>jupyter labextension install jupyterlab_3dmol</tt></p>\n        </div>\n<script>\n\nvar loadScriptAsync = function(uri){\n  return new Promise((resolve, reject) => {\n    //this is to ignore the existence of requirejs amd\n    var savedexports, savedmodule;\n    if (typeof exports !== 'undefined') savedexports = exports;\n    else exports = {}\n    if (typeof module !== 'undefined') savedmodule = module;\n    else module = {}\n\n    var tag = document.createElement('script');\n    tag.src = uri;\n    tag.async = true;\n    tag.onload = () => {\n        exports = savedexports;\n        module = savedmodule;\n        resolve();\n    };\n  var firstScriptTag = document.getElementsByTagName('script')[0];\n  firstScriptTag.parentNode.insertBefore(tag, firstScriptTag);\n});\n};\n\nif(typeof $3Dmolpromise === 'undefined') {\n$3Dmolpromise = null;\n  $3Dmolpromise = loadScriptAsync('https://cdnjs.cloudflare.com/ajax/libs/3Dmol/2.0.3/3Dmol-min.js');\n}\n\nvar viewer_16847998998555057 = null;\nvar warn = document.getElementById(\"3dmolwarning_16847998998555057\");\nif(warn) {\n    warn.parentNode.removeChild(warn);\n}\n$3Dmolpromise.then(function() {\nviewer_16847998998555057 = $3Dmol.createViewer(document.getElementById(\"3dmolviewer_16847998998555057\"),{backgroundColor:\"white\"});\nviewer_16847998998555057.zoomTo();\n\tviewer_16847998998555057.addModel(\"# Produced with molli package\\n@<TRIPOS>MOLECULE\\nunknown\\n36 38 0 0 0\\nSMALL\\nUSER_CHARGES\\n\\n@<TRIPOS>ATOM\\n     1 C       5.452083     0.000000     0.000000 C          1 UNL1 0.0\\n     2 C       6.333333     1.213542     0.000000 C          1 UNL1 0.0\\n     3 O       5.452083     2.427083     0.000000 O          1 UNL1 0.0\\n     4 C       4.025000     1.963542     0.000000 C          1 UNL1 0.0\\n     5 N       4.025000     0.463542     0.000000 N          1 UNL1 0.0\\n     6 C       2.726042     2.713542     0.000000 C          1 UNL1 0.0\\n     7 C       1.427083     1.963542     0.000000 C          1 UNL1 0.0\\n     8 O       0.000000     2.427083     0.000000 O          1 UNL1 0.0\\n     9 C      -0.881250     1.213542     0.000000 C          1 UNL1 0.0\\n    10 C       0.000000     0.000000     0.000000 C          1 UNL1 0.0\\n    11 N       1.427083     0.463542     0.000000 N          1 UNL1 0.0\\n    12 A1      5.683854    -0.713542     1.299453 Unknown    1 UNL1 0.0\\n    13 C       2.726042    -0.286458     0.000000 C          1 UNL1 0.0\\n    14 Br      2.726042    -0.286458     1.499931 Br         1 UNL1 0.0\\n    15 Br      3.476042    -1.585417     0.000000 Br         1 UNL1 0.0\\n    16 C       2.726042     2.713542     1.500000 C          1 UNL1 0.0\\n    17 C       4.025000     3.463542     0.000000 C          1 UNL1 0.0\\n    18 C      -0.231697    -0.713314    -1.299038 C          1 UNL1 0.0\\n    19 C      -1.371954    -1.678865    -1.431414 C          1 UNL1 0.0\\n    20 H       5.658031    -0.633862    -0.837080 H          1 UNL1 0.0\\n    21 H       6.947085     1.213542     0.876544 H          1 UNL1 0.0\\n    22 H       6.947085     1.213542    -0.876544 H          1 UNL1 0.0\\n    23 H      -1.495002     1.213542     0.876544 H          1 UNL1 0.0\\n    24 H      -1.495002     1.213542    -0.876544 H          1 UNL1 0.0\\n    25 H      -0.205926    -0.633796     0.837137 H          1 UNL1 0.0\\n    26 H       3.639870     2.286217     1.856667 H          1 UNL1 0.0\\n    27 H       1.899054     2.135805     1.856667 H          1 UNL1 0.0\\n    28 H       2.639201     3.718603     1.856667 H          1 UNL1 0.0\\n    29 H       4.586102     3.205044     0.873638 H          1 UNL1 0.0\\n    30 H       3.829452     4.515521     0.000027 H          1 UNL1 0.0\\n    31 H       4.586079     3.205084    -0.873665 H          1 UNL1 0.0\\n    32 H       0.661780    -1.262618    -1.511137 H          1 UNL1 0.0\\n    33 H      -0.381700     0.042396    -2.041617 H          1 UNL1 0.0\\n    34 H      -1.169952    -2.362053    -2.229755 H          1 UNL1 0.0\\n    35 H      -2.272478    -1.140642    -1.641827 H          1 UNL1 0.0\\n    36 H      -1.486817    -2.222660    -0.517087 H          1 UNL1 0.0\\n@<TRIPOS>BOND\\n     1      1      2          1\\n     2      2      3          1\\n     3      3      4          1\\n     4      4      5          2\\n     5      5      1          1\\n     6      4      6          1\\n     7      6      7          1\\n     8      7      8          1\\n     9      8      9          1\\n    10      9     10          1\\n    11     10     11          1\\n    12     11      7          2\\n    13      1     12          1\\n    14     11     13          1\\n    15     13      5          1\\n    16     13     14          1\\n    17     13     15          1\\n    18      6     16          1\\n    19      6     17          1\\n    20     18     19          1\\n    21     10     18          1\\n    22      1     20          1\\n    23      2     21          1\\n    24      2     22          1\\n    25      9     23          1\\n    26      9     24          1\\n    27     10     25          1\\n    28     16     26          1\\n    29     16     27          1\\n    30     16     28          1\\n    31     17     29          1\\n    32     17     30          1\\n    33     17     31          1\\n    34     18     32          1\\n    35     18     33          1\\n    36     19     34          1\\n    37     19     35          1\\n    38     19     36          1\\n\",\"mol2\");\n\tviewer_16847998998555057.setStyle({\"stick\": {\"radius\": 0.1}, \"sphere\": {\"scale\": 0.15}});\n\tviewer_16847998998555057.setHoverable({},true,\"\\n            function(atom,viewer,event,container) {\\n                if(!atom.label) {\\n                    atom.label = viewer.addLabel(atom.elem + atom.serial, {position: atom, backgroundColor: 'mintcream', fontColor:'black'});\\n                }\\n            }\\n            \",\"\\n            function(atom,viewer) { \\n                if(atom.label) {\\n                    viewer.removeLabel(atom.label);\\n                    delete atom.label;\\n                }\\n            }\\n            \");\n\tviewer_16847998998555057.zoomTo();\n\tviewer_16847998998555057.setBackgroundColor(null);\nviewer_16847998998555057.render();\n});\n</script>",
      "text/html": [
       "<div id=\"3dmolviewer_16847998998555057\"  style=\"position: relative; width: 1000px; height: 500px;\">\n",
       "        <p id=\"3dmolwarning_16847998998555057\" style=\"background-color:#ffcccc;color:black\">You appear to be running in JupyterLab (or JavaScript failed to load for some other reason).  You need to install the 3dmol extension: <br>\n",
       "        <tt>jupyter labextension install jupyterlab_3dmol</tt></p>\n",
       "        </div>\n",
       "<script>\n",
       "\n",
       "var loadScriptAsync = function(uri){\n",
       "  return new Promise((resolve, reject) => {\n",
       "    //this is to ignore the existence of requirejs amd\n",
       "    var savedexports, savedmodule;\n",
       "    if (typeof exports !== 'undefined') savedexports = exports;\n",
       "    else exports = {}\n",
       "    if (typeof module !== 'undefined') savedmodule = module;\n",
       "    else module = {}\n",
       "\n",
       "    var tag = document.createElement('script');\n",
       "    tag.src = uri;\n",
       "    tag.async = true;\n",
       "    tag.onload = () => {\n",
       "        exports = savedexports;\n",
       "        module = savedmodule;\n",
       "        resolve();\n",
       "    };\n",
       "  var firstScriptTag = document.getElementsByTagName('script')[0];\n",
       "  firstScriptTag.parentNode.insertBefore(tag, firstScriptTag);\n",
       "});\n",
       "};\n",
       "\n",
       "if(typeof $3Dmolpromise === 'undefined') {\n",
       "$3Dmolpromise = null;\n",
       "  $3Dmolpromise = loadScriptAsync('https://cdnjs.cloudflare.com/ajax/libs/3Dmol/2.0.3/3Dmol-min.js');\n",
       "}\n",
       "\n",
       "var viewer_16847998998555057 = null;\n",
       "var warn = document.getElementById(\"3dmolwarning_16847998998555057\");\n",
       "if(warn) {\n",
       "    warn.parentNode.removeChild(warn);\n",
       "}\n",
       "$3Dmolpromise.then(function() {\n",
       "viewer_16847998998555057 = $3Dmol.createViewer(document.getElementById(\"3dmolviewer_16847998998555057\"),{backgroundColor:\"white\"});\n",
       "viewer_16847998998555057.zoomTo();\n",
       "\tviewer_16847998998555057.addModel(\"# Produced with molli package\\n@<TRIPOS>MOLECULE\\nunknown\\n36 38 0 0 0\\nSMALL\\nUSER_CHARGES\\n\\n@<TRIPOS>ATOM\\n     1 C       5.452083     0.000000     0.000000 C          1 UNL1 0.0\\n     2 C       6.333333     1.213542     0.000000 C          1 UNL1 0.0\\n     3 O       5.452083     2.427083     0.000000 O          1 UNL1 0.0\\n     4 C       4.025000     1.963542     0.000000 C          1 UNL1 0.0\\n     5 N       4.025000     0.463542     0.000000 N          1 UNL1 0.0\\n     6 C       2.726042     2.713542     0.000000 C          1 UNL1 0.0\\n     7 C       1.427083     1.963542     0.000000 C          1 UNL1 0.0\\n     8 O       0.000000     2.427083     0.000000 O          1 UNL1 0.0\\n     9 C      -0.881250     1.213542     0.000000 C          1 UNL1 0.0\\n    10 C       0.000000     0.000000     0.000000 C          1 UNL1 0.0\\n    11 N       1.427083     0.463542     0.000000 N          1 UNL1 0.0\\n    12 A1      5.683854    -0.713542     1.299453 Unknown    1 UNL1 0.0\\n    13 C       2.726042    -0.286458     0.000000 C          1 UNL1 0.0\\n    14 Br      2.726042    -0.286458     1.499931 Br         1 UNL1 0.0\\n    15 Br      3.476042    -1.585417     0.000000 Br         1 UNL1 0.0\\n    16 C       2.726042     2.713542     1.500000 C          1 UNL1 0.0\\n    17 C       4.025000     3.463542     0.000000 C          1 UNL1 0.0\\n    18 C      -0.231697    -0.713314    -1.299038 C          1 UNL1 0.0\\n    19 C      -1.371954    -1.678865    -1.431414 C          1 UNL1 0.0\\n    20 H       5.658031    -0.633862    -0.837080 H          1 UNL1 0.0\\n    21 H       6.947085     1.213542     0.876544 H          1 UNL1 0.0\\n    22 H       6.947085     1.213542    -0.876544 H          1 UNL1 0.0\\n    23 H      -1.495002     1.213542     0.876544 H          1 UNL1 0.0\\n    24 H      -1.495002     1.213542    -0.876544 H          1 UNL1 0.0\\n    25 H      -0.205926    -0.633796     0.837137 H          1 UNL1 0.0\\n    26 H       3.639870     2.286217     1.856667 H          1 UNL1 0.0\\n    27 H       1.899054     2.135805     1.856667 H          1 UNL1 0.0\\n    28 H       2.639201     3.718603     1.856667 H          1 UNL1 0.0\\n    29 H       4.586102     3.205044     0.873638 H          1 UNL1 0.0\\n    30 H       3.829452     4.515521     0.000027 H          1 UNL1 0.0\\n    31 H       4.586079     3.205084    -0.873665 H          1 UNL1 0.0\\n    32 H       0.661780    -1.262618    -1.511137 H          1 UNL1 0.0\\n    33 H      -0.381700     0.042396    -2.041617 H          1 UNL1 0.0\\n    34 H      -1.169952    -2.362053    -2.229755 H          1 UNL1 0.0\\n    35 H      -2.272478    -1.140642    -1.641827 H          1 UNL1 0.0\\n    36 H      -1.486817    -2.222660    -0.517087 H          1 UNL1 0.0\\n@<TRIPOS>BOND\\n     1      1      2          1\\n     2      2      3          1\\n     3      3      4          1\\n     4      4      5          2\\n     5      5      1          1\\n     6      4      6          1\\n     7      6      7          1\\n     8      7      8          1\\n     9      8      9          1\\n    10      9     10          1\\n    11     10     11          1\\n    12     11      7          2\\n    13      1     12          1\\n    14     11     13          1\\n    15     13      5          1\\n    16     13     14          1\\n    17     13     15          1\\n    18      6     16          1\\n    19      6     17          1\\n    20     18     19          1\\n    21     10     18          1\\n    22      1     20          1\\n    23      2     21          1\\n    24      2     22          1\\n    25      9     23          1\\n    26      9     24          1\\n    27     10     25          1\\n    28     16     26          1\\n    29     16     27          1\\n    30     16     28          1\\n    31     17     29          1\\n    32     17     30          1\\n    33     17     31          1\\n    34     18     32          1\\n    35     18     33          1\\n    36     19     34          1\\n    37     19     35          1\\n    38     19     36          1\\n\",\"mol2\");\n",
       "\tviewer_16847998998555057.setStyle({\"stick\": {\"radius\": 0.1}, \"sphere\": {\"scale\": 0.15}});\n",
       "\tviewer_16847998998555057.setHoverable({},true,\"\\n            function(atom,viewer,event,container) {\\n                if(!atom.label) {\\n                    atom.label = viewer.addLabel(atom.elem + atom.serial, {position: atom, backgroundColor: 'mintcream', fontColor:'black'});\\n                }\\n            }\\n            \",\"\\n            function(atom,viewer) { \\n                if(atom.label) {\\n                    viewer.removeLabel(atom.label);\\n                    delete atom.label;\\n                }\\n            }\\n            \");\n",
       "\tviewer_16847998998555057.zoomTo();\n",
       "\tviewer_16847998998555057.setBackgroundColor(null);\n",
       "viewer_16847998998555057.render();\n",
       "});\n",
       "</script>"
      ]
     },
     "metadata": {},
     "output_type": "display_data"
    },
    {
     "data": {
      "text/plain": [
       "Molecule(name='unknown', formula='C12 H17 Br2 N2 O2 Unknown1')"
      ]
     },
     "execution_count": 94,
     "metadata": {},
     "output_type": "execute_result"
    }
   ],
   "source": [
    "combos[1]"
   ]
  },
  {
   "cell_type": "code",
   "execution_count": 96,
   "metadata": {},
   "outputs": [
    {
     "data": {
      "application/3dmoljs_load.v0": "<div id=\"3dmolviewer_1684799943224844\"  style=\"position: relative; width: 1000px; height: 500px;\">\n        <p id=\"3dmolwarning_1684799943224844\" style=\"background-color:#ffcccc;color:black\">You appear to be running in JupyterLab (or JavaScript failed to load for some other reason).  You need to install the 3dmol extension: <br>\n        <tt>jupyter labextension install jupyterlab_3dmol</tt></p>\n        </div>\n<script>\n\nvar loadScriptAsync = function(uri){\n  return new Promise((resolve, reject) => {\n    //this is to ignore the existence of requirejs amd\n    var savedexports, savedmodule;\n    if (typeof exports !== 'undefined') savedexports = exports;\n    else exports = {}\n    if (typeof module !== 'undefined') savedmodule = module;\n    else module = {}\n\n    var tag = document.createElement('script');\n    tag.src = uri;\n    tag.async = true;\n    tag.onload = () => {\n        exports = savedexports;\n        module = savedmodule;\n        resolve();\n    };\n  var firstScriptTag = document.getElementsByTagName('script')[0];\n  firstScriptTag.parentNode.insertBefore(tag, firstScriptTag);\n});\n};\n\nif(typeof $3Dmolpromise === 'undefined') {\n$3Dmolpromise = null;\n  $3Dmolpromise = loadScriptAsync('https://cdnjs.cloudflare.com/ajax/libs/3Dmol/2.0.3/3Dmol-min.js');\n}\n\nvar viewer_1684799943224844 = null;\nvar warn = document.getElementById(\"3dmolwarning_1684799943224844\");\nif(warn) {\n    warn.parentNode.removeChild(warn);\n}\n$3Dmolpromise.then(function() {\nviewer_1684799943224844 = $3Dmol.createViewer(document.getElementById(\"3dmolviewer_1684799943224844\"),{backgroundColor:\"white\"});\nviewer_1684799943224844.zoomTo();\n\tviewer_1684799943224844.addModel(\"# Produced with molli package\\n@<TRIPOS>MOLECULE\\nunknown\\n95 102 0 0 0\\nSMALL\\nUSER_CHARGES\\n\\n@<TRIPOS>ATOM\\n     1 C       5.452083     0.000000     0.000000 C          1 UNL1 0.0\\n     2 C       6.333333     1.213542     0.000000 C          1 UNL1 0.0\\n     3 O       5.452083     2.427083     0.000000 O          1 UNL1 0.0\\n     4 C       4.025000     1.963542     0.000000 C          1 UNL1 0.0\\n     5 N       4.025000     0.463542     0.000000 N          1 UNL1 0.0\\n     6 C       2.726042     2.713542     0.000000 C          1 UNL1 0.0\\n     7 C       1.427083     1.963542     0.000000 C          1 UNL1 0.0\\n     8 O       0.000000     2.427083     0.000000 O          1 UNL1 0.0\\n     9 C      -0.881250     1.213542     0.000000 C          1 UNL1 0.0\\n    10 C       0.000000     0.000000     0.000000 C          1 UNL1 0.0\\n    11 N       1.427083     0.463542     0.000000 N          1 UNL1 0.0\\n    12 A1      5.683854    -0.713542     1.299453 Unknown    1 UNL1 0.0\\n    13 C       2.726042    -0.286458     0.000000 C          1 UNL1 0.0\\n    14 Br      2.726042    -0.286458     1.499931 Br         1 UNL1 0.0\\n    15 Br      3.476042    -1.585417     0.000000 Br         1 UNL1 0.0\\n    16 C       2.726042     2.713542     1.500000 C          1 UNL1 0.0\\n    17 C       4.025000     3.463542     0.000000 C          1 UNL1 0.0\\n    18 C      -1.562466     2.549934     0.000000 C          1 UNL1 0.0\\n    19 C      -1.901709     3.215451    -1.295562 C          1 UNL1 0.0\\n    20 C      -2.580843     4.547759    -1.296036 C          1 UNL1 0.0\\n    21 C      -2.920099     5.213302    -0.001401 C          1 UNL1 0.0\\n    22 C      -2.581063     4.548190     1.292760 C          1 UNL1 0.0\\n    23 C      -1.902143     3.216303     1.294161 C          1 UNL1 0.0\\n    24 C       7.013722     2.550355     0.000000 C          1 UNL1 0.0\\n    25 C       7.352679     3.216329    -1.294617 C          1 UNL1 0.0\\n    26 C       8.030774     4.548635    -1.295073 C          1 UNL1 0.0\\n    27 C       8.369913     5.214969    -0.000912 C          1 UNL1 0.0\\n    28 C       8.030957     4.548995     1.293705 C          1 UNL1 0.0\\n    29 C       7.353283     3.217516     1.294633 C          1 UNL1 0.0\\n    30 C      -0.881250     1.213542     1.500000 C          1 UNL1 0.0\\n    31 C      -1.498783     0.075309     2.246735 C          1 UNL1 0.0\\n    32 C      -1.499043     0.074830     3.742053 C          1 UNL1 0.0\\n    33 C      -0.881933     1.212282     4.489204 C          1 UNL1 0.0\\n    34 C      -0.264400     2.350515     3.742469 C          1 UNL1 0.0\\n    35 C      -0.264400     2.350515     2.248039 C          1 UNL1 0.0\\n    36 C       6.333333     1.213542     1.500000 C          1 UNL1 0.0\\n    37 C       7.437566     0.537278     2.247814 C          1 UNL1 0.0\\n    38 C       7.437102     0.537562     3.742588 C          1 UNL1 0.0\\n    39 C       6.333163     1.213646     4.490092 C          1 UNL1 0.0\\n    40 C       5.229688     1.889446     3.742823 C          1 UNL1 0.0\\n    41 C       5.229394     1.889625     2.247504 C          1 UNL1 0.0\\n    42 C      -0.231697    -0.713314    -1.299038 C          1 UNL1 0.0\\n    43 C      -0.848059    -2.080744    -1.304141 C          1 UNL1 0.0\\n    44 C      -1.232735    -2.734893    -0.010266 C          1 UNL1 0.0\\n    45 C      -1.849096    -4.102323    -0.015368 C          1 UNL1 0.0\\n    46 C      -2.080783    -4.815604    -1.314347 C          1 UNL1 0.0\\n    47 C      -1.696107    -4.161455    -2.608222 C          1 UNL1 0.0\\n    48 C      -1.079745    -2.794025    -2.603119 C          1 UNL1 0.0\\n    49 C      -2.697173    -6.183097    -1.319450 C          1 UNL1 0.0\\n    50 C      -4.057314    -5.569096    -1.413707 C          1 UNL1 0.0\\n    51 C      -3.312704    -7.545228    -1.324625 C          1 UNL1 0.0\\n    52 C      -1.338483    -6.796860    -1.225284 C          1 UNL1 0.0\\n    53 H       5.658031    -0.633862    -0.837080 H          1 UNL1 0.0\\n    54 H      -0.205926    -0.633796     0.837137 H          1 UNL1 0.0\\n    55 H       2.528543     1.724257     1.856667 H          1 UNL1 0.0\\n    56 H       1.968046     3.379222     1.856667 H          1 UNL1 0.0\\n    57 H       3.681536     3.037145     1.856667 H          1 UNL1 0.0\\n    58 H       4.586102     3.205044     0.873638 H          1 UNL1 0.0\\n    59 H       3.829452     4.515521     0.000027 H          1 UNL1 0.0\\n    60 H       4.586079     3.205084    -0.873665 H          1 UNL1 0.0\\n    61 H      -1.658570     2.738468    -2.221992 H          1 UNL1 0.0\\n    62 H      -2.823972     5.024722    -2.222478 H          1 UNL1 0.0\\n    63 H      -3.406033     6.166595    -0.001062 H          1 UNL1 0.0\\n    64 H      -2.824525     5.025807     2.218777 H          1 UNL1 0.0\\n    65 H      -1.659420     2.740135     2.221118 H          1 UNL1 0.0\\n    66 H       7.109887     2.739298    -2.221113 H          1 UNL1 0.0\\n    67 H       8.273403     5.025347    -2.221776 H          1 UNL1 0.0\\n    68 H       8.855257     6.168562    -0.001239 H          1 UNL1 0.0\\n    69 H       8.273589     5.025712     2.220404 H          1 UNL1 0.0\\n    70 H       7.111239     2.741954     2.222079 H          1 UNL1 0.0\\n    71 H      -1.940492    -0.738846     1.711063 H          1 UNL1 0.0\\n    72 H      -1.940830    -0.739470     4.277439 H          1 UNL1 0.0\\n    73 H      -0.882236     1.211723     5.559203 H          1 UNL1 0.0\\n    74 H       0.177487     3.164998     4.277496 H          1 UNL1 0.0\\n    75 H       0.177557     3.165128     1.713268 H          1 UNL1 0.0\\n    76 H       8.228042     0.053168     1.713319 H          1 UNL1 0.0\\n    77 H       8.227278     0.053636     4.277693 H          1 UNL1 0.0\\n    78 H       6.332831     1.213849     5.560092 H          1 UNL1 0.0\\n    79 H       4.439770     2.373214     4.278452 H          1 UNL1 0.0\\n    80 H       4.439226     2.373547     1.712383 H          1 UNL1 0.0\\n    81 H       0.723142    -0.805329    -1.773208 H          1 UNL1 0.0\\n    82 H      -0.871758    -0.086024    -1.883718 H          1 UNL1 0.0\\n    83 H      -1.067457    -2.226062     0.916382 H          1 UNL1 0.0\\n    84 H      -2.123498    -4.568949     0.907596 H          1 UNL1 0.0\\n    85 H      -1.861384    -4.670285    -3.534869 H          1 UNL1 0.0\\n    86 H      -0.805343    -2.327398    -3.526084 H          1 UNL1 0.0\\n    87 H      -4.158143    -5.068181    -2.353822 H          1 UNL1 0.0\\n    88 H      -4.186577    -4.864792    -0.618630 H          1 UNL1 0.0\\n    89 H      -4.800518    -6.334947    -1.336117 H          1 UNL1 0.0\\n    90 H      -2.621248    -8.247501    -1.741278 H          1 UNL1 0.0\\n    91 H      -4.205453    -7.530960    -1.914283 H          1 UNL1 0.0\\n    92 H      -3.552031    -7.832283    -0.322017 H          1 UNL1 0.0\\n    93 H      -0.895932    -6.541065    -0.285274 H          1 UNL1 0.0\\n    94 H      -0.724735    -6.428312    -2.020511 H          1 UNL1 0.0\\n    95 H      -1.421598    -7.860820    -1.302618 H          1 UNL1 0.0\\n@<TRIPOS>BOND\\n     1      1      2          1\\n     2      2      3          1\\n     3      3      4          1\\n     4      4      5          2\\n     5      5      1          1\\n     6      4      6          1\\n     7      6      7          1\\n     8      7      8          1\\n     9      8      9          1\\n    10      9     10          1\\n    11     10     11          1\\n    12     11      7          2\\n    13      1     12          1\\n    14     11     13          1\\n    15     13      5          1\\n    16     13     14          1\\n    17     13     15          1\\n    18      6     16          1\\n    19      6     17          1\\n    20     22     23          2\\n    21     21     22          1\\n    22     20     21          2\\n    23     19     20          1\\n    24     18     19          2\\n    25     18     23          1\\n    26      9     18          1\\n    27     28     29          2\\n    28     27     28          1\\n    29     26     27          2\\n    30     25     26          1\\n    31     24     25          2\\n    32     24     29          1\\n    33      2     24          1\\n    34     34     35          2\\n    35     33     34          1\\n    36     32     33          2\\n    37     31     32          1\\n    38     30     31          2\\n    39     30     35          1\\n    40      9     30          1\\n    41     40     41          2\\n    42     39     40          1\\n    43     38     39          2\\n    44     37     38          1\\n    45     36     37          2\\n    46     36     41          1\\n    47      2     36          1\\n    48     42     43          1\\n    49     43     44          2\\n    50     44     45          1\\n    51     45     46          2\\n    52     46     47          1\\n    53     47     48          2\\n    54     48     43          1\\n    55     49     50          1\\n    56     49     51          1\\n    57     49     52          1\\n    58     46     49          1\\n    59     10     42          1\\n    60      1     53          1\\n    61     10     54          1\\n    62     16     55          1\\n    63     16     56          1\\n    64     16     57          1\\n    65     17     58          1\\n    66     17     59          1\\n    67     17     60          1\\n    68     19     61          1\\n    69     20     62          1\\n    70     21     63          1\\n    71     22     64          1\\n    72     23     65          1\\n    73     25     66          1\\n    74     26     67          1\\n    75     27     68          1\\n    76     28     69          1\\n    77     29     70          1\\n    78     31     71          1\\n    79     32     72          1\\n    80     33     73          1\\n    81     34     74          1\\n    82     35     75          1\\n    83     37     76          1\\n    84     38     77          1\\n    85     39     78          1\\n    86     40     79          1\\n    87     41     80          1\\n    88     42     81          1\\n    89     42     82          1\\n    90     44     83          1\\n    91     45     84          1\\n    92     47     85          1\\n    93     48     86          1\\n    94     50     87          1\\n    95     50     88          1\\n    96     50     89          1\\n    97     51     90          1\\n    98     51     91          1\\n    99     51     92          1\\n   100     52     93          1\\n   101     52     94          1\\n   102     52     95          1\\n\",\"mol2\");\n\tviewer_1684799943224844.setStyle({\"stick\": {\"radius\": 0.1}, \"sphere\": {\"scale\": 0.15}});\n\tviewer_1684799943224844.setHoverable({},true,\"\\n            function(atom,viewer,event,container) {\\n                if(!atom.label) {\\n                    atom.label = viewer.addLabel(atom.elem + atom.serial, {position: atom, backgroundColor: 'mintcream', fontColor:'black'});\\n                }\\n            }\\n            \",\"\\n            function(atom,viewer) { \\n                if(atom.label) {\\n                    viewer.removeLabel(atom.label);\\n                    delete atom.label;\\n                }\\n            }\\n            \");\n\tviewer_1684799943224844.zoomTo();\n\tviewer_1684799943224844.setBackgroundColor(null);\nviewer_1684799943224844.render();\n});\n</script>",
      "text/html": [
       "<div id=\"3dmolviewer_1684799943224844\"  style=\"position: relative; width: 1000px; height: 500px;\">\n",
       "        <p id=\"3dmolwarning_1684799943224844\" style=\"background-color:#ffcccc;color:black\">You appear to be running in JupyterLab (or JavaScript failed to load for some other reason).  You need to install the 3dmol extension: <br>\n",
       "        <tt>jupyter labextension install jupyterlab_3dmol</tt></p>\n",
       "        </div>\n",
       "<script>\n",
       "\n",
       "var loadScriptAsync = function(uri){\n",
       "  return new Promise((resolve, reject) => {\n",
       "    //this is to ignore the existence of requirejs amd\n",
       "    var savedexports, savedmodule;\n",
       "    if (typeof exports !== 'undefined') savedexports = exports;\n",
       "    else exports = {}\n",
       "    if (typeof module !== 'undefined') savedmodule = module;\n",
       "    else module = {}\n",
       "\n",
       "    var tag = document.createElement('script');\n",
       "    tag.src = uri;\n",
       "    tag.async = true;\n",
       "    tag.onload = () => {\n",
       "        exports = savedexports;\n",
       "        module = savedmodule;\n",
       "        resolve();\n",
       "    };\n",
       "  var firstScriptTag = document.getElementsByTagName('script')[0];\n",
       "  firstScriptTag.parentNode.insertBefore(tag, firstScriptTag);\n",
       "});\n",
       "};\n",
       "\n",
       "if(typeof $3Dmolpromise === 'undefined') {\n",
       "$3Dmolpromise = null;\n",
       "  $3Dmolpromise = loadScriptAsync('https://cdnjs.cloudflare.com/ajax/libs/3Dmol/2.0.3/3Dmol-min.js');\n",
       "}\n",
       "\n",
       "var viewer_1684799943224844 = null;\n",
       "var warn = document.getElementById(\"3dmolwarning_1684799943224844\");\n",
       "if(warn) {\n",
       "    warn.parentNode.removeChild(warn);\n",
       "}\n",
       "$3Dmolpromise.then(function() {\n",
       "viewer_1684799943224844 = $3Dmol.createViewer(document.getElementById(\"3dmolviewer_1684799943224844\"),{backgroundColor:\"white\"});\n",
       "viewer_1684799943224844.zoomTo();\n",
       "\tviewer_1684799943224844.addModel(\"# Produced with molli package\\n@<TRIPOS>MOLECULE\\nunknown\\n95 102 0 0 0\\nSMALL\\nUSER_CHARGES\\n\\n@<TRIPOS>ATOM\\n     1 C       5.452083     0.000000     0.000000 C          1 UNL1 0.0\\n     2 C       6.333333     1.213542     0.000000 C          1 UNL1 0.0\\n     3 O       5.452083     2.427083     0.000000 O          1 UNL1 0.0\\n     4 C       4.025000     1.963542     0.000000 C          1 UNL1 0.0\\n     5 N       4.025000     0.463542     0.000000 N          1 UNL1 0.0\\n     6 C       2.726042     2.713542     0.000000 C          1 UNL1 0.0\\n     7 C       1.427083     1.963542     0.000000 C          1 UNL1 0.0\\n     8 O       0.000000     2.427083     0.000000 O          1 UNL1 0.0\\n     9 C      -0.881250     1.213542     0.000000 C          1 UNL1 0.0\\n    10 C       0.000000     0.000000     0.000000 C          1 UNL1 0.0\\n    11 N       1.427083     0.463542     0.000000 N          1 UNL1 0.0\\n    12 A1      5.683854    -0.713542     1.299453 Unknown    1 UNL1 0.0\\n    13 C       2.726042    -0.286458     0.000000 C          1 UNL1 0.0\\n    14 Br      2.726042    -0.286458     1.499931 Br         1 UNL1 0.0\\n    15 Br      3.476042    -1.585417     0.000000 Br         1 UNL1 0.0\\n    16 C       2.726042     2.713542     1.500000 C          1 UNL1 0.0\\n    17 C       4.025000     3.463542     0.000000 C          1 UNL1 0.0\\n    18 C      -1.562466     2.549934     0.000000 C          1 UNL1 0.0\\n    19 C      -1.901709     3.215451    -1.295562 C          1 UNL1 0.0\\n    20 C      -2.580843     4.547759    -1.296036 C          1 UNL1 0.0\\n    21 C      -2.920099     5.213302    -0.001401 C          1 UNL1 0.0\\n    22 C      -2.581063     4.548190     1.292760 C          1 UNL1 0.0\\n    23 C      -1.902143     3.216303     1.294161 C          1 UNL1 0.0\\n    24 C       7.013722     2.550355     0.000000 C          1 UNL1 0.0\\n    25 C       7.352679     3.216329    -1.294617 C          1 UNL1 0.0\\n    26 C       8.030774     4.548635    -1.295073 C          1 UNL1 0.0\\n    27 C       8.369913     5.214969    -0.000912 C          1 UNL1 0.0\\n    28 C       8.030957     4.548995     1.293705 C          1 UNL1 0.0\\n    29 C       7.353283     3.217516     1.294633 C          1 UNL1 0.0\\n    30 C      -0.881250     1.213542     1.500000 C          1 UNL1 0.0\\n    31 C      -1.498783     0.075309     2.246735 C          1 UNL1 0.0\\n    32 C      -1.499043     0.074830     3.742053 C          1 UNL1 0.0\\n    33 C      -0.881933     1.212282     4.489204 C          1 UNL1 0.0\\n    34 C      -0.264400     2.350515     3.742469 C          1 UNL1 0.0\\n    35 C      -0.264400     2.350515     2.248039 C          1 UNL1 0.0\\n    36 C       6.333333     1.213542     1.500000 C          1 UNL1 0.0\\n    37 C       7.437566     0.537278     2.247814 C          1 UNL1 0.0\\n    38 C       7.437102     0.537562     3.742588 C          1 UNL1 0.0\\n    39 C       6.333163     1.213646     4.490092 C          1 UNL1 0.0\\n    40 C       5.229688     1.889446     3.742823 C          1 UNL1 0.0\\n    41 C       5.229394     1.889625     2.247504 C          1 UNL1 0.0\\n    42 C      -0.231697    -0.713314    -1.299038 C          1 UNL1 0.0\\n    43 C      -0.848059    -2.080744    -1.304141 C          1 UNL1 0.0\\n    44 C      -1.232735    -2.734893    -0.010266 C          1 UNL1 0.0\\n    45 C      -1.849096    -4.102323    -0.015368 C          1 UNL1 0.0\\n    46 C      -2.080783    -4.815604    -1.314347 C          1 UNL1 0.0\\n    47 C      -1.696107    -4.161455    -2.608222 C          1 UNL1 0.0\\n    48 C      -1.079745    -2.794025    -2.603119 C          1 UNL1 0.0\\n    49 C      -2.697173    -6.183097    -1.319450 C          1 UNL1 0.0\\n    50 C      -4.057314    -5.569096    -1.413707 C          1 UNL1 0.0\\n    51 C      -3.312704    -7.545228    -1.324625 C          1 UNL1 0.0\\n    52 C      -1.338483    -6.796860    -1.225284 C          1 UNL1 0.0\\n    53 H       5.658031    -0.633862    -0.837080 H          1 UNL1 0.0\\n    54 H      -0.205926    -0.633796     0.837137 H          1 UNL1 0.0\\n    55 H       2.528543     1.724257     1.856667 H          1 UNL1 0.0\\n    56 H       1.968046     3.379222     1.856667 H          1 UNL1 0.0\\n    57 H       3.681536     3.037145     1.856667 H          1 UNL1 0.0\\n    58 H       4.586102     3.205044     0.873638 H          1 UNL1 0.0\\n    59 H       3.829452     4.515521     0.000027 H          1 UNL1 0.0\\n    60 H       4.586079     3.205084    -0.873665 H          1 UNL1 0.0\\n    61 H      -1.658570     2.738468    -2.221992 H          1 UNL1 0.0\\n    62 H      -2.823972     5.024722    -2.222478 H          1 UNL1 0.0\\n    63 H      -3.406033     6.166595    -0.001062 H          1 UNL1 0.0\\n    64 H      -2.824525     5.025807     2.218777 H          1 UNL1 0.0\\n    65 H      -1.659420     2.740135     2.221118 H          1 UNL1 0.0\\n    66 H       7.109887     2.739298    -2.221113 H          1 UNL1 0.0\\n    67 H       8.273403     5.025347    -2.221776 H          1 UNL1 0.0\\n    68 H       8.855257     6.168562    -0.001239 H          1 UNL1 0.0\\n    69 H       8.273589     5.025712     2.220404 H          1 UNL1 0.0\\n    70 H       7.111239     2.741954     2.222079 H          1 UNL1 0.0\\n    71 H      -1.940492    -0.738846     1.711063 H          1 UNL1 0.0\\n    72 H      -1.940830    -0.739470     4.277439 H          1 UNL1 0.0\\n    73 H      -0.882236     1.211723     5.559203 H          1 UNL1 0.0\\n    74 H       0.177487     3.164998     4.277496 H          1 UNL1 0.0\\n    75 H       0.177557     3.165128     1.713268 H          1 UNL1 0.0\\n    76 H       8.228042     0.053168     1.713319 H          1 UNL1 0.0\\n    77 H       8.227278     0.053636     4.277693 H          1 UNL1 0.0\\n    78 H       6.332831     1.213849     5.560092 H          1 UNL1 0.0\\n    79 H       4.439770     2.373214     4.278452 H          1 UNL1 0.0\\n    80 H       4.439226     2.373547     1.712383 H          1 UNL1 0.0\\n    81 H       0.723142    -0.805329    -1.773208 H          1 UNL1 0.0\\n    82 H      -0.871758    -0.086024    -1.883718 H          1 UNL1 0.0\\n    83 H      -1.067457    -2.226062     0.916382 H          1 UNL1 0.0\\n    84 H      -2.123498    -4.568949     0.907596 H          1 UNL1 0.0\\n    85 H      -1.861384    -4.670285    -3.534869 H          1 UNL1 0.0\\n    86 H      -0.805343    -2.327398    -3.526084 H          1 UNL1 0.0\\n    87 H      -4.158143    -5.068181    -2.353822 H          1 UNL1 0.0\\n    88 H      -4.186577    -4.864792    -0.618630 H          1 UNL1 0.0\\n    89 H      -4.800518    -6.334947    -1.336117 H          1 UNL1 0.0\\n    90 H      -2.621248    -8.247501    -1.741278 H          1 UNL1 0.0\\n    91 H      -4.205453    -7.530960    -1.914283 H          1 UNL1 0.0\\n    92 H      -3.552031    -7.832283    -0.322017 H          1 UNL1 0.0\\n    93 H      -0.895932    -6.541065    -0.285274 H          1 UNL1 0.0\\n    94 H      -0.724735    -6.428312    -2.020511 H          1 UNL1 0.0\\n    95 H      -1.421598    -7.860820    -1.302618 H          1 UNL1 0.0\\n@<TRIPOS>BOND\\n     1      1      2          1\\n     2      2      3          1\\n     3      3      4          1\\n     4      4      5          2\\n     5      5      1          1\\n     6      4      6          1\\n     7      6      7          1\\n     8      7      8          1\\n     9      8      9          1\\n    10      9     10          1\\n    11     10     11          1\\n    12     11      7          2\\n    13      1     12          1\\n    14     11     13          1\\n    15     13      5          1\\n    16     13     14          1\\n    17     13     15          1\\n    18      6     16          1\\n    19      6     17          1\\n    20     22     23          2\\n    21     21     22          1\\n    22     20     21          2\\n    23     19     20          1\\n    24     18     19          2\\n    25     18     23          1\\n    26      9     18          1\\n    27     28     29          2\\n    28     27     28          1\\n    29     26     27          2\\n    30     25     26          1\\n    31     24     25          2\\n    32     24     29          1\\n    33      2     24          1\\n    34     34     35          2\\n    35     33     34          1\\n    36     32     33          2\\n    37     31     32          1\\n    38     30     31          2\\n    39     30     35          1\\n    40      9     30          1\\n    41     40     41          2\\n    42     39     40          1\\n    43     38     39          2\\n    44     37     38          1\\n    45     36     37          2\\n    46     36     41          1\\n    47      2     36          1\\n    48     42     43          1\\n    49     43     44          2\\n    50     44     45          1\\n    51     45     46          2\\n    52     46     47          1\\n    53     47     48          2\\n    54     48     43          1\\n    55     49     50          1\\n    56     49     51          1\\n    57     49     52          1\\n    58     46     49          1\\n    59     10     42          1\\n    60      1     53          1\\n    61     10     54          1\\n    62     16     55          1\\n    63     16     56          1\\n    64     16     57          1\\n    65     17     58          1\\n    66     17     59          1\\n    67     17     60          1\\n    68     19     61          1\\n    69     20     62          1\\n    70     21     63          1\\n    71     22     64          1\\n    72     23     65          1\\n    73     25     66          1\\n    74     26     67          1\\n    75     27     68          1\\n    76     28     69          1\\n    77     29     70          1\\n    78     31     71          1\\n    79     32     72          1\\n    80     33     73          1\\n    81     34     74          1\\n    82     35     75          1\\n    83     37     76          1\\n    84     38     77          1\\n    85     39     78          1\\n    86     40     79          1\\n    87     41     80          1\\n    88     42     81          1\\n    89     42     82          1\\n    90     44     83          1\\n    91     45     84          1\\n    92     47     85          1\\n    93     48     86          1\\n    94     50     87          1\\n    95     50     88          1\\n    96     50     89          1\\n    97     51     90          1\\n    98     51     91          1\\n    99     51     92          1\\n   100     52     93          1\\n   101     52     94          1\\n   102     52     95          1\\n\",\"mol2\");\n",
       "\tviewer_1684799943224844.setStyle({\"stick\": {\"radius\": 0.1}, \"sphere\": {\"scale\": 0.15}});\n",
       "\tviewer_1684799943224844.setHoverable({},true,\"\\n            function(atom,viewer,event,container) {\\n                if(!atom.label) {\\n                    atom.label = viewer.addLabel(atom.elem + atom.serial, {position: atom, backgroundColor: 'mintcream', fontColor:'black'});\\n                }\\n            }\\n            \",\"\\n            function(atom,viewer) { \\n                if(atom.label) {\\n                    viewer.removeLabel(atom.label);\\n                    delete atom.label;\\n                }\\n            }\\n            \");\n",
       "\tviewer_1684799943224844.zoomTo();\n",
       "\tviewer_1684799943224844.setBackgroundColor(null);\n",
       "viewer_1684799943224844.render();\n",
       "});\n",
       "</script>"
      ]
     },
     "metadata": {},
     "output_type": "display_data"
    },
    {
     "data": {
      "text/plain": [
       "Molecule(name='unknown', formula='C45 H43 Br2 N2 O2 Unknown1')"
      ]
     },
     "execution_count": 96,
     "metadata": {},
     "output_type": "execute_result"
    }
   ],
   "source": [
    "len(combos)\n",
    "combos[74]"
   ]
  }
 ],
 "metadata": {
  "kernelspec": {
   "display_name": "NCSA-workflow-dev",
   "language": "python",
   "name": "python3"
  },
  "language_info": {
   "codemirror_mode": {
    "name": "ipython",
    "version": 3
   },
   "file_extension": ".py",
   "mimetype": "text/x-python",
   "name": "python",
   "nbconvert_exporter": "python",
   "pygments_lexer": "ipython3",
   "version": "3.10.11"
  },
  "orig_nbformat": 4
 },
 "nbformat": 4,
 "nbformat_minor": 2
}
