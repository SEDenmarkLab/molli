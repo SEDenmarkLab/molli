{
 "cells": [
  {
   "cell_type": "markdown",
   "metadata": {},
   "source": [
    "# Welcome to `MOLLI 1.0`\n",
    "\n",
    "## About this tutorial\n",
    "This file is meant to illustrate a few fundamental principles of the new molli package. The difference between old and new style molli is stark, therefore this introductory tutorial will be useful for both experienced people and newcomers."
   ]
  },
  {
   "cell_type": "markdown",
   "metadata": {},
   "source": [
    "## Basic structure of `molli` package.\n",
    "\n",
    "### Subpackages"
   ]
  },
  {
   "cell_type": "code",
   "execution_count": 1,
   "metadata": {},
   "outputs": [],
   "source": [
    "# This is meant to be as iconic as `import numpy as np`\n",
    "import molli as ml"
   ]
  },
  {
   "cell_type": "markdown",
   "metadata": {},
   "source": [
    "## Command line\n",
    "\n",
    "`molli` features a number of standalone scripts for standard procedures, such as parsing a .CDXML file, or for compiling a collection."
   ]
  },
  {
   "cell_type": "code",
   "execution_count": 4,
   "metadata": {},
   "outputs": [
    {
     "name": "stdout",
     "output_type": "stream",
     "text": [
      "usage: molli [-O <file.log>] [-C <file.yml>] [-H] [-V]\n",
      "             {list,align,compile,descriptor,grid,info,parse,recollect,show,test}\n",
      "\n",
      "[molli 1.0.0a3 description] MOLLI package is an API that intends to create a\n",
      "concise and easy-to-use syntax that encompasses the needs of cheminformatics\n",
      "(especially so, but not limited to the workflows developed and used in the\n",
      "Denmark laboratory.\n",
      "\n",
      "positional arguments:\n",
      "  {list,align,compile,descriptor,grid,info,parse,recollect,show,test}\n",
      "                        This is main command that invokes a specific\n",
      "                        standalone routine in MOLLI. To get full explanation\n",
      "                        of available commands, run `molli list`\n",
      "\n",
      "options:\n",
      "  -O <file.log>, --OUTPUT <file.log>\n",
      "                        Sets the file that molli output will be printed into\n",
      "  -C <file.yml>, --CONFIG <file.yml>\n",
      "                        Sets the file from which molli configuration will be\n",
      "                        read from\n",
      "  -H, --HELP\n",
      "  -V, --VERSION         show program's version number and exit\n"
     ]
    }
   ],
   "source": [
    "# This is a shell command\n",
    "!molli --HELP"
   ]
  },
  {
   "cell_type": "code",
   "execution_count": 5,
   "metadata": {},
   "outputs": [
    {
     "name": "stdout",
     "output_type": "stream",
     "text": [
      "\u001b[91mmolli align:\n",
      "NOT IMPLEMENTED\n",
      "\n",
      "\u001b[0m\u001b[32mmolli compile\n",
      "\u001b[0mCompile a lot of files into a molli collection\n",
      "usage: molli compile [-h] source\n",
      "\n",
      "\u001b[32mmolli descriptor\n",
      "\u001b[0mCompute descriptors from a collection\n",
      "usage: molli descriptor [-h] [-w] [-n 4] [-c 512] [-b 128] [-g <grid.npy>]\n",
      "                        {ASO,AEIF,ADIF,AESP,ASR} MLIB_FILE\n",
      "\n",
      "\u001b[32mmolli grid\n",
      "\u001b[0mCreate a grid to be subsequently used in grid based descriptor calculations\n",
      "usage: molli grid [-h] [-o <fpath>] [-f {npy}] [-p 0.0] [-s 1.0] library\n",
      "\n",
      "\u001b[32mmolli info\n",
      "\u001b[0mPrint information about current molli package\n",
      "usage: molli info [-h]\n",
      "\n",
      "\u001b[32mmolli parse\n",
      "\u001b[0mThis package parses chemical files, such as .cdxml, and creates a collection.\n",
      "usage: molli parse [-h] [files ...]\n",
      "\n",
      "\u001b[32mmolli recollect\n",
      "\u001b[0mConvert molli library formats\n",
      "usage: molli recollect [-h] [-o MLI_FILE] [-cm 0 1] [-v] [-s] XML_FILE\n",
      "\n",
      "\u001b[32mmolli show\n",
      "\u001b[0mShow a molecule in a GUI of choice\n",
      "usage: molli show [-h] [-l LIBRARY] [-c COMMAND] [molecules ...]\n",
      "\n",
      "\u001b[32mmolli test\n",
      "\u001b[0mThis module performs unit tests.\n",
      "usage: molli test [-h]\n",
      "\n"
     ]
    }
   ],
   "source": [
    "# This is a shell command\n",
    "!molli list"
   ]
  },
  {
   "cell_type": "code",
   "execution_count": null,
   "metadata": {},
   "outputs": [],
   "source": []
  }
 ],
 "metadata": {
  "kernelspec": {
   "display_name": "Python 3.10.6 ('molli-dev')",
   "language": "python",
   "name": "python3"
  },
  "language_info": {
   "codemirror_mode": {
    "name": "ipython",
    "version": 3
   },
   "file_extension": ".py",
   "mimetype": "text/x-python",
   "name": "python",
   "nbconvert_exporter": "python",
   "pygments_lexer": "ipython3",
   "version": "3.10.6"
  },
  "orig_nbformat": 4,
  "vscode": {
   "interpreter": {
    "hash": "76cbec9d8be6152967bf6eb279a8f9736e48be32763f3b307b1279f8e0121d15"
   }
  }
 },
 "nbformat": 4,
 "nbformat_minor": 2
}
