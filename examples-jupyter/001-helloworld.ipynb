{
 "cells": [
  {
   "cell_type": "markdown",
   "metadata": {},
   "source": [
    "# Welcome to `MOLLI 1.0`\n",
    "\n",
    "## About this tutorial\n",
    "This file is meant to illustrate a few fundamental principles of the new molli package. The difference between old and new style molli is stark, therefore this introductory tutorial will be useful for both experienced people and newcomers."
   ]
  },
  {
   "cell_type": "markdown",
   "metadata": {},
   "source": [
    "## Basic structure of `molli` package.\n",
    "\n",
    "### Subpackages"
   ]
  },
  {
   "cell_type": "code",
   "execution_count": 1,
   "metadata": {},
   "outputs": [],
   "source": [
    "# This is meant to be as iconic as `import numpy as np` :)\n",
    "import molli as ml"
   ]
  },
  {
   "cell_type": "markdown",
   "metadata": {},
   "source": [
    "## Command line\n",
    "\n",
    "`molli` features a number of standalone scripts for standard procedures, such as parsing a .CDXML file, or for compiling a collection."
   ]
  },
  {
   "cell_type": "code",
   "execution_count": 2,
   "metadata": {},
   "outputs": [
    {
     "name": "stdout",
     "output_type": "stream",
     "text": [
      "usage: molli [-C <file.yml>] [-O <file.log>] [-V 0..5] [-D] [-H] [--VERSION]\n",
      "             {list,align,compile,gbca,grid,info,parse,recollect,run,show}\n",
      "\n",
      "[molli 1.0.0a4 description] MOLLI package is an API that intends to create a\n",
      "concise and easy-to-use syntax that encompasses the needs of cheminformatics\n",
      "(especially so, but not limited to the workflows developed and used in the\n",
      "Denmark laboratory.\n",
      "\n",
      "positional arguments:\n",
      "  {list,align,compile,gbca,grid,info,parse,recollect,run,show}\n",
      "                        This is main command that invokes a specific\n",
      "                        standalone routine in MOLLI. To get full explanation\n",
      "                        of available commands, run `molli list`\n",
      "\n",
      "options:\n",
      "  -C <file.yml>, --CONFIG <file.yml>\n",
      "                        Sets the file from which molli configuration will be\n",
      "                        read from\n",
      "  -O <file.log>, --OUTPUT <file.log>\n",
      "                        Sets the file that will contain the output of molli\n",
      "                        routines.\n",
      "  -V 0..5, --VERBOSITY 0..5\n",
      "                        Sets the level of verbosity for molli output. Negative\n",
      "                        numbers will remove all output. Defaults to 0.\n",
      "  -D, --DEBUG           Output will contain debug information\n",
      "  -H, --HELP            show help message and exit\n",
      "  --VERSION             show program's version number and exit\n"
     ]
    }
   ],
   "source": [
    "# This is a shell command\n",
    "!molli --HELP"
   ]
  },
  {
   "cell_type": "code",
   "execution_count": 3,
   "metadata": {},
   "outputs": [
    {
     "name": "stdout",
     "output_type": "stream",
     "text": [
      "\u001b[91mmolli align:\n",
      "NOT IMPLEMENTED\n",
      "\n",
      "\u001b[0m\u001b[32mmolli compile\n",
      "\u001b[0mCompile a lot of files into a molli collection\n",
      "usage: molli compile [-h] source\n",
      "\n",
      "\u001b[32mmolli gbca\n",
      "\u001b[0mCompute descriptors from a library of conformers.\n",
      "Note: the request for parallelized computation is accomodated with the best possible implementation,\n",
      "but not guaranteed.\n",
      "usage: molli descriptor [-h] [-w] [-n 96] [-c 512] [-b 128] [-g <grid.npy>]\n",
      "                        {ASO,AEIF,ADIF,AESP,ASR} MLIB_FILE\n",
      "\n",
      "\u001b[32mmolli grid\n",
      "\u001b[0mCreate a grid to be subsequently used in grid based descriptor calculations\n",
      "usage: molli grid [-h] [-o <fpath>] [-f {npy}] [-p 0.0] [-s 1.0] library\n",
      "\n",
      "\u001b[32mmolli info\n",
      "\u001b[0mPrint information about current molli package\n",
      "usage: molli info [-h]\n",
      "\n",
      "\u001b[32mmolli parse\n",
      "\u001b[0mThis package parses chemical files, such as .cdxml, and creates a collection.\n",
      "usage: molli parse [-h] [files ...]\n",
      "\n",
      "\u001b[32mmolli recollect\n",
      "\u001b[0mConvert molli library formats\n",
      "usage: molli recollect [-h] [-o MLI_FILE] [-cm 0 1] [-v] [-s] XML_FILE\n",
      "\n",
      "\u001b[32mmolli run\n",
      "\u001b[0mRun a custom script that defines `molli_main(args, config, output, **)`\n",
      "usage: molli run <script.py>\n",
      "\n",
      "\u001b[32mmolli show\n",
      "\u001b[0mShow a molecule in a GUI of choice\n",
      "usage: molli show [-h] [-l LIBRARY] [-c COMMAND] [molecules ...]\n",
      "\n"
     ]
    }
   ],
   "source": [
    "# This is a shell command\n",
    "!molli list"
   ]
  },
  {
   "attachments": {},
   "cell_type": "markdown",
   "metadata": {},
   "source": [
    "# Basic objects     \n",
    "\n",
    "Molli features classes that are meant to construct and represent arbitrary chemical entities. They can be constructed completely programmatically or by importing the data from a saved file. Interface with OpenBabel allows to import almost any known chemical format.\n",
    "Generic import functions will look like\n",
    "\n",
    "```python\n",
    "# This function imports a mol2 file from a string\n",
    "mol = ml.Molecule.loads_mol2(mol2_string)\n",
    "\n",
    "# or, similarly, from a file stream\n",
    "mol = ml.Molecule.load_mol2(file_io)\n",
    "```"
   ]
  },
  {
   "cell_type": "code",
   "execution_count": 4,
   "metadata": {},
   "outputs": [
    {
     "name": "stdout",
     "output_type": "stream",
     "text": [
      "Path to a test file /home/shvedalx/repository/molli/molli/files/pentane_confs.mol2\n",
      "17\n",
      "pentane [produced with molli]\n",
      "C        -2.804500     3.996400    -1.412800\n",
      "C        -2.748400     3.317400    -0.053600\n",
      "H        -3.684000     4.644600    -1.476700\n",
      "H        -2.867800     3.257600    -2.218100\n",
      "H        -1.915400     4.612600    -1.580600\n",
      "C        -1.528800     2.404000     0.066300\n",
      "H        -3.665500     2.735900     0.095900\n",
      "H        -2.718500     4.083500     0.729900\n",
      "C        -0.228600     3.184600    -0.124600\n",
      "H        -1.592000     1.606100    -0.683800\n",
      "H        -1.526500     1.921300     1.051200\n",
      "C        -0.089200     4.294900     0.904600\n",
      "H        -0.200100     3.620600    -1.130000\n",
      "H         0.628700     2.506600    -0.040400\n",
      "H        -0.915000     5.009100     0.825500\n",
      "H         0.847200     4.839900     0.749600\n",
      "H        -0.081700     3.888900     1.921200\n",
      "\n"
     ]
    }
   ],
   "source": [
    "fpath = ml.files.mol2.pentane_confs.path\n",
    "print(\"Path to a test file\", fpath)\n",
    "\n",
    "m1 = ml.Molecule.load_mol2(fpath, name=\"pentane\")\n",
    "print(m1.dumps_xyz())"
   ]
  },
  {
   "cell_type": "code",
   "execution_count": 5,
   "metadata": {},
   "outputs": [
    {
     "name": "stdout",
     "output_type": "stream",
     "text": [
      "3\n",
      "Substructure(parent=Molecule(name='pentane', formula='C5 H12'), atoms=[1, 3, 5]) [produced with molli]\n",
      "C        -2.748400     3.317400    -0.053600\n",
      "H        -2.867800     3.257600    -2.218100\n",
      "C        -1.528800     2.404000     0.066300\n",
      "\n",
      "17\n",
      "pentane [produced with molli]\n",
      "C        -2.804500     3.996400    -1.412800\n",
      "C        47.251600    53.317400    49.946400\n",
      "H        -3.684000     4.644600    -1.476700\n",
      "H        47.132200    53.257600    47.781900\n",
      "H        -1.915400     4.612600    -1.580600\n",
      "C        48.471200    52.404000    50.066300\n",
      "H        -3.665500     2.735900     0.095900\n",
      "H        -2.718500     4.083500     0.729900\n",
      "C        -0.228600     3.184600    -0.124600\n",
      "H        -1.592000     1.606100    -0.683800\n",
      "H        -1.526500     1.921300     1.051200\n",
      "C        -0.089200     4.294900     0.904600\n",
      "H        -0.200100     3.620600    -1.130000\n",
      "H         0.628700     2.506600    -0.040400\n",
      "H        -0.915000     5.009100     0.825500\n",
      "H         0.847200     4.839900     0.749600\n",
      "H        -0.081700     3.888900     1.921200\n",
      "\n"
     ]
    }
   ],
   "source": [
    "sub = ml.Substructure(m1, (1, 3, 5))\n",
    "print(sub.dumps_xyz())\n",
    "\n",
    "sub.coords += 50.0\n",
    "print(m1.dumps_xyz())"
   ]
  },
  {
   "cell_type": "code",
   "execution_count": null,
   "metadata": {},
   "outputs": [],
   "source": []
  }
 ],
 "metadata": {
  "kernelspec": {
   "display_name": "base",
   "language": "python",
   "name": "python3"
  },
  "language_info": {
   "codemirror_mode": {
    "name": "ipython",
    "version": 3
   },
   "file_extension": ".py",
   "mimetype": "text/x-python",
   "name": "python",
   "nbconvert_exporter": "python",
   "pygments_lexer": "ipython3",
   "version": "3.10.8 (main, Nov 24 2022, 14:13:03) [GCC 11.2.0]"
  },
  "orig_nbformat": 4,
  "vscode": {
   "interpreter": {
    "hash": "4c66e8f176fbf3df590ec010f6af88e4e499f7786e053ca101a7d8aa8a685488"
   }
  }
 },
 "nbformat": 4,
 "nbformat_minor": 2
}
