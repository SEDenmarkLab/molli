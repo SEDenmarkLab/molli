{
 "cells": [
  {
   "cell_type": "markdown",
   "metadata": {},
   "source": [
    "# Workflow Example: Copper-BOX Catalyst Library\n",
    "\n",
    "This notebook will show a full example of how you might use molli to generate a combinatorial catalyst library and extract features."
   ]
  },
  {
   "cell_type": "code",
   "execution_count": 58,
   "metadata": {},
   "outputs": [],
   "source": [
    "import molli as ml\n",
    "import molli.visual\n",
    "import os\n",
    "from IPython.core.interactiveshell import InteractiveShell\n",
    "InteractiveShell.ast_node_interactivity = 'all'\n",
    "import time\n",
    "import msgpack\n",
    "import attrs"
   ]
  },
  {
   "cell_type": "markdown",
   "metadata": {},
   "source": [
    "# Part 1: Parsing and Combinatorial Expansion"
   ]
  },
  {
   "cell_type": "markdown",
   "metadata": {},
   "source": [
    "Here's how to do combinatorial expansion programmatically in Python"
   ]
  },
  {
   "cell_type": "code",
   "execution_count": 59,
   "metadata": {},
   "outputs": [],
   "source": [
    "# first we read in our cores\n",
    "cores = ml.CDXMLFile(ml.files.BOX_cores)\n",
    "\n",
    "# we will use this to step through the cores and visualize\n",
    "keys = list(cores.keys())\n",
    "\n",
    "i = -1\n"
   ]
  },
  {
   "cell_type": "code",
   "execution_count": 60,
   "metadata": {},
   "outputs": [
    {
     "data": {
      "text/plain": [
       "[Atom(element=Unknown, isotope=None, label='A1', formal_charge=0, formal_spin=0),\n",
       " Atom(element=Unknown, isotope=None, label='A1', formal_charge=0, formal_spin=0),\n",
       " Atom(element=Unknown, isotope=None, label='A2', formal_charge=0, formal_spin=0),\n",
       " Atom(element=Unknown, isotope=None, label='A2', formal_charge=0, formal_spin=0)]"
      ]
     },
     "execution_count": 60,
     "metadata": {},
     "output_type": "execute_result"
    },
    {
     "data": {
      "application/3dmoljs_load.v0": "<div id=\"3dmolviewer_17027607100149255\"  style=\"position: relative; width: 1000px; height: 500px;\">\n        <p id=\"3dmolwarning_17027607100149255\" style=\"background-color:#ffcccc;color:black\">You appear to be running in JupyterLab (or JavaScript failed to load for some other reason).  You need to install the 3dmol extension: <br>\n        <tt>jupyter labextension install jupyterlab_3dmol</tt></p>\n        </div>\n<script>\n\nvar loadScriptAsync = function(uri){\n  return new Promise((resolve, reject) => {\n    //this is to ignore the existence of requirejs amd\n    var savedexports, savedmodule;\n    if (typeof exports !== 'undefined') savedexports = exports;\n    else exports = {}\n    if (typeof module !== 'undefined') savedmodule = module;\n    else module = {}\n\n    var tag = document.createElement('script');\n    tag.src = uri;\n    tag.async = true;\n    tag.onload = () => {\n        exports = savedexports;\n        module = savedmodule;\n        resolve();\n    };\n  var firstScriptTag = document.getElementsByTagName('script')[0];\n  firstScriptTag.parentNode.insertBefore(tag, firstScriptTag);\n});\n};\n\nif(typeof $3Dmolpromise === 'undefined') {\n$3Dmolpromise = null;\n  $3Dmolpromise = loadScriptAsync('https://cdnjs.cloudflare.com/ajax/libs/3Dmol/2.0.4/3Dmol-min.js');\n}\n\nvar viewer_17027607100149255 = null;\nvar warn = document.getElementById(\"3dmolwarning_17027607100149255\");\nif(warn) {\n    warn.parentNode.removeChild(warn);\n}\n$3Dmolpromise.then(function() {\nviewer_17027607100149255 = $3Dmol.createViewer(document.getElementById(\"3dmolviewer_17027607100149255\"),{backgroundColor:\"white\"});\nviewer_17027607100149255.zoomTo();\n\tviewer_17027607100149255.addModel(\"# Produced with molli package\\n@<TRIPOS>MOLECULE\\n2_2\\n34 38 0 0 0\\nSMALL\\nUSER_CHARGES\\n\\n@<TRIPOS>ATOM\\n     1 N       1.478350     0.844281     0.000000 N          1 UNL1 0.0\\n     2 C       2.936683     0.495670     0.000000 C          1 UNL1 0.0\\n     3 C       3.718627     1.776225     0.000000 C          1 UNL1 0.0\\n     4 O       2.743627     2.915114     0.000000 O          1 UNL1 0.0\\n     5 C       1.358905     2.340114     0.000000 C          1 UNL1 0.0\\n     6 C       0.078350     3.120670     0.000000 C          1 UNL1 0.0\\n     7 C      -1.239706     2.402614     0.000000 C          1 UNL1 0.0\\n     8 O      -2.593873     3.048448     0.000000 O          1 UNL1 0.0\\n     9 C      -3.624428     1.958170     0.000000 C          1 UNL1 0.0\\n    10 C      -2.906373     0.640114     0.000000 C          1 UNL1 0.0\\n    11 N      -1.432761     0.915114     0.000000 N          1 UNL1 0.0\\n    12 C      -3.228595    -0.036969    -1.298771 C          1 UNL1 0.0\\n    13 C       3.224877    -0.196691     1.298946 C          1 UNL1 0.0\\n    14 C       2.169652    -1.042136     1.948495 C          1 UNL1 0.0\\n    15 C       2.456560    -1.734744     3.246979 C          1 UNL1 0.0\\n    16 C       3.799734    -1.582457     3.897485 C          1 UNL1 0.0\\n    17 C       4.856245    -0.736765     3.248398 C          1 UNL1 0.0\\n    18 C       4.568051    -0.044404     1.949452 C          1 UNL1 0.0\\n    19 C      -4.563146     0.182487    -1.948845 C          1 UNL1 0.0\\n    20 C      -4.883838    -0.495689    -3.248185 C          1 UNL1 0.0\\n    21 C      -3.872770    -1.391958    -3.897400 C          1 UNL1 0.0\\n    22 C      -2.538218    -1.611414    -3.247327 C          1 UNL1 0.0\\n    23 C      -2.216265    -0.933508    -1.947469 C          1 UNL1 0.0\\n    24 C      -5.111928     2.152614     0.000000 C          1 UNL1 0.0\\n    25 C      -3.624428     1.958170     1.499314 C          1 UNL1 0.0\\n    26 C       5.214461     1.895670     0.000000 C          1 UNL1 0.0\\n    27 C       3.718627     1.776225     1.499581 C          1 UNL1 0.0\\n    28 Cu     -0.121650    -0.289052     0.000000 Cu         1 UNL1 0.0\\n    29 Cl     -0.121650    -0.289052     1.687582 Cl         1 UNL1 0.0\\n    30 Cl     -0.687034    -0.615802    -1.803866 Cl         1 UNL1 0.0\\n    31 A1     -4.193731    -2.069311    -5.195655 Unknown    1 UNL1 0.0\\n    32 A1      4.087928    -2.274818     5.196431 Unknown    1 UNL1 0.0\\n    33 A2      0.078350     3.120670     1.645707 Unknown    1 UNL1 0.0\\n    34 A2     -0.719142     3.841241    -1.131061 Unknown    1 UNL1 0.0\\n@<TRIPOS>BOND\\n     1      1      2          1\\n     2      2      3          1\\n     3      3      4          1\\n     4      4      5          1\\n     5      5      1          2\\n     6      5      6          1\\n     7      6      7          1\\n     8      7      8          1\\n     9      8      9          1\\n    10      9     10          1\\n    11     10     11          1\\n    12     11      7          2\\n    13      6     33          1\\n    14      6     34          1\\n    15     10     12          1\\n    16      2     13          1\\n    17     13     14          2\\n    18     14     15          1\\n    19     15     16          2\\n    20     16     17          1\\n    21     17     18          2\\n    22     18     13          1\\n    23     12     19          2\\n    24     19     20          1\\n    25     20     21          2\\n    26     21     22          1\\n    27     22     23          2\\n    28     23     12          1\\n    29     21     31          1\\n    30     16     32          1\\n    31      9     24          1\\n    32      9     25          1\\n    33      3     26          1\\n    34      3     27          1\\n    35     11     28          1\\n    36     28      1          1\\n    37     28     29          1\\n    38     28     30          1\\n\",\"mol2\");\n\tviewer_17027607100149255.setStyle({\"stick\": {\"radius\": 0.1}, \"sphere\": {\"scale\": 0.15}});\n\tviewer_17027607100149255.setHoverable({},true,\"\\n            function(atom,viewer,event,container) {\\n                if(!atom.label) {\\n                    atom.label = viewer.addLabel(atom.elem + atom.serial, {position: atom, backgroundColor: 'mintcream', fontColor:'black'});\\n                }\\n            }\\n            \",\"\\n            function(atom,viewer) { \\n                if(atom.label) {\\n                    viewer.removeLabel(atom.label);\\n                    delete atom.label;\\n                }\\n            }\\n            \");\n\tviewer_17027607100149255.zoomTo();\n\tviewer_17027607100149255.setBackgroundColor(null);\nviewer_17027607100149255.render();\n});\n</script>",
      "text/html": [
       "<div id=\"3dmolviewer_17027607100149255\"  style=\"position: relative; width: 1000px; height: 500px;\">\n",
       "        <p id=\"3dmolwarning_17027607100149255\" style=\"background-color:#ffcccc;color:black\">You appear to be running in JupyterLab (or JavaScript failed to load for some other reason).  You need to install the 3dmol extension: <br>\n",
       "        <tt>jupyter labextension install jupyterlab_3dmol</tt></p>\n",
       "        </div>\n",
       "<script>\n",
       "\n",
       "var loadScriptAsync = function(uri){\n",
       "  return new Promise((resolve, reject) => {\n",
       "    //this is to ignore the existence of requirejs amd\n",
       "    var savedexports, savedmodule;\n",
       "    if (typeof exports !== 'undefined') savedexports = exports;\n",
       "    else exports = {}\n",
       "    if (typeof module !== 'undefined') savedmodule = module;\n",
       "    else module = {}\n",
       "\n",
       "    var tag = document.createElement('script');\n",
       "    tag.src = uri;\n",
       "    tag.async = true;\n",
       "    tag.onload = () => {\n",
       "        exports = savedexports;\n",
       "        module = savedmodule;\n",
       "        resolve();\n",
       "    };\n",
       "  var firstScriptTag = document.getElementsByTagName('script')[0];\n",
       "  firstScriptTag.parentNode.insertBefore(tag, firstScriptTag);\n",
       "});\n",
       "};\n",
       "\n",
       "if(typeof $3Dmolpromise === 'undefined') {\n",
       "$3Dmolpromise = null;\n",
       "  $3Dmolpromise = loadScriptAsync('https://cdnjs.cloudflare.com/ajax/libs/3Dmol/2.0.4/3Dmol-min.js');\n",
       "}\n",
       "\n",
       "var viewer_17027607100149255 = null;\n",
       "var warn = document.getElementById(\"3dmolwarning_17027607100149255\");\n",
       "if(warn) {\n",
       "    warn.parentNode.removeChild(warn);\n",
       "}\n",
       "$3Dmolpromise.then(function() {\n",
       "viewer_17027607100149255 = $3Dmol.createViewer(document.getElementById(\"3dmolviewer_17027607100149255\"),{backgroundColor:\"white\"});\n",
       "viewer_17027607100149255.zoomTo();\n",
       "\tviewer_17027607100149255.addModel(\"# Produced with molli package\\n@<TRIPOS>MOLECULE\\n2_2\\n34 38 0 0 0\\nSMALL\\nUSER_CHARGES\\n\\n@<TRIPOS>ATOM\\n     1 N       1.478350     0.844281     0.000000 N          1 UNL1 0.0\\n     2 C       2.936683     0.495670     0.000000 C          1 UNL1 0.0\\n     3 C       3.718627     1.776225     0.000000 C          1 UNL1 0.0\\n     4 O       2.743627     2.915114     0.000000 O          1 UNL1 0.0\\n     5 C       1.358905     2.340114     0.000000 C          1 UNL1 0.0\\n     6 C       0.078350     3.120670     0.000000 C          1 UNL1 0.0\\n     7 C      -1.239706     2.402614     0.000000 C          1 UNL1 0.0\\n     8 O      -2.593873     3.048448     0.000000 O          1 UNL1 0.0\\n     9 C      -3.624428     1.958170     0.000000 C          1 UNL1 0.0\\n    10 C      -2.906373     0.640114     0.000000 C          1 UNL1 0.0\\n    11 N      -1.432761     0.915114     0.000000 N          1 UNL1 0.0\\n    12 C      -3.228595    -0.036969    -1.298771 C          1 UNL1 0.0\\n    13 C       3.224877    -0.196691     1.298946 C          1 UNL1 0.0\\n    14 C       2.169652    -1.042136     1.948495 C          1 UNL1 0.0\\n    15 C       2.456560    -1.734744     3.246979 C          1 UNL1 0.0\\n    16 C       3.799734    -1.582457     3.897485 C          1 UNL1 0.0\\n    17 C       4.856245    -0.736765     3.248398 C          1 UNL1 0.0\\n    18 C       4.568051    -0.044404     1.949452 C          1 UNL1 0.0\\n    19 C      -4.563146     0.182487    -1.948845 C          1 UNL1 0.0\\n    20 C      -4.883838    -0.495689    -3.248185 C          1 UNL1 0.0\\n    21 C      -3.872770    -1.391958    -3.897400 C          1 UNL1 0.0\\n    22 C      -2.538218    -1.611414    -3.247327 C          1 UNL1 0.0\\n    23 C      -2.216265    -0.933508    -1.947469 C          1 UNL1 0.0\\n    24 C      -5.111928     2.152614     0.000000 C          1 UNL1 0.0\\n    25 C      -3.624428     1.958170     1.499314 C          1 UNL1 0.0\\n    26 C       5.214461     1.895670     0.000000 C          1 UNL1 0.0\\n    27 C       3.718627     1.776225     1.499581 C          1 UNL1 0.0\\n    28 Cu     -0.121650    -0.289052     0.000000 Cu         1 UNL1 0.0\\n    29 Cl     -0.121650    -0.289052     1.687582 Cl         1 UNL1 0.0\\n    30 Cl     -0.687034    -0.615802    -1.803866 Cl         1 UNL1 0.0\\n    31 A1     -4.193731    -2.069311    -5.195655 Unknown    1 UNL1 0.0\\n    32 A1      4.087928    -2.274818     5.196431 Unknown    1 UNL1 0.0\\n    33 A2      0.078350     3.120670     1.645707 Unknown    1 UNL1 0.0\\n    34 A2     -0.719142     3.841241    -1.131061 Unknown    1 UNL1 0.0\\n@<TRIPOS>BOND\\n     1      1      2          1\\n     2      2      3          1\\n     3      3      4          1\\n     4      4      5          1\\n     5      5      1          2\\n     6      5      6          1\\n     7      6      7          1\\n     8      7      8          1\\n     9      8      9          1\\n    10      9     10          1\\n    11     10     11          1\\n    12     11      7          2\\n    13      6     33          1\\n    14      6     34          1\\n    15     10     12          1\\n    16      2     13          1\\n    17     13     14          2\\n    18     14     15          1\\n    19     15     16          2\\n    20     16     17          1\\n    21     17     18          2\\n    22     18     13          1\\n    23     12     19          2\\n    24     19     20          1\\n    25     20     21          2\\n    26     21     22          1\\n    27     22     23          2\\n    28     23     12          1\\n    29     21     31          1\\n    30     16     32          1\\n    31      9     24          1\\n    32      9     25          1\\n    33      3     26          1\\n    34      3     27          1\\n    35     11     28          1\\n    36     28      1          1\\n    37     28     29          1\\n    38     28     30          1\\n\",\"mol2\");\n",
       "\tviewer_17027607100149255.setStyle({\"stick\": {\"radius\": 0.1}, \"sphere\": {\"scale\": 0.15}});\n",
       "\tviewer_17027607100149255.setHoverable({},true,\"\\n            function(atom,viewer,event,container) {\\n                if(!atom.label) {\\n                    atom.label = viewer.addLabel(atom.elem + atom.serial, {position: atom, backgroundColor: 'mintcream', fontColor:'black'});\\n                }\\n            }\\n            \",\"\\n            function(atom,viewer) { \\n                if(atom.label) {\\n                    viewer.removeLabel(atom.label);\\n                    delete atom.label;\\n                }\\n            }\\n            \");\n",
       "\tviewer_17027607100149255.zoomTo();\n",
       "\tviewer_17027607100149255.setBackgroundColor(null);\n",
       "viewer_17027607100149255.render();\n",
       "});\n",
       "</script>"
      ]
     },
     "metadata": {},
     "output_type": "display_data"
    },
    {
     "data": {
      "text/plain": [
       "Molecule(name='2_2', formula='C23 Cl2 Cu1 N2 O2 Unknown4')"
      ]
     },
     "execution_count": 60,
     "metadata": {},
     "output_type": "execute_result"
    }
   ],
   "source": [
    "# control + enter on this cell to visualize BOX cores one by one\n",
    "\n",
    "try:\n",
    "    i += 1\n",
    "    # note each core has 4 attachment points, 2 labelled A1 (the pendant 4,4' positions), and 2 labelled A2 (the bridging position).\n",
    "    attachment_points = [a for a in cores[keys[i]].atoms if a.atype == ml.AtomType.AttachmentPoint]\n",
    "    attachment_points\n",
    "    # visualize the core\n",
    "    cores[keys[i]]\n",
    "except IndexError:\n",
    "    \"Restarting from beginning!\"\n",
    "    i = -1\n",
    "\n",
    "# these look good, aside from some weird geometry that we will iron out later"
   ]
  },
  {
   "cell_type": "code",
   "execution_count": 61,
   "metadata": {},
   "outputs": [],
   "source": [
    "# now we will expand the bridging groups\n",
    "bridging_groups = ml.CDXMLFile(ml.files.BOX_bridge)\n",
    "\n",
    "# this will be our exapnded collection\n",
    "cores_and_bridge_mols = []\n",
    "\n",
    "for core in cores.keys():\n",
    "    # get our core structure\n",
    "    core_mol = cores[core]\n",
    "\n",
    "    # make a molecule for each core + bridging groups\n",
    "    for bridging_fragment in bridging_groups.keys():\n",
    "        # get our bridge structure - molli assigns default 'AP1' label to attachment points without chemdraw-specified labels\n",
    "        bridge_mol = bridging_groups[bridging_fragment]\n",
    "        # join one bridging group fragment\n",
    "        expanded = ml.Molecule.join(core_mol, bridge_mol, 'A2', 'AP1')\n",
    "        #join the other\n",
    "        expanded = ml.Molecule.join(expanded, bridge_mol, 'A2', 'AP1', name = '_'.join([core_mol.name, bridge_mol.name]))\n",
    "        # add to our collection\n",
    "        cores_and_bridge_mols.append(expanded)"
   ]
  },
  {
   "cell_type": "code",
   "execution_count": 62,
   "metadata": {},
   "outputs": [
    {
     "data": {
      "text/plain": [
       "18"
      ]
     },
     "execution_count": 62,
     "metadata": {},
     "output_type": "execute_result"
    }
   ],
   "source": [
    "# we can see we exapnded to 18 structures\n",
    "len(cores_and_bridge_mols)\n",
    "# let's visualize\n",
    "i = -1"
   ]
  },
  {
   "cell_type": "code",
   "execution_count": 63,
   "metadata": {},
   "outputs": [
    {
     "data": {
      "application/3dmoljs_load.v0": "<div id=\"3dmolviewer_17027607134356792\"  style=\"position: relative; width: 1000px; height: 500px;\">\n        <p id=\"3dmolwarning_17027607134356792\" style=\"background-color:#ffcccc;color:black\">You appear to be running in JupyterLab (or JavaScript failed to load for some other reason).  You need to install the 3dmol extension: <br>\n        <tt>jupyter labextension install jupyterlab_3dmol</tt></p>\n        </div>\n<script>\n\nvar loadScriptAsync = function(uri){\n  return new Promise((resolve, reject) => {\n    //this is to ignore the existence of requirejs amd\n    var savedexports, savedmodule;\n    if (typeof exports !== 'undefined') savedexports = exports;\n    else exports = {}\n    if (typeof module !== 'undefined') savedmodule = module;\n    else module = {}\n\n    var tag = document.createElement('script');\n    tag.src = uri;\n    tag.async = true;\n    tag.onload = () => {\n        exports = savedexports;\n        module = savedmodule;\n        resolve();\n    };\n  var firstScriptTag = document.getElementsByTagName('script')[0];\n  firstScriptTag.parentNode.insertBefore(tag, firstScriptTag);\n});\n};\n\nif(typeof $3Dmolpromise === 'undefined') {\n$3Dmolpromise = null;\n  $3Dmolpromise = loadScriptAsync('https://cdnjs.cloudflare.com/ajax/libs/3Dmol/2.0.4/3Dmol-min.js');\n}\n\nvar viewer_17027607134356792 = null;\nvar warn = document.getElementById(\"3dmolwarning_17027607134356792\");\nif(warn) {\n    warn.parentNode.removeChild(warn);\n}\n$3Dmolpromise.then(function() {\nviewer_17027607134356792 = $3Dmol.createViewer(document.getElementById(\"3dmolviewer_17027607134356792\"),{backgroundColor:\"white\"});\nviewer_17027607134356792.zoomTo();\n\tviewer_17027607134356792.addModel(\"# Produced with molli package\\n@<TRIPOS>MOLECULE\\n2_2_H\\n34 38 0 0 0\\nSMALL\\nUSER_CHARGES\\n\\n@<TRIPOS>ATOM\\n     1 N       1.400000    -2.276389     0.000000 N          1 UNL1 0.0\\n     2 C       2.858333    -2.625000     0.000000 C          1 UNL1 0.0\\n     3 C       3.640278    -1.344444     0.000000 C          1 UNL1 0.0\\n     4 O       2.665278    -0.205556     0.000000 O          1 UNL1 0.0\\n     5 C       1.280556    -0.780556     0.000000 C          1 UNL1 0.0\\n     6 C       0.000000     0.000000     0.000000 C          1 UNL1 0.0\\n     7 C      -1.318056    -0.718056     0.000000 C          1 UNL1 0.0\\n     8 O      -2.672222    -0.072222     0.000000 O          1 UNL1 0.0\\n     9 C      -3.702778    -1.162500     0.000000 C          1 UNL1 0.0\\n    10 C      -2.984722    -2.480556     0.000000 C          1 UNL1 0.0\\n    11 N      -1.511111    -2.205556     0.000000 N          1 UNL1 0.0\\n    12 C      -3.306944    -3.157639    -1.298771 C          1 UNL1 0.0\\n    13 C       3.146528    -3.317361     1.298946 C          1 UNL1 0.0\\n    14 C       2.091302    -4.162806     1.948495 C          1 UNL1 0.0\\n    15 C       2.378211    -4.855414     3.246979 C          1 UNL1 0.0\\n    16 C       3.721384    -4.703127     3.897485 C          1 UNL1 0.0\\n    17 C       4.777896    -3.857435     3.248398 C          1 UNL1 0.0\\n    18 C       4.489701    -3.165074     1.949452 C          1 UNL1 0.0\\n    19 C      -4.641496    -2.938183    -1.948845 C          1 UNL1 0.0\\n    20 C      -4.962188    -3.616359    -3.248185 C          1 UNL1 0.0\\n    21 C      -3.951119    -4.512628    -3.897400 C          1 UNL1 0.0\\n    22 C      -2.616568    -4.732084    -3.247327 C          1 UNL1 0.0\\n    23 C      -2.294615    -4.054178    -1.947469 C          1 UNL1 0.0\\n    24 C      -5.190278    -0.968056     0.000000 C          1 UNL1 0.0\\n    25 C      -3.702778    -1.162500     1.499314 C          1 UNL1 0.0\\n    26 C       5.136111    -1.225000     0.000000 C          1 UNL1 0.0\\n    27 C       3.640278    -1.344444     1.499581 C          1 UNL1 0.0\\n    28 Cu     -0.200000    -3.409722     0.000000 Cu         1 UNL1 0.0\\n    29 Cl     -0.200000    -3.409722     1.687582 Cl         1 UNL1 0.0\\n    30 Cl     -0.765383    -3.736472    -1.803866 Cl         1 UNL1 0.0\\n    31 A1     -4.272081    -5.189981    -5.195655 Unknown    1 UNL1 0.0\\n    32 A1      4.009578    -5.395488     5.196431 Unknown    1 UNL1 0.0\\n    33 H       0.000000     0.000000     1.070000 H          1 UNL1 0.0\\n    34 H      -0.546895     0.494145    -0.775646 H          1 UNL1 0.0\\n@<TRIPOS>BOND\\n     1      1      2          1\\n     2      2      3          1\\n     3      3      4          1\\n     4      4      5          1\\n     5      5      1          2\\n     6      5      6          1\\n     7      6      7          1\\n     8      7      8          1\\n     9      8      9          1\\n    10      9     10          1\\n    11     10     11          1\\n    12     11      7          2\\n    13     10     12          1\\n    14      2     13          1\\n    15     13     14          2\\n    16     14     15          1\\n    17     15     16          2\\n    18     16     17          1\\n    19     17     18          2\\n    20     18     13          1\\n    21     12     19          2\\n    22     19     20          1\\n    23     20     21          2\\n    24     21     22          1\\n    25     22     23          2\\n    26     23     12          1\\n    27     21     31          1\\n    28     16     32          1\\n    29      9     24          1\\n    30      9     25          1\\n    31      3     26          1\\n    32      3     27          1\\n    33     11     28          1\\n    34     28      1          1\\n    35     28     29          1\\n    36     28     30          1\\n    37      6     33          1\\n    38      6     34          1\\n\",\"mol2\");\n\tviewer_17027607134356792.setStyle({\"stick\": {\"radius\": 0.1}, \"sphere\": {\"scale\": 0.15}});\n\tviewer_17027607134356792.setHoverable({},true,\"\\n            function(atom,viewer,event,container) {\\n                if(!atom.label) {\\n                    atom.label = viewer.addLabel(atom.elem + atom.serial, {position: atom, backgroundColor: 'mintcream', fontColor:'black'});\\n                }\\n            }\\n            \",\"\\n            function(atom,viewer) { \\n                if(atom.label) {\\n                    viewer.removeLabel(atom.label);\\n                    delete atom.label;\\n                }\\n            }\\n            \");\n\tviewer_17027607134356792.zoomTo();\n\tviewer_17027607134356792.setBackgroundColor(null);\nviewer_17027607134356792.render();\n});\n</script>",
      "text/html": [
       "<div id=\"3dmolviewer_17027607134356792\"  style=\"position: relative; width: 1000px; height: 500px;\">\n",
       "        <p id=\"3dmolwarning_17027607134356792\" style=\"background-color:#ffcccc;color:black\">You appear to be running in JupyterLab (or JavaScript failed to load for some other reason).  You need to install the 3dmol extension: <br>\n",
       "        <tt>jupyter labextension install jupyterlab_3dmol</tt></p>\n",
       "        </div>\n",
       "<script>\n",
       "\n",
       "var loadScriptAsync = function(uri){\n",
       "  return new Promise((resolve, reject) => {\n",
       "    //this is to ignore the existence of requirejs amd\n",
       "    var savedexports, savedmodule;\n",
       "    if (typeof exports !== 'undefined') savedexports = exports;\n",
       "    else exports = {}\n",
       "    if (typeof module !== 'undefined') savedmodule = module;\n",
       "    else module = {}\n",
       "\n",
       "    var tag = document.createElement('script');\n",
       "    tag.src = uri;\n",
       "    tag.async = true;\n",
       "    tag.onload = () => {\n",
       "        exports = savedexports;\n",
       "        module = savedmodule;\n",
       "        resolve();\n",
       "    };\n",
       "  var firstScriptTag = document.getElementsByTagName('script')[0];\n",
       "  firstScriptTag.parentNode.insertBefore(tag, firstScriptTag);\n",
       "});\n",
       "};\n",
       "\n",
       "if(typeof $3Dmolpromise === 'undefined') {\n",
       "$3Dmolpromise = null;\n",
       "  $3Dmolpromise = loadScriptAsync('https://cdnjs.cloudflare.com/ajax/libs/3Dmol/2.0.4/3Dmol-min.js');\n",
       "}\n",
       "\n",
       "var viewer_17027607134356792 = null;\n",
       "var warn = document.getElementById(\"3dmolwarning_17027607134356792\");\n",
       "if(warn) {\n",
       "    warn.parentNode.removeChild(warn);\n",
       "}\n",
       "$3Dmolpromise.then(function() {\n",
       "viewer_17027607134356792 = $3Dmol.createViewer(document.getElementById(\"3dmolviewer_17027607134356792\"),{backgroundColor:\"white\"});\n",
       "viewer_17027607134356792.zoomTo();\n",
       "\tviewer_17027607134356792.addModel(\"# Produced with molli package\\n@<TRIPOS>MOLECULE\\n2_2_H\\n34 38 0 0 0\\nSMALL\\nUSER_CHARGES\\n\\n@<TRIPOS>ATOM\\n     1 N       1.400000    -2.276389     0.000000 N          1 UNL1 0.0\\n     2 C       2.858333    -2.625000     0.000000 C          1 UNL1 0.0\\n     3 C       3.640278    -1.344444     0.000000 C          1 UNL1 0.0\\n     4 O       2.665278    -0.205556     0.000000 O          1 UNL1 0.0\\n     5 C       1.280556    -0.780556     0.000000 C          1 UNL1 0.0\\n     6 C       0.000000     0.000000     0.000000 C          1 UNL1 0.0\\n     7 C      -1.318056    -0.718056     0.000000 C          1 UNL1 0.0\\n     8 O      -2.672222    -0.072222     0.000000 O          1 UNL1 0.0\\n     9 C      -3.702778    -1.162500     0.000000 C          1 UNL1 0.0\\n    10 C      -2.984722    -2.480556     0.000000 C          1 UNL1 0.0\\n    11 N      -1.511111    -2.205556     0.000000 N          1 UNL1 0.0\\n    12 C      -3.306944    -3.157639    -1.298771 C          1 UNL1 0.0\\n    13 C       3.146528    -3.317361     1.298946 C          1 UNL1 0.0\\n    14 C       2.091302    -4.162806     1.948495 C          1 UNL1 0.0\\n    15 C       2.378211    -4.855414     3.246979 C          1 UNL1 0.0\\n    16 C       3.721384    -4.703127     3.897485 C          1 UNL1 0.0\\n    17 C       4.777896    -3.857435     3.248398 C          1 UNL1 0.0\\n    18 C       4.489701    -3.165074     1.949452 C          1 UNL1 0.0\\n    19 C      -4.641496    -2.938183    -1.948845 C          1 UNL1 0.0\\n    20 C      -4.962188    -3.616359    -3.248185 C          1 UNL1 0.0\\n    21 C      -3.951119    -4.512628    -3.897400 C          1 UNL1 0.0\\n    22 C      -2.616568    -4.732084    -3.247327 C          1 UNL1 0.0\\n    23 C      -2.294615    -4.054178    -1.947469 C          1 UNL1 0.0\\n    24 C      -5.190278    -0.968056     0.000000 C          1 UNL1 0.0\\n    25 C      -3.702778    -1.162500     1.499314 C          1 UNL1 0.0\\n    26 C       5.136111    -1.225000     0.000000 C          1 UNL1 0.0\\n    27 C       3.640278    -1.344444     1.499581 C          1 UNL1 0.0\\n    28 Cu     -0.200000    -3.409722     0.000000 Cu         1 UNL1 0.0\\n    29 Cl     -0.200000    -3.409722     1.687582 Cl         1 UNL1 0.0\\n    30 Cl     -0.765383    -3.736472    -1.803866 Cl         1 UNL1 0.0\\n    31 A1     -4.272081    -5.189981    -5.195655 Unknown    1 UNL1 0.0\\n    32 A1      4.009578    -5.395488     5.196431 Unknown    1 UNL1 0.0\\n    33 H       0.000000     0.000000     1.070000 H          1 UNL1 0.0\\n    34 H      -0.546895     0.494145    -0.775646 H          1 UNL1 0.0\\n@<TRIPOS>BOND\\n     1      1      2          1\\n     2      2      3          1\\n     3      3      4          1\\n     4      4      5          1\\n     5      5      1          2\\n     6      5      6          1\\n     7      6      7          1\\n     8      7      8          1\\n     9      8      9          1\\n    10      9     10          1\\n    11     10     11          1\\n    12     11      7          2\\n    13     10     12          1\\n    14      2     13          1\\n    15     13     14          2\\n    16     14     15          1\\n    17     15     16          2\\n    18     16     17          1\\n    19     17     18          2\\n    20     18     13          1\\n    21     12     19          2\\n    22     19     20          1\\n    23     20     21          2\\n    24     21     22          1\\n    25     22     23          2\\n    26     23     12          1\\n    27     21     31          1\\n    28     16     32          1\\n    29      9     24          1\\n    30      9     25          1\\n    31      3     26          1\\n    32      3     27          1\\n    33     11     28          1\\n    34     28      1          1\\n    35     28     29          1\\n    36     28     30          1\\n    37      6     33          1\\n    38      6     34          1\\n\",\"mol2\");\n",
       "\tviewer_17027607134356792.setStyle({\"stick\": {\"radius\": 0.1}, \"sphere\": {\"scale\": 0.15}});\n",
       "\tviewer_17027607134356792.setHoverable({},true,\"\\n            function(atom,viewer,event,container) {\\n                if(!atom.label) {\\n                    atom.label = viewer.addLabel(atom.elem + atom.serial, {position: atom, backgroundColor: 'mintcream', fontColor:'black'});\\n                }\\n            }\\n            \",\"\\n            function(atom,viewer) { \\n                if(atom.label) {\\n                    viewer.removeLabel(atom.label);\\n                    delete atom.label;\\n                }\\n            }\\n            \");\n",
       "\tviewer_17027607134356792.zoomTo();\n",
       "\tviewer_17027607134356792.setBackgroundColor(null);\n",
       "viewer_17027607134356792.render();\n",
       "});\n",
       "</script>"
      ]
     },
     "metadata": {},
     "output_type": "display_data"
    },
    {
     "data": {
      "text/plain": [
       "Molecule(name='2_2_H', formula='C23 H2 Cl2 Cu1 N2 O2 Unknown2')"
      ]
     },
     "execution_count": 63,
     "metadata": {},
     "output_type": "execute_result"
    }
   ],
   "source": [
    "# control + enter on this cell to visualize BOX cores one by one\n",
    "\n",
    "try:\n",
    "    i += 1\n",
    "    # visualize the expanded structure\n",
    "    cores_and_bridge_mols[i]\n",
    "except IndexError:\n",
    "    \"Restarting from beginning!\"\n",
    "    i = -1"
   ]
  },
  {
   "cell_type": "code",
   "execution_count": 64,
   "metadata": {},
   "outputs": [],
   "source": [
    "# now we will expand the 4-positions as above\n",
    "\n",
    "# now we will expand the bridging groups\n",
    "four_positions = ml.CDXMLFile(ml.files.BOX_4_position)\n",
    "\n",
    "# this will be our exapnded collection\n",
    "fully_expanded_mols = []\n",
    "\n",
    "for core_and_bridge in cores_and_bridge_mols:\n",
    "\n",
    "    # make a molecule for each core + bridging groups\n",
    "    for pos4 in four_positions.keys():\n",
    "        # get our 4-position fragment\n",
    "        pos4_mol = four_positions[pos4]\n",
    "        # join one 4-position group fragment\n",
    "        expanded = ml.Molecule.join(core_and_bridge, pos4_mol, 'A1', 'AP1')\n",
    "        #join the other\n",
    "        expanded = ml.Molecule.join(expanded, pos4_mol, 'A1', 'AP1', name = '_'.join([ pos4_mol.name, core_and_bridge.name]))\n",
    "        # add to our collection\n",
    "        fully_expanded_mols.append(expanded)"
   ]
  },
  {
   "cell_type": "code",
   "execution_count": 65,
   "metadata": {},
   "outputs": [
    {
     "data": {
      "text/plain": [
       "1152"
      ]
     },
     "execution_count": 65,
     "metadata": {},
     "output_type": "execute_result"
    }
   ],
   "source": [
    "# we can see we exapnded to 1152 structures\n",
    "len(fully_expanded_mols)\n",
    "# let's visualize\n",
    "i = -1"
   ]
  },
  {
   "cell_type": "code",
   "execution_count": 66,
   "metadata": {},
   "outputs": [
    {
     "data": {
      "application/3dmoljs_load.v0": "<div id=\"3dmolviewer_1702760719104288\"  style=\"position: relative; width: 1000px; height: 500px;\">\n        <p id=\"3dmolwarning_1702760719104288\" style=\"background-color:#ffcccc;color:black\">You appear to be running in JupyterLab (or JavaScript failed to load for some other reason).  You need to install the 3dmol extension: <br>\n        <tt>jupyter labextension install jupyterlab_3dmol</tt></p>\n        </div>\n<script>\n\nvar loadScriptAsync = function(uri){\n  return new Promise((resolve, reject) => {\n    //this is to ignore the existence of requirejs amd\n    var savedexports, savedmodule;\n    if (typeof exports !== 'undefined') savedexports = exports;\n    else exports = {}\n    if (typeof module !== 'undefined') savedmodule = module;\n    else module = {}\n\n    var tag = document.createElement('script');\n    tag.src = uri;\n    tag.async = true;\n    tag.onload = () => {\n        exports = savedexports;\n        module = savedmodule;\n        resolve();\n    };\n  var firstScriptTag = document.getElementsByTagName('script')[0];\n  firstScriptTag.parentNode.insertBefore(tag, firstScriptTag);\n});\n};\n\nif(typeof $3Dmolpromise === 'undefined') {\n$3Dmolpromise = null;\n  $3Dmolpromise = loadScriptAsync('https://cdnjs.cloudflare.com/ajax/libs/3Dmol/2.0.4/3Dmol-min.js');\n}\n\nvar viewer_1702760719104288 = null;\nvar warn = document.getElementById(\"3dmolwarning_1702760719104288\");\nif(warn) {\n    warn.parentNode.removeChild(warn);\n}\n$3Dmolpromise.then(function() {\nviewer_1702760719104288 = $3Dmol.createViewer(document.getElementById(\"3dmolviewer_1702760719104288\"),{backgroundColor:\"white\"});\nviewer_1702760719104288.zoomTo();\n\tviewer_1702760719104288.addModel(\"# Produced with molli package\\n@<TRIPOS>MOLECULE\\n420_2_2_H\\n54 62 0 0 0\\nSMALL\\nUSER_CHARGES\\n\\n@<TRIPOS>ATOM\\n     1 N      -2.321384     2.426738    -3.897485 N          1 UNL1 0.0\\n     2 C      -0.863051     2.078127    -3.897485 C          1 UNL1 0.0\\n     3 C      -0.081106     3.358682    -3.897485 C          1 UNL1 0.0\\n     4 O      -1.056106     4.497571    -3.897485 O          1 UNL1 0.0\\n     5 C      -2.440828     3.922571    -3.897485 C          1 UNL1 0.0\\n     6 C      -3.721384     4.703127    -3.897485 C          1 UNL1 0.0\\n     7 C      -5.039440     3.985071    -3.897485 C          1 UNL1 0.0\\n     8 O      -6.393606     4.630904    -3.897485 O          1 UNL1 0.0\\n     9 C      -7.424162     3.540627    -3.897485 C          1 UNL1 0.0\\n    10 C      -6.706106     2.222571    -3.897485 C          1 UNL1 0.0\\n    11 N      -5.232495     2.497571    -3.897485 N          1 UNL1 0.0\\n    12 C      -7.028328     1.545488    -5.196257 C          1 UNL1 0.0\\n    13 C      -0.574856     1.385766    -2.598540 C          1 UNL1 0.0\\n    14 C      -1.630082     0.540320    -1.948990 C          1 UNL1 0.0\\n    15 C      -1.343173    -0.152287    -0.650506 C          1 UNL1 0.0\\n    16 C       0.000000     0.000000     0.000000 C          1 UNL1 0.0\\n    17 C       1.056512     0.845692    -0.649087 C          1 UNL1 0.0\\n    18 C       0.768317     1.538053    -1.948033 C          1 UNL1 0.0\\n    19 C      -8.362880     1.764944    -5.846330 C          1 UNL1 0.0\\n    20 C      -8.683572     1.086768    -7.145671 C          1 UNL1 0.0\\n    21 C      -7.672503     0.190498    -7.794885 C          1 UNL1 0.0\\n    22 C      -6.337952    -0.028957    -7.144812 C          1 UNL1 0.0\\n    23 C      -6.015999     0.648949    -5.844954 C          1 UNL1 0.0\\n    24 C      -8.911662     3.735071    -3.897485 C          1 UNL1 0.0\\n    25 C      -7.424162     3.540627    -2.398171 C          1 UNL1 0.0\\n    26 C       1.414727     3.478127    -3.897485 C          1 UNL1 0.0\\n    27 C      -0.081106     3.358682    -2.397905 C          1 UNL1 0.0\\n    28 Cu     -3.921384     1.293404    -3.897485 Cu         1 UNL1 0.0\\n    29 Cl     -3.921384     1.293404    -2.209903 Cl         1 UNL1 0.0\\n    30 Cl     -4.486767     0.966654    -5.701351 Cl         1 UNL1 0.0\\n    31 H      -3.721384     4.703127    -2.827485 H          1 UNL1 0.0\\n    32 H      -4.268279     5.197272    -4.673131 H          1 UNL1 0.0\\n    33 C     -10.104082    -1.552822    -8.017081 C          1 UNL1 0.0\\n    34 C     -11.319832    -2.424398    -8.128018 C          1 UNL1 0.0\\n    35 C     -11.640908    -3.101992    -9.426736 C          1 UNL1 0.0\\n    36 C     -10.746234    -2.908010   -10.614516 C          1 UNL1 0.0\\n    37 C      -9.530484    -2.036434   -10.503578 C          1 UNL1 0.0\\n    38 C      -9.209408    -1.358839    -9.204861 C          1 UNL1 0.0\\n    39 C      -7.993659    -0.487263    -9.093923 C          1 UNL1 0.0\\n    40 C     -11.067003    -3.585863   -11.914563 C          1 UNL1 0.0\\n    41 C     -10.172330    -3.391881   -13.102343 C          1 UNL1 0.0\\n    42 C      -8.956580    -2.520305   -12.991405 C          1 UNL1 0.0\\n    43 C      -8.635504    -1.842710   -11.692688 C          1 UNL1 0.0\\n    44 C      -1.608233    -2.399447     0.810773 C          1 UNL1 0.0\\n    45 C      -2.412385    -3.599085     1.215999 C          1 UNL1 0.0\\n    46 C      -2.124241    -4.291324     2.514717 C          1 UNL1 0.0\\n    47 C      -1.031945    -3.783926     3.408208 C          1 UNL1 0.0\\n    48 C      -0.227793    -2.584288     3.002982 C          1 UNL1 0.0\\n    49 C      -0.515937    -1.892048     1.704264 C          1 UNL1 0.0\\n    50 C       0.288215    -0.692410     1.299038 C          1 UNL1 0.0\\n    51 C      -0.743063    -4.476265     4.708099 C          1 UNL1 0.0\\n    52 C       0.349233    -3.968866     5.601590 C          1 UNL1 0.0\\n    53 C       1.153385    -2.769228     5.196364 C          1 UNL1 0.0\\n    54 C       0.865241    -2.076989     3.897646 C          1 UNL1 0.0\\n@<TRIPOS>BOND\\n     1      1      2          1\\n     2      2      3          1\\n     3      3      4          1\\n     4      4      5          1\\n     5      5      1          2\\n     6      5      6          1\\n     7      6      7          1\\n     8      7      8          1\\n     9      8      9          1\\n    10      9     10          1\\n    11     10     11          1\\n    12     11      7          2\\n    13     10     12          1\\n    14      2     13          1\\n    15     13     14          2\\n    16     14     15          1\\n    17     15     16          2\\n    18     16     17          1\\n    19     17     18          2\\n    20     18     13          1\\n    21     12     19          2\\n    22     19     20          1\\n    23     20     21          2\\n    24     21     22          1\\n    25     22     23          2\\n    26     23     12          1\\n    27      9     24          1\\n    28      9     25          1\\n    29      3     26          1\\n    30      3     27          1\\n    31     11     28          1\\n    32     28      1          1\\n    33     28     29          1\\n    34     28     30          1\\n    35      6     31          1\\n    36      6     32          1\\n    37     33     34          2\\n    38     34     35          1\\n    39     35     36          2\\n    40     36     37          1\\n    41     37     38          2\\n    42     38     33          1\\n    43     38     39          1\\n    44     36     40          1\\n    45     40     41          1\\n    46     41     42          1\\n    47     42     43          1\\n    48     43     37          1\\n    49     21     39          1\\n    50     44     45          2\\n    51     45     46          1\\n    52     46     47          2\\n    53     47     48          1\\n    54     48     49          2\\n    55     49     44          1\\n    56     49     50          1\\n    57     47     51          1\\n    58     51     52          1\\n    59     52     53          1\\n    60     53     54          1\\n    61     54     48          1\\n    62     16     50          1\\n\",\"mol2\");\n\tviewer_1702760719104288.setStyle({\"stick\": {\"radius\": 0.1}, \"sphere\": {\"scale\": 0.15}});\n\tviewer_1702760719104288.setHoverable({},true,\"\\n            function(atom,viewer,event,container) {\\n                if(!atom.label) {\\n                    atom.label = viewer.addLabel(atom.elem + atom.serial, {position: atom, backgroundColor: 'mintcream', fontColor:'black'});\\n                }\\n            }\\n            \",\"\\n            function(atom,viewer) { \\n                if(atom.label) {\\n                    viewer.removeLabel(atom.label);\\n                    delete atom.label;\\n                }\\n            }\\n            \");\n\tviewer_1702760719104288.zoomTo();\n\tviewer_1702760719104288.setBackgroundColor(null);\nviewer_1702760719104288.render();\n});\n</script>",
      "text/html": [
       "<div id=\"3dmolviewer_1702760719104288\"  style=\"position: relative; width: 1000px; height: 500px;\">\n",
       "        <p id=\"3dmolwarning_1702760719104288\" style=\"background-color:#ffcccc;color:black\">You appear to be running in JupyterLab (or JavaScript failed to load for some other reason).  You need to install the 3dmol extension: <br>\n",
       "        <tt>jupyter labextension install jupyterlab_3dmol</tt></p>\n",
       "        </div>\n",
       "<script>\n",
       "\n",
       "var loadScriptAsync = function(uri){\n",
       "  return new Promise((resolve, reject) => {\n",
       "    //this is to ignore the existence of requirejs amd\n",
       "    var savedexports, savedmodule;\n",
       "    if (typeof exports !== 'undefined') savedexports = exports;\n",
       "    else exports = {}\n",
       "    if (typeof module !== 'undefined') savedmodule = module;\n",
       "    else module = {}\n",
       "\n",
       "    var tag = document.createElement('script');\n",
       "    tag.src = uri;\n",
       "    tag.async = true;\n",
       "    tag.onload = () => {\n",
       "        exports = savedexports;\n",
       "        module = savedmodule;\n",
       "        resolve();\n",
       "    };\n",
       "  var firstScriptTag = document.getElementsByTagName('script')[0];\n",
       "  firstScriptTag.parentNode.insertBefore(tag, firstScriptTag);\n",
       "});\n",
       "};\n",
       "\n",
       "if(typeof $3Dmolpromise === 'undefined') {\n",
       "$3Dmolpromise = null;\n",
       "  $3Dmolpromise = loadScriptAsync('https://cdnjs.cloudflare.com/ajax/libs/3Dmol/2.0.4/3Dmol-min.js');\n",
       "}\n",
       "\n",
       "var viewer_1702760719104288 = null;\n",
       "var warn = document.getElementById(\"3dmolwarning_1702760719104288\");\n",
       "if(warn) {\n",
       "    warn.parentNode.removeChild(warn);\n",
       "}\n",
       "$3Dmolpromise.then(function() {\n",
       "viewer_1702760719104288 = $3Dmol.createViewer(document.getElementById(\"3dmolviewer_1702760719104288\"),{backgroundColor:\"white\"});\n",
       "viewer_1702760719104288.zoomTo();\n",
       "\tviewer_1702760719104288.addModel(\"# Produced with molli package\\n@<TRIPOS>MOLECULE\\n420_2_2_H\\n54 62 0 0 0\\nSMALL\\nUSER_CHARGES\\n\\n@<TRIPOS>ATOM\\n     1 N      -2.321384     2.426738    -3.897485 N          1 UNL1 0.0\\n     2 C      -0.863051     2.078127    -3.897485 C          1 UNL1 0.0\\n     3 C      -0.081106     3.358682    -3.897485 C          1 UNL1 0.0\\n     4 O      -1.056106     4.497571    -3.897485 O          1 UNL1 0.0\\n     5 C      -2.440828     3.922571    -3.897485 C          1 UNL1 0.0\\n     6 C      -3.721384     4.703127    -3.897485 C          1 UNL1 0.0\\n     7 C      -5.039440     3.985071    -3.897485 C          1 UNL1 0.0\\n     8 O      -6.393606     4.630904    -3.897485 O          1 UNL1 0.0\\n     9 C      -7.424162     3.540627    -3.897485 C          1 UNL1 0.0\\n    10 C      -6.706106     2.222571    -3.897485 C          1 UNL1 0.0\\n    11 N      -5.232495     2.497571    -3.897485 N          1 UNL1 0.0\\n    12 C      -7.028328     1.545488    -5.196257 C          1 UNL1 0.0\\n    13 C      -0.574856     1.385766    -2.598540 C          1 UNL1 0.0\\n    14 C      -1.630082     0.540320    -1.948990 C          1 UNL1 0.0\\n    15 C      -1.343173    -0.152287    -0.650506 C          1 UNL1 0.0\\n    16 C       0.000000     0.000000     0.000000 C          1 UNL1 0.0\\n    17 C       1.056512     0.845692    -0.649087 C          1 UNL1 0.0\\n    18 C       0.768317     1.538053    -1.948033 C          1 UNL1 0.0\\n    19 C      -8.362880     1.764944    -5.846330 C          1 UNL1 0.0\\n    20 C      -8.683572     1.086768    -7.145671 C          1 UNL1 0.0\\n    21 C      -7.672503     0.190498    -7.794885 C          1 UNL1 0.0\\n    22 C      -6.337952    -0.028957    -7.144812 C          1 UNL1 0.0\\n    23 C      -6.015999     0.648949    -5.844954 C          1 UNL1 0.0\\n    24 C      -8.911662     3.735071    -3.897485 C          1 UNL1 0.0\\n    25 C      -7.424162     3.540627    -2.398171 C          1 UNL1 0.0\\n    26 C       1.414727     3.478127    -3.897485 C          1 UNL1 0.0\\n    27 C      -0.081106     3.358682    -2.397905 C          1 UNL1 0.0\\n    28 Cu     -3.921384     1.293404    -3.897485 Cu         1 UNL1 0.0\\n    29 Cl     -3.921384     1.293404    -2.209903 Cl         1 UNL1 0.0\\n    30 Cl     -4.486767     0.966654    -5.701351 Cl         1 UNL1 0.0\\n    31 H      -3.721384     4.703127    -2.827485 H          1 UNL1 0.0\\n    32 H      -4.268279     5.197272    -4.673131 H          1 UNL1 0.0\\n    33 C     -10.104082    -1.552822    -8.017081 C          1 UNL1 0.0\\n    34 C     -11.319832    -2.424398    -8.128018 C          1 UNL1 0.0\\n    35 C     -11.640908    -3.101992    -9.426736 C          1 UNL1 0.0\\n    36 C     -10.746234    -2.908010   -10.614516 C          1 UNL1 0.0\\n    37 C      -9.530484    -2.036434   -10.503578 C          1 UNL1 0.0\\n    38 C      -9.209408    -1.358839    -9.204861 C          1 UNL1 0.0\\n    39 C      -7.993659    -0.487263    -9.093923 C          1 UNL1 0.0\\n    40 C     -11.067003    -3.585863   -11.914563 C          1 UNL1 0.0\\n    41 C     -10.172330    -3.391881   -13.102343 C          1 UNL1 0.0\\n    42 C      -8.956580    -2.520305   -12.991405 C          1 UNL1 0.0\\n    43 C      -8.635504    -1.842710   -11.692688 C          1 UNL1 0.0\\n    44 C      -1.608233    -2.399447     0.810773 C          1 UNL1 0.0\\n    45 C      -2.412385    -3.599085     1.215999 C          1 UNL1 0.0\\n    46 C      -2.124241    -4.291324     2.514717 C          1 UNL1 0.0\\n    47 C      -1.031945    -3.783926     3.408208 C          1 UNL1 0.0\\n    48 C      -0.227793    -2.584288     3.002982 C          1 UNL1 0.0\\n    49 C      -0.515937    -1.892048     1.704264 C          1 UNL1 0.0\\n    50 C       0.288215    -0.692410     1.299038 C          1 UNL1 0.0\\n    51 C      -0.743063    -4.476265     4.708099 C          1 UNL1 0.0\\n    52 C       0.349233    -3.968866     5.601590 C          1 UNL1 0.0\\n    53 C       1.153385    -2.769228     5.196364 C          1 UNL1 0.0\\n    54 C       0.865241    -2.076989     3.897646 C          1 UNL1 0.0\\n@<TRIPOS>BOND\\n     1      1      2          1\\n     2      2      3          1\\n     3      3      4          1\\n     4      4      5          1\\n     5      5      1          2\\n     6      5      6          1\\n     7      6      7          1\\n     8      7      8          1\\n     9      8      9          1\\n    10      9     10          1\\n    11     10     11          1\\n    12     11      7          2\\n    13     10     12          1\\n    14      2     13          1\\n    15     13     14          2\\n    16     14     15          1\\n    17     15     16          2\\n    18     16     17          1\\n    19     17     18          2\\n    20     18     13          1\\n    21     12     19          2\\n    22     19     20          1\\n    23     20     21          2\\n    24     21     22          1\\n    25     22     23          2\\n    26     23     12          1\\n    27      9     24          1\\n    28      9     25          1\\n    29      3     26          1\\n    30      3     27          1\\n    31     11     28          1\\n    32     28      1          1\\n    33     28     29          1\\n    34     28     30          1\\n    35      6     31          1\\n    36      6     32          1\\n    37     33     34          2\\n    38     34     35          1\\n    39     35     36          2\\n    40     36     37          1\\n    41     37     38          2\\n    42     38     33          1\\n    43     38     39          1\\n    44     36     40          1\\n    45     40     41          1\\n    46     41     42          1\\n    47     42     43          1\\n    48     43     37          1\\n    49     21     39          1\\n    50     44     45          2\\n    51     45     46          1\\n    52     46     47          2\\n    53     47     48          1\\n    54     48     49          2\\n    55     49     44          1\\n    56     49     50          1\\n    57     47     51          1\\n    58     51     52          1\\n    59     52     53          1\\n    60     53     54          1\\n    61     54     48          1\\n    62     16     50          1\\n\",\"mol2\");\n",
       "\tviewer_1702760719104288.setStyle({\"stick\": {\"radius\": 0.1}, \"sphere\": {\"scale\": 0.15}});\n",
       "\tviewer_1702760719104288.setHoverable({},true,\"\\n            function(atom,viewer,event,container) {\\n                if(!atom.label) {\\n                    atom.label = viewer.addLabel(atom.elem + atom.serial, {position: atom, backgroundColor: 'mintcream', fontColor:'black'});\\n                }\\n            }\\n            \",\"\\n            function(atom,viewer) { \\n                if(atom.label) {\\n                    viewer.removeLabel(atom.label);\\n                    delete atom.label;\\n                }\\n            }\\n            \");\n",
       "\tviewer_1702760719104288.zoomTo();\n",
       "\tviewer_1702760719104288.setBackgroundColor(null);\n",
       "viewer_1702760719104288.render();\n",
       "});\n",
       "</script>"
      ]
     },
     "metadata": {},
     "output_type": "display_data"
    },
    {
     "data": {
      "text/plain": [
       "Molecule(name='420_2_2_H', formula='C45 H2 Cl2 Cu1 N2 O2')"
      ]
     },
     "execution_count": 66,
     "metadata": {},
     "output_type": "execute_result"
    }
   ],
   "source": [
    "# control + enter on this cell to visualize every 50th BOX ligand\n",
    "\n",
    "try:\n",
    "    i += 50\n",
    "    # visualize the expanded structure\n",
    "    fully_expanded_mols[i]\n",
    "except IndexError:\n",
    "    \"Restarting from beginning!\"\n",
    "    i = -1"
   ]
  },
  {
   "cell_type": "code",
   "execution_count": 67,
   "metadata": {},
   "outputs": [],
   "source": [
    "# finally, we'll do an optimization with XTB gfn2 to clean up our geometries a bit\n",
    "from molli.external import openbabel as mob\n",
    "from joblib import delayed,Parallel\n",
    "from molli.external.xtb import XTBDriver\n",
    "\n",
    "for mol in fully_expanded_mols:\n",
    "    mol.add_implicit_hydrogens()\n"
   ]
  },
  {
   "cell_type": "code",
   "execution_count": null,
   "metadata": {},
   "outputs": [],
   "source": [
    "#### FOR ALEX 1 #### NOT RUN BECAUSE IT DOESN'T WORK FOR ME (UP TO DATE WITH DEV)\n",
    "\n",
    "# this seems clunky... Why can't I create a non-serialized mlib from a list??? \n",
    "source = ml.MoleculeLibrary('my_library.mlib', readonly=False)\n",
    "with source.writing():\n",
    "    for mol in fully_expanded_mols:\n",
    "        source[mol.name] = mol\n",
    "\n",
    "#Also this code doesn't work at all in my freshly pulled version of dev because pipeline has not been added to init.\n",
    "cache = ml.storage.Collection[ml.pipeline.JobOutput](\n",
    "    \"/home/colen2/.molli/scratch\",\n",
    "    backend=ml.storage.DirCollectionBackend,\n",
    "    value_encoder=lambda x: msgpack.dumps(attrs.asdict(x)),\n",
    "    value_decoder=lambda x: ml.pipeline.JobOutput(msgpack.loads(x)),\n",
    "    readonly=False,\n",
    "    overwrite=False,\n",
    ")\n",
    "\n",
    "error = ml.storage.Collection[ml.pipeline.JobOutput](\n",
    "    \"/home/colen2/.molli/error\",\n",
    "    backend=ml.storage.DirCollectionBackend,\n",
    "    value_encoder=lambda x: msgpack.dumps(attrs.asdict(x)),\n",
    "    value_decoder=lambda x: ml.pipeline.JobOutput(msgpack.loads(x)),\n",
    "    readonly=False,\n",
    "    overwrite=False,\n",
    ")\n",
    "\n",
    "target = ml.MoleculeLibrary(\n",
    "    \"dest.mlib\",\n",
    "    overwrite=True,\n",
    "    readonly=False,\n",
    "    comment=\"We did it!\",\n",
    ")\n",
    "\n",
    "xtb = XTBDriver(nprocs=1)\n",
    "\n",
    "# how do I set level of theory for xtb optimize????\n",
    "ml.pipeline.jobmap(\n",
    "    xtb.optimize,\n",
    "    source,\n",
    "    target,\n",
    "    cache=None,\n",
    "    error_cache=None,\n",
    "    n_workers=16,\n",
    "    batch_size=4,\n",
    "    scratch_dir=\"/home/colen2/.molli/scratch\",\n",
    ")"
   ]
  },
  {
   "cell_type": "code",
   "execution_count": null,
   "metadata": {},
   "outputs": [],
   "source": [
    "#### FOR ALEX 2 #### NOT RUN BECAUSE IT IS CRAZY SLOW AND DOES NOT SEEM TO TAKE ADVANTAGE OF PARALLELIZATION\n",
    "\n",
    "# let's see if we use the old way of parallelizing things, if that works\n",
    "\n",
    "# here's optimization with obabel UFF. This is SUPER slow. It does not look like molli is taking advantage of the threading at all.\n",
    "    \n",
    "res = Parallel(n_jobs=32, verbose=50,prefer='threads')(\n",
    "delayed(mob.obabel_optimize)(\n",
    "    mol= mol, \n",
    "    ff=\"UFF\",\n",
    "    ) for mol in fully_expanded_mols)\n"
   ]
  },
  {
   "cell_type": "code",
   "execution_count": 68,
   "metadata": {},
   "outputs": [
    {
     "name": "stdout",
     "output_type": "stream",
     "text": [
      "[Parallel(n_jobs=32)]: Using backend ThreadingBackend with 32 concurrent workers.\n",
      "[Parallel(n_jobs=32)]: Done   1 tasks      | elapsed:   34.9s\n",
      "[Parallel(n_jobs=32)]: Done   2 tasks      | elapsed:   37.6s\n",
      "[Parallel(n_jobs=32)]: Done   3 tasks      | elapsed:   42.3s\n",
      "[Parallel(n_jobs=32)]: Done   4 tasks      | elapsed:   42.5s\n",
      "[Parallel(n_jobs=32)]: Done   5 tasks      | elapsed:   45.1s\n",
      "[Parallel(n_jobs=32)]: Done   6 tasks      | elapsed:   46.0s\n",
      "[Parallel(n_jobs=32)]: Done   7 tasks      | elapsed:   47.7s\n",
      "[Parallel(n_jobs=32)]: Done   8 tasks      | elapsed:   53.7s\n",
      "[Parallel(n_jobs=32)]: Done   9 tasks      | elapsed:   56.2s\n",
      "[Parallel(n_jobs=32)]: Done  10 tasks      | elapsed:   57.3s\n",
      "[Parallel(n_jobs=32)]: Done  11 tasks      | elapsed:   58.2s\n",
      "[Parallel(n_jobs=32)]: Done  12 tasks      | elapsed:   58.9s\n",
      "[Parallel(n_jobs=32)]: Done  13 tasks      | elapsed:  1.1min\n",
      "[Parallel(n_jobs=32)]: Done  14 tasks      | elapsed:  1.2min\n",
      "[Parallel(n_jobs=32)]: Done  15 tasks      | elapsed:  1.2min\n",
      "[Parallel(n_jobs=32)]: Done  16 tasks      | elapsed:  1.3min\n",
      "[Parallel(n_jobs=32)]: Done  17 tasks      | elapsed:  1.3min\n",
      "[Parallel(n_jobs=32)]: Done  18 tasks      | elapsed:  1.4min\n",
      "[Parallel(n_jobs=32)]: Done  19 tasks      | elapsed:  1.4min\n",
      "[Parallel(n_jobs=32)]: Done  20 tasks      | elapsed:  1.5min\n",
      "[Parallel(n_jobs=32)]: Done  21 tasks      | elapsed:  1.5min\n",
      "[Parallel(n_jobs=32)]: Done  22 tasks      | elapsed:  1.6min\n"
     ]
    },
    {
     "ename": "KeyboardInterrupt",
     "evalue": "",
     "output_type": "error",
     "traceback": [
      "\u001b[0;31m---------------------------------------------------------------------------\u001b[0m",
      "\u001b[0;31mKeyboardInterrupt\u001b[0m                         Traceback (most recent call last)",
      "Cell \u001b[0;32mIn[68], line 19\u001b[0m\n\u001b[1;32m     16\u001b[0m \u001b[38;5;28;01mwith\u001b[39;00m source\u001b[38;5;241m.\u001b[39mreading():\n\u001b[1;32m     17\u001b[0m     \u001b[38;5;66;03m# optimize geometry\u001b[39;00m\n\u001b[1;32m     18\u001b[0m     xtb \u001b[38;5;241m=\u001b[39m XTBDriver(nprocs\u001b[38;5;241m=\u001b[39m\u001b[38;5;241m4\u001b[39m)\n\u001b[0;32m---> 19\u001b[0m     res \u001b[38;5;241m=\u001b[39m \u001b[43mParallel\u001b[49m\u001b[43m(\u001b[49m\u001b[43mn_jobs\u001b[49m\u001b[38;5;241;43m=\u001b[39;49m\u001b[38;5;241;43m32\u001b[39;49m\u001b[43m,\u001b[49m\u001b[43m \u001b[49m\u001b[43mverbose\u001b[49m\u001b[38;5;241;43m=\u001b[39;49m\u001b[38;5;241;43m50\u001b[39;49m\u001b[43m,\u001b[49m\u001b[43mprefer\u001b[49m\u001b[38;5;241;43m=\u001b[39;49m\u001b[38;5;124;43m'\u001b[39;49m\u001b[38;5;124;43mthreads\u001b[39;49m\u001b[38;5;124;43m'\u001b[39;49m\u001b[43m)\u001b[49m\u001b[43m(\u001b[49m\n\u001b[1;32m     20\u001b[0m \u001b[43m    \u001b[49m\u001b[43mdelayed\u001b[49m\u001b[43m(\u001b[49m\u001b[43mxtb\u001b[49m\u001b[38;5;241;43m.\u001b[39;49m\u001b[43moptimize\u001b[49m\u001b[43m)\u001b[49m\u001b[43m(\u001b[49m\n\u001b[1;32m     21\u001b[0m \u001b[43m        \u001b[49m\u001b[43mM\u001b[49m\u001b[38;5;241;43m=\u001b[39;49m\u001b[43m \u001b[49m\u001b[43msource\u001b[49m\u001b[43m[\u001b[49m\u001b[43mm_name\u001b[49m\u001b[43m]\u001b[49m\u001b[43m,\u001b[49m\u001b[43m \u001b[49m\n\u001b[1;32m     22\u001b[0m \u001b[43m        \u001b[49m\u001b[43mmethod\u001b[49m\u001b[38;5;241;43m=\u001b[39;49m\u001b[38;5;124;43m\"\u001b[39;49m\u001b[38;5;124;43mgfF\u001b[39;49m\u001b[38;5;124;43m\"\u001b[39;49m\u001b[43m,\u001b[49m\u001b[43m \u001b[49m\u001b[38;5;66;43;03m# if you use GFN2, this is extra super slow, which makes sense I guess. GFF fucks up the structures. I'd like to use obabel uff, but it is insanely slow (see above). Also, the caching is still fucky... If I make this call with gff, and then make it again with gfn2, it should not find cached results yum because they are different jobs, and yet it does.\u001b[39;49;00m\n\u001b[1;32m     23\u001b[0m \u001b[43m        \u001b[49m\u001b[43m)\u001b[49m\u001b[43m \u001b[49m\u001b[38;5;28;43;01mfor\u001b[39;49;00m\u001b[43m \u001b[49m\u001b[43mm_name\u001b[49m\u001b[43m \u001b[49m\u001b[38;5;129;43;01min\u001b[39;49;00m\u001b[43m \u001b[49m\u001b[43msource\u001b[49m\u001b[43m)\u001b[49m\n",
      "File \u001b[0;32m~/anaconda3/envs/mollijcim/lib/python3.12/site-packages/joblib/parallel.py:1952\u001b[0m, in \u001b[0;36mParallel.__call__\u001b[0;34m(self, iterable)\u001b[0m\n\u001b[1;32m   1946\u001b[0m \u001b[38;5;66;03m# The first item from the output is blank, but it makes the interpreter\u001b[39;00m\n\u001b[1;32m   1947\u001b[0m \u001b[38;5;66;03m# progress until it enters the Try/Except block of the generator and\u001b[39;00m\n\u001b[1;32m   1948\u001b[0m \u001b[38;5;66;03m# reach the first `yield` statement. This starts the aynchronous\u001b[39;00m\n\u001b[1;32m   1949\u001b[0m \u001b[38;5;66;03m# dispatch of the tasks to the workers.\u001b[39;00m\n\u001b[1;32m   1950\u001b[0m \u001b[38;5;28mnext\u001b[39m(output)\n\u001b[0;32m-> 1952\u001b[0m \u001b[38;5;28;01mreturn\u001b[39;00m output \u001b[38;5;28;01mif\u001b[39;00m \u001b[38;5;28mself\u001b[39m\u001b[38;5;241m.\u001b[39mreturn_generator \u001b[38;5;28;01melse\u001b[39;00m \u001b[38;5;28;43mlist\u001b[39;49m\u001b[43m(\u001b[49m\u001b[43moutput\u001b[49m\u001b[43m)\u001b[49m\n",
      "File \u001b[0;32m~/anaconda3/envs/mollijcim/lib/python3.12/site-packages/joblib/parallel.py:1595\u001b[0m, in \u001b[0;36mParallel._get_outputs\u001b[0;34m(self, iterator, pre_dispatch)\u001b[0m\n\u001b[1;32m   1592\u001b[0m     \u001b[38;5;28;01myield\u001b[39;00m\n\u001b[1;32m   1594\u001b[0m     \u001b[38;5;28;01mwith\u001b[39;00m \u001b[38;5;28mself\u001b[39m\u001b[38;5;241m.\u001b[39m_backend\u001b[38;5;241m.\u001b[39mretrieval_context():\n\u001b[0;32m-> 1595\u001b[0m         \u001b[38;5;28;01myield from\u001b[39;00m \u001b[38;5;28mself\u001b[39m\u001b[38;5;241m.\u001b[39m_retrieve()\n\u001b[1;32m   1597\u001b[0m \u001b[38;5;28;01mexcept\u001b[39;00m \u001b[38;5;167;01mGeneratorExit\u001b[39;00m:\n\u001b[1;32m   1598\u001b[0m     \u001b[38;5;66;03m# The generator has been garbage collected before being fully\u001b[39;00m\n\u001b[1;32m   1599\u001b[0m     \u001b[38;5;66;03m# consumed. This aborts the remaining tasks if possible and warn\u001b[39;00m\n\u001b[1;32m   1600\u001b[0m     \u001b[38;5;66;03m# the user if necessary.\u001b[39;00m\n\u001b[1;32m   1601\u001b[0m     \u001b[38;5;28mself\u001b[39m\u001b[38;5;241m.\u001b[39m_exception \u001b[38;5;241m=\u001b[39m \u001b[38;5;28;01mTrue\u001b[39;00m\n",
      "File \u001b[0;32m~/anaconda3/envs/mollijcim/lib/python3.12/site-packages/joblib/parallel.py:1707\u001b[0m, in \u001b[0;36mParallel._retrieve\u001b[0;34m(self)\u001b[0m\n\u001b[1;32m   1702\u001b[0m \u001b[38;5;66;03m# If the next job is not ready for retrieval yet, we just wait for\u001b[39;00m\n\u001b[1;32m   1703\u001b[0m \u001b[38;5;66;03m# async callbacks to progress.\u001b[39;00m\n\u001b[1;32m   1704\u001b[0m \u001b[38;5;28;01mif\u001b[39;00m ((\u001b[38;5;28mlen\u001b[39m(\u001b[38;5;28mself\u001b[39m\u001b[38;5;241m.\u001b[39m_jobs) \u001b[38;5;241m==\u001b[39m \u001b[38;5;241m0\u001b[39m) \u001b[38;5;129;01mor\u001b[39;00m\n\u001b[1;32m   1705\u001b[0m     (\u001b[38;5;28mself\u001b[39m\u001b[38;5;241m.\u001b[39m_jobs[\u001b[38;5;241m0\u001b[39m]\u001b[38;5;241m.\u001b[39mget_status(\n\u001b[1;32m   1706\u001b[0m         timeout\u001b[38;5;241m=\u001b[39m\u001b[38;5;28mself\u001b[39m\u001b[38;5;241m.\u001b[39mtimeout) \u001b[38;5;241m==\u001b[39m TASK_PENDING)):\n\u001b[0;32m-> 1707\u001b[0m     \u001b[43mtime\u001b[49m\u001b[38;5;241;43m.\u001b[39;49m\u001b[43msleep\u001b[49m\u001b[43m(\u001b[49m\u001b[38;5;241;43m0.01\u001b[39;49m\u001b[43m)\u001b[49m\n\u001b[1;32m   1708\u001b[0m     \u001b[38;5;28;01mcontinue\u001b[39;00m\n\u001b[1;32m   1710\u001b[0m \u001b[38;5;66;03m# We need to be careful: the job list can be filling up as\u001b[39;00m\n\u001b[1;32m   1711\u001b[0m \u001b[38;5;66;03m# we empty it and Python list are not thread-safe by\u001b[39;00m\n\u001b[1;32m   1712\u001b[0m \u001b[38;5;66;03m# default hence the use of the lock\u001b[39;00m\n",
      "\u001b[0;31mKeyboardInterrupt\u001b[0m: "
     ]
    }
   ],
   "source": [
    "#### FOR ALEX 3 #### ONLY ONE THAT WORKS QUICKLY, BUT GIVES UNREASONABLE STRUCTURES (SEE BELOW)\n",
    "\n",
    "# let's see if we use the old way of parallelizing things, if that works\n",
    "\n",
    "# XTB GFF optimization makes the structures look super weird. See for yourself if you uncomment this part of the code.\n",
    "# Also, we should homogenize the argument names for all the drivers (\"ff\" vs. \"method\", \"M\" vs. \"mol\")\n",
    "\n",
    "# first we write an mlib object out... Does this have to be serialized? It is very slow either way...\n",
    "source = ml.MoleculeLibrary('my_library.mlib', readonly=False)\n",
    "with source.writing():\n",
    "    for mol in fully_expanded_mols:\n",
    "        source[mol.name] = mol\n",
    "    \n",
    "from molli.external.xtb import XTBDriver\n",
    "\n",
    "with source.reading():\n",
    "    # optimize geometry\n",
    "    xtb = XTBDriver(nprocs=4)\n",
    "    res = Parallel(n_jobs=32, verbose=50,prefer='threads')(\n",
    "    delayed(xtb.optimize)(\n",
    "        M= source[m_name], \n",
    "        method=\"gfF\", # if you use GFN2, this is extra super slow, which makes sense I guess. GFF fucks up the structures. I'd like to use obabel uff, but it is insanely slow (see above). Also, the caching is still fucky... If I make this call with gff, and then make it again with gfn2, it should not find cached results yum because they are different jobs, and yet it does.\n",
    "        ) for m_name in source)"
   ]
  },
  {
   "cell_type": "code",
   "execution_count": 56,
   "metadata": {},
   "outputs": [],
   "source": [
    "# let's visualize\n",
    "i = -1"
   ]
  },
  {
   "cell_type": "code",
   "execution_count": 57,
   "metadata": {},
   "outputs": [
    {
     "ename": "NameError",
     "evalue": "name 'res' is not defined",
     "output_type": "error",
     "traceback": [
      "\u001b[0;31m---------------------------------------------------------------------------\u001b[0m",
      "\u001b[0;31mNameError\u001b[0m                                 Traceback (most recent call last)",
      "Cell \u001b[0;32mIn[57], line 6\u001b[0m\n\u001b[1;32m      4\u001b[0m     i \u001b[38;5;241m+\u001b[39m\u001b[38;5;241m=\u001b[39m \u001b[38;5;241m50\u001b[39m\n\u001b[1;32m      5\u001b[0m     \u001b[38;5;66;03m# visualize the expanded structure\u001b[39;00m\n\u001b[0;32m----> 6\u001b[0m     \u001b[43mres\u001b[49m[i]\n\u001b[1;32m      7\u001b[0m \u001b[38;5;28;01mexcept\u001b[39;00m \u001b[38;5;167;01mIndexError\u001b[39;00m:\n\u001b[1;32m      8\u001b[0m     \u001b[38;5;124m\"\u001b[39m\u001b[38;5;124mRestarting from beginning!\u001b[39m\u001b[38;5;124m\"\u001b[39m\n",
      "\u001b[0;31mNameError\u001b[0m: name 'res' is not defined"
     ]
    }
   ],
   "source": [
    "# control + enter on this cell to visualize every 50th BOX ligand\n",
    "\n",
    "try:\n",
    "    i += 50\n",
    "    # visualize the expanded structure\n",
    "    res[i]\n",
    "except IndexError:\n",
    "    \"Restarting from beginning!\"\n",
    "    i = -1"
   ]
  },
  {
   "cell_type": "code",
   "execution_count": null,
   "metadata": {},
   "outputs": [],
   "source": []
  }
 ],
 "metadata": {
  "kernelspec": {
   "display_name": "Python 3 (ipykernel)",
   "language": "python",
   "name": "python3"
  },
  "language_info": {
   "codemirror_mode": {
    "name": "ipython",
    "version": 3
   },
   "file_extension": ".py",
   "mimetype": "text/x-python",
   "name": "python",
   "nbconvert_exporter": "python",
   "pygments_lexer": "ipython3",
   "version": "3.12.0"
  }
 },
 "nbformat": 4,
 "nbformat_minor": 2
}
