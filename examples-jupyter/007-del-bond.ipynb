{
 "cells": [
  {
   "cell_type": "code",
   "execution_count": 1,
   "metadata": {},
   "outputs": [
    {
     "ename": "SyntaxError",
     "evalue": "invalid syntax (bond.py, line 290)",
     "output_type": "error",
     "traceback": [
      "Traceback \u001b[1;36m(most recent call last)\u001b[0m:\n",
      "\u001b[0m  File \u001b[0;32mc:\\Users\\shved\\miniconda3\\envs\\molli-dev\\lib\\site-packages\\IPython\\core\\interactiveshell.py:3378\u001b[0m in \u001b[0;35mrun_code\u001b[0m\n    exec(code_obj, self.user_global_ns, self.user_ns)\u001b[0m\n",
      "\u001b[0m  Cell \u001b[0;32mIn [1], line 1\u001b[0m\n    import molli as ml\u001b[0m\n",
      "\u001b[0m  File \u001b[0;32mC:\\SAS\\programs\\repo\\molli\\molli\\__init__.py:44\u001b[0m\n    from . import descriptor\u001b[0m\n",
      "\u001b[0m  File \u001b[0;32mC:\\SAS\\programs\\repo\\molli\\molli\\descriptor\\__init__.py:2\u001b[0m\n    from .aso import *\u001b[0m\n",
      "\u001b[0m  File \u001b[0;32mC:\\SAS\\programs\\repo\\molli\\molli\\descriptor\\aso.py:1\u001b[0m\n    from ..chem import Molecule, ConformerEnsemble\u001b[0m\n",
      "\u001b[1;36m  File \u001b[1;32mC:\\SAS\\programs\\repo\\molli\\molli\\chem\\__init__.py:19\u001b[1;36m\n\u001b[1;33m    from .bond import (\u001b[1;36m\n",
      "\u001b[1;36m  File \u001b[1;32mC:\\SAS\\programs\\repo\\molli\\molli\\chem\\bond.py:290\u001b[1;36m\u001b[0m\n\u001b[1;33m    tbd = list(self.bonds_with_atom(_a)):\u001b[0m\n\u001b[1;37m                                        ^\u001b[0m\n\u001b[1;31mSyntaxError\u001b[0m\u001b[1;31m:\u001b[0m invalid syntax\n"
     ]
    }
   ],
   "source": [
    "import molli as ml\n",
    "\n",
    "s1 = ml.Structure.load_mol2(ml.files.mol2.dendrobine.path)\n",
    "for i, b in enumerate(s1.bonds):\n",
    "    print(format(i, \"<5\"), b)\n",
    "\n"
   ]
  },
  {
   "cell_type": "code",
   "execution_count": null,
   "metadata": {},
   "outputs": [
    {
     "name": "stdout",
     "output_type": "stream",
     "text": [
      "0     Bond(a1=Atom(element=C, isotope=None, label='C'), a2=Atom(element=N, isotope=None, label='N'), label=None, btype=Single, stereo=Unknown, f_order=1.0)\n",
      "1     Bond(a1=Atom(element=N, isotope=None, label='N'), a2=Atom(element=C, isotope=None, label='C'), label=None, btype=Single, stereo=Unknown, f_order=1.0)\n",
      "2     Bond(a1=Atom(element=N, isotope=None, label='N'), a2=Atom(element=C, isotope=None, label='C'), label=None, btype=Single, stereo=Unknown, f_order=1.0)\n"
     ]
    }
   ],
   "source": [
    "for i, b in enumerate(s1.bonds_with_atom(0)):\n",
    "    print(format(i, \"<5\"), b)"
   ]
  },
  {
   "cell_type": "code",
   "execution_count": null,
   "metadata": {},
   "outputs": [
    {
     "name": "stdout",
     "output_type": "stream",
     "text": [
      "0     Bond(a1=Atom(element=H, isotope=None, label='H'), a2=Atom(element=C, isotope=None, label='C'), label=None, btype=Single, stereo=Unknown, f_order=1.0)\n",
      "1     Bond(a1=Atom(element=H, isotope=None, label='H'), a2=Atom(element=C, isotope=None, label='C'), label=None, btype=Single, stereo=Unknown, f_order=1.0)\n",
      "2     Bond(a1=Atom(element=H, isotope=None, label='H'), a2=Atom(element=C, isotope=None, label='C'), label=None, btype=Single, stereo=Unknown, f_order=1.0)\n",
      "3     Bond(a1=Atom(element=C, isotope=None, label='C'), a2=Atom(element=C, isotope=None, label='C'), label=None, btype=Single, stereo=Unknown, f_order=1.0)\n",
      "4     Bond(a1=Atom(element=H, isotope=None, label='H'), a2=Atom(element=C, isotope=None, label='C'), label=None, btype=Single, stereo=Unknown, f_order=1.0)\n",
      "5     Bond(a1=Atom(element=H, isotope=None, label='H'), a2=Atom(element=C, isotope=None, label='C'), label=None, btype=Single, stereo=Unknown, f_order=1.0)\n",
      "6     Bond(a1=Atom(element=H, isotope=None, label='H'), a2=Atom(element=C, isotope=None, label='C'), label=None, btype=Single, stereo=Unknown, f_order=1.0)\n",
      "7     Bond(a1=Atom(element=C, isotope=None, label='C'), a2=Atom(element=C, isotope=None, label='C'), label=None, btype=Single, stereo=Unknown, f_order=1.0)\n",
      "8     Bond(a1=Atom(element=C, isotope=None, label='C'), a2=Atom(element=H, isotope=None, label='H'), label=None, btype=Single, stereo=Unknown, f_order=1.0)\n",
      "9     Bond(a1=Atom(element=C, isotope=None, label='C'), a2=Atom(element=C, isotope=None, label='C'), label=None, btype=Single, stereo=Unknown, f_order=1.0)\n",
      "10    Bond(a1=Atom(element=C, isotope=None, label='C'), a2=Atom(element=H, isotope=None, label='H'), label=None, btype=Single, stereo=Unknown, f_order=1.0)\n",
      "11    Bond(a1=Atom(element=H, isotope=None, label='H'), a2=Atom(element=C, isotope=None, label='C'), label=None, btype=Single, stereo=Unknown, f_order=1.0)\n",
      "12    Bond(a1=Atom(element=C, isotope=None, label='C'), a2=Atom(element=C, isotope=None, label='C'), label=None, btype=Single, stereo=Unknown, f_order=1.0)\n",
      "13    Bond(a1=Atom(element=C, isotope=None, label='C'), a2=Atom(element=C, isotope=None, label='C'), label=None, btype=Single, stereo=Unknown, f_order=1.0)\n",
      "14    Bond(a1=Atom(element=O, isotope=None, label='O'), a2=Atom(element=C, isotope=None, label='C'), label=None, btype=Double, stereo=Unknown, f_order=1.0)\n",
      "15    Bond(a1=Atom(element=C, isotope=None, label='C'), a2=Atom(element=C, isotope=None, label='C'), label=None, btype=Single, stereo=Unknown, f_order=1.0)\n",
      "16    Bond(a1=Atom(element=C, isotope=None, label='C'), a2=Atom(element=C, isotope=None, label='C'), label=None, btype=Single, stereo=Unknown, f_order=1.0)\n",
      "17    Bond(a1=Atom(element=C, isotope=None, label='C'), a2=Atom(element=O, isotope=None, label='O'), label=None, btype=Single, stereo=Unknown, f_order=1.0)\n",
      "18    Bond(a1=Atom(element=O, isotope=None, label='O'), a2=Atom(element=C, isotope=None, label='C'), label=None, btype=Single, stereo=Unknown, f_order=1.0)\n",
      "19    Bond(a1=Atom(element=H, isotope=None, label='H'), a2=Atom(element=C, isotope=None, label='C'), label=None, btype=Single, stereo=Unknown, f_order=1.0)\n",
      "20    Bond(a1=Atom(element=C, isotope=None, label='C'), a2=Atom(element=C, isotope=None, label='C'), label=None, btype=Single, stereo=Unknown, f_order=1.0)\n",
      "21    Bond(a1=Atom(element=H, isotope=None, label='H'), a2=Atom(element=C, isotope=None, label='C'), label=None, btype=Single, stereo=Unknown, f_order=1.0)\n",
      "22    Bond(a1=Atom(element=H, isotope=None, label='H'), a2=Atom(element=C, isotope=None, label='C'), label=None, btype=Single, stereo=Unknown, f_order=1.0)\n",
      "23    Bond(a1=Atom(element=C, isotope=None, label='C'), a2=Atom(element=C, isotope=None, label='C'), label=None, btype=Single, stereo=Unknown, f_order=1.0)\n",
      "24    Bond(a1=Atom(element=C, isotope=None, label='C'), a2=Atom(element=H, isotope=None, label='H'), label=None, btype=Single, stereo=Unknown, f_order=1.0)\n",
      "25    Bond(a1=Atom(element=C, isotope=None, label='C'), a2=Atom(element=C, isotope=None, label='C'), label=None, btype=Single, stereo=Unknown, f_order=1.0)\n",
      "26    Bond(a1=Atom(element=H, isotope=None, label='H'), a2=Atom(element=C, isotope=None, label='C'), label=None, btype=Single, stereo=Unknown, f_order=1.0)\n",
      "27    Bond(a1=Atom(element=H, isotope=None, label='H'), a2=Atom(element=C, isotope=None, label='C'), label=None, btype=Single, stereo=Unknown, f_order=1.0)\n",
      "28    Bond(a1=Atom(element=C, isotope=None, label='C'), a2=Atom(element=C, isotope=None, label='C'), label=None, btype=Single, stereo=Unknown, f_order=1.0)\n",
      "29    Bond(a1=Atom(element=C, isotope=None, label='C'), a2=Atom(element=H, isotope=None, label='H'), label=None, btype=Single, stereo=Unknown, f_order=1.0)\n",
      "30    Bond(a1=Atom(element=C, isotope=None, label='C'), a2=Atom(element=C, isotope=None, label='C'), label=None, btype=Single, stereo=Unknown, f_order=1.0)\n",
      "31    Bond(a1=Atom(element=C, isotope=None, label='C'), a2=Atom(element=C, isotope=None, label='C'), label=None, btype=Single, stereo=Unknown, f_order=1.0)\n",
      "32    Bond(a1=Atom(element=C, isotope=None, label='C'), a2=Atom(element=C, isotope=None, label='C'), label=None, btype=Single, stereo=Unknown, f_order=1.0)\n",
      "33    Bond(a1=Atom(element=C, isotope=None, label='C'), a2=Atom(element=H, isotope=None, label='H'), label=None, btype=Single, stereo=Unknown, f_order=1.0)\n",
      "34    Bond(a1=Atom(element=C, isotope=None, label='C'), a2=Atom(element=C, isotope=None, label='C'), label=None, btype=Single, stereo=Unknown, f_order=1.0)\n",
      "35    Bond(a1=Atom(element=C, isotope=None, label='C'), a2=Atom(element=H, isotope=None, label='H'), label=None, btype=Single, stereo=Unknown, f_order=1.0)\n",
      "36    Bond(a1=Atom(element=C, isotope=None, label='C'), a2=Atom(element=H, isotope=None, label='H'), label=None, btype=Single, stereo=Unknown, f_order=1.0)\n",
      "37    Bond(a1=Atom(element=H, isotope=None, label='H'), a2=Atom(element=C, isotope=None, label='C'), label=None, btype=Single, stereo=Unknown, f_order=1.0)\n",
      "38    Bond(a1=Atom(element=C, isotope=None, label='C'), a2=Atom(element=H, isotope=None, label='H'), label=None, btype=Single, stereo=Unknown, f_order=1.0)\n",
      "39    Bond(a1=Atom(element=C, isotope=None, label='C'), a2=Atom(element=C, isotope=None, label='C'), label=None, btype=Single, stereo=Unknown, f_order=1.0)\n",
      "40    Bond(a1=Atom(element=N, isotope=None, label='N'), a2=Atom(element=C, isotope=None, label='C'), label=None, btype=Single, stereo=Unknown, f_order=1.0)\n",
      "41    Bond(a1=Atom(element=C, isotope=None, label='C'), a2=Atom(element=H, isotope=None, label='H'), label=None, btype=Single, stereo=Unknown, f_order=1.0)\n",
      "42    Bond(a1=Atom(element=C, isotope=None, label='C'), a2=Atom(element=H, isotope=None, label='H'), label=None, btype=Single, stereo=Unknown, f_order=1.0)\n",
      "43    Bond(a1=Atom(element=C, isotope=None, label='C'), a2=Atom(element=H, isotope=None, label='H'), label=None, btype=Single, stereo=Unknown, f_order=1.0)\n",
      "44    Bond(a1=Atom(element=C, isotope=None, label='C'), a2=Atom(element=H, isotope=None, label='H'), label=None, btype=Single, stereo=Unknown, f_order=1.0)\n"
     ]
    }
   ],
   "source": [
    "s1.del_atom(0)\n",
    "for i, b in enumerate(s1.bonds):\n",
    "    print(format(i, \"<5\"), b)"
   ]
  }
 ],
 "metadata": {
  "kernelspec": {
   "display_name": "molli-dev",
   "language": "python",
   "name": "python3"
  },
  "language_info": {
   "codemirror_mode": {
    "name": "ipython",
    "version": 3
   },
   "file_extension": ".py",
   "mimetype": "text/x-python",
   "name": "python",
   "nbconvert_exporter": "python",
   "pygments_lexer": "ipython3",
   "version": "3.10.6"
  },
  "orig_nbformat": 4,
  "vscode": {
   "interpreter": {
    "hash": "76cbec9d8be6152967bf6eb279a8f9736e48be32763f3b307b1279f8e0121d15"
   }
  }
 },
 "nbformat": 4,
 "nbformat_minor": 2
}
