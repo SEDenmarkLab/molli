{
 "cells": [
  {
   "cell_type": "code",
   "execution_count": 3,
   "metadata": {},
   "outputs": [],
   "source": [
    "import molli as ml\n",
    "import molli.visual"
   ]
  },
  {
   "attachments": {},
   "cell_type": "markdown",
   "metadata": {},
   "source": [
    "parsing substituents from chemdraw files"
   ]
  },
  {
   "cell_type": "code",
   "execution_count": 4,
   "metadata": {},
   "outputs": [],
   "source": [
    "cores = ml.files.box_cores_test_1\n",
    "subs = ml.files.box_substituents_test_1\n",
    "\n",
    "cores_parsed = ml.ftypes.CDXMLFile(cores)\n",
    "subs_parsed = ml.ftypes.CDXMLFile(subs)\n",
    "\n",
    "core_labels = list(cores_parsed.keys())\n",
    "i = 0\n",
    "\n",
    "subs_labels = list(subs_parsed.keys())\n",
    "j = 0"
   ]
  },
  {
   "cell_type": "code",
   "execution_count": 6,
   "metadata": {},
   "outputs": [
    {
     "data": {
      "application/3dmoljs_load.v0": "<div id=\"3dmolviewer_16847732718831456\"  style=\"position: relative; width: 1000px; height: 500px;\">\n        <p id=\"3dmolwarning_16847732718831456\" style=\"background-color:#ffcccc;color:black\">You appear to be running in JupyterLab (or JavaScript failed to load for some other reason).  You need to install the 3dmol extension: <br>\n        <tt>jupyter labextension install jupyterlab_3dmol</tt></p>\n        </div>\n<script>\n\nvar loadScriptAsync = function(uri){\n  return new Promise((resolve, reject) => {\n    //this is to ignore the existence of requirejs amd\n    var savedexports, savedmodule;\n    if (typeof exports !== 'undefined') savedexports = exports;\n    else exports = {}\n    if (typeof module !== 'undefined') savedmodule = module;\n    else module = {}\n\n    var tag = document.createElement('script');\n    tag.src = uri;\n    tag.async = true;\n    tag.onload = () => {\n        exports = savedexports;\n        module = savedmodule;\n        resolve();\n    };\n  var firstScriptTag = document.getElementsByTagName('script')[0];\n  firstScriptTag.parentNode.insertBefore(tag, firstScriptTag);\n});\n};\n\nif(typeof $3Dmolpromise === 'undefined') {\n$3Dmolpromise = null;\n  $3Dmolpromise = loadScriptAsync('https://cdnjs.cloudflare.com/ajax/libs/3Dmol/2.0.3/3Dmol-min.js');\n}\n\nvar viewer_16847732718831456 = null;\nvar warn = document.getElementById(\"3dmolwarning_16847732718831456\");\nif(warn) {\n    warn.parentNode.removeChild(warn);\n}\n$3Dmolpromise.then(function() {\nviewer_16847732718831456 = $3Dmol.createViewer(document.getElementById(\"3dmolviewer_16847732718831456\"),{backgroundColor:\"white\"});\nviewer_16847732718831456.zoomTo();\n\tviewer_16847732718831456.addModel(\"# Produced with molli package\\n@<TRIPOS>MOLECULE\\n2\\n22 24 0 0 0\\nSMALL\\nUSER_CHARGES\\n\\n@<TRIPOS>ATOM\\n     1 C       2.667045    -1.008002     0.000000 C          1 UNL1 0.0\\n     2 C       3.548295     0.205540     0.000000 C          1 UNL1 0.0\\n     3 O       2.667045     1.419081     0.000000 O          1 UNL1 0.0\\n     4 C       1.239962     0.955540     0.000000 C          1 UNL1 0.0\\n     5 N       1.239962    -0.544460     0.000000 N          1 UNL1 0.0\\n     6 C      -0.058996     1.705540     0.000000 C          1 UNL1 0.0\\n     7 C      -1.357955     0.955540     0.000000 C          1 UNL1 0.0\\n     8 O      -2.785038     1.419081     0.000000 O          1 UNL1 0.0\\n     9 C      -3.666288     0.205540     0.000000 C          1 UNL1 0.0\\n    10 C      -2.785038    -1.008002     0.000000 C          1 UNL1 0.0\\n    11 N      -1.357955    -0.544460     0.000000 N          1 UNL1 0.0\\n    12 A1     -3.016809    -1.721544    -1.299453 Unknown    1 UNL1 0.0\\n    13 A1      2.898816    -1.721544     1.299453 Unknown    1 UNL1 0.0\\n    14 C      -0.058996    -1.294460     0.000000 C          1 UNL1 0.0\\n    15 Br     -0.058996    -1.294460     1.499931 Br         1 UNL1 0.0\\n    16 Br      0.691004    -2.593419     0.000000 Br         1 UNL1 0.0\\n    17 C      -0.058996     1.705540     1.500000 C          1 UNL1 0.0\\n    18 C       1.239962     2.455540     0.000000 C          1 UNL1 0.0\\n    19 C      -3.666288     0.205540     1.500074 C          1 UNL1 0.0\\n    20 C       3.548295     0.205540     1.499601 C          1 UNL1 0.0\\n    21 C      -4.945455    -0.577794     0.000000 C          1 UNL1 0.0\\n    22 C       4.827462    -0.576752     0.000000 C          1 UNL1 0.0\\n@<TRIPOS>BOND\\n     1      1      2          1\\n     2      2      3          1\\n     3      3      4          1\\n     4      4      5          2\\n     5      5      1          1\\n     6      4      6          1\\n     7      6      7          1\\n     8      7      8          1\\n     9      8      9          1\\n    10      9     10          1\\n    11     10     11          1\\n    12     11      7          2\\n    13     10     12          1\\n    14      1     13          1\\n    15     11     14          1\\n    16     14      5          1\\n    17     14     15          1\\n    18     14     16          1\\n    19      6     17          1\\n    20      6     18          1\\n    21      9     19          1\\n    22      2     20          1\\n    23      9     21          1\\n    24      2     22          1\\n\",\"mol2\");\n\tviewer_16847732718831456.setStyle({\"stick\": {\"radius\": 0.1}, \"sphere\": {\"scale\": 0.15}});\n\tviewer_16847732718831456.setHoverable({},true,\"\\n            function(atom,viewer,event,container) {\\n                if(!atom.label) {\\n                    atom.label = viewer.addLabel(atom.elem + atom.serial, {position: atom, backgroundColor: 'mintcream', fontColor:'black'});\\n                }\\n            }\\n            \",\"\\n            function(atom,viewer) { \\n                if(atom.label) {\\n                    viewer.removeLabel(atom.label);\\n                    delete atom.label;\\n                }\\n            }\\n            \");\n\tviewer_16847732718831456.zoomTo();\n\tviewer_16847732718831456.setBackgroundColor(null);\nviewer_16847732718831456.render();\n});\n</script>",
      "text/html": [
       "<div id=\"3dmolviewer_16847732718831456\"  style=\"position: relative; width: 1000px; height: 500px;\">\n",
       "        <p id=\"3dmolwarning_16847732718831456\" style=\"background-color:#ffcccc;color:black\">You appear to be running in JupyterLab (or JavaScript failed to load for some other reason).  You need to install the 3dmol extension: <br>\n",
       "        <tt>jupyter labextension install jupyterlab_3dmol</tt></p>\n",
       "        </div>\n",
       "<script>\n",
       "\n",
       "var loadScriptAsync = function(uri){\n",
       "  return new Promise((resolve, reject) => {\n",
       "    //this is to ignore the existence of requirejs amd\n",
       "    var savedexports, savedmodule;\n",
       "    if (typeof exports !== 'undefined') savedexports = exports;\n",
       "    else exports = {}\n",
       "    if (typeof module !== 'undefined') savedmodule = module;\n",
       "    else module = {}\n",
       "\n",
       "    var tag = document.createElement('script');\n",
       "    tag.src = uri;\n",
       "    tag.async = true;\n",
       "    tag.onload = () => {\n",
       "        exports = savedexports;\n",
       "        module = savedmodule;\n",
       "        resolve();\n",
       "    };\n",
       "  var firstScriptTag = document.getElementsByTagName('script')[0];\n",
       "  firstScriptTag.parentNode.insertBefore(tag, firstScriptTag);\n",
       "});\n",
       "};\n",
       "\n",
       "if(typeof $3Dmolpromise === 'undefined') {\n",
       "$3Dmolpromise = null;\n",
       "  $3Dmolpromise = loadScriptAsync('https://cdnjs.cloudflare.com/ajax/libs/3Dmol/2.0.3/3Dmol-min.js');\n",
       "}\n",
       "\n",
       "var viewer_16847732718831456 = null;\n",
       "var warn = document.getElementById(\"3dmolwarning_16847732718831456\");\n",
       "if(warn) {\n",
       "    warn.parentNode.removeChild(warn);\n",
       "}\n",
       "$3Dmolpromise.then(function() {\n",
       "viewer_16847732718831456 = $3Dmol.createViewer(document.getElementById(\"3dmolviewer_16847732718831456\"),{backgroundColor:\"white\"});\n",
       "viewer_16847732718831456.zoomTo();\n",
       "\tviewer_16847732718831456.addModel(\"# Produced with molli package\\n@<TRIPOS>MOLECULE\\n2\\n22 24 0 0 0\\nSMALL\\nUSER_CHARGES\\n\\n@<TRIPOS>ATOM\\n     1 C       2.667045    -1.008002     0.000000 C          1 UNL1 0.0\\n     2 C       3.548295     0.205540     0.000000 C          1 UNL1 0.0\\n     3 O       2.667045     1.419081     0.000000 O          1 UNL1 0.0\\n     4 C       1.239962     0.955540     0.000000 C          1 UNL1 0.0\\n     5 N       1.239962    -0.544460     0.000000 N          1 UNL1 0.0\\n     6 C      -0.058996     1.705540     0.000000 C          1 UNL1 0.0\\n     7 C      -1.357955     0.955540     0.000000 C          1 UNL1 0.0\\n     8 O      -2.785038     1.419081     0.000000 O          1 UNL1 0.0\\n     9 C      -3.666288     0.205540     0.000000 C          1 UNL1 0.0\\n    10 C      -2.785038    -1.008002     0.000000 C          1 UNL1 0.0\\n    11 N      -1.357955    -0.544460     0.000000 N          1 UNL1 0.0\\n    12 A1     -3.016809    -1.721544    -1.299453 Unknown    1 UNL1 0.0\\n    13 A1      2.898816    -1.721544     1.299453 Unknown    1 UNL1 0.0\\n    14 C      -0.058996    -1.294460     0.000000 C          1 UNL1 0.0\\n    15 Br     -0.058996    -1.294460     1.499931 Br         1 UNL1 0.0\\n    16 Br      0.691004    -2.593419     0.000000 Br         1 UNL1 0.0\\n    17 C      -0.058996     1.705540     1.500000 C          1 UNL1 0.0\\n    18 C       1.239962     2.455540     0.000000 C          1 UNL1 0.0\\n    19 C      -3.666288     0.205540     1.500074 C          1 UNL1 0.0\\n    20 C       3.548295     0.205540     1.499601 C          1 UNL1 0.0\\n    21 C      -4.945455    -0.577794     0.000000 C          1 UNL1 0.0\\n    22 C       4.827462    -0.576752     0.000000 C          1 UNL1 0.0\\n@<TRIPOS>BOND\\n     1      1      2          1\\n     2      2      3          1\\n     3      3      4          1\\n     4      4      5          2\\n     5      5      1          1\\n     6      4      6          1\\n     7      6      7          1\\n     8      7      8          1\\n     9      8      9          1\\n    10      9     10          1\\n    11     10     11          1\\n    12     11      7          2\\n    13     10     12          1\\n    14      1     13          1\\n    15     11     14          1\\n    16     14      5          1\\n    17     14     15          1\\n    18     14     16          1\\n    19      6     17          1\\n    20      6     18          1\\n    21      9     19          1\\n    22      2     20          1\\n    23      9     21          1\\n    24      2     22          1\\n\",\"mol2\");\n",
       "\tviewer_16847732718831456.setStyle({\"stick\": {\"radius\": 0.1}, \"sphere\": {\"scale\": 0.15}});\n",
       "\tviewer_16847732718831456.setHoverable({},true,\"\\n            function(atom,viewer,event,container) {\\n                if(!atom.label) {\\n                    atom.label = viewer.addLabel(atom.elem + atom.serial, {position: atom, backgroundColor: 'mintcream', fontColor:'black'});\\n                }\\n            }\\n            \",\"\\n            function(atom,viewer) { \\n                if(atom.label) {\\n                    viewer.removeLabel(atom.label);\\n                    delete atom.label;\\n                }\\n            }\\n            \");\n",
       "\tviewer_16847732718831456.zoomTo();\n",
       "\tviewer_16847732718831456.setBackgroundColor(null);\n",
       "viewer_16847732718831456.render();\n",
       "});\n",
       "</script>"
      ]
     },
     "metadata": {},
     "output_type": "display_data"
    },
    {
     "data": {
      "text/plain": [
       "Molecule(name='2', formula='C14 Br2 N2 O2 Unknown2')"
      ]
     },
     "execution_count": 6,
     "metadata": {},
     "output_type": "execute_result"
    }
   ],
   "source": [
    "# run this cell repeatedly to visualize each core\n",
    "current = cores_parsed[core_labels[i]]\n",
    "i = i+1\n",
    "current\n"
   ]
  },
  {
   "cell_type": "code",
   "execution_count": 4,
   "metadata": {},
   "outputs": [
    {
     "data": {
      "application/3dmoljs_load.v0": "<div id=\"3dmolviewer_16844280706886964\"  style=\"position: relative; width: 1000px; height: 500px;\">\n        <p id=\"3dmolwarning_16844280706886964\" style=\"background-color:#ffcccc;color:black\">You appear to be running in JupyterLab (or JavaScript failed to load for some other reason).  You need to install the 3dmol extension: <br>\n        <tt>jupyter labextension install jupyterlab_3dmol</tt></p>\n        </div>\n<script>\n\nvar loadScriptAsync = function(uri){\n  return new Promise((resolve, reject) => {\n    //this is to ignore the existence of requirejs amd\n    var savedexports, savedmodule;\n    if (typeof exports !== 'undefined') savedexports = exports;\n    else exports = {}\n    if (typeof module !== 'undefined') savedmodule = module;\n    else module = {}\n\n    var tag = document.createElement('script');\n    tag.src = uri;\n    tag.async = true;\n    tag.onload = () => {\n        exports = savedexports;\n        module = savedmodule;\n        resolve();\n    };\n  var firstScriptTag = document.getElementsByTagName('script')[0];\n  firstScriptTag.parentNode.insertBefore(tag, firstScriptTag);\n});\n};\n\nif(typeof $3Dmolpromise === 'undefined') {\n$3Dmolpromise = null;\n  $3Dmolpromise = loadScriptAsync('https://cdnjs.cloudflare.com/ajax/libs/3Dmol/2.0.3/3Dmol-min.js');\n}\n\nvar viewer_16844280706886964 = null;\nvar warn = document.getElementById(\"3dmolwarning_16844280706886964\");\nif(warn) {\n    warn.parentNode.removeChild(warn);\n}\n$3Dmolpromise.then(function() {\nviewer_16844280706886964 = $3Dmol.createViewer(document.getElementById(\"3dmolviewer_16844280706886964\"),{backgroundColor:\"white\"});\nviewer_16844280706886964.zoomTo();\n\tviewer_16844280706886964.addModel(\"# Produced with molli package\\n@<TRIPOS>MOLECULE\\n3\\n4 3 0 0 0\\nSMALL\\nUSER_CHARGES\\n\\n@<TRIPOS>ATOM\\n     1 C       0.000000     0.000000     0.000000 C          1 UNL1 0.0\\n     2 AP1    -1.298958    -0.750000     0.000000 Unknown    1 UNL1 0.0\\n     3 C       1.299018    -0.750035     0.000000 C          1 UNL1 0.0\\n     4 C       0.000000     1.500000     0.000000 C          1 UNL1 0.0\\n@<TRIPOS>BOND\\n     1      2      1          1\\n     2      1      3          1\\n     3      1      4          1\\n\",\"mol2\");\n\tviewer_16844280706886964.setStyle({\"stick\": {\"radius\": 0.1}, \"sphere\": {\"scale\": 0.15}});\n\tviewer_16844280706886964.setHoverable({},true,\"\\n            function(atom,viewer,event,container) {\\n                if(!atom.label) {\\n                    atom.label = viewer.addLabel(atom.elem + atom.serial, {position: atom, backgroundColor: 'mintcream', fontColor:'black'});\\n                }\\n            }\\n            \",\"\\n            function(atom,viewer) { \\n                if(atom.label) {\\n                    viewer.removeLabel(atom.label);\\n                    delete atom.label;\\n                }\\n            }\\n            \");\n\tviewer_16844280706886964.zoomTo();\n\tviewer_16844280706886964.setBackgroundColor(null);\nviewer_16844280706886964.render();\n});\n</script>",
      "text/html": [
       "<div id=\"3dmolviewer_16844280706886964\"  style=\"position: relative; width: 1000px; height: 500px;\">\n",
       "        <p id=\"3dmolwarning_16844280706886964\" style=\"background-color:#ffcccc;color:black\">You appear to be running in JupyterLab (or JavaScript failed to load for some other reason).  You need to install the 3dmol extension: <br>\n",
       "        <tt>jupyter labextension install jupyterlab_3dmol</tt></p>\n",
       "        </div>\n",
       "<script>\n",
       "\n",
       "var loadScriptAsync = function(uri){\n",
       "  return new Promise((resolve, reject) => {\n",
       "    //this is to ignore the existence of requirejs amd\n",
       "    var savedexports, savedmodule;\n",
       "    if (typeof exports !== 'undefined') savedexports = exports;\n",
       "    else exports = {}\n",
       "    if (typeof module !== 'undefined') savedmodule = module;\n",
       "    else module = {}\n",
       "\n",
       "    var tag = document.createElement('script');\n",
       "    tag.src = uri;\n",
       "    tag.async = true;\n",
       "    tag.onload = () => {\n",
       "        exports = savedexports;\n",
       "        module = savedmodule;\n",
       "        resolve();\n",
       "    };\n",
       "  var firstScriptTag = document.getElementsByTagName('script')[0];\n",
       "  firstScriptTag.parentNode.insertBefore(tag, firstScriptTag);\n",
       "});\n",
       "};\n",
       "\n",
       "if(typeof $3Dmolpromise === 'undefined') {\n",
       "$3Dmolpromise = null;\n",
       "  $3Dmolpromise = loadScriptAsync('https://cdnjs.cloudflare.com/ajax/libs/3Dmol/2.0.3/3Dmol-min.js');\n",
       "}\n",
       "\n",
       "var viewer_16844280706886964 = null;\n",
       "var warn = document.getElementById(\"3dmolwarning_16844280706886964\");\n",
       "if(warn) {\n",
       "    warn.parentNode.removeChild(warn);\n",
       "}\n",
       "$3Dmolpromise.then(function() {\n",
       "viewer_16844280706886964 = $3Dmol.createViewer(document.getElementById(\"3dmolviewer_16844280706886964\"),{backgroundColor:\"white\"});\n",
       "viewer_16844280706886964.zoomTo();\n",
       "\tviewer_16844280706886964.addModel(\"# Produced with molli package\\n@<TRIPOS>MOLECULE\\n3\\n4 3 0 0 0\\nSMALL\\nUSER_CHARGES\\n\\n@<TRIPOS>ATOM\\n     1 C       0.000000     0.000000     0.000000 C          1 UNL1 0.0\\n     2 AP1    -1.298958    -0.750000     0.000000 Unknown    1 UNL1 0.0\\n     3 C       1.299018    -0.750035     0.000000 C          1 UNL1 0.0\\n     4 C       0.000000     1.500000     0.000000 C          1 UNL1 0.0\\n@<TRIPOS>BOND\\n     1      2      1          1\\n     2      1      3          1\\n     3      1      4          1\\n\",\"mol2\");\n",
       "\tviewer_16844280706886964.setStyle({\"stick\": {\"radius\": 0.1}, \"sphere\": {\"scale\": 0.15}});\n",
       "\tviewer_16844280706886964.setHoverable({},true,\"\\n            function(atom,viewer,event,container) {\\n                if(!atom.label) {\\n                    atom.label = viewer.addLabel(atom.elem + atom.serial, {position: atom, backgroundColor: 'mintcream', fontColor:'black'});\\n                }\\n            }\\n            \",\"\\n            function(atom,viewer) { \\n                if(atom.label) {\\n                    viewer.removeLabel(atom.label);\\n                    delete atom.label;\\n                }\\n            }\\n            \");\n",
       "\tviewer_16844280706886964.zoomTo();\n",
       "\tviewer_16844280706886964.setBackgroundColor(null);\n",
       "viewer_16844280706886964.render();\n",
       "});\n",
       "</script>"
      ]
     },
     "metadata": {},
     "output_type": "display_data"
    },
    {
     "data": {
      "text/plain": [
       "Molecule(name='3', formula='C3 Unknown1')"
      ]
     },
     "execution_count": 4,
     "metadata": {},
     "output_type": "execute_result"
    }
   ],
   "source": [
    "# run this cell repeatedly to visualize each substituent\n",
    "current = subs_parsed[subs_labels[j]]\n",
    "j = j+1\n",
    "current"
   ]
  }
 ],
 "metadata": {
  "kernelspec": {
   "display_name": "molli-dev",
   "language": "python",
   "name": "python3"
  },
  "language_info": {
   "codemirror_mode": {
    "name": "ipython",
    "version": 3
   },
   "file_extension": ".py",
   "mimetype": "text/x-python",
   "name": "python",
   "nbconvert_exporter": "python",
   "pygments_lexer": "ipython3",
   "version": "3.10.11"
  },
  "orig_nbformat": 4
 },
 "nbformat": 4,
 "nbformat_minor": 2
}
