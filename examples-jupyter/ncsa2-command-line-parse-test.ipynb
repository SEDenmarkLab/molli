{
 "cells": [
  {
   "cell_type": "code",
   "execution_count": 1,
   "metadata": {},
   "outputs": [
    {
     "name": "stderr",
     "output_type": "stream",
     "text": [
      "/home/ethangm2/NCSA Development/molli/molli/storage/library.py:95: UserWarning: Requested path was not available. New file name: /home/ethangm2/NCSA Development/molli/molli/files/BOX_cores_test_1___002.mlib\n",
      "  warn(f\"Requested path was not available. New file name: {_path}\")\n",
      "100%|██████████| 5/5 [00:00<00:00, 88.64it/s]\n",
      "/home/ethangm2/NCSA Development/molli/molli/storage/library.py:95: UserWarning: Requested path was not available. New file name: /home/ethangm2/NCSA Development/molli/molli/files/BOX_substituents_test_1___002.mlib\n",
      "  warn(f\"Requested path was not available. New file name: {_path}\")\n",
      "100%|██████████| 15/15 [00:00<00:00, 329.31it/s]\n"
     ]
    },
    {
     "data": {
      "text/plain": [
       "CompletedProcess(args=['molli', 'parse', '--hadd', '/home/ethangm2/NCSA Development/molli/molli/files/BOX_substituents_test_1.cdxml'], returncode=0)"
      ]
     },
     "execution_count": 1,
     "metadata": {},
     "output_type": "execute_result"
    }
   ],
   "source": [
    "import molli as ml\n",
    "import molli.visual\n",
    "import subprocess\n",
    "\n",
    "# files we get from front end\n",
    "cores = ml.files.box_cores_test_1\n",
    "subs = ml.files.box_substituents_test_1\n",
    "\n",
    "subprocess.run(['molli', 'parse', '--hadd', f'{cores}'])\n",
    "subprocess.run(['molli', 'parse', '--hadd', f'{subs}'])"
   ]
  },
  {
   "cell_type": "code",
   "execution_count": 9,
   "metadata": {},
   "outputs": [
    {
     "name": "stdout",
     "output_type": "stream",
     "text": [
      "5\n",
      "<bound method Molecule.dump_mol2 of Molecule(name='1', formula='C10 H12 Br2 N2 O2 Unknown2')>\n"
     ]
    }
   ],
   "source": [
    "cores_mlib = ml.MoleculeLibrary('../molli/files/BOX_cores_test_1.mlib')\n",
    "subs_mlib = ml.MoleculeLibrary('../molli/files/BOX_substituents_test_1.mlib')\n",
    "\n",
    "i = -1\n",
    "j = -1\n",
    "\n",
    "print(len(cores_mlib))\n",
    "print(cores_mlib[0].dump_mol2)\n",
    "cores_mlib[4].dump_mol2()"
   ]
  },
  {
   "cell_type": "code",
   "execution_count": 3,
   "metadata": {},
   "outputs": [
    {
     "data": {
      "application/3dmoljs_load.v0": "<div id=\"3dmolviewer_16848746244358938\"  style=\"position: relative; width: 1000px; height: 500px;\">\n        <p id=\"3dmolwarning_16848746244358938\" style=\"background-color:#ffcccc;color:black\">You appear to be running in JupyterLab (or JavaScript failed to load for some other reason).  You need to install the 3dmol extension: <br>\n        <tt>jupyter labextension install jupyterlab_3dmol</tt></p>\n        </div>\n<script>\n\nvar loadScriptAsync = function(uri){\n  return new Promise((resolve, reject) => {\n    //this is to ignore the existence of requirejs amd\n    var savedexports, savedmodule;\n    if (typeof exports !== 'undefined') savedexports = exports;\n    else exports = {}\n    if (typeof module !== 'undefined') savedmodule = module;\n    else module = {}\n\n    var tag = document.createElement('script');\n    tag.src = uri;\n    tag.async = true;\n    tag.onload = () => {\n        exports = savedexports;\n        module = savedmodule;\n        resolve();\n    };\n  var firstScriptTag = document.getElementsByTagName('script')[0];\n  firstScriptTag.parentNode.insertBefore(tag, firstScriptTag);\n});\n};\n\nif(typeof $3Dmolpromise === 'undefined') {\n$3Dmolpromise = null;\n  $3Dmolpromise = loadScriptAsync('https://cdnjs.cloudflare.com/ajax/libs/3Dmol/2.0.3/3Dmol-min.js');\n}\n\nvar viewer_16848746244358938 = null;\nvar warn = document.getElementById(\"3dmolwarning_16848746244358938\");\nif(warn) {\n    warn.parentNode.removeChild(warn);\n}\n$3Dmolpromise.then(function() {\nviewer_16848746244358938 = $3Dmol.createViewer(document.getElementById(\"3dmolviewer_16848746244358938\"),{backgroundColor:\"white\"});\nviewer_16848746244358938.zoomTo();\n\tviewer_16848746244358938.addModel(\"# Produced with molli package\\n@<TRIPOS>MOLECULE\\n1\\n30 32 0 0 0\\nSMALL\\nUSER_CHARGES\\n\\n@<TRIPOS>ATOM\\n     1 C       2.653877    -0.900810     0.000000 C          1 UNL1 0.0\\n     2 C       3.535127     0.312731     0.000000 C          1 UNL1 0.0\\n     3 O       2.653877     1.526273     0.000000 O          1 UNL1 0.0\\n     4 C       1.226794     1.062732     0.000000 C          1 UNL1 0.0\\n     5 N       1.226794    -0.437269     0.000000 N          1 UNL1 0.0\\n     6 C      -0.072164     1.812732     0.000000 C          1 UNL1 0.0\\n     7 C      -1.371123     1.062732     0.000000 C          1 UNL1 0.0\\n     8 O      -2.798206     1.526273     0.000000 O          1 UNL1 0.0\\n     9 C      -3.679456     0.312731     0.000000 C          1 UNL1 0.0\\n    10 C      -2.798206    -0.900810     0.000000 C          1 UNL1 0.0\\n    11 N      -1.371123    -0.437269     0.000000 N          1 UNL1 0.0\\n    12 A1     -3.029977    -1.614352    -1.299453 Unknown    1 UNL1 0.0\\n    13 A1      2.885648    -1.614352     1.299453 Unknown    1 UNL1 0.0\\n    14 C      -0.072164    -1.187268     0.000000 C          1 UNL1 0.0\\n    15 Br     -0.072164    -1.187268     1.499931 Br         1 UNL1 0.0\\n    16 Br      0.677836    -2.486227     0.000000 Br         1 UNL1 0.0\\n    17 C      -0.072164     1.812732     1.500000 C          1 UNL1 0.0\\n    18 C       1.226794     2.562732     0.000000 C          1 UNL1 0.0\\n    19 H       2.859825    -1.534673    -0.837080 H          1 UNL1 0.0\\n    20 H       4.148880     0.312731     0.876544 H          1 UNL1 0.0\\n    21 H       4.148880     0.312731    -0.876544 H          1 UNL1 0.0\\n    22 H      -4.293208     0.312731     0.876544 H          1 UNL1 0.0\\n    23 H      -4.293208     0.312731    -0.876544 H          1 UNL1 0.0\\n    24 H      -3.004154    -1.534673     0.837080 H          1 UNL1 0.0\\n    25 H      -0.532870     0.915269     1.856667 H          1 UNL1 0.0\\n    26 H      -0.619037     2.660446     1.856667 H          1 UNL1 0.0\\n    27 H       0.935414     1.862480     1.856667 H          1 UNL1 0.0\\n    28 H       1.787896     2.304234     0.873638 H          1 UNL1 0.0\\n    29 H       1.031246     3.614711     0.000027 H          1 UNL1 0.0\\n    30 H       1.787873     2.304274    -0.873665 H          1 UNL1 0.0\\n@<TRIPOS>BOND\\n     1      1      2          1\\n     2      2      3          1\\n     3      3      4          1\\n     4      4      5          2\\n     5      5      1          1\\n     6      4      6          1\\n     7      6      7          1\\n     8      7      8          1\\n     9      8      9          1\\n    10      9     10          1\\n    11     10     11          1\\n    12     11      7          2\\n    13     10     12          1\\n    14      1     13          1\\n    15     11     14          1\\n    16     14      5          1\\n    17     14     15          1\\n    18     14     16          1\\n    19      6     17          1\\n    20      6     18          1\\n    21      1     19          1\\n    22      2     20          1\\n    23      2     21          1\\n    24      9     22          1\\n    25      9     23          1\\n    26     10     24          1\\n    27     17     25          1\\n    28     17     26          1\\n    29     17     27          1\\n    30     18     28          1\\n    31     18     29          1\\n    32     18     30          1\\n\",\"mol2\");\n\tviewer_16848746244358938.setStyle({\"stick\": {\"radius\": 0.1}, \"sphere\": {\"scale\": 0.15}});\n\tviewer_16848746244358938.setHoverable({},true,\"\\n            function(atom,viewer,event,container) {\\n                if(!atom.label) {\\n                    atom.label = viewer.addLabel(atom.elem + atom.serial, {position: atom, backgroundColor: 'mintcream', fontColor:'black'});\\n                }\\n            }\\n            \",\"\\n            function(atom,viewer) { \\n                if(atom.label) {\\n                    viewer.removeLabel(atom.label);\\n                    delete atom.label;\\n                }\\n            }\\n            \");\n\tviewer_16848746244358938.zoomTo();\n\tviewer_16848746244358938.setBackgroundColor(null);\nviewer_16848746244358938.render();\n});\n</script>",
      "text/html": [
       "<div id=\"3dmolviewer_16848746244358938\"  style=\"position: relative; width: 1000px; height: 500px;\">\n",
       "        <p id=\"3dmolwarning_16848746244358938\" style=\"background-color:#ffcccc;color:black\">You appear to be running in JupyterLab (or JavaScript failed to load for some other reason).  You need to install the 3dmol extension: <br>\n",
       "        <tt>jupyter labextension install jupyterlab_3dmol</tt></p>\n",
       "        </div>\n",
       "<script>\n",
       "\n",
       "var loadScriptAsync = function(uri){\n",
       "  return new Promise((resolve, reject) => {\n",
       "    //this is to ignore the existence of requirejs amd\n",
       "    var savedexports, savedmodule;\n",
       "    if (typeof exports !== 'undefined') savedexports = exports;\n",
       "    else exports = {}\n",
       "    if (typeof module !== 'undefined') savedmodule = module;\n",
       "    else module = {}\n",
       "\n",
       "    var tag = document.createElement('script');\n",
       "    tag.src = uri;\n",
       "    tag.async = true;\n",
       "    tag.onload = () => {\n",
       "        exports = savedexports;\n",
       "        module = savedmodule;\n",
       "        resolve();\n",
       "    };\n",
       "  var firstScriptTag = document.getElementsByTagName('script')[0];\n",
       "  firstScriptTag.parentNode.insertBefore(tag, firstScriptTag);\n",
       "});\n",
       "};\n",
       "\n",
       "if(typeof $3Dmolpromise === 'undefined') {\n",
       "$3Dmolpromise = null;\n",
       "  $3Dmolpromise = loadScriptAsync('https://cdnjs.cloudflare.com/ajax/libs/3Dmol/2.0.3/3Dmol-min.js');\n",
       "}\n",
       "\n",
       "var viewer_16848746244358938 = null;\n",
       "var warn = document.getElementById(\"3dmolwarning_16848746244358938\");\n",
       "if(warn) {\n",
       "    warn.parentNode.removeChild(warn);\n",
       "}\n",
       "$3Dmolpromise.then(function() {\n",
       "viewer_16848746244358938 = $3Dmol.createViewer(document.getElementById(\"3dmolviewer_16848746244358938\"),{backgroundColor:\"white\"});\n",
       "viewer_16848746244358938.zoomTo();\n",
       "\tviewer_16848746244358938.addModel(\"# Produced with molli package\\n@<TRIPOS>MOLECULE\\n1\\n30 32 0 0 0\\nSMALL\\nUSER_CHARGES\\n\\n@<TRIPOS>ATOM\\n     1 C       2.653877    -0.900810     0.000000 C          1 UNL1 0.0\\n     2 C       3.535127     0.312731     0.000000 C          1 UNL1 0.0\\n     3 O       2.653877     1.526273     0.000000 O          1 UNL1 0.0\\n     4 C       1.226794     1.062732     0.000000 C          1 UNL1 0.0\\n     5 N       1.226794    -0.437269     0.000000 N          1 UNL1 0.0\\n     6 C      -0.072164     1.812732     0.000000 C          1 UNL1 0.0\\n     7 C      -1.371123     1.062732     0.000000 C          1 UNL1 0.0\\n     8 O      -2.798206     1.526273     0.000000 O          1 UNL1 0.0\\n     9 C      -3.679456     0.312731     0.000000 C          1 UNL1 0.0\\n    10 C      -2.798206    -0.900810     0.000000 C          1 UNL1 0.0\\n    11 N      -1.371123    -0.437269     0.000000 N          1 UNL1 0.0\\n    12 A1     -3.029977    -1.614352    -1.299453 Unknown    1 UNL1 0.0\\n    13 A1      2.885648    -1.614352     1.299453 Unknown    1 UNL1 0.0\\n    14 C      -0.072164    -1.187268     0.000000 C          1 UNL1 0.0\\n    15 Br     -0.072164    -1.187268     1.499931 Br         1 UNL1 0.0\\n    16 Br      0.677836    -2.486227     0.000000 Br         1 UNL1 0.0\\n    17 C      -0.072164     1.812732     1.500000 C          1 UNL1 0.0\\n    18 C       1.226794     2.562732     0.000000 C          1 UNL1 0.0\\n    19 H       2.859825    -1.534673    -0.837080 H          1 UNL1 0.0\\n    20 H       4.148880     0.312731     0.876544 H          1 UNL1 0.0\\n    21 H       4.148880     0.312731    -0.876544 H          1 UNL1 0.0\\n    22 H      -4.293208     0.312731     0.876544 H          1 UNL1 0.0\\n    23 H      -4.293208     0.312731    -0.876544 H          1 UNL1 0.0\\n    24 H      -3.004154    -1.534673     0.837080 H          1 UNL1 0.0\\n    25 H      -0.532870     0.915269     1.856667 H          1 UNL1 0.0\\n    26 H      -0.619037     2.660446     1.856667 H          1 UNL1 0.0\\n    27 H       0.935414     1.862480     1.856667 H          1 UNL1 0.0\\n    28 H       1.787896     2.304234     0.873638 H          1 UNL1 0.0\\n    29 H       1.031246     3.614711     0.000027 H          1 UNL1 0.0\\n    30 H       1.787873     2.304274    -0.873665 H          1 UNL1 0.0\\n@<TRIPOS>BOND\\n     1      1      2          1\\n     2      2      3          1\\n     3      3      4          1\\n     4      4      5          2\\n     5      5      1          1\\n     6      4      6          1\\n     7      6      7          1\\n     8      7      8          1\\n     9      8      9          1\\n    10      9     10          1\\n    11     10     11          1\\n    12     11      7          2\\n    13     10     12          1\\n    14      1     13          1\\n    15     11     14          1\\n    16     14      5          1\\n    17     14     15          1\\n    18     14     16          1\\n    19      6     17          1\\n    20      6     18          1\\n    21      1     19          1\\n    22      2     20          1\\n    23      2     21          1\\n    24      9     22          1\\n    25      9     23          1\\n    26     10     24          1\\n    27     17     25          1\\n    28     17     26          1\\n    29     17     27          1\\n    30     18     28          1\\n    31     18     29          1\\n    32     18     30          1\\n\",\"mol2\");\n",
       "\tviewer_16848746244358938.setStyle({\"stick\": {\"radius\": 0.1}, \"sphere\": {\"scale\": 0.15}});\n",
       "\tviewer_16848746244358938.setHoverable({},true,\"\\n            function(atom,viewer,event,container) {\\n                if(!atom.label) {\\n                    atom.label = viewer.addLabel(atom.elem + atom.serial, {position: atom, backgroundColor: 'mintcream', fontColor:'black'});\\n                }\\n            }\\n            \",\"\\n            function(atom,viewer) { \\n                if(atom.label) {\\n                    viewer.removeLabel(atom.label);\\n                    delete atom.label;\\n                }\\n            }\\n            \");\n",
       "\tviewer_16848746244358938.zoomTo();\n",
       "\tviewer_16848746244358938.setBackgroundColor(null);\n",
       "viewer_16848746244358938.render();\n",
       "});\n",
       "</script>"
      ]
     },
     "metadata": {},
     "output_type": "display_data"
    },
    {
     "data": {
      "text/plain": [
       "Molecule(name='1', formula='C10 H12 Br2 N2 O2 Unknown2')"
      ]
     },
     "execution_count": 3,
     "metadata": {},
     "output_type": "execute_result"
    }
   ],
   "source": [
    "i = i+1\n",
    "cores_mlib[i]\n"
   ]
  },
  {
   "cell_type": "code",
   "execution_count": 4,
   "metadata": {},
   "outputs": [
    {
     "data": {
      "application/3dmoljs_load.v0": "<div id=\"3dmolviewer_16848746371454394\"  style=\"position: relative; width: 1000px; height: 500px;\">\n        <p id=\"3dmolwarning_16848746371454394\" style=\"background-color:#ffcccc;color:black\">You appear to be running in JupyterLab (or JavaScript failed to load for some other reason).  You need to install the 3dmol extension: <br>\n        <tt>jupyter labextension install jupyterlab_3dmol</tt></p>\n        </div>\n<script>\n\nvar loadScriptAsync = function(uri){\n  return new Promise((resolve, reject) => {\n    //this is to ignore the existence of requirejs amd\n    var savedexports, savedmodule;\n    if (typeof exports !== 'undefined') savedexports = exports;\n    else exports = {}\n    if (typeof module !== 'undefined') savedmodule = module;\n    else module = {}\n\n    var tag = document.createElement('script');\n    tag.src = uri;\n    tag.async = true;\n    tag.onload = () => {\n        exports = savedexports;\n        module = savedmodule;\n        resolve();\n    };\n  var firstScriptTag = document.getElementsByTagName('script')[0];\n  firstScriptTag.parentNode.insertBefore(tag, firstScriptTag);\n});\n};\n\nif(typeof $3Dmolpromise === 'undefined') {\n$3Dmolpromise = null;\n  $3Dmolpromise = loadScriptAsync('https://cdnjs.cloudflare.com/ajax/libs/3Dmol/2.0.3/3Dmol-min.js');\n}\n\nvar viewer_16848746371454394 = null;\nvar warn = document.getElementById(\"3dmolwarning_16848746371454394\");\nif(warn) {\n    warn.parentNode.removeChild(warn);\n}\n$3Dmolpromise.then(function() {\nviewer_16848746371454394 = $3Dmol.createViewer(document.getElementById(\"3dmolviewer_16848746371454394\"),{backgroundColor:\"white\"});\nviewer_16848746371454394.zoomTo();\n\tviewer_16848746371454394.addModel(\"# Produced with molli package\\n@<TRIPOS>MOLECULE\\n3\\n11 10 0 0 0\\nSMALL\\nUSER_CHARGES\\n\\n@<TRIPOS>ATOM\\n     1 C       0.000000     0.000000     0.000000 C          1 UNL1 0.0\\n     2 AP1    -1.298958    -0.750000     0.000000 Unknown    1 UNL1 0.0\\n     3 C       1.299018    -0.750035     0.000000 C          1 UNL1 0.0\\n     4 C       0.000000     1.500000     0.000000 C          1 UNL1 0.0\\n     5 H       0.000000     0.000000    -1.070000 H          1 UNL1 0.0\\n     6 H       1.860120    -0.491537     0.873638 H          1 UNL1 0.0\\n     7 H       1.860097    -0.491577    -0.873665 H          1 UNL1 0.0\\n     8 H       1.103470    -1.802014     0.000027 H          1 UNL1 0.0\\n     9 H       1.008806     1.856667     0.000000 H          1 UNL1 0.0\\n    10 H      -0.504403     1.856667     0.873651 H          1 UNL1 0.0\\n    11 H      -0.504403     1.856667    -0.873651 H          1 UNL1 0.0\\n@<TRIPOS>BOND\\n     1      2      1          1\\n     2      1      3          1\\n     3      1      4          1\\n     4      1      5          1\\n     5      3      6          1\\n     6      3      7          1\\n     7      3      8          1\\n     8      4      9          1\\n     9      4     10          1\\n    10      4     11          1\\n\",\"mol2\");\n\tviewer_16848746371454394.setStyle({\"stick\": {\"radius\": 0.1}, \"sphere\": {\"scale\": 0.15}});\n\tviewer_16848746371454394.setHoverable({},true,\"\\n            function(atom,viewer,event,container) {\\n                if(!atom.label) {\\n                    atom.label = viewer.addLabel(atom.elem + atom.serial, {position: atom, backgroundColor: 'mintcream', fontColor:'black'});\\n                }\\n            }\\n            \",\"\\n            function(atom,viewer) { \\n                if(atom.label) {\\n                    viewer.removeLabel(atom.label);\\n                    delete atom.label;\\n                }\\n            }\\n            \");\n\tviewer_16848746371454394.zoomTo();\n\tviewer_16848746371454394.setBackgroundColor(null);\nviewer_16848746371454394.render();\n});\n</script>",
      "text/html": [
       "<div id=\"3dmolviewer_16848746371454394\"  style=\"position: relative; width: 1000px; height: 500px;\">\n",
       "        <p id=\"3dmolwarning_16848746371454394\" style=\"background-color:#ffcccc;color:black\">You appear to be running in JupyterLab (or JavaScript failed to load for some other reason).  You need to install the 3dmol extension: <br>\n",
       "        <tt>jupyter labextension install jupyterlab_3dmol</tt></p>\n",
       "        </div>\n",
       "<script>\n",
       "\n",
       "var loadScriptAsync = function(uri){\n",
       "  return new Promise((resolve, reject) => {\n",
       "    //this is to ignore the existence of requirejs amd\n",
       "    var savedexports, savedmodule;\n",
       "    if (typeof exports !== 'undefined') savedexports = exports;\n",
       "    else exports = {}\n",
       "    if (typeof module !== 'undefined') savedmodule = module;\n",
       "    else module = {}\n",
       "\n",
       "    var tag = document.createElement('script');\n",
       "    tag.src = uri;\n",
       "    tag.async = true;\n",
       "    tag.onload = () => {\n",
       "        exports = savedexports;\n",
       "        module = savedmodule;\n",
       "        resolve();\n",
       "    };\n",
       "  var firstScriptTag = document.getElementsByTagName('script')[0];\n",
       "  firstScriptTag.parentNode.insertBefore(tag, firstScriptTag);\n",
       "});\n",
       "};\n",
       "\n",
       "if(typeof $3Dmolpromise === 'undefined') {\n",
       "$3Dmolpromise = null;\n",
       "  $3Dmolpromise = loadScriptAsync('https://cdnjs.cloudflare.com/ajax/libs/3Dmol/2.0.3/3Dmol-min.js');\n",
       "}\n",
       "\n",
       "var viewer_16848746371454394 = null;\n",
       "var warn = document.getElementById(\"3dmolwarning_16848746371454394\");\n",
       "if(warn) {\n",
       "    warn.parentNode.removeChild(warn);\n",
       "}\n",
       "$3Dmolpromise.then(function() {\n",
       "viewer_16848746371454394 = $3Dmol.createViewer(document.getElementById(\"3dmolviewer_16848746371454394\"),{backgroundColor:\"white\"});\n",
       "viewer_16848746371454394.zoomTo();\n",
       "\tviewer_16848746371454394.addModel(\"# Produced with molli package\\n@<TRIPOS>MOLECULE\\n3\\n11 10 0 0 0\\nSMALL\\nUSER_CHARGES\\n\\n@<TRIPOS>ATOM\\n     1 C       0.000000     0.000000     0.000000 C          1 UNL1 0.0\\n     2 AP1    -1.298958    -0.750000     0.000000 Unknown    1 UNL1 0.0\\n     3 C       1.299018    -0.750035     0.000000 C          1 UNL1 0.0\\n     4 C       0.000000     1.500000     0.000000 C          1 UNL1 0.0\\n     5 H       0.000000     0.000000    -1.070000 H          1 UNL1 0.0\\n     6 H       1.860120    -0.491537     0.873638 H          1 UNL1 0.0\\n     7 H       1.860097    -0.491577    -0.873665 H          1 UNL1 0.0\\n     8 H       1.103470    -1.802014     0.000027 H          1 UNL1 0.0\\n     9 H       1.008806     1.856667     0.000000 H          1 UNL1 0.0\\n    10 H      -0.504403     1.856667     0.873651 H          1 UNL1 0.0\\n    11 H      -0.504403     1.856667    -0.873651 H          1 UNL1 0.0\\n@<TRIPOS>BOND\\n     1      2      1          1\\n     2      1      3          1\\n     3      1      4          1\\n     4      1      5          1\\n     5      3      6          1\\n     6      3      7          1\\n     7      3      8          1\\n     8      4      9          1\\n     9      4     10          1\\n    10      4     11          1\\n\",\"mol2\");\n",
       "\tviewer_16848746371454394.setStyle({\"stick\": {\"radius\": 0.1}, \"sphere\": {\"scale\": 0.15}});\n",
       "\tviewer_16848746371454394.setHoverable({},true,\"\\n            function(atom,viewer,event,container) {\\n                if(!atom.label) {\\n                    atom.label = viewer.addLabel(atom.elem + atom.serial, {position: atom, backgroundColor: 'mintcream', fontColor:'black'});\\n                }\\n            }\\n            \",\"\\n            function(atom,viewer) { \\n                if(atom.label) {\\n                    viewer.removeLabel(atom.label);\\n                    delete atom.label;\\n                }\\n            }\\n            \");\n",
       "\tviewer_16848746371454394.zoomTo();\n",
       "\tviewer_16848746371454394.setBackgroundColor(null);\n",
       "viewer_16848746371454394.render();\n",
       "});\n",
       "</script>"
      ]
     },
     "metadata": {},
     "output_type": "display_data"
    },
    {
     "data": {
      "text/plain": [
       "Molecule(name='3', formula='C3 H7 Unknown1')"
      ]
     },
     "execution_count": 4,
     "metadata": {},
     "output_type": "execute_result"
    }
   ],
   "source": [
    "j = j+1\n",
    "subs_mlib[j]"
   ]
  }
 ],
 "metadata": {
  "kernelspec": {
   "display_name": "molli-dev",
   "language": "python",
   "name": "python3"
  },
  "language_info": {
   "codemirror_mode": {
    "name": "ipython",
    "version": 3
   },
   "file_extension": ".py",
   "mimetype": "text/x-python",
   "name": "python",
   "nbconvert_exporter": "python",
   "pygments_lexer": "ipython3",
   "version": "3.10.11"
  },
  "orig_nbformat": 4
 },
 "nbformat": 4,
 "nbformat_minor": 2
}
