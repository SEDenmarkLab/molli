{
 "cells": [
  {
   "attachments": {},
   "cell_type": "markdown",
   "metadata": {},
   "source": [
    "# Generating Structures and Atom Coordinates "
   ]
  },
  {
   "cell_type": "code",
   "execution_count": null,
   "metadata": {},
   "outputs": [],
   "source": [
    "import molli as ml\n",
    "import py3Dmol"
   ]
  },
  {
   "cell_type": "code",
   "execution_count": null,
   "metadata": {},
   "outputs": [],
   "source": [
    "# Opens a file with pentane conformers and loads it as molli structure instance\n",
    "with ml.files.mol2.pentane_confs.open() as f:\n",
    "    mol1 = ml.Structure.load_mol2(f)\n",
    "\n",
    "mol2 = ml.Structure(mol1)\n",
    "\n",
    "# Translates the x-axis by 50 Angstroms \n",
    "mol2.translate([50,0,0])\n",
    "\n",
    "#Prints the xyz format of the two molecules \n",
    "print((mol1 | mol2).dumps_xyz())"
   ]
  },
  {
   "cell_type": "code",
   "execution_count": null,
   "metadata": {},
   "outputs": [],
   "source": [
    "# Looks for all xyz files in the root directory and loads them as CartesianGeometry instances\n",
    "pattern = str(ml.files.ROOT / \"*.xyz\")\n",
    "\n",
    "for g in ml.aux.dglob(pattern, ml.CartesianGeometry.load_all_xyz, strict=False):\n",
    "    print(g)"
   ]
  },
  {
   "cell_type": "code",
   "execution_count": null,
   "metadata": {},
   "outputs": [],
   "source": [
    "# Yields atoms from the  each structure that are connected to Fluorine atoms\n",
    "m1 = ml.Structure.load_mol2(ml.files.mol2.fxyl.path)\n",
    "f1 = next(m1.yield_atoms_by_element(\"F\"))\n",
    "\n",
    "m2 = ml.Structure(m1)\n",
    "f2 = next(m2.yield_atoms_by_element(\"F\"))\n",
    "\n",
    "# Joins the two structures together and optimizes the rotation of the new structure \n",
    "m3 = ml.Structure.join(m1, m2, f1, f2, optimize_rotation=True)\n",
    "print(m3.dumps_xyz())"
   ]
  }
 ],
 "metadata": {
  "language_info": {
   "name": "python"
  },
  "orig_nbformat": 4
 },
 "nbformat": 4,
 "nbformat_minor": 2
}
