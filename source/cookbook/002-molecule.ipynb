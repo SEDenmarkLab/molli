{
 "cells": [
  {
   "attachments": {},
   "cell_type": "markdown",
   "metadata": {},
   "source": [
    "# Assigning Atoms \n",
    "\n",
    "This is an example of using molli to assign atoms to variables "
   ]
  },
  {
   "cell_type": "code",
   "execution_count": 1,
   "metadata": {},
   "outputs": [],
   "source": [
    "import molli as ml\n",
    "import py3Dmol\n",
    "ml.aux.assert_molli_version_min(\"1.0a\")"
   ]
  },
  {
   "cell_type": "code",
   "execution_count": 2,
   "metadata": {},
   "outputs": [
    {
     "name": "stdout",
     "output_type": "stream",
     "text": [
      "Atom(element=Si, isotope=29, label=None)\n"
     ]
    },
    {
     "data": {
      "text/plain": [
       "True"
      ]
     },
     "execution_count": 2,
     "metadata": {},
     "output_type": "execute_result"
    }
   ],
   "source": [
    "a = ml.Atom(\"Si\", isotope=29, geom=ml.AtomGeom.R4_Tetrahedral)\n",
    "b = ml.Atom(\"Si\", isotope=29, atype=ml.AtomType.AttachmentPoint)\n",
    "print(a)\n",
    "b.is_attachment_point"
   ]
  },
  {
   "cell_type": "code",
   "execution_count": 3,
   "metadata": {},
   "outputs": [
    {
     "data": {
      "text/plain": [
       "Atom(element=Bi, isotope=29, label=None)"
      ]
     },
     "execution_count": 3,
     "metadata": {},
     "output_type": "execute_result"
    }
   ],
   "source": [
    "a.element = 83\n",
    "a"
   ]
  }
 ],
 "metadata": {
  "kernelspec": {
   "display_name": "molli-dev",
   "language": "python",
   "name": "python3"
  },
  "language_info": {
   "codemirror_mode": {
    "name": "ipython",
    "version": 3
   },
   "file_extension": ".py",
   "mimetype": "text/x-python",
   "name": "python",
   "nbconvert_exporter": "python",
   "pygments_lexer": "ipython3",
   "version": "3.10.6"
  },
  "orig_nbformat": 4,
  "vscode": {
   "interpreter": {
    "hash": "76cbec9d8be6152967bf6eb279a8f9736e48be32763f3b307b1279f8e0121d15"
   }
  }
 },
 "nbformat": 4,
 "nbformat_minor": 2
}
