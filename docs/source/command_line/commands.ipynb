{
 "cells": [
  {
   "attachments": {},
   "cell_type": "markdown",
   "metadata": {},
   "source": [
    "# `MOLLI 1.0` Command Line \n",
    "\n",
    "## About this tutorial\n",
    "This file is meant to illustrate a few fundamental principles of the new molli package. The difference between old and new style molli is stark, therefore this introductory tutorial will be useful for both experienced people and newcomers."
   ]
  },
  {
   "cell_type": "markdown",
   "metadata": {},
   "source": [
    "## Basic structure of `molli` package.\n",
    "\n",
    "### Subpackages"
   ]
  },
  {
   "cell_type": "code",
   "execution_count": 1,
   "metadata": {},
   "outputs": [],
   "source": [
    "# This is meant to be as iconic as `import numpy as np` :)\n",
    "import molli as ml"
   ]
  },
  {
   "cell_type": "markdown",
   "metadata": {},
   "source": [
    "## Command line\n",
    "\n",
    "`molli` features a number of standalone scripts for standard procedures, such as parsing a .CDXML file, or for compiling a collection."
   ]
  },
  {
   "cell_type": "code",
   "execution_count": 2,
   "metadata": {},
   "outputs": [
    {
     "name": "stdout",
     "output_type": "stream",
     "text": [
      "usage: molli [-C <file.yml>] [-O <file.log>] [-V 0..5] [-D] [-H] [--VERSION]\n",
      "             {list,align,compile,gbca,grid,info,parse,recollect,run,show}\n",
      "\n",
      "[molli 1.0.0a4 description] MOLLI package is an API that intends to create a\n",
      "concise and easy-to-use syntax that encompasses the needs of cheminformatics\n",
      "(especially so, but not limited to the workflows developed and used in the\n",
      "Denmark laboratory.\n",
      "\n",
      "positional arguments:\n",
      "  {list,align,compile,gbca,grid,info,parse,recollect,run,show}\n",
      "                        This is main command that invokes a specific\n",
      "                        standalone routine in MOLLI. To get full explanation\n",
      "                        of available commands, run `molli list`\n",
      "\n",
      "options:\n",
      "  -C <file.yml>, --CONFIG <file.yml>\n",
      "                        Sets the file from which molli configuration will be\n",
      "                        read from\n",
      "  -O <file.log>, --OUTPUT <file.log>\n",
      "                        Sets the file that will contain the output of molli\n",
      "                        routines.\n",
      "  -V 0..5, --VERBOSITY 0..5\n",
      "                        Sets the level of verbosity for molli output. Negative\n",
      "                        numbers will remove all output. Defaults to 0.\n",
      "  -D, --DEBUG           Output will contain debug information\n",
      "  -H, --HELP            show help message and exit\n",
      "  --VERSION             show program's version number and exit\n"
     ]
    }
   ],
   "source": [
    "# This is a shell command\n",
    "!molli --HELP"
   ]
  },
  {
   "cell_type": "code",
   "execution_count": 3,
   "metadata": {},
   "outputs": [
    {
     "name": "stdout",
     "output_type": "stream",
     "text": [
      "\u001b[91mmolli align:\n",
      "NOT IMPLEMENTED\n",
      "\n",
      "\u001b[0m\u001b[32mmolli compile\n",
      "\u001b[0mCompile a lot of files into a molli collection\n",
      "usage: molli compile [-h] source\n",
      "\n",
      "\u001b[32mmolli gbca\n",
      "\u001b[0mCompute descriptors from a library of conformers.\n",
      "Note: the request for parallelized computation is accomodated with the best possible implementation,\n",
      "but not guaranteed.\n",
      "usage: molli descriptor [-h] [-w] [-n 96] [-c 512] [-b 128] [-g <grid.npy>]\n",
      "                        {ASO,AEIF,ADIF,AESP,ASR} MLIB_FILE\n",
      "\n",
      "\u001b[32mmolli grid\n",
      "\u001b[0mCreate a grid to be subsequently used in grid based descriptor calculations\n",
      "usage: molli grid [-h] [-o <fpath>] [-f {npy}] [-p 0.0] [-s 1.0] library\n",
      "\n",
      "\u001b[32mmolli info\n",
      "\u001b[0mPrint information about current molli package\n",
      "usage: molli info [-h]\n",
      "\n",
      "\u001b[32mmolli parse\n",
      "\u001b[0mThis package parses chemical files, such as .cdxml, and creates a collection.\n",
      "usage: molli parse [-h] [files ...]\n",
      "\n",
      "\u001b[32mmolli recollect\n",
      "\u001b[0mConvert molli library formats\n",
      "usage: molli recollect [-h] [-o MLI_FILE] [-cm 0 1] [-v] [-s] XML_FILE\n",
      "\n",
      "\u001b[32mmolli run\n",
      "\u001b[0mRun a custom script that defines `molli_main(args, config, output, **)`\n",
      "usage: molli run <script.py>\n",
      "\n",
      "\u001b[32mmolli show\n",
      "\u001b[0mShow a molecule in a GUI of choice\n",
      "usage: molli show [-h] [-l LIBRARY] [-c COMMAND] [molecules ...]\n",
      "\n"
     ]
    }
   ],
   "source": [
    "# This is a shell command\n",
    "!molli list"
   ]
  }
 ],
 "metadata": {
  "kernelspec": {
   "display_name": "base",
   "language": "python",
   "name": "python3"
  },
  "language_info": {
   "codemirror_mode": {
    "name": "ipython",
    "version": 3
   },
   "file_extension": ".py",
   "mimetype": "text/x-python",
   "name": "python",
   "nbconvert_exporter": "python",
   "pygments_lexer": "ipython3",
   "version": "3.10.8 (main, Nov 24 2022, 14:13:03) [GCC 11.2.0]"
  },
  "orig_nbformat": 4,
  "vscode": {
   "interpreter": {
    "hash": "4c66e8f176fbf3df590ec010f6af88e4e499f7786e053ca101a7d8aa8a685488"
   }
  }
 },
 "nbformat": 4,
 "nbformat_minor": 2
}
