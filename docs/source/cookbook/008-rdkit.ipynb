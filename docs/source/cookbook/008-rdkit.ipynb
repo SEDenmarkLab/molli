{
 "cells": [
  {
   "cell_type": "markdown",
   "metadata": {},
   "source": [
    "# RDKit interface\n",
    "\n",
    "In this tutorial we will demonstrate how molli's molecule objects can be efficiently converted into RDKit objects.\n",
    "\n",
    "Note: Openbabel is not natively installed within Molli, but it can be added through conda using the line:\n",
    "`pip install rdkit` or `conda install rdkit`"
   ]
  },
  {
   "cell_type": "code",
   "execution_count": 1,
   "metadata": {},
   "outputs": [],
   "source": [
    "import molli as ml\n",
    "from rdkit import Chem\n",
    "from molli.external import _rdkit as mrd\n",
    "import numpy as np"
   ]
  },
  {
   "cell_type": "markdown",
   "metadata": {},
   "source": [
    "The creation of an RDKit object creates a dictionary where the `ml_mol` object can function as a key to the `rd_mol` so they will always be linked."
   ]
  },
  {
   "cell_type": "code",
   "execution_count": 2,
   "metadata": {},
   "outputs": [
    {
     "name": "stdout",
     "output_type": "stream",
     "text": [
      "{Molecule(name='dendrobine', formula='C16 H25 N1 O2'): <rdkit.Chem.PropertyMol.PropertyMol object at 0x7f2a64533240>}\n"
     ]
    },
    {
     "data": {
      "image/png": "[encoded data removed]",
      "text/plain": [
       "<rdkit.Chem.PropertyMol.PropertyMol at 0x7f2a64533240>"
      ]
     },
     "execution_count": 2,
     "metadata": {},
     "output_type": "execute_result"
    }
   ],
   "source": [
    "with open(ml.files.dendrobine_mol2) as f:\n",
    "    ml_mol = ml.Molecule.load_mol2(f)\n",
    "\n",
    "ml_rd_dict = mrd.create_rdkit_mol(ml_mol, removeHs=True)\n",
    "print(f'{ml_rd_dict}')\n",
    "\n",
    "rd_mol = ml_rd_dict[ml_mol]\n",
    "rd_mol"
   ]
  },
  {
   "cell_type": "markdown",
   "metadata": {},
   "source": [
    "In the above example, all hydrogens were removed from the `rd_mol`, DESPITE THE IMAGE DEPICTING IT WITH HYDROGENS. The element labels are not a 1:1 mapping between `ml_mol` and `rd_mol`. This can be shown by printing the symbols of the atoms in both objects.\n",
    "\n",
    "If the `ml_mol` is reduced to only heavy atoms, it maintains the same order as the `rd_mol`."
   ]
  },
  {
   "cell_type": "code",
   "execution_count": 3,
   "metadata": {},
   "outputs": [
    {
     "name": "stdout",
     "output_type": "stream",
     "text": [
      "All Molli Element Labels:\n",
      "['N', 'C', 'C', 'C', 'C', 'C', 'C', 'C', 'C', 'C', 'O', 'C', 'C', 'O', 'C', 'C', 'H', 'H', 'H', 'H', 'C', 'C', 'C', 'H', 'H', 'H', 'H', 'H', 'H', 'H', 'H', 'H', 'H', 'H', 'H', 'H', 'H', 'H', 'H', 'H', 'H', 'H', 'H', 'H']\n",
      "All RDKit Element Labels:\n",
      "['N', 'C', 'C', 'C', 'C', 'C', 'C', 'C', 'C', 'C', 'O', 'C', 'C', 'O', 'C', 'C', 'C', 'C', 'C']\n",
      "Molli Heavy Element Labels Only:\n",
      "['N', 'C', 'C', 'C', 'C', 'C', 'C', 'C', 'C', 'C', 'O', 'C', 'C', 'O', 'C', 'C', 'C', 'C', 'C']\n"
     ]
    }
   ],
   "source": [
    "rd_labels = [x.GetSymbol() for x in rd_mol.GetAtoms()]\n",
    "ml_labels = [x.label for x in ml_mol.atoms]\n",
    "\n",
    "ml_heavy_atoms = [ml_mol.get_atom(x) for x in ml_mol.heavy.parent_atom_indices]\n",
    "ml_heavy_labels = [x.label for x in ml_heavy_atoms]\n",
    "\n",
    "print(f'All Molli Element Labels:\\n{ml_labels}')\n",
    "print(f'All RDKit Element Labels:\\n{rd_labels}')\n",
    "print(f'Molli Heavy Element Labels Only:\\n{ml_heavy_labels}')"
   ]
  },
  {
   "cell_type": "markdown",
   "metadata": {},
   "source": [
    "The creation of the `create_rdkit_mol` function by default maintains the hydrogens associated with the structure. This is for the purpose of mapping the  indexes of atoms from the `rd_mol` back to the full 3D structure in `ml_mol`. "
   ]
  },
  {
   "cell_type": "code",
   "execution_count": 4,
   "metadata": {},
   "outputs": [
    {
     "name": "stdout",
     "output_type": "stream",
     "text": [
      "<rdkit.Chem.PropertyMol.PropertyMol object at 0x7f2a645337e0>\n"
     ]
    },
    {
     "data": {
      "image/png": "[encoded data removed]",
      "text/plain": [
       "<rdkit.Chem.PropertyMol.PropertyMol at 0x7f2a645337e0>"
      ]
     },
     "execution_count": 4,
     "metadata": {},
     "output_type": "execute_result"
    }
   ],
   "source": [
    "with open(ml.files.dendrobine_mol2) as f:\n",
    "    ml_mol = ml.Molecule.load_mol2(f)\n",
    "\n",
    "ml_rd_dict = mrd.create_rdkit_mol(ml_mol)\n",
    "\n",
    "\n",
    "rd_mol = ml_rd_dict[ml_mol]\n",
    "print(rd_mol)\n",
    "rd_mol"
   ]
  },
  {
   "cell_type": "markdown",
   "metadata": {},
   "source": [
    "In this example, since the Hydrogens were not removed, the order of element labels has not been changed between the `ml_mol` and `rd_mol` It is recommended that you work with `rd_mol` without removing the hydrogens to allow for direct mapping."
   ]
  },
  {
   "cell_type": "code",
   "execution_count": 5,
   "metadata": {},
   "outputs": [
    {
     "name": "stdout",
     "output_type": "stream",
     "text": [
      "All Molli Element Labels:\n",
      "['N', 'C', 'C', 'C', 'C', 'C', 'C', 'C', 'C', 'C', 'O', 'C', 'C', 'O', 'C', 'C', 'H', 'H', 'H', 'H', 'C', 'C', 'C', 'H', 'H', 'H', 'H', 'H', 'H', 'H', 'H', 'H', 'H', 'H', 'H', 'H', 'H', 'H', 'H', 'H', 'H', 'H', 'H', 'H']\n",
      "All RDKit Element Labels:\n",
      "['N', 'C', 'C', 'C', 'C', 'C', 'C', 'C', 'C', 'C', 'O', 'C', 'C', 'O', 'C', 'C', 'H', 'H', 'H', 'H', 'C', 'C', 'C', 'H', 'H', 'H', 'H', 'H', 'H', 'H', 'H', 'H', 'H', 'H', 'H', 'H', 'H', 'H', 'H', 'H', 'H', 'H', 'H', 'H']\n"
     ]
    }
   ],
   "source": [
    "rd_atoms = [x.GetSymbol() for x in rd_mol.GetAtoms()]\n",
    "ml_elements = [x.label for x in ml_mol.atoms]\n",
    "print(f'All Molli Element Labels:\\n{ml_elements}')\n",
    "print(f'All RDKit Element Labels:\\n{rd_atoms}')"
   ]
  },
  {
   "cell_type": "markdown",
   "metadata": {},
   "source": [
    "A common method utilized within RDKit is \"canonicalization\" of SMILES strings, which reorders the order of atoms in the SMILES string such that any permutation of a SMILES input will always be represented in the same way.\n",
    "\n",
    "This allows direct comparison of structures solely by strings, which is a much less intensive operation than comparing individual atom and bond properties between molecule objects."
   ]
  },
  {
   "cell_type": "code",
   "execution_count": 6,
   "metadata": {},
   "outputs": [
    {
     "name": "stdout",
     "output_type": "stream",
     "text": [
      "SMILES 1\n",
      "Original SMILES:c1ccccc1(Br)\n",
      "Canonical SMILES:Brc1ccccc1\n",
      "\n",
      "SMILES 2\n",
      "Original SMILES:c1ccc(Br)cc1\n",
      "Canonical SMILES:Brc1ccccc1\n"
     ]
    }
   ],
   "source": [
    "#Bromobenzene 1\n",
    "smi1 = 'c1ccccc1(Br)'\n",
    "rdmol1 = Chem.MolFromSmiles(smi1)\n",
    "can_smi1 = Chem.MolToSmiles(rdmol1, canonical=True)\n",
    "\n",
    "#Bromobenzene 2\n",
    "smi2 = 'c1ccc(Br)cc1'\n",
    "rdmol2 = Chem.MolFromSmiles(smi2)\n",
    "can_smi2 = Chem.MolToSmiles(rdmol2, canonical=True)\n",
    "\n",
    "print(f'SMILES 1\\nOriginal SMILES:{smi1}\\nCanonical SMILES:{can_smi1}\\n')\n",
    "print(f'SMILES 2\\nOriginal SMILES:{smi2}\\nCanonical SMILES:{can_smi2}')"
   ]
  },
  {
   "cell_type": "markdown",
   "metadata": {},
   "source": [
    "Molli has an implementation that can take the `rd_mol` and `ml_mol` and map the two structures to a canonicalized version of the `rd_mol` \n",
    "\n",
    "This will not change the actual coordinates of the `ml_mol` but rather just the order of the coordinates. This will allow for integration into RDKit workflows without accidental loss of information.\n",
    "\n",
    "Note: The current implementation will modify the `ml_mol` atom, bond, and coordinate order in place."
   ]
  },
  {
   "cell_type": "code",
   "execution_count": 7,
   "metadata": {},
   "outputs": [
    {
     "name": "stdout",
     "output_type": "stream",
     "text": [
      "Molli Element Labels:\n",
      "['H', 'C', 'H', 'H', 'N', 'C', 'H', 'H', 'C', 'H', 'C', 'H', 'H', 'C', 'H', 'H', 'C', 'H', 'C', 'H', 'C', 'O', 'O', 'C', 'H', 'C', 'H', 'C', 'C', 'H', 'H', 'H', 'C', 'H', 'C', 'H', 'C', 'H', 'H', 'H', 'C', 'H', 'H', 'H']\n",
      "RDKit Element Labels:\n",
      "['H', 'C', 'H', 'H', 'N', 'C', 'H', 'H', 'C', 'H', 'C', 'H', 'H', 'C', 'H', 'H', 'C', 'H', 'C', 'H', 'C', 'O', 'O', 'C', 'H', 'C', 'H', 'C', 'C', 'H', 'H', 'H', 'C', 'H', 'C', 'H', 'C', 'H', 'H', 'H', 'C', 'H', 'H', 'H']\n"
     ]
    }
   ],
   "source": [
    "can_rdmol, atom_reorder, bond_reorder = mrd.can_mol_order(rd_mol)\n",
    "\n",
    "can_ml_rd_dict = mrd.reorder_molecule(ml_mol, can_rdmol, atom_reorder, bond_reorder)\n",
    "\n",
    "new_rd_labels = [x.GetSymbol() for x in can_rdmol.GetAtoms()]\n",
    "new_ml_labels = [x.label for x in ml_mol.atoms]\n",
    "print(f'Molli Element Labels:\\n{new_rd_labels}')\n",
    "print(f'RDKit Element Labels:\\n{new_ml_labels}')"
   ]
  },
  {
   "cell_type": "markdown",
   "metadata": {},
   "source": [
    "There is also an implementation of an interface with RDKit's `rdQueries` module that allows for quick querying of atom properties. \n",
    "\n",
    "The <span style=\"color: green\">rdkit_atom_filter</span> class offers simple quick querying of rdkit mols, returning an array of <span style=\"color: #1750e8\">True</span> or <span style=\"color: #1750e8\">False</span> based on the position of atoms in an ordered array.\n",
    "\n",
    "An example use case is given below:"
   ]
  },
  {
   "cell_type": "code",
   "execution_count": 8,
   "metadata": {},
   "outputs": [
    {
     "name": "stdout",
     "output_type": "stream",
     "text": [
      "Br/C=C/c1ccccc1\n"
     ]
    },
    {
     "data": {
      "text/plain": [
       "array([False, False, False,  True,  True,  True,  True,  True,  True])"
      ]
     },
     "execution_count": 8,
     "metadata": {},
     "output_type": "execute_result"
    }
   ],
   "source": [
    "#(E)-β-Bromostyrene canonicalization\n",
    "rdmol = Chem.MolFromSmiles('Br\\C=C\\c1ccccc1')\n",
    "rdmol = Chem.MolFromSmiles(Chem.MolToSmiles(rdmol, canonical=True))\n",
    "\n",
    "ac_rdmol = mrd.rdkit_atom_filter(rdmol)\n",
    "\n",
    "aromatic_bool = ac_rdmol.aromatic_type()\n",
    "print(Chem.MolToSmiles(rdmol))\n",
    "aromatic_bool"
   ]
  },
  {
   "cell_type": "markdown",
   "metadata": {},
   "source": [
    "Within the SMILES string, the property of atoms being `aromatic` is only <span style=\"color: #1750e8\">True</span> for the atoms associated with the benzene ring, so the resulting array will be <span style=\"color: #1750e8\">False</span> for the first 3 atoms, while the 6 atoms in that array will be <span style=\"color: #1750e8\">True</span>. This logic can undergo basic boolean operations to allow for quick screening of certain properties"
   ]
  },
  {
   "cell_type": "code",
   "execution_count": 9,
   "metadata": {},
   "outputs": [
    {
     "name": "stdout",
     "output_type": "stream",
     "text": [
      "Br/C=C/c1ccccc1\n"
     ]
    },
    {
     "data": {
      "text/plain": [
       "array([False,  True,  True, False, False, False, False, False, False])"
      ]
     },
     "execution_count": 9,
     "metadata": {},
     "output_type": "execute_result"
    }
   ],
   "source": [
    "alkene_bool = ac_rdmol.sp2_type() & ~ac_rdmol.aromatic_type()\n",
    "print(Chem.MolToSmiles(rdmol))\n",
    "alkene_bool"
   ]
  },
  {
   "cell_type": "markdown",
   "metadata": {},
   "source": [
    "This can also be extended to allow Smarts querying and to allow more general purpose binning of atoms. An example is shown below with how 4 different rdkit mol objects could be binned into different lists just by querying molecules that may contain either a `Cl`, `Br`, or `I`."
   ]
  },
  {
   "cell_type": "code",
   "execution_count": 10,
   "metadata": {},
   "outputs": [
    {
     "name": "stdout",
     "output_type": "stream",
     "text": [
      "Multiple Halogen Mols:\n",
      "['2cl_mol']\n",
      "\n",
      "Single Halogen Mols:\n",
      "['br_mol', 'i_rdmol']\n",
      "\n",
      "No Halogen Mols\n",
      "['c_rdmol']\n",
      "\n"
     ]
    }
   ],
   "source": [
    "#(1-chloro-3-[(E)-2-chloroethenyl]benzene canonicalization\n",
    "di_cl_rdmol = Chem.MolFromSmiles('Cl\\C=C\\c1cccc(Cl)c1')\n",
    "di_cl_rdmol = Chem.MolFromSmiles(Chem.MolToSmiles(di_cl_rdmol, canonical=True))\n",
    "di_cl_rdmol.SetProp(\"_Name\", '2cl_mol')\n",
    "\n",
    "#(E)-β-Bromostyrene canonicalization\n",
    "br_rdmol = Chem.MolFromSmiles('Br\\C=C\\c1ccccc1')\n",
    "br_rdmol = Chem.MolFromSmiles(Chem.MolToSmiles(br_rdmol, canonical=True))\n",
    "br_rdmol.SetProp(\"_Name\", 'br_mol')\n",
    "\n",
    "#(E)-β-Iodostyrene canonicalization\n",
    "i_rdmol = Chem.MolFromSmiles('I\\C=C\\c1ccccc1')\n",
    "i_rdmol = Chem.MolFromSmiles(Chem.MolToSmiles(i_rdmol, canonical=True))\n",
    "i_rdmol.SetProp(\"_Name\", 'i_rdmol')\n",
    "\n",
    "#(E)-β-Methylstyrene canonicalization\n",
    "c_rdmol = Chem.MolFromSmiles('C\\C=C\\c1ccccc1')\n",
    "c_rdmol = Chem.MolFromSmiles(Chem.MolToSmiles(c_rdmol, canonical=True))\n",
    "c_rdmol.SetProp(\"_Name\", 'c_rdmol')\n",
    "\n",
    "rdmol_list = [di_cl_rdmol, br_rdmol, i_rdmol, c_rdmol]\n",
    "\n",
    "no_halogen_mols = list()\n",
    "single_halogen_mols = list()\n",
    "multi_halogen_mols = list()\n",
    "\n",
    "for rdmol in rdmol_list:\n",
    "\n",
    "    ac_rdmol = mrd.rdkit_atom_filter(rdmol)\n",
    "\n",
    "    halogen_bool = ac_rdmol.smarts_query('[Cl,Br,I]')\n",
    "\n",
    "    true_count = np.count_nonzero(halogen_bool)\n",
    "\n",
    "    if true_count > 1:\n",
    "        multi_halogen_mols.append(rdmol.GetProp(\"_Name\"))\n",
    "\n",
    "    elif true_count == 1:\n",
    "        single_halogen_mols.append(rdmol.GetProp(\"_Name\"))\n",
    "    \n",
    "    else:\n",
    "        no_halogen_mols.append(rdmol.GetProp(\"_Name\"))\n",
    "\n",
    "print(f'Multiple Halogen Mols:\\n{multi_halogen_mols}\\n')\n",
    "print(f'Single Halogen Mols:\\n{single_halogen_mols}\\n')\n",
    "print(f'No Halogen Mols\\n{no_halogen_mols}\\n')\n"
   ]
  }
 ],
 "metadata": {
  "kernelspec": {
   "display_name": "ml1_docs",
   "language": "python",
   "name": "python3"
  },
  "language_info": {
   "codemirror_mode": {
    "name": "ipython",
    "version": 3
   },
   "file_extension": ".py",
   "mimetype": "text/x-python",
   "name": "python",
   "nbconvert_exporter": "python",
   "pygments_lexer": "ipython3",
   "version": "3.11.5"
  },
  "orig_nbformat": 4
 },
 "nbformat": 4,
 "nbformat_minor": 2
}
