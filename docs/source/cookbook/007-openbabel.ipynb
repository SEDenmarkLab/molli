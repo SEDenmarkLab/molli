{
 "cells": [
  {
   "cell_type": "markdown",
   "metadata": {},
   "source": [
    "# OpenBabel interface\n",
    "\n",
    "In this tutorial we will demonstrate how molli's molecule objects can be efficiently converted into openbabel objects.\n",
    "\n",
    "Note: Openbabel is not natively installed within Molli, but it can be added through conda using the line:\n",
    "`conda install openbabel`"
   ]
  },
  {
   "cell_type": "code",
   "execution_count": 1,
   "metadata": {},
   "outputs": [],
   "source": [
    "import molli as ml\n",
    "from openbabel import openbabel as ob\n",
    "from molli.external import openbabel as mob"
   ]
  },
  {
   "cell_type": "markdown",
   "metadata": {},
   "source": [
    "The following cell shows a conversion of an example molecule into openbabel `OBMol` object"
   ]
  },
  {
   "cell_type": "code",
   "execution_count": 2,
   "metadata": {},
   "outputs": [],
   "source": [
    "with open(ml.files.dendrobine_mol2) as f:\n",
    "    ml_mol = ml.Molecule.load_mol2(f)\n",
    "\n",
    "obmol = mob.to_obmol(ml_mol)"
   ]
  },
  {
   "cell_type": "markdown",
   "metadata": {},
   "source": [
    "Now let's make sure that what we get out of that operation is a valid openbabel object by converting it into a human readable representation."
   ]
  },
  {
   "cell_type": "code",
   "execution_count": 3,
   "metadata": {},
   "outputs": [
    {
     "name": "stdout",
     "output_type": "stream",
     "text": [
      "@<TRIPOS>MOLECULE\n",
      "dendrobine\n",
      " 44 47 0 0 0\n",
      "SMALL\n",
      "GASTEIGER\n",
      "\n",
      "@<TRIPOS>ATOM\n",
      "      1 N           1.2960   -0.2319    1.2670 N.3     1  UNL1       -0.2981\n",
      "      2 C           0.0573   -0.0226    2.1227 C.3     1  UNL1        0.0024\n",
      "      3 C          -1.0974   -0.4738    1.2059 C.3     1  UNL1       -0.0210\n",
      "      4 C          -0.4284   -0.4113   -0.1687 C.3     1  UNL1       -0.0055\n",
      "      5 C           0.8683    0.3598   -0.0004 C.3     1  UNL1        0.0534\n",
      "      6 C           2.4562    0.4417    1.8361 C.3     1  UNL1       -0.0123\n",
      "      7 C          -2.4328    0.2659    0.9832 C.3     1  UNL1       -0.0482\n",
      "      8 C          -2.6553    0.2472   -0.5801 C.3     1  UNL1       -0.0486\n",
      "      9 C          -1.2428    0.5626   -1.0163 C.3     1  UNL1       -0.0205\n",
      "     10 C           1.5353    0.5790   -1.4179 C.3     1  UNL1        0.1228\n",
      "     11 O           1.3410    2.0363   -1.6507 O.3     1  UNL1       -0.4592\n",
      "     12 C           0.0782    2.2291   -2.2166 C.2     1  UNL1        0.3112\n",
      "     13 C          -0.5977    0.8539   -2.4020 C.3     1  UNL1        0.0662\n",
      "     14 O          -0.4135    3.3180   -2.4552 O.2     1  UNL1       -0.2505\n",
      "     15 C           0.7602    0.1678   -2.7001 C.3     1  UNL1        0.0132\n",
      "     16 C           0.7812   -1.2141   -3.3773 C.3     1  UNL1       -0.0397\n",
      "     17 H           1.2426    0.7684   -3.4982 H       1  UNL1        0.0347\n",
      "     18 H          -1.1794    1.5580   -0.5377 H       1  UNL1        0.0315\n",
      "     19 H           0.6516    1.3952    0.3174 H       1  UNL1        0.0504\n",
      "     20 H          -1.3722   -1.4910    1.5134 H       1  UNL1        0.0319\n",
      "     21 C          -0.2828   -1.8835   -0.5957 C.3     1  UNL1       -0.0574\n",
      "     22 C           2.1775   -1.8412   -3.3215 C.3     1  UNL1       -0.0623\n",
      "     23 C           0.3485   -1.1006   -4.8514 C.3     1  UNL1       -0.0623\n",
      "     24 H           0.0590   -1.9009   -2.9478 H       1  UNL1        0.0300\n",
      "     25 H          -0.0649    1.0264    2.4198 H       1  UNL1        0.0429\n",
      "     26 H           0.1162   -0.6408    3.0244 H       1  UNL1        0.0429\n",
      "     27 H           2.7150   -0.0049    2.8019 H       1  UNL1        0.0391\n",
      "     28 H           2.2927    1.5147    1.9874 H       1  UNL1        0.0391\n",
      "     29 H           3.3255    0.3162    1.1818 H       1  UNL1        0.0391\n",
      "     30 H          -2.3716    1.2962    1.3534 H       1  UNL1        0.0269\n",
      "     31 H          -3.2639   -0.2261    1.4982 H       1  UNL1        0.0269\n",
      "     32 H          -3.3810    1.0069   -0.8836 H       1  UNL1        0.0268\n",
      "     33 H          -2.9934   -0.7358   -0.9222 H       1  UNL1        0.0268\n",
      "     34 H           2.6088    0.3798   -1.4394 H       1  UNL1        0.0753\n",
      "     35 H          -1.2929    0.8772   -3.2423 H       1  UNL1        0.0420\n",
      "     36 H          -0.3075   -2.5854    0.2475 H       1  UNL1        0.0236\n",
      "     37 H           0.6920   -2.0890   -1.0319 H       1  UNL1        0.0236\n",
      "     38 H          -1.0943   -2.1904   -1.2614 H       1  UNL1        0.0236\n",
      "     39 H           2.1795   -2.8241   -3.8049 H       1  UNL1        0.0232\n",
      "     40 H           2.5176   -1.9822   -2.2914 H       1  UNL1        0.0232\n",
      "     41 H           2.9143   -1.2135   -3.8343 H       1  UNL1        0.0232\n",
      "     42 H           0.3522   -2.0859   -5.3307 H       1  UNL1        0.0232\n",
      "     43 H           1.0232   -0.4520   -5.4210 H       1  UNL1        0.0232\n",
      "     44 H          -0.6652   -0.6967   -4.9346 H       1  UNL1        0.0232\n",
      "@<TRIPOS>BOND\n",
      "     1    43    23    1\n",
      "     2    42    23    1\n",
      "     3    44    23    1\n",
      "     4    23    16    1\n",
      "     5    41    22    1\n",
      "     6    39    22    1\n",
      "     7    17    15    1\n",
      "     8    16    22    1\n",
      "     9    16    24    1\n",
      "    10    16    15    1\n",
      "    11    22    40    1\n",
      "    12    35    13    1\n",
      "    13    15    13    1\n",
      "    14    15    10    1\n",
      "    15    14    12    2\n",
      "    16    13    12    1\n",
      "    17    13     9    1\n",
      "    18    12    11    1\n",
      "    19    11    10    1\n",
      "    20    34    10    1\n",
      "    21    10     5    1\n",
      "    22    38    21    1\n",
      "    23    37    21    1\n",
      "    24     9     8    1\n",
      "    25     9    18    1\n",
      "    26     9     4    1\n",
      "    27    33     8    1\n",
      "    28    32     8    1\n",
      "    29    21     4    1\n",
      "    30    21    36    1\n",
      "    31     8     7    1\n",
      "    32     4     5    1\n",
      "    33     4     3    1\n",
      "    34     5    19    1\n",
      "    35     5     1    1\n",
      "    36     7     3    1\n",
      "    37     7    30    1\n",
      "    38     7    31    1\n",
      "    39    29     6    1\n",
      "    40     3    20    1\n",
      "    41     3     2    1\n",
      "    42     1     6    1\n",
      "    43     1     2    1\n",
      "    44     6    28    1\n",
      "    45     6    27    1\n",
      "    46     2    25    1\n",
      "    47     2    26    1\n",
      "\n"
     ]
    }
   ],
   "source": [
    "converter = ob.OBConversion()\n",
    "converter.SetInAndOutFormats(\"mol2\", \"mol2\")\n",
    "print(converter.WriteString(obmol))"
   ]
  },
  {
   "cell_type": "markdown",
   "metadata": {},
   "source": [
    "Molli has built in wrappers that can interface within Openbabel. For example, an `ml_mol` object could be converted to a file format that is not natively available as an output within Molli, such as SDF or SMILES."
   ]
  },
  {
   "cell_type": "code",
   "execution_count": 4,
   "metadata": {},
   "outputs": [
    {
     "name": "stdout",
     "output_type": "stream",
     "text": [
      "dendrobine\n",
      " OpenBabel09132321563D\n",
      "\n",
      " 44 47  0  0  1  0  0  0  0  0999 V2000\n",
      "    1.2960   -0.2319    1.2670 N   0  0  0  0  0  0  0  0  0  0  0  0\n",
      "    0.0573   -0.0226    2.1227 C   0  0  0  0  0  0  0  0  0  0  0  0\n",
      "   -1.0974   -0.4738    1.2059 C   0  0  2  0  0  0  0  0  0  0  0  0\n",
      "   -0.4284   -0.4113   -0.1687 C   0  0  2  0  0  0  0  0  0  0  0  0\n",
      "    0.8683    0.3598   -0.0004 C   0  0  2  0  0  0  0  0  0  0  0  0\n",
      "    2.4562    0.4417    1.8361 C   0  0  0  0  0  0  0  0  0  0  0  0\n",
      "   -2.4328    0.2659    0.9832 C   0  0  0  0  0  0  0  0  0  0  0  0\n",
      "   -2.6553    0.2472   -0.5801 C   0  0  0  0  0  0  0  0  0  0  0  0\n",
      "   -1.2428    0.5626   -1.0163 C   0  0  2  0  0  0  0  0  0  0  0  0\n",
      "    1.5353    0.5790   -1.4179 C   0  0  2  0  0  0  0  0  0  0  0  0\n",
      "    1.3410    2.0363   -1.6507 O   0  0  0  0  0  0  0  0  0  0  0  0\n",
      "    0.0782    2.2291   -2.2166 C   0  0  0  0  0  0  0  0  0  0  0  0\n",
      "   -0.5977    0.8539   -2.4020 C   0  0  1  0  0  0  0  0  0  0  0  0\n",
      "   -0.4135    3.3180   -2.4552 O   0  0  0  0  0  0  0  0  0  0  0  0\n",
      "    0.7602    0.1678   -2.7001 C   0  0  2  0  0  0  0  0  0  0  0  0\n",
      "    0.7812   -1.2141   -3.3773 C   0  0  0  0  0  0  0  0  0  0  0  0\n",
      "    1.2426    0.7684   -3.4982 H   0  0  0  0  0  0  0  0  0  0  0  0\n",
      "   -1.1794    1.5580   -0.5377 H   0  0  0  0  0  0  0  0  0  0  0  0\n",
      "    0.6516    1.3952    0.3174 H   0  0  0  0  0  0  0  0  0  0  0  0\n",
      "   -1.3722   -1.4910    1.5134 H   0  0  0  0  0  0  0  0  0  0  0  0\n",
      "   -0.2828   -1.8835   -0.5957 C   0  0  0  0  0  0  0  0  0  0  0  0\n",
      "    2.1775   -1.8412   -3.3215 C   0  0  0  0  0  0  0  0  0  0  0  0\n",
      "    0.3485   -1.1006   -4.8514 C   0  0  0  0  0  0  0  0  0  0  0  0\n",
      "    0.0590   -1.9009   -2.9478 H   0  0  0  0  0  0  0  0  0  0  0  0\n",
      "   -0.0649    1.0264    2.4198 H   0  0  0  0  0  0  0  0  0  0  0  0\n",
      "    0.1162   -0.6408    3.0244 H   0  0  0  0  0  0  0  0  0  0  0  0\n",
      "    2.7150   -0.0049    2.8019 H   0  0  0  0  0  0  0  0  0  0  0  0\n",
      "    2.2927    1.5147    1.9874 H   0  0  0  0  0  0  0  0  0  0  0  0\n",
      "    3.3255    0.3162    1.1818 H   0  0  0  0  0  0  0  0  0  0  0  0\n",
      "   -2.3716    1.2962    1.3534 H   0  0  0  0  0  0  0  0  0  0  0  0\n",
      "   -3.2639   -0.2261    1.4982 H   0  0  0  0  0  0  0  0  0  0  0  0\n",
      "   -3.3810    1.0069   -0.8836 H   0  0  0  0  0  0  0  0  0  0  0  0\n",
      "   -2.9934   -0.7358   -0.9222 H   0  0  0  0  0  0  0  0  0  0  0  0\n",
      "    2.6088    0.3798   -1.4394 H   0  0  0  0  0  0  0  0  0  0  0  0\n",
      "   -1.2929    0.8772   -3.2423 H   0  0  0  0  0  0  0  0  0  0  0  0\n",
      "   -0.3075   -2.5854    0.2475 H   0  0  0  0  0  0  0  0  0  0  0  0\n",
      "    0.6920   -2.0890   -1.0319 H   0  0  0  0  0  0  0  0  0  0  0  0\n",
      "   -1.0943   -2.1904   -1.2614 H   0  0  0  0  0  0  0  0  0  0  0  0\n",
      "    2.1795   -2.8241   -3.8049 H   0  0  0  0  0  0  0  0  0  0  0  0\n",
      "    2.5176   -1.9822   -2.2914 H   0  0  0  0  0  0  0  0  0  0  0  0\n",
      "    2.9143   -1.2135   -3.8343 H   0  0  0  0  0  0  0  0  0  0  0  0\n",
      "    0.3522   -2.0859   -5.3307 H   0  0  0  0  0  0  0  0  0  0  0  0\n",
      "    1.0232   -0.4520   -5.4210 H   0  0  0  0  0  0  0  0  0  0  0  0\n",
      "   -0.6652   -0.6967   -4.9346 H   0  0  0  0  0  0  0  0  0  0  0  0\n",
      "  1  6  1  0  0  0  0\n",
      "  1  2  1  0  0  0  0\n",
      "  2 25  1  0  0  0  0\n",
      "  2 26  1  0  0  0  0\n",
      "  3 20  1  1  0  0  0\n",
      "  3  2  1  0  0  0  0\n",
      "  4 21  1  6  0  0  0\n",
      "  4  5  1  0  0  0  0\n",
      "  4  3  1  0  0  0  0\n",
      "  5 19  1  1  0  0  0\n",
      "  5  1  1  0  0  0  0\n",
      "  6 28  1  0  0  0  0\n",
      "  6 27  1  0  0  0  0\n",
      "  7  3  1  0  0  0  0\n",
      "  7 30  1  0  0  0  0\n",
      "  7 31  1  0  0  0  0\n",
      "  8  7  1  0  0  0  0\n",
      "  9  8  1  0  0  0  0\n",
      "  9 18  1  1  0  0  0\n",
      "  9  4  1  0  0  0  0\n",
      " 10 34  1  6  0  0  0\n",
      " 10  5  1  0  0  0  0\n",
      " 11 10  1  0  0  0  0\n",
      " 12 11  1  0  0  0  0\n",
      " 13 35  1  6  0  0  0\n",
      " 13 12  1  0  0  0  0\n",
      " 13  9  1  0  0  0  0\n",
      " 14 12  2  0  0  0  0\n",
      " 15 17  1  6  0  0  0\n",
      " 15 13  1  0  0  0  0\n",
      " 15 10  1  0  0  0  0\n",
      " 16 22  1  0  0  0  0\n",
      " 16 24  1  0  0  0  0\n",
      " 16 15  1  0  0  0  0\n",
      " 21 36  1  0  0  0  0\n",
      " 22 40  1  0  0  0  0\n",
      " 23 16  1  0  0  0  0\n",
      " 29  6  1  0  0  0  0\n",
      " 32  8  1  0  0  0  0\n",
      " 33  8  1  0  0  0  0\n",
      " 37 21  1  0  0  0  0\n",
      " 38 21  1  0  0  0  0\n",
      " 39 22  1  0  0  0  0\n",
      " 41 22  1  0  0  0  0\n",
      " 42 23  1  0  0  0  0\n",
      " 43 23  1  0  0  0  0\n",
      " 44 23  1  0  0  0  0\n",
      "M  END\n",
      "$$$$\n",
      "\n",
      "N1(C[C@@H]2[C@@]3([C@@H]1[C@@H]1OC(=O)[C@H]([C@H]3CC2)[C@@H]1C(C)C)C)C\tdendrobine\n",
      "\n"
     ]
    }
   ],
   "source": [
    "print(mob.to_file_w_ob(ml_mol, 'sdf'))\n",
    "\n",
    "print(mob.to_file_w_ob(ml_mol, 'smi'))\n"
   ]
  },
  {
   "cell_type": "markdown",
   "metadata": {},
   "source": [
    "This can also be utilized for optimization with forcefields to return updated coordinates for the `ml_mol`"
   ]
  },
  {
   "cell_type": "code",
   "execution_count": 5,
   "metadata": {},
   "outputs": [
    {
     "name": "stdout",
     "output_type": "stream",
     "text": [
      "Unoptimized:\n",
      "[[ 1.2960e+00 -2.3190e-01  1.2670e+00]\n",
      " [ 5.7300e-02 -2.2600e-02  2.1227e+00]\n",
      " [-1.0974e+00 -4.7380e-01  1.2059e+00]\n",
      " [-4.2840e-01 -4.1130e-01 -1.6870e-01]\n",
      " [ 8.6830e-01  3.5980e-01 -4.0000e-04]]\n",
      "\n",
      "Optimized:\n",
      "[[ 1.27654701 -0.13524876  1.39661629]\n",
      " [-0.02894966 -0.04669097  2.1546447 ]\n",
      " [-1.12460091 -0.51325142  1.1452663 ]\n",
      " [-0.36467652 -0.3880548  -0.15826961]\n",
      " [ 0.84317759  0.40365421  0.10435314]]\n"
     ]
    }
   ],
   "source": [
    "coord_subset = ml_mol.coords[:5]\n",
    "\n",
    "print(f'Unoptimized:\\n{coord_subset}\\n')\n",
    "\n",
    "mob.obabel_optimize(\n",
    "    ml_mol,\n",
    "    ff = \"UFF\",\n",
    "    max_steps = 1000,\n",
    "    inplace = True,\n",
    ")\n",
    "\n",
    "print(f'Optimized:\\n{coord_subset}')"
   ]
  }
 ],
 "metadata": {
  "kernelspec": {
   "display_name": "Python 3.10.6 ('molli-dev')",
   "language": "python",
   "name": "python3"
  },
  "language_info": {
   "codemirror_mode": {
    "name": "ipython",
    "version": 3
   },
   "file_extension": ".py",
   "mimetype": "text/x-python",
   "name": "python",
   "nbconvert_exporter": "python",
   "pygments_lexer": "ipython3",
   "version": "3.11.5"
  },
  "orig_nbformat": 4,
  "vscode": {
   "interpreter": {
    "hash": "76cbec9d8be6152967bf6eb279a8f9736e48be32763f3b307b1279f8e0121d15"
   }
  }
 },
 "nbformat": 4,
 "nbformat_minor": 2
}
