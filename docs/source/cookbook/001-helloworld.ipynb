{
 "cells": [
  {
   "cell_type": "markdown",
   "metadata": {},
   "source": [
    "# Welcome to `MOLLI 1.0`\n",
    "\n",
    "## About this tutorial\n",
    "This file is meant to illustrate a few fundamental principles of the new molli package. The difference between old and new style molli is stark, therefore this introductory tutorial will be useful for both experienced people and newcomers."
   ]
  },
  {
   "cell_type": "markdown",
   "metadata": {},
   "source": [
    "## Basic structure of `molli` package.\n",
    "\n",
    "### Subpackages"
   ]
  },
  {
   "cell_type": "code",
   "execution_count": null,
   "metadata": {},
   "outputs": [],
   "source": [
    "# This is meant to be as iconic as `import numpy as np` :)\n",
    "import molli as ml"
   ]
  },
  {
   "cell_type": "markdown",
   "metadata": {},
   "source": [
    "## Command line\n",
    "\n",
    "`molli` features a number of standalone scripts for standard procedures, such as parsing a .CDXML file, or for compiling a collection."
   ]
  },
  {
   "cell_type": "code",
   "execution_count": null,
   "metadata": {},
   "outputs": [],
   "source": [
    "# This is a shell command\n",
    "!molli --HELP"
   ]
  },
  {
   "cell_type": "code",
   "execution_count": null,
   "metadata": {},
   "outputs": [],
   "source": [
    "# This is a shell command\n",
    "!molli list"
   ]
  },
  {
   "attachments": {},
   "cell_type": "markdown",
   "metadata": {},
   "source": [
    "# Basic objects     \n",
    "\n",
    "Molli features classes that are meant to construct and represent arbitrary chemical entities. They can be constructed completely programmatically or by importing the data from a saved file. Interface with OpenBabel allows to import almost any known chemical format.\n",
    "Generic import functions will look like\n",
    "\n",
    "```python\n",
    "# This function imports a mol2 file from a string\n",
    "mol = ml.Molecule.loads_mol2(mol2_string)\n",
    "\n",
    "# or, similarly, from a file stream\n",
    "mol = ml.Molecule.load_mol2(file_io)\n",
    "```"
   ]
  },
  {
   "cell_type": "code",
   "execution_count": null,
   "metadata": {},
   "outputs": [],
   "source": [
    "fpath = ml.files.pentane_confs_mol2 \n",
    "print(\"Path to a test file\", fpath)\n",
    "\n",
    "m1 = ml.Molecule.load_mol2(fpath, name=\"pentane\")\n",
    "print(m1.dumps_xyz())"
   ]
  },
  {
   "cell_type": "code",
   "execution_count": null,
   "metadata": {},
   "outputs": [],
   "source": [
    "sub = ml.Substructure(m1, (1, 3, 5))\n",
    "print(sub.dumps_xyz())\n",
    "\n",
    "sub.coords += 50.0\n",
    "print(m1.dumps_xyz())"
   ]
  }
 ],
 "metadata": {
  "kernelspec": {
   "display_name": "base",
   "language": "python",
   "name": "python3"
  },
  "language_info": {
   "codemirror_mode": {
    "name": "ipython",
    "version": 3
   },
   "file_extension": ".py",
   "mimetype": "text/x-python",
   "name": "python",
   "nbconvert_exporter": "python",
   "pygments_lexer": "ipython3",
   "version": "3.11.3"
  },
  "orig_nbformat": 4,
  "vscode": {
   "interpreter": {
    "hash": "4c66e8f176fbf3df590ec010f6af88e4e499f7786e053ca101a7d8aa8a685488"
   }
  }
 },
 "nbformat": 4,
 "nbformat_minor": 2
}
