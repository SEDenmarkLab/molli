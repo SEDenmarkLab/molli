{
 "cells": [
  {
   "attachments": {},
   "cell_type": "markdown",
   "metadata": {},
   "source": [
    "# Reading ChemDraw files\n",
    "\n",
    "Molli features a robust Chemdraw parser, specifically designed to work with the `CDXML` format. This parser is capable of parsing point, axial, and planar chirality, along with full structure labels, substructure labels, atom labels, charges, and multiplicities. This notebook will explain its properties and how to use it.\n",
    "\n",
    "## Reading Example"
   ]
  },
  {
   "cell_type": "code",
   "execution_count": 1,
   "metadata": {},
   "outputs": [
    {
     "name": "stderr",
     "output_type": "stream",
     "text": [
      "/home/blakeo2/new_molli/molli_dev/molli/molli/ftypes/cdxml.py:157: CDXMLSyntaxWarning: CDXML file /home/blakeo2/new_molli/molli_dev/molli/molli/files/parser_demo.cdxml contains redundant label 'naphthalene' Only the first occurrence will be kept.\n",
      "  warn(\n"
     ]
    }
   ],
   "source": [
    "#This imports molli\n",
    "import molli as ml\n",
    "\n",
    "#This configures the visualization tool\n",
    "ml.visual.configure(bgcolor='white')\n",
    "\n",
    "# This just loads an example file that contains boundary cases\n",
    "cdxf = ml.CDXMLFile(ml.files.parser_demo_cdxml)"
   ]
  },
  {
   "attachments": {},
   "cell_type": "markdown",
   "metadata": {},
   "source": [
    "Note: The file was designed to purposely show the warnings when duplicate structures are present!\n",
    "\n",
    "The `CDXMLFile` class can be thought of as a dictionary, with keys being the label, and the values being the `Molecule`."
   ]
  },
  {
   "cell_type": "code",
   "execution_count": 2,
   "metadata": {},
   "outputs": [
    {
     "data": {
      "text/plain": [
       "dict_keys(['benzene', 'naphthalene', 'stereo', 'decoy', 'isotopes', 'phenanthrene_ar', 'estradiol', 'taxadiene', 'substruct_stereo', 'high_complexity_1', 'r_binol', 'chiral_fragment', 'attached_acronym', 'Taniaphos', 'BrettPhos', 'toluene', 'stereo_groups', 'attachments'])"
      ]
     },
     "execution_count": 2,
     "metadata": {},
     "output_type": "execute_result"
    }
   ],
   "source": [
    "# This will display the list of all named molecules in the file.\n",
    "cdxf.keys()"
   ]
  },
  {
   "attachments": {
    "Point_Chirality.PNG": {
     "image/png": "[encoded data removed]"
    }
   },
   "cell_type": "markdown",
   "metadata": {},
   "source": [
    "## Point Chirality Example\n",
    "\n",
    "For the demonstration of how to work with these molecules, the following structure will be used to illustrate how point chirality is maintained. In addition, different functional groups are parsed into their expanded equivalent. Note: all structures should interpreted chemically, and all labels underneath the molecule should be BOLDED and NOT interpreted chemically!\n",
    "\n",
    "![Point_Chirality.PNG](attachment:Point_Chirality.PNG)"
   ]
  },
  {
   "cell_type": "code",
   "execution_count": 3,
   "metadata": {},
   "outputs": [
    {
     "data": {
      "application/3dmoljs_load.v0": "<div id=\"3dmolviewer_17295271057526786\"  style=\"position: relative; width: 100%; height: 500px;\">\n        <p id=\"3dmolwarning_17295271057526786\" style=\"background-color:#ffcccc;color:black\">You appear to be running in JupyterLab (or JavaScript failed to load for some other reason).  You need to install the 3dmol extension: <br>\n        <tt>jupyter labextension install jupyterlab_3dmol</tt></p>\n        </div>\n<script>\n\nvar loadScriptAsync = function(uri){\n  return new Promise((resolve, reject) => {\n    //this is to ignore the existence of requirejs amd\n    var savedexports, savedmodule;\n    if (typeof exports !== 'undefined') savedexports = exports;\n    else exports = {}\n    if (typeof module !== 'undefined') savedmodule = module;\n    else module = {}\n\n    var tag = document.createElement('script');\n    tag.src = uri;\n    tag.async = true;\n    tag.onload = () => {\n        exports = savedexports;\n        module = savedmodule;\n        resolve();\n    };\n  var firstScriptTag = document.getElementsByTagName('script')[0];\n  firstScriptTag.parentNode.insertBefore(tag, firstScriptTag);\n});\n};\n\nif(typeof $3Dmolpromise === 'undefined') {\n$3Dmolpromise = null;\n  $3Dmolpromise = loadScriptAsync('https://cdnjs.cloudflare.com/ajax/libs/3Dmol/2.0.4/3Dmol-min.js');\n}\n\nvar viewer_17295271057526786 = null;\nvar warn = document.getElementById(\"3dmolwarning_17295271057526786\");\nif(warn) {\n    warn.parentNode.removeChild(warn);\n}\n$3Dmolpromise.then(function() {\nviewer_17295271057526786 = $3Dmol.createViewer(document.getElementById(\"3dmolviewer_17295271057526786\"),{backgroundColor:\"white\"});\nviewer_17295271057526786.zoomTo();\n\tviewer_17295271057526786.addModel(\"@<TRIPOS>MOLECULE\\nhigh_complexity_1\\n63 67 0 0 0\\nSMALL\\nNO_CHARGES\\n\\n@<TRIPOS>ATOM\\n1 None -2.5986 0.0000 0.0000 N\\n2 None -3.8972 -0.7500 0.0000 C\\n3 None -5.1958 0.0000 0.0000 C\\n4 None -6.4944 -0.7500 0.0000 C\\n5 None -6.4944 -1.5000 1.2990 O\\n6 None -7.7944 0.0000 0.0000 C\\n7 None -7.7944 0.7500 1.2990 O\\n8 None -9.0931 -0.7500 0.0000 C\\n9 None -9.0931 -1.5000 -1.2990 O\\n10 None -10.3917 0.0000 0.0000 C\\n11 None -10.3917 0.7500 1.2990 O\\n12 None -11.6917 -0.7500 0.0000 C\\n13 None -11.6917 -1.5000 -1.2990 O\\n14 None -12.9903 0.0000 0.0000 C\\n15 None -14.2889 -0.7500 0.0000 C\\n16 None -14.2889 -1.5000 -1.2990 O\\n17 None -15.5889 0.0000 0.0000 C\\n18 None -16.8875 -0.7500 0.0000 C\\n19 None -8.3431 -2.1493 -2.4237 C\\n20 None -9.4042 -2.6799 -3.3426 C\\n21 None -8.6542 -3.3292 -4.4672 C\\n22 None -1.3000 -0.7500 0.0000 C\\n23 None 0.0000 0.0000 0.0000 C\\n24 None -1.2993 -1.5000 1.2990 C\\n25 None -2.5997 -1.8756 1.9475 N\\n26 None -5.1958 0.7500 1.2990 C\\n27 None -5.1958 0.0038 2.5927 O\\n28 None -5.1958 2.2434 1.2996 O\\n29 None -5.1958 4.4827 2.5920 C\\n30 None -5.1958 5.2292 3.8851 C\\n31 None -5.1958 6.7227 3.8856 C\\n32 None -5.1958 7.4689 2.5920 C\\n33 None -5.1958 6.7223 1.2990 C\\n34 None -5.1958 5.2296 1.2996 C\\n35 None -5.1958 2.9900 2.5926 C\\n36 None -12.9903 0.7500 1.2990 C\\n37 None -12.9903 0.0038 2.5927 C\\n38 None -12.9903 0.7503 3.8857 C\\n39 None -12.9903 2.2431 3.8851 C\\n40 None -12.9903 2.9900 2.5926 C\\n41 None -12.9903 2.2434 1.2996 C\\n42 None -10.1445 -3.7291 -2.5674 C\\n43 None -11.3492 -3.5109 -3.4223 F\\n44 None -10.8814 -4.7736 -1.7955 F\\n45 None -8.9403 -3.9482 -1.7116 F\\n46 None 1.2643 -0.7302 0.0000 N\\n47 None 7.9279 -2.7422 -0.9182 C\\n48 None 8.5755 -1.6233 -1.6645 C\\n49 None 7.5463 -0.5660 -1.8960 C\\n50 None 6.2633 -1.0328 -1.2921 C\\n51 None 6.4986 -2.3779 -0.6876 C\\n52 None 5.5971 -3.3171 0.0423 C\\n53 None 6.1256 -4.6217 0.5419 C\\n54 None 7.5538 -4.9865 0.3119 C\\n55 None 8.4564 -4.0467 -0.4186 C\\n56 None 9.9697 -1.4290 -2.1643 C\\n57 None 10.3343 -0.1790 -2.8945 C\\n58 None 9.3040 0.8778 -3.1254 C\\n59 None 7.9109 0.6840 -2.6262 C\\n60 None 4.9700 -0.2859 -1.2921 C\\n61 None 3.7632 -0.8818 -0.6458 O\\n62 None 2.4711 -0.1343 -0.6464 C\\n63 None 2.3847 1.2084 -1.2927 O\\n@<TRIPOS>BOND\\n1 1 2 1\\n2 2 3 1\\n3 3 4 1\\n4 4 5 1\\n5 4 6 1\\n6 6 7 1\\n7 6 8 1\\n8 8 9 1\\n9 10 11 1\\n10 10 12 1\\n11 12 13 1\\n12 12 14 1\\n13 14 15 1\\n14 15 16 1\\n15 15 17 1\\n16 17 18 2\\n17 8 10 1\\n18 9 19 1\\n19 19 20 1\\n20 20 21 1\\n21 1 22 1\\n22 22 23 1\\n23 22 24 1\\n24 24 25 1\\n25 33 34 2\\n26 32 33 1\\n27 31 32 2\\n28 30 31 1\\n29 29 30 2\\n30 29 34 1\\n31 29 35 1\\n32 28 35 1\\n33 26 27 2\\n34 26 28 1\\n35 3 26 1\\n36 40 41 2\\n37 39 40 1\\n38 38 39 2\\n39 37 38 1\\n40 36 37 2\\n41 36 41 1\\n42 14 36 1\\n43 42 43 1\\n44 42 44 1\\n45 42 45 1\\n46 20 42 1\\n47 62 63 2\\n48 61 62 1\\n49 60 61 1\\n50 58 59 2\\n51 57 58 1\\n52 56 57 2\\n53 54 55 2\\n54 53 54 1\\n55 52 53 2\\n56 51 52 1\\n57 50 51 1\\n58 50 60 1\\n59 49 50 1\\n60 49 59 1\\n61 48 49 2\\n62 48 56 1\\n63 47 48 1\\n64 47 51 2\\n65 47 55 1\\n66 46 62 1\\n67 23 46 1\\n\\n\",\"mol2\");\n\tviewer_17295271057526786.setStyle({\"stick\": {\"radius\": 0.1}, \"sphere\": {\"scale\": 0.15}});\n\tviewer_17295271057526786.setHoverable({},true,\"\\n        function(atom,viewer,event,container) {\\n            if(!atom.label) {\\n                atom.label = viewer.addLabel(atom.elem + '(' + atom.index + ')', {position: atom, backgroundColor: 'silver', fontColor:'black'});\\n            }\\n        }\\n        \",\"\\n        function(atom,viewer) { \\n            if(atom.label) {\\n                viewer.removeLabel(atom.label);\\n                delete atom.label;\\n            }\\n        }\\n        \");\n\tviewer_17295271057526786.zoomTo();\n\tviewer_17295271057526786.setBackgroundColor(\"white\");\nviewer_17295271057526786.render();\n});\n</script>",
      "text/html": [
       "<div id=\"3dmolviewer_17295271057526786\"  style=\"position: relative; width: 100%; height: 500px;\">\n",
       "        <p id=\"3dmolwarning_17295271057526786\" style=\"background-color:#ffcccc;color:black\">You appear to be running in JupyterLab (or JavaScript failed to load for some other reason).  You need to install the 3dmol extension: <br>\n",
       "        <tt>jupyter labextension install jupyterlab_3dmol</tt></p>\n",
       "        </div>\n",
       "<script>\n",
       "\n",
       "var loadScriptAsync = function(uri){\n",
       "  return new Promise((resolve, reject) => {\n",
       "    //this is to ignore the existence of requirejs amd\n",
       "    var savedexports, savedmodule;\n",
       "    if (typeof exports !== 'undefined') savedexports = exports;\n",
       "    else exports = {}\n",
       "    if (typeof module !== 'undefined') savedmodule = module;\n",
       "    else module = {}\n",
       "\n",
       "    var tag = document.createElement('script');\n",
       "    tag.src = uri;\n",
       "    tag.async = true;\n",
       "    tag.onload = () => {\n",
       "        exports = savedexports;\n",
       "        module = savedmodule;\n",
       "        resolve();\n",
       "    };\n",
       "  var firstScriptTag = document.getElementsByTagName('script')[0];\n",
       "  firstScriptTag.parentNode.insertBefore(tag, firstScriptTag);\n",
       "});\n",
       "};\n",
       "\n",
       "if(typeof $3Dmolpromise === 'undefined') {\n",
       "$3Dmolpromise = null;\n",
       "  $3Dmolpromise = loadScriptAsync('https://cdnjs.cloudflare.com/ajax/libs/3Dmol/2.0.4/3Dmol-min.js');\n",
       "}\n",
       "\n",
       "var viewer_17295271057526786 = null;\n",
       "var warn = document.getElementById(\"3dmolwarning_17295271057526786\");\n",
       "if(warn) {\n",
       "    warn.parentNode.removeChild(warn);\n",
       "}\n",
       "$3Dmolpromise.then(function() {\n",
       "viewer_17295271057526786 = $3Dmol.createViewer(document.getElementById(\"3dmolviewer_17295271057526786\"),{backgroundColor:\"white\"});\n",
       "viewer_17295271057526786.zoomTo();\n",
       "\tviewer_17295271057526786.addModel(\"@<TRIPOS>MOLECULE\\nhigh_complexity_1\\n63 67 0 0 0\\nSMALL\\nNO_CHARGES\\n\\n@<TRIPOS>ATOM\\n1 None -2.5986 0.0000 0.0000 N\\n2 None -3.8972 -0.7500 0.0000 C\\n3 None -5.1958 0.0000 0.0000 C\\n4 None -6.4944 -0.7500 0.0000 C\\n5 None -6.4944 -1.5000 1.2990 O\\n6 None -7.7944 0.0000 0.0000 C\\n7 None -7.7944 0.7500 1.2990 O\\n8 None -9.0931 -0.7500 0.0000 C\\n9 None -9.0931 -1.5000 -1.2990 O\\n10 None -10.3917 0.0000 0.0000 C\\n11 None -10.3917 0.7500 1.2990 O\\n12 None -11.6917 -0.7500 0.0000 C\\n13 None -11.6917 -1.5000 -1.2990 O\\n14 None -12.9903 0.0000 0.0000 C\\n15 None -14.2889 -0.7500 0.0000 C\\n16 None -14.2889 -1.5000 -1.2990 O\\n17 None -15.5889 0.0000 0.0000 C\\n18 None -16.8875 -0.7500 0.0000 C\\n19 None -8.3431 -2.1493 -2.4237 C\\n20 None -9.4042 -2.6799 -3.3426 C\\n21 None -8.6542 -3.3292 -4.4672 C\\n22 None -1.3000 -0.7500 0.0000 C\\n23 None 0.0000 0.0000 0.0000 C\\n24 None -1.2993 -1.5000 1.2990 C\\n25 None -2.5997 -1.8756 1.9475 N\\n26 None -5.1958 0.7500 1.2990 C\\n27 None -5.1958 0.0038 2.5927 O\\n28 None -5.1958 2.2434 1.2996 O\\n29 None -5.1958 4.4827 2.5920 C\\n30 None -5.1958 5.2292 3.8851 C\\n31 None -5.1958 6.7227 3.8856 C\\n32 None -5.1958 7.4689 2.5920 C\\n33 None -5.1958 6.7223 1.2990 C\\n34 None -5.1958 5.2296 1.2996 C\\n35 None -5.1958 2.9900 2.5926 C\\n36 None -12.9903 0.7500 1.2990 C\\n37 None -12.9903 0.0038 2.5927 C\\n38 None -12.9903 0.7503 3.8857 C\\n39 None -12.9903 2.2431 3.8851 C\\n40 None -12.9903 2.9900 2.5926 C\\n41 None -12.9903 2.2434 1.2996 C\\n42 None -10.1445 -3.7291 -2.5674 C\\n43 None -11.3492 -3.5109 -3.4223 F\\n44 None -10.8814 -4.7736 -1.7955 F\\n45 None -8.9403 -3.9482 -1.7116 F\\n46 None 1.2643 -0.7302 0.0000 N\\n47 None 7.9279 -2.7422 -0.9182 C\\n48 None 8.5755 -1.6233 -1.6645 C\\n49 None 7.5463 -0.5660 -1.8960 C\\n50 None 6.2633 -1.0328 -1.2921 C\\n51 None 6.4986 -2.3779 -0.6876 C\\n52 None 5.5971 -3.3171 0.0423 C\\n53 None 6.1256 -4.6217 0.5419 C\\n54 None 7.5538 -4.9865 0.3119 C\\n55 None 8.4564 -4.0467 -0.4186 C\\n56 None 9.9697 -1.4290 -2.1643 C\\n57 None 10.3343 -0.1790 -2.8945 C\\n58 None 9.3040 0.8778 -3.1254 C\\n59 None 7.9109 0.6840 -2.6262 C\\n60 None 4.9700 -0.2859 -1.2921 C\\n61 None 3.7632 -0.8818 -0.6458 O\\n62 None 2.4711 -0.1343 -0.6464 C\\n63 None 2.3847 1.2084 -1.2927 O\\n@<TRIPOS>BOND\\n1 1 2 1\\n2 2 3 1\\n3 3 4 1\\n4 4 5 1\\n5 4 6 1\\n6 6 7 1\\n7 6 8 1\\n8 8 9 1\\n9 10 11 1\\n10 10 12 1\\n11 12 13 1\\n12 12 14 1\\n13 14 15 1\\n14 15 16 1\\n15 15 17 1\\n16 17 18 2\\n17 8 10 1\\n18 9 19 1\\n19 19 20 1\\n20 20 21 1\\n21 1 22 1\\n22 22 23 1\\n23 22 24 1\\n24 24 25 1\\n25 33 34 2\\n26 32 33 1\\n27 31 32 2\\n28 30 31 1\\n29 29 30 2\\n30 29 34 1\\n31 29 35 1\\n32 28 35 1\\n33 26 27 2\\n34 26 28 1\\n35 3 26 1\\n36 40 41 2\\n37 39 40 1\\n38 38 39 2\\n39 37 38 1\\n40 36 37 2\\n41 36 41 1\\n42 14 36 1\\n43 42 43 1\\n44 42 44 1\\n45 42 45 1\\n46 20 42 1\\n47 62 63 2\\n48 61 62 1\\n49 60 61 1\\n50 58 59 2\\n51 57 58 1\\n52 56 57 2\\n53 54 55 2\\n54 53 54 1\\n55 52 53 2\\n56 51 52 1\\n57 50 51 1\\n58 50 60 1\\n59 49 50 1\\n60 49 59 1\\n61 48 49 2\\n62 48 56 1\\n63 47 48 1\\n64 47 51 2\\n65 47 55 1\\n66 46 62 1\\n67 23 46 1\\n\\n\",\"mol2\");\n",
       "\tviewer_17295271057526786.setStyle({\"stick\": {\"radius\": 0.1}, \"sphere\": {\"scale\": 0.15}});\n",
       "\tviewer_17295271057526786.setHoverable({},true,\"\\n        function(atom,viewer,event,container) {\\n            if(!atom.label) {\\n                atom.label = viewer.addLabel(atom.elem + '(' + atom.index + ')', {position: atom, backgroundColor: 'silver', fontColor:'black'});\\n            }\\n        }\\n        \",\"\\n        function(atom,viewer) { \\n            if(atom.label) {\\n                viewer.removeLabel(atom.label);\\n                delete atom.label;\\n            }\\n        }\\n        \");\n",
       "\tviewer_17295271057526786.zoomTo();\n",
       "\tviewer_17295271057526786.setBackgroundColor(\"white\");\n",
       "viewer_17295271057526786.render();\n",
       "});\n",
       "</script>"
      ]
     },
     "metadata": {},
     "output_type": "display_data"
    },
    {
     "data": {
      "application/3dmoljs_load.v0": "<script>\n            $3Dmolpromise.then(function() { //wrap in promise for non-interactive functionality\n                \n                viewer_17295271057526786.render();\n            });\n            </script>",
      "text/html": [
       "<script>\n",
       "            $3Dmolpromise.then(function() { //wrap in promise for non-interactive functionality\n",
       "                \n",
       "                viewer_17295271057526786.render();\n",
       "            });\n",
       "            </script>"
      ]
     },
     "metadata": {},
     "output_type": "display_data"
    },
    {
     "data": {
      "text/plain": [
       "Molecule(name='high_complexity_1', formula='C47 F3 N3 O10')"
      ]
     },
     "execution_count": 3,
     "metadata": {},
     "output_type": "execute_result"
    }
   ],
   "source": [
    "# The molecules can be accessed as the\n",
    "mol = cdxf[\"high_complexity_1\"]\n",
    "mol"
   ]
  },
  {
   "cell_type": "markdown",
   "metadata": {},
   "source": [
    "When chirality is detected, the parser rotates groups of atoms out of the 2D plane of the paper, much like a chemist's intuition would. The structure upon initial parsing does not have have hydrogens. These can be added via the method `add_implicit_hydrogens()`. This will not optimize the `Molecule` but gives a reasonable starting point."
   ]
  },
  {
   "cell_type": "code",
   "execution_count": 4,
   "metadata": {},
   "outputs": [
    {
     "data": {
      "application/3dmoljs_load.v0": "<div id=\"3dmolviewer_17295271057814808\"  style=\"position: relative; width: 100%; height: 500px;\">\n        <p id=\"3dmolwarning_17295271057814808\" style=\"background-color:#ffcccc;color:black\">You appear to be running in JupyterLab (or JavaScript failed to load for some other reason).  You need to install the 3dmol extension: <br>\n        <tt>jupyter labextension install jupyterlab_3dmol</tt></p>\n        </div>\n<script>\n\nvar loadScriptAsync = function(uri){\n  return new Promise((resolve, reject) => {\n    //this is to ignore the existence of requirejs amd\n    var savedexports, savedmodule;\n    if (typeof exports !== 'undefined') savedexports = exports;\n    else exports = {}\n    if (typeof module !== 'undefined') savedmodule = module;\n    else module = {}\n\n    var tag = document.createElement('script');\n    tag.src = uri;\n    tag.async = true;\n    tag.onload = () => {\n        exports = savedexports;\n        module = savedmodule;\n        resolve();\n    };\n  var firstScriptTag = document.getElementsByTagName('script')[0];\n  firstScriptTag.parentNode.insertBefore(tag, firstScriptTag);\n});\n};\n\nif(typeof $3Dmolpromise === 'undefined') {\n$3Dmolpromise = null;\n  $3Dmolpromise = loadScriptAsync('https://cdnjs.cloudflare.com/ajax/libs/3Dmol/2.0.4/3Dmol-min.js');\n}\n\nvar viewer_17295271057814808 = null;\nvar warn = document.getElementById(\"3dmolwarning_17295271057814808\");\nif(warn) {\n    warn.parentNode.removeChild(warn);\n}\n$3Dmolpromise.then(function() {\nviewer_17295271057814808 = $3Dmol.createViewer(document.getElementById(\"3dmolviewer_17295271057814808\"),{backgroundColor:\"white\"});\nviewer_17295271057814808.zoomTo();\n\tviewer_17295271057814808.addModel(\"@<TRIPOS>MOLECULE\\nhigh_complexity_1\\n119 123 0 0 0\\nSMALL\\nNO_CHARGES\\n\\n@<TRIPOS>ATOM\\n1 None -2.5986 0.0000 0.0000 N\\n2 None -3.8972 -0.7500 0.0000 C\\n3 None -5.1958 0.0000 0.0000 C\\n4 None -6.4944 -0.7500 0.0000 C\\n5 None -6.4944 -1.5000 1.2990 O\\n6 None -7.7944 0.0000 0.0000 C\\n7 None -7.7944 0.7500 1.2990 O\\n8 None -9.0931 -0.7500 0.0000 C\\n9 None -9.0931 -1.5000 -1.2990 O\\n10 None -10.3917 0.0000 0.0000 C\\n11 None -10.3917 0.7500 1.2990 O\\n12 None -11.6917 -0.7500 0.0000 C\\n13 None -11.6917 -1.5000 -1.2990 O\\n14 None -12.9903 0.0000 0.0000 C\\n15 None -14.2889 -0.7500 0.0000 C\\n16 None -14.2889 -1.5000 -1.2990 O\\n17 None -15.5889 0.0000 0.0000 C\\n18 None -16.8875 -0.7500 0.0000 C\\n19 None -8.3431 -2.1493 -2.4237 C\\n20 None -9.4042 -2.6799 -3.3426 C\\n21 None -8.6542 -3.3292 -4.4672 C\\n22 None -1.3000 -0.7500 0.0000 C\\n23 None 0.0000 0.0000 0.0000 C\\n24 None -1.2993 -1.5000 1.2990 C\\n25 None -2.5997 -1.8756 1.9475 N\\n26 None -5.1958 0.7500 1.2990 C\\n27 None -5.1958 0.0038 2.5927 O\\n28 None -5.1958 2.2434 1.2996 O\\n29 None -5.1958 4.4827 2.5920 C\\n30 None -5.1958 5.2292 3.8851 C\\n31 None -5.1958 6.7227 3.8856 C\\n32 None -5.1958 7.4689 2.5920 C\\n33 None -5.1958 6.7223 1.2990 C\\n34 None -5.1958 5.2296 1.2996 C\\n35 None -5.1958 2.9900 2.5926 C\\n36 None -12.9903 0.7500 1.2990 C\\n37 None -12.9903 0.0038 2.5927 C\\n38 None -12.9903 0.7503 3.8857 C\\n39 None -12.9903 2.2431 3.8851 C\\n40 None -12.9903 2.9900 2.5926 C\\n41 None -12.9903 2.2434 1.2996 C\\n42 None -10.1445 -3.7291 -2.5674 C\\n43 None -11.3492 -3.5109 -3.4223 F\\n44 None -10.8814 -4.7736 -1.7955 F\\n45 None -8.9403 -3.9482 -1.7116 F\\n46 None 1.2643 -0.7302 0.0000 N\\n47 None 7.9279 -2.7422 -0.9182 C\\n48 None 8.5755 -1.6233 -1.6645 C\\n49 None 7.5463 -0.5660 -1.8960 C\\n50 None 6.2633 -1.0328 -1.2921 C\\n51 None 6.4986 -2.3779 -0.6876 C\\n52 None 5.5971 -3.3171 0.0423 C\\n53 None 6.1256 -4.6217 0.5419 C\\n54 None 7.5538 -4.9865 0.3119 C\\n55 None 8.4564 -4.0467 -0.4186 C\\n56 None 9.9697 -1.4290 -2.1643 C\\n57 None 10.3343 -0.1790 -2.8945 C\\n58 None 9.3040 0.8778 -3.1254 C\\n59 None 7.9109 0.6840 -2.6262 C\\n60 None 4.9700 -0.2859 -1.2921 C\\n61 None 3.7632 -0.8818 -0.6458 O\\n62 None 2.4711 -0.1343 -0.6464 C\\n63 None 2.3847 1.2084 -1.2927 O\\n64 None -2.5986 1.0300 0.0000 H\\n65 None -3.8972 -1.3638 -0.8765 H\\n66 None -3.8972 -1.3638 0.8765 H\\n67 None -5.1958 0.7005 -0.8088 H\\n68 None -6.4944 -1.4505 -0.8088 H\\n69 None -6.4944 -1.9750 2.1218 H\\n70 None -7.7944 0.7005 -0.8088 H\\n71 None -7.7944 1.2250 2.1218 H\\n72 None -9.0931 -1.4505 0.8088 H\\n73 None -10.3917 0.7005 -0.8088 H\\n74 None -10.3917 1.2250 2.1218 H\\n75 None -11.6917 -1.4505 0.8088 H\\n76 None -11.6917 -1.9750 -2.1218 H\\n77 None -12.9903 0.7005 -0.8088 H\\n78 None -14.2889 -1.4505 0.8088 H\\n79 None -14.2889 -1.9750 -2.1218 H\\n80 None -15.5899 1.0700 0.0000 H\\n81 None -17.8574 -0.2979 0.0000 H\\n82 None -16.9806 -1.8160 0.0000 H\\n83 None -7.7345 -1.4301 -2.9311 H\\n84 None -7.7345 -2.9483 -2.0545 H\\n85 None -10.0555 -1.9055 -3.6905 H\\n86 None -7.6112 -3.3588 -4.2302 H\\n87 None -8.8000 -2.7660 -5.3653 H\\n88 None -9.0162 -4.3261 -4.6087 H\\n89 None -1.3000 -1.4505 -0.8088 H\\n90 None 0.0148 0.6136 -0.8765 H\\n91 None 0.0148 0.6136 0.8765 H\\n92 None -0.7670 -2.4121 1.1266 H\\n93 None -0.7684 -0.8939 2.0031 H\\n94 None -3.3457 -1.2128 2.2028 H\\n95 None -2.8774 -2.8341 2.2028 H\\n96 None -5.1958 4.6938 4.8115 H\\n97 None -5.1958 7.2577 4.8123 H\\n98 None -5.1958 8.5389 2.5916 H\\n99 None -5.1958 7.2570 0.3721 H\\n100 None -5.1958 4.6946 0.3729 H\\n101 None -4.3193 2.6833 3.1243 H\\n102 None -6.0724 2.6833 3.1243 H\\n103 None -12.9903 -1.0662 2.5931 H\\n104 None -12.9903 0.2157 4.8126 H\\n105 None -12.9903 2.7781 4.8117 H\\n106 None -12.9903 4.0600 2.5931 H\\n107 None -12.9903 2.7788 0.3732 H\\n108 None 1.3044 -1.6553 0.4510 H\\n109 None 5.9957 -1.4961 -2.2188 H\\n110 None 4.5728 -3.0554 0.2072 H\\n111 None 5.4802 -5.2958 1.0653 H\\n112 None 7.9305 -5.9215 0.6706 H\\n113 None 9.4808 -4.3079 -0.5838 H\\n114 None 10.7078 -2.1858 -1.9990 H\\n115 None 11.3333 -0.0406 -3.2521 H\\n116 None 9.5640 1.7742 -3.6486 H\\n117 None 7.1734 1.4413 -2.7919 H\\n118 None 4.7153 -0.1134 -2.3170 H\\n119 None 5.1537 0.6457 -0.7988 H\\n@<TRIPOS>BOND\\n1 1 2 1\\n2 2 3 1\\n3 3 4 1\\n4 4 5 1\\n5 4 6 1\\n6 6 7 1\\n7 6 8 1\\n8 8 9 1\\n9 10 11 1\\n10 10 12 1\\n11 12 13 1\\n12 12 14 1\\n13 14 15 1\\n14 15 16 1\\n15 15 17 1\\n16 17 18 2\\n17 8 10 1\\n18 9 19 1\\n19 19 20 1\\n20 20 21 1\\n21 1 22 1\\n22 22 23 1\\n23 22 24 1\\n24 24 25 1\\n25 33 34 2\\n26 32 33 1\\n27 31 32 2\\n28 30 31 1\\n29 29 30 2\\n30 29 34 1\\n31 29 35 1\\n32 28 35 1\\n33 26 27 2\\n34 26 28 1\\n35 3 26 1\\n36 40 41 2\\n37 39 40 1\\n38 38 39 2\\n39 37 38 1\\n40 36 37 2\\n41 36 41 1\\n42 14 36 1\\n43 42 43 1\\n44 42 44 1\\n45 42 45 1\\n46 20 42 1\\n47 62 63 2\\n48 61 62 1\\n49 60 61 1\\n50 58 59 2\\n51 57 58 1\\n52 56 57 2\\n53 54 55 2\\n54 53 54 1\\n55 52 53 2\\n56 51 52 1\\n57 50 51 1\\n58 50 60 1\\n59 49 50 1\\n60 49 59 1\\n61 48 49 2\\n62 48 56 1\\n63 47 48 1\\n64 47 51 2\\n65 47 55 1\\n66 46 62 1\\n67 23 46 1\\n68 1 64 1\\n69 2 65 1\\n70 2 66 1\\n71 3 67 1\\n72 4 68 1\\n73 5 69 1\\n74 6 70 1\\n75 7 71 1\\n76 8 72 1\\n77 10 73 1\\n78 11 74 1\\n79 12 75 1\\n80 13 76 1\\n81 14 77 1\\n82 15 78 1\\n83 16 79 1\\n84 17 80 1\\n85 18 81 1\\n86 18 82 1\\n87 19 83 1\\n88 19 84 1\\n89 20 85 1\\n90 21 86 1\\n91 21 87 1\\n92 21 88 1\\n93 22 89 1\\n94 23 90 1\\n95 23 91 1\\n96 24 92 1\\n97 24 93 1\\n98 25 94 1\\n99 25 95 1\\n100 30 96 1\\n101 31 97 1\\n102 32 98 1\\n103 33 99 1\\n104 34 100 1\\n105 35 101 1\\n106 35 102 1\\n107 37 103 1\\n108 38 104 1\\n109 39 105 1\\n110 40 106 1\\n111 41 107 1\\n112 46 108 1\\n113 50 109 1\\n114 52 110 1\\n115 53 111 1\\n116 54 112 1\\n117 55 113 1\\n118 56 114 1\\n119 57 115 1\\n120 58 116 1\\n121 59 117 1\\n122 60 118 1\\n123 60 119 1\\n\\n\",\"mol2\");\n\tviewer_17295271057814808.setStyle({\"stick\": {\"radius\": 0.1}, \"sphere\": {\"scale\": 0.15}});\n\tviewer_17295271057814808.setHoverable({},true,\"\\n        function(atom,viewer,event,container) {\\n            if(!atom.label) {\\n                atom.label = viewer.addLabel(atom.elem + '(' + atom.index + ')', {position: atom, backgroundColor: 'silver', fontColor:'black'});\\n            }\\n        }\\n        \",\"\\n        function(atom,viewer) { \\n            if(atom.label) {\\n                viewer.removeLabel(atom.label);\\n                delete atom.label;\\n            }\\n        }\\n        \");\n\tviewer_17295271057814808.zoomTo();\n\tviewer_17295271057814808.setBackgroundColor(\"white\");\nviewer_17295271057814808.render();\n});\n</script>",
      "text/html": [
       "<div id=\"3dmolviewer_17295271057814808\"  style=\"position: relative; width: 100%; height: 500px;\">\n",
       "        <p id=\"3dmolwarning_17295271057814808\" style=\"background-color:#ffcccc;color:black\">You appear to be running in JupyterLab (or JavaScript failed to load for some other reason).  You need to install the 3dmol extension: <br>\n",
       "        <tt>jupyter labextension install jupyterlab_3dmol</tt></p>\n",
       "        </div>\n",
       "<script>\n",
       "\n",
       "var loadScriptAsync = function(uri){\n",
       "  return new Promise((resolve, reject) => {\n",
       "    //this is to ignore the existence of requirejs amd\n",
       "    var savedexports, savedmodule;\n",
       "    if (typeof exports !== 'undefined') savedexports = exports;\n",
       "    else exports = {}\n",
       "    if (typeof module !== 'undefined') savedmodule = module;\n",
       "    else module = {}\n",
       "\n",
       "    var tag = document.createElement('script');\n",
       "    tag.src = uri;\n",
       "    tag.async = true;\n",
       "    tag.onload = () => {\n",
       "        exports = savedexports;\n",
       "        module = savedmodule;\n",
       "        resolve();\n",
       "    };\n",
       "  var firstScriptTag = document.getElementsByTagName('script')[0];\n",
       "  firstScriptTag.parentNode.insertBefore(tag, firstScriptTag);\n",
       "});\n",
       "};\n",
       "\n",
       "if(typeof $3Dmolpromise === 'undefined') {\n",
       "$3Dmolpromise = null;\n",
       "  $3Dmolpromise = loadScriptAsync('https://cdnjs.cloudflare.com/ajax/libs/3Dmol/2.0.4/3Dmol-min.js');\n",
       "}\n",
       "\n",
       "var viewer_17295271057814808 = null;\n",
       "var warn = document.getElementById(\"3dmolwarning_17295271057814808\");\n",
       "if(warn) {\n",
       "    warn.parentNode.removeChild(warn);\n",
       "}\n",
       "$3Dmolpromise.then(function() {\n",
       "viewer_17295271057814808 = $3Dmol.createViewer(document.getElementById(\"3dmolviewer_17295271057814808\"),{backgroundColor:\"white\"});\n",
       "viewer_17295271057814808.zoomTo();\n",
       "\tviewer_17295271057814808.addModel(\"@<TRIPOS>MOLECULE\\nhigh_complexity_1\\n119 123 0 0 0\\nSMALL\\nNO_CHARGES\\n\\n@<TRIPOS>ATOM\\n1 None -2.5986 0.0000 0.0000 N\\n2 None -3.8972 -0.7500 0.0000 C\\n3 None -5.1958 0.0000 0.0000 C\\n4 None -6.4944 -0.7500 0.0000 C\\n5 None -6.4944 -1.5000 1.2990 O\\n6 None -7.7944 0.0000 0.0000 C\\n7 None -7.7944 0.7500 1.2990 O\\n8 None -9.0931 -0.7500 0.0000 C\\n9 None -9.0931 -1.5000 -1.2990 O\\n10 None -10.3917 0.0000 0.0000 C\\n11 None -10.3917 0.7500 1.2990 O\\n12 None -11.6917 -0.7500 0.0000 C\\n13 None -11.6917 -1.5000 -1.2990 O\\n14 None -12.9903 0.0000 0.0000 C\\n15 None -14.2889 -0.7500 0.0000 C\\n16 None -14.2889 -1.5000 -1.2990 O\\n17 None -15.5889 0.0000 0.0000 C\\n18 None -16.8875 -0.7500 0.0000 C\\n19 None -8.3431 -2.1493 -2.4237 C\\n20 None -9.4042 -2.6799 -3.3426 C\\n21 None -8.6542 -3.3292 -4.4672 C\\n22 None -1.3000 -0.7500 0.0000 C\\n23 None 0.0000 0.0000 0.0000 C\\n24 None -1.2993 -1.5000 1.2990 C\\n25 None -2.5997 -1.8756 1.9475 N\\n26 None -5.1958 0.7500 1.2990 C\\n27 None -5.1958 0.0038 2.5927 O\\n28 None -5.1958 2.2434 1.2996 O\\n29 None -5.1958 4.4827 2.5920 C\\n30 None -5.1958 5.2292 3.8851 C\\n31 None -5.1958 6.7227 3.8856 C\\n32 None -5.1958 7.4689 2.5920 C\\n33 None -5.1958 6.7223 1.2990 C\\n34 None -5.1958 5.2296 1.2996 C\\n35 None -5.1958 2.9900 2.5926 C\\n36 None -12.9903 0.7500 1.2990 C\\n37 None -12.9903 0.0038 2.5927 C\\n38 None -12.9903 0.7503 3.8857 C\\n39 None -12.9903 2.2431 3.8851 C\\n40 None -12.9903 2.9900 2.5926 C\\n41 None -12.9903 2.2434 1.2996 C\\n42 None -10.1445 -3.7291 -2.5674 C\\n43 None -11.3492 -3.5109 -3.4223 F\\n44 None -10.8814 -4.7736 -1.7955 F\\n45 None -8.9403 -3.9482 -1.7116 F\\n46 None 1.2643 -0.7302 0.0000 N\\n47 None 7.9279 -2.7422 -0.9182 C\\n48 None 8.5755 -1.6233 -1.6645 C\\n49 None 7.5463 -0.5660 -1.8960 C\\n50 None 6.2633 -1.0328 -1.2921 C\\n51 None 6.4986 -2.3779 -0.6876 C\\n52 None 5.5971 -3.3171 0.0423 C\\n53 None 6.1256 -4.6217 0.5419 C\\n54 None 7.5538 -4.9865 0.3119 C\\n55 None 8.4564 -4.0467 -0.4186 C\\n56 None 9.9697 -1.4290 -2.1643 C\\n57 None 10.3343 -0.1790 -2.8945 C\\n58 None 9.3040 0.8778 -3.1254 C\\n59 None 7.9109 0.6840 -2.6262 C\\n60 None 4.9700 -0.2859 -1.2921 C\\n61 None 3.7632 -0.8818 -0.6458 O\\n62 None 2.4711 -0.1343 -0.6464 C\\n63 None 2.3847 1.2084 -1.2927 O\\n64 None -2.5986 1.0300 0.0000 H\\n65 None -3.8972 -1.3638 -0.8765 H\\n66 None -3.8972 -1.3638 0.8765 H\\n67 None -5.1958 0.7005 -0.8088 H\\n68 None -6.4944 -1.4505 -0.8088 H\\n69 None -6.4944 -1.9750 2.1218 H\\n70 None -7.7944 0.7005 -0.8088 H\\n71 None -7.7944 1.2250 2.1218 H\\n72 None -9.0931 -1.4505 0.8088 H\\n73 None -10.3917 0.7005 -0.8088 H\\n74 None -10.3917 1.2250 2.1218 H\\n75 None -11.6917 -1.4505 0.8088 H\\n76 None -11.6917 -1.9750 -2.1218 H\\n77 None -12.9903 0.7005 -0.8088 H\\n78 None -14.2889 -1.4505 0.8088 H\\n79 None -14.2889 -1.9750 -2.1218 H\\n80 None -15.5899 1.0700 0.0000 H\\n81 None -17.8574 -0.2979 0.0000 H\\n82 None -16.9806 -1.8160 0.0000 H\\n83 None -7.7345 -1.4301 -2.9311 H\\n84 None -7.7345 -2.9483 -2.0545 H\\n85 None -10.0555 -1.9055 -3.6905 H\\n86 None -7.6112 -3.3588 -4.2302 H\\n87 None -8.8000 -2.7660 -5.3653 H\\n88 None -9.0162 -4.3261 -4.6087 H\\n89 None -1.3000 -1.4505 -0.8088 H\\n90 None 0.0148 0.6136 -0.8765 H\\n91 None 0.0148 0.6136 0.8765 H\\n92 None -0.7670 -2.4121 1.1266 H\\n93 None -0.7684 -0.8939 2.0031 H\\n94 None -3.3457 -1.2128 2.2028 H\\n95 None -2.8774 -2.8341 2.2028 H\\n96 None -5.1958 4.6938 4.8115 H\\n97 None -5.1958 7.2577 4.8123 H\\n98 None -5.1958 8.5389 2.5916 H\\n99 None -5.1958 7.2570 0.3721 H\\n100 None -5.1958 4.6946 0.3729 H\\n101 None -4.3193 2.6833 3.1243 H\\n102 None -6.0724 2.6833 3.1243 H\\n103 None -12.9903 -1.0662 2.5931 H\\n104 None -12.9903 0.2157 4.8126 H\\n105 None -12.9903 2.7781 4.8117 H\\n106 None -12.9903 4.0600 2.5931 H\\n107 None -12.9903 2.7788 0.3732 H\\n108 None 1.3044 -1.6553 0.4510 H\\n109 None 5.9957 -1.4961 -2.2188 H\\n110 None 4.5728 -3.0554 0.2072 H\\n111 None 5.4802 -5.2958 1.0653 H\\n112 None 7.9305 -5.9215 0.6706 H\\n113 None 9.4808 -4.3079 -0.5838 H\\n114 None 10.7078 -2.1858 -1.9990 H\\n115 None 11.3333 -0.0406 -3.2521 H\\n116 None 9.5640 1.7742 -3.6486 H\\n117 None 7.1734 1.4413 -2.7919 H\\n118 None 4.7153 -0.1134 -2.3170 H\\n119 None 5.1537 0.6457 -0.7988 H\\n@<TRIPOS>BOND\\n1 1 2 1\\n2 2 3 1\\n3 3 4 1\\n4 4 5 1\\n5 4 6 1\\n6 6 7 1\\n7 6 8 1\\n8 8 9 1\\n9 10 11 1\\n10 10 12 1\\n11 12 13 1\\n12 12 14 1\\n13 14 15 1\\n14 15 16 1\\n15 15 17 1\\n16 17 18 2\\n17 8 10 1\\n18 9 19 1\\n19 19 20 1\\n20 20 21 1\\n21 1 22 1\\n22 22 23 1\\n23 22 24 1\\n24 24 25 1\\n25 33 34 2\\n26 32 33 1\\n27 31 32 2\\n28 30 31 1\\n29 29 30 2\\n30 29 34 1\\n31 29 35 1\\n32 28 35 1\\n33 26 27 2\\n34 26 28 1\\n35 3 26 1\\n36 40 41 2\\n37 39 40 1\\n38 38 39 2\\n39 37 38 1\\n40 36 37 2\\n41 36 41 1\\n42 14 36 1\\n43 42 43 1\\n44 42 44 1\\n45 42 45 1\\n46 20 42 1\\n47 62 63 2\\n48 61 62 1\\n49 60 61 1\\n50 58 59 2\\n51 57 58 1\\n52 56 57 2\\n53 54 55 2\\n54 53 54 1\\n55 52 53 2\\n56 51 52 1\\n57 50 51 1\\n58 50 60 1\\n59 49 50 1\\n60 49 59 1\\n61 48 49 2\\n62 48 56 1\\n63 47 48 1\\n64 47 51 2\\n65 47 55 1\\n66 46 62 1\\n67 23 46 1\\n68 1 64 1\\n69 2 65 1\\n70 2 66 1\\n71 3 67 1\\n72 4 68 1\\n73 5 69 1\\n74 6 70 1\\n75 7 71 1\\n76 8 72 1\\n77 10 73 1\\n78 11 74 1\\n79 12 75 1\\n80 13 76 1\\n81 14 77 1\\n82 15 78 1\\n83 16 79 1\\n84 17 80 1\\n85 18 81 1\\n86 18 82 1\\n87 19 83 1\\n88 19 84 1\\n89 20 85 1\\n90 21 86 1\\n91 21 87 1\\n92 21 88 1\\n93 22 89 1\\n94 23 90 1\\n95 23 91 1\\n96 24 92 1\\n97 24 93 1\\n98 25 94 1\\n99 25 95 1\\n100 30 96 1\\n101 31 97 1\\n102 32 98 1\\n103 33 99 1\\n104 34 100 1\\n105 35 101 1\\n106 35 102 1\\n107 37 103 1\\n108 38 104 1\\n109 39 105 1\\n110 40 106 1\\n111 41 107 1\\n112 46 108 1\\n113 50 109 1\\n114 52 110 1\\n115 53 111 1\\n116 54 112 1\\n117 55 113 1\\n118 56 114 1\\n119 57 115 1\\n120 58 116 1\\n121 59 117 1\\n122 60 118 1\\n123 60 119 1\\n\\n\",\"mol2\");\n",
       "\tviewer_17295271057814808.setStyle({\"stick\": {\"radius\": 0.1}, \"sphere\": {\"scale\": 0.15}});\n",
       "\tviewer_17295271057814808.setHoverable({},true,\"\\n        function(atom,viewer,event,container) {\\n            if(!atom.label) {\\n                atom.label = viewer.addLabel(atom.elem + '(' + atom.index + ')', {position: atom, backgroundColor: 'silver', fontColor:'black'});\\n            }\\n        }\\n        \",\"\\n        function(atom,viewer) { \\n            if(atom.label) {\\n                viewer.removeLabel(atom.label);\\n                delete atom.label;\\n            }\\n        }\\n        \");\n",
       "\tviewer_17295271057814808.zoomTo();\n",
       "\tviewer_17295271057814808.setBackgroundColor(\"white\");\n",
       "viewer_17295271057814808.render();\n",
       "});\n",
       "</script>"
      ]
     },
     "metadata": {},
     "output_type": "display_data"
    },
    {
     "data": {
      "application/3dmoljs_load.v0": "<script>\n            $3Dmolpromise.then(function() { //wrap in promise for non-interactive functionality\n                \n                viewer_17295271057814808.render();\n            });\n            </script>",
      "text/html": [
       "<script>\n",
       "            $3Dmolpromise.then(function() { //wrap in promise for non-interactive functionality\n",
       "                \n",
       "                viewer_17295271057814808.render();\n",
       "            });\n",
       "            </script>"
      ]
     },
     "metadata": {},
     "output_type": "display_data"
    },
    {
     "data": {
      "text/plain": [
       "Molecule(name='high_complexity_1', formula='C47 H56 F3 N3 O10')"
      ]
     },
     "execution_count": 4,
     "metadata": {},
     "output_type": "execute_result"
    }
   ],
   "source": [
    "#Adds implicit hydrogens to Molecule\n",
    "mol.add_implicit_hydrogens()\n",
    "mol"
   ]
  },
  {
   "attachments": {
    "Taxadiene.PNG": {
     "image/png": "[encoded data removed]"
    }
   },
   "cell_type": "markdown",
   "metadata": {},
   "source": [
    "## Reading Label Example\n",
    "\n",
    "One of the most useful features of the CDXML parser is that unique labels can be maintained from the original `CDXML` file. For those that are unaware, it is possible to add your own labels by selecting an atom in the ChemDraw file, clicking the `'` key, then typing your unique label. `molli` maintains whatever label is used and assigns it to the atom once it is read in. This can be leveraged in downstream tasks if certain atoms are important, especially if lists of atoms get instantiated arbitrarily.\n",
    "\n",
    "An example of this will be shown with the molecule below\n",
    "\n",
    "![Taxadiene.PNG](attachment:Taxadiene.PNG)"
   ]
  },
  {
   "cell_type": "code",
   "execution_count": 5,
   "metadata": {},
   "outputs": [
    {
     "data": {
      "application/3dmoljs_load.v0": "<div id=\"3dmolviewer_17295271057966053\"  style=\"position: relative; width: 100%; height: 500px;\">\n        <p id=\"3dmolwarning_17295271057966053\" style=\"background-color:#ffcccc;color:black\">You appear to be running in JupyterLab (or JavaScript failed to load for some other reason).  You need to install the 3dmol extension: <br>\n        <tt>jupyter labextension install jupyterlab_3dmol</tt></p>\n        </div>\n<script>\n\nvar loadScriptAsync = function(uri){\n  return new Promise((resolve, reject) => {\n    //this is to ignore the existence of requirejs amd\n    var savedexports, savedmodule;\n    if (typeof exports !== 'undefined') savedexports = exports;\n    else exports = {}\n    if (typeof module !== 'undefined') savedmodule = module;\n    else module = {}\n\n    var tag = document.createElement('script');\n    tag.src = uri;\n    tag.async = true;\n    tag.onload = () => {\n        exports = savedexports;\n        module = savedmodule;\n        resolve();\n    };\n  var firstScriptTag = document.getElementsByTagName('script')[0];\n  firstScriptTag.parentNode.insertBefore(tag, firstScriptTag);\n});\n};\n\nif(typeof $3Dmolpromise === 'undefined') {\n$3Dmolpromise = null;\n  $3Dmolpromise = loadScriptAsync('https://cdnjs.cloudflare.com/ajax/libs/3Dmol/2.0.4/3Dmol-min.js');\n}\n\nvar viewer_17295271057966053 = null;\nvar warn = document.getElementById(\"3dmolwarning_17295271057966053\");\nif(warn) {\n    warn.parentNode.removeChild(warn);\n}\n$3Dmolpromise.then(function() {\nviewer_17295271057966053 = $3Dmol.createViewer(document.getElementById(\"3dmolviewer_17295271057966053\"),{backgroundColor:\"white\"});\nviewer_17295271057966053.zoomTo();\n\tviewer_17295271057966053.addModel(\"@<TRIPOS>MOLECULE\\ntaxadiene\\n52 54 0 0 0\\nSMALL\\nNO_CHARGES\\n\\n@<TRIPOS>ATOM\\n1 None 2.5597 -1.5611 -1.5000 C\\n2 None 3.6208 -0.5000 -1.5000 C\\n3 None 4.9194 -1.2500 -1.5000 C\\n4 None 4.9194 -2.7500 -1.5000 C\\n5 None 6.2194 -0.5000 -1.5000 C\\n6 None 6.2194 1.0000 -1.5000 C\\n7 None 4.9194 1.7500 -1.5000 C\\n8 None 3.6208 1.0000 -1.5000 C\\n9 None 3.6208 1.0000 0.0003 C\\n10 2 2.5597 2.0611 -1.5000 C\\n11 1 1.0597 2.0611 -1.5000 C\\n12 None 0.0000 1.5000 -0.7500 C\\n13 None -1.3083 0.3444 -1.5000 C\\n14 None -1.9576 0.7194 -0.2013 C\\n15 None -1.4653 -1.1097 -1.5000 C\\n16 None -0.3264 -2.0264 -1.5000 C\\n17 None 1.0597 -1.5611 -1.5000 C\\n18 None 0.0000 0.0000 0.0000 C\\n19 None -0.8140 -1.2599 0.0000 C\\n20 None 1.4487 0.3889 0.0000 C\\n21 None 2.9687 -2.5499 -1.5000 H\\n22 None 5.9283 -3.1067 -1.5000 H\\n23 None 4.4150 -3.1067 -2.3737 H\\n24 None 4.4150 -3.1067 -0.6263 H\\n25 None 6.7511 -0.8067 -0.6235 H\\n26 None 6.7511 -0.8067 -2.3765 H\\n27 None 6.7511 1.3067 -0.6235 H\\n28 None 6.7511 1.3067 -2.3765 H\\n29 None 4.9189 2.3638 -0.6235 H\\n30 None 4.9189 2.3638 -2.3765 H\\n31 None 3.2104 0.0785 0.3570 H\\n32 None 3.0280 1.8162 0.3570 H\\n33 None 4.6241 1.1053 0.3570 H\\n34 None 2.7943 2.6283 -0.6235 H\\n35 None 2.7943 2.6283 -2.3765 H\\n36 None 0.7986 3.0957 -1.4197 H\\n37 None 0.7986 1.6920 -2.4698 H\\n38 None -0.5150 2.2104 -0.1377 H\\n39 None -1.7404 0.8311 -2.3493 H\\n40 None -2.5149 1.6239 -0.3292 H\\n41 None -1.2046 0.8669 0.5445 H\\n42 None -2.6167 -0.0649 0.1075 H\\n43 None -2.0322 -1.3449 -0.6235 H\\n44 None -2.0322 -1.3449 -2.3765 H\\n45 None -0.4345 -2.6305 -0.6235 H\\n46 None -0.4345 -2.6305 -2.3765 H\\n47 None -0.2958 -2.0193 -0.5474 H\\n48 None -1.7616 -1.0723 -0.4601 H\\n49 None -0.9652 -1.5869 1.0075 H\\n50 None 1.8610 0.2288 0.9743 H\\n51 None 1.5405 1.4226 -0.2606 H\\n52 None 1.9780 -0.2072 -0.7137 H\\n@<TRIPOS>BOND\\n1 1 2 1\\n2 2 3 2\\n3 3 4 1\\n4 3 5 1\\n5 5 6 1\\n6 6 7 1\\n7 7 8 1\\n8 2 8 1\\n9 8 9 1\\n10 8 10 1\\n11 10 11 1\\n12 11 12 1\\n13 12 13 1\\n14 13 14 1\\n15 13 15 1\\n16 15 16 1\\n17 16 17 1\\n18 1 17 2\\n19 17 18 1\\n20 12 18 1\\n21 18 19 1\\n22 18 20 1\\n23 1 21 1\\n24 4 22 1\\n25 4 23 1\\n26 4 24 1\\n27 5 25 1\\n28 5 26 1\\n29 6 27 1\\n30 6 28 1\\n31 7 29 1\\n32 7 30 1\\n33 9 31 1\\n34 9 32 1\\n35 9 33 1\\n36 10 34 1\\n37 10 35 1\\n38 11 36 1\\n39 11 37 1\\n40 12 38 1\\n41 13 39 1\\n42 14 40 1\\n43 14 41 1\\n44 14 42 1\\n45 15 43 1\\n46 15 44 1\\n47 16 45 1\\n48 16 46 1\\n49 19 47 1\\n50 19 48 1\\n51 19 49 1\\n52 20 50 1\\n53 20 51 1\\n54 20 52 1\\n\\n\",\"mol2\");\n\tviewer_17295271057966053.setStyle({\"stick\": {\"radius\": 0.1}, \"sphere\": {\"scale\": 0.15}});\n\tviewer_17295271057966053.setHoverable({},true,\"\\n        function(atom,viewer,event,container) {\\n            if(!atom.label) {\\n                atom.label = viewer.addLabel(atom.elem + '(' + atom.index + ')', {position: atom, backgroundColor: 'silver', fontColor:'black'});\\n            }\\n        }\\n        \",\"\\n        function(atom,viewer) { \\n            if(atom.label) {\\n                viewer.removeLabel(atom.label);\\n                delete atom.label;\\n            }\\n        }\\n        \");\n\tviewer_17295271057966053.zoomTo();\n\tviewer_17295271057966053.setBackgroundColor(\"white\");\nviewer_17295271057966053.render();\n});\n</script>",
      "text/html": [
       "<div id=\"3dmolviewer_17295271057966053\"  style=\"position: relative; width: 100%; height: 500px;\">\n",
       "        <p id=\"3dmolwarning_17295271057966053\" style=\"background-color:#ffcccc;color:black\">You appear to be running in JupyterLab (or JavaScript failed to load for some other reason).  You need to install the 3dmol extension: <br>\n",
       "        <tt>jupyter labextension install jupyterlab_3dmol</tt></p>\n",
       "        </div>\n",
       "<script>\n",
       "\n",
       "var loadScriptAsync = function(uri){\n",
       "  return new Promise((resolve, reject) => {\n",
       "    //this is to ignore the existence of requirejs amd\n",
       "    var savedexports, savedmodule;\n",
       "    if (typeof exports !== 'undefined') savedexports = exports;\n",
       "    else exports = {}\n",
       "    if (typeof module !== 'undefined') savedmodule = module;\n",
       "    else module = {}\n",
       "\n",
       "    var tag = document.createElement('script');\n",
       "    tag.src = uri;\n",
       "    tag.async = true;\n",
       "    tag.onload = () => {\n",
       "        exports = savedexports;\n",
       "        module = savedmodule;\n",
       "        resolve();\n",
       "    };\n",
       "  var firstScriptTag = document.getElementsByTagName('script')[0];\n",
       "  firstScriptTag.parentNode.insertBefore(tag, firstScriptTag);\n",
       "});\n",
       "};\n",
       "\n",
       "if(typeof $3Dmolpromise === 'undefined') {\n",
       "$3Dmolpromise = null;\n",
       "  $3Dmolpromise = loadScriptAsync('https://cdnjs.cloudflare.com/ajax/libs/3Dmol/2.0.4/3Dmol-min.js');\n",
       "}\n",
       "\n",
       "var viewer_17295271057966053 = null;\n",
       "var warn = document.getElementById(\"3dmolwarning_17295271057966053\");\n",
       "if(warn) {\n",
       "    warn.parentNode.removeChild(warn);\n",
       "}\n",
       "$3Dmolpromise.then(function() {\n",
       "viewer_17295271057966053 = $3Dmol.createViewer(document.getElementById(\"3dmolviewer_17295271057966053\"),{backgroundColor:\"white\"});\n",
       "viewer_17295271057966053.zoomTo();\n",
       "\tviewer_17295271057966053.addModel(\"@<TRIPOS>MOLECULE\\ntaxadiene\\n52 54 0 0 0\\nSMALL\\nNO_CHARGES\\n\\n@<TRIPOS>ATOM\\n1 None 2.5597 -1.5611 -1.5000 C\\n2 None 3.6208 -0.5000 -1.5000 C\\n3 None 4.9194 -1.2500 -1.5000 C\\n4 None 4.9194 -2.7500 -1.5000 C\\n5 None 6.2194 -0.5000 -1.5000 C\\n6 None 6.2194 1.0000 -1.5000 C\\n7 None 4.9194 1.7500 -1.5000 C\\n8 None 3.6208 1.0000 -1.5000 C\\n9 None 3.6208 1.0000 0.0003 C\\n10 2 2.5597 2.0611 -1.5000 C\\n11 1 1.0597 2.0611 -1.5000 C\\n12 None 0.0000 1.5000 -0.7500 C\\n13 None -1.3083 0.3444 -1.5000 C\\n14 None -1.9576 0.7194 -0.2013 C\\n15 None -1.4653 -1.1097 -1.5000 C\\n16 None -0.3264 -2.0264 -1.5000 C\\n17 None 1.0597 -1.5611 -1.5000 C\\n18 None 0.0000 0.0000 0.0000 C\\n19 None -0.8140 -1.2599 0.0000 C\\n20 None 1.4487 0.3889 0.0000 C\\n21 None 2.9687 -2.5499 -1.5000 H\\n22 None 5.9283 -3.1067 -1.5000 H\\n23 None 4.4150 -3.1067 -2.3737 H\\n24 None 4.4150 -3.1067 -0.6263 H\\n25 None 6.7511 -0.8067 -0.6235 H\\n26 None 6.7511 -0.8067 -2.3765 H\\n27 None 6.7511 1.3067 -0.6235 H\\n28 None 6.7511 1.3067 -2.3765 H\\n29 None 4.9189 2.3638 -0.6235 H\\n30 None 4.9189 2.3638 -2.3765 H\\n31 None 3.2104 0.0785 0.3570 H\\n32 None 3.0280 1.8162 0.3570 H\\n33 None 4.6241 1.1053 0.3570 H\\n34 None 2.7943 2.6283 -0.6235 H\\n35 None 2.7943 2.6283 -2.3765 H\\n36 None 0.7986 3.0957 -1.4197 H\\n37 None 0.7986 1.6920 -2.4698 H\\n38 None -0.5150 2.2104 -0.1377 H\\n39 None -1.7404 0.8311 -2.3493 H\\n40 None -2.5149 1.6239 -0.3292 H\\n41 None -1.2046 0.8669 0.5445 H\\n42 None -2.6167 -0.0649 0.1075 H\\n43 None -2.0322 -1.3449 -0.6235 H\\n44 None -2.0322 -1.3449 -2.3765 H\\n45 None -0.4345 -2.6305 -0.6235 H\\n46 None -0.4345 -2.6305 -2.3765 H\\n47 None -0.2958 -2.0193 -0.5474 H\\n48 None -1.7616 -1.0723 -0.4601 H\\n49 None -0.9652 -1.5869 1.0075 H\\n50 None 1.8610 0.2288 0.9743 H\\n51 None 1.5405 1.4226 -0.2606 H\\n52 None 1.9780 -0.2072 -0.7137 H\\n@<TRIPOS>BOND\\n1 1 2 1\\n2 2 3 2\\n3 3 4 1\\n4 3 5 1\\n5 5 6 1\\n6 6 7 1\\n7 7 8 1\\n8 2 8 1\\n9 8 9 1\\n10 8 10 1\\n11 10 11 1\\n12 11 12 1\\n13 12 13 1\\n14 13 14 1\\n15 13 15 1\\n16 15 16 1\\n17 16 17 1\\n18 1 17 2\\n19 17 18 1\\n20 12 18 1\\n21 18 19 1\\n22 18 20 1\\n23 1 21 1\\n24 4 22 1\\n25 4 23 1\\n26 4 24 1\\n27 5 25 1\\n28 5 26 1\\n29 6 27 1\\n30 6 28 1\\n31 7 29 1\\n32 7 30 1\\n33 9 31 1\\n34 9 32 1\\n35 9 33 1\\n36 10 34 1\\n37 10 35 1\\n38 11 36 1\\n39 11 37 1\\n40 12 38 1\\n41 13 39 1\\n42 14 40 1\\n43 14 41 1\\n44 14 42 1\\n45 15 43 1\\n46 15 44 1\\n47 16 45 1\\n48 16 46 1\\n49 19 47 1\\n50 19 48 1\\n51 19 49 1\\n52 20 50 1\\n53 20 51 1\\n54 20 52 1\\n\\n\",\"mol2\");\n",
       "\tviewer_17295271057966053.setStyle({\"stick\": {\"radius\": 0.1}, \"sphere\": {\"scale\": 0.15}});\n",
       "\tviewer_17295271057966053.setHoverable({},true,\"\\n        function(atom,viewer,event,container) {\\n            if(!atom.label) {\\n                atom.label = viewer.addLabel(atom.elem + '(' + atom.index + ')', {position: atom, backgroundColor: 'silver', fontColor:'black'});\\n            }\\n        }\\n        \",\"\\n        function(atom,viewer) { \\n            if(atom.label) {\\n                viewer.removeLabel(atom.label);\\n                delete atom.label;\\n            }\\n        }\\n        \");\n",
       "\tviewer_17295271057966053.zoomTo();\n",
       "\tviewer_17295271057966053.setBackgroundColor(\"white\");\n",
       "viewer_17295271057966053.render();\n",
       "});\n",
       "</script>"
      ]
     },
     "metadata": {},
     "output_type": "display_data"
    },
    {
     "data": {
      "application/3dmoljs_load.v0": "<script>\n            $3Dmolpromise.then(function() { //wrap in promise for non-interactive functionality\n                \n                viewer_17295271057966053.render();\n            });\n            </script>",
      "text/html": [
       "<script>\n",
       "            $3Dmolpromise.then(function() { //wrap in promise for non-interactive functionality\n",
       "                \n",
       "                viewer_17295271057966053.render();\n",
       "            });\n",
       "            </script>"
      ]
     },
     "metadata": {},
     "output_type": "display_data"
    },
    {
     "data": {
      "text/plain": [
       "Molecule(name='taxadiene', formula='C20 H32')"
      ]
     },
     "execution_count": 5,
     "metadata": {},
     "output_type": "execute_result"
    }
   ],
   "source": [
    "#This accesses the molecule\n",
    "m = cdxf[\"taxadiene\"]\n",
    "\n",
    "#This adds implicit hydrogens\n",
    "m.add_implicit_hydrogens()\n",
    "m"
   ]
  },
  {
   "cell_type": "markdown",
   "metadata": {},
   "source": [
    "This illustrates that regardless of the `Molecule` instantiation, the labels are maintained."
   ]
  },
  {
   "cell_type": "code",
   "execution_count": 6,
   "metadata": {},
   "outputs": [
    {
     "name": "stdout",
     "output_type": "stream",
     "text": [
      "Atom(element=C, isotope=None, label=None, formal_charge=0, formal_spin=0)\n",
      "Atom(element=C, isotope=None, label=None, formal_charge=0, formal_spin=0)\n",
      "Atom(element=C, isotope=None, label=None, formal_charge=0, formal_spin=0)\n",
      "Atom(element=C, isotope=None, label=None, formal_charge=0, formal_spin=0)\n",
      "Atom(element=C, isotope=None, label=None, formal_charge=0, formal_spin=0)\n",
      "Atom(element=C, isotope=None, label=None, formal_charge=0, formal_spin=0)\n",
      "Atom(element=C, isotope=None, label=None, formal_charge=0, formal_spin=0)\n",
      "Atom(element=C, isotope=None, label=None, formal_charge=0, formal_spin=0)\n",
      "Atom(element=C, isotope=None, label=None, formal_charge=0, formal_spin=0)\n",
      "Atom(element=C, isotope=None, label='2', formal_charge=0, formal_spin=0)\n",
      "Atom(element=C, isotope=None, label='1', formal_charge=0, formal_spin=0)\n",
      "Atom(element=C, isotope=None, label=None, formal_charge=0, formal_spin=0)\n",
      "Atom(element=C, isotope=None, label=None, formal_charge=0, formal_spin=0)\n",
      "Atom(element=C, isotope=None, label=None, formal_charge=0, formal_spin=0)\n",
      "Atom(element=C, isotope=None, label=None, formal_charge=0, formal_spin=0)\n",
      "Atom(element=C, isotope=None, label=None, formal_charge=0, formal_spin=0)\n",
      "Atom(element=C, isotope=None, label=None, formal_charge=0, formal_spin=0)\n",
      "Atom(element=C, isotope=None, label=None, formal_charge=0, formal_spin=0)\n",
      "Atom(element=C, isotope=None, label=None, formal_charge=0, formal_spin=0)\n",
      "Atom(element=C, isotope=None, label=None, formal_charge=0, formal_spin=0)\n",
      "Atom(element=H, isotope=None, label=None, formal_charge=0, formal_spin=0)\n",
      "Atom(element=H, isotope=None, label=None, formal_charge=0, formal_spin=0)\n",
      "Atom(element=H, isotope=None, label=None, formal_charge=0, formal_spin=0)\n",
      "Atom(element=H, isotope=None, label=None, formal_charge=0, formal_spin=0)\n",
      "Atom(element=H, isotope=None, label=None, formal_charge=0, formal_spin=0)\n",
      "Atom(element=H, isotope=None, label=None, formal_charge=0, formal_spin=0)\n",
      "Atom(element=H, isotope=None, label=None, formal_charge=0, formal_spin=0)\n",
      "Atom(element=H, isotope=None, label=None, formal_charge=0, formal_spin=0)\n",
      "Atom(element=H, isotope=None, label=None, formal_charge=0, formal_spin=0)\n",
      "Atom(element=H, isotope=None, label=None, formal_charge=0, formal_spin=0)\n",
      "Atom(element=H, isotope=None, label=None, formal_charge=0, formal_spin=0)\n",
      "Atom(element=H, isotope=None, label=None, formal_charge=0, formal_spin=0)\n",
      "Atom(element=H, isotope=None, label=None, formal_charge=0, formal_spin=0)\n",
      "Atom(element=H, isotope=None, label=None, formal_charge=0, formal_spin=0)\n",
      "Atom(element=H, isotope=None, label=None, formal_charge=0, formal_spin=0)\n",
      "Atom(element=H, isotope=None, label=None, formal_charge=0, formal_spin=0)\n",
      "Atom(element=H, isotope=None, label=None, formal_charge=0, formal_spin=0)\n",
      "Atom(element=H, isotope=None, label=None, formal_charge=0, formal_spin=0)\n",
      "Atom(element=H, isotope=None, label=None, formal_charge=0, formal_spin=0)\n",
      "Atom(element=H, isotope=None, label=None, formal_charge=0, formal_spin=0)\n",
      "Atom(element=H, isotope=None, label=None, formal_charge=0, formal_spin=0)\n",
      "Atom(element=H, isotope=None, label=None, formal_charge=0, formal_spin=0)\n",
      "Atom(element=H, isotope=None, label=None, formal_charge=0, formal_spin=0)\n",
      "Atom(element=H, isotope=None, label=None, formal_charge=0, formal_spin=0)\n",
      "Atom(element=H, isotope=None, label=None, formal_charge=0, formal_spin=0)\n",
      "Atom(element=H, isotope=None, label=None, formal_charge=0, formal_spin=0)\n",
      "Atom(element=H, isotope=None, label=None, formal_charge=0, formal_spin=0)\n",
      "Atom(element=H, isotope=None, label=None, formal_charge=0, formal_spin=0)\n",
      "Atom(element=H, isotope=None, label=None, formal_charge=0, formal_spin=0)\n",
      "Atom(element=H, isotope=None, label=None, formal_charge=0, formal_spin=0)\n",
      "Atom(element=H, isotope=None, label=None, formal_charge=0, formal_spin=0)\n",
      "Atom(element=H, isotope=None, label=None, formal_charge=0, formal_spin=0)\n"
     ]
    }
   ],
   "source": [
    "#This prints the full atom, including the labels\n",
    "for atom in m.atoms:\n",
    "    print(atom)\n"
   ]
  },
  {
   "attachments": {
    "AxialChirality.PNG": {
     "image/png": "[encoded data removed]"
    }
   },
   "cell_type": "markdown",
   "metadata": {},
   "source": [
    "## Axial Chirality Example\n",
    "\n",
    "The `molli` CDXML parser also has the ability to parse axial chirality. It moves groups of atoms based on the boldness of certain bonds. This has been tested on a variety of structures, and upon force-field optimization, the structures never invert. Here is an example of an axial chiral structure that can be parsed.\n",
    "\n",
    "![AxialChirality.PNG](attachment:AxialChirality.PNG)"
   ]
  },
  {
   "cell_type": "code",
   "execution_count": 7,
   "metadata": {},
   "outputs": [
    {
     "data": {
      "application/3dmoljs_load.v0": "<div id=\"3dmolviewer_17295271058185933\"  style=\"position: relative; width: 100%; height: 500px;\">\n        <p id=\"3dmolwarning_17295271058185933\" style=\"background-color:#ffcccc;color:black\">You appear to be running in JupyterLab (or JavaScript failed to load for some other reason).  You need to install the 3dmol extension: <br>\n        <tt>jupyter labextension install jupyterlab_3dmol</tt></p>\n        </div>\n<script>\n\nvar loadScriptAsync = function(uri){\n  return new Promise((resolve, reject) => {\n    //this is to ignore the existence of requirejs amd\n    var savedexports, savedmodule;\n    if (typeof exports !== 'undefined') savedexports = exports;\n    else exports = {}\n    if (typeof module !== 'undefined') savedmodule = module;\n    else module = {}\n\n    var tag = document.createElement('script');\n    tag.src = uri;\n    tag.async = true;\n    tag.onload = () => {\n        exports = savedexports;\n        module = savedmodule;\n        resolve();\n    };\n  var firstScriptTag = document.getElementsByTagName('script')[0];\n  firstScriptTag.parentNode.insertBefore(tag, firstScriptTag);\n});\n};\n\nif(typeof $3Dmolpromise === 'undefined') {\n$3Dmolpromise = null;\n  $3Dmolpromise = loadScriptAsync('https://cdnjs.cloudflare.com/ajax/libs/3Dmol/2.0.4/3Dmol-min.js');\n}\n\nvar viewer_17295271058185933 = null;\nvar warn = document.getElementById(\"3dmolwarning_17295271058185933\");\nif(warn) {\n    warn.parentNode.removeChild(warn);\n}\n$3Dmolpromise.then(function() {\nviewer_17295271058185933 = $3Dmol.createViewer(document.getElementById(\"3dmolviewer_17295271058185933\"),{backgroundColor:\"white\"});\nviewer_17295271058185933.zoomTo();\n\tviewer_17295271058185933.addModel(\"@<TRIPOS>MOLECULE\\nr_binol\\n22 25 0 0 0\\nSMALL\\nNO_CHARGES\\n\\n@<TRIPOS>ATOM\\n1 None -2.9524 3.0000 0.0000 C\\n2 None -2.9524 1.5000 0.0000 C\\n3 None -1.6538 0.7500 0.0000 C\\n4 None -0.3538 1.5000 0.0000 C\\n5 None -0.3538 3.0000 0.0000 C\\n6 None -1.6538 3.7500 0.0000 C\\n7 None 0.9448 0.7500 1.0000 C\\n8 None 2.2434 1.5000 2.0000 C\\n9 None 2.2434 3.0000 2.0000 C\\n10 None 0.9448 3.7500 1.0000 C\\n11 None 0.9448 -0.7500 1.0000 C\\n12 None -0.3538 -1.5000 1.0000 C\\n13 None -0.3538 -3.0000 1.0000 C\\n14 None 0.9448 -3.7500 1.0000 C\\n15 None 2.2434 -3.0000 1.0000 C\\n16 None 2.2434 -1.5000 1.0000 C\\n17 None -1.6538 -0.7500 2.0000 C\\n18 None -2.9524 -1.5000 3.0000 C\\n19 None -2.9524 -3.0000 3.0000 C\\n20 None -1.6538 -3.7500 2.0000 C\\n21 None 3.5434 0.7500 2.0000 O\\n22 None 3.5434 -0.7500 1.0000 O\\n@<TRIPOS>BOND\\n1 1 2 2\\n2 2 3 1\\n3 3 4 2\\n4 4 5 1\\n5 5 6 2\\n6 6 1 1\\n7 4 7 1\\n8 7 8 2\\n9 8 9 1\\n10 9 10 2\\n11 10 5 1\\n12 7 11 1\\n13 11 12 2\\n14 12 13 1\\n15 13 14 2\\n16 14 15 1\\n17 15 16 2\\n18 16 11 1\\n19 12 17 1\\n20 17 18 2\\n21 18 19 1\\n22 19 20 2\\n23 20 13 1\\n24 8 21 1\\n25 16 22 1\\n\\n\",\"mol2\");\n\tviewer_17295271058185933.setStyle({\"stick\": {\"radius\": 0.1}, \"sphere\": {\"scale\": 0.15}});\n\tviewer_17295271058185933.setHoverable({},true,\"\\n        function(atom,viewer,event,container) {\\n            if(!atom.label) {\\n                atom.label = viewer.addLabel(atom.elem + '(' + atom.index + ')', {position: atom, backgroundColor: 'silver', fontColor:'black'});\\n            }\\n        }\\n        \",\"\\n        function(atom,viewer) { \\n            if(atom.label) {\\n                viewer.removeLabel(atom.label);\\n                delete atom.label;\\n            }\\n        }\\n        \");\n\tviewer_17295271058185933.zoomTo();\n\tviewer_17295271058185933.setBackgroundColor(\"white\");\nviewer_17295271058185933.render();\n});\n</script>",
      "text/html": [
       "<div id=\"3dmolviewer_17295271058185933\"  style=\"position: relative; width: 100%; height: 500px;\">\n",
       "        <p id=\"3dmolwarning_17295271058185933\" style=\"background-color:#ffcccc;color:black\">You appear to be running in JupyterLab (or JavaScript failed to load for some other reason).  You need to install the 3dmol extension: <br>\n",
       "        <tt>jupyter labextension install jupyterlab_3dmol</tt></p>\n",
       "        </div>\n",
       "<script>\n",
       "\n",
       "var loadScriptAsync = function(uri){\n",
       "  return new Promise((resolve, reject) => {\n",
       "    //this is to ignore the existence of requirejs amd\n",
       "    var savedexports, savedmodule;\n",
       "    if (typeof exports !== 'undefined') savedexports = exports;\n",
       "    else exports = {}\n",
       "    if (typeof module !== 'undefined') savedmodule = module;\n",
       "    else module = {}\n",
       "\n",
       "    var tag = document.createElement('script');\n",
       "    tag.src = uri;\n",
       "    tag.async = true;\n",
       "    tag.onload = () => {\n",
       "        exports = savedexports;\n",
       "        module = savedmodule;\n",
       "        resolve();\n",
       "    };\n",
       "  var firstScriptTag = document.getElementsByTagName('script')[0];\n",
       "  firstScriptTag.parentNode.insertBefore(tag, firstScriptTag);\n",
       "});\n",
       "};\n",
       "\n",
       "if(typeof $3Dmolpromise === 'undefined') {\n",
       "$3Dmolpromise = null;\n",
       "  $3Dmolpromise = loadScriptAsync('https://cdnjs.cloudflare.com/ajax/libs/3Dmol/2.0.4/3Dmol-min.js');\n",
       "}\n",
       "\n",
       "var viewer_17295271058185933 = null;\n",
       "var warn = document.getElementById(\"3dmolwarning_17295271058185933\");\n",
       "if(warn) {\n",
       "    warn.parentNode.removeChild(warn);\n",
       "}\n",
       "$3Dmolpromise.then(function() {\n",
       "viewer_17295271058185933 = $3Dmol.createViewer(document.getElementById(\"3dmolviewer_17295271058185933\"),{backgroundColor:\"white\"});\n",
       "viewer_17295271058185933.zoomTo();\n",
       "\tviewer_17295271058185933.addModel(\"@<TRIPOS>MOLECULE\\nr_binol\\n22 25 0 0 0\\nSMALL\\nNO_CHARGES\\n\\n@<TRIPOS>ATOM\\n1 None -2.9524 3.0000 0.0000 C\\n2 None -2.9524 1.5000 0.0000 C\\n3 None -1.6538 0.7500 0.0000 C\\n4 None -0.3538 1.5000 0.0000 C\\n5 None -0.3538 3.0000 0.0000 C\\n6 None -1.6538 3.7500 0.0000 C\\n7 None 0.9448 0.7500 1.0000 C\\n8 None 2.2434 1.5000 2.0000 C\\n9 None 2.2434 3.0000 2.0000 C\\n10 None 0.9448 3.7500 1.0000 C\\n11 None 0.9448 -0.7500 1.0000 C\\n12 None -0.3538 -1.5000 1.0000 C\\n13 None -0.3538 -3.0000 1.0000 C\\n14 None 0.9448 -3.7500 1.0000 C\\n15 None 2.2434 -3.0000 1.0000 C\\n16 None 2.2434 -1.5000 1.0000 C\\n17 None -1.6538 -0.7500 2.0000 C\\n18 None -2.9524 -1.5000 3.0000 C\\n19 None -2.9524 -3.0000 3.0000 C\\n20 None -1.6538 -3.7500 2.0000 C\\n21 None 3.5434 0.7500 2.0000 O\\n22 None 3.5434 -0.7500 1.0000 O\\n@<TRIPOS>BOND\\n1 1 2 2\\n2 2 3 1\\n3 3 4 2\\n4 4 5 1\\n5 5 6 2\\n6 6 1 1\\n7 4 7 1\\n8 7 8 2\\n9 8 9 1\\n10 9 10 2\\n11 10 5 1\\n12 7 11 1\\n13 11 12 2\\n14 12 13 1\\n15 13 14 2\\n16 14 15 1\\n17 15 16 2\\n18 16 11 1\\n19 12 17 1\\n20 17 18 2\\n21 18 19 1\\n22 19 20 2\\n23 20 13 1\\n24 8 21 1\\n25 16 22 1\\n\\n\",\"mol2\");\n",
       "\tviewer_17295271058185933.setStyle({\"stick\": {\"radius\": 0.1}, \"sphere\": {\"scale\": 0.15}});\n",
       "\tviewer_17295271058185933.setHoverable({},true,\"\\n        function(atom,viewer,event,container) {\\n            if(!atom.label) {\\n                atom.label = viewer.addLabel(atom.elem + '(' + atom.index + ')', {position: atom, backgroundColor: 'silver', fontColor:'black'});\\n            }\\n        }\\n        \",\"\\n        function(atom,viewer) { \\n            if(atom.label) {\\n                viewer.removeLabel(atom.label);\\n                delete atom.label;\\n            }\\n        }\\n        \");\n",
       "\tviewer_17295271058185933.zoomTo();\n",
       "\tviewer_17295271058185933.setBackgroundColor(\"white\");\n",
       "viewer_17295271058185933.render();\n",
       "});\n",
       "</script>"
      ]
     },
     "metadata": {},
     "output_type": "display_data"
    },
    {
     "data": {
      "application/3dmoljs_load.v0": "<script>\n            $3Dmolpromise.then(function() { //wrap in promise for non-interactive functionality\n                \n                viewer_17295271058185933.render();\n            });\n            </script>",
      "text/html": [
       "<script>\n",
       "            $3Dmolpromise.then(function() { //wrap in promise for non-interactive functionality\n",
       "                \n",
       "                viewer_17295271058185933.render();\n",
       "            });\n",
       "            </script>"
      ]
     },
     "metadata": {},
     "output_type": "display_data"
    },
    {
     "data": {
      "text/plain": [
       "Molecule(name='r_binol', formula='C20 O2')"
      ]
     },
     "execution_count": 7,
     "metadata": {},
     "output_type": "execute_result"
    }
   ],
   "source": [
    "# This accesses the molecule\n",
    "m = cdxf['r_binol']\n",
    "m"
   ]
  },
  {
   "attachments": {
    "Taniaphos.PNG": {
     "image/png": "[encoded data removed]"
    }
   },
   "cell_type": "markdown",
   "metadata": {},
   "source": [
    "## Planar Chirality Example\n",
    "\n",
    "`molli` has the ability to parse multi-attachment points and actually maintain a significant amount of information about bonding information that is often difficult to access with the `CDXML` format. The first example illustrates maintaining both planar AND point chirality at the same time.\n",
    "\n",
    "![Taniaphos.PNG](attachment:Taniaphos.PNG)"
   ]
  },
  {
   "cell_type": "code",
   "execution_count": 8,
   "metadata": {},
   "outputs": [
    {
     "data": {
      "application/3dmoljs_load.v0": "<div id=\"3dmolviewer_1729527105844459\"  style=\"position: relative; width: 100%; height: 500px;\">\n        <p id=\"3dmolwarning_1729527105844459\" style=\"background-color:#ffcccc;color:black\">You appear to be running in JupyterLab (or JavaScript failed to load for some other reason).  You need to install the 3dmol extension: <br>\n        <tt>jupyter labextension install jupyterlab_3dmol</tt></p>\n        </div>\n<script>\n\nvar loadScriptAsync = function(uri){\n  return new Promise((resolve, reject) => {\n    //this is to ignore the existence of requirejs amd\n    var savedexports, savedmodule;\n    if (typeof exports !== 'undefined') savedexports = exports;\n    else exports = {}\n    if (typeof module !== 'undefined') savedmodule = module;\n    else module = {}\n\n    var tag = document.createElement('script');\n    tag.src = uri;\n    tag.async = true;\n    tag.onload = () => {\n        exports = savedexports;\n        module = savedmodule;\n        resolve();\n    };\n  var firstScriptTag = document.getElementsByTagName('script')[0];\n  firstScriptTag.parentNode.insertBefore(tag, firstScriptTag);\n});\n};\n\nif(typeof $3Dmolpromise === 'undefined') {\n$3Dmolpromise = null;\n  $3Dmolpromise = loadScriptAsync('https://cdnjs.cloudflare.com/ajax/libs/3Dmol/2.0.4/3Dmol-min.js');\n}\n\nvar viewer_1729527105844459 = null;\nvar warn = document.getElementById(\"3dmolwarning_1729527105844459\");\nif(warn) {\n    warn.parentNode.removeChild(warn);\n}\n$3Dmolpromise.then(function() {\nviewer_1729527105844459 = $3Dmol.createViewer(document.getElementById(\"3dmolviewer_1729527105844459\"),{backgroundColor:\"white\"});\nviewer_1729527105844459.zoomTo();\n\tviewer_1729527105844459.addModel(\"@<TRIPOS>MOLECULE\\nTaniaphos\\n47 61 0 0 0\\nSMALL\\nNO_CHARGES\\n\\n@<TRIPOS>ATOM\\n1 None -6.3861 0.2778 -0.7500 C\\n2 None -6.9319 -0.0042 0.0000 C\\n3 None -5.5097 0.0208 2.2500 C\\n4 None -4.0986 0.0000 0.0000 C\\n5 None -4.6361 0.2653 -0.7500 C\\n6 None -6.8611 -3.0458 0.0000 C\\n7 None -6.3333 -3.6931 1.7500 C\\n8 None -4.5292 -3.7042 1.7500 C\\n9 None -3.9472 -3.0653 0.0000 C\\n10 None -5.3806 -3.1611 -0.7500 C\\n11 None -5.4403 -2.1417 0.7500 Fe\\n12 None -2.7986 -0.7500 0.0000 C\\n13 None 0.0000 0.0000 0.0000 C\\n14 None 0.7500 1.2986 0.0000 C\\n15 None 0.0000 2.5972 0.0000 C\\n16 None -1.5000 2.5972 0.0000 C\\n17 None -2.2500 1.2986 0.0000 C\\n18 None -1.5000 0.0000 0.0000 C\\n19 None -3.0254 1.1955 -0.7500 P\\n20 None -1.8176 0.5987 -1.3971 C\\n21 None -1.9040 -0.7456 -2.0443 C\\n22 None -0.6962 -1.3436 -2.6920 C\\n23 None 0.5982 -0.5949 -2.6914 C\\n24 None 0.6846 0.7494 -2.0443 C\\n25 None -0.5233 1.3462 -1.3971 C\\n26 None -2.9390 2.5398 -0.1029 C\\n27 None -1.6447 3.2885 -0.1023 C\\n28 None -1.5583 4.6328 0.5449 C\\n29 None -2.7662 5.2296 1.1920 C\\n30 None -4.0604 4.4821 1.1920 C\\n31 None -4.1468 3.1378 0.5449 C\\n32 None -2.7986 -1.4800 1.2644 N\\n33 None -2.1507 -2.8255 1.3504 C\\n34 None -3.4458 -0.8835 2.4732 C\\n35 None 0.9295 -1.6111 0.0000 P\\n36 None 0.3314 -2.8190 -0.6476 C\\n37 None -1.0128 -2.7327 -1.2949 C\\n38 None -1.6095 -3.9406 -1.9418 C\\n39 None -0.8621 -5.2350 -1.9415 C\\n40 None 0.4821 -5.3213 -1.2942 C\\n41 None 1.0801 -4.1134 -0.6466 C\\n42 None 2.2737 -1.6975 0.6473 C\\n43 None 3.0211 -2.9918 0.6477 C\\n44 None 4.3653 -3.0781 1.2950 C\\n45 None 4.9634 -1.8702 1.9425 C\\n46 None 4.2159 -0.5759 1.9422 C\\n47 None 2.8717 -0.4896 1.2949 C\\n@<TRIPOS>BOND\\n1 11 1 un\\n2 11 5 un\\n3 11 2 un\\n4 11 4 un\\n5 11 3 un\\n6 1 2 ar\\n7 2 3 ar\\n8 3 4 ar\\n9 4 5 ar\\n10 1 5 ar\\n11 6 7 ar\\n12 7 8 ar\\n13 8 9 ar\\n14 9 10 ar\\n15 6 10 ar\\n16 11 10 un\\n17 11 7 un\\n18 11 9 un\\n19 11 8 un\\n20 11 6 un\\n21 4 12 1\\n22 12 18 1\\n23 13 18 1\\n24 14 13 2\\n25 15 14 1\\n26 16 15 2\\n27 17 16 1\\n28 18 17 2\\n29 30 31 2\\n30 29 30 1\\n31 28 29 2\\n32 27 28 1\\n33 26 27 2\\n34 26 31 1\\n35 24 25 2\\n36 23 24 1\\n37 22 23 2\\n38 21 22 1\\n39 20 21 2\\n40 20 25 1\\n41 19 20 1\\n42 19 26 1\\n43 5 19 1\\n44 32 33 1\\n45 32 34 1\\n46 12 32 1\\n47 46 47 2\\n48 45 46 1\\n49 44 45 2\\n50 43 44 1\\n51 42 43 2\\n52 42 47 1\\n53 40 41 2\\n54 39 40 1\\n55 38 39 2\\n56 37 38 1\\n57 36 37 2\\n58 36 41 1\\n59 35 36 1\\n60 35 42 1\\n61 13 35 1\\n\\n\",\"mol2\");\n\tviewer_1729527105844459.setStyle({\"stick\": {\"radius\": 0.1}, \"sphere\": {\"scale\": 0.15}});\n\tviewer_1729527105844459.setHoverable({},true,\"\\n        function(atom,viewer,event,container) {\\n            if(!atom.label) {\\n                atom.label = viewer.addLabel(atom.elem + '(' + atom.index + ')', {position: atom, backgroundColor: 'silver', fontColor:'black'});\\n            }\\n        }\\n        \",\"\\n        function(atom,viewer) { \\n            if(atom.label) {\\n                viewer.removeLabel(atom.label);\\n                delete atom.label;\\n            }\\n        }\\n        \");\n\tviewer_1729527105844459.zoomTo();\n\tviewer_1729527105844459.setBackgroundColor(\"white\");\nviewer_1729527105844459.render();\n});\n</script>",
      "text/html": [
       "<div id=\"3dmolviewer_1729527105844459\"  style=\"position: relative; width: 100%; height: 500px;\">\n",
       "        <p id=\"3dmolwarning_1729527105844459\" style=\"background-color:#ffcccc;color:black\">You appear to be running in JupyterLab (or JavaScript failed to load for some other reason).  You need to install the 3dmol extension: <br>\n",
       "        <tt>jupyter labextension install jupyterlab_3dmol</tt></p>\n",
       "        </div>\n",
       "<script>\n",
       "\n",
       "var loadScriptAsync = function(uri){\n",
       "  return new Promise((resolve, reject) => {\n",
       "    //this is to ignore the existence of requirejs amd\n",
       "    var savedexports, savedmodule;\n",
       "    if (typeof exports !== 'undefined') savedexports = exports;\n",
       "    else exports = {}\n",
       "    if (typeof module !== 'undefined') savedmodule = module;\n",
       "    else module = {}\n",
       "\n",
       "    var tag = document.createElement('script');\n",
       "    tag.src = uri;\n",
       "    tag.async = true;\n",
       "    tag.onload = () => {\n",
       "        exports = savedexports;\n",
       "        module = savedmodule;\n",
       "        resolve();\n",
       "    };\n",
       "  var firstScriptTag = document.getElementsByTagName('script')[0];\n",
       "  firstScriptTag.parentNode.insertBefore(tag, firstScriptTag);\n",
       "});\n",
       "};\n",
       "\n",
       "if(typeof $3Dmolpromise === 'undefined') {\n",
       "$3Dmolpromise = null;\n",
       "  $3Dmolpromise = loadScriptAsync('https://cdnjs.cloudflare.com/ajax/libs/3Dmol/2.0.4/3Dmol-min.js');\n",
       "}\n",
       "\n",
       "var viewer_1729527105844459 = null;\n",
       "var warn = document.getElementById(\"3dmolwarning_1729527105844459\");\n",
       "if(warn) {\n",
       "    warn.parentNode.removeChild(warn);\n",
       "}\n",
       "$3Dmolpromise.then(function() {\n",
       "viewer_1729527105844459 = $3Dmol.createViewer(document.getElementById(\"3dmolviewer_1729527105844459\"),{backgroundColor:\"white\"});\n",
       "viewer_1729527105844459.zoomTo();\n",
       "\tviewer_1729527105844459.addModel(\"@<TRIPOS>MOLECULE\\nTaniaphos\\n47 61 0 0 0\\nSMALL\\nNO_CHARGES\\n\\n@<TRIPOS>ATOM\\n1 None -6.3861 0.2778 -0.7500 C\\n2 None -6.9319 -0.0042 0.0000 C\\n3 None -5.5097 0.0208 2.2500 C\\n4 None -4.0986 0.0000 0.0000 C\\n5 None -4.6361 0.2653 -0.7500 C\\n6 None -6.8611 -3.0458 0.0000 C\\n7 None -6.3333 -3.6931 1.7500 C\\n8 None -4.5292 -3.7042 1.7500 C\\n9 None -3.9472 -3.0653 0.0000 C\\n10 None -5.3806 -3.1611 -0.7500 C\\n11 None -5.4403 -2.1417 0.7500 Fe\\n12 None -2.7986 -0.7500 0.0000 C\\n13 None 0.0000 0.0000 0.0000 C\\n14 None 0.7500 1.2986 0.0000 C\\n15 None 0.0000 2.5972 0.0000 C\\n16 None -1.5000 2.5972 0.0000 C\\n17 None -2.2500 1.2986 0.0000 C\\n18 None -1.5000 0.0000 0.0000 C\\n19 None -3.0254 1.1955 -0.7500 P\\n20 None -1.8176 0.5987 -1.3971 C\\n21 None -1.9040 -0.7456 -2.0443 C\\n22 None -0.6962 -1.3436 -2.6920 C\\n23 None 0.5982 -0.5949 -2.6914 C\\n24 None 0.6846 0.7494 -2.0443 C\\n25 None -0.5233 1.3462 -1.3971 C\\n26 None -2.9390 2.5398 -0.1029 C\\n27 None -1.6447 3.2885 -0.1023 C\\n28 None -1.5583 4.6328 0.5449 C\\n29 None -2.7662 5.2296 1.1920 C\\n30 None -4.0604 4.4821 1.1920 C\\n31 None -4.1468 3.1378 0.5449 C\\n32 None -2.7986 -1.4800 1.2644 N\\n33 None -2.1507 -2.8255 1.3504 C\\n34 None -3.4458 -0.8835 2.4732 C\\n35 None 0.9295 -1.6111 0.0000 P\\n36 None 0.3314 -2.8190 -0.6476 C\\n37 None -1.0128 -2.7327 -1.2949 C\\n38 None -1.6095 -3.9406 -1.9418 C\\n39 None -0.8621 -5.2350 -1.9415 C\\n40 None 0.4821 -5.3213 -1.2942 C\\n41 None 1.0801 -4.1134 -0.6466 C\\n42 None 2.2737 -1.6975 0.6473 C\\n43 None 3.0211 -2.9918 0.6477 C\\n44 None 4.3653 -3.0781 1.2950 C\\n45 None 4.9634 -1.8702 1.9425 C\\n46 None 4.2159 -0.5759 1.9422 C\\n47 None 2.8717 -0.4896 1.2949 C\\n@<TRIPOS>BOND\\n1 11 1 un\\n2 11 5 un\\n3 11 2 un\\n4 11 4 un\\n5 11 3 un\\n6 1 2 ar\\n7 2 3 ar\\n8 3 4 ar\\n9 4 5 ar\\n10 1 5 ar\\n11 6 7 ar\\n12 7 8 ar\\n13 8 9 ar\\n14 9 10 ar\\n15 6 10 ar\\n16 11 10 un\\n17 11 7 un\\n18 11 9 un\\n19 11 8 un\\n20 11 6 un\\n21 4 12 1\\n22 12 18 1\\n23 13 18 1\\n24 14 13 2\\n25 15 14 1\\n26 16 15 2\\n27 17 16 1\\n28 18 17 2\\n29 30 31 2\\n30 29 30 1\\n31 28 29 2\\n32 27 28 1\\n33 26 27 2\\n34 26 31 1\\n35 24 25 2\\n36 23 24 1\\n37 22 23 2\\n38 21 22 1\\n39 20 21 2\\n40 20 25 1\\n41 19 20 1\\n42 19 26 1\\n43 5 19 1\\n44 32 33 1\\n45 32 34 1\\n46 12 32 1\\n47 46 47 2\\n48 45 46 1\\n49 44 45 2\\n50 43 44 1\\n51 42 43 2\\n52 42 47 1\\n53 40 41 2\\n54 39 40 1\\n55 38 39 2\\n56 37 38 1\\n57 36 37 2\\n58 36 41 1\\n59 35 36 1\\n60 35 42 1\\n61 13 35 1\\n\\n\",\"mol2\");\n",
       "\tviewer_1729527105844459.setStyle({\"stick\": {\"radius\": 0.1}, \"sphere\": {\"scale\": 0.15}});\n",
       "\tviewer_1729527105844459.setHoverable({},true,\"\\n        function(atom,viewer,event,container) {\\n            if(!atom.label) {\\n                atom.label = viewer.addLabel(atom.elem + '(' + atom.index + ')', {position: atom, backgroundColor: 'silver', fontColor:'black'});\\n            }\\n        }\\n        \",\"\\n        function(atom,viewer) { \\n            if(atom.label) {\\n                viewer.removeLabel(atom.label);\\n                delete atom.label;\\n            }\\n        }\\n        \");\n",
       "\tviewer_1729527105844459.zoomTo();\n",
       "\tviewer_1729527105844459.setBackgroundColor(\"white\");\n",
       "viewer_1729527105844459.render();\n",
       "});\n",
       "</script>"
      ]
     },
     "metadata": {},
     "output_type": "display_data"
    },
    {
     "data": {
      "application/3dmoljs_load.v0": "<script>\n            $3Dmolpromise.then(function() { //wrap in promise for non-interactive functionality\n                \n                viewer_1729527105844459.render();\n            });\n            </script>",
      "text/html": [
       "<script>\n",
       "            $3Dmolpromise.then(function() { //wrap in promise for non-interactive functionality\n",
       "                \n",
       "                viewer_1729527105844459.render();\n",
       "            });\n",
       "            </script>"
      ]
     },
     "metadata": {},
     "output_type": "display_data"
    },
    {
     "data": {
      "text/plain": [
       "Molecule(name='Taniaphos', formula='C43 Fe1 N1 P2')"
      ]
     },
     "execution_count": 8,
     "metadata": {},
     "output_type": "execute_result"
    }
   ],
   "source": [
    "#This accesses the structure\n",
    "m = cdxf['Taniaphos']\n",
    "m"
   ]
  },
  {
   "attachments": {
    "BrettPhos.PNG": {
     "image/png": "[encoded data removed]"
    }
   },
   "cell_type": "markdown",
   "metadata": {},
   "source": [
    "Here is an additional structure showing the ability to parse pi-allyl complexes and even non-traditional bonds via a Pd-allyl BrettPhos structure:\n",
    "\n",
    "![BrettPhos.PNG](attachment:BrettPhos.PNG)"
   ]
  },
  {
   "cell_type": "code",
   "execution_count": 9,
   "metadata": {},
   "outputs": [
    {
     "data": {
      "application/3dmoljs_load.v0": "<div id=\"3dmolviewer_17295271058719966\"  style=\"position: relative; width: 100%; height: 500px;\">\n        <p id=\"3dmolwarning_17295271058719966\" style=\"background-color:#ffcccc;color:black\">You appear to be running in JupyterLab (or JavaScript failed to load for some other reason).  You need to install the 3dmol extension: <br>\n        <tt>jupyter labextension install jupyterlab_3dmol</tt></p>\n        </div>\n<script>\n\nvar loadScriptAsync = function(uri){\n  return new Promise((resolve, reject) => {\n    //this is to ignore the existence of requirejs amd\n    var savedexports, savedmodule;\n    if (typeof exports !== 'undefined') savedexports = exports;\n    else exports = {}\n    if (typeof module !== 'undefined') savedmodule = module;\n    else module = {}\n\n    var tag = document.createElement('script');\n    tag.src = uri;\n    tag.async = true;\n    tag.onload = () => {\n        exports = savedexports;\n        module = savedmodule;\n        resolve();\n    };\n  var firstScriptTag = document.getElementsByTagName('script')[0];\n  firstScriptTag.parentNode.insertBefore(tag, firstScriptTag);\n});\n};\n\nif(typeof $3Dmolpromise === 'undefined') {\n$3Dmolpromise = null;\n  $3Dmolpromise = loadScriptAsync('https://cdnjs.cloudflare.com/ajax/libs/3Dmol/2.0.4/3Dmol-min.js');\n}\n\nvar viewer_17295271058719966 = null;\nvar warn = document.getElementById(\"3dmolwarning_17295271058719966\");\nif(warn) {\n    warn.parentNode.removeChild(warn);\n}\n$3Dmolpromise.then(function() {\nviewer_17295271058719966 = $3Dmol.createViewer(document.getElementById(\"3dmolviewer_17295271058719966\"),{backgroundColor:\"white\"});\nviewer_17295271058719966.zoomTo();\n\tviewer_17295271058719966.addModel(\"@<TRIPOS>MOLECULE\\nBrettPhos\\n48 55 0 0 0\\nSMALL\\nNO_CHARGES\\n\\n@<TRIPOS>ATOM\\n1 None -10.4333 0.7722 0.0000 C\\n2 None -10.4333 -0.7278 0.0000 C\\n3 None -9.1347 -1.4778 0.0000 C\\n4 None -7.8361 -0.7278 0.0000 C\\n5 None -7.8361 0.7722 0.0000 C\\n6 None -9.1347 1.5222 0.0000 C\\n7 None -6.5375 -1.4778 0.0000 C\\n8 None -6.5375 1.5222 0.0000 P\\n9 None -6.5375 1.5222 -1.7159 C\\n10 None -6.9368 2.2333 1.2600 C\\n11 None -5.3084 2.2051 -2.2392 C\\n12 None -5.0892 2.3269 -3.7173 C\\n13 None -6.0995 1.7655 -4.6740 C\\n14 None -7.3287 1.0827 -4.1508 C\\n15 None -7.5479 0.9609 -2.6727 C\\n16 None -5.9772 2.3187 2.4093 C\\n17 None -6.3768 3.0293 3.6679 C\\n18 None -7.7359 3.6545 3.7773 C\\n19 None -8.6954 3.5691 2.6280 C\\n20 None -8.2958 2.8585 1.3693 C\\n21 None -6.2875 -2.5458 0.0000 C\\n22 None -4.9889 -3.2958 0.0000 C\\n23 None -3.9389 -2.9778 0.0000 C\\n24 None -4.1875 -1.9083 0.0000 C\\n25 None -5.4875 -1.1583 0.0000 C\\n26 None -4.0958 0.3222 0.0000 Pd\\n27 None -1.8875 1.4500 0.0000 C\\n28 None -0.3875 1.4500 0.0000 C\\n29 None 0.0000 0.0000 0.0000 C\\n30 None -9.8249 2.7172 -0.0000 O\\n31 None -10.7589 3.0406 -1.1209 C\\n32 None -9.1347 -2.8578 0.0000 O\\n33 None -10.4292 -3.6050 -0.0000 C\\n34 None -5.6813 -0.4338 -1.2990 C\\n35 None -6.7159 -0.9049 -2.2702 C\\n36 None -4.8402 0.7579 -1.6208 C\\n37 None -7.0371 -3.8451 0.0000 C\\n38 None -7.4109 -4.4931 -1.2939 C\\n39 None -7.4105 -4.4923 1.2958 C\\n40 None -2.6400 -3.7280 -0.0000 C\\n41 None -1.9947 -4.1006 1.2964 C\\n42 None -1.9916 -4.1024 -1.2933 C\\n43 None 0.7500 -0.0000 1.2990 C\\n44 None 0.1528 0.6472 2.5067 C\\n45 None 0.9000 0.6472 3.8009 C\\n46 None 2.2451 -0.0000 3.8887 C\\n47 None 2.8427 -0.6479 2.6793 C\\n48 None 2.0955 -0.6479 1.3850 C\\n@<TRIPOS>BOND\\n1 1 2 2\\n2 2 3 1\\n3 3 4 2\\n4 4 5 1\\n5 5 6 2\\n6 6 1 1\\n7 4 7 1\\n8 5 8 1\\n9 8 9 1\\n10 8 10 1\\n11 9 11 1\\n12 11 12 1\\n13 12 13 1\\n14 13 14 1\\n15 14 15 1\\n16 15 9 1\\n17 10 16 1\\n18 16 17 1\\n19 17 18 1\\n20 18 19 1\\n21 19 20 1\\n22 20 10 1\\n23 7 21 2\\n24 21 22 1\\n25 22 23 2\\n26 23 24 1\\n27 24 25 2\\n28 25 7 1\\n29 26 8 un\\n30 26 7 un\\n31 27 28 1\\n32 28 29 2\\n33 26 27 un\\n34 26 29 un\\n35 26 28 un\\n36 30 31 1\\n37 6 30 1\\n38 32 33 1\\n39 3 32 1\\n40 34 35 1\\n41 34 36 1\\n42 25 34 1\\n43 37 38 1\\n44 37 39 1\\n45 21 37 1\\n46 40 41 1\\n47 40 42 1\\n48 23 40 1\\n49 47 48 2\\n50 46 47 1\\n51 45 46 2\\n52 44 45 1\\n53 43 44 2\\n54 43 48 1\\n55 29 43 1\\n\\n\",\"mol2\");\n\tviewer_17295271058719966.setStyle({\"stick\": {\"radius\": 0.1}, \"sphere\": {\"scale\": 0.15}});\n\tviewer_17295271058719966.setHoverable({},true,\"\\n        function(atom,viewer,event,container) {\\n            if(!atom.label) {\\n                atom.label = viewer.addLabel(atom.elem + '(' + atom.index + ')', {position: atom, backgroundColor: 'silver', fontColor:'black'});\\n            }\\n        }\\n        \",\"\\n        function(atom,viewer) { \\n            if(atom.label) {\\n                viewer.removeLabel(atom.label);\\n                delete atom.label;\\n            }\\n        }\\n        \");\n\tviewer_17295271058719966.zoomTo();\n\tviewer_17295271058719966.setBackgroundColor(\"white\");\nviewer_17295271058719966.render();\n});\n</script>",
      "text/html": [
       "<div id=\"3dmolviewer_17295271058719966\"  style=\"position: relative; width: 100%; height: 500px;\">\n",
       "        <p id=\"3dmolwarning_17295271058719966\" style=\"background-color:#ffcccc;color:black\">You appear to be running in JupyterLab (or JavaScript failed to load for some other reason).  You need to install the 3dmol extension: <br>\n",
       "        <tt>jupyter labextension install jupyterlab_3dmol</tt></p>\n",
       "        </div>\n",
       "<script>\n",
       "\n",
       "var loadScriptAsync = function(uri){\n",
       "  return new Promise((resolve, reject) => {\n",
       "    //this is to ignore the existence of requirejs amd\n",
       "    var savedexports, savedmodule;\n",
       "    if (typeof exports !== 'undefined') savedexports = exports;\n",
       "    else exports = {}\n",
       "    if (typeof module !== 'undefined') savedmodule = module;\n",
       "    else module = {}\n",
       "\n",
       "    var tag = document.createElement('script');\n",
       "    tag.src = uri;\n",
       "    tag.async = true;\n",
       "    tag.onload = () => {\n",
       "        exports = savedexports;\n",
       "        module = savedmodule;\n",
       "        resolve();\n",
       "    };\n",
       "  var firstScriptTag = document.getElementsByTagName('script')[0];\n",
       "  firstScriptTag.parentNode.insertBefore(tag, firstScriptTag);\n",
       "});\n",
       "};\n",
       "\n",
       "if(typeof $3Dmolpromise === 'undefined') {\n",
       "$3Dmolpromise = null;\n",
       "  $3Dmolpromise = loadScriptAsync('https://cdnjs.cloudflare.com/ajax/libs/3Dmol/2.0.4/3Dmol-min.js');\n",
       "}\n",
       "\n",
       "var viewer_17295271058719966 = null;\n",
       "var warn = document.getElementById(\"3dmolwarning_17295271058719966\");\n",
       "if(warn) {\n",
       "    warn.parentNode.removeChild(warn);\n",
       "}\n",
       "$3Dmolpromise.then(function() {\n",
       "viewer_17295271058719966 = $3Dmol.createViewer(document.getElementById(\"3dmolviewer_17295271058719966\"),{backgroundColor:\"white\"});\n",
       "viewer_17295271058719966.zoomTo();\n",
       "\tviewer_17295271058719966.addModel(\"@<TRIPOS>MOLECULE\\nBrettPhos\\n48 55 0 0 0\\nSMALL\\nNO_CHARGES\\n\\n@<TRIPOS>ATOM\\n1 None -10.4333 0.7722 0.0000 C\\n2 None -10.4333 -0.7278 0.0000 C\\n3 None -9.1347 -1.4778 0.0000 C\\n4 None -7.8361 -0.7278 0.0000 C\\n5 None -7.8361 0.7722 0.0000 C\\n6 None -9.1347 1.5222 0.0000 C\\n7 None -6.5375 -1.4778 0.0000 C\\n8 None -6.5375 1.5222 0.0000 P\\n9 None -6.5375 1.5222 -1.7159 C\\n10 None -6.9368 2.2333 1.2600 C\\n11 None -5.3084 2.2051 -2.2392 C\\n12 None -5.0892 2.3269 -3.7173 C\\n13 None -6.0995 1.7655 -4.6740 C\\n14 None -7.3287 1.0827 -4.1508 C\\n15 None -7.5479 0.9609 -2.6727 C\\n16 None -5.9772 2.3187 2.4093 C\\n17 None -6.3768 3.0293 3.6679 C\\n18 None -7.7359 3.6545 3.7773 C\\n19 None -8.6954 3.5691 2.6280 C\\n20 None -8.2958 2.8585 1.3693 C\\n21 None -6.2875 -2.5458 0.0000 C\\n22 None -4.9889 -3.2958 0.0000 C\\n23 None -3.9389 -2.9778 0.0000 C\\n24 None -4.1875 -1.9083 0.0000 C\\n25 None -5.4875 -1.1583 0.0000 C\\n26 None -4.0958 0.3222 0.0000 Pd\\n27 None -1.8875 1.4500 0.0000 C\\n28 None -0.3875 1.4500 0.0000 C\\n29 None 0.0000 0.0000 0.0000 C\\n30 None -9.8249 2.7172 -0.0000 O\\n31 None -10.7589 3.0406 -1.1209 C\\n32 None -9.1347 -2.8578 0.0000 O\\n33 None -10.4292 -3.6050 -0.0000 C\\n34 None -5.6813 -0.4338 -1.2990 C\\n35 None -6.7159 -0.9049 -2.2702 C\\n36 None -4.8402 0.7579 -1.6208 C\\n37 None -7.0371 -3.8451 0.0000 C\\n38 None -7.4109 -4.4931 -1.2939 C\\n39 None -7.4105 -4.4923 1.2958 C\\n40 None -2.6400 -3.7280 -0.0000 C\\n41 None -1.9947 -4.1006 1.2964 C\\n42 None -1.9916 -4.1024 -1.2933 C\\n43 None 0.7500 -0.0000 1.2990 C\\n44 None 0.1528 0.6472 2.5067 C\\n45 None 0.9000 0.6472 3.8009 C\\n46 None 2.2451 -0.0000 3.8887 C\\n47 None 2.8427 -0.6479 2.6793 C\\n48 None 2.0955 -0.6479 1.3850 C\\n@<TRIPOS>BOND\\n1 1 2 2\\n2 2 3 1\\n3 3 4 2\\n4 4 5 1\\n5 5 6 2\\n6 6 1 1\\n7 4 7 1\\n8 5 8 1\\n9 8 9 1\\n10 8 10 1\\n11 9 11 1\\n12 11 12 1\\n13 12 13 1\\n14 13 14 1\\n15 14 15 1\\n16 15 9 1\\n17 10 16 1\\n18 16 17 1\\n19 17 18 1\\n20 18 19 1\\n21 19 20 1\\n22 20 10 1\\n23 7 21 2\\n24 21 22 1\\n25 22 23 2\\n26 23 24 1\\n27 24 25 2\\n28 25 7 1\\n29 26 8 un\\n30 26 7 un\\n31 27 28 1\\n32 28 29 2\\n33 26 27 un\\n34 26 29 un\\n35 26 28 un\\n36 30 31 1\\n37 6 30 1\\n38 32 33 1\\n39 3 32 1\\n40 34 35 1\\n41 34 36 1\\n42 25 34 1\\n43 37 38 1\\n44 37 39 1\\n45 21 37 1\\n46 40 41 1\\n47 40 42 1\\n48 23 40 1\\n49 47 48 2\\n50 46 47 1\\n51 45 46 2\\n52 44 45 1\\n53 43 44 2\\n54 43 48 1\\n55 29 43 1\\n\\n\",\"mol2\");\n",
       "\tviewer_17295271058719966.setStyle({\"stick\": {\"radius\": 0.1}, \"sphere\": {\"scale\": 0.15}});\n",
       "\tviewer_17295271058719966.setHoverable({},true,\"\\n        function(atom,viewer,event,container) {\\n            if(!atom.label) {\\n                atom.label = viewer.addLabel(atom.elem + '(' + atom.index + ')', {position: atom, backgroundColor: 'silver', fontColor:'black'});\\n            }\\n        }\\n        \",\"\\n        function(atom,viewer) { \\n            if(atom.label) {\\n                viewer.removeLabel(atom.label);\\n                delete atom.label;\\n            }\\n        }\\n        \");\n",
       "\tviewer_17295271058719966.zoomTo();\n",
       "\tviewer_17295271058719966.setBackgroundColor(\"white\");\n",
       "viewer_17295271058719966.render();\n",
       "});\n",
       "</script>"
      ]
     },
     "metadata": {},
     "output_type": "display_data"
    },
    {
     "data": {
      "application/3dmoljs_load.v0": "<script>\n            $3Dmolpromise.then(function() { //wrap in promise for non-interactive functionality\n                \n                viewer_17295271058719966.render();\n            });\n            </script>",
      "text/html": [
       "<script>\n",
       "            $3Dmolpromise.then(function() { //wrap in promise for non-interactive functionality\n",
       "                \n",
       "                viewer_17295271058719966.render();\n",
       "            });\n",
       "            </script>"
      ]
     },
     "metadata": {},
     "output_type": "display_data"
    },
    {
     "data": {
      "text/plain": [
       "Molecule(name='BrettPhos', formula='C44 O2 P1 Pd1')"
      ]
     },
     "execution_count": 9,
     "metadata": {},
     "output_type": "execute_result"
    }
   ],
   "source": [
    "#This accesses the structure\n",
    "m = cdxf['BrettPhos']\n",
    "m"
   ]
  },
  {
   "attachments": {
    "Charge.PNG": {
     "image/png": "[encoded data removed]"
    }
   },
   "cell_type": "markdown",
   "metadata": {},
   "source": [
    "`molli` can understand not only the charges of certain structures, but also the multiplicity of varying structures. This results in a very robust parsing algorithm, where even upon adding implicit hydrogens, it does not add too many. A simple example can be shown utilizing N-Oxide compounds\n",
    "\n",
    "## Charge Example \n",
    "\n",
    "![Charge.PNG](attachment:Charge.PNG)"
   ]
  },
  {
   "cell_type": "code",
   "execution_count": 10,
   "metadata": {},
   "outputs": [
    {
     "name": "stdout",
     "output_type": "stream",
     "text": [
      "The formal charge on Nitrogen = 1\n",
      "The formal charge on Oxygen = -1\n",
      "The charge of the Molecule = 0\n"
     ]
    },
    {
     "data": {
      "application/3dmoljs_load.v0": "<div id=\"3dmolviewer_17295271058851862\"  style=\"position: relative; width: 100%; height: 500px;\">\n        <p id=\"3dmolwarning_17295271058851862\" style=\"background-color:#ffcccc;color:black\">You appear to be running in JupyterLab (or JavaScript failed to load for some other reason).  You need to install the 3dmol extension: <br>\n        <tt>jupyter labextension install jupyterlab_3dmol</tt></p>\n        </div>\n<script>\n\nvar loadScriptAsync = function(uri){\n  return new Promise((resolve, reject) => {\n    //this is to ignore the existence of requirejs amd\n    var savedexports, savedmodule;\n    if (typeof exports !== 'undefined') savedexports = exports;\n    else exports = {}\n    if (typeof module !== 'undefined') savedmodule = module;\n    else module = {}\n\n    var tag = document.createElement('script');\n    tag.src = uri;\n    tag.async = true;\n    tag.onload = () => {\n        exports = savedexports;\n        module = savedmodule;\n        resolve();\n    };\n  var firstScriptTag = document.getElementsByTagName('script')[0];\n  firstScriptTag.parentNode.insertBefore(tag, firstScriptTag);\n});\n};\n\nif(typeof $3Dmolpromise === 'undefined') {\n$3Dmolpromise = null;\n  $3Dmolpromise = loadScriptAsync('https://cdnjs.cloudflare.com/ajax/libs/3Dmol/2.0.4/3Dmol-min.js');\n}\n\nvar viewer_17295271058851862 = null;\nvar warn = document.getElementById(\"3dmolwarning_17295271058851862\");\nif(warn) {\n    warn.parentNode.removeChild(warn);\n}\n$3Dmolpromise.then(function() {\nviewer_17295271058851862 = $3Dmol.createViewer(document.getElementById(\"3dmolviewer_17295271058851862\"),{backgroundColor:\"white\"});\nviewer_17295271058851862.zoomTo();\n\tviewer_17295271058851862.addModel(\"@<TRIPOS>MOLECULE\\na3\\n19 19 0 0 0\\nSMALL\\nNO_CHARGES\\n\\n@<TRIPOS>ATOM\\n1 None -0.6184 1.4584 0.0000 C\\n2 None -0.6184 -0.0416 0.0000 C\\n3 None 0.8075 -0.5048 0.0000 N\\n4 None 1.6898 0.7084 0.0000 C\\n5 None 0.8075 1.9217 0.0000 C\\n6 None 1.2716 -1.9316 0.0000 O\\n7 None -2.1105 -0.1986 0.0000 C\\n8 None -1.2290 -1.4119 0.0000 C\\n9 None -1.1148 1.8194 -0.8765 H\\n10 None -1.1148 1.8194 0.8765 H\\n11 None 2.7598 0.7084 0.0000 H\\n12 None 0.9967 2.5055 0.8765 H\\n13 None 0.9967 2.5055 -0.8765 H\\n14 None -2.4541 -0.3410 -1.0033 H\\n15 None -2.5617 0.6806 0.4102 H\\n16 None -2.3798 -1.0475 0.5931 H\\n17 None -0.5325 -2.1127 -0.4106 H\\n18 None -2.1198 -1.4054 -0.5927 H\\n19 None -1.4702 -1.6949 1.0033 H\\n@<TRIPOS>BOND\\n1 1 2 1\\n2 2 3 1\\n3 3 4 2\\n4 4 5 1\\n5 5 1 1\\n6 3 6 1\\n7 2 7 1\\n8 2 8 1\\n9 1 9 1\\n10 1 10 1\\n11 4 11 1\\n12 5 12 1\\n13 5 13 1\\n14 7 14 1\\n15 7 15 1\\n16 7 16 1\\n17 8 17 1\\n18 8 18 1\\n19 8 19 1\\n\\n\",\"mol2\");\n\tviewer_17295271058851862.setStyle({\"stick\": {\"radius\": 0.1}, \"sphere\": {\"scale\": 0.15}});\n\tviewer_17295271058851862.setHoverable({},true,\"\\n        function(atom,viewer,event,container) {\\n            if(!atom.label) {\\n                atom.label = viewer.addLabel(atom.elem + '(' + atom.index + ')', {position: atom, backgroundColor: 'silver', fontColor:'black'});\\n            }\\n        }\\n        \",\"\\n        function(atom,viewer) { \\n            if(atom.label) {\\n                viewer.removeLabel(atom.label);\\n                delete atom.label;\\n            }\\n        }\\n        \");\n\tviewer_17295271058851862.zoomTo();\n\tviewer_17295271058851862.setBackgroundColor(\"white\");\nviewer_17295271058851862.render();\n});\n</script>",
      "text/html": [
       "<div id=\"3dmolviewer_17295271058851862\"  style=\"position: relative; width: 100%; height: 500px;\">\n",
       "        <p id=\"3dmolwarning_17295271058851862\" style=\"background-color:#ffcccc;color:black\">You appear to be running in JupyterLab (or JavaScript failed to load for some other reason).  You need to install the 3dmol extension: <br>\n",
       "        <tt>jupyter labextension install jupyterlab_3dmol</tt></p>\n",
       "        </div>\n",
       "<script>\n",
       "\n",
       "var loadScriptAsync = function(uri){\n",
       "  return new Promise((resolve, reject) => {\n",
       "    //this is to ignore the existence of requirejs amd\n",
       "    var savedexports, savedmodule;\n",
       "    if (typeof exports !== 'undefined') savedexports = exports;\n",
       "    else exports = {}\n",
       "    if (typeof module !== 'undefined') savedmodule = module;\n",
       "    else module = {}\n",
       "\n",
       "    var tag = document.createElement('script');\n",
       "    tag.src = uri;\n",
       "    tag.async = true;\n",
       "    tag.onload = () => {\n",
       "        exports = savedexports;\n",
       "        module = savedmodule;\n",
       "        resolve();\n",
       "    };\n",
       "  var firstScriptTag = document.getElementsByTagName('script')[0];\n",
       "  firstScriptTag.parentNode.insertBefore(tag, firstScriptTag);\n",
       "});\n",
       "};\n",
       "\n",
       "if(typeof $3Dmolpromise === 'undefined') {\n",
       "$3Dmolpromise = null;\n",
       "  $3Dmolpromise = loadScriptAsync('https://cdnjs.cloudflare.com/ajax/libs/3Dmol/2.0.4/3Dmol-min.js');\n",
       "}\n",
       "\n",
       "var viewer_17295271058851862 = null;\n",
       "var warn = document.getElementById(\"3dmolwarning_17295271058851862\");\n",
       "if(warn) {\n",
       "    warn.parentNode.removeChild(warn);\n",
       "}\n",
       "$3Dmolpromise.then(function() {\n",
       "viewer_17295271058851862 = $3Dmol.createViewer(document.getElementById(\"3dmolviewer_17295271058851862\"),{backgroundColor:\"white\"});\n",
       "viewer_17295271058851862.zoomTo();\n",
       "\tviewer_17295271058851862.addModel(\"@<TRIPOS>MOLECULE\\na3\\n19 19 0 0 0\\nSMALL\\nNO_CHARGES\\n\\n@<TRIPOS>ATOM\\n1 None -0.6184 1.4584 0.0000 C\\n2 None -0.6184 -0.0416 0.0000 C\\n3 None 0.8075 -0.5048 0.0000 N\\n4 None 1.6898 0.7084 0.0000 C\\n5 None 0.8075 1.9217 0.0000 C\\n6 None 1.2716 -1.9316 0.0000 O\\n7 None -2.1105 -0.1986 0.0000 C\\n8 None -1.2290 -1.4119 0.0000 C\\n9 None -1.1148 1.8194 -0.8765 H\\n10 None -1.1148 1.8194 0.8765 H\\n11 None 2.7598 0.7084 0.0000 H\\n12 None 0.9967 2.5055 0.8765 H\\n13 None 0.9967 2.5055 -0.8765 H\\n14 None -2.4541 -0.3410 -1.0033 H\\n15 None -2.5617 0.6806 0.4102 H\\n16 None -2.3798 -1.0475 0.5931 H\\n17 None -0.5325 -2.1127 -0.4106 H\\n18 None -2.1198 -1.4054 -0.5927 H\\n19 None -1.4702 -1.6949 1.0033 H\\n@<TRIPOS>BOND\\n1 1 2 1\\n2 2 3 1\\n3 3 4 2\\n4 4 5 1\\n5 5 1 1\\n6 3 6 1\\n7 2 7 1\\n8 2 8 1\\n9 1 9 1\\n10 1 10 1\\n11 4 11 1\\n12 5 12 1\\n13 5 13 1\\n14 7 14 1\\n15 7 15 1\\n16 7 16 1\\n17 8 17 1\\n18 8 18 1\\n19 8 19 1\\n\\n\",\"mol2\");\n",
       "\tviewer_17295271058851862.setStyle({\"stick\": {\"radius\": 0.1}, \"sphere\": {\"scale\": 0.15}});\n",
       "\tviewer_17295271058851862.setHoverable({},true,\"\\n        function(atom,viewer,event,container) {\\n            if(!atom.label) {\\n                atom.label = viewer.addLabel(atom.elem + '(' + atom.index + ')', {position: atom, backgroundColor: 'silver', fontColor:'black'});\\n            }\\n        }\\n        \",\"\\n        function(atom,viewer) { \\n            if(atom.label) {\\n                viewer.removeLabel(atom.label);\\n                delete atom.label;\\n            }\\n        }\\n        \");\n",
       "\tviewer_17295271058851862.zoomTo();\n",
       "\tviewer_17295271058851862.setBackgroundColor(\"white\");\n",
       "viewer_17295271058851862.render();\n",
       "});\n",
       "</script>"
      ]
     },
     "metadata": {},
     "output_type": "display_data"
    },
    {
     "data": {
      "application/3dmoljs_load.v0": "<script>\n            $3Dmolpromise.then(function() { //wrap in promise for non-interactive functionality\n                \n                viewer_17295271058851862.render();\n            });\n            </script>",
      "text/html": [
       "<script>\n",
       "            $3Dmolpromise.then(function() { //wrap in promise for non-interactive functionality\n",
       "                \n",
       "                viewer_17295271058851862.render();\n",
       "            });\n",
       "            </script>"
      ]
     },
     "metadata": {},
     "output_type": "display_data"
    },
    {
     "data": {
      "text/plain": [
       "Molecule(name='a3', formula='C6 H11 N1 O1')"
      ]
     },
     "execution_count": 10,
     "metadata": {},
     "output_type": "execute_result"
    }
   ],
   "source": [
    "# This reads the cdxml file\n",
    "cdxf2 = ml.CDXMLFile(ml.files.charges_mult_cdxml)\n",
    "\n",
    "#This accesses the structure\n",
    "m = cdxf2['a3']\n",
    "\n",
    "#This finds the nitrogen\n",
    "nitrogen = m.get_atom(ml.Element.N)\n",
    "\n",
    "#This finds the oxygen\n",
    "oxygen = m.get_atom(ml.Element.O)\n",
    "\n",
    "print(f'The formal charge on Nitrogen = {nitrogen.formal_charge}')\n",
    "print(f'The formal charge on Oxygen = {oxygen.formal_charge}')\n",
    "print(f'The charge of the Molecule = {m.charge}')\n",
    "\n",
    "\n",
    "#This adds the implicit hydrogens\n",
    "m.add_implicit_hydrogens()\n",
    "m"
   ]
  },
  {
   "attachments": {
    "chargemult.PNG": {
     "image/png": "[encoded data removed]"
    }
   },
   "cell_type": "markdown",
   "metadata": {},
   "source": [
    "## Charge and Multiplicity Example \n",
    "\n",
    "Since `molli` can parse the electrons drawn on an atom, it can perceive if hydrogens are necessary upon addition of implicit hydrogens\n",
    "\n",
    "![chargemult.PNG](attachment:chargemult.PNG)"
   ]
  },
  {
   "cell_type": "code",
   "execution_count": 11,
   "metadata": {},
   "outputs": [
    {
     "name": "stdout",
     "output_type": "stream",
     "text": [
      "The formal charge on Nitrogen = 1, The formal spin on Nitrogen = 1\n",
      "The charge of the Molecule = 1, The multiplicity of the Molecule = 2 \n"
     ]
    },
    {
     "data": {
      "application/3dmoljs_load.v0": "<div id=\"3dmolviewer_17295271058988972\"  style=\"position: relative; width: 100%; height: 500px;\">\n        <p id=\"3dmolwarning_17295271058988972\" style=\"background-color:#ffcccc;color:black\">You appear to be running in JupyterLab (or JavaScript failed to load for some other reason).  You need to install the 3dmol extension: <br>\n        <tt>jupyter labextension install jupyterlab_3dmol</tt></p>\n        </div>\n<script>\n\nvar loadScriptAsync = function(uri){\n  return new Promise((resolve, reject) => {\n    //this is to ignore the existence of requirejs amd\n    var savedexports, savedmodule;\n    if (typeof exports !== 'undefined') savedexports = exports;\n    else exports = {}\n    if (typeof module !== 'undefined') savedmodule = module;\n    else module = {}\n\n    var tag = document.createElement('script');\n    tag.src = uri;\n    tag.async = true;\n    tag.onload = () => {\n        exports = savedexports;\n        module = savedmodule;\n        resolve();\n    };\n  var firstScriptTag = document.getElementsByTagName('script')[0];\n  firstScriptTag.parentNode.insertBefore(tag, firstScriptTag);\n});\n};\n\nif(typeof $3Dmolpromise === 'undefined') {\n$3Dmolpromise = null;\n  $3Dmolpromise = loadScriptAsync('https://cdnjs.cloudflare.com/ajax/libs/3Dmol/2.0.4/3Dmol-min.js');\n}\n\nvar viewer_17295271058988972 = null;\nvar warn = document.getElementById(\"3dmolwarning_17295271058988972\");\nif(warn) {\n    warn.parentNode.removeChild(warn);\n}\n$3Dmolpromise.then(function() {\nviewer_17295271058988972 = $3Dmol.createViewer(document.getElementById(\"3dmolviewer_17295271058988972\"),{backgroundColor:\"white\"});\nviewer_17295271058988972.zoomTo();\n\tviewer_17295271058988972.addModel(\"@<TRIPOS>MOLECULE\\na6\\n28 27 0 0 0\\nSMALL\\nNO_CHARGES\\n\\n@<TRIPOS>ATOM\\n1 None -0.1440 -0.2500 0.0000 N\\n2 None 1.1548 0.5000 0.0000 C\\n3 None -1.4437 0.5000 0.0000 C\\n4 None -2.7425 -0.2500 0.0000 C\\n5 None -1.4437 2.0000 0.0000 C\\n6 None 2.4536 -0.2500 0.0000 C\\n7 None 1.1548 2.0000 0.0000 C\\n8 None -0.1440 -1.7500 0.0000 C\\n9 None 1.1548 -2.5000 0.0000 C\\n10 None 1.1548 0.5000 -1.0700 H\\n11 None -1.4437 0.5000 -1.0700 H\\n12 None -2.7992 -0.8652 -0.8736 H\\n13 None -3.5559 0.4453 -0.0001 H\\n14 None -2.7992 -0.8651 0.8737 H\\n15 None -0.4349 2.3567 0.0000 H\\n16 None -1.9481 2.3567 0.8737 H\\n17 None -1.9481 2.3567 -0.8737 H\\n18 None 3.0148 0.0085 0.8736 H\\n19 None 3.0147 0.0084 -0.8737 H\\n20 None 2.2580 -1.3020 0.0001 H\\n21 None 2.1636 2.3567 0.0000 H\\n22 None 0.6504 2.3567 0.8737 H\\n23 None 0.6504 2.3567 -0.8737 H\\n24 None -0.6755 -2.0569 0.8765 H\\n25 None -0.6755 -2.0569 -0.8765 H\\n26 None 1.7159 -2.2415 0.8736 H\\n27 None 1.7159 -2.2416 -0.8737 H\\n28 None 0.9592 -3.5520 0.0001 H\\n@<TRIPOS>BOND\\n1 1 2 1\\n2 1 3 1\\n3 3 4 1\\n4 3 5 1\\n5 2 6 1\\n6 2 7 1\\n7 1 8 1\\n8 8 9 1\\n9 2 10 1\\n10 3 11 1\\n11 4 12 1\\n12 4 13 1\\n13 4 14 1\\n14 5 15 1\\n15 5 16 1\\n16 5 17 1\\n17 6 18 1\\n18 6 19 1\\n19 6 20 1\\n20 7 21 1\\n21 7 22 1\\n22 7 23 1\\n23 8 24 1\\n24 8 25 1\\n25 9 26 1\\n26 9 27 1\\n27 9 28 1\\n\\n\",\"mol2\");\n\tviewer_17295271058988972.setStyle({\"stick\": {\"radius\": 0.1}, \"sphere\": {\"scale\": 0.15}});\n\tviewer_17295271058988972.setHoverable({},true,\"\\n        function(atom,viewer,event,container) {\\n            if(!atom.label) {\\n                atom.label = viewer.addLabel(atom.elem + '(' + atom.index + ')', {position: atom, backgroundColor: 'silver', fontColor:'black'});\\n            }\\n        }\\n        \",\"\\n        function(atom,viewer) { \\n            if(atom.label) {\\n                viewer.removeLabel(atom.label);\\n                delete atom.label;\\n            }\\n        }\\n        \");\n\tviewer_17295271058988972.zoomTo();\n\tviewer_17295271058988972.setBackgroundColor(\"white\");\nviewer_17295271058988972.render();\n});\n</script>",
      "text/html": [
       "<div id=\"3dmolviewer_17295271058988972\"  style=\"position: relative; width: 100%; height: 500px;\">\n",
       "        <p id=\"3dmolwarning_17295271058988972\" style=\"background-color:#ffcccc;color:black\">You appear to be running in JupyterLab (or JavaScript failed to load for some other reason).  You need to install the 3dmol extension: <br>\n",
       "        <tt>jupyter labextension install jupyterlab_3dmol</tt></p>\n",
       "        </div>\n",
       "<script>\n",
       "\n",
       "var loadScriptAsync = function(uri){\n",
       "  return new Promise((resolve, reject) => {\n",
       "    //this is to ignore the existence of requirejs amd\n",
       "    var savedexports, savedmodule;\n",
       "    if (typeof exports !== 'undefined') savedexports = exports;\n",
       "    else exports = {}\n",
       "    if (typeof module !== 'undefined') savedmodule = module;\n",
       "    else module = {}\n",
       "\n",
       "    var tag = document.createElement('script');\n",
       "    tag.src = uri;\n",
       "    tag.async = true;\n",
       "    tag.onload = () => {\n",
       "        exports = savedexports;\n",
       "        module = savedmodule;\n",
       "        resolve();\n",
       "    };\n",
       "  var firstScriptTag = document.getElementsByTagName('script')[0];\n",
       "  firstScriptTag.parentNode.insertBefore(tag, firstScriptTag);\n",
       "});\n",
       "};\n",
       "\n",
       "if(typeof $3Dmolpromise === 'undefined') {\n",
       "$3Dmolpromise = null;\n",
       "  $3Dmolpromise = loadScriptAsync('https://cdnjs.cloudflare.com/ajax/libs/3Dmol/2.0.4/3Dmol-min.js');\n",
       "}\n",
       "\n",
       "var viewer_17295271058988972 = null;\n",
       "var warn = document.getElementById(\"3dmolwarning_17295271058988972\");\n",
       "if(warn) {\n",
       "    warn.parentNode.removeChild(warn);\n",
       "}\n",
       "$3Dmolpromise.then(function() {\n",
       "viewer_17295271058988972 = $3Dmol.createViewer(document.getElementById(\"3dmolviewer_17295271058988972\"),{backgroundColor:\"white\"});\n",
       "viewer_17295271058988972.zoomTo();\n",
       "\tviewer_17295271058988972.addModel(\"@<TRIPOS>MOLECULE\\na6\\n28 27 0 0 0\\nSMALL\\nNO_CHARGES\\n\\n@<TRIPOS>ATOM\\n1 None -0.1440 -0.2500 0.0000 N\\n2 None 1.1548 0.5000 0.0000 C\\n3 None -1.4437 0.5000 0.0000 C\\n4 None -2.7425 -0.2500 0.0000 C\\n5 None -1.4437 2.0000 0.0000 C\\n6 None 2.4536 -0.2500 0.0000 C\\n7 None 1.1548 2.0000 0.0000 C\\n8 None -0.1440 -1.7500 0.0000 C\\n9 None 1.1548 -2.5000 0.0000 C\\n10 None 1.1548 0.5000 -1.0700 H\\n11 None -1.4437 0.5000 -1.0700 H\\n12 None -2.7992 -0.8652 -0.8736 H\\n13 None -3.5559 0.4453 -0.0001 H\\n14 None -2.7992 -0.8651 0.8737 H\\n15 None -0.4349 2.3567 0.0000 H\\n16 None -1.9481 2.3567 0.8737 H\\n17 None -1.9481 2.3567 -0.8737 H\\n18 None 3.0148 0.0085 0.8736 H\\n19 None 3.0147 0.0084 -0.8737 H\\n20 None 2.2580 -1.3020 0.0001 H\\n21 None 2.1636 2.3567 0.0000 H\\n22 None 0.6504 2.3567 0.8737 H\\n23 None 0.6504 2.3567 -0.8737 H\\n24 None -0.6755 -2.0569 0.8765 H\\n25 None -0.6755 -2.0569 -0.8765 H\\n26 None 1.7159 -2.2415 0.8736 H\\n27 None 1.7159 -2.2416 -0.8737 H\\n28 None 0.9592 -3.5520 0.0001 H\\n@<TRIPOS>BOND\\n1 1 2 1\\n2 1 3 1\\n3 3 4 1\\n4 3 5 1\\n5 2 6 1\\n6 2 7 1\\n7 1 8 1\\n8 8 9 1\\n9 2 10 1\\n10 3 11 1\\n11 4 12 1\\n12 4 13 1\\n13 4 14 1\\n14 5 15 1\\n15 5 16 1\\n16 5 17 1\\n17 6 18 1\\n18 6 19 1\\n19 6 20 1\\n20 7 21 1\\n21 7 22 1\\n22 7 23 1\\n23 8 24 1\\n24 8 25 1\\n25 9 26 1\\n26 9 27 1\\n27 9 28 1\\n\\n\",\"mol2\");\n",
       "\tviewer_17295271058988972.setStyle({\"stick\": {\"radius\": 0.1}, \"sphere\": {\"scale\": 0.15}});\n",
       "\tviewer_17295271058988972.setHoverable({},true,\"\\n        function(atom,viewer,event,container) {\\n            if(!atom.label) {\\n                atom.label = viewer.addLabel(atom.elem + '(' + atom.index + ')', {position: atom, backgroundColor: 'silver', fontColor:'black'});\\n            }\\n        }\\n        \",\"\\n        function(atom,viewer) { \\n            if(atom.label) {\\n                viewer.removeLabel(atom.label);\\n                delete atom.label;\\n            }\\n        }\\n        \");\n",
       "\tviewer_17295271058988972.zoomTo();\n",
       "\tviewer_17295271058988972.setBackgroundColor(\"white\");\n",
       "viewer_17295271058988972.render();\n",
       "});\n",
       "</script>"
      ]
     },
     "metadata": {},
     "output_type": "display_data"
    },
    {
     "data": {
      "application/3dmoljs_load.v0": "<script>\n            $3Dmolpromise.then(function() { //wrap in promise for non-interactive functionality\n                \n                viewer_17295271058988972.render();\n            });\n            </script>",
      "text/html": [
       "<script>\n",
       "            $3Dmolpromise.then(function() { //wrap in promise for non-interactive functionality\n",
       "                \n",
       "                viewer_17295271058988972.render();\n",
       "            });\n",
       "            </script>"
      ]
     },
     "metadata": {},
     "output_type": "display_data"
    },
    {
     "data": {
      "text/plain": [
       "Molecule(name='a6', formula='C8 H19 N1')"
      ]
     },
     "execution_count": 11,
     "metadata": {},
     "output_type": "execute_result"
    }
   ],
   "source": [
    "#This accesses the structure\n",
    "m = cdxf2['a6']\n",
    "\n",
    "#This finds the nitrogen\n",
    "nitrogen = m.get_atom(ml.Element.N)\n",
    "print(f'The formal charge on Nitrogen = {nitrogen.formal_charge}, The formal spin on Nitrogen = {nitrogen.formal_spin}')\n",
    "print(f'The charge of the Molecule = {m.charge}, The multiplicity of the Molecule = {m.mult} ')\n",
    "\n",
    "#This adds the implicit hydrogens\n",
    "m.add_implicit_hydrogens()\n",
    "m"
   ]
  },
  {
   "attachments": {
    "Mult.PNG": {
     "image/png": "[encoded data removed]"
    }
   },
   "cell_type": "markdown",
   "metadata": {},
   "source": [
    "## Multiplicity Example\n",
    "\n",
    "![Mult.PNG](attachment:Mult.PNG)"
   ]
  },
  {
   "cell_type": "code",
   "execution_count": 12,
   "metadata": {},
   "outputs": [
    {
     "name": "stdout",
     "output_type": "stream",
     "text": [
      "The formal charge on Carbon = 0, The formal spin on Carbon = 2\n",
      "The charge of the Molecule = 0, The multiplicity of the Molecule = 3 \n"
     ]
    },
    {
     "data": {
      "application/3dmoljs_load.v0": "<div id=\"3dmolviewer_17295271059157734\"  style=\"position: relative; width: 100%; height: 500px;\">\n        <p id=\"3dmolwarning_17295271059157734\" style=\"background-color:#ffcccc;color:black\">You appear to be running in JupyterLab (or JavaScript failed to load for some other reason).  You need to install the 3dmol extension: <br>\n        <tt>jupyter labextension install jupyterlab_3dmol</tt></p>\n        </div>\n<script>\n\nvar loadScriptAsync = function(uri){\n  return new Promise((resolve, reject) => {\n    //this is to ignore the existence of requirejs amd\n    var savedexports, savedmodule;\n    if (typeof exports !== 'undefined') savedexports = exports;\n    else exports = {}\n    if (typeof module !== 'undefined') savedmodule = module;\n    else module = {}\n\n    var tag = document.createElement('script');\n    tag.src = uri;\n    tag.async = true;\n    tag.onload = () => {\n        exports = savedexports;\n        module = savedmodule;\n        resolve();\n    };\n  var firstScriptTag = document.getElementsByTagName('script')[0];\n  firstScriptTag.parentNode.insertBefore(tag, firstScriptTag);\n});\n};\n\nif(typeof $3Dmolpromise === 'undefined') {\n$3Dmolpromise = null;\n  $3Dmolpromise = loadScriptAsync('https://cdnjs.cloudflare.com/ajax/libs/3Dmol/2.0.4/3Dmol-min.js');\n}\n\nvar viewer_17295271059157734 = null;\nvar warn = document.getElementById(\"3dmolwarning_17295271059157734\");\nif(warn) {\n    warn.parentNode.removeChild(warn);\n}\n$3Dmolpromise.then(function() {\nviewer_17295271059157734 = $3Dmol.createViewer(document.getElementById(\"3dmolviewer_17295271059157734\"),{backgroundColor:\"white\"});\nviewer_17295271059157734.zoomTo();\n\tviewer_17295271059157734.addModel(\"@<TRIPOS>MOLECULE\\na8\\n3 2 0 0 0\\nSMALL\\nNO_CHARGES\\n\\n@<TRIPOS>ATOM\\n1 None -1.2988 -0.2500 0.0000 Cl\\n2 None 0.0000 0.5000 0.0000 C\\n3 None 1.2988 -0.2500 0.0000 Cl\\n@<TRIPOS>BOND\\n1 1 2 1\\n2 2 3 1\\n\\n\",\"mol2\");\n\tviewer_17295271059157734.setStyle({\"stick\": {\"radius\": 0.1}, \"sphere\": {\"scale\": 0.15}});\n\tviewer_17295271059157734.setHoverable({},true,\"\\n        function(atom,viewer,event,container) {\\n            if(!atom.label) {\\n                atom.label = viewer.addLabel(atom.elem + '(' + atom.index + ')', {position: atom, backgroundColor: 'silver', fontColor:'black'});\\n            }\\n        }\\n        \",\"\\n        function(atom,viewer) { \\n            if(atom.label) {\\n                viewer.removeLabel(atom.label);\\n                delete atom.label;\\n            }\\n        }\\n        \");\n\tviewer_17295271059157734.zoomTo();\n\tviewer_17295271059157734.setBackgroundColor(\"white\");\nviewer_17295271059157734.render();\n});\n</script>",
      "text/html": [
       "<div id=\"3dmolviewer_17295271059157734\"  style=\"position: relative; width: 100%; height: 500px;\">\n",
       "        <p id=\"3dmolwarning_17295271059157734\" style=\"background-color:#ffcccc;color:black\">You appear to be running in JupyterLab (or JavaScript failed to load for some other reason).  You need to install the 3dmol extension: <br>\n",
       "        <tt>jupyter labextension install jupyterlab_3dmol</tt></p>\n",
       "        </div>\n",
       "<script>\n",
       "\n",
       "var loadScriptAsync = function(uri){\n",
       "  return new Promise((resolve, reject) => {\n",
       "    //this is to ignore the existence of requirejs amd\n",
       "    var savedexports, savedmodule;\n",
       "    if (typeof exports !== 'undefined') savedexports = exports;\n",
       "    else exports = {}\n",
       "    if (typeof module !== 'undefined') savedmodule = module;\n",
       "    else module = {}\n",
       "\n",
       "    var tag = document.createElement('script');\n",
       "    tag.src = uri;\n",
       "    tag.async = true;\n",
       "    tag.onload = () => {\n",
       "        exports = savedexports;\n",
       "        module = savedmodule;\n",
       "        resolve();\n",
       "    };\n",
       "  var firstScriptTag = document.getElementsByTagName('script')[0];\n",
       "  firstScriptTag.parentNode.insertBefore(tag, firstScriptTag);\n",
       "});\n",
       "};\n",
       "\n",
       "if(typeof $3Dmolpromise === 'undefined') {\n",
       "$3Dmolpromise = null;\n",
       "  $3Dmolpromise = loadScriptAsync('https://cdnjs.cloudflare.com/ajax/libs/3Dmol/2.0.4/3Dmol-min.js');\n",
       "}\n",
       "\n",
       "var viewer_17295271059157734 = null;\n",
       "var warn = document.getElementById(\"3dmolwarning_17295271059157734\");\n",
       "if(warn) {\n",
       "    warn.parentNode.removeChild(warn);\n",
       "}\n",
       "$3Dmolpromise.then(function() {\n",
       "viewer_17295271059157734 = $3Dmol.createViewer(document.getElementById(\"3dmolviewer_17295271059157734\"),{backgroundColor:\"white\"});\n",
       "viewer_17295271059157734.zoomTo();\n",
       "\tviewer_17295271059157734.addModel(\"@<TRIPOS>MOLECULE\\na8\\n3 2 0 0 0\\nSMALL\\nNO_CHARGES\\n\\n@<TRIPOS>ATOM\\n1 None -1.2988 -0.2500 0.0000 Cl\\n2 None 0.0000 0.5000 0.0000 C\\n3 None 1.2988 -0.2500 0.0000 Cl\\n@<TRIPOS>BOND\\n1 1 2 1\\n2 2 3 1\\n\\n\",\"mol2\");\n",
       "\tviewer_17295271059157734.setStyle({\"stick\": {\"radius\": 0.1}, \"sphere\": {\"scale\": 0.15}});\n",
       "\tviewer_17295271059157734.setHoverable({},true,\"\\n        function(atom,viewer,event,container) {\\n            if(!atom.label) {\\n                atom.label = viewer.addLabel(atom.elem + '(' + atom.index + ')', {position: atom, backgroundColor: 'silver', fontColor:'black'});\\n            }\\n        }\\n        \",\"\\n        function(atom,viewer) { \\n            if(atom.label) {\\n                viewer.removeLabel(atom.label);\\n                delete atom.label;\\n            }\\n        }\\n        \");\n",
       "\tviewer_17295271059157734.zoomTo();\n",
       "\tviewer_17295271059157734.setBackgroundColor(\"white\");\n",
       "viewer_17295271059157734.render();\n",
       "});\n",
       "</script>"
      ]
     },
     "metadata": {},
     "output_type": "display_data"
    },
    {
     "data": {
      "application/3dmoljs_load.v0": "<script>\n            $3Dmolpromise.then(function() { //wrap in promise for non-interactive functionality\n                \n                viewer_17295271059157734.render();\n            });\n            </script>",
      "text/html": [
       "<script>\n",
       "            $3Dmolpromise.then(function() { //wrap in promise for non-interactive functionality\n",
       "                \n",
       "                viewer_17295271059157734.render();\n",
       "            });\n",
       "            </script>"
      ]
     },
     "metadata": {},
     "output_type": "display_data"
    },
    {
     "data": {
      "text/plain": [
       "Molecule(name='a8', formula='C1 Cl2')"
      ]
     },
     "execution_count": 12,
     "metadata": {},
     "output_type": "execute_result"
    }
   ],
   "source": [
    "#This accesses the structure\n",
    "m = cdxf2['a8']\n",
    "\n",
    "#This finds the nitrogen\n",
    "carbon = m.get_atom(ml.Element.C)\n",
    "print(f'The formal charge on Carbon = {carbon.formal_charge}, The formal spin on Carbon = {carbon.formal_spin}')\n",
    "print(f'The charge of the Molecule = {m.charge}, The multiplicity of the Molecule = {m.mult} ')\n",
    "\n",
    "#This adds the implicit hydrogens\n",
    "m.add_implicit_hydrogens()\n",
    "m"
   ]
  }
 ],
 "metadata": {
  "kernelspec": {
   "display_name": "dev-blake",
   "language": "python",
   "name": "python3"
  },
  "language_info": {
   "codemirror_mode": {
    "name": "ipython",
    "version": 3
   },
   "file_extension": ".py",
   "mimetype": "text/x-python",
   "name": "python",
   "nbconvert_exporter": "python",
   "pygments_lexer": "ipython3",
   "version": "3.11.6"
  },
  "orig_nbformat": 4
 },
 "nbformat": 4,
 "nbformat_minor": 2
}
