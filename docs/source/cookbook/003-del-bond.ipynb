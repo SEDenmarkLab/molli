{
 "cells": [
  {
   "attachments": {},
   "cell_type": "markdown",
   "metadata": {},
   "source": [
    "# Bond Deletion"
   ]
  },
  {
   "cell_type": "code",
   "execution_count": null,
   "metadata": {},
   "outputs": [],
   "source": [
    "# Imports molli\n",
    "import molli as ml\n",
    "\n",
    "# Loads dendrobine to the s1 variable\n",
    "s1 = ml.Structure.load_mol2(ml.files.dendrobine_mol2)\n",
    "\n",
    "# Prints the index of the bond and the bond itself\n",
    "for i, b in enumerate(s1.bonds):\n",
    "    print(format(i, \"<5\"), b)\n",
    "\n"
   ]
  },
  {
   "cell_type": "code",
   "execution_count": null,
   "metadata": {},
   "outputs": [],
   "source": [
    "# Prints the bonds connected to the first atom in the molecule (atom with index 0)\n",
    "for i, b in enumerate(s1.bonds_with_atom(0)):\n",
    "    print(format(i, \"<5\"), b)"
   ]
  },
  {
   "cell_type": "code",
   "execution_count": null,
   "metadata": {},
   "outputs": [],
   "source": [
    "\n",
    "# Deletes the first atom in the molecule\n",
    "s1.del_atom(0)\n",
    "\n",
    "# Prints the updated bond list\n",
    "for i, b in enumerate(s1.bonds):\n",
    "    print(format(i, \"<5\"), b)"
   ]
  }
 ],
 "metadata": {
  "kernelspec": {
   "display_name": "molli-dev",
   "language": "python",
   "name": "python3"
  },
  "language_info": {
   "codemirror_mode": {
    "name": "ipython",
    "version": 3
   },
   "file_extension": ".py",
   "mimetype": "text/x-python",
   "name": "python",
   "nbconvert_exporter": "python",
   "pygments_lexer": "ipython3",
   "version": "3.11.5"
  },
  "orig_nbformat": 4,
  "vscode": {
   "interpreter": {
    "hash": "76cbec9d8be6152967bf6eb279a8f9736e48be32763f3b307b1279f8e0121d15"
   }
  }
 },
 "nbformat": 4,
 "nbformat_minor": 2
}
